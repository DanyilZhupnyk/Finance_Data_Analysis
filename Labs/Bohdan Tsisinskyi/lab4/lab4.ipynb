{
 "cells": [
  {
   "cell_type": "markdown",
   "id": "c637db79-c98e-4f23-88e5-53d608df5cd5",
   "metadata": {},
   "outputs": [],
   "source": [
    "<center>\n",
    "    <img src=\"https://cf-courses-data.s3.us.cloud-object-storage.appdomain.cloud/assets/logos/SN_web_lightmode.png\" width=\"500\" alt=\"cognitiveclass.ai logo\"  />\n",
    "</center>\n",
    "\n",
    "# Data Analysis with Python on the example BTC/USD and technical financial indicators ATR, OBV, ADV, RSI, AD\n",
    "\n",
    "# Lab 4. Model Development\n",
    "\n",
    "Estimated time needed: **30** minutes\n",
    "\n",
    "## Objectives\n",
    "\n",
    "After completing this lab you will be able to:\n",
    "\n",
    "*   Develop prediction cryptocurrencies\n"
   ]
  },
  {
   "cell_type": "markdown",
   "id": "b06fdefc-e8fd-4478-bf48-982d0eef01f4",
   "metadata": {},
   "outputs": [],
   "source": [
    "## Table of Contents\n",
    "\n",
    "<div class=\"alert alert-block alert-info\" style=\"margin-top: 20px\">\n",
    "<ol>\n",
    "    <li>Linear Regression and Multiple Linear Regression</li>\n",
    "    <li>Model Evaluation Using Visualization</li>\n",
    "    <li>Polynomial Regression and Pipelines</li>\n",
    "    <li>Measures for In-Sample Evaluation</li>\n",
    "    <li>Prediction and Decision Making</li>\n",
    "</ol>\n",
    "\n",
    "</div>\n",
    "\n",
    "<hr>\n"
   ]
  },
  {
   "cell_type": "markdown",
   "id": "d3a0a408-d24c-42e5-a6d2-cfc19021b7d9",
   "metadata": {},
   "outputs": [],
   "source": [
    "<p>In this section, we will develop several models that will predict the price of the BTC using the variables or features. This is just an estimate but should give us an objective idea of how much the BTC should cost.</p>\n"
   ]
  },
  {
   "cell_type": "markdown",
   "id": "cce79438-bbf9-447c-805f-19140a23a07a",
   "metadata": {},
   "outputs": [],
   "source": [
    "\n",
    "<p>In data analytics, we often use <b>Model Development</b> to help us predict future observations from the data we have.</p>\n",
    "\n",
    "<p>A model will help us understand the exact relationship between different variables and how these variables are used to predict the result.</p>\n"
   ]
  },
  {
   "cell_type": "markdown",
   "id": "6dc3b13a-7e51-429c-b398-04e4180e359d",
   "metadata": {},
   "outputs": [],
   "source": [
    "<h4>Setup</h4>\n"
   ]
  },
  {
   "cell_type": "markdown",
   "id": "89fb9956-b1cb-462b-8ded-55bcd09f24d5",
   "metadata": {},
   "outputs": [],
   "source": [
    "Import libraries:\n"
   ]
  },
  {
   "cell_type": "markdown",
   "id": "e539455d-b2f2-42f9-beca-6a9e71d371ae",
   "metadata": {},
   "outputs": [],
   "source": [
    "If you run the lab locally using Anaconda, you can load the correct library and versions by uncommenting the following:\n"
   ]
  },
  {
   "cell_type": "code",
   "id": "741515b4-0dfd-45f8-be56-7939fc40744a",
   "metadata": {},
   "outputs": [],
   "source": [
    "#If you run the lab locally using Anaconda, you can load the correct library and versions by uncommenting the following:\n",
    "#install specific version of libraries used in lab\n",
    "! mamba install pandas -y\n",
    "! mamba install numpy -y\n",
    "! mamba install scikit-learn -y"
   ]
  },
  {
   "cell_type": "code",
   "id": "329d91de-e138-4447-9c9c-26df5432dcb9",
   "metadata": {},
   "outputs": [],
   "source": [
    "import warnings\n",
    "warnings.filterwarnings(\"ignore\")\n",
    "\n",
    "import pandas as pd\n",
    "import numpy as np\n",
    "import matplotlib.pyplot as plt\n",
    "from sklearn.linear_model import LinearRegression\n",
    "\n",
    "# import the visualization package: seaborn\n",
    "import seaborn as sns\n",
    "%matplotlib inline \n",
    "\n",
    "from sklearn.preprocessing import PolynomialFeatures\n",
    "\n",
    "from sklearn.pipeline import Pipeline\n",
    "from sklearn.preprocessing import StandardScaler\n",
    "\n",
    "from sklearn import set_config\n",
    "\n",
    "from sklearn.metrics import mean_squared_error\n",
    "from sklearn.metrics import r2_score\n",
    "\n",
    "from scipy import stats\n",
    "\n",
    "import itertools\n",
    "import statsmodels.api as sm\n",
    "from statsmodels.stats.stattools import durbin_watson as dwtest\n",
    "\n",
    "#set precision 2\n",
    "pd.options.display.float_format = '{:.2f}'.format\n",
    "\n",
    "set_config(display=\"diagram\")"
   ]
  },
  {
   "cell_type": "markdown",
   "id": "4904757b-2443-4b44-86ca-ab67de02dab3",
   "metadata": {},
   "outputs": [],
   "source": [
    "This dataset was hosted on IBM Cloud object. Click <a href=\"https://cocl.us/DA101EN_object_storage?utm_medium=Exinfluencer&utm_source=Exinfluencer&utm_content=000026UJ&utm_term=10006555&utm_id=NA-SkillsNetwork-Channel-SkillsNetworkCoursesIBMDeveloperSkillsNetworkDA0101ENSkillsNetwork20235326-2021-01-01\">HERE</a> for free storage.\n"
   ]
  },
  {
   "cell_type": "code",
   "id": "2ecd1da9-aa4f-4733-a0f3-cad5853c8905",
   "metadata": {},
   "outputs": [],
   "source": [
    "#set path host where will be all our datasets \n",
    "file = 'https://cf-courses-data.s3.us.cloud-object-storage.appdomain.cloud/IBMSkillsNetwork-GPXX0N43EN/BTC.csv'"
   ]
  },
  {
   "cell_type": "markdown",
   "id": "7513ddb0-7b97-47e3-8fa9-e47844ec08dd",
   "metadata": {},
   "outputs": [],
   "source": [
    "Set headers for our crypto:"
   ]
  },
  {
   "cell_type": "code",
   "id": "4ee23d39-47ac-4b4a-8f31-3a5bf89a2d09",
   "metadata": {},
   "outputs": [],
   "source": [
    "headers = [\"Time\",\"Open\",\"High\",\"Low\",\"Close\",\"Volume\",\"Rec_count\",\"Avg_price\",\"ATR\",\"OBV\",\"Gain\",\"Loss\",\"Ema_gain\",\"Ema_loss\",\n",
    "          \"RS\",\"RSI_14\",\"ADTV\",\"MFI\",\"MFV\",\"ADL\",\"Avg_price-binned\",\"Volume-binned\",\"Rec_count-binned\"]"
   ]
  },
  {
   "cell_type": "markdown",
   "id": "7a775b49-53d8-4a63-b7ec-e04561542605",
   "metadata": {},
   "outputs": [],
   "source": [
    "Load the data and store it in dataframe `df`:\n"
   ]
  },
  {
   "cell_type": "code",
   "id": "8d1dd6c0-c3b1-4590-bb8c-2fb173c66c21",
   "metadata": {},
   "outputs": [],
   "source": [
    "# read our main csv\n",
    "df = pd.read_csv(file, low_memory=False)\n",
    "df.columns = headers\n",
    "df.head()"
   ]
  },
  {
   "cell_type": "markdown",
   "id": "efc7026b-0dcb-46bb-91fd-b68763f73dff",
   "metadata": {},
   "outputs": [],
   "source": [
    "## 1. Linear Regression and Multiple Linear Regression\n"
   ]
  },
  {
   "cell_type": "markdown",
   "id": "a7ba2540-4a0a-4c98-bd5b-fe3976d81add",
   "metadata": {},
   "outputs": [],
   "source": [
    "#### Linear Regression\n"
   ]
  },
  {
   "cell_type": "markdown",
   "id": "76517bd9-e4ab-4241-a959-ff9fc518a27e",
   "metadata": {},
   "outputs": [],
   "source": [
    "<p>One example of a Data  Model that we will be using is:</p>\n",
    "<b>Simple Linear Regression</b>\n",
    "\n",
    "<br>\n",
    "<p>Simple Linear Regression is a method to help us understand the relationship between two variables:</p>\n",
    "<ul>\n",
    "    <li>The predictor/independent variable (X)</li>\n",
    "    <li>The response/dependent variable (that we want to predict)(Y)</li>\n",
    "</ul>\n",
    "\n",
    "<p>The result of Linear Regression is a <b>linear function</b> that predicts the response (dependent) variable as a function of the predictor (independent) variable.</p>\n"
   ]
  },
  {
   "cell_type": "markdown",
   "id": "03d4bee0-5752-4a88-9645-84fc4022c1fa",
   "metadata": {},
   "outputs": [],
   "source": [
    "$$\n",
    "Y: Response \\ Variable\\\\\\\\\\\\\\\\\\\\\n",
    "X: Predictor \\ Variables\n",
    "$$\n"
   ]
  },
  {
   "cell_type": "markdown",
   "id": "3a5714a2-2552-4110-b862-7796f15c2c9d",
   "metadata": {},
   "outputs": [],
   "source": [
    "<b>Linear Function</b>\n",
    "$$\n",
    "Yhat = a + b  X\n",
    "$$\n"
   ]
  },
  {
   "cell_type": "markdown",
   "id": "98c3d61f-490a-43ca-b80e-75192c237eda",
   "metadata": {},
   "outputs": [],
   "source": [
    "<ul>\n",
    "    <li>a refers to the <b>intercept</b> of the regression line, in other words: the value of Y when X is 0</li>\n",
    "    <li>b refers to the <b>slope</b> of the regression line, in other words: the value with which Y changes when X increases by 1 unit</li>\n",
    "</ul>\n"
   ]
  },
  {
   "cell_type": "markdown",
   "id": "c9cb39c6-9f93-46a5-9f70-f7d462e9bc50",
   "metadata": {},
   "outputs": [],
   "source": [
    "#### Create the linear regression object:\n"
   ]
  },
  {
   "cell_type": "code",
   "id": "adab30bd-1874-4da6-b9fe-f6d1b8037a26",
   "metadata": {},
   "outputs": [],
   "source": [
    "lm = LinearRegression()\n",
    "lm"
   ]
  },
  {
   "cell_type": "markdown",
   "id": "8767558e-7457-49be-b6a6-726868834ec4",
   "metadata": {},
   "outputs": [],
   "source": [
    "#### How could \"OBV\" help us predict \"Avg_price\"?\n"
   ]
  },
  {
   "cell_type": "markdown",
   "id": "ab4b6c4c-dcab-4973-b244-cc1ca533bf2d",
   "metadata": {},
   "outputs": [],
   "source": [
    "For this example, we want to look at how OBV can help us predict Avg_price.\n",
    "Using simple linear regression, we will create a linear function with \"OBV\" as the predictor variable and the \"Avg_price\" as the response variable.\n"
   ]
  },
  {
   "cell_type": "code",
   "id": "d5c97c33-40fe-4031-bca6-0b4c27818db6",
   "metadata": {},
   "outputs": [],
   "source": [
    "X = df[['OBV']]\n",
    "Y = df['Avg_price']"
   ]
  },
  {
   "cell_type": "markdown",
   "id": "3c85c9f8-53fd-429a-9cf1-19427d462254",
   "metadata": {},
   "outputs": [],
   "source": [
    "Fit the linear model using OBV:\n"
   ]
  },
  {
   "cell_type": "code",
   "id": "8c24067d-a164-46b1-aaa8-81f808fd660a",
   "metadata": {},
   "outputs": [],
   "source": [
    "lm.fit(X,Y)"
   ]
  },
  {
   "cell_type": "markdown",
   "id": "15dc211e-44be-4bbe-9887-40690a863ced",
   "metadata": {},
   "outputs": [],
   "source": [
    "We can output a prediction:\n"
   ]
  },
  {
   "cell_type": "code",
   "id": "dcedd685-ec28-4a23-8cc9-e0beed4395d2",
   "metadata": {},
   "outputs": [],
   "source": [
    "Yhat=lm.predict(X)\n",
    "Yhat[0:5]"
   ]
  },
  {
   "cell_type": "markdown",
   "id": "23c4d1c4-9bb5-411a-b779-a1d49864a616",
   "metadata": {},
   "outputs": [],
   "source": [
    "#### What is the value of the intercept (a)?\n"
   ]
  },
  {
   "cell_type": "code",
   "id": "f934587f-1d6d-4859-a9e5-2b8437ab9486",
   "metadata": {},
   "outputs": [],
   "source": [
    "lm.intercept_"
   ]
  },
  {
   "cell_type": "markdown",
   "id": "00e4591e-163a-4ce6-9215-82babd527d0e",
   "metadata": {},
   "outputs": [],
   "source": [
    "#### What is the value of the slope (b)?\n"
   ]
  },
  {
   "cell_type": "code",
   "id": "6c813722-08b8-47af-8435-23e4c7edd4b4",
   "metadata": {},
   "outputs": [],
   "source": [
    "lm.coef_"
   ]
  },
  {
   "cell_type": "markdown",
   "id": "fd85b70c-2f05-42ac-abd5-9bb5d1ce6953",
   "metadata": {},
   "outputs": [],
   "source": [
    "### What is the final estimated linear model we get?\n"
   ]
  },
  {
   "cell_type": "markdown",
   "id": "df1ad119-5744-4300-9e46-cf73b20397ae",
   "metadata": {},
   "outputs": [],
   "source": [
    "As we saw above, we should get a final linear model with the structure:\n"
   ]
  },
  {
   "cell_type": "markdown",
   "id": "4f6a0260-b7f9-463b-a3b8-a75c04b6c722",
   "metadata": {},
   "outputs": [],
   "source": [
    "$$\n",
    "Yhat = a + b  X\n",
    "$$\n"
   ]
  },
  {
   "cell_type": "markdown",
   "id": "41cf533a-e715-470f-b5bd-f2b1c2ebc531",
   "metadata": {},
   "outputs": [],
   "source": [
    "Plugging in the actual values we get:\n"
   ]
  },
  {
   "cell_type": "markdown",
   "id": "067adf28-fad0-4b59-9cb3-3fa1c0e4488b",
   "metadata": {},
   "outputs": [],
   "source": [
    "<b>Avg_price</b> = 16497.2848 - 0.011 x <b>OBV</b>\n"
   ]
  },
  {
   "cell_type": "markdown",
   "id": "34227742-ada7-4ff8-a50a-51614c2f7b40",
   "metadata": {},
   "outputs": [],
   "source": [
    "<div class=\"alert alert-danger alertdanger\" style=\"margin-top: 20px\">\n",
    "<p><b style=\"font-size: 2em; font-weight: bold;\">Question #1a):</b></p>\n",
    "\n",
    "\n",
    "<b>Create a linear regression object called \"lm1\".</b>\n",
    "\n",
    "</div>\n"
   ]
  },
  {
   "cell_type": "code",
   "id": "ac1d2cb1-c44e-40a2-9991-65965a466d94",
   "metadata": {},
   "outputs": [],
   "source": [
    "# Write your code below and press Shift+Enter to execute \n"
   ]
  },
  {
   "cell_type": "markdown",
   "id": "c3029d4f-e047-4d16-ad4e-a7cb4c8b9d30",
   "metadata": {},
   "outputs": [],
   "source": [
    "<details><summary>Click here for the solution</summary>\n",
    "\n",
    "```python\n",
    "lm1 = LinearRegression()\n",
    "lm1\n",
    "```\n",
    "\n",
    "</details>\n"
   ]
  },
  {
   "cell_type": "markdown",
   "id": "3c6e6709-c421-433e-9460-c773e38cb2c6",
   "metadata": {},
   "outputs": [],
   "source": [
    "<div class=\"alert alert-danger alertdanger\" style=\"margin-top: 20px\">\n",
    "<p><b style=\"font-size: 2em; font-weight: bold;\">Question #1b):</b></p>\n",
    "\n",
    "\n",
    "<b>Train the model using \"ADL \" as the independent variable and \"Avg_price \" as the dependent variable?</b>\n",
    "\n",
    "</div>\n"
   ]
  },
  {
   "cell_type": "code",
   "id": "1dfca3f1-8a2d-4ca6-8de8-91d2c2060552",
   "metadata": {},
   "outputs": [],
   "source": [
    "# Write your code below and press Shift+Enter to execute \n"
   ]
  },
  {
   "cell_type": "markdown",
   "id": "de54868d-21ba-4208-9451-1dd550563d79",
   "metadata": {},
   "outputs": [],
   "source": [
    "<details><summary>Click here for the solution</summary>\n",
    "\n",
    "```python\n",
    "lm1.fit(df[['ADL']], df[['Avg_price']])\n",
    "lm1\n",
    "```\n",
    "\n",
    "</details>\n"
   ]
  },
  {
   "cell_type": "markdown",
   "id": "4de0ca1c-f3b4-4d03-a60d-220b2bd30fa6",
   "metadata": {},
   "outputs": [],
   "source": [
    "<div class=\"alert alert-danger alertdanger\" style=\"margin-top: 20px\">\n",
    "<p><b style=\"font-size: 2em; font-weight: bold;\">Question #1c):</b></p>\n",
    "\n",
    "\n",
    "<b>Find the slope and intercept of the model.</b>\n",
    "\n",
    "</div>\n"
   ]
  },
  {
   "cell_type": "markdown",
   "id": "39e46c9e-de29-4b44-9b7d-376b839c746e",
   "metadata": {},
   "outputs": [],
   "source": [
    "#### Slope\n"
   ]
  },
  {
   "cell_type": "code",
   "id": "5af1814b-050f-4690-a316-bd0fe0d38593",
   "metadata": {},
   "outputs": [],
   "source": [
    "# Write your code below and press Shift+Enter to execute \n"
   ]
  },
  {
   "cell_type": "markdown",
   "id": "d3b2916c-efe0-4a50-b3a9-97e3b1815853",
   "metadata": {},
   "outputs": [],
   "source": [
    "<details><summary>Click here for the solution</summary>\n",
    "\n",
    "```python\n",
    "# Slope \n",
    "lm1.coef_\n",
    "```\n",
    "\n",
    "</details>\n"
   ]
  },
  {
   "cell_type": "markdown",
   "id": "d1b08587-d485-440a-a79b-1256bf7cfa3e",
   "metadata": {},
   "outputs": [],
   "source": [
    "#### Intercept"
   ]
  },
  {
   "cell_type": "code",
   "id": "0ef066bf-5715-468d-9230-f4c7959df6f4",
   "metadata": {},
   "outputs": [],
   "source": [
    "# Write your code below and press Shift+Enter to execute\n"
   ]
  },
  {
   "cell_type": "markdown",
   "id": "c8436d4d-72e7-4bf4-bdc0-bd62e0d33b71",
   "metadata": {},
   "outputs": [],
   "source": [
    "<details><summary>Click here for the solution</summary>\n",
    "\n",
    "```python\n",
    "# Intercept\n",
    "lm1.intercept_\n",
    "```\n",
    "\n",
    "</details>\n"
   ]
  },
  {
   "cell_type": "markdown",
   "id": "af03536f-66aa-42a0-b39b-174d90a3365b",
   "metadata": {},
   "outputs": [],
   "source": [
    "<div class=\"alert alert-danger alertdanger\" style=\"margin-top: 20px\">\n",
    "<p><b style=\"font-size: 2em; font-weight: bold;\">Question #1d):</b></p>\n",
    "\n",
    "\n",
    "<b>What is the equation of the predicted line? You can use x and yhat or \"DOGEBUSD_avg_price \" or \"BTCBUSD_avg_price \".</b>\n",
    "\n",
    "</div>\n"
   ]
  },
  {
   "cell_type": "code",
   "id": "2d0ff6b2-127c-4ff7-9dd2-2aa69f28404b",
   "metadata": {},
   "outputs": [],
   "source": [
    "# Write your code below and press Shift+Enter to execute \n",
    "# using X and Y  \n"
   ]
  },
  {
   "cell_type": "markdown",
   "id": "0a4ce2fc-ad33-4639-8f62-b890adff7ea5",
   "metadata": {},
   "outputs": [],
   "source": [
    "<details><summary>Click here for the solution</summary>\n",
    "\n",
    "```python\n",
    "# using X and Y  \n",
    "Yhat=15621.78 + 13367.26*X\n",
    "\n",
    "Price=15621.78 + 13367.26*df['engine-size']\n",
    "\n",
    "```\n",
    "\n",
    "</details>\n"
   ]
  },
  {
   "cell_type": "markdown",
   "id": "5172f3ea-c2ce-498c-8bda-c414d7e6e435",
   "metadata": {},
   "outputs": [],
   "source": [
    "#### Multiple Linear Regression\n"
   ]
  },
  {
   "cell_type": "markdown",
   "id": "005b2cd7-3203-479c-83c3-c20e2c2d9b4a",
   "metadata": {},
   "outputs": [],
   "source": [
    "<p>What if we want to predict car price using more than one variable?</p>\n",
    "\n",
    "<p>If we want to use more variables in our model to predict car price, we can use <b>Multiple Linear Regression</b>.\n",
    "Multiple Linear Regression is very similar to Simple Linear Regression, but this method is used to explain the relationship between one continuous response (dependent) variable and <b>two or more</b> predictor (independent) variables.\n",
    "Most of the real-world regression models involve multiple predictors. We will illustrate the structure by using four predictor variables, but these results can generalize to any integer:</p>\n"
   ]
  },
  {
   "cell_type": "markdown",
   "id": "2e347d7b-79e0-4030-b817-e3f514ccdf4a",
   "metadata": {},
   "outputs": [],
   "source": [
    "$$\n",
    "Y: Response \\ Variable\\\\\\\\\\\\\\\\\\\\\n",
    "X\\_1 :Predictor\\ Variable \\ 1\\\\\\\\\n",
    "X\\_2: Predictor\\ Variable \\ 2\\\\\\\\\n",
    "X\\_3: Predictor\\ Variable \\ 3\\\\\\\\\n",
    "X\\_4: Predictor\\ Variable \\ 4\\\\\\\\\n",
    "$$\n"
   ]
  },
  {
   "cell_type": "markdown",
   "id": "01516ed3-833a-4866-ab9d-32e8ad541ed2",
   "metadata": {},
   "outputs": [],
   "source": [
    "$$\n",
    "a: intercept\\\\\\\\\\\\\\\\\\\\\n",
    "b\\_1 :coefficients \\ of\\ Variable \\ 1\\\\\\\\\n",
    "b\\_2: coefficients \\ of\\ Variable \\ 2\\\\\\\\\n",
    "b\\_3: coefficients \\ of\\ Variable \\ 3\\\\\\\\\n",
    "b\\_4: coefficients \\ of\\ Variable \\ 4\\\\\\\\\n",
    "$$\n"
   ]
  },
  {
   "cell_type": "markdown",
   "id": "1bb3b548-5624-486f-b8e3-61487dff9cfb",
   "metadata": {},
   "outputs": [],
   "source": [
    "The equation is given by:\n"
   ]
  },
  {
   "cell_type": "markdown",
   "id": "a472cec1-37b2-4676-bbea-b9a7c89fe8e4",
   "metadata": {},
   "outputs": [],
   "source": [
    "$$\n",
    "Yhat = a + b\\_1 X\\_1 + b\\_2 X\\_2 + b\\_3 X\\_3 + b\\_4 X\\_4\n",
    "$$\n"
   ]
  },
  {
   "cell_type": "markdown",
   "id": "2c75dc67-c24e-44c9-a147-f79c69242eaa",
   "metadata": {},
   "outputs": [],
   "source": [
    "<p>From the previous section  we know that other good predictors of price could be:</p>\n",
    "<ul>\n",
    "    <li>RSI_14</li>\n",
    "    <li>ADL</li>\n",
    "    <li>ATR</li>\n",
    "    <li>Volume</li>\n",
    "</ul>\n",
    "Let's develop a model using these variables as the predictor variables.\n"
   ]
  },
  {
   "cell_type": "code",
   "id": "a20e7290-c2a4-4214-8b64-7365ea129ea4",
   "metadata": {},
   "outputs": [],
   "source": [
    "Z = df[['RSI_14', 'ADL', 'ATR', 'Volume']]"
   ]
  },
  {
   "cell_type": "markdown",
   "id": "ddc79875-00e1-4ed3-a176-6e235bf865cf",
   "metadata": {},
   "outputs": [],
   "source": [
    "Fit the linear model using the four above-mentioned variables.\n"
   ]
  },
  {
   "cell_type": "code",
   "id": "2a5c230f-110a-4074-985b-2105229aa57b",
   "metadata": {},
   "outputs": [],
   "source": [
    "lm.fit(Z, df['Avg_price'])"
   ]
  },
  {
   "cell_type": "markdown",
   "id": "9b537c34-51e2-4083-a607-b5cd5ae1ae00",
   "metadata": {},
   "outputs": [],
   "source": [
    "What is the value of the intercept(a)?\n"
   ]
  },
  {
   "cell_type": "code",
   "id": "801c2ae9-2290-427b-bbaa-b56591699fb0",
   "metadata": {},
   "outputs": [],
   "source": [
    "print('%.3f' % lm.intercept_)"
   ]
  },
  {
   "cell_type": "markdown",
   "id": "867a33c2-f721-46bb-8d84-d71c0d21cefa",
   "metadata": {},
   "outputs": [],
   "source": [
    "What are the values of the coefficients (b1, b2, b3, b4)?\n"
   ]
  },
  {
   "cell_type": "code",
   "id": "9a5ea6db-3352-4712-89e8-fdb470637dff",
   "metadata": {},
   "outputs": [],
   "source": [
    "for i in lm.coef_:\n",
    "    print('%.3f' % i)"
   ]
  },
  {
   "cell_type": "markdown",
   "id": "7b045225-1c44-4b61-b0d7-3f20d015289c",
   "metadata": {},
   "outputs": [],
   "source": [
    "What is the final estimated linear model that we get?\n"
   ]
  },
  {
   "cell_type": "markdown",
   "id": "1b0ab612-4eae-4419-a0bf-9c019e7e62cf",
   "metadata": {},
   "outputs": [],
   "source": [
    "As we saw above, we should get a final linear function with the structure:\n",
    "\n",
    "$$\n",
    "Yhat = a + b\\_1 X\\_1 + b\\_2 X\\_2 + b\\_3 X\\_3 + b\\_4 X\\_4\n",
    "$$\n",
    "\n",
    "What is the linear function we get in this example?\n"
   ]
  },
  {
   "cell_type": "markdown",
   "id": "c9c1e089-a87d-47b9-b093-da9a85242f6e",
   "metadata": {},
   "outputs": [],
   "source": [
    "<b>Avg_price</b> = 16179.484 + 0.643 x <b>RSI_14</b> -0.015 x <b>ADL</b> + 2.894 x <b>ATR</b> - 0.048 x <b>Volume</b>\n"
   ]
  },
  {
   "cell_type": "markdown",
   "id": "41e4fbfa-4ffa-43c8-8d52-dbf73e10d657",
   "metadata": {},
   "outputs": [],
   "source": [
    "<div class=\"alert alert-danger alertdanger\" style=\"margin-top: 20px\">\n",
    "<p><b style=\"font-size: 2em; font-weight: bold;\">Question #2a):</b></p>\n",
    "\n",
    "Create and train a Multiple Linear Regression model \"lm2\" where the response variable is \"Avg_price\", and the predictor variable is \"RSI_14\" and  \"ADL\".\n",
    "</div>\n"
   ]
  },
  {
   "cell_type": "code",
   "id": "e0f07e74-991a-4edb-bc34-5365b9a06422",
   "metadata": {},
   "outputs": [],
   "source": [
    "# Write your code below and press Shift+Enter to execute \n"
   ]
  },
  {
   "cell_type": "markdown",
   "id": "74c3e26b-6cdf-4fff-9cea-27447b74597f",
   "metadata": {},
   "outputs": [],
   "source": [
    "<details><summary>Click here for the solution</summary>\n",
    "\n",
    "```python\n",
    "lm2 = LinearRegression()\n",
    "lm2.fit(df[['RSI_14' , 'ADL']],df['Avg_price'])\n",
    "\n",
    "\n",
    "```\n",
    "\n",
    "</details>\n"
   ]
  },
  {
   "cell_type": "markdown",
   "id": "e91235ef-e32d-42e0-b139-802ee87d7295",
   "metadata": {},
   "outputs": [],
   "source": [
    "<div class=\"alert alert-danger alertdanger\" style=\"margin-top: 20px\">\n",
    "<p><b style=\"font-size: 2em; font-weight: bold;\">Question #2b):</b></p>\n",
    "\n",
    "<b>Find the coefficient of the model.</b>\n",
    "</div>\n"
   ]
  },
  {
   "cell_type": "code",
   "id": "b8f5f0c8-d237-48bf-bc37-6d4381556116",
   "metadata": {},
   "outputs": [],
   "source": [
    "# Write your code below and press Shift+Enter to execute \n"
   ]
  },
  {
   "cell_type": "markdown",
   "id": "399b7106-9ab8-4f8c-aaf4-77c1e2a21849",
   "metadata": {},
   "outputs": [],
   "source": [
    "<details><summary>Click here for the solution</summary>\n",
    "\n",
    "```python\n",
    "lm2.coef_\n",
    "\n",
    "```\n",
    "\n",
    "</details>\n"
   ]
  },
  {
   "cell_type": "markdown",
   "id": "13b8baba-930b-4f6f-9578-cc81660586a1",
   "metadata": {},
   "outputs": [],
   "source": [
    "## 2. Model Evaluation Using Visualization\n"
   ]
  },
  {
   "cell_type": "markdown",
   "id": "a3aa5eb7-96e5-497a-ae58-573533b402ac",
   "metadata": {},
   "outputs": [],
   "source": [
    "Now that we've developed some models, how do we evaluate our models and choose the best one? One way to do this is by using a visualization.\n"
   ]
  },
  {
   "cell_type": "markdown",
   "id": "acfea6d7-bdde-4faa-beea-05d71230fe34",
   "metadata": {},
   "outputs": [],
   "source": [
    "### Regression Plot\n"
   ]
  },
  {
   "cell_type": "markdown",
   "id": "a8d0c835-6170-43f5-8c4b-06eb847e5cfc",
   "metadata": {},
   "outputs": [],
   "source": [
    "<p>When it comes to simple linear regression, an excellent way to visualize the fit of our model is by using <b>regression plots</b>.</p>\n",
    "\n",
    "<p>This plot will show a combination of a scattered data points (a <b>scatterplot</b>), as well as the fitted <b>linear regression</b> line going through the data. This will give us a reasonable estimate of the relationship between the two variables, the strength of the correlation, as well as the direction (positive or negative correlation).</p>\n"
   ]
  },
  {
   "cell_type": "markdown",
   "id": "cce5be4b-8b4a-49fe-8036-5b400a8e3dfa",
   "metadata": {},
   "outputs": [],
   "source": [
    "Let's visualize **OBV** as potential predictor variable of Avg_price:\n"
   ]
  },
  {
   "cell_type": "code",
   "id": "cb362ddd-4fdd-427c-978b-ee2d8b82f392",
   "metadata": {},
   "outputs": [],
   "source": [
    "width = 12\n",
    "height = 10\n",
    "plt.figure(figsize=(width, height))\n",
    "sns.regplot(x=\"Avg_price\", y=\"OBV\", data=df, scatter_kws={'s':2})\n",
    "plt.ylim(0,)"
   ]
  },
  {
   "cell_type": "markdown",
   "id": "eb3a9b54-d125-4bfa-bc54-a1834149c9b6",
   "metadata": {},
   "outputs": [],
   "source": [
    "<p>We can see from this plot that Avg_price is positively correlated to OBV since the regression slope is positive.\n",
    "\n",
    "One thing to keep in mind when looking at a regression plot is to pay attention to how scattered the data points are around the regression line. This will give you a good indication of the variance of the data and whether a linear model would be the best fit or not. If the data is too far off from the line, this linear model might not be the best model for this data.\n",
    "\n",
    "Let's compare this plot to the regression plot of \"RSI_14\".</p>\n"
   ]
  },
  {
   "cell_type": "code",
   "id": "165a2679-0b92-428d-8c6f-46e32a2577e6",
   "metadata": {},
   "outputs": [],
   "source": [
    "plt.figure(figsize=(width, height))\n",
    "sns.regplot(x=\"Avg_price\", y=\"RSI_14\", data=df, scatter_kws={'s':2})\n",
    "plt.ylim(0,)"
   ]
  },
  {
   "cell_type": "markdown",
   "id": "6f5372f0-16b7-4c91-9ac8-ccb16042c3c5",
   "metadata": {},
   "outputs": [],
   "source": [
    "<p>Comparing the regression plot of \"RSI_14\" and \"Avg_price\", we see that the points for \"RSI_14\" are much closer to the generated line and, on average, increase. The points for \"RSI_14\" have more spread around the predicted line and it is much harder to determine if the points are decreasing or increasing as the \"RSI_14\" increases.</p>\n"
   ]
  },
  {
   "cell_type": "markdown",
   "id": "cf574ad2-66a5-4592-a264-00822dd2e263",
   "metadata": {},
   "outputs": [],
   "source": [
    "<div class=\"alert alert-danger alertdanger\" style=\"margin-top: 20px\">\n",
    "<p><b style=\"font-size: 2em; font-weight: bold;\">Question #3:</b></p>\n",
    "<b>Given the regression plots above, is \"OBV\" or \"RSI_14\" more strongly correlated with \"Avg_price\"? Use the method  \".corr()\" to verify your answer.</b>\n",
    "</div>\n"
   ]
  },
  {
   "cell_type": "code",
   "id": "dbc62777-5a20-48b6-96cb-196fc6b46994",
   "metadata": {},
   "outputs": [],
   "source": [
    "# Write your code below and press Shift+Enter to execute \n"
   ]
  },
  {
   "cell_type": "markdown",
   "id": "692ce063-ceff-4b00-80de-23b92622fe7b",
   "metadata": {},
   "outputs": [],
   "source": [
    "<details><summary>Click here for the solution</summary>\n",
    "\n",
    "```python\n",
    "# The variable \"RSI_14\" has a stronger correlation with \"Avg_price\", it is approximate 0.03  compared to \"OBV\" which is approximate 0.58. You can verify it using the following command:\n",
    "\n",
    "df[[\"RSI_14\",\"OBV\",\"Avg_price\"]].corr()\n",
    "\n",
    "```\n",
    "\n",
    "</details>\n"
   ]
  },
  {
   "cell_type": "markdown",
   "id": "a92516de-9c58-4490-a0ac-6529260f5246",
   "metadata": {},
   "outputs": [],
   "source": [
    "### Residual Plot\n",
    "\n",
    "<p>A good way to visualize the variance of the data is to use a residual plot.</p>\n",
    "\n",
    "<p>What is a <b>residual</b>?</p>\n",
    "\n",
    "<p>The difference between the observed value (y) and the predicted value (Yhat) is called the residual (e). When we look at a regression plot, the residual is the distance from the data point to the fitted regression line.</p>\n",
    "\n",
    "<p>So what is a <b>residual plot</b>?</p>\n",
    "\n",
    "<p>A residual plot is a graph that shows the residuals on the vertical y-axis and the independent variable on the horizontal x-axis.</p>\n",
    "\n",
    "<p>What do we pay attention to when looking at a residual plot?</p>\n",
    "\n",
    "<p>We look at the spread of the residuals:</p>\n",
    "\n",
    "<p>- If the points in a residual plot are <b>randomly spread out around the x-axis</b>, then a <b>linear model is appropriate</b> for the data.\n",
    "\n",
    "Why is that? Randomly spread out residuals means that the variance is constant, and thus the linear model is a good fit for this data.</p>\n"
   ]
  },
  {
   "cell_type": "code",
   "id": "47df92e5-82f9-4a51-b3c0-375ffcbce2be",
   "metadata": {},
   "outputs": [],
   "source": [
    "width = 12\n",
    "height = 10\n",
    "plt.figure(figsize=(width, height))\n",
    "sns.residplot(x=df['RSI_14'],y=df['Avg_price'],scatter_kws={'s':2})\n",
    "plt.show()"
   ]
  },
  {
   "cell_type": "markdown",
   "id": "b8112864-258f-4a80-8fd4-f1f44a0a334b",
   "metadata": {},
   "outputs": [],
   "source": [
    "<i>What is this plot telling us?</i>\n",
    "\n",
    "<p>We can see from this residual plot that the residuals are randomly spread around the x-axis, leading us to believe that maybe a linear model is more appropriate for this data.</p>\n"
   ]
  },
  {
   "cell_type": "markdown",
   "id": "f0b468d3-fe5a-4346-9a1a-699d6cf046df",
   "metadata": {},
   "outputs": [],
   "source": [
    "### Multiple Linear Regression"
   ]
  },
  {
   "cell_type": "markdown",
   "id": "3fd4d24b-7261-4f72-8d95-de1661446d33",
   "metadata": {},
   "outputs": [],
   "source": [
    "<p>How do we visualize a model for Multiple Linear Regression? This gets a bit more complicated because you can't visualize it with regression or residual plot.</p>\n",
    "\n",
    "<p>One way to look at the fit of the model is by looking at the <b>distribution plot</b>. We can look at the distribution of the fitted values that result from the model and compare it to the distribution of the actual values.</p>\n"
   ]
  },
  {
   "cell_type": "markdown",
   "id": "c3d2112e-180d-41e4-a85c-148da32d7285",
   "metadata": {},
   "outputs": [],
   "source": [
    "First, let's make a prediction:\n"
   ]
  },
  {
   "cell_type": "code",
   "id": "011bfb64-8f1a-4c79-b7f6-7f67c090588d",
   "metadata": {},
   "outputs": [],
   "source": [
    "Y_hat = lm.predict(Z)"
   ]
  },
  {
   "cell_type": "code",
   "id": "2ed4db44-613d-4d5a-a09b-8b69709279e8",
   "metadata": {},
   "outputs": [],
   "source": [
    "plt.figure(figsize=(width, height))\n",
    "\n",
    "\n",
    "ax1 = sns.distplot(df['Avg_price'], hist=False, color=\"r\", label=\"Actual Value\")\n",
    "sns.distplot(Y_hat, hist=False, color=\"b\", label=\"Fitted Values\" , ax=ax1)\n",
    "\n",
    "\n",
    "plt.title('Actual vs Fitted Values for BTC')\n",
    "plt.xlabel('Price (in BUSD)')\n",
    "plt.ylabel('Proportion of BTC')\n",
    "\n",
    "plt.show()\n",
    "plt.close()"
   ]
  },
  {
   "cell_type": "markdown",
   "id": "ce75cc53-e4f5-404b-b65f-446adf6310d4",
   "metadata": {},
   "outputs": [],
   "source": [
    "<p>We can see that the fitted values are in places close to the actual values since the two distributions overlap a bit. However, there is definitely some room for improvement.</p>\n"
   ]
  },
  {
   "cell_type": "markdown",
   "id": "9b4f9a84-51a4-4ea0-b503-42d02f8c7e79",
   "metadata": {},
   "outputs": [],
   "source": [
    "## 3. Polynomial Regression and Pipelines\n"
   ]
  },
  {
   "cell_type": "markdown",
   "id": "f9f38f1b-fe18-4394-9aff-eaba31ae2c98",
   "metadata": {},
   "outputs": [],
   "source": [
    "<p><b>Polynomial regression</b> is a particular case of the general linear regression model or multiple linear regression models.</p> \n",
    "<p>We get non-linear relationships by squaring or setting higher-order terms of the predictor variables.</p>\n",
    "\n",
    "<p>There are different orders of polynomial regression:</p>\n"
   ]
  },
  {
   "cell_type": "markdown",
   "id": "5d03bfea-906a-4b04-8d86-0027f91d2427",
   "metadata": {},
   "outputs": [],
   "source": [
    "<center><b>Quadratic - 2nd Order</b></center>\n",
    "$$\n",
    "Yhat = a + b_1 X +b_2 X^2 \n",
    "$$\n",
    "\n",
    "<center><b>Cubic - 3rd Order</b></center>\n",
    "$$\n",
    "Yhat = a + b_1 X +b_2 X^2 +b_3 X^3\\\\\\\\\\\\\\\\\\\\\n",
    "$$\n",
    "\n",
    "<center><b>Higher-Order</b>:</center>\n",
    "$$\n",
    "Y = a + b_1 X +b_2 X^2 +b_3 X^3 ....\\\\\\\\\n",
    "$$\n"
   ]
  },
  {
   "cell_type": "markdown",
   "id": "d52f2796-a3e0-4b76-8311-929e5bd54cd1",
   "metadata": {},
   "outputs": [],
   "source": [
    "<p>Let's check this on 'OBV'.</p>\n"
   ]
  },
  {
   "cell_type": "markdown",
   "id": "99e9a05e-4734-413a-a9bc-068873f46e23",
   "metadata": {},
   "outputs": [],
   "source": [
    "<p>We will use the following function to plot the data:</p>\n"
   ]
  },
  {
   "cell_type": "code",
   "id": "a5276b37-27cb-4f3e-9de9-681a220c02de",
   "metadata": {},
   "outputs": [],
   "source": [
    "def PlotPolly(model, independent_variable, dependent_variabble, Name):\n",
    "    x_new = np.linspace(0, 60000, 10)\n",
    "    y_new = model(x_new)\n",
    "\n",
    "    plt.plot(independent_variable, dependent_variabble, '.', x_new, y_new, '-')\n",
    "    plt.title('Polynomial Fit with Matplotlib for BTC ~ OBV')\n",
    "    ax = plt.gca()\n",
    "    ax.set_facecolor((0.898, 0.898, 0.898))\n",
    "    fig = plt.gcf()\n",
    "    plt.xlabel(Name)\n",
    "    plt.ylabel('Price of BTC')\n",
    "\n",
    "    plt.show()\n",
    "    plt.close()"
   ]
  },
  {
   "cell_type": "markdown",
   "id": "40fb912a-99c4-4a35-a86d-f3b67764ed26",
   "metadata": {},
   "outputs": [],
   "source": [
    "Let's get the variables:\n"
   ]
  },
  {
   "cell_type": "code",
   "id": "a0ef4094-a88f-4f17-afb4-3ed62d969096",
   "metadata": {},
   "outputs": [],
   "source": [
    "x = df['OBV']\n",
    "y = df['Avg_price']"
   ]
  },
  {
   "cell_type": "markdown",
   "id": "374f3892-2b4e-4d49-967a-652fe1de695b",
   "metadata": {},
   "outputs": [],
   "source": [
    "Let's fit the polynomial using the function <b>polyfit</b>, then use the function <b>poly1d</b> to display the polynomial function.\n"
   ]
  },
  {
   "cell_type": "code",
   "id": "a89ac6f0-682a-4622-8d5e-850e02c9a47e",
   "metadata": {},
   "outputs": [],
   "source": [
    "# Here we use a polynomial of the 3rd order (cubic) \n",
    "f = np.polyfit(x, y, 5)\n",
    "p = np.poly1d(f)\n",
    "print(p)"
   ]
  },
  {
   "cell_type": "markdown",
   "id": "e7a9a1a0-4e3c-47ef-b5d7-3ce7cd55cc42",
   "metadata": {},
   "outputs": [],
   "source": [
    "Let's plot the function:\n"
   ]
  },
  {
   "cell_type": "code",
   "id": "98713dff-726b-46a2-b885-ad819dace286",
   "metadata": {},
   "outputs": [],
   "source": [
    "PlotPolly(p, x, y, 'OBV')"
   ]
  },
  {
   "cell_type": "code",
   "id": "01559bee-a1dd-4cbb-a9a3-9c00f91195bb",
   "metadata": {},
   "outputs": [],
   "source": [
    "np.polyfit(x, y, 3)"
   ]
  },
  {
   "cell_type": "markdown",
   "id": "a99a0cde-e01e-4be3-94eb-f6fac21f082c",
   "metadata": {},
   "outputs": [],
   "source": [
    "<p>We can already see from plotting that this polynomial model performs better than the linear model. This is because the generated polynomial function  \"hits\" more of the data points.</p>\n"
   ]
  },
  {
   "cell_type": "markdown",
   "id": "3fecfff0-5145-4e3d-b279-9db213a816f2",
   "metadata": {},
   "outputs": [],
   "source": [
    "<div class=\"alert alert-danger alertdanger\" style=\"margin-top: 20px\">\n",
    "<p><b style=\"font-size: 2em; font-weight: bold;\">Question #4:</b></p>\n",
    "\n",
    "<b>Create 11 order polynomial model with the variables x and y from above.</b>\n",
    "</div>\n"
   ]
  },
  {
   "cell_type": "code",
   "id": "e2a59374-8ba7-4600-b9ce-87c18ae8389e",
   "metadata": {},
   "outputs": [],
   "source": [
    "# Write your code below and press Shift+Enter to execute \n"
   ]
  },
  {
   "cell_type": "markdown",
   "id": "78e5ff62-24d4-4860-a8a4-4d18dc4cb6f8",
   "metadata": {},
   "outputs": [],
   "source": [
    "<details><summary>Click here for the solution</summary>\n",
    "\n",
    "```python\n",
    "# Here we use a polynomial of the 11rd order (cubic) \n",
    "f1 = np.polyfit(x, y, 11)\n",
    "p1 = np.poly1d(f1)\n",
    "print(p1)\n",
    "PlotPolly(p1,x,y, 'OBV')\n",
    "\n",
    "```\n",
    "\n",
    "</details>\n"
   ]
  },
  {
   "cell_type": "markdown",
   "id": "31a2e329-28a4-40b8-b677-fbabaea025c6",
   "metadata": {},
   "outputs": [],
   "source": [
    "<p>The analytical expression for Multivariate Polynomial function gets complicated. For example, the expression for a second-order (degree=2) polynomial with two variables is given by:</p>\n"
   ]
  },
  {
   "cell_type": "markdown",
   "id": "13845884-8d4e-4a95-9d94-304a44fd3469",
   "metadata": {},
   "outputs": [],
   "source": [
    "$$\n",
    "Yhat = a + b\\_1 X\\_1 +b\\_2 X\\_2 +b\\_3 X\\_1 X\\_2+b\\_4 X\\_1^2+b\\_5 X\\_2^2\n",
    "$$\n"
   ]
  },
  {
   "cell_type": "markdown",
   "id": "d858c858-74af-4047-80b8-4b39e46e657d",
   "metadata": {},
   "outputs": [],
   "source": [
    "We create a <b>PolynomialFeatures</b> object of degree 2:\n"
   ]
  },
  {
   "cell_type": "code",
   "id": "1e24c802-8d80-4d27-8c7a-a39edf63555c",
   "metadata": {},
   "outputs": [],
   "source": [
    "pr=PolynomialFeatures(degree=2)\n",
    "pr"
   ]
  },
  {
   "cell_type": "code",
   "id": "b285f77d-10a0-4787-88da-d9a5b0c8c05a",
   "metadata": {},
   "outputs": [],
   "source": [
    "Z_pr=pr.fit_transform(Z)"
   ]
  },
  {
   "cell_type": "markdown",
   "id": "117afe55-9315-48a0-b8a2-79f4742fbb7f",
   "metadata": {},
   "outputs": [],
   "source": [
    "In the original data, there are 67165 samples and 4 features.\n"
   ]
  },
  {
   "cell_type": "code",
   "id": "82e96e5b-ce3e-47c2-abfc-8f92cc0806e5",
   "metadata": {},
   "outputs": [],
   "source": [
    "Z.shape"
   ]
  },
  {
   "cell_type": "markdown",
   "id": "6de8737b-afff-4502-8ada-461506ec575d",
   "metadata": {},
   "outputs": [],
   "source": [
    "After the transformation, there are 67165 samples and 15 features.\n"
   ]
  },
  {
   "cell_type": "code",
   "id": "ee346b6b-ad05-4ab5-91b2-d5eb40bbfaa1",
   "metadata": {},
   "outputs": [],
   "source": [
    "Z_pr.shape"
   ]
  },
  {
   "cell_type": "markdown",
   "id": "41181ebe-8dcb-4cfb-a0ba-18a8b704612c",
   "metadata": {},
   "outputs": [],
   "source": [
    "## Pipeline\n"
   ]
  },
  {
   "cell_type": "markdown",
   "id": "88054a30-98c0-430d-9165-0e2f9c825049",
   "metadata": {},
   "outputs": [],
   "source": [
    "<p>Data Pipelines simplify the steps of processing the data. We use the module <b>Pipeline</b> to create a pipeline. We also use <b>StandardScaler</b> as a step in our pipeline.</p>\n"
   ]
  },
  {
   "cell_type": "markdown",
   "id": "edf8e950-1b1e-45ef-9249-ed2fdbf36ff5",
   "metadata": {},
   "outputs": [],
   "source": [
    "We create the pipeline by creating a list of tuples including the name of the model or estimator and its corresponding constructor.\n"
   ]
  },
  {
   "cell_type": "code",
   "id": "2d7434a1-db28-4bd2-b118-56671d9d6a86",
   "metadata": {},
   "outputs": [],
   "source": [
    "Input=[('scale',StandardScaler()), ('polynomial', PolynomialFeatures(include_bias=False)), ('model',LinearRegression())]"
   ]
  },
  {
   "cell_type": "markdown",
   "id": "9503bf33-a29c-47c3-a3e3-c8e65a5ea340",
   "metadata": {},
   "outputs": [],
   "source": [
    "We input the list as an argument to the pipeline constructor:\n"
   ]
  },
  {
   "cell_type": "code",
   "id": "9b6d461e-dff2-452b-90c6-cc9c77b747b7",
   "metadata": {},
   "outputs": [],
   "source": [
    "pipe=Pipeline(Input)\n",
    "pipe"
   ]
  },
  {
   "cell_type": "markdown",
   "id": "b12e60d6-7ac1-4785-b939-48145ac687ef",
   "metadata": {},
   "outputs": [],
   "source": [
    "First, we convert the data type Z to type float to avoid conversion warnings that may appear as a result of StandardScaler taking float inputs.\n",
    "\n",
    "Then, we can normalize the data,  perform a transform and fit the model simultaneously.\n"
   ]
  },
  {
   "cell_type": "code",
   "id": "39d05602-af67-4d74-9250-47c1a5db72c3",
   "metadata": {},
   "outputs": [],
   "source": [
    "Z = Z.astype(float)\n",
    "pipe.fit(Z,y)"
   ]
  },
  {
   "cell_type": "markdown",
   "id": "821f0b60-08d4-479c-89b6-b34a65b149ac",
   "metadata": {},
   "outputs": [],
   "source": [
    "Similarly,  we can normalize the data, perform a transform and produce a prediction  simultaneously.\n"
   ]
  },
  {
   "cell_type": "code",
   "id": "9a804cd2-8d26-4368-86f2-a0c59e8fa294",
   "metadata": {},
   "outputs": [],
   "source": [
    "ypipe=pipe.predict(Z)\n",
    "ypipe[0:4]"
   ]
  },
  {
   "cell_type": "markdown",
   "id": "06d071eb-5fb2-45d0-b7e8-34e3a8bcf87b",
   "metadata": {},
   "outputs": [],
   "source": [
    "<div class=\"alert alert-danger alertdanger\" style=\"margin-top: 20px\">\n",
    "<p><b style=\"font-size: 2em; font-weight: bold;\">Question #5:</b></p>\n",
    "\n",
    "<b>Create a pipeline that standardizes the data, then produce a prediction using a linear regression model using the features Z and target y.</b>\n",
    "</div>\n"
   ]
  },
  {
   "cell_type": "code",
   "id": "5d9d157b-6313-4010-b4af-468ac88ab73a",
   "metadata": {},
   "outputs": [],
   "source": [
    "# Write your code below and press Shift+Enter to execute \n"
   ]
  },
  {
   "cell_type": "markdown",
   "id": "55503260-d587-4258-85af-7fa40a8d063f",
   "metadata": {},
   "outputs": [],
   "source": [
    "<details><summary>Click here for the solution</summary>\n",
    "\n",
    "```python\n",
    "Input=[('scale',StandardScaler()),('model',LinearRegression())]\n",
    "\n",
    "pipe=Pipeline(Input)\n",
    "\n",
    "pipe.fit(Z,y)\n",
    "\n",
    "ypipe=pipe.predict(Z)\n",
    "ypipe[0:10]\n",
    "\n",
    "```\n",
    "\n",
    "</details>\n"
   ]
  },
  {
   "cell_type": "markdown",
   "id": "49ab8370-ecf8-4451-922f-b86294a3368a",
   "metadata": {},
   "outputs": [],
   "source": [
    "## 4. Measures for In-Sample Evaluation\n"
   ]
  },
  {
   "cell_type": "markdown",
   "id": "72cb17eb-27d1-4e6e-8d37-67c268640790",
   "metadata": {},
   "outputs": [],
   "source": [
    "<p>When evaluating our models, not only do we want to visualize the results, but we also want a quantitative measure to determine how accurate the model is.</p>\n",
    "\n",
    "<p>Two very important measures that are often used in Statistics to determine the accuracy of a model are:</p>\n",
    "<ul>\n",
    "    <li><b>R^2 / R-squared</b></li>\n",
    "    <li><b>Mean Squared Error (MSE)</b></li>\n",
    "</ul>\n",
    "\n",
    "<b>R-squared</b>\n",
    "\n",
    "<p>R squared, also known as the coefficient of determination, is a measure to indicate how close the data is to the fitted regression line.</p>\n",
    "\n",
    "<p>The value of the R-squared is the percentage of variation of the response variable (y) that is explained by a linear model.</p>\n",
    "\n",
    "<b>Mean Squared Error (MSE)</b>\n",
    "\n",
    "<p>The Mean Squared Error measures the average of the squares of errors. That is, the difference between actual value (y) and the estimated value (ŷ).</p>\n"
   ]
  },
  {
   "cell_type": "markdown",
   "id": "31c9432b-2985-41c7-836a-1d0288a11869",
   "metadata": {},
   "outputs": [],
   "source": [
    "### Model 1: Simple Linear Regression"
   ]
  },
  {
   "cell_type": "markdown",
   "id": "85ad37ab-f87d-45aa-a6a9-9535aedc561f",
   "metadata": {},
   "outputs": [],
   "source": [
    "Let's calculate the R^2:\n"
   ]
  },
  {
   "cell_type": "code",
   "id": "ed2d8705-89e5-4605-9f5b-3abfd6196e7b",
   "metadata": {},
   "outputs": [],
   "source": [
    "#highway_mpg_fit\n",
    "lm.fit(X, Y)\n",
    "# Find the R^2\n",
    "print('The R-square is: ', lm.score(X, Y))"
   ]
  },
  {
   "cell_type": "markdown",
   "id": "ffb71097-d095-42b3-ab03-7c766e0c32a6",
   "metadata": {},
   "outputs": [],
   "source": [
    "We can say that \\~33.4% of the variation of the price is explained by this simple linear model \"BTC_fit\".\n"
   ]
  },
  {
   "cell_type": "markdown",
   "id": "2fb48372-ce09-40f7-9feb-c2e6c32bb2d3",
   "metadata": {},
   "outputs": [],
   "source": [
    "Let's calculate the MSE:\n"
   ]
  },
  {
   "cell_type": "markdown",
   "id": "2f22c9ac-51d3-4cc0-9bac-3879831ce1ac",
   "metadata": {},
   "outputs": [],
   "source": [
    "We can predict the output i.e., \"Yhat\" using the predict method, where X is the input variable:\n"
   ]
  },
  {
   "cell_type": "code",
   "id": "34e754a6-b7d6-4746-b3f8-2b2c9607efa6",
   "metadata": {},
   "outputs": [],
   "source": [
    "Yhat=lm.predict(X)\n",
    "print('The output of the first four predicted value is: ', Yhat[0:4])"
   ]
  },
  {
   "cell_type": "markdown",
   "id": "61d54924-5fc4-4293-aa71-befc32801c0a",
   "metadata": {},
   "outputs": [],
   "source": [
    "We can compare the predicted results with the actual results:\n"
   ]
  },
  {
   "cell_type": "code",
   "id": "7deb40c9-0b4c-4d64-a13d-ec53c85d74f7",
   "metadata": {},
   "outputs": [],
   "source": [
    "mse = mean_squared_error(df['Avg_price'], Yhat)\n",
    "print('The mean square error of price and predicted value is: ', mse)"
   ]
  },
  {
   "cell_type": "markdown",
   "id": "333bd9bf-4fb7-4c62-a2ee-a70bfeeff2ae",
   "metadata": {},
   "outputs": [],
   "source": [
    "### Model 2: Multiple Linear Regression\n"
   ]
  },
  {
   "cell_type": "markdown",
   "id": "a20e9d9a-04bb-4514-979a-b5bb3d92cd97",
   "metadata": {},
   "outputs": [],
   "source": [
    "Let's calculate the R^2:\n"
   ]
  },
  {
   "cell_type": "code",
   "id": "72dc2f8b-de23-43e9-8fa2-ea82a76fa362",
   "metadata": {},
   "outputs": [],
   "source": [
    "# fit the model \n",
    "lm.fit(Z, df['Avg_price'])\n",
    "# Find the R^2\n",
    "print('The R-square is: ', lm.score(Z, df['Avg_price']))"
   ]
  },
  {
   "cell_type": "markdown",
   "id": "271ff9f6-52c9-492a-9078-97c7fe1d7079",
   "metadata": {},
   "outputs": [],
   "source": [
    "We can say that \\~21.94 % of the variation of price is explained by this multiple linear regression \"multi_fit\".\n"
   ]
  },
  {
   "cell_type": "markdown",
   "id": "4d993827-8314-4bec-b038-aee2e5695aa4",
   "metadata": {},
   "outputs": [],
   "source": [
    "Let's calculate the MSE.\n"
   ]
  },
  {
   "cell_type": "markdown",
   "id": "6aad1039-6b56-4229-8bc2-44e6d8bf8d48",
   "metadata": {},
   "outputs": [],
   "source": [
    "We produce a prediction:\n"
   ]
  },
  {
   "cell_type": "code",
   "id": "1ee9a014-f360-428d-812c-4693490c42aa",
   "metadata": {},
   "outputs": [],
   "source": [
    "Y_predict_multifit = lm.predict(Z)"
   ]
  },
  {
   "cell_type": "markdown",
   "id": "c5758a54-ae99-4947-9d8c-1048bcd063f9",
   "metadata": {},
   "outputs": [],
   "source": [
    "We compare the predicted results with the actual results:\n"
   ]
  },
  {
   "cell_type": "code",
   "id": "e9503cac-ca2e-450a-83d2-a7fc778cae48",
   "metadata": {},
   "outputs": [],
   "source": [
    "print('The mean square error of price and predicted value using multifit is: ', \\\n",
    "      mean_squared_error(df['Avg_price'], Y_predict_multifit))"
   ]
  },
  {
   "cell_type": "markdown",
   "id": "fc01d501-eaf5-4d4c-a644-05f48af43a91",
   "metadata": {},
   "outputs": [],
   "source": [
    "### Model 3: Polynomial Fit\n"
   ]
  },
  {
   "cell_type": "markdown",
   "id": "c7b3d873-f079-4e9b-9c4d-6f26e9796cc2",
   "metadata": {},
   "outputs": [],
   "source": [
    "Let's calculate the R^2.\n"
   ]
  },
  {
   "cell_type": "markdown",
   "id": "30ab68e5-9e6a-43ba-93d3-8b7f0c96e24f",
   "metadata": {},
   "outputs": [],
   "source": [
    "We apply the function to get the value of R^2:\n"
   ]
  },
  {
   "cell_type": "code",
   "id": "d5616734-907e-436c-9ac6-9ca1ae9f6e5a",
   "metadata": {},
   "outputs": [],
   "source": [
    "r_squared = r2_score(y, p(x))\n",
    "print('The R-square value is: ', r_squared)"
   ]
  },
  {
   "cell_type": "markdown",
   "id": "b9f18076-36e2-4790-95d6-c197f8ff6c63",
   "metadata": {},
   "outputs": [],
   "source": [
    "We can say that \\~52.35 % of the variation of price is explained by this polynomial fit.\n"
   ]
  },
  {
   "cell_type": "markdown",
   "id": "8c76ade3-115f-4f0d-b797-5d62b8313c37",
   "metadata": {},
   "outputs": [],
   "source": [
    "### MSE"
   ]
  },
  {
   "cell_type": "markdown",
   "id": "6ecabfc0-4f78-47e3-9d95-2da3c5858292",
   "metadata": {},
   "outputs": [],
   "source": [
    "We can also calculate the MSE:\n"
   ]
  },
  {
   "cell_type": "code",
   "id": "20efbab7-1679-4ea1-a098-f1dfcc835d77",
   "metadata": {},
   "outputs": [],
   "source": [
    "mean_squared_error(df['Avg_price'], p(x))"
   ]
  },
  {
   "cell_type": "markdown",
   "id": "4484b859-343c-4e54-b5bf-16d5a7f949b2",
   "metadata": {},
   "outputs": [],
   "source": [
    "## 5. Prediction and Decision Making\n",
    "### Prediction\n",
    "\n",
    "<p>In the previous section, we trained the model using the method <b>fit</b>. Now we will use the method <b>predict</b> to produce a prediction.</p>\n"
   ]
  },
  {
   "cell_type": "markdown",
   "id": "db5edccc-b7f7-46ee-95c2-4d6f658cec89",
   "metadata": {},
   "outputs": [],
   "source": [
    "Create a new input:\n"
   ]
  },
  {
   "cell_type": "code",
   "id": "e04c086a-931a-4a04-85f3-3562098c418a",
   "metadata": {},
   "outputs": [],
   "source": [
    "new_input = np.arange(min(df['OBV']), max(df['OBV']), 10).reshape(-1, 1)\n",
    "new_input"
   ]
  },
  {
   "cell_type": "markdown",
   "id": "46ea786b-cf39-4610-9bf2-463381c463e1",
   "metadata": {},
   "outputs": [],
   "source": [
    "Fit the model:\n"
   ]
  },
  {
   "cell_type": "code",
   "id": "5c1a61b3-7bd1-4ff0-bfef-dd54f52520ed",
   "metadata": {},
   "outputs": [],
   "source": [
    "lm.fit(X, Y)\n",
    "lm"
   ]
  },
  {
   "cell_type": "markdown",
   "id": "3f3416c6-343a-4828-b16d-d77592756217",
   "metadata": {},
   "outputs": [],
   "source": [
    "Produce a prediction:\n"
   ]
  },
  {
   "cell_type": "code",
   "id": "26ee00ed-a33f-4987-a8eb-be46b3910f83",
   "metadata": {},
   "outputs": [],
   "source": [
    "yhat=lm.predict(new_input)\n",
    "yhat[0:5]"
   ]
  },
  {
   "cell_type": "markdown",
   "id": "83a79ffb-c8bd-46da-89bc-9c3cb0479e3d",
   "metadata": {},
   "outputs": [],
   "source": [
    "We can plot the data:\n"
   ]
  },
  {
   "cell_type": "code",
   "id": "7b1c29dd-9738-4021-9685-802f6748f980",
   "metadata": {},
   "outputs": [],
   "source": [
    "plt.plot(new_input, yhat)\n",
    "plt.ylabel('BTC')\n",
    "plt.xlabel('OBV')\n",
    "plt.title('Predict based on OBV')\n",
    "plt.show()"
   ]
  },
  {
   "cell_type": "markdown",
   "id": "d09a5192-6238-4893-acb6-917d1e7197a9",
   "metadata": {},
   "outputs": [],
   "source": [
    "### Check some values as in lab 3"
   ]
  },
  {
   "cell_type": "markdown",
   "id": "b2dcf925-95d3-4d98-9d3b-cf79e306e3f1",
   "metadata": {},
   "outputs": [],
   "source": [
    "#### The Pearson Correlation Coefficient"
   ]
  },
  {
   "cell_type": "markdown",
   "id": "5512b383-8e89-4377-8eb0-0d0d7a884df9",
   "metadata": {},
   "outputs": [],
   "source": [
    "Let`s start with The Pearson Correlation Coefficient and P-value:"
   ]
  },
  {
   "cell_type": "code",
   "id": "358f65f3-8fa7-4885-bf4d-28320e06082f",
   "metadata": {},
   "outputs": [],
   "source": [
    "pearson_coef, p_value = stats.pearsonr(Y_hat,  df['OBV'])\n",
    "print(\"The Pearson Correlation Coefficient is\",'%.3f' % pearson_coef, \" with a P-value of P =\",'%.3f' % p_value)  "
   ]
  },
  {
   "cell_type": "markdown",
   "id": "f3a3c2c4-06ee-4c8b-99f5-ef63787588bb",
   "metadata": {},
   "outputs": [],
   "source": [
    "Compare with real value:"
   ]
  },
  {
   "cell_type": "code",
   "id": "b53c48fb-c448-42f4-84f8-dbd8731599c9",
   "metadata": {},
   "outputs": [],
   "source": [
    "pearson_coef, p_value = stats.pearsonr(df['Avg_price'],  df['OBV'])\n",
    "print(\"The Pearson Correlation Coefficient is\",'%.3f' % pearson_coef, \" with a P-value of P =\",'%.3f' % p_value)  "
   ]
  },
  {
   "cell_type": "markdown",
   "id": "d0577cba-e6e6-4fac-812b-418f0c401f2d",
   "metadata": {},
   "outputs": [],
   "source": [
    "#### F-test"
   ]
  },
  {
   "cell_type": "markdown",
   "id": "3aa0f679-c83f-4a99-be64-427d959e868d",
   "metadata": {},
   "outputs": [],
   "source": [
    "Also check F-test and P-value:"
   ]
  },
  {
   "cell_type": "code",
   "id": "171a95eb-b2a4-4339-b59a-31ddefd2682e",
   "metadata": {},
   "outputs": [],
   "source": [
    "f_val, p_val = stats.f_oneway(Y_hat, df['Avg_price'])  \n",
    " \n",
    "print(\"ANOVA results: F=\", f_val, \", P =\",'%.3f' % p_val)   "
   ]
  },
  {
   "cell_type": "markdown",
   "id": "f91d2eaf-6bf6-4f67-8bae-a1540b5499d4",
   "metadata": {},
   "outputs": [],
   "source": [
    "Compare with real value:"
   ]
  },
  {
   "cell_type": "code",
   "id": "63fadfa0-d4a8-434e-a1b0-66c4d4f6211c",
   "metadata": {},
   "outputs": [],
   "source": [
    "f_val, p_val = stats.f_oneway(df['Avg_price'], df['Avg_price'])  \n",
    " \n",
    "print(\"ANOVA results: F=\", f_val, \", P =\",'%.3f' % p_val)   "
   ]
  },
  {
   "cell_type": "markdown",
   "id": "333231a5-53d0-4b85-b53f-9ba03b1fe1c0",
   "metadata": {},
   "outputs": [],
   "source": [
    "#### Durbin-Watson test"
   ]
  },
  {
   "cell_type": "code",
   "id": "734a47bb-ce1f-4fcf-9ae3-781bd54903c8",
   "metadata": {},
   "outputs": [],
   "source": [
    "cols = ['BTCBUSD_dep']\n",
    "idxs = [\"OBV_indep\",\"ATR_indep\",\n",
    "         \"ADL_indep\",\"RSI_14_indep\"]\n",
    "\n",
    "durbin = pd.DataFrame(columns=cols, index=idxs)\n",
    "\n",
    "for ind in idxs:\n",
    "    curr1 = ind.split(\"_\")[0]\n",
    "    curr2 = cols[0].split(\"_\")[0]\n",
    "    if(curr1 == 'RSI'):\n",
    "        curr1 = 'RSI_14'\n",
    "    X = df[f\"{curr1}\"] # independent\n",
    "    y = df[\"Avg_price\"] # dependent\n",
    "    # to get intercept\n",
    "    X = sm.add_constant(X)\n",
    "    # fit the regression model\n",
    "    reg = sm.OLS(y, X).fit()\n",
    "    dw = dwtest(resids=np.array(reg.resid))\n",
    "    durbin.loc[f\"{curr1}_indep\", f\"{curr2}_dep\"] = dw\n",
    "\n",
    "for ind in idxs:\n",
    "    curr1 = ind.split(\"_\")[0]\n",
    "    if(curr1 == 'RSI'):\n",
    "        curr1 = 'RSI_14'\n",
    "    curr2 = 'Y_hat'\n",
    "    X = df[f\"{curr1}\"] # independent\n",
    "    y = Y_hat # dependent\n",
    "    # to get intercept\n",
    "    X = sm.add_constant(X)\n",
    "    # fit the regression model\n",
    "    reg = sm.OLS(y, X).fit()\n",
    "    dw = dwtest(resids=np.array(reg.resid))\n",
    "    durbin.loc[f\"{curr1}_indep\", f\"{curr2}_dep\"] = dw\n",
    "\n",
    "\n",
    "np.fill_diagonal(durbin.values, \"—\")\n",
    "pd.options.display.float_format = '{:.5f}'.format \n",
    "durbin"
   ]
  },
  {
   "cell_type": "code",
   "id": "84f63608-cc74-4ed6-a365-25e64b122cc0",
   "metadata": {},
   "outputs": [],
   "source": [
    "\n",
    "idxs = ['BTCBUSD_indep']\n",
    "cols = [\"OBV_dep\",\"RSI_14_dep\",\n",
    "         \"ATR_dep\",\"ADL_dep\"]\n",
    "\n",
    "durbin = pd.DataFrame(columns=cols, index=idxs)\n",
    "\n",
    "for ind in cols:\n",
    "    curr2 = ind.split(\"_\")[0]\n",
    "    curr1 = idxs[0].split(\"_\")[0]\n",
    "    if(curr2 == 'RSI'):\n",
    "        curr2 = 'RSI_14'\n",
    "    X = df[\"Avg_price\"] # independent\n",
    "    y = df[f\"{curr2}\"] # dependent\n",
    "    # to get intercept\n",
    "    X = sm.add_constant(X)\n",
    "    # fit the regression model\n",
    "    reg = sm.OLS(y, X).fit()\n",
    "    dw = dwtest(resids=np.array(reg.resid))\n",
    "    durbin.loc[f\"{curr1}_indep\", f\"{curr2}_dep\"] = dw\n",
    "\n",
    "for ind in cols:\n",
    "    curr1 = ind.split(\"_\")[0]\n",
    "    curr2 = 'Y_hat'\n",
    "    if(curr1 == 'RSI'):\n",
    "        curr1 = 'RSI_14'\n",
    "    y = df[f\"{curr1}\"] # independent\n",
    "    X = Y_hat # dependent\n",
    "    # to get intercept\n",
    "    X = sm.add_constant(X)\n",
    "    # fit the regression model\n",
    "    reg = sm.OLS(y, X).fit()\n",
    "    dw = dwtest(resids=np.array(reg.resid))\n",
    "    durbin.loc[f\"{curr2}_indep\", f\"{curr1}_dep\"] = dw\n",
    "\n",
    "\n",
    "pd.options.display.float_format = '{:.5f}'.format \n",
    "durbin"
   ]
  },
  {
   "cell_type": "markdown",
   "id": "54033109-18a2-4884-b979-df8c6f944f3f",
   "metadata": {},
   "outputs": [],
   "source": [
    "### Decision Making: Determining a Good Model Fit"
   ]
  },
  {
   "cell_type": "markdown",
   "id": "f8c32949-4d49-4f5a-a944-066db22571e4",
   "metadata": {},
   "outputs": [],
   "source": [
    "<p>Now that we have visualized the different models, and generated the R-squared and MSE values for the fits, how do we determine a good model fit?\n",
    "<ul>\n",
    "    <li><i>What is a good R-squared value?</i></li>\n",
    "</ul>\n",
    "</p>\n",
    "\n",
    "<p>When comparing models, <b>the model with the higher R-squared value is a better fit</b> for the data.\n",
    "<ul>\n",
    "    <li><i>What is a good MSE?</i></li>\n",
    "</ul>\n",
    "</p>\n",
    "\n",
    "<p>When comparing models, <b>the model with the smallest MSE value is a better fit</b> for the data.</p>\n",
    "\n",
    "#### Let's take a look at the values for the different models.\n",
    "<p>Simple Linear Regression: Using OBV as a Predictor Variable of BTC.\n",
    "<ul>\n",
    "    <li>R-squared: 0.3336231466525098</li>\n",
    "    <li>MSE: 91682.12998954883</li>\n",
    "</ul>\n",
    "</p>\n",
    "\n",
    "<p>Multiple Linear Regression: Using Volume, ATR, ADL, and RSI_14 as Predictor Variables of BTC.\n",
    "<ul>\n",
    "    <li>R-squared: 0.2193595518891147</li>\n",
    "    <li>MSE:107402.85872666769</li>\n",
    "</ul>\n",
    "</p>\n",
    "\n",
    "<p>Polynomial Fit: Using OBV as a Predictor Variable of BTC.\n",
    "<ul>\n",
    "    <li>R-squared: 0.523498894648502</li>\n",
    "    <li>MSE: 65558.45399122655</li>\n",
    "</ul>\n",
    "</p>\n"
   ]
  },
  {
   "cell_type": "markdown",
   "id": "c3aa3298-3209-481f-b0c1-892725ea97bc",
   "metadata": {},
   "outputs": [],
   "source": [
    "### Simple Linear Regression Model (SLR) vs Multiple Linear Regression Model (MLR)"
   ]
  },
  {
   "cell_type": "markdown",
   "id": "13052ee7-4f07-4722-ab25-8eeb15bdb7e1",
   "metadata": {},
   "outputs": [],
   "source": [
    "<p>Usually, the more variables you have, the better your model is at predicting, but this is not always true. Sometimes you may not have enough data, you may run into numerical problems, or many of the variables may not be useful and even act as noise. As a result, you should always check the MSE and R^2.</p>\n",
    "\n",
    "<p>In order to compare the results of the MLR vs SLR models, we look at a combination of both the R-squared and MSE to make the best conclusion about the fit of the model.\n",
    "<ul>\n",
    "    <li><b>MSE</b>: The MSE of SLR is  91682.1  while MLR has an MSE of 107402.86.  The MSE of SLR is much smaller.</li>\n",
    "    <li><b>R-squared</b>: In this case, we can also see that there is a big difference between the R-squared of the SLR and the R-squared of the MLR. The R-squared for the SLR (~0.334) is big compared to the R-squared for the MLR (~0.219).</li>\n",
    "</ul>\n",
    "</p>\n",
    "\n",
    "This R-squared in combination with the MSE show that SLR seems like the better model fit in this case compared to MLR.\n"
   ]
  },
  {
   "cell_type": "markdown",
   "id": "a801f88b-d510-4381-9131-c4a71e74906f",
   "metadata": {},
   "outputs": [],
   "source": [
    "### Simple Linear Model (SLR) vs. Polynomial Fit"
   ]
  },
  {
   "cell_type": "markdown",
   "id": "a4d367d6-f6c5-42b3-84c9-89810f4477c9",
   "metadata": {},
   "outputs": [],
   "source": [
    "<ul>\n",
    "    <li><b>MSE</b>: We can see that Polynomial Fit brought down the MSE, since this MSE is smaller than the one from the SLR.</li> \n",
    "    <li><b>R-squared</b>: The R-squared for the Polynomial Fit is larger than the R-squared for the SLR, so the Polynomial Fit also brought up the R-squared quite a bit.</li>\n",
    "</ul>\n",
    "<p>Since the Polynomial Fit resulted in a lower MSE and a higher R-squared, we can conclude that this was a better fit model than the simple linear regression for predicting \"BTC\" with \"OBV\" as a predictor variable.</p>\n"
   ]
  },
  {
   "cell_type": "markdown",
   "id": "fd8aba77-ce2d-4b43-9fd5-be0527831aa5",
   "metadata": {},
   "outputs": [],
   "source": [
    "### Multiple Linear Regression (MLR) vs. Polynomial Fit"
   ]
  },
  {
   "cell_type": "markdown",
   "id": "5c9bf000-6719-4256-b5c6-ccf7e898cce7",
   "metadata": {},
   "outputs": [],
   "source": [
    "<ul>\n",
    "    <li><b>MSE</b>: The MSE for the MLR is bigger than the MSE for the Polynomial Fit.</li>\n",
    "    <li><b>R-squared</b>: The R-squared for the MLR is much smaller than for the Polynomial Fit.</li>\n",
    "</ul>\n"
   ]
  },
  {
   "cell_type": "markdown",
   "id": "102a8122-b4d9-4927-b738-8ede0b97b32b",
   "metadata": {},
   "outputs": [],
   "source": [
    "## Conclusion"
   ]
  },
  {
   "cell_type": "markdown",
   "id": "88d1b855-9aa9-466f-bf3a-8c4b603a65bb",
   "metadata": {},
   "outputs": [],
   "source": [
    "<p>Comparing these three models, we conclude that <b>the Polynomial Fit model is the best model</b> to be able to predict BTC from our dataset. This result makes sense since we have info about indicators in total and we know that more than one of those variables are potential predictors of the final BTC price.</p>\n"
   ]
  },
  {
   "cell_type": "markdown",
   "id": "46312b59-1110-47bd-85e2-31be7b048063",
   "metadata": {},
   "outputs": [],
   "source": [
    "### Thank you for completing this lab!\n",
    "\n",
    "## Authors\n",
    "\n",
    "<a href=\"https://www.linkedin.com/in/bohdan-tsisinskyi-539913255/ \" target=\"_blank\" >Bohdan Tsisinskyi</a>\n",
    "\n",
    "<a href=\"https://author.skills.network/instructors/yaroslav_vyklyuk_2\">Prof. Yaroslav Vyklyuk, DrSc, PhD</a>\n",
    "\n",
    "<a href=\"https://author.skills.network/instructors/mariya_fleychuk\">Prof. Mariya Fleychuk, DrSc, PhD</a>.\n",
    "\n",
    "## Change Log\n",
    "\n",
    "| Date (YYYY-MM-DD) | Version | Changed By | Change Description                            |\n",
    "| ----------------- | ------- | ---------- | --------------------------------------------- |\n",
    "|18-03-2023|1.0|Bohdan Tsisinskyi| Lab created|\n",
    "\n",
    "<hr>\n",
    "\n",
    "## <h3 align=\"center\"> © IBM Corporation 2023. All rights reserved. <h3/>\n"
   ]
  },
  {
   "cell_type": "code",
   "id": "e0d4eb33-e15c-491a-b43f-559e0b17bac6",
   "metadata": {},
   "outputs": [],
   "source": []
  }
 ],
 "metadata": {
  "language_info": {
   "name": ""
  },
  "kernelspec": {
   "name": "",
   "display_name": ""
  }
 },
 "nbformat": 4,
 "nbformat_minor": 4
}

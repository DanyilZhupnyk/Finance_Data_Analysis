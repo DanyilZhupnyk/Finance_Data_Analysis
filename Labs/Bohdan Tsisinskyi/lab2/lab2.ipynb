{
  "metadata": {
    "anaconda-cloud": {},
    "kernelspec": {
      "name": "python",
      "display_name": "Pyolite",
      "language": "python"
    },
    "language_info": {
      "codemirror_mode": {
        "name": "python",
        "version": 3
      },
      "file_extension": ".py",
      "mimetype": "text/x-python",
      "name": "python",
      "nbconvert_exporter": "python",
      "pygments_lexer": "ipython3",
      "version": "3.8"
    }
  },
  "nbformat_minor": 4,
  "nbformat": 4,
  "cells": [
    {
      "cell_type": "markdown",
      "source": "<center>\n    <img src=\"https://cf-courses-data.s3.us.cloud-object-storage.appdomain.cloud/IBMDeveloperSkillsNetwork-DA0101EN-SkillsNetwork/labs/Module%202/images/IDSNlogo.png\" width=\"300\" alt=\"cognitiveclass.ai logo\"  />\n</center>\n\n# Data Wrangling\n\nEstimated time needed: **30** minutes\n\n## Objectives\n\nAfter completing this lab you will be able to:\n\n*   Handle missing values\n*   Correct data format\n*   Standardize and normalize data\n",
      "metadata": {}
    },
    {
      "cell_type": "markdown",
      "source": "<h2>Table of Contents</h2>\n\n<div class=\"alert alert-block alert-info\" style=\"margin-top: 20px\">\n<ul>\n    <li><a href=\"https://#identify_handle_missing_values\">Identify and handle missing values</a>\n        <ul>\n            <li><a href=\"https://#identify_missing_values\">Identify missing values</a></li>\n            <li><a href=\"https://#deal_missing_values\">Deal with missing values</a></li>\n            <li><a href=\"https://#correct_data_format\">Correct data format</a></li>\n        </ul>\n    </li>\n    <li><a href=\"https://#data_standardization\">Data standardization</a></li>\n    <li><a href=\"https://#data_normalization\">Data normalization (centering/scaling)</a></li>\n    <li><a href=\"https://#binning\">Binning</a></li>\n    <li><a href=\"https://#indicator\">Indicator variable</a></li>\n    <li><a href=\"https://#resample\">Resample time-series data</a></li>\n</ul>\n\n</div>\n\n<hr>\n",
      "metadata": {}
    },
    {
      "cell_type": "markdown",
      "source": "<h2>What is the purpose of data wrangling?</h2>\n",
      "metadata": {}
    },
    {
      "cell_type": "markdown",
      "source": "Data wrangling is the process of converting data from the initial format to a format that may be better for analysis.\n",
      "metadata": {}
    },
    {
      "cell_type": "markdown",
      "source": "<h3>What is the norm to open the trade?</h3>\n",
      "metadata": {}
    },
    {
      "cell_type": "markdown",
      "source": "<h3>Import data</h3>\n<p>\nYou can find the \"Trading Dataset\" from the following link: <a href=\"https://1824251045.rsc.cdn77.org/web/algohouse/data/BTCBUSD_trades_1m.csv\">https://1824251045.rsc.cdn77.org/web/algohouse/data/BTCBUSD_trades_1m.csv</a>. \nWe will be using this dataset throughout this course.\n</p>\n",
      "metadata": {}
    },
    {
      "cell_type": "markdown",
      "source": "<h4>Import pandas</h4> \n",
      "metadata": {}
    },
    {
      "cell_type": "markdown",
      "source": "you are running the lab in your  browser, so we will install the libraries using `piplite`\n",
      "metadata": {}
    },
    {
      "cell_type": "code",
      "source": "import piplite\nawait piplite.install(['pandas'])\nawait piplite.install(['matplotlib'])\nawait piplite.install(['requests'])",
      "metadata": {
        "trusted": true
      },
      "execution_count": 204,
      "outputs": []
    },
    {
      "cell_type": "markdown",
      "source": "If you run the lab locally using Anaconda, you can load the correct library and versions by uncommenting the following:\n",
      "metadata": {}
    },
    {
      "cell_type": "code",
      "source": "#If you run the lab locally using Anaconda, you can load the correct library and versions by uncommenting the following:\n#install specific version of libraries used in lab\n#! mamba install pandas==1.3.3\n#! mamba install numpy=1.21.2\n",
      "metadata": {
        "trusted": true
      },
      "execution_count": 205,
      "outputs": []
    },
    {
      "cell_type": "code",
      "source": "import pandas as pd\nimport matplotlib.pylab as plt\n\n#set precision 2\npd.options.display.float_format = '{:.2f}'.format",
      "metadata": {
        "trusted": true
      },
      "execution_count": 206,
      "outputs": []
    },
    {
      "cell_type": "markdown",
      "source": "This function will download the dataset into your browser\n",
      "metadata": {}
    },
    {
      "cell_type": "code",
      "source": "#This function will download the dataset into your browser \nfrom pyodide.http import pyfetch\n\nasync def download(url, filename):\n    response = await pyfetch(url)\n    if response.status == 200:\n        with open(filename, \"wb\") as f:\n            f.write(await response.bytes())\n\n",
      "metadata": {
        "trusted": true
      },
      "execution_count": 207,
      "outputs": []
    },
    {
      "cell_type": "markdown",
      "source": "<h2>Reading the dataset from the URL and adding the related headers</h2>\n",
      "metadata": {}
    },
    {
      "cell_type": "markdown",
      "source": "First, we assign the URL of the dataset to \"filename\".\n",
      "metadata": {}
    },
    {
      "cell_type": "markdown",
      "source": "This dataset was hosted on IBM Cloud object. Click <a href=\"https://cocl.us/corsera_da0101en_notebook_bottom?utm_medium=Exinfluencer&utm_source=Exinfluencer&utm_content=000026UJ&utm_term=10006555&utm_id=NA-SkillsNetwork-Channel-SkillsNetworkCoursesIBMDeveloperSkillsNetworkDA0101ENSkillsNetwork20235326-2021-01-01\">HERE</a> for free storage.\n",
      "metadata": {}
    },
    {
      "cell_type": "code",
      "source": "filename = \"https://1824251045.rsc.cdn77.org/web/algohouse/data/BTCBUSD_trades_1m.csv\"",
      "metadata": {
        "trusted": true
      },
      "execution_count": 208,
      "outputs": []
    },
    {
      "cell_type": "markdown",
      "source": "Then, we create a Python list <b>headers</b> containing name of headers.\n",
      "metadata": {}
    },
    {
      "cell_type": "code",
      "source": "headers = [\"time\",\"open\",\"high\",\"low\",\"close\",\"volume\",\"rec_count\",\"avg_price\"]",
      "metadata": {
        "trusted": true
      },
      "execution_count": 209,
      "outputs": []
    },
    {
      "cell_type": "markdown",
      "source": "you will need to download the dataset; if you are running locally, please comment out the following\n",
      "metadata": {}
    },
    {
      "cell_type": "code",
      "source": "await download(filename, \"BTCBUSD_trades_1m.csv\")\nfilename=\"BTCBUSD_trades_1m.csv\"",
      "metadata": {
        "trusted": true
      },
      "execution_count": 210,
      "outputs": []
    },
    {
      "cell_type": "markdown",
      "source": "Use the Pandas method <b>read_csv()</b> to load the data from the web address. Set the parameter  \"names\" equal to the Python list \"headers\".\n",
      "metadata": {}
    },
    {
      "cell_type": "code",
      "source": "#our work dataframe\ndf = pd.read_csv(filename, index_col=0, low_memory=False)\n#dataframe for calculating our accuracy\nnewdf = pd.read_csv(filename, index_col=0, low_memory=False)\n\ndf.columns = headers\nnewdf.columns = headers",
      "metadata": {
        "trusted": true
      },
      "execution_count": 211,
      "outputs": []
    },
    {
      "cell_type": "markdown",
      "source": "Use the method <b>head()</b> to display the first five rows of the dataframe.\n",
      "metadata": {}
    },
    {
      "cell_type": "code",
      "source": "# To see what the data set looks like, we'll use the head() method.\ndf.head()",
      "metadata": {
        "trusted": true
      },
      "execution_count": 212,
      "outputs": [
        {
          "execution_count": 212,
          "output_type": "execute_result",
          "data": {
            "text/plain": "                  time     open     high      low    close  volume  rec_count  \\\n0  2022-11-11 14:38:00 16540.10 16540.10 16486.50 16486.50  304.95         97   \n1  2022-11-11 14:39:00 16489.30 16493.30 16456.20 16462.10  319.26        103   \n2  2022-11-11 14:40:00 16465.50 16496.00 16447.40 16492.90  290.90         99   \n3  2022-11-11 14:41:00 16492.90 16547.10 16472.50 16543.00  314.05         99   \n4  2022-11-11 14:42:00 16540.20 16547.10 16498.20 16498.30  226.95         99   \n\n   avg_price  \n0   16516.81  \n1   16473.84  \n2   16478.64  \n3   16516.50  \n4   16527.09  ",
            "text/html": "<div>\n<style scoped>\n    .dataframe tbody tr th:only-of-type {\n        vertical-align: middle;\n    }\n\n    .dataframe tbody tr th {\n        vertical-align: top;\n    }\n\n    .dataframe thead th {\n        text-align: right;\n    }\n</style>\n<table border=\"1\" class=\"dataframe\">\n  <thead>\n    <tr style=\"text-align: right;\">\n      <th></th>\n      <th>time</th>\n      <th>open</th>\n      <th>high</th>\n      <th>low</th>\n      <th>close</th>\n      <th>volume</th>\n      <th>rec_count</th>\n      <th>avg_price</th>\n    </tr>\n  </thead>\n  <tbody>\n    <tr>\n      <th>0</th>\n      <td>2022-11-11 14:38:00</td>\n      <td>16540.10</td>\n      <td>16540.10</td>\n      <td>16486.50</td>\n      <td>16486.50</td>\n      <td>304.95</td>\n      <td>97</td>\n      <td>16516.81</td>\n    </tr>\n    <tr>\n      <th>1</th>\n      <td>2022-11-11 14:39:00</td>\n      <td>16489.30</td>\n      <td>16493.30</td>\n      <td>16456.20</td>\n      <td>16462.10</td>\n      <td>319.26</td>\n      <td>103</td>\n      <td>16473.84</td>\n    </tr>\n    <tr>\n      <th>2</th>\n      <td>2022-11-11 14:40:00</td>\n      <td>16465.50</td>\n      <td>16496.00</td>\n      <td>16447.40</td>\n      <td>16492.90</td>\n      <td>290.90</td>\n      <td>99</td>\n      <td>16478.64</td>\n    </tr>\n    <tr>\n      <th>3</th>\n      <td>2022-11-11 14:41:00</td>\n      <td>16492.90</td>\n      <td>16547.10</td>\n      <td>16472.50</td>\n      <td>16543.00</td>\n      <td>314.05</td>\n      <td>99</td>\n      <td>16516.50</td>\n    </tr>\n    <tr>\n      <th>4</th>\n      <td>2022-11-11 14:42:00</td>\n      <td>16540.20</td>\n      <td>16547.10</td>\n      <td>16498.20</td>\n      <td>16498.30</td>\n      <td>226.95</td>\n      <td>99</td>\n      <td>16527.09</td>\n    </tr>\n  </tbody>\n</table>\n</div>"
          },
          "metadata": {}
        }
      ]
    },
    {
      "cell_type": "markdown",
      "source": "<h2>Making some values wrong</h2>\n",
      "metadata": {}
    },
    {
      "cell_type": "markdown",
      "source": "To have something to test functions, we need to replace some values:\n",
      "metadata": {}
    },
    {
      "cell_type": "code",
      "source": "import numpy as np\n\nl1 = 0.07 # ?\nl2 = 0.07 # Text\nl3 = 0.07 # Negative\n\nm = np.random.rand(len(df))\nmask1 = m < l1 # ?\nm = np.random.rand(len(df))\nmask2 = m < l2 # Text\nm = np.random.rand(len(df))\nmask3 = m < l3 # Negative\n\n#replace values in our dataframe\ndf.loc[mask1, 'rec_count'] = \"?\"\ndf.loc[mask2, 'volume'] = \"Error\"\ndf.loc[mask3, 'open'] = - df.loc[mask3, 'open']\n\n#save dataframe \ndf.to_csv(\"btc.csv\", index=False)\nprint(df)",
      "metadata": {
        "trusted": true
      },
      "execution_count": 213,
      "outputs": [
        {
          "name": "stdout",
          "text": "                      time     open     high      low    close volume  \\\n0      2022-11-11 14:38:00 16540.10 16540.10 16486.50 16486.50 304.95   \n1      2022-11-11 14:39:00 16489.30 16493.30 16456.20 16462.10 319.26   \n2      2022-11-11 14:40:00 16465.50 16496.00 16447.40 16492.90 290.90   \n3      2022-11-11 14:41:00 16492.90 16547.10 16472.50 16543.00 314.05   \n4      2022-11-11 14:42:00 16540.20 16547.10 16498.20 16498.30 226.95   \n...                    ...      ...      ...      ...      ...    ...   \n67286  2022-12-29 23:55:00 16626.70 16626.70 16626.70 16626.70   2.35   \n67287  2022-12-29 23:56:00 16626.70 16626.80 16626.70 16626.80   0.71   \n67288  2022-12-29 23:57:00 16626.70 16626.80 16626.70 16626.80   2.61   \n67289  2022-12-29 23:58:00 16626.70 16626.80 16626.70 16626.80   5.22   \n67290  2022-12-29 23:59:00 16626.70 16626.80 16625.60 16625.60   8.01   \n\n      rec_count  avg_price  \n0            97   16516.81  \n1           103   16473.84  \n2            99   16478.64  \n3            99   16516.50  \n4            99   16527.09  \n...         ...        ...  \n67286         9   16626.70  \n67287        15   16626.78  \n67288         8   16626.76  \n67289        11   16626.76  \n67290        15   16626.37  \n\n[67291 rows x 8 columns]\n",
          "output_type": "stream"
        }
      ]
    },
    {
      "cell_type": "markdown",
      "source": "Now let's check what we got:",
      "metadata": {}
    },
    {
      "cell_type": "code",
      "source": "df = pd.read_csv(\"btc.csv\", low_memory=False)\ndf.head(20)",
      "metadata": {
        "trusted": true
      },
      "execution_count": 214,
      "outputs": [
        {
          "execution_count": 214,
          "output_type": "execute_result",
          "data": {
            "text/plain": "                   time     open     high      low    close    volume  \\\n0   2022-11-11 14:38:00 16540.10 16540.10 16486.50 16486.50   304.951   \n1   2022-11-11 14:39:00 16489.30 16493.30 16456.20 16462.10   319.262   \n2   2022-11-11 14:40:00 16465.50 16496.00 16447.40 16492.90   290.905   \n3   2022-11-11 14:41:00 16492.90 16547.10 16472.50 16543.00   314.045   \n4   2022-11-11 14:42:00 16540.20 16547.10 16498.20 16498.30   226.951   \n5   2022-11-11 14:43:00 16498.30 16548.80 16491.90 16499.80   219.362   \n6   2022-11-11 14:44:00 16502.30 16542.00 16502.30 16540.80   233.955   \n7   2022-11-11 14:45:00 16540.70 16746.00 16540.50 16742.70  1183.991   \n8   2022-11-11 14:46:00 16747.60 16829.40 16686.90 16829.40   1356.19   \n9   2022-11-11 14:47:00 16829.80 17285.20 16828.30 17212.90  2122.798   \n10  2022-11-11 14:48:00 17207.30 17207.30 16901.00 16965.90  1650.344   \n11  2022-11-11 14:49:00 16958.80 17067.60 16915.60 16941.00  1065.183   \n12  2022-11-11 14:50:00 16945.10 17034.90 16918.20 17034.90   688.335   \n13  2022-11-11 14:51:00 17011.40 17011.80 16865.70 16865.70   614.077   \n14  2022-11-11 14:52:00 16880.00 16917.80 16801.50 16823.10   659.699   \n15  2022-11-11 14:53:00 16816.40 16851.80 16760.30 16832.80   621.814   \n16  2022-11-11 14:54:00 16835.80 16884.60 16824.00 16838.50   430.467   \n17  2022-11-11 14:55:00 16831.00 16831.00 16750.00 16799.90     Error   \n18  2022-11-11 14:56:00 16798.00 16889.90 16795.00 16883.60     Error   \n19  2022-11-11 14:57:00 16883.50 16883.50 16836.30 16841.00   416.451   \n\n   rec_count  avg_price  \n0         97   16516.81  \n1        103   16473.84  \n2         99   16478.64  \n3         99   16516.50  \n4         99   16527.09  \n5         96   16519.31  \n6        101   16526.21  \n7        112   16639.43  \n8        113   16760.05  \n9        116   17060.89  \n10       116   17007.45  \n11       111   16990.48  \n12         ?   16968.65  \n13       110   16944.63  \n14       110   16851.31  \n15       110   16813.59  \n16       106   16858.69  \n17       110   16786.95  \n18       105   16849.72  \n19       103   16859.45  ",
            "text/html": "<div>\n<style scoped>\n    .dataframe tbody tr th:only-of-type {\n        vertical-align: middle;\n    }\n\n    .dataframe tbody tr th {\n        vertical-align: top;\n    }\n\n    .dataframe thead th {\n        text-align: right;\n    }\n</style>\n<table border=\"1\" class=\"dataframe\">\n  <thead>\n    <tr style=\"text-align: right;\">\n      <th></th>\n      <th>time</th>\n      <th>open</th>\n      <th>high</th>\n      <th>low</th>\n      <th>close</th>\n      <th>volume</th>\n      <th>rec_count</th>\n      <th>avg_price</th>\n    </tr>\n  </thead>\n  <tbody>\n    <tr>\n      <th>0</th>\n      <td>2022-11-11 14:38:00</td>\n      <td>16540.10</td>\n      <td>16540.10</td>\n      <td>16486.50</td>\n      <td>16486.50</td>\n      <td>304.951</td>\n      <td>97</td>\n      <td>16516.81</td>\n    </tr>\n    <tr>\n      <th>1</th>\n      <td>2022-11-11 14:39:00</td>\n      <td>16489.30</td>\n      <td>16493.30</td>\n      <td>16456.20</td>\n      <td>16462.10</td>\n      <td>319.262</td>\n      <td>103</td>\n      <td>16473.84</td>\n    </tr>\n    <tr>\n      <th>2</th>\n      <td>2022-11-11 14:40:00</td>\n      <td>16465.50</td>\n      <td>16496.00</td>\n      <td>16447.40</td>\n      <td>16492.90</td>\n      <td>290.905</td>\n      <td>99</td>\n      <td>16478.64</td>\n    </tr>\n    <tr>\n      <th>3</th>\n      <td>2022-11-11 14:41:00</td>\n      <td>16492.90</td>\n      <td>16547.10</td>\n      <td>16472.50</td>\n      <td>16543.00</td>\n      <td>314.045</td>\n      <td>99</td>\n      <td>16516.50</td>\n    </tr>\n    <tr>\n      <th>4</th>\n      <td>2022-11-11 14:42:00</td>\n      <td>16540.20</td>\n      <td>16547.10</td>\n      <td>16498.20</td>\n      <td>16498.30</td>\n      <td>226.951</td>\n      <td>99</td>\n      <td>16527.09</td>\n    </tr>\n    <tr>\n      <th>5</th>\n      <td>2022-11-11 14:43:00</td>\n      <td>16498.30</td>\n      <td>16548.80</td>\n      <td>16491.90</td>\n      <td>16499.80</td>\n      <td>219.362</td>\n      <td>96</td>\n      <td>16519.31</td>\n    </tr>\n    <tr>\n      <th>6</th>\n      <td>2022-11-11 14:44:00</td>\n      <td>16502.30</td>\n      <td>16542.00</td>\n      <td>16502.30</td>\n      <td>16540.80</td>\n      <td>233.955</td>\n      <td>101</td>\n      <td>16526.21</td>\n    </tr>\n    <tr>\n      <th>7</th>\n      <td>2022-11-11 14:45:00</td>\n      <td>16540.70</td>\n      <td>16746.00</td>\n      <td>16540.50</td>\n      <td>16742.70</td>\n      <td>1183.991</td>\n      <td>112</td>\n      <td>16639.43</td>\n    </tr>\n    <tr>\n      <th>8</th>\n      <td>2022-11-11 14:46:00</td>\n      <td>16747.60</td>\n      <td>16829.40</td>\n      <td>16686.90</td>\n      <td>16829.40</td>\n      <td>1356.19</td>\n      <td>113</td>\n      <td>16760.05</td>\n    </tr>\n    <tr>\n      <th>9</th>\n      <td>2022-11-11 14:47:00</td>\n      <td>16829.80</td>\n      <td>17285.20</td>\n      <td>16828.30</td>\n      <td>17212.90</td>\n      <td>2122.798</td>\n      <td>116</td>\n      <td>17060.89</td>\n    </tr>\n    <tr>\n      <th>10</th>\n      <td>2022-11-11 14:48:00</td>\n      <td>17207.30</td>\n      <td>17207.30</td>\n      <td>16901.00</td>\n      <td>16965.90</td>\n      <td>1650.344</td>\n      <td>116</td>\n      <td>17007.45</td>\n    </tr>\n    <tr>\n      <th>11</th>\n      <td>2022-11-11 14:49:00</td>\n      <td>16958.80</td>\n      <td>17067.60</td>\n      <td>16915.60</td>\n      <td>16941.00</td>\n      <td>1065.183</td>\n      <td>111</td>\n      <td>16990.48</td>\n    </tr>\n    <tr>\n      <th>12</th>\n      <td>2022-11-11 14:50:00</td>\n      <td>16945.10</td>\n      <td>17034.90</td>\n      <td>16918.20</td>\n      <td>17034.90</td>\n      <td>688.335</td>\n      <td>?</td>\n      <td>16968.65</td>\n    </tr>\n    <tr>\n      <th>13</th>\n      <td>2022-11-11 14:51:00</td>\n      <td>17011.40</td>\n      <td>17011.80</td>\n      <td>16865.70</td>\n      <td>16865.70</td>\n      <td>614.077</td>\n      <td>110</td>\n      <td>16944.63</td>\n    </tr>\n    <tr>\n      <th>14</th>\n      <td>2022-11-11 14:52:00</td>\n      <td>16880.00</td>\n      <td>16917.80</td>\n      <td>16801.50</td>\n      <td>16823.10</td>\n      <td>659.699</td>\n      <td>110</td>\n      <td>16851.31</td>\n    </tr>\n    <tr>\n      <th>15</th>\n      <td>2022-11-11 14:53:00</td>\n      <td>16816.40</td>\n      <td>16851.80</td>\n      <td>16760.30</td>\n      <td>16832.80</td>\n      <td>621.814</td>\n      <td>110</td>\n      <td>16813.59</td>\n    </tr>\n    <tr>\n      <th>16</th>\n      <td>2022-11-11 14:54:00</td>\n      <td>16835.80</td>\n      <td>16884.60</td>\n      <td>16824.00</td>\n      <td>16838.50</td>\n      <td>430.467</td>\n      <td>106</td>\n      <td>16858.69</td>\n    </tr>\n    <tr>\n      <th>17</th>\n      <td>2022-11-11 14:55:00</td>\n      <td>16831.00</td>\n      <td>16831.00</td>\n      <td>16750.00</td>\n      <td>16799.90</td>\n      <td>Error</td>\n      <td>110</td>\n      <td>16786.95</td>\n    </tr>\n    <tr>\n      <th>18</th>\n      <td>2022-11-11 14:56:00</td>\n      <td>16798.00</td>\n      <td>16889.90</td>\n      <td>16795.00</td>\n      <td>16883.60</td>\n      <td>Error</td>\n      <td>105</td>\n      <td>16849.72</td>\n    </tr>\n    <tr>\n      <th>19</th>\n      <td>2022-11-11 14:57:00</td>\n      <td>16883.50</td>\n      <td>16883.50</td>\n      <td>16836.30</td>\n      <td>16841.00</td>\n      <td>416.451</td>\n      <td>103</td>\n      <td>16859.45</td>\n    </tr>\n  </tbody>\n</table>\n</div>"
          },
          "metadata": {}
        }
      ]
    },
    {
      "cell_type": "markdown",
      "source": "As we can see, several question marks appeared in the dataframe; those are missing values which may hinder our further analysis.\n\n<div>So, how do we identify all those missing values and deal with them?</div> \n\n<b>How to work with missing data?</b>\n\nSteps for working with missing data:\n\n<ol>\n    <li>Identify missing data</li>\n    <li>Deal with missing data</li>\n    <li>Correct data format</li>\n</ol>\n",
      "metadata": {}
    },
    {
      "cell_type": "markdown",
      "source": "<h2 id=\"identify_handle_missing_values\">Identify and handle missing values</h2>\n\n<h3 id=\"identify_missing_values\">Identify missing values</h3>\n<h4>Convert missing data to NaN</h4>\nIn the trading dataset, missing data comes with the negative values,strings and \"?\".\nWe replace missing data with NaN (Not a Number), Python's default missing value marker for reasons of computational speed and convenience. Here we use the function: \n <pre>.replace(A, B, inplace = True) </pre>\nto replace A by B.\n<p><p><code>Inplace=True</code> is used to save all changes in our dataframe.\n",
      "metadata": {}
    },
    {
      "cell_type": "markdown",
      "source": "Using this <code>r'^([A-Za-z]|_)+$'</code> to replace all letters in our dataset. Also we use <pre>pandas.DataFrame.mask</pre> to replace values where the condition is True. For example:<pre>.mask(A, B, inplace=True)</pre> ",
      "metadata": {}
    },
    {
      "cell_type": "markdown",
      "source": "Also we can see that there is text in our dataset and open price sometimes is <0:",
      "metadata": {}
    },
    {
      "cell_type": "code",
      "source": "count = (df['open']<0).sum()\nprint(\"Count of values that are < 0 in Column open:\", count)",
      "metadata": {
        "trusted": true
      },
      "execution_count": 215,
      "outputs": [
        {
          "name": "stdout",
          "text": "Count of values that are < 0 in Column open: 4691\n",
          "output_type": "stream"
        }
      ]
    },
    {
      "cell_type": "code",
      "source": "import numpy as np\n\n# replace \"?\" to NaN\ndf.replace(\"?\", np.nan, inplace = True)\n# replace all text to NaN\ndf.replace(r'^([A-Za-z]|_)+$', np.NaN, regex=True, inplace = True)\n#change data type for column 'open' \ndf.astype({'open': 'float'})\n#replace negative values to NaN\ndf.open.mask(df.open<0, np.nan, inplace=True)\n#make a new dataframe for calculating our accuracy in the future\nacdf = df\ndf.head(20)",
      "metadata": {
        "trusted": true
      },
      "execution_count": 216,
      "outputs": [
        {
          "execution_count": 216,
          "output_type": "execute_result",
          "data": {
            "text/plain": "                   time     open     high      low    close    volume  \\\n0   2022-11-11 14:38:00 16540.10 16540.10 16486.50 16486.50   304.951   \n1   2022-11-11 14:39:00 16489.30 16493.30 16456.20 16462.10   319.262   \n2   2022-11-11 14:40:00 16465.50 16496.00 16447.40 16492.90   290.905   \n3   2022-11-11 14:41:00 16492.90 16547.10 16472.50 16543.00   314.045   \n4   2022-11-11 14:42:00 16540.20 16547.10 16498.20 16498.30   226.951   \n5   2022-11-11 14:43:00 16498.30 16548.80 16491.90 16499.80   219.362   \n6   2022-11-11 14:44:00 16502.30 16542.00 16502.30 16540.80   233.955   \n7   2022-11-11 14:45:00 16540.70 16746.00 16540.50 16742.70  1183.991   \n8   2022-11-11 14:46:00 16747.60 16829.40 16686.90 16829.40   1356.19   \n9   2022-11-11 14:47:00 16829.80 17285.20 16828.30 17212.90  2122.798   \n10  2022-11-11 14:48:00 17207.30 17207.30 16901.00 16965.90  1650.344   \n11  2022-11-11 14:49:00 16958.80 17067.60 16915.60 16941.00  1065.183   \n12  2022-11-11 14:50:00 16945.10 17034.90 16918.20 17034.90   688.335   \n13  2022-11-11 14:51:00 17011.40 17011.80 16865.70 16865.70   614.077   \n14  2022-11-11 14:52:00 16880.00 16917.80 16801.50 16823.10   659.699   \n15  2022-11-11 14:53:00 16816.40 16851.80 16760.30 16832.80   621.814   \n16  2022-11-11 14:54:00 16835.80 16884.60 16824.00 16838.50   430.467   \n17  2022-11-11 14:55:00 16831.00 16831.00 16750.00 16799.90       NaN   \n18  2022-11-11 14:56:00 16798.00 16889.90 16795.00 16883.60       NaN   \n19  2022-11-11 14:57:00 16883.50 16883.50 16836.30 16841.00   416.451   \n\n   rec_count  avg_price  \n0         97   16516.81  \n1        103   16473.84  \n2         99   16478.64  \n3         99   16516.50  \n4         99   16527.09  \n5         96   16519.31  \n6        101   16526.21  \n7        112   16639.43  \n8        113   16760.05  \n9        116   17060.89  \n10       116   17007.45  \n11       111   16990.48  \n12       NaN   16968.65  \n13       110   16944.63  \n14       110   16851.31  \n15       110   16813.59  \n16       106   16858.69  \n17       110   16786.95  \n18       105   16849.72  \n19       103   16859.45  ",
            "text/html": "<div>\n<style scoped>\n    .dataframe tbody tr th:only-of-type {\n        vertical-align: middle;\n    }\n\n    .dataframe tbody tr th {\n        vertical-align: top;\n    }\n\n    .dataframe thead th {\n        text-align: right;\n    }\n</style>\n<table border=\"1\" class=\"dataframe\">\n  <thead>\n    <tr style=\"text-align: right;\">\n      <th></th>\n      <th>time</th>\n      <th>open</th>\n      <th>high</th>\n      <th>low</th>\n      <th>close</th>\n      <th>volume</th>\n      <th>rec_count</th>\n      <th>avg_price</th>\n    </tr>\n  </thead>\n  <tbody>\n    <tr>\n      <th>0</th>\n      <td>2022-11-11 14:38:00</td>\n      <td>16540.10</td>\n      <td>16540.10</td>\n      <td>16486.50</td>\n      <td>16486.50</td>\n      <td>304.951</td>\n      <td>97</td>\n      <td>16516.81</td>\n    </tr>\n    <tr>\n      <th>1</th>\n      <td>2022-11-11 14:39:00</td>\n      <td>16489.30</td>\n      <td>16493.30</td>\n      <td>16456.20</td>\n      <td>16462.10</td>\n      <td>319.262</td>\n      <td>103</td>\n      <td>16473.84</td>\n    </tr>\n    <tr>\n      <th>2</th>\n      <td>2022-11-11 14:40:00</td>\n      <td>16465.50</td>\n      <td>16496.00</td>\n      <td>16447.40</td>\n      <td>16492.90</td>\n      <td>290.905</td>\n      <td>99</td>\n      <td>16478.64</td>\n    </tr>\n    <tr>\n      <th>3</th>\n      <td>2022-11-11 14:41:00</td>\n      <td>16492.90</td>\n      <td>16547.10</td>\n      <td>16472.50</td>\n      <td>16543.00</td>\n      <td>314.045</td>\n      <td>99</td>\n      <td>16516.50</td>\n    </tr>\n    <tr>\n      <th>4</th>\n      <td>2022-11-11 14:42:00</td>\n      <td>16540.20</td>\n      <td>16547.10</td>\n      <td>16498.20</td>\n      <td>16498.30</td>\n      <td>226.951</td>\n      <td>99</td>\n      <td>16527.09</td>\n    </tr>\n    <tr>\n      <th>5</th>\n      <td>2022-11-11 14:43:00</td>\n      <td>16498.30</td>\n      <td>16548.80</td>\n      <td>16491.90</td>\n      <td>16499.80</td>\n      <td>219.362</td>\n      <td>96</td>\n      <td>16519.31</td>\n    </tr>\n    <tr>\n      <th>6</th>\n      <td>2022-11-11 14:44:00</td>\n      <td>16502.30</td>\n      <td>16542.00</td>\n      <td>16502.30</td>\n      <td>16540.80</td>\n      <td>233.955</td>\n      <td>101</td>\n      <td>16526.21</td>\n    </tr>\n    <tr>\n      <th>7</th>\n      <td>2022-11-11 14:45:00</td>\n      <td>16540.70</td>\n      <td>16746.00</td>\n      <td>16540.50</td>\n      <td>16742.70</td>\n      <td>1183.991</td>\n      <td>112</td>\n      <td>16639.43</td>\n    </tr>\n    <tr>\n      <th>8</th>\n      <td>2022-11-11 14:46:00</td>\n      <td>16747.60</td>\n      <td>16829.40</td>\n      <td>16686.90</td>\n      <td>16829.40</td>\n      <td>1356.19</td>\n      <td>113</td>\n      <td>16760.05</td>\n    </tr>\n    <tr>\n      <th>9</th>\n      <td>2022-11-11 14:47:00</td>\n      <td>16829.80</td>\n      <td>17285.20</td>\n      <td>16828.30</td>\n      <td>17212.90</td>\n      <td>2122.798</td>\n      <td>116</td>\n      <td>17060.89</td>\n    </tr>\n    <tr>\n      <th>10</th>\n      <td>2022-11-11 14:48:00</td>\n      <td>17207.30</td>\n      <td>17207.30</td>\n      <td>16901.00</td>\n      <td>16965.90</td>\n      <td>1650.344</td>\n      <td>116</td>\n      <td>17007.45</td>\n    </tr>\n    <tr>\n      <th>11</th>\n      <td>2022-11-11 14:49:00</td>\n      <td>16958.80</td>\n      <td>17067.60</td>\n      <td>16915.60</td>\n      <td>16941.00</td>\n      <td>1065.183</td>\n      <td>111</td>\n      <td>16990.48</td>\n    </tr>\n    <tr>\n      <th>12</th>\n      <td>2022-11-11 14:50:00</td>\n      <td>16945.10</td>\n      <td>17034.90</td>\n      <td>16918.20</td>\n      <td>17034.90</td>\n      <td>688.335</td>\n      <td>NaN</td>\n      <td>16968.65</td>\n    </tr>\n    <tr>\n      <th>13</th>\n      <td>2022-11-11 14:51:00</td>\n      <td>17011.40</td>\n      <td>17011.80</td>\n      <td>16865.70</td>\n      <td>16865.70</td>\n      <td>614.077</td>\n      <td>110</td>\n      <td>16944.63</td>\n    </tr>\n    <tr>\n      <th>14</th>\n      <td>2022-11-11 14:52:00</td>\n      <td>16880.00</td>\n      <td>16917.80</td>\n      <td>16801.50</td>\n      <td>16823.10</td>\n      <td>659.699</td>\n      <td>110</td>\n      <td>16851.31</td>\n    </tr>\n    <tr>\n      <th>15</th>\n      <td>2022-11-11 14:53:00</td>\n      <td>16816.40</td>\n      <td>16851.80</td>\n      <td>16760.30</td>\n      <td>16832.80</td>\n      <td>621.814</td>\n      <td>110</td>\n      <td>16813.59</td>\n    </tr>\n    <tr>\n      <th>16</th>\n      <td>2022-11-11 14:54:00</td>\n      <td>16835.80</td>\n      <td>16884.60</td>\n      <td>16824.00</td>\n      <td>16838.50</td>\n      <td>430.467</td>\n      <td>106</td>\n      <td>16858.69</td>\n    </tr>\n    <tr>\n      <th>17</th>\n      <td>2022-11-11 14:55:00</td>\n      <td>16831.00</td>\n      <td>16831.00</td>\n      <td>16750.00</td>\n      <td>16799.90</td>\n      <td>NaN</td>\n      <td>110</td>\n      <td>16786.95</td>\n    </tr>\n    <tr>\n      <th>18</th>\n      <td>2022-11-11 14:56:00</td>\n      <td>16798.00</td>\n      <td>16889.90</td>\n      <td>16795.00</td>\n      <td>16883.60</td>\n      <td>NaN</td>\n      <td>105</td>\n      <td>16849.72</td>\n    </tr>\n    <tr>\n      <th>19</th>\n      <td>2022-11-11 14:57:00</td>\n      <td>16883.50</td>\n      <td>16883.50</td>\n      <td>16836.30</td>\n      <td>16841.00</td>\n      <td>416.451</td>\n      <td>103</td>\n      <td>16859.45</td>\n    </tr>\n  </tbody>\n</table>\n</div>"
          },
          "metadata": {}
        }
      ]
    },
    {
      "cell_type": "markdown",
      "source": "<h4>Evaluating for Missing Data</h4>\n\nThe missing values are converted by default. We use the following functions to identify these missing values. There are two methods to detect missing data:\n\n<ol>\n    <li><b>.isnull()</b></li>\n    <li><b>.notnull()</b></li>\n</ol>\nThe output is a boolean value indicating whether the value that is passed into the argument is in fact missing data.\n",
      "metadata": {}
    },
    {
      "cell_type": "code",
      "source": "missing_data = df.isnull()\nmissing_data.head(5)",
      "metadata": {
        "trusted": true
      },
      "execution_count": 217,
      "outputs": [
        {
          "execution_count": 217,
          "output_type": "execute_result",
          "data": {
            "text/plain": "    time   open   high    low  close  volume  rec_count  avg_price\n0  False  False  False  False  False   False      False      False\n1  False  False  False  False  False   False      False      False\n2  False  False  False  False  False   False      False      False\n3  False  False  False  False  False   False      False      False\n4  False  False  False  False  False   False      False      False",
            "text/html": "<div>\n<style scoped>\n    .dataframe tbody tr th:only-of-type {\n        vertical-align: middle;\n    }\n\n    .dataframe tbody tr th {\n        vertical-align: top;\n    }\n\n    .dataframe thead th {\n        text-align: right;\n    }\n</style>\n<table border=\"1\" class=\"dataframe\">\n  <thead>\n    <tr style=\"text-align: right;\">\n      <th></th>\n      <th>time</th>\n      <th>open</th>\n      <th>high</th>\n      <th>low</th>\n      <th>close</th>\n      <th>volume</th>\n      <th>rec_count</th>\n      <th>avg_price</th>\n    </tr>\n  </thead>\n  <tbody>\n    <tr>\n      <th>0</th>\n      <td>False</td>\n      <td>False</td>\n      <td>False</td>\n      <td>False</td>\n      <td>False</td>\n      <td>False</td>\n      <td>False</td>\n      <td>False</td>\n    </tr>\n    <tr>\n      <th>1</th>\n      <td>False</td>\n      <td>False</td>\n      <td>False</td>\n      <td>False</td>\n      <td>False</td>\n      <td>False</td>\n      <td>False</td>\n      <td>False</td>\n    </tr>\n    <tr>\n      <th>2</th>\n      <td>False</td>\n      <td>False</td>\n      <td>False</td>\n      <td>False</td>\n      <td>False</td>\n      <td>False</td>\n      <td>False</td>\n      <td>False</td>\n    </tr>\n    <tr>\n      <th>3</th>\n      <td>False</td>\n      <td>False</td>\n      <td>False</td>\n      <td>False</td>\n      <td>False</td>\n      <td>False</td>\n      <td>False</td>\n      <td>False</td>\n    </tr>\n    <tr>\n      <th>4</th>\n      <td>False</td>\n      <td>False</td>\n      <td>False</td>\n      <td>False</td>\n      <td>False</td>\n      <td>False</td>\n      <td>False</td>\n      <td>False</td>\n    </tr>\n  </tbody>\n</table>\n</div>"
          },
          "metadata": {}
        }
      ]
    },
    {
      "cell_type": "markdown",
      "source": "\"True\" means the value is a missing value while \"False\" means the value is not a missing value.\n",
      "metadata": {}
    },
    {
      "cell_type": "markdown",
      "source": "<h4>Count missing values in each column</h4>\n<p>\nUsing a for loop in Python, we can quickly figure out the number of missing values in each column. As mentioned above, \"True\" represents a missing value and \"False\" means the value is present in the dataset.  In the body of the for loop the method \".value_counts()\" counts the number of \"True\" values. \n</p>\n",
      "metadata": {}
    },
    {
      "cell_type": "code",
      "source": "for column in missing_data.columns.values.tolist():\n    print(column)\n    print (missing_data[column].value_counts())\n    print(\"\")    ",
      "metadata": {
        "trusted": true
      },
      "execution_count": 218,
      "outputs": [
        {
          "name": "stdout",
          "text": "time\nFalse    67291\nName: time, dtype: int64\n\nopen\nFalse    62600\nTrue      4691\nName: open, dtype: int64\n\nhigh\nFalse    67291\nName: high, dtype: int64\n\nlow\nFalse    67291\nName: low, dtype: int64\n\nclose\nFalse    67291\nName: close, dtype: int64\n\nvolume\nFalse    62590\nTrue      4701\nName: volume, dtype: int64\n\nrec_count\nFalse    62501\nTrue      4790\nName: rec_count, dtype: int64\n\navg_price\nFalse    67291\nName: avg_price, dtype: int64\n\n",
          "output_type": "stream"
        }
      ]
    },
    {
      "cell_type": "markdown",
      "source": "Based on the summary above, each column has 67291 rows of data and two of the columns containing missing data:\n\n<ol>\n    <li>\"open\": +-4651 missing data</li>\n    <li>\"volume\": +-4651 missing data</li>\n    <li>\"rec_count\": +-4651 missing data</li>\n</ol>\n",
      "metadata": {}
    },
    {
      "cell_type": "markdown",
      "source": "<h3 id=\"deal_missing_values\">Deal with missing data</h3>\n<b>How to deal with missing data?</b>\n\n<ol>\n    <li>Drop data<br>\n        a. Drop the whole row<br>\n        b. Drop the whole column\n    </li>\n    <li>Replace data<br>\n        a. Replace it by mean<br>\n        b. Replace it by frequency<br>\n        c. Replace it based on other functions\n    </li>\n</ol>\n",
      "metadata": {}
    },
    {
      "cell_type": "markdown",
      "source": "<b>What is the interpolation?</b>\n\n<p>Interpolation is a process of calculating values based on known values. The interpolation is used to obtain intermediate values of properties, such as height, width, etc., during the process of their animation.</p>\n<b>Why we will use the interpolation?</b>\n<p><p>Because all our dataset is related to temporal changes, so for columns \"open\" and \"volume\" we will use interpolation.</p>\n<b>Replace by frequency:</b>\n\n<ul>\n    <li>\"rec_count\": +-4651 missing data, replace them with frequency</li>\n</ul>\n<b>Replace by interpolating:</b>\n\n<ul>\n    <li>\"open\": +-4651 missing data, replace them with interpolating</li>\n    <li>\"volume\": +-4651 missing data, replace them with interpolating</li>\n</ul>",
      "metadata": {}
    },
    {
      "cell_type": "markdown",
      "source": "<h4>Calculate the freq value for the \"rec_count\" column </h4>\n",
      "metadata": {}
    },
    {
      "cell_type": "markdown",
      "source": "To see which values are present in a particular column, we can use the \".value_counts()\" method:\n",
      "metadata": {}
    },
    {
      "cell_type": "code",
      "source": "df['rec_count'].value_counts()",
      "metadata": {
        "trusted": true
      },
      "execution_count": 219,
      "outputs": [
        {
          "execution_count": 219,
          "output_type": "execute_result",
          "data": {
            "text/plain": "25     1359\n23     1289\n27     1283\n22     1270\n29     1269\n       ... \n114       3\n118       2\n119       2\n122       1\n124       1\nName: rec_count, Length: 122, dtype: int64"
          },
          "metadata": {}
        }
      ]
    },
    {
      "cell_type": "markdown",
      "source": "We can see that '25' are the most common type. We can also use the \".idxmax()\" method to calculate the most common type automatically:\n",
      "metadata": {}
    },
    {
      "cell_type": "code",
      "source": "s = df['rec_count'].value_counts().idxmax()\ns",
      "metadata": {
        "trusted": true
      },
      "execution_count": 220,
      "outputs": [
        {
          "execution_count": 220,
          "output_type": "execute_result",
          "data": {
            "text/plain": "'25'"
          },
          "metadata": {}
        }
      ]
    },
    {
      "cell_type": "markdown",
      "source": "<h4>Replace \"NaN\" with freq value in \"rec_count\" column</h4>\n",
      "metadata": {}
    },
    {
      "cell_type": "code",
      "source": "df[\"rec_count\"].replace(np.nan, s, inplace=True)\ndf.head(20)",
      "metadata": {
        "trusted": true
      },
      "execution_count": 221,
      "outputs": [
        {
          "execution_count": 221,
          "output_type": "execute_result",
          "data": {
            "text/plain": "                   time     open     high      low    close    volume  \\\n0   2022-11-11 14:38:00 16540.10 16540.10 16486.50 16486.50   304.951   \n1   2022-11-11 14:39:00 16489.30 16493.30 16456.20 16462.10   319.262   \n2   2022-11-11 14:40:00 16465.50 16496.00 16447.40 16492.90   290.905   \n3   2022-11-11 14:41:00 16492.90 16547.10 16472.50 16543.00   314.045   \n4   2022-11-11 14:42:00 16540.20 16547.10 16498.20 16498.30   226.951   \n5   2022-11-11 14:43:00 16498.30 16548.80 16491.90 16499.80   219.362   \n6   2022-11-11 14:44:00 16502.30 16542.00 16502.30 16540.80   233.955   \n7   2022-11-11 14:45:00 16540.70 16746.00 16540.50 16742.70  1183.991   \n8   2022-11-11 14:46:00 16747.60 16829.40 16686.90 16829.40   1356.19   \n9   2022-11-11 14:47:00 16829.80 17285.20 16828.30 17212.90  2122.798   \n10  2022-11-11 14:48:00 17207.30 17207.30 16901.00 16965.90  1650.344   \n11  2022-11-11 14:49:00 16958.80 17067.60 16915.60 16941.00  1065.183   \n12  2022-11-11 14:50:00 16945.10 17034.90 16918.20 17034.90   688.335   \n13  2022-11-11 14:51:00 17011.40 17011.80 16865.70 16865.70   614.077   \n14  2022-11-11 14:52:00 16880.00 16917.80 16801.50 16823.10   659.699   \n15  2022-11-11 14:53:00 16816.40 16851.80 16760.30 16832.80   621.814   \n16  2022-11-11 14:54:00 16835.80 16884.60 16824.00 16838.50   430.467   \n17  2022-11-11 14:55:00 16831.00 16831.00 16750.00 16799.90       NaN   \n18  2022-11-11 14:56:00 16798.00 16889.90 16795.00 16883.60       NaN   \n19  2022-11-11 14:57:00 16883.50 16883.50 16836.30 16841.00   416.451   \n\n   rec_count  avg_price  \n0         97   16516.81  \n1        103   16473.84  \n2         99   16478.64  \n3         99   16516.50  \n4         99   16527.09  \n5         96   16519.31  \n6        101   16526.21  \n7        112   16639.43  \n8        113   16760.05  \n9        116   17060.89  \n10       116   17007.45  \n11       111   16990.48  \n12        25   16968.65  \n13       110   16944.63  \n14       110   16851.31  \n15       110   16813.59  \n16       106   16858.69  \n17       110   16786.95  \n18       105   16849.72  \n19       103   16859.45  ",
            "text/html": "<div>\n<style scoped>\n    .dataframe tbody tr th:only-of-type {\n        vertical-align: middle;\n    }\n\n    .dataframe tbody tr th {\n        vertical-align: top;\n    }\n\n    .dataframe thead th {\n        text-align: right;\n    }\n</style>\n<table border=\"1\" class=\"dataframe\">\n  <thead>\n    <tr style=\"text-align: right;\">\n      <th></th>\n      <th>time</th>\n      <th>open</th>\n      <th>high</th>\n      <th>low</th>\n      <th>close</th>\n      <th>volume</th>\n      <th>rec_count</th>\n      <th>avg_price</th>\n    </tr>\n  </thead>\n  <tbody>\n    <tr>\n      <th>0</th>\n      <td>2022-11-11 14:38:00</td>\n      <td>16540.10</td>\n      <td>16540.10</td>\n      <td>16486.50</td>\n      <td>16486.50</td>\n      <td>304.951</td>\n      <td>97</td>\n      <td>16516.81</td>\n    </tr>\n    <tr>\n      <th>1</th>\n      <td>2022-11-11 14:39:00</td>\n      <td>16489.30</td>\n      <td>16493.30</td>\n      <td>16456.20</td>\n      <td>16462.10</td>\n      <td>319.262</td>\n      <td>103</td>\n      <td>16473.84</td>\n    </tr>\n    <tr>\n      <th>2</th>\n      <td>2022-11-11 14:40:00</td>\n      <td>16465.50</td>\n      <td>16496.00</td>\n      <td>16447.40</td>\n      <td>16492.90</td>\n      <td>290.905</td>\n      <td>99</td>\n      <td>16478.64</td>\n    </tr>\n    <tr>\n      <th>3</th>\n      <td>2022-11-11 14:41:00</td>\n      <td>16492.90</td>\n      <td>16547.10</td>\n      <td>16472.50</td>\n      <td>16543.00</td>\n      <td>314.045</td>\n      <td>99</td>\n      <td>16516.50</td>\n    </tr>\n    <tr>\n      <th>4</th>\n      <td>2022-11-11 14:42:00</td>\n      <td>16540.20</td>\n      <td>16547.10</td>\n      <td>16498.20</td>\n      <td>16498.30</td>\n      <td>226.951</td>\n      <td>99</td>\n      <td>16527.09</td>\n    </tr>\n    <tr>\n      <th>5</th>\n      <td>2022-11-11 14:43:00</td>\n      <td>16498.30</td>\n      <td>16548.80</td>\n      <td>16491.90</td>\n      <td>16499.80</td>\n      <td>219.362</td>\n      <td>96</td>\n      <td>16519.31</td>\n    </tr>\n    <tr>\n      <th>6</th>\n      <td>2022-11-11 14:44:00</td>\n      <td>16502.30</td>\n      <td>16542.00</td>\n      <td>16502.30</td>\n      <td>16540.80</td>\n      <td>233.955</td>\n      <td>101</td>\n      <td>16526.21</td>\n    </tr>\n    <tr>\n      <th>7</th>\n      <td>2022-11-11 14:45:00</td>\n      <td>16540.70</td>\n      <td>16746.00</td>\n      <td>16540.50</td>\n      <td>16742.70</td>\n      <td>1183.991</td>\n      <td>112</td>\n      <td>16639.43</td>\n    </tr>\n    <tr>\n      <th>8</th>\n      <td>2022-11-11 14:46:00</td>\n      <td>16747.60</td>\n      <td>16829.40</td>\n      <td>16686.90</td>\n      <td>16829.40</td>\n      <td>1356.19</td>\n      <td>113</td>\n      <td>16760.05</td>\n    </tr>\n    <tr>\n      <th>9</th>\n      <td>2022-11-11 14:47:00</td>\n      <td>16829.80</td>\n      <td>17285.20</td>\n      <td>16828.30</td>\n      <td>17212.90</td>\n      <td>2122.798</td>\n      <td>116</td>\n      <td>17060.89</td>\n    </tr>\n    <tr>\n      <th>10</th>\n      <td>2022-11-11 14:48:00</td>\n      <td>17207.30</td>\n      <td>17207.30</td>\n      <td>16901.00</td>\n      <td>16965.90</td>\n      <td>1650.344</td>\n      <td>116</td>\n      <td>17007.45</td>\n    </tr>\n    <tr>\n      <th>11</th>\n      <td>2022-11-11 14:49:00</td>\n      <td>16958.80</td>\n      <td>17067.60</td>\n      <td>16915.60</td>\n      <td>16941.00</td>\n      <td>1065.183</td>\n      <td>111</td>\n      <td>16990.48</td>\n    </tr>\n    <tr>\n      <th>12</th>\n      <td>2022-11-11 14:50:00</td>\n      <td>16945.10</td>\n      <td>17034.90</td>\n      <td>16918.20</td>\n      <td>17034.90</td>\n      <td>688.335</td>\n      <td>25</td>\n      <td>16968.65</td>\n    </tr>\n    <tr>\n      <th>13</th>\n      <td>2022-11-11 14:51:00</td>\n      <td>17011.40</td>\n      <td>17011.80</td>\n      <td>16865.70</td>\n      <td>16865.70</td>\n      <td>614.077</td>\n      <td>110</td>\n      <td>16944.63</td>\n    </tr>\n    <tr>\n      <th>14</th>\n      <td>2022-11-11 14:52:00</td>\n      <td>16880.00</td>\n      <td>16917.80</td>\n      <td>16801.50</td>\n      <td>16823.10</td>\n      <td>659.699</td>\n      <td>110</td>\n      <td>16851.31</td>\n    </tr>\n    <tr>\n      <th>15</th>\n      <td>2022-11-11 14:53:00</td>\n      <td>16816.40</td>\n      <td>16851.80</td>\n      <td>16760.30</td>\n      <td>16832.80</td>\n      <td>621.814</td>\n      <td>110</td>\n      <td>16813.59</td>\n    </tr>\n    <tr>\n      <th>16</th>\n      <td>2022-11-11 14:54:00</td>\n      <td>16835.80</td>\n      <td>16884.60</td>\n      <td>16824.00</td>\n      <td>16838.50</td>\n      <td>430.467</td>\n      <td>106</td>\n      <td>16858.69</td>\n    </tr>\n    <tr>\n      <th>17</th>\n      <td>2022-11-11 14:55:00</td>\n      <td>16831.00</td>\n      <td>16831.00</td>\n      <td>16750.00</td>\n      <td>16799.90</td>\n      <td>NaN</td>\n      <td>110</td>\n      <td>16786.95</td>\n    </tr>\n    <tr>\n      <th>18</th>\n      <td>2022-11-11 14:56:00</td>\n      <td>16798.00</td>\n      <td>16889.90</td>\n      <td>16795.00</td>\n      <td>16883.60</td>\n      <td>NaN</td>\n      <td>105</td>\n      <td>16849.72</td>\n    </tr>\n    <tr>\n      <th>19</th>\n      <td>2022-11-11 14:57:00</td>\n      <td>16883.50</td>\n      <td>16883.50</td>\n      <td>16836.30</td>\n      <td>16841.00</td>\n      <td>416.451</td>\n      <td>103</td>\n      <td>16859.45</td>\n    </tr>\n  </tbody>\n</table>\n</div>"
          },
          "metadata": {}
        }
      ]
    },
    {
      "cell_type": "markdown",
      "source": "<h4>Fill all NaN in the \"open\" column by interpolating</h4>",
      "metadata": {}
    },
    {
      "cell_type": "markdown",
      "source": "Check which method is better for our dataset:",
      "metadata": {}
    },
    {
      "cell_type": "code",
      "source": "from sklearn.metrics import mean_squared_error, mean_absolute_percentage_error\n\n#make DataFrame for result\nres = pd.DataFrame({\"Method\":[], \"Accuracy\":[], \"Percent(%)\":[]})\n\n#all methods\nmethods = ['linear', 'nearest', 'quadratic', 'cubic', 'from_derivatives', 'piecewise_polynomial', 'pchip', 'akima', 'cubicspline']\n#methods with order \nother = ['polynomial','slinear']\n\n#test all methods for func 'pabdas.interpolate'\nfor method in methods:\n    #check in which rows were NaN values\n    rows = acdf[\"open\"].isna()\n    #use one method\n    interpolation_check = df[\"open\"].interpolate(method = method)\n    # calculate accuracy by 'mean_squared_error[ and percent of accuracy by 'mean_absolute_percentage_error'\n    accuracy = mean_squared_error(newdf.loc[rows, \"open\"], interpolation_check[rows])\n    percent = mean_absolute_percentage_error(newdf.loc[rows, \"open\"], interpolation_check[rows])\n    # write a result in our dataframe\n    res.loc[len(res.index)] = [method, accuracy, percent*100]\nfor method in other:\n    for order in [3,7]:\n        rows = acdf[\"open\"].isna()\n        interpolation_check = df[\"open\"].interpolate(method = method, order=order)\n        accuracy = mean_squared_error(newdf.loc[rows, \"open\"], interpolation_check[rows])\n        percent = mean_absolute_percentage_error(newdf.loc[rows, \"open\"], interpolation_check[rows])\n        res.loc[len(res.index)] = [f'{method}_{order}', accuracy, percent*100]\n\n#set precision 15\npd.options.display.float_format = '{:.15f}'.format\n#let's look at our result\nres.sort_values(by = \"Accuracy\", ascending = True).head(20)",
      "metadata": {
        "trusted": true
      },
      "execution_count": 222,
      "outputs": [
        {
          "execution_count": 222,
          "output_type": "execute_result",
          "data": {
            "text/plain": "                  Method            Accuracy        Percent(%)\n11             slinear_3  41.531989909756398 0.020961232459384\n12             slinear_7  41.531989909756398 0.020961232459384\n0                 linear  41.531989909756462 0.020961232459384\n4       from_derivatives  41.531989909756490 0.020961232459384\n5   piecewise_polynomial  41.531989909756490 0.020961232459384\n6                  pchip  41.758633004536136 0.021071305707376\n7                  akima  42.605183301714902 0.021278791261907\n2              quadratic  51.281165757121165 0.023400699150298\n8            cubicspline  54.271057868512479 0.024113966312833\n3                  cubic  54.271057868513289 0.024113966312833\n9           polynomial_3  54.271057868513289 0.024113966312833\n1                nearest  74.037520784481202 0.027417310002817\n10          polynomial_7 110.328284288102182 0.032710701259418",
            "text/html": "<div>\n<style scoped>\n    .dataframe tbody tr th:only-of-type {\n        vertical-align: middle;\n    }\n\n    .dataframe tbody tr th {\n        vertical-align: top;\n    }\n\n    .dataframe thead th {\n        text-align: right;\n    }\n</style>\n<table border=\"1\" class=\"dataframe\">\n  <thead>\n    <tr style=\"text-align: right;\">\n      <th></th>\n      <th>Method</th>\n      <th>Accuracy</th>\n      <th>Percent(%)</th>\n    </tr>\n  </thead>\n  <tbody>\n    <tr>\n      <th>11</th>\n      <td>slinear_3</td>\n      <td>41.531989909756398</td>\n      <td>0.020961232459384</td>\n    </tr>\n    <tr>\n      <th>12</th>\n      <td>slinear_7</td>\n      <td>41.531989909756398</td>\n      <td>0.020961232459384</td>\n    </tr>\n    <tr>\n      <th>0</th>\n      <td>linear</td>\n      <td>41.531989909756462</td>\n      <td>0.020961232459384</td>\n    </tr>\n    <tr>\n      <th>4</th>\n      <td>from_derivatives</td>\n      <td>41.531989909756490</td>\n      <td>0.020961232459384</td>\n    </tr>\n    <tr>\n      <th>5</th>\n      <td>piecewise_polynomial</td>\n      <td>41.531989909756490</td>\n      <td>0.020961232459384</td>\n    </tr>\n    <tr>\n      <th>6</th>\n      <td>pchip</td>\n      <td>41.758633004536136</td>\n      <td>0.021071305707376</td>\n    </tr>\n    <tr>\n      <th>7</th>\n      <td>akima</td>\n      <td>42.605183301714902</td>\n      <td>0.021278791261907</td>\n    </tr>\n    <tr>\n      <th>2</th>\n      <td>quadratic</td>\n      <td>51.281165757121165</td>\n      <td>0.023400699150298</td>\n    </tr>\n    <tr>\n      <th>8</th>\n      <td>cubicspline</td>\n      <td>54.271057868512479</td>\n      <td>0.024113966312833</td>\n    </tr>\n    <tr>\n      <th>3</th>\n      <td>cubic</td>\n      <td>54.271057868513289</td>\n      <td>0.024113966312833</td>\n    </tr>\n    <tr>\n      <th>9</th>\n      <td>polynomial_3</td>\n      <td>54.271057868513289</td>\n      <td>0.024113966312833</td>\n    </tr>\n    <tr>\n      <th>1</th>\n      <td>nearest</td>\n      <td>74.037520784481202</td>\n      <td>0.027417310002817</td>\n    </tr>\n    <tr>\n      <th>10</th>\n      <td>polynomial_7</td>\n      <td>110.328284288102182</td>\n      <td>0.032710701259418</td>\n    </tr>\n  </tbody>\n</table>\n</div>"
          },
          "metadata": {}
        }
      ]
    },
    {
      "cell_type": "markdown",
      "source": "So we will use the method 'from_derivatives':",
      "metadata": {}
    },
    {
      "cell_type": "code",
      "source": "df[\"open\"].interpolate(method = 'from_derivatives', inplace=True)",
      "metadata": {
        "trusted": true
      },
      "execution_count": 223,
      "outputs": []
    },
    {
      "cell_type": "markdown",
      "source": "Now let's check if the values have changed:",
      "metadata": {}
    },
    {
      "cell_type": "code",
      "source": "missing_data = df.isnull()\nprint(\"open\")\nprint (missing_data[\"open\"].value_counts())\nprint(\"\")    ",
      "metadata": {
        "trusted": true
      },
      "execution_count": 224,
      "outputs": [
        {
          "name": "stdout",
          "text": "open\nFalse    67291\nName: open, dtype: int64\n\n",
          "output_type": "stream"
        }
      ]
    },
    {
      "cell_type": "markdown",
      "source": "The replacement procedure is very similar to what we have seen previously:\n",
      "metadata": {}
    },
    {
      "cell_type": "markdown",
      "source": "```python\n#replace the missing 'col1' values by the most frequent \ndf[\"col1\"].replace(val1, val2, inplace=True)\n```",
      "metadata": {}
    },
    {
      "cell_type": "markdown",
      "source": "Also we can drop rows, where we can't change NaN. For example:\n\n```python \n# simply drop whole row with NaN in \"col1\" column\ndf.dropna(subset=[\"col1\"], axis=0, inplace=True)\n\n# reset index, because we droped some rows\ndf.reset_index(drop=True, inplace=True)\n```",
      "metadata": {}
    },
    {
      "cell_type": "markdown",
      "source": "<div class=\"alert alert-danger alertdanger\" style=\"margin-top: 20px\">\n<h1> Question  #1: </h1>\n\n<b>Based on the example above, replace NaN in \"volume\" column with the interpolation and mathod 'linear'.</b>\n\n</div>\n",
      "metadata": {}
    },
    {
      "cell_type": "code",
      "source": "# Write your code below and press Shift+Enter to execute\n",
      "metadata": {
        "trusted": true
      },
      "execution_count": 225,
      "outputs": []
    },
    {
      "cell_type": "markdown",
      "source": "<details><summary>Click here for the solution</summary>\n\n```python\n#replace Nan in column volumn by method linear \ndf[\"volume\"].interpolate(method = 'linear', inplace=True)\ndf.head()\n```\n\n</details>\n",
      "metadata": {}
    },
    {
      "cell_type": "code",
      "source": "# set precision 2\npd.options.display.float_format = '{:.2f}'.format\ndf.head()",
      "metadata": {
        "trusted": true
      },
      "execution_count": 226,
      "outputs": [
        {
          "execution_count": 226,
          "output_type": "execute_result",
          "data": {
            "text/plain": "                  time     open     high      low    close   volume rec_count  \\\n0  2022-11-11 14:38:00 16540.10 16540.10 16486.50 16486.50  304.951        97   \n1  2022-11-11 14:39:00 16489.30 16493.30 16456.20 16462.10  319.262       103   \n2  2022-11-11 14:40:00 16465.50 16496.00 16447.40 16492.90  290.905        99   \n3  2022-11-11 14:41:00 16492.90 16547.10 16472.50 16543.00  314.045        99   \n4  2022-11-11 14:42:00 16540.20 16547.10 16498.20 16498.30  226.951        99   \n\n   avg_price  \n0   16516.81  \n1   16473.84  \n2   16478.64  \n3   16516.50  \n4   16527.09  ",
            "text/html": "<div>\n<style scoped>\n    .dataframe tbody tr th:only-of-type {\n        vertical-align: middle;\n    }\n\n    .dataframe tbody tr th {\n        vertical-align: top;\n    }\n\n    .dataframe thead th {\n        text-align: right;\n    }\n</style>\n<table border=\"1\" class=\"dataframe\">\n  <thead>\n    <tr style=\"text-align: right;\">\n      <th></th>\n      <th>time</th>\n      <th>open</th>\n      <th>high</th>\n      <th>low</th>\n      <th>close</th>\n      <th>volume</th>\n      <th>rec_count</th>\n      <th>avg_price</th>\n    </tr>\n  </thead>\n  <tbody>\n    <tr>\n      <th>0</th>\n      <td>2022-11-11 14:38:00</td>\n      <td>16540.10</td>\n      <td>16540.10</td>\n      <td>16486.50</td>\n      <td>16486.50</td>\n      <td>304.951</td>\n      <td>97</td>\n      <td>16516.81</td>\n    </tr>\n    <tr>\n      <th>1</th>\n      <td>2022-11-11 14:39:00</td>\n      <td>16489.30</td>\n      <td>16493.30</td>\n      <td>16456.20</td>\n      <td>16462.10</td>\n      <td>319.262</td>\n      <td>103</td>\n      <td>16473.84</td>\n    </tr>\n    <tr>\n      <th>2</th>\n      <td>2022-11-11 14:40:00</td>\n      <td>16465.50</td>\n      <td>16496.00</td>\n      <td>16447.40</td>\n      <td>16492.90</td>\n      <td>290.905</td>\n      <td>99</td>\n      <td>16478.64</td>\n    </tr>\n    <tr>\n      <th>3</th>\n      <td>2022-11-11 14:41:00</td>\n      <td>16492.90</td>\n      <td>16547.10</td>\n      <td>16472.50</td>\n      <td>16543.00</td>\n      <td>314.045</td>\n      <td>99</td>\n      <td>16516.50</td>\n    </tr>\n    <tr>\n      <th>4</th>\n      <td>2022-11-11 14:42:00</td>\n      <td>16540.20</td>\n      <td>16547.10</td>\n      <td>16498.20</td>\n      <td>16498.30</td>\n      <td>226.951</td>\n      <td>99</td>\n      <td>16527.09</td>\n    </tr>\n  </tbody>\n</table>\n</div>"
          },
          "metadata": {}
        }
      ]
    },
    {
      "cell_type": "markdown",
      "source": "<b>Good!</b> Now, we have a dataset with no missing values.\n",
      "metadata": {}
    },
    {
      "cell_type": "markdown",
      "source": "<h3 id=\"correct_data_format\">Correct data format</h3>\n<b>We are almost there!</b>\n<p>The last step in data cleaning is checking and making sure that all data is in the correct format (int, float, text or other).</p>\n\nIn Pandas, we use:\n\n<p><b>.dtype()</b> to check the data type</p>\n<p><b>.astype()</b> to change the data type</p>\n",
      "metadata": {}
    },
    {
      "cell_type": "markdown",
      "source": "<h4>Let's list the data types for each column</h4>\n",
      "metadata": {}
    },
    {
      "cell_type": "code",
      "source": "df.dtypes",
      "metadata": {
        "trusted": true
      },
      "execution_count": 227,
      "outputs": [
        {
          "execution_count": 227,
          "output_type": "execute_result",
          "data": {
            "text/plain": "time          object\nopen         float64\nhigh         float64\nlow          float64\nclose        float64\nvolume        object\nrec_count     object\navg_price    float64\ndtype: object"
          },
          "metadata": {}
        }
      ]
    },
    {
      "cell_type": "markdown",
      "source": "<p>As we can see above, some columns are not of the correct data type. Numerical variables should have type 'float' or 'int', and variables with strings such as categories should have type 'object'. For example, 'volume' and 'rec_count' variables are numerical values that describe the trade, so we should expect them to be of the type 'float' or 'int'; however, they are shown as type 'object'. We have to convert data types into a proper format for each column using the \"astype()\" method.</p> \n",
      "metadata": {}
    },
    {
      "cell_type": "markdown",
      "source": "<h4>Convert data types to proper format</h4>\n",
      "metadata": {}
    },
    {
      "cell_type": "code",
      "source": "df[[\"volume\"]] = df[[\"volume\"]].astype(\"float\")\ndf[[\"time\"]] = df[[\"time\"]].astype(\"datetime64\")\ndf[[\"rec_count\"]] = df[[\"rec_count\"]].astype(\"int\")",
      "metadata": {
        "trusted": true
      },
      "execution_count": 228,
      "outputs": []
    },
    {
      "cell_type": "markdown",
      "source": "<h4>Let us list the columns after the conversion</h4>\n",
      "metadata": {}
    },
    {
      "cell_type": "code",
      "source": "df.dtypes",
      "metadata": {
        "trusted": true
      },
      "execution_count": 229,
      "outputs": [
        {
          "execution_count": 229,
          "output_type": "execute_result",
          "data": {
            "text/plain": "time         datetime64[ns]\nopen                float64\nhigh                float64\nlow                 float64\nclose               float64\nvolume              float64\nrec_count             int32\navg_price           float64\ndtype: object"
          },
          "metadata": {}
        }
      ]
    },
    {
      "cell_type": "markdown",
      "source": "<b>Wonderful!</b>\n\nNow we have finally obtained the cleaned dataset with no missing values with all data in its proper format.\n",
      "metadata": {}
    },
    {
      "cell_type": "markdown",
      "source": "<h2 id=\"data_standardization\">Data Standardization</h2>\n<p>\nData is usually collected from different agencies in different formats.\n(Data standardization is also a term for a particular type of data normalization where we subtract the mean and divide by the standard deviation.)\n</p>\n\n<b>What is standardization?</b>\n\n<p>Standardization is the process of transforming data into a common format, allowing the researcher to make the meaningful comparison.\n</p>\n\n<b>Example</b>\n\n<p>Transform USDT to EUR:</p>\n<p>In our dataset, the fuel consumption columns \"avg_price\",\"open\", \"close\",\"high\" and \"low\" are represented by BUSD (BUSD per BTC). Assume we are developing an application in a country that accepts the EUR standard.</p>\n<p>We will need to apply <b>data transformation</b> to transform BUSD into EUR.</p>\n",
      "metadata": {}
    },
    {
      "cell_type": "markdown",
      "source": "<p>The formula for unit conversion is:<p>\n1 USDT = 0.92 EUR  (24.01.2023)\n<p>We can do many mathematical operations directly in Pandas.</p>\n",
      "metadata": {}
    },
    {
      "cell_type": "code",
      "source": "# Convert BUSD to EUR by mathematical operation\nres = await pyfetch(\"https://api.binance.com/sapi/v1/convert/exchangeInfo?fromAsset=BUSD&toAsset=EUR\")\n# If the api is unavailable we set fixed rate\n# status code 200 is successful operation\nif res.status != 200:\n    rate = 0.92\nelse:\n    # Converting json to dict\n    res = await res.json()\n    # get our currency from json\n    rate = float(res[0][\"toAssetMinAmount\"])\n    \nprint(f\"The exchange rate is 1 BUSD = {rate} EUR\")",
      "metadata": {
        "trusted": true
      },
      "execution_count": 291,
      "outputs": [
        {
          "name": "stdout",
          "text": "The exchange rate is 1 BUSD = 0.92 EUR\n",
          "output_type": "stream"
        }
      ]
    },
    {
      "cell_type": "code",
      "source": "# Convert USDT to EUR by mathematical operation (0.92 * price)\ndf['avg_price_eur'] = rate*df[\"avg_price\"]\ndf['open_eur'] = rate*df[\"open\"]\ndf['high_eur'] = rate*df[\"high\"]\ndf['low_eur'] = rate*df[\"low\"]\n\n# check your transformed data \ndf.head()",
      "metadata": {
        "trusted": true
      },
      "execution_count": 231,
      "outputs": [
        {
          "execution_count": 231,
          "output_type": "execute_result",
          "data": {
            "text/plain": "                 time     open     high      low    close  volume  rec_count  \\\n0 2022-11-11 14:38:00 16540.10 16540.10 16486.50 16486.50  304.95         97   \n1 2022-11-11 14:39:00 16489.30 16493.30 16456.20 16462.10  319.26        103   \n2 2022-11-11 14:40:00 16465.50 16496.00 16447.40 16492.90  290.90         99   \n3 2022-11-11 14:41:00 16492.90 16547.10 16472.50 16543.00  314.05         99   \n4 2022-11-11 14:42:00 16540.20 16547.10 16498.20 16498.30  226.95         99   \n\n   avg_price  avg_price_eur  open_eur  high_eur  low_eur  \n0   16516.81       15195.46  15216.89  15216.89 15167.58  \n1   16473.84       15155.94  15170.16  15173.84 15139.70  \n2   16478.64       15160.35  15148.26  15176.32 15131.61  \n3   16516.50       15195.18  15173.47  15223.33 15154.70  \n4   16527.09       15204.93  15216.98  15223.33 15178.34  ",
            "text/html": "<div>\n<style scoped>\n    .dataframe tbody tr th:only-of-type {\n        vertical-align: middle;\n    }\n\n    .dataframe tbody tr th {\n        vertical-align: top;\n    }\n\n    .dataframe thead th {\n        text-align: right;\n    }\n</style>\n<table border=\"1\" class=\"dataframe\">\n  <thead>\n    <tr style=\"text-align: right;\">\n      <th></th>\n      <th>time</th>\n      <th>open</th>\n      <th>high</th>\n      <th>low</th>\n      <th>close</th>\n      <th>volume</th>\n      <th>rec_count</th>\n      <th>avg_price</th>\n      <th>avg_price_eur</th>\n      <th>open_eur</th>\n      <th>high_eur</th>\n      <th>low_eur</th>\n    </tr>\n  </thead>\n  <tbody>\n    <tr>\n      <th>0</th>\n      <td>2022-11-11 14:38:00</td>\n      <td>16540.10</td>\n      <td>16540.10</td>\n      <td>16486.50</td>\n      <td>16486.50</td>\n      <td>304.95</td>\n      <td>97</td>\n      <td>16516.81</td>\n      <td>15195.46</td>\n      <td>15216.89</td>\n      <td>15216.89</td>\n      <td>15167.58</td>\n    </tr>\n    <tr>\n      <th>1</th>\n      <td>2022-11-11 14:39:00</td>\n      <td>16489.30</td>\n      <td>16493.30</td>\n      <td>16456.20</td>\n      <td>16462.10</td>\n      <td>319.26</td>\n      <td>103</td>\n      <td>16473.84</td>\n      <td>15155.94</td>\n      <td>15170.16</td>\n      <td>15173.84</td>\n      <td>15139.70</td>\n    </tr>\n    <tr>\n      <th>2</th>\n      <td>2022-11-11 14:40:00</td>\n      <td>16465.50</td>\n      <td>16496.00</td>\n      <td>16447.40</td>\n      <td>16492.90</td>\n      <td>290.90</td>\n      <td>99</td>\n      <td>16478.64</td>\n      <td>15160.35</td>\n      <td>15148.26</td>\n      <td>15176.32</td>\n      <td>15131.61</td>\n    </tr>\n    <tr>\n      <th>3</th>\n      <td>2022-11-11 14:41:00</td>\n      <td>16492.90</td>\n      <td>16547.10</td>\n      <td>16472.50</td>\n      <td>16543.00</td>\n      <td>314.05</td>\n      <td>99</td>\n      <td>16516.50</td>\n      <td>15195.18</td>\n      <td>15173.47</td>\n      <td>15223.33</td>\n      <td>15154.70</td>\n    </tr>\n    <tr>\n      <th>4</th>\n      <td>2022-11-11 14:42:00</td>\n      <td>16540.20</td>\n      <td>16547.10</td>\n      <td>16498.20</td>\n      <td>16498.30</td>\n      <td>226.95</td>\n      <td>99</td>\n      <td>16527.09</td>\n      <td>15204.93</td>\n      <td>15216.98</td>\n      <td>15223.33</td>\n      <td>15178.34</td>\n    </tr>\n  </tbody>\n</table>\n</div>"
          },
          "metadata": {}
        }
      ]
    },
    {
      "cell_type": "markdown",
      "source": "<div class=\"alert alert-danger alertdanger\" style=\"margin-top: 20px\">\n<h1> Question  #2: </h1>\n\n<b>According to the example above, transform BUSD to USDT in the column of \"close\",write data in the column \"close_USDT\".</b>\n\n</div>\n",
      "metadata": {}
    },
    {
      "cell_type": "code",
      "source": "# Write your code below and press Shift+Enter to execute \n",
      "metadata": {
        "trusted": true
      },
      "execution_count": 232,
      "outputs": []
    },
    {
      "cell_type": "markdown",
      "source": "<details><summary>Click here for the solution</summary>\n\n```python\n\n# Convert BUSD to EUR by mathematical operation\nres = await pyfetch(\"https://api.binance.com/sapi/v1/convert/exchangeInfo?fromAsset=BUSD&toAsset=USDT\")\n# If the api is unavailable we set fixed rate\nif res.status != 200:\n    rate = 0.9971\nelse:\n    # Converting json to dict\n    res = await res.json()\n    rate = float(res[0][\"toAssetMinAmount\"])\n    \nprint(f\"The exchange rate is 1 BUSD = {rate} USDT\")\n    \ndf['close_USDT'] = rate*df[\"close\"]\n```\n\n</details>\n",
      "metadata": {}
    },
    {
      "cell_type": "markdown",
      "source": "<h2 id=\"data_normalization\">Data Normalization</h2>\n\n<b>Why normalization?</b>\n\n<p>Normalization is the process of transforming values of several variables into a similar range. Typical normalizations include scaling the variable so the variable average is 0, scaling the variable so the variance is 1, or scaling the variable so the variable values range from 0 to 1.\n</p>\n\n<b>Example</b>\n\n<p>To demonstrate normalization, let's say we want to scale the columns \"volume\" and \"rec_count\".</p>\n<p><b>Target:</b> would like to normalize those variables so their value ranges from 0 to 1</p>\n<p><b>Approach:</b> create a new column with value by sklearn.preprocessing.MinMaxScaler</p>\n",
      "metadata": {}
    },
    {
      "cell_type": "code",
      "source": "# Normalization with sklearn.preprocessing.MinMaxScaler\nfrom sklearn.preprocessing import MinMaxScaler\n\nscaler = MinMaxScaler()\nscaler.fit(df[['volume','rec_count']])\ndf[['volume_norm','rec_counter_norm']]=scaler.transform(df[['volume','rec_count']])\nprint(df[['volume_norm','rec_counter_norm']])",
      "metadata": {
        "trusted": true
      },
      "execution_count": 233,
      "outputs": [
        {
          "name": "stdout",
          "text": "       volume_norm  rec_counter_norm\n0             0.08              0.78\n1             0.08              0.83\n2             0.07              0.80\n3             0.08              0.80\n4             0.06              0.80\n...            ...               ...\n67286         0.00              0.07\n67287         0.00              0.11\n67288         0.00              0.06\n67289         0.00              0.08\n67290         0.00              0.11\n\n[67291 rows x 2 columns]\n",
          "output_type": "stream"
        }
      ]
    },
    {
      "cell_type": "markdown",
      "source": "Also you can use sklearn.preprocessing.Normalizer:\n```python\n#second method to normalize columns\nfrom sklearn.preprocessing import Normalizer\n\ntransformer = Normalizer().fit(dataframe[['col1','col2']])  # fit does nothing.\ntransformer.transform(dataframe[['col1','col2']])\n```",
      "metadata": {}
    },
    {
      "cell_type": "code",
      "source": "df.head()",
      "metadata": {
        "trusted": true
      },
      "execution_count": 234,
      "outputs": [
        {
          "execution_count": 234,
          "output_type": "execute_result",
          "data": {
            "text/plain": "                 time     open     high      low    close  volume  rec_count  \\\n0 2022-11-11 14:38:00 16540.10 16540.10 16486.50 16486.50  304.95         97   \n1 2022-11-11 14:39:00 16489.30 16493.30 16456.20 16462.10  319.26        103   \n2 2022-11-11 14:40:00 16465.50 16496.00 16447.40 16492.90  290.90         99   \n3 2022-11-11 14:41:00 16492.90 16547.10 16472.50 16543.00  314.05         99   \n4 2022-11-11 14:42:00 16540.20 16547.10 16498.20 16498.30  226.95         99   \n\n   avg_price  avg_price_eur  open_eur  high_eur  low_eur  volume_norm  \\\n0   16516.81       15195.46  15216.89  15216.89 15167.58         0.08   \n1   16473.84       15155.94  15170.16  15173.84 15139.70         0.08   \n2   16478.64       15160.35  15148.26  15176.32 15131.61         0.07   \n3   16516.50       15195.18  15173.47  15223.33 15154.70         0.08   \n4   16527.09       15204.93  15216.98  15223.33 15178.34         0.06   \n\n   rec_counter_norm  \n0              0.78  \n1              0.83  \n2              0.80  \n3              0.80  \n4              0.80  ",
            "text/html": "<div>\n<style scoped>\n    .dataframe tbody tr th:only-of-type {\n        vertical-align: middle;\n    }\n\n    .dataframe tbody tr th {\n        vertical-align: top;\n    }\n\n    .dataframe thead th {\n        text-align: right;\n    }\n</style>\n<table border=\"1\" class=\"dataframe\">\n  <thead>\n    <tr style=\"text-align: right;\">\n      <th></th>\n      <th>time</th>\n      <th>open</th>\n      <th>high</th>\n      <th>low</th>\n      <th>close</th>\n      <th>volume</th>\n      <th>rec_count</th>\n      <th>avg_price</th>\n      <th>avg_price_eur</th>\n      <th>open_eur</th>\n      <th>high_eur</th>\n      <th>low_eur</th>\n      <th>volume_norm</th>\n      <th>rec_counter_norm</th>\n    </tr>\n  </thead>\n  <tbody>\n    <tr>\n      <th>0</th>\n      <td>2022-11-11 14:38:00</td>\n      <td>16540.10</td>\n      <td>16540.10</td>\n      <td>16486.50</td>\n      <td>16486.50</td>\n      <td>304.95</td>\n      <td>97</td>\n      <td>16516.81</td>\n      <td>15195.46</td>\n      <td>15216.89</td>\n      <td>15216.89</td>\n      <td>15167.58</td>\n      <td>0.08</td>\n      <td>0.78</td>\n    </tr>\n    <tr>\n      <th>1</th>\n      <td>2022-11-11 14:39:00</td>\n      <td>16489.30</td>\n      <td>16493.30</td>\n      <td>16456.20</td>\n      <td>16462.10</td>\n      <td>319.26</td>\n      <td>103</td>\n      <td>16473.84</td>\n      <td>15155.94</td>\n      <td>15170.16</td>\n      <td>15173.84</td>\n      <td>15139.70</td>\n      <td>0.08</td>\n      <td>0.83</td>\n    </tr>\n    <tr>\n      <th>2</th>\n      <td>2022-11-11 14:40:00</td>\n      <td>16465.50</td>\n      <td>16496.00</td>\n      <td>16447.40</td>\n      <td>16492.90</td>\n      <td>290.90</td>\n      <td>99</td>\n      <td>16478.64</td>\n      <td>15160.35</td>\n      <td>15148.26</td>\n      <td>15176.32</td>\n      <td>15131.61</td>\n      <td>0.07</td>\n      <td>0.80</td>\n    </tr>\n    <tr>\n      <th>3</th>\n      <td>2022-11-11 14:41:00</td>\n      <td>16492.90</td>\n      <td>16547.10</td>\n      <td>16472.50</td>\n      <td>16543.00</td>\n      <td>314.05</td>\n      <td>99</td>\n      <td>16516.50</td>\n      <td>15195.18</td>\n      <td>15173.47</td>\n      <td>15223.33</td>\n      <td>15154.70</td>\n      <td>0.08</td>\n      <td>0.80</td>\n    </tr>\n    <tr>\n      <th>4</th>\n      <td>2022-11-11 14:42:00</td>\n      <td>16540.20</td>\n      <td>16547.10</td>\n      <td>16498.20</td>\n      <td>16498.30</td>\n      <td>226.95</td>\n      <td>99</td>\n      <td>16527.09</td>\n      <td>15204.93</td>\n      <td>15216.98</td>\n      <td>15223.33</td>\n      <td>15178.34</td>\n      <td>0.06</td>\n      <td>0.80</td>\n    </tr>\n  </tbody>\n</table>\n</div>"
          },
          "metadata": {}
        }
      ]
    },
    {
      "cell_type": "markdown",
      "source": "Here we can see we've normalized \"volume\" and \"rec_count\" in the range of \\[0,1].\n",
      "metadata": {}
    },
    {
      "cell_type": "markdown",
      "source": "<div class=\"alert alert-danger alertdanger\" style=\"margin-top: 20px\">\n<h1> Question #3: </h1>\n\n<b>According to the example above, normalize the columns \"volume\" and \"rec_count\" by second way.</b>\n\n</div>\n",
      "metadata": {}
    },
    {
      "cell_type": "code",
      "source": "# Write your code below and press Shift+Enter to execute \n",
      "metadata": {
        "trusted": true
      },
      "execution_count": 235,
      "outputs": []
    },
    {
      "cell_type": "markdown",
      "source": "<details><summary>Click here for the solution</summary>\n\n```python\n#second method to normalize columns\nfrom sklearn.preprocessing import Normalizer\n\ntransformer = Normalizer().fit(dataframe[['volume','rec_count']])  # fit does nothing.\ntransformer.transform(dataframe[['volume','rec_count']])\n```\n\n</details>\n",
      "metadata": {}
    },
    {
      "cell_type": "markdown",
      "source": "<h2 id=\"binning\">Binning</h2>\n<b>Why binning?</b>\n<p>\n    Binning is a process of transforming continuous numerical variables into discrete categorical 'bins' for grouped analysis.\n</p>\n\n<b>Example: </b>\n\n<p>In our dataset, \"open\" is a real valued variable ranging from 15478.5 to 18344.6 and it has 17113 unique values. What if we only care about the open price difference between trades with high open, medium open, and little open (3 types)? Can we rearrange them into three ‘bins' to simplify analysis? </p>\n\n<p>We will use the pandas method 'cut' to segment the 'open' column into 3 bins.</p>\n",
      "metadata": {}
    },
    {
      "cell_type": "markdown",
      "source": "<h3>Example of Binning Data In Pandas</h3>\n",
      "metadata": {}
    },
    {
      "cell_type": "markdown",
      "source": "Let's plot the histogram of open to see what the distribution of open looks like.\n",
      "metadata": {}
    },
    {
      "cell_type": "code",
      "source": "%matplotlib inline\nimport matplotlib as plt\nfrom matplotlib import pyplot\nplt.pyplot.hist(df[\"open\"])\n\n# set x/y labels and plot title\nplt.pyplot.xlabel(\"open\")\nplt.pyplot.ylabel(\"price\")\nplt.pyplot.title(\"open bins\")",
      "metadata": {
        "trusted": true
      },
      "execution_count": 236,
      "outputs": [
        {
          "execution_count": 236,
          "output_type": "execute_result",
          "data": {
            "text/plain": "Text(0.5, 1.0, 'open bins')"
          },
          "metadata": {}
        },
        {
          "output_type": "display_data",
          "data": {
            "text/plain": "<Figure size 640x480 with 1 Axes>",
            "image/png": "[encoded data removed]"
          },
          "metadata": {}
        }
      ]
    },
    {
      "cell_type": "markdown",
      "source": "<p>We would like 3 bins of equal size bandwidth so we use numpy's <code>linspace(start_value, end_value, numbers_generated</code> function.</p>\n<p>Since we want to include the minimum value of open, we want to set start_value = min(df[\"open\"]).</p>\n<p>Since we want to include the maximum value of open, we want to set end_value = max(df[\"open\"]).</p>\n<p>Since we are building 3 bins of equal length, there should be 4 dividers, so numbers_generated = 4.</p>\n",
      "metadata": {}
    },
    {
      "cell_type": "markdown",
      "source": "We build a bin array with a minimum value to a maximum value by using the bandwidth calculated above. The values will determine when one bin ends and another begins.\n",
      "metadata": {}
    },
    {
      "cell_type": "code",
      "source": "bins = np.linspace(min(df[\"open\"]), max(df[\"open\"]), 4)\nbins",
      "metadata": {
        "trusted": true
      },
      "execution_count": 237,
      "outputs": [
        {
          "execution_count": 237,
          "output_type": "execute_result",
          "data": {
            "text/plain": "array([15478.5       , 16433.86666667, 17389.23333333, 18344.6       ])"
          },
          "metadata": {}
        }
      ]
    },
    {
      "cell_type": "markdown",
      "source": "We set group  names:\n",
      "metadata": {}
    },
    {
      "cell_type": "code",
      "source": "group_names = ['Low', 'Medium', 'High']",
      "metadata": {
        "trusted": true
      },
      "execution_count": 238,
      "outputs": []
    },
    {
      "cell_type": "markdown",
      "source": "We apply the function \"cut\" to determine what each value of `df['open']` belongs to.\n",
      "metadata": {}
    },
    {
      "cell_type": "code",
      "source": "df['open-binned'] = pd.cut(df['open'], bins, labels=group_names, include_lowest=True )\ndf[['open','open-binned']].head(20)",
      "metadata": {
        "trusted": true
      },
      "execution_count": 239,
      "outputs": [
        {
          "execution_count": 239,
          "output_type": "execute_result",
          "data": {
            "text/plain": "       open open-binned\n0  16540.10      Medium\n1  16489.30      Medium\n2  16465.50      Medium\n3  16492.90      Medium\n4  16540.20      Medium\n5  16498.30      Medium\n6  16502.30      Medium\n7  16540.70      Medium\n8  16747.60      Medium\n9  16829.80      Medium\n10 17207.30      Medium\n11 16958.80      Medium\n12 16945.10      Medium\n13 17011.40      Medium\n14 16880.00      Medium\n15 16816.40      Medium\n16 16835.80      Medium\n17 16831.00      Medium\n18 16798.00      Medium\n19 16883.50      Medium",
            "text/html": "<div>\n<style scoped>\n    .dataframe tbody tr th:only-of-type {\n        vertical-align: middle;\n    }\n\n    .dataframe tbody tr th {\n        vertical-align: top;\n    }\n\n    .dataframe thead th {\n        text-align: right;\n    }\n</style>\n<table border=\"1\" class=\"dataframe\">\n  <thead>\n    <tr style=\"text-align: right;\">\n      <th></th>\n      <th>open</th>\n      <th>open-binned</th>\n    </tr>\n  </thead>\n  <tbody>\n    <tr>\n      <th>0</th>\n      <td>16540.10</td>\n      <td>Medium</td>\n    </tr>\n    <tr>\n      <th>1</th>\n      <td>16489.30</td>\n      <td>Medium</td>\n    </tr>\n    <tr>\n      <th>2</th>\n      <td>16465.50</td>\n      <td>Medium</td>\n    </tr>\n    <tr>\n      <th>3</th>\n      <td>16492.90</td>\n      <td>Medium</td>\n    </tr>\n    <tr>\n      <th>4</th>\n      <td>16540.20</td>\n      <td>Medium</td>\n    </tr>\n    <tr>\n      <th>5</th>\n      <td>16498.30</td>\n      <td>Medium</td>\n    </tr>\n    <tr>\n      <th>6</th>\n      <td>16502.30</td>\n      <td>Medium</td>\n    </tr>\n    <tr>\n      <th>7</th>\n      <td>16540.70</td>\n      <td>Medium</td>\n    </tr>\n    <tr>\n      <th>8</th>\n      <td>16747.60</td>\n      <td>Medium</td>\n    </tr>\n    <tr>\n      <th>9</th>\n      <td>16829.80</td>\n      <td>Medium</td>\n    </tr>\n    <tr>\n      <th>10</th>\n      <td>17207.30</td>\n      <td>Medium</td>\n    </tr>\n    <tr>\n      <th>11</th>\n      <td>16958.80</td>\n      <td>Medium</td>\n    </tr>\n    <tr>\n      <th>12</th>\n      <td>16945.10</td>\n      <td>Medium</td>\n    </tr>\n    <tr>\n      <th>13</th>\n      <td>17011.40</td>\n      <td>Medium</td>\n    </tr>\n    <tr>\n      <th>14</th>\n      <td>16880.00</td>\n      <td>Medium</td>\n    </tr>\n    <tr>\n      <th>15</th>\n      <td>16816.40</td>\n      <td>Medium</td>\n    </tr>\n    <tr>\n      <th>16</th>\n      <td>16835.80</td>\n      <td>Medium</td>\n    </tr>\n    <tr>\n      <th>17</th>\n      <td>16831.00</td>\n      <td>Medium</td>\n    </tr>\n    <tr>\n      <th>18</th>\n      <td>16798.00</td>\n      <td>Medium</td>\n    </tr>\n    <tr>\n      <th>19</th>\n      <td>16883.50</td>\n      <td>Medium</td>\n    </tr>\n  </tbody>\n</table>\n</div>"
          },
          "metadata": {}
        }
      ]
    },
    {
      "cell_type": "markdown",
      "source": "Let's see the number of values in each bin:\n",
      "metadata": {}
    },
    {
      "cell_type": "code",
      "source": "df[\"open-binned\"].value_counts()",
      "metadata": {
        "trusted": true
      },
      "execution_count": 240,
      "outputs": [
        {
          "execution_count": 240,
          "output_type": "execute_result",
          "data": {
            "text/plain": "Medium    56511\nLow        6855\nHigh       3925\nName: open-binned, dtype: int64"
          },
          "metadata": {}
        }
      ]
    },
    {
      "cell_type": "markdown",
      "source": "Let's plot the distribution of each bin:\n",
      "metadata": {}
    },
    {
      "cell_type": "code",
      "source": "%matplotlib inline\nimport matplotlib as plt\nfrom matplotlib import pyplot\n\n# sort group names by number of values\ngroup_names = ['Medium','Low', 'High']\npyplot.bar(group_names, df[\"open-binned\"].value_counts())\n\n# set x/y labels and plot title\nplt.pyplot.xlabel(\"open\")\nplt.pyplot.ylabel(\"count\")\nplt.pyplot.title(\"open bins\")",
      "metadata": {
        "trusted": true
      },
      "execution_count": 241,
      "outputs": [
        {
          "execution_count": 241,
          "output_type": "execute_result",
          "data": {
            "text/plain": "Text(0.5, 1.0, 'open bins')"
          },
          "metadata": {}
        },
        {
          "output_type": "display_data",
          "data": {
            "text/plain": "<Figure size 640x480 with 1 Axes>",
            "image/png": "[encoded data removed]"
          },
          "metadata": {}
        }
      ]
    },
    {
      "cell_type": "markdown",
      "source": "<p>\n    Look at the dataframe above carefully. You will find that the last column provides the bins for \"open\" based on 3 categories (\"Low\", \"Medium\" and \"High\"). \n</p>\n<p>\n    We successfully narrowed down the intervals from 17113 to 3!\n</p>\n",
      "metadata": {}
    },
    {
      "cell_type": "markdown",
      "source": "<h3>Bins Visualization</h3>\nNormally, a histogram is used to visualize the distribution of bins we created above. \n",
      "metadata": {}
    },
    {
      "cell_type": "code",
      "source": "%matplotlib inline\nimport matplotlib as plt\nfrom matplotlib import pyplot\n\n\n# draw historgram of attribute \"open\" with bins = 3\nplt.pyplot.hist(df[\"open\"], bins = 3)\n\n# set x/y labels and plot title\nplt.pyplot.xlabel(\"open\")\nplt.pyplot.ylabel(\"count\")\nplt.pyplot.title(\"open bins\")",
      "metadata": {
        "trusted": true
      },
      "execution_count": 242,
      "outputs": [
        {
          "execution_count": 242,
          "output_type": "execute_result",
          "data": {
            "text/plain": "Text(0.5, 1.0, 'open bins')"
          },
          "metadata": {}
        },
        {
          "output_type": "display_data",
          "data": {
            "text/plain": "<Figure size 640x480 with 1 Axes>",
            "image/png": "[encoded data removed]"
          },
          "metadata": {}
        }
      ]
    },
    {
      "cell_type": "markdown",
      "source": "The plot above shows the binning result for the attribute \"open\".\n",
      "metadata": {}
    },
    {
      "cell_type": "markdown",
      "source": "<h2 id=\"indicator\">Indicator Variable (or Dummy Variable)</h2>\n<b>What is an indicator variable?</b>\n<p>\n    An indicator variable (or dummy variable) is a numerical variable used to label categories. They are called 'dummies' because the numbers themselves don't have inherent meaning. \n</p>\n\n<b>Why we use indicator variables?</b>\n\n<p>\n    We use indicator variables so we can use categorical variables for regression analysis in the later modules.\n</p>\n<b>Example</b>\n<p>\n    We see the column \"open-binned\" has two unique values: \"Low\",\"Medium\" and \"High\". Regression doesn't understand words, only numbers. To use this attribute in regression analysis, we convert \"open-binned\" to indicator variables.\n</p>\n\n<p>\n    We will use pandas' method 'get_dummies' to assign numerical values to different categories of open binned. \n</p>\n",
      "metadata": {}
    },
    {
      "cell_type": "code",
      "source": "df.columns",
      "metadata": {
        "trusted": true
      },
      "execution_count": 243,
      "outputs": [
        {
          "execution_count": 243,
          "output_type": "execute_result",
          "data": {
            "text/plain": "Index(['time', 'open', 'high', 'low', 'close', 'volume', 'rec_count',\n       'avg_price', 'avg_price_eur', 'open_eur', 'high_eur', 'low_eur',\n       'volume_norm', 'rec_counter_norm', 'open-binned'],\n      dtype='object')"
          },
          "metadata": {}
        }
      ]
    },
    {
      "cell_type": "markdown",
      "source": "Get the indicator variables and assign it to data frame \"dummy_variable\\_1\":\n",
      "metadata": {}
    },
    {
      "cell_type": "code",
      "source": "dummy_variable_1 = pd.get_dummies(df[\"open-binned\"])\ndummy_variable_1.head()",
      "metadata": {
        "trusted": true
      },
      "execution_count": 244,
      "outputs": [
        {
          "execution_count": 244,
          "output_type": "execute_result",
          "data": {
            "text/plain": "   Low  Medium  High\n0    0       1     0\n1    0       1     0\n2    0       1     0\n3    0       1     0\n4    0       1     0",
            "text/html": "<div>\n<style scoped>\n    .dataframe tbody tr th:only-of-type {\n        vertical-align: middle;\n    }\n\n    .dataframe tbody tr th {\n        vertical-align: top;\n    }\n\n    .dataframe thead th {\n        text-align: right;\n    }\n</style>\n<table border=\"1\" class=\"dataframe\">\n  <thead>\n    <tr style=\"text-align: right;\">\n      <th></th>\n      <th>Low</th>\n      <th>Medium</th>\n      <th>High</th>\n    </tr>\n  </thead>\n  <tbody>\n    <tr>\n      <th>0</th>\n      <td>0</td>\n      <td>1</td>\n      <td>0</td>\n    </tr>\n    <tr>\n      <th>1</th>\n      <td>0</td>\n      <td>1</td>\n      <td>0</td>\n    </tr>\n    <tr>\n      <th>2</th>\n      <td>0</td>\n      <td>1</td>\n      <td>0</td>\n    </tr>\n    <tr>\n      <th>3</th>\n      <td>0</td>\n      <td>1</td>\n      <td>0</td>\n    </tr>\n    <tr>\n      <th>4</th>\n      <td>0</td>\n      <td>1</td>\n      <td>0</td>\n    </tr>\n  </tbody>\n</table>\n</div>"
          },
          "metadata": {}
        }
      ]
    },
    {
      "cell_type": "markdown",
      "source": "Change the column names for clarity:\n",
      "metadata": {}
    },
    {
      "cell_type": "code",
      "source": "dummy_variable_1.rename(columns={'Low':'Low-open-price', 'Medium':'Medium-open-price','High':'High-open-price'}, inplace=True)\ndummy_variable_1.head()",
      "metadata": {
        "trusted": true
      },
      "execution_count": 245,
      "outputs": [
        {
          "execution_count": 245,
          "output_type": "execute_result",
          "data": {
            "text/plain": "   Low-open-price  Medium-open-price  High-open-price\n0               0                  1                0\n1               0                  1                0\n2               0                  1                0\n3               0                  1                0\n4               0                  1                0",
            "text/html": "<div>\n<style scoped>\n    .dataframe tbody tr th:only-of-type {\n        vertical-align: middle;\n    }\n\n    .dataframe tbody tr th {\n        vertical-align: top;\n    }\n\n    .dataframe thead th {\n        text-align: right;\n    }\n</style>\n<table border=\"1\" class=\"dataframe\">\n  <thead>\n    <tr style=\"text-align: right;\">\n      <th></th>\n      <th>Low-open-price</th>\n      <th>Medium-open-price</th>\n      <th>High-open-price</th>\n    </tr>\n  </thead>\n  <tbody>\n    <tr>\n      <th>0</th>\n      <td>0</td>\n      <td>1</td>\n      <td>0</td>\n    </tr>\n    <tr>\n      <th>1</th>\n      <td>0</td>\n      <td>1</td>\n      <td>0</td>\n    </tr>\n    <tr>\n      <th>2</th>\n      <td>0</td>\n      <td>1</td>\n      <td>0</td>\n    </tr>\n    <tr>\n      <th>3</th>\n      <td>0</td>\n      <td>1</td>\n      <td>0</td>\n    </tr>\n    <tr>\n      <th>4</th>\n      <td>0</td>\n      <td>1</td>\n      <td>0</td>\n    </tr>\n  </tbody>\n</table>\n</div>"
          },
          "metadata": {}
        }
      ]
    },
    {
      "cell_type": "markdown",
      "source": "In the dataframe, column 'open-binned' has values for 'Low','Medium and 'High' as 0s and 1s now.\n",
      "metadata": {}
    },
    {
      "cell_type": "code",
      "source": "# merge data frame \"df\" and \"dummy_variable_1\" \ndf = pd.concat([df, dummy_variable_1], axis=1)\n\n# drop original column \"open-binned\" from \"df\"\ndf.drop(\"open-binned\", axis = 1, inplace=True)",
      "metadata": {
        "trusted": true
      },
      "execution_count": 246,
      "outputs": []
    },
    {
      "cell_type": "code",
      "source": "df.head()",
      "metadata": {
        "trusted": true
      },
      "execution_count": 247,
      "outputs": [
        {
          "execution_count": 247,
          "output_type": "execute_result",
          "data": {
            "text/plain": "                 time     open     high      low    close  volume  rec_count  \\\n0 2022-11-11 14:38:00 16540.10 16540.10 16486.50 16486.50  304.95         97   \n1 2022-11-11 14:39:00 16489.30 16493.30 16456.20 16462.10  319.26        103   \n2 2022-11-11 14:40:00 16465.50 16496.00 16447.40 16492.90  290.90         99   \n3 2022-11-11 14:41:00 16492.90 16547.10 16472.50 16543.00  314.05         99   \n4 2022-11-11 14:42:00 16540.20 16547.10 16498.20 16498.30  226.95         99   \n\n   avg_price  avg_price_eur  open_eur  high_eur  low_eur  volume_norm  \\\n0   16516.81       15195.46  15216.89  15216.89 15167.58         0.08   \n1   16473.84       15155.94  15170.16  15173.84 15139.70         0.08   \n2   16478.64       15160.35  15148.26  15176.32 15131.61         0.07   \n3   16516.50       15195.18  15173.47  15223.33 15154.70         0.08   \n4   16527.09       15204.93  15216.98  15223.33 15178.34         0.06   \n\n   rec_counter_norm  Low-open-price  Medium-open-price  High-open-price  \n0              0.78               0                  1                0  \n1              0.83               0                  1                0  \n2              0.80               0                  1                0  \n3              0.80               0                  1                0  \n4              0.80               0                  1                0  ",
            "text/html": "<div>\n<style scoped>\n    .dataframe tbody tr th:only-of-type {\n        vertical-align: middle;\n    }\n\n    .dataframe tbody tr th {\n        vertical-align: top;\n    }\n\n    .dataframe thead th {\n        text-align: right;\n    }\n</style>\n<table border=\"1\" class=\"dataframe\">\n  <thead>\n    <tr style=\"text-align: right;\">\n      <th></th>\n      <th>time</th>\n      <th>open</th>\n      <th>high</th>\n      <th>low</th>\n      <th>close</th>\n      <th>volume</th>\n      <th>rec_count</th>\n      <th>avg_price</th>\n      <th>avg_price_eur</th>\n      <th>open_eur</th>\n      <th>high_eur</th>\n      <th>low_eur</th>\n      <th>volume_norm</th>\n      <th>rec_counter_norm</th>\n      <th>Low-open-price</th>\n      <th>Medium-open-price</th>\n      <th>High-open-price</th>\n    </tr>\n  </thead>\n  <tbody>\n    <tr>\n      <th>0</th>\n      <td>2022-11-11 14:38:00</td>\n      <td>16540.10</td>\n      <td>16540.10</td>\n      <td>16486.50</td>\n      <td>16486.50</td>\n      <td>304.95</td>\n      <td>97</td>\n      <td>16516.81</td>\n      <td>15195.46</td>\n      <td>15216.89</td>\n      <td>15216.89</td>\n      <td>15167.58</td>\n      <td>0.08</td>\n      <td>0.78</td>\n      <td>0</td>\n      <td>1</td>\n      <td>0</td>\n    </tr>\n    <tr>\n      <th>1</th>\n      <td>2022-11-11 14:39:00</td>\n      <td>16489.30</td>\n      <td>16493.30</td>\n      <td>16456.20</td>\n      <td>16462.10</td>\n      <td>319.26</td>\n      <td>103</td>\n      <td>16473.84</td>\n      <td>15155.94</td>\n      <td>15170.16</td>\n      <td>15173.84</td>\n      <td>15139.70</td>\n      <td>0.08</td>\n      <td>0.83</td>\n      <td>0</td>\n      <td>1</td>\n      <td>0</td>\n    </tr>\n    <tr>\n      <th>2</th>\n      <td>2022-11-11 14:40:00</td>\n      <td>16465.50</td>\n      <td>16496.00</td>\n      <td>16447.40</td>\n      <td>16492.90</td>\n      <td>290.90</td>\n      <td>99</td>\n      <td>16478.64</td>\n      <td>15160.35</td>\n      <td>15148.26</td>\n      <td>15176.32</td>\n      <td>15131.61</td>\n      <td>0.07</td>\n      <td>0.80</td>\n      <td>0</td>\n      <td>1</td>\n      <td>0</td>\n    </tr>\n    <tr>\n      <th>3</th>\n      <td>2022-11-11 14:41:00</td>\n      <td>16492.90</td>\n      <td>16547.10</td>\n      <td>16472.50</td>\n      <td>16543.00</td>\n      <td>314.05</td>\n      <td>99</td>\n      <td>16516.50</td>\n      <td>15195.18</td>\n      <td>15173.47</td>\n      <td>15223.33</td>\n      <td>15154.70</td>\n      <td>0.08</td>\n      <td>0.80</td>\n      <td>0</td>\n      <td>1</td>\n      <td>0</td>\n    </tr>\n    <tr>\n      <th>4</th>\n      <td>2022-11-11 14:42:00</td>\n      <td>16540.20</td>\n      <td>16547.10</td>\n      <td>16498.20</td>\n      <td>16498.30</td>\n      <td>226.95</td>\n      <td>99</td>\n      <td>16527.09</td>\n      <td>15204.93</td>\n      <td>15216.98</td>\n      <td>15223.33</td>\n      <td>15178.34</td>\n      <td>0.06</td>\n      <td>0.80</td>\n      <td>0</td>\n      <td>1</td>\n      <td>0</td>\n    </tr>\n  </tbody>\n</table>\n</div>"
          },
          "metadata": {}
        }
      ]
    },
    {
      "cell_type": "markdown",
      "source": "The last three columns are now the indicator variable representation of the open-binned variable. They're all 0s and 1s now.\n",
      "metadata": {}
    },
    {
      "cell_type": "markdown",
      "source": "<div class=\"alert alert-danger alertdanger\" style=\"margin-top: 20px\">\n<h1> Question  #4: </h1>\n\n<b>Similar to before, create an indicator variable for the column \"time\" by days of week with func \"day_name()\"</b>\n\n</div>\n",
      "metadata": {}
    },
    {
      "cell_type": "code",
      "source": "# Write your code below and press Shift+Enter to execute \n",
      "metadata": {
        "trusted": true
      },
      "execution_count": 248,
      "outputs": []
    },
    {
      "cell_type": "markdown",
      "source": "<details><summary>Click here for the solution</summary>\n\n```python\n#get name of day \ns = df.time\n#write in a new column 'day_name'\ndf['day_name'] = s.dt.day_name()\n\n# get indicator variables of rec_count and assign it to data frame \"dummy_variable_2\"\ndummy_variable_2 = pd.get_dummies(df['day_name'])\n\n# show first 5 instances of data frame \"dummy_variable_2\"\ndummy_variable_2.head()\n\n```\n\n</details>\n",
      "metadata": {}
    },
    {
      "cell_type": "markdown",
      "source": "<h2 id=\"resample\">Resample time-series data.</h2>",
      "metadata": {}
    },
    {
      "cell_type": "markdown",
      "source": "<b>What is a pandas.DataFrame.resample?</b>\n\n<p>Convenience method for frequency conversion and resampling of time series.\nThe object must have a datetime-like index (<cite>DatetimeIndex</cite>, <cite>PeriodIndex</cite>,\nor <cite>TimedeltaIndex</cite>), or the caller must pass the label of a datetime-like\nseries/index to the <code class=\"docutils literal notranslate\"><span class=\"pre\">on</span></code>/<code class=\"docutils literal notranslate\"><span class=\"pre\">level</span></code> keyword parameter.</p>\n\n<b>Why we use a pandas.DataFrame.resample?</b>\n\n<p>We use this function to get for some period summary data. </p>",
      "metadata": {}
    },
    {
      "cell_type": "markdown",
      "source": "Make new dataset:",
      "metadata": {}
    },
    {
      "cell_type": "code",
      "source": "series = pd.DataFrame()",
      "metadata": {
        "trusted": true
      },
      "execution_count": 283,
      "outputs": []
    },
    {
      "cell_type": "markdown",
      "source": "Set column 'time' as index:",
      "metadata": {}
    },
    {
      "cell_type": "code",
      "source": "df['time'] = pd.to_datetime(df['time'])\ndf.set_index('time', inplace=True)",
      "metadata": {
        "trusted": true
      },
      "execution_count": 284,
      "outputs": []
    },
    {
      "cell_type": "markdown",
      "source": "Find our dataframe per day:",
      "metadata": {}
    },
    {
      "cell_type": "code",
      "source": "series['open'] = df['open'].resample('D').first()\nseries['high'] = df['high'].resample('D').max()\nseries['low'] = df['low'].resample('D').min()\nseries['close'] = df['close'].resample('D').last()\nseries['volume'] = df['volume'].resample('D').sum()\nseries.head()",
      "metadata": {
        "trusted": true
      },
      "execution_count": 287,
      "outputs": [
        {
          "execution_count": 287,
          "output_type": "execute_result",
          "data": {
            "text/plain": "               open     high      low    close    volume\ntime                                                    \n2022-11-11 16540.10 17285.20 16447.40 17007.90  74739.17\n2022-11-12 17015.90 17065.00 16584.30 16767.60  52341.30\n2022-11-13 16777.00 16914.90 16204.20 16294.20  62939.03\n2022-11-14 16294.20 17163.50 15780.00 16580.60 186617.98\n2022-11-15 16580.60 17098.80 16493.60 16863.80 103571.06",
            "text/html": "<div>\n<style scoped>\n    .dataframe tbody tr th:only-of-type {\n        vertical-align: middle;\n    }\n\n    .dataframe tbody tr th {\n        vertical-align: top;\n    }\n\n    .dataframe thead th {\n        text-align: right;\n    }\n</style>\n<table border=\"1\" class=\"dataframe\">\n  <thead>\n    <tr style=\"text-align: right;\">\n      <th></th>\n      <th>open</th>\n      <th>high</th>\n      <th>low</th>\n      <th>close</th>\n      <th>volume</th>\n    </tr>\n    <tr>\n      <th>time</th>\n      <th></th>\n      <th></th>\n      <th></th>\n      <th></th>\n      <th></th>\n    </tr>\n  </thead>\n  <tbody>\n    <tr>\n      <th>2022-11-11</th>\n      <td>16540.10</td>\n      <td>17285.20</td>\n      <td>16447.40</td>\n      <td>17007.90</td>\n      <td>74739.17</td>\n    </tr>\n    <tr>\n      <th>2022-11-12</th>\n      <td>17015.90</td>\n      <td>17065.00</td>\n      <td>16584.30</td>\n      <td>16767.60</td>\n      <td>52341.30</td>\n    </tr>\n    <tr>\n      <th>2022-11-13</th>\n      <td>16777.00</td>\n      <td>16914.90</td>\n      <td>16204.20</td>\n      <td>16294.20</td>\n      <td>62939.03</td>\n    </tr>\n    <tr>\n      <th>2022-11-14</th>\n      <td>16294.20</td>\n      <td>17163.50</td>\n      <td>15780.00</td>\n      <td>16580.60</td>\n      <td>186617.98</td>\n    </tr>\n    <tr>\n      <th>2022-11-15</th>\n      <td>16580.60</td>\n      <td>17098.80</td>\n      <td>16493.60</td>\n      <td>16863.80</td>\n      <td>103571.06</td>\n    </tr>\n  </tbody>\n</table>\n</div>"
          },
          "metadata": {}
        }
      ]
    },
    {
      "cell_type": "markdown",
      "source": "<div class=\"alert alert-danger alertdanger\" style=\"margin-top: 20px\">\n<h1> Question #5: </h1>\n\n<b>Make as in the example, but every 1 hour.</b>\n\n</div>\n",
      "metadata": {}
    },
    {
      "cell_type": "code",
      "source": "# Write your code below and press Shift+Enter to execute\n",
      "metadata": {
        "trusted": true
      },
      "execution_count": 290,
      "outputs": [
        {
          "execution_count": 290,
          "output_type": "execute_result",
          "data": {
            "text/plain": "                        open     high      low    close   volume\ntime                                                            \n2022-11-11 14:00:00 16540.10 17285.20 16447.40 16858.70 13618.72\n2022-11-11 15:00:00 16941.65 17002.20 16616.10 16830.80 12821.83\n2022-11-11 16:00:00 16831.00 16892.80 16510.50 16790.00  8928.02\n2022-11-11 17:00:00 16789.90 16911.90 16706.10 16862.00  6667.88\n2022-11-11 18:00:00 16862.00 16996.90 16753.60 16790.50  6885.34",
            "text/html": "<div>\n<style scoped>\n    .dataframe tbody tr th:only-of-type {\n        vertical-align: middle;\n    }\n\n    .dataframe tbody tr th {\n        vertical-align: top;\n    }\n\n    .dataframe thead th {\n        text-align: right;\n    }\n</style>\n<table border=\"1\" class=\"dataframe\">\n  <thead>\n    <tr style=\"text-align: right;\">\n      <th></th>\n      <th>open</th>\n      <th>high</th>\n      <th>low</th>\n      <th>close</th>\n      <th>volume</th>\n    </tr>\n    <tr>\n      <th>time</th>\n      <th></th>\n      <th></th>\n      <th></th>\n      <th></th>\n      <th></th>\n    </tr>\n  </thead>\n  <tbody>\n    <tr>\n      <th>2022-11-11 14:00:00</th>\n      <td>16540.10</td>\n      <td>17285.20</td>\n      <td>16447.40</td>\n      <td>16858.70</td>\n      <td>13618.72</td>\n    </tr>\n    <tr>\n      <th>2022-11-11 15:00:00</th>\n      <td>16941.65</td>\n      <td>17002.20</td>\n      <td>16616.10</td>\n      <td>16830.80</td>\n      <td>12821.83</td>\n    </tr>\n    <tr>\n      <th>2022-11-11 16:00:00</th>\n      <td>16831.00</td>\n      <td>16892.80</td>\n      <td>16510.50</td>\n      <td>16790.00</td>\n      <td>8928.02</td>\n    </tr>\n    <tr>\n      <th>2022-11-11 17:00:00</th>\n      <td>16789.90</td>\n      <td>16911.90</td>\n      <td>16706.10</td>\n      <td>16862.00</td>\n      <td>6667.88</td>\n    </tr>\n    <tr>\n      <th>2022-11-11 18:00:00</th>\n      <td>16862.00</td>\n      <td>16996.90</td>\n      <td>16753.60</td>\n      <td>16790.50</td>\n      <td>6885.34</td>\n    </tr>\n  </tbody>\n</table>\n</div>"
          },
          "metadata": {}
        }
      ]
    },
    {
      "cell_type": "markdown",
      "source": "<details><summary>Click here for the solution</summary>\n\n```python\n\ntask = pd.DataFrame()\ntask['open'] = df['open'].resample('1H').first()\ntask['high'] = df['high'].resample('1H').max()\ntask['low'] = df['low'].resample('1H').min()\ntask['close'] = df['close'].resample('1H').last()\ntask['volume'] = df['volume'].resample('1H').sum()\ntask.head()\n\n```\n\n</details>\n",
      "metadata": {}
    },
    {
      "cell_type": "markdown",
      "source": "Save the new csv:\n\n> Note : The  csv file cannot be viewed in the jupyterlite based SN labs environment.However you can Click <a href=\"https://cf-courses-data.s3.us.cloud-object-storage.appdomain.cloud/IBMDeveloperSkillsNetwork-DA0101EN-SkillsNetwork/labs/Module%202/DA0101EN-2-Review-Data-Wrangling.ipynb?utm_medium=Exinfluencer&utm_source=Exinfluencer&utm_content=000026UJ&utm_term=10006555&utm_id=NA-SkillsNetwork-Channel-SkillsNetworkCoursesIBMDeveloperSkillsNetworkDA0101ENSkillsNetwork20235326-2022-01-01\">HERE</a> to download the lab notebook (.ipynb) to your local machine and view the csv file once the notebook is executed.\n",
      "metadata": {}
    },
    {
      "cell_type": "code",
      "source": "df.to_csv('clean_df.csv')",
      "metadata": {
        "trusted": true
      },
      "execution_count": 203,
      "outputs": []
    },
    {
      "cell_type": "markdown",
      "source": "### Thank you for completing this lab!\n\n## Author\n\n<a href=\"https://www.linkedin.com/in/joseph-s-50398b136/?utm_medium=Exinfluencer&utm_source=Exinfluencer&utm_content=000026UJ&utm_term=10006555&utm_id=NA-SkillsNetwork-Channel-SkillsNetworkCoursesIBMDeveloperSkillsNetworkDA0101ENSkillsNetwork20235326-2021-01-01\" target=\"_blank\">Joseph Santarcangelo</a>\n\n### Other Contributors\n\n<a href=\"https://www.linkedin.com/in/mahdi-noorian-58219234/?utm_medium=Exinfluencer&utm_source=Exinfluencer&utm_content=000026UJ&utm_term=10006555&utm_id=NA-SkillsNetwork-Channel-SkillsNetworkCoursesIBMDeveloperSkillsNetworkDA0101ENSkillsNetwork20235326-2021-01-01\" target=\"_blank\">Mahdi Noorian PhD</a>\n\nBahare Talayian\n\nEric Xiao\n\nSteven Dong\n\nParizad\n\nHima Vasudevan\n\n<a href=\"https://www.linkedin.com/in/fiorellawever/?utm_medium=Exinfluencer&utm_source=Exinfluencer&utm_content=000026UJ&utm_term=10006555&utm_id=NA-SkillsNetwork-Channel-SkillsNetworkCoursesIBMDeveloperSkillsNetworkDA0101ENSkillsNetwork20235326-2021-01-01\" target=\"_blank\">Fiorella Wenver</a>\n\n<a href=\"https:// https://www.linkedin.com/in/yi-leng-yao-84451275/ \" target=\"_blank\" >Yi Yao</a>\n\n<a href=\"https://www.linkedin.com/in/bohdan-tsisinskyi-539913255/ \" target=\"_blank\" >Bohdan Tsisinskyi</a>.\n\n## Change Log\n\n| Date (YYYY-MM-DD) | Version | Changed By | Change Description                  |\n| ----------------- | ------- | ---------- | ----------------------------------- |\n| 2023-01-23        | 3.0     | Bohdan     | Change dataset, rewrite file        |\n| 2022-04-22        | 2.3     | Lakshmi    | Made changes in markdown file       |\n| 2020-10-30        | 2.2     | Lakshmi    | Changed URL of csv                  |\n| 2020-09-09        | 2.1     | Lakshmi    | Updated Indicator Variables section |\n| 2020-08-27        | 2.0     | Lavanya    | Moved lab to course repo in GitLab  |\n\n<hr>\n\n## <h3 align=\"center\"> © IBM Corporation 2023. All rights reserved. <h3/>\n",
      "metadata": {}
    }
  ]
}
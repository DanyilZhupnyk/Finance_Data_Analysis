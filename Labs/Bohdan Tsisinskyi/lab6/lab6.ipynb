{
  "cells": [
    {
      "cell_type": "markdown",
      "id": "111aa1e7-16b7-4e1f-a8da-ccbad9d081ab",
      "metadata": {},
      "outputs": [],
      "source": [
        "<center>\n    <img src=\"https://cf-courses-data.s3.us.cloud-object-storage.appdomain.cloud/assets/logos/SN_web_lightmode.png\" width=\"500\" alt=\"cognitiveclass.ai logo\"  />\n</center>\n\n# Data Analysis with Python on the example BTC/USD and technical financial indicators ATR, OBV, ADV, RSI, AD\n## Lab 6. Knowledge Check\n\n\n\n\nEstimated time needed: **30** minutes\n\n## Objectives\n\nAfter completing this lab you will be able to:\n\n*   Be confident about your data analysis skills\n"
      ]
    },
    {
      "cell_type": "markdown",
      "id": "0a33e96c-9b01-4cc9-91d7-360e2cc98038",
      "metadata": {},
      "outputs": [],
      "source": [
        "This dataset is from the story: <a href=https://cf-courses-data.s3.us.cloud-object-storage.appdomain.cloud/IBMSkillsNetwork-GPXX0MU3EN/BTC.csv>https://cf-courses-data.s3.us.cloud-object-storage.appdomain.cloud/IBMSkillsNetwork-GPXX0MU3EN/BTC.csv</a>\n"
      ]
    },
    {
      "cell_type": "markdown",
      "id": "7493f22f-84ae-471d-8b99-3a00f8246eed",
      "metadata": {},
      "outputs": [],
      "source": [
        "You will need the following libraries:\n"
      ]
    },
    {
      "cell_type": "code",
      "id": "4a6c280f-2e48-4191-b7f3-beaadf6d145b",
      "metadata": {},
      "outputs": [],
      "source": [
        "! conda install -c conda-forge ta -y\n! conda install scikit-learn -y"
      ]
    },
    {
      "cell_type": "code",
      "id": "d44851c1-b387-4131-a544-060bfcfd805d",
      "metadata": {},
      "outputs": [],
      "source": [
        "import pandas as pd\nimport numpy as np\nimport matplotlib.pyplot as plt\nimport matplotlib as mpl\nimport ta\nimport warnings\nwarnings.filterwarnings(\"ignore\")\nimport seaborn as sns \nfrom sklearn.linear_model import LinearRegression\nfrom sklearn.pipeline import Pipeline\nfrom sklearn.preprocessing import StandardScaler,PolynomialFeatures\nfrom sklearn.linear_model import Ridge\nfrom sklearn.metrics import r2_score\nfrom sklearn.model_selection import train_test_split"
      ]
    },
    {
      "cell_type": "markdown",
      "id": "3c5b576b-99df-4f40-b542-05dfa3fcc2ab",
      "metadata": {},
      "outputs": [],
      "source": [
        "# Importing the Data"
      ]
    },
    {
      "cell_type": "markdown",
      "id": "19a5b178-6f55-4bfc-aae1-4c41d7d8b0a8",
      "metadata": {},
      "outputs": [],
      "source": [
        "you will need to download the dataset; if you are running locally, please comment out the following\n"
      ]
    },
    {
      "cell_type": "code",
      "id": "b8d14c9b-c7c0-42c9-ab45-98df3d59f87d",
      "metadata": {},
      "outputs": [],
      "source": [
        "path = 'https://cf-courses-data.s3.us.cloud-object-storage.appdomain.cloud/IBMSkillsNetwork-GPXX0MU3EN/BTC.csv'"
      ]
    },
    {
      "cell_type": "markdown",
      "id": "debcf49b-70b1-4423-ac93-c84bf810d412",
      "metadata": {},
      "outputs": [],
      "source": [
        "Load the csv:\n"
      ]
    },
    {
      "cell_type": "code",
      "id": "e7cc29b0-02ce-43fb-b0ef-ba6f4abfc523",
      "metadata": {},
      "outputs": [],
      "source": [
        "df= pd.read_csv(path)"
      ]
    },
    {
      "cell_type": "markdown",
      "id": "4981b2c3-35db-4ca0-bf12-7991ba994d49",
      "metadata": {},
      "outputs": [],
      "source": [
        "We use the method  <code>head()</code>  to display the first 5 columns of the dataframe:\n"
      ]
    },
    {
      "cell_type": "code",
      "id": "2b8bf1a4-7b3e-4d84-a335-c55ac48ccde6",
      "metadata": {},
      "outputs": [],
      "source": [
        "df.head()"
      ]
    },
    {
      "cell_type": "markdown",
      "id": "45b45b6b-cc49-4539-9e13-520c97ec4846",
      "metadata": {},
      "outputs": [],
      "source": [
        "# Volume Momentum"
      ]
    },
    {
      "cell_type": "markdown",
      "id": "10e20159-16c4-4f80-9abb-96f5892a9976",
      "metadata": {},
      "outputs": [],
      "source": [
        "Volume momentum is a technical analysis indicator used to measure the strength of a price trend based on trading volume. The indicator is based on the idea that price movements accompanied by higher trading volumes are more significant and likely to continue, while price movements with low trading volumes may be less meaningful and may not sustain.\n\nIn volume momentum trading, traders look for changes in trading volume that may signal a shift in market sentiment. For example, if the price of an asset starts to rise on higher-than-average trading volume, this may be seen as a bullish signal, indicating that more market participants are buying the asset and pushing up the price. Conversely, if the price of an asset starts to fall on higher-than-average trading volume, this may be seen as a bearish signal, indicating that more market participants are selling the asset and pushing down the price.\n\nVolume momentum can be calculated in a variety of ways, but it typically involves comparing the current trading volume to historical averages. For example, traders may use moving averages of trading volume to determine whether the current volume is higher or lower than the average volume over a given period of time. By combining volume momentum with other technical analysis tools, traders can gain a better understanding of market trends and make more informed trading decisions."
      ]
    },
    {
      "cell_type": "markdown",
      "id": "c1440a09-ab3f-428d-a8f7-cc8e954eaedf",
      "metadata": {},
      "outputs": [],
      "source": [
        "The Volume Momentum formula is:\n\n<code>Volume Momentum = Volume[i] - Volume[i-n]</code>\n\nwhere:\n\n- Volume[i] is the volume of the current period\n- Volume[i-n] is the volume n periods ago (i.e., the volume n periods before the current period)\n- n is the number of periods used for the calculation (e.g., 10, 20, or 30 periods)\n\n\nThe Volume Momentum formula calculates the difference between the current period's volume and the volume n periods ago. This can be used as an indicator of the trend in trading volume. If the Volume Momentum is positive, it suggests that the current period's volume is higher than the volume n periods ago, indicating an increase in trading activity. Conversely, if the Volume Momentum is negative, it suggests that the current period's volume is lower than the volume n periods ago, indicating a decrease in trading activity."
      ]
    },
    {
      "cell_type": "markdown",
      "id": "e86a27eb-d480-41dd-b335-47b11e0f873f",
      "metadata": {},
      "outputs": [],
      "source": [
        "Example:"
      ]
    },
    {
      "cell_type": "markdown",
      "id": "d8e26eeb-e045-45d2-b57e-127a533b0786",
      "metadata": {},
      "outputs": [],
      "source": [
        "```python\nimport pandas as pd\nimport ta\n\n# Load data into a pandas DataFrame\ndata = pd.read_csv('path/to/your/data.csv')\n\n# Set the number of periods to use for the calculation\nn = 10\n\n# Calculate Volume Momentum using pandas shift and subtraction\ndata['Volume Momentum'] = data['Volume'] - data['Volume'].shift(n)\n\n```"
      ]
    },
    {
      "cell_type": "markdown",
      "id": "6dd1c614-030e-4014-8fa6-59c9c633e840",
      "metadata": {},
      "outputs": [],
      "source": [
        "<div class=\"alert alert-danger alertdanger\" style=\"margin-top: 20px\">\n<p><b style=\"font-size: 2em; font-weight: bold;\">Question #1:</b></p>\nCalculate The Volume Momentum.\n\n</div>"
      ]
    },
    {
      "cell_type": "code",
      "id": "707d9e6c-b861-4d3c-8b99-e5886096062c",
      "metadata": {},
      "outputs": [],
      "source": [
        "# Write your code below and press Shift+Enter to execute \n\n# Set the number of periods to use for the calculation\nn = 10\n\n# Calculate Volume Momentum using pandas shift and subtraction\ndf['Volume Momentum'] = df['Volume'] - df['Volume'].shift(n)\ndf['Volume Momentum'].tail()"
      ]
    },
    {
      "cell_type": "markdown",
      "id": "bb41aff5-a758-42eb-8722-13a4ffac1a09",
      "metadata": {},
      "outputs": [],
      "source": [
        "# Chaikin Money Flow"
      ]
    },
    {
      "cell_type": "markdown",
      "id": "53fbabcb-ceef-4b39-a5de-7ba64f0268d4",
      "metadata": {},
      "outputs": [],
      "source": [
        "The Chaikin Money Flow (CMF) is a technical indicator that uses both price and volume data to measure the buying and selling pressure of an asset over a specified period. It is calculated using the following formula:\n\n<code>CMF = (Sum of Money Flow Volume / Sum of Volume) over n periods</code>\n\nWhere:\n\n- Money Flow Volume (MFV) = ((Close price - Low price) - (High price - Close price)) / (High price - Low price) * Volume\n\n- n = the number of periods used for the calculation (e.g., 20 periods)\n\nThe CMF is calculated by dividing the sum of MFV over n periods by the sum of volume over the same n periods. The MFV is calculated for each period by taking into account the high, low, close prices, and the trading volume. It is a measure of the amount of money flowing in or out of an asset, with positive values indicating buying pressure and negative values indicating selling pressure.\n\nThe resulting CMF values range between -1 and +1, where values above zero indicate buying pressure and values below zero indicate selling pressure. The closer the CMF value is to +1, the stronger the buying pressure, while the closer it is to -1, the stronger the selling pressure. A value of zero indicates that there is no net buying or selling pressure.\n\nThe CMF indicator is often used in technical analysis to identify trends and potential buying or selling opportunities based on changes in buying or selling pressure. It is important to note that like any technical indicator, the CMF should be used in conjunction with other forms of analysis and risk management techniques to make trading decisions.\n\nExample:"
      ]
    },
    {
      "cell_type": "markdown",
      "id": "e1908db3-56e9-4cdc-999d-75b7b433862c",
      "metadata": {},
      "outputs": [],
      "source": [
        "```python\nimport pandas as pd\nimport ta\n\n# Load data\ndf = pd.read_csv('stock_prices.csv')\n\n# Calculate Chaikin Money Flow\ndf['cmf'] = ta.volume.ChaikinMoneyFlowIndicator(high=df['high'], low=df['low'], close=df['close'], volume=df['volume']).chaikin_money_flow()\n```"
      ]
    },
    {
      "cell_type": "markdown",
      "id": "6e26726b-527f-421b-ae3d-bc4f1a617b42",
      "metadata": {},
      "outputs": [],
      "source": [
        "<div class=\"alert alert-danger alertdanger\" style=\"margin-top: 20px\">\n<p><b style=\"font-size: 2em; font-weight: bold;\">Question #2:</b></p>\nCalculate The Chaikin Money Flow.\n\n</div>"
      ]
    },
    {
      "cell_type": "code",
      "id": "ea0b108a-bc3e-4c61-8667-5ea87a3759b3",
      "metadata": {},
      "outputs": [],
      "source": [
        "# Write your code below and press Shift+Enter to execute \n\n# Calculate Chaikin Money Flow\ndf['cmf'] = ta.volume.ChaikinMoneyFlowIndicator(high=df['High'], low=df['Low'], close=df['Close'], volume=df['Volume']).chaikin_money_flow()\ndf['cmf'].tail()"
      ]
    },
    {
      "cell_type": "markdown",
      "id": "30e6fe60-c94f-4a59-9f74-191e00b69f58",
      "metadata": {},
      "outputs": [],
      "source": [
        "# Force Index\n"
      ]
    },
    {
      "cell_type": "markdown",
      "id": "27967bf4-a8c6-40bf-8f70-5d18c70859e1",
      "metadata": {},
      "outputs": [],
      "source": [
        "The Force Index is a technical analysis indicator that measures the strength of a price trend by analyzing changes in trading volume. The basic idea behind the Force Index is that changes in volume can be used to confirm or refute the strength of a price trend.\n\nThe formula for calculating the Force Index is:\n\n\n<code>Force Index = Volume * (Close[i] - Close[i-1])</code>\n\n\nwhere:\n\n- Volume is the trading volume for the current period\n- Close[i] is the closing price for the current period\n- Close[i-1] is the closing price for the previous period\n\n\nThe Force Index calculation involves multiplying the volume by the change in price from the previous period to the current period. If the closing price for the current period is higher than the closing price for the previous period, this suggests that there is buying pressure in the market. Similarly, if the closing price for the current period is lower than the closing price for the previous period, this suggests that there is selling pressure in the market.\n\nThe Force Index is often used in combination with other technical analysis indicators to confirm or refute trading signals. For example, if the price of a security is in an uptrend and the Force Index is also increasing, this suggests that the uptrend is likely to continue. Conversely, if the price of a security is in an uptrend but the Force Index is decreasing, this suggests that the uptrend may be losing momentum and could be due for a reversal."
      ]
    },
    {
      "cell_type": "markdown",
      "id": "22a9e450-f723-4bc3-b961-f89ddf5b9269",
      "metadata": {},
      "outputs": [],
      "source": [
        "```python\nimport pandas as pd\nimport ta\n\n# Load data into a pandas DataFrame\ndata = pd.read_csv('path/to/your/data.csv')\n\n# Set the number of periods to use for the calculation\nn = 13\n\n# Calculate the Force Index using the ta library\ndata['Force Index'] = ta.volume.ForceIndexIndicator(close=data['Close'], volume=data['Volume'], window=n).force_index()\n\n```"
      ]
    },
    {
      "cell_type": "markdown",
      "id": "e7a89b7a-3e14-4237-b6b9-e67527e3f4d7",
      "metadata": {},
      "outputs": [],
      "source": [
        "<div class=\"alert alert-danger alertdanger\" style=\"margin-top: 20px\">\n<p><b style=\"font-size: 2em; font-weight: bold;\">Question #3:</b></p>\nCalculate The Force Index.\n\n</div>"
      ]
    },
    {
      "cell_type": "code",
      "id": "28a25f7d-3ba7-4d30-b115-e5a5ebd9692b",
      "metadata": {},
      "outputs": [],
      "source": [
        "# Write your code below and press Shift+Enter to execute\n\n# Set the number of periods to use for the calculation\nn = 13\n\n# Calculate the Force Index using the ta library\ndf['Force Index'] = ta.volume.ForceIndexIndicator(close=df['Close'], volume=df['Volume'], window=n).force_index()\ndf['Force Index'].tail()"
      ]
    },
    {
      "cell_type": "markdown",
      "id": "ce3d7f12-6133-4fec-8c24-7f64d8dfa13e",
      "metadata": {},
      "outputs": [],
      "source": [
        "<div class=\"alert alert-danger alertdanger\" style=\"margin-top: 20px\">\n<p><b style=\"font-size: 2em; font-weight: bold;\">Question #4:</b></p>\n Display the data types of each column using the attribute `dtype`.\n\n</div>"
      ]
    },
    {
      "cell_type": "code",
      "id": "2ab3dfc8-779f-4791-958f-f190e197451d",
      "metadata": {},
      "outputs": [],
      "source": [
        "# Write your code below and press Shift+Enter to execute \n\ndf.dtypes"
      ]
    },
    {
      "cell_type": "markdown",
      "id": "36b7507b-485e-421e-b1dc-e02e2578f7e5",
      "metadata": {},
      "outputs": [],
      "source": [
        "<div class=\"alert alert-danger alertdanger\" style=\"margin-top: 20px\">\n<p><b style=\"font-size: 2em; font-weight: bold;\">Question #5:</b></p>\n Display correlation between new indicators and Volume.\n\n</div>"
      ]
    },
    {
      "cell_type": "markdown",
      "id": "f2799722-c0aa-472f-9cfa-724893e49b5e",
      "metadata": {},
      "outputs": [],
      "source": [
        "<em><strong>Note:</strong></em>\n*   use <code><a href=\"https://pandas.pydata.org/docs/reference/api/pandas.DataFrame.corr.html\">df[[columns]].corr()</a></code> to calculate a correlation for specific columns"
      ]
    },
    {
      "cell_type": "code",
      "id": "dd31db3c-7f98-40fc-9cb0-9db423d1dc4e",
      "metadata": {},
      "outputs": [],
      "source": [
        "# Write your code below and press Shift+Enter to execute \n\ndf[['Volume','cmf','Force Index','Volume Momentum']].corr()"
      ]
    },
    {
      "cell_type": "markdown",
      "id": "dc5fa800-aa23-47f7-8293-edd95a85aca5",
      "metadata": {},
      "outputs": [],
      "source": [
        "<div class=\"alert alert-danger alertdanger\" style=\"margin-top: 20px\">\n<p><b style=\"font-size: 2em; font-weight: bold;\">Question #6:</b></p>\nUse the function  regplot in the seaborn library to determine if the Volume is negatively or positively correlated with the Volume Momentum.\n</div>"
      ]
    },
    {
      "cell_type": "code",
      "id": "62be3022-5d91-428a-a197-2b8ebff458a3",
      "metadata": {},
      "outputs": [],
      "source": [
        "# Write your code below and press Shift+Enter to execute \n\nsns.regplot(x=\"Volume\", y=\"Volume Momentum\", data=df)\nplt.ylim(0,)"
      ]
    },
    {
      "cell_type": "markdown",
      "id": "256823a0-c9f4-4bf5-b0f3-9db9bd3a2471",
      "metadata": {},
      "outputs": [],
      "source": [
        "<div class=\"alert alert-danger alertdanger\" style=\"margin-top: 20px\">\n<p><b style=\"font-size: 2em; font-weight: bold;\">Question #7:</b></p>\nFit a linear regression model to predict the <code>'Volume'</code> using the <code>'Volume Momentum'</code> then calculate $R^{2}$:\n</div>"
      ]
    },
    {
      "cell_type": "markdown",
      "id": "adfd9213-c5da-4f8c-aed3-f89fd99f4f94",
      "metadata": {},
      "outputs": [],
      "source": [
        "<em><strong>Note:</strong></em>\n*   drop NaN"
      ]
    },
    {
      "cell_type": "code",
      "id": "c2512026-5e63-48b9-a000-f05de0187b1f",
      "metadata": {},
      "outputs": [],
      "source": [
        "# Write your code below and press Shift+Enter to execute \n\ndf.dropna(inplace=True)\n# Create Multiple Linear Regression\nlm = LinearRegression()\n\n# Fit the model\nX = df[[\"Volume Momentum\"]]\nlm.fit(X, df['Volume'])\n\n# Make prediction\nY_hat = lm.predict(X)\n\n\nr_squared = r2_score(df['Volume'],Y_hat)\nprint(f'The R-square value is:{r_squared: .4f}')"
      ]
    },
    {
      "cell_type": "markdown",
      "id": "3a8b9a2f-8298-49a0-bf77-c48588818a3b",
      "metadata": {},
      "outputs": [],
      "source": [
        "<br>\n<b>Note:</b> Please use <code>test_size = 0.10</code> and <code>random_state = 0</code> in the following questions.\n"
      ]
    },
    {
      "cell_type": "markdown",
      "id": "ba0661fa-688f-4821-af9d-9b1808efd361",
      "metadata": {},
      "outputs": [],
      "source": [
        "<div class=\"alert alert-danger alertdanger\" style=\"margin-top: 20px\">\n<p><b style=\"font-size: 2em; font-weight: bold;\">Question #8:</b></p>\n    Use list of features to predict the <code>'Volume'</code>, split the data into training and testing and determine the $R^2$ on the test data.\n</div>"
      ]
    },
    {
      "cell_type": "code",
      "id": "08b386bb-4456-4de0-a79c-98834d218690",
      "metadata": {},
      "outputs": [],
      "source": [
        "# Write your code below and press Shift+Enter to execute \n\n# Split into train and test subsets\ny_data = df['Volume']\nx_data=df.drop('Volume',axis=1)\nx_train, x_test, y_train, y_test = train_test_split(x_data, y_data, test_size=0.10, shuffle=False)\n\nlre=LinearRegression()\nr = lre.fit(x_train[['Volume Momentum','cmf','Force Index']], y_train)\nprint(\"{:.3f}\".format(lre.score(x_test[['Volume Momentum','cmf','Force Index']], y_test)) )\n"
      ]
    },
    {
      "cell_type": "markdown",
      "id": "1b01e19f-707c-4340-8543-63e6c285f279",
      "metadata": {},
      "outputs": [],
      "source": [
        "<div class=\"alert alert-danger alertdanger\" style=\"margin-top: 20px\">\n<p><b style=\"font-size: 2em; font-weight: bold;\">Question #9:</b></p>\n    Create a pipeline object that scales the data, performs a polynomial transform and fits a linear regression model. Fit the object using the df[['Volume Momentum','cmf','Force Index']] and df['Volume'], then predict values and calculate the R^2. Take a screenshot of your code and the $R^{2}$. There are some hints in the notebook:\n\n</div>"
      ]
    },
    {
      "cell_type": "markdown",
      "id": "9b44c90e-3d23-4720-9327-5c0fbbe4f4e4",
      "metadata": {},
      "outputs": [],
      "source": [
        "<code>'scale'</code>\n\n<code>'polynomial'</code>\n\n<code>'model'</code>\n\nThe second element in the tuple contains the model constructor\n\n<code>StandardScaler()</code>\n\n<code>PolynomialFeatures(include_bias=False)</code>\n\n<code>LinearRegression()</code>\n"
      ]
    },
    {
      "cell_type": "code",
      "id": "2052775f-4e18-4950-a164-94e0a4054df0",
      "metadata": {},
      "outputs": [],
      "source": [
        "# Write your code below and press Shift+Enter to execute \n\nInput=[('scale',StandardScaler()), ('polynomial', PolynomialFeatures(include_bias=False)), ('model',LinearRegression())]\npipe=Pipeline(Input)\npipe.fit(df[['Volume Momentum','cmf','Force Index']], df['Volume'])\nypipe=pipe.predict(df[['Volume Momentum','cmf','Force Index']])\n\nr_squared = r2_score(df['Volume'],ypipe)\nprint(f'The R-square value is:{r_squared: .4f}')"
      ]
    },
    {
      "cell_type": "markdown",
      "id": "712817b2-64cf-457c-a6c9-4cc15e7260c3",
      "metadata": {},
      "outputs": [],
      "source": [
        "<div class=\"alert alert-danger alertdanger\" style=\"margin-top: 20px\">\n<p><b style=\"font-size: 2em; font-weight: bold;\">Question #10:</b></p>\n    Create and fit a Ridge regression object using the training data ([['Volume Momentum','cmf','Force Index']]), setting the alpha parameter to 1 and calculating the $R^{2}$ using the test data. Take a screenshot of your code and the $R^{2}$.\n\n\n</div>"
      ]
    },
    {
      "cell_type": "code",
      "id": "22c06698-536e-4346-8cb9-9c63d415d2c4",
      "metadata": {},
      "outputs": [],
      "source": [
        "# Write your code below and press Shift+Enter to execute \n\nRigeModel=Ridge(alpha=1)\n\nRigeModel.fit(x_train[['Volume Momentum','cmf','Force Index']], y_train)\n\nyhat = RigeModel.predict(x_test[['Volume Momentum','cmf','Force Index']])\n\nr_squared = r2_score(y_test, yhat)\nprint(f'The R-square value is:{r_squared: .4f}')"
      ]
    },
    {
      "cell_type": "markdown",
      "id": "a8901ceb-f6b6-4258-a64a-64f36d416ed4",
      "metadata": {},
      "outputs": [],
      "source": [
        "<div class=\"alert alert-danger alertdanger\" style=\"margin-top: 20px\">\n<p><b style=\"font-size: 2em; font-weight: bold;\">Question #11:</b></p>\n    Perform a 2nd order polynomial transform on both the training data and testing data ([['Volume Momentum','cmf','Force Index']]). Create and fit a Ridge regression object using the training data(alpha=1). Calculate the $R^{2}$ utilizing the test data provided. Take a screenshot of your code and the $R^{2}$.\n\n\n</div>"
      ]
    },
    {
      "cell_type": "code",
      "id": "d59319e7-3725-403e-b681-c338ec2681c9",
      "metadata": {},
      "outputs": [],
      "source": [
        "# Write your code below and press Shift+Enter to execute \n\npr=PolynomialFeatures(degree=2)\n\nx_train_pr=pr.fit_transform(x_train[['Volume Momentum','cmf','Force Index']])\nx_test_pr=pr.fit_transform(x_test[['Volume Momentum','cmf','Force Index']])\n\nRigeModel=Ridge(alpha=1)\n\nRigeModel.fit(x_train_pr, y_train)\n\nyhat = RigeModel.predict(x_test_pr)\n\nr_squared = r2_score(y_test, yhat)\nprint(f'The R-square value is:{r_squared: .4f}')"
      ]
    },
    {
      "cell_type": "markdown",
      "id": "159522c6-c24d-4f04-a147-46958bad9e75",
      "metadata": {},
      "outputs": [],
      "source": [
        "<a href=\"https://dataplatform.cloud.ibm.com/docs/content/wsj/analyze-data/share-notebooks.html/?utm_medium=Exinfluencer&utm_source=Exinfluencer&utm_content=000026UJ&utm_term=10006555&utm_id=NA-SkillsNetwork-Channel-SkillsNetworkCoursesIBMDeveloperSkillsNetworkDA0101ENSkillsNetwork20235326-2021-01-01\"> CLICK HERE</a> to see how to share your notebook\n"
      ]
    },
    {
      "cell_type": "markdown",
      "id": "b748e6e1-5497-445b-902d-2cbb3c5dea2a",
      "metadata": {},
      "outputs": [],
      "source": [
        "### Thank you for completing this lab!\n\n## Author\n\n<a href=\"https://author.skills.network/instructors/bohdan_tsisinskyi\">Bohdan Tsisinskyi</a>\n\n<a href=\"https://author.skills.network/instructors/yaroslav_vyklyuk_2\">Prof. Yaroslav Vyklyuk, DrSc, PhD</a>\n\n<a href=\"https://author.skills.network/instructors/mariya_fleychuk\">Prof. Mariya Fleychuk, DrSc, PhD</a>\n\n## Change Log\n\n| Date (YYYY-MM-DD) | Version | Changed By | Change Description                 |\n| ----------------- | ------- | ---------- | ---------------------------------- |\n|2023-04-01|1.0|Bohdan Tsisinskyi| Lab created|\n<hr>\n\n## <h3 align=\"center\"> © IBM Corporation 2023. All rights reserved. <h3/>\n"
      ]
    }
  ],
  "metadata": {
    "language_info": {
      "name": ""
    },
    "kernelspec": {
      "name": "",
      "display_name": ""
    }
  },
  "nbformat": 4,
  "nbformat_minor": 4
}
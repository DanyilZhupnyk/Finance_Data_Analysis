{
  "metadata": {
    "language_info": {
      "codemirror_mode": {
        "name": "python",
        "version": 3
      },
      "file_extension": ".py",
      "mimetype": "text/x-python",
      "name": "python",
      "nbconvert_exporter": "python",
      "pygments_lexer": "ipython3",
      "version": "3.8"
    },
    "kernelspec": {
      "name": "python",
      "display_name": "Python (Pyodide)",
      "language": "python"
    }
  },
  "nbformat_minor": 4,
  "nbformat": 4,
  "cells": [
    {
      "cell_type": "markdown",
      "source": "<center>\n    <img src=\"https://cf-courses-data.s3.us.cloud-object-storage.appdomain.cloud/IBMDeveloperSkillsNetwork-DA0101EN-SkillsNetwork/labs/Module%201/images/IDSNlogo.png\" width=\"300\" alt=\"cognitiveclass.ai logo\"  />\n</center>\n\n# Introduction  Notebook\n\nEstimated time needed: **10** minutes\n\n## Objectives\n\nAfter completing this lab you will be able to:\n\n*   Acquire data in various ways\n*   Obtain insights from data with Pandas library\n",
      "metadata": {}
    },
    {
      "cell_type": "markdown",
      "source": "<h2>Table of Contents</h2>\n\n<div class=\"alert alert-block alert-info\" style=\"margin-top: 20px\">\n<ol>\n    <li><a href=\"https://#data_acquisition\">Data Acquisition</a>\n    <li><a href=\"https://#basic_insight\">Basic Insight of Dataset</a></li>\n</ol>\n\n</div>\n<hr>\n",
      "metadata": {}
    },
    {
      "cell_type": "markdown",
      "source": "<h1 id=\"data_acquisition\">Data Acquisition</h1>\n<p>\nThere are various formats for a dataset: .csv, .json, .xlsx  etc. The dataset can be stored in different places, on your local machine or sometimes online.<br>\n\nIn this section, you will learn how to load a dataset into our Jupyter Notebook.<br>\n\nIn our case, the Trading Dataset is an online source, and it is in a CSV (comma separated value) format. Let's use this dataset as an example to practice data reading.\n\n<ul>\n    <li>Data source: <a href=\"https://1824251045.rsc.cdn77.org/web/algohouse/data/BTCBUSD_trades_1m.csv\">https://1824251045.rsc.cdn77.org/web/algohouse/data/BTCBUSD_trades_1m.csv</a></li>\n    <li>Data type: csv</li>\n</ul>\nThe Pandas Library is a useful tool that enables us to read various datasets into a dataframe; our Jupyter notebook platforms have a built-in <b>Pandas Library</b> so that all we need to do is import Pandas without installing.\n</p>\n",
      "metadata": {}
    },
    {
      "cell_type": "code",
      "source": "#you are running the lab in your  browser, so we will install the libraries using ``piplite``\nimport piplite\nimport micropip\nawait piplite.install(['pandas'])\nawait piplite.install(['matplotlib'])\nawait piplite.install(['scipy'])\nawait piplite.install(['seaborn'])\nawait micropip.install(['ipywidgets'],keep_going=True)\nawait micropip.install(['tqdm'],keep_going=True)",
      "metadata": {
        "trusted": true
      },
      "execution_count": 3,
      "outputs": []
    },
    {
      "cell_type": "markdown",
      "source": "If you run the lab locally using Anaconda, you can load the correct library and versions by uncommenting the following:\n",
      "metadata": {}
    },
    {
      "cell_type": "code",
      "source": "#install specific version of libraries used in  lab\n#! mamba install pandas==1.3.3  -y\n#! mamba install numpy=1.21.2 -y",
      "metadata": {
        "trusted": true
      },
      "execution_count": 4,
      "outputs": []
    },
    {
      "cell_type": "code",
      "source": "# import pandas library\nimport pandas as pd\nimport numpy as np",
      "metadata": {
        "trusted": true
      },
      "execution_count": 5,
      "outputs": []
    },
    {
      "cell_type": "markdown",
      "source": "This function will download the dataset into your browser\n",
      "metadata": {}
    },
    {
      "cell_type": "code",
      "source": "#This function will download the dataset into your browser \n\nfrom pyodide.http import pyfetch\n\nasync def download(url, filename):\n    response = await pyfetch(url)\n    if response.status == 200:\n        with open(filename, \"wb\") as f:\n            f.write(await response.bytes())",
      "metadata": {
        "trusted": true
      },
      "execution_count": 6,
      "outputs": []
    },
    {
      "cell_type": "markdown",
      "source": "<h2>Read Data</h2>\n<p>\nWe use <code>pandas.read_csv()</code> function to read the csv file. In the brackets, we put the file path along with a quotation mark so that pandas will read the file into a dataframe from that address. The file path can be either an URL or your local file address.<br>\n\nBecause the data does not include headers, we can add an argument <code>headers = None</code> inside the <code>read_csv()</code> method so that pandas will not automatically set the first row as a header.<br>\n\nYou can also assign the dataset to any variable you create.\n\n</p>\n",
      "metadata": {}
    },
    {
      "cell_type": "code",
      "source": "path = \"https://1824251045.rsc.cdn77.org/web/algohouse/data/BTCBUSD_trades_1m.csv\"",
      "metadata": {
        "trusted": true
      },
      "execution_count": 7,
      "outputs": []
    },
    {
      "cell_type": "markdown",
      "source": "you will need to download the dataset; if you are running locally, please comment out the following\n",
      "metadata": {}
    },
    {
      "cell_type": "code",
      "source": "#you will need to download the dataset; if you are running locally, please comment out the following \nawait download(path, \"BTCBUSD_trades.csv\")\npath=\"BTCBUSD_trades.csv\"",
      "metadata": {
        "trusted": true
      },
      "execution_count": 8,
      "outputs": []
    },
    {
      "cell_type": "code",
      "source": "# Import pandas library\nimport pandas as pd\n\n# Read the online file by the URL provides above, and assign it to variable \"df\", use index_col = 0 to make first column as indexes, \n# low_memory = False not to get errors with data types \n\ndf = pd.read_csv(path, index_col=0, low_memory=False)\n",
      "metadata": {
        "trusted": true
      },
      "execution_count": 9,
      "outputs": []
    },
    {
      "cell_type": "markdown",
      "source": "Further specify the value of the precision parameter equal to 2 to display two decimal signs (instead of 6 as default).",
      "metadata": {}
    },
    {
      "cell_type": "code",
      "source": "pd.options.display.float_format = '{:.2f}'.format",
      "metadata": {
        "trusted": true
      },
      "execution_count": 28,
      "outputs": []
    },
    {
      "cell_type": "markdown",
      "source": "After reading the dataset, we can use the <code>dataframe.head(n)</code> method to check the top n rows of the dataframe, where n is an integer. Contrary to <code>dataframe.head(n)</code>, <code>dataframe.tail(n)</code> will show you the bottom n rows of the dataframe.\n",
      "metadata": {}
    },
    {
      "cell_type": "code",
      "source": "# show the first 5 rows using dataframe.head() method\nprint(\"The first 5 rows of the dataframe\") \ndf.head(5)",
      "metadata": {
        "trusted": true
      },
      "execution_count": 29,
      "outputs": [
        {
          "name": "stdout",
          "text": "The first 5 rows of the dataframe\n",
          "output_type": "stream"
        },
        {
          "execution_count": 29,
          "output_type": "execute_result",
          "data": {
            "text/plain": "                 time     open     high      low    close  volume  rec_count  \\\n0 2022-11-11 14:38:00 16540.10 16540.10 16486.50 16486.50  304.95         97   \n1 2022-11-11 14:39:00 16489.30 16493.30 16456.20 16462.10  319.26        103   \n2 2022-11-11 14:40:00 16465.50 16496.00 16447.40 16492.90  290.90         99   \n3 2022-11-11 14:41:00 16492.90 16547.10 16472.50 16543.00  314.05         99   \n4 2022-11-11 14:42:00 16540.20 16547.10 16498.20 16498.30  226.95         99   \n\n   avg_price  \n0   16516.81  \n1   16473.84  \n2   16478.64  \n3   16516.50  \n4   16527.09  ",
            "text/html": "<div>\n<style scoped>\n    .dataframe tbody tr th:only-of-type {\n        vertical-align: middle;\n    }\n\n    .dataframe tbody tr th {\n        vertical-align: top;\n    }\n\n    .dataframe thead th {\n        text-align: right;\n    }\n</style>\n<table border=\"1\" class=\"dataframe\">\n  <thead>\n    <tr style=\"text-align: right;\">\n      <th></th>\n      <th>time</th>\n      <th>open</th>\n      <th>high</th>\n      <th>low</th>\n      <th>close</th>\n      <th>volume</th>\n      <th>rec_count</th>\n      <th>avg_price</th>\n    </tr>\n  </thead>\n  <tbody>\n    <tr>\n      <th>0</th>\n      <td>2022-11-11 14:38:00</td>\n      <td>16540.10</td>\n      <td>16540.10</td>\n      <td>16486.50</td>\n      <td>16486.50</td>\n      <td>304.95</td>\n      <td>97</td>\n      <td>16516.81</td>\n    </tr>\n    <tr>\n      <th>1</th>\n      <td>2022-11-11 14:39:00</td>\n      <td>16489.30</td>\n      <td>16493.30</td>\n      <td>16456.20</td>\n      <td>16462.10</td>\n      <td>319.26</td>\n      <td>103</td>\n      <td>16473.84</td>\n    </tr>\n    <tr>\n      <th>2</th>\n      <td>2022-11-11 14:40:00</td>\n      <td>16465.50</td>\n      <td>16496.00</td>\n      <td>16447.40</td>\n      <td>16492.90</td>\n      <td>290.90</td>\n      <td>99</td>\n      <td>16478.64</td>\n    </tr>\n    <tr>\n      <th>3</th>\n      <td>2022-11-11 14:41:00</td>\n      <td>16492.90</td>\n      <td>16547.10</td>\n      <td>16472.50</td>\n      <td>16543.00</td>\n      <td>314.05</td>\n      <td>99</td>\n      <td>16516.50</td>\n    </tr>\n    <tr>\n      <th>4</th>\n      <td>2022-11-11 14:42:00</td>\n      <td>16540.20</td>\n      <td>16547.10</td>\n      <td>16498.20</td>\n      <td>16498.30</td>\n      <td>226.95</td>\n      <td>99</td>\n      <td>16527.09</td>\n    </tr>\n  </tbody>\n</table>\n</div>"
          },
          "metadata": {}
        }
      ]
    },
    {
      "cell_type": "markdown",
      "source": "<div class=\"alert alert-danger alertdanger\" style=\"margin-top: 20px\">\n<h1> Question #1: </h1>\n<b>Check the bottom 10 rows of data frame \"df\".</b>\n</div>\n",
      "metadata": {}
    },
    {
      "cell_type": "code",
      "source": "# Write your code below and press Shift+Enter to execute \n",
      "metadata": {
        "trusted": true
      },
      "execution_count": 30,
      "outputs": []
    },
    {
      "cell_type": "markdown",
      "source": "<details><summary>Click here for the solution</summary>\n\n```python\nprint(\"The last 10 rows of the dataframe\\n\")\ndf.tail(10)\n```\n",
      "metadata": {}
    },
    {
      "cell_type": "markdown",
      "source": "<h3>Add Headers</h3>\n<p>\nTake a look at our dataset. Pandas automatically set the header with an integer starting from 0.\n</p>\n<p>\nTo better describe our data, we can introduce a header. This information is available at:  <a href=\"https://1824251045.rsc.cdn77.org/web/algohouse/data/BTCBUSD_trades_1m.csv\" target=\"_blank\">https://1824251045.rsc.cdn77.org/web/algohouse/data/BTCBUSD_trades_1m.csv</a>.\n</p>\n<p>\nThus, we have to add headers manually.\n</p>\n<p>\nFirst, we create a list \"headers\" that include all column names in order.\nThen, we use <code>dataframe.columns = headers</code> to replace the headers with the list we created.\n</p>\n",
      "metadata": {}
    },
    {
      "cell_type": "code",
      "source": "# create headers list\nheaders = [\"time\",\"open\",\"high\",\"low\",\"close\",\"volume\",\"rec_count\",\"avg_price\"]\nprint(\"headers\\n\", headers)",
      "metadata": {
        "trusted": true
      },
      "execution_count": 31,
      "outputs": [
        {
          "name": "stdout",
          "text": "headers\n ['time', 'open', 'high', 'low', 'close', 'volume', 'rec_count', 'avg_price']\n",
          "output_type": "stream"
        }
      ]
    },
    {
      "cell_type": "markdown",
      "source": "We replace headers and recheck our dataframe:\n",
      "metadata": {}
    },
    {
      "cell_type": "code",
      "source": "df.columns = headers\ndf.head(10)",
      "metadata": {
        "trusted": true
      },
      "execution_count": 35,
      "outputs": [
        {
          "execution_count": 35,
          "output_type": "execute_result",
          "data": {
            "text/plain": "                 time     open     high      low    close  volume  rec_count  \\\n0 2022-11-11 14:38:00 16540.10 16540.10 16486.50 16486.50  304.95         97   \n1 2022-11-11 14:39:00 16489.30 16493.30 16456.20 16462.10  319.26        103   \n2 2022-11-11 14:40:00 16465.50 16496.00 16447.40 16492.90  290.90         99   \n3 2022-11-11 14:41:00 16492.90 16547.10 16472.50 16543.00  314.05         99   \n4 2022-11-11 14:42:00 16540.20 16547.10 16498.20 16498.30  226.95         99   \n5 2022-11-11 14:43:00 16498.30 16548.80 16491.90 16499.80  219.36         96   \n6 2022-11-11 14:44:00 16502.30 16542.00 16502.30 16540.80  233.96        101   \n7 2022-11-11 14:45:00 16540.70 16746.00 16540.50 16742.70 1183.99        112   \n8 2022-11-11 14:46:00 16747.60 16829.40 16686.90 16829.40 1356.19        113   \n9 2022-11-11 14:47:00 16829.80 17285.20 16828.30 17212.90 2122.80        116   \n\n   avg_price  \n0   16516.81  \n1   16473.84  \n2   16478.64  \n3   16516.50  \n4   16527.09  \n5   16519.31  \n6   16526.21  \n7   16639.43  \n8   16760.05  \n9   17060.89  ",
            "text/html": "<div>\n<style scoped>\n    .dataframe tbody tr th:only-of-type {\n        vertical-align: middle;\n    }\n\n    .dataframe tbody tr th {\n        vertical-align: top;\n    }\n\n    .dataframe thead th {\n        text-align: right;\n    }\n</style>\n<table border=\"1\" class=\"dataframe\">\n  <thead>\n    <tr style=\"text-align: right;\">\n      <th></th>\n      <th>time</th>\n      <th>open</th>\n      <th>high</th>\n      <th>low</th>\n      <th>close</th>\n      <th>volume</th>\n      <th>rec_count</th>\n      <th>avg_price</th>\n    </tr>\n  </thead>\n  <tbody>\n    <tr>\n      <th>0</th>\n      <td>2022-11-11 14:38:00</td>\n      <td>16540.10</td>\n      <td>16540.10</td>\n      <td>16486.50</td>\n      <td>16486.50</td>\n      <td>304.95</td>\n      <td>97</td>\n      <td>16516.81</td>\n    </tr>\n    <tr>\n      <th>1</th>\n      <td>2022-11-11 14:39:00</td>\n      <td>16489.30</td>\n      <td>16493.30</td>\n      <td>16456.20</td>\n      <td>16462.10</td>\n      <td>319.26</td>\n      <td>103</td>\n      <td>16473.84</td>\n    </tr>\n    <tr>\n      <th>2</th>\n      <td>2022-11-11 14:40:00</td>\n      <td>16465.50</td>\n      <td>16496.00</td>\n      <td>16447.40</td>\n      <td>16492.90</td>\n      <td>290.90</td>\n      <td>99</td>\n      <td>16478.64</td>\n    </tr>\n    <tr>\n      <th>3</th>\n      <td>2022-11-11 14:41:00</td>\n      <td>16492.90</td>\n      <td>16547.10</td>\n      <td>16472.50</td>\n      <td>16543.00</td>\n      <td>314.05</td>\n      <td>99</td>\n      <td>16516.50</td>\n    </tr>\n    <tr>\n      <th>4</th>\n      <td>2022-11-11 14:42:00</td>\n      <td>16540.20</td>\n      <td>16547.10</td>\n      <td>16498.20</td>\n      <td>16498.30</td>\n      <td>226.95</td>\n      <td>99</td>\n      <td>16527.09</td>\n    </tr>\n    <tr>\n      <th>5</th>\n      <td>2022-11-11 14:43:00</td>\n      <td>16498.30</td>\n      <td>16548.80</td>\n      <td>16491.90</td>\n      <td>16499.80</td>\n      <td>219.36</td>\n      <td>96</td>\n      <td>16519.31</td>\n    </tr>\n    <tr>\n      <th>6</th>\n      <td>2022-11-11 14:44:00</td>\n      <td>16502.30</td>\n      <td>16542.00</td>\n      <td>16502.30</td>\n      <td>16540.80</td>\n      <td>233.96</td>\n      <td>101</td>\n      <td>16526.21</td>\n    </tr>\n    <tr>\n      <th>7</th>\n      <td>2022-11-11 14:45:00</td>\n      <td>16540.70</td>\n      <td>16746.00</td>\n      <td>16540.50</td>\n      <td>16742.70</td>\n      <td>1183.99</td>\n      <td>112</td>\n      <td>16639.43</td>\n    </tr>\n    <tr>\n      <th>8</th>\n      <td>2022-11-11 14:46:00</td>\n      <td>16747.60</td>\n      <td>16829.40</td>\n      <td>16686.90</td>\n      <td>16829.40</td>\n      <td>1356.19</td>\n      <td>113</td>\n      <td>16760.05</td>\n    </tr>\n    <tr>\n      <th>9</th>\n      <td>2022-11-11 14:47:00</td>\n      <td>16829.80</td>\n      <td>17285.20</td>\n      <td>16828.30</td>\n      <td>17212.90</td>\n      <td>2122.80</td>\n      <td>116</td>\n      <td>17060.89</td>\n    </tr>\n  </tbody>\n</table>\n</div>"
          },
          "metadata": {}
        }
      ]
    },
    {
      "cell_type": "markdown",
      "source": "Now, we have successfully read the raw dataset and added the correct headers into the dataframe.\n",
      "metadata": {}
    },
    {
      "cell_type": "markdown",
      "source": " <div class=\"alert alert-danger alertdanger\" style=\"margin-top: 20px\">\n<h1> Question #2: </h1>\n<b>Find the name of the columns of the dataframe.</b>\n</div>\n",
      "metadata": {}
    },
    {
      "cell_type": "code",
      "source": "# Write your code below and press Shift+Enter to execute \n",
      "metadata": {
        "trusted": true
      },
      "execution_count": 36,
      "outputs": []
    },
    {
      "cell_type": "markdown",
      "source": "<details><summary>Click here for the solution</summary>\n\n```python\nprint(df.columns)\n```\n\n</details>\n",
      "metadata": {}
    },
    {
      "cell_type": "markdown",
      "source": "<h2>Save Dataset</h2>\n<p>\nCorrespondingly, Pandas enables us to save the dataset to csv. By using the <code>dataframe.to_csv()</code> method, you can add the file path and name along with quotation marks in the brackets.\n</p>\n<p>\nFor example, if you would save the dataframe <b>df</b> as <b>btc.csv</b> to your local machine, you may use the syntax below, where <code>index = False</code> means the row names will not be written.\n</p>\n",
      "metadata": {}
    },
    {
      "cell_type": "code",
      "source": "df.to_csv(\"btc.csv\", index=False)",
      "metadata": {
        "trusted": true
      },
      "execution_count": 37,
      "outputs": []
    },
    {
      "cell_type": "markdown",
      "source": "We can also read and save other file formats. We can use similar functions like **`pd.read_csv()`** and **`df.to_csv()`** for other data formats. The functions are listed in the following table:\n",
      "metadata": {}
    },
    {
      "cell_type": "markdown",
      "source": "<h2>Read/Save Other Data Formats</h2>\n\n| Data Formate |        Read       |            Save |\n| ------------ | :---------------: | --------------: |\n| csv          |  `pd.read_csv()`  |   `df.to_csv()` |\n| json         |  `pd.read_json()` |  `df.to_json()` |\n| excel        | `pd.read_excel()` | `df.to_excel()` |\n| hdf          |  `pd.read_hdf()`  |   `df.to_hdf()` |\n| sql          |  `pd.read_sql()`  |   `df.to_sql()` |\n| ...          |        ...        |             ... |\n",
      "metadata": {}
    },
    {
      "cell_type": "markdown",
      "source": "<h1 id=\"basic_insight\">Basic Insight of Dataset</h1>\n<p>\nAfter reading data into Pandas dataframe, it is time for us to explore the dataset.<br>\n\nThere are several ways to obtain essential insights of the data to help us better understand our dataset.\n\n</p>\n",
      "metadata": {}
    },
    {
      "cell_type": "markdown",
      "source": "<h2>Data Types</h2>\n<p>\nData has a variety of types.<br>\n\nThe main types stored in Pandas dataframes are <b>object</b>, <b>float</b>, <b>int</b>, <b>bool</b> and <b>datetime64</b>. In order to better learn about each attribute, it is always good for us to know the data type of each column. In Pandas:\n\n</p>\n",
      "metadata": {}
    },
    {
      "cell_type": "code",
      "source": "df.dtypes\n",
      "metadata": {
        "trusted": true
      },
      "execution_count": 38,
      "outputs": [
        {
          "execution_count": 38,
          "output_type": "execute_result",
          "data": {
            "text/plain": "time         datetime64[ns]\nopen                float64\nhigh                float64\nlow                 float64\nclose               float64\nvolume              float64\nrec_count             int64\navg_price           float64\ndtype: object"
          },
          "metadata": {}
        }
      ]
    },
    {
      "cell_type": "markdown",
      "source": "A series with the data type of each column is returned.\n",
      "metadata": {}
    },
    {
      "cell_type": "markdown",
      "source": "<p>\n    As shown above, it is clear to see that the data type of \"time\" is <b>object</b>, \"rec_count\" - <b>int64</b>, etc.\n</p>\n<p>\nThese data types can be changed; we will learn how to accomplish this in a later module.\n</p>\n",
      "metadata": {}
    },
    {
      "cell_type": "markdown",
      "source": "<h2>Describe</h2>\nIf we would like to get a statistical summary of each column e.g. count, column mean value, column standard deviation, etc., we use the describe method:\n",
      "metadata": {}
    },
    {
      "cell_type": "markdown",
      "source": "```python\ndataframe.describe()\n```",
      "metadata": {}
    },
    {
      "cell_type": "markdown",
      "source": "This method will provide various summary statistics, excluding <code>NaN</code> (Not a Number) values.\n",
      "metadata": {}
    },
    {
      "cell_type": "code",
      "source": "df.describe()",
      "metadata": {
        "trusted": true
      },
      "execution_count": 39,
      "outputs": [
        {
          "execution_count": 39,
          "output_type": "execute_result",
          "data": {
            "text/plain": "          open     high      low    close   volume  rec_count  avg_price\ncount 67291.00 67291.00 67291.00 67291.00 67291.00   67291.00   67291.00\nmean  16793.17 16796.67 16789.78 16793.17    47.14      42.27   16793.26\nstd     370.66   369.95   371.38   370.67   107.36      21.76     370.62\nmin   15478.50 15511.60 15443.50 15475.10     0.01       1.00   15479.29\n25%   16574.80 16578.80 16571.50 16574.90     9.29      25.00   16574.85\n50%   16803.30 16806.30 16800.40 16803.30    22.63      38.00   16803.21\n75%   16968.00 16970.90 16965.40 16968.00    48.15      58.00   16968.07\nmax   18344.60 18370.00 18324.20 18344.70  3986.89     124.00   18352.16",
            "text/html": "<div>\n<style scoped>\n    .dataframe tbody tr th:only-of-type {\n        vertical-align: middle;\n    }\n\n    .dataframe tbody tr th {\n        vertical-align: top;\n    }\n\n    .dataframe thead th {\n        text-align: right;\n    }\n</style>\n<table border=\"1\" class=\"dataframe\">\n  <thead>\n    <tr style=\"text-align: right;\">\n      <th></th>\n      <th>open</th>\n      <th>high</th>\n      <th>low</th>\n      <th>close</th>\n      <th>volume</th>\n      <th>rec_count</th>\n      <th>avg_price</th>\n    </tr>\n  </thead>\n  <tbody>\n    <tr>\n      <th>count</th>\n      <td>67291.00</td>\n      <td>67291.00</td>\n      <td>67291.00</td>\n      <td>67291.00</td>\n      <td>67291.00</td>\n      <td>67291.00</td>\n      <td>67291.00</td>\n    </tr>\n    <tr>\n      <th>mean</th>\n      <td>16793.17</td>\n      <td>16796.67</td>\n      <td>16789.78</td>\n      <td>16793.17</td>\n      <td>47.14</td>\n      <td>42.27</td>\n      <td>16793.26</td>\n    </tr>\n    <tr>\n      <th>std</th>\n      <td>370.66</td>\n      <td>369.95</td>\n      <td>371.38</td>\n      <td>370.67</td>\n      <td>107.36</td>\n      <td>21.76</td>\n      <td>370.62</td>\n    </tr>\n    <tr>\n      <th>min</th>\n      <td>15478.50</td>\n      <td>15511.60</td>\n      <td>15443.50</td>\n      <td>15475.10</td>\n      <td>0.01</td>\n      <td>1.00</td>\n      <td>15479.29</td>\n    </tr>\n    <tr>\n      <th>25%</th>\n      <td>16574.80</td>\n      <td>16578.80</td>\n      <td>16571.50</td>\n      <td>16574.90</td>\n      <td>9.29</td>\n      <td>25.00</td>\n      <td>16574.85</td>\n    </tr>\n    <tr>\n      <th>50%</th>\n      <td>16803.30</td>\n      <td>16806.30</td>\n      <td>16800.40</td>\n      <td>16803.30</td>\n      <td>22.63</td>\n      <td>38.00</td>\n      <td>16803.21</td>\n    </tr>\n    <tr>\n      <th>75%</th>\n      <td>16968.00</td>\n      <td>16970.90</td>\n      <td>16965.40</td>\n      <td>16968.00</td>\n      <td>48.15</td>\n      <td>58.00</td>\n      <td>16968.07</td>\n    </tr>\n    <tr>\n      <th>max</th>\n      <td>18344.60</td>\n      <td>18370.00</td>\n      <td>18324.20</td>\n      <td>18344.70</td>\n      <td>3986.89</td>\n      <td>124.00</td>\n      <td>18352.16</td>\n    </tr>\n  </tbody>\n</table>\n</div>"
          },
          "metadata": {}
        }
      ]
    },
    {
      "cell_type": "markdown",
      "source": "<p>\nThis shows the statistical summary of all numeric-typed (int, float) columns.<br>\n\nFor example, the attribute \"open\" has 67291 counts, the mean value of this column is 16793.167007, the standard deviation is 370.661830, the minimum value is 15478.5, 25th percentile is 16574.8, 50th percentile is 16803.3, 75th percentile is 16968, and the maximum value is 18344.6. <br>\n\nHowever, what if we would also like to check all the columns including those that are of type object? <br><br>\n\nYou can add an argument <code>include = \"all\"</code> inside the bracket. Let's try it again.\n\n</p>\n",
      "metadata": {}
    },
    {
      "cell_type": "code",
      "source": "# describe all the columns in \"df\", use datetime_is_numeric=True to make datetime64 == numeric\ndf.describe(include = \"all\",datetime_is_numeric=True)",
      "metadata": {
        "trusted": true
      },
      "execution_count": 40,
      "outputs": [
        {
          "execution_count": 40,
          "output_type": "execute_result",
          "data": {
            "text/plain": "                                time     open     high      low    close  \\\ncount                          67291 67291.00 67291.00 67291.00 67291.00   \nmean   2022-12-05 18:04:34.706573056 16793.17 16796.67 16789.78 16793.17   \nmin              2022-11-11 14:38:00 15478.50 15511.60 15443.50 15475.10   \n25%              2022-11-24 03:08:30 16574.80 16578.80 16571.50 16574.90   \n50%              2022-12-05 19:37:00 16803.30 16806.30 16800.40 16803.30   \n75%              2022-12-17 12:38:30 16968.00 16970.90 16965.40 16968.00   \nmax              2022-12-29 23:59:00 18344.60 18370.00 18324.20 18344.70   \nstd                              NaN   370.66   369.95   371.38   370.67   \n\n        volume  rec_count  avg_price  \ncount 67291.00   67291.00   67291.00  \nmean     47.14      42.27   16793.26  \nmin       0.01       1.00   15479.29  \n25%       9.29      25.00   16574.85  \n50%      22.63      38.00   16803.21  \n75%      48.15      58.00   16968.07  \nmax    3986.89     124.00   18352.16  \nstd     107.36      21.76     370.62  ",
            "text/html": "<div>\n<style scoped>\n    .dataframe tbody tr th:only-of-type {\n        vertical-align: middle;\n    }\n\n    .dataframe tbody tr th {\n        vertical-align: top;\n    }\n\n    .dataframe thead th {\n        text-align: right;\n    }\n</style>\n<table border=\"1\" class=\"dataframe\">\n  <thead>\n    <tr style=\"text-align: right;\">\n      <th></th>\n      <th>time</th>\n      <th>open</th>\n      <th>high</th>\n      <th>low</th>\n      <th>close</th>\n      <th>volume</th>\n      <th>rec_count</th>\n      <th>avg_price</th>\n    </tr>\n  </thead>\n  <tbody>\n    <tr>\n      <th>count</th>\n      <td>67291</td>\n      <td>67291.00</td>\n      <td>67291.00</td>\n      <td>67291.00</td>\n      <td>67291.00</td>\n      <td>67291.00</td>\n      <td>67291.00</td>\n      <td>67291.00</td>\n    </tr>\n    <tr>\n      <th>mean</th>\n      <td>2022-12-05 18:04:34.706573056</td>\n      <td>16793.17</td>\n      <td>16796.67</td>\n      <td>16789.78</td>\n      <td>16793.17</td>\n      <td>47.14</td>\n      <td>42.27</td>\n      <td>16793.26</td>\n    </tr>\n    <tr>\n      <th>min</th>\n      <td>2022-11-11 14:38:00</td>\n      <td>15478.50</td>\n      <td>15511.60</td>\n      <td>15443.50</td>\n      <td>15475.10</td>\n      <td>0.01</td>\n      <td>1.00</td>\n      <td>15479.29</td>\n    </tr>\n    <tr>\n      <th>25%</th>\n      <td>2022-11-24 03:08:30</td>\n      <td>16574.80</td>\n      <td>16578.80</td>\n      <td>16571.50</td>\n      <td>16574.90</td>\n      <td>9.29</td>\n      <td>25.00</td>\n      <td>16574.85</td>\n    </tr>\n    <tr>\n      <th>50%</th>\n      <td>2022-12-05 19:37:00</td>\n      <td>16803.30</td>\n      <td>16806.30</td>\n      <td>16800.40</td>\n      <td>16803.30</td>\n      <td>22.63</td>\n      <td>38.00</td>\n      <td>16803.21</td>\n    </tr>\n    <tr>\n      <th>75%</th>\n      <td>2022-12-17 12:38:30</td>\n      <td>16968.00</td>\n      <td>16970.90</td>\n      <td>16965.40</td>\n      <td>16968.00</td>\n      <td>48.15</td>\n      <td>58.00</td>\n      <td>16968.07</td>\n    </tr>\n    <tr>\n      <th>max</th>\n      <td>2022-12-29 23:59:00</td>\n      <td>18344.60</td>\n      <td>18370.00</td>\n      <td>18324.20</td>\n      <td>18344.70</td>\n      <td>3986.89</td>\n      <td>124.00</td>\n      <td>18352.16</td>\n    </tr>\n    <tr>\n      <th>std</th>\n      <td>NaN</td>\n      <td>370.66</td>\n      <td>369.95</td>\n      <td>371.38</td>\n      <td>370.67</td>\n      <td>107.36</td>\n      <td>21.76</td>\n      <td>370.62</td>\n    </tr>\n  </tbody>\n</table>\n</div>"
          },
          "metadata": {}
        }
      ]
    },
    {
      "cell_type": "markdown",
      "source": "<p>\nNow it provides the statistical summary of all the columns, including object-typed attributes.<br>\n\nWe can now see how many unique values there, which one is the top value and the frequency of top value in the object-typed columns.<br>\n\nSome values in the table above show as \"NaN\". This is because those numbers are not available regarding a particular column type.<br>\n\n</p>\n",
      "metadata": {}
    },
    {
      "cell_type": "markdown",
      "source": "Also we can describe only one column:",
      "metadata": {}
    },
    {
      "cell_type": "code",
      "source": "df[['time']].describe(datetime_is_numeric=True)",
      "metadata": {
        "trusted": true
      },
      "execution_count": 41,
      "outputs": [
        {
          "execution_count": 41,
          "output_type": "execute_result",
          "data": {
            "text/plain": "                                time\ncount                          67291\nmean   2022-12-05 18:04:34.706573056\nmin              2022-11-11 14:38:00\n25%              2022-11-24 03:08:30\n50%              2022-12-05 19:37:00\n75%              2022-12-17 12:38:30\nmax              2022-12-29 23:59:00",
            "text/html": "<div>\n<style scoped>\n    .dataframe tbody tr th:only-of-type {\n        vertical-align: middle;\n    }\n\n    .dataframe tbody tr th {\n        vertical-align: top;\n    }\n\n    .dataframe thead th {\n        text-align: right;\n    }\n</style>\n<table border=\"1\" class=\"dataframe\">\n  <thead>\n    <tr style=\"text-align: right;\">\n      <th></th>\n      <th>time</th>\n    </tr>\n  </thead>\n  <tbody>\n    <tr>\n      <th>count</th>\n      <td>67291</td>\n    </tr>\n    <tr>\n      <th>mean</th>\n      <td>2022-12-05 18:04:34.706573056</td>\n    </tr>\n    <tr>\n      <th>min</th>\n      <td>2022-11-11 14:38:00</td>\n    </tr>\n    <tr>\n      <th>25%</th>\n      <td>2022-11-24 03:08:30</td>\n    </tr>\n    <tr>\n      <th>50%</th>\n      <td>2022-12-05 19:37:00</td>\n    </tr>\n    <tr>\n      <th>75%</th>\n      <td>2022-12-17 12:38:30</td>\n    </tr>\n    <tr>\n      <th>max</th>\n      <td>2022-12-29 23:59:00</td>\n    </tr>\n  </tbody>\n</table>\n</div>"
          },
          "metadata": {}
        }
      ]
    },
    {
      "cell_type": "markdown",
      "source": "<div class=\"alert alert-danger alertdanger\" style=\"margin-top: 20px\">\n<h1> Question #3: </h1>\n\n<p>\nYou can select the columns of a dataframe by indicating the name of each column. For example, you can select the three columns as follows:\n</p>\n<p>\n    <code>dataframe[[' column 1 ',column 2', 'column 3']]</code>\n</p>\n<p>\nWhere \"column\" is the name of the column, you can apply the method  \".describe()\" to get the statistics of those columns as follows:\n</p>\n<p>\n    <code>dataframe[[' column 1 ',column 2', 'column 3'] ].describe()</code>\n</p>\n\nApply the  method to \".describe()\" to the columns 'length' and 'compression-ratio'.\n\n</div>\n",
      "metadata": {}
    },
    {
      "cell_type": "code",
      "source": "# Write your code below and press Shift+Enter to execute \n",
      "metadata": {
        "trusted": true
      },
      "execution_count": 42,
      "outputs": []
    },
    {
      "cell_type": "markdown",
      "source": "<details><summary>Click here for the solution</summary>\n\n```python\ndf[['open', 'avg_price']].describe()\n```\n\n</details>\n",
      "metadata": {}
    },
    {
      "cell_type": "markdown",
      "source": "<h2>Info</h2>\nAnother method you can use to check your dataset is:\n",
      "metadata": {}
    },
    {
      "cell_type": "markdown",
      "source": "```python\ndataframe.info()\n```",
      "metadata": {}
    },
    {
      "cell_type": "markdown",
      "source": "It provides a concise summary of your DataFrame.\n\nThis method prints information about a DataFrame including the index dtype and columns, non-null values and memory usage.\n",
      "metadata": {}
    },
    {
      "cell_type": "code",
      "source": "# look at the info of \"df\"\ndf.info()",
      "metadata": {
        "trusted": true
      },
      "execution_count": 43,
      "outputs": [
        {
          "name": "stdout",
          "text": "<class 'pandas.core.frame.DataFrame'>\nInt64Index: 67291 entries, 0 to 67290\nData columns (total 8 columns):\n #   Column     Non-Null Count  Dtype         \n---  ------     --------------  -----         \n 0   time       67291 non-null  datetime64[ns]\n 1   open       67291 non-null  float64       \n 2   high       67291 non-null  float64       \n 3   low        67291 non-null  float64       \n 4   close      67291 non-null  float64       \n 5   volume     67291 non-null  float64       \n 6   rec_count  67291 non-null  int64         \n 7   avg_price  67291 non-null  float64       \ndtypes: datetime64[ns](1), float64(6), int64(1)\nmemory usage: 4.6 MB\n",
          "output_type": "stream"
        }
      ]
    },
    {
      "cell_type": "markdown",
      "source": "<h1>Excellent! You have just completed the  Introduction Notebook!</h1>\n",
      "metadata": {}
    },
    {
      "cell_type": "markdown",
      "source": "### Thank you for completing this lab!\n\n## Author\n\n<a href=\"https://www.linkedin.com/in/joseph-s-50398b136/?utm_medium=Exinfluencer&utm_source=Exinfluencer&utm_content=000026UJ&utm_term=10006555&utm_id=NA-SkillsNetwork-Channel-SkillsNetworkCoursesIBMDeveloperSkillsNetworkDA0101ENSkillsNetwork20235326-2021-01-01\" target=\"_blank\">Joseph Santarcangelo</a>\n\n### Other Contributors\n\n<a href=\"https://www.linkedin.com/in/mahdi-noorian-58219234/?utm_medium=Exinfluencer&utm_source=Exinfluencer&utm_content=000026UJ&utm_term=10006555&utm_id=NA-SkillsNetwork-Channel-SkillsNetworkCoursesIBMDeveloperSkillsNetworkDA0101ENSkillsNetwork20235326-2021-01-01\" target=\"_blank\">Mahdi Noorian PhD</a>\n\nBahare Talayian\n\nEric Xiao\n\nSteven Dong\n\nParizad\n\nHima Vasudevan\n\n<a href=\"https://www.linkedin.com/in/fiorellawever/?utm_medium=Exinfluencer&utm_source=Exinfluencer&utm_content=000026UJ&utm_term=10006555&utm_id=NA-SkillsNetwork-Channel-SkillsNetworkCoursesIBMDeveloperSkillsNetworkDA0101ENSkillsNetwork20235326-2021-01-01\" target=\"_blank\">Fiorella Wenver</a>\n\n<a href=\"https:// https://www.linkedin.com/in/yi-leng-yao-84451275/ \" target=\"_blank\" >Yi Yao</a>\n\n<a href=\"https://www.linkedin.com/in/bohdan-tsisinskyi-539913255/ \" target=\"_blank\" >Bohdan Tsisinskyi</a>.\n\n\n## Change Log\n\n| Date (YYYY-MM-DD) | Version | Changed By | Change Description                                         |\n| ----------------- | ------- | ---------- | ---------------------------------------------------------- |\n| 2023-01-18        | 3.0     | Bohdan     | Change dataset, add some parameters, comments\n| 2022-08-23        | 2.4     | Malika     | Import micropip added and parameter for ipwidgets and tqdm |\n| 2020-10-30        | 2.3     | Lakshmi    | Changed URL of the csv                                     |\n| 2020-09-22        | 2.2     | Nayef      | Added replace() method to remove '?'                       |\n| 2020-09-09        | 2.1     | Lakshmi    | Made changes in info method of dataframe                   |\n| 2020-08-27        | 2.0     | Lavanya    | Moved lab to course repo in GitLab                         |\n\n<hr>\n\n## <h3 align=\"center\"> © IBM Corporation 2020. All rights reserved. <h3/>\n",
      "metadata": {}
    }
  ]
}
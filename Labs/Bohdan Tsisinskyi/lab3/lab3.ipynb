{
 "cells": [
  {
   "cell_type": "markdown",
   "id": "cac15f66-7b7a-4146-9db6-49b373284bbc",
   "metadata": {},
   "outputs": [],
   "source": [
    "<center>\n    <img src=\"https://cf-courses-data.s3.us.cloud-object-storage.appdomain.cloud/assets/logos/SN_web_lightmode.png\" width=\"500\" alt=\"cognitiveclass.ai logo\"  />\n</center>\n\n\n\n\n# Data Analysis with Python on the example BTC/USD and technical financial indicators ATR, OBV, ADV, RSI, AD\n\n# Lab 3. Exploratory Data Analysis\n\nEstimated time needed: **30** minutes\n\n## Objectives\n\nAfter completing this lab you will be able to:\n\n*   Explore features or charecteristics to predict price of BTC\n"
   ]
  },
  {
   "cell_type": "markdown",
   "id": "7f78ed6b-6e9f-40b9-bcd7-a9981882f219",
   "metadata": {},
   "outputs": [],
   "source": [
    "## Table of Contents\n\n<div class=\"alert alert-block alert-info\" style=\"margin-top: 20px\">\n<ol>\n    <li>Import Data from Module</li>\n    <li>Analyzing Individual Feature Patterns using Visualization</li>\n    <li>Descriptive Statistical Analysis</li>\n    <li>Basics of Grouping</li>\n    <li>Correlation and Causation</li>\n    <li>ANOVA</li>\n    <li>Durbin-Watson Test</li>\n    <li>Granger Causality Test</li>\n</ol>\n\n</div>\n\n<hr>\n"
   ]
  },
  {
   "cell_type": "markdown",
   "id": "3191f754-fc66-419e-b035-adf00411db84",
   "metadata": {},
   "outputs": [],
   "source": [
    "### What are the main characteristics that have the most impact on the BTC price?\n"
   ]
  },
  {
   "cell_type": "markdown",
   "id": "94cf32f3-9e23-4b3c-92ef-e776ad0265c8",
   "metadata": {},
   "outputs": [],
   "source": [
    "## 1. Import Data from Module 2\n"
   ]
  },
  {
   "cell_type": "markdown",
   "id": "a8134dc6-6353-44ed-935e-6759da8ff0a9",
   "metadata": {},
   "outputs": [],
   "source": [
    "#### Setup\n"
   ]
  },
  {
   "cell_type": "markdown",
   "id": "bd82dfde-3893-431f-b3b9-20f6aab04f65",
   "metadata": {},
   "outputs": [],
   "source": [
    "Import libraries:\n"
   ]
  },
  {
   "cell_type": "markdown",
   "id": "5dff5c1c-fbea-42e3-a072-a1a911c7c46c",
   "metadata": {},
   "outputs": [],
   "source": [
    "If you run the lab locally using Anaconda, you can load the correct library and versions by uncommenting the following:\n"
   ]
  },
  {
   "cell_type": "code",
   "id": "e29bb332-ee53-4493-ab31-f09a466a5b2e",
   "metadata": {},
   "outputs": [],
   "source": [
    "#If you run the lab locally using Anaconda, you can load the correct library and versions by uncommenting the following:\n#install specific version of libraries used in lab\n#! mamba install pandas==1.3.3\n#! mamba install numpy=1.21.2\n#! mamba install scipy=1.7.1-y\n#!  mamba install seaborn=0.9.0-y\n! conda install -c conda-forge mplfinance -y"
   ]
  },
  {
   "cell_type": "code",
   "id": "14d26b37-f978-49a4-9708-757a6248bc57",
   "metadata": {},
   "outputs": [],
   "source": [
    "import pandas as pd\nimport numpy as np\nimport matplotlib.pyplot as plt\nimport seaborn as sns\n%matplotlib inline \nimport matplotlib.dates as mpl_dates\nimport mplfinance as mpf\nfrom scipy import stats\nimport statsmodels.api as sm\nfrom statsmodels.stats.stattools import durbin_watson as dwtest\nimport itertools\n\nimport warnings\nwarnings.filterwarnings(\"ignore\")"
   ]
  },
  {
   "cell_type": "markdown",
   "id": "d633a0da-ea61-405d-8592-4168789b2747",
   "metadata": {},
   "outputs": [],
   "source": [
    "Load the data and store it in dataframe `df`:\n"
   ]
  },
  {
   "cell_type": "markdown",
   "id": "92244857-3eab-4927-a468-85399f0d5aab",
   "metadata": {},
   "outputs": [],
   "source": [
    "This dataset was hosted on IBM Cloud object. Click <a href=\"https://cocl.us/DA101EN_object_storage?utm_medium=Exinfluencer&utm_source=Exinfluencer&utm_content=000026UJ&utm_term=10006555&utm_id=NA-SkillsNetwork-Channel-SkillsNetworkCoursesIBMDeveloperSkillsNetworkDA0101ENSkillsNetwork20235326-2021-01-01\">HERE</a> for free storage.\n"
   ]
  },
  {
   "cell_type": "code",
   "id": "87c46f3e-51d9-41af-9bc7-b1492c575e69",
   "metadata": {},
   "outputs": [],
   "source": [
    "#set path host where will be all our datasets \nfile='https://cf-courses-data.s3.us.cloud-object-storage.appdomain.cloud/IBMSkillsNetwork-GPXX0KGFEN/BTCBUSD.csv'"
   ]
  },
  {
   "cell_type": "markdown",
   "id": "67f1d010-5d34-4c7a-b919-bdb1dbd75295",
   "metadata": {},
   "outputs": [],
   "source": [
    "Set headers for our main crypto:\n    "
   ]
  },
  {
   "cell_type": "code",
   "id": "883339d2-6a64-48ad-904c-7db756dc1d8b",
   "metadata": {},
   "outputs": [],
   "source": [
    "headers = [\"Time\",\"Open\",\"High\",\"Low\",\"Close\",\"Volume\",\"Rec_count\",\"Avg_price\",\"ATR\",\"OBV\",\"Gain\",\"Loss\",\"Ema_gain\",\"Ema_loss\",\n          \"RS\",\"RSI_14\",\"ADTV\",\"MFI\",\"MFV\",\"ADL\"]"
   ]
  },
  {
   "cell_type": "code",
   "id": "405cc77f-1ae0-4284-9b8e-a4271f43c300",
   "metadata": {},
   "outputs": [],
   "source": [
    "# read our csv\ndf = pd.read_csv(file, low_memory=False)\ndf.columns = headers\ndf.dropna(axis=0, inplace=True)\n\n# reset index, because we droped some rows\ndf.reset_index(drop=True, inplace=True)\n\ndf.head()"
   ]
  },
  {
   "cell_type": "markdown",
   "id": "ed578002-25be-4a16-9248-c706cbf322d2",
   "metadata": {},
   "outputs": [],
   "source": [
    "## 2. Analyzing Individual Feature Patterns Using Visualization\n"
   ]
  },
  {
   "cell_type": "markdown",
   "id": "835743a2-7bf8-4164-9030-668b8ac30d23",
   "metadata": {},
   "outputs": [],
   "source": [
    "#### How to choose the right visualization method?\n<p>When visualizing individual variables, it is important to first understand what type of variable you are dealing with. This will help us find the right visualization method for that variable.</p>\n"
   ]
  },
  {
   "cell_type": "code",
   "id": "fdf3f376-10c2-436b-8754-a93e4f076ea2",
   "metadata": {},
   "outputs": [],
   "source": [
    "#set correct types\ndf[[\"Time\"]] = df[[\"Time\"]].astype(\"datetime64\")"
   ]
  },
  {
   "cell_type": "code",
   "id": "9c129cfe-4b5a-4e02-bcb6-8b8fc971729e",
   "metadata": {},
   "outputs": [],
   "source": [
    "# list the data types for each column\nprint(df.dtypes)"
   ]
  },
  {
   "cell_type": "markdown",
   "id": "e2cfe34f-606c-493d-874c-081a8351bae4",
   "metadata": {},
   "outputs": [],
   "source": [
    "Use <code>packages mpl_finance and\n matplotlib</code> for our Candlestick Charts:"
   ]
  },
  {
   "cell_type": "code",
   "id": "d1b0c9fd-f9bd-4e33-ac19-9b6810280120",
   "metadata": {},
   "outputs": [],
   "source": [
    "\n# Extracting Data for plotting\nohlc = df[[\"Time\", \"Open\", \"High\", \"Low\", \"Close\", \"Volume\"]].copy()\n\nohlc[\"Time\"] = pd.to_datetime(ohlc[\"Time\"])\nohlc.index = ohlc[\"Time\"]\n\n# Resampling to 1 day\nohlc = ohlc.resample(\"1d\").agg({\n    \"Open\": \"first\",\n    \"High\": \"max\",\n    \"Low\": \"min\",\n    \"Close\": \"last\",\n    \"Volume\": \"sum\"\n})\n\nohlc[\"Time\"] = ohlc.index\nohlc[\"Time\"] = ohlc[\"Time\"].apply(mpl_dates.date2num)\n\nmpf.plot(ohlc, type=\"candle\", \n         volume=True, \n         style=\"yahoo\", \n         ylabel=\"Price\", \n         xlabel=\"Date\", \n         title=\"Daily Candlestick Chart of BTCBUSD\")"
   ]
  },
  {
   "cell_type": "markdown",
   "id": "17c1a42a-519a-4dc4-ac7a-eabe0f2d09a4",
   "metadata": {},
   "outputs": [],
   "source": [
    "<div class=\"alert alert-danger alertdanger\" style=\"margin-top: 20px\">\n<p><b style=\"font-size: 2em; font-weight: bold;\">Question #1:</b></p>\n\n<b>What is the data type of the column \"Open\"? </b>\n\n</div>\n"
   ]
  },
  {
   "cell_type": "code",
   "id": "f446cceb-a2c7-476a-b059-87998d615cce",
   "metadata": {},
   "outputs": [],
   "source": [
    "# Write your code below and press Shift+Enter to execute \n"
   ]
  },
  {
   "cell_type": "markdown",
   "id": "53f9f7f8-04a7-481e-8a10-a223d40e46cc",
   "metadata": {},
   "outputs": [],
   "source": [
    "<details><summary>Click here for the solution</summary>\n\n```python\ndf['Open'].dtypes\n```\n\n</details>\n"
   ]
  },
  {
   "cell_type": "markdown",
   "id": "52f07550-9891-464e-bdee-9affe5d783cd",
   "metadata": {},
   "outputs": [],
   "source": [
    "For example, we can calculate the correlation between variables  of type \"int64\" or \"float64\" using the method \"corr\":\n"
   ]
  },
  {
   "cell_type": "code",
   "id": "ccd7d955-744b-4983-82a0-99d83fd2e69f",
   "metadata": {},
   "outputs": [],
   "source": [
    "corr = df.corr()\ncorr"
   ]
  },
  {
   "cell_type": "markdown",
   "id": "1df68331-e8ee-4556-9e47-db022a760f41",
   "metadata": {},
   "outputs": [],
   "source": [
    "The diagonal elements are always one; we will study correlation more precisely Pearson correlation in-depth at the end of the notebook.\n"
   ]
  },
  {
   "cell_type": "markdown",
   "id": "2237a221-63ed-484a-bef6-f789a1756264",
   "metadata": {},
   "outputs": [],
   "source": [
    "Now we have correlation, so we can built a <b>heatmap</b>:"
   ]
  },
  {
   "cell_type": "code",
   "id": "2136c740-a981-4416-b738-a0b83a75c96f",
   "metadata": {},
   "outputs": [],
   "source": [
    "sns.heatmap(corr)"
   ]
  },
  {
   "cell_type": "markdown",
   "id": "b189ebcd-adf2-4528-b55a-6ec1c59f5ff0",
   "metadata": {},
   "outputs": [],
   "source": [
    "<div class=\"alert alert-danger alertdanger\" style=\"margin-top: 20px\">\n<p><b style=\"font-size: 2em; font-weight: bold;\">Question #2:</b></p>\n\n<p>Find the correlation between the following columns:Avg_price, Volume, ATR, OBV, ADV, RSI, AD.</p>\n<p>Hint: if you would like to select those columns, use the following syntax: df[[\"Avg_price\",\"Volume\", \"ATR\", \"OBV\", \"ADTV\", \"RSI_14\", \"ADL\"]]</p>\n</div>\n"
   ]
  },
  {
   "cell_type": "code",
   "id": "d7659815-4fda-4c46-a893-caf898fd5f9f",
   "metadata": {},
   "outputs": [],
   "source": [
    "# Write your code below and press Shift+Enter to execute\n"
   ]
  },
  {
   "cell_type": "markdown",
   "id": "94139fc4-c6be-4f72-b6de-fc242624f368",
   "metadata": {},
   "outputs": [],
   "source": [
    "<details><summary>Click here for the solution</summary>\n\n```python\ncorr = df[[\"Avg_price\",\"Volume\", \"ATR\", \"OBV\", \"ADTV\", \"RSI_14\", \"ADL\"]].corr()\nsns.heatmap(corr)\n```\n\n</details>\n"
   ]
  },
  {
   "cell_type": "markdown",
   "id": "e4ab0cc7-c09a-4069-a176-c5a6e2015fa7",
   "metadata": {},
   "outputs": [],
   "source": [
    "## Continuous Numerical Variables: \n\n<p>Continuous numerical variables are variables that may contain any value within some range. They can be of type \"int64\" or \"float64\". A great way to visualize these variables is by using scatterplots with fitted lines.</p>\n\n<p>In order to start understanding the (linear) relationship between a Volume and other indicators, we can use \"regplot\" which plots the scatterplot plus the fitted regression line for the data.</p>\n"
   ]
  },
  {
   "cell_type": "markdown",
   "id": "5af23119-3589-4196-997a-5d242df5cb00",
   "metadata": {},
   "outputs": [],
   "source": [
    "Let's see several examples of different linear relationships:\n"
   ]
  },
  {
   "cell_type": "markdown",
   "id": "6408f195-b9fd-47a1-8068-f59e6764c769",
   "metadata": {},
   "outputs": [],
   "source": [
    "### Positive Linear Relationship\n"
   ]
  },
  {
   "cell_type": "markdown",
   "id": "02da2e4d-d6c1-4b47-a739-f3b2d8aad20e",
   "metadata": {},
   "outputs": [],
   "source": [
    "Let's find the scatterplot of \"Avg_price\" and \"OBV\".\n"
   ]
  },
  {
   "cell_type": "code",
   "id": "e0e4fd32-7a44-437f-a691-689fbec6fce1",
   "metadata": {},
   "outputs": [],
   "source": [
    "# OBV as potential predictor variable of price\nsns.regplot(x=\"Avg_price\", y=\"OBV\", data=df,scatter_kws={'s':2})\nplt.ylim(0,)"
   ]
  },
  {
   "cell_type": "markdown",
   "id": "995d9ba1-7968-4514-9a9e-ccce7d3a3c38",
   "metadata": {},
   "outputs": [],
   "source": [
    "<p>As the OBV goes up, the price goes up: this indicates a positive direct correlation between these two variables. OBV seems like a good predictor of price since the regression line is almost a perfect diagonal line.</p>\n"
   ]
  },
  {
   "cell_type": "markdown",
   "id": "9f487971-1dbd-4d3a-bada-5b63cbcf6480",
   "metadata": {},
   "outputs": [],
   "source": [
    "We can examine the correlation between 'OBV' and 'Avg_price' and see that it's approximately 0.57760.\n"
   ]
  },
  {
   "cell_type": "code",
   "id": "89e2a3d8-3a8a-46a3-98be-0c90c198388f",
   "metadata": {},
   "outputs": [],
   "source": [
    "df[[\"Avg_price\", \"OBV\"]].corr()"
   ]
  },
  {
   "cell_type": "markdown",
   "id": "4e815cb6-e9fa-4f58-980c-7a4a8a56a3ac",
   "metadata": {},
   "outputs": [],
   "source": [
    "Avg_price is a potential predictor variable of ADL. Let's find the scatterplot of \"Avg_price\" and \"ADL\".\n"
   ]
  },
  {
   "cell_type": "code",
   "id": "a76996fb-69ba-4a92-a3a9-dc22ace2b880",
   "metadata": {},
   "outputs": [],
   "source": [
    "sns.regplot(x=\"Avg_price\", y=\"ADL\", data=df,scatter_kws={'s':2})"
   ]
  },
  {
   "cell_type": "markdown",
   "id": "6bc01a0b-70a6-4099-95bf-64d66ed0bf38",
   "metadata": {},
   "outputs": [],
   "source": [
    "<p>As price goes up, the ADL goes down: this indicates a negative relationship between these two variables. Avg_price could potentially be a predictor of ADL.</p>\n"
   ]
  },
  {
   "cell_type": "markdown",
   "id": "7f28b9c5-6ea3-423e-9cbf-0ae72750376f",
   "metadata": {},
   "outputs": [],
   "source": [
    "We can examine the correlation between 'Avg_price' and 'ADL' and see it's approximately -0.46447.\n"
   ]
  },
  {
   "cell_type": "code",
   "id": "c1fcd940-185b-447c-8acf-b0b02e7c4493",
   "metadata": {},
   "outputs": [],
   "source": [
    "df[['Avg_price', 'ADL']].corr()"
   ]
  },
  {
   "cell_type": "markdown",
   "id": "ae2b1667-119e-416d-90ce-18e79fa8a445",
   "metadata": {},
   "outputs": [],
   "source": [
    "### Weak Linear Relationship\n"
   ]
  },
  {
   "cell_type": "markdown",
   "id": "99714074-3b3f-4de4-b438-3712f3a0f2a4",
   "metadata": {},
   "outputs": [],
   "source": [
    "Let's see if \"Avg_price\" is a predictor variable of \"Volume\".\n"
   ]
  },
  {
   "cell_type": "code",
   "id": "53798867-4c60-4659-b620-3dc21544c181",
   "metadata": {},
   "outputs": [],
   "source": [
    "sns.regplot(x=\"Avg_price\", y=\"Volume\", data=df,scatter_kws={'s':2})"
   ]
  },
  {
   "cell_type": "markdown",
   "id": "6aad1e4f-809b-4396-aeec-6ac903deedb1",
   "metadata": {},
   "outputs": [],
   "source": [
    "<p>Avg_price does not seem like a good predictor of the Volume at all since the regression line is close to horizontal. Also, the data points are very scattered and far from the fitted line, showing lots of variability. Therefore, it's not a reliable variable.</p>\n"
   ]
  },
  {
   "cell_type": "markdown",
   "id": "d0d88abb-dde0-408a-90a1-3bfa6ef8fbfd",
   "metadata": {},
   "outputs": [],
   "source": [
    "We can examine the correlation between 'Avg_price' and 'Volume' and see it's approximately -0.03253.\n"
   ]
  },
  {
   "cell_type": "code",
   "id": "2519a7d4-9d07-4f7d-8fe1-77cc25d3292d",
   "metadata": {},
   "outputs": [],
   "source": [
    "df[['Avg_price','Volume']].corr()"
   ]
  },
  {
   "cell_type": "markdown",
   "id": "5b104b17-9374-4e3d-97d9-e367fd6d0e4b",
   "metadata": {},
   "outputs": [],
   "source": [
    " <div class=\"alert alert-danger alertdanger\" style=\"margin-top: 20px\">\n<p><b style=\"font-size: 2em; font-weight: bold;\">Question #3a):</b></p>\n\n<p>Find the correlation  between x=\"Avg_price\" and y=\"ATR\".</p>\n<p>Hint: if you would like to select those columns, use the following syntax: df[[\"Avg_price\",\"ATR\"]].  </p>\n</div>\n"
   ]
  },
  {
   "cell_type": "code",
   "id": "f20ff33d-0be5-42cd-8d22-b1243620a5b8",
   "metadata": {},
   "outputs": [],
   "source": [
    "# Write your code below and press Shift+Enter to execute\n"
   ]
  },
  {
   "cell_type": "markdown",
   "id": "c6d90d49-685e-4c03-a5af-4c1a56e7248c",
   "metadata": {},
   "outputs": [],
   "source": [
    "<details><summary>Click here for the solution</summary>\n\n```python\n\n#The correlation is 0.491169.\n\ndf[[\"Avg_price\",\"ATR\"]].corr()\n\n```\n\n</details>\n"
   ]
  },
  {
   "cell_type": "markdown",
   "id": "0e76f6fa-b87f-49fa-b440-bbc1609ed319",
   "metadata": {},
   "outputs": [],
   "source": [
    "<div class=\"alert alert-danger alertdanger\" style=\"margin-top: 20px\">\n<p><b style=\"font-size: 2em; font-weight: bold;\">Question #3b:</b></p>\n\n<p>Given the correlation results between \"Avg_price\" and \"ATR\", do you expect a linear relationship?</p> \n<p>Verify your results using the function \"regplot()\".</p>\n</div>\n"
   ]
  },
  {
   "cell_type": "code",
   "id": "4d7afa96-48d9-4d3b-9a65-cab6a6f04826",
   "metadata": {},
   "outputs": [],
   "source": [
    "# Write your code below and press Shift+Enter to execute \n"
   ]
  },
  {
   "cell_type": "markdown",
   "id": "a99e5b57-2f56-4ee6-a45a-13703a533d73",
   "metadata": {},
   "outputs": [],
   "source": [
    "<details><summary>Click here for the solution</summary>\n\n```python\n\n#There is a positive correlation between the variable 'Avg_price' and 'ATR.'. We can see this using \"regplot\" to demonstrate this.\n\n#Code: \nsns.regplot(x=\"Avg_price\", y=\"ATR\", data=df,scatter_kws={'s':2})\n\n```\n\n</details>\n"
   ]
  },
  {
   "cell_type": "markdown",
   "id": "dab1723c-29b2-4bcd-9305-a7d522bfe4d2",
   "metadata": {},
   "outputs": [],
   "source": [
    "### Make Categorical Variables for next point\n<p>Let`s make categorical values as in the past lab.</p>"
   ]
  },
  {
   "cell_type": "markdown",
   "id": "7956bb96-bf75-4c78-81b1-a54612ec1167",
   "metadata": {},
   "outputs": [],
   "source": [
    "<p>We would like 5 bins of equal size bandwidth so we use numpy's <code>linspace(start_value, end_value, numbers_generated</code> function.</p>\n<p>Since we want to include the minimum value of Avg_price, we want to set start_value = min(df[\"Avg_price\"]).</p>\n<p>Since we want to include the maximum value of Avg_price, we want to set end_value = max(df[\"Avg_price\"]).</p>\n<p>Since we are building 5 bins of equal length, there should be 6 dividers, so numbers_generated = 6.</p>\n"
   ]
  },
  {
   "cell_type": "markdown",
   "id": "023771a8-5a7e-4a0b-a1fd-6470f3f88caf",
   "metadata": {},
   "outputs": [],
   "source": [
    "We build a bin array with a minimum value to a maximum value by using the bandwidth calculated above. The values will determine when one bin ends and another begins.\n"
   ]
  },
  {
   "cell_type": "code",
   "id": "193a6db2-c227-4a51-a83c-100f5e70bebb",
   "metadata": {},
   "outputs": [],
   "source": [
    "bins = np.linspace(min(df[\"Avg_price\"]), max(df[\"Avg_price\"]), 6)\nbins"
   ]
  },
  {
   "cell_type": "markdown",
   "id": "63e7395e-5c1f-4134-8c88-0b53602cba31",
   "metadata": {},
   "outputs": [],
   "source": [
    "We set group  names:\n"
   ]
  },
  {
   "cell_type": "code",
   "id": "e16fe3cd-32d0-4374-9cc0-5b0234fc9c8b",
   "metadata": {},
   "outputs": [],
   "source": [
    "group_names = ['Low','Lower Medium' ,'Medium', 'Upper Medium' ,'High']"
   ]
  },
  {
   "cell_type": "markdown",
   "id": "83f4abb6-d29b-42e6-b222-bed76914e095",
   "metadata": {},
   "outputs": [],
   "source": [
    "We apply the function \"cut\" to determine what each value of `df['Avg_price']` belongs to.\n"
   ]
  },
  {
   "cell_type": "code",
   "id": "6cd804f1-afb8-4393-8d91-662f00b59e9f",
   "metadata": {},
   "outputs": [],
   "source": [
    "df['Avg_price-binned'] = pd.cut(df['Avg_price'], bins, labels=group_names, include_lowest=True )\ndf[['Avg_price','Avg_price-binned']].head()"
   ]
  },
  {
   "cell_type": "markdown",
   "id": "00021565-c2de-4eb1-b68d-4ed8c60a7265",
   "metadata": {},
   "outputs": [],
   "source": [
    "Same for Volume:"
   ]
  },
  {
   "cell_type": "code",
   "id": "926066a4-c1ea-4dc1-bebc-6d9fef69661b",
   "metadata": {},
   "outputs": [],
   "source": [
    "bins = np.linspace(min(df[\"Volume\"]), max(df[\"Volume\"]), 6)\nbins"
   ]
  },
  {
   "cell_type": "code",
   "id": "028cee25-da05-4c64-ac2e-4a5d7322d491",
   "metadata": {},
   "outputs": [],
   "source": [
    "df['Volume-binned'] = pd.cut(df['Volume'], bins, labels=group_names, include_lowest=True )\ndf[['Volume','Volume-binned']].head()"
   ]
  },
  {
   "cell_type": "markdown",
   "id": "34aa7be4-c96b-4dfd-a0cc-a4635c1c63b6",
   "metadata": {},
   "outputs": [],
   "source": [
    "Same for Rec_count:\n    "
   ]
  },
  {
   "cell_type": "code",
   "id": "3ced8576-f26e-48b4-8a4b-20f1e1b7a23b",
   "metadata": {},
   "outputs": [],
   "source": [
    "bins = np.linspace(min(df[\"Rec_count\"]), max(df[\"Rec_count\"]), 6)\nbins"
   ]
  },
  {
   "cell_type": "code",
   "id": "2dd290a3-1f88-4ca7-9ab7-6e3453ad8192",
   "metadata": {},
   "outputs": [],
   "source": [
    "df['Rec_count-binned'] = pd.cut(df['Rec_count'], bins, labels=group_names, include_lowest=True )\ndf[['Rec_count','Rec_count-binned']].head()"
   ]
  },
  {
   "cell_type": "markdown",
   "id": "4904a56c-ef11-48a6-b394-45814a1e82f9",
   "metadata": {},
   "outputs": [],
   "source": [
    "### Categorical Variables\n\n<p>These are variables that describe a 'characteristic' of a data unit, and are selected from a small group of categories. The categorical variables can have the type \"object\" or \"int64\". A good way to visualize categorical variables is by using boxplots.</p>\n"
   ]
  },
  {
   "cell_type": "markdown",
   "id": "78710636-3a3e-49b3-b47f-b8e2b22e4cd4",
   "metadata": {},
   "outputs": [],
   "source": [
    "Let's look at the relationship between \"Avg_price\" and \"Avg_price-binned\".\n"
   ]
  },
  {
   "cell_type": "code",
   "id": "66f36506-313a-4a51-b11a-02f39294da4c",
   "metadata": {},
   "outputs": [],
   "source": [
    "sns.boxplot(x=\"Avg_price-binned\", y=\"Avg_price\", data=df)"
   ]
  },
  {
   "cell_type": "markdown",
   "id": "beeab2f1-d449-4f7f-b1b4-8e0a74975ce8",
   "metadata": {},
   "outputs": [],
   "source": [
    "<p>Here we see that the distribution of price between these five categories are distinct enough to take in which catagery price will be as a potential good predictor of price. Let's examine \"Volume\" and \"Volume-bined\":</p>\n"
   ]
  },
  {
   "cell_type": "code",
   "id": "b4b6b490-17d4-42bd-b0a9-2fe5eec666dd",
   "metadata": {},
   "outputs": [],
   "source": [
    "sns.boxplot(x=\"Volume-binned\", y=\"Volume\", data=df)"
   ]
  },
  {
   "cell_type": "markdown",
   "id": "3ca4cfb6-99a5-4cde-a244-b96c62dd2457",
   "metadata": {},
   "outputs": [],
   "source": [
    "<p>We can see the same.</p>\n"
   ]
  },
  {
   "cell_type": "markdown",
   "id": "c8d7506d-8651-44aa-b15e-e296602e6523",
   "metadata": {},
   "outputs": [],
   "source": [
    "Let's examine \"Avg_price-binned\" and \"Volume\".\n"
   ]
  },
  {
   "cell_type": "code",
   "id": "5f51b565-61d9-40db-8dd3-011458749de3",
   "metadata": {},
   "outputs": [],
   "source": [
    "# drive-wheels\nsns.boxplot(x=\"Avg_price-binned\", y=\"Volume\", data=df)"
   ]
  },
  {
   "cell_type": "markdown",
   "id": "9134a07a-a7fd-47fe-ad31-1ac5c94ff587",
   "metadata": {},
   "outputs": [],
   "source": [
    "<p><p>We see that the distributions of price between the different categories have a significant overlap, so Avg_price-binned would not be a good predictor of Volume. </p>\n</p>\n"
   ]
  },
  {
   "cell_type": "markdown",
   "id": "878d5d05-9004-4dbc-b28a-cd0d88a7a596",
   "metadata": {},
   "outputs": [],
   "source": [
    "## 3. Descriptive Statistical Analysis\n"
   ]
  },
  {
   "cell_type": "markdown",
   "id": "60270d0a-e5b1-4dd4-8346-8c0a41e5b77e",
   "metadata": {},
   "outputs": [],
   "source": [
    "<p>Let's first take a look at the variables by utilizing a description method.</p>\n\n<p>The <b>describe</b> function automatically computes basic statistics for all continuous variables. Any NaN values are automatically skipped in these statistics.</p>\n\nThis will show:\n\n<ul>\n    <li>the count of that variable</li>\n    <li>the mean</li>\n    <li>the standard deviation (std)</li> \n    <li>the minimum value</li>\n    <li>the IQR (Interquartile Range: 25%, 50% and 75%)</li>\n    <li>the maximum value</li>\n<ul>\n"
   ]
  },
  {
   "cell_type": "markdown",
   "id": "d24afdb6-d9a9-4a0b-a0cc-dd4b8126e564",
   "metadata": {},
   "outputs": [],
   "source": [
    "We can apply the method \"describe\" as follows:\n"
   ]
  },
  {
   "cell_type": "code",
   "id": "80a7da50-302d-4651-9edb-3bc62607a74c",
   "metadata": {},
   "outputs": [],
   "source": [
    "df.describe()"
   ]
  },
  {
   "cell_type": "markdown",
   "id": "35cc3f1d-b571-4c70-a861-d9ab7727ad8e",
   "metadata": {},
   "outputs": [],
   "source": [
    "The default setting of \"describe\" skips variables of type category. We can apply the method \"describe\" on the variables of type 'category' as follows:\n"
   ]
  },
  {
   "cell_type": "code",
   "id": "89d53d68-e9ed-401e-b682-27854c761ae1",
   "metadata": {},
   "outputs": [],
   "source": [
    "df.describe(include='category')"
   ]
  },
  {
   "cell_type": "markdown",
   "id": "e3a2a1b5-5066-4f1d-94a7-3626bf3b84dc",
   "metadata": {},
   "outputs": [],
   "source": [
    "### Value Counts\n"
   ]
  },
  {
   "cell_type": "markdown",
   "id": "2e84bfb9-892f-4ec7-9c4b-8f2a0ecc493d",
   "metadata": {},
   "outputs": [],
   "source": [
    "<p>Value counts is a good way of understanding how many units of each characteristic/variable we have. We can apply the \"value_counts\" method on the column \"Avg_price-binned\". Don’t forget the method \"value_counts\" only works on pandas series, not pandas dataframes. As a result, we only include one bracket <code>df['Avg_price-binned']</code>, not two brackets <code>df[['Avg_price-binned']]</code>.</p>\n"
   ]
  },
  {
   "cell_type": "code",
   "id": "57c3a070-5e3a-4126-8b6e-0ba02d037f67",
   "metadata": {},
   "outputs": [],
   "source": [
    "df['Avg_price-binned'].value_counts()"
   ]
  },
  {
   "cell_type": "markdown",
   "id": "d288e345-f75e-4e62-8f1f-e3292e1881c4",
   "metadata": {},
   "outputs": [],
   "source": [
    "We can convert the series to a dataframe as follows:\n"
   ]
  },
  {
   "cell_type": "code",
   "id": "2d6cc74f-b748-4847-ae77-c1764e0e4cbe",
   "metadata": {},
   "outputs": [],
   "source": [
    "df['Avg_price-binned'].value_counts().to_frame()"
   ]
  },
  {
   "cell_type": "markdown",
   "id": "e1b80455-46c0-4995-a64e-e9dafb34404f",
   "metadata": {},
   "outputs": [],
   "source": [
    "Let's repeat the above steps but save the results to the dataframe \"Avg_price_binned_counts\" and rename the column  'Avg_price-binned' to 'value_counts'.\n"
   ]
  },
  {
   "cell_type": "code",
   "id": "215b1aff-4f28-4893-8069-f74e65d51cfd",
   "metadata": {},
   "outputs": [],
   "source": [
    "BTCBUSD_avg_price_binned_counts = df['Avg_price-binned'].value_counts().to_frame()\nBTCBUSD_avg_price_binned_counts.rename(columns={'Avg_price-binned': 'value_counts'}, inplace=True)\nBTCBUSD_avg_price_binned_counts"
   ]
  },
  {
   "cell_type": "markdown",
   "id": "71f07cbf-5271-4691-9d09-d4b19a2b7e85",
   "metadata": {},
   "outputs": [],
   "source": [
    "Now let's rename the index to 'Avg_price-binned':\n"
   ]
  },
  {
   "cell_type": "code",
   "id": "a05b8cba-9460-409c-a073-2e52e8b509a4",
   "metadata": {},
   "outputs": [],
   "source": [
    "BTCBUSD_avg_price_binned_counts.index.name = 'Avg_price-binned'\nBTCBUSD_avg_price_binned_counts"
   ]
  },
  {
   "cell_type": "markdown",
   "id": "1673567e-167e-4fbd-af09-4ff64aebf7ae",
   "metadata": {},
   "outputs": [],
   "source": [
    "<p>After examining the value counts of the Avg_price-binned, we see that this category would be a good predictor variable for the price. This is because we only have mostly our prices in 'Medium'.</p>\n"
   ]
  },
  {
   "cell_type": "markdown",
   "id": "61f032e8-2f18-45ff-93f0-84429abd2fb9",
   "metadata": {},
   "outputs": [],
   "source": [
    "## 4. Basics of Grouping\n"
   ]
  },
  {
   "cell_type": "markdown",
   "id": "03e48594-d2b7-4493-8c60-3ed0047365ed",
   "metadata": {},
   "outputs": [],
   "source": [
    "<p>The \"groupby\" method groups data by different categories. The data is grouped based on one or several variables, and analysis is performed on the individual groups.</p>\n\n<p>For example, let's group by the variable \"Avg_price-binned\". We see that there are 5 different categories of Avg_price-binned.</p>\n"
   ]
  },
  {
   "cell_type": "code",
   "id": "07660447-74db-44d6-97de-46b3c6f8eaf0",
   "metadata": {},
   "outputs": [],
   "source": [
    "df['Avg_price-binned'].unique()"
   ]
  },
  {
   "cell_type": "markdown",
   "id": "1e0f37a1-07e7-4381-82e9-a53c4ec82211",
   "metadata": {},
   "outputs": [],
   "source": [
    "<p>If we want to know, on average, which type of Avg_price-binned is most valuable, we can group \"Avg_price-binned\" and then average them.</p>\n\n<p>We can select the columns 'Avg_price-binned' and 'Avg_price', then assign it to the variable \"df_group_one\".</p>\n"
   ]
  },
  {
   "cell_type": "code",
   "id": "e74f1a4a-ff95-4e5e-b985-4cf271e1fca1",
   "metadata": {},
   "outputs": [],
   "source": [
    "df_group_one = df[['Avg_price-binned','Avg_price']]"
   ]
  },
  {
   "cell_type": "markdown",
   "id": "21af39a2-5798-41f0-949e-8fa8cd11cf45",
   "metadata": {},
   "outputs": [],
   "source": [
    "We can then calculate the average price for each of the different categories of data.\n"
   ]
  },
  {
   "cell_type": "code",
   "id": "a245f6db-b8db-4365-99ec-ac3d36730697",
   "metadata": {},
   "outputs": [],
   "source": [
    "# grouping results\ndf_group_one = df_group_one.groupby(['Avg_price-binned'],as_index=False).mean()\ndf_group_one"
   ]
  },
  {
   "cell_type": "markdown",
   "id": "504052a6-b4ed-4768-bb30-a6792713e017",
   "metadata": {},
   "outputs": [],
   "source": [
    "<p>From our data, it seems High category are the most expensive.</p>\n\n<p>You can also group by multiple variables. For example, let's group by both 'Avg_price-binned' and 'Volume-binned'. This groups the dataframe by the unique combination of 'Avg_price-binned' and 'Volume-binned'. We can store the results in the variable 'grouped_test1'.</p>\n"
   ]
  },
  {
   "cell_type": "code",
   "id": "c7901c45-93c9-423e-a855-a8f784f04db2",
   "metadata": {},
   "outputs": [],
   "source": [
    "# grouping results\ndf_gptest = df[['Avg_price-binned','Volume-binned','Avg_price']]\ngrouped_test1 = df_gptest.groupby(['Avg_price-binned','Volume-binned'],as_index=False).mean()\ngrouped_test1"
   ]
  },
  {
   "cell_type": "markdown",
   "id": "e747940d-4926-4889-8901-7a90d3c3907a",
   "metadata": {},
   "outputs": [],
   "source": [
    "<p>This grouped data is much easier to visualize when it is made into a pivot table. A pivot table is like an Excel spreadsheet, with one variable along the column and another along the row. We can convert the dataframe to a pivot table using the method \"pivot\" to create a pivot table from the groups.</p>\n\n<p>In this case, we will leave the Avg_price-binned variable as the rows of the table, and Volume-binned to become the columns of the table:</p>\n"
   ]
  },
  {
   "cell_type": "code",
   "id": "e63da6cb-9eaa-4f62-b0b3-a16ec9a9216e",
   "metadata": {},
   "outputs": [],
   "source": [
    "grouped_pivot = grouped_test1.pivot(index='Volume-binned',columns='Avg_price-binned')\ngrouped_pivot"
   ]
  },
  {
   "cell_type": "markdown",
   "id": "817566c1-aba2-4b9b-8476-f108967645ca",
   "metadata": {},
   "outputs": [],
   "source": [
    "<p>Often, we won't have data for some of the pivot cells. We can fill these missing cells with the value 0, but any other value could potentially be used as well. It should be mentioned that missing data is quite a complex subject and is an entire course on its own.</p>\n"
   ]
  },
  {
   "cell_type": "code",
   "id": "d772433c-f547-405b-bb38-d371a588e1d4",
   "metadata": {},
   "outputs": [],
   "source": [
    "grouped_pivot = grouped_pivot.fillna(0) #fill missing values with 0\ngrouped_pivot"
   ]
  },
  {
   "cell_type": "markdown",
   "id": "f6747606-9550-49c3-964c-e26ef819fcd6",
   "metadata": {},
   "outputs": [],
   "source": [
    "Also we can use a crossed table to see how many values correspond to each other in the table:"
   ]
  },
  {
   "cell_type": "code",
   "id": "a2bfa1cf-4480-4bff-9526-5a41e89c32e8",
   "metadata": {},
   "outputs": [],
   "source": [
    "crossed_table = pd.crosstab(df['Volume-binned'],df['Avg_price-binned'])\ncrossed_table"
   ]
  },
  {
   "cell_type": "markdown",
   "id": "b16cc8d7-7e9a-47f6-babb-99e454876df2",
   "metadata": {},
   "outputs": [],
   "source": [
    "As we can see, mostly they correspond when bin for Volume is 'Low' and bin for BTC is 'Medium'."
   ]
  },
  {
   "cell_type": "markdown",
   "id": "103ab99d-dcab-4764-8392-6dcb7fce78ac",
   "metadata": {},
   "outputs": [],
   "source": [
    "<div class=\"alert alert-danger alertdanger\" style=\"margin-top: 20px\">\n<p><b style=\"font-size: 2em; font-weight: bold;\">Question #4:</b></p>\n\n<p>Use the \"groupby\" function to find the average \"Volume\" of each trade based on \"Volume-binned\".</p>\n</div>\n"
   ]
  },
  {
   "cell_type": "code",
   "id": "32fe0fad-ce81-46d1-9657-ba73827ca1fe",
   "metadata": {},
   "outputs": [],
   "source": [
    "# Write your code below and press Shift+Enter to execute \n"
   ]
  },
  {
   "cell_type": "markdown",
   "id": "c709fd08-104d-4b2d-bc23-2a581858f9de",
   "metadata": {},
   "outputs": [],
   "source": [
    "<details><summary>Click here for the solution</summary>\n\n```python\n# grouping results\ndf_gptest2 = df[['Volume','Volume-binned']]\ngrouped_test = df_gptest2.groupby(['Volume-binned'],as_index= False).mean()\ngrouped_test\n\n```\n\n</details>\n"
   ]
  },
  {
   "cell_type": "markdown",
   "id": "6b92e3c0-1e30-4790-9719-f6dd023cfc5a",
   "metadata": {},
   "outputs": [],
   "source": [
    "#### Variables: Avg_price-binned vs. Volume-binned\n"
   ]
  },
  {
   "cell_type": "markdown",
   "id": "a347fe9f-6de6-4d59-bdfa-96324ed9b4f7",
   "metadata": {},
   "outputs": [],
   "source": [
    "Let's use a heat map to visualize the relationship between Avg_price-binned vs Volume-binned.\n"
   ]
  },
  {
   "cell_type": "code",
   "id": "d2c6e482-03c0-421e-9d65-07e9ac037db3",
   "metadata": {},
   "outputs": [],
   "source": [
    "#use the grouped results\nplt.grid(False)\nplt.pcolor(crossed_table, cmap='RdBu')\nplt.colorbar()\nplt.show()"
   ]
  },
  {
   "cell_type": "markdown",
   "id": "04f89d95-86b1-47ca-9350-d53d314e6f30",
   "metadata": {},
   "outputs": [],
   "source": [
    "<p>The heatmap plots the target variable (price) proportional to colour with respect to the variables 'Volume-binned' and 'Avg_price-binned' on the vertical and horizontal axis, respectively. This allows us to visualize how the price is related to 'Avg_price-binned' and 'Volume-binned'.</p>\n\n<p>The default labels convey no useful information to us. Let's change that:</p>\n"
   ]
  },
  {
   "cell_type": "code",
   "id": "4a811ba4-1f42-4d65-8d83-ca15238abf76",
   "metadata": {},
   "outputs": [],
   "source": [
    "fig, ax = plt.subplots()\nplt.grid(False)\nim = ax.pcolor(crossed_table, cmap='RdBu')\n\n#label names\nrow_labels = crossed_table.columns\ncol_labels = crossed_table.index\n\n#move ticks and labels to the center\nax.set_xticks(np.arange(grouped_pivot.shape[1]) + 0.5, minor=False)\nax.set_yticks(np.arange(grouped_pivot.shape[0]) + 0.5, minor=False)\n\n#insert labels\nax.set_xticklabels(row_labels, minor=False)\nax.set_yticklabels(col_labels, minor=False)\n\n#rotate label if too long\nplt.xticks(rotation=90)\nfig.colorbar(im)\nplt.show()"
   ]
  },
  {
   "cell_type": "markdown",
   "id": "46f0241c-3e8b-4969-a685-0cfc33a018ae",
   "metadata": {},
   "outputs": [],
   "source": [
    "<p>Visualization is very important in data science, and Python visualization packages provide great freedom. We will go more in-depth in a separate Python visualizations course.</p>\n\n<p>The main question we want to answer in this module is, \"What are the main characteristics that have the most impact on the BTC price?\".</p>\n\n<p>To get a better measure of the important characteristics, we look at the correlation of these variables with the BTC avg price. In other words: how is the BTC avg price dependent on this variable?</p>\n"
   ]
  },
  {
   "cell_type": "markdown",
   "id": "c6b07db1-1bd8-48a6-8b16-0186a02da9c4",
   "metadata": {},
   "outputs": [],
   "source": [
    "## 5. Correlation and Causation\n"
   ]
  },
  {
   "cell_type": "markdown",
   "id": "2a568594-0807-463a-9107-430fa39009f1",
   "metadata": {},
   "outputs": [],
   "source": [
    "<p><b>Correlation</b>: a measure of the extent of interdependence between variables.</p>\n\n<p><b>Causation</b>: the relationship between cause and effect between two variables.</p>\n\n<p>It is important to know the difference between these two. Correlation does not imply causation. Determining correlation is much simpler  the determining causation as causation may require independent experimentation.</p>\n"
   ]
  },
  {
   "cell_type": "markdown",
   "id": "a0d65242-7383-455a-9c05-36dafe68be0a",
   "metadata": {},
   "outputs": [],
   "source": [
    "<p><b>Pearson Correlation</b></p>\n<p>The Pearson Correlation measures the linear dependence between two variables X and Y.</p>\n<p>The resulting coefficient is a value between -1 and 1 inclusive, where:</p>\n<ul>\n    <li><b>1</b>: Perfect positive linear correlation.</li>\n    <li><b>0</b>: No linear correlation, the two variables most likely do not affect each other.</li>\n    <li><b>-1</b>: Perfect negative linear correlation.</li>\n</ul>\n"
   ]
  },
  {
   "cell_type": "markdown",
   "id": "9897ae22-6c2c-4baf-9936-bcab629a52aa",
   "metadata": {},
   "outputs": [],
   "source": [
    "<p>Pearson Correlation is the default method of the function \"corr\". Like before, we can calculate the Pearson Correlation of the of the 'int64' or 'float64'  variables.</p>\n"
   ]
  },
  {
   "cell_type": "code",
   "id": "28149224-869a-4568-9fc6-410d06dbb87c",
   "metadata": {},
   "outputs": [],
   "source": [
    "df.corr()"
   ]
  },
  {
   "cell_type": "markdown",
   "id": "a088ea58-242d-4c41-934f-2d041c955b70",
   "metadata": {},
   "outputs": [],
   "source": [
    "Sometimes we would like to know the significant of the correlation estimate.\n"
   ]
  },
  {
   "cell_type": "markdown",
   "id": "3241cc13-0d11-4fdb-9f65-a8e662e92de4",
   "metadata": {},
   "outputs": [],
   "source": [
    "<b>P-value</b>\n\n<p>What is this P-value? The P-value is the probability value that the correlation between these two variables is statistically significant. Normally, we choose a significance level of 0.05, which means that we are 95% confident that the correlation between the variables is significant.</p>\n\nBy convention, when the\n\n<ul>\n    <li>p-value is $<$ 0.001: we say there is strong evidence that the correlation is significant.</li>\n    <li>the p-value is $<$ 0.05: there is moderate evidence that the correlation is significant.</li>\n    <li>the p-value is $<$ 0.1: there is weak evidence that the correlation is significant.</li>\n    <li>the p-value is $>$ 0.1: there is no evidence that the correlation is significant.</li>\n</ul>\n"
   ]
  },
  {
   "cell_type": "markdown",
   "id": "dba0fd9c-a99b-41c1-a074-e2570917a071",
   "metadata": {},
   "outputs": [],
   "source": [
    "We can obtain this information using  \"stats\" module in the \"scipy\"  library.\n"
   ]
  },
  {
   "cell_type": "markdown",
   "id": "13f17a6e-0996-492c-a876-d33816b36147",
   "metadata": {},
   "outputs": [],
   "source": [
    "### Avg_price vs. Volume\n"
   ]
  },
  {
   "cell_type": "markdown",
   "id": "920b1f0b-d71e-414e-986b-07cf2ff3b2e9",
   "metadata": {},
   "outputs": [],
   "source": [
    "Let's calculate the  Pearson Correlation Coefficient and P-value of 'Avg_price' and 'Volume'.\n"
   ]
  },
  {
   "cell_type": "code",
   "id": "873a069d-151b-4f7f-b7ce-e254f25ebb1e",
   "metadata": {},
   "outputs": [],
   "source": [
    "pearson_coef, p_value = stats.pearsonr(df['Avg_price'], df['Volume'])\nprint(\"The Pearson Correlation Coefficient is\",'%.3f' % pearson_coef, \" with a P-value of P =\",'%.3f' % p_value)  "
   ]
  },
  {
   "cell_type": "markdown",
   "id": "99efa734-b97b-4b84-8377-2e77e06752a5",
   "metadata": {},
   "outputs": [],
   "source": [
    "#### Conclusion:\n<p>Since the p-value is $<$ 0.001, the correlation between Avg_price and Volume is statistically significant, although the linear relationship is quite strong (~  -0.033).</p>\n"
   ]
  },
  {
   "cell_type": "markdown",
   "id": "45f596d6-0729-460f-9eb3-2a485ed604ac",
   "metadata": {},
   "outputs": [],
   "source": [
    "### Avg_price vs. OBV\n"
   ]
  },
  {
   "cell_type": "markdown",
   "id": "2d623838-07a1-4ba3-875e-4dcd9e33b28e",
   "metadata": {},
   "outputs": [],
   "source": [
    "Let's calculate the  Pearson Correlation Coefficient and P-value of 'Avg_price' and 'OBV'.\n"
   ]
  },
  {
   "cell_type": "code",
   "id": "030820a9-1941-4eee-b45d-43278e2622a8",
   "metadata": {},
   "outputs": [],
   "source": [
    "pearson_coef, p_value = stats.pearsonr(df['Avg_price'], df['OBV'])\nprint(\"The Pearson Correlation Coefficient is\",'%.3f' % pearson_coef, \" with a P-value of P = \",'%.3f' % p_value)  "
   ]
  },
  {
   "cell_type": "markdown",
   "id": "a17fb35b-8638-4ed5-92ad-b606bb08e669",
   "metadata": {},
   "outputs": [],
   "source": [
    "#### Conclusion:\n\n<p>Since the p-value is $<$ 0.001, the correlation between Avg_price and OBV is statistically significant, and the linear relationship is quite strong (~0.578).</p>\n"
   ]
  },
  {
   "cell_type": "markdown",
   "id": "b7581ba6-35b5-4c9e-bea9-2b245215586c",
   "metadata": {},
   "outputs": [],
   "source": [
    "### Avg_price vs. ADTV\n\nLet's calculate the  Pearson Correlation Coefficient and P-value of 'Avg_price' and 'ADTV'.\n"
   ]
  },
  {
   "cell_type": "code",
   "id": "1d6cbc32-9a76-4fee-811f-8065e036c5dd",
   "metadata": {},
   "outputs": [],
   "source": [
    "pearson_coef, p_value = stats.pearsonr(df['Avg_price'], df['ADTV'])\nprint(\"The Pearson Correlation Coefficient is\",'%.3f' % pearson_coef, \" with a P-value of P = \",'%.3f' % p_value)  "
   ]
  },
  {
   "cell_type": "markdown",
   "id": "d4c39dde-2765-44bc-8dd8-c6ddbdb8e2e4",
   "metadata": {},
   "outputs": [],
   "source": [
    "#### Conclusion:\n<p>Since the p-value is $<$ 0.001, the correlation between Avg_price and ADTV is statistically significant, and the linear relationship is moderately strong (~ -0.134).</p>\n"
   ]
  },
  {
   "cell_type": "markdown",
   "id": "0761e72f-afa5-464b-bc8c-8f3defd4471e",
   "metadata": {},
   "outputs": [],
   "source": [
    "### Avg_price vs. Gain\n"
   ]
  },
  {
   "cell_type": "markdown",
   "id": "f850ee2b-fcf7-4ec0-b462-d44e2b8d27ee",
   "metadata": {},
   "outputs": [],
   "source": [
    "Let's calculate the Pearson Correlation Coefficient and P-value of 'Avg_price' and 'Gain':\n"
   ]
  },
  {
   "cell_type": "code",
   "id": "6b8af811-16b9-4726-942f-94edeae8f24c",
   "metadata": {},
   "outputs": [],
   "source": [
    "pearson_coef, p_value = stats.pearsonr(df['Avg_price'], df['Gain'])\nprint(\"The Pearson Correlation Coefficient is\",'%.3f' % pearson_coef, \" with a P-value of P =\",'%.3f' % p_value ) "
   ]
  },
  {
   "cell_type": "markdown",
   "id": "6cf00fc3-a32f-4540-990b-bfd100966082",
   "metadata": {},
   "outputs": [],
   "source": [
    "#### Conclusion:\n\nSince the p-value is < 0.001, the correlation between Avg_price and Gain is statistically significant, and the linear relationship is moderately strong (\\~  -0.064).\n"
   ]
  },
  {
   "cell_type": "markdown",
   "id": "b1fb1e67-014b-46cd-9979-996a4f4b2021",
   "metadata": {},
   "outputs": [],
   "source": [
    "### Avg_price vs. Loss\n"
   ]
  },
  {
   "cell_type": "markdown",
   "id": "92a4ee02-7cac-4287-a26f-44930abc7072",
   "metadata": {},
   "outputs": [],
   "source": [
    "Let's calculate the Pearson Correlation Coefficient and P-value of 'Avg_price' and 'Loss':\n"
   ]
  },
  {
   "cell_type": "code",
   "id": "c69cf68f-7db1-462e-b8a0-2dc0b93d27ac",
   "metadata": {},
   "outputs": [],
   "source": [
    "pearson_coef, p_value = stats.pearsonr(df['Avg_price'], df['Loss'])\nprint( \"The Pearson Correlation Coefficient is\",'%.3f' % pearson_coef, \" with a P-value of P = \",'%.3f' % p_value)  "
   ]
  },
  {
   "cell_type": "markdown",
   "id": "20e5c98a-62d9-456d-9f8d-8708c343213c",
   "metadata": {},
   "outputs": [],
   "source": [
    "#### Conclusion:\n<p>Since the p-value is $<$ 0.001, the correlation between Avg_price and Loss is statistically significant, and the linear relationship is quite strong (~ -0.071).</p>\n"
   ]
  },
  {
   "cell_type": "markdown",
   "id": "74bd5a34-1aa6-4d70-9ba5-b51daeb87d6e",
   "metadata": {},
   "outputs": [],
   "source": [
    "### Avg_price vs. ATR\n"
   ]
  },
  {
   "cell_type": "markdown",
   "id": "ea831171-745a-438f-82a9-b26e3369d889",
   "metadata": {},
   "outputs": [],
   "source": [
    "Let's calculate the Pearson Correlation Coefficient and P-value of 'Avg_price' and 'ATR':\n"
   ]
  },
  {
   "cell_type": "code",
   "id": "3a9ec7c6-3a37-4444-a434-947ab3c505d2",
   "metadata": {},
   "outputs": [],
   "source": [
    "pearson_coef, p_value = stats.pearsonr(df['Avg_price'], df['ATR'])\nprint( \"The Pearson Correlation Coefficient is\",'%.3f' % pearson_coef, \" with a P-value of P = \",'%.3f' % p_value)  "
   ]
  },
  {
   "cell_type": "markdown",
   "id": "28d83cb9-b8d7-4e06-931c-3abd47937d29",
   "metadata": {},
   "outputs": [],
   "source": [
    "#### Conclusion:\n<p>Since the p-value is $<$ 0.001, the correlation between Avg_price and ATR is statistically significant, and the linear relationship is quite strong (~ -0.173).</p>\n"
   ]
  },
  {
   "cell_type": "markdown",
   "id": "f309d0a4-4400-4864-9477-bf012d106d65",
   "metadata": {},
   "outputs": [],
   "source": [
    "### Avg_price vs. RSI_14\n\nLet's calculate the Pearson Correlation Coefficient and P-value of 'Avg_price' and 'RSI_14':\n"
   ]
  },
  {
   "cell_type": "code",
   "id": "6aa93b21-38b7-4109-bca4-001c5779c7e9",
   "metadata": {},
   "outputs": [],
   "source": [
    "pearson_coef, p_value = stats.pearsonr(df['Avg_price'], df['RSI_14'])\nprint( \"The Pearson Correlation Coefficient is\",'%.3f' % pearson_coef, \" with a P-value of P = \",'%.3f' % p_value)  "
   ]
  },
  {
   "cell_type": "markdown",
   "id": "03ab7d18-1828-42df-84b6-b93ee7b5718f",
   "metadata": {},
   "outputs": [],
   "source": [
    "#### Conclusion:\n<p>Since the p-value is $<$ 0.001, the correlation between Avg_price and RSI_14 is statistically significant, and the linear relationship is quite strong (~ 0.034).</p>\n"
   ]
  },
  {
   "cell_type": "markdown",
   "id": "7fec0e1b-81d6-49db-99ec-756a0eac017d",
   "metadata": {},
   "outputs": [],
   "source": [
    "### Avg_price vs. ADL\n\nLet's calculate the Pearson Correlation Coefficient and P-value of 'Avg_price' and 'ADL':\n"
   ]
  },
  {
   "cell_type": "code",
   "id": "984f4819-f768-49d6-98cd-b3a8c8237116",
   "metadata": {},
   "outputs": [],
   "source": [
    "pearson_coef, p_value = stats.pearsonr(df['Avg_price'], df['ADL'])\nprint( \"The Pearson Correlation Coefficient is\",'%.3f' % pearson_coef, \" with a P-value of P = \",'%.3f' % p_value)  "
   ]
  },
  {
   "cell_type": "markdown",
   "id": "06c92614-601a-44dc-b9e9-83921b8b7812",
   "metadata": {},
   "outputs": [],
   "source": [
    "#### Conclusion:\n<p>Since the p-value is $<$ 0.001, the correlation between Avg_price and RSI_14 is statistically significant, and the linear relationship is quite strong (~ -0.464).</p>\n"
   ]
  },
  {
   "cell_type": "markdown",
   "id": "293a4abe-d5b9-4c08-a3e0-52b9f0ddd321",
   "metadata": {},
   "outputs": [],
   "source": [
    "## 6. ANOVA\n"
   ]
  },
  {
   "cell_type": "markdown",
   "id": "a3895d64-639e-4971-88ec-b85b8d049f9c",
   "metadata": {},
   "outputs": [],
   "source": [
    "### ANOVA: Analysis of Variance\n<p>The Analysis of Variance  (ANOVA) is a statistical method used to test whether there are significant differences between the means of two or more groups. ANOVA returns two parameters:</p>\n\n<p><b>F-test score</b>: ANOVA assumes the means of all groups are the same, calculates how much the actual means deviate from the assumption, and reports it as the F-test score. A larger score means there is a larger difference between the means.</p>\n\n<p><b>P-value</b>:  P-value tells how statistically significant our calculated score value is.</p>\n\n<p>If our price variable is strongly correlated with the variable we are analyzing, we expect ANOVA to return a sizeable F-test score and a small p-value.</p>\n"
   ]
  },
  {
   "cell_type": "markdown",
   "id": "c4e28b89-10a1-4c4c-86f0-7acd448a8900",
   "metadata": {},
   "outputs": [],
   "source": [
    "### Avg_price-binned"
   ]
  },
  {
   "cell_type": "markdown",
   "id": "3f1a3010-cd45-4ae3-b9d6-5751609a7c5f",
   "metadata": {},
   "outputs": [],
   "source": [
    "<p>Since ANOVA analyzes the difference between different groups of the same variable, the groupby function will come in handy. Because the ANOVA algorithm averages the data automatically, we do not need to take the average before hand.</p>\n\n<p>To see if different types of 'drive-wheels' impact  'price', we group the data.</p>\n"
   ]
  },
  {
   "cell_type": "code",
   "id": "fcec3103-8c6a-4980-96ed-ef44f1ab0b1b",
   "metadata": {},
   "outputs": [],
   "source": [
    "grouped_test2=df_gptest[[ 'Avg_price-binned','Avg_price']].groupby(['Avg_price-binned'])\ngrouped_test2.head(2)"
   ]
  },
  {
   "cell_type": "markdown",
   "id": "7ada428b-9ef3-4096-8aa2-57bebfbe5f86",
   "metadata": {},
   "outputs": [],
   "source": [
    "We can obtain the values of the method group using the method \"get_group\".\n"
   ]
  },
  {
   "cell_type": "code",
   "id": "694bed44-8cc3-45de-93f4-bec3e53e8ba6",
   "metadata": {},
   "outputs": [],
   "source": [
    "grouped_test2.get_group('Low')['Avg_price']"
   ]
  },
  {
   "cell_type": "markdown",
   "id": "a1f2d509-ea4d-470f-bf96-1d799ef109b5",
   "metadata": {},
   "outputs": [],
   "source": [
    "We can use the function 'f_oneway' in the module 'stats' to obtain the <b>F-test score</b> and <b>P-value</b>.\n"
   ]
  },
  {
   "cell_type": "code",
   "id": "e75fb2f0-f248-400e-bd5d-2a2031d52854",
   "metadata": {},
   "outputs": [],
   "source": [
    "# ANOVA\nf_val, p_val = stats.f_oneway(grouped_test2.get_group('Low')['Avg_price'], \n                              grouped_test2.get_group('Lower Medium')['Avg_price'],\n                              grouped_test2.get_group('Medium')['Avg_price'],\n                              grouped_test2.get_group('Upper Medium')['Avg_price'],\n                              grouped_test2.get_group('High')['Avg_price'])  \n \nprint( \"ANOVA results: F=\",'%.3f' % f_val, \", P =\",'%.3f' % p_val)   "
   ]
  },
  {
   "cell_type": "markdown",
   "id": "d63941f3-e473-4d15-a755-2679544fd0d0",
   "metadata": {},
   "outputs": [],
   "source": [
    "This is a great result with a large F-test score showing a strong correlation and a P-value of almost 0 implying almost certain statistical significance. But does this mean all five tested groups are all this highly correlated?\n\nLet's examine them separately.\n"
   ]
  },
  {
   "cell_type": "markdown",
   "id": "fd020a11-f077-4599-8e33-456269f03135",
   "metadata": {},
   "outputs": [],
   "source": [
    "#### Low and Lower Medium"
   ]
  },
  {
   "cell_type": "code",
   "id": "7b0a4043-2a95-4ea7-abdb-b46c9b3b3b7b",
   "metadata": {},
   "outputs": [],
   "source": [
    "f_val, p_val = stats.f_oneway(grouped_test2.get_group('Low')['Avg_price'], \n                              grouped_test2.get_group('Lower Medium')['Avg_price'])  \n \nprint( \"ANOVA results: F=\",'%.3f' % f_val, \", P =\",'%.3f' % p_val )"
   ]
  },
  {
   "cell_type": "markdown",
   "id": "01f5a5d6-27eb-4807-9756-1a747605f112",
   "metadata": {},
   "outputs": [],
   "source": [
    "Let's examine the other groups.\n"
   ]
  },
  {
   "cell_type": "markdown",
   "id": "9472acc1-19da-475b-a973-a6f1aec9d1fe",
   "metadata": {},
   "outputs": [],
   "source": [
    "#### Low and Medium\n"
   ]
  },
  {
   "cell_type": "code",
   "id": "a1716a5b-3e77-4538-b06c-e67a250f8a8d",
   "metadata": {},
   "outputs": [],
   "source": [
    "f_val, p_val = stats.f_oneway(grouped_test2.get_group('Low')['Avg_price'], \n                              grouped_test2.get_group('Medium')['Avg_price'])  \n   \nprint( \"ANOVA results: F=\",'%.3f' % f_val, \", P =\",'%.3f' % p_val)   "
   ]
  },
  {
   "cell_type": "markdown",
   "id": "b1794489-6c9f-426f-ac55-40c15d0303b8",
   "metadata": {},
   "outputs": [],
   "source": [
    "#### Low and Upper Medium\n"
   ]
  },
  {
   "cell_type": "code",
   "id": "e92b45b3-5ef9-477d-b543-a6caf1cbd756",
   "metadata": {},
   "outputs": [],
   "source": [
    "f_val, p_val = stats.f_oneway(grouped_test2.get_group('Low')['Avg_price'], \n                              grouped_test2.get_group('Upper Medium')['Avg_price'])  \n \nprint(\"ANOVA results: F=\",'%.3f' % f_val, \", P =\",'%.3f' % p_val)   "
   ]
  },
  {
   "cell_type": "markdown",
   "id": "f24debf8-1edf-41ca-a56e-97c4f9055bba",
   "metadata": {},
   "outputs": [],
   "source": [
    "#### Low and High"
   ]
  },
  {
   "cell_type": "code",
   "id": "27a401c7-324f-4400-b9d9-16afb10c1f89",
   "metadata": {},
   "outputs": [],
   "source": [
    "f_val, p_val = stats.f_oneway(grouped_test2.get_group('Low')['Avg_price'], \n                              grouped_test2.get_group('High')['Avg_price'])  \n \nprint(\"ANOVA results: F=\",'%.3f' % f_val, \", P =\",'%.3f' % p_val)   "
   ]
  },
  {
   "cell_type": "markdown",
   "id": "47fc4369-4584-41e2-8f01-34c4be4fd821",
   "metadata": {},
   "outputs": [],
   "source": [
    "#### Lower Medium and Medium"
   ]
  },
  {
   "cell_type": "code",
   "id": "4a74079d-ca5d-427b-b68f-7cb0aa41117d",
   "metadata": {},
   "outputs": [],
   "source": [
    "f_val, p_val = stats.f_oneway(grouped_test2.get_group('Lower Medium')['Avg_price'], \n                              grouped_test2.get_group('Medium')['Avg_price'])  \n \nprint(\"ANOVA results: F=\",'%.3f' % f_val, \", P =\",'%.3f' % p_val)   "
   ]
  },
  {
   "cell_type": "markdown",
   "id": "6cd57523-9240-422b-a3cc-1104ca59c3b1",
   "metadata": {},
   "outputs": [],
   "source": [
    "#### Lower Medium and Upper Medium"
   ]
  },
  {
   "cell_type": "code",
   "id": "c2960fdd-7678-4f42-923d-0b182725fd32",
   "metadata": {},
   "outputs": [],
   "source": [
    "f_val, p_val = stats.f_oneway(grouped_test2.get_group('Lower Medium')['Avg_price'], \n                              grouped_test2.get_group('Upper Medium')['Avg_price'])  \n \nprint(\"ANOVA results: F=\",'%.3f' % f_val, \", P =\",'%.3f' % p_val)   "
   ]
  },
  {
   "cell_type": "markdown",
   "id": "58e1e978-2c1a-422b-92a0-a1a69418984e",
   "metadata": {},
   "outputs": [],
   "source": [
    "#### Lower Medium and High"
   ]
  },
  {
   "cell_type": "code",
   "id": "72f26a30-e711-4ebd-8712-d4d4208050e9",
   "metadata": {},
   "outputs": [],
   "source": [
    "f_val, p_val = stats.f_oneway(grouped_test2.get_group('Lower Medium')['Avg_price'], \n                              grouped_test2.get_group('High')['Avg_price'])  \n \nprint(\"ANOVA results: F=\",'%.3f' % f_val, \", P =\",'%.3f' % p_val)   "
   ]
  },
  {
   "cell_type": "markdown",
   "id": "5ddab6e6-29af-4037-bfc3-9ed501c0614e",
   "metadata": {},
   "outputs": [],
   "source": [
    "#### Medium and Upper Medium"
   ]
  },
  {
   "cell_type": "code",
   "id": "debc186e-0c5f-44d9-b7a1-175f9b6f4a07",
   "metadata": {},
   "outputs": [],
   "source": [
    "f_val, p_val = stats.f_oneway(grouped_test2.get_group('Medium')['Avg_price'], \n                              grouped_test2.get_group('Upper Medium')['Avg_price'])  \n \nprint(\"ANOVA results: F=\",'%.3f' % f_val, \", P =\",'%.3f' % p_val)   "
   ]
  },
  {
   "cell_type": "markdown",
   "id": "dfa7db44-6f5a-4563-9534-eca6fa8d3116",
   "metadata": {},
   "outputs": [],
   "source": [
    "#### Medium and High"
   ]
  },
  {
   "cell_type": "code",
   "id": "498e9d94-80c6-44b4-9880-36b80bbba07c",
   "metadata": {},
   "outputs": [],
   "source": [
    "f_val, p_val = stats.f_oneway(grouped_test2.get_group('Medium')['Avg_price'], \n                              grouped_test2.get_group('High')['Avg_price'])  \n \nprint(\"ANOVA results: F=\",'%.3f' % f_val, \", P =\",'%.3f' % p_val)   "
   ]
  },
  {
   "cell_type": "markdown",
   "id": "7b5e0c0f-07ca-4ba3-9c85-a98645a91bc3",
   "metadata": {},
   "outputs": [],
   "source": [
    "#### Upper Medium and High"
   ]
  },
  {
   "cell_type": "code",
   "id": "f5c4ee01-d154-4076-a1ca-e4695a3cc818",
   "metadata": {},
   "outputs": [],
   "source": [
    "f_val, p_val = stats.f_oneway(grouped_test2.get_group('Upper Medium')['Avg_price'], \n                              grouped_test2.get_group('High')['Avg_price'])  \n \nprint(\"ANOVA results: F=\",'%.3f' % f_val, \", P =\",'%.3f' % p_val)   "
   ]
  },
  {
   "cell_type": "markdown",
   "id": "8ea40b06-6e0b-43b8-a8a7-9f7caf7e8cb5",
   "metadata": {},
   "outputs": [],
   "source": [
    "## 7. Durbin-Watson Test"
   ]
  },
  {
   "cell_type": "markdown",
   "id": "cedef130-b68b-45f5-932b-f66f90b6ac6b",
   "metadata": {},
   "outputs": [],
   "source": [
    "#### What is Durbin-Watson Test?\n"
   ]
  },
  {
   "cell_type": "markdown",
   "id": "d6df67f6-49b7-4c70-b56f-82a756c8a984",
   "metadata": {},
   "outputs": [],
   "source": [
    "In regression analysis, Durbin-Watson (DW) is useful for checking the first-order autocorrelation (serial correlation). It analyzes the residuals for independence over time points (autocorrelation). The autocorrelation varies from -1 (negative autocorrelation) to 1 (positive autocorrelation).\n\n<p><p>Durbin-Watson test analyzes the following hypotheses, </p></p><p><p>Null hypothesis (H<sub>0</sub>): Residuals from the regression are not autocorrelated (autocorrelation coefficient, ρ = 0)\\nAlternative hypothesis (H<sub>a</sub>): Residuals from the regression are autocorrelated (autocorrelation coefficient, ρ > 0)</p></p>\nWe will use <b>durbin_watson</b> for Durbin-Watson Test and <b>OLS</b> to get residuals from \"statsmodels\" library"
   ]
  },
  {
   "cell_type": "code",
   "id": "5a4868d2-305f-4903-832c-ce32a895b96d",
   "metadata": {},
   "outputs": [],
   "source": [
    "X = df[\"Avg_price\"] # independent\ny = df[\"Volume\"] # dependent\n# to get intercept\nX = sm.add_constant(X)\n# fit the regression model\nreg = sm.OLS(y, X).fit()"
   ]
  },
  {
   "cell_type": "code",
   "id": "531c7452-4d2b-4466-aa1c-00df84d869de",
   "metadata": {},
   "outputs": [],
   "source": [
    "print('%.5f' % dwtest(resids=np.array(reg.resid)))"
   ]
  },
  {
   "cell_type": "markdown",
   "id": "4a00326f-203f-4e2e-a4b4-c129e901ad08",
   "metadata": {},
   "outputs": [],
   "source": [
    "Let's calculate Durbin-Watson for all available pairs"
   ]
  },
  {
   "cell_type": "code",
   "id": "881f3bc2-0a81-4ccd-bc97-7a52df3d69ea",
   "metadata": {},
   "outputs": [],
   "source": [
    "\ncols = [\"Avg_price_dep\",\"ATR_dep\",\"ADTV_dep\",\"OBV_dep\",\"ADL_dep\",\n         \"Volume_dep\",\"RSI_14_dep\"]\nidxs = [\"Avg_price_indep\",\"ATR_indep\",\"ADTV_indep\",\"OBV_indep\",\"ADL_indep\",\n         \"Volume_indep\",\"RSI_14_indep\"]\n\nfiles = [\"Avg_price\",\"ATR\",\"ADTV\",\"OBV\",\"ADL\",\n         \"Volume\",\"RSI_14\"]\n\n\ndurbin = pd.DataFrame(columns=cols, index=idxs)\n\nfor (file1, file2) in itertools.permutations(files, 2):\n    curr1 = file1\n    curr2 = file2\n    X = df[curr1] # independent\n    y = df[curr2] # dependent\n    # to get intercept\n    X = sm.add_constant(X)\n    # fit the regression model\n    reg = sm.OLS(y, X).fit()\n    dw = dwtest(resids=np.array(reg.resid))\n    durbin.loc[f\"{curr1}_indep\", f\"{curr2}_dep\"] = dw\n    \nnp.fill_diagonal(durbin.values, \"—\")\npd.options.display.float_format = '{:.5f}'.format \ndurbin"
   ]
  },
  {
   "cell_type": "markdown",
   "id": "0b5d7810-d84f-40cf-ab24-c58d6e4cb53d",
   "metadata": {},
   "outputs": [],
   "source": [
    "Now we can see a dataframe that consists of all the p-values. <p>How to interpret these values?</p> We take any value, its column will be responsible for the dependent value, and the row - for the independent value"
   ]
  },
  {
   "cell_type": "markdown",
   "id": "d287e19e-fd13-4f4c-84d6-e1a19ff6aa17",
   "metadata": {},
   "outputs": [],
   "source": [
    "## 8. Granger Causality Test"
   ]
  },
  {
   "cell_type": "markdown",
   "id": "9919a6bc-4c82-44d8-afdb-3777a7961294",
   "metadata": {},
   "outputs": [],
   "source": [
    "<b>What is Granger causality test?</b>\n<p>The Granger causality test is a statistical hypothesis test for determining whether one time series is a factor and offer useful information in forecasting another time series.</p>\n\n<p>For example, given a question: Could we use today’s Apple’s stock price to predict tomorrow’s Tesla’s stock price? If this is true, our statement will be Apple’s stock price Granger causes Tesla’s stock price. If this is not true, we say Apple’s stock price does not Granger cause Tesla’s stock price.</p>"
   ]
  },
  {
   "cell_type": "code",
   "id": "09127ff4-3d4a-4612-8d3d-8511926d0b3e",
   "metadata": {},
   "outputs": [],
   "source": [
    "from statsmodels.tsa.stattools import grangercausalitytests\n\ndef GCT(coin_name):\n    test_df = df[[\"Avg_price\", \"Volume\"]]\n    x = df.index\n    y1 = test_df[\"Avg_price\"]\n    y2 = test_df[\"Volume\"]\n    \n    fig, ax1 = plt.subplots(1, 1, figsize = (16,9), dpi = 80)\n    ax1.plot(x, y1, color = 'tab:red')\n    \n    ax2 = ax1.twinx()\n    ax2.plot(x, y2, color = 'tab:blue')\n    \n    # decor for ax1\n    ax1.set_xlabel(\"Time\", fontsize = 20)\n    ax1.tick_params(axis = 'x', rotation = 0, labelsize = 12)\n    ax1.set_ylabel(\"BTCBUST_avg_price\", color = 'tab:red', fontsize = 20)\n    ax1.tick_params(axis = 'y', rotation = 0, labelcolor = 'tab:red')\n    ax1.grid(alpha=.4)\n    \n    #decor for ax2\n    ax2.set_ylabel(\"Volume\", color = 'tab:blue', fontsize = 20)\n    ax2.tick_params(axis = 'y', rotation = 0, labelcolor = 'tab:blue')\n    ax2.set_xticks(np.arange(0, len(x), 60))\n    ax2.set_xticklabels(x[::60], rotation = 90, fontdict = {'fontsize':10})\n    ax2.set_title(\"Visualizing Leading Indicator Phenomenon\", fontsize = 22)\n    \n    fig.tight_layout()\n    plt.show()"
   ]
  },
  {
   "cell_type": "markdown",
   "id": "2d0e5204-6f64-4aa7-8ae1-9678d65eb7a7",
   "metadata": {},
   "outputs": [],
   "source": [
    "Call our function:"
   ]
  },
  {
   "cell_type": "code",
   "id": "580682d6-f247-4db4-b577-17b02f6f3c09",
   "metadata": {},
   "outputs": [],
   "source": [
    "GCT(\"BTC\")"
   ]
  },
  {
   "cell_type": "markdown",
   "id": "ed1fe127-c960-44e0-8749-4231f23d6b3d",
   "metadata": {},
   "outputs": [],
   "source": [
    "Now let's define custom function which will do Granger Causality Test and return result as <b>pd.DataFrame</b>:"
   ]
  },
  {
   "cell_type": "code",
   "id": "6021eb54-5b02-4d85-b5e7-6b0811c5b7ef",
   "metadata": {},
   "outputs": [],
   "source": [
    "def grangers_causation_matrix(data, maxlag, variables, test='ssr_chi2test', verbose=False):    \n    \"\"\"Check Granger Causality of all possible combinations of the Time series.\n    The rows are the response variable, columns are predictors. The values in the table \n    are the P-Values. P-Values lesser than the significance level (0.05), implies \n    the Null Hypothesis that the coefficients of the corresponding past values is \n    zero, that is, the X does not cause Y can be rejected.\n\n    data      : pandas dataframe containing the time series variables\n    variables : list containing names of the time series variables.\n    \"\"\"\n    df = pd.DataFrame(np.zeros((len(variables), len(variables))), columns=variables, index=variables)\n    for c in df.columns:\n        for r in df.index:\n            test_result = grangercausalitytests(data[[r, c]], maxlag=maxlag, verbose=False)\n            p_values = [round(test_result[i+1][0][test][1],4) for i in range(maxlag)]\n            if verbose: print(f'Y = {r}, X = {c}, P Values = {p_values}')\n            min_p_value = np.min(p_values)\n            df.loc[r, c] = min_p_value\n    df.columns = [var + '_x' for var in variables]\n    df.index = [var + '_y' for var in variables]\n    return df"
   ]
  },
  {
   "cell_type": "code",
   "id": "18cc8362-acf1-4d99-96a3-0001625fe24b",
   "metadata": {},
   "outputs": [],
   "source": [
    "pd.options.display.float_format = '{:.2f}'.format\ngrangers_causation_matrix(df[[\"Avg_price\", \"Volume\"]], 1, variables=[\"Avg_price\", \"Volume\"])"
   ]
  },
  {
   "cell_type": "markdown",
   "id": "d7e14f93-7aa1-4cc5-a6c8-5b668ff07cc5",
   "metadata": {},
   "outputs": [],
   "source": [
    "How to interpret the p-values?\n\nAssuming a significance level of 0.05, if the p-value is lesser than 0.05, then we do NOT reject the null hypothesis that X does NOT granger cause Y.\n\nSo, in the above table, the p-value for Avg_price_x and Volume_y is 0.00. So we reject the null hypothesis and conclude that (Avg_price) granger causes (Volume).\n\nThat means, Avg_price will likely be helpful in predicting the Volume.\n\nBut the p-value for Avg_price_x and Volume is 0.42.\n\nSince the p-value isn't less than 0.05, we can't reject the null hypothesis. That is, \"Volume_x\" is predictive of \"Avg_price_y\".\n\nLet's calculate Granger Causality Test for all available pairs"
   ]
  },
  {
   "cell_type": "code",
   "id": "655d8ca9-31ef-4baa-ba93-508becf870b5",
   "metadata": {},
   "outputs": [],
   "source": [
    "grangers_causation_matrix(df[[\"Avg_price\", \"OBV\"]], 1, variables=[\"Avg_price\", \"OBV\"])"
   ]
  },
  {
   "cell_type": "code",
   "id": "349f088f-fedd-4ce6-b608-4f8b9e863674",
   "metadata": {},
   "outputs": [],
   "source": [
    "grangers_causation_matrix(df[[\"Avg_price\", \"ATR\"]], 1, variables=[\"Avg_price\", \"ATR\"])"
   ]
  },
  {
   "cell_type": "code",
   "id": "a32dc4f7-b3ce-42e1-8d18-7e95f16aecbb",
   "metadata": {},
   "outputs": [],
   "source": [
    "grangers_causation_matrix(df[[\"Avg_price\", \"ADL\"]], 1, variables=[\"Avg_price\", \"ADL\"])"
   ]
  },
  {
   "cell_type": "code",
   "id": "e9e8dc5b-97e1-4cee-85a5-b75f1a70406e",
   "metadata": {},
   "outputs": [],
   "source": [
    "grangers_causation_matrix(df[[\"Avg_price\", \"RSI_14\"]], 1, variables=[\"Avg_price\", \"RSI_14\"])"
   ]
  },
  {
   "cell_type": "code",
   "id": "740399d6-a07f-4655-b94b-cd088271a152",
   "metadata": {},
   "outputs": [],
   "source": [
    "grangers_causation_matrix(df[[\"Avg_price\", \"ADTV\"]], 1, variables=[\"Avg_price\", \"ADTV\"])"
   ]
  },
  {
   "cell_type": "code",
   "id": "1807607e-db92-4615-8129-c31e28a9e2a4",
   "metadata": {},
   "outputs": [],
   "source": [
    "grangers_causation_matrix(df[[\"Volume\", \"OBV\"]], 1, variables=[\"Volume\", \"OBV\"])"
   ]
  },
  {
   "cell_type": "code",
   "id": "ebbe645a-5731-4fb5-8566-b64f7e692ad3",
   "metadata": {},
   "outputs": [],
   "source": [
    "grangers_causation_matrix(df[[\"Volume\", \"ADTV\"]], 1, variables=[\"Volume\", \"ADTV\"])"
   ]
  },
  {
   "cell_type": "markdown",
   "id": "0e7e8876-aaab-434a-ac04-b102529035f6",
   "metadata": {},
   "outputs": [],
   "source": [
    "### Conclusion:\n"
   ]
  },
  {
   "cell_type": "markdown",
   "id": "2cb5673f-16fc-477e-b189-436015c1d6bc",
   "metadata": {},
   "outputs": [],
   "source": [
    "<p>We now have a better idea of what our data looks like and which indicators are more related to our price - the BTC's price:</p>\n\n<ul>\n    <li>RSI_14</li>\n    <li>ADL</li>\n\n</ul>\n<p> On Volume:</p>\n<ul>\n    <li>OBV</li>\n</ul>\n<p> Also we can say after <b>Granger Causality Test</b> that the BTC's price affects on:</p>\n<ul>\n    <li>Volume</li>\n    <li>ATR</li>\n    <li>ADL</li>\n\n</ul>\n\n<p>As we now move into building machine learning models to automate our analysis, feeding the model with variables that meaningfully affect our target variable will improve our model's prediction performance.</p>\n"
   ]
  },
  {
   "cell_type": "markdown",
   "id": "4a34a1b7-5ddf-4c84-851f-7db24cf65d65",
   "metadata": {},
   "outputs": [],
   "source": [
    "Save our new dataset to a file:"
   ]
  },
  {
   "cell_type": "code",
   "id": "b2db969c-a9bb-4dcb-be07-2d53de958140",
   "metadata": {},
   "outputs": [],
   "source": [
    "df.to_csv(\"BTC.csv\", index=False)"
   ]
  },
  {
   "cell_type": "markdown",
   "id": "dd4d09f3-6aae-4d3c-abea-44fd66ae281a",
   "metadata": {},
   "outputs": [],
   "source": [
    "### Thank you for completing this lab!\n\n## Authors\n\n<a href=\"https://www.linkedin.com/in/bohdan-tsisinskyi-539913255/ \" target=\"_blank\" >Bohdan Tsisinskyi</a>\n\n<a href=\"https://author.skills.network/instructors/yaroslav_vyklyuk_2\">Prof. Yaroslav Vyklyuk, DrSc, PhD</a>\n\n<a href=\"https://author.skills.network/instructors/mariya_fleychuk\">Prof. Mariya Fleychuk, DrSc, PhD</a>.\n\n## Change Log\n\n| Date (YYYY-MM-DD) | Version | Changed By | Change Description                 |\n| ----------------- | ------- | ---------- | ---------------------------------- |\n| 2023-03-11        | 1.0     | Bohdan Tsisinskyi   | Lab created                   |\n\n\n<hr>\n\n## <h3 align=\"center\"> © IBM Corporation 2023. All rights reserved. <h3/>\n"
   ]
  },
  {
   "cell_type": "code",
   "id": "8fc10a1d-e1dc-4a2a-ba90-9d9cbd2b42dd",
   "metadata": {},
   "outputs": [],
   "source": [
    ""
   ]
  }
 ],
 "metadata": {
  "language_info": {
   "name": ""
  },
  "kernelspec": {
   "name": "",
   "display_name": ""
  }
 },
 "nbformat": 4,
 "nbformat_minor": 4
}

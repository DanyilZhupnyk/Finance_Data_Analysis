{
 "cells": [
  {
   "cell_type": "markdown",
   "id": "5ce09e90-e62d-4a52-a65b-6312dbf7b08f",
   "metadata": {},
   "outputs": [],
   "source": [
    "<center>\n",
    "    <img src=\"https://cf-courses-data.s3.us.cloud-object-storage.appdomain.cloud/assets/logos/SN_web_lightmode.png\" width=\"500\" alt=\"cognitiveclass.ai logo\"  />\n",
    "</center>\n",
    "\n",
    "# Data Analysis with Python on the example BTC/USD and technical financial indicators ATR, OBV, ADV, RSI, AD\n",
    "\n",
    "# Lab 5. Model Evaluation and Refinement\n",
    "\n",
    "Estimated time needed: **30** minutes\n",
    "\n",
    "## Objectives\n",
    "\n",
    "After completing this lab you will be able to:\n",
    "\n",
    "*   Evaluate and refine prediction models\n"
   ]
  },
  {
   "cell_type": "markdown",
   "id": "7d0d2714-538b-4bb8-a4b1-e107da00dd42",
   "metadata": {},
   "outputs": [],
   "source": [
    "## Table of Contents\n",
    "<div class=\"alert alert-block alert-info\" style=\"margin-top: 20px\">\n",
    "    <ol>\n",
    "    <li>Model Evaluation</li>\n",
    "    <li>Over-fitting, Under-fitting and Model Selection</li>\n",
    "    <li>Ridge Regression</li>\n",
    "    <li>Grid Search</li>\n",
    "    </ol>\n",
    "</div>\n",
    "<hr>"
   ]
  },
  {
   "cell_type": "markdown",
   "id": "7f16ee93-da41-4aab-813c-9dc2dbe86a2b",
   "metadata": {},
   "outputs": [],
   "source": [
    "#### Setup\n"
   ]
  },
  {
   "cell_type": "markdown",
   "id": "33e9d89a-2928-4ca1-8fc9-067bb90ba081",
   "metadata": {},
   "outputs": [],
   "source": [
    "If you run the lab locally using Anaconda, you can load the correct library and versions by uncommenting the following:\n"
   ]
  },
  {
   "cell_type": "code",
   "id": "46035a00-2d72-4dc4-8f89-30f123ec4636",
   "metadata": {},
   "outputs": [],
   "source": [
    "#install specific version of libraries used in lab\n",
    "! mamba install   ipywidgets -y\n",
    "! mamba install tqdm\n",
    "! mamba install pandas -y\n",
    "! mamba install numpy -y\n",
    "! mamba install scikit-learn -y"
   ]
  },
  {
   "cell_type": "code",
   "id": "c82b0006-05c8-4b0b-a7c7-9bb2dd5f4d1c",
   "metadata": {},
   "outputs": [],
   "source": [
    "import warnings\n",
    "warnings.filterwarnings(\"ignore\")\n",
    "import pandas as pd\n",
    "import numpy as np\n",
    "from ipywidgets import interact, interactive, fixed, interact_manual\n",
    "from sklearn.model_selection import train_test_split\n",
    "from sklearn.linear_model import LinearRegression\n",
    "from sklearn import set_config\n",
    "from sklearn.model_selection import cross_val_score\n",
    "from sklearn.model_selection import cross_val_predict\n",
    "import matplotlib.pyplot as plt\n",
    "%matplotlib inline\n",
    "import seaborn as sns\n",
    "from sklearn.preprocessing import PolynomialFeatures\n",
    "from sklearn.linear_model import Ridge\n",
    "from tqdm import tqdm\n",
    "from sklearn.model_selection import GridSearchCV\n",
    "#set precision 2\n",
    "pd.options.display.float_format = '{:.2f}'.format\n",
    "set_config(display=\"diagram\")"
   ]
  },
  {
   "cell_type": "markdown",
   "id": "729a2435-cc81-4434-b3fe-cdde0ef9a51d",
   "metadata": {},
   "outputs": [],
   "source": [
    "This dataset was hosted on IBM Cloud object. Click <a href=\"https://cocl.us/DA101EN_object_storage?utm_medium=Exinfluencer&utm_source=Exinfluencer&utm_content=000026UJ&utm_term=10006555&utm_id=NA-SkillsNetwork-Channel-SkillsNetworkCoursesIBMDeveloperSkillsNetworkDA0101ENSkillsNetwork20235326-2021-01-01\">HERE</a> for free storage.\n"
   ]
  },
  {
   "cell_type": "code",
   "id": "66b8d24a-8c9c-484a-85ab-e75e71941632",
   "metadata": {},
   "outputs": [],
   "source": [
    "path = 'https://cf-courses-data.s3.us.cloud-object-storage.appdomain.cloud/IBMSkillsNetwork-GPXX09Y8EN/BTC.csv'"
   ]
  },
  {
   "cell_type": "markdown",
   "id": "83813df8-a332-4c6e-ae2a-21415aaf6094",
   "metadata": {},
   "outputs": [],
   "source": [
    "you will need to read the dataset:\n"
   ]
  },
  {
   "cell_type": "code",
   "id": "3e306953-410b-4d5f-bee8-46bd873ba21b",
   "metadata": {},
   "outputs": [],
   "source": [
    "df = pd.read_csv(path)"
   ]
  },
  {
   "cell_type": "markdown",
   "id": "5eca0b19-399e-476d-b13f-a1fcba25ebb9",
   "metadata": {},
   "outputs": [],
   "source": [
    "First, let's only use numeric data:\n"
   ]
  },
  {
   "cell_type": "code",
   "id": "43506598-266f-49c6-b4b6-b50cf5feefa5",
   "metadata": {},
   "outputs": [],
   "source": [
    "df=df._get_numeric_data()\n",
    "df.head()"
   ]
  },
  {
   "cell_type": "markdown",
   "id": "8aad51ae-a6b3-4e1f-bbd0-26942fbc83b4",
   "metadata": {},
   "outputs": [],
   "source": [
    "## Functions for Plotting"
   ]
  },
  {
   "cell_type": "code",
   "id": "3753e825-7725-4bf7-8d3c-f26a41adc473",
   "metadata": {},
   "outputs": [],
   "source": [
    "def DistributionPlot(RedFunction, BlueFunction, RedName, BlueName, Title):\n",
    "    width = 12\n",
    "    height = 10\n",
    "    plt.figure(figsize=(width, height))\n",
    "\n",
    "    ax1 = sns.distplot(RedFunction, hist=False, color=\"r\", label=RedName)\n",
    "    ax2 = sns.distplot(BlueFunction, hist=False, color=\"b\", label=BlueName, ax=ax1)\n",
    "\n",
    "    plt.title(Title)\n",
    "    plt.xlabel('Price (in dollars)')\n",
    "    plt.ylabel('Proportion of BTC')\n",
    "\n",
    "    plt.show()\n",
    "    plt.close()"
   ]
  },
  {
   "cell_type": "code",
   "id": "154754ce-e82e-4eba-bd36-b5b9d0b89c9b",
   "metadata": {},
   "outputs": [],
   "source": [
    "def PollyPlot(xtrain, xtest, y_train, y_test, lr,poly_transform):\n",
    "    width = 12\n",
    "    height = 10\n",
    "    plt.figure(figsize=(width, height))\n",
    "    \n",
    "    \n",
    "    #training data \n",
    "    #testing data \n",
    "    # lr:  linear regression object \n",
    "    #poly_transform:  polynomial transformation object \n",
    " \n",
    "    xmax=max([xtrain.values.max(), xtest.values.max()])\n",
    "\n",
    "    xmin=min([xtrain.values.min(), xtest.values.min()])\n",
    "\n",
    "    x=np.arange(xmin, xmax, 0.1)\n",
    "\n",
    "\n",
    "    plt.plot(xtrain, y_train, 'ro', label='Training Data')\n",
    "    plt.plot(xtest, y_test, 'go', label='Test Data')\n",
    "    plt.plot(x, lr.predict(poly_transform.fit_transform(x.reshape(-1, 1))), label='Predicted Function')\n",
    "    plt.ylim([-10000, 60000])\n",
    "    plt.ylabel('Price')\n",
    "    plt.legend()"
   ]
  },
  {
   "cell_type": "markdown",
   "id": "5b341cf8-01ba-4fbd-af8d-b0dbd818525a",
   "metadata": {},
   "outputs": [],
   "source": [
    "## Part 1: Training and Testing \n",
    "\n",
    "<p>An important step in testing your model is to split your data into training and testing data. We will place the target data <b>Avg_price</b> in a separate dataframe <b>y_data</b>:</p>\n"
   ]
  },
  {
   "cell_type": "code",
   "id": "95b32903-648b-4623-955b-6eedc4877e59",
   "metadata": {},
   "outputs": [],
   "source": [
    "y_data = df['Avg_price']"
   ]
  },
  {
   "cell_type": "markdown",
   "id": "a0d22991-cde1-4d0e-bfaf-c481f8ebd690",
   "metadata": {},
   "outputs": [],
   "source": [
    "Drop Avg_price data in dataframe **x_data**:\n"
   ]
  },
  {
   "cell_type": "code",
   "id": "57c7d33f-8ee7-4bc3-8355-5ea46d090419",
   "metadata": {},
   "outputs": [],
   "source": [
    "x_data=df.drop('Avg_price',axis=1)"
   ]
  },
  {
   "cell_type": "markdown",
   "id": "4e4d31b0-b944-426d-8fa9-3cf9b629d558",
   "metadata": {},
   "outputs": [],
   "source": [
    "Now, we randomly split our data into training and testing data using the function <b>train_test_split</b>.\n"
   ]
  },
  {
   "cell_type": "code",
   "id": "56d828c1-324e-4d48-9e73-3b77961ff0e2",
   "metadata": {},
   "outputs": [],
   "source": [
    "x_train, x_test, y_train, y_test = train_test_split(x_data, y_data, test_size=0.10, shuffle=False)\n",
    "\n",
    "\n",
    "print(\"number of test samples :\", x_test.shape[0])\n",
    "print(\"number of training samples:\",x_train.shape[0])\n"
   ]
  },
  {
   "cell_type": "markdown",
   "id": "bc17d1c6-8951-4e36-9ade-dae76b8f2b5a",
   "metadata": {},
   "outputs": [],
   "source": [
    "The <b>test_size</b> parameter sets the proportion of data that is split into the testing set. In the above, the testing set is 10% of the total dataset.\n"
   ]
  },
  {
   "cell_type": "markdown",
   "id": "7a0cd56e-6966-4ef7-a536-9abd7eb08a1e",
   "metadata": {},
   "outputs": [],
   "source": [
    "<div class=\"alert alert-danger alertdanger\" style=\"margin-top: 20px\">\n",
    "<p><b style=\"font-size: 2em; font-weight: bold;\">Question #1:</b></p>\n",
    "\n",
    "<b>Use the function \"train_test_split\" to split up the dataset such that 40% of the data samples will be utilized for testing. Set the parameter \"random_state\" equal to zero. The output of the function should be the following:  \"x_train1\" , \"x_test1\", \"y_train1\" and  \"y_test1\".</b>\n",
    "\n",
    "</div>\n"
   ]
  },
  {
   "cell_type": "code",
   "id": "a3cda3a7-dd5e-44c0-8f80-ab11c151dc0a",
   "metadata": {},
   "outputs": [],
   "source": [
    "# Write your code below and press Shift+Enter to execute \n"
   ]
  },
  {
   "cell_type": "markdown",
   "id": "055857d4-d0b9-446c-ac3a-e0ef381f361f",
   "metadata": {},
   "outputs": [],
   "source": [
    "<details><summary>Click here for the solution</summary>\n",
    "\n",
    "```python\n",
    "x_train1, x_test1, y_train1, y_test1 = train_test_split(x_data, y_data, test_size=0.4, random_state=0) \n",
    "print(\"number of test samples :\", x_test1.shape[0])\n",
    "print(\"number of training samples:\",x_train1.shape[0])\n",
    "```\n",
    "\n",
    "</details>\n"
   ]
  },
  {
   "cell_type": "markdown",
   "id": "cf46cce4-beb9-467b-a2b6-e50c9d0d46c0",
   "metadata": {},
   "outputs": [],
   "source": [
    "Let's remind what is Linear Regression:"
   ]
  },
  {
   "cell_type": "markdown",
   "id": "730a91a4-b99d-4be0-bc7b-c252f5dc8dbf",
   "metadata": {},
   "outputs": [],
   "source": [
    "In Python, <code>LinearRegression.score()</code> is a method provided by scikit-learn, a popular machine learning library, which calculates the coefficient of determination, also known as R-squared, for a linear regression model.\n",
    "\n",
    "The R-squared value is a statistical measure that represents how well the regression model fits the observed data. It ranges from 0 to 1, where 0 indicates that the model does not explain any of the variability in the data, and 1 indicates that the model perfectly fits the data.\n",
    "\n",
    "The <code>'score()'</code> method takes two parameters:\n",
    "\n",
    "- X: An array-like object or sparse matrix of shape (n_samples, n_features) containing the input data.\n",
    "- y: An array-like object of shape (n_samples,) or (n_samples, n_targets) containing the target values.\n",
    "\n",
    "\n",
    "The method returns the R-squared value for the provided input data and target values, using the fitted linear regression model."
   ]
  },
  {
   "cell_type": "markdown",
   "id": "a5d2fd53-1bb9-401e-8ca8-51cb01096eaf",
   "metadata": {},
   "outputs": [],
   "source": [
    "We create a Linear Regression object:\n"
   ]
  },
  {
   "cell_type": "code",
   "id": "18850705-ed5d-4fd8-8128-c78436ae51b0",
   "metadata": {},
   "outputs": [],
   "source": [
    "lre=LinearRegression()"
   ]
  },
  {
   "cell_type": "markdown",
   "id": "a5f6a7ea-7288-4476-b7c7-2392967be379",
   "metadata": {},
   "outputs": [],
   "source": [
    "We fit the model using the feature \"OBV\" because OBV and Avg_price have a good corr:\n"
   ]
  },
  {
   "cell_type": "code",
   "id": "56a411ac-c7b0-4696-b27c-19ee3e85fa4a",
   "metadata": {},
   "outputs": [],
   "source": [
    "df[['Avg_price','OBV']].corr()"
   ]
  },
  {
   "cell_type": "markdown",
   "id": "60da9f67-c629-4e03-87fd-3c304563c6dd",
   "metadata": {},
   "outputs": [],
   "source": [
    "Now we will fit the model:"
   ]
  },
  {
   "cell_type": "code",
   "id": "54515f41-853c-4e05-905f-966caa261ea8",
   "metadata": {},
   "outputs": [],
   "source": [
    "lre.fit(x_train[['OBV']], y_train)"
   ]
  },
  {
   "cell_type": "markdown",
   "id": "f8862793-1153-4a44-a22a-15f76cbf821c",
   "metadata": {},
   "outputs": [],
   "source": [
    "Let's calculate the R<sup>2</sup> on the test data:\n"
   ]
  },
  {
   "cell_type": "code",
   "id": "006b23de-4c46-40e7-a12f-b7c942c90c24",
   "metadata": {},
   "outputs": [],
   "source": [
    "print(\"{:.2f}\".format(lre.score(x_test[['OBV']], y_test)) )"
   ]
  },
  {
   "cell_type": "markdown",
   "id": "d8840a8b-e8d9-4bb3-8a28-3563f343e4bc",
   "metadata": {},
   "outputs": [],
   "source": [
    "There are situations where a negative R-squared value can occur, such as when the model is a poor fit for the data or when there is high variability in the dependent variable that cannot be explained by the independent variables. In such cases, the R-squared value can be less than 0, indicating that the model is not only a poor fit but also performs worse than a model that simply predicts the mean of the dependent variable."
   ]
  },
  {
   "cell_type": "markdown",
   "id": "278d591e-ebc6-4178-bc65-926e5e1dc272",
   "metadata": {},
   "outputs": [],
   "source": [
    "A negative R<sup>2</sup> is a sign of overfitting."
   ]
  },
  {
   "cell_type": "markdown",
   "id": "94c85352-8e2f-45ae-8f93-4ca178e31527",
   "metadata": {},
   "outputs": [],
   "source": [
    "We can see the R<sup>2</sup> is smaller using the test data compared to the training data.\n"
   ]
  },
  {
   "cell_type": "code",
   "id": "4ccc59a4-5d52-47d1-a245-57b245cc4fc0",
   "metadata": {},
   "outputs": [],
   "source": [
    "print(\"{:.2f}\".format(lre.score(x_train[['OBV']], y_train)))"
   ]
  },
  {
   "cell_type": "markdown",
   "id": "80eaed3f-3897-4863-8421-c9f1123ef0ed",
   "metadata": {},
   "outputs": [],
   "source": [
    "<div class=\"alert alert-danger alertdanger\" style=\"margin-top: 20px\">\n",
    "<p><b style=\"font-size: 2em; font-weight: bold;\">Question #2:</b></p>\n",
    "<b> \n",
    "Find the R^2  on the test data using 40% of the dataset for testing.\n",
    "</b>\n",
    "</div>\n"
   ]
  },
  {
   "cell_type": "code",
   "id": "0568a715-8214-4a43-9b95-44a5fc67b4f8",
   "metadata": {},
   "outputs": [],
   "source": [
    "# Write your code below and press Shift+Enter to execute \n"
   ]
  },
  {
   "cell_type": "markdown",
   "id": "c335f26e-4589-4798-9289-62a4bfe5a835",
   "metadata": {},
   "outputs": [],
   "source": [
    "<details><summary>Click here for the solution</summary>\n",
    "\n",
    "```python\n",
    "x_train1, x_test1, y_train1, y_test1 = train_test_split(x_data, y_data, test_size=0.4, random_state=0)\n",
    "lre.fit(x_train1[['OBV']],y_train1)\n",
    "lre.score(x_test1[['OBV']],y_test1)\n",
    "\n",
    "```\n",
    "\n",
    "</details>\n"
   ]
  },
  {
   "cell_type": "markdown",
   "id": "3869d7f6-1b60-47f8-950d-c83b4acf473f",
   "metadata": {},
   "outputs": [],
   "source": [
    "Sometimes you do not have sufficient testing data; as a result, you may want to perform cross-validation. Let's go over several methods that you can use for cross-validation.\n"
   ]
  },
  {
   "cell_type": "markdown",
   "id": "0565910a-bf1e-4095-ae61-935934653612",
   "metadata": {},
   "outputs": [],
   "source": [
    "## Cross-Validation Score"
   ]
  },
  {
   "cell_type": "markdown",
   "id": "bef6b773-eb41-41a3-bde7-f89527c2ce9b",
   "metadata": {},
   "outputs": [],
   "source": [
    "<p> Cross-validation is a technique used in machine learning to assess the performance of a model on an independent data set. Cross-validation score is a performance metric that is calculated by averaging the results of cross-validation.</p>\n",
    "\n",
    "<p>In cross-validation, the data set is split into several subsets, or \"folds\". The model is trained on one subset of the data and tested on another subset, with this process repeated for each fold. The results from each fold are then averaged to produce the cross-validation score.</p>\n",
    "\n",
    "<p>The advantage of using cross-validation is that it provides a more reliable estimate of the performance of the model on new data than just using a single train/test split. By repeating the process on multiple subsets of the data, cross-validation can help to reduce the impact of any bias or variance in the data set.</p>\n",
    "\n",
    "<p>The cross-validation score is typically reported as a percentage or a decimal, with higher values indicating better performance. In scikit-learn, a popular machine learning library in Python, the cross-validation score can be computed using the cross_val_score() function.</p>\n",
    "\n",
    "<p>Note that there are different types of cross-validation techniques, such as k-fold cross-validation, stratified k-fold cross-validation, leave-one-out cross-validation, and more. The choice of cross-validation technique depends on the specific requirements of the problem and the characteristics of the data set.</p>"
   ]
  },
  {
   "cell_type": "markdown",
   "id": "38d87cb3-baca-44b9-b477-3f20b14d60d8",
   "metadata": {},
   "outputs": [],
   "source": [
    "We input the object, the feature (\"OBV\"), and the target data (y_data). The parameter 'cv' determines the number of folds. In this case, it is 4.\n"
   ]
  },
  {
   "cell_type": "code",
   "id": "3108793c-082f-4355-a3fd-fdd870085297",
   "metadata": {},
   "outputs": [],
   "source": [
    "Rcross = cross_val_score(lre, x_data[['OBV']], y_data, cv=4)"
   ]
  },
  {
   "cell_type": "markdown",
   "id": "55662e0b-4529-401c-a822-908811ded1e2",
   "metadata": {},
   "outputs": [],
   "source": [
    "The default scoring is R<sup>2</sup>. Each element in the array has the average R<sup>2</sup> value for the fold:\n"
   ]
  },
  {
   "cell_type": "code",
   "id": "96e961d1-b337-432f-995f-baeda4879c6d",
   "metadata": {},
   "outputs": [],
   "source": [
    "Rcross"
   ]
  },
  {
   "cell_type": "markdown",
   "id": "e7595838-9ada-45ce-acb4-df38308eb6d0",
   "metadata": {},
   "outputs": [],
   "source": [
    "A negative R<sup>2</sup> is a sign of overfitting."
   ]
  },
  {
   "cell_type": "markdown",
   "id": "c8817be7-30fa-481b-ad8a-7f4b73c24dc5",
   "metadata": {},
   "outputs": [],
   "source": [
    "We can calculate the average and standard deviation of our estimate:\n"
   ]
  },
  {
   "cell_type": "code",
   "id": "0345ce5d-9ef4-412f-b9c0-c45b3c6ef30a",
   "metadata": {},
   "outputs": [],
   "source": [
    "print(\"The mean of the folds are\", \"{:.2f}\".format( Rcross.mean()), \"and the standard deviation is\" , \"{:.2f}\".format(Rcross.std()))"
   ]
  },
  {
   "cell_type": "markdown",
   "id": "3ae5498e-62a2-454b-b844-98d483e03bda",
   "metadata": {},
   "outputs": [],
   "source": [
    "We can use negative squared error as a score by setting the parameter  'scoring' metric to 'neg_mean_squared_error'.\n"
   ]
  },
  {
   "cell_type": "code",
   "id": "08914d7c-917e-4de0-a01b-40b582391909",
   "metadata": {},
   "outputs": [],
   "source": [
    "-1 * cross_val_score(lre,x_data[['OBV']], y_data,cv=4,scoring='neg_mean_squared_error')"
   ]
  },
  {
   "cell_type": "markdown",
   "id": "13607353-fac5-4da6-bd92-106b5191f049",
   "metadata": {},
   "outputs": [],
   "source": [
    "<div class=\"alert alert-danger alertdanger\" style=\"margin-top: 20px\">\n",
    "<p><b style=\"font-size: 2em; font-weight: bold;\">Question #3:</b></p>\n",
    "<b> \n",
    "Calculate the average R^2 using two folds, then find the average R^2 for the second fold utilizing the \"OBV\" feature: \n",
    "</b>\n",
    "</div>\n"
   ]
  },
  {
   "cell_type": "code",
   "id": "b77e6f2e-af09-4440-b1f5-1934ea9bb2a9",
   "metadata": {},
   "outputs": [],
   "source": [
    "# Write your code below and press Shift+Enter to execute \n"
   ]
  },
  {
   "cell_type": "markdown",
   "id": "f827e1b5-d4aa-49ef-80f2-c0149afcda9c",
   "metadata": {},
   "outputs": [],
   "source": [
    "<details><summary>Click here for the solution</summary>\n",
    "\n",
    "```python\n",
    "Rc=cross_val_score(lre,x_data[['OBV']], y_data,cv=2)\n",
    "Rc.mean()\n",
    "\n",
    "```\n",
    "\n",
    "</details>\n"
   ]
  },
  {
   "cell_type": "markdown",
   "id": "73acf33a-3ca0-405b-9eb4-efc5bd46f528",
   "metadata": {},
   "outputs": [],
   "source": [
    "You can also use the function 'cross_val_predict' to predict the output. The function splits up the data into the specified number of folds, with one fold for testing and the other folds are used for training.\n"
   ]
  },
  {
   "cell_type": "markdown",
   "id": "21b3432e-f610-4b72-8284-fc9c90ba55a2",
   "metadata": {},
   "outputs": [],
   "source": [
    "We input the object, the feature <b>\"OBV\"</b>, and the target data <b>y_data</b>. The parameter 'cv' determines the number of folds. In this case, it is 4. We can produce an output:\n"
   ]
  },
  {
   "cell_type": "code",
   "id": "7740fe28-a63d-464d-b414-52e074175012",
   "metadata": {},
   "outputs": [],
   "source": [
    "yhat = cross_val_predict(lre,x_data[['OBV']], y_data,cv=4)\n",
    "yhat[0:5]"
   ]
  },
  {
   "cell_type": "markdown",
   "id": "44c5a4ec-f6fb-422c-81dd-b5fa7fb43ef5",
   "metadata": {},
   "outputs": [],
   "source": [
    "## Part 2: Overfitting, Underfitting and Model Selection\n",
    "\n",
    "<p>It turns out that the test data, sometimes referred to as the \"out of sample data\", is a much better measure of how well your model performs in the real world.  One reason for this is overfitting.\n",
    "\n",
    "Overfitting is a common problem in machine learning and refers to a situation where a model becomes too complex and fits the training data too closely. This can result in poor performance on new or unseen data.\n",
    "\n",
    "Let's go over some examples. It turns out these differences are more apparent in Multiple Linear Regression and Polynomial Regression so we will explore overfitting in that context.</p>\n"
   ]
  },
  {
   "cell_type": "markdown",
   "id": "ddd6eee0-3c0a-47f0-85a3-c001d390a7aa",
   "metadata": {},
   "outputs": [],
   "source": [
    "Let's create Multiple Linear Regression objects and train the model using <b>'ADL', 'Volume', 'ATR', 'OBV'</b> as features.\n"
   ]
  },
  {
   "cell_type": "code",
   "id": "9041216a-5316-4ba8-9088-8dd276e7a76a",
   "metadata": {},
   "outputs": [],
   "source": [
    "lr = LinearRegression()\n",
    "lr.fit(x_train[['ADL', 'Volume', 'ATR', 'OBV']], y_train)"
   ]
  },
  {
   "cell_type": "markdown",
   "id": "f8feba45-1391-4553-b6f5-cc339bfbdf94",
   "metadata": {},
   "outputs": [],
   "source": [
    "Prediction using training data:\n"
   ]
  },
  {
   "cell_type": "code",
   "id": "aa69a4d1-5a66-4aef-8dee-2e4387613f50",
   "metadata": {},
   "outputs": [],
   "source": [
    "yhat_train = lr.predict(x_train[['ADL', 'Volume', 'ATR', 'OBV']])\n",
    "yhat_train[0:5]"
   ]
  },
  {
   "cell_type": "markdown",
   "id": "5e78e673-5d5c-4f98-abbf-4d4924790cf2",
   "metadata": {},
   "outputs": [],
   "source": [
    "Prediction using test data:\n"
   ]
  },
  {
   "cell_type": "code",
   "id": "78e7f7c2-9985-44cf-86e7-669c093da857",
   "metadata": {},
   "outputs": [],
   "source": [
    "yhat_test = lr.predict(x_test[['ADL', 'Volume', 'ATR', 'OBV']])\n",
    "yhat_test[0:5]"
   ]
  },
  {
   "cell_type": "markdown",
   "id": "be800f1e-2b41-4c02-b755-bc4b14f0325f",
   "metadata": {},
   "outputs": [],
   "source": [
    "Let's perform some model evaluation using our training and testing data separately.\n"
   ]
  },
  {
   "cell_type": "markdown",
   "id": "18336f02-3419-401c-a8f7-fd6a73fdc519",
   "metadata": {},
   "outputs": [],
   "source": [
    "Let's examine the distribution of the predicted values of the training data.\n"
   ]
  },
  {
   "cell_type": "code",
   "id": "7bf0855a-7c37-433c-87bd-d8715732b6b1",
   "metadata": {},
   "outputs": [],
   "source": [
    "Title = 'Distribution  Plot of  Predicted Value Using Training Data vs Training Data Distribution'\n",
    "DistributionPlot(y_train, yhat_train, \"Actual Values (Train)\", \"Predicted Values (Train)\", Title)"
   ]
  },
  {
   "cell_type": "markdown",
   "id": "e728c457-ba00-4157-9916-e530819d5774",
   "metadata": {},
   "outputs": [],
   "source": [
    "Figure 1: Plot of predicted values using the training data compared to the actual values of the training data.\n"
   ]
  },
  {
   "cell_type": "markdown",
   "id": "3cff3cdf-735e-4096-a044-3f21a4e4d98d",
   "metadata": {},
   "outputs": [],
   "source": [
    "So far, the model seems to be doing well in learning from the training dataset. But what happens when the model encounters new data from the testing dataset? When the model generates new values from the test data, we see the distribution of the predicted values is much different from the actual target values.\n"
   ]
  },
  {
   "cell_type": "code",
   "id": "d0592954-0447-4b42-be6e-53eef449bd29",
   "metadata": {},
   "outputs": [],
   "source": [
    "Title='Distribution  Plot of  Predicted Value Using Test Data vs Data Distribution of Test Data'\n",
    "DistributionPlot(y_test,yhat_test,\"Actual Values (Test)\",\"Predicted Values (Test)\",Title)"
   ]
  },
  {
   "cell_type": "markdown",
   "id": "9a0d1b39-153d-49ba-bce7-2894b60c41d0",
   "metadata": {},
   "outputs": [],
   "source": [
    "Figure 2: Plot of predicted value using the test data compared to the actual values of the test data.\n"
   ]
  },
  {
   "cell_type": "markdown",
   "id": "beee5534-9545-404d-a2f8-8f8fd64ba729",
   "metadata": {},
   "outputs": [],
   "source": [
    "<p>Comparing Figure 1 and Figure 2, it is evident that the distribution of the test data in Figure 2 is much better at fitting the data. This difference in Figure 1 is apparent in the range of 16,500 to 17,000. This is where the shape of the distribution is extremely different. Let's see if polynomial regression also exhibits a drop in the prediction accuracy when analysing the test dataset.</p>\n"
   ]
  },
  {
   "cell_type": "markdown",
   "id": "3f806ecd-cd4a-4ae6-8a09-91ec64ec47d8",
   "metadata": {},
   "outputs": [],
   "source": [
    "#### Overfitting\n",
    "<p>Overfitting occurs when the model fits the noise, but not the underlying process. Therefore, when testing your model using the test set, your model does not perform as well since it is modelling noise, not the underlying process that generated the relationship. Let's create a degree 5 polynomial model.</p>\n"
   ]
  },
  {
   "cell_type": "markdown",
   "id": "1b44c986-aa76-4046-b979-4ef79955357e",
   "metadata": {},
   "outputs": [],
   "source": [
    "Let's use 55 percent of the data for training and the rest for testing:\n"
   ]
  },
  {
   "cell_type": "code",
   "id": "f781f331-41dc-4474-b9bc-20cc9cb19421",
   "metadata": {},
   "outputs": [],
   "source": [
    "x_train, x_test, y_train, y_test = train_test_split(x_data, y_data, test_size=0.45, random_state=0)"
   ]
  },
  {
   "cell_type": "markdown",
   "id": "2621f00b-3497-41a8-a1e5-6b2291504869",
   "metadata": {},
   "outputs": [],
   "source": [
    "We will perform a degree 5 polynomial transformation on the feature <b>'ADL'</b>.\n"
   ]
  },
  {
   "cell_type": "code",
   "id": "e96a613e-b1c7-4627-b22c-12eac34fcd37",
   "metadata": {},
   "outputs": [],
   "source": [
    "pr = PolynomialFeatures(degree=5)\n",
    "x_train_pr = pr.fit_transform(x_train[['ADL']])\n",
    "x_test_pr = pr.fit_transform(x_test[['ADL']])\n",
    "pr"
   ]
  },
  {
   "cell_type": "markdown",
   "id": "33177b02-f689-45db-af6d-8fbc45e81bb0",
   "metadata": {},
   "outputs": [],
   "source": [
    "Now, let's create a Linear Regression model \"poly\" and train it.\n"
   ]
  },
  {
   "cell_type": "code",
   "id": "bef18a7f-1435-4445-aeb9-db1d09497ba1",
   "metadata": {},
   "outputs": [],
   "source": [
    "poly = LinearRegression()\n",
    "poly.fit(x_train_pr, y_train)"
   ]
  },
  {
   "cell_type": "markdown",
   "id": "2a046b50-4f91-4830-b8fe-bdf40125da39",
   "metadata": {},
   "outputs": [],
   "source": [
    "We can see the output of our model using the method \"predict.\" We assign the values to \"yhat\".\n"
   ]
  },
  {
   "cell_type": "code",
   "id": "186f3d7f-853e-4477-a9fc-e0544a3db0d4",
   "metadata": {},
   "outputs": [],
   "source": [
    "yhat = poly.predict(x_test_pr)\n",
    "yhat[0:5]"
   ]
  },
  {
   "cell_type": "markdown",
   "id": "32d66250-df25-44c2-a53f-d810b3163a87",
   "metadata": {},
   "outputs": [],
   "source": [
    "Let's take the first five predicted values and compare it to the actual targets.\n"
   ]
  },
  {
   "cell_type": "code",
   "id": "d35a4bba-2dcc-4535-9468-741a1d5f0a47",
   "metadata": {},
   "outputs": [],
   "source": [
    "print(\"Predicted values:\", yhat[0:4])\n",
    "print(\"True values:\", y_test[0:4].values)"
   ]
  },
  {
   "cell_type": "markdown",
   "id": "129e44ca-7e06-4d1f-b5f9-45402280d15b",
   "metadata": {},
   "outputs": [],
   "source": [
    "We will use the function \"PollyPlot\" that we defined at the beginning of the lab to display the training data, testing data, and the predicted function.\n"
   ]
  },
  {
   "cell_type": "code",
   "id": "e23b41a2-f7ad-4e05-a8b5-b1599610a683",
   "metadata": {},
   "outputs": [],
   "source": [
    "PollyPlot(x_train[['ADL']], x_test[['ADL']], y_train, y_test, poly,pr)"
   ]
  },
  {
   "cell_type": "markdown",
   "id": "b29bae24-7b93-4116-b51d-b7da16b0e113",
   "metadata": {},
   "outputs": [],
   "source": [
    "Figure 3: A polynomial regression model where red dots represent training data, green dots represent test data, and the blue line represents the model prediction.\n"
   ]
  },
  {
   "cell_type": "markdown",
   "id": "bb41d6a7-4923-4639-a78a-25836392e5ba",
   "metadata": {},
   "outputs": [],
   "source": [
    "R<sup>2</sup> of the training data:\n"
   ]
  },
  {
   "cell_type": "code",
   "id": "e3ab76af-65d4-4ee2-aa82-8e2b14dbd8b2",
   "metadata": {},
   "outputs": [],
   "source": [
    "print(\"{:.2f}\".format(poly.score(x_train_pr, y_train)))"
   ]
  },
  {
   "cell_type": "markdown",
   "id": "63dcd3d7-9177-4a6e-8ed0-9d120c4c4c29",
   "metadata": {},
   "outputs": [],
   "source": [
    "R<sup>2</sup> of the test data:\n"
   ]
  },
  {
   "cell_type": "code",
   "id": "674cfa63-76fa-4d58-9de4-d1b3a6fced9a",
   "metadata": {},
   "outputs": [],
   "source": [
    "print(\"{:.2f}\".format(poly.score(x_test_pr, y_test)))"
   ]
  },
  {
   "cell_type": "markdown",
   "id": "3ad485dd-6e03-46bc-ab84-e13b1186dac1",
   "metadata": {},
   "outputs": [],
   "source": [
    "We see the R<sup>2</sup> for the training data is 0.67 while the R<sup>2</sup> on the test data was 0.67.  The lower the R<sup>2</sup>, the worse the model. A negative R<sup>2</sup> is a sign of overfitting.\n"
   ]
  },
  {
   "cell_type": "markdown",
   "id": "85f3e570-7ddd-4e0b-9ac7-aec71a325471",
   "metadata": {},
   "outputs": [],
   "source": [
    "Let's see how the R<sup>2</sup> changes on the test data for different order polynomials and then plot the results:\n"
   ]
  },
  {
   "cell_type": "code",
   "id": "4c7fc7df-89e8-49c5-ba42-d8327abaaa77",
   "metadata": {},
   "outputs": [],
   "source": [
    "Rsqu_test = []\n",
    "\n",
    "order = [1, 2, 3, 4,5,6,7]\n",
    "for n in order:\n",
    "    pr = PolynomialFeatures(degree=n)\n",
    "    \n",
    "    x_train_pr = pr.fit_transform(x_train[['ADL']])\n",
    "    \n",
    "    x_test_pr = pr.fit_transform(x_test[['ADL']])    \n",
    "    \n",
    "    lr.fit(x_train_pr, y_train)\n",
    "    \n",
    "    Rsqu_test.append(lr.score(x_test_pr, y_test))\n",
    "\n",
    "plt.plot(order, Rsqu_test)\n",
    "plt.xlabel('order')\n",
    "plt.ylabel('R^2')\n",
    "plt.title('R^2 Using Test Data')\n",
    "plt.text(3, 0.75, 'Maximum R^2 ')    "
   ]
  },
  {
   "cell_type": "markdown",
   "id": "ac31542e-716d-45d1-b422-e39689d49cdb",
   "metadata": {},
   "outputs": [],
   "source": [
    "We see the R<sup>2</sup> gradually increases until an order three polynomial is used. Then, the R<sup>2</sup> dramatically decreases at an order four polynomial.\n"
   ]
  },
  {
   "cell_type": "markdown",
   "id": "ed888e27-f3b0-41a2-9697-b11ba869ab91",
   "metadata": {},
   "outputs": [],
   "source": [
    "The following function will be used in the next section. Please run the cell below.\n"
   ]
  },
  {
   "cell_type": "code",
   "id": "a2a1f708-acc1-445f-b414-2d3d0cfcedec",
   "metadata": {},
   "outputs": [],
   "source": [
    "def f(order, test_data):\n",
    "    x_train, x_test, y_train, y_test = train_test_split(x_data, y_data, test_size=test_data, random_state=0)\n",
    "    pr = PolynomialFeatures(degree=order)\n",
    "    x_train_pr = pr.fit_transform(x_train[['ADL']])\n",
    "    x_test_pr = pr.fit_transform(x_test[['ADL']])\n",
    "    poly = LinearRegression()\n",
    "    poly.fit(x_train_pr,y_train)\n",
    "    PollyPlot(x_train[['ADL']], x_test[['ADL']], y_train,y_test, poly, pr)"
   ]
  },
  {
   "cell_type": "markdown",
   "id": "7466b6ce-15d4-48a3-ab3c-8dc7d5076ad1",
   "metadata": {},
   "outputs": [],
   "source": [
    "The following interface allows you to experiment with different polynomial orders and different amounts of data.\n"
   ]
  },
  {
   "cell_type": "code",
   "id": "76388059-2706-441e-8920-4a55c419d67b",
   "metadata": {},
   "outputs": [],
   "source": [
    "interact(f, order=(0, 6, 1), test_data=(0.05, 0.95, 0.05))"
   ]
  },
  {
   "cell_type": "markdown",
   "id": "ede20f3d-b1b7-4230-a3c2-51a08f2c30a7",
   "metadata": {},
   "outputs": [],
   "source": [
    "<div class=\"alert alert-danger alertdanger\" style=\"margin-top: 20px\">\n",
    "<p><b style=\"font-size: 2em; font-weight: bold;\">Question #4a):</b></p>\n",
    "\n",
    "<b>We can perform polynomial transformations with more than one feature. Create a \"PolynomialFeatures\" object \"pr1\" of degree two.</b>\n",
    "\n",
    "</div>\n"
   ]
  },
  {
   "cell_type": "code",
   "id": "a220bf72-21fb-4533-b909-c73e076d3797",
   "metadata": {},
   "outputs": [],
   "source": [
    "# Write your code below and press Shift+Enter to execute \n"
   ]
  },
  {
   "cell_type": "markdown",
   "id": "b3683684-32f1-4ecd-ab49-333f0ccbcdeb",
   "metadata": {},
   "outputs": [],
   "source": [
    "<details><summary>Click here for the solution</summary>\n",
    "\n",
    "```python\n",
    "pr1=PolynomialFeatures(degree=2)\n",
    "\n",
    "```\n",
    "\n",
    "</details>\n"
   ]
  },
  {
   "cell_type": "markdown",
   "id": "9d501b87-f19e-4bce-a1b9-9e29d0e2dc07",
   "metadata": {},
   "outputs": [],
   "source": [
    "<div class=\"alert alert-danger alertdanger\" style=\"margin-top: 20px\">\n",
    "<p><b style=\"font-size: 2em; font-weight: bold;\">Question #4b):</b></p>\n",
    "\n",
    "<b> \n",
    " Transform the training and testing samples for the features 'OBV', 'ADL', 'ATR' and 'Volume'. Hint: use the method \"fit_transform\".</b>\n",
    "</div>\n"
   ]
  },
  {
   "cell_type": "code",
   "id": "ce96d7f8-0a70-45c9-9d69-c2ffbf5d52bd",
   "metadata": {},
   "outputs": [],
   "source": [
    "# Write your code below and press Shift+Enter to execute \n"
   ]
  },
  {
   "cell_type": "markdown",
   "id": "3d4b2632-570a-4543-a725-aa0ad4cf9051",
   "metadata": {},
   "outputs": [],
   "source": [
    "<details><summary>Click here for the solution</summary>\n",
    "\n",
    "```python\n",
    "x_train_pr1=pr1.fit_transform(x_train[[ 'OBV', 'ADL', 'ATR', 'Volume']])\n",
    "\n",
    "x_test_pr1=pr1.fit_transform(x_test[[ 'OBV', 'ADL', 'ATR', 'Volume']])\n",
    "\n",
    "\n",
    "```\n",
    "\n",
    "</details>\n"
   ]
  },
  {
   "cell_type": "markdown",
   "id": "354cae03-0bee-4dc9-9402-4795a987d332",
   "metadata": {},
   "outputs": [],
   "source": [
    "<!-- The answer is below:\n",
    "\n",
    "x_train_pr1=pr.fit_transform(x_train[['horsepower', 'curb-weight', 'engine-size', 'highway-mpg']])\n",
    "x_test_pr1=pr.fit_transform(x_test[['horsepower', 'curb-weight', 'engine-size', 'highway-mpg']])\n",
    "\n",
    "-->\n"
   ]
  },
  {
   "cell_type": "markdown",
   "id": "f81c7886-73c2-40f8-af51-c6ad4542af69",
   "metadata": {},
   "outputs": [],
   "source": [
    "<div class=\"alert alert-danger alertdanger\" style=\"margin-top: 20px\">\n",
    "<p><b style=\"font-size: 2em; font-weight: bold;\">Question #4c):</b></p>\n",
    "<b> \n",
    "How many dimensions does the new feature have? Hint: use the attribute \"shape\".\n",
    "</b>\n",
    "</div>\n"
   ]
  },
  {
   "cell_type": "code",
   "id": "fa51c8f3-f35d-471b-91f2-610088e5cab9",
   "metadata": {},
   "outputs": [],
   "source": [
    "# Write your code below and press Shift+Enter to execute \n"
   ]
  },
  {
   "cell_type": "markdown",
   "id": "352ba4f9-6597-407e-a252-757bb0bfb32a",
   "metadata": {},
   "outputs": [],
   "source": [
    "<details><summary>Click here for the solution</summary>\n",
    "\n",
    "```python\n",
    "x_train_pr1.shape #there are now 15 features\n",
    "\n",
    "\n",
    "```\n",
    "\n",
    "</details>\n"
   ]
  },
  {
   "cell_type": "markdown",
   "id": "4d79d781-970c-40da-a87a-99458aef969d",
   "metadata": {},
   "outputs": [],
   "source": [
    "<div class=\"alert alert-danger alertdanger\" style=\"margin-top: 20px\">\n",
    "<p><b style=\"font-size: 2em; font-weight: bold;\">Question #4d):</b></p>\n",
    "\n",
    "<b> \n",
    "Create a linear regression model \"poly1\". Train the object using the method \"fit\" using the polynomial features.</b>\n",
    "</div>\n"
   ]
  },
  {
   "cell_type": "code",
   "id": "76df61c9-7d87-48da-b71d-fea10224c29a",
   "metadata": {},
   "outputs": [],
   "source": [
    "# Write your code below and press Shift+Enter to execute \n"
   ]
  },
  {
   "cell_type": "markdown",
   "id": "b770e3af-fb5e-43af-98f3-bc9faee6eb97",
   "metadata": {},
   "outputs": [],
   "source": [
    "<details><summary>Click here for the solution</summary>\n",
    "\n",
    "```python\n",
    "poly1=LinearRegression().fit(x_train_pr1,y_train)\n",
    "\n",
    "\n",
    "```\n",
    "\n",
    "</details>\n"
   ]
  },
  {
   "cell_type": "markdown",
   "id": "b8d992cb-44d8-4a56-9b27-e8b4f6abc86f",
   "metadata": {},
   "outputs": [],
   "source": [
    " <div class=\"alert alert-danger alertdanger\" style=\"margin-top: 20px\">\n",
    "<p><b style=\"font-size: 2em; font-weight: bold;\">Question #4e):</b></p>\n",
    "<b>Use the method  \"predict\" to predict an output on the polynomial features, then use the function \"DistributionPlot\" to display the distribution of the predicted test output vs. the actual test data.</b>\n",
    "</div>\n"
   ]
  },
  {
   "cell_type": "code",
   "id": "6e0ca984-d7e4-479b-802c-d6e848725e38",
   "metadata": {},
   "outputs": [],
   "source": [
    "# Write your code below and press Shift+Enter to execute \n"
   ]
  },
  {
   "cell_type": "markdown",
   "id": "a4c7610b-3bf7-49ae-a0e4-7c8ccfdba8f8",
   "metadata": {},
   "outputs": [],
   "source": [
    "<details><summary>Click here for the solution</summary>\n",
    "\n",
    "```python\n",
    "yhat_test1=poly1.predict(x_test_pr1)\n",
    "\n",
    "Title='Distribution  Plot of  Predicted Value Using Test Data vs Data Distribution of Test Data'\n",
    "\n",
    "DistributionPlot(y_test, yhat_test1, \"Actual Values (Test)\", \"Predicted Values (Test)\", Title)\n",
    "\n",
    "```\n",
    "\n",
    "</details>\n"
   ]
  },
  {
   "cell_type": "markdown",
   "id": "e0ff043f-e794-4cc8-b96e-821b4bf52658",
   "metadata": {},
   "outputs": [],
   "source": [
    "<div class=\"alert alert-danger alertdanger\" style=\"margin-top: 20px\">\n",
    "<p><b style=\"font-size: 2em; font-weight: bold;\">Question #4f):</b></p>\n",
    "\n",
    "<b>Using the distribution plot above, describe (in words) the two regions where the predicted prices are less accurate than the actual prices.</b>\n",
    "\n",
    "</div>\n"
   ]
  },
  {
   "cell_type": "code",
   "id": "aba4314f-6653-4d0d-ba80-b00b5d6365a8",
   "metadata": {},
   "outputs": [],
   "source": [
    "# Write your code below and press Shift+Enter to execute \n"
   ]
  },
  {
   "cell_type": "markdown",
   "id": "5b576551-39be-40d0-b558-8cbfd2234bb0",
   "metadata": {},
   "outputs": [],
   "source": [
    "<details><summary>Click here for the solution</summary>\n",
    "\n",
    "```python\n",
    "#The predicted value is higher than actual value for BTC where the price between 16,200$ and 16,500$, conversely the predicted price is lower than the price cost in the $16,500 to $17,000 range. As such the model is not as accurate in these ranges.\n",
    "\n",
    "```\n",
    "\n",
    "</details>\n"
   ]
  },
  {
   "cell_type": "markdown",
   "id": "2b8c6081-d37d-40a0-b96f-8aad5844e608",
   "metadata": {},
   "outputs": [],
   "source": [
    "## Part 3: Ridge Regression"
   ]
  },
  {
   "cell_type": "markdown",
   "id": "4825eba9-1255-4d89-8a0d-e4a1a5b6365d",
   "metadata": {},
   "outputs": [],
   "source": [
    "Ridge regression is a linear regression technique used for regression analysis, especially in the presence of high multicollinearity among the independent variables. In traditional linear regression, the objective is to minimize the sum of squared errors between the predicted and actual values. However, when there is high multicollinearity among the independent variables, the estimates of regression coefficients become unstable, and the model may overfit to the training data.\n",
    "\n",
    "In ridge regression, a regularization term is added to the sum of squared errors to constrain the magnitude of the coefficients. This term is the L2-norm of the coefficient vector multiplied by a hyperparameter lambda (λ). The effect of this term is to shrink the coefficient values towards zero, but not exactly to zero, which means the model can still include all the features in the final model. The hyperparameter lambda controls the strength of the regularization, and it can be tuned using cross-validation to find the optimal value for a given dataset.\n",
    "\n",
    "Ridge regression is useful in situations where there are many independent variables, and some of them are highly correlated with each other. It can also be used for feature selection by setting some of the coefficients to zero if they are not contributing much to the prediction. However, it assumes that all the independent variables are relevant to the outcome variable, and it does not perform well if there are irrelevant variables in the dataset."
   ]
  },
  {
   "cell_type": "markdown",
   "id": "a49b3a3a-4f62-41ec-b43b-5c94efd6ceb5",
   "metadata": {},
   "outputs": [],
   "source": [
    "In this section, we will review Ridge Regression and see how the parameter alpha changes the model. Just a note, here our test data will be used as validation data.\n"
   ]
  },
  {
   "cell_type": "markdown",
   "id": "962dfc5b-4e71-4d11-97a4-8445b489a536",
   "metadata": {},
   "outputs": [],
   "source": [
    "Let's perform a degree two polynomial transformation on our data.\n"
   ]
  },
  {
   "cell_type": "code",
   "id": "9eea272a-fdc8-4225-a6e0-8cecbe7f2c3b",
   "metadata": {},
   "outputs": [],
   "source": [
    "pr=PolynomialFeatures(degree=2)\n",
    "x_train_pr=pr.fit_transform(x_train[['ADL', 'Volume', 'ATR', 'OBV']])\n",
    "x_test_pr=pr.fit_transform(x_test[['ADL', 'Volume', 'ATR', 'OBV']])"
   ]
  },
  {
   "cell_type": "markdown",
   "id": "4612bc68-2d3d-4a7c-a3e4-3dcbe43f1d53",
   "metadata": {},
   "outputs": [],
   "source": [
    "Let's create a Ridge regression object, setting the regularization parameter (alpha) to 0.1\n"
   ]
  },
  {
   "cell_type": "code",
   "id": "f1ce0174-898b-47d8-ba2f-25c58478bec2",
   "metadata": {},
   "outputs": [],
   "source": [
    "RigeModel=Ridge(alpha=1)"
   ]
  },
  {
   "cell_type": "markdown",
   "id": "6450c3ff-c3ac-4e04-a565-5b6c3a62ff3a",
   "metadata": {},
   "outputs": [],
   "source": [
    "Like regular regression, you can fit the model using the method <b>fit</b>.\n"
   ]
  },
  {
   "cell_type": "code",
   "id": "964524f0-e1aa-4bfb-8b0b-8331f2e8d943",
   "metadata": {},
   "outputs": [],
   "source": [
    "RigeModel.fit(x_train_pr, y_train)"
   ]
  },
  {
   "cell_type": "markdown",
   "id": "19e59fe9-83e1-495a-b087-0f1daa69b6b7",
   "metadata": {},
   "outputs": [],
   "source": [
    "Similarly, you can obtain a prediction:\n"
   ]
  },
  {
   "cell_type": "code",
   "id": "981bb36d-f0db-4570-bf52-3b099a47be1a",
   "metadata": {},
   "outputs": [],
   "source": [
    "yhat = RigeModel.predict(x_test_pr)"
   ]
  },
  {
   "cell_type": "markdown",
   "id": "f00306c4-74b2-4ee7-b68b-882e822aeaf0",
   "metadata": {},
   "outputs": [],
   "source": [
    "Let's compare the first five predicted samples to our test set:\n"
   ]
  },
  {
   "cell_type": "code",
   "id": "758f3f1e-846a-42e7-85fe-12294fd8554b",
   "metadata": {},
   "outputs": [],
   "source": [
    "print('predicted:', yhat[0:4])\n",
    "print('test set :', y_test[0:4].values)"
   ]
  },
  {
   "cell_type": "markdown",
   "id": "b18f5b99-f3e7-4d20-bb87-c9be4da3f50f",
   "metadata": {},
   "outputs": [],
   "source": [
    "We select the value of alpha that minimizes the test error. To do so, we can use a for loop. We have also created a progress bar to see how many iterations we have completed so far.\n"
   ]
  },
  {
   "cell_type": "code",
   "id": "f240653a-2ab7-466b-af91-f8bb3e1f232d",
   "metadata": {},
   "outputs": [],
   "source": [
    "Rsqu_test = []\n",
    "Rsqu_train = []\n",
    "dummy1 = []\n",
    "Alpha = 10 * np.array(range(0,1000))\n",
    "pbar = tqdm(Alpha)\n",
    "\n",
    "for alpha in pbar:\n",
    "    RigeModel = Ridge(alpha=alpha) \n",
    "    RigeModel.fit(x_train_pr, y_train)\n",
    "    test_score, train_score = RigeModel.score(x_test_pr, y_test), RigeModel.score(x_train_pr, y_train)\n",
    "    \n",
    "    pbar.set_postfix({\"Test Score\": test_score, \"Train Score\": train_score})\n",
    "\n",
    "    Rsqu_test.append(test_score)\n",
    "    Rsqu_train.append(train_score)"
   ]
  },
  {
   "cell_type": "markdown",
   "id": "7f6df4b9-aa79-43a2-8656-8a66bba24b67",
   "metadata": {},
   "outputs": [],
   "source": [
    "We can plot out the value of R<sup>2</sup> for different alphas:\n"
   ]
  },
  {
   "cell_type": "code",
   "id": "4287f41e-4eb1-4051-857a-0fbe98b34deb",
   "metadata": {},
   "outputs": [],
   "source": [
    "width = 12\n",
    "height = 10\n",
    "plt.figure(figsize=(width, height))\n",
    "\n",
    "plt.plot(Alpha,Rsqu_test, label='validation data  ')\n",
    "plt.plot(Alpha,Rsqu_train, 'r', label='training Data ')\n",
    "plt.xlabel('alpha')\n",
    "plt.ylabel('R^2')\n",
    "plt.legend()"
   ]
  },
  {
   "cell_type": "markdown",
   "id": "c8451aa1-c858-4d89-8a0a-babb569bd9fd",
   "metadata": {},
   "outputs": [],
   "source": [
    "**Figure 4**: The blue line represents the R<sup>2</sup> of the validation data, and the red line represents the R<sup>2</sup> of the training data. The x-axis represents the different values of Alpha.\n"
   ]
  },
  {
   "cell_type": "markdown",
   "id": "fee2fc53-cf7d-43e6-9f19-59b1e73169f3",
   "metadata": {},
   "outputs": [],
   "source": [
    "Here the model is built and tested on the same data, so the training and test data are the same.\n",
    "\n",
    "The red line in Figure 4 represents the R<sup>2</sup> of the training data. As alpha increases the R<sup>2</sup> stay same. \n",
    "\n",
    "The blue line represents the R<sup>2</sup> on the validation data.\n"
   ]
  },
  {
   "cell_type": "markdown",
   "id": "049f865b-d60e-47ba-895b-33e974c2fbb5",
   "metadata": {},
   "outputs": [],
   "source": [
    "<div class=\"alert alert-danger alertdanger\" style=\"margin-top: 20px\">\n",
    "<p><b style=\"font-size: 2em; font-weight: bold;\">Question #5:</b></p>\n",
    "\n",
    "Perform Ridge regression. Calculate the R^2 using the polynomial features, use the training data to train the model and use the test data to test the model. The parameter alpha should be set to 10.\n",
    "\n",
    "</div>\n"
   ]
  },
  {
   "cell_type": "code",
   "id": "e0b0878a-fbe5-427e-af14-855457d7c4c9",
   "metadata": {},
   "outputs": [],
   "source": [
    "# Write your code below and press Shift+Enter to execute \n"
   ]
  },
  {
   "cell_type": "markdown",
   "id": "076146a0-133f-44c3-92d2-4fe1ec0ee7ea",
   "metadata": {},
   "outputs": [],
   "source": [
    "<details><summary>Click here for the solution</summary>\n",
    "\n",
    "```python\n",
    "RigeModel = Ridge(alpha=10) \n",
    "RigeModel.fit(x_train_pr, y_train)\n",
    "RigeModel.score(x_test_pr, y_test)\n",
    "\n",
    "```\n",
    "\n",
    "</details>\n"
   ]
  },
  {
   "cell_type": "markdown",
   "id": "436bb9fa-23ae-4fb0-be93-d1177c513fa7",
   "metadata": {},
   "outputs": [],
   "source": [
    "## Part 4: Grid Search"
   ]
  },
  {
   "cell_type": "markdown",
   "id": "4fd7a8d4-f618-4bd8-bc61-28ba9c97fb0e",
   "metadata": {},
   "outputs": [],
   "source": [
    "Grid search is a technique used in machine learning to find the optimal hyperparameters for a model. Hyperparameters are parameters that are set before the model is trained, and they affect how the model learns from the training data. Examples of hyperparameters include the learning rate, regularization strength, number of hidden layers in a neural network, and the number of trees in a random forest.\n",
    "\n",
    "Grid search involves creating a grid of hyperparameter values and training a model for each combination of hyperparameters in the grid. The performance of each model is evaluated using a validation set, and the hyperparameters that produce the best performance are selected as the optimal hyperparameters for the model. The validation set is typically a subset of the training data that is held out for evaluation purposes.\n",
    "\n",
    "The grid of hyperparameters is defined by the user and can be specified manually or with the help of libraries such as Scikit-learn. The grid can be defined as a list of values for each hyperparameter, or as a range of values to be sampled randomly. The size of the grid can be adjusted depending on the computational resources available and the time it takes to train and evaluate each model.\n",
    "\n",
    "Grid search is a simple and effective method for finding optimal hyperparameters, but it can be computationally expensive for large datasets or models with many hyperparameters. In such cases, more advanced techniques such as Bayesian optimization or randomized search can be used to reduce the search space and speed up the optimization process."
   ]
  },
  {
   "cell_type": "markdown",
   "id": "033d0e93-0211-4735-b6c4-8e61bc64b638",
   "metadata": {},
   "outputs": [],
   "source": [
    "The term alpha is a hyperparameter. Sklearn has the class <b>GridSearchCV</b> to make the process of finding the best hyperparameter simpler.\n"
   ]
  },
  {
   "cell_type": "markdown",
   "id": "7d2dbdab-2f50-43b9-8463-7bcd5f1f8542",
   "metadata": {},
   "outputs": [],
   "source": [
    "We create a dictionary of parameter values:\n"
   ]
  },
  {
   "cell_type": "code",
   "id": "8c73217e-4793-4711-98a0-19f404ee145e",
   "metadata": {},
   "outputs": [],
   "source": [
    "parameters1= [{'alpha': [0.001,0.1,1, 10, 100, 1000, 10000, 100000, 100000]}]\n",
    "parameters1"
   ]
  },
  {
   "cell_type": "markdown",
   "id": "81988cd0-263d-4be5-adc1-473698ca4c03",
   "metadata": {},
   "outputs": [],
   "source": [
    "Create a Ridge regression object:\n"
   ]
  },
  {
   "cell_type": "code",
   "id": "4df50c12-2998-48eb-ac17-4fec668a7166",
   "metadata": {},
   "outputs": [],
   "source": [
    "RR=Ridge()\n",
    "RR"
   ]
  },
  {
   "cell_type": "markdown",
   "id": "f62e46fd-7530-45ad-836f-e1833189508e",
   "metadata": {},
   "outputs": [],
   "source": [
    "Create a ridge grid search object:\n"
   ]
  },
  {
   "cell_type": "code",
   "id": "4f35cff3-a4af-4935-8eca-db975a396627",
   "metadata": {},
   "outputs": [],
   "source": [
    "Grid1 = GridSearchCV(RR, parameters1,cv=4)"
   ]
  },
  {
   "cell_type": "markdown",
   "id": "f8813bdd-029e-4bc3-871a-e20be7dccc58",
   "metadata": {},
   "outputs": [],
   "source": [
    "Fit the model:\n"
   ]
  },
  {
   "cell_type": "code",
   "id": "7ddb219b-b3df-4de7-9592-912ae96757e8",
   "metadata": {},
   "outputs": [],
   "source": [
    "Grid1.fit(x_data[['ADL', 'Volume', 'ATR', 'OBV']], y_data)"
   ]
  },
  {
   "cell_type": "markdown",
   "id": "ce3f4329-84d4-41ea-90fd-adfa7197de4e",
   "metadata": {},
   "outputs": [],
   "source": [
    "The object finds the best parameter values on the validation data. We can obtain the estimator with the best parameters and assign it to the variable BestRR as follows:\n"
   ]
  },
  {
   "cell_type": "code",
   "id": "3d0d52b8-5e55-4d91-abd3-68877dc46c1e",
   "metadata": {},
   "outputs": [],
   "source": [
    "BestRR=Grid1.best_estimator_\n",
    "BestRR"
   ]
  },
  {
   "cell_type": "markdown",
   "id": "48a9d3f1-b07b-4afb-ae54-8f72bd6695b5",
   "metadata": {},
   "outputs": [],
   "source": [
    "We now test our model on the test data:\n"
   ]
  },
  {
   "cell_type": "code",
   "id": "e595c64b-2ef0-4641-ac9c-f7ba89b8dd87",
   "metadata": {},
   "outputs": [],
   "source": [
    "print(\"{:.2f}\".format(BestRR.score(x_test[['ADL', 'Volume', 'ATR', 'OBV']], y_test)))"
   ]
  },
  {
   "cell_type": "code",
   "id": "a008002e-7494-421d-9828-c9fe2baadd60",
   "metadata": {},
   "outputs": [],
   "source": [
    "Title='Distribution  Plot of  Train Values vs Values from df[\\'Avg_price \\']'\n",
    "DistributionPlot(df['Avg_price'], y_train,\"Actual Values\",\"Predicted Values (Test)\",Title)"
   ]
  },
  {
   "cell_type": "markdown",
   "id": "34092d56-d9eb-40a1-802a-3631f70609f8",
   "metadata": {},
   "outputs": [],
   "source": [
    "### Thank you for completing this lab!\n",
    "\n",
    "## Authors\n",
    "\n",
    "<a href=\"https://www.linkedin.com/in/bohdan-tsisinskyi-539913255/ \" target=\"_blank\" >Bohdan Tsisinskyi</a>\n",
    "\n",
    "<a href=\"https://author.skills.network/instructors/yaroslav_vyklyuk_2\">Prof. Yaroslav Vyklyuk, DrSc, PhD</a>\n",
    "\n",
    "<a href=\"https://author.skills.network/instructors/mariya_fleychuk\">Prof. Mariya Fleychuk, DrSc, PhD</a>.\n",
    "\n",
    "## Change Log\n",
    "\n",
    "| Date (YYYY-MM-DD) | Version | Changed By | Change Description                         |\n",
    "| ----------------- | ------- | ---------- | ------------------------------------------ |\n",
    "|2023-03-25|1.0|Bohdan Tsisinskyi|Lab created|\n",
    "\n",
    "\n",
    "<hr>\n",
    "\n",
    "## <h3 align=\"center\"> © IBM Corporation 2023. All rights reserved. <h3/>\n"
   ]
  },
  {
   "cell_type": "code",
   "id": "378495a9-4152-4b13-842f-9512faaf6322",
   "metadata": {},
   "outputs": [],
   "source": []
  }
 ],
 "metadata": {
  "language_info": {
   "name": ""
  },
  "kernelspec": {
   "name": "",
   "display_name": ""
  }
 },
 "nbformat": 4,
 "nbformat_minor": 4
}

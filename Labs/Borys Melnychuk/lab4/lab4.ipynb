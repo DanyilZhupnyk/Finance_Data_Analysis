{
  "cells": [
    {
      "cell_type": "markdown",
      "id": "64adf2ad-5b00-46a7-bce7-516b9bb37914",
      "metadata": {},
      "outputs": [],
      "source": [
        "<center>\n    <img src=\"https://cf-courses-data.s3.us.cloud-object-storage.appdomain.cloud/assets/logos/SN_web_lightmode.png\" width=\"500\" alt=\"cognitiveclass.ai logo\"  />\n</center>\n\n#  **Investigation of MATIC/BUSD exchange rate dynamic,  calculation and analysis of separate  technical financial indicators of cryptocurrency market (ATR, OBV, RSI, AD)**\n\n## **Lab 4. Model development**\n\n\nEstimated time needed: **30** minutes\n\n## **Objectives**\n\nAfter completing this lab you will be able to:\n\n*   Develop prediction models\n*   Compare models\n*   Perform model evaluation using visualization\n"
      ]
    },
    {
      "cell_type": "markdown",
      "id": "b36a469b-5112-44a7-b514-1382c51fda52",
      "metadata": {},
      "outputs": [],
      "source": [
        "In this section, we will develop several models that will predict **\"Avg_price\"** of the cryptocurrency using the technical indicators. This is just an estimate but should give us an objective idea of how much the cryptocurrency should cost.\n"
      ]
    },
    {
      "cell_type": "markdown",
      "id": "5d365eac-a401-4429-a05a-e6530324103d",
      "metadata": {},
      "outputs": [],
      "source": [
        "Some questions we want to ask in this module\n\n* How good are models in predicting **\"Avg_price\"**?\n* Which model predicts the best?"
      ]
    },
    {
      "cell_type": "markdown",
      "id": "282a97be-4939-4ec6-80f7-1c0353a91744",
      "metadata": {},
      "outputs": [],
      "source": [
        "## **Table of Contents**\n\n<div class=\"alert alert-block alert-info\" style=\"margin-top: 20px\">\n<ol>\n    <li>Import Data</li>\n    <li>Linear Regression and Multiple Linear Regression</li>\n        <ul>\n            <li>Linear Regression</li>\n            <li>Multiple Linear Regression</li>\n        </ul>\n    <li>Model Evaluation Using Visualization</li>\n        <ul>\n            <li>Regression Plot</li>\n            <li>Residual Plot</li>\n            <li>Multiple Linear Regression</li>\n        </ul>\n    <li>Polynomial Regression and Pipelines</li>\n        <ul>\n            <li>Polynomial Regression</li>\n            <li>Pipeline</li>\n        </ul>\n    <li>Measures for In-Sample Evaluation</li>\n    <ul>\n        <li>$R^2$ / $R$-squared</li>\n        <li>Mean Squared Error (MSE)</li>\n        <li>F-test score</li>\n        <li>P-value</li>\n        <li>Model 1: Simple Linear Regression</li>\n        <li>Model 2: Multiple Linear Regression</li>\n        <li>Model 3: Polynomial Fit</li>\n    </ul>\n    <li>Prediction and Decision Making</li>\n    <ul>\n        <li>Prediction</li>\n        <li>Decision Making: Determining a Good Model Fit</li>\n        <li>Simple Linear Regression Model (SLR) vs Multiple Linear Regression Model (MLR)</li>\n        <li>Simple Linear Model (SLR) vs. Polynomial Fit</li>\n        <li>Multiple Linear Regression (MLR) vs. Polynomial Fit</li>\n    </ul>\n    <li>Sources</li>\n</ol>\n\n</div>\n\n<hr>\n"
      ]
    },
    {
      "cell_type": "markdown",
      "id": "6db5464e-5773-4cd9-9aea-119b3bd7a3df",
      "metadata": {},
      "outputs": [],
      "source": [
        "## **Dataset Description**\n\n### **Files**\n* #### **MATICBUSD_trades_1m_preprocessed.csv** - the file contains historical changes of the pair **MATIC/BUSD** and ATR, OBV, RSI, AD indicators for the period from 11/11/2022 to 12/29/2022 with an aggregation time of 1 minute\n\n### **Columns**\n\n* #### `Ts` - the timestamp of the record\n* #### `Open` -  the price of the asset at the beginning of the trading period\n* #### `High` -  the highest price of the asset during the trading period\n* #### `Low` - the lowest price of the asset during the trading period.\n* #### `Close` - the price of the asset at the end of the trading period\n* #### `Volume` - the total number of shares or contracts of a particular asset that are traded during a given period\n* #### `Rec_count` -  the number of individual trades or transactions that have been executed during a given time period\n* #### `Avg_price` - the average price at which a particular asset has been bought or sold during a given period\n* #### `ATR` - average true range indicator\n* #### `OBV` - on-balance volume indicator\n* #### `RSI` - relative strength index indicator\n* #### `AD` - accumulation / distribution indicator"
      ]
    },
    {
      "cell_type": "markdown",
      "id": "c4524048-4a59-4018-87dc-e7cb4c06f463",
      "metadata": {},
      "outputs": [],
      "source": [
        "In data analytics, we often use **Model Development** to help us predict future observations from the data we have. A model will help us understand the exact relationship between different variables and how these variables are used to predict the result."
      ]
    },
    {
      "cell_type": "markdown",
      "id": "1eaa9de2-9e39-4176-ad43-f2830f8cb0ef",
      "metadata": {},
      "outputs": [],
      "source": [
        "# **1. Import data**"
      ]
    },
    {
      "cell_type": "markdown",
      "id": "44722712-b3dc-4f7a-a84f-ccb738c71bef",
      "metadata": {},
      "outputs": [],
      "source": [
        "Run the following cell to install required libraries:\n"
      ]
    },
    {
      "cell_type": "code",
      "id": "34ab1e3e-3a69-48d8-923c-839a51e391e6",
      "metadata": {},
      "outputs": [],
      "source": [
        "# If you run the lab locally using Anaconda, you can load the correct library and versions by uncommenting the following:\n# install specific version of libraries used in lab\n\n# ! conda install -q -y pandas\n! conda install -q -y numpy\n# ! conda install -q -y matplotlib\n# ! conda install -q -y seaborn\n# ! conda install -q -y -c anaconda statsmodels -y\n\n! conda install -q -y -c anaconda scikit-learn\n# ! conda install -q -y scipy"
      ]
    },
    {
      "cell_type": "code",
      "id": "88064d02-121b-407c-9cb6-c01015912cf7",
      "metadata": {},
      "outputs": [],
      "source": [
        "import pandas as pd\nimport numpy as np\nimport matplotlib.pyplot as plt\nimport seaborn as sns\nimport statsmodels.api as sm\n\nfrom sklearn.linear_model import LinearRegression\nfrom sklearn.preprocessing import PolynomialFeatures, StandardScaler\nfrom sklearn.pipeline import Pipeline\nfrom sklearn.metrics import mean_squared_error, r2_score\nfrom sklearn import set_config\nfrom scipy import stats\n\nimport warnings\nfrom typing import Callable, Union\npd.set_option(\"display.precision\", 5) # setting numbers after digits\npd.options.display.float_format = \"{:.5f}\".format\nset_config(display=\"diagram\")\nwarnings.filterwarnings(\"ignore\")"
      ]
    },
    {
      "cell_type": "markdown",
      "id": "912b25d9-701f-4853-9a30-74ae65930d7e",
      "metadata": {},
      "outputs": [],
      "source": [
        "This dataset was hosted <a href=\"https://cf-courses-data.s3.us.cloud-object-storage.appdomain.cloud/IBMSkillsNetwork-GPXX087UEN/MATICBUSD_trades_1m_preprocessed.csv\">HERE</a>.\n"
      ]
    },
    {
      "cell_type": "code",
      "id": "ec6e1ae9-fc9f-48cf-9709-1a5c6d02430a",
      "metadata": {},
      "outputs": [],
      "source": [
        "path = \"https://cf-courses-data.s3.us.cloud-object-storage.appdomain.cloud/IBMSkillsNetwork-GPXX087UEN/MATICBUSD_trades_1m_preprocessed.csv\""
      ]
    },
    {
      "cell_type": "markdown",
      "id": "d46278fe-bf19-4330-bac8-398fbab5dfec",
      "metadata": {},
      "outputs": [],
      "source": [
        "Load the data and store it in dataframe `df`:\n"
      ]
    },
    {
      "cell_type": "code",
      "id": "2520c247-99ba-4f22-a302-d30a0d6c133a",
      "metadata": {},
      "outputs": [],
      "source": [
        "df = pd.read_csv(path, parse_dates=[\"Ts\"])"
      ]
    },
    {
      "cell_type": "code",
      "id": "82a47937-b4c6-47e9-9eba-44f6f1eb2e36",
      "metadata": {},
      "outputs": [],
      "source": [
        "df.head()"
      ]
    },
    {
      "cell_type": "markdown",
      "id": "2ffeafd0-ac89-44ee-aa2e-4161bc22aaed",
      "metadata": {},
      "outputs": [],
      "source": [
        "We will need to drop first 15 `NaN`'s"
      ]
    },
    {
      "cell_type": "code",
      "id": "d4053d70-7170-4046-81ae-165243d5bbf9",
      "metadata": {},
      "outputs": [],
      "source": [
        "df = df.dropna()"
      ]
    },
    {
      "cell_type": "markdown",
      "id": "17602aa6-d44d-40a5-b948-f8373b22ada4",
      "metadata": {},
      "outputs": [],
      "source": [
        "# **2. Linear Regression and Multiple Linear Regression**\n"
      ]
    },
    {
      "cell_type": "markdown",
      "id": "d784da81-b526-4be1-9dc4-b1c4d6afaac8",
      "metadata": {},
      "outputs": [],
      "source": [
        "## **Linear regression**\n\n**Linear regression** is an algorithm that provides a linear relationship between an independent variable and a dependent variable to predict the outcome of future events. It is a statistical method used in data science and machine learning for predictive analysis.\n\nThe independent variable is also the predictor or explanatory variable that remains unchanged due to the change in other variables. However, the dependent variable changes with fluctuations in the independent variable. The regression model predicts the value of the dependent variable, which is the response or outcome variable being analyzed or studied.\n\nThus, linear regression is a supervised learning algorithm that simulates a mathematical relationship between variables and makes predictions for *continuous or numeric variables such as sales, salary, age, product price, etc*.\n\nThis analysis method is advantageous when at least two variables are available in the data, as observed in stock market forecasting, portfolio management, scientific analysis, etc.\n\nA sloped straight line represents the linear regression model."
      ]
    },
    {
      "cell_type": "markdown",
      "id": "a4f216bc-e797-40a0-8006-0b35e14ddfc5",
      "metadata": {},
      "outputs": [],
      "source": [
        "<center>\n    <img src=\"https://cf-courses-data.s3.us.cloud-object-storage.appdomain.cloud/IBMSkillsNetwork-GPXX087UEN/25-4.png\" width=\"550\" alt=\"linear regression image\"  />\n</center>"
      ]
    },
    {
      "cell_type": "markdown",
      "id": "211aefb2-8a72-4c76-9ac7-97bc7a803256",
      "metadata": {},
      "outputs": [],
      "source": [
        "<center>Best Fit Line for a Linear Regression Model</center>\n\nIn the above figure,\n\n$X$-axis = Independent variable\n\n$Y$-axis = Output / dependent variable\n\nLine of regression = Best fit line for a model\n\nHere, a line is plotted for the given data points that suitably fit all the issues. Hence, it is called the **\"best fit line\"**. The goal of the linear regression algorithm is to find this best fit line seen in the above figure."
      ]
    },
    {
      "cell_type": "markdown",
      "id": "050557ac-a9da-4c84-8422-bad0c76b4d72",
      "metadata": {},
      "outputs": [],
      "source": [
        "The result of Linear Regression is a **linear function** that predicts the dependent variable as a function of the independent variable."
      ]
    },
    {
      "cell_type": "markdown",
      "id": "cdbf7d09-66b7-4d72-8acc-6383208f1350",
      "metadata": {},
      "outputs": [],
      "source": [
        "<h3>\n$$\nY : Dependent \\ Variable\\\\\\\\\\\\\\\\\\\\\nX : Independent \\ Variables\n$$\n</h3>"
      ]
    },
    {
      "cell_type": "markdown",
      "id": "ce8aaa95-6c92-490c-a658-1a05ac5c8f06",
      "metadata": {},
      "outputs": [],
      "source": [
        "**Linear Function**\n\n<center>\n<h3>\n$\n\\widehat{Y} = a + b  X\n$\n</h3>\n</center>\n"
      ]
    },
    {
      "cell_type": "markdown",
      "id": "5be7eac6-0b79-4e0e-84b3-4472529e83b4",
      "metadata": {},
      "outputs": [],
      "source": [
        "$a$ refers to the intercept of the regression line, in other words: the value of $Y$ when $X$ is 0 <br>\n$b$ refers to the slope of the regression line, in other words: the value with which $Y$ changes when $X$ increases by 1 unit"
      ]
    },
    {
      "cell_type": "markdown",
      "id": "ed96525a-0679-4926-a0ce-b73b99951542",
      "metadata": {},
      "outputs": [],
      "source": [
        "**Advantages:**\n\n* Easy to understand and interpret the results.\n* It is computationally efficient and requires minimal computational power.\n* Can be used to identify the relationship between two variables, making it useful for predictive modeling.\n* Useful when the relationship between the dependent and independent variable is linear.\n\n**Disadvantages:**\n\n* Assumes a linear relationship between the dependent and independent variables.\n* It is sensitive to outliers, which can negatively affect the results.\n* Cannot be used when there are multiple independent variables."
      ]
    },
    {
      "cell_type": "markdown",
      "id": "0d19ccbc-43ba-4922-a5fc-2df60f8c7a7d",
      "metadata": {},
      "outputs": [],
      "source": [
        "Create the linear regression object:"
      ]
    },
    {
      "cell_type": "code",
      "id": "ddfa6ff6-738c-4610-94ba-09a1ddc632ed",
      "metadata": {},
      "outputs": [],
      "source": [
        "lm = LinearRegression()\nlm"
      ]
    },
    {
      "cell_type": "markdown",
      "id": "89937f35-44d7-4c78-a278-a0a0f2ddff45",
      "metadata": {},
      "outputs": [],
      "source": [
        "**How could \"ATR\" help us predict \"Avg_price\"?**\n"
      ]
    },
    {
      "cell_type": "markdown",
      "id": "c28e68e2-3b59-43cb-871a-b2955c2f081c",
      "metadata": {},
      "outputs": [],
      "source": [
        "In the previous lab we did Granger Causality Test and concluded that **\"ATR\"** granger-causes **\"Avg_price\"** so we will use **\"ATR\"** as independent variable."
      ]
    },
    {
      "cell_type": "code",
      "id": "af5fef25-5edc-4a95-b394-a05267044944",
      "metadata": {},
      "outputs": [],
      "source": [
        "X_lr = df[[\"ATR\"]]\nY = df[\"Avg_price\"]"
      ]
    },
    {
      "cell_type": "markdown",
      "id": "a8b0e45c-a0ed-48f4-8d5e-3b4b0cd49ff4",
      "metadata": {},
      "outputs": [],
      "source": [
        "Fit the linear model using **\"ATR\"** and **\"Avg_price\"**:"
      ]
    },
    {
      "cell_type": "code",
      "id": "1be6aaef-2717-46fe-b0c4-c5506d857166",
      "metadata": {},
      "outputs": [],
      "source": [
        "lm.fit(X_lr, Y)"
      ]
    },
    {
      "cell_type": "markdown",
      "id": "ec597def-c23a-47d7-8bdc-c185743bf082",
      "metadata": {},
      "outputs": [],
      "source": [
        "We can output a prediction:\n"
      ]
    },
    {
      "cell_type": "code",
      "id": "7e3e7371-5518-40c5-8c9e-3216a64db480",
      "metadata": {},
      "outputs": [],
      "source": [
        "Y_hat = lm.predict(X_lr)\nY_hat[0:5]"
      ]
    },
    {
      "cell_type": "markdown",
      "id": "ecde40a0-bc1d-4a9f-82c0-bcea5a5217e0",
      "metadata": {},
      "outputs": [],
      "source": [
        "**What is the value of the intercept ($a$)?**"
      ]
    },
    {
      "cell_type": "code",
      "id": "4fe0264e-972d-4aa0-a033-ba0a0fe89df4",
      "metadata": {},
      "outputs": [],
      "source": [
        "lm.intercept_"
      ]
    },
    {
      "cell_type": "markdown",
      "id": "ad8570b2-2e35-4f05-9bae-8a7275b422cf",
      "metadata": {},
      "outputs": [],
      "source": [
        "**What is the value of the slope ($b$)?**"
      ]
    },
    {
      "cell_type": "code",
      "id": "148315ed-a5af-4111-a2f8-e8c6218368dd",
      "metadata": {},
      "outputs": [],
      "source": [
        "lm.coef_"
      ]
    },
    {
      "cell_type": "markdown",
      "id": "1ea610ee-5f39-4a86-b04c-e6ef36bdbcdc",
      "metadata": {},
      "outputs": [],
      "source": [
        "Now let's do the same but we will consider **\"OBV\"** and **\"AD\"** as independent variables"
      ]
    },
    {
      "cell_type": "markdown",
      "id": "aaf56ae1-e215-4cd2-ab8a-a48873d0e409",
      "metadata": {},
      "outputs": [],
      "source": [
        "**What is the final estimated linear model we get?**\n"
      ]
    },
    {
      "cell_type": "markdown",
      "id": "578e1b83-9dbc-492b-bb6c-e047ea82db03",
      "metadata": {},
      "outputs": [],
      "source": [
        "As we saw above, we should get a final linear model with the structure:\n"
      ]
    },
    {
      "cell_type": "markdown",
      "id": "443de90c-77fa-47b2-beee-ff4adea1852b",
      "metadata": {},
      "outputs": [],
      "source": [
        "<center>\n    <h3>\n$\n\\widehat{Y} = a + b  X\n$\n    </h3>\n</center>"
      ]
    },
    {
      "cell_type": "markdown",
      "id": "a19a0038-52fc-4203-ae8f-b0ce0e1524c2",
      "metadata": {},
      "outputs": [],
      "source": [
        "Plugging in the actual values we get:\n"
      ]
    },
    {
      "cell_type": "markdown",
      "id": "39750185-1425-4e26-a817-9a124703e63c",
      "metadata": {},
      "outputs": [],
      "source": [
        "**Avg_price** = 0.8439822752478543 + 22.49597877 x **ATR**"
      ]
    },
    {
      "cell_type": "code",
      "id": "f9c8905a-bd25-456d-b286-c1dc7a1168c4",
      "metadata": {},
      "outputs": [],
      "source": [
        "lm_obv = LinearRegression()\n\nX_obv = df[[\"OBV\"]]\n\nlm_obv.fit(X_obv, Y)\n\nY_obv = lm_obv.predict(X_obv)\nprint(f\"First 5 predictions: {Y_obv[:5]}\")\nprint(f\"Y-intercept: {lm_obv.intercept_}\")\nprint(f\"Coef: {lm_obv.coef_}\")"
      ]
    },
    {
      "cell_type": "code",
      "id": "aa006850-98bc-43a6-a36c-404039f13ada",
      "metadata": {},
      "outputs": [],
      "source": [
        "lm_ad = LinearRegression()\n\nX_ad = df[[\"AD\"]]\n\nlm_ad.fit(X_ad, Y)\n\nY_ad = lm_ad.predict(X_ad)\nprint(f\"First 5 predictions: {Y_ad[:5]}\")\nprint(f\"Y-intercept: {lm_ad.intercept_}\")\nprint(f\"Coef: {lm_ad.coef_}\")"
      ]
    },
    {
      "cell_type": "markdown",
      "id": "85c350ef-c190-4713-bf36-753ad1540a2e",
      "metadata": {},
      "outputs": [],
      "source": [
        "<div class=\"alert alert-danger alertdanger\" style=\"margin-top: 20px\">\n<h1><strong>Question #1 a): </strong></h1>\n\n**Create a linear regression object called `lm_rsi`.**\n\n</div>\n"
      ]
    },
    {
      "cell_type": "code",
      "id": "b62922b3-d117-48c7-9dba-da3dd951de71",
      "metadata": {},
      "outputs": [],
      "source": [
        "# Write your code below and press Shift+Enter to execute \n"
      ]
    },
    {
      "cell_type": "markdown",
      "id": "5f475338-5f48-4df0-9dff-b892539658df",
      "metadata": {},
      "outputs": [],
      "source": [
        "<details><summary>Click here for the solution</summary>\n\n```python\nlm_rsi = LinearRegression()\nlm_rsi\n```\n\n</details>\n"
      ]
    },
    {
      "cell_type": "markdown",
      "id": "a6c16e3d-ffcc-47bf-a94d-91225ea3fbbc",
      "metadata": {},
      "outputs": [],
      "source": [
        "<div class=\"alert alert-danger alertdanger\" style=\"margin-top: 20px\">\n<h1><strong>Question #1 b):</strong></h1>\n\n**Train the model using \"RSI\" as the independent variable and \"Avg_price\" as the dependent variable?**\n\n</div>\n"
      ]
    },
    {
      "cell_type": "code",
      "id": "df4a7c08-e696-4604-a79c-d122ce8d895a",
      "metadata": {},
      "outputs": [],
      "source": [
        "# Write your code below and press Shift+Enter to execute \n"
      ]
    },
    {
      "cell_type": "markdown",
      "id": "9680ccf6-62f4-4683-a3dc-126fa969b6b5",
      "metadata": {},
      "outputs": [],
      "source": [
        "<details><summary>Click here for the solution</summary>\n\n```python\nlm_rsi.fit(df[[\"RSI\"]], df[\"Avg_price\"])\nlm_rsi\n```\n\n</details>\n"
      ]
    },
    {
      "cell_type": "markdown",
      "id": "40ca7987-672d-441c-bcbf-e20a739543ba",
      "metadata": {},
      "outputs": [],
      "source": [
        "<div class=\"alert alert-danger alertdanger\" style=\"margin-top: 20px\">\n<h1><strong>Question #1 c):</strong></h1>\n\n**Find the slope and intercept of the model.**\n\n</div>\n"
      ]
    },
    {
      "cell_type": "markdown",
      "id": "b6037519-3a48-4be4-ad18-d58bb4be0fb7",
      "metadata": {},
      "outputs": [],
      "source": [
        "Slope"
      ]
    },
    {
      "cell_type": "code",
      "id": "c40592f9-b429-4d71-8a98-fc7770a5ea55",
      "metadata": {},
      "outputs": [],
      "source": [
        "# Write your code below and press Shift+Enter to execute \n"
      ]
    },
    {
      "cell_type": "markdown",
      "id": "c6a720f6-536b-4d94-8ec5-64bd86dafc9c",
      "metadata": {},
      "outputs": [],
      "source": [
        "<details><summary>Click here for the solution</summary>\n\n```python\n# Slope \nlm_rsi.coef_\n```\n\n</details>\n"
      ]
    },
    {
      "cell_type": "markdown",
      "id": "a7f09c8c-c1c1-4993-9a39-1d172ab2cec7",
      "metadata": {},
      "outputs": [],
      "source": [
        "Intercept"
      ]
    },
    {
      "cell_type": "code",
      "id": "65534afc-0863-4398-94ab-18614cd90eb9",
      "metadata": {},
      "outputs": [],
      "source": [
        "# Write your code below and press Shift+Enter to execute \n"
      ]
    },
    {
      "cell_type": "markdown",
      "id": "b497da8f-29fb-47ac-ab1d-66a3fbf49811",
      "metadata": {},
      "outputs": [],
      "source": [
        "<details><summary>Click here for the solution</summary>\n\n```python\n# Intercept\nlm_rsi.intercept_\n```\n\n</details>\n"
      ]
    },
    {
      "cell_type": "markdown",
      "id": "ee594d67-bf77-4ee8-92f4-5342a3867ae3",
      "metadata": {},
      "outputs": [],
      "source": [
        "<div class=\"alert alert-danger alertdanger\" style=\"margin-top: 20px\">\n<h1><strong>Question #1 d):</strong></h1>\n\n**What is the equation of the predicted line? Assign the equation to `y_hat` variable.**\n\n</div>\n"
      ]
    },
    {
      "cell_type": "code",
      "id": "011fe165-7f0e-45cd-a74c-400ca92b7135",
      "metadata": {},
      "outputs": [],
      "source": [
        "# Write your code below and press Shift+Enter to execute \n"
      ]
    },
    {
      "cell_type": "markdown",
      "id": "77116f79-8bf0-4b80-bdce-e0476758b55b",
      "metadata": {},
      "outputs": [],
      "source": [
        "<details><summary>Click here for the solution</summary>\n\n```python\ny_hat = 0.00014489 * df[\"RSI\"] + 0.8573564226902424\n\n```\n\n</details>\n"
      ]
    },
    {
      "cell_type": "markdown",
      "id": "031136d6-5b63-4334-9d22-efcf0bc2ac7b",
      "metadata": {},
      "outputs": [],
      "source": [
        "## **Multiple Linear Regression**\n"
      ]
    },
    {
      "cell_type": "markdown",
      "id": "8cb17969-dee2-4b8a-aa8e-3203dbeaac2b",
      "metadata": {},
      "outputs": [],
      "source": [
        "**What if we want to predict \"Avg_price\" using more than one variable?**\n\nIf we want to use more variables in our model to predict price, we can use **Multiple Linear Regression**.\nMultiple Linear Regression is very similar to Simple Linear Regression, but this method is used to explain the relationship between one continuous response (dependent) variable and **two or more** predictor (independent) variables.\n\n**Example:** Consider the task of calculating blood pressure. In this case, height, weight, and amount of exercise can be considered independent variables. Here, we can use multiple linear regression to analyze the relationship between the three independent variables and one dependent variable, as all the variables considered are quantitative.\n\n**What Multiple Linear Regression Can Tell You?**\n\nSimple linear regression is a function that allows an analyst or statistician to make predictions about one variable based on the information that is known about another variable. Linear regression can only be used when one has two continuous variables — an independent variable and a dependent variable. The independent variable is the parameter that is used to calculate the dependent variable or outcome. A multiple regression model extends to several explanatory variables.\n\n**How Are Multiple Regression Models Used in Finance?**\n\nAny econometric model that looks at more than one variable may be a multiple. Factor models compare two or more factors to analyze relationships between variables and the resulting performance. The Fama and French Three-Factor Mod is such a model that expands on the capital asset pricing model (**CAPM**) by adding size risk and value risk factors to the market risk factor in **CAPM** (which is itself a regression model). By including these two additional factors, the model adjusts for this outperforming tendency, which is thought to make it a better tool for evaluating manager performance.\n\nMost of the real-world regression models involve multiple predictors. We will illustrate the structure by using four predictor variables, but these results can generalize to any integer:\n"
      ]
    },
    {
      "cell_type": "markdown",
      "id": "a96113fd-9134-4540-b345-856f96d6c8e4",
      "metadata": {},
      "outputs": [],
      "source": [
        "<h3>\n$$\nY: \\text{Dependent Variable}\\\\\\\\\\\\\\\\\\\\\nX_1: \\text{Independent Variable 1}\\\\\\\\\nX_2: \\text{Independent Variable 2}\\\\\\\\\nX_3: \\text{Independent Variable 3}\\\\\\\\\nX_4: \\text{Independent Variable 4}\\\\\\\\\n$$\n</h3>"
      ]
    },
    {
      "cell_type": "markdown",
      "id": "77876a34-a075-4ea7-883a-7c3117766864",
      "metadata": {},
      "outputs": [],
      "source": [
        "<h3>\n$$\na: \\text{intercept}\\\\\\\\\\\\\\\\\\\\\nb_1 : \\text{coefficients of Variable 1}\\\\\\\\\nb_2: \\text{coefficients of Variable 2}\\\\\\\\\nb_3: \\text{coefficients of Variable 3}\\\\\\\\\nb_4: \\text{coefficients of Variable 4}\\\\\\\\\n$$\n</h3>"
      ]
    },
    {
      "cell_type": "markdown",
      "id": "038014df-9d0b-467b-b1e7-11166916b866",
      "metadata": {},
      "outputs": [],
      "source": [
        "The equation is given by:\n"
      ]
    },
    {
      "cell_type": "markdown",
      "id": "0b525ef2-d232-41f3-a8cf-24c5bb0e796f",
      "metadata": {},
      "outputs": [],
      "source": [
        "<h3>\n$$\n\\widehat{Y} = a + b_1 X_1 + b_2 X_2 + b_3 X_3 + b_4 X_4\n$$\n</h3>"
      ]
    },
    {
      "cell_type": "markdown",
      "id": "f0f45217-0894-427c-942e-a0bffb7a811f",
      "metadata": {},
      "outputs": [],
      "source": [
        "From the previous section  we know that good predictors of **\"Avg_price\"** could be:\n\n* **\"ATR\"**\n* **\"OBV\"**\n* **\"RSI\"**\n* **\"AD\"**"
      ]
    },
    {
      "cell_type": "markdown",
      "id": "30334cc6-7b99-4af3-9c5d-b3894cd593a2",
      "metadata": {},
      "outputs": [],
      "source": [
        "**Advantages:**\n\n* Can be used to identify the relationship between multiple independent variables and a dependent variable.\n* It can account for the effect of confounding variables on the dependent variable.\n* Can improve the accuracy of predictions compared to simple linear regression.\n* Can identify which independent variable(s) have the most impact on the dependent variable.\n\n**Disadvantages:**\n\n* Requires more data than simple linear regression.\n* The results can be difficult to interpret when there are multiple independent variables.\n* Assumes a linear relationship between the dependent and independent variables."
      ]
    },
    {
      "cell_type": "markdown",
      "id": "6e8c2517-172e-44a4-80f7-b8dff72c0e0b",
      "metadata": {},
      "outputs": [],
      "source": [
        "Let's calculate a correlation between these cryptocurrencies"
      ]
    },
    {
      "cell_type": "code",
      "id": "2ecfca70-e9c0-4ce4-8b4f-d29e8fe121b3",
      "metadata": {},
      "outputs": [],
      "source": [
        "df.corr()"
      ]
    },
    {
      "cell_type": "markdown",
      "id": "058e29f8-8b1d-438a-bcf6-cd4383884bd6",
      "metadata": {},
      "outputs": [],
      "source": [
        "Let's develop a model using these variables as the predictor variables."
      ]
    },
    {
      "cell_type": "code",
      "id": "0535b952-1b9d-4b75-89a5-777415d28937",
      "metadata": {},
      "outputs": [],
      "source": [
        "Z = df[[\"ATR\", \"OBV\", \"RSI\", \"AD\"]]"
      ]
    },
    {
      "cell_type": "markdown",
      "id": "4ec82499-1382-403b-b1db-fa39e45fdadf",
      "metadata": {},
      "outputs": [],
      "source": [
        "Fit the linear model using the four above-mentioned variables.\n"
      ]
    },
    {
      "cell_type": "code",
      "id": "a8f7f328-211f-4603-b928-7ed8b453307e",
      "metadata": {},
      "outputs": [],
      "source": [
        "mlr = LinearRegression()\nmlr.fit(Z, Y)"
      ]
    },
    {
      "cell_type": "code",
      "id": "24394931-837b-4305-9db5-ac13d6472ab4",
      "metadata": {},
      "outputs": [],
      "source": [
        "Y_mlr = mlr.predict(Z)"
      ]
    },
    {
      "cell_type": "markdown",
      "id": "b8ed62ff-8f5b-472d-9144-73fb727c0091",
      "metadata": {},
      "outputs": [],
      "source": [
        "**What is the value of the intercept ($a$)?**\n"
      ]
    },
    {
      "cell_type": "code",
      "id": "00182fb2-c0a8-41fb-833d-fd9ac0d18cc0",
      "metadata": {},
      "outputs": [],
      "source": [
        "mlr.intercept_"
      ]
    },
    {
      "cell_type": "markdown",
      "id": "6e5201cf-90eb-4bf4-8204-0dc2cc04182f",
      "metadata": {},
      "outputs": [],
      "source": [
        "**What are the values of the coefficients ($b_1$, $b_2$, $b_3$, $b_4$)?**\n"
      ]
    },
    {
      "cell_type": "code",
      "id": "02327b38-eaaf-4e01-88d2-413cf65f2fdd",
      "metadata": {},
      "outputs": [],
      "source": [
        "mlr.coef_"
      ]
    },
    {
      "cell_type": "markdown",
      "id": "bc101c9a-0d59-4ba5-8c2e-4100ea186966",
      "metadata": {},
      "outputs": [],
      "source": [
        "**What is the final estimated linear model that we get?**\n"
      ]
    },
    {
      "cell_type": "markdown",
      "id": "7375dab5-912c-47f8-9464-3fafe43753bd",
      "metadata": {},
      "outputs": [],
      "source": [
        "As we saw above, we should get a final linear function with the structure:\n\n<h3>\n$$\n\\widehat{Y} = a + b_1 X_1 + b_2 X_2 + b_3 X_3 + b_4 X_4\n$$\n</h3>\n    \n**What is the linear function we get in this example?**\n"
      ]
    },
    {
      "cell_type": "markdown",
      "id": "38f3da72-581b-444d-9132-625d8906587e",
      "metadata": {},
      "outputs": [],
      "source": [
        "**Avg_price** = 1.0480399345639373 - 0.993894360 x **ATR** + 0.00000000672461253 x **OBV** + 0.0000742896268 x **RSI** + 0.00000000578434954 x **AD**\n"
      ]
    },
    {
      "cell_type": "markdown",
      "id": "94391420-36ad-4470-b5f9-45e4a380c4c1",
      "metadata": {},
      "outputs": [],
      "source": [
        "<div class=\"alert alert-danger alertdanger\" style=\"margin-top: 20px\">\n    \n# **Question  #2 a):**\n    \n**Create and train a Multiple Linear Regression model `lm2` where the dependent variable is \"Avg_price\", and the independent variable is \"ATR\" and \"AD\".**\n    \n</div>\n"
      ]
    },
    {
      "cell_type": "code",
      "id": "bc8f1722-4f32-4a0a-9511-79e82c2fa0e0",
      "metadata": {},
      "outputs": [],
      "source": [
        "# Write your code below and press Shift+Enter to execute \n"
      ]
    },
    {
      "cell_type": "markdown",
      "id": "e7f193bc-7045-40fc-a829-7ceeea81763b",
      "metadata": {},
      "outputs": [],
      "source": [
        "<details><summary>Click here for the solution</summary>\n\n```python\nlm2 = LinearRegression()\nlm2.fit(df[[\"ATR\", \"AD\"]], df[\"Avg_price\"])\n\n\n```\n\n</details>\n"
      ]
    },
    {
      "cell_type": "markdown",
      "id": "f3e5defe-49c2-4853-9079-2a5540b56d71",
      "metadata": {},
      "outputs": [],
      "source": [
        "<div class=\"alert alert-danger alertdanger\" style=\"margin-top: 20px\">\n    \n# **Question  #2 b):**\n    \n**Find the coefficient of the model.**\n    \n</div>\n"
      ]
    },
    {
      "cell_type": "code",
      "id": "301f695a-9cc1-46de-a131-d789cd29b7c3",
      "metadata": {},
      "outputs": [],
      "source": [
        "# Write your code below and press Shift+Enter to execute \n"
      ]
    },
    {
      "cell_type": "markdown",
      "id": "73924ddb-4e89-4613-9b16-d0d27f8e178b",
      "metadata": {},
      "outputs": [],
      "source": [
        "<details><summary>Click here for the solution</summary>\n\n```python\nlm2.coef_\n\n```\n\n</details>\n"
      ]
    },
    {
      "cell_type": "markdown",
      "id": "1caf6d88-8f9b-4eae-9222-736ba5aba106",
      "metadata": {},
      "outputs": [],
      "source": [
        "# **3. Model Evaluation Using Visualization**\n"
      ]
    },
    {
      "cell_type": "markdown",
      "id": "c2681c24-d956-4232-9e0a-b4a2f8891a63",
      "metadata": {},
      "outputs": [],
      "source": [
        "Now that we've developed some models, how do we evaluate our models and choose the best one? One way to do this is by using a visualization.\n"
      ]
    },
    {
      "cell_type": "markdown",
      "id": "e90c3b70-c64e-409a-ab44-d201297a0c4b",
      "metadata": {},
      "outputs": [],
      "source": [
        "## **Regression Plot**\n"
      ]
    },
    {
      "cell_type": "markdown",
      "id": "04c76a3b-daae-4324-9132-e8aa9e4977a4",
      "metadata": {},
      "outputs": [],
      "source": [
        "When it comes to simple linear regression, an excellent way to visualize the fit of our model is by using **regression plots**.\n\nThis plot will show a combination of a scattered data points (a **scatterplot**), as well as the fitted **linear regression** line going through the data. This will give us a reasonable estimate of the relationship between the two variables, the strength of the correlation, as well as the direction (positive or negative correlation).\n"
      ]
    },
    {
      "cell_type": "markdown",
      "id": "2db018c6-6327-4da6-bd52-e917e41793de",
      "metadata": {},
      "outputs": [],
      "source": [
        "Let's visualize **\"AD\"** as potential predictor variable of **\"Avg_price\"**:\n"
      ]
    },
    {
      "cell_type": "code",
      "id": "a06122eb-bc7f-46ac-9d18-b1f39a50f4ce",
      "metadata": {},
      "outputs": [],
      "source": [
        "width = 6\nheight = 5\nplt.figure(figsize=(width, height))\nplt.title(\"AD as potential predictor variable of Avg_price\")\nsns.regplot(x=\"AD\", y=\"Avg_price\", data=df, scatter_kws={\"s\": 1})"
      ]
    },
    {
      "cell_type": "markdown",
      "id": "ec326867-9a4f-446c-80e9-14d84dee3daa",
      "metadata": {},
      "outputs": [],
      "source": [
        "As we can see, the points are not scattered in a straight line so the line does not describe these data well\n\nOne thing to keep in mind when looking at a regression plot is to pay attention to how scattered the data points are around the regression line. This will give you a good indication of the variance of the data and whether a linear model would be the best fit or not. If the data is too far off from the line, this linear model might not be the best model for this data.\n\nLet's compare this plot to the regression plot of **\"ATR\"**.\n"
      ]
    },
    {
      "cell_type": "code",
      "id": "4edd470a-9506-436a-8325-70a62363f84a",
      "metadata": {},
      "outputs": [],
      "source": [
        "plt.figure(figsize=(width, height))\nplt.title(\"ATR as potential predictor variable of Avg_price\")\nsns.regplot(x=\"ATR\", y=\"Avg_price\", data=df, scatter_kws={\"s\": 1})"
      ]
    },
    {
      "cell_type": "markdown",
      "id": "976e4c61-1d2f-4d6d-a2d3-b16bf7ecfb07",
      "metadata": {},
      "outputs": [],
      "source": [
        "We can see positive correlation and many outliers. But the line does not describe the data well"
      ]
    },
    {
      "cell_type": "markdown",
      "id": "c8871215-30cf-4a41-af5a-988029809696",
      "metadata": {},
      "outputs": [],
      "source": [
        "<div class=\"alert alert-danger alertdanger\" style=\"margin-top: 20px\">\n\n# **Question #3:**\n    \n**Given the regression plots above, is \"AD\" or \"ATR\" more strongly correlated with \"Avg_price\"? Use the method  `.corr()` to verify your answer.**\n\n</div>\n"
      ]
    },
    {
      "cell_type": "code",
      "id": "a5e99779-cd4b-421b-813b-480e45058fee",
      "metadata": {},
      "outputs": [],
      "source": [
        "# Write your code below and press Shift+Enter to execute \n"
      ]
    },
    {
      "cell_type": "markdown",
      "id": "ad8da7d7-55c2-41f7-9e4c-495f46b74d8c",
      "metadata": {},
      "outputs": [],
      "source": [
        "<details><summary>Click here for the solution</summary>\n\n```python\n# The variable \"AD\" has a stronger correlation with \"Avg_price\", it is approximate 0.481835 compared to \"ATR\" which is approximate 0.334486. You can verify it using the following command:\n\ndf[[\"AD\", \"ATR\", \"Avg_price\"]].corr()\n\n```\n\n</details>\n"
      ]
    },
    {
      "cell_type": "markdown",
      "id": "47b8867d-6964-441a-b755-e34f12d68c17",
      "metadata": {},
      "outputs": [],
      "source": [
        "## **Residual Plot**\n\nA good way to visualize the variance of the data is to use a residual plot."
      ]
    },
    {
      "cell_type": "markdown",
      "id": "c501eb92-228d-4556-82e1-798e6a8bde38",
      "metadata": {},
      "outputs": [],
      "source": [
        "**What is a residual?**\n\nThe difference between the observed value $(y)$ and the predicted value $(\\widehat{Y})$ is called the residual $(e)$. When we look at a regression plot, the residual is the distance from the data point to the fitted regression line.\n\n**So what is a residual plot?**\n\nA residual plot is a graph that shows the residuals on the vertical $y$-axis and the independent variable on the horizontal $x$-axis.\n\n**What do we pay attention to when looking at a residual plot?**\n\nWe look at the spread of the residuals:\n\nIf the points in a residual plot are **randomly spread out around the $x$-axis**, then a **linear model is appropriate** for the data.\n\n**Why is that?** Randomly spread out residuals means that the variance is constant, and thus the linear model is a good fit for this data."
      ]
    },
    {
      "cell_type": "code",
      "id": "46842979-35a8-4ca1-9301-60fab862da32",
      "metadata": {},
      "outputs": [],
      "source": [
        "width = 6\nheight = 5\nplt.figure(figsize=(width, height))\nplt.title(\"Residual plot of AD (x) and Avg_price (y)\")\nsns.residplot(x=df[\"AD\"], y=df[\"Avg_price\"], scatter_kws={\"s\": 1})\nplt.show()"
      ]
    },
    {
      "cell_type": "markdown",
      "id": "1b1d1659-9d38-44aa-990b-d7d35c088623",
      "metadata": {},
      "outputs": [],
      "source": [
        "**What is this plot telling us?**\n\nWe can see from this residual plot that the residuals are not randomly spread around the $x$-axis, leading us to believe that maybe a non-linear model is more appropriate for this data."
      ]
    },
    {
      "cell_type": "markdown",
      "id": "68f1675b-32e0-4bf0-bda5-f1130d5386d5",
      "metadata": {},
      "outputs": [],
      "source": [
        "## **Multiple Linear Regression**"
      ]
    },
    {
      "cell_type": "markdown",
      "id": "46e87a80-4feb-4751-bca8-e7389e4b5a6e",
      "metadata": {},
      "outputs": [],
      "source": [
        "**How do we visualize a model for Multiple Linear Regression?** This gets a bit more complicated because you can't visualize it with regression or residual plot.\n\nOne way to look at the fit of the model is by looking at the **distribution plot**. We can look at the distribution of the fitted values that result from the model and compare it to the distribution of the actual values.\n"
      ]
    },
    {
      "cell_type": "markdown",
      "id": "bd3f0011-d2ef-41fc-8491-0ea220345102",
      "metadata": {},
      "outputs": [],
      "source": [
        "First, let's make a prediction:\n"
      ]
    },
    {
      "cell_type": "code",
      "id": "cfe31009-3feb-4c45-959d-2c657036b00b",
      "metadata": {},
      "outputs": [],
      "source": [
        "Y_hat_mlr = mlr.predict(Z)"
      ]
    },
    {
      "cell_type": "code",
      "id": "f4b2cc33-f575-4691-88b4-6f2630136f31",
      "metadata": {},
      "outputs": [],
      "source": [
        "plt.figure(figsize=(width, height))\n\ntemp_df = pd.DataFrame({\"Avg_price\": df[\"Avg_price\"], \"Fitted values\": Y_hat_mlr})\ntemp_df.plot.kde(figsize=(width, height))\n\nplt.title(\"Actual vs Fitted Values for Avg_price\")\nplt.xlabel(\"Price (in dollars)\")\nplt.ylabel(\"Proportion\")\n\nplt.show()\nplt.close()"
      ]
    },
    {
      "cell_type": "markdown",
      "id": "acee05a1-8879-4343-827a-5509e1351477",
      "metadata": {},
      "outputs": [],
      "source": [
        "<p>We can see that the fitted values are reasonably close to the actual values. However, there is definitely some room for improvement.</p>\n"
      ]
    },
    {
      "cell_type": "markdown",
      "id": "c29827a6-4a0b-41dc-9cbc-cb0b679f5457",
      "metadata": {},
      "outputs": [],
      "source": [
        "# **4. Polynomial Regression and Pipelines**\n"
      ]
    },
    {
      "cell_type": "markdown",
      "id": "6a8ab120-dedb-46c9-b333-4a688fea4117",
      "metadata": {},
      "outputs": [],
      "source": [
        "## **Polynomial regression**"
      ]
    },
    {
      "cell_type": "markdown",
      "id": "3629a63c-adbc-411f-b7fa-0fc7c03488f8",
      "metadata": {},
      "outputs": [],
      "source": [
        "In statistics, **polynomial regression** is a form of regression analysis in which the relationship between the independent variable $x$ and the dependent variable $y$ is modelled as an $n$-th degree polynomial in $x$. **Polynomial regression** is a particular case of the general linear regression model or multiple linear regression models. We get non-linear relationships by squaring or setting higher-order terms of the predictor variables."
      ]
    },
    {
      "cell_type": "markdown",
      "id": "127a5f61-6a03-4f6e-8fc2-c5a5cd7ee0d0",
      "metadata": {},
      "outputs": [],
      "source": [
        "There are different orders of polynomial regression:"
      ]
    },
    {
      "cell_type": "markdown",
      "id": "c702732b-270b-4dda-a276-d09ae0d459ca",
      "metadata": {},
      "outputs": [],
      "source": [
        "<center>Quadratic - 2nd Order</center>\n<h3 style=\"margin-bottom: 5px; margin-top: 5px\">\n$$\nYhat = a + b_1 X +b_2 X^2 \n$$\n</h3>\n    \n<center>Cubic - 3rd Order</center>\n<h3 style=\"margin-top: 5px\">\n$$\nYhat = a + b_1 X +b_2 X^2 +b_3 X^3\n$$\n</h3> \n\n<center>Higher-Order:</center>\n<h3 style=\"margin-top: 5px\">\n$$\nY = a + b_1 X +b_2 X^2 +b_3 X^3\n$$\n</h3>\n"
      ]
    },
    {
      "cell_type": "markdown",
      "id": "649eb95c-ee6a-40a0-9c26-037b399a3a98",
      "metadata": {},
      "outputs": [],
      "source": [
        "**The example:** Imagine you want to predict how many likes your new social media post will have at any given point after the publication. There is no linear correlation between the number of likes and the time that passes. Your new post will probably get many likes in the first 24 hours after publication, and then its popularity will decrease."
      ]
    },
    {
      "cell_type": "markdown",
      "id": "6094b594-c91e-4686-aee8-b43da069fc19",
      "metadata": {},
      "outputs": [],
      "source": [
        "**Why do we need Polynomial Regression?**"
      ]
    },
    {
      "cell_type": "markdown",
      "id": "77b970cd-d659-4400-89cd-0270a699ee58",
      "metadata": {},
      "outputs": [],
      "source": [
        "A simple linear regression algorithm only works when the relationship between the data is linear. But suppose we have non-linear data, then linear regression will not be able to draw a best-fit line. Simple regression analysis fails in such conditions. Consider the below diagram, which has a non-linear relationship, and you can see the linear regression results on it, which does not perform well, meaning it does not come close to reality. Hence, we introduce polynomial regression to overcome this problem, which helps identify the curvilinear relationship between independent and dependent variables."
      ]
    },
    {
      "cell_type": "markdown",
      "id": "7f225e97-46b8-410d-a32d-80d53ba1d5ea",
      "metadata": {},
      "outputs": [],
      "source": [
        "<center><img width=\"550\" src=\"https://cf-courses-data.s3.us.cloud-object-storage.appdomain.cloud/IBMSkillsNetwork-GPXX087UEN/kawer8rc.5_(5).png\" alt=\"poly\"/></center>"
      ]
    },
    {
      "cell_type": "markdown",
      "id": "b441c8d2-8112-4951-a529-f8d57a3a6a37",
      "metadata": {},
      "outputs": [],
      "source": [
        "**Advantages:**\n\n\n* Can fit complex curves and relationships between the dependent and independent variables.\n* Can improve the accuracy of predictions compared to linear regression models.\n* Can be used when the relationship between the dependent and independent variables is non-linear.\n\n**Disadvantages:**\n\n* Can be overfitting to the data, leading to poor performance on new data.\n* The higher degree of the polynomial used, the more complex and difficult to interpret the model becomes.\n* Requires more data than simple linear regression models."
      ]
    },
    {
      "cell_type": "markdown",
      "id": "d3b7126d-2df1-4ac2-8045-d7b2c140cab9",
      "metadata": {},
      "outputs": [],
      "source": [
        "We saw earlier that a linear model did not provide the best fit while using **\"ATR\"** as the predictor variable. Let's see if we can try fitting a polynomial model to the data instead.\n"
      ]
    },
    {
      "cell_type": "markdown",
      "id": "91ce0958-9e61-4060-bb2e-5629cb737361",
      "metadata": {},
      "outputs": [],
      "source": [
        "<p>We will use the following function to plot the data:</p>\n"
      ]
    },
    {
      "cell_type": "code",
      "id": "84be1449-a811-46bc-830e-6a05b89a4284",
      "metadata": {},
      "outputs": [],
      "source": [
        "def plot_poly(model: Callable, independent_variable: pd.Series, dependent_variable: pd.Series, name: str) -> None:\n    \"\"\"\n    Plots polynomial function\n    \n    Parameters\n    ----------\n    model: Callable\n        Function which will calculate polynomial\n    independent_variable: pd.Series\n        Independent variable (x)\n    dependent_variable: pd.Series\n        Dependent variable (y)\n    name: str\n        Name of indicator which will be used as label of x-axis\n    \"\"\"\n    x_new = np.linspace(min(independent_variable) - 100, max(independent_variable) + 100, 100)\n    y_new = model(x_new)\n\n    plt.plot(independent_variable, dependent_variable, \".\", x_new, y_new, \"-\", markersize=1)\n    plt.title(\"Polynomial Fit with Matplotlib for Price\")\n    ax = plt.gca()\n    ax.set_facecolor((0.898, 0.898, 0.898))\n    fig = plt.gcf()\n    plt.xlabel(name)\n    plt.ylabel(\"Avg_price\")\n\n    plt.show()\n    plt.close()"
      ]
    },
    {
      "cell_type": "markdown",
      "id": "c0845583-27ee-41f7-83a5-102224a0df33",
      "metadata": {},
      "outputs": [],
      "source": [
        "Let's get the variables:\n"
      ]
    },
    {
      "cell_type": "code",
      "id": "11ec52d0-49f7-4098-b75a-b22a979b564d",
      "metadata": {},
      "outputs": [],
      "source": [
        "X_poly = df[\"AD\"]"
      ]
    },
    {
      "cell_type": "markdown",
      "id": "f4613bd6-768a-4fd0-8a62-18f49fbc39b4",
      "metadata": {},
      "outputs": [],
      "source": [
        "Let's fit the polynomial using the function <code>polyfit</code>, then use the function <code>poly1d</code> to display the polynomial function.\n"
      ]
    },
    {
      "cell_type": "code",
      "id": "2fd68387-c7fa-4440-a6cb-0a92f4dace71",
      "metadata": {},
      "outputs": [],
      "source": [
        "# Here we use a polynomial of the 3rd order (cubic) \nf = np.polyfit(X_poly, Y, 3)\np = np.poly1d(f)\nY_poly = p(X_poly)\nprint(p)"
      ]
    },
    {
      "cell_type": "markdown",
      "id": "b81e4927-76b3-40bb-85cb-781d69f98ec7",
      "metadata": {},
      "outputs": [],
      "source": [
        "Let's plot the function:\n"
      ]
    },
    {
      "cell_type": "code",
      "id": "c9075624-fa17-4249-af41-f6ea2c4b3b94",
      "metadata": {},
      "outputs": [],
      "source": [
        "plot_poly(p, X_poly, Y, \"AD\")"
      ]
    },
    {
      "cell_type": "code",
      "id": "9d7fb8a5-d5b0-497c-b296-e7e724e15bfa",
      "metadata": {},
      "outputs": [],
      "source": [
        "np.polyfit(X_poly, Y, 3)"
      ]
    },
    {
      "cell_type": "markdown",
      "id": "99301e31-d5bb-4487-920c-f77859060006",
      "metadata": {},
      "outputs": [],
      "source": [
        "<p>We can already see from plotting that this polynomial model performs better than the linear model. This is because the generated polynomial function  \"hits\" more of the data points.</p>\n"
      ]
    },
    {
      "cell_type": "markdown",
      "id": "2c1120e0-933e-41b8-a6ad-2c9c20e7561f",
      "metadata": {},
      "outputs": [],
      "source": [
        "<div class=\"alert alert-danger alertdanger\" style=\"margin-top: 20px\">\n\n# **Question #4:**\n    \n**Create 2 order polynomial model with the variables $x$ and $y$ from above.**\n    \n</div>\n"
      ]
    },
    {
      "cell_type": "code",
      "id": "f53888ad-104b-494d-976d-a25f69b62cf9",
      "metadata": {},
      "outputs": [],
      "source": [
        "# Write your code below and press Shift+Enter to execute \n"
      ]
    },
    {
      "cell_type": "markdown",
      "id": "bef0e5e6-0fc6-49f5-9392-8f78974757bc",
      "metadata": {},
      "outputs": [],
      "source": [
        "<details><summary>Click here for the solution</summary>\n\n```python\n# Here we use a polynomial of the 2nd order\nf1 = np.polyfit(X_poly, Y, 2)\np1 = np.poly1d(f1)\nprint(p1)\nplot_poly(p1, X_poly, Y, \"AD\")\n\n```\n\n</details>\n"
      ]
    },
    {
      "cell_type": "markdown",
      "id": "6eed795a-f886-4bfb-8da6-8054848ddd8d",
      "metadata": {},
      "outputs": [],
      "source": [
        "The analytical expression for Multivariate Polynomial function gets complicated. For example, the expression for a second-order (`degree=2`) polynomial with two variables is given by:\n"
      ]
    },
    {
      "cell_type": "markdown",
      "id": "5a992a11-d419-41de-90f9-92081d043327",
      "metadata": {},
      "outputs": [],
      "source": [
        "<h3>\n$$\n\\widehat{Y} = a + b_1 X_1 + b_2 X_2 +b_3 X_1 X_2 + b_4 X_1^2 + b_5 X_2^2\n$$\n</h3>"
      ]
    },
    {
      "cell_type": "markdown",
      "id": "b24e0817-8f49-4116-a095-4c3083584e7c",
      "metadata": {},
      "outputs": [],
      "source": [
        "We can perform a polynomial transform on multiple features. We create a <code>PolynomialFeatures</code> object of degree 2:\n"
      ]
    },
    {
      "cell_type": "code",
      "id": "22decda5-7559-47bd-a8b1-b728ba8f089a",
      "metadata": {},
      "outputs": [],
      "source": [
        "pr = PolynomialFeatures(degree=2)\npr"
      ]
    },
    {
      "cell_type": "code",
      "id": "4663b575-901e-4f2b-9fdc-3e34949478f8",
      "metadata": {},
      "outputs": [],
      "source": [
        "Z_pr = pr.fit_transform(Z)"
      ]
    },
    {
      "cell_type": "markdown",
      "id": "8b2e2c86-6507-4702-a890-8368581913c5",
      "metadata": {},
      "outputs": [],
      "source": [
        "In the original data, there are 66846 samples and 4 features.\n"
      ]
    },
    {
      "cell_type": "code",
      "id": "d3b503da-74ea-4a8d-9d27-213618b6d386",
      "metadata": {},
      "outputs": [],
      "source": [
        "Z.shape"
      ]
    },
    {
      "cell_type": "markdown",
      "id": "cf8dc3c1-bfc9-47e1-93ef-801a1fe7f0ff",
      "metadata": {},
      "outputs": [],
      "source": [
        "After the transformation, there are 66154 samples and 15 features.\n"
      ]
    },
    {
      "cell_type": "code",
      "id": "2e53e0e6-f14f-4fdc-9641-107bc7f05c18",
      "metadata": {},
      "outputs": [],
      "source": [
        "Z_pr.shape"
      ]
    },
    {
      "cell_type": "markdown",
      "id": "92cddb17-ca0f-4c73-8759-f925cca14fe0",
      "metadata": {},
      "outputs": [],
      "source": [
        "## **Pipeline**"
      ]
    },
    {
      "cell_type": "markdown",
      "id": "10baee97-66dd-43be-86bc-49464a3a0356",
      "metadata": {},
      "outputs": [],
      "source": [
        "Data Pipelines simplify the steps of processing the data. We use the module `Pipeline` to create a pipeline. We also use `StandardScaler` as a step in our pipeline."
      ]
    },
    {
      "cell_type": "markdown",
      "id": "31ba9aab-f8c1-4100-a98f-ff40c6f3632a",
      "metadata": {},
      "outputs": [],
      "source": [
        "We create the pipeline by creating a list of tuples including the name of the model or estimator and its corresponding constructor.\n"
      ]
    },
    {
      "cell_type": "code",
      "id": "b69c5b18-ceeb-47e2-aeb0-fdd330da4411",
      "metadata": {},
      "outputs": [],
      "source": [
        "Input = [\n    (\"scale\", StandardScaler()), \n    (\"polynomial\", PolynomialFeatures(include_bias=False)), \n    (\"model\", LinearRegression())\n]"
      ]
    },
    {
      "cell_type": "markdown",
      "id": "5d65f62d-7e88-479d-a31f-1b59015a0010",
      "metadata": {},
      "outputs": [],
      "source": [
        "We input the list as an argument to the pipeline constructor:\n"
      ]
    },
    {
      "cell_type": "code",
      "id": "3856ce0e-1670-43bb-a3c7-fc429b598131",
      "metadata": {},
      "outputs": [],
      "source": [
        "pipe = Pipeline(Input)\npipe"
      ]
    },
    {
      "cell_type": "markdown",
      "id": "026fd68c-db9c-4294-94e0-8a28506b9811",
      "metadata": {},
      "outputs": [],
      "source": [
        "First, we convert the data type `Z` to type float to avoid conversion warnings that may appear as a result of `StandardScaler` taking float inputs.\n\nThen, we can normalize the data, perform a transform and fit the model simultaneously.\n"
      ]
    },
    {
      "cell_type": "code",
      "id": "ac04a1f9-6c2e-45a1-beea-1c5cc63fb5c0",
      "metadata": {},
      "outputs": [],
      "source": [
        "Z = Z.astype(float)\npipe.fit(Z, Y)"
      ]
    },
    {
      "cell_type": "markdown",
      "id": "1fd8b619-7944-4493-830b-d8b79f4278db",
      "metadata": {},
      "outputs": [],
      "source": [
        "Similarly,  we can normalize the data, perform a transform and produce a prediction  simultaneously.\n"
      ]
    },
    {
      "cell_type": "code",
      "id": "d3d30aa2-01b3-4cea-89b8-c2b95f1dc159",
      "metadata": {},
      "outputs": [],
      "source": [
        "y_pipe = pipe.predict(Z)\ny_pipe[0:4]"
      ]
    },
    {
      "cell_type": "markdown",
      "id": "4b3f6e41-4c6d-4135-a38d-3c792c066b44",
      "metadata": {},
      "outputs": [],
      "source": [
        "<div class=\"alert alert-danger alertdanger\" style=\"margin-top: 20px\">\n\n# **Question #5:**\n    \n**Create a pipeline that standardizes the data, then produce a prediction using a linear regression model using the features `Z` and target `Y`.**\n    \n</div>\n"
      ]
    },
    {
      "cell_type": "code",
      "id": "495afd49-958a-4e8d-9a15-aef30b2f6046",
      "metadata": {},
      "outputs": [],
      "source": [
        "# Write your code below and press Shift+Enter to execute \n"
      ]
    },
    {
      "cell_type": "markdown",
      "id": "896e3208-e8aa-4ba0-ba9f-b9cd55f11611",
      "metadata": {},
      "outputs": [],
      "source": [
        "<details><summary>Click here for the solution</summary>\n\n```python\nInput = [\n    (\"scale\", StandardScaler()),\n    (\"model\", LinearRegression())\n]\n\npipe = Pipeline(Input)\n\npipe.fit(Z, Y)\n\ny_pipe = pipe.predict(Z)\ny_pipe[0:10]\n```\n\n</details>\n"
      ]
    },
    {
      "cell_type": "markdown",
      "id": "0c0dfd76-7e7c-4a6d-9567-98033f05616d",
      "metadata": {},
      "outputs": [],
      "source": [
        "# **5. Measures for In-Sample Evaluation**\n"
      ]
    },
    {
      "cell_type": "markdown",
      "id": "05500387-6d9c-4607-9a01-5b37e4a73d63",
      "metadata": {},
      "outputs": [],
      "source": [
        "When evaluating our models, not only do we want to visualize the results, but we also want a quantitative measure to determine how accurate the model is.\n\nFive very important measures that are often used in Statistics to determine the accuracy of a model are:\n\n* **$R^2$ / R-squared**\n* **Mean Squared Error (MSE)**\n* **F-test score**\n* **P-value**"
      ]
    },
    {
      "cell_type": "markdown",
      "id": "5a3ef466-18d6-4ac8-b4b5-80baacb9a9e0",
      "metadata": {},
      "outputs": [],
      "source": [
        "## **R-squared**\n\n**R-squared**, also known as the **coefficient of determination**, is a measure to indicate how close the data is to the fitted regression line.\n\nThe value of the R-squared is the percentage of variation of the response variable ($y$) that is explained by a linear model.\n\nR-squared values range from 0 to 1 and are commonly stated as percentages from 0% to 100%. An R-squared of 100% means that all movements of a security (or another dependent variable) are completely explained by movements in the index (or the independent variable(s) you are interested in).\n\nIn finance, an R-Squared above 0.7 would generally be seen as showing a high level of correlation, whereas a measure below 0.4 would show a low correlation.\n\n## **Mean Squared Error (MSE)**\n\nThe **Mean Squared Error** measures the average of the squares of errors. That is, the difference between actual value ($y$) and the estimated value ($\\widehat{y}$).\n\n## **F-test score**\n\n**F-test score** or **Fisher criterion** is a discriminant criterion function that was first presented by Fisher in 1936. It is defined by the ratio of the between-class scatter to the within-class scatter. By maximizing this criterion, one can obtain an optimal discriminant projection axis. After the sample being projected on to this projection axis, the within-class scatter is minimized and the between-class scatter is maximized.\n\n## **P-value**\n\nThe **P-value** is the probability value that the correlation between these two variables is statistically significant. Normally, we choose a significance level of 0.05, which means that we are 95% confident that the correlation between the variables is significant.\n\nBy convention, when the\n\n* p-value is $<$ 0.001: we say there is strong evidence that the correlation is significant.\n* the p-value is $<$ 0.05: there is moderate evidence that the correlation is significant.\n* the p-value is $<$ 0.1: there is weak evidence that the correlation is significant.\n* the p-value is $>$ 0.1: there is no evidence that the correlation is significant."
      ]
    },
    {
      "cell_type": "markdown",
      "id": "5174db6d-1926-46e1-ab20-1ba56f0420dc",
      "metadata": {},
      "outputs": [],
      "source": [
        "Let's define function that will calculate all needed metrics"
      ]
    },
    {
      "cell_type": "code",
      "id": "8c0720bb-dd50-4b26-abfe-eba7af90c9eb",
      "metadata": {},
      "outputs": [],
      "source": [
        "def calculate_metrics(y_pred: Union[pd.Series, np.array], y: Union[pd.Series, np.array]) -> tuple:\n    \"\"\"\n    Calculates R-squared, MSE, F-test score, P-value\n    \n    Parameters\n    ----------\n    y_pred: pd.Series\n        output of model\n    y: pd.Series\n        true values of y\n    \n    Returns\n    -------\n    r2: float\n        R^2 / R-squared\n    mse: float\n        MSE\n    f_val: float\n        F-test score\n    p_val: float\n        P-value\n    \"\"\"\n    r2 = r2_score(y, y_pred)\n    mse = mean_squared_error(y, y_pred)\n    f_val, p_val = stats.f_oneway(y, y_pred)\n    \n    return r2, mse, f_val, p_val"
      ]
    },
    {
      "cell_type": "code",
      "id": "d1d35a39-2bbe-4497-b832-3b682e31ebd2",
      "metadata": {},
      "outputs": [],
      "source": [
        "temp_df = pd.DataFrame({\n    \"y_true\": Y,\n    \"y_pred\": Y_hat,\n    \"ts\": df[\"Ts\"]\n})\ntemp_df.plot(x=\"ts\", y=[\"y_true\", \"y_pred\"], title=\"Comprasion of true values and predicted by SLR\")\nplt.ylabel(\"BUSD\")\nplt.xlabel(\"Time\")"
      ]
    },
    {
      "cell_type": "markdown",
      "id": "17ce2727-de6d-4361-9184-c0effb9e0bb0",
      "metadata": {},
      "outputs": [],
      "source": [
        "## **Model 1: Simple Linear Regression**"
      ]
    },
    {
      "cell_type": "code",
      "id": "432994c4-cdc5-4844-84ed-11bc5a95dfb8",
      "metadata": {},
      "outputs": [],
      "source": [
        "calculate_metrics(Y_hat, Y)"
      ]
    },
    {
      "cell_type": "markdown",
      "id": "9ef67770-16b5-46d6-bad1-64e6f38dcfb2",
      "metadata": {},
      "outputs": [],
      "source": [
        "**Conclusion:**\n\n* **$R^2$ / R-squared:** We can say that ≈ 11.18% of the variation of **\"Avg_price\"** is explained by this simple linear model.\n* **MSE:** We got 0.0026927796894885793\n* **F-test score:** 4.99 * $10^{-26}$ what means that the differences between the groups being compared are not statistically significant.\n* **P-value:** 1.0 what means there is no evidence that the correlation is significant"
      ]
    },
    {
      "cell_type": "markdown",
      "id": "b5367c47-f50f-4e5f-9029-15d37b92fa00",
      "metadata": {},
      "outputs": [],
      "source": [
        "## **Model 2: Multiple Linear Regression**"
      ]
    },
    {
      "cell_type": "code",
      "id": "f52bf8bd-19e9-478e-9cf9-0c3b5414d617",
      "metadata": {},
      "outputs": [],
      "source": [
        "calculate_metrics(Y_mlr, Y)"
      ]
    },
    {
      "cell_type": "markdown",
      "id": "9c4406c9-5f98-4474-aa6c-0f2c34d3dd25",
      "metadata": {},
      "outputs": [],
      "source": [
        "**Conclusion:**\n\n* **$R^2$ / R-squared:** We can say that ≈ 78.91% of the variation of **\"Avg_price\"** is explained by this multiple linear model.\n* **MSE:** We got 0.0006392628534897521\n* **F-test score:** 3.7 * $10^{-27}$ what means that the differences between the groups being compared are not statistically significant\n* **P-value:** 1.0 what means there is no evidence that the correlation is significant"
      ]
    },
    {
      "cell_type": "markdown",
      "id": "36a9e53a-826a-4a6d-80b8-98632be6b928",
      "metadata": {},
      "outputs": [],
      "source": [
        "## **Model 3: Polynomial Fit**"
      ]
    },
    {
      "cell_type": "code",
      "id": "a0c8b2a7-171a-4cfb-a20d-15590cda0edf",
      "metadata": {},
      "outputs": [],
      "source": [
        "calculate_metrics(Y_poly, Y)"
      ]
    },
    {
      "cell_type": "markdown",
      "id": "106c7a4d-b0ab-44ba-b5c1-3bbbe9629c45",
      "metadata": {},
      "outputs": [],
      "source": [
        "**Conclusion:**\n\n* **$R^2$ / R-squared**: We can say that ≈ 29.29% of the variation of **\"Avg_price\"** is explained by this polynomial model.\n* **MSE:** We got 0.0021438907476508517\n* **F-test score:** 8.02 * $10^{-23}$ what means that the differences between the groups being compared are not statistically significant\n* **P-value:** 1.0 what means there is no evidence that the correlation is significant"
      ]
    },
    {
      "cell_type": "markdown",
      "id": "130698ed-bffd-4232-8bbf-4b4c4cc999b3",
      "metadata": {},
      "outputs": [],
      "source": [
        "# **6. Prediction and Decision Making**\n\n## **Prediction**\n\nIn the previous section, we trained the model using the method `fit`. Now we will use the method `predict` to produce a prediction."
      ]
    },
    {
      "cell_type": "code",
      "id": "d9b7129c-86da-40c8-a201-39618b6332b4",
      "metadata": {},
      "outputs": [],
      "source": [
        "# Generating simple input\nnew_input = np.linspace(min(df[\"ATR\"]), max(df[\"ATR\"]), len(df)).reshape(-1, 1)\nnew_input"
      ]
    },
    {
      "cell_type": "markdown",
      "id": "dff9d109-4c49-4301-a058-c7e8d60e5af7",
      "metadata": {},
      "outputs": [],
      "source": [
        "Fit the model:"
      ]
    },
    {
      "cell_type": "code",
      "id": "75b7fa85-1d68-4fef-823f-d92a96a40825",
      "metadata": {},
      "outputs": [],
      "source": [
        "lm.fit(X_lr, Y)\nlm"
      ]
    },
    {
      "cell_type": "markdown",
      "id": "07d0250c-cf3f-43ad-9e13-cc99e0f2ec9f",
      "metadata": {},
      "outputs": [],
      "source": [
        "Produce a prediction:\n"
      ]
    },
    {
      "cell_type": "code",
      "id": "dd712134-533b-46e2-957f-cda4946a6255",
      "metadata": {},
      "outputs": [],
      "source": [
        "yhat = lm.predict(new_input)\nyhat[0:5]"
      ]
    },
    {
      "cell_type": "markdown",
      "id": "1657f1d0-ae8c-4353-8dbf-4ad31c273244",
      "metadata": {},
      "outputs": [],
      "source": [
        "Obviously we have got a straight line. \n"
      ]
    },
    {
      "cell_type": "code",
      "id": "d108a80a-63df-4c31-8648-9ba191b7eb6f",
      "metadata": {},
      "outputs": [],
      "source": [
        "plt.plot(new_input, yhat)\nplt.title(\"Prediction based on ATR\")\nplt.xlabel(\"ATR\")\nplt.ylabel(\"Avg_price\")\nplt.show()"
      ]
    },
    {
      "cell_type": "markdown",
      "id": "85eab73b-5de6-4aaf-b456-1a6b4159d2fe",
      "metadata": {},
      "outputs": [],
      "source": [
        "## **Decision Making: Determining a Good Model Fit**"
      ]
    },
    {
      "cell_type": "markdown",
      "id": "06fb2427-ea50-4e66-a72d-d54f526285a0",
      "metadata": {},
      "outputs": [],
      "source": [
        "Now that we have visualized the different models, and generated the R-squared and MSE values for the fits, how do we determine a good model fit?\n\n* *What is a good R-squared value?*\n\nWhen comparing models, **the model with the higher R-squared value is a better fit** for the data.\n\n* *What is a good MSE?*\n\nWhen comparing models, **the model with the smallest MSE value is a better fit** for the data.\n\n* *What is a good F-test score?*\n\nWhen comparing models, **the model with the smallest F-test value is a better fit** for the data.\n\n* *What is a good P-value?*\n\nWhen comparing models, **the model with the higher P-value is a better fit** for the data.\n\nLet's take a look at the values for the different models.\n\nWe prefer R-squared, MSE when comparing models. Simple Linear Regression: Using **\"ATR\"** as an independent variable of **\"Avg_price\"**.\n\n* **R-squared:** 0.1118\n* **MSE:** 0.002692\n* **F-test score:** 4.99 * $10^{-26}$</sup>\n* **P-value:** 1.0\n\nMultiple Linear Regression: Using **\"ATR\"**, **\"OBV\"**, **\"RSI\"** and **\"AD\"** as predictor variables of **\"Avg_price\"**.\n\n* **R-squared:** 0.7891\n* **MSE:** 0.000639\n* **F-test score:** 3.7 * $10^{-27}$\n* **P-value:** 1.0\n\nPolynomial Fit: **\"ATR\"**, **\"OBV\"**, **\"RSI\"** and **\"AD\"** as predictor variables of **\"Avg_price\"**.\n\n* **R-squared:** 0.2929\n* **MSE:** 0.002143\n* **F-test score:**  8.02 * $10^{-23}$\n* **P-value:** 1.0"
      ]
    },
    {
      "cell_type": "markdown",
      "id": "e9adf6a4-ab54-466c-878d-3b0fb96663ad",
      "metadata": {},
      "outputs": [],
      "source": [
        "## **Simple Linear Regression Model (SLR) vs Multiple Linear Regression Model (MLR)**"
      ]
    },
    {
      "cell_type": "markdown",
      "id": "8f42538b-e448-4e64-8c02-dc04426698b7",
      "metadata": {},
      "outputs": [],
      "source": [
        "Usually, the more variables you have, the better your model is at predicting, but this is not always true. Sometimes you may not have enough data, you may run into numerical problems, or many of the variables may not be useful and even act as noise. As a result, you should always check the MSE and $R^2$ / R-squared.\n\nIn order to compare the results of the MLR vs SLR models, we look at a combination of both the R-squared and MSE to make the best conclusion about the fit of the model.\n\n* **MSE:** The MSE of SLR is 0.002692 while MLR has an MSE of 0.000639. The MSE of MLR is much smaller.\n* **R-squared:** In this case, we can also see that there is a difference between the R-squared of the SLR and the R-squared of the MLR. The R-squared for the SLR (≈ 0.1118) is much smaller compared to the R-squared for the MLR (≈ 0.7891).\n\nThis R-squared in combination with the MSE show that MLR seems like the better model fit in this case compared to SLR."
      ]
    },
    {
      "cell_type": "markdown",
      "id": "ffe931ab-0a8e-4940-8511-e1ab96677b62",
      "metadata": {},
      "outputs": [],
      "source": [
        "## **Simple Linear Model (SLR) vs. Polynomial Fit**"
      ]
    },
    {
      "cell_type": "markdown",
      "id": "081def87-81a4-4db9-b4a7-b24a164357d9",
      "metadata": {},
      "outputs": [],
      "source": [
        "* **MSE:** We can see that Polynomial Fit brought down the MSE, since this MSE is smaller than the one from the SLR.\n* **R-squared:** The R-squared for the Polynomial Fit is larger than the R-squared for the SLR, so the Polynomial Fit also brought up the R-squared quite a bit.\n\nSince the Polynomial Fit resulted in a lower MSE and a higher R-squared, we can conclude that this was a better fit model than the simple linear regression for predicting **\"Avg_price\"** with **\"ATR\"** as a predictor variable.\n"
      ]
    },
    {
      "cell_type": "markdown",
      "id": "b1047edb-9afe-47fd-adf6-5d4a52906e3c",
      "metadata": {},
      "outputs": [],
      "source": [
        "## **Multiple Linear Regression (MLR) vs. Polynomial Fit**"
      ]
    },
    {
      "cell_type": "markdown",
      "id": "fd97319c-7643-42f9-88d8-7f2f175ca02b",
      "metadata": {},
      "outputs": [],
      "source": [
        "* **MSE:** The MSE for the MLR is smaller than the MSE for the Polynomial Fit.\n* **R-squared:** The R-squared for the MLR is larger than for the Polynomial Fit."
      ]
    },
    {
      "cell_type": "markdown",
      "id": "206e98cc-6ac8-42fb-8d4f-a08218ff4a55",
      "metadata": {},
      "outputs": [],
      "source": [
        "# **Conclusion:**"
      ]
    },
    {
      "cell_type": "markdown",
      "id": "daec7eec-55ae-4ffc-ba57-c807b2967cd3",
      "metadata": {},
      "outputs": [],
      "source": [
        "Comparing these three models, we conclude that **the MLR model is the best model** to be able to predict **\"Avg_price\"** from our dataset. This result makes sense since we have 4 technical indicators in total and we know that more than one of those indicators are potential predictors of **\"Avg_price\"**."
      ]
    },
    {
      "cell_type": "markdown",
      "id": "2cb6c55a-79ac-4058-bef4-5617798bbe4e",
      "metadata": {},
      "outputs": [],
      "source": [
        "# **7. Sources:**\n\n<ul>\n    <li><a href=\"https://www.spiceworks.com/tech/artificial-intelligence/articles/what-is-linear-regression\" target=\"_blank\">https://www.spiceworks.com/tech/artificial-intelligence/articles/what-is-linear-regression</a></li>\n    <li><a href=\"https://www.spiceworks.com/tech/artificial-intelligence/articles/what-is-linear-regression\" target=\"_blank\">https://www.spiceworks.com/tech/artificial-intelligence/articles/what-is-linear-regression</a></li>\n    <li><a href=\"https://www.investopedia.com/terms/m/mlr.asp\" target=\"_blank\">https://www.investopedia.com/terms/m/mlr.asp</a></li>\n</ul>"
      ]
    },
    {
      "cell_type": "markdown",
      "id": "34bc93a4-b86a-4ab6-8b61-513e057ece6f",
      "metadata": {},
      "outputs": [],
      "source": [
        "# **Thank you for completing this lab!**\n\n## Author\n\n<a href=\"https://author.skills.network/instructors/borys_melnychuk\" target=\"_blank\" >Borys Melnychuk</a>\n\n<a href=\"https://author.skills.network/instructors/yaroslav_vyklyuk_2?utm_medium=Exinfluencer&utm_source=Exinfluencer&utm_content=000026UJ&utm_term=10006555&utm_id=NA-SkillsNetwork-Channel-SkillsNetworkGuidedProjectsIBMSkillsNetworkGPXX0QGDEN2306-2023-01-01\">Prof. Yaroslav Vyklyuk, DrSc, PhD</a>\n\n<a href=\"https://author.skills.network/instructors/mariya_fleychuk?utm_medium=Exinfluencer&utm_source=Exinfluencer&utm_content=000026UJ&utm_term=10006555&utm_id=NA-SkillsNetwork-Channel-SkillsNetworkGuidedProjectsIBMSkillsNetworkGPXX0QGDEN2306-2023-01-01\">Prof. Mariya Fleychuk, DrSc, PhD</a>\n\n\n\n## Change Log\n\n| Date (YYYY-MM-DD) | Version | Changed By      | Change Description                                         |\n| ----------------- | ------- | ----------------| ---------------------------------------------------------- |\n|     2023-03-18    |   1.0   | Borys Melnychuk | Creation of the lab                                        |\n\n<hr>\n\n## <h3 align=\"center\"> © IBM Corporation 2023. All rights reserved. </h3>\n"
      ]
    }
  ],
  "metadata": {
    "language_info": {
      "name": ""
    },
    "kernelspec": {
      "name": "",
      "display_name": ""
    }
  },
  "nbformat": 4,
  "nbformat_minor": 4
}
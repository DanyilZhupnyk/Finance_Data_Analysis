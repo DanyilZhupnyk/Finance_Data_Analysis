{
  "cells": [
    {
      "cell_type": "markdown",
      "id": "088a29b6-7cf3-48ef-a3e1-a3984fcb227e",
      "metadata": {},
      "outputs": [],
      "source": [
        "\n<center>\n    <img src=\"https://cf-courses-data.s3.us.cloud-object-storage.appdomain.cloud/assets/logos/SN_web_lightmode.png\" width=\"500\" alt=\"cognitiveclass.ai logo\"  />\n</center>\n\n# **Improving the cryptocurrency pair database for effective analysis (on the example MATIC/BUSD and technical financial indicators ATR, OBV, ADV, RSI, AD)**\n\n## **Lab 2. Dataset wrangling**\n\nEstimated time needed: **30** minutes\n\n## **The tasks**\n\n* To find empty cells and handle missing values;\n* Analyze data format, find the wrong format and correct data format;\n* Standardize and normalize data series.\n\n## **Objectives**\n\nAfter completing this lab you will be able to:\n\n*   Handle missing values;\n*   Correct data format;\n*   Standardize and normalize data.\n"
      ]
    },
    {
      "cell_type": "markdown",
      "id": "f010a407-3eec-42ba-b2c8-617f992bc5f8",
      "metadata": {},
      "outputs": [],
      "source": [
        "## **Table of Contents**\n\n<div class=\"alert alert-block alert-info\" style=\"margin-top: 20px\">\n<ol>\n    <li>Import data</li>\n    <ul>\n        <li>Reading the dataset from the URL</li>\n    </ul>\n    <li>Handle incorrect values</li>\n    <ul>\n        <li>Evaluating for Missing Data</li>\n        <li>Count missing values in each column</li>\n        <li>Deal with missing data</li>\n        <li>Replacing with Pandas interpolation</li>\n        <li>Correct data format</li>\n        <li>Convert data types to proper format</li>\n    </ul>\n    <li>Data standardization</li>\n    <li>Data normalization (centering/scaling)</li>\n    <li>Binning and indicator variable</li>\n    <ul>\n        <li>Example of Binning Data In Pandas</li>\n        <li>Bins Visualization</li>\n        <li>Indicator Variable (or Dummy Variable)</li>\n    </ul>\n    <li>Resampling</li>\n</ol>\n</div>\n\n<hr>\n"
      ]
    },
    {
      "cell_type": "markdown",
      "id": "5a4cd52b-15cb-40c3-bd66-14f31eccd26d",
      "metadata": {},
      "outputs": [],
      "source": [
        "## **Dataset Description**\n\n### **Files**\n* #### **MATICBUSD_trades_1m_preprocessed.csv** - the file contains historical changes of the pair **MATIC/BUSD** and ATR, OBV, RSI, AD indicators for the period from 11/11/2022 to 12/29/2022 with an aggregation time of 1 minute\n\n### **Columns**\n\n* #### `Ts` - the timestamp of the record\n* #### `Open` -  the price of the asset at the beginning of the trading period\n* #### `High` -  the highest price of the asset during the trading period\n* #### `Low` - the lowest price of the asset during the trading period.\n* #### `Close` - the price of the asset at the end of the trading period\n* #### `Volume` - the total number of shares or contracts of a particular asset that are traded during a given period\n* #### `Rec_count` -  the number of individual trades or transactions that have been executed during a given time period\n* #### `Avg_price` - the average price at which a particular asset has been bought or sold during a given period\n* #### `ATR` - average true range indicator\n* #### `OBV` - on-balance volume indicator\n* #### `RSI` - relative strength index indicator\n* #### `AD` - accumulation / distribution indicator"
      ]
    },
    {
      "cell_type": "markdown",
      "id": "3d5f6ca5-a5d6-4c7a-8879-dc1dad7f9f97",
      "metadata": {},
      "outputs": [],
      "source": [
        "# **What is the purpose of data wrangling?**\n"
      ]
    },
    {
      "cell_type": "markdown",
      "id": "829c0d86-f0d3-427d-a0f2-290ac41397a0",
      "metadata": {},
      "outputs": [],
      "source": [
        "Data wrangling is the process of converting data from the initial format to a format that may be better for analysis.\n"
      ]
    },
    {
      "cell_type": "markdown",
      "id": "e9f273cb-34af-48a1-8345-983583b63aad",
      "metadata": {},
      "outputs": [],
      "source": [
        "# **1. Import data**\n\nYou can find the \"MATIC/BUSD Dataset\" from the following link: <a href=\"https://cf-courses-data.s3.us.cloud-object-storage.appdomain.cloud/IBMSkillsNetwork-GPXX0IXGEN/MATICBUSD_trades_1m_preprocessed.csv\">https://cf-courses-data.s3.us.cloud-object-storage.appdomain.cloud/IBMSkillsNetwork-GPXX0IXGEN/MATICBUSD_trades_1m_preprocessed.csv</a>. \nWe will be using this dataset throughout this course.\n"
      ]
    },
    {
      "cell_type": "markdown",
      "id": "03ab988c-f52f-4baf-91f1-193c7e3bfef3",
      "metadata": {},
      "outputs": [],
      "source": [
        "Run the following cell to install required libraries:"
      ]
    },
    {
      "cell_type": "code",
      "id": "7ae44a22-1249-492a-a035-01c7b97c6e9b",
      "metadata": {},
      "outputs": [],
      "source": [
        "# If you run the lab locally using Anaconda, you can load the correct library and versions by uncommenting the following:\n# install specific version of libraries used in lab\n# ! conda update -n base -c defaults conda -y\n# ! conda install pandas -y\n# ! conda install numpy -y\n# ! conda install -c anaconda requests -y\n! conda install scikit-learn -y\n# ! conda install -c conda-forge matplotlib -y"
      ]
    },
    {
      "cell_type": "code",
      "id": "b8f6b139-1956-42f2-baab-86a232dc041d",
      "metadata": {},
      "outputs": [],
      "source": [
        "import pandas as pd\nimport numpy as np\nfrom sklearn.metrics import mean_squared_error, mean_absolute_percentage_error\nfrom sklearn.preprocessing import MinMaxScaler\nimport matplotlib.pyplot as plt\nimport requests"
      ]
    },
    {
      "cell_type": "markdown",
      "id": "c2710f7d-7459-48a4-b1e1-4952d19998bb",
      "metadata": {},
      "outputs": [],
      "source": [
        "## **Reading the dataset from the URL**\n"
      ]
    },
    {
      "cell_type": "markdown",
      "id": "1f352ce6-7262-4e34-b10d-764e465849cf",
      "metadata": {},
      "outputs": [],
      "source": [
        "First, we assign the URL of the dataset to `filename`"
      ]
    },
    {
      "cell_type": "markdown",
      "id": "0d4d8526-2aa1-43fb-8ddf-effb0a5e0dcf",
      "metadata": {},
      "outputs": [],
      "source": [
        "This dataset was hosted <a href=\"https://cf-courses-data.s3.us.cloud-object-storage.appdomain.cloud/IBMSkillsNetwork-GPXX0IXGEN/MATICBUSD_trades_1m_preprocessed.csv\">HERE</a>\n"
      ]
    },
    {
      "cell_type": "code",
      "id": "babc34df-122d-4d1e-93e3-bf971493bd54",
      "metadata": {},
      "outputs": [],
      "source": [
        "filename = \"https://cf-courses-data.s3.us.cloud-object-storage.appdomain.cloud/IBMSkillsNetwork-GPXX0IXGEN/MATICBUSD_trades_1m_preprocessed.csv\""
      ]
    },
    {
      "cell_type": "markdown",
      "id": "0b7375cc-283f-46ea-a323-bd23f5fa3d6d",
      "metadata": {},
      "outputs": [],
      "source": [
        "Use the Pandas method `read_csv()` to load the data from the web address. \n"
      ]
    },
    {
      "cell_type": "code",
      "id": "32fae5a9-7a77-4b56-8e38-6cfd49bd804e",
      "metadata": {},
      "outputs": [],
      "source": [
        "df = pd.read_csv(filename)"
      ]
    },
    {
      "cell_type": "markdown",
      "id": "9af41abf-a373-40b9-8012-7e391fd37b6b",
      "metadata": {},
      "outputs": [],
      "source": [
        "Use the method `head()` to display the first five rows of the dataframe.\n"
      ]
    },
    {
      "cell_type": "code",
      "id": "cca8506d-749e-4a1b-a96d-224e3ee73474",
      "metadata": {},
      "outputs": [],
      "source": [
        "# To see what the data set looks like, we'll use the head() method.\ndf.head()"
      ]
    },
    {
      "cell_type": "markdown",
      "id": "dec59b67-38ec-4a99-a3b5-f73697150347",
      "metadata": {},
      "outputs": [],
      "source": [
        "As we can see, several `NaN` appeared in the dataframe; those are incorrect data which may hinders our further analysis.\n"
      ]
    },
    {
      "cell_type": "markdown",
      "id": "e46d7515-bd4d-4743-85b0-d66d65b58582",
      "metadata": {},
      "outputs": [],
      "source": [
        "# **2. Handle incorrect values**"
      ]
    },
    {
      "cell_type": "markdown",
      "id": "c36c056a-962b-42bd-a940-bc6b6b63932a",
      "metadata": {},
      "outputs": [],
      "source": [
        "## **Evaluating for Missing Data**\n\nThe missing values are converted by default. We use the following functions to identify these missing values. There are two methods to detect missing data:\n\n* #### `isnull()`\n* #### `notnull()`\n\nThe output is a boolean value indicating whether the value that is passed into the argument is in fact missing data."
      ]
    },
    {
      "cell_type": "code",
      "id": "1526c32b-df30-431c-9bd3-10540897763d",
      "metadata": {},
      "outputs": [],
      "source": [
        "missing_data = df.isnull()\nmissing_data.head()"
      ]
    },
    {
      "cell_type": "markdown",
      "id": "a47ceeda-35c6-4cf8-9369-3c8be4203e0b",
      "metadata": {},
      "outputs": [],
      "source": [
        "`True` means the value is a missing value while `False` means the value is not a missing value.\n"
      ]
    },
    {
      "cell_type": "markdown",
      "id": "25004eaa-ccb9-4f4c-b3a6-ba87a59c16f4",
      "metadata": {},
      "outputs": [],
      "source": [
        "## **Count missing values in each column**\n\nUsing a for loop in Python, we can quickly figure out the number of missing values in each column. As mentioned above, `True` represents a missing value and `False` means the value is present in the dataset.  In the body of the for loop the method `.value_counts()` counts the number of `True` values. \n\n"
      ]
    },
    {
      "cell_type": "code",
      "id": "d0d24081-6e57-49fe-9688-780e53726415",
      "metadata": {},
      "outputs": [],
      "source": [
        "for column in missing_data.columns.values.tolist():\n    print(column)\n    print (missing_data[column].value_counts(), \"\\n\")"
      ]
    },
    {
      "cell_type": "markdown",
      "id": "b11f3ed2-8946-4687-8713-5e29b2024378",
      "metadata": {},
      "outputs": [],
      "source": [
        "Based on the summary above, each column has 66861 rows of data and two of the columns containing missing data:\n\n1. **\"ATR\"**: 15 missing data\n2. **\"RSI\"**: 15 missing data"
      ]
    },
    {
      "cell_type": "markdown",
      "id": "85d3d756-d8eb-44e7-a54b-d7b8422f60dc",
      "metadata": {},
      "outputs": [],
      "source": [
        "## **Deal with missing data**"
      ]
    },
    {
      "cell_type": "markdown",
      "id": "2e19bbd4-6777-4459-adcb-243ed9e184a3",
      "metadata": {},
      "outputs": [],
      "source": [
        "When replacing missing values, there are 2 approaches:\n\n1. If the missing values follow each other at the beginning or at the end of the dataset - drop them\n2. If in the middle of the dataset - use interpolation\n\n**What is interpolation?**\n\nInterpolation is a type of estimation, a method of constructing (finding) new data points based on the range of a discrete set of known data points"
      ]
    },
    {
      "cell_type": "markdown",
      "id": "e1f9f7f8-47fd-49bc-960b-5650a9681f3e",
      "metadata": {},
      "outputs": [],
      "source": [
        "Drop `NaN`: Since our case coincides with approach number 1, we drop `NaN`. And also we need to reset index"
      ]
    },
    {
      "cell_type": "code",
      "id": "444a9ce4-cd3a-4ef5-8bdc-a46949099381",
      "metadata": {},
      "outputs": [],
      "source": [
        "df = df.dropna()\ndf = df.reset_index(drop=True)"
      ]
    },
    {
      "cell_type": "markdown",
      "id": "829956f7-c7d7-4e97-b45d-853763bf17a1",
      "metadata": {},
      "outputs": [],
      "source": [
        "Now we can generate `NaN` in the middle of the dataset to try how good out data will be interpolated"
      ]
    },
    {
      "cell_type": "markdown",
      "id": "95e1a546-be96-4c61-8f92-06c2ecc8e40c",
      "metadata": {},
      "outputs": [],
      "source": [
        "Let's define `spoil_df` function which produces incorrect data"
      ]
    },
    {
      "cell_type": "code",
      "id": "0c5ba131-8955-4a82-9ac4-25718a6d0a35",
      "metadata": {},
      "outputs": [],
      "source": [
        "def spoil_df(df: pd.DataFrame, cols: list = [\"ATR\", \"RSI\"]):\n    \"\"\"\n    Replaces the column element with nan with a constant probability of 0.1\n    \n    Parameters\n    ----------\n    df: pd.DataFrame\n        The data frame to apply function on\n    cols: list\n        Columns to be updated\n    Returns\n    -------\n    new_df: pd.DataFrame\n        The updated data frame with NaN's\n    \"\"\"\n    rng = np.random.default_rng(seed=42)\n    new_df = df.copy()\n    \n    for col in cols:\n        m = rng.random(len(df))\n        l1 = 0.1\n        mask1 = m < l1 # NaN\n        new_df.loc[mask1, col] = np.NaN\n        \n    return new_df"
      ]
    },
    {
      "cell_type": "code",
      "id": "23415811-816f-40e0-b457-5740ecc43d4f",
      "metadata": {},
      "outputs": [],
      "source": [
        "spoiled_df = spoil_df(df, cols=[\"ATR\", \"RSI\", \"OBV\"])"
      ]
    },
    {
      "cell_type": "markdown",
      "id": "b53bf8f0-a065-49fa-8cd1-2f938207fe34",
      "metadata": {},
      "outputs": [],
      "source": [
        "Let's see our `spoiled_df`"
      ]
    },
    {
      "cell_type": "code",
      "id": "690d1763-fcb9-4f52-ba07-15f940acf246",
      "metadata": {},
      "outputs": [],
      "source": [
        "spoiled_df.head()"
      ]
    },
    {
      "cell_type": "markdown",
      "id": "7df27bcd-b8e0-4555-8397-0ba338b79a82",
      "metadata": {},
      "outputs": [],
      "source": [
        "Now we can replace out data with interpolation"
      ]
    },
    {
      "cell_type": "markdown",
      "id": "5b2304ec-f762-4a65-9b80-539d7d0e8259",
      "metadata": {},
      "outputs": [],
      "source": [
        "**Replace by pandas interpolation:**\n\n* **\"ATR\"**: 6584 missing data, replace with interpolation\n* **\"OBV\"**: 6660 missing data, replace with interpolation\n* **\"RSI\"**: 6656 missing data, replace with interpolation"
      ]
    },
    {
      "cell_type": "markdown",
      "id": "d39ddf5c-4cce-42a3-93d7-ef65186c2d05",
      "metadata": {},
      "outputs": [],
      "source": [
        "## **Replacing with Pandas interpolation**\n"
      ]
    },
    {
      "cell_type": "markdown",
      "id": "ca404ed9-4307-4f05-8557-0e72e5797c75",
      "metadata": {},
      "outputs": [],
      "source": [
        "Let's try different models for interpolation on **\"ATR\"** column and take the best one. We use MSE (Mean squared error) and MAPE (Mean absolute percentage error) to measure performance"
      ]
    },
    {
      "cell_type": "code",
      "id": "f52c714f-206c-4027-8853-2c5976580590",
      "metadata": {},
      "outputs": [],
      "source": [
        "# Setting precision\npd.set_option(\"display.precision\", 10)\n\n# Methods without order\nmethods = [\"linear\", \"nearest\", \"slinear\", \"quadratic\", \"cubic\", \"piecewise_polynomial\", \"pchip\", \"akima\", \"cubicspline\"]\n# Methods with order\norder_methods = [\"spline\", \"polynomial\"]\nperformance = pd.DataFrame({\"name\": [], \"MSE\": [], \"MAPE\": []})\n\nfor method in methods:\n    nan_rows = spoiled_df[\"ATR\"].isna()\n    interpolated_ap = spoiled_df[\"ATR\"].interpolate(method=method)\n    # Calculating MSE and MAPE\n    mse = mean_squared_error(df.loc[nan_rows, \"ATR\"], interpolated_ap[nan_rows])\n    mape = mean_absolute_percentage_error(df.loc[nan_rows, \"ATR\"], interpolated_ap[nan_rows])\n    # Adding results to dataframe\n    performance.loc[len(performance.index)] = [method, mse, mape]\n    \nfor method in order_methods:\n    for order in [3, 5]:\n        nan_rows = spoiled_df[\"ATR\"].isna()\n        interpolated_ap = spoiled_df[\"ATR\"].interpolate(method=method, order=order)\n        # Calculating MSE and MAPE\n        mse = mean_squared_error(df.loc[nan_rows, \"ATR\"], interpolated_ap[nan_rows])\n        mape = mean_absolute_percentage_error(df.loc[nan_rows, \"ATR\"], interpolated_ap[nan_rows])\n        # Adding results to dataframe\n        performance.loc[len(performance.index)] = [f\"{method}_{order}\", mse, mape]\n        \nperformance = performance.sort_values(by=[\"MAPE\", \"MSE\"], ascending=True)\n# Forming MAPE as percentage (0-100%)\nperformance[\"MAPE\"] = performance[\"MAPE\"] * 100\nperformance[\"MAPE\"] = performance[\"MAPE\"].astype(\"str\")\nperformance[\"MAPE\"] = performance[\"MAPE\"].str.slice(stop=8) + \"%\"\n\nperformance.head(15)"
      ]
    },
    {
      "cell_type": "markdown",
      "id": "226837d6-d5f7-4cd7-b0ca-f8fbaace35f3",
      "metadata": {},
      "outputs": [],
      "source": [
        "How we can see the best model for interpolation is `pchip` so we'll use it to replace `NaN` values"
      ]
    },
    {
      "cell_type": "code",
      "id": "d76bb47e-003f-487d-b274-3f3c16a5a096",
      "metadata": {},
      "outputs": [],
      "source": [
        "cols_to_replace = [\"ATR\", \"RSI\"]\nfor col in cols_to_replace:\n    spoiled_df[col] = spoiled_df[col].interpolate(method=\"pchip\")"
      ]
    },
    {
      "cell_type": "markdown",
      "id": "4657324b-4c80-46e7-a24a-74aa0a962abb",
      "metadata": {},
      "outputs": [],
      "source": [
        "<div class=\"alert alert-danger alertdanger\" style=\"margin-top: 20px\">\n    \n# **Question  #1:**\n\n**Based on the example above, replace** `NaN` **in \"OBV\" column with interpolated values**\n\n</div>\n"
      ]
    },
    {
      "cell_type": "code",
      "id": "ccdf1109-b8fe-4f93-98b5-a09ff6a39acb",
      "metadata": {},
      "outputs": [],
      "source": [
        "# Write your code below and press Shift+Enter to execute \n"
      ]
    },
    {
      "cell_type": "markdown",
      "id": "b519d60e-5404-48f0-bb5d-6d5c01b549ea",
      "metadata": {},
      "outputs": [],
      "source": [
        "<details><summary>Click here for the solution</summary>\n\n```python\nspoiled_df[\"OBV\"] = spoiled_df[\"OBV\"].interpolate(method=\"pchip\")\n```\n\n</details>\n"
      ]
    },
    {
      "cell_type": "code",
      "id": "cfc0885b-eada-4d3b-8130-0e369d63475b",
      "metadata": {},
      "outputs": [],
      "source": [
        "spoiled_df.isna().sum()"
      ]
    },
    {
      "cell_type": "markdown",
      "id": "192de13c-bcbd-4ba7-b343-0ff917730988",
      "metadata": {},
      "outputs": [],
      "source": [
        "**Good!** Now, we have a dataset with no missing values."
      ]
    },
    {
      "cell_type": "markdown",
      "id": "cbc8d363-ebef-42c9-9dcb-c3e4d135f1a5",
      "metadata": {},
      "outputs": [],
      "source": [
        "## **Correct data format**\n\n**We are almost there!**\n\nThe last step in data cleaning is checking and making sure that all data is in the correct format (`int`, `float`, `text` or other).\n\nIn Pandas, we use:\n\n* #### `.dtype()` to check the data type\n* #### `.astype()` to change the data type\n"
      ]
    },
    {
      "cell_type": "markdown",
      "id": "a057893d-404b-4cd1-97d3-2671f8ecbe78",
      "metadata": {},
      "outputs": [],
      "source": [
        "Let's list the data types for each column"
      ]
    },
    {
      "cell_type": "code",
      "id": "b5fd3829-3314-40b6-9030-52e95fc2a8b5",
      "metadata": {},
      "outputs": [],
      "source": [
        "spoiled_df.dtypes"
      ]
    },
    {
      "cell_type": "markdown",
      "id": "dadc49d3-0b55-40b1-9270-c5ce6ec0c970",
      "metadata": {},
      "outputs": [],
      "source": [
        "As we can see above, some columns are not of the correct data type. Numerical variables should have type `float` or `int`, and variables with timestamps have type `datetime`. For example, **\"Open\"**, **\"High\"**, **\"Low\"**, **\"Close\"**, **\"Avg_price\"** variables are numerical values that describe the price, so we should expect them to be of the type `float`. **\"Rec_count\"** should have type `int` because it describes quantity. \"Ts\" column should have type `datetime`; however, that column is shown as type `object` We have to convert data types into a proper format for each column using the `.astype()` method.\n"
      ]
    },
    {
      "cell_type": "markdown",
      "id": "f3bd5e66-48c0-477d-81f7-999709587f28",
      "metadata": {},
      "outputs": [],
      "source": [
        "## **Convert data types to proper format**\n"
      ]
    },
    {
      "cell_type": "code",
      "id": "2b22c60d-d7db-4a87-bb69-87fec9547ccb",
      "metadata": {},
      "outputs": [],
      "source": [
        "spoiled_df[\"Ts\"] = spoiled_df[\"Ts\"].astype(\"datetime64[ns]\")"
      ]
    },
    {
      "cell_type": "markdown",
      "id": "be4be05a-3772-43ed-bcfd-d003d7b194ff",
      "metadata": {},
      "outputs": [],
      "source": [
        "Let us list the columns after the conversion\n"
      ]
    },
    {
      "cell_type": "code",
      "id": "ad2469d5-4092-4ce9-acd6-bf71795e405a",
      "metadata": {},
      "outputs": [],
      "source": [
        "spoiled_df.dtypes"
      ]
    },
    {
      "cell_type": "markdown",
      "id": "efc624ed-19e1-421c-825a-4bedba00a7bf",
      "metadata": {},
      "outputs": [],
      "source": [
        "**Wonderful!**\n\nNow we have finally obtained the cleaned dataset with no missing values with all data in its proper format."
      ]
    },
    {
      "cell_type": "markdown",
      "id": "d0291463-8a7b-463d-a2b0-a678e021faca",
      "metadata": {},
      "outputs": [],
      "source": [
        "# **3. Data Standardization**\n\nData is usually collected from different agencies in different formats.\n(Data standardization is also a term for a particular type of data normalization where we subtract the mean and divide by the standard deviation.)\n\n**What is standardization?**\n\nStandardization is the process of transforming data into a common format, allowing the researcher to make the meaningful comparison.\n\n**The example**\n\nTransform BUSD TO EUR:\n\nIn our dataset, **\"Open\"**, **\"High\"**, **\"Low\"**, **\"Close\"**, **\"Volume\"**, **\"Avg_price\"** are represented by BUSD (Binance USD) unit. But what if we want to represent by other currency?\nWe will need to apply **data transformation** to transform BUSD into EUR.\n"
      ]
    },
    {
      "cell_type": "markdown",
      "id": "7b047a8b-9730-4bfe-8781-8a54d45b306c",
      "metadata": {},
      "outputs": [],
      "source": [
        "We can do many mathematical operations directly in Pandas.\n"
      ]
    },
    {
      "cell_type": "code",
      "id": "9c90b747-ce8f-48ac-9d92-9820483f2ff1",
      "metadata": {},
      "outputs": [],
      "source": [
        "spoiled_df.head()"
      ]
    },
    {
      "cell_type": "markdown",
      "id": "3b531892-183d-4a93-9ee4-4e744d4ba303",
      "metadata": {},
      "outputs": [],
      "source": [
        "We define function which will use Binance API to convert values"
      ]
    },
    {
      "cell_type": "code",
      "id": "b28a4987-91aa-469e-a609-6cf332508a5b",
      "metadata": {},
      "outputs": [],
      "source": [
        "def convert(series: pd.Series, from_curr: str, to_curr: str) -> pd.Series:\n    \"\"\"\n    Сonverts `from_curr` into `to_curr`\n    \n    Parameters\n    ----------\n    series: pd.Series\n        The column to be converted\n    from_curr: str\n        The name of the currency from which we will convert\n    to_curr: str\n        The name of the currency into which we will convert\n    \n    Returns\n    -------\n    series: pd.Series\n        The converted series\n    \"\"\"\n    from_curr, to_curr = from_curr.lower(), to_curr.lower()\n    res = requests.get(f\"https://api.coingecko.com/api/v3/simple/price?ids={from_curr}&vs_currencies={to_curr}\")\n    res = res.json()\n    rate = float(res[from_curr][to_curr])\n    \n    print(f\"The exchange rate is 1 {from_curr} = {rate} {to_curr}\")\n    series = series * rate\n    return series"
      ]
    },
    {
      "cell_type": "markdown",
      "id": "cd3ffeea-7a62-418e-bac9-7b0bb3be833d",
      "metadata": {},
      "outputs": [],
      "source": [
        "Let's convert BUSD TO EUR"
      ]
    },
    {
      "cell_type": "code",
      "id": "defa8784-e4de-403b-875d-b06bf8606f6e",
      "metadata": {},
      "outputs": [],
      "source": [
        "# Convert BUSD to EUR by mathematical operation\nspoiled_df[\"Avg_price_EUR\"] = convert(spoiled_df[\"Avg_price\"], \"BUSD\", \"EUR\")\n\n# check your transformed data \nspoiled_df[[\"Avg_price\", \"Avg_price_EUR\"]].head()"
      ]
    },
    {
      "cell_type": "markdown",
      "id": "dc3bb01e-cfa3-4ed9-ab92-a2a20e7bcf99",
      "metadata": {},
      "outputs": [],
      "source": [
        "<div class=\"alert alert-danger alertdanger\" style=\"margin-top: 20px\">\n    \n# **Question  #2:**\n\n**According to the example above, transform \"Open\" (price in BUSD) to EUR (using** `convert` **function) and name the column \"Open_EUR\"**\n\n</div>\n"
      ]
    },
    {
      "cell_type": "code",
      "id": "f89a526f-520b-4e25-9d8f-a9d5b2e7e37a",
      "metadata": {},
      "outputs": [],
      "source": [
        "# Write your code below and press Shift+Enter to execute \n"
      ]
    },
    {
      "cell_type": "markdown",
      "id": "cd07a645-6128-449d-a328-295a1589201d",
      "metadata": {},
      "outputs": [],
      "source": [
        "<details><summary>Click here for the solution</summary>\n\n```python\n# transform BUSD to EUR by mathematical operation\nspoiled_df[\"Open_EUR\"] = convert(spoiled_df[\"Open\"], \"BUSD\", \"EUR\")\n\n# check your transformed data \nspoiled_df[[\"Open\", \"Open_EUR\"]].head()\n\n</details>\n"
      ]
    },
    {
      "cell_type": "markdown",
      "id": "a0f06cd0-202d-466c-9995-864d63d85483",
      "metadata": {},
      "outputs": [],
      "source": [
        "# **4. Data Normalization**\n\n**Why normalization?**\n\nNormalization is the process of transforming values of several variables into a similar range. Typical normalizations include scaling the variable so the variable average is 0, scaling the variable so the variance is 1, or scaling the variable so the variable values range from 0 to 1.\n\n**The example**\n\nTo demonstrate normalization, let's say we want to scale the columns **\"Open\"**, **\"Close\"** and **\"Avg_price\"**.\n\n**Target:** would like to normalize those variables so their value ranges from 0 to 1\n\n**Approach:** replace original value by (original value)/(maximum value), `sklearn.preprocessing.MinMaxScaler`\n"
      ]
    },
    {
      "cell_type": "code",
      "id": "41403c13-2ef3-4f8f-a2c5-e28e4137c99f",
      "metadata": {},
      "outputs": [],
      "source": [
        "# replace (original value) by (original value)/(maximum value)\nspoiled_df[\"Open_norm\"] = spoiled_df[\"Open\"] / spoiled_df[\"Open\"].max()\n\n# replace (original value) by MinMaxScaler\nscaler = MinMaxScaler()\nspoiled_df[\"Close_norm\"] = scaler.fit_transform(spoiled_df[\"Close\"].to_numpy().reshape(-1, 1))"
      ]
    },
    {
      "cell_type": "code",
      "id": "b76695b8-8153-40f1-9ead-d0a4807168a3",
      "metadata": {},
      "outputs": [],
      "source": [
        "spoiled_df[[\"Open_norm\", \"Close_norm\"]].head()"
      ]
    },
    {
      "cell_type": "markdown",
      "id": "b0ad8afa-d75f-4c43-8802-a6dab3149002",
      "metadata": {},
      "outputs": [],
      "source": [
        "<div class=\"alert alert-danger alertdanger\" style=\"margin-top: 20px\">\n    \n# **Question #3:**\n\n**According to the example above, normalize the column \"Avg_price\" using** `MinMaxScaler`\n\n</div>\n"
      ]
    },
    {
      "cell_type": "code",
      "id": "b9ce7e78-5241-4987-93ef-d3705c5b4a1d",
      "metadata": {},
      "outputs": [],
      "source": [
        "# Write your code below and press Shift+Enter to execute \n"
      ]
    },
    {
      "cell_type": "markdown",
      "id": "edd742ce-3e4a-46fe-bb84-b39625921bb0",
      "metadata": {},
      "outputs": [],
      "source": [
        "<details><summary>Click here for the solution</summary>\n\n```python\nscaler = MinMaxScaler()\nspoiled_df[\"Avg_price_norm\"] = scaler.fit_transform(spoiled_df[\"Avg_price\"].to_numpy().reshape(-1, 1))\n\n\n# show the scaled column\nspoiled_df[[\"Avg_price_norm\"]].head()\n\n\n```\n\n</details>\n"
      ]
    },
    {
      "cell_type": "markdown",
      "id": "0f6c2b58-4155-4b71-96cf-4c917df1b0dc",
      "metadata": {},
      "outputs": [],
      "source": [
        "Here we can see we've normalized **\"Open\"**, **\"Close\"** and **\"Avg_price\"** in the range of \\[0,1]."
      ]
    },
    {
      "cell_type": "markdown",
      "id": "ef27f17c-652a-4b53-8317-5d31f8f7972f",
      "metadata": {},
      "outputs": [],
      "source": [
        "# **5. Binning and indicator variable**\n\n**Why binning?**\n\nBinning is a process of transforming continuous numerical variables into discrete categorical \"bins\" for grouped analysis.\n\n**The example:**\n\nIn our dataset, **\"Volume\"** is a real valued variable. What if we want to break it down into 3 bins and see which bin sold the most? Can we rearrange them into three \"bins\" to simplify analysis?\n\nWe will use the pandas method `cut` to segment the **\"Volume\"** column into 3 bins.\n"
      ]
    },
    {
      "cell_type": "markdown",
      "id": "7929b995-50ff-4598-9393-94bac87a5da6",
      "metadata": {},
      "outputs": [],
      "source": [
        "## **Example of Binning Data In Pandas**\n"
      ]
    },
    {
      "cell_type": "markdown",
      "id": "72c17b7f-1725-4764-a068-95a3d6456ce9",
      "metadata": {},
      "outputs": [],
      "source": [
        "Let's plot the histogram of **\"Volume\"** to see what the distribution of **\"Volume\"** looks like.\n"
      ]
    },
    {
      "cell_type": "code",
      "id": "9f254643-d80a-4c46-84a9-7b4c2ff161c8",
      "metadata": {},
      "outputs": [],
      "source": [
        "plt.hist(spoiled_df[\"Volume\"])\n\n# set x/y labels and plot title\nplt.xlabel(\"Volume\")\nplt.ylabel(\"Count\")\nplt.title(\"Volume bins\")"
      ]
    },
    {
      "cell_type": "code",
      "id": "5064325b-7cf4-4c85-a5d4-d0edd137093a",
      "metadata": {},
      "outputs": [],
      "source": [
        "bins = [min(spoiled_df[\"Volume\"]), 10000, 30000, max(spoiled_df[\"Volume\"])]\nbins"
      ]
    },
    {
      "cell_type": "code",
      "id": "ed4db71d-4cf5-444f-b6e0-a5c116623c4d",
      "metadata": {},
      "outputs": [],
      "source": [
        "spoiled_df[\"Volume\"].describe()"
      ]
    },
    {
      "cell_type": "markdown",
      "id": "e6979338-fecd-46ae-bfa2-36d154f3f74b",
      "metadata": {},
      "outputs": [],
      "source": [
        "We set group  names:\n"
      ]
    },
    {
      "cell_type": "code",
      "id": "66c0788e-20ab-4398-a537-b7b21f1401b2",
      "metadata": {},
      "outputs": [],
      "source": [
        "group_names = [\"Low\", \"Medium\", \"High\"]"
      ]
    },
    {
      "cell_type": "markdown",
      "id": "487d25e0-d6e1-4e5f-8903-24ea29a17a34",
      "metadata": {},
      "outputs": [],
      "source": [
        "We apply the function <b>cut</b> to determine what each value of `spoiled_df[\"Volume\"]` belongs to.\n"
      ]
    },
    {
      "cell_type": "code",
      "id": "9d8aad36-fb68-4cb6-ba9f-7c53edb139a0",
      "metadata": {},
      "outputs": [],
      "source": [
        "spoiled_df[\"Volume-binned\"] = pd.cut(spoiled_df[\"Volume\"], bins, labels=group_names, include_lowest=True)\nspoiled_df[[\"Volume\", \"Volume-binned\"]].head()"
      ]
    },
    {
      "cell_type": "markdown",
      "id": "76ab5ea5-47c5-4536-a32f-941cffdad058",
      "metadata": {},
      "outputs": [],
      "source": [
        "Let's see the \"Volume\" in each bin:\n"
      ]
    },
    {
      "cell_type": "code",
      "id": "8dbf48fa-c027-4d7f-a78f-6ed0177d9770",
      "metadata": {},
      "outputs": [],
      "source": [
        "spoiled_df[\"Volume-binned\"].value_counts()"
      ]
    },
    {
      "cell_type": "markdown",
      "id": "b682daa3-f53b-446e-b29a-73cb46e33869",
      "metadata": {},
      "outputs": [],
      "source": [
        "Let's plot the distribution of each bin:\n"
      ]
    },
    {
      "cell_type": "code",
      "id": "5d8101c0-6029-4f4c-8844-384b3c22b927",
      "metadata": {},
      "outputs": [],
      "source": [
        "plt.bar(list(spoiled_df[\"Volume-binned\"].value_counts().index), spoiled_df[\"Volume-binned\"].value_counts())\n\n# set x/y labels and plot title\nplt.xlabel(\"Volume\")\nplt.ylabel(\"Count\")\nplt.title(\"Volume bins\")"
      ]
    },
    {
      "cell_type": "markdown",
      "id": "59c07ccb-9953-441e-9602-44797211d2ca",
      "metadata": {},
      "outputs": [],
      "source": [
        "As we can see we managed to create 3 classes based on **\"Volume\"**"
      ]
    },
    {
      "cell_type": "markdown",
      "id": "db47e6cd-44e0-4243-a04e-720379e8c115",
      "metadata": {},
      "outputs": [],
      "source": [
        "## **Bins Visualization**\n\nNormally, a histogram is used to visualize the distribution of bins we created above. "
      ]
    },
    {
      "cell_type": "code",
      "id": "32967234-db1f-478b-b71c-bfd6e2601f20",
      "metadata": {},
      "outputs": [],
      "source": [
        "# draw historgram of attribute \"volume-binned\" with bins = 3\nplt.hist(spoiled_df[\"Volume-binned\"], bins = 3)\n\n# set x/y labels and plot title\nplt.xlabel(\"Volume\")\nplt.ylabel(\"Count\")\nplt.title(\"Volume-binned bins\")"
      ]
    },
    {
      "cell_type": "markdown",
      "id": "94725e61-3be6-4655-bc5e-6d1e6b1fa2fc",
      "metadata": {},
      "outputs": [],
      "source": [
        "The plot above shows the binning result for the attribute **\"Volume\"**.\n"
      ]
    },
    {
      "cell_type": "markdown",
      "id": "e8d42ca8-da98-4d4e-99b5-4a7fdfb84efa",
      "metadata": {},
      "outputs": [],
      "source": [
        "## **Indicator Variable (or Dummy Variable)**\n\n**What is an indicator variable?**\n\nAn indicator variable (or dummy variable) is a numerical variable used to label categories. They are called \"dummies\" because the numbers themselves don't have inherent meaning. \n\n**Why we use indicator variables?**\n\nWe use indicator variables so we can use categorical variables for regression analysis in the later modules.\n\n**Example**\n\nWe see the column **\"Volume-binned\"** has three unique values: \"Low\", \"Medium\" or \"High\". Regression doesn't understand words, only numbers. To use this attribute in regression analysis, we convert **\"Volume-binned\"** to indicator variables.\n\nWe will use pandas' method `get_dummies` to assign numerical values to different categories of **\"Volume\"**. "
      ]
    },
    {
      "cell_type": "markdown",
      "id": "5a0449ed-388e-46b0-bdeb-58437b8c9fe7",
      "metadata": {},
      "outputs": [],
      "source": [
        "Get the indicator variables and assign it to data frame `dummy_variable_1`:\n"
      ]
    },
    {
      "cell_type": "code",
      "id": "6bf56805-9722-4b65-8a0d-4d2db28d02c1",
      "metadata": {},
      "outputs": [],
      "source": [
        "dummy_variable_1 = pd.get_dummies(spoiled_df[\"Volume-binned\"], prefix=\"Volume\")\ndummy_variable_1.head()"
      ]
    },
    {
      "cell_type": "code",
      "id": "adbd75a9-8bd5-4ad7-aef1-558682d23fd7",
      "metadata": {},
      "outputs": [],
      "source": [
        "# merge data frame \"spoiled_df\" and \"dummy_variable_1\" \nspoiled_df = pd.concat([spoiled_df, dummy_variable_1], axis=1)\n\n# drop original column \"volume-binned\" from \"spoiled_df\"\nspoiled_df.drop(\"Volume-binned\", axis = 1, inplace=True)"
      ]
    },
    {
      "cell_type": "code",
      "id": "4a42388b-5929-47b4-b478-fab5a5e09d9d",
      "metadata": {},
      "outputs": [],
      "source": [
        "spoiled_df.head()"
      ]
    },
    {
      "cell_type": "markdown",
      "id": "97b98b93-c4a4-485e-8bb2-29e1dcc48749",
      "metadata": {},
      "outputs": [],
      "source": [
        "The last three columns are now the indicator variable representation of the volume variable. They're all 0s and 1s now.\n"
      ]
    },
    {
      "cell_type": "markdown",
      "id": "9714ac8c-3c32-45e9-9172-85b66f61fb3b",
      "metadata": {},
      "outputs": [],
      "source": [
        "<div class=\"alert alert-danger alertdanger\" style=\"margin-top: 20px\">\n    \n# **Question  #4:**\n\n**Similar to before, create an indicator variable for the column \"Ts\" (create `spoiled_df[\"Ts_day_name\"] = spoiled_df[\"Ts\"].dt.day_name()` as category and then `get_dummies` from that column and then concatenate the `spoiled_df`) and merge the dataframes**\n\n</div>\n"
      ]
    },
    {
      "cell_type": "code",
      "id": "ae4d5e12-9659-439b-89fc-81b20db971db",
      "metadata": {},
      "outputs": [],
      "source": [
        "# Write your code below and press Shift+Enter to execute \n"
      ]
    },
    {
      "cell_type": "markdown",
      "id": "542f5d38-056f-4dd6-aeec-f434c0edd2ab",
      "metadata": {},
      "outputs": [],
      "source": [
        "<details><summary>Click here for the solution</summary>\n\n```python\n# Create a new column\nspoiled_df[\"Ts_day_name\"] = spoiled_df[\"Ts\"].dt.day_name()\n# get indicator variables of day_name and assign it to data frame \"dummy_variable_2\"\ndummy_variable_2 = pd.get_dummies(spoiled_df[\"Ts_day_name\"], prefix=\"Ts\")\n# Concatenate df's\nspoiled_df = pd.concat([spoiled_df, dummy_variable_2], axis=1)\nspoiled_df.head()\n\n```\n\n</details>\n"
      ]
    },
    {
      "cell_type": "markdown",
      "id": "e22ac3f4-fd3f-4e37-a679-fdd601a472e8",
      "metadata": {},
      "outputs": [],
      "source": [
        "# **6. Resampling**"
      ]
    },
    {
      "cell_type": "markdown",
      "id": "26ec3906-dc74-47f1-930d-f57a6c6935a1",
      "metadata": {},
      "outputs": [],
      "source": [
        "**What is resampling?**\n\nData resampling is any process whereby data is gathered and expressed in a summary form"
      ]
    },
    {
      "cell_type": "markdown",
      "id": "2ceb31d7-01d3-4862-aeb8-d70f074bfee3",
      "metadata": {},
      "outputs": [],
      "source": [
        "Let's set **\"Ts\"** as index to be able to resample our dataframe"
      ]
    },
    {
      "cell_type": "code",
      "id": "5cc0611f-e661-4d73-8a3e-6a488e0458d3",
      "metadata": {},
      "outputs": [],
      "source": [
        "spoiled_df.index = spoiled_df[\"Ts\"]"
      ]
    },
    {
      "cell_type": "markdown",
      "id": "2d7f7c63-86a8-4088-9e6f-d7c7b4afccd0",
      "metadata": {},
      "outputs": [],
      "source": [
        "After resampling we can use different aggregation functions such as:\n\n<ul>\n    <li><code>mean()</code></li>\n    <li><code>sum()</code></li>\n    <li><code>prod()</code></li>\n    <li><code>first()</code></li>\n    <li><code>last()</code></li>\n    <li><code>min()</code></li>\n    <li><code>max()</code></li>\n</ul>"
      ]
    },
    {
      "cell_type": "code",
      "id": "488ab80e-af2b-4159-96f9-eea715ce4c9a",
      "metadata": {},
      "outputs": [],
      "source": [
        "resampled_df1 = spoiled_df[[\"Open\", \"High\", \"Low\", \"Close\", \"Volume\"]].resample(\"15min\").agg({\n    \"Open\": \"first\",\n    \"High\": \"max\",\n    \"Low\": \"min\",\n    \"Close\": \"last\",\n    \"Volume\": \"sum\",\n})\nresampled_df1.head()"
      ]
    },
    {
      "cell_type": "markdown",
      "id": "3655bbd5-674f-4549-9fb3-984f8a6ea5eb",
      "metadata": {},
      "outputs": [],
      "source": [
        "How we can see we resampled data with aggregation time 15 min so we reduced amount of the data and generalized it. And we can make assumptions on much wider time window (15 min instead of 1 min)"
      ]
    },
    {
      "cell_type": "markdown",
      "id": "56068866-7fe5-4481-a30a-8b6d9aed3861",
      "metadata": {},
      "outputs": [],
      "source": [
        " <div class=\"alert alert-danger alertdanger\" style=\"margin-top: 20px\">\n\n# **Question  #5:**\n\n**Apply resampling to `spoiled_df` with aggregation time 1 hour to columns \"High\", \"Low\", \"Close\". Then apply `max()`, `min()`, `last()` functions. Assign that to `resampled_df2` variable and show**\n\n</div>\n"
      ]
    },
    {
      "cell_type": "code",
      "id": "e0dcdf64-cbb3-444d-af05-605576267205",
      "metadata": {},
      "outputs": [],
      "source": [
        "# Write your code below and press Shift+Enter to execute \n"
      ]
    },
    {
      "cell_type": "markdown",
      "id": "e17492c0-6b1a-48bd-b1a2-3723ff0d1db0",
      "metadata": {},
      "outputs": [],
      "source": [
        "<details><summary>Click here for the solution</summary>\n\n```python\nresampled_df2 = spoiled_df[[\"High\", \"Low\", \"Close\"]].resample(\"1h\").agg({\n    \"High\": \"max\",\n    \"Low\": \"min\",\n    \"Close\": \"last\"\n})\nresampled_df2.head()\n```\n\n</details>\n"
      ]
    },
    {
      "cell_type": "markdown",
      "id": "47c3e118-3e2c-40a8-90fc-f84f9ae060bc",
      "metadata": {},
      "outputs": [],
      "source": [
        "Save the new csv:"
      ]
    },
    {
      "cell_type": "code",
      "id": "cd4181ae-4d7d-44eb-b13f-fb7a9728db96",
      "metadata": {},
      "outputs": [],
      "source": [
        "spoiled_df.to_csv(\"clean_df.csv\", index=False)"
      ]
    },
    {
      "cell_type": "markdown",
      "id": "54d2ff5d-d4a4-4494-b944-b02446c730e3",
      "metadata": {},
      "outputs": [],
      "source": [
        "# **Thank you for completing this lab!**\n\n## Author\n\n<a href=\"https://author.skills.network/instructors/borys_melnychuk\" target=\"_blank\" >Borys Melnychuk</a>\n\n<a href=\"https://author.skills.network/instructors/yaroslav_vyklyuk_2?utm_medium=Exinfluencer&utm_source=Exinfluencer&utm_content=000026UJ&utm_term=10006555&utm_id=NA-SkillsNetwork-Channel-SkillsNetworkGuidedProjectsIBMSkillsNetworkGPXX0QGDEN2306-2023-01-01\">Prof. Yaroslav Vyklyuk, DrSc, PhD</a>\n\n<a href=\"https://author.skills.network/instructors/mariya_fleychuk?utm_medium=Exinfluencer&utm_source=Exinfluencer&utm_content=000026UJ&utm_term=10006555&utm_id=NA-SkillsNetwork-Channel-SkillsNetworkGuidedProjectsIBMSkillsNetworkGPXX0QGDEN2306-2023-01-01\">Prof. Mariya Fleychuk, DrSc, PhD</a>\n\n\n\n## Change Log\n\n| Date (YYYY-MM-DD) | Version | Changed By      | Change Description                                         |\n| ----------------- | ------- | ----------------| ---------------------------------------------------------- |\n|     2023-03-04    |   1.0   | Borys Melnychuk | Creation of the lab                                        |\n\n<hr>\n\n## <h3 align=\"center\"> © IBM Corporation 2023. All rights reserved. </h3>\n"
      ]
    }
  ],
  "metadata": {
    "language_info": {
      "name": ""
    },
    "kernelspec": {
      "name": "",
      "display_name": ""
    }
  },
  "nbformat": 4,
  "nbformat_minor": 4
}
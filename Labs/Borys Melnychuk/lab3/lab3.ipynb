{
  "cells": [
    {
      "cell_type": "markdown",
      "id": "6c516357-9ae2-4f68-a363-8a12deb4ada5",
      "metadata": {},
      "outputs": [],
      "source": [
        "<center>\n    <img src=\"https://cf-courses-data.s3.us.cloud-object-storage.appdomain.cloud/assets/logos/SN_web_lightmode.png\" width=\"500\" alt=\"cognitiveclass.ai logo\"  />\n</center>\n\n#  **Investigation of MATIC/BUSD exchange rate dynamic,  calculation and analysis of separate  technical financial indicators of cryptocurrency market (ATR, OBV, RSI, AD)**\n\n## **Lab 3. Data Analysis with Python**\n\nEstimated time needed: **30** minutes\n\n## **Objectives**\n\nAfter completing this lab you will be able to:\n\n*   Find correlation between cryptocurrencies\n*   Group data\n*   How to do Durbin-Watson, Granger Causality tests\n*   How to do ANOVA"
      ]
    },
    {
      "cell_type": "markdown",
      "id": "353b6d6c-a34d-44bc-b996-dfe1ab0a6f1c",
      "metadata": {},
      "outputs": [],
      "source": [
        "## **Table of Contents**\n\n<div class=\"alert alert-block alert-info\" style=\"margin-top: 20px\">\n<ol>\n    <li>Import Data</li>\n    <li>Analyzing Individual Feature Patterns using Visualization</li>\n    <ul>\n        <li>Choosing the right visualization method</li>\n        <li>Candlestick chart</li>\n        <li>Correlation calculation</li>\n        <li>Continuous Numerical Variables</li>\n        <li>Linear Relationship</li>\n        <li>Categorical variables</li>\n    </ul>\n    <li>Descriptive Statistical Analysis</li>\n    <ul>\n        <li>Value Counts</li>\n    </ul>\n    <li>Basics of Grouping</li>\n    <li>Correlation and Causation</li>\n    <ul>\n        <li>Pearson Correlation</li>\n        <li>P-value</li>\n    </ul>\n    <li>ANOVA: Analysis of Variance</li>\n    <li>Durbin-Watson Test</li>\n    <li>Granger Causality Test</li>\n    <li>Sources</li>\n</ol>\n\n</div>\n\n<hr>\n"
      ]
    },
    {
      "cell_type": "markdown",
      "id": "2decc767-9ff3-4078-a4fa-d629f66fc6ab",
      "metadata": {},
      "outputs": [],
      "source": [
        "## **Dataset Description**\n\n### **Files**\n* #### **MATICBUSD_trades_1m_preprocessed.csv** - the file contains historical changes of the pair **MATIC/BUSD** and ATR, OBV, RSI, AD indicators for the period from 11/11/2022 to 12/29/2022 with an aggregation time of 1 minute\n\n### **Columns**\n\n* #### `Ts` - the timestamp of the record\n* #### `Open` -  the price of the asset at the beginning of the trading period\n* #### `High` -  the highest price of the asset during the trading period\n* #### `Low` - the lowest price of the asset during the trading period.\n* #### `Close` - the price of the asset at the end of the trading period\n* #### `Volume` - the total number of shares or contracts of a particular asset that are traded during a given period\n* #### `Rec_count` -  the number of individual trades or transactions that have been executed during a given time period\n* #### `Avg_price` - the average price at which a particular asset has been bought or sold during a given period\n* #### `ATR` - average true range indicator\n* #### `OBV` - on-balance volume indicator\n* #### `RSI` - relative strength index indicator\n* #### `AD` - accumulation / distribution indicator"
      ]
    },
    {
      "cell_type": "markdown",
      "id": "5046276f-6062-41a3-9456-f3648cf251ad",
      "metadata": {},
      "outputs": [],
      "source": [
        "### How to find the correlation between cryptocurrencies and conduct various tests on them?"
      ]
    },
    {
      "cell_type": "markdown",
      "id": "82ac20bf-d564-4b50-8ab8-fbd3d4149dd4",
      "metadata": {},
      "outputs": [],
      "source": [
        "# **1. Import Data**\n"
      ]
    },
    {
      "cell_type": "markdown",
      "id": "0419cf33-f7b4-424b-bd25-a314ab684b6f",
      "metadata": {},
      "outputs": [],
      "source": [
        "If you run the lab locally using Anaconda, you can load the correct library and versions by uncommenting the following:\n"
      ]
    },
    {
      "cell_type": "code",
      "id": "c89248a0-a407-4db3-9b03-a332c0833fa3",
      "metadata": {},
      "outputs": [],
      "source": [
        "# If you run the lab locally using Anaconda, you can load the correct library and versions by uncommenting the following:\n# ! conda install pandas -y\n# ! conda install numpy -y\n# ! conda install scipy -y\n# ! conda install matplotlib -y\n# ! conda install seaborn -y\n! conda install -c conda-forge mplfinance -y\n# ! conda install -c anaconda statsmodels -y"
      ]
    },
    {
      "cell_type": "code",
      "id": "b0066b6c-472a-4d1c-a1b6-c52a1bfdfda7",
      "metadata": {},
      "outputs": [],
      "source": [
        "import pandas as pd\nimport numpy as np\nimport matplotlib.pyplot as plt\nimport seaborn as sns\nimport matplotlib.dates as mpl_dates\nimport mplfinance as mpf\nimport statsmodels.api as sm\n\nfrom scipy import stats\nfrom statsmodels.stats.stattools import durbin_watson as dwtest\nfrom statsmodels.tsa.stattools import grangercausalitytests\n\nimport itertools\nimport warnings\nimport datetime as dt\n\npd.set_option(\"display.precision\", 5) # setting numbers after digits\npd.options.display.float_format = '{:.5f}'.format\nwarnings.filterwarnings(\"ignore\") # filterig warnings\nsns.set() # setting theme"
      ]
    },
    {
      "cell_type": "markdown",
      "id": "54850bde-753c-4381-bf01-82d8ba0d3d92",
      "metadata": {},
      "outputs": [],
      "source": [
        "We will use dataset that we created in the first lab \"MATICBUSD_trades_1m_preprocessed.csv\""
      ]
    },
    {
      "cell_type": "code",
      "id": "b9367b6a-4325-400b-a2f3-42f418ad973f",
      "metadata": {},
      "outputs": [],
      "source": [
        "filename = \"https://cf-courses-data.s3.us.cloud-object-storage.appdomain.cloud/IBMSkillsNetwork-GPXX0CJ2EN/MATICBUSD_trades_1m_preprocessed.csv\""
      ]
    },
    {
      "cell_type": "markdown",
      "id": "652ca84a-f47a-4c67-80a0-7bd3496eba0a",
      "metadata": {},
      "outputs": [],
      "source": [
        "Load the data and store it in dataframe `df`:\n"
      ]
    },
    {
      "cell_type": "code",
      "id": "e2d60931-87a7-41e0-accc-1343ed8ebed1",
      "metadata": {},
      "outputs": [],
      "source": [
        "df = pd.read_csv(filename, parse_dates=[\"Ts\"]) # We set parameter parse_dates to specify columns which need to perceived as datetime"
      ]
    },
    {
      "cell_type": "markdown",
      "id": "0a09463c-b0ec-4296-9aea-e8fca6e38b38",
      "metadata": {},
      "outputs": [],
      "source": [
        "This dataset was hosted <a href=\"https://cf-courses-data.s3.us.cloud-object-storage.appdomain.cloud/IBMSkillsNetwork-GPXX0CJ2EN/MATICBUSD_trades_1m_preprocessed.csv\">HERE</a>\n"
      ]
    },
    {
      "cell_type": "markdown",
      "id": "17f23ae6-f3c8-4045-8b38-89343c8733fd",
      "metadata": {},
      "outputs": [],
      "source": [
        "Let's take a look on data that we have got"
      ]
    },
    {
      "cell_type": "code",
      "id": "be6519b0-99b3-49f1-a20e-84e1701ee218",
      "metadata": {},
      "outputs": [],
      "source": [
        "df.head(20)"
      ]
    },
    {
      "cell_type": "markdown",
      "id": "052c06da-6df8-4981-8d97-a198a84843c7",
      "metadata": {},
      "outputs": [],
      "source": [
        "How we can see our first 15 rows of columns **\"ATR\"** and **\"RSI\"** are `NaN`'s so we need to drop them"
      ]
    },
    {
      "cell_type": "code",
      "id": "f723458e-9bf2-40f4-8ecb-8a6af4aa04e2",
      "metadata": {},
      "outputs": [],
      "source": [
        "df = df.dropna()"
      ]
    },
    {
      "cell_type": "markdown",
      "id": "455f9c63-2fa4-4867-b9c6-09dd1e0a87b5",
      "metadata": {},
      "outputs": [],
      "source": [
        "# **2. Analyzing Individual Feature Patterns Using Visualization**\n"
      ]
    },
    {
      "cell_type": "markdown",
      "id": "d7469ec0-70c4-4955-b872-cb4c94f761b9",
      "metadata": {},
      "outputs": [],
      "source": [
        "## **Choosing the right visualization method**\n\nWhen visualizing individual variables, it is important to first understand what type of variable you are dealing with. This will help us find the right visualization method for that variable."
      ]
    },
    {
      "cell_type": "code",
      "id": "a9019adb-6ddf-431e-b641-0decfacd8bde",
      "metadata": {},
      "outputs": [],
      "source": [
        "# list the data types for each column\nprint(df.dtypes)"
      ]
    },
    {
      "cell_type": "markdown",
      "id": "869627ab-3478-44a9-8ef6-1c0b2e03a31c",
      "metadata": {},
      "outputs": [],
      "source": [
        "Let's define function that plots **candlestick chart**"
      ]
    },
    {
      "cell_type": "code",
      "id": "f97aceb7-fe00-4e4b-a183-a386adefecf6",
      "metadata": {},
      "outputs": [],
      "source": [
        "def plot_candlestick_chart(df: pd.DataFrame, curr: str) -> None:\n    \"\"\"\n    Plots candlestick chart\n    \n    Parameters\n    ----------\n    df: pd.DataFrame\n        Pandas dataframe that needs to contain columns \"Ts\", \"Open\", \"High\", \"Low\", \"Close\", \"Volume\"\n    curr: str\n        Name of currency that `df` contains\n    \"\"\"\n    # Extracting Data for plotting\n    ohlc = df[[\"Ts\", \"Open\", \"High\", \"Low\", \"Close\", \"Volume\"]].copy()\n\n    # Setting \"Ts\" column as datatime if it's not yet\n    ohlc[\"Ts\"] = pd.to_datetime(ohlc[\"Ts\"])\n    ohlc.index = ohlc[\"Ts\"]\n\n    # Resampling to 1 day\n    ohlc = ohlc.resample(\"1d\").agg({\n        \"Open\": \"first\",\n        \"High\": \"max\",\n        \"Low\": \"min\",\n        \"Close\": \"last\",\n        \"Volume\": \"sum\"\n    })\n\n    # Setting \"Ts\" column as index and result in the correct format\n    ohlc[\"Ts\"] = ohlc.index\n    ohlc[\"Ts\"] = ohlc[\"Ts\"].apply(mpl_dates.date2num)\n\n    # Plotting the candlestick chart\n    mpf.plot(ohlc, type=\"candle\", \n             volume=True, \n             style=\"yahoo\", \n             ylabel=\"Price\", \n             xlabel=\"Date\", \n             title=f\"Daily Candlestick Chart of {curr}\")"
      ]
    },
    {
      "cell_type": "markdown",
      "id": "efadb9d2-94ce-4a1d-b9f8-50ef85c34687",
      "metadata": {},
      "outputs": [],
      "source": [
        "## **Candlestick chart**"
      ]
    },
    {
      "cell_type": "markdown",
      "id": "d7d4ece7-7312-40ea-8d4d-bd8adba912c8",
      "metadata": {},
      "outputs": [],
      "source": [
        "A **candlestick chart** (also called **Japanese candlestick** chart or **K-line**) is a style of financial chart used to describe price movements of a security, derivative, or currency.\n\nIt is similar to a bar chart in that each candlestick represents all four important pieces of information for that day: open and close in the thick body; high and low in the “candle wick”. Being densely packed with information, it tends to represent trading patterns over short periods of time, often a few days or a few trading sessions.\n\nCandlestick charts are most often used in technical analysis of equity and currency price patterns. They are used by traders to determine possible price movement based on past patterns, and who use the opening price, closing price, high and low of that time period. They are visually similar to box plots, though box plots show different information."
      ]
    },
    {
      "cell_type": "markdown",
      "id": "f9c620f5-0690-43dd-8866-7c0bc782ec50",
      "metadata": {},
      "outputs": [],
      "source": [
        "<center>\n    <img src=\"https://cf-courses-data.s3.us.cloud-object-storage.appdomain.cloud/IBMSkillsNetwork-GPXX0CJ2EN/1024px-Candlestick_chart_scheme_01-en.svg.png\" width=\"300\" alt=\"candlestick\"  />\n</center>"
      ]
    },
    {
      "cell_type": "markdown",
      "id": "67d100de-6379-4e4f-abc9-a0a4d23c6e75",
      "metadata": {},
      "outputs": [],
      "source": [
        "Scheme of a single candlestick chart. A candlestick as this one is usually shaded red as the close is lower than the open. The Low and High caps are usually not present but may be added to ease reading."
      ]
    },
    {
      "cell_type": "markdown",
      "id": "968ed70a-3062-4a3e-84f4-1308b5950a88",
      "metadata": {},
      "outputs": [],
      "source": [
        "Let's see our candlestick chart"
      ]
    },
    {
      "cell_type": "code",
      "id": "2ae24956-5855-4196-9ee6-33cfb7420b7f",
      "metadata": {},
      "outputs": [],
      "source": [
        "plot_candlestick_chart(df, \"MATIC/BUSD\")"
      ]
    },
    {
      "cell_type": "markdown",
      "id": "1445b3d4-d6fe-4630-a193-0b6c93ead320",
      "metadata": {},
      "outputs": [],
      "source": [
        "<div class=\"alert alert-danger alertdanger\" style=\"margin-top: 20px\">\n<h1><strong>Question  #1:</strong></h1>\n\n**What is the data type of the column \"Avg_price\"?**\n\n</div>\n"
      ]
    },
    {
      "cell_type": "code",
      "id": "88f02f91-b321-45a0-b838-b1cd82cb3c30",
      "metadata": {},
      "outputs": [],
      "source": [
        "# Write your code below and press Shift+Enter to execute \n"
      ]
    },
    {
      "cell_type": "markdown",
      "id": "013ff2a2-5b85-4ad4-b6d5-9a234f110024",
      "metadata": {},
      "outputs": [],
      "source": [
        "<details><summary>Click here for the solution</summary>\n\n```python\ndf[\"Avg_price\"].dtypes\n```\n\n</details>\n"
      ]
    },
    {
      "cell_type": "markdown",
      "id": "56f96c8b-ab71-4831-b090-1bd53fe69780",
      "metadata": {},
      "outputs": [],
      "source": [
        "## **Correlation calculation**"
      ]
    },
    {
      "cell_type": "markdown",
      "id": "657b1eb9-5c0d-4211-9344-26842337118e",
      "metadata": {},
      "outputs": [],
      "source": [
        "For example, we can calculate the correlation between variables  of type `int64` or `float64` using the method `.corr()`:"
      ]
    },
    {
      "cell_type": "code",
      "id": "bebf2aa4-4c17-4bcf-81d7-266af7ccb102",
      "metadata": {},
      "outputs": [],
      "source": [
        "corr = df.corr()\ncorr"
      ]
    },
    {
      "cell_type": "markdown",
      "id": "34c6111d-cd68-45a2-bbde-f32d20c754fc",
      "metadata": {},
      "outputs": [],
      "source": [
        "The diagonal elements are always one; we will study correlation more precisely Pearson correlation in-depth at the end of the notebook.\n"
      ]
    },
    {
      "cell_type": "markdown",
      "id": "5bc88e67-a914-4dd3-90ae-367f99f951e4",
      "metadata": {},
      "outputs": [],
      "source": [
        "We have a dataframe of correlations now we can build **heatmap** based on that correlation to perceive this data visually"
      ]
    },
    {
      "cell_type": "markdown",
      "id": "b2ad7801-2c1d-4c0a-b5e4-de4d3ad29998",
      "metadata": {},
      "outputs": [],
      "source": [
        "**heatmap** plots rectangular data as a color-encoded matrix."
      ]
    },
    {
      "cell_type": "code",
      "id": "a22ea21b-acb1-4466-ad6c-df4128c7759b",
      "metadata": {},
      "outputs": [],
      "source": [
        "sns.heatmap(corr)"
      ]
    },
    {
      "cell_type": "markdown",
      "id": "754b9f82-7272-4dc5-92fa-069b0df3d3c4",
      "metadata": {},
      "outputs": [],
      "source": [
        "<div class=\"alert alert-danger alertdanger\" style=\"margin-top: 20px\">\n<h1><strong>Question  #2:</strong></h1>\n\n**Find the correlation between the following columns: \"Avg_price\", \"ATR\" and \"AD\".**<br><br>\n<strong>Hint: if you would like to select those columns, use the following syntax: `df[[\"Avg_price\", \"ATR\", \"AD\"]]`</strong>\n</div>\n"
      ]
    },
    {
      "cell_type": "code",
      "id": "b91a88b5-3b2a-49a5-a4a3-b2e7f7f7ffd7",
      "metadata": {},
      "outputs": [],
      "source": [
        "# Write your code below and press Shift+Enter to execute \n"
      ]
    },
    {
      "cell_type": "markdown",
      "id": "4814357d-fe23-4dfa-ac38-94e4e6ee9065",
      "metadata": {},
      "outputs": [],
      "source": [
        "<details><summary>Click here for the solution</summary>\n\n```python\ndf[[\"Avg_price\", \"ATR\", \"AD\"]].corr()\n```\n\n</details>\n"
      ]
    },
    {
      "cell_type": "markdown",
      "id": "2361725b-1df4-46b8-b936-03b576b3b215",
      "metadata": {},
      "outputs": [],
      "source": [
        "## **Continuous Numerical Variables**\n\nContinuous numerical variables are variables that may contain any value within some range. They can be of type `int64` or `float64`. A great way to visualize these variables is by using scatterplots with fitted lines.\n\nIn order to start understanding the (linear) relationship between an individual variable and the price, we can use `regplot` which plots the scatterplot plus the fitted regression line for the data.\n"
      ]
    },
    {
      "cell_type": "markdown",
      "id": "33ef8ff2-6e36-4c2e-86ae-88bf64e7eea9",
      "metadata": {},
      "outputs": [],
      "source": [
        "Let's see several examples of different linear relationships:\n"
      ]
    },
    {
      "cell_type": "markdown",
      "id": "3fbcb83e-f363-4ff2-9fed-8b93cad8149c",
      "metadata": {},
      "outputs": [],
      "source": [
        "## **Linear Relationship**\n"
      ]
    },
    {
      "cell_type": "markdown",
      "id": "51087ad6-5e3d-4751-8889-72c72c2e9c5a",
      "metadata": {},
      "outputs": [],
      "source": [
        "A **linear relationship** (or **linear association**) is a statistical term used to describe a straight-line relationship between two variables. Linear relationships can be expressed either in a graphical format where the variable and the constant are connected via a straight line or in a mathematical format where the independent variable is multiplied by the slope coefficient, added by a constant, which determines the dependent variable. "
      ]
    },
    {
      "cell_type": "markdown",
      "id": "d8bb2ef9-f77d-4f1d-8b50-c1296c5fd928",
      "metadata": {},
      "outputs": [],
      "source": [
        "Let's take 2 columns **\"Avg_price\"** and **\"ATR\"** and see how they are correlated"
      ]
    },
    {
      "cell_type": "code",
      "id": "7a39fd4a-87ff-498d-a17b-50948ce48693",
      "metadata": {},
      "outputs": [],
      "source": [
        "# ATR as potential predictor variable of Avg_price\nsns.regplot(x=\"ATR\", y=\"Avg_price\", data=df)"
      ]
    },
    {
      "cell_type": "markdown",
      "id": "4f5c62b1-2231-4858-91bd-1fbf09db1cb4",
      "metadata": {},
      "outputs": [],
      "source": [
        "We can see that at small values of **\"ATR\"** the correlation is quite good, but as **\"ATR\"** increases the correlation decreases"
      ]
    },
    {
      "cell_type": "code",
      "id": "e32cd6dc-fe18-495c-a861-8c9b94f40ce1",
      "metadata": {},
      "outputs": [],
      "source": [
        "df[[\"ATR\", \"Avg_price\"]].corr()"
      ]
    },
    {
      "cell_type": "markdown",
      "id": "eb24797a-f7ae-4776-84cf-2a0fddbf62ed",
      "metadata": {},
      "outputs": [],
      "source": [
        "We can examine the correlation between **\"ATR\"** and **\"Avg_price\"** and see that it's approximately 0.33449"
      ]
    },
    {
      "cell_type": "markdown",
      "id": "ce850da7-298f-4d76-a8bb-7394928af255",
      "metadata": {},
      "outputs": [],
      "source": [
        "Let's find the scatterplot of **\"OBV\"** and **\"Avg_price\"**"
      ]
    },
    {
      "cell_type": "code",
      "id": "d2961fa5-9acf-497b-a3a2-277b8ce2fa6d",
      "metadata": {},
      "outputs": [],
      "source": [
        "sns.regplot(x=\"OBV\", y=\"Avg_price\", data=df)"
      ]
    },
    {
      "cell_type": "markdown",
      "id": "e91e4ede-141a-4beb-9523-37bb970d3b23",
      "metadata": {},
      "outputs": [],
      "source": [
        "**\"OBV\"** does not seem like a good predictor of **\"Avg_price\"** since the regression line is close to horizontal and in most cases the data points are located far from the fitted line. "
      ]
    },
    {
      "cell_type": "code",
      "id": "a88809be-13ac-4c32-b2c7-3169c2e578f4",
      "metadata": {},
      "outputs": [],
      "source": [
        "df[[\"OBV\", \"Avg_price\"]].corr()"
      ]
    },
    {
      "cell_type": "markdown",
      "id": "4fe0dcbf-d742-4663-bb36-3b0db4b5278b",
      "metadata": {},
      "outputs": [],
      "source": [
        "We can examine the correlation between **\"OBV\"** and **\"Avg_price\"** and see that it's approximately 0.19047"
      ]
    },
    {
      "cell_type": "markdown",
      "id": "29b6b315-547a-4c45-912b-4e57e0a0ca28",
      "metadata": {},
      "outputs": [],
      "source": [
        "Let's find the scatterplot of **\"AD\"** and **\"Avg_price\"**"
      ]
    },
    {
      "cell_type": "code",
      "id": "1be19914-ff8e-4e09-b70b-0d87a3aa9aa5",
      "metadata": {},
      "outputs": [],
      "source": [
        "sns.regplot(x=\"AD\", y=\"Avg_price\", data=df)"
      ]
    },
    {
      "cell_type": "markdown",
      "id": "521ef120-da18-429b-9299-a614a8d822b2",
      "metadata": {},
      "outputs": [],
      "source": [
        "<p>We see that there is a fairly conditional correlation. in some cases the points are located close to the straight line, in some - not. </p>"
      ]
    },
    {
      "cell_type": "code",
      "id": "f1f2ea49-e521-4d03-96d8-bc38329355b5",
      "metadata": {},
      "outputs": [],
      "source": [
        "df[[\"AD\", \"Avg_price\"]].corr()"
      ]
    },
    {
      "cell_type": "markdown",
      "id": "8f831679-a95b-44b7-a014-afe2a60092f1",
      "metadata": {},
      "outputs": [],
      "source": [
        "We can examine the correlation between **\"AD\"** and **\"Avg_price\"** and see that it's approximately 0.48184"
      ]
    },
    {
      "cell_type": "markdown",
      "id": "382ee0ca-1f77-4a51-a6e3-0859a76cf8ad",
      "metadata": {},
      "outputs": [],
      "source": [
        "<div class=\"alert alert-danger alertdanger\" style=\"margin-top: 20px\">\n<h1><strong>Question  3 a):</strong></h1>\n\n<strong>Find the correlation  between \"Avg_price\" and \"RSI\".</strong><br><br>\n<strong>Hint: if you would like to select those columns, use the following syntax: df[[\"Avg_price\", \"RSI\"]]</strong>\n</div>\n"
      ]
    },
    {
      "cell_type": "code",
      "id": "0513cfb5-8cbc-4b8d-adaf-20eecdb196e6",
      "metadata": {},
      "outputs": [],
      "source": [
        "# Write your code below and press Shift+Enter to execute\n"
      ]
    },
    {
      "cell_type": "markdown",
      "id": "49d24b40-96e3-42b0-83ef-24cc59924d01",
      "metadata": {},
      "outputs": [],
      "source": [
        "<details><summary>Click here for the solution</summary>\n\n```python\n\n#The correlation is 0.0298, the non-diagonal elements of the table.\n\ndf[[\"Avg_price\", \"RSI\"]].corr()\n\n```\n\n</details>\n"
      ]
    },
    {
      "cell_type": "markdown",
      "id": "99c9fa74-62ad-4afc-91b5-42e1db0a3cc2",
      "metadata": {},
      "outputs": [],
      "source": [
        "<div class=\"alert alert-danger alertdanger\" style=\"margin-top: 20px\">\n<h1><strong>Question  3 b):</strong></h1>\n\n**Given the correlation results between \"Avg_price\" and \"RSI\", do you expect a linear relationship?**\n**Verify your results using the function `regplot()`**\n</div>\n"
      ]
    },
    {
      "cell_type": "code",
      "id": "96a49d6f-67e7-426f-b3f5-240a7d78ca88",
      "metadata": {},
      "outputs": [],
      "source": [
        "# Write your code below and press Shift+Enter to execute \n"
      ]
    },
    {
      "cell_type": "markdown",
      "id": "12d4d4e5-53ea-4414-b377-0be8096a35b9",
      "metadata": {},
      "outputs": [],
      "source": [
        "<details><summary>Click here for the solution</summary>\n\n```python\n\n# There is no correlation between the variables \"RSI\" and \"Avg_price\". We can see this using \"regplot\" to demonstrate this.\n\n# Code: \nsns.regplot(x=\"Avg_price\", y=\"RSI\", data=df)\n\n```\n\n</details>\n"
      ]
    },
    {
      "cell_type": "markdown",
      "id": "a56b82be-b05d-48e9-8c40-763d4e7b61e6",
      "metadata": {},
      "outputs": [],
      "source": [
        "## **Categorical Variables**\n\nThese are variables that describe a \"characteristic\" of a data unit, and are selected from a small group of categories. The categorical variables can have the type `object` or `int64`. A good way to visualize categorical variables is by using boxplots.\n"
      ]
    },
    {
      "cell_type": "markdown",
      "id": "ea3210a8-a770-49da-9957-bc6a350ea15f",
      "metadata": {},
      "outputs": [],
      "source": [
        "But firstly we need to create the categories. Let's split \"Avg_price\" into 5 categories (Low, Lower Medium, Medium, Upper Medium, High). To do this we will use `np.linspace` and `pd.cut`. We used `pd.cut` in second lab. `np.linspace` returns evenly spaced numbers over a specified interval."
      ]
    },
    {
      "cell_type": "code",
      "id": "ab473e04-9d2f-4330-bcee-6f5c15570c0e",
      "metadata": {},
      "outputs": [],
      "source": [
        "group_names = [\"Low\", \"Lower Medium\", \"Medium\", \"Upper Medium\", \"High\"]"
      ]
    },
    {
      "cell_type": "markdown",
      "id": "d468782f-c9fe-44e1-8164-7356dcb3b69f",
      "metadata": {},
      "outputs": [],
      "source": [
        "Let's define a function which convert absolute values to categorical ones"
      ]
    },
    {
      "cell_type": "code",
      "id": "148f351a-ac38-4a83-8b0a-0878e37eece4",
      "metadata": {},
      "outputs": [],
      "source": [
        "def to_categorical(column: pd.Series, labels: list) -> pd.Series:\n    \"\"\"\n    Convert `column` into categorical pd.Series with labels given as parameter `labels`\n    \n    Parameters\n    ----------\n    column: pd.Series\n        Column to convert\n    labels: list\n        Labels which we will use as categories\n    \n    Returns\n    -------\n    res: pd.Series\n        Categorical column\n    \"\"\"\n    cat_number = len(labels)\n    bins = np.linspace(min(column), max(column), cat_number+1)\n    res = pd.cut(column, bins, labels=labels, include_lowest=True)\n    return res"
      ]
    },
    {
      "cell_type": "code",
      "id": "522450c5-695c-453c-b40a-baa83c46255f",
      "metadata": {},
      "outputs": [],
      "source": [
        "df[\"ap_cat\"] = to_categorical(df[\"Avg_price\"], group_names)\ndf[[\"ap_cat\", \"Avg_price\"]].tail()"
      ]
    },
    {
      "cell_type": "markdown",
      "id": "b1dbed74-9d8f-48a0-9770-306753120183",
      "metadata": {},
      "outputs": [],
      "source": [
        "Now let's do the same with **\"AD\"**"
      ]
    },
    {
      "cell_type": "code",
      "id": "a0eb9f52-239c-4f33-9d95-a4ca58ba9da8",
      "metadata": {},
      "outputs": [],
      "source": [
        "df[\"AD_cat\"] = to_categorical(df[\"AD\"], group_names)"
      ]
    },
    {
      "cell_type": "markdown",
      "id": "3a9341ac-7fd9-4ae3-a513-2ecfee817c38",
      "metadata": {},
      "outputs": [],
      "source": [
        "Let's look at the relationship between **\"Avg_price\"** and **\"ap_cat\"**."
      ]
    },
    {
      "cell_type": "code",
      "id": "122cb18a-f323-430f-ad9f-5fa56f01ce77",
      "metadata": {},
      "outputs": [],
      "source": [
        "sns.boxplot(x=\"Avg_price\", y=\"ap_cat\", data=df)"
      ]
    },
    {
      "cell_type": "markdown",
      "id": "80de2566-695a-4675-9ee7-6c7fc86e481e",
      "metadata": {},
      "outputs": [],
      "source": [
        "Here we see that the distribution of price between these five categories, Low, Lower Medium, Medium, Upper Medium and High."
      ]
    },
    {
      "cell_type": "markdown",
      "id": "2d237ed0-bf71-47b4-af89-673e5cac79ef",
      "metadata": {},
      "outputs": [],
      "source": [
        "# **3. Descriptive Statistical Analysis**\n"
      ]
    },
    {
      "cell_type": "markdown",
      "id": "2b954390-97a9-427f-9dd9-8a744bc0b8c1",
      "metadata": {},
      "outputs": [],
      "source": [
        "Let's first take a look at the variables by utilizing a description method.\n\nThe `.describe()` function automatically computes basic statistics for all continuous variables. Any `NaN` values are automatically skipped in these statistics.\n\nThis will show:\n\n* the count of that variable\n* the mean\n* the standard deviation (std)\n* the minimum value\n* the IQR (Interquartile Range: 25%, 50% and 75%)\n* the maximum value"
      ]
    },
    {
      "cell_type": "markdown",
      "id": "9541e7f5-a79c-4d8e-8852-d855a5fbdb08",
      "metadata": {},
      "outputs": [],
      "source": [
        "We can apply the method `.describe()` as follows:\n"
      ]
    },
    {
      "cell_type": "code",
      "id": "0e88fee1-d70a-455b-8779-43a8d2ed3757",
      "metadata": {},
      "outputs": [],
      "source": [
        "df.describe()"
      ]
    },
    {
      "cell_type": "markdown",
      "id": "f0d79d0d-35e7-4ee8-ab59-45fe9a0e4505",
      "metadata": {},
      "outputs": [],
      "source": [
        "However `.describe()` does not include categorical columns so let's include them specifying the `include` parameter"
      ]
    },
    {
      "cell_type": "code",
      "id": "767a0fdd-f5d5-4c62-ba8a-814e5bc9f2f7",
      "metadata": {},
      "outputs": [],
      "source": [
        "df.describe(include=\"category\")"
      ]
    },
    {
      "cell_type": "markdown",
      "id": "825ac329-a31a-4b90-a6d2-e56a37d6ce37",
      "metadata": {},
      "outputs": [],
      "source": [
        "## **Value Counts**\n"
      ]
    },
    {
      "cell_type": "markdown",
      "id": "ceaa6a0f-8bb3-4eb3-930b-5aebf93f6bae",
      "metadata": {},
      "outputs": [],
      "source": [
        "Value counts is a good way of understanding how many units of each characteristic/variable we have. We can apply the `.value_counts()` method on the column **\"ap_cat\"**. Don’t forget the method `.value_counts()` only works on pandas series, not pandas dataframes. As a result, we only include one bracket `df[\"ap_cat\"]`, not two brackets `df[[\"ap_cat\"]]`\n"
      ]
    },
    {
      "cell_type": "code",
      "id": "2d9117f6-814c-4e9c-a28d-132042aa5b4e",
      "metadata": {},
      "outputs": [],
      "source": [
        "df[\"ap_cat\"].value_counts()"
      ]
    },
    {
      "cell_type": "markdown",
      "id": "2aaf45b7-1ac6-4e0a-ae24-20a87a5c6e2b",
      "metadata": {},
      "outputs": [],
      "source": [
        "We can convert the series to a dataframe as follows:\n"
      ]
    },
    {
      "cell_type": "code",
      "id": "83bf0393-cf59-4dee-ba67-cc0ef6c2c7d2",
      "metadata": {},
      "outputs": [],
      "source": [
        "df[\"ap_cat\"].value_counts().to_frame()"
      ]
    },
    {
      "cell_type": "markdown",
      "id": "606bf2ec-29e6-42e7-a847-e4dd6708dc86",
      "metadata": {},
      "outputs": [],
      "source": [
        "Let's repeat the above steps but save the results to the dataframe **\"ap_cat\"** and rename the column **\"ap_cat\"** to `.value_counts()`\n"
      ]
    },
    {
      "cell_type": "code",
      "id": "4bdb60fd-cbe5-4157-9e96-42d7d2f53ef6",
      "metadata": {},
      "outputs": [],
      "source": [
        "ap_counts = df[\"ap_cat\"].value_counts().to_frame()\nap_counts.rename(columns={\"ap_cat\": \"value_counts\"}, inplace=True)\nap_counts"
      ]
    },
    {
      "cell_type": "markdown",
      "id": "753c0f40-2104-475e-b2be-3f34aed66ca1",
      "metadata": {},
      "outputs": [],
      "source": [
        "Now let's rename the index to **\"ap_cat\"**:\n"
      ]
    },
    {
      "cell_type": "code",
      "id": "87a4fa75-5536-4210-a371-47e7ba11a6f8",
      "metadata": {},
      "outputs": [],
      "source": [
        "ap_counts.index.name = \"ap_cat\"\nap_counts"
      ]
    },
    {
      "cell_type": "markdown",
      "id": "fe77aeee-613b-464b-a667-14362964e66f",
      "metadata": {},
      "outputs": [],
      "source": [
        "We can repeat the above process for the variable **\"AD_cat\"**.\n"
      ]
    },
    {
      "cell_type": "code",
      "id": "ece6e843-7734-4db4-9f21-06a446839182",
      "metadata": {},
      "outputs": [],
      "source": [
        "# AD_cat as variable\nad_cat = df[\"AD_cat\"].value_counts().to_frame()\nad_cat.rename(columns={\"AD_cat\": \"value_counts\"}, inplace=True)\nad_cat.index.name = \"AD_cat\"\nad_cat.head(10)"
      ]
    },
    {
      "cell_type": "markdown",
      "id": "b0ae2be4-c233-4b89-a6fb-c2176fc17c34",
      "metadata": {},
      "outputs": [],
      "source": [
        "# **4. Basics of Grouping**"
      ]
    },
    {
      "cell_type": "markdown",
      "id": "34c288ed-f762-41ae-aa29-f50daf0d06dc",
      "metadata": {},
      "outputs": [],
      "source": [
        "The `groupby()` method groups data by different categories. The data is grouped based on one or several variables, and analysis is performed on the individual groups\n\nFor example, let's group by the variable **\"ap_cat\"**. We see that there are 5 different categories\n"
      ]
    },
    {
      "cell_type": "code",
      "id": "4ec61c58-e66a-4eab-8207-064f985cacca",
      "metadata": {},
      "outputs": [],
      "source": [
        "df[\"ap_cat\"].unique()"
      ]
    },
    {
      "cell_type": "markdown",
      "id": "baa56d1f-d9ec-4b00-8235-c411894d4d51",
      "metadata": {},
      "outputs": [],
      "source": [
        "If we want to know, on average, which type of **\"ap_cat\"** is most valuable, we can group **\"ap_cat\"** and then average them.\n\nWe can select the columns **\"ap_cat\"** and **\"Avg_price\"**, then assign it to the variable `df_group_one`\n"
      ]
    },
    {
      "cell_type": "code",
      "id": "d72d5cea-6d35-410b-850d-894c0fe51ada",
      "metadata": {},
      "outputs": [],
      "source": [
        "df_group_one = df[[\"ap_cat\", \"Avg_price\"]]"
      ]
    },
    {
      "cell_type": "markdown",
      "id": "ab69f00d-c4f5-41f4-aee6-ffd19e481919",
      "metadata": {},
      "outputs": [],
      "source": [
        "We can then calculate the average price for each of the different categories of data\n"
      ]
    },
    {
      "cell_type": "code",
      "id": "f554a21d-a8bd-4a2f-9ede-2ecef97ecc5d",
      "metadata": {},
      "outputs": [],
      "source": [
        "# grouping results\ndf_group_one = df_group_one.groupby([\"ap_cat\"] ,as_index=False).mean()\ndf_group_one"
      ]
    },
    {
      "cell_type": "markdown",
      "id": "7ad88bae-db85-4622-b565-4b73a25caa29",
      "metadata": {},
      "outputs": [],
      "source": [
        "Obviously, High category is, on average, the most expensive\n\nYou can also group by multiple variables. For example, let's group by both **\"ap_cat\"** and **\"AD_cat\"**. This groups the dataframe by the unique combination of **\"ap_cat\"** and **\"AD_cat\"**. We can store the results in the variable `grouped_test1`\n"
      ]
    },
    {
      "cell_type": "code",
      "id": "3836da36-f4d9-45b0-95d8-9f8f67beb1c4",
      "metadata": {},
      "outputs": [],
      "source": [
        "# grouping results\ndf_gptest = df[[\"ap_cat\", \"AD_cat\", \"Avg_price\"]]\ngrouped_test1 = df_gptest.groupby([\"ap_cat\", \"AD_cat\"], as_index=False).mean()\ngrouped_test1"
      ]
    },
    {
      "cell_type": "markdown",
      "id": "7c4d54c4-ca56-4b12-b4ff-8c549607335a",
      "metadata": {},
      "outputs": [],
      "source": [
        "This grouped data is much easier to visualize when it is made into a **cross table**. A cross table is a two-way table consisting of columns and rows. It is also known as a pivot table or a multi-dimensional table. Its greatest strength is its ability to structure, summarize and display large amounts of data. Cross tables can also be used to determine whether there is a relation between the row variable and the column variable or not.\n\nIn this case, we will leave the **\"ap_cat\"** variable as the rows of the table, and **\"AD_cat\"** to become the columns of the table:\n"
      ]
    },
    {
      "cell_type": "code",
      "id": "59f1944b-db5f-4039-8a8d-7c609453a523",
      "metadata": {},
      "outputs": [],
      "source": [
        "crossed_table = pd.crosstab(df[\"ap_cat\"], df[\"AD_cat\"])\ncrossed_table"
      ]
    },
    {
      "cell_type": "markdown",
      "id": "3da04b4b-908b-4d67-855e-1755b97bd4a8",
      "metadata": {},
      "outputs": [],
      "source": [
        "<div class=\"alert alert-danger alertdanger\" style=\"margin-top: 20px\">\n<h1><strong>Question 4:</strong></h1>\n\n**Use the `groupby()` function to find the average price of each category based on \"AD_cat\"**\n</div>\n"
      ]
    },
    {
      "cell_type": "code",
      "id": "66976d77-f0b1-420d-8645-e15f0d4fca4e",
      "metadata": {},
      "outputs": [],
      "source": [
        "# Write your code below and press Shift+Enter to execute \n"
      ]
    },
    {
      "cell_type": "markdown",
      "id": "d178b272-7ae9-4a57-8248-89950e30a652",
      "metadata": {},
      "outputs": [],
      "source": [
        "<details><summary>Click here for the solution</summary>\n\n```python\n# grouping results\ndf_gptest2 = df[[\"AD_cat\", \"Avg_price\"]]\ngrouped_test_bodystyle = df_gptest2.groupby([\"AD_cat\"], as_index= False).mean()\ngrouped_test_bodystyle\n\n```\n\n</details>\n"
      ]
    },
    {
      "cell_type": "markdown",
      "id": "29684954-569d-42c3-aa38-084e8273b9e3",
      "metadata": {},
      "outputs": [],
      "source": [
        "Variables: **\"ap_cat\"** vs **\"AD_cat\"**"
      ]
    },
    {
      "cell_type": "markdown",
      "id": "7b741797-99b2-48cf-a420-da255d11d9b9",
      "metadata": {},
      "outputs": [],
      "source": [
        "Let's use a heat map to visualize the relationship between **\"ap_cat\"** vs **\"AD_cat\"**"
      ]
    },
    {
      "cell_type": "code",
      "id": "ac234c83-4e4b-4919-852b-cff0ad0b92b1",
      "metadata": {},
      "outputs": [],
      "source": [
        "# use the grouped results\nplt.pcolor(crossed_table, cmap=\"RdBu\")\nplt.colorbar()\nplt.show()"
      ]
    },
    {
      "cell_type": "markdown",
      "id": "a04b4a21-ef84-4dee-8014-66f461a46caf",
      "metadata": {},
      "outputs": [],
      "source": [
        "The heatmap plots relationship between these 2 variables. The larger the diagonal elements, the more these two variables are dependent.\n\nThe default labels convey no useful information to us. Let's change that:"
      ]
    },
    {
      "cell_type": "code",
      "id": "a0e5fd7f-f7d3-4a58-993f-585ba8d55234",
      "metadata": {},
      "outputs": [],
      "source": [
        "fig, ax = plt.subplots()\nim = ax.pcolor(crossed_table, cmap=\"RdBu\")\n\n# label names\nrow_labels = crossed_table.columns.categories\ncol_labels = crossed_table.index\n\n# move ticks and labels to the center\nax.set_xticks(np.arange(crossed_table.shape[1]) + 0.5, minor=False)\nax.set_yticks(np.arange(crossed_table.shape[0]) + 0.5, minor=False)\n\n# insert labels\nax.set_xticklabels(row_labels, minor=False)\nax.set_yticklabels(col_labels, minor=False)\n\n# rotate label if too long\nplt.xticks(rotation=90)\n\nfig.colorbar(im)\nplt.show()"
      ]
    },
    {
      "cell_type": "markdown",
      "id": "ea0a9d9b-5bf8-4f94-af65-c9685f398f1b",
      "metadata": {},
      "outputs": [],
      "source": [
        "Visualization is very important in data science, and Python visualization packages provide great freedom. We will go more in-depth in a separate Python visualizations course\n\nTo get a better measure of the important characteristics, we look at the correlation of these variables with the price. In other words: how is the **\"Avg_price\"** dependent on other variables?"
      ]
    },
    {
      "cell_type": "markdown",
      "id": "a7e327aa-51ec-472a-80c4-a23d273b9901",
      "metadata": {},
      "outputs": [],
      "source": [
        "# **5. Correlation and Causation**\n"
      ]
    },
    {
      "cell_type": "markdown",
      "id": "66d702fb-c797-4aff-bdfe-8eb368536d59",
      "metadata": {},
      "outputs": [],
      "source": [
        "**Correlation**: a measure of the extent of interdependence between variables.\n\n**Causation**: the relationship between cause and effect between two variables.\n\nIt is important to know the difference between these two. Correlation does not imply causation. Determining correlation is much simpler  the determining causation as causation may require independent experimentation.\n"
      ]
    },
    {
      "cell_type": "markdown",
      "id": "7ded7357-9a8b-45db-82af-752eb5bfbd8c",
      "metadata": {},
      "outputs": [],
      "source": [
        "Correlations are useful because they can indicate a predictive relationship that can be exploited in practice. For example, an electrical utility may produce less power on a mild day based on the **correlation** between electricity demand and weather. In this example, there is a causal relationship, because extreme weather causes people to use more electricity for heating or cooling. However, in general, the presence of a correlation is not sufficient to infer the presence of a causal relationship (i.e., correlation does not imply causation). "
      ]
    },
    {
      "cell_type": "markdown",
      "id": "bc3c040c-532e-48ff-b7af-e2dc5754f13f",
      "metadata": {},
      "outputs": [],
      "source": [
        "## **Pearson Correlation**\n\nThe Pearson Correlation measures the linear dependence between two variables $X$ and $Y$. The Pearson correlation coefficient attempts to establish a line of best fit through a dataset of two variables by essentially laying out the expected values and the resulting Pearson's correlation coefficient indicates how far away the actual dataset is from the expected values. Depending on the sign of our Pearson's correlation coefficient, we can end up with either a negative or positive correlation if there is any sort of relationship between the variables of our data set.</p>\nThe resulting coefficient is a value between -1 and 1 inclusive, where:\n\n* **1**: Perfect positive linear correlation.\n* **0**: No linear correlation, the two variables most likely do not affect each other.\n* **1**: Perfect negative linear correlation."
      ]
    },
    {
      "cell_type": "markdown",
      "id": "49ad2747-0f8a-4626-99bd-3fe5430838ad",
      "metadata": {},
      "outputs": [],
      "source": [
        "The population correlation coefficient $ \\rho_{X,Y}$ between two random variables $X$ and $Y$ with expected values $\\mu _{X}$ and $\\mu _{Y}$ and standard deviations $\\sigma _{X}$ and $\\sigma_Y$ is defined as:\n\n<center><h1>$\\rho_{X,Y} = \\operatorname{corr}(X, Y) = \\frac{\\operatorname{cov}(X,Y)}{\\sigma _{X} \\sigma_Y} = \\frac{\\operatorname{E}[(X \\; - \\; \\mu_{X})(Y \\; - \\; \\mu_{Y})]}{\\sigma _{X} \\sigma_Y}, \\quad \\text{if} \\; \\sigma_{X} \\sigma_Y > 0 $</h1></center>\n\nwhere $\\operatorname{E}$ is the expected value operator, $\\operatorname{cov}$ means covariance, and $\\operatorname {corr}$ is a widely used alternative notation for the correlation coefficient. The Pearson correlation is defined only if both standard deviations are finite and positive. An alternative formula purely in terms of moments is:\n\n<center><h1>$\\rho_{X,Y} = \\frac{\\operatorname{E}(XY) \\; - \\; \\operatorname{E}(X) \\operatorname{E}(Y)}{\\sqrt{\\operatorname{E}(X^{2}) \\; - \\; \\operatorname{E}(X)^2} \\sqrt{\\operatorname{E}(Y^{2}) \\; - \\; \\operatorname{E}(Y)^2}}$</h3></center><br>"
      ]
    },
    {
      "cell_type": "markdown",
      "id": "7aaf6d0d-1a54-4154-a4d5-be4b600c867d",
      "metadata": {},
      "outputs": [],
      "source": [
        "<center><img width=\"700\" src=\"https://cf-courses-data.s3.us.cloud-object-storage.appdomain.cloud/IBMSkillsNetwork-GPXX0CJ2EN/R%20SVG%20Plot.svg\" /></center>\nSeveral sets of $(x, y)$ points, with the Pearson correlation coefficient of $x$ and $y$ for each set. The correlation reflects the noisiness and direction of a linear relationship (top row), but not the slope of that relationship (middle), nor many aspects of nonlinear relationships (bottom). N.B.: the figure in the center has a slope of 0 but in that case, the correlation coefficient is undefined because the variance of $Y$ is zero. <br>"
      ]
    },
    {
      "cell_type": "markdown",
      "id": "b560db77-dab3-4729-9fad-4ae8384ae922",
      "metadata": {},
      "outputs": [],
      "source": [
        "Pearson Correlation is the default method of the function `.corr()`. Like before, we can calculate the Pearson Correlation of the of the `int64` or `float64` variables"
      ]
    },
    {
      "cell_type": "code",
      "id": "18d60c2c-3df0-4324-89ab-8b9c9462cfb4",
      "metadata": {},
      "outputs": [],
      "source": [
        "df.corr()"
      ]
    },
    {
      "cell_type": "markdown",
      "id": "b198c0fe-bf75-402f-b528-2829e1665a7c",
      "metadata": {},
      "outputs": [],
      "source": [
        "Sometimes we would like to know the significant of the correlation estimate.\n"
      ]
    },
    {
      "cell_type": "markdown",
      "id": "42c4ddc6-c8ac-4c2e-99fb-965a69c56eee",
      "metadata": {},
      "outputs": [],
      "source": [
        "## **P-value**\n\n<p>What is this P-value? The P-value is the probability value that the correlation between these two variables is statistically significant. Normally, we choose a significance level of 0.05, which means that we are 95% confident that the correlation between the variables is significant.</p>\n\nBy convention, when the\n\n<ul>\n    <li>p-value is $<$ 0.001: we say there is strong evidence that the correlation is significant.</li>\n    <li>the p-value is $<$ 0.05: there is moderate evidence that the correlation is significant.</li>\n    <li>the p-value is $<$ 0.1: there is weak evidence that the correlation is significant.</li>\n    <li>the p-value is $>$ 0.1: there is no evidence that the correlation is significant.</li>\n</ul>\n"
      ]
    },
    {
      "cell_type": "markdown",
      "id": "1646311c-060e-43c5-8a4a-9a742fa98f96",
      "metadata": {},
      "outputs": [],
      "source": [
        "Let's calculate the  Pearson Correlation Coefficient and P-value of \"Avg_price\" and \"ATR\", \"OBV\", \"RSI\", \"AD\".\n"
      ]
    },
    {
      "cell_type": "code",
      "id": "6f767b89-f180-4fdb-b37b-2a111ab73861",
      "metadata": {},
      "outputs": [],
      "source": [
        "indicators = [\"ATR\", \"OBV\", \"RSI\", \"AD\"] # indicators that we want to calculate PCS and p-value with \"Avg_price\"\n\nperformance = pd.DataFrame({\"pair\": [], \"PCS\": [], \"P-value\": []}) # PCS (Pearson Correlation Coefficient)\n\n# Iterating over all the indicators and calculating needed characteristics\nfor indicator in indicators:\n    pearson_coef, p_value = stats.pearsonr(df[\"Avg_price\"], df[indicator])\n    pair = f\"Avg_price, {indicator}\"\n    performance.loc[len(performance.index)] = [pair, pearson_coef, p_value]\n   \n# Printing results\nperformance.sort_values(by=[\"PCS\"], ascending=False).head()"
      ]
    },
    {
      "cell_type": "markdown",
      "id": "41ab3cd4-c009-4191-919d-c750dcd80390",
      "metadata": {},
      "outputs": [],
      "source": [
        "## **Conclusion:**\n\nSince the p-value for all pairs is $<$ 0.001 we say there is strong evidence that the correlation is significant. Only correlaton of **\"Avg_price\"** and **\"AD\"** is moderate, all others are weak"
      ]
    },
    {
      "cell_type": "markdown",
      "id": "3fd7eaa3-75b5-40dd-97f5-c98d767bbe26",
      "metadata": {},
      "outputs": [],
      "source": [
        "# **6. ANOVA: Analysis of Variance**"
      ]
    },
    {
      "cell_type": "markdown",
      "id": "29662adf-f163-46db-a280-0ecc1f5dc491",
      "metadata": {},
      "outputs": [],
      "source": [
        "The Analysis of Variance  (ANOVA) is a statistical method used to test whether there are significant differences between the means of two or more groups. ANOVA returns two parameters:\n\nANOVA is used in the analysis of comparative experiments, those in which only the difference in outcomes is of interest. The statistical significance of the experiment is determined by a ratio of two variances. This ratio is independent of several possible alterations to the experimental observations: Adding a constant to all observations does not alter significance. Multiplying all observations by a constant does not alter significance. So ANOVA statistical significance result is independent of constant bias and scaling errors as well as the units used in expressing observations. In the era of mechanical calculation it was common to subtract a constant from all observations (when equivalent to dropping leading digits) to simplify data entry. This is an example of data coding.\n\n\n**F-test score**: ANOVA assumes the means of all groups are the same, calculates how much the actual means deviate from the assumption, and reports it as the F-test score. A larger score means there is a larger difference between the means.\n\n**P-value**:  P-value tells how statistically significant our calculated score value is."
      ]
    },
    {
      "cell_type": "markdown",
      "id": "981c26fa-d779-43c2-bc04-efb75f114e5f",
      "metadata": {},
      "outputs": [],
      "source": [
        "<center><h1>$F = \\frac{MST}{MSE}$</h1></center>"
      ]
    },
    {
      "cell_type": "markdown",
      "id": "74442f1b-c627-450a-95ea-b7cdd8e0e218",
      "metadata": {},
      "outputs": [],
      "source": [
        "$\\text{where:}$ <br>\n$F = \\text{F-test score}$<br>\n$MST = \\text{Mean sum of squares due to treatment}$<br>\n$MSE = \\text{Mean sum of squares due to error}$"
      ]
    },
    {
      "cell_type": "markdown",
      "id": "91e26c0e-4532-44bb-a5d1-61c1371773e4",
      "metadata": {},
      "outputs": [],
      "source": [
        "If our price variable is strongly correlated with the variable we are analyzing, we expect ANOVA to return a sizeable F-test score and a small p-value."
      ]
    },
    {
      "cell_type": "markdown",
      "id": "0e4c18f9-bcae-4f8f-bd9e-8ba05fd9ef85",
      "metadata": {},
      "outputs": [],
      "source": [
        "Since ANOVA analyzes the difference between different groups of the same variable, the groupby function will come in handy. Because the ANOVA algorithm averages the data automatically, we do not need to take the average before hand."
      ]
    },
    {
      "cell_type": "code",
      "id": "43279aaf-4c66-4dd3-8826-fe4fb738a3b6",
      "metadata": {},
      "outputs": [],
      "source": [
        "grouped_test2 = df[[\"ap_cat\", \"Avg_price\"]].groupby([\"ap_cat\"])\ngrouped_test2.head()"
      ]
    },
    {
      "cell_type": "markdown",
      "id": "70a26ae8-0c4d-4545-be61-7b9f859cd135",
      "metadata": {},
      "outputs": [],
      "source": [
        "We can obtain the values of the method group using the method `.get_group()`."
      ]
    },
    {
      "cell_type": "code",
      "id": "f4f9e752-e8d8-4786-8ee2-651a357b002c",
      "metadata": {},
      "outputs": [],
      "source": [
        "grouped_test2.get_group(\"Medium\")[\"Avg_price\"]"
      ]
    },
    {
      "cell_type": "markdown",
      "id": "83f7c0d7-da3d-4eaa-8c86-2c9761f03505",
      "metadata": {},
      "outputs": [],
      "source": [
        "We can use the function `stats.f_oneway` in the module `stats` to obtain the **F-test score** and **P-value**.\n"
      ]
    },
    {
      "cell_type": "code",
      "id": "7a8677b4-2944-4aa2-ad3c-cc7e631a3254",
      "metadata": {},
      "outputs": [],
      "source": [
        "# ANOVA\nf_val, p_val = stats.f_oneway(grouped_test2.get_group(\"Low\")[\"Avg_price\"], grouped_test2.get_group(\"Lower Medium\")[\"Avg_price\"], grouped_test2.get_group(\"Medium\")[\"Avg_price\"], grouped_test2.get_group(\"Upper Medium\")[\"Avg_price\"], grouped_test2.get_group(\"High\")[\"Avg_price\"])  \n\nprint(\"ANOVA results: F=%.2f\" % f_val, \", P =\", p_val)"
      ]
    },
    {
      "cell_type": "markdown",
      "id": "81722bc6-22a8-448e-82a2-676cc258c3b6",
      "metadata": {},
      "outputs": [],
      "source": [
        "This is a great result with a large F-test score showing a strong correlation and a P-value of 0 implying almost certain statistical significance. But does this mean all five tested groups are all this highly correlated?\n\nLet's examine them separately.\n"
      ]
    },
    {
      "cell_type": "code",
      "id": "d18bf35e-c29f-4aca-aae9-6a4dedf492c4",
      "metadata": {},
      "outputs": [],
      "source": [
        "performance_anova = pd.DataFrame({\"pair\": [], \"F-test\": [], \"P-value\": []})\n\n# Iterating over all the groups and calculating needed characteristics\nfor comb in itertools.combinations(group_names, 2):\n    f_val, p_val = stats.f_oneway(grouped_test2.get_group(comb[0])[\"Avg_price\"], grouped_test2.get_group(comb[1])[\"Avg_price\"])\n    pair = f\"{comb[0]}, {comb[1]}\"\n    performance_anova.loc[len(performance_anova.index)] = [pair, f_val, p_val]\n   \n# Printing results\nperformance_anova.sort_values(by=[\"F-test\"], ascending=False)"
      ]
    },
    {
      "cell_type": "markdown",
      "id": "e3297bd2-558e-4c21-b1a9-6831b9ba77c8",
      "metadata": {},
      "outputs": [],
      "source": [
        "## **Conclusion:**\n\nEvery pair of group has p-value of 0 what means that our calculated score value is significant. Every pair has high **F-score** but Low, Medium pairs have the highest of 780563.41995"
      ]
    },
    {
      "cell_type": "markdown",
      "id": "01d7256c-b2af-41bd-a9cf-46097d7a14f4",
      "metadata": {},
      "outputs": [],
      "source": [
        "<div class=\"alert alert-danger alertdanger\" style=\"margin-top: 20px\">\n<h1><strong>Question 5:</strong></h1>\n\n**Get ANOVA score using `stats.f_oneway` function between \"Low\" and \"Medium\" groups**\n</div>\n"
      ]
    },
    {
      "cell_type": "code",
      "id": "6e53a805-a55c-4a30-8f20-02252ee1a545",
      "metadata": {},
      "outputs": [],
      "source": [
        "# Write your code below and press Shift+Enter to execute \n"
      ]
    },
    {
      "cell_type": "markdown",
      "id": "93748e93-0180-40a6-b8d9-4ff852755e2c",
      "metadata": {},
      "outputs": [],
      "source": [
        "<details><summary>Click here for the solution</summary>\n\n```python\nf_val, p_val = stats.f_oneway(grouped_test2.get_group(\"Low\")[\"Avg_price\"], grouped_test2.get_group(\"Medium\")[\"Avg_price\"])  \n\nprint(\"ANOVA results: F=%.2f\" % f_val, \", P =\", p_val)\n\n```\n\n</details>\n"
      ]
    },
    {
      "cell_type": "markdown",
      "id": "c2fafe85-b519-47fd-aae1-bb9d2da17e3a",
      "metadata": {},
      "outputs": [],
      "source": [
        "# **7. Durbin-Watson Test**"
      ]
    },
    {
      "cell_type": "markdown",
      "id": "1971ae6b-1ff6-4d21-b97b-325fcda8af64",
      "metadata": {},
      "outputs": [],
      "source": [
        "In regression analysis, Durbin-Watson (DW) is useful for checking the first-order autocorrelation (serial correlation). It analyzes the residuals for independence over time points (autocorrelation). The Durbin-Watson statistic will always have a value ranging between 0 and 4. A value of 2.0 indicates there is no autocorrelation detected in the sample. Values from 0 to less than 2 point to positive autocorrelation and values from 2 to 4 means negative autocorrelation. The closer to 0 the statistic, the more evidence for positive serial correlation. The closer to 4, the more evidence for negative serial correlation.\n\nDurbin-Watson test analyzes the following hypotheses,\n\nNull hypothesis (H<sub>0</sub>): Residuals from the regression are not autocorrelated (autocorrelation coefficient, ρ = 0)\nAlternative hypothesis (H<sub>a</sub>): Residuals from the regression are autocorrelated (autocorrelation coefficient, ρ > 0)\n\nA rule of thumb is that DW test statistic values in the range of 1.5 to 2.5 are relatively normal. Values outside this range could, however, be a cause for concern. The Durbin–Watson statistic, while displayed by many regression analysis programs, is not applicable in certain situations. \n\n<center><h1>$DW = \\frac{\\sum_{t=2}^{T} ((e_{t} \\; - \\; e_{t-1})^{2}) }{ \\sum_{t=1}^{T} e^{2}_{t} }$</h1></center>"
      ]
    },
    {
      "cell_type": "markdown",
      "id": "99aefafe-4c9d-4f28-a12d-0045dfd7d2ee",
      "metadata": {},
      "outputs": [],
      "source": [
        "We will use <code>statsmodels.stats.stattools.durbin_watson</code> for Durbin-Watson Test and <code>sm.OLS</code> to get residuals from `statsmodels` library"
      ]
    },
    {
      "cell_type": "markdown",
      "id": "f3b7756c-2bc7-4ac9-ad13-c29081dc070d",
      "metadata": {},
      "outputs": [],
      "source": [
        "Let's define function that will return durbin-watson score"
      ]
    },
    {
      "cell_type": "code",
      "id": "2885d1ad-be5b-4a7c-b18a-2b426174b395",
      "metadata": {},
      "outputs": [],
      "source": [
        "def dw_test(df: pd.DataFrame, ind_col: str, dep_col) -> float:\n    \"\"\"\n    Does Durbin-Watson test and return result as float\n    \n    Parameters\n    ----------\n    df: pd.DataFrame\n        Pandas dataframe that needs to contain columns `ind_col` and `dep_col`\n    ind_col: str\n        Name of independant currency\n    dep_col: str\n        Name of dependant currency\n    \n    Returns\n    -------\n    score: float\n        Durbin-Watson score which has range of [0, 4]\n    \"\"\"\n    \n    # We want to check on autocorrelation so we suppose that {ind_col} is depandant on {dep_col}\n    X = df[ind_col] # independent\n    y = df[dep_col] # dependent\n    # to get intercept\n    X = sm.add_constant(X)\n    # fit the regression model\n    reg = sm.OLS(y, X).fit()\n    score = dwtest(resids=np.array(reg.resid))\n    return score"
      ]
    },
    {
      "cell_type": "markdown",
      "id": "cede5e61-3fc4-4c30-8b71-80ad65d368be",
      "metadata": {},
      "outputs": [],
      "source": [
        "Let's try this function on **\"Avg_price\"**, **\"AD\"** columns"
      ]
    },
    {
      "cell_type": "code",
      "id": "3e0b50f0-d714-49cd-99f2-d3374e096bf6",
      "metadata": {},
      "outputs": [],
      "source": [
        "# We want to check on autocorrelation so we suppose that \"Avg_price\" is depandant on \"AD\"\ndw_test(df, \"AD\", \"Avg_price\")"
      ]
    },
    {
      "cell_type": "markdown",
      "id": "0118960d-4ed5-4374-8f1d-e17347d1fbc1",
      "metadata": {},
      "outputs": [],
      "source": [
        "## **Conclusion:**\n\nBecause the score is very close to 0 we conclude that there is low positive autocorrelation"
      ]
    },
    {
      "cell_type": "markdown",
      "id": "d00564a9-c546-4b9f-aaae-39d859316e9b",
      "metadata": {},
      "outputs": [],
      "source": [
        "Let's calculate Durbin-Watson for every possible pair"
      ]
    },
    {
      "cell_type": "code",
      "id": "bd6d19e0-a9bb-4d44-a0f3-90aab17e4c05",
      "metadata": {},
      "outputs": [],
      "source": [
        "dw_elements = [\"ATR\", \"OBV\", \"RSI\", \"AD\", \"Avg_price\"]\n\ncols = [f\"{el}_dep\" for el in dw_elements]\nidxs = [f\"{el}_ind\" for el in dw_elements]\n\ndw_df = pd.DataFrame(columns=cols, index=idxs)\n\nfor (curr1, curr2) in itertools.permutations(dw_elements, 2):\n    dw = dw_test(df, curr1, curr2)\n    dw_df.loc[f\"{curr2}_ind\", f\"{curr1}_dep\"] = dw\n    \nnp.fill_diagonal(dw_df.values, \"—\")\n    \ndw_df"
      ]
    },
    {
      "cell_type": "markdown",
      "id": "1b3c2fc1-1f96-4d8b-9ffa-ce7d3bb10ba3",
      "metadata": {},
      "outputs": [],
      "source": [
        "## **Conclusion:**\n\nBecause the scores are very close to 0 we conclude that every pair has positive autocorrelation. However the values are very low that's why autocorrelation is also low."
      ]
    },
    {
      "cell_type": "markdown",
      "id": "9f0f3344-4e09-4b07-9008-db0e1b6ae8f1",
      "metadata": {},
      "outputs": [],
      "source": [
        "<div class=\"alert alert-danger alertdanger\" style=\"margin-top: 20px\">\n<h1><strong>Question 6:</strong></h1>\n\n**Get DW score using `dw_test` function on columns \"ATR\" (ind_col), \"Avg_price\" (dep_col)**\n</div>\n"
      ]
    },
    {
      "cell_type": "code",
      "id": "d2dc49e7-a667-4c07-b986-279c5eae1e9c",
      "metadata": {},
      "outputs": [],
      "source": [
        "# Write your code below and press Shift+Enter to execute \n"
      ]
    },
    {
      "cell_type": "markdown",
      "id": "e322a20c-7a02-49dd-be63-712f97a300d8",
      "metadata": {},
      "outputs": [],
      "source": [
        "<details><summary>Click here for the solution</summary>\n\n```python\ndw_test(df, \"ATR\", \"Avg_price\")\n\n```\n\n</details>\n"
      ]
    },
    {
      "cell_type": "markdown",
      "id": "c764672a-811c-4d75-a8c9-7d702cb86cbd",
      "metadata": {},
      "outputs": [],
      "source": [
        "# **8. Granger Causality Test**"
      ]
    },
    {
      "cell_type": "markdown",
      "id": "0f92b10e-3e28-4f66-bdc5-dc23de866677",
      "metadata": {},
      "outputs": [],
      "source": [
        "Granger Causality test is a statistical test that is used to determine if a given time series and it’s lags is helpful in explaining the value of another series. "
      ]
    },
    {
      "cell_type": "markdown",
      "id": "c9de9d24-d145-4267-9e4a-561dbc0f22d8",
      "metadata": {},
      "outputs": [],
      "source": [
        "The Null hypothesis for grangercausalitytests is that the time series in\nthe second column, $x_2$, does NOT Granger cause the time series in the first\ncolumn, $x_1$. Grange causality means that past values of $x_2$ have a\nstatistically significant effect on the current value of $x_1$, taking past\nvalues of $x_1$ into account as regressors. We reject the null hypothesis\nthat $x_2$ does not Granger cause $x_1$ if the p-values are below a desired size\nof the test."
      ]
    },
    {
      "cell_type": "markdown",
      "id": "a5b5455a-1668-4801-81ef-0518da00a565",
      "metadata": {},
      "outputs": [],
      "source": [
        "**How to interpret the p-values?**\n\nAssuming a significance level of 0.05, if the p-value is lesser than 0.05, then we do NOT reject the null hypothesis that $X$ does NOT granger cause $Y$."
      ]
    },
    {
      "cell_type": "markdown",
      "id": "6310f367-2f54-4114-a94d-3136c4dc3b26",
      "metadata": {},
      "outputs": [],
      "source": [
        "Let's define function that will plot 2 variables into 1 plot"
      ]
    },
    {
      "cell_type": "code",
      "id": "011f84f4-a447-4b1f-9f69-4f6dd7648d3d",
      "metadata": {},
      "outputs": [],
      "source": [
        "def plot_two_variables(df: pd.DataFrame, col1: str, col2: str) -> None:\n    \"\"\"\n    Plots `col1` and `col2` currencies into a single plot with adjusted axes\n    \n    Parameters\n    ----------\n    df: pd.DataFrame\n        Pandas dataframe that needs to contain columns `col1` and `col2`\n    col1: str\n        Name of first currency to plot\n    col2: str\n        Name of second currency to plot\n    \"\"\"\n    \n    df_to_test = df[[col1, col2]]\n    x = df[\"Ts\"]\n    y1 = df_to_test[col1]\n    y2 = df_to_test[col2]\n\n    # Plot Line1 (Left Y Axis)\n    fig, ax1 = plt.subplots(1,1,figsize=(16,9), dpi= 80)\n    ax1.plot(x, y1, color=\"tab:red\")\n\n    # Plot Line2 (Right Y Axis)\n    ax2 = ax1.twinx()  # instantiate a second axes that shares the same x-axis\n    ax2.plot(x, y2, color=\"tab:blue\")\n\n    # Decorations\n    # ax1 (left Y axis)\n    ax1.set_xlabel(\"Time\", fontsize=20)\n    ax1.tick_params(axis=\"x\", rotation=0, labelsize=12)\n    ax1.set_ylabel(col1, color=\"tab:red\", fontsize=20)\n    ax1.tick_params(axis=\"y\", rotation=0, labelcolor=\"tab:red\")\n    ax1.grid(alpha=.4)\n\n    # ax2 (right Y axis)\n    ax2.set_ylabel(col2, color=\"tab:blue\", fontsize=20)\n    ax2.tick_params(axis=\"y\", labelcolor=\"tab:blue\")\n    # ax2.set_xticklabels(x[::60], rotation=90, fontdict={\"fontsize\":10})\n    ax2.set_title(\"Visualizing Leading Indicator Phenomenon\", fontsize=22)\n    plt.show()"
      ]
    },
    {
      "cell_type": "code",
      "id": "255399a8-4385-461d-9fed-ce4c7c6a0bc2",
      "metadata": {},
      "outputs": [],
      "source": [
        "plot_two_variables(df, \"Avg_price\", \"OBV\")"
      ]
    },
    {
      "cell_type": "markdown",
      "id": "2f00bcb0-983f-4fff-9313-2fc86e6d2563",
      "metadata": {},
      "outputs": [],
      "source": [
        "We will use `grangercausalitytests` for Granger Causality Test from `statsmodels` library"
      ]
    },
    {
      "cell_type": "markdown",
      "id": "60fdc4a8-a258-4f35-a337-68ede50092c7",
      "metadata": {},
      "outputs": [],
      "source": [
        "Now let's define custom function which will do Granger Causality Test and return result as `pd.DataFrame`"
      ]
    },
    {
      "cell_type": "code",
      "id": "3b885e8e-a79a-496c-8092-1638f0ddbb3c",
      "metadata": {},
      "outputs": [],
      "source": [
        "def grangers_causation_matrix(data: pd.DataFrame, maxlag: int, variables: list, test: str =\"ssr_chi2test\", verbose: bool = False):    \n    \"\"\"\n    Check Granger Causality of all possible combinations of the Time series.\n    The rows are the response variable, columns are predictors. The values in the table \n    are the P-Values. P-Values lesser than the significance level (0.05), implies \n    the Null Hypothesis that the coefficients of the corresponding past values is \n    zero, that is, the X does not cause Y can be rejected.\n\n    Parameters\n    ----------\n    data: pd.DataFrame\n        pandas dataframe containing the time series variables\n    maxlag: int\n        Number of lags\n    variables: \n        list containing names of the time series variables\n    test: str\n        Name of test\n    verbose: bool\n        If verbose = True we print in detail\n    \"\"\"\n    df = pd.DataFrame(np.zeros((len(variables), len(variables))), columns=variables, index=variables)\n    for c in df.columns:\n        for r in df.index:\n            test_result = grangercausalitytests(data[[r, c]], maxlag=maxlag, verbose=False)\n            p_values = [round(test_result[i+1][0][test][1],4) for i in range(maxlag)]\n            if verbose: print(f\"Y = {r}, X = {c}, P Values = {p_values}\")\n            min_p_value = np.min(p_values)\n            df.loc[r, c] = min_p_value\n    df.columns = [var + \"_x\" for var in variables]\n    df.index = [var + \"_y\" for var in variables]\n    return df"
      ]
    },
    {
      "cell_type": "code",
      "id": "08790b2d-f1e3-46c4-a861-c2dd453192f3",
      "metadata": {},
      "outputs": [],
      "source": [
        "cols_to_test = [\"Avg_price\", \"OBV\"]\ngrangers_causation_matrix(df[cols_to_test], 1, variables=cols_to_test)"
      ]
    },
    {
      "cell_type": "markdown",
      "id": "e14a9e44-7ecc-4466-9789-e138d4093c0c",
      "metadata": {},
      "outputs": [],
      "source": [
        "## **Conclusion:**\n\nWe can see that 0.2516 $>$ 0.05 and 0.3861 $>$ 0.05 so we conclude that **\"OBV\"** does not granger-cause **\"Avg_price\"** and **\"Avg_price\"** does not granger-cause **\"OBV\"**"
      ]
    },
    {
      "cell_type": "markdown",
      "id": "993a231a-47cc-4683-a770-5c80f1c71685",
      "metadata": {},
      "outputs": [],
      "source": [
        "Let's calculate Granger Causality Test for all possible pairs"
      ]
    },
    {
      "cell_type": "code",
      "id": "28c80bd4-69df-42dc-ab80-d82b388b09ec",
      "metadata": {},
      "outputs": [],
      "source": [
        "cols = [f\"{el}_x\" for el in dw_elements]\nidxs = [f\"{el}_y\" for el in dw_elements]\n\ngc_df = pd.DataFrame(columns=cols, index=idxs)\n\nfor (curr1, curr2) in itertools.combinations(dw_elements, 2):\n    df_to_test_2 = df[[curr1, curr2]]\n    res_df = grangers_causation_matrix(df_to_test_2, 1, variables=df_to_test_2.columns)\n    p1 = res_df[f\"{curr1}_x\"][f\"{curr2}_y\"]\n    p2 = res_df[f\"{curr2}_x\"][f\"{curr1}_y\"]\n    gc_df.loc[f\"{curr1}_y\", f\"{curr2}_x\"] = p1\n    gc_df.loc[f\"{curr2}_y\", f\"{curr1}_x\"] = p2\n    \nnp.fill_diagonal(gc_df.values, \"—\")\n    \ngc_df"
      ]
    },
    {
      "cell_type": "markdown",
      "id": "79aa1d32-8d84-4dce-90df-612cc914d539",
      "metadata": {},
      "outputs": [],
      "source": [
        "## **Conclusion:**\n\n**\"ATR\"** granger-causes **\"OBV\"**, **\"RSI\"**, **\"AD\"**. **\"Avg_price\"**. **\"OBV\"** granger-causes **\"ATR\"**, **\"RSI\"**, **\"AD\"** granger-causes **\"ATR\"**, **\"OBV\"**. **\"Avg_price\"** granger-causes \"**RSI\"**"
      ]
    },
    {
      "cell_type": "markdown",
      "id": "54d4c34f-d2b4-4f51-a29f-336ce0306a67",
      "metadata": {},
      "outputs": [],
      "source": [
        "<div class=\"alert alert-danger alertdanger\" style=\"margin-top: 20px\">\n<h1><strong>Question 7 a):</strong></h1>\n\n**Plot \"ATR\" and \"Avg_price\" using function `plot_two_variables`**\n</div>\n"
      ]
    },
    {
      "cell_type": "code",
      "id": "958e22d9-b47a-470d-a9ad-fe2c38a11654",
      "metadata": {},
      "outputs": [],
      "source": [
        "# Write your code below and press Shift+Enter to execute \n"
      ]
    },
    {
      "cell_type": "markdown",
      "id": "ad7237cb-4d40-48bf-a542-6b546fb3f0d2",
      "metadata": {},
      "outputs": [],
      "source": [
        "<details><summary>Click here for the solution</summary>\n\n```python\nplot_two_variables(df, \"Avg_price\", \"ATR\")\n\n```\n\n</details>\n"
      ]
    },
    {
      "cell_type": "markdown",
      "id": "fd0be968-5d13-4bad-9f00-1c8d29b2a6d2",
      "metadata": {},
      "outputs": [],
      "source": [
        "<div class=\"alert alert-danger alertdanger\" style=\"margin-top: 20px\">\n<h1><strong>Question 7 b):</strong></h1>\n\n**Run Granger Causality Test on \"Avg_price\" and \"OBV\" columns with `maxlag=1`**\n</div>\n"
      ]
    },
    {
      "cell_type": "code",
      "id": "763b592d-389b-49a1-a9a2-1a2c9ade1c5f",
      "metadata": {},
      "outputs": [],
      "source": [
        "# Write your code below and press Shift+Enter to execute \n"
      ]
    },
    {
      "cell_type": "markdown",
      "id": "9502c52d-022e-45df-9ef9-1308d4e00822",
      "metadata": {},
      "outputs": [],
      "source": [
        "<details><summary>Click here for the solution</summary>\n\n```python\ncols_to_test = [\"Avg_price\", \"ATR\"]\ngrangers_causation_matrix(df[cols_to_test], 1, variables=cols_to_test)\n\n```\n\n</details>\n"
      ]
    },
    {
      "cell_type": "markdown",
      "id": "02c49c55-34b2-483e-8d4f-7cd6d9ccd9c8",
      "metadata": {},
      "outputs": [],
      "source": [
        "Let's save our dataset that will be needed for the next lab"
      ]
    },
    {
      "cell_type": "code",
      "id": "89a17d30-6fab-4d46-b923-d69d396c126b",
      "metadata": {},
      "outputs": [],
      "source": [
        "df.to_csv(\"MATICBUSD_trades_lab3.csv\", index=False)"
      ]
    },
    {
      "cell_type": "markdown",
      "id": "467e8986-3bae-43cb-8f94-f0dd0bd307f2",
      "metadata": {},
      "outputs": [],
      "source": [
        "# **Conclusion:**"
      ]
    },
    {
      "cell_type": "markdown",
      "id": "70344d61-337b-489c-a440-866ac7f7dc3a",
      "metadata": {},
      "outputs": [],
      "source": [
        "## **Correlation**"
      ]
    },
    {
      "cell_type": "markdown",
      "id": "62b5b660-c1b4-41dc-b163-be750749432f",
      "metadata": {},
      "outputs": [],
      "source": [
        "We now have a better idea of what our data looks like and which indicators are more related to **MATIC/BUSD**.\n\nThe most related indicators:\n\n* **\"ATR\"**\n* **\"AD\"**"
      ]
    },
    {
      "cell_type": "markdown",
      "id": "b3356ad5-21f1-4340-83d7-cb4c8ac3f366",
      "metadata": {},
      "outputs": [],
      "source": [
        "## **Durbin-Watson Test**"
      ]
    },
    {
      "cell_type": "markdown",
      "id": "395b98e9-e811-4e0c-9358-fb359b2ec54b",
      "metadata": {},
      "outputs": [],
      "source": [
        "**\"Avg_price\"** has high serial correlation (when it's dependant on) **\"OBV\"**, **\"AD\"**."
      ]
    },
    {
      "cell_type": "markdown",
      "id": "b8b677f7-fe3b-4090-837d-70bbeadb7f85",
      "metadata": {},
      "outputs": [],
      "source": [
        "## **Granger Causality Test**"
      ]
    },
    {
      "cell_type": "markdown",
      "id": "4ea64ee2-aae7-4e60-9cf8-689d2c608824",
      "metadata": {},
      "outputs": [],
      "source": [
        "**\"ATR\"** granger-causes **\"OBV\"**, **\"RSI\"**, **\"AD\"**. **\"Avg_price\"**. **\"OBV\"** granger-causes **\"ATR\"**, **\"RSI\"**, **\"AD\"** granger-causes **\"ATR\"**, **\"OBV\"**. **\"Avg_price\"** granger-causes **\"RSI\"**.\n\nWe can conclude that all 4 indicators will be usefull in predicting **\"Avg_price\"**\n\nAs we now move into building machine learning models to automate our analysis, feeding the model with variables that meaningfully affect our target variable will improve our model's prediction performance.\n"
      ]
    },
    {
      "cell_type": "markdown",
      "id": "da1a459a-34af-4c6f-8d5e-626b58107c75",
      "metadata": {},
      "outputs": [],
      "source": [
        "# **9. Sources**:\n\n<ul>\n    <li><a href=\"https://en.wikipedia.org/wiki/Correlation\" target=\"_blank\">https://en.wikipedia.org/wiki/Correlation</a></li>\n    <li><a href=\"https://www.investopedia.com/terms/a/anova.asp\" target=\"_blank\">https://www.investopedia.com/terms/a/anova.asp</a></li>\n    <li><a href=\"https://www.statsmodels.org/dev/generated/statsmodels.stats.stattools.durbin_watson.html\" target=\"_blank\">https://www.statsmodels.org/dev/generated/statsmodels.stats.stattools.durbin_watson.html</a></li>\n    <li><a href=\"https://www.investopedia.com/terms/d/durbin-watson-statistic.asp\" target=\"_blank\">https://www.investopedia.com/terms/d/durbin-watson-statistic.asp</a></li>\n    <li><a href=\"https://en.wikipedia.org/wiki/Granger_causality\" target=\"_blank\">https://en.wikipedia.org/wiki/Granger_causality</a></li>\n</ul>"
      ]
    },
    {
      "cell_type": "markdown",
      "id": "dba77f69-36d4-4835-930d-a6c72f10cfe3",
      "metadata": {},
      "outputs": [],
      "source": [
        "# **Thank you for completing this lab!**\n\n## Author\n\n<a href=\"https://author.skills.network/instructors/borys_melnychuk\" target=\"_blank\" >Borys Melnychuk</a>\n\n<a href=\"https://author.skills.network/instructors/yaroslav_vyklyuk_2?utm_medium=Exinfluencer&utm_source=Exinfluencer&utm_content=000026UJ&utm_term=10006555&utm_id=NA-SkillsNetwork-Channel-SkillsNetworkGuidedProjectsIBMSkillsNetworkGPXX0QGDEN2306-2023-01-01\">Prof. Yaroslav Vyklyuk, DrSc, PhD</a>\n\n<a href=\"https://author.skills.network/instructors/mariya_fleychuk?utm_medium=Exinfluencer&utm_source=Exinfluencer&utm_content=000026UJ&utm_term=10006555&utm_id=NA-SkillsNetwork-Channel-SkillsNetworkGuidedProjectsIBMSkillsNetworkGPXX0QGDEN2306-2023-01-01\">Prof. Mariya Fleychuk, DrSc, PhD</a>\n\n\n\n## Change Log\n\n| Date (YYYY-MM-DD) | Version | Changed By      | Change Description                                         |\n| ----------------- | ------- | ----------------| ---------------------------------------------------------- |\n|     2023-03-11    |   1.0   | Borys Melnychuk | Creation of the lab                                        |\n\n<hr>\n\n## <h3 align=\"center\"> © IBM Corporation 2023. All rights reserved. </h3>\n"
      ]
    }
  ],
  "metadata": {
    "language_info": {
      "name": ""
    },
    "kernelspec": {
      "name": "",
      "display_name": ""
    }
  },
  "nbformat": 4,
  "nbformat_minor": 4
}
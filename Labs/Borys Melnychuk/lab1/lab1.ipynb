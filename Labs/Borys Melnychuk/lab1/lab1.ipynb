{
  "cells": [
    {
      "cell_type": "markdown",
      "id": "88b663a8-ef1e-4481-8dc6-d43b3c7c3276",
      "metadata": {},
      "outputs": [],
      "source": [
        "<center>\n    <img src=\"https://cf-courses-data.s3.us.cloud-object-storage.appdomain.cloud/assets/logos/SN_web_lightmode.png\" width=\"500\" alt=\"cognitiveclass.ai logo\">\n</center>\n\n# **Investigation of cryptocurrency exchange rate dynamic (on the example of cryptocurrency pair MATIC/BUSD), сalculation and analysis of technical financial indicators, characterizing the cryptocurrency market (on the example of ATR, OBV, RSI, AD)**\n\n## **Lab 1. Dataset creation**\n\nEstimated time needed: **30** minutes\n\n## **The tasks**\n\n* Download and process statistical time series of  cryptocurrency pair MATIC/BUSD, describing the dynamics of the cryptocurrency market; \n* Upload statistical data (framework) from the Pandas library;\n* Calculate and analyze technical financial indicators for cryptocurrecny indicators analysis (ATR, OBV, RSI, AD);\n\n## **Objectives**\n\n#### After completing this lab you will be able to:\n\n* Acquire data in various ways;\n* Obtain insights from data with Pandas library;\n* Calculate the financial and technical indicators \n\n\n## **Table of Contents**\n\n<div class=\"alert alert-block alert-info\" style=\"margin-top: 20px\">\n    <ol>\n        <li>Data Acquisition</li>\n            <ul>\n                <li>Read data</li>\n                <li>Renaming of columns</li>\n            </ul>\n        <li>Calculation of financial and technical indicators</li>\n             <ul>\n                <li>Average True Range (ATR)</li>\n                <li>On-Balance Volume (OBV)</li>\n                <li>Relative Strength Index (RSI)</li>\n                <li>Chaikin A/D Line (AD)</li>\n            </ul>\n        <li>Basic Insight of Dataset</li>\n         <ul>\n            <li>Data types</li>\n            <li>Describe</li>\n            <li>Info</li>\n            <li>Save Dataset</li>\n            <li>Read / Save Other Data Formats</li>\n        </ul>\n        <li>Sources</li>\n    </ol>\n</div>\n<hr>\n"
      ]
    },
    {
      "cell_type": "markdown",
      "id": "be2236c8-1699-41ce-baf0-bd0f08a16ef7",
      "metadata": {},
      "outputs": [],
      "source": [
        "## **Dataset Description**\n\n### **Files**\n* #### **MATICBUSD_trades_1m.csv** - the file contains historical changes of the pair **MATIC/BUSD** for the period from 11/11/2022 to 12/29/2022 with an aggregation time of 1 minute\n\n### **Columns**\n\n* #### `ts` - the timestamp of the record\n* #### `open` -  the price of the asset at the beginning of the trading period\n* #### `high` -  the highest price of the asset during the trading period\n* #### `low` - the lowest price of the asset during the trading period.\n* #### `close` - the price of the asset at the end of the trading period\n* #### `volume` - the total number of shares or contracts of a particular asset that are traded during a given period\n* #### `rec_count` -  the number of individual trades or transactions that have been executed during a given time period\n* #### `avg_price` - the average price at which a particular asset has been bought or sold during a given period"
      ]
    },
    {
      "cell_type": "markdown",
      "id": "7c33da85-a2a6-4a7d-b250-ff0abcf0a239",
      "metadata": {},
      "outputs": [],
      "source": [
        "# **1. Data Acquisition**\n\nThere are various formats for a dataset: .csv, .json, .xlsx  etc. The dataset can be stored in different places, on your local machine or sometimes online.<br>\n\nIn this section, you will learn how to load a dataset into our Jupyter Notebook.<br> \n      \nIn our case, the MATIC/BUSD Dataset is an online source, and it is in a CSV (comma separated value) format. Let's use this dataset as an example to practice data reading.\n\n<ul>\n    <li>Data source: <a href=\"https://cf-courses-data.s3.us.cloud-object-storage.appdomain.cloud/IBMSkillsNetwork-GPXX030WEN/MATICBUSD_trades_1m.csv\" target=\"_blank\">https://cf-courses-data.s3.us.cloud-object-storage.appdomain.cloud/IBMSkillsNetwork-GPXX030WEN/MATICBUSD_trades_1m.csv</a></li>\n    <li>Data type: csv</li>\n</ul>\n\nThe Pandas Library is a useful tool that enables us to read various datasets into a dataframe; our Jupyter notebook platforms have a built-in <b>Pandas Library</b> so that all we need to do is import Pandas without installing.\n"
      ]
    },
    {
      "cell_type": "markdown",
      "id": "2d5bc25b-5ecc-4867-926f-e9b1bc06cdc0",
      "metadata": {},
      "outputs": [],
      "source": [
        "Run the following cell to install required libraries:"
      ]
    },
    {
      "cell_type": "code",
      "id": "0fc2a00b-6227-480b-ae49-316aa3ed4c11",
      "metadata": {},
      "outputs": [],
      "source": [
        "# install specific version of libraries used in lab\n# ! conda install pandas -y\n# ! conda install numpy -y\n! conda install -c conda-forge ta-lib -y\n# ! conda install -c conda-forge matplotlib -y"
      ]
    },
    {
      "cell_type": "code",
      "id": "b9c11e15-a5dc-4164-af3e-7e1961730485",
      "metadata": {},
      "outputs": [],
      "source": [
        "# import libraries\nimport pandas as pd\nimport numpy as np\nimport matplotlib.pyplot as plt\nimport talib"
      ]
    },
    {
      "cell_type": "markdown",
      "id": "d641460d-ca44-4d59-9356-8897cc5e4641",
      "metadata": {},
      "outputs": [],
      "source": [
        "## **Read Data**\n\nWe use `pandas.read_csv()` function to read the csv file. In the brackets, we put the file path along with a quotation mark so that pandas will read the file into a dataframe from that address. The file path can be either an URL or your local file address.<br>\n\nYou can also assign the dataset to any variable you create."
      ]
    },
    {
      "cell_type": "code",
      "id": "5101858a-d29e-40e4-a4f7-3cf39de01087",
      "metadata": {},
      "outputs": [],
      "source": [
        "path = \"https://cf-courses-data.s3.us.cloud-object-storage.appdomain.cloud/IBMSkillsNetwork-GPXX030WEN/MATICBUSD_trades_1m.csv\""
      ]
    },
    {
      "cell_type": "markdown",
      "id": "4a030d53-4446-47c7-a830-074129be83a5",
      "metadata": {},
      "outputs": [],
      "source": [
        "This dataset was hosted <a href=\"https://cf-courses-data.s3.us.cloud-object-storage.appdomain.cloud/IBMSkillsNetwork-GPXX030WEN/MATICBUSD_trades_1m.csv\">HERE</a>"
      ]
    },
    {
      "cell_type": "code",
      "id": "33ae0db8-bf85-4f56-81b3-87700442a787",
      "metadata": {},
      "outputs": [],
      "source": [
        "# Read the file and assign it to variable \"df\"\ndf = pd.read_csv(path, index_col=0)"
      ]
    },
    {
      "cell_type": "markdown",
      "id": "396a5c1e-9b13-406d-aea5-cab793af3a98",
      "metadata": {},
      "outputs": [],
      "source": [
        "After reading the dataset, we can use the `dataframe.head(n)` method to check the top n rows of the dataframe, where n is an integer. Contrary to `dataframe.head(n)`, `dataframe.tail(n)` will show you the bottom n rows of the dataframe.\n"
      ]
    },
    {
      "cell_type": "code",
      "id": "41ccb103-a296-449e-a455-5877c2dbfc00",
      "metadata": {},
      "outputs": [],
      "source": [
        "# show the first 5 rows using dataframe.head() method\nprint(\"The first 5 rows of the dataframe\")\ndf.head(5)"
      ]
    },
    {
      "cell_type": "markdown",
      "id": "3c8783a8-4db3-4bbf-b607-595eb5062b0c",
      "metadata": {},
      "outputs": [],
      "source": [
        "<div class=\"alert alert-danger alertdanger\" style=\"margin-top: 20px\">\n<h1><strong>Question #1:</strong></h1>\n    \n<p><strong>Check the bottom 10 rows of data frame <code>df</code></strong></p>\n\n</div>\n"
      ]
    },
    {
      "cell_type": "code",
      "id": "2f2bbf26-6c9a-492c-9e0b-453c7404826d",
      "metadata": {},
      "outputs": [],
      "source": [
        "# Write your code below and press Shift+Enter to execute \n"
      ]
    },
    {
      "cell_type": "markdown",
      "id": "097a99ae-029b-468b-96d5-25f6fa9907a5",
      "metadata": {},
      "outputs": [],
      "source": [
        "<details><summary>Click here for the solution</summary>\n\n```python\nprint(\"The last 10 rows of the dataframe\\n\")\ndf.tail(10)\n```\n"
      ]
    },
    {
      "cell_type": "markdown",
      "id": "45be9f26-61b2-4245-ace7-a00fdddb1205",
      "metadata": {},
      "outputs": [],
      "source": [
        "## **Renaming of columns**\n\nThe columns are stored in `df.columns`\n\nLet's capitalize every first letter"
      ]
    },
    {
      "cell_type": "code",
      "id": "78cfdc8a-f51d-4360-be4f-938e41e91ae7",
      "metadata": {},
      "outputs": [],
      "source": [
        "# create headers list\ncolumns = list(df.columns)\ncolumns = [col.capitalize() for col in columns]\nprint(\"Columns\", columns, sep=\"\\n\")"
      ]
    },
    {
      "cell_type": "markdown",
      "id": "08c31140-fb91-433f-b945-5d72c2caaf8d",
      "metadata": {},
      "outputs": [],
      "source": [
        "We replace headers and recheck our dataframe:\n"
      ]
    },
    {
      "cell_type": "code",
      "id": "a5695ca1-f729-4fe6-8c3d-d4902e087053",
      "metadata": {},
      "outputs": [],
      "source": [
        "df.columns = columns\ndf.head(10)"
      ]
    },
    {
      "cell_type": "markdown",
      "id": "48d80393-0a6f-4854-8f0f-72d632a4314e",
      "metadata": {},
      "outputs": [],
      "source": [
        "Also we need to change type of \"**Ts**\" column to datetime and set as index"
      ]
    },
    {
      "cell_type": "code",
      "id": "7b395c00-5d81-405d-ba28-3c8e2ca49d1f",
      "metadata": {},
      "outputs": [],
      "source": [
        "df[\"Ts\"] = pd.to_datetime(df[\"Ts\"])\ndf = df.set_index(\"Ts\")\ndf"
      ]
    },
    {
      "cell_type": "markdown",
      "id": "bda82ac6-522f-440f-99f9-fc9c03b7a435",
      "metadata": {},
      "outputs": [],
      "source": [
        "<!-- We need to replace the \"?\" symbol with NaN so the dropna() can remove the missing values:\n -->"
      ]
    },
    {
      "cell_type": "markdown",
      "id": "b53a0145-a539-4af7-84fd-c232e217faba",
      "metadata": {},
      "outputs": [],
      "source": [
        "# **2. Calculation of financial and technical indicators**"
      ]
    },
    {
      "cell_type": "markdown",
      "id": "7ac91282-7b22-4c23-b81e-ef678ad00b74",
      "metadata": {},
      "outputs": [],
      "source": [
        "Now, we have successfully read the raw dataset and modified columns.\nLet's set precision\n"
      ]
    },
    {
      "cell_type": "code",
      "id": "dcad9184-cfc6-42a5-a15c-e803aefaa1a0",
      "metadata": {},
      "outputs": [],
      "source": [
        "pd.set_option(\"display.precision\", 4)\npd.options.display.float_format = '{:.4f}'.format"
      ]
    },
    {
      "cell_type": "markdown",
      "id": "34c0c811-34c4-4fcb-a7dc-b176af6114b1",
      "metadata": {},
      "outputs": [],
      "source": [
        "Let's define function which will plot price of cryptocurrency and indicator"
      ]
    },
    {
      "cell_type": "code",
      "id": "17203df0-795e-4358-aa03-7c053a7dcbd4",
      "metadata": {},
      "outputs": [],
      "source": [
        "def plot_indicator(price: str, indicator: str) -> None:\n    \"\"\"\n    Plots `price` and `indicator` together on one chart\n    \n    Parameters\n    ----------\n    price: str\n        The price to plot\n    indicator: str\n        The indicator to plot\n    \"\"\"\n    fig, ax1 = plt.subplots()\n\n    color = \"tab:red\"\n    ax1.set_xlabel(\"Time\")\n    ax1.set_ylabel(indicator, color=color)\n    f1 = ax1.plot(df.index, df[indicator], color=color)\n    ax1.tick_params(axis=\"y\", labelcolor=color)\n    plt.xticks(rotation=45)\n\n    ax2 = ax1.twinx()  # instantiate a second axes that shares the same x-axis\n\n    color = \"tab:blue\"\n    ax2.set_ylabel(price, color=color)  # we already handled the x-label with ax1\n    f2 = ax2.plot(df.index, df[price], color=color)\n    ax2.tick_params(axis=\"y\", labelcolor=color)\n    \n    figs = f1 + f2\n    labels = [indicator, price]\n    plt.legend(figs, labels)\n    fig.tight_layout()  # otherwise the right y-label is slightly clipped\n    plt.show()"
      ]
    },
    {
      "cell_type": "markdown",
      "id": "8cb18652-e044-4b1e-82fa-3e9662cc2ad8",
      "metadata": {},
      "outputs": [],
      "source": [
        "We want to calculate some technical indicators. Link to information below <a href=\"https://www.investopedia.com/\" target=\"_blank\"><b>LINK</b></a>"
      ]
    },
    {
      "cell_type": "markdown",
      "id": "42610ac2-9ea3-4330-9e95-6354ba649c54",
      "metadata": {},
      "outputs": [],
      "source": [
        "## **Average True Range (ATR)**"
      ]
    },
    {
      "cell_type": "markdown",
      "id": "1c51f9cf-97ea-4f85-abab-c79ae1585106",
      "metadata": {},
      "outputs": [],
      "source": [
        "The average true range (ATR) is a technical analysis indicator introduced by market technician J. Welles Wilder Jr. in his book New Concepts in Technical Trading Systems that measures market volatility by decomposing the entire range of an asset price for that period."
      ]
    },
    {
      "cell_type": "markdown",
      "id": "42023893-b5c4-41f6-ab77-0c74fdf59e3b",
      "metadata": {},
      "outputs": [],
      "source": [
        "### The Average True Range (ATR) Formula "
      ]
    },
    {
      "cell_type": "markdown",
      "id": "8a65b92e-8c29-4780-ab54-b797c7d13676",
      "metadata": {},
      "outputs": [],
      "source": [
        "The formula to calculate ATR for an investment with a previous ATR calculation is : "
      ]
    },
    {
      "cell_type": "markdown",
      "id": "984f3adf-f7da-49ad-b4a8-48749e5d65fc",
      "metadata": {},
      "outputs": [],
      "source": [
        "<center>\n    <h1>$ATR = \\frac{\\text{Previous}\\ ATR(n-1)\\ +\\ TR}{n}$</h1>\n</center>\n\n$\\text{where:}$ <br>\n$n = \\text{Number of periods}$ <br>\n$TR = \\text{True range}$"
      ]
    },
    {
      "cell_type": "markdown",
      "id": "ba5c3f66-c83a-4b8a-b421-c2b831c9c681",
      "metadata": {},
      "outputs": [],
      "source": [
        "If there is not a previous ATR calculated, you must use: "
      ]
    },
    {
      "cell_type": "markdown",
      "id": "66b347b1-c266-4071-a888-8e59bd50409c",
      "metadata": {},
      "outputs": [],
      "source": [
        "<center>\n    <h1>$(\\frac{1}{n})\\sum_{i}^{n} TR_{i}$</h1>\n</center>\n\n$\\text{where:}$ <br>\n$TR_{i} = \\text{Particular true range, such as first day's TR, then second, then third}$ <br>\n$n = \\text{Number of periods}$"
      ]
    },
    {
      "cell_type": "markdown",
      "id": "81d95fda-c927-4525-af6a-f2321e2b8254",
      "metadata": {},
      "outputs": [],
      "source": [
        "Let's calculate and plot ATR"
      ]
    },
    {
      "cell_type": "code",
      "id": "f17db979-c5a8-40cd-8716-71e64f676b8c",
      "metadata": {},
      "outputs": [],
      "source": [
        "df[\"ATR\"] = talib.ATR(df[\"High\"], df[\"Low\"], df[\"Close\"], 15)\nplot_indicator(\"Avg_price\", \"ATR\")"
      ]
    },
    {
      "cell_type": "markdown",
      "id": "f1e111ce-1fe7-4c1a-8c9b-7d539b6d01f5",
      "metadata": {},
      "outputs": [],
      "source": [
        "## **On-Balance Volume (OBV)**"
      ]
    },
    {
      "cell_type": "markdown",
      "id": "402355a2-34be-4517-b32d-3b544fd3e4be",
      "metadata": {},
      "outputs": [],
      "source": [
        "On-balance volume (OBV) is a technical trading momentum indicator that uses volume flow to predict changes in stock price. Joseph Granville first developed the OBV metric in the 1963 book Granville's New Key to Stock Market Profits."
      ]
    },
    {
      "cell_type": "markdown",
      "id": "57f9e42a-6972-4e3b-9014-f3dce5576e98",
      "metadata": {},
      "outputs": [],
      "source": [
        "### The Formula for OBV is "
      ]
    },
    {
      "cell_type": "markdown",
      "id": "21a235bf-c320-48b1-8816-5e7187f3ad8a",
      "metadata": {},
      "outputs": [],
      "source": [
        "<center>\n    <h1>$OBV = OBV_{prev} \\; + \\; \\begin{cases} volume,& \\text{if } close > close_{prev}\\\\\n    0,              & \\text{if } close = close_{prev}\\\\\n    -volume,              & \\text{if } close < close_{prev}\n\\end{cases}$</h1>\n</center>\n\n$\\text{where:}$ <br>\n$OBV = \\text{Current on-balance volume level}$ <br>\n$OBV_{prev} = \\text{Previous on-balance volume level}$ <br>\n$volume = \\text{Latest trading volume amount}$"
      ]
    },
    {
      "cell_type": "markdown",
      "id": "7dbfea95-3b3b-42b6-afe5-0dda52d2e97e",
      "metadata": {},
      "outputs": [],
      "source": [
        "Let's calculate and plot OBV"
      ]
    },
    {
      "cell_type": "code",
      "id": "ce717dba-9680-4e76-908c-f5e8e44e7e6e",
      "metadata": {},
      "outputs": [],
      "source": [
        "df[\"OBV\"] = talib.OBV(df[\"Close\"], df[\"Volume\"])\nplot_indicator(\"Avg_price\", \"OBV\")"
      ]
    },
    {
      "cell_type": "markdown",
      "id": "d838e277-61de-4c4f-ac33-ccdd7919d8b6",
      "metadata": {},
      "outputs": [],
      "source": [
        "## **Relative Strength Index (RSI)**"
      ]
    },
    {
      "cell_type": "markdown",
      "id": "1e3544d7-839c-43ae-b1a0-08726dd27d1c",
      "metadata": {},
      "outputs": [],
      "source": [
        "The relative strength index (RSI) is a momentum indicator used in technical analysis. RSI measures the speed and magnitude of a security's recent price changes to evaluate overvalued or undervalued conditions in the price of that security. "
      ]
    },
    {
      "cell_type": "markdown",
      "id": "38a8d1a9-536a-4329-a91a-8d8300fc5e3e",
      "metadata": {},
      "outputs": [],
      "source": [
        "### The RSI uses a two-part calculation that starts with the following formula: "
      ]
    },
    {
      "cell_type": "markdown",
      "id": "12ef87a9-57af-41ea-aed2-9237169b2c00",
      "metadata": {},
      "outputs": [],
      "source": [
        "<center>\n    <h1>$RSI_{\\text{step one}} = 100 - \\left[ \\frac{100}{1 + \\frac{\\text{Average gain}}{\\text{Average loss}}} \\right]$</h1>\n</center>"
      ]
    },
    {
      "cell_type": "markdown",
      "id": "be810a5b-a4eb-48d1-86b3-20d7d3186aae",
      "metadata": {},
      "outputs": [],
      "source": [
        "The average gain or loss used in this calculation is the average percentage gain or loss during a look-back period. The formula uses a positive value for the average loss. Periods with price losses are counted as zero in the calculations of average gain. Periods with price increases are counted as zero in the calculations of average loss."
      ]
    },
    {
      "cell_type": "markdown",
      "id": "3a103efb-f254-4489-b056-e58ac6e15b00",
      "metadata": {},
      "outputs": [],
      "source": [
        "The standard number of periods used to calculate the initial RSI value is 14. For example."
      ]
    },
    {
      "cell_type": "markdown",
      "id": "59eeba47-2e0b-47c4-9bff-c3c8234c292e",
      "metadata": {},
      "outputs": [],
      "source": [
        "Once there are 14 periods of data available, the second calculation can be done. Its purpose is to smooth the results so that the RSI only nears 100 or zero in a strongly trending market. "
      ]
    },
    {
      "cell_type": "markdown",
      "id": "80e5d5fb-e0cd-44d1-aa43-facf7e538a1f",
      "metadata": {},
      "outputs": [],
      "source": [
        "<center>\n    <h1>$RSI_{\\text{step two}} = 100 - \\left[ \\frac{100}{1 + \\frac{\\text{(Previous Average Gain } \\times \\text{ 13) + Current Gain}}{\\text{(Previous Average Loss } \\times \\text{ 13) + Current Loss}}} \\right]$</h1>\n</center>"
      ]
    },
    {
      "cell_type": "markdown",
      "id": "c6591d16-73b2-40f8-bc6b-75f60249e505",
      "metadata": {},
      "outputs": [],
      "source": [
        "Let's calculate and plot RSI"
      ]
    },
    {
      "cell_type": "code",
      "id": "3379633b-7dcf-4d94-97c5-91b33311c7e7",
      "metadata": {},
      "outputs": [],
      "source": [
        "df[\"RSI\"] = talib.RSI(df[\"Close\"], 15)\nplot_indicator(\"Avg_price\", \"RSI\")"
      ]
    },
    {
      "cell_type": "markdown",
      "id": "eed446bb-a4d7-4734-9f1b-bf3f07e789a4",
      "metadata": {},
      "outputs": [],
      "source": [
        "## **Chaikin A/D Line (AD)**"
      ]
    },
    {
      "cell_type": "markdown",
      "id": "b03802dd-39d6-4203-b0c2-decafecf749a",
      "metadata": {},
      "outputs": [],
      "source": [
        "The accumulation/distribution line was created by Marc Chaikin to determine the flow of money into or out of a security. It should not be confused with the advance/decline line. While their initials might be the same, these are entirely different indicators, as are their users. The advance/decline line provides insight into market movements and the accumulation/distribution line is of use to traders seeking to measure buy/sell pressure on a security or confirm the strength of a trend.   "
      ]
    },
    {
      "cell_type": "markdown",
      "id": "25201401-f81d-43cd-926d-5e3481bd64b2",
      "metadata": {},
      "outputs": [],
      "source": [
        "### The CLV can be calculated as follows: "
      ]
    },
    {
      "cell_type": "markdown",
      "id": "e6093bc7-775a-4f46-841e-bdcd14a0b5a7",
      "metadata": {},
      "outputs": [],
      "source": [
        "<center>\n    <h1>$CLV = \\frac{(C\\ -\\ L)\\ -\\ (H\\ -\\ C)}{H\\ -\\ L}$</h1>\n</center>\n\n$\\text{where:}$ <br>\n$C = \\text{closing price}$ <br>\n$H = \\text{high of the price range}$ <br>\n$L = \\text{low of the price range}$"
      ]
    },
    {
      "cell_type": "markdown",
      "id": "7f57cb72-2e1d-4ff5-b59b-fe061c22abb5",
      "metadata": {},
      "outputs": [],
      "source": [
        "The CLV is then multiplied by the corresponding period's volume, and the total will form the A/D line. For a look at the CLV's precursor, the on-balance volume read On-Balance Volume: "
      ]
    },
    {
      "cell_type": "markdown",
      "id": "46fa487c-498f-44d0-8905-39eff9a6799d",
      "metadata": {},
      "outputs": [],
      "source": [
        "Let's calculate and plot AD"
      ]
    },
    {
      "cell_type": "code",
      "id": "01f4ceb6-8bb4-4860-966b-7f249993d0bb",
      "metadata": {},
      "outputs": [],
      "source": [
        "df[\"AD\"] = talib.AD(df[\"High\"], df[\"Low\"], df[\"Close\"], df[\"Volume\"])\nplot_indicator(\"Avg_price\", \"AD\")"
      ]
    },
    {
      "cell_type": "code",
      "id": "e6f280c4-4824-4505-a200-823b2a47a5ad",
      "metadata": {},
      "outputs": [],
      "source": [
        "df"
      ]
    },
    {
      "cell_type": "markdown",
      "id": "7790b098-caf4-466a-af14-b2ce790a200a",
      "metadata": {},
      "outputs": [],
      "source": [
        "<div class=\"alert alert-danger alertdanger\" style=\"margin-top: 20px\">\n<h1><strong>Question #2:</strong></h1>\n<p><strong>Plot \"Avg_price\" and \"Volume\" using <code>plot_indicator</code> function</strong></p>\n</div>\n"
      ]
    },
    {
      "cell_type": "code",
      "id": "9a392c6f-3ec1-43ac-b079-bfacd3ad312b",
      "metadata": {},
      "outputs": [],
      "source": [
        "# Write your code below and press Shift+Enter to execute \n"
      ]
    },
    {
      "cell_type": "markdown",
      "id": "fd4b862b-50aa-41ba-974f-19a36cc8abd1",
      "metadata": {},
      "outputs": [],
      "source": [
        "<details><summary>Click here for the solution</summary>\n\n```python\nplot_indicator(\"Avg_price\", \"Volume\")\n```\n\n</details>\n"
      ]
    },
    {
      "cell_type": "markdown",
      "id": "980a6265-585f-4028-89cd-f388e51392eb",
      "metadata": {},
      "outputs": [],
      "source": [
        "# **3. Basic Insight of Dataset**\n\nAfter reading data into Pandas dataframe, it is time for us to explore the dataset.<br>\n\nThere are several ways to obtain essential insights of the data to help us better understand our dataset."
      ]
    },
    {
      "cell_type": "markdown",
      "id": "5ae8e883-8cf9-4edf-a953-8d2e8683bcab",
      "metadata": {},
      "outputs": [],
      "source": [
        "## **Data Types**\n\nData has a variety of types.\n\nThe main types stored in Pandas dataframes are `object`, `float`, `int`, `bool` and `datetime64`. In order to better learn about each attribute, it is always good for us to know the data type of each column. In Pandas:"
      ]
    },
    {
      "cell_type": "code",
      "id": "d112be83-69f4-4d08-8de8-525d4690a7f0",
      "metadata": {},
      "outputs": [],
      "source": [
        "df.dtypes"
      ]
    },
    {
      "cell_type": "markdown",
      "id": "3deca5b3-cb5f-4dfc-9e30-abee02781a20",
      "metadata": {},
      "outputs": [],
      "source": [
        "A series with the data type of each column is returned.\n"
      ]
    },
    {
      "cell_type": "markdown",
      "id": "ca1d2887-71e1-4c16-b16d-49ab27929f81",
      "metadata": {},
      "outputs": [],
      "source": [
        "As shown above, it is clear to see that the data type of **\"High\"** and **\"Close\"** are `float64`, **\"Rec_count\"** is `int_64`"
      ]
    },
    {
      "cell_type": "code",
      "id": "3928edd5-0b74-4993-bb08-e1d49c4aef36",
      "metadata": {},
      "outputs": [],
      "source": [
        "# check the data type of data frame \"df\" by .dtypes\nprint(df.dtypes)"
      ]
    },
    {
      "cell_type": "markdown",
      "id": "96a61660-9c9a-4994-99c2-9102a1dd69e3",
      "metadata": {},
      "outputs": [],
      "source": [
        "## **Describe**\nIf we would like to get a statistical summary of each column e.g. *count, column mean value, column standard deviation*, etc., we use the describe method:"
      ]
    },
    {
      "cell_type": "raw",
      "id": "6a5b0080-5e18-45ee-83da-df0146bb25bf",
      "metadata": {},
      "outputs": [],
      "source": [
        "dataframe.describe()"
      ]
    },
    {
      "cell_type": "markdown",
      "id": "922d5200-9a07-4b17-8289-31cfb3d38606",
      "metadata": {},
      "outputs": [],
      "source": [
        "This method will provide various summary statistics, excluding `NaN` (Not a Number) values.\n"
      ]
    },
    {
      "cell_type": "code",
      "id": "c9e23c05-c2ae-4c91-9ac1-e67ee82c523f",
      "metadata": {},
      "outputs": [],
      "source": [
        "df.describe()"
      ]
    },
    {
      "cell_type": "markdown",
      "id": "0c8a74ed-51d8-4e8c-ac16-e046703bc463",
      "metadata": {},
      "outputs": [],
      "source": [
        "This shows the statistical summary of all numeric-typed (int, float) columns.\n\nFor example, the attribute **\"Open\"** has 66861 counts, the mean value of this column is 0.8646, the standard deviation is 0.0551, the minimum value is 0.7606, 25th percentile is 0.8083, 50th percentile is 0.8697, 75th percentile is 0.9105, and the maximum value is 1.0661 <br>"
      ]
    },
    {
      "cell_type": "markdown",
      "id": "a0c8dbaa-7694-4af0-8895-740d2ee0302d",
      "metadata": {},
      "outputs": [],
      "source": [
        "<div class=\"alert alert-danger alertdanger\" style=\"margin-top: 20px\">\n<h1><strong>Question #3:</strong></h1>\n\n<p>\n<strong>You can select the columns of a dataframe by indicating the name of each column. For example, you can select the three columns as follows:</strong>\n</p>\n<p>\n    <strong><code>dataframe[[\"column 1\", \"column 2\", \"column 3\"]]</code></strong>\n</p>\n<p>\n<strong>Where \"<strong>column</strong>\" is the name of the column, you can apply the method  <code>.describe()</code> to get the statistics of those columns as follows:</strong>\n</p>\n<p>\n    <strong><code>dataframe[[\"column 1\", \"column 2\", \"column 3\"]].describe()</code></strong>\n</p>\n\n<strong>Apply the method <code>.describe()</code> to the columns \"<strong>Low\"</strong> and \"<strong>High\"</strong></strong>\n\n</div>\n"
      ]
    },
    {
      "cell_type": "code",
      "id": "c5309e6e-db73-4be7-b00f-8a2d1230953c",
      "metadata": {},
      "outputs": [],
      "source": [
        "# Write your code below and press Shift+Enter to execute "
      ]
    },
    {
      "cell_type": "markdown",
      "id": "2a64c4e9-2b68-4039-b10b-c8aafb6ce062",
      "metadata": {},
      "outputs": [],
      "source": [
        "<details><summary>Click here for the solution</summary>\n\n```python\ndf[[\"Low\", \"High\"]].describe()\n```\n\n</details>\n"
      ]
    },
    {
      "cell_type": "markdown",
      "id": "9136385b-ed08-4daa-b7e7-50a44f09f510",
      "metadata": {},
      "outputs": [],
      "source": [
        "## **Info**\nAnother method you can use to check your dataset is:\n"
      ]
    },
    {
      "cell_type": "raw",
      "id": "9a692f87-529a-4389-802a-f112cf3f56f5",
      "metadata": {},
      "outputs": [],
      "source": [
        "dataframe.info()"
      ]
    },
    {
      "cell_type": "markdown",
      "id": "1837d48d-61cd-446b-b5e6-d7e89fac9d11",
      "metadata": {},
      "outputs": [],
      "source": [
        "It provides a concise summary of your DataFrame.\n\nThis method prints information about a DataFrame including the index dtype and columns, non-null values and memory usage.\n"
      ]
    },
    {
      "cell_type": "code",
      "id": "7656ee31-f29e-4589-836f-897a4077d704",
      "metadata": {},
      "outputs": [],
      "source": [
        "# look at the info of \"df\"\ndf.info()"
      ]
    },
    {
      "cell_type": "markdown",
      "id": "2c1dd068-d9fb-4fee-9108-570c9ac2a101",
      "metadata": {},
      "outputs": [],
      "source": [
        "## **Save Dataset**\n\nCorrespondingly, Pandas enables us to save the dataset to csv. By using the `dataframe.to_csv()` method, you can add the file path and name along with quotation marks in the brackets.\n"
      ]
    },
    {
      "cell_type": "code",
      "id": "516942b3-1ebf-43f5-b9ec-791f4aa40021",
      "metadata": {},
      "outputs": [],
      "source": [
        "df.to_csv(\"MATICBUSD_trades_1m_preprocessed.csv\")"
      ]
    },
    {
      "cell_type": "markdown",
      "id": "3c9f9462-0f81-4a26-8579-21c7b5197f55",
      "metadata": {},
      "outputs": [],
      "source": [
        "We can also read and save other file formats. We can use similar functions like `pd.read_csv()` and `df.to_csv()` for other data formats. The functions are listed in the following table:\n"
      ]
    },
    {
      "cell_type": "markdown",
      "id": "83788238-fe03-4581-925c-fef27366cf23",
      "metadata": {},
      "outputs": [],
      "source": [
        "## **Read/Save Other Data Formats**\n\n| Data Formate |        Read       |            Save |\n| ------------ | :---------------: | --------------: |\n| csv          |  `pd.read_csv()`  |   `df.to_csv()` |\n| json         |  `pd.read_json()` |  `df.to_json()` |\n| excel        | `pd.read_excel()` | `df.to_excel()` |\n| hdf          |  `pd.read_hdf()`  |   `df.to_hdf()` |\n| sql          |  `pd.read_sql()`  |   `df.to_sql()` |\n| ...          |        ...        |             ... |\n"
      ]
    },
    {
      "cell_type": "markdown",
      "id": "9472bb08-89e7-4f65-a04e-044cd9cf8863",
      "metadata": {},
      "outputs": [],
      "source": [
        "# **4. Sources:**\n\n<ul>\n    <li><a href=\"https://www.investopedia.com/terms/a/atr.asp\" target=\"_blank\">https://www.investopedia.com/terms/a/atr.asp</a></li>\n    <li><a href=\"https://www.investopedia.com/terms/o/onbalancevolume.asp\">https://www.investopedia.com/terms/o/onbalancevolume.asp</a></li>\n    <li><a href=\"https://www.investopedia.com/terms/r/rsi.asp\">https://www.investopedia.com/terms/r/rsi.asp</a></li>\n    <li><a href=\"https://www.investopedia.com/terms/c/chaikinoscillator.asp\" target=\"_blank\">https://www.investopedia.com/terms/c/chaikinoscillator.asp</a></li>\n</ul>"
      ]
    },
    {
      "cell_type": "markdown",
      "id": "47610f47-5cd0-4c23-9ded-0aa07555727e",
      "metadata": {},
      "outputs": [],
      "source": [
        "# Excellent! You have just completed the Introduction Notebook!"
      ]
    },
    {
      "cell_type": "markdown",
      "id": "136a75d4-f8eb-44f6-89b2-7c1c1ed09150",
      "metadata": {},
      "outputs": [],
      "source": [
        "# **Thank you for completing this lab!**\n\n## Author\n\n<a href=\"https://author.skills.network/instructors/borys_melnychuk\" target=\"_blank\" >Borys Melnychuk</a>\n\n<a href=\"https://author.skills.network/instructors/yaroslav_vyklyuk_2?utm_medium=Exinfluencer&utm_source=Exinfluencer&utm_content=000026UJ&utm_term=10006555&utm_id=NA-SkillsNetwork-Channel-SkillsNetworkGuidedProjectsIBMSkillsNetworkGPXX0QGDEN2306-2023-01-01\">Prof. Yaroslav Vyklyuk, DrSc, PhD</a>\n\n<a href=\"https://author.skills.network/instructors/mariya_fleychuk?utm_medium=Exinfluencer&utm_source=Exinfluencer&utm_content=000026UJ&utm_term=10006555&utm_id=NA-SkillsNetwork-Channel-SkillsNetworkGuidedProjectsIBMSkillsNetworkGPXX0QGDEN2306-2023-01-01\">Prof. Mariya Fleychuk, DrSc, PhD</a>\n\n\n\n## Change Log\n\n| Date (YYYY-MM-DD) | Version | Changed By      | Change Description                                         |\n| ----------------- | ------- | ----------------| ---------------------------------------------------------- |\n|     2023-02-25    |   1.0   | Borys Melnychuk | Creation of the lab                                        |\n\n<hr>\n\n## <h3 align=\"center\"> © IBM Corporation 2023. All rights reserved. </h3>\n"
      ]
    }
  ],
  "metadata": {
    "language_info": {
      "name": ""
    },
    "kernelspec": {
      "name": "",
      "display_name": ""
    }
  },
  "nbformat": 4,
  "nbformat_minor": 4
}
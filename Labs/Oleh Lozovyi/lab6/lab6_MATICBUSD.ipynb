{
  "cells": [
    {
      "cell_type": "markdown",
      "id": "351c7fa6-cf4b-4859-a1bf-3971c1d1dd04",
      "metadata": {},
      "outputs": [],
      "source": [
        "<center>\n    <img src=\"https://cf-courses-data.s3.us.cloud-object-storage.appdomain.cloud/assets/logos/SN_web_lightmode.png\" width=\"400\" alt=\"cognitiveclass.ai logo\">\n</center>\n\n# Investigation on MATIC/BUSD cryptocurrency based on EMA, Crypto Trading Metrics, WMA \n\n## Lab 6. Knowledge Check\n\nEstimated time needed: **1** hour\n\n\n### Objectives\n\nAfter completing this lab you will be able to:\n\n*   Be confident about your data analysis skills\n\n<h3>Table of Contents</h3>\n\n<div class=\"alert alert-block alert-info\" style=\"margin-top: 20px\">\n<ol>\n    <li><a href=\"https://#import_load__data\">Import and Load Data</a></li>\n    <li><a href=\"https://#questions\">Questions</a></li>\n        <ul>\n            <li><a href=\"https://#question1\">Question #1</a></li>\n            <li><a href=\"https://#question2\">Question #2</a></li>\n            <li><a href=\"https://#question3\">Question #3</a></li>\n            <li><a href=\"https://#question4\">Question #4</a></li>\n            <li><a href=\"https://#question5\">Question #5</a></li>\n            <li><a href=\"https://#question6\">Question #6</a></li>\n            <li><a href=\"https://#question7\">Question #7</a></li>\n            <li><a href=\"https://#question8\">Question #8</a></li>\n            <li><a href=\"https://#question9\">Question #9</a></li>\n            <li><a href=\"https://#question10\">Question #10</a></li>\n            <li><a href=\"https://#question11\">Question #11</a></li>\n            <li><a href=\"https://#question12\">Question #12</a></li>\n        </ul>\n</ol>\n\n</div>\n"
      ]
    },
    {
      "cell_type": "markdown",
      "id": "96b28816-6985-45b3-91d4-9506a60a3ab3",
      "metadata": {},
      "outputs": [],
      "source": [
        "<h2>1. Import and Load Data </h2>\n"
      ]
    },
    {
      "cell_type": "markdown",
      "id": "4097b152-9b47-41f1-8166-605958281e22",
      "metadata": {},
      "outputs": [],
      "source": [
        "<h3>Import Libraries</h3>\n"
      ]
    },
    {
      "cell_type": "markdown",
      "id": "7e415d54-5e4c-4b42-8c06-aa29cc8a109f",
      "metadata": {},
      "outputs": [],
      "source": [
        "Import the libraries necessary to use in this lab. We can add some aliases to make the libraries easier to use in our code and set a default figure size for further plots. Ignore the warnings.\n"
      ]
    },
    {
      "cell_type": "code",
      "id": "cd2c3a2d-6f7b-4dec-9ac5-965ac2ffab24",
      "metadata": {},
      "outputs": [],
      "source": [
        "! conda install -c conda-forge ta-lib -y\n!pip install --upgrade scikit-learn\n!pip install mplfinance"
      ]
    },
    {
      "cell_type": "code",
      "id": "d739593b-1ae2-49d2-8e94-37e8e920c096",
      "metadata": {},
      "outputs": [],
      "source": [
        "import warnings\nwarnings.simplefilter(action='ignore', category=FutureWarning)\nimport pandas as pd\nimport numpy as np\nimport seaborn as sns\nfrom typing import List\nimport matplotlib.pyplot as plt\nimport matplotlib as mpl\nimport matplotlib.patches as  mpatches\n%matplotlib inline\nimport mplfinance as fplt\nfrom scipy import stats\nimport statsmodels.api as sm\nfrom statsmodels.stats.stattools import durbin_watson\nfrom statsmodels.tsa.stattools import grangercausalitytests\nfrom statsmodels.stats.stattools import durbin_watson\nfrom statsmodels.tsa.stattools import grangercausalitytests\nfrom sklearn.model_selection import train_test_split\nfrom sklearn.linear_model import LinearRegression\nfrom sklearn.preprocessing import PolynomialFeatures\nfrom sklearn.tree import DecisionTreeClassifier\nfrom sklearn import tree\nfrom sklearn.metrics import mean_squared_error\nfrom sklearn.metrics import r2_score, accuracy_score, mean_absolute_percentage_error\nimport itertools\nfrom itertools import combinations\nfrom IPython.display import display\nfrom sklearn.preprocessing import LabelEncoder, OrdinalEncoder\nfrom sklearn.preprocessing import MinMaxScaler\nimport talib as tb"
      ]
    },
    {
      "cell_type": "markdown",
      "id": "77ad4b7c-8a6a-4a63-95da-423887c70626",
      "metadata": {},
      "outputs": [],
      "source": [
        "<h3> Load Data </h3>\n"
      ]
    },
    {
      "cell_type": "markdown",
      "id": "7b378534-b7bf-4a1e-b154-b2ac10f508fa",
      "metadata": {},
      "outputs": [],
      "source": [
        "We will use the same DataSet like in previous labs. Therefore next some steps will be the same.\n"
      ]
    },
    {
      "cell_type": "markdown",
      "id": "37371354-84cf-4c5d-a708-d70a0dd9acea",
      "metadata": {},
      "outputs": [],
      "source": [
        "First, we assign the URL of the dataset to <code>\"path\"</code>. \n"
      ]
    },
    {
      "cell_type": "code",
      "id": "7e52c0a4-f3aa-4fa0-b968-35b3796527fb",
      "metadata": {},
      "outputs": [],
      "source": [
        "path = \"https://cf-courses-data.s3.us.cloud-object-storage.appdomain.cloud/IBMSkillsNetwork-GPXX0R9OEN/labs/MATICBUSD_trades_1m%20(2).csv\""
      ]
    },
    {
      "cell_type": "markdown",
      "id": "b9fb8e7f-3d93-4376-8dbe-61b2757a82d9",
      "metadata": {},
      "outputs": [],
      "source": [
        "Then use the Pandas method <code>read_csv()</code> to load the data from the web address and set dataframe index column type to <strong>datetime</strong> using <code>pd.to_datetime()</code> method for correct time series analysis. \n"
      ]
    },
    {
      "cell_type": "code",
      "id": "87efa205-01fb-4fba-ae13-3623bed69468",
      "metadata": {},
      "outputs": [],
      "source": [
        "df = pd.read_csv(path, index_col=0)\ndf.set_index('ts', inplace=True)\ndf.index = pd.to_datetime(df.index)\n\ndf.head()"
      ]
    },
    {
      "cell_type": "markdown",
      "id": "71d72b4a-7742-4cc4-a65c-bba48322ec4d",
      "metadata": {},
      "outputs": [],
      "source": [
        "<h2>2. Questions</h2>\n"
      ]
    },
    {
      "cell_type": "markdown",
      "id": "1df44160-6ee1-4f6f-ba92-5c0471829541",
      "metadata": {},
      "outputs": [],
      "source": [
        "<div class=\"alert alert-danger alertdanger\" style=\"margin-top: 20px\">\n<h1> Question #1: </h1>\n\nCalculate financial technical EMA, Crypto Trading Metrics, WMA.\n    \n</div>\n"
      ]
    },
    {
      "cell_type": "markdown",
      "id": "7c1260b4-5577-42bf-a142-0480c669fdb5",
      "metadata": {},
      "outputs": [],
      "source": [
        "<h4>Exponential Moving Average (EMA)</h4>\n"
      ]
    },
    {
      "cell_type": "markdown",
      "id": "c56a43ba-c15d-4e86-8285-290a644d0411",
      "metadata": {},
      "outputs": [],
      "source": [
        "The exponential moving average (EMA) is a technical chart indicator that tracks the price of an investment (like a stock or commodity) over time. The EMA is a type of weighted moving average (WMA) that gives more weighting or importance to recent price data.\n\nThe $EMA$ is calculated as follows:\n\n$$\nEMA = Price(t) * k + EMA(y) * (1-k), \n$$\nwhere t — today, y - yesterday, N - number of days in EMA, k =  2 / (N + 1)"
      ]
    },
    {
      "cell_type": "code",
      "id": "956e171f-1768-4103-9d45-c4682a6370f0",
      "metadata": {},
      "outputs": [],
      "source": [
        "# Write your code below and press Shift+Enter to execute\nema = tb.EMA(df.avg_price, 64)\ndf['EMA'] = ema\nema[200:205]"
      ]
    },
    {
      "cell_type": "markdown",
      "id": "fb091895-146f-4d76-8a47-88a2910d41e1",
      "metadata": {},
      "outputs": [],
      "source": [
        "<h4>WMA</h4>\n"
      ]
    },
    {
      "cell_type": "markdown",
      "id": "773ff099-fc88-48d4-9cd5-04bc49df2f1c",
      "metadata": {},
      "outputs": [],
      "source": [
        "The weighted moving average (WMA) is a technical indicator that assigns a greater weighting to the most recent data points, and less weighting to data points in the distant past.\nThe WMA is obtained by multiplying each number in the data set by a predetermined weight and summing up the resulting values.\n\n$$\nWMA = ∑ \\frac {(price_i * (n-i))}{[n * (n + 1)] * 0.5},\n$$\n\nwhere n is a time period.\n    \n"
      ]
    },
    {
      "cell_type": "code",
      "id": "f03aa51a-5998-4633-a94d-1eded2aa4efd",
      "metadata": {},
      "outputs": [],
      "source": [
        "# Write your code below and press Shift+Enter to execute\nwma = tb.WMA(df.avg_price, 64)\ndf['WMA'] = wma\nwma[200:205]"
      ]
    },
    {
      "cell_type": "markdown",
      "id": "c392fe9b-7c1a-4507-bf42-84002740af15",
      "metadata": {},
      "outputs": [],
      "source": [
        "<h4>Commodity Channel Index (CCI)</h4>"
      ]
    },
    {
      "cell_type": "markdown",
      "id": "5aadfe7c-ceef-4087-aa35-70f4a8603336",
      "metadata": {},
      "outputs": [],
      "source": [
        "The Commodity Channel Index (CCI) is an oscillator developed by Donald Lambert in 1980. It is based on the notion that as an equity tops or bottoms the volatility decreases. Lambert was struck by the fact that an equity can resemble a sine wave as it moves between highs and lows. The observation is obviously most valid when an equity is in a price channel.\n$$\nCCI = \\frac {Typical price - MA}{MD * 0.015},\n$$\nwhere MA - Moving Average, MD - Mean Deviation "
      ]
    },
    {
      "cell_type": "code",
      "id": "c9602eb1-5c92-4e89-a3cc-38a554b9bd3b",
      "metadata": {},
      "outputs": [],
      "source": [
        "# Write your code below and press Shift+Enter to execute\ncci = tb.CCI(df['high'], df['low'], df['close'])\n# high_col='high', low_col='low', close_col='close'\ndf['CCI'] = wma\ncci[200:205]"
      ]
    },
    {
      "cell_type": "code",
      "id": "0a6c7d99-5911-4f2b-8711-8c8223bbf0c0",
      "metadata": {},
      "outputs": [],
      "source": [
        "# Write your code below and press Shift+Enter to execute\n# Remove NaN values in dataframe \ndf.dropna(inplace=True)\ndf"
      ]
    },
    {
      "cell_type": "markdown",
      "id": "e8c01831-8fac-4d0f-be5c-aef76391109f",
      "metadata": {},
      "outputs": [],
      "source": [
        "<div class=\"alert alert-danger alertdanger\" style=\"margin-top: 20px\">\n<h1> Question #2: </h1>\n\nCreate new dataframe. Resample data for 1-day interval. Then plot a corresponding candlestick.\n</div>\n"
      ]
    },
    {
      "cell_type": "markdown",
      "id": "5ec82be2-b09d-41d0-a7e1-84d98349df13",
      "metadata": {},
      "outputs": [],
      "source": [
        "*  to keep the initial dataframe unchanged use <code>pd.DataFrame()</code> method for creating dataframe\n*  use  method <code>.resample()</code> for resampling\n*  to plot a candlestick use <code> fplt.plot(resampled_df,title='your title',ylabel='your y-label text',type='candle')</code>\n"
      ]
    },
    {
      "cell_type": "code",
      "id": "e9e8c916-3ad3-4861-82c2-e4242631e3d9",
      "metadata": {},
      "outputs": [],
      "source": [
        "# Write your code below and press Shift+Enter to execute\n# Resampling with 1-day interval\ndf_candle = pd.DataFrame()\n\ndf_candle['open'] = df['open'].resample('D').first()\ndf_candle['high'] = df['high'].resample('D').max()\ndf_candle['low'] = df['low'].resample('D').min()\ndf_candle['close'] = df['close'].resample('D').last()\ndf_candle['volume'] = df['volume'].resample('D').sum()\ndf_candle['rec_count'] = df['rec_count'].resample('D').mean()\ndf_candle['avg_price'] = df['avg_price'].resample('D').mean()\ndf_candle.head()"
      ]
    },
    {
      "cell_type": "code",
      "id": "962fe13c-2b44-4bfd-9a2d-76ed9aab9247",
      "metadata": {},
      "outputs": [],
      "source": [
        "# Write your code below and press Shift+Enter to execute\n# Plot a candlestick\ndf_candle.columns = ['open', 'high', 'low', 'close', 'volume', 'rec_count', 'avg_price']\nfplt.plot(\n            df_candle,\n            title='MATICBUSD',\n            ylabel='Price (BUSD)',\n            type='candle'\n            \n        )"
      ]
    },
    {
      "cell_type": "markdown",
      "id": "64d0691c-5f82-490b-a1e0-35e3470b4bf7",
      "metadata": {},
      "outputs": [],
      "source": [
        "<div class=\"alert alert-danger alertdanger\" style=\"margin-top: 20px\">\n<h1> Question #3: </h1>\n\n*    Create categorical variables( 3 categories : 'Low', 'Medium', 'High' ) for each of indicators and price.\n*    Merge them to our dataframe.\n*    Convert them to datatype <em>'category'</em>.\n</div>\n"
      ]
    },
    {
      "cell_type": "code",
      "id": "4684961b-32ee-4f8b-8c11-b56940cd5df4",
      "metadata": {},
      "outputs": [],
      "source": [
        "# Write your code below and press Shift+Enter to execute\n# List of categories\ngroup_names = [\"Low\", \"Medium\", \"High\"]\n\nindicators = ['EMA', 'WMA', 'CCI']\nfor indicator in indicators:\n    bins = np.linspace(min(df[indicator]), max(df[indicator]), 4)\n    df[f\"{indicator}-binned\"] = pd.cut(df[indicator], bins, labels=group_names, include_lowest=True)\n    \ndf.head()"
      ]
    },
    {
      "cell_type": "markdown",
      "id": "aa10427e-a6a6-4576-bd09-ab79c2d4df28",
      "metadata": {},
      "outputs": [],
      "source": [
        "<div class=\"alert alert-danger alertdanger\" style=\"margin-top: 20px\">\n<h1> Question #4: </h1>\n\nFind a correlation between MATIC price and obtained indicators. Build a heatmap.\n</div>\n"
      ]
    },
    {
      "cell_type": "markdown",
      "id": "64231bdd-2b20-42aa-a108-a401816de320",
      "metadata": {},
      "outputs": [],
      "source": [
        "*   use <code>df[[columns]].corr()</code> to calculate a correlation\n*   use <code>seaborn.heatmap()</code> to visualize a correlation heatmap\n"
      ]
    },
    {
      "cell_type": "code",
      "id": "f87ee79d-1381-40c3-8bed-e454d9d3240d",
      "metadata": {},
      "outputs": [],
      "source": [
        "# Write your code below and press Shift+Enter to execute\n# Find correlation\ncorr = df[['avg_price', 'EMA', 'WMA', 'CCI']].corr()\ncorr"
      ]
    },
    {
      "cell_type": "code",
      "id": "1485da0c-209a-4500-9152-a65d8471a2e8",
      "metadata": {},
      "outputs": [],
      "source": [
        "# Write your code below and press Shift+Enter to execute\n# Build a heatmap\nsns.heatmap(corr, annot=True, fmt=\".3f\")"
      ]
    },
    {
      "cell_type": "markdown",
      "id": "453c6f07-8de0-4165-8f55-b927db5bbbe5",
      "metadata": {},
      "outputs": [],
      "source": [
        "<div class=\"alert alert-danger alertdanger\" style=\"margin-top: 20px\">\n<h1> Question #5: </h1>\nPlot a scatterplot with the fitted regression line for \"EMA\" indicator and MATIC price.\n</div>\n"
      ]
    },
    {
      "cell_type": "markdown",
      "id": "d1347036-af3b-4394-ab66-b706d0581096",
      "metadata": {},
      "outputs": [],
      "source": [
        "*    use <code>seaborn.regplot(x, y, data)</code> method to plot data and a linear regression model fit\n"
      ]
    },
    {
      "cell_type": "code",
      "id": "737e6077-08ee-470e-9262-2eefe43d7985",
      "metadata": {},
      "outputs": [],
      "source": [
        "# Write your code below and press Shift+Enter to execute\nsns.regplot(x=df['avg_price'], y=df['EMA'], data=pd)\nplt.xlabel(\"EMA\")\nplt.ylabel(\"avg_price\")\nplt.show()\n"
      ]
    },
    {
      "cell_type": "markdown",
      "id": "34ac8c1b-e946-4556-abee-263aaca8072f",
      "metadata": {},
      "outputs": [],
      "source": [
        "<div class=\"alert alert-danger alertdanger\" style=\"margin-top: 20px\">\n<h1> Question #6: </h1>\nFor every indicator calculate(with avg_price):\n*   calculate Pearson Correlation and P-value \n</div>\n"
      ]
    },
    {
      "cell_type": "markdown",
      "id": "77affa85-7a28-46c3-93c0-6b107e844ca7",
      "metadata": {},
      "outputs": [],
      "source": [
        "*   use <code>scipy.stats.pearsonr(x, y)></code> method for <em>Pearson Correlation</em> and <em>P-value</em> calculation\n"
      ]
    },
    {
      "cell_type": "code",
      "id": "8d0a93f8-0416-4c19-acbd-5ae7e540760b",
      "metadata": {},
      "outputs": [],
      "source": [
        "# Write your code below and press Shift+Enter to execute\n# Calculate Pearson Correlation and P-value for each of indicators and price \ndf_stats = pd.DataFrame({\"indicator\":[], \"Pearson\": [], \"P-value\": []})\npd.options.display.float_format = '{:.3f}'.format\n\nindicators = ['EMA', 'WMA', 'CCI']\nfor indicator in indicators:\n    pearson_coef, p_value = stats.pearsonr(df['avg_price'], df[indicator])\n    df_stats.loc[len(df_stats.index)] = [indicator, pearson_coef, p_value]\n\ndf_stats.set_index('indicator', inplace=True)\ndf_stats"
      ]
    },
    {
      "cell_type": "markdown",
      "id": "61e17e1d-4639-4a1a-b4cd-945134d10e16",
      "metadata": {},
      "outputs": [],
      "source": [
        "<div class=\"alert alert-danger alertdanger\" style=\"margin-top: 20px\">\n<h1> Question #7: </h1>\n\nCreate a Linear Regression model with any indicator as input and avg_price as output. Fit the model and make a prediction.\n\n</div>\n"
      ]
    },
    {
      "cell_type": "code",
      "id": "f47b0ae5-2002-41b6-905f-a6675797dbd0",
      "metadata": {},
      "outputs": [],
      "source": [
        "# Write your code below and press Shift+Enter to execute\n# Create Multiple Linear Regression\nlm = LinearRegression()\n\n# Fit the model\nZ = df[['CCI']]\nlm.fit(Z, df['avg_price'])\n\n# Make prediction\nY_hat = lm.predict(Z)\nprint(Y_hat)"
      ]
    },
    {
      "cell_type": "markdown",
      "id": "37da242c-961c-4451-b58b-b33d3d46a563",
      "metadata": {},
      "outputs": [],
      "source": [
        "<div class=\"alert alert-danger alertdanger\" style=\"margin-top: 20px\">\n<h1> Question #8: </h1>\n\nPlot Linear Regression.\n</div>\n"
      ]
    },
    {
      "cell_type": "code",
      "id": "ac48da65-cb71-45bd-be72-aedc0fc6f8c1",
      "metadata": {},
      "outputs": [],
      "source": [
        "# Write your code below and press Shift+Enter to execute\n# Plot Multiple Linear Regression\nplt.figure(figsize=(8, 6))\n\nax1 = sns.kdeplot(df['avg_price'],  color=\"tab:orange\", label=\"avg_price\")\nsns.kdeplot(Y_hat, color=\"tab:blue\", label=\"Fitted avg_price\" , ax=ax1)\n\nhandles = [mpatches.Patch(facecolor=plt.cm.Reds(100), label=\"avg_price\"),\n           mpatches.Patch(facecolor=plt.cm.Blues(100), label=\"Fitted avg_price\")]\nplt.legend(handles=handles)\n\nplt.title('Actual vs Fitted')\nplt.xlabel('avg_price')\nplt.ylabel('Proportion of cryptocurrency')\n\nplt.show()\nplt.close()"
      ]
    },
    {
      "cell_type": "markdown",
      "id": "c8562362-e35a-463c-b4da-f0cdbef4183d",
      "metadata": {},
      "outputs": [],
      "source": [
        "<div class=\"alert alert-danger alertdanger\" style=\"margin-top: 20px\">\n<h1> Question #9: </h1>\nFor Linear Regression model calculate $R^2$, MSE metrics.\n</div>\n"
      ]
    },
    {
      "cell_type": "markdown",
      "id": "e16275ea-bb19-4e29-8525-58797692df2e",
      "metadata": {},
      "outputs": [],
      "source": [
        "*   $R^2$ − <code>r2_score(y, y_pred)</code>\n*   <em>MSE</em> − <code>mean_squared_error(y, y_pred)</code>\n"
      ]
    },
    {
      "cell_type": "code",
      "id": "5023ac2c-6512-46e0-8ccd-370983fb4533",
      "metadata": {},
      "outputs": [],
      "source": [
        "# Write your code below and press Shift+Enter to execute\n# Calculate metrics\ny = df['avg_price']\nr_squared = r2_score(y, Y_hat) *100\nmse = mean_squared_error(y, Y_hat) *100\n    \nprint(f'R-square = {r_squared:.3f}%')\nprint('')\nprint(f'MSE = {mse:.3f}%')"
      ]
    },
    {
      "cell_type": "markdown",
      "id": "4488736c-d2f2-495f-a872-bcd54529d60f",
      "metadata": {},
      "outputs": [],
      "source": [
        "<div class=\"alert alert-danger alertdanger\" style=\"margin-top: 20px\">\n<h1> Question #10: </h1>\n\nCreate \"avg_price-binned\". Encode categorical features as an integer array in order to use them in classification.\n</div>\n"
      ]
    },
    {
      "cell_type": "code",
      "id": "a3bf39b1-d35d-4c27-b968-a77a7da4c0d9",
      "metadata": {},
      "outputs": [],
      "source": [
        "# Write your code below and press Shift+Enter to execute\nbins = np.linspace(min(df[\"avg_price\"]), max(df[\"avg_price\"]), 4)\ndf[\"avg_price-binned\"] = pd.cut(df[\"avg_price\"], bins, labels=group_names, include_lowest=True)\n# Encode categorical features\ncol_cat = ['EMA-binned', 'WMA-binned', 'CCI-binned']\nX = df[col_cat]  #input columns\ny = df['avg_price-binned']  #target column \n\n\nX = df[col_cat]\noe = OrdinalEncoder()\noe.fit(X[col_cat])\nX_cat_enc = oe.transform(X[col_cat])\n\nx_enc = pd.DataFrame(X_cat_enc)\nx_enc.columns = col_cat\n\nle = LabelEncoder()\nle.fit(y)\ny_enc = le.transform(y)\ny_enc = pd.Series(y_enc)\ny_enc.columns = y.name"
      ]
    },
    {
      "cell_type": "markdown",
      "id": "dcc2b44a-f927-4411-a045-a0468c03129c",
      "metadata": {},
      "outputs": [],
      "source": [
        "<div class=\"alert alert-danger alertdanger\" style=\"margin-top: 20px\">\n<h1> Question #11: </h1>\n\nSplit dataframe into train and test subsets.\n</div>\n"
      ]
    },
    {
      "cell_type": "markdown",
      "id": "64dda4f7-deed-46c5-9f6c-d1d4aa84e633",
      "metadata": {},
      "outputs": [],
      "source": [
        "* use <code>train_test_split(X, y, test_size)</code> to split the dataframe.\n"
      ]
    },
    {
      "cell_type": "code",
      "id": "28d655d8-6dc5-41c7-8581-cb5efde5d723",
      "metadata": {},
      "outputs": [],
      "source": [
        "# Write your code below and press Shift+Enter to execute\nX_train, X_test, y_train, y_test = train_test_split(x_enc, y_enc, test_size=0.33, shuffle=False)"
      ]
    },
    {
      "cell_type": "markdown",
      "id": "4d9d847c-a1df-4260-9b44-294ffe4c236e",
      "metadata": {},
      "outputs": [],
      "source": [
        "<div class=\"alert alert-danger alertdanger\" style=\"margin-top: 20px\">\n<h1> Question #12: </h1>\n\nBuild a Decision Tree model and calculate its accuracy and plot it.\n</div>\n"
      ]
    },
    {
      "cell_type": "markdown",
      "id": "a423dba7-5563-4705-bb90-e2fbe44d2159",
      "metadata": {},
      "outputs": [],
      "source": [
        "<em><strong>Note:</strong></em> use the following links to complete this question:\n*   <code>DecisionTreeClassifier()</code> \n*   <code>accuracy_score()</code> to calculate accuracy\n*   <code>plot_tree()</code>\n"
      ]
    },
    {
      "cell_type": "code",
      "id": "057adc3c-eaa4-4807-8509-3192fc8da696",
      "metadata": {},
      "outputs": [],
      "source": [
        "# Write your code below and press Shift+Enter to execute\n# Decision Tree\nmodel = DecisionTreeClassifier()\nmodel.fit(X_train, y_train)\nyhat = model.predict(X_test)\n\naccuracy = accuracy_score(y_test, yhat)\nprint('Accuracy: %.3f' % (accuracy*100), '%')"
      ]
    },
    {
      "cell_type": "code",
      "id": "77096001-bbf5-4a99-8063-38c1e9b5d083",
      "metadata": {},
      "outputs": [],
      "source": [
        "# Write your code below and press Shift+Enter to execute\n# Plot Decision Tree\nfig = plt.figure(figsize=(25,20))\n_ = tree.plot_tree(model,\n               feature_names = x_enc.columns, \n               class_names = y.unique(),\n               filled = True)"
      ]
    },
    {
      "cell_type": "markdown",
      "id": "e9e4b6b1-c9fb-46c1-a4c4-96432364c08f",
      "metadata": {},
      "outputs": [],
      "source": [
        "# **Thank you for completing Lab 6 and our course at all!**\n# **Good luck!**\n## Authors\n\n<a href=\"https://author.skills.network/instructors/oleh_lozovyi?utm_medium=Exinfluencer&utm_source=Exinfluencer&utm_content=000026UJ&utm_term=10006555&utm_id=NA-SkillsNetwork-Channel-SkillsNetworkGuidedProjectsIBMSkillsNetworkGPXX0QGDEN2306-2023-01-01\">Oleh Lozovyi</a>\n\n<a href=\"https://author.skills.network/instructors/yaroslav_vyklyuk_2?utm_medium=Exinfluencer&utm_source=Exinfluencer&utm_content=000026UJ&utm_term=10006555&utm_id=NA-SkillsNetwork-Channel-SkillsNetworkGuidedProjectsIBMSkillsNetworkGPXX0QGDEN2306-2023-01-01\">Prof. Yaroslav Vyklyuk, DrSc, PhD</a>\n\n<a href=\"https://author.skills.network/instructors/mariya_fleychuk?utm_medium=Exinfluencer&utm_source=Exinfluencer&utm_content=000026UJ&utm_term=10006555&utm_id=NA-SkillsNetwork-Channel-SkillsNetworkGuidedProjectsIBMSkillsNetworkGPXX0QGDEN2306-2023-01-01\">Prof. Mariya Fleychuk, DrSc, PhD</a>\n\n<a href=\"https://www.linkedin.com/in/joseph-s-50398b136/?utm_medium=Exinfluencer&utm_source=Exinfluencer&utm_content=000026UJ&utm_term=10006555&utm_id=NA-SkillsNetwork-Channel-SkillsNetworkCoursesIBMDeveloperSkillsNetworkDA0101ENSkillsNetwork20235326-2021-01-01\">Joseph Santarcangelo</a>\n\n\n<a href=\"https://www.linkedin.com/in/fiorellawever/?utm_medium=Exinfluencer&utm_source=Exinfluencer&utm_content=000026UJ&utm_term=10006555&utm_id=NA-SkillsNetwork-Channel-SkillsNetworkCoursesIBMDeveloperSkillsNetworkDA0101ENSkillsNetwork20235326-2021-01-01\">Fiorella Wenver</a>\n\n<a href=\"https:// https://www.linkedin.com/in/yi-leng-yao-84451275/ \" target=\"_blank\" >Yi Yao</a>\n\n\n## Change Log\n\n| Date (YYYY-MM-DD) | Version | Changed By   | Change Description                                         |\n| ----------------- | ------- | -------------| ---------------------------------------------------------- |\n|     2023-04-06    |   1.0   | Oleh Lozovyi | Lab created                                                |\n\n<hr>\n\n## <h3 align=\"center\"> © IBM Corporation 2023. All rights reserved. <h3/>\n\n\n\n"
      ]
    },
    {
      "cell_type": "code",
      "id": "0e8f19f9-eaa5-48f2-a913-f18912d48f16",
      "metadata": {},
      "outputs": [],
      "source": [
        ""
      ]
    }
  ],
  "metadata": {
    "language_info": {
      "name": ""
    },
    "kernelspec": {
      "name": "",
      "display_name": ""
    }
  },
  "nbformat": 4,
  "nbformat_minor": 4
}
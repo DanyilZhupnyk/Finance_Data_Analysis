{
  "cells": [
    {
      "cell_type": "markdown",
      "id": "0c3a7163-2855-4201-9a4e-28b9cb110653",
      "metadata": {},
      "outputs": [],
      "source": [
        "<center>\n    <img src=\"https://cf-courses-data.s3.us.cloud-object-storage.appdomain.cloud/assets/logos/SN_web_lightmode.png\" width=\"300\" alt=\"cognitiveclass.ai logo\"  />\n</center>\n\n\n# Financial Services: Lab 3. Exploratory data analysis  (on the example of MATIC/BUSD and several technical indicators:  ADOSC, NATR, TRANGE)\n# \n\nEstimated time needed: **30** minutes\n\n## Objectives\n\nAfter completing this lab you will be able to:\n\n*   Explore features or indicators to predict price of MATIC\n"
      ]
    },
    {
      "cell_type": "markdown",
      "id": "06691ce4-b6fc-45d3-b71a-a93674b60221",
      "metadata": {},
      "outputs": [],
      "source": [
        "## Table of Contents\n\n<div class=\"alert alert-block alert-info\" style=\"margin-top: 20px\">\n<ol>\n    <li>Import Data from Module</li>\n    <li>Analyzing Individual Feature Patterns using Visualization</li>\n    <li>Descriptive Statistical Analysis</li>\n    <li>Basics of Grouping</li>\n    <li>Correlation and Causation</li>\n    <li>ANOVA</li>\n    <li>Granger Causality Test</li>\n\n</ol>\n\n</div>\n\n<hr>\n"
      ]
    },
    {
      "cell_type": "markdown",
      "id": "e07646f1-1476-4ad2-bf3d-964b5d6dd57d",
      "metadata": {},
      "outputs": [],
      "source": [
        "### What are the main characteristics that have the most impact on the coins price?\n"
      ]
    },
    {
      "cell_type": "markdown",
      "id": "f28068ae-394c-4c25-be2a-0ea96927ab36",
      "metadata": {},
      "outputs": [],
      "source": [
        "## 1. Import Data from Module 2\n"
      ]
    },
    {
      "cell_type": "markdown",
      "id": "383f5a49-20e3-4f1d-af9a-ef2ab171236c",
      "metadata": {},
      "outputs": [],
      "source": [
        "#### Setup\n"
      ]
    },
    {
      "cell_type": "markdown",
      "id": "1eb85615-5ccf-4de6-b71e-4ed2aa43aea6",
      "metadata": {},
      "outputs": [],
      "source": [
        "If you run the lab locally using Anaconda, you can load the correct library and versions by uncommenting the following:\n"
      ]
    },
    {
      "cell_type": "code",
      "id": "98de3c6c-ff32-4b68-bd08-e5b0651ec449",
      "metadata": {},
      "outputs": [],
      "source": [
        "#If you run the lab locally using Anaconda, you can load the correct library and versions by uncommenting the following:\n#install specific version of libraries used in lab\n! conda install pandas -y\n! conda install numpy -y\n! conda install scipy -y\n! conda install seaborn -y\n! conda install -c conda-forge mplfinance -y"
      ]
    },
    {
      "cell_type": "code",
      "id": "9b8ce792-203f-42f3-97d3-1ade1e3d7eae",
      "metadata": {},
      "outputs": [],
      "source": [
        "import pandas as pd\nimport numpy as np\nimport matplotlib.dates as mpl_dates\nimport mplfinance as mpf\nimport matplotlib.pyplot as plt\nimport seaborn as sns\n#sns.set_theme()\n%matplotlib inline \nfrom scipy import stats\nimport warnings\nwarnings.filterwarnings(\"ignore\")"
      ]
    },
    {
      "cell_type": "markdown",
      "id": "2c7f1cc0-5514-461e-8955-2093eb73d9bf",
      "metadata": {},
      "outputs": [],
      "source": [
        "Load the data and store it in dataframe `df`:\n"
      ]
    },
    {
      "cell_type": "code",
      "id": "10f9f757-cb78-4a21-bb6d-7ca159e34360",
      "metadata": {},
      "outputs": [],
      "source": [
        "path = 'https://cf-courses-data.s3.us.cloud-object-storage.appdomain.cloud/IBMSkillsNetwork-GPXX05JFEN/labs/MATICBUSD_lab3.csv'"
      ]
    },
    {
      "cell_type": "markdown",
      "id": "e2cddff8-4bc8-41bc-bef0-3e8f2ae59696",
      "metadata": {},
      "outputs": [],
      "source": [
        "This dataset was hosted on IBM Cloud object. Click <a href=\"https://cocl.us/DA101EN_object_storage?utm_medium=Exinfluencer&utm_source=Exinfluencer&utm_content=000026UJ&utm_term=10006555&utm_id=NA-SkillsNetwork-Channel-SkillsNetworkCoursesIBMDeveloperSkillsNetworkDA0101ENSkillsNetwork20235326-2021-01-01\">HERE</a> for free storage.\n"
      ]
    },
    {
      "cell_type": "markdown",
      "id": "eb2f8f0c-5e9e-40f2-ba34-eba386d41e3d",
      "metadata": {},
      "outputs": [],
      "source": [
        "\\#you will need to download the dataset; if you are running locally, please comment out the following\nawait download(path, \"auto.csv\")\npath=\"auto.csv\"\n"
      ]
    },
    {
      "cell_type": "code",
      "id": "f6a94cc8-e3f4-4ae0-870d-2ddae91547e0",
      "metadata": {},
      "outputs": [],
      "source": [
        "#read dataframe \ndf = pd.read_csv(path, index_col = 0)\ndf.index = df.index.astype(\"datetime64[ns]\")\nmain = df.copy()"
      ]
    },
    {
      "cell_type": "code",
      "id": "dcbbf05b-321d-4378-aebb-930f6d0b492d",
      "metadata": {},
      "outputs": [],
      "source": [
        "df.head(5)"
      ]
    },
    {
      "cell_type": "markdown",
      "id": "1a785da0-15a9-4c3a-a69d-59b64f1eb144",
      "metadata": {},
      "outputs": [],
      "source": [
        "## 2. Analyzing Individual Feature Patterns Using Visualization\n"
      ]
    },
    {
      "cell_type": "markdown",
      "id": "207986c6-626c-4109-a8ca-b1e96ae4868b",
      "metadata": {},
      "outputs": [],
      "source": [
        "To install Seaborn we use pip, the Python package manager.\n"
      ]
    },
    {
      "cell_type": "markdown",
      "id": "3536efe6-aadf-4be8-8af9-dd2861c08d74",
      "metadata": {},
      "outputs": [],
      "source": [
        "Import visualization packages \"Matplotlib\" and \"Seaborn\". Don't forget about \"%matplotlib inline\" to plot in a Jupyter notebook.\n"
      ]
    },
    {
      "cell_type": "markdown",
      "id": "57bca440-efec-43fd-aa49-c883317f6180",
      "metadata": {},
      "outputs": [],
      "source": [
        "#### How to choose the right visualization method?\n<p>When visualizing individual variables, it is important to first understand what type of variable you are dealing with. This will help us find the right visualization method for that variable.</p>\n"
      ]
    },
    {
      "cell_type": "code",
      "id": "dbcb6e07-b4d9-45b4-9fdb-7d51eb0c927c",
      "metadata": {},
      "outputs": [],
      "source": [
        "# list the data types for each column\nprint(df.dtypes)"
      ]
    },
    {
      "cell_type": "code",
      "id": "ec4472f2-000c-4f5f-ba9a-000f925ebe2a",
      "metadata": {},
      "outputs": [],
      "source": [
        "main.reset_index(inplace = True)\n\n# Extracting Data for plotting\nohlc = main[[\"Ts\", \"Open\", \"High\", \"Low\", \"Close\", \"Volume\"]].copy()\n\nohlc[\"Ts\"] = pd.to_datetime(ohlc[\"Ts\"])\nohlc.index = ohlc[\"Ts\"]\n\n# Resampling to 1 day\nohlc = ohlc.resample(\"1d\").agg({\n    \"Open\": \"first\",\n    \"High\": \"max\",\n    \"Low\": \"min\",\n    \"Close\": \"last\",\n    \"Volume\": \"sum\"\n})\n\nohlc[\"Ts\"] = ohlc.index\nohlc[\"Ts\"] = ohlc[\"Ts\"].apply(mpl_dates.date2num)\n\nmpf.plot(ohlc, type=\"candle\", \n         volume=True, \n         style=\"yahoo\", \n         ylabel=\"Price\", \n         xlabel=\"Date\", \n         title=\"Daily Candlestick Chart of MATICBUSD\")"
      ]
    },
    {
      "cell_type": "markdown",
      "id": "0b66714c-25d2-4c0e-a2be-77db8af7f732",
      "metadata": {},
      "outputs": [],
      "source": [
        "<div class=\"alert alert-danger alertdanger\" style=\"margin-top: 20px\">\n<h3>Question  #1:</h3>\n\n<b>What is the data type of the column \"Volume\"? </b>\n\n</div>\n"
      ]
    },
    {
      "cell_type": "code",
      "id": "d7acd036-765b-4f8a-a0e7-86271c2cb52d",
      "metadata": {},
      "outputs": [],
      "source": [
        "# Write your code below and press Shift+Enter to execute \n"
      ]
    },
    {
      "cell_type": "markdown",
      "id": "5ec730cb-5857-4e1f-9409-81f1981a5959",
      "metadata": {},
      "outputs": [],
      "source": [
        "<details><summary>Click here for the solution</summary>\n\n```python\ndf['Volume'].dtypes\n```\n\n</details>\n"
      ]
    },
    {
      "cell_type": "markdown",
      "id": "f8479bbc-69fc-4233-88e6-15077cf8542e",
      "metadata": {},
      "outputs": [],
      "source": [
        "For example, we can calculate the correlation between variables  of type \"int64\" or \"float64\" using the method \"corr\":\n"
      ]
    },
    {
      "cell_type": "code",
      "id": "8f8eac28-318a-4fd9-b509-91c6d363359a",
      "metadata": {},
      "outputs": [],
      "source": [
        "corr = df.corr()\ncorr"
      ]
    },
    {
      "cell_type": "markdown",
      "id": "0a57cf22-d49d-45a3-932d-955cf24cf296",
      "metadata": {},
      "outputs": [],
      "source": [
        "The diagonal elements are always one; we will study correlation more precisely Pearson correlation in-depth at the end of the notebook.\nLets take a look on corelation heatmap of our data:"
      ]
    },
    {
      "cell_type": "code",
      "id": "5376cfcf-1579-437b-8d84-7c8b79352a5c",
      "metadata": {},
      "outputs": [],
      "source": [
        "sns.heatmap(corr)"
      ]
    },
    {
      "cell_type": "markdown",
      "id": "79b22d02-2d96-4b6d-a0f1-704293a67186",
      "metadata": {},
      "outputs": [],
      "source": [
        "Now lets look on some columns more attentive:"
      ]
    },
    {
      "cell_type": "code",
      "id": "830c2a21-2270-428c-a4e3-540f5f22017d",
      "metadata": {},
      "outputs": [],
      "source": [
        "df[['Volume', 'Avg_price', 'ADOSC', 'TRANGE', 'NATR']].corr()"
      ]
    },
    {
      "cell_type": "code",
      "id": "84e37d48-7a46-471b-b058-9721401134ab",
      "metadata": {},
      "outputs": [],
      "source": [
        "sns.heatmap(df[['Volume', 'Avg_price', 'ADOSC', 'TRANGE', 'NATR']].corr())"
      ]
    },
    {
      "cell_type": "markdown",
      "id": "072f0909-5e3c-4040-b06b-3ca6f042c9bb",
      "metadata": {},
      "outputs": [],
      "source": [
        "<div class=\"alert alert-danger alertdanger\" style=\"margin-top: 20px\">\n<h3> Question  #2: </h3>\n\n<p>Find the correlation between the following columns: ADOSC, TRANGE and NATR.</p>\n<p>Hint: if you would like to select those columns, use the following syntax: df[['ADOSC', 'TRANGE', 'NATR']]</p>\n</div>\n"
      ]
    },
    {
      "cell_type": "code",
      "id": "30fdd910-70c9-4dc4-825d-0cb1ab59735a",
      "metadata": {},
      "outputs": [],
      "source": [
        "# Write your code below and press Shift+Enter to execute \n"
      ]
    },
    {
      "cell_type": "markdown",
      "id": "e05c42dd-dcca-44d4-a5c9-0c7cd099a88d",
      "metadata": {},
      "outputs": [],
      "source": [
        "<details><summary>Click here for the solution</summary>\n\n```python\ndf[['ADOSC', 'TRANGE', 'NATR']].corr()\n```\n\n</details>\n"
      ]
    },
    {
      "cell_type": "markdown",
      "id": "f673d15e-59fb-4a7a-a832-50aa6a417f30",
      "metadata": {},
      "outputs": [],
      "source": [
        "## Continuous Numerical Variables:\n\n<p>Continuous numerical variables are variables that may contain any value within some range. They can be of type \"int64\" or \"float64\". A great way to visualize these variables is by using scatterplots with fitted lines.</p>\n\n<p>In order to start understanding the (linear) relationship between an individual variable and the price, we can use \"regplot\" which plots the scatterplot plus the fitted regression line for the data.</p>\n"
      ]
    },
    {
      "cell_type": "markdown",
      "id": "02338782-aa10-4837-a21c-eab5d16f65c7",
      "metadata": {},
      "outputs": [],
      "source": [
        "Let's see several examples of different linear relationships:\n"
      ]
    },
    {
      "cell_type": "markdown",
      "id": "5c84d1bd-5458-47f1-9327-2521e31bf9ed",
      "metadata": {},
      "outputs": [],
      "source": [
        "### Weak Linear Relationship"
      ]
    },
    {
      "cell_type": "markdown",
      "id": "9a2224fa-ebd1-4dfb-a1b2-c3d79939f15f",
      "metadata": {},
      "outputs": [],
      "source": [
        "Let's find the scatterplot of \"Avg_price\" and \"ADOSC\".\n"
      ]
    },
    {
      "cell_type": "code",
      "id": "66eacf3a-935d-43e7-a4ff-29b3d716ead3",
      "metadata": {},
      "outputs": [],
      "source": [
        "# Engine size as potential predictor variable of price\nsns.regplot(x=\"Avg_price\", y =\"ADOSC\", data=df, scatter_kws={'s':0.2})\nplt.ylim(0,)"
      ]
    },
    {
      "cell_type": "markdown",
      "id": "3143769f-0e33-4f74-a183-1a07d9e0ba81",
      "metadata": {},
      "outputs": [],
      "source": [
        "<p>Avg_price does not seem like a good predictor of the ADOSC at all since the regression line is close to horizontal. Also, the data points are very scattered and far from the fitted line, showing lots of variability. Therefore, it's not a reliable variable.</p>\n"
      ]
    },
    {
      "cell_type": "markdown",
      "id": "448ef785-7f1f-4eed-8dd5-61d2078d97dd",
      "metadata": {},
      "outputs": [],
      "source": [
        "We can examine the correlation between 'Avg_price' and 'ADOSC' and see that it's approximately -0.001704.\n"
      ]
    },
    {
      "cell_type": "code",
      "id": "453b3f4d-ed03-48a3-8a47-0ffba053a0e3",
      "metadata": {},
      "outputs": [],
      "source": [
        "df[[\"Avg_price\", \"ADOSC\"]].corr()"
      ]
    },
    {
      "cell_type": "code",
      "id": "b73c956d-d1ef-4533-a9c9-2888a05eea15",
      "metadata": {},
      "outputs": [],
      "source": [
        "df[[\"Avg_price\", \"ADOSC\"]].corr().loc[\"Avg_price\", \"ADOSC\"]"
      ]
    },
    {
      "cell_type": "markdown",
      "id": "c7bd90dc-b723-4ad7-b09f-8b8dd33ef49d",
      "metadata": {},
      "outputs": [],
      "source": [
        "### Positive Linear Relationship\n\nVolume is a potential predictor variable of NATR. Let's find the scatterplot of \"Volume\" and \"NATR\".\n"
      ]
    },
    {
      "cell_type": "code",
      "id": "23ac864c-c0df-4b79-9f03-9a9b21036c55",
      "metadata": {},
      "outputs": [],
      "source": [
        "sns.regplot(x=\"NATR\", y=\"Volume\", data=df, scatter_kws={'s':0.5})"
      ]
    },
    {
      "cell_type": "markdown",
      "id": "0f6b0094-0736-47ac-8ca7-d09a895f247a",
      "metadata": {},
      "outputs": [],
      "source": [
        "<p>As NATR goes up, the Volume goes up: this indicates an positive relationship between these two variables. NATR could potentially be a predictor of Volume.</p>\n"
      ]
    },
    {
      "cell_type": "markdown",
      "id": "9ba0f20e-53bc-456c-a15f-5db7fa54cede",
      "metadata": {},
      "outputs": [],
      "source": [
        "We can examine the correlation between 'Volume' and 'NATR' and see it's approximately 0.507574.\n"
      ]
    },
    {
      "cell_type": "code",
      "id": "c9e622fa-04ce-4603-8406-ee8ff25ea3ed",
      "metadata": {},
      "outputs": [],
      "source": [
        "df[['Volume', 'NATR']].corr().iloc[0,1]"
      ]
    },
    {
      "cell_type": "markdown",
      "id": "2982eaa2-4be6-4c98-b8de-18c1d7ef4bbd",
      "metadata": {},
      "outputs": [],
      "source": [
        " <div class=\"alert alert-danger alertdanger\" style=\"margin-top: 20px\">\n<h1> Question  3 a): </h1>\n\n<p>Find the correlation  between x=\"Volume\" and y=\"TRANGE\".</p>\n<p>Hint: if you would like to select those columns, use the following syntax: df[[\"Volume\",\"TRANGE\"]].  </p>\n</div>\n"
      ]
    },
    {
      "cell_type": "code",
      "id": "f9615c3e-658d-4e90-ba10-9a012ca92eb5",
      "metadata": {},
      "outputs": [],
      "source": [
        "# Write your code below and press Shift+Enter to execute\n"
      ]
    },
    {
      "cell_type": "markdown",
      "id": "414580ab-0ea9-497d-b51d-c39e6de76e74",
      "metadata": {},
      "outputs": [],
      "source": [
        "<details><summary>Click here for the solution</summary>\n\n```python\n\n\nsns.regplot(x=\"Volume\", y=\"TRANGE\", data=df, scatter_kws={'s':0.5})\n\n```\n\n</details>\n"
      ]
    },
    {
      "cell_type": "markdown",
      "id": "94fb3b83-e75a-4c43-9141-b560c9f83f06",
      "metadata": {},
      "outputs": [],
      "source": [
        "<div class=\"alert alert-danger alertdanger\" style=\"margin-top: 20px\">\n<h1>Question  3 b):</h1>\n\n<p>Given the correlation results between \"Volume\" and \"Avg_price\", do you expect a linear relationship?</p> \n<p>Verify your results using the function \"regplot()\".</p>\n</div>\n"
      ]
    },
    {
      "cell_type": "code",
      "id": "e43c4895-3e37-4e61-98f8-dc80b2ea362b",
      "metadata": {},
      "outputs": [],
      "source": [
        "# Write your code below and press Shift+Enter to execute \n"
      ]
    },
    {
      "cell_type": "markdown",
      "id": "206118fc-d9b3-43fd-bbe6-6f499ec0666b",
      "metadata": {},
      "outputs": [],
      "source": [
        "<details><summary>Click here for the solution</summary>\n\n```python\n\n#Code: \nsns.regplot(x=\"Volume\", y=\"Avg_price\", data=df)\n\n```\n\n</details>\n"
      ]
    },
    {
      "cell_type": "markdown",
      "id": "550aff9e-2bcb-4cd1-b7b8-c74d48278980",
      "metadata": {},
      "outputs": [],
      "source": [
        "### Categorical Variables\n\n<p>These are variables that describe a 'characteristic' of a data unit, and are selected from a small group of categories. The categorical variables can have the type \"object\" or \"int64\". A good way to visualize categorical variables is by using boxplots.</p>\n"
      ]
    },
    {
      "cell_type": "markdown",
      "id": "f4625743-f249-4e9e-b6c9-a6d0a2edfd80",
      "metadata": {},
      "outputs": [],
      "source": [
        "Let's look at the relationship between \"Volume\" and \"ADOSC\".\n"
      ]
    },
    {
      "cell_type": "markdown",
      "id": "0283ecf3-3dea-431a-975e-96cfb155e084",
      "metadata": {},
      "outputs": [],
      "source": [
        "First of all, lets make some bins(like in lab2) to make analysis based on groups."
      ]
    },
    {
      "cell_type": "code",
      "id": "f41cda63-eaa0-42c6-967d-ebb7c206c0c4",
      "metadata": {},
      "outputs": [],
      "source": [
        "bins = np.linspace(min(df[\"Volume\"]), max(df[\"Volume\"]), 6)\nbins"
      ]
    },
    {
      "cell_type": "code",
      "id": "c9b9f31f-1c23-4e4f-b440-4983ac9995c1",
      "metadata": {},
      "outputs": [],
      "source": [
        "group_names = ['Low', 'Low-Medium', 'Medium', 'Medium-High', 'High']\ndf['Volume-binned'] = pd.cut(df['Volume'], bins, labels = group_names, include_lowest = True )\ndf[['Volume','Volume-binned']].head()"
      ]
    },
    {
      "cell_type": "code",
      "id": "77fef9d8-8529-40d7-84ff-03ad03645ea1",
      "metadata": {},
      "outputs": [],
      "source": [
        "sns.boxplot(x=\"Volume-binned\", y=\"ADOSC\", data=df)"
      ]
    },
    {
      "cell_type": "markdown",
      "id": "96a1fb4f-108a-4017-a7c8-a6d74759f4c8",
      "metadata": {},
      "outputs": [],
      "source": [
        "<p>We see that the distributions of ADOSC between the Volume categories have a significant overlap, so ADOSC would not be a good predictor of Volume. Let's examine engine \"NATR\" and \"Volume\":</p>\n"
      ]
    },
    {
      "cell_type": "code",
      "id": "04987d41-59ee-44ed-a628-78e164ab4d47",
      "metadata": {},
      "outputs": [],
      "source": [
        "bins = np.linspace(min(df[\"NATR\"]), max(df[\"NATR\"]), 6)\nbins"
      ]
    },
    {
      "cell_type": "code",
      "id": "a739d753-d98f-4148-86bf-7a6f957959b3",
      "metadata": {},
      "outputs": [],
      "source": [
        "group_names = ['Low', 'Low-Medium', 'Medium', 'Medium-High', 'High']\ndf['NATR-binned'] = pd.cut(df['NATR'], bins, labels = group_names, include_lowest = True )\ndf[['NATR','NATR-binned']].head()"
      ]
    },
    {
      "cell_type": "code",
      "id": "257308e0-3f4b-4c56-9189-2a92854509cc",
      "metadata": {},
      "outputs": [],
      "source": [
        "sns.boxplot(x = \"NATR-binned\", y = \"Volume\", data = df)"
      ]
    },
    {
      "cell_type": "markdown",
      "id": "2507aa6f-728a-4a52-99dc-0d34cede6d85",
      "metadata": {},
      "outputs": [],
      "source": [
        "<p>Here we see that the distribution of Volume between this 5 NATR categories, are distinct enough to take Volume as a potential good predictor of NATR.</p>\n"
      ]
    },
    {
      "cell_type": "markdown",
      "id": "bb192dfb-a133-4f20-94e0-c79ce0f89c8d",
      "metadata": {},
      "outputs": [],
      "source": [
        "Let's examine \"Avg_price\" and \"NATR\".\n"
      ]
    },
    {
      "cell_type": "code",
      "id": "605cad2d-276a-4a29-b66d-562befd768ca",
      "metadata": {},
      "outputs": [],
      "source": [
        "bins = np.linspace(min(df[\"Avg_price\"]), max(df[\"Avg_price\"]), 6)\nbins"
      ]
    },
    {
      "cell_type": "code",
      "id": "8644f7b0-fa24-4841-9377-86ab5b4674b4",
      "metadata": {},
      "outputs": [],
      "source": [
        "group_names = ['Low', 'Low-Medium', 'Medium', 'Medium-High', 'High']\ndf['Avg_price-binned'] = pd.cut(df['Avg_price'], bins, labels = group_names, include_lowest = True )\ndf[['Avg_price','Avg_price-binned']].head()"
      ]
    },
    {
      "cell_type": "code",
      "id": "f057e769-5352-4d30-bb78-c303eb244c0a",
      "metadata": {},
      "outputs": [],
      "source": [
        "# drive-wheels\nsns.boxplot(x=\"Avg_price-binned\", y=\"NATR\", data=df)"
      ]
    },
    {
      "cell_type": "markdown",
      "id": "6e617650-9e0e-43ce-a807-a1684f0777f6",
      "metadata": {},
      "outputs": [],
      "source": [
        "<p>Here we see that the distribution of NATR between the different Avg_price categories differs. As such, NATR could potentially be a predictor of Avg_price.</p>\n"
      ]
    },
    {
      "cell_type": "markdown",
      "id": "806ebab6-23c2-4446-a92b-295bdca1c086",
      "metadata": {},
      "outputs": [],
      "source": [
        "## 3. Descriptive Statistical Analysis\n"
      ]
    },
    {
      "cell_type": "markdown",
      "id": "9969fe7a-b174-47e3-8a92-f29d49d89af4",
      "metadata": {},
      "outputs": [],
      "source": [
        "<p>Let's first take a look at the variables by utilizing a description method.</p>\n\n<p>The <b>describe</b> function automatically computes basic statistics for all continuous variables. Any NaN values are automatically skipped in these statistics.</p>\n\nThis will show:\n\n<ul>\n    <li>the count of that variable</li>\n    <li>the mean</li>\n    <li>the standard deviation (std)</li> \n    <li>the minimum value</li>\n    <li>the IQR (Interquartile Range: 25%, 50% and 75%)</li>\n    <li>the maximum value</li>\n<ul>\n"
      ]
    },
    {
      "cell_type": "markdown",
      "id": "f169d780-b463-486c-bc94-8cbacbcbd68a",
      "metadata": {},
      "outputs": [],
      "source": [
        "We can apply the method \"describe\" as follows:\n"
      ]
    },
    {
      "cell_type": "code",
      "id": "4f2ab5db-5dde-4a74-a35a-e9b35f3ae3f0",
      "metadata": {},
      "outputs": [],
      "source": [
        "df.describe()"
      ]
    },
    {
      "cell_type": "markdown",
      "id": "8d5d7726-e48a-44c6-bf90-4551420432b5",
      "metadata": {},
      "outputs": [],
      "source": [
        "The default setting of \"describe\" skips variables of type category. We can apply the method \"describe\" on the variables of type 'category' as follows:\n"
      ]
    },
    {
      "cell_type": "code",
      "id": "8b72659d-cb1a-4096-92c5-f800abc50c67",
      "metadata": {},
      "outputs": [],
      "source": [
        "df.describe(include=['category'])"
      ]
    },
    {
      "cell_type": "markdown",
      "id": "9f70e8d0-6f31-4b98-b83a-b0c2285079eb",
      "metadata": {},
      "outputs": [],
      "source": [
        "## 4. Basics of Grouping\n"
      ]
    },
    {
      "cell_type": "markdown",
      "id": "93c89f64-a096-49f4-a986-7647ff55e25e",
      "metadata": {},
      "outputs": [],
      "source": [
        "<p>The \"groupby\" method groups data by different categories. The data is grouped based on one or several variables, and analysis is performed on the individual groups.</p>\n\n<p>For example, let's group by the variable \"Volume-binned\". We see that there are 5 different categories of Volume-binned.</p>\n"
      ]
    },
    {
      "cell_type": "code",
      "id": "07902879-b6a7-4bdd-be44-d115ed03218e",
      "metadata": {},
      "outputs": [],
      "source": [
        "df['Volume-binned'].unique()"
      ]
    },
    {
      "cell_type": "markdown",
      "id": "c8317dba-2321-4cac-8fa2-f7e21a1c27d8",
      "metadata": {},
      "outputs": [],
      "source": [
        "<p>If we want to know, on average, which type of drive wheel is most valuable, we can group \"Volume-binned\" and then average them.</p>\n\n<p>We can select the columns 'Volume-binned' and 'Volume', then assign it to the variable \"df_group_one\".</p>\n"
      ]
    },
    {
      "cell_type": "code",
      "id": "38bf4d2e-9c95-46cc-91f3-91b30e7604de",
      "metadata": {},
      "outputs": [],
      "source": [
        "df_group_one = df[['Volume-binned', 'Volume']]"
      ]
    },
    {
      "cell_type": "markdown",
      "id": "c1ba8ddd-18b8-47e6-8288-439b6155c04a",
      "metadata": {},
      "outputs": [],
      "source": [
        "We can then calculate the volume for each of the different categories of data.\n"
      ]
    },
    {
      "cell_type": "code",
      "id": "3d2747ed-11b7-41df-96e5-83baee33a972",
      "metadata": {},
      "outputs": [],
      "source": [
        "# grouping results\ndf_group_one = df_group_one.groupby(['Volume-binned'], as_index = False).mean()\n\n#set values precision as 0\npd.set_option(\"display.precision\", 0)\ndf_group_one"
      ]
    },
    {
      "cell_type": "markdown",
      "id": "ec303987-8b5c-4ad1-8183-0fc4931969fe",
      "metadata": {},
      "outputs": [],
      "source": [
        "<p>You can also group by multiple variables. For example, let's group by both 'Volume-binned' and 'Avg_price-binned'. This groups the dataframe by the unique combination of 'Volume-binned' and 'Avg_price-binned'. We can store the results in the variable 'grouped_test1'.</p>\n"
      ]
    },
    {
      "cell_type": "code",
      "id": "070ea897-072b-421f-adb9-52f04f9b56a8",
      "metadata": {},
      "outputs": [],
      "source": [
        "# grouping results\ndf_gptest = df[[\"Volume-binned\", \"Avg_price-binned\", \"Volume\"]]\ngrouped_test1 = df_gptest.groupby([\"Volume-binned\", \"Avg_price-binned\"], as_index=False).mean()\ngrouped_test1"
      ]
    },
    {
      "cell_type": "markdown",
      "id": "b1a638ef-4fd2-4b89-bec1-9e1f4572f42d",
      "metadata": {},
      "outputs": [],
      "source": [
        "<p>This grouped data is much easier to visualize when it is made into a cross table. A cross table is a two-way table consisting of columns and rows. It is also known as a pivot table or a multi-dimensional table. Its greatest strength is its ability to structure, summarize and display large amounts of data. Cross tables can also be used to determine whether there is a relation between the row variable and the column variable or not.\n    \n    \n<p>In this case, we will leave the Volume-binned variable as the rows of the table, and cross Avg_price-binned to become the columns of the table:</p>\n"
      ]
    },
    {
      "cell_type": "code",
      "id": "84488f93-1528-4db9-a6ba-86061d65a2b4",
      "metadata": {},
      "outputs": [],
      "source": [
        "cross_table = pd.crosstab(df[\"Volume-binned\"], df[\"Avg_price-binned\"])\ncross_table"
      ]
    },
    {
      "cell_type": "markdown",
      "id": "c51fecaf-8971-4bf3-baa8-22191e288336",
      "metadata": {},
      "outputs": [],
      "source": [
        "<div class=\"alert alert-danger alertdanger\" style=\"margin-top: 20px\">\n<h1>Question 4:</h1>\n\n<p>Use the \"groupby\" function to find the average \"Volume\" of each group based on \"NATR-binned\".</p>\n</div>\n"
      ]
    },
    {
      "cell_type": "code",
      "id": "a5ecd2ce-76ed-4cc8-ade6-d26abaf33e44",
      "metadata": {},
      "outputs": [],
      "source": [
        "# Write your code below and press Shift+Enter to execute \n# grouping results\n"
      ]
    },
    {
      "cell_type": "markdown",
      "id": "dc2482cd-2443-4012-8e62-f4cbf5e919a6",
      "metadata": {},
      "outputs": [],
      "source": [
        "<details><summary>Click here for the solution</summary>\n\n```python\n# grouping results\ndf_gptest2 = df[['NATR-binned', 'Volume']]\ngrouped_test_bodystyle = df_gptest2.groupby(['NATR-binned'],as_index= False).mean()\ngrouped_test_bodystyle\n\n```\n\n</details>\n"
      ]
    },
    {
      "cell_type": "markdown",
      "id": "3ddb1c4a-7b3e-44d9-9962-f9f2be82484b",
      "metadata": {},
      "outputs": [],
      "source": [
        "If you did not import \"pyplot\", let's do it again.\n"
      ]
    },
    {
      "cell_type": "markdown",
      "id": "5bb557c7-35f7-439c-866e-7902316ee3d1",
      "metadata": {},
      "outputs": [],
      "source": [
        "#### Variables: Volume-binned vs. Avg_price-binned\n"
      ]
    },
    {
      "cell_type": "markdown",
      "id": "26079033-ce57-4c31-b98c-0135bad0f4f0",
      "metadata": {},
      "outputs": [],
      "source": [
        "Let's use a heat map to visualize the relationship between Volume-binned vs Avg_price-binned."
      ]
    },
    {
      "cell_type": "code",
      "id": "28adf02e-0806-4e47-878c-143dc490246b",
      "metadata": {},
      "outputs": [],
      "source": [
        "#use the grouped results\nplt.grid(False)\nplt.pcolor(cross_table, cmap='RdBu')\n\nplt.colorbar()\nplt.show()"
      ]
    },
    {
      "cell_type": "markdown",
      "id": "54bb6d58-1e15-4403-aa23-f379cd217fe7",
      "metadata": {},
      "outputs": [],
      "source": [
        "<p>The heatmap plots the target variable (Avg_price-binned) proportional to colour with respect to the variable 'Volume-binned' on the vertical and horizontal axis, respectively. This allows us to visualize how the Avg_price-binned is related to 'Volume-binned'.</p>\n\n<p>The default labels convey no useful information to us. Let's change that:</p>\n"
      ]
    },
    {
      "cell_type": "code",
      "id": "2e815c8f-973a-445a-ac2a-b0d87945ca0a",
      "metadata": {},
      "outputs": [],
      "source": [
        "fig, ax = plt.subplots()\nplt.grid(False)\nim = ax.pcolor(cross_table, cmap='RdBu')\n\n#label names\nrow_labels = cross_table.columns.categories\ncol_labels = cross_table.index\n\n#move ticks and labels to the center\nax.set_xticks(np.arange(cross_table.shape[1]) + 0.5, minor=False)\nax.set_yticks(np.arange(cross_table.shape[0]) + 0.5, minor=False)\n\n#insert labels\nax.set_xticklabels(row_labels, minor=False)\nax.set_yticklabels(col_labels, minor=False)\n\n#rotate label if too long\nplt.xticks(rotation=90)\n\nfig.colorbar(im)\nplt.show()"
      ]
    },
    {
      "cell_type": "markdown",
      "id": "7df0bc6b-2940-4de7-9a27-55ccd151c0d8",
      "metadata": {},
      "outputs": [],
      "source": [
        "<p>Visualization is very important in data science, and Python visualization packages provide great freedom. We will go more in-depth in a separate Python visualizations course.</p>\n\n<p>The main question we want to answer in this module is, \"What are the main characteristics which have the most impact on the coins price?\".</p>\n\n<p>To get a better measure of the important characteristics, we look at the correlation of these variables with the coins price. In other words: how is the coin price dependent on this variable?</p>\n"
      ]
    },
    {
      "cell_type": "markdown",
      "id": "a97582f8-0761-41d1-ba2d-62c29d26f275",
      "metadata": {},
      "outputs": [],
      "source": [
        "## 5. Correlation and Causation\n"
      ]
    },
    {
      "cell_type": "markdown",
      "id": "0f932807-482e-43b3-9057-74abaf624ea1",
      "metadata": {},
      "outputs": [],
      "source": [
        "<p><b>Correlation</b>: a measure of the extent of interdependence between variables.</p>\n\n<p><b>Causation</b>: the relationship between cause and effect between two variables.</p>\n\n<p>It is important to know the difference between these two. Correlation does not imply causation. Determining correlation is much simpler  the determining causation as causation may require independent experimentation.</p>\n"
      ]
    },
    {
      "cell_type": "markdown",
      "id": "e5a123f9-4ec5-419b-b7c9-ac9453363dd7",
      "metadata": {},
      "outputs": [],
      "source": [
        "<p><b>Pearson Correlation</b></p>\n<p>The Pearson Correlation measures the linear dependence between two variables X and Y.</p>\n<p>The resulting coefficient is a value between -1 and 1 inclusive, where:</p>\n<ul>\n    <li><b>1</b>: Perfect positive linear correlation.</li>\n    <li><b>0</b>: No linear correlation, the two variables most likely do not affect each other.</li>\n    <li><b>-1</b>: Perfect negative linear correlation.</li>\n</ul>\n"
      ]
    },
    {
      "cell_type": "markdown",
      "id": "e2493a2b-6379-4407-b0ff-c164c0d0cd73",
      "metadata": {},
      "outputs": [],
      "source": [
        "<p>Pearson Correlation is the default method of the function \"corr\". Like before, we can calculate the Pearson Correlation of the of the 'int64' or 'float64'  variables.</p>\n"
      ]
    },
    {
      "cell_type": "code",
      "id": "ba54d2df-9a97-423f-a6a8-c0e5e57fc459",
      "metadata": {},
      "outputs": [],
      "source": [
        "#set values precision as 6\npd.set_option(\"display.precision\", 6)\ndf.corr()"
      ]
    },
    {
      "cell_type": "markdown",
      "id": "2f5b318b-f2bd-46b5-9cfe-50dc85efbc77",
      "metadata": {},
      "outputs": [],
      "source": [
        "Sometimes we would like to know the significant of the correlation estimate.\n"
      ]
    },
    {
      "cell_type": "markdown",
      "id": "e1852178-79ec-495b-85b0-5836b53cf4bd",
      "metadata": {},
      "outputs": [],
      "source": [
        "<b>P-value</b>\n\n<p>What is this P-value? The P-value is the probability value that the correlation between these two variables is statistically significant. Normally, we choose a significance level of 0.05, which means that we are 95% confident that the correlation between the variables is significant.</p>\n\nBy convention, when the\n\n<ul>\n    <li>p-value is $<$ 0.001: we say there is strong evidence that the correlation is significant.</li>\n    <li>the p-value is $<$ 0.05: there is moderate evidence that the correlation is significant.</li>\n    <li>the p-value is $<$ 0.1: there is weak evidence that the correlation is significant.</li>\n    <li>the p-value is $>$ 0.1: there is no evidence that the correlation is significant.</li>\n</ul>\n"
      ]
    },
    {
      "cell_type": "markdown",
      "id": "2097ab9a-99ee-43e3-8faf-a8c3a77bd957",
      "metadata": {},
      "outputs": [],
      "source": [
        "We can obtain this information using  \"stats\" module in the \"scipy\"  library.\n"
      ]
    },
    {
      "cell_type": "markdown",
      "id": "b2387386-5daf-47f2-9479-9a997b4dcb50",
      "metadata": {},
      "outputs": [],
      "source": [
        "### Volume vs. ADOSC\n"
      ]
    },
    {
      "cell_type": "markdown",
      "id": "a4c8474e-3c1c-4033-a773-d8cfa4ef55ce",
      "metadata": {},
      "outputs": [],
      "source": [
        "Let's calculate the  Pearson Correlation Coefficient and P-value of 'Volume' and 'ADOSC'.\n"
      ]
    },
    {
      "cell_type": "code",
      "id": "aa60867c-17fe-45d0-9520-739147a353dd",
      "metadata": {},
      "outputs": [],
      "source": [
        "pearson_coef, p_value = stats.pearsonr(df['Volume'], df['ADOSC'])\nprint(\"The Pearson Correlation Coefficient is\", round(pearson_coef, 2), \" with a P-value of P =\", round(p_value, 2))  "
      ]
    },
    {
      "cell_type": "markdown",
      "id": "1e7e664f-3b35-49ab-b118-baae08c06510",
      "metadata": {},
      "outputs": [],
      "source": [
        "#### Conclusion:\n<p>Since the p-value is $<$ 0.001, the correlation between Volume and ADOSC is statistically significant, although the linear relationship is weak (~0.1).</p>\n"
      ]
    },
    {
      "cell_type": "markdown",
      "id": "a202283f-0ef4-4d37-a5a2-a98a9d273c18",
      "metadata": {},
      "outputs": [],
      "source": [
        "### Volume vs. TRANGE\n"
      ]
    },
    {
      "cell_type": "markdown",
      "id": "09f13a05-a2e3-496f-b616-3ce433e3cd67",
      "metadata": {},
      "outputs": [],
      "source": [
        "Let's calculate the  Pearson Correlation Coefficient and P-value of 'Volume' and 'TRANGE'.\n"
      ]
    },
    {
      "cell_type": "code",
      "id": "82b90e23-0160-4361-ba23-0e8306d39a20",
      "metadata": {},
      "outputs": [],
      "source": [
        "pearson_coef, p_value = stats.pearsonr(df['Volume'], df['TRANGE'])\nprint(\"The Pearson Correlation Coefficient is\", round(pearson_coef, 2), \" with a P-value of P = \", round(p_value, 2))  "
      ]
    },
    {
      "cell_type": "markdown",
      "id": "36634396-c1cb-4847-b25d-98fbb07232f6",
      "metadata": {},
      "outputs": [],
      "source": [
        "#### Conclusion:\n\n<p>Since the p-value is $<$ 0.001, the correlation between Volume and TRANGE is statistically significant, and the linear relationship is not strong (~0.25).</p>\n"
      ]
    },
    {
      "cell_type": "markdown",
      "id": "48f21a1e-fd85-46ca-9146-ef3ceaacfff3",
      "metadata": {},
      "outputs": [],
      "source": [
        "### Volume vs. NATR\n\nLet's calculate the  Pearson Correlation Coefficient and P-value of 'Volume' and 'NATR'.\n"
      ]
    },
    {
      "cell_type": "code",
      "id": "9f298819-8152-4525-aa12-dcfc3f40d0b6",
      "metadata": {},
      "outputs": [],
      "source": [
        "pearson_coef, p_value = stats.pearsonr(df['Volume'], df['NATR'])\nprint(\"The Pearson Correlation Coefficient is\", round(pearson_coef, 2), \" with a P-value of P = \", round(p_value, 2) )  "
      ]
    },
    {
      "cell_type": "markdown",
      "id": "0d181f08-9280-4ab4-b519-2f4f0099303b",
      "metadata": {},
      "outputs": [],
      "source": [
        "#### Conclusion:\n<p>Since the p-value is $<$ 0.001, the correlation between Volume and NATR is statistically significant, and the linear relationship is quiet strong (~0.51).</p>\n"
      ]
    },
    {
      "cell_type": "markdown",
      "id": "1b143bec-1e73-4225-8057-9fed4207d980",
      "metadata": {},
      "outputs": [],
      "source": [
        "### Avg_price vs. Volume\n"
      ]
    },
    {
      "cell_type": "markdown",
      "id": "1682e180-ec4e-441a-8a39-732ea7ce0dad",
      "metadata": {},
      "outputs": [],
      "source": [
        "Let's calculate the Pearson Correlation Coefficient and P-value of 'Avg_price' and 'Volume':\n"
      ]
    },
    {
      "cell_type": "code",
      "id": "55ffa4ff-b9aa-47f0-9518-dd91622c4dc9",
      "metadata": {},
      "outputs": [],
      "source": [
        "pearson_coef, p_value = stats.pearsonr(df['Avg_price'], df['Volume'])\nprint(\"The Pearson Correlation Coefficient is\", round(pearson_coef, 2), \" with a P-value of P = \", round(p_value, 2) )"
      ]
    },
    {
      "cell_type": "markdown",
      "id": "79da3e06-78bd-4fdf-a629-56c44d7c15cf",
      "metadata": {},
      "outputs": [],
      "source": [
        "#### Conclusion:\n\nSince the p-value is < 0.001, the correlation between Avg_price and Volume is statistically significant, and the linear relationship is very weak (~ -0.02).\n"
      ]
    },
    {
      "cell_type": "markdown",
      "id": "649582e8-8813-48d5-abce-daa03be2ec96",
      "metadata": {},
      "outputs": [],
      "source": [
        "### Avg_price vs. ADOSC\n"
      ]
    },
    {
      "cell_type": "markdown",
      "id": "d99b2fdb-7655-45c8-8071-b594131be0d1",
      "metadata": {},
      "outputs": [],
      "source": [
        "Let's calculate the Pearson Correlation Coefficient and P-value of 'Avg_price' and 'ADOSC':\n"
      ]
    },
    {
      "cell_type": "code",
      "id": "248bb3d5-b19b-40cc-91ee-ad5573b1bf0d",
      "metadata": {},
      "outputs": [],
      "source": [
        "pearson_coef, p_value = stats.pearsonr(df['Avg_price'], df['ADOSC'])\nprint(\"The Pearson Correlation Coefficient is\", round(pearson_coef, 2), \" with a P-value of P = \", round(p_value, 2) ) "
      ]
    },
    {
      "cell_type": "markdown",
      "id": "1ecd5fe8-ee01-4f19-819a-99ad917899b6",
      "metadata": {},
      "outputs": [],
      "source": [
        "#### Conclusion:\n<p>Since the p-value is $>$ 0.05, the correlation between Avg_price and ADOSC is not statistically significant</p>\n"
      ]
    },
    {
      "cell_type": "markdown",
      "id": "bed2b754-16e7-4f8e-b3d0-af4241d67ac6",
      "metadata": {},
      "outputs": [],
      "source": [
        "### Avg_price vs. TRANGE\n\nLet's calculate the Pearson Correlation Coefficient and P-value of 'Avg_price' and 'TRANGE':\n"
      ]
    },
    {
      "cell_type": "code",
      "id": "a06c6ad0-a5e5-477b-bdf8-5f91916615b0",
      "metadata": {},
      "outputs": [],
      "source": [
        "pearson_coef, p_value = stats.pearsonr(df['Avg_price'], df['TRANGE'])\nprint(\"The Pearson Correlation Coefficient is\", round(pearson_coef, 2), \" with a P-value of P = \", round(p_value, 2) )"
      ]
    },
    {
      "cell_type": "markdown",
      "id": "82e8f982-d714-4c39-a646-c50addae772d",
      "metadata": {},
      "outputs": [],
      "source": [
        "#### Conclusion:\n\n<p>Since the p-value is $<$ 0.001, the correlation between Avg_price and TRANGE is statistically significant, and the linear relationship is weak (~0.08).</p>\n"
      ]
    },
    {
      "cell_type": "markdown",
      "id": "fa18c692-7339-4724-bdc5-4f33326a87d1",
      "metadata": {},
      "outputs": [],
      "source": [
        "### Avg_price vs. NATR\n"
      ]
    },
    {
      "cell_type": "markdown",
      "id": "7a505dba-fc26-4174-ae49-7e50a305c49a",
      "metadata": {},
      "outputs": [],
      "source": [
        "Let's calculate the  Pearson Correlation Coefficient and P-value of 'Avg_price' and 'NATR':\n"
      ]
    },
    {
      "cell_type": "code",
      "id": "95b3dd85-0009-47fa-a283-0f6c9bdbe6c3",
      "metadata": {},
      "outputs": [],
      "source": [
        "pearson_coef, p_value = stats.pearsonr(df['Avg_price'], df['NATR'])\nprint(\"The Pearson Correlation Coefficient is\", round(pearson_coef, 2), \" with a P-value of P =  \", round(p_value, 2) ) "
      ]
    },
    {
      "cell_type": "markdown",
      "id": "30d3c72c-9c37-468e-980b-c69b2bb57a03",
      "metadata": {},
      "outputs": [],
      "source": [
        "#### Conclusion:\n<p>Since the p-value is $<$ 0.001, the correlation between Avg_price and NATR is statistically significant, but the linear relationship is very weak (~0.09).</p>\n"
      ]
    },
    {
      "cell_type": "markdown",
      "id": "ab17b19c-924b-4600-a875-80c4ce457498",
      "metadata": {},
      "outputs": [],
      "source": [
        "## 6. ANOVA\n"
      ]
    },
    {
      "cell_type": "markdown",
      "id": "033cd283-bb3c-40f8-94f9-39b697f759c2",
      "metadata": {},
      "outputs": [],
      "source": [
        "### ANOVA: Analysis of Variance\n<p>The Analysis of Variance  (ANOVA) is a statistical method used to test whether there are significant differences between the means of two or more groups. ANOVA returns two parameters:</p>\n\n<p><b>F-test score</b>: ANOVA assumes the means of all groups are the same, calculates how much the actual means deviate from the assumption, and reports it as the F-test score. A larger score means there is a larger difference between the means.</p>\n\n<p><b>P-value</b>:  P-value tells how statistically significant our calculated score value is.</p>\n\n<p>If our price variable is strongly correlated with the variable we are analyzing, we expect ANOVA to return a sizeable F-test score and a small p-value.</p>\n"
      ]
    },
    {
      "cell_type": "markdown",
      "id": "4936548d-dfa8-468c-b92e-bdbe66801b7d",
      "metadata": {},
      "outputs": [],
      "source": [
        "## Volume"
      ]
    },
    {
      "cell_type": "markdown",
      "id": "a49f8036-eb67-4730-af3e-7825794e2d18",
      "metadata": {},
      "outputs": [],
      "source": [
        "<p>Since ANOVA analyzes the difference between different groups of the same variable, the groupby function will come in handy. Because the ANOVA algorithm averages the data automatically, we do not need to take the average before hand.</p>\n\n<p>To see if different types of 'Volume-binned' impact  'Volume', we group the data.</p>\n"
      ]
    },
    {
      "cell_type": "code",
      "id": "5ea05c86-2a64-47cc-8d23-0ffebd946bf5",
      "metadata": {},
      "outputs": [],
      "source": [
        "grouped_test2=df_gptest[['Volume-binned', 'Volume']].groupby(['Volume-binned'])\ngrouped_test2.head(2)"
      ]
    },
    {
      "cell_type": "code",
      "id": "276a97b7-6884-45d8-8a3e-0806d6a68543",
      "metadata": {},
      "outputs": [],
      "source": [
        "df_gptest"
      ]
    },
    {
      "cell_type": "markdown",
      "id": "34358cbf-f97b-412f-a23d-2ad1ae43b5db",
      "metadata": {},
      "outputs": [],
      "source": [
        "We can obtain the values of the method group using the method \"get_group\".\n"
      ]
    },
    {
      "cell_type": "code",
      "id": "d1cc16d1-b7d8-42c1-afa4-6c8f802ff4df",
      "metadata": {},
      "outputs": [],
      "source": [
        "grouped_test2.get_group('Low')['Volume']"
      ]
    },
    {
      "cell_type": "markdown",
      "id": "799fcfb0-4fec-4e6f-9eb7-af8b2b21e2bd",
      "metadata": {},
      "outputs": [],
      "source": [
        "We can use the function 'f_oneway' in the module 'stats' to obtain the <b>F-test score</b> and <b>P-value</b>.\n"
      ]
    },
    {
      "cell_type": "code",
      "id": "7c6aa762-4f0d-4033-b89f-25a2e941799e",
      "metadata": {},
      "outputs": [],
      "source": [
        "# ANOVA\nf_val, p_val = stats.f_oneway(grouped_test2.get_group('Low')['Volume'], grouped_test2.get_group('Medium')['Volume'], grouped_test2.get_group('High')['Volume'])  \n \nprint( \"ANOVA results: F=\", round(f_val, 2), \", P =\", round(p_val, 2))   "
      ]
    },
    {
      "cell_type": "markdown",
      "id": "e1d371d9-7fda-4251-81d8-f1b3a361cf59",
      "metadata": {},
      "outputs": [],
      "source": [
        "This is a great result with a large F-test score showing a strong correlation and a P-value of almost 0 implying almost certain statistical significance. But does this mean all three tested groups are all this highly correlated?\n\nLet's examine them separately.\n"
      ]
    },
    {
      "cell_type": "markdown",
      "id": "9359497e-1cc1-4838-aeca-648aeeee8c99",
      "metadata": {},
      "outputs": [],
      "source": [
        "#### Low and Medium\n"
      ]
    },
    {
      "cell_type": "code",
      "id": "0f942626-10e3-4d29-bdee-62b2552f1b60",
      "metadata": {},
      "outputs": [],
      "source": [
        "f_val, p_val = stats.f_oneway(grouped_test2.get_group('Low')['Volume'], grouped_test2.get_group('Medium')['Volume'])  \n \nprint( \"ANOVA results: F=\", round(f_val, 2), \", P =\", round(p_val, 2))  "
      ]
    },
    {
      "cell_type": "markdown",
      "id": "be5a4591-218d-4e6f-92b6-ccb908a0ec1a",
      "metadata": {},
      "outputs": [],
      "source": [
        "Let's examine the other groups.\n"
      ]
    },
    {
      "cell_type": "markdown",
      "id": "c0fdd395-565f-49d2-b875-038d62443832",
      "metadata": {},
      "outputs": [],
      "source": [
        "#### Low and High\n"
      ]
    },
    {
      "cell_type": "code",
      "id": "c0060dd8-799c-4f57-b1ed-736de003d277",
      "metadata": {},
      "outputs": [],
      "source": [
        "f_val, p_val = stats.f_oneway(grouped_test2.get_group('Low')['Volume'], grouped_test2.get_group('High')['Volume'])  \n   \nprint( \"ANOVA results: F=\", round(f_val, 2), \", P =\", round(p_val, 2))    "
      ]
    },
    {
      "cell_type": "markdown",
      "id": "49d82112-5c14-4d70-8ba6-f407c1a3811a",
      "metadata": {},
      "outputs": [],
      "source": [
        "#### Medium and High\n"
      ]
    },
    {
      "cell_type": "code",
      "id": "f8a7754a-76e9-4bfe-8b00-4fe80e4dd7cd",
      "metadata": {},
      "outputs": [],
      "source": [
        "f_val, p_val = stats.f_oneway(grouped_test2.get_group('Medium')['Volume'], grouped_test2.get_group('High')['Volume'])  \n   \nprint( \"ANOVA results: F=\", round(f_val, 2), \", P =\", round(p_val, 2))    "
      ]
    },
    {
      "cell_type": "markdown",
      "id": "b3ed97e2-5c15-4e64-a0a4-d009222113ab",
      "metadata": {},
      "outputs": [],
      "source": [
        "## 7. Granger Causality Test\nThe Granger causality test is a statistical hypothesis test for determining whether one time series is useful in forecasting another, first proposed in 1969. Ordinarily, regressions reflect \"mere\" correlations, but Clive Granger argued that causality in economics could be tested for by measuring the ability to predict the future values of a time series using prior values of another time series. Since the question of \"true causality\" is deeply philosophical, and because of the post hoc ergo propter hoc fallacy of assuming that one thing preceding another can be used as a proof of causation, econometricians assert that the Granger test finds only \"predictive causality\". Using the term \"causality\" alone is a misnomer, as Granger-causality is better described as \"precedence\", or, as Granger himself later claimed in 1977, \"temporally related\". Rather than testing whether X causes Y, the Granger causality tests whether X forecasts Y."
      ]
    },
    {
      "cell_type": "code",
      "id": "4d6aae77-e182-4644-a0b7-9cc57b0204b6",
      "metadata": {},
      "outputs": [],
      "source": [
        "df[[\"Avg_price\", \"Volume\"]].head"
      ]
    },
    {
      "cell_type": "code",
      "id": "370c4ffb-3a32-46e9-bfbb-28ee4d7d647b",
      "metadata": {},
      "outputs": [],
      "source": [
        "from statsmodels.tsa.stattools import grangercausalitytests\n#Check Granger Causality of all possible combinations of the Time series\ndef causation_matrix(data, maxlag, variables, test = 'ssr_chi2test', verbose = False):\n    df = pd.DataFrame(np.zeros((len(variables), len(variables))), columns = variables, index = variables)\n    for column in df.columns:\n        for index in df.index:\n            #find gct result\n            test_result = grangercausalitytests(data[[index, column]], maxlag = maxlag, verbose = False)\n            #find p-values\n            p_values = [round(test_result[i + 1][0][test][1], 4) for i in range(maxlag)]\n            if verbose:\n                print(f'Y = {r}, X = {c}, P Values = {p_values}')\n            min_p_value = np.min(p_values)\n            df.loc[index, column] = min_p_value\n    #show result\n    df.columns = [var + '_X' for var in variables]\n    df.index = [var + '_Y' for var in variables]\n    return df\n"
      ]
    },
    {
      "cell_type": "code",
      "id": "52ab730a-439d-44ef-adca-4ae8d6c3aacd",
      "metadata": {},
      "outputs": [],
      "source": [
        "#create new df with data about 2 coins\ntest_df = df[[\"Avg_price\", \"Volume\"]]\n\nx = df.index\ny1 = test_df[\"Avg_price\"]\ny2 = test_df[\"Volume\"]\n    \nfig, ax1 = plt.subplots(1, 1, figsize = (16,9), dpi = 80)\nax1.plot(x, y1, color = 'tab:red')\n    \nax2 = ax1.twinx()\nax2.plot(x, y2, color = 'tab:blue')\n    \nax1.set_xlabel(\"ts\", fontsize = 20)\nax1.tick_params(axis = 'x', rotation = 0, labelsize = 12)\nax1.set_ylabel(\"Avg_price\", color = 'tab:red', fontsize = 20)\nax1.tick_params(axis = 'y', rotation = 0, labelcolor = 'tab:red')\nax1.grid(alpha=.4)\n    \nfrom matplotlib import pyplot as plt, dates\nax2.set_ylabel(\"Volume\", color = 'tab:blue', fontsize = 20)\nax2.tick_params(axis = 'y', rotation = 0, labelcolor = 'tab:blue')\nax2.xaxis.set_major_formatter(dates.DateFormatter('%y-%m-%d'))\nfig.autofmt_xdate(rotation=45)\n#ax2.set_xticks(np.arange(0, len(x), 60))\nax2.set_xticklabels(x[::60], rotation = 90, fontdict = {'fontsize':10})\nax2.set_title(\"Visualizing Leading Indicator Phenomenon\", fontsize = 22)\n    \nfig.tight_layout()\nplt.show()\n"
      ]
    },
    {
      "cell_type": "code",
      "id": "6040a3a9-84aa-4f83-9e46-1ec16f1bc25e",
      "metadata": {},
      "outputs": [],
      "source": [
        "causation_matrix(df[[\"Avg_price\", \"TRANGE\"]], 2, variables = df[[\"Avg_price\", \"TRANGE\"]].columns)"
      ]
    },
    {
      "cell_type": "markdown",
      "id": "c3f510d1-607f-4d4c-bd07-dc62326dd9f0",
      "metadata": {},
      "outputs": [],
      "source": [
        "How to interpret the p-values?\n\nAssuming a significance level of 0.05, if the p-value is lesser than 0.05, then we do NOT reject the null hypothesis that X does NOT granger cause Y.\n\nSo, in the above table, the p-value for Avg_price_X and TRANGE_X is 0.0. So we reject the null hypothesis and conclude that (Avg_price) granger causes (TRANGE).\n\nHowever the p-value for Avg_price_X and TRANGE_Y is 0.0133.\n\nSince the p-value is less than 0.05, we can reject the null hypothesis. That is, \"Avg_price_X\" can predictive of \"TRANGE_Y\"."
      ]
    },
    {
      "cell_type": "markdown",
      "id": "eddbbd15-cb7a-4e13-91c8-a824c1987bb1",
      "metadata": {},
      "outputs": [],
      "source": [
        "Let's calculate Granger Causality Test for other coins:"
      ]
    },
    {
      "cell_type": "code",
      "id": "6a2e68f1-73b1-42be-b4a4-3a18c4944896",
      "metadata": {},
      "outputs": [],
      "source": [
        "print(\"Avg_price(Volume) = \", round(causation_matrix(df[[\"Avg_price\", \"Volume\"]], 1, variables = df[[\"Avg_price\", \"Volume\"]].columns).iloc[0,1], 3))"
      ]
    },
    {
      "cell_type": "code",
      "id": "580df6f9-78a7-4c35-bfcd-95c5186dc6ce",
      "metadata": {},
      "outputs": [],
      "source": [
        "print(\"Avg_price(ADOSC) = \", round(causation_matrix(df[[\"Avg_price\", \"ADOSC\"]], 1, variables = df[[\"Avg_price\", \"ADOSC\"]].columns).iloc[0,1], 3))"
      ]
    },
    {
      "cell_type": "code",
      "id": "e646a58a-927e-4c39-adbd-46fed4cd373b",
      "metadata": {},
      "outputs": [],
      "source": [
        "print(\"Avg_price(NATR) = \", round(causation_matrix(df[[\"Avg_price\", \"NATR\"]], 1, variables = df[[\"Avg_price\", \"NATR\"]].columns).iloc[0,1], 3))"
      ]
    },
    {
      "cell_type": "code",
      "id": "c2d9e8fa-e2f4-419e-8b1c-63a2a9673ef5",
      "metadata": {},
      "outputs": [],
      "source": [
        "df.to_csv(\"MATICBUSD_lab4.csv\")"
      ]
    },
    {
      "cell_type": "markdown",
      "id": "7b03282a-ca9f-4a41-94c7-4f5208ad3b18",
      "metadata": {},
      "outputs": [],
      "source": [
        "## Conclusion:\nWe now have a better idea of what our data looks like and which variables are more related to our main currency MATICBUSD.\nBut all our relations is realy weak, so we cant use that variable to predict price of our coin. That`s mean we need to find a relations of our coin with other coins for example BTC.\nAs we now move into building machine learning models to automate our analysis, feeding the model with variables that meaningfully affect our target variable will improve our model's prediction performance."
      ]
    },
    {
      "cell_type": "markdown",
      "id": "7f3fa65a-a039-428d-a03e-d323b6ec1547",
      "metadata": {},
      "outputs": [],
      "source": [
        "# **Thank you for completing Lab 3!**\n\n## Authors\n\n<a href=\"https://author.skills.network/instructors/oleh_lozovyi?utm_medium=Exinfluencer&utm_source=Exinfluencer&utm_content=000026UJ&utm_term=10006555&utm_id=NA-SkillsNetwork-Channel-SkillsNetworkGuidedProjectsIBMSkillsNetworkGPXX0QGDEN2306-2023-01-01\">Oleh Lozovyi</a>\n\n<a href=\"https://author.skills.network/instructors/yaroslav_vyklyuk_2?utm_medium=Exinfluencer&utm_source=Exinfluencer&utm_content=000026UJ&utm_term=10006555&utm_id=NA-SkillsNetwork-Channel-SkillsNetworkGuidedProjectsIBMSkillsNetworkGPXX0QGDEN2306-2023-01-01\">Prof. Yaroslav Vyklyuk, DrSc, PhD</a>\n\n<a href=\"https://author.skills.network/instructors/mariya_fleychuk?utm_medium=Exinfluencer&utm_source=Exinfluencer&utm_content=000026UJ&utm_term=10006555&utm_id=NA-SkillsNetwork-Channel-SkillsNetworkGuidedProjectsIBMSkillsNetworkGPXX0QGDEN2306-2023-01-01\">Prof. Mariya Fleychuk, DrSc, PhD</a>\n\n<a href=\"https://www.linkedin.com/in/joseph-s-50398b136/?utm_medium=Exinfluencer&utm_source=Exinfluencer&utm_content=000026UJ&utm_term=10006555&utm_id=NA-SkillsNetwork-Channel-SkillsNetworkCoursesIBMDeveloperSkillsNetworkDA0101ENSkillsNetwork20235326-2021-01-01\">Joseph Santarcangelo</a>\n\n\n<a href=\"https://www.linkedin.com/in/fiorellawever/?utm_medium=Exinfluencer&utm_source=Exinfluencer&utm_content=000026UJ&utm_term=10006555&utm_id=NA-SkillsNetwork-Channel-SkillsNetworkCoursesIBMDeveloperSkillsNetworkDA0101ENSkillsNetwork20235326-2021-01-01\">Fiorella Wenver</a>\n\n<a href=\"https:// https://www.linkedin.com/in/yi-leng-yao-84451275/ \" target=\"_blank\" >Yi Yao</a>\n\n\n## Change Log\n\n| Date (YYYY-MM-DD) | Version | Changed By   | Change Description                                         |\n| ----------------- | ------- | -------------| ---------------------------------------------------------- |\n|     2023-03-15    |   1.0   | Oleh Lozovyi | Lab created                                                |\n\n<hr>\n\n## <h3 align=\"center\"> © IBM Corporation 2023. All rights reserved. <h3/>\n\n\n\n"
      ]
    },
    {
      "cell_type": "code",
      "id": "ac4c916f-5591-441c-a7c7-24913052bd6a",
      "metadata": {},
      "outputs": [],
      "source": [
        ""
      ]
    }
  ],
  "metadata": {
    "language_info": {
      "name": ""
    },
    "kernelspec": {
      "name": "",
      "display_name": ""
    }
  },
  "nbformat": 4,
  "nbformat_minor": 4
}
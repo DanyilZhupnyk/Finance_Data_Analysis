{
  "metadata": {
    "anaconda-cloud": {},
    "kernelspec": {
      "name": "python",
      "display_name": "Python (Pyodide)",
      "language": "python"
    },
    "language_info": {
      "codemirror_mode": {
        "name": "python",
        "version": 3
      },
      "file_extension": ".py",
      "mimetype": "text/x-python",
      "name": "python",
      "nbconvert_exporter": "python",
      "pygments_lexer": "ipython3",
      "version": "3.8"
    }
  },
  "nbformat_minor": 4,
  "nbformat": 4,
  "cells": [
    {
      "cell_type": "markdown",
      "source": "<center>\n    <img src=\"https://cf-courses-data.s3.us.cloud-object-storage.appdomain.cloud/IBMDeveloperSkillsNetwork-DA0101EN-SkillsNetwork/labs/Module%202/images/IDSNlogo.png\" width=\"300\" alt=\"cognitiveclass.ai logo\"  />\n</center>\n\n# Data Wrangling\n\nEstimated time needed: **30** minutes\n\n## Objectives\n\nAfter completing this lab you will be able to:\n\n*   Handle missing values\n*   Correct data format\n*   Standardize and normalize data\n",
      "metadata": {}
    },
    {
      "cell_type": "markdown",
      "source": "<h2>Table of Contents</h2>\n\n<div class=\"alert alert-block alert-info\" style=\"margin-top: 20px\">\n<ul>\n    <li><a href=\"https://#identify_handle_missing_values\">Identify and handle missing values</a>\n        <ul>\n            <li><a href=\"https://#identify_missing_values\">Identify missing values</a></li>\n            <li><a href=\"https://#deal_missing_values\">Deal with missing values</a></li>\n            <li><a href=\"https://#correct_data_format\">Correct data format</a></li>\n        </ul>\n    </li>\n    <li><a href=\"https://#data_standardization\">Data standardization</a></li>\n    <li><a href=\"https://#data_normalization\">Data normalization (centering/scaling)</a></li>\n    <li><a href=\"https://#binning\">Binning</a></li>\n    <li><a href=\"https://#indicator\">Indicator variable</a></li>\n    <li><a href=\"https://#resample\">Resample data</a></li>\n</ul>\n\n</div>\n\n<hr>\n",
      "metadata": {}
    },
    {
      "cell_type": "markdown",
      "source": "<h2>What is the purpose of data wrangling?</h2>\n",
      "metadata": {}
    },
    {
      "cell_type": "markdown",
      "source": "Data wrangling is the process of converting data from the initial format to a format that may be better for analysis.\n",
      "metadata": {}
    },
    {
      "cell_type": "markdown",
      "source": "<h3>What is the Avarage price of DOGEcoin in different currency?</h3>",
      "metadata": {}
    },
    {
      "cell_type": "markdown",
      "source": "<h3>Import data</h3>\n<p>\nYou can find the \"DOGEBUSD trades Dataset\" from the following link: <a href=\"https://1824251045.rsc.cdn77.org/web/algohouse/data/DOGEBUSD_trades_1m.csv</a>. \nWe will be using this dataset throughout this course.\n</p>\n",
      "metadata": {
        "tags": []
      }
    },
    {
      "cell_type": "markdown",
      "source": "<h4>Import pandas</h4> \n",
      "metadata": {}
    },
    {
      "cell_type": "markdown",
      "source": "you are running the lab in your  browser, so we will install the libraries using `piplite`\n",
      "metadata": {}
    },
    {
      "cell_type": "code",
      "source": "import piplite\nawait piplite.install(['pandas'])\nawait piplite.install(['matplotlib'])",
      "metadata": {
        "trusted": true
      },
      "execution_count": 1,
      "outputs": []
    },
    {
      "cell_type": "markdown",
      "source": "If you run the lab locally using Anaconda, you can load the correct library and versions by uncommenting the following:\n",
      "metadata": {}
    },
    {
      "cell_type": "code",
      "source": "#If you run the lab locally using Anaconda, you can load the correct library and versions by uncommenting the following:\n#install specific version of libraries used in lab\n#! mamba install pandas==1.3.3\n#! mamba install numpy=1.21.2\n",
      "metadata": {
        "trusted": true
      },
      "execution_count": 2,
      "outputs": []
    },
    {
      "cell_type": "code",
      "source": "import pandas as pd\nimport matplotlib.pylab as plt\n#set values precision as 6\npd.set_option(\"display.precision\", 6)",
      "metadata": {
        "trusted": true
      },
      "execution_count": 3,
      "outputs": []
    },
    {
      "cell_type": "markdown",
      "source": "This function will download the dataset into your browser\n",
      "metadata": {}
    },
    {
      "cell_type": "code",
      "source": "#This function will download the dataset into your browser \nfrom pyodide.http import pyfetch\n\nasync def download(url, filename):\n    response = await pyfetch(url)\n    if response.status == 200:\n        with open(filename, \"wb\") as f:\n            f.write(await response.bytes())\n\n",
      "metadata": {
        "trusted": true
      },
      "execution_count": 4,
      "outputs": []
    },
    {
      "cell_type": "markdown",
      "source": "<h2>Reading the dataset from the URL and adding the related headers</h2>\n",
      "metadata": {}
    },
    {
      "cell_type": "markdown",
      "source": "First, we assign the URL of the dataset to \"filename\".\n",
      "metadata": {}
    },
    {
      "cell_type": "markdown",
      "source": "This dataset was hosted on IBM Cloud object. Click <a href=\"https://cocl.us/corsera_da0101en_notebook_bottom?utm_medium=Exinfluencer&utm_source=Exinfluencer&utm_content=000026UJ&utm_term=10006555&utm_id=NA-SkillsNetwork-Channel-SkillsNetworkCoursesIBMDeveloperSkillsNetworkDA0101ENSkillsNetwork20235326-2021-01-01\">HERE</a> for free storage.\n",
      "metadata": {}
    },
    {
      "cell_type": "code",
      "source": "filename = \"https://1824251045.rsc.cdn77.org/web/algohouse/data/DOGEBUSD_trades_1m.csv\"",
      "metadata": {
        "trusted": true
      },
      "execution_count": 5,
      "outputs": []
    },
    {
      "cell_type": "markdown",
      "source": "Then, we create a Python list <b>headers</b> containing name of headers.\n",
      "metadata": {}
    },
    {
      "cell_type": "code",
      "source": "headers = [\"Ts\", \"Open\", \"High\", \"Low\", \"Close\", \"Volume\", \"Rec_count\", \"Avg_price\"]",
      "metadata": {
        "trusted": true
      },
      "execution_count": 6,
      "outputs": []
    },
    {
      "cell_type": "markdown",
      "source": "you will need to download the dataset; if you are running locally, please comment out the following\n",
      "metadata": {}
    },
    {
      "cell_type": "code",
      "source": "await download(filename, \"DOGEBUSD_trades_1m.csv\")\nfilename=\"DOGEBUSD_trades_1m.csv\"",
      "metadata": {
        "trusted": true
      },
      "execution_count": 7,
      "outputs": []
    },
    {
      "cell_type": "markdown",
      "source": "Use the Pandas method <b>read_csv()</b> to load the data from the web address. Set the parameter  \"names\" equal to the Python list \"headers\".\n",
      "metadata": {}
    },
    {
      "cell_type": "code",
      "source": "clear_df = pd.read_csv(filename, index_col=0, names = headers, skiprows = 1)",
      "metadata": {
        "trusted": true
      },
      "execution_count": 8,
      "outputs": []
    },
    {
      "cell_type": "markdown",
      "source": "Use the method <b>head()</b> to display the first five rows of the dataframe.\n",
      "metadata": {}
    },
    {
      "cell_type": "code",
      "source": "# To see what the data set looks like, we'll use the head() method.\nclear_df.head()",
      "metadata": {
        "trusted": true
      },
      "execution_count": 9,
      "outputs": [
        {
          "execution_count": 9,
          "output_type": "execute_result",
          "data": {
            "text/plain": "                    Ts     Open     High      Low    Close     Volume  \\\n0  2022-11-11 14:38:00  0.08139  0.08139  0.08065  0.08065  4523754.0   \n1  2022-11-11 14:39:00  0.08065  0.08078  0.08041  0.08043  5119775.0   \n2  2022-11-11 14:40:00  0.08039  0.08073  0.08035  0.08056  1460872.0   \n3  2022-11-11 14:41:00  0.08058  0.08103  0.08032  0.08092  2292152.0   \n4  2022-11-11 14:42:00  0.08099  0.08112  0.08071  0.08071  3044077.0   \n\n   Rec_count  Avg_price  \n0         80   0.080926  \n1         77   0.080565  \n2         65   0.080577  \n3         75   0.080715  \n4         57   0.081038  ",
            "text/html": "<div>\n<style scoped>\n    .dataframe tbody tr th:only-of-type {\n        vertical-align: middle;\n    }\n\n    .dataframe tbody tr th {\n        vertical-align: top;\n    }\n\n    .dataframe thead th {\n        text-align: right;\n    }\n</style>\n<table border=\"1\" class=\"dataframe\">\n  <thead>\n    <tr style=\"text-align: right;\">\n      <th></th>\n      <th>Ts</th>\n      <th>Open</th>\n      <th>High</th>\n      <th>Low</th>\n      <th>Close</th>\n      <th>Volume</th>\n      <th>Rec_count</th>\n      <th>Avg_price</th>\n    </tr>\n  </thead>\n  <tbody>\n    <tr>\n      <th>0</th>\n      <td>2022-11-11 14:38:00</td>\n      <td>0.08139</td>\n      <td>0.08139</td>\n      <td>0.08065</td>\n      <td>0.08065</td>\n      <td>4523754.0</td>\n      <td>80</td>\n      <td>0.080926</td>\n    </tr>\n    <tr>\n      <th>1</th>\n      <td>2022-11-11 14:39:00</td>\n      <td>0.08065</td>\n      <td>0.08078</td>\n      <td>0.08041</td>\n      <td>0.08043</td>\n      <td>5119775.0</td>\n      <td>77</td>\n      <td>0.080565</td>\n    </tr>\n    <tr>\n      <th>2</th>\n      <td>2022-11-11 14:40:00</td>\n      <td>0.08039</td>\n      <td>0.08073</td>\n      <td>0.08035</td>\n      <td>0.08056</td>\n      <td>1460872.0</td>\n      <td>65</td>\n      <td>0.080577</td>\n    </tr>\n    <tr>\n      <th>3</th>\n      <td>2022-11-11 14:41:00</td>\n      <td>0.08058</td>\n      <td>0.08103</td>\n      <td>0.08032</td>\n      <td>0.08092</td>\n      <td>2292152.0</td>\n      <td>75</td>\n      <td>0.080715</td>\n    </tr>\n    <tr>\n      <th>4</th>\n      <td>2022-11-11 14:42:00</td>\n      <td>0.08099</td>\n      <td>0.08112</td>\n      <td>0.08071</td>\n      <td>0.08071</td>\n      <td>3044077.0</td>\n      <td>57</td>\n      <td>0.081038</td>\n    </tr>\n  </tbody>\n</table>\n</div>"
          },
          "metadata": {}
        }
      ]
    },
    {
      "cell_type": "markdown",
      "source": "<h2>Making some values in dataframe wrong</h2>\n\n<div>Let try to hurt our data.</div> \n\n<div>Firs of all, let's make copy of our dataframe:</div>\n",
      "metadata": {}
    },
    {
      "cell_type": "code",
      "source": "df = pd.DataFrame(clear_df)\ndf.head()",
      "metadata": {
        "trusted": true
      },
      "execution_count": 10,
      "outputs": [
        {
          "execution_count": 10,
          "output_type": "execute_result",
          "data": {
            "text/plain": "                    Ts     Open     High      Low    Close     Volume  \\\n0  2022-11-11 14:38:00  0.08139  0.08139  0.08065  0.08065  4523754.0   \n1  2022-11-11 14:39:00  0.08065  0.08078  0.08041  0.08043  5119775.0   \n2  2022-11-11 14:40:00  0.08039  0.08073  0.08035  0.08056  1460872.0   \n3  2022-11-11 14:41:00  0.08058  0.08103  0.08032  0.08092  2292152.0   \n4  2022-11-11 14:42:00  0.08099  0.08112  0.08071  0.08071  3044077.0   \n\n   Rec_count  Avg_price  \n0         80   0.080926  \n1         77   0.080565  \n2         65   0.080577  \n3         75   0.080715  \n4         57   0.081038  ",
            "text/html": "<div>\n<style scoped>\n    .dataframe tbody tr th:only-of-type {\n        vertical-align: middle;\n    }\n\n    .dataframe tbody tr th {\n        vertical-align: top;\n    }\n\n    .dataframe thead th {\n        text-align: right;\n    }\n</style>\n<table border=\"1\" class=\"dataframe\">\n  <thead>\n    <tr style=\"text-align: right;\">\n      <th></th>\n      <th>Ts</th>\n      <th>Open</th>\n      <th>High</th>\n      <th>Low</th>\n      <th>Close</th>\n      <th>Volume</th>\n      <th>Rec_count</th>\n      <th>Avg_price</th>\n    </tr>\n  </thead>\n  <tbody>\n    <tr>\n      <th>0</th>\n      <td>2022-11-11 14:38:00</td>\n      <td>0.08139</td>\n      <td>0.08139</td>\n      <td>0.08065</td>\n      <td>0.08065</td>\n      <td>4523754.0</td>\n      <td>80</td>\n      <td>0.080926</td>\n    </tr>\n    <tr>\n      <th>1</th>\n      <td>2022-11-11 14:39:00</td>\n      <td>0.08065</td>\n      <td>0.08078</td>\n      <td>0.08041</td>\n      <td>0.08043</td>\n      <td>5119775.0</td>\n      <td>77</td>\n      <td>0.080565</td>\n    </tr>\n    <tr>\n      <th>2</th>\n      <td>2022-11-11 14:40:00</td>\n      <td>0.08039</td>\n      <td>0.08073</td>\n      <td>0.08035</td>\n      <td>0.08056</td>\n      <td>1460872.0</td>\n      <td>65</td>\n      <td>0.080577</td>\n    </tr>\n    <tr>\n      <th>3</th>\n      <td>2022-11-11 14:41:00</td>\n      <td>0.08058</td>\n      <td>0.08103</td>\n      <td>0.08032</td>\n      <td>0.08092</td>\n      <td>2292152.0</td>\n      <td>75</td>\n      <td>0.080715</td>\n    </tr>\n    <tr>\n      <th>4</th>\n      <td>2022-11-11 14:42:00</td>\n      <td>0.08099</td>\n      <td>0.08112</td>\n      <td>0.08071</td>\n      <td>0.08071</td>\n      <td>3044077.0</td>\n      <td>57</td>\n      <td>0.081038</td>\n    </tr>\n  </tbody>\n</table>\n</div>"
          },
          "metadata": {}
        }
      ]
    },
    {
      "cell_type": "code",
      "source": "import numpy as np\n\ndef hurt_data(df:pd.DataFrame):\n    columns = ['Close', 'Avg_price', 'Rec_count']\n    \n    for column in columns:\n        m = np.random.rand(len(df))\n        l1 = 0.1 # ?\n        l2 = 0.05 # Text\n        l3 = 0.05 # Negative\n        \n        mask1 = m < l1 # NaN\n        mask2 = (m >= l1) & (m < l1+l2) # Text\n        mask3 = (m >= l1+l2) & (m < l1+l2+l3) # Negative\n    \n        df.loc[mask1, column] = \"?\"\n        df.loc[mask2, column] = \"Error\"\n        df.loc[mask3, column] = - df.loc[mask3, column]\n    \n    return df\n\ndf = hurt_data(clear_df)\nclear_df = pd.read_csv(filename, index_col=0, names = headers, skiprows = 1)",
      "metadata": {
        "trusted": true
      },
      "execution_count": 11,
      "outputs": []
    },
    {
      "cell_type": "markdown",
      "source": "<h2>Reading the dataset from the URL and adding the related headers</h2>\nAs we can see, several question marks appeared in the dataframe; those are missing values which may hinder our further analysis.\n\n\n<div>So, how do we identify all those missing values and deal with them?</div> \n\n\n<b>How to work with missing data?</b>\n\nSteps for working with missing data:\n\n<ol>\n    <li>Identify missing data</li>\n    <li>Deal with missing data</li>\n    <li>Correct data format</li>\n</ol>\n",
      "metadata": {}
    },
    {
      "cell_type": "markdown",
      "source": "<h2 id=\"identify_handle_missing_values\">Identify and handle missing values</h2>\n\n<h3 id=\"identify_missing_values\">Identify missing values</h3>\n<h4>Convert missed or wrong data to NaN</h4>\nIn the trades dataset, missing data comes with the question mark \"?\", text or negative values.\nWe replace that with NaN (Not a Number), Python's default missing value marker for reasons of computational speed and convenience. Here we use the function: \n <pre>.replace(A, B, inplace = True) </pre>\n to replace A by B or\n <pre>.mask(condition, new value, inplace = True)</pre>\n to change value by some condition.\n",
      "metadata": {}
    },
    {
      "cell_type": "code",
      "source": "import numpy as np\n\n# replace \"?\" to NaN\ndf.replace(\"?\", np.nan, inplace = True)\n\n# replace all values with letters to NaN\ndf.replace(r'^([A-Za-z]|_)+$', np.NaN, regex=True, inplace = True)\n\n# replace Negative values to NaN\ncolumns = ['Close', 'Avg_price', 'Rec_count']\nfor column in columns:\n    df.astype({column : 'float'})\n    df[column].mask(df[column] < 0, np.NaN, inplace = True)\n    \ndf.head(20)",
      "metadata": {
        "trusted": true
      },
      "execution_count": 12,
      "outputs": [
        {
          "execution_count": 12,
          "output_type": "execute_result",
          "data": {
            "text/plain": "                     Ts     Open     High      Low    Close      Volume  \\\n0   2022-11-11 14:38:00  0.08139  0.08139  0.08065  0.08065   4523754.0   \n1   2022-11-11 14:39:00  0.08065  0.08078  0.08041  0.08043   5119775.0   \n2   2022-11-11 14:40:00  0.08039  0.08073  0.08035  0.08056   1460872.0   \n3   2022-11-11 14:41:00  0.08058  0.08103  0.08032  0.08092   2292152.0   \n4   2022-11-11 14:42:00  0.08099  0.08112  0.08071  0.08071   3044077.0   \n5   2022-11-11 14:43:00  0.08071  0.08105  0.08066  0.08078   1476278.0   \n6   2022-11-11 14:44:00  0.08083  0.08111  0.08083  0.08111   1838426.0   \n7   2022-11-11 14:45:00  0.08110  0.08232  0.08109  0.08226  13747027.0   \n8   2022-11-11 14:46:00  0.08237  0.08275  0.08199      NaN  12758340.0   \n9   2022-11-11 14:47:00  0.08276  0.08612  0.08275      NaN  34452376.0   \n10  2022-11-11 14:48:00  0.08486  0.08509  0.08338  0.08386  25284894.0   \n11  2022-11-11 14:49:00  0.08379  0.08439  0.08337      NaN  18461593.0   \n12  2022-11-11 14:50:00  0.08349  0.08414  0.08328  0.08398   6608245.0   \n13  2022-11-11 14:51:00  0.08400  0.08400  0.08300  0.08301   9624168.0   \n14  2022-11-11 14:52:00  0.08308  0.08325  0.08209  0.08245  14723866.0   \n15  2022-11-11 14:53:00  0.08242  0.08296  0.08238  0.08256   6915675.0   \n16  2022-11-11 14:54:00  0.08247  0.08293  0.08247  0.08271   3355101.0   \n17  2022-11-11 14:55:00  0.08262  0.08262  0.08200      NaN   3792184.0   \n18  2022-11-11 14:56:00  0.08228  0.08290  0.08217      NaN   8703982.0   \n19  2022-11-11 14:57:00  0.08267  0.08289  0.08256  0.08259   3535313.0   \n\n    Rec_count  Avg_price  \n0        80.0   0.080926  \n1        77.0   0.080565  \n2         NaN        NaN  \n3        75.0   0.080715  \n4        57.0   0.081038  \n5        66.0        NaN  \n6        60.0   0.081012  \n7       100.0   0.081842  \n8        93.0   0.082308  \n9       105.0   0.084556  \n10      106.0        NaN  \n11      103.0        NaN  \n12       99.0   0.083635  \n13       97.0        NaN  \n14      102.0        NaN  \n15       98.0        NaN  \n16        NaN        NaN  \n17       85.0   0.082257  \n18       89.0   0.082542  \n19       82.0   0.082747  ",
            "text/html": "<div>\n<style scoped>\n    .dataframe tbody tr th:only-of-type {\n        vertical-align: middle;\n    }\n\n    .dataframe tbody tr th {\n        vertical-align: top;\n    }\n\n    .dataframe thead th {\n        text-align: right;\n    }\n</style>\n<table border=\"1\" class=\"dataframe\">\n  <thead>\n    <tr style=\"text-align: right;\">\n      <th></th>\n      <th>Ts</th>\n      <th>Open</th>\n      <th>High</th>\n      <th>Low</th>\n      <th>Close</th>\n      <th>Volume</th>\n      <th>Rec_count</th>\n      <th>Avg_price</th>\n    </tr>\n  </thead>\n  <tbody>\n    <tr>\n      <th>0</th>\n      <td>2022-11-11 14:38:00</td>\n      <td>0.08139</td>\n      <td>0.08139</td>\n      <td>0.08065</td>\n      <td>0.08065</td>\n      <td>4523754.0</td>\n      <td>80.0</td>\n      <td>0.080926</td>\n    </tr>\n    <tr>\n      <th>1</th>\n      <td>2022-11-11 14:39:00</td>\n      <td>0.08065</td>\n      <td>0.08078</td>\n      <td>0.08041</td>\n      <td>0.08043</td>\n      <td>5119775.0</td>\n      <td>77.0</td>\n      <td>0.080565</td>\n    </tr>\n    <tr>\n      <th>2</th>\n      <td>2022-11-11 14:40:00</td>\n      <td>0.08039</td>\n      <td>0.08073</td>\n      <td>0.08035</td>\n      <td>0.08056</td>\n      <td>1460872.0</td>\n      <td>NaN</td>\n      <td>NaN</td>\n    </tr>\n    <tr>\n      <th>3</th>\n      <td>2022-11-11 14:41:00</td>\n      <td>0.08058</td>\n      <td>0.08103</td>\n      <td>0.08032</td>\n      <td>0.08092</td>\n      <td>2292152.0</td>\n      <td>75.0</td>\n      <td>0.080715</td>\n    </tr>\n    <tr>\n      <th>4</th>\n      <td>2022-11-11 14:42:00</td>\n      <td>0.08099</td>\n      <td>0.08112</td>\n      <td>0.08071</td>\n      <td>0.08071</td>\n      <td>3044077.0</td>\n      <td>57.0</td>\n      <td>0.081038</td>\n    </tr>\n    <tr>\n      <th>5</th>\n      <td>2022-11-11 14:43:00</td>\n      <td>0.08071</td>\n      <td>0.08105</td>\n      <td>0.08066</td>\n      <td>0.08078</td>\n      <td>1476278.0</td>\n      <td>66.0</td>\n      <td>NaN</td>\n    </tr>\n    <tr>\n      <th>6</th>\n      <td>2022-11-11 14:44:00</td>\n      <td>0.08083</td>\n      <td>0.08111</td>\n      <td>0.08083</td>\n      <td>0.08111</td>\n      <td>1838426.0</td>\n      <td>60.0</td>\n      <td>0.081012</td>\n    </tr>\n    <tr>\n      <th>7</th>\n      <td>2022-11-11 14:45:00</td>\n      <td>0.08110</td>\n      <td>0.08232</td>\n      <td>0.08109</td>\n      <td>0.08226</td>\n      <td>13747027.0</td>\n      <td>100.0</td>\n      <td>0.081842</td>\n    </tr>\n    <tr>\n      <th>8</th>\n      <td>2022-11-11 14:46:00</td>\n      <td>0.08237</td>\n      <td>0.08275</td>\n      <td>0.08199</td>\n      <td>NaN</td>\n      <td>12758340.0</td>\n      <td>93.0</td>\n      <td>0.082308</td>\n    </tr>\n    <tr>\n      <th>9</th>\n      <td>2022-11-11 14:47:00</td>\n      <td>0.08276</td>\n      <td>0.08612</td>\n      <td>0.08275</td>\n      <td>NaN</td>\n      <td>34452376.0</td>\n      <td>105.0</td>\n      <td>0.084556</td>\n    </tr>\n    <tr>\n      <th>10</th>\n      <td>2022-11-11 14:48:00</td>\n      <td>0.08486</td>\n      <td>0.08509</td>\n      <td>0.08338</td>\n      <td>0.08386</td>\n      <td>25284894.0</td>\n      <td>106.0</td>\n      <td>NaN</td>\n    </tr>\n    <tr>\n      <th>11</th>\n      <td>2022-11-11 14:49:00</td>\n      <td>0.08379</td>\n      <td>0.08439</td>\n      <td>0.08337</td>\n      <td>NaN</td>\n      <td>18461593.0</td>\n      <td>103.0</td>\n      <td>NaN</td>\n    </tr>\n    <tr>\n      <th>12</th>\n      <td>2022-11-11 14:50:00</td>\n      <td>0.08349</td>\n      <td>0.08414</td>\n      <td>0.08328</td>\n      <td>0.08398</td>\n      <td>6608245.0</td>\n      <td>99.0</td>\n      <td>0.083635</td>\n    </tr>\n    <tr>\n      <th>13</th>\n      <td>2022-11-11 14:51:00</td>\n      <td>0.08400</td>\n      <td>0.08400</td>\n      <td>0.08300</td>\n      <td>0.08301</td>\n      <td>9624168.0</td>\n      <td>97.0</td>\n      <td>NaN</td>\n    </tr>\n    <tr>\n      <th>14</th>\n      <td>2022-11-11 14:52:00</td>\n      <td>0.08308</td>\n      <td>0.08325</td>\n      <td>0.08209</td>\n      <td>0.08245</td>\n      <td>14723866.0</td>\n      <td>102.0</td>\n      <td>NaN</td>\n    </tr>\n    <tr>\n      <th>15</th>\n      <td>2022-11-11 14:53:00</td>\n      <td>0.08242</td>\n      <td>0.08296</td>\n      <td>0.08238</td>\n      <td>0.08256</td>\n      <td>6915675.0</td>\n      <td>98.0</td>\n      <td>NaN</td>\n    </tr>\n    <tr>\n      <th>16</th>\n      <td>2022-11-11 14:54:00</td>\n      <td>0.08247</td>\n      <td>0.08293</td>\n      <td>0.08247</td>\n      <td>0.08271</td>\n      <td>3355101.0</td>\n      <td>NaN</td>\n      <td>NaN</td>\n    </tr>\n    <tr>\n      <th>17</th>\n      <td>2022-11-11 14:55:00</td>\n      <td>0.08262</td>\n      <td>0.08262</td>\n      <td>0.08200</td>\n      <td>NaN</td>\n      <td>3792184.0</td>\n      <td>85.0</td>\n      <td>0.082257</td>\n    </tr>\n    <tr>\n      <th>18</th>\n      <td>2022-11-11 14:56:00</td>\n      <td>0.08228</td>\n      <td>0.08290</td>\n      <td>0.08217</td>\n      <td>NaN</td>\n      <td>8703982.0</td>\n      <td>89.0</td>\n      <td>0.082542</td>\n    </tr>\n    <tr>\n      <th>19</th>\n      <td>2022-11-11 14:57:00</td>\n      <td>0.08267</td>\n      <td>0.08289</td>\n      <td>0.08256</td>\n      <td>0.08259</td>\n      <td>3535313.0</td>\n      <td>82.0</td>\n      <td>0.082747</td>\n    </tr>\n  </tbody>\n</table>\n</div>"
          },
          "metadata": {}
        }
      ]
    },
    {
      "cell_type": "markdown",
      "source": "<h4>Evaluating for Missing Data</h4>\n\nThe missing values are converted by default. We use the following functions to identify these missing values. There are two methods to detect missing data:\n\n<ol>\n    <li><b>.isnull()</b></li>\n    <li><b>.notnull()</b></li>\n</ol>\nThe output is a boolean value indicating whether the value that is passed into the argument is in fact missing data.\n",
      "metadata": {}
    },
    {
      "cell_type": "code",
      "source": "missing_data = df.isnull()\nmissing_data.head(5)",
      "metadata": {
        "trusted": true
      },
      "execution_count": 13,
      "outputs": [
        {
          "execution_count": 13,
          "output_type": "execute_result",
          "data": {
            "text/plain": "      Ts   Open   High    Low  Close  Volume  Rec_count  Avg_price\n0  False  False  False  False  False   False      False      False\n1  False  False  False  False  False   False      False      False\n2  False  False  False  False  False   False       True       True\n3  False  False  False  False  False   False      False      False\n4  False  False  False  False  False   False      False      False",
            "text/html": "<div>\n<style scoped>\n    .dataframe tbody tr th:only-of-type {\n        vertical-align: middle;\n    }\n\n    .dataframe tbody tr th {\n        vertical-align: top;\n    }\n\n    .dataframe thead th {\n        text-align: right;\n    }\n</style>\n<table border=\"1\" class=\"dataframe\">\n  <thead>\n    <tr style=\"text-align: right;\">\n      <th></th>\n      <th>Ts</th>\n      <th>Open</th>\n      <th>High</th>\n      <th>Low</th>\n      <th>Close</th>\n      <th>Volume</th>\n      <th>Rec_count</th>\n      <th>Avg_price</th>\n    </tr>\n  </thead>\n  <tbody>\n    <tr>\n      <th>0</th>\n      <td>False</td>\n      <td>False</td>\n      <td>False</td>\n      <td>False</td>\n      <td>False</td>\n      <td>False</td>\n      <td>False</td>\n      <td>False</td>\n    </tr>\n    <tr>\n      <th>1</th>\n      <td>False</td>\n      <td>False</td>\n      <td>False</td>\n      <td>False</td>\n      <td>False</td>\n      <td>False</td>\n      <td>False</td>\n      <td>False</td>\n    </tr>\n    <tr>\n      <th>2</th>\n      <td>False</td>\n      <td>False</td>\n      <td>False</td>\n      <td>False</td>\n      <td>False</td>\n      <td>False</td>\n      <td>True</td>\n      <td>True</td>\n    </tr>\n    <tr>\n      <th>3</th>\n      <td>False</td>\n      <td>False</td>\n      <td>False</td>\n      <td>False</td>\n      <td>False</td>\n      <td>False</td>\n      <td>False</td>\n      <td>False</td>\n    </tr>\n    <tr>\n      <th>4</th>\n      <td>False</td>\n      <td>False</td>\n      <td>False</td>\n      <td>False</td>\n      <td>False</td>\n      <td>False</td>\n      <td>False</td>\n      <td>False</td>\n    </tr>\n  </tbody>\n</table>\n</div>"
          },
          "metadata": {}
        }
      ]
    },
    {
      "cell_type": "markdown",
      "source": "\"True\" means the value is a missing value while \"False\" means the value is not a missing value.\n",
      "metadata": {}
    },
    {
      "cell_type": "markdown",
      "source": "<h4>Count missing values in each column</h4>\n<p>\nUsing a for loop in Python, we can quickly figure out the number of missing values in each column. As mentioned above, \"True\" represents a missing value and \"False\" means the value is present in the dataset.  In the body of the for loop the method \".value_counts()\" counts the number of \"True\" values. \n</p>\n",
      "metadata": {}
    },
    {
      "cell_type": "code",
      "source": "for column in missing_data.columns.values.tolist():\n    print(column)\n    print (missing_data[column].value_counts())\n    print(\"\")    ",
      "metadata": {
        "trusted": true
      },
      "execution_count": 14,
      "outputs": [
        {
          "name": "stdout",
          "text": "Ts\nFalse    67277\nName: Ts, dtype: int64\n\nOpen\nFalse    67277\nName: Open, dtype: int64\n\nHigh\nFalse    67277\nName: High, dtype: int64\n\nLow\nFalse    67277\nName: Low, dtype: int64\n\nClose\nFalse    53803\nTrue     13474\nName: Close, dtype: int64\n\nVolume\nFalse    67277\nName: Volume, dtype: int64\n\nRec_count\nFalse    53971\nTrue     13306\nName: Rec_count, dtype: int64\n\nAvg_price\nFalse    53875\nTrue     13402\nName: Avg_price, dtype: int64\n\n",
          "output_type": "stream"
        }
      ]
    },
    {
      "cell_type": "markdown",
      "source": "Based on the summary above, each column has 67277 rows of data and eight of the columns containing missing data:\n\n<ol>\n    <li>\"Close\" : +-13373 missing data</li>\n    <li>\"Rec_count\":  +-13546 missing data</li>\n    <li>\"Avg_price\": +-13356 missing data</li>\n</ol>\n",
      "metadata": {}
    },
    {
      "cell_type": "markdown",
      "source": "<h3 id=\"deal_missing_values\">Deal with missing data</h3>\n<b>How to deal with missing data?</b>\n\n<ol>\n    <li>Drop data<br>\n        a. Drop the whole row<br>\n        b. Drop the whole column\n    </li>\n    <li>Replace data<br>\n        a. Replace it by mean<br>\n        b. Replace it by frequency<br>\n        c. Replace it based on other functions\n    </li>\n</ol>\n",
      "metadata": {}
    },
    {
      "cell_type": "markdown",
      "source": "Whole columns should be dropped only if most entries in the column are empty. In our dataset, none of the columns are empty enough to drop entirely.\nWe have some freedom in choosing which method to replace data; however, some methods may seem more reasonable than others. \n\nOur data is linked to time, so we can not drop rows to save data quality for future analysis. Also not the best way to restore our data is to replace it by mean value.\nSo we will use a frequency value and an interpolation to restore it.\n<ol>\n<b>Replace by using interpolation: </b>\n<ul>\n    <li>\"Avg_price\": +-13356 missing data, simply delete the whole row.</li>\n</ul>\n\n<b>Replace by frequency:</b>\n<ul>\n    <li>\"Rec_count\":  +-13546 missing data, replace them with the most frequent value.</li>\n</ul>\n</ol>\n\n",
      "metadata": {}
    },
    {
      "cell_type": "markdown",
      "source": "<h4>Lets compare some models for interpolation to choose the best one:</h4>\n",
      "metadata": {}
    },
    {
      "cell_type": "code",
      "source": "from sklearn.metrics import mean_squared_error, mean_absolute_percentage_error\n\nres = pd.DataFrame({\"Model\":[], \"Accuracy\":[], \"Percentage\":[]})\n\n#list of interpolation methods\nmodels = [\"linear\", \"nearest\", \"slinearl\", \"quadratic\", \"cubic\", \"piecewise_polynomial\", \"pchip\", \"akima\", \"cubicspline\"]\nfor model in models:\n    #count nan rows to check accuracy then\n    nan_rows = df[\"Avg_price\"].isna()\n    #use interpolation on Avg_price column\n    interpolation_check = df[\"Avg_price\"].interpolate(model = model)\n    #check absolute and squaded errors\n    accuracy = mean_squared_error(clear_df.loc[nan_rows, \"Avg_price\"], interpolation_check[nan_rows])\n    percentage = mean_absolute_percentage_error(clear_df.loc[nan_rows, \"Avg_price\"], interpolation_check[nan_rows])\n    #add results to res list\n    res.loc[len(res.index)] = [model, accuracy, percentage]\n    \n#list of interpolation methods\nmore_models = [\"spline\", \"polynomial\"]\nfor model in more_models:\n    for order in [3, 5]:\n        #count nan rows to check accuracy then\n        nan_rows = df[\"Avg_price\"].isna() \n        #use interpolation on Avg_price column\n        interpolation_check = df[\"Avg_price\"].interpolate(model = model, order = order)\n        #check absolute and squaded errors\n        accuracy = mean_squared_error(clear_df.loc[nan_rows, \"Avg_price\"], interpolation_check[nan_rows])\n        percentage = mean_absolute_percentage_error(clear_df.loc[nan_rows, \"Avg_price\"], interpolation_check[nan_rows])\n        #add results to res list\n        res.loc[len(res.index)] = [f\"{model}_{order}\", accuracy, percentage]\n        \n#set output precision on 15 digits\npd.set_option(\"display.precision\", 15)\nres.sort_values(by = [\"Percentage\", \"Accuracy\"], ascending = True)\n#convert Percentage to %\nres[\"Percentage\"] = res[\"Percentage\"] * 100\nres[\"Percentage\"] = res[\"Percentage\"].astype(\"str\")\nres[\"Percentage\"] = res[\"Percentage\"].str.slice(stop = 8) + \"%\" \nres.head(11)",
      "metadata": {
        "trusted": true
      },
      "execution_count": 15,
      "outputs": [
        {
          "execution_count": 15,
          "output_type": "execute_result",
          "data": {
            "text/plain": "                   Model           Accuracy Percentage\n0                 linear  0.000000007317778  0.055864%\n1                nearest  0.000000007317778  0.055864%\n2               slinearl  0.000000007317778  0.055864%\n3              quadratic  0.000000007317778  0.055864%\n4                  cubic  0.000000007317778  0.055864%\n5   piecewise_polynomial  0.000000007317778  0.055864%\n6                  pchip  0.000000007317778  0.055864%\n7                  akima  0.000000007317778  0.055864%\n8            cubicspline  0.000000007317778  0.055864%\n9               spline_3  0.000000007317778  0.055864%\n10              spline_5  0.000000007317778  0.055864%",
            "text/html": "<div>\n<style scoped>\n    .dataframe tbody tr th:only-of-type {\n        vertical-align: middle;\n    }\n\n    .dataframe tbody tr th {\n        vertical-align: top;\n    }\n\n    .dataframe thead th {\n        text-align: right;\n    }\n</style>\n<table border=\"1\" class=\"dataframe\">\n  <thead>\n    <tr style=\"text-align: right;\">\n      <th></th>\n      <th>Model</th>\n      <th>Accuracy</th>\n      <th>Percentage</th>\n    </tr>\n  </thead>\n  <tbody>\n    <tr>\n      <th>0</th>\n      <td>linear</td>\n      <td>0.000000007317778</td>\n      <td>0.055864%</td>\n    </tr>\n    <tr>\n      <th>1</th>\n      <td>nearest</td>\n      <td>0.000000007317778</td>\n      <td>0.055864%</td>\n    </tr>\n    <tr>\n      <th>2</th>\n      <td>slinearl</td>\n      <td>0.000000007317778</td>\n      <td>0.055864%</td>\n    </tr>\n    <tr>\n      <th>3</th>\n      <td>quadratic</td>\n      <td>0.000000007317778</td>\n      <td>0.055864%</td>\n    </tr>\n    <tr>\n      <th>4</th>\n      <td>cubic</td>\n      <td>0.000000007317778</td>\n      <td>0.055864%</td>\n    </tr>\n    <tr>\n      <th>5</th>\n      <td>piecewise_polynomial</td>\n      <td>0.000000007317778</td>\n      <td>0.055864%</td>\n    </tr>\n    <tr>\n      <th>6</th>\n      <td>pchip</td>\n      <td>0.000000007317778</td>\n      <td>0.055864%</td>\n    </tr>\n    <tr>\n      <th>7</th>\n      <td>akima</td>\n      <td>0.000000007317778</td>\n      <td>0.055864%</td>\n    </tr>\n    <tr>\n      <th>8</th>\n      <td>cubicspline</td>\n      <td>0.000000007317778</td>\n      <td>0.055864%</td>\n    </tr>\n    <tr>\n      <th>9</th>\n      <td>spline_3</td>\n      <td>0.000000007317778</td>\n      <td>0.055864%</td>\n    </tr>\n    <tr>\n      <th>10</th>\n      <td>spline_5</td>\n      <td>0.000000007317778</td>\n      <td>0.055864%</td>\n    </tr>\n  </tbody>\n</table>\n</div>"
          },
          "metadata": {}
        }
      ]
    },
    {
      "cell_type": "code",
      "source": "#set output precision on 6 digits\npd.set_option(\"display.precision\", 6)",
      "metadata": {
        "trusted": true
      },
      "execution_count": 16,
      "outputs": []
    },
    {
      "cell_type": "markdown",
      "source": "Accuracy is same so lets choose linear interpolation for example.",
      "metadata": {}
    },
    {
      "cell_type": "markdown",
      "source": "<h4>Replace \"NaN\" with the linear value in the \"Avg_price\" column</h4>\n",
      "metadata": {}
    },
    {
      "cell_type": "code",
      "source": "df[\"Avg_price\"].interpolate(method='linear', inplace=True)\ndf.head(5)",
      "metadata": {
        "trusted": true
      },
      "execution_count": 17,
      "outputs": [
        {
          "execution_count": 17,
          "output_type": "execute_result",
          "data": {
            "text/plain": "                    Ts     Open     High      Low    Close     Volume  \\\n0  2022-11-11 14:38:00  0.08139  0.08139  0.08065  0.08065  4523754.0   \n1  2022-11-11 14:39:00  0.08065  0.08078  0.08041  0.08043  5119775.0   \n2  2022-11-11 14:40:00  0.08039  0.08073  0.08035  0.08056  1460872.0   \n3  2022-11-11 14:41:00  0.08058  0.08103  0.08032  0.08092  2292152.0   \n4  2022-11-11 14:42:00  0.08099  0.08112  0.08071  0.08071  3044077.0   \n\n   Rec_count  Avg_price  \n0       80.0   0.080926  \n1       77.0   0.080565  \n2        NaN   0.080640  \n3       75.0   0.080715  \n4       57.0   0.081038  ",
            "text/html": "<div>\n<style scoped>\n    .dataframe tbody tr th:only-of-type {\n        vertical-align: middle;\n    }\n\n    .dataframe tbody tr th {\n        vertical-align: top;\n    }\n\n    .dataframe thead th {\n        text-align: right;\n    }\n</style>\n<table border=\"1\" class=\"dataframe\">\n  <thead>\n    <tr style=\"text-align: right;\">\n      <th></th>\n      <th>Ts</th>\n      <th>Open</th>\n      <th>High</th>\n      <th>Low</th>\n      <th>Close</th>\n      <th>Volume</th>\n      <th>Rec_count</th>\n      <th>Avg_price</th>\n    </tr>\n  </thead>\n  <tbody>\n    <tr>\n      <th>0</th>\n      <td>2022-11-11 14:38:00</td>\n      <td>0.08139</td>\n      <td>0.08139</td>\n      <td>0.08065</td>\n      <td>0.08065</td>\n      <td>4523754.0</td>\n      <td>80.0</td>\n      <td>0.080926</td>\n    </tr>\n    <tr>\n      <th>1</th>\n      <td>2022-11-11 14:39:00</td>\n      <td>0.08065</td>\n      <td>0.08078</td>\n      <td>0.08041</td>\n      <td>0.08043</td>\n      <td>5119775.0</td>\n      <td>77.0</td>\n      <td>0.080565</td>\n    </tr>\n    <tr>\n      <th>2</th>\n      <td>2022-11-11 14:40:00</td>\n      <td>0.08039</td>\n      <td>0.08073</td>\n      <td>0.08035</td>\n      <td>0.08056</td>\n      <td>1460872.0</td>\n      <td>NaN</td>\n      <td>0.080640</td>\n    </tr>\n    <tr>\n      <th>3</th>\n      <td>2022-11-11 14:41:00</td>\n      <td>0.08058</td>\n      <td>0.08103</td>\n      <td>0.08032</td>\n      <td>0.08092</td>\n      <td>2292152.0</td>\n      <td>75.0</td>\n      <td>0.080715</td>\n    </tr>\n    <tr>\n      <th>4</th>\n      <td>2022-11-11 14:42:00</td>\n      <td>0.08099</td>\n      <td>0.08112</td>\n      <td>0.08071</td>\n      <td>0.08071</td>\n      <td>3044077.0</td>\n      <td>57.0</td>\n      <td>0.081038</td>\n    </tr>\n  </tbody>\n</table>\n</div>"
          },
          "metadata": {}
        }
      ]
    },
    {
      "cell_type": "markdown",
      "source": "<div class=\"alert alert-danger alertdanger\" style=\"margin-top: 20px\">\n<h1> Question  #1: </h1>\n\n<b>Based on the example above, replace NaN in \"Close\" column with the linear interpolation value.</b>\n\n</div>\n",
      "metadata": {}
    },
    {
      "cell_type": "code",
      "source": "# Write your code below and press Shift+Enter to execute \n",
      "metadata": {
        "trusted": true
      },
      "execution_count": 18,
      "outputs": []
    },
    {
      "cell_type": "markdown",
      "source": "<details><summary>Click here for the solution</summary>\n\n```python\n\n# replace NaN by with the linear interpolation value in \"Close\" column\ndf[\"Close\"].interpolate(method='linear', inplace=True)\ndf.head(5)\n\n```\n</details>\n",
      "metadata": {}
    },
    {
      "cell_type": "markdown",
      "source": "To see which values are present in a particular column, we can use the \".value_counts()\" method:\n",
      "metadata": {}
    },
    {
      "cell_type": "code",
      "source": "df['Rec_count'].value_counts()",
      "metadata": {
        "trusted": true
      },
      "execution_count": 19,
      "outputs": [
        {
          "execution_count": 19,
          "output_type": "execute_result",
          "data": {
            "text/plain": "12.0     1712\n13.0     1677\n15.0     1643\n11.0     1638\n14.0     1616\n         ... \n118.0       3\n115.0       2\n114.0       1\n113.0       1\n119.0       1\nName: Rec_count, Length: 118, dtype: int64"
          },
          "metadata": {}
        }
      ]
    },
    {
      "cell_type": "markdown",
      "source": "We can see the most common value. We can also use the \".idxmax()\" method to calculate the most common type automatically:\n",
      "metadata": {}
    },
    {
      "cell_type": "code",
      "source": "df['Rec_count'].value_counts().idxmax()",
      "metadata": {
        "trusted": true
      },
      "execution_count": 20,
      "outputs": [
        {
          "execution_count": 20,
          "output_type": "execute_result",
          "data": {
            "text/plain": "12.0"
          },
          "metadata": {}
        }
      ]
    },
    {
      "cell_type": "markdown",
      "source": "The replacement procedure is very similar to what we have seen previously:\n",
      "metadata": {}
    },
    {
      "cell_type": "code",
      "source": "#replace the missing 'Rec_count' values by the most frequent \ndf[\"Rec_count\"].replace(np.nan, df['Rec_count'].value_counts().idxmax(), inplace=True)",
      "metadata": {
        "trusted": true
      },
      "execution_count": 21,
      "outputs": []
    },
    {
      "cell_type": "code",
      "source": "df.head()",
      "metadata": {
        "trusted": true
      },
      "execution_count": 22,
      "outputs": [
        {
          "execution_count": 22,
          "output_type": "execute_result",
          "data": {
            "text/plain": "                    Ts     Open     High      Low    Close     Volume  \\\n0  2022-11-11 14:38:00  0.08139  0.08139  0.08065  0.08065  4523754.0   \n1  2022-11-11 14:39:00  0.08065  0.08078  0.08041  0.08043  5119775.0   \n2  2022-11-11 14:40:00  0.08039  0.08073  0.08035  0.08056  1460872.0   \n3  2022-11-11 14:41:00  0.08058  0.08103  0.08032  0.08092  2292152.0   \n4  2022-11-11 14:42:00  0.08099  0.08112  0.08071  0.08071  3044077.0   \n\n   Rec_count  Avg_price  \n0       80.0   0.080926  \n1       77.0   0.080565  \n2       12.0   0.080640  \n3       75.0   0.080715  \n4       57.0   0.081038  ",
            "text/html": "<div>\n<style scoped>\n    .dataframe tbody tr th:only-of-type {\n        vertical-align: middle;\n    }\n\n    .dataframe tbody tr th {\n        vertical-align: top;\n    }\n\n    .dataframe thead th {\n        text-align: right;\n    }\n</style>\n<table border=\"1\" class=\"dataframe\">\n  <thead>\n    <tr style=\"text-align: right;\">\n      <th></th>\n      <th>Ts</th>\n      <th>Open</th>\n      <th>High</th>\n      <th>Low</th>\n      <th>Close</th>\n      <th>Volume</th>\n      <th>Rec_count</th>\n      <th>Avg_price</th>\n    </tr>\n  </thead>\n  <tbody>\n    <tr>\n      <th>0</th>\n      <td>2022-11-11 14:38:00</td>\n      <td>0.08139</td>\n      <td>0.08139</td>\n      <td>0.08065</td>\n      <td>0.08065</td>\n      <td>4523754.0</td>\n      <td>80.0</td>\n      <td>0.080926</td>\n    </tr>\n    <tr>\n      <th>1</th>\n      <td>2022-11-11 14:39:00</td>\n      <td>0.08065</td>\n      <td>0.08078</td>\n      <td>0.08041</td>\n      <td>0.08043</td>\n      <td>5119775.0</td>\n      <td>77.0</td>\n      <td>0.080565</td>\n    </tr>\n    <tr>\n      <th>2</th>\n      <td>2022-11-11 14:40:00</td>\n      <td>0.08039</td>\n      <td>0.08073</td>\n      <td>0.08035</td>\n      <td>0.08056</td>\n      <td>1460872.0</td>\n      <td>12.0</td>\n      <td>0.080640</td>\n    </tr>\n    <tr>\n      <th>3</th>\n      <td>2022-11-11 14:41:00</td>\n      <td>0.08058</td>\n      <td>0.08103</td>\n      <td>0.08032</td>\n      <td>0.08092</td>\n      <td>2292152.0</td>\n      <td>75.0</td>\n      <td>0.080715</td>\n    </tr>\n    <tr>\n      <th>4</th>\n      <td>2022-11-11 14:42:00</td>\n      <td>0.08099</td>\n      <td>0.08112</td>\n      <td>0.08071</td>\n      <td>0.08071</td>\n      <td>3044077.0</td>\n      <td>57.0</td>\n      <td>0.081038</td>\n    </tr>\n  </tbody>\n</table>\n</div>"
          },
          "metadata": {}
        }
      ]
    },
    {
      "cell_type": "markdown",
      "source": "<b>Good!</b> Now, we have a dataset with no missing values.\n",
      "metadata": {}
    },
    {
      "cell_type": "markdown",
      "source": "<h3 id=\"correct_data_format\">Correct data format</h3>\n<b>We are almost there!</b>\n<p>The last step in data cleaning is checking and making sure that all data is in the correct format (int, float, text or other).</p>\n\nIn Pandas, we use:\n\n<p><b>.dtype()</b> to check the data type</p>\n<p><b>.astype()</b> to change the data type</p>\n",
      "metadata": {}
    },
    {
      "cell_type": "markdown",
      "source": "<h4>Let's list the data types for each column</h4>\n",
      "metadata": {}
    },
    {
      "cell_type": "code",
      "source": "df.dtypes",
      "metadata": {
        "trusted": true
      },
      "execution_count": 23,
      "outputs": [
        {
          "execution_count": 23,
          "output_type": "execute_result",
          "data": {
            "text/plain": "Ts            object\nOpen         float64\nHigh         float64\nLow          float64\nClose        float64\nVolume       float64\nRec_count    float64\nAvg_price    float64\ndtype: object"
          },
          "metadata": {}
        }
      ]
    },
    {
      "cell_type": "markdown",
      "source": "<p>As we can see above, some columns are not of the correct data type. Numerical variables should have type 'float' or 'int', and variables with strings such as categories should have type 'object'. We have to convert data types into a proper format for each column using the \"astype()\" method.</p> \n",
      "metadata": {}
    },
    {
      "cell_type": "markdown",
      "source": "<h4>Convert data types to proper format</h4>\n",
      "metadata": {
        "tags": []
      }
    },
    {
      "cell_type": "code",
      "source": "df[[\"Ts\"]] = df[[\"Ts\"]].astype(\"datetime64[ns]\")\ndf[[\"Rec_count\"]] = df[[\"Rec_count\"]].astype(\"int64\")",
      "metadata": {
        "trusted": true
      },
      "execution_count": 24,
      "outputs": []
    },
    {
      "cell_type": "markdown",
      "source": "<h4>Let us list the columns after the conversion</h4>\n",
      "metadata": {}
    },
    {
      "cell_type": "code",
      "source": "df.dtypes",
      "metadata": {
        "trusted": true
      },
      "execution_count": 25,
      "outputs": [
        {
          "execution_count": 25,
          "output_type": "execute_result",
          "data": {
            "text/plain": "Ts           datetime64[ns]\nOpen                float64\nHigh                float64\nLow                 float64\nClose               float64\nVolume              float64\nRec_count             int64\nAvg_price           float64\ndtype: object"
          },
          "metadata": {}
        }
      ]
    },
    {
      "cell_type": "markdown",
      "source": "<b>Wonderful!</b>\n\nNow we have finally obtained the cleaned dataset with no missing values with all data in its proper format.\n",
      "metadata": {}
    },
    {
      "cell_type": "markdown",
      "source": "<h2 id=\"data_standardization\">Data Standardization</h2>\n<p>\nData is usually collected from different agencies in different formats.\n(Data standardization is also a term for a particular type of data normalization where we subtract the mean and divide by the standard deviation.)\n</p>\n\n<b>What is standardization?</b>\n\n<p>Standardization is the process of transforming data into a common format, allowing the researcher to make the meaningful comparison.\n</p>\n\n<b>Example</b>\n\n<p>Transform USD to EUR:</p>\n<p>In our dataset, the columns with price values are represented by BUSD. Assume we are developing an application in a country that accepts the price values with EUR standard.</p>\n<p>We will need to apply <b>data transformation</b> to transform BUSD into EUR.</p>\n",
      "metadata": {}
    },
    {
      "cell_type": "code",
      "source": "df.head()",
      "metadata": {
        "trusted": true
      },
      "execution_count": 26,
      "outputs": [
        {
          "execution_count": 26,
          "output_type": "execute_result",
          "data": {
            "text/plain": "                   Ts     Open     High      Low    Close     Volume  \\\n0 2022-11-11 14:38:00  0.08139  0.08139  0.08065  0.08065  4523754.0   \n1 2022-11-11 14:39:00  0.08065  0.08078  0.08041  0.08043  5119775.0   \n2 2022-11-11 14:40:00  0.08039  0.08073  0.08035  0.08056  1460872.0   \n3 2022-11-11 14:41:00  0.08058  0.08103  0.08032  0.08092  2292152.0   \n4 2022-11-11 14:42:00  0.08099  0.08112  0.08071  0.08071  3044077.0   \n\n   Rec_count  Avg_price  \n0         80   0.080926  \n1         77   0.080565  \n2         12   0.080640  \n3         75   0.080715  \n4         57   0.081038  ",
            "text/html": "<div>\n<style scoped>\n    .dataframe tbody tr th:only-of-type {\n        vertical-align: middle;\n    }\n\n    .dataframe tbody tr th {\n        vertical-align: top;\n    }\n\n    .dataframe thead th {\n        text-align: right;\n    }\n</style>\n<table border=\"1\" class=\"dataframe\">\n  <thead>\n    <tr style=\"text-align: right;\">\n      <th></th>\n      <th>Ts</th>\n      <th>Open</th>\n      <th>High</th>\n      <th>Low</th>\n      <th>Close</th>\n      <th>Volume</th>\n      <th>Rec_count</th>\n      <th>Avg_price</th>\n    </tr>\n  </thead>\n  <tbody>\n    <tr>\n      <th>0</th>\n      <td>2022-11-11 14:38:00</td>\n      <td>0.08139</td>\n      <td>0.08139</td>\n      <td>0.08065</td>\n      <td>0.08065</td>\n      <td>4523754.0</td>\n      <td>80</td>\n      <td>0.080926</td>\n    </tr>\n    <tr>\n      <th>1</th>\n      <td>2022-11-11 14:39:00</td>\n      <td>0.08065</td>\n      <td>0.08078</td>\n      <td>0.08041</td>\n      <td>0.08043</td>\n      <td>5119775.0</td>\n      <td>77</td>\n      <td>0.080565</td>\n    </tr>\n    <tr>\n      <th>2</th>\n      <td>2022-11-11 14:40:00</td>\n      <td>0.08039</td>\n      <td>0.08073</td>\n      <td>0.08035</td>\n      <td>0.08056</td>\n      <td>1460872.0</td>\n      <td>12</td>\n      <td>0.080640</td>\n    </tr>\n    <tr>\n      <th>3</th>\n      <td>2022-11-11 14:41:00</td>\n      <td>0.08058</td>\n      <td>0.08103</td>\n      <td>0.08032</td>\n      <td>0.08092</td>\n      <td>2292152.0</td>\n      <td>75</td>\n      <td>0.080715</td>\n    </tr>\n    <tr>\n      <th>4</th>\n      <td>2022-11-11 14:42:00</td>\n      <td>0.08099</td>\n      <td>0.08112</td>\n      <td>0.08071</td>\n      <td>0.08071</td>\n      <td>3044077.0</td>\n      <td>57</td>\n      <td>0.081038</td>\n    </tr>\n  </tbody>\n</table>\n</div>"
          },
          "metadata": {}
        }
      ]
    },
    {
      "cell_type": "code",
      "source": "# Convert BUSD to EUR by mathematical operation\nres = await pyfetch(\"https://api.binance.com/sapi/v1/convert/exchangeInfo?fromAsset=BUSD&toAsset=EUR\")\n# If the api is unavailable we set fixed rate\n# If we can not get info(statuse code is not 200) we use coef 0.92\nif res.status != 200:\n    rate = 0.92\nelse:\n    # Converting json to dict\n    res = await res.json()\n    rate = float(res[0][\"toAssetMinAmount\"])\n    \nprint(f\"The exchange rate is 1 BUSD = {rate} EUR\")\n\ncols_to_convert = [\"Open\", \"High\", \"Low\", \"Close\", \"Volume\", \"Avg_price\"]\nfor col in cols_to_convert:\n    df[f\"{col}_EUR\"] = df[col] * rate\n\n# check your transformed data \ndf.head()",
      "metadata": {
        "trusted": true
      },
      "execution_count": 27,
      "outputs": [
        {
          "name": "stdout",
          "text": "The exchange rate is 1 BUSD = 0.92 EUR\n",
          "output_type": "stream"
        },
        {
          "execution_count": 27,
          "output_type": "execute_result",
          "data": {
            "text/plain": "                   Ts     Open     High      Low    Close     Volume  \\\n0 2022-11-11 14:38:00  0.08139  0.08139  0.08065  0.08065  4523754.0   \n1 2022-11-11 14:39:00  0.08065  0.08078  0.08041  0.08043  5119775.0   \n2 2022-11-11 14:40:00  0.08039  0.08073  0.08035  0.08056  1460872.0   \n3 2022-11-11 14:41:00  0.08058  0.08103  0.08032  0.08092  2292152.0   \n4 2022-11-11 14:42:00  0.08099  0.08112  0.08071  0.08071  3044077.0   \n\n   Rec_count  Avg_price  Open_EUR  High_EUR   Low_EUR  Close_EUR  Volume_EUR  \\\n0         80   0.080926  0.074879  0.074879  0.074198   0.074198  4161853.68   \n1         77   0.080565  0.074198  0.074318  0.073977   0.073996  4710193.00   \n2         12   0.080640  0.073959  0.074272  0.073922   0.074115  1344002.24   \n3         75   0.080715  0.074134  0.074548  0.073894   0.074446  2108779.84   \n4         57   0.081038  0.074511  0.074630  0.074253   0.074253  2800550.84   \n\n   Avg_price_EUR  \n0       0.074452  \n1       0.074120  \n2       0.074189  \n3       0.074258  \n4       0.074555  ",
            "text/html": "<div>\n<style scoped>\n    .dataframe tbody tr th:only-of-type {\n        vertical-align: middle;\n    }\n\n    .dataframe tbody tr th {\n        vertical-align: top;\n    }\n\n    .dataframe thead th {\n        text-align: right;\n    }\n</style>\n<table border=\"1\" class=\"dataframe\">\n  <thead>\n    <tr style=\"text-align: right;\">\n      <th></th>\n      <th>Ts</th>\n      <th>Open</th>\n      <th>High</th>\n      <th>Low</th>\n      <th>Close</th>\n      <th>Volume</th>\n      <th>Rec_count</th>\n      <th>Avg_price</th>\n      <th>Open_EUR</th>\n      <th>High_EUR</th>\n      <th>Low_EUR</th>\n      <th>Close_EUR</th>\n      <th>Volume_EUR</th>\n      <th>Avg_price_EUR</th>\n    </tr>\n  </thead>\n  <tbody>\n    <tr>\n      <th>0</th>\n      <td>2022-11-11 14:38:00</td>\n      <td>0.08139</td>\n      <td>0.08139</td>\n      <td>0.08065</td>\n      <td>0.08065</td>\n      <td>4523754.0</td>\n      <td>80</td>\n      <td>0.080926</td>\n      <td>0.074879</td>\n      <td>0.074879</td>\n      <td>0.074198</td>\n      <td>0.074198</td>\n      <td>4161853.68</td>\n      <td>0.074452</td>\n    </tr>\n    <tr>\n      <th>1</th>\n      <td>2022-11-11 14:39:00</td>\n      <td>0.08065</td>\n      <td>0.08078</td>\n      <td>0.08041</td>\n      <td>0.08043</td>\n      <td>5119775.0</td>\n      <td>77</td>\n      <td>0.080565</td>\n      <td>0.074198</td>\n      <td>0.074318</td>\n      <td>0.073977</td>\n      <td>0.073996</td>\n      <td>4710193.00</td>\n      <td>0.074120</td>\n    </tr>\n    <tr>\n      <th>2</th>\n      <td>2022-11-11 14:40:00</td>\n      <td>0.08039</td>\n      <td>0.08073</td>\n      <td>0.08035</td>\n      <td>0.08056</td>\n      <td>1460872.0</td>\n      <td>12</td>\n      <td>0.080640</td>\n      <td>0.073959</td>\n      <td>0.074272</td>\n      <td>0.073922</td>\n      <td>0.074115</td>\n      <td>1344002.24</td>\n      <td>0.074189</td>\n    </tr>\n    <tr>\n      <th>3</th>\n      <td>2022-11-11 14:41:00</td>\n      <td>0.08058</td>\n      <td>0.08103</td>\n      <td>0.08032</td>\n      <td>0.08092</td>\n      <td>2292152.0</td>\n      <td>75</td>\n      <td>0.080715</td>\n      <td>0.074134</td>\n      <td>0.074548</td>\n      <td>0.073894</td>\n      <td>0.074446</td>\n      <td>2108779.84</td>\n      <td>0.074258</td>\n    </tr>\n    <tr>\n      <th>4</th>\n      <td>2022-11-11 14:42:00</td>\n      <td>0.08099</td>\n      <td>0.08112</td>\n      <td>0.08071</td>\n      <td>0.08071</td>\n      <td>3044077.0</td>\n      <td>57</td>\n      <td>0.081038</td>\n      <td>0.074511</td>\n      <td>0.074630</td>\n      <td>0.074253</td>\n      <td>0.074253</td>\n      <td>2800550.84</td>\n      <td>0.074555</td>\n    </tr>\n  </tbody>\n</table>\n</div>"
          },
          "metadata": {}
        }
      ]
    },
    {
      "cell_type": "markdown",
      "source": "<div class=\"alert alert-danger alertdanger\" style=\"margin-top: 20px\">\n<h1> Question  #2: </h1>\n\n<b>According to the example above, transform BUSD to GBP in \"Avg_price\" column and change the name of columns in appropriative way.</b>\n\n</div>\n",
      "metadata": {}
    },
    {
      "cell_type": "code",
      "source": "# Write your code below and press Shift+Enter to execute \n",
      "metadata": {
        "trusted": true
      },
      "execution_count": 28,
      "outputs": []
    },
    {
      "cell_type": "markdown",
      "source": "<details><summary>Click here for the solution</summary>\n\n```python\n# transform USD to Chinese Yuan by mathematical operation (USD divided by 0.15)\n# Convert BUSD to EUR by mathematical operation\n\nres = await pyfetch(\"https://api.binance.com/sapi/v1/convert/exchangeInfo?fromAsset=BUSD&toAsset=GBP\")\n# If the api is unavailable we set fixed rate\nif res.status != 200:\n    rate = 0.81\nelse:\n    # Converting json to dict\n    res = await res.json()\n    rate = float(res[0][\"toAssetMinAmount\"])\n    \nprint(f\"The exchange rate is 1 BUSD = {rate} GBP\")\n\ncols_to_convert = [\"Open\", \"High\", \"Low\", \"Close\", \"Volume\", \"Avg_price\"]\nfor col in cols_to_convert:\n    df[f\"{col}_GBP\"] = df[col] * rate\n\n# check your transformed data \ndf.head()\n\n```\n\n</details>\n",
      "metadata": {}
    },
    {
      "cell_type": "markdown",
      "source": "<h2 id=\"data_normalization\">Data Normalization</h2>\n\n<b>Why normalization?</b>\n\n<p>Normalization is the process of transforming values of several variables into a similar range. Typical normalizations include scaling the variable so the variable average is 0, scaling the variable so the variance is 1, or scaling the variable so the variable values range from 0 to 1.\n</p>\n\n<b>Example</b>\n\n<p>To demonstrate normalization, let's say we want to scale the columns \"Open\" and \"Close\".</p>\n<p><b>Target:</b> would like to normalize those variables so their value ranges from 0 to 1</p>\n<p><b>Approach:</b> replace original value by (original value)/(maximum value)</p>\n",
      "metadata": {}
    },
    {
      "cell_type": "code",
      "source": "df.head(10)",
      "metadata": {
        "trusted": true
      },
      "execution_count": 29,
      "outputs": [
        {
          "execution_count": 29,
          "output_type": "execute_result",
          "data": {
            "text/plain": "                   Ts     Open     High      Low    Close      Volume  \\\n0 2022-11-11 14:38:00  0.08139  0.08139  0.08065  0.08065   4523754.0   \n1 2022-11-11 14:39:00  0.08065  0.08078  0.08041  0.08043   5119775.0   \n2 2022-11-11 14:40:00  0.08039  0.08073  0.08035  0.08056   1460872.0   \n3 2022-11-11 14:41:00  0.08058  0.08103  0.08032  0.08092   2292152.0   \n4 2022-11-11 14:42:00  0.08099  0.08112  0.08071  0.08071   3044077.0   \n5 2022-11-11 14:43:00  0.08071  0.08105  0.08066  0.08078   1476278.0   \n6 2022-11-11 14:44:00  0.08083  0.08111  0.08083  0.08111   1838426.0   \n7 2022-11-11 14:45:00  0.08110  0.08232  0.08109  0.08226  13747027.0   \n8 2022-11-11 14:46:00  0.08237  0.08275  0.08199      NaN  12758340.0   \n9 2022-11-11 14:47:00  0.08276  0.08612  0.08275      NaN  34452376.0   \n\n   Rec_count  Avg_price  Open_EUR  High_EUR   Low_EUR  Close_EUR   Volume_EUR  \\\n0         80   0.080926  0.074879  0.074879  0.074198   0.074198   4161853.68   \n1         77   0.080565  0.074198  0.074318  0.073977   0.073996   4710193.00   \n2         12   0.080640  0.073959  0.074272  0.073922   0.074115   1344002.24   \n3         75   0.080715  0.074134  0.074548  0.073894   0.074446   2108779.84   \n4         57   0.081038  0.074511  0.074630  0.074253   0.074253   2800550.84   \n5         66   0.081025  0.074253  0.074566  0.074207   0.074318   1358175.76   \n6         60   0.081012  0.074364  0.074621  0.074364   0.074621   1691351.92   \n7        100   0.081842  0.074612  0.075734  0.074603   0.075679  12647264.84   \n8         93   0.082308  0.075780  0.076130  0.075431        NaN  11737672.80   \n9        105   0.084556  0.076139  0.079230  0.076130        NaN  31696185.92   \n\n   Avg_price_EUR  \n0       0.074452  \n1       0.074120  \n2       0.074189  \n3       0.074258  \n4       0.074555  \n5       0.074543  \n6       0.074531  \n7       0.075295  \n8       0.075723  \n9       0.077791  ",
            "text/html": "<div>\n<style scoped>\n    .dataframe tbody tr th:only-of-type {\n        vertical-align: middle;\n    }\n\n    .dataframe tbody tr th {\n        vertical-align: top;\n    }\n\n    .dataframe thead th {\n        text-align: right;\n    }\n</style>\n<table border=\"1\" class=\"dataframe\">\n  <thead>\n    <tr style=\"text-align: right;\">\n      <th></th>\n      <th>Ts</th>\n      <th>Open</th>\n      <th>High</th>\n      <th>Low</th>\n      <th>Close</th>\n      <th>Volume</th>\n      <th>Rec_count</th>\n      <th>Avg_price</th>\n      <th>Open_EUR</th>\n      <th>High_EUR</th>\n      <th>Low_EUR</th>\n      <th>Close_EUR</th>\n      <th>Volume_EUR</th>\n      <th>Avg_price_EUR</th>\n    </tr>\n  </thead>\n  <tbody>\n    <tr>\n      <th>0</th>\n      <td>2022-11-11 14:38:00</td>\n      <td>0.08139</td>\n      <td>0.08139</td>\n      <td>0.08065</td>\n      <td>0.08065</td>\n      <td>4523754.0</td>\n      <td>80</td>\n      <td>0.080926</td>\n      <td>0.074879</td>\n      <td>0.074879</td>\n      <td>0.074198</td>\n      <td>0.074198</td>\n      <td>4161853.68</td>\n      <td>0.074452</td>\n    </tr>\n    <tr>\n      <th>1</th>\n      <td>2022-11-11 14:39:00</td>\n      <td>0.08065</td>\n      <td>0.08078</td>\n      <td>0.08041</td>\n      <td>0.08043</td>\n      <td>5119775.0</td>\n      <td>77</td>\n      <td>0.080565</td>\n      <td>0.074198</td>\n      <td>0.074318</td>\n      <td>0.073977</td>\n      <td>0.073996</td>\n      <td>4710193.00</td>\n      <td>0.074120</td>\n    </tr>\n    <tr>\n      <th>2</th>\n      <td>2022-11-11 14:40:00</td>\n      <td>0.08039</td>\n      <td>0.08073</td>\n      <td>0.08035</td>\n      <td>0.08056</td>\n      <td>1460872.0</td>\n      <td>12</td>\n      <td>0.080640</td>\n      <td>0.073959</td>\n      <td>0.074272</td>\n      <td>0.073922</td>\n      <td>0.074115</td>\n      <td>1344002.24</td>\n      <td>0.074189</td>\n    </tr>\n    <tr>\n      <th>3</th>\n      <td>2022-11-11 14:41:00</td>\n      <td>0.08058</td>\n      <td>0.08103</td>\n      <td>0.08032</td>\n      <td>0.08092</td>\n      <td>2292152.0</td>\n      <td>75</td>\n      <td>0.080715</td>\n      <td>0.074134</td>\n      <td>0.074548</td>\n      <td>0.073894</td>\n      <td>0.074446</td>\n      <td>2108779.84</td>\n      <td>0.074258</td>\n    </tr>\n    <tr>\n      <th>4</th>\n      <td>2022-11-11 14:42:00</td>\n      <td>0.08099</td>\n      <td>0.08112</td>\n      <td>0.08071</td>\n      <td>0.08071</td>\n      <td>3044077.0</td>\n      <td>57</td>\n      <td>0.081038</td>\n      <td>0.074511</td>\n      <td>0.074630</td>\n      <td>0.074253</td>\n      <td>0.074253</td>\n      <td>2800550.84</td>\n      <td>0.074555</td>\n    </tr>\n    <tr>\n      <th>5</th>\n      <td>2022-11-11 14:43:00</td>\n      <td>0.08071</td>\n      <td>0.08105</td>\n      <td>0.08066</td>\n      <td>0.08078</td>\n      <td>1476278.0</td>\n      <td>66</td>\n      <td>0.081025</td>\n      <td>0.074253</td>\n      <td>0.074566</td>\n      <td>0.074207</td>\n      <td>0.074318</td>\n      <td>1358175.76</td>\n      <td>0.074543</td>\n    </tr>\n    <tr>\n      <th>6</th>\n      <td>2022-11-11 14:44:00</td>\n      <td>0.08083</td>\n      <td>0.08111</td>\n      <td>0.08083</td>\n      <td>0.08111</td>\n      <td>1838426.0</td>\n      <td>60</td>\n      <td>0.081012</td>\n      <td>0.074364</td>\n      <td>0.074621</td>\n      <td>0.074364</td>\n      <td>0.074621</td>\n      <td>1691351.92</td>\n      <td>0.074531</td>\n    </tr>\n    <tr>\n      <th>7</th>\n      <td>2022-11-11 14:45:00</td>\n      <td>0.08110</td>\n      <td>0.08232</td>\n      <td>0.08109</td>\n      <td>0.08226</td>\n      <td>13747027.0</td>\n      <td>100</td>\n      <td>0.081842</td>\n      <td>0.074612</td>\n      <td>0.075734</td>\n      <td>0.074603</td>\n      <td>0.075679</td>\n      <td>12647264.84</td>\n      <td>0.075295</td>\n    </tr>\n    <tr>\n      <th>8</th>\n      <td>2022-11-11 14:46:00</td>\n      <td>0.08237</td>\n      <td>0.08275</td>\n      <td>0.08199</td>\n      <td>NaN</td>\n      <td>12758340.0</td>\n      <td>93</td>\n      <td>0.082308</td>\n      <td>0.075780</td>\n      <td>0.076130</td>\n      <td>0.075431</td>\n      <td>NaN</td>\n      <td>11737672.80</td>\n      <td>0.075723</td>\n    </tr>\n    <tr>\n      <th>9</th>\n      <td>2022-11-11 14:47:00</td>\n      <td>0.08276</td>\n      <td>0.08612</td>\n      <td>0.08275</td>\n      <td>NaN</td>\n      <td>34452376.0</td>\n      <td>105</td>\n      <td>0.084556</td>\n      <td>0.076139</td>\n      <td>0.079230</td>\n      <td>0.076130</td>\n      <td>NaN</td>\n      <td>31696185.92</td>\n      <td>0.077791</td>\n    </tr>\n  </tbody>\n</table>\n</div>"
          },
          "metadata": {}
        }
      ]
    },
    {
      "cell_type": "code",
      "source": "# replace (original value) by (original value)/(maximum value)\ndf['Open'] = df['Open']/df['Open'].max()\ndf['Close'] = df['Close']/df['Close'].max()\ndf.head(10)",
      "metadata": {
        "tags": [],
        "trusted": true
      },
      "execution_count": 30,
      "outputs": [
        {
          "execution_count": 30,
          "output_type": "execute_result",
          "data": {
            "text/plain": "                   Ts      Open     High      Low     Close      Volume  \\\n0 2022-11-11 14:38:00  0.729236  0.08139  0.08065  0.722800   4523754.0   \n1 2022-11-11 14:39:00  0.722606  0.08078  0.08041  0.720828   5119775.0   \n2 2022-11-11 14:40:00  0.720276  0.08073  0.08035  0.721993   1460872.0   \n3 2022-11-11 14:41:00  0.721978  0.08103  0.08032  0.725220   2292152.0   \n4 2022-11-11 14:42:00  0.725652  0.08112  0.08071  0.723338   3044077.0   \n5 2022-11-11 14:43:00  0.723143  0.08105  0.08066  0.723965   1476278.0   \n6 2022-11-11 14:44:00  0.724218  0.08111  0.08083  0.726922   1838426.0   \n7 2022-11-11 14:45:00  0.726637  0.08232  0.08109  0.737229  13747027.0   \n8 2022-11-11 14:46:00  0.738016  0.08275  0.08199       NaN  12758340.0   \n9 2022-11-11 14:47:00  0.741511  0.08612  0.08275       NaN  34452376.0   \n\n   Rec_count  Avg_price  Open_EUR  High_EUR   Low_EUR  Close_EUR   Volume_EUR  \\\n0         80   0.080926  0.074879  0.074879  0.074198   0.074198   4161853.68   \n1         77   0.080565  0.074198  0.074318  0.073977   0.073996   4710193.00   \n2         12   0.080640  0.073959  0.074272  0.073922   0.074115   1344002.24   \n3         75   0.080715  0.074134  0.074548  0.073894   0.074446   2108779.84   \n4         57   0.081038  0.074511  0.074630  0.074253   0.074253   2800550.84   \n5         66   0.081025  0.074253  0.074566  0.074207   0.074318   1358175.76   \n6         60   0.081012  0.074364  0.074621  0.074364   0.074621   1691351.92   \n7        100   0.081842  0.074612  0.075734  0.074603   0.075679  12647264.84   \n8         93   0.082308  0.075780  0.076130  0.075431        NaN  11737672.80   \n9        105   0.084556  0.076139  0.079230  0.076130        NaN  31696185.92   \n\n   Avg_price_EUR  \n0       0.074452  \n1       0.074120  \n2       0.074189  \n3       0.074258  \n4       0.074555  \n5       0.074543  \n6       0.074531  \n7       0.075295  \n8       0.075723  \n9       0.077791  ",
            "text/html": "<div>\n<style scoped>\n    .dataframe tbody tr th:only-of-type {\n        vertical-align: middle;\n    }\n\n    .dataframe tbody tr th {\n        vertical-align: top;\n    }\n\n    .dataframe thead th {\n        text-align: right;\n    }\n</style>\n<table border=\"1\" class=\"dataframe\">\n  <thead>\n    <tr style=\"text-align: right;\">\n      <th></th>\n      <th>Ts</th>\n      <th>Open</th>\n      <th>High</th>\n      <th>Low</th>\n      <th>Close</th>\n      <th>Volume</th>\n      <th>Rec_count</th>\n      <th>Avg_price</th>\n      <th>Open_EUR</th>\n      <th>High_EUR</th>\n      <th>Low_EUR</th>\n      <th>Close_EUR</th>\n      <th>Volume_EUR</th>\n      <th>Avg_price_EUR</th>\n    </tr>\n  </thead>\n  <tbody>\n    <tr>\n      <th>0</th>\n      <td>2022-11-11 14:38:00</td>\n      <td>0.729236</td>\n      <td>0.08139</td>\n      <td>0.08065</td>\n      <td>0.722800</td>\n      <td>4523754.0</td>\n      <td>80</td>\n      <td>0.080926</td>\n      <td>0.074879</td>\n      <td>0.074879</td>\n      <td>0.074198</td>\n      <td>0.074198</td>\n      <td>4161853.68</td>\n      <td>0.074452</td>\n    </tr>\n    <tr>\n      <th>1</th>\n      <td>2022-11-11 14:39:00</td>\n      <td>0.722606</td>\n      <td>0.08078</td>\n      <td>0.08041</td>\n      <td>0.720828</td>\n      <td>5119775.0</td>\n      <td>77</td>\n      <td>0.080565</td>\n      <td>0.074198</td>\n      <td>0.074318</td>\n      <td>0.073977</td>\n      <td>0.073996</td>\n      <td>4710193.00</td>\n      <td>0.074120</td>\n    </tr>\n    <tr>\n      <th>2</th>\n      <td>2022-11-11 14:40:00</td>\n      <td>0.720276</td>\n      <td>0.08073</td>\n      <td>0.08035</td>\n      <td>0.721993</td>\n      <td>1460872.0</td>\n      <td>12</td>\n      <td>0.080640</td>\n      <td>0.073959</td>\n      <td>0.074272</td>\n      <td>0.073922</td>\n      <td>0.074115</td>\n      <td>1344002.24</td>\n      <td>0.074189</td>\n    </tr>\n    <tr>\n      <th>3</th>\n      <td>2022-11-11 14:41:00</td>\n      <td>0.721978</td>\n      <td>0.08103</td>\n      <td>0.08032</td>\n      <td>0.725220</td>\n      <td>2292152.0</td>\n      <td>75</td>\n      <td>0.080715</td>\n      <td>0.074134</td>\n      <td>0.074548</td>\n      <td>0.073894</td>\n      <td>0.074446</td>\n      <td>2108779.84</td>\n      <td>0.074258</td>\n    </tr>\n    <tr>\n      <th>4</th>\n      <td>2022-11-11 14:42:00</td>\n      <td>0.725652</td>\n      <td>0.08112</td>\n      <td>0.08071</td>\n      <td>0.723338</td>\n      <td>3044077.0</td>\n      <td>57</td>\n      <td>0.081038</td>\n      <td>0.074511</td>\n      <td>0.074630</td>\n      <td>0.074253</td>\n      <td>0.074253</td>\n      <td>2800550.84</td>\n      <td>0.074555</td>\n    </tr>\n    <tr>\n      <th>5</th>\n      <td>2022-11-11 14:43:00</td>\n      <td>0.723143</td>\n      <td>0.08105</td>\n      <td>0.08066</td>\n      <td>0.723965</td>\n      <td>1476278.0</td>\n      <td>66</td>\n      <td>0.081025</td>\n      <td>0.074253</td>\n      <td>0.074566</td>\n      <td>0.074207</td>\n      <td>0.074318</td>\n      <td>1358175.76</td>\n      <td>0.074543</td>\n    </tr>\n    <tr>\n      <th>6</th>\n      <td>2022-11-11 14:44:00</td>\n      <td>0.724218</td>\n      <td>0.08111</td>\n      <td>0.08083</td>\n      <td>0.726922</td>\n      <td>1838426.0</td>\n      <td>60</td>\n      <td>0.081012</td>\n      <td>0.074364</td>\n      <td>0.074621</td>\n      <td>0.074364</td>\n      <td>0.074621</td>\n      <td>1691351.92</td>\n      <td>0.074531</td>\n    </tr>\n    <tr>\n      <th>7</th>\n      <td>2022-11-11 14:45:00</td>\n      <td>0.726637</td>\n      <td>0.08232</td>\n      <td>0.08109</td>\n      <td>0.737229</td>\n      <td>13747027.0</td>\n      <td>100</td>\n      <td>0.081842</td>\n      <td>0.074612</td>\n      <td>0.075734</td>\n      <td>0.074603</td>\n      <td>0.075679</td>\n      <td>12647264.84</td>\n      <td>0.075295</td>\n    </tr>\n    <tr>\n      <th>8</th>\n      <td>2022-11-11 14:46:00</td>\n      <td>0.738016</td>\n      <td>0.08275</td>\n      <td>0.08199</td>\n      <td>NaN</td>\n      <td>12758340.0</td>\n      <td>93</td>\n      <td>0.082308</td>\n      <td>0.075780</td>\n      <td>0.076130</td>\n      <td>0.075431</td>\n      <td>NaN</td>\n      <td>11737672.80</td>\n      <td>0.075723</td>\n    </tr>\n    <tr>\n      <th>9</th>\n      <td>2022-11-11 14:47:00</td>\n      <td>0.741511</td>\n      <td>0.08612</td>\n      <td>0.08275</td>\n      <td>NaN</td>\n      <td>34452376.0</td>\n      <td>105</td>\n      <td>0.084556</td>\n      <td>0.076139</td>\n      <td>0.079230</td>\n      <td>0.076130</td>\n      <td>NaN</td>\n      <td>31696185.92</td>\n      <td>0.077791</td>\n    </tr>\n  </tbody>\n</table>\n</div>"
          },
          "metadata": {}
        }
      ]
    },
    {
      "cell_type": "markdown",
      "source": "<div class=\"alert alert-danger alertdanger\" style=\"margin-top: 20px\">\n<h1> Question #3: </h1>\n\n<b>According to the example above, normalize the column \"Avg_price\".</b>\n\n</div>\n",
      "metadata": {}
    },
    {
      "cell_type": "code",
      "source": "# Write your code below and press Shift+Enter to execute \n",
      "metadata": {
        "trusted": true
      },
      "execution_count": 31,
      "outputs": []
    },
    {
      "cell_type": "markdown",
      "source": "<details><summary>Click here for the solution</summary>\n\n```python\ndf['Avg_price'] = df['Avg_price']/df['Avg_price'].max() \n\n# show the scaled columns\ndf[[\"Open\",\"Close\",\"Avg_price\"]].head()\n\n\n```\n\n</details>\n",
      "metadata": {}
    },
    {
      "cell_type": "markdown",
      "source": "Here we can see we've normalized \"Open\", \"Close\" and \"Avg_price\" in the range of \\[0,1].\n",
      "metadata": {}
    },
    {
      "cell_type": "markdown",
      "source": "<h2 id=\"binning\">Binning</h2>\n<b>Why binning?</b>\n<p>\n    Binning is a process of transforming continuous numerical variables into discrete categorical 'bins' for grouped analysis.\n</p>\n\n<b>Example: </b>\n\n<p>In our dataset, \"Avg_price\" is a real valued variable ranging from 0.06942347 to 0.11118615 and it has a lot unique values. What if we only care about the price difference between DOGE in diapasone with high Avg_price, medium Avg_price, and little Avg_price (3 types)? Can we rearrange them into three ‘bins' to simplify analysis? </p>\n\n<p>We will use the pandas method 'cut' to segment the 'Avg_price' column into 3 bins.</p>\n",
      "metadata": {}
    },
    {
      "cell_type": "markdown",
      "source": "<h3>Example of Binning Data In Pandas</h3>\n",
      "metadata": {}
    },
    {
      "cell_type": "markdown",
      "source": "Convert data to correct format:\n",
      "metadata": {}
    },
    {
      "cell_type": "code",
      "source": "df[\"Avg_price\"]=df[\"Avg_price\"].astype(float, copy=True)",
      "metadata": {
        "trusted": true
      },
      "execution_count": 32,
      "outputs": []
    },
    {
      "cell_type": "markdown",
      "source": "Let's plot the histogram of Avg_price to see what the distribution of Avg_price looks like.\n",
      "metadata": {}
    },
    {
      "cell_type": "code",
      "source": "%matplotlib inline\nimport matplotlib as plt\nfrom matplotlib import pyplot\nplt.pyplot.hist(df[\"Avg_price\"])\n\n# set x/y labels and plot title\nplt.pyplot.xlabel(\"Avg_price\")\nplt.pyplot.ylabel(\"count\")\nplt.pyplot.title(\"Avg_price bins\")",
      "metadata": {
        "trusted": true
      },
      "execution_count": 33,
      "outputs": [
        {
          "execution_count": 33,
          "output_type": "execute_result",
          "data": {
            "text/plain": "Text(0.5, 1.0, 'Avg_price bins')"
          },
          "metadata": {}
        },
        {
          "output_type": "display_data",
          "data": {
            "text/plain": "<Figure size 640x480 with 1 Axes>",
            "image/png": "[encoded data removed]"
          },
          "metadata": {}
        }
      ]
    },
    {
      "cell_type": "markdown",
      "source": "<p>We would like 3 bins of equal size bandwidth so we use numpy's <code>linspace(start_value, end_value, numbers_generated</code> function.</p>\n<p>Since we want to include the minimum value of Avg_price, we want to set start_value = min(df[\"Avg_price\"]).</p>\n<p>Since we want to include the maximum value of Avg_price, we want to set end_value = max(df[\"Avg_price\"]).</p>\n<p>Since we are building 3 bins of equal length, there should be 4 dividers, so numbers_generated = 4.</p>\n",
      "metadata": {}
    },
    {
      "cell_type": "markdown",
      "source": "We build a bin array with a minimum value to a maximum value by using the bandwidth calculated above. The values will determine when one bin ends and another begins.\n",
      "metadata": {}
    },
    {
      "cell_type": "code",
      "source": "bins = np.linspace(min(df[\"Avg_price\"]), max(df[\"Avg_price\"]), 4)\nbins",
      "metadata": {
        "trusted": true
      },
      "execution_count": 34,
      "outputs": [
        {
          "execution_count": 34,
          "output_type": "execute_result",
          "data": {
            "text/plain": "array([0.06942347, 0.08332873, 0.09723398, 0.11113923])"
          },
          "metadata": {}
        }
      ]
    },
    {
      "cell_type": "markdown",
      "source": "We set group  names:\n",
      "metadata": {}
    },
    {
      "cell_type": "code",
      "source": "group_names = ['Low', 'Medium', 'High']",
      "metadata": {
        "trusted": true
      },
      "execution_count": 35,
      "outputs": []
    },
    {
      "cell_type": "markdown",
      "source": "We apply the function \"cut\" to determine what each value of `df['Avg_price']` belongs to.\n",
      "metadata": {}
    },
    {
      "cell_type": "code",
      "source": "df['Avg_price-binned'] = pd.cut(df['Avg_price'], bins, labels=group_names, include_lowest=True )\ndf[['Avg_price','Avg_price-binned']].head(20)",
      "metadata": {
        "trusted": true
      },
      "execution_count": 36,
      "outputs": [
        {
          "execution_count": 36,
          "output_type": "execute_result",
          "data": {
            "text/plain": "    Avg_price Avg_price-binned\n0    0.080926              Low\n1    0.080565              Low\n2    0.080640              Low\n3    0.080715              Low\n4    0.081038              Low\n5    0.081025              Low\n6    0.081012              Low\n7    0.081842              Low\n8    0.082308              Low\n9    0.084556           Medium\n10   0.084249           Medium\n11   0.083942           Medium\n12   0.083635           Medium\n13   0.083360           Medium\n14   0.083084              Low\n15   0.082808              Low\n16   0.082533              Low\n17   0.082257              Low\n18   0.082542              Low\n19   0.082747              Low",
            "text/html": "<div>\n<style scoped>\n    .dataframe tbody tr th:only-of-type {\n        vertical-align: middle;\n    }\n\n    .dataframe tbody tr th {\n        vertical-align: top;\n    }\n\n    .dataframe thead th {\n        text-align: right;\n    }\n</style>\n<table border=\"1\" class=\"dataframe\">\n  <thead>\n    <tr style=\"text-align: right;\">\n      <th></th>\n      <th>Avg_price</th>\n      <th>Avg_price-binned</th>\n    </tr>\n  </thead>\n  <tbody>\n    <tr>\n      <th>0</th>\n      <td>0.080926</td>\n      <td>Low</td>\n    </tr>\n    <tr>\n      <th>1</th>\n      <td>0.080565</td>\n      <td>Low</td>\n    </tr>\n    <tr>\n      <th>2</th>\n      <td>0.080640</td>\n      <td>Low</td>\n    </tr>\n    <tr>\n      <th>3</th>\n      <td>0.080715</td>\n      <td>Low</td>\n    </tr>\n    <tr>\n      <th>4</th>\n      <td>0.081038</td>\n      <td>Low</td>\n    </tr>\n    <tr>\n      <th>5</th>\n      <td>0.081025</td>\n      <td>Low</td>\n    </tr>\n    <tr>\n      <th>6</th>\n      <td>0.081012</td>\n      <td>Low</td>\n    </tr>\n    <tr>\n      <th>7</th>\n      <td>0.081842</td>\n      <td>Low</td>\n    </tr>\n    <tr>\n      <th>8</th>\n      <td>0.082308</td>\n      <td>Low</td>\n    </tr>\n    <tr>\n      <th>9</th>\n      <td>0.084556</td>\n      <td>Medium</td>\n    </tr>\n    <tr>\n      <th>10</th>\n      <td>0.084249</td>\n      <td>Medium</td>\n    </tr>\n    <tr>\n      <th>11</th>\n      <td>0.083942</td>\n      <td>Medium</td>\n    </tr>\n    <tr>\n      <th>12</th>\n      <td>0.083635</td>\n      <td>Medium</td>\n    </tr>\n    <tr>\n      <th>13</th>\n      <td>0.083360</td>\n      <td>Medium</td>\n    </tr>\n    <tr>\n      <th>14</th>\n      <td>0.083084</td>\n      <td>Low</td>\n    </tr>\n    <tr>\n      <th>15</th>\n      <td>0.082808</td>\n      <td>Low</td>\n    </tr>\n    <tr>\n      <th>16</th>\n      <td>0.082533</td>\n      <td>Low</td>\n    </tr>\n    <tr>\n      <th>17</th>\n      <td>0.082257</td>\n      <td>Low</td>\n    </tr>\n    <tr>\n      <th>18</th>\n      <td>0.082542</td>\n      <td>Low</td>\n    </tr>\n    <tr>\n      <th>19</th>\n      <td>0.082747</td>\n      <td>Low</td>\n    </tr>\n  </tbody>\n</table>\n</div>"
          },
          "metadata": {}
        }
      ]
    },
    {
      "cell_type": "markdown",
      "source": "Let's see the number of data in each bin:\n",
      "metadata": {}
    },
    {
      "cell_type": "code",
      "source": "df[\"Avg_price-binned\"].value_counts()",
      "metadata": {
        "trusted": true
      },
      "execution_count": 37,
      "outputs": [
        {
          "execution_count": 37,
          "output_type": "execute_result",
          "data": {
            "text/plain": "Low       26798\nMedium    26441\nHigh      14038\nName: Avg_price-binned, dtype: int64"
          },
          "metadata": {}
        }
      ]
    },
    {
      "cell_type": "markdown",
      "source": "Let's plot the distribution of each bin:\n",
      "metadata": {}
    },
    {
      "cell_type": "code",
      "source": "%matplotlib inline\nimport matplotlib as plt\nfrom matplotlib import pyplot\npyplot.bar(group_names, df[\"Avg_price-binned\"].value_counts())\n\n# set x/y labels and plot title\nplt.pyplot.xlabel(\"Avg_price\")\nplt.pyplot.ylabel(\"count\")\nplt.pyplot.title(\"Avg_price bins\")",
      "metadata": {
        "trusted": true
      },
      "execution_count": 38,
      "outputs": [
        {
          "execution_count": 38,
          "output_type": "execute_result",
          "data": {
            "text/plain": "Text(0.5, 1.0, 'Avg_price bins')"
          },
          "metadata": {}
        },
        {
          "output_type": "display_data",
          "data": {
            "text/plain": "<Figure size 640x480 with 1 Axes>",
            "image/png": "[encoded data removed]"
          },
          "metadata": {}
        }
      ]
    },
    {
      "cell_type": "markdown",
      "source": "<p>\n    Look at the dataframe above carefully. You will find that the last column provides the bins for \"Avg_price\" based on 3 categories (\"Low\", \"Medium\" and \"High\"). \n</p>\n<p>\n    We successfully narrowed down the intervals to only 3!\n</p>\n",
      "metadata": {}
    },
    {
      "cell_type": "markdown",
      "source": "<h3>Bins Visualization</h3>\nNormally, a histogram is used to visualize the distribution of bins we created above. \n",
      "metadata": {}
    },
    {
      "cell_type": "code",
      "source": "%matplotlib inline\nimport matplotlib as plt\nfrom matplotlib import pyplot\n\n\n# draw historgram of attribute \"horsepower\" with bins = 3\nplt.pyplot.hist(df[\"Avg_price\"], bins = 3)\n\n# set x/y labels and plot title\nplt.pyplot.xlabel(\"Avg_price\")\nplt.pyplot.ylabel(\"count\")\nplt.pyplot.title(\"Avg_price bins\")",
      "metadata": {
        "trusted": true
      },
      "execution_count": 39,
      "outputs": [
        {
          "execution_count": 39,
          "output_type": "execute_result",
          "data": {
            "text/plain": "Text(0.5, 1.0, 'Avg_price bins')"
          },
          "metadata": {}
        },
        {
          "output_type": "display_data",
          "data": {
            "text/plain": "<Figure size 640x480 with 1 Axes>",
            "image/png": "[encoded data removed]"
          },
          "metadata": {}
        }
      ]
    },
    {
      "cell_type": "markdown",
      "source": "The plot above shows the binning result for the attribute \"Avg_price\".\n",
      "metadata": {}
    },
    {
      "cell_type": "markdown",
      "source": "<h2 id=\"indicator\">Indicator Variable (or Dummy Variable)</h2>\n<b>What is an indicator variable?</b>\n<p>\n    An indicator variable (or dummy variable) is a numerical variable used to label categories. They are called 'dummies' because the numbers themselves don't have inherent meaning. \n</p>\n\n<b>Why we use indicator variables?</b>\n\n<p>\n    We use indicator variables so we can use categorical variables for regression analysis in the later modules.\n</p>\n<b>Example</b>\n<p>\n    We see the column \"Avg_price\" has three unique values: \"Low\", \"Medium\" or \"High\". Regression doesn't understand words, only numbers. To use this attribute in regression analysis, we convert \"Avg_price\" to indicator variables.\n</p>\n\n<p>\n    We will use pandas' method 'get_dummies' to assign numerical values to different categories of Avg_price. \n</p>\n",
      "metadata": {}
    },
    {
      "cell_type": "code",
      "source": "df.columns",
      "metadata": {
        "trusted": true
      },
      "execution_count": 40,
      "outputs": [
        {
          "execution_count": 40,
          "output_type": "execute_result",
          "data": {
            "text/plain": "Index(['Ts', 'Open', 'High', 'Low', 'Close', 'Volume', 'Rec_count',\n       'Avg_price', 'Open_EUR', 'High_EUR', 'Low_EUR', 'Close_EUR',\n       'Volume_EUR', 'Avg_price_EUR', 'Avg_price-binned'],\n      dtype='object')"
          },
          "metadata": {}
        }
      ]
    },
    {
      "cell_type": "markdown",
      "source": "Get the indicator variables and assign it to data frame \"dummy_variable\\_1\":\n",
      "metadata": {}
    },
    {
      "cell_type": "code",
      "source": "dummy_variable_1 = pd.get_dummies(df[\"Avg_price-binned\"])\ndummy_variable_1.head(5)",
      "metadata": {
        "trusted": true
      },
      "execution_count": 41,
      "outputs": [
        {
          "execution_count": 41,
          "output_type": "execute_result",
          "data": {
            "text/plain": "   Low  Medium  High\n0    1       0     0\n1    1       0     0\n2    1       0     0\n3    1       0     0\n4    1       0     0",
            "text/html": "<div>\n<style scoped>\n    .dataframe tbody tr th:only-of-type {\n        vertical-align: middle;\n    }\n\n    .dataframe tbody tr th {\n        vertical-align: top;\n    }\n\n    .dataframe thead th {\n        text-align: right;\n    }\n</style>\n<table border=\"1\" class=\"dataframe\">\n  <thead>\n    <tr style=\"text-align: right;\">\n      <th></th>\n      <th>Low</th>\n      <th>Medium</th>\n      <th>High</th>\n    </tr>\n  </thead>\n  <tbody>\n    <tr>\n      <th>0</th>\n      <td>1</td>\n      <td>0</td>\n      <td>0</td>\n    </tr>\n    <tr>\n      <th>1</th>\n      <td>1</td>\n      <td>0</td>\n      <td>0</td>\n    </tr>\n    <tr>\n      <th>2</th>\n      <td>1</td>\n      <td>0</td>\n      <td>0</td>\n    </tr>\n    <tr>\n      <th>3</th>\n      <td>1</td>\n      <td>0</td>\n      <td>0</td>\n    </tr>\n    <tr>\n      <th>4</th>\n      <td>1</td>\n      <td>0</td>\n      <td>0</td>\n    </tr>\n  </tbody>\n</table>\n</div>"
          },
          "metadata": {}
        }
      ]
    },
    {
      "cell_type": "markdown",
      "source": "Change the column names for clarity:\n",
      "metadata": {}
    },
    {
      "cell_type": "code",
      "source": "dummy_variable_1.rename(columns={'Low':'Avg_price-Low', 'Medium':'Avg_price-Medium', 'High':'Avg_price-High'}, inplace=True)\ndummy_variable_1.head()",
      "metadata": {
        "trusted": true
      },
      "execution_count": 42,
      "outputs": [
        {
          "execution_count": 42,
          "output_type": "execute_result",
          "data": {
            "text/plain": "   Avg_price-Low  Avg_price-Medium  Avg_price-High\n0              1                 0               0\n1              1                 0               0\n2              1                 0               0\n3              1                 0               0\n4              1                 0               0",
            "text/html": "<div>\n<style scoped>\n    .dataframe tbody tr th:only-of-type {\n        vertical-align: middle;\n    }\n\n    .dataframe tbody tr th {\n        vertical-align: top;\n    }\n\n    .dataframe thead th {\n        text-align: right;\n    }\n</style>\n<table border=\"1\" class=\"dataframe\">\n  <thead>\n    <tr style=\"text-align: right;\">\n      <th></th>\n      <th>Avg_price-Low</th>\n      <th>Avg_price-Medium</th>\n      <th>Avg_price-High</th>\n    </tr>\n  </thead>\n  <tbody>\n    <tr>\n      <th>0</th>\n      <td>1</td>\n      <td>0</td>\n      <td>0</td>\n    </tr>\n    <tr>\n      <th>1</th>\n      <td>1</td>\n      <td>0</td>\n      <td>0</td>\n    </tr>\n    <tr>\n      <th>2</th>\n      <td>1</td>\n      <td>0</td>\n      <td>0</td>\n    </tr>\n    <tr>\n      <th>3</th>\n      <td>1</td>\n      <td>0</td>\n      <td>0</td>\n    </tr>\n    <tr>\n      <th>4</th>\n      <td>1</td>\n      <td>0</td>\n      <td>0</td>\n    </tr>\n  </tbody>\n</table>\n</div>"
          },
          "metadata": {}
        }
      ]
    },
    {
      "cell_type": "markdown",
      "source": "In the dataframe, column 'Avg_price' has values for 'Low', 'Medium' and 'High' as 0s and 1s now.\n",
      "metadata": {}
    },
    {
      "cell_type": "code",
      "source": "# merge data frame \"df\" and \"dummy_variable_1\" \ndf = pd.concat([df, dummy_variable_1], axis=1)\n\n# drop original column \"Avg_price\" from \"df\"\ndf.drop(\"Avg_price\", axis = 1, inplace=True)",
      "metadata": {
        "trusted": true
      },
      "execution_count": 43,
      "outputs": []
    },
    {
      "cell_type": "code",
      "source": "df.head()",
      "metadata": {
        "trusted": true
      },
      "execution_count": 44,
      "outputs": [
        {
          "execution_count": 44,
          "output_type": "execute_result",
          "data": {
            "text/plain": "                   Ts      Open     High      Low     Close     Volume  \\\n0 2022-11-11 14:38:00  0.729236  0.08139  0.08065  0.722800  4523754.0   \n1 2022-11-11 14:39:00  0.722606  0.08078  0.08041  0.720828  5119775.0   \n2 2022-11-11 14:40:00  0.720276  0.08073  0.08035  0.721993  1460872.0   \n3 2022-11-11 14:41:00  0.721978  0.08103  0.08032  0.725220  2292152.0   \n4 2022-11-11 14:42:00  0.725652  0.08112  0.08071  0.723338  3044077.0   \n\n   Rec_count  Open_EUR  High_EUR   Low_EUR  Close_EUR  Volume_EUR  \\\n0         80  0.074879  0.074879  0.074198   0.074198  4161853.68   \n1         77  0.074198  0.074318  0.073977   0.073996  4710193.00   \n2         12  0.073959  0.074272  0.073922   0.074115  1344002.24   \n3         75  0.074134  0.074548  0.073894   0.074446  2108779.84   \n4         57  0.074511  0.074630  0.074253   0.074253  2800550.84   \n\n   Avg_price_EUR Avg_price-binned  Avg_price-Low  Avg_price-Medium  \\\n0       0.074452              Low              1                 0   \n1       0.074120              Low              1                 0   \n2       0.074189              Low              1                 0   \n3       0.074258              Low              1                 0   \n4       0.074555              Low              1                 0   \n\n   Avg_price-High  \n0               0  \n1               0  \n2               0  \n3               0  \n4               0  ",
            "text/html": "<div>\n<style scoped>\n    .dataframe tbody tr th:only-of-type {\n        vertical-align: middle;\n    }\n\n    .dataframe tbody tr th {\n        vertical-align: top;\n    }\n\n    .dataframe thead th {\n        text-align: right;\n    }\n</style>\n<table border=\"1\" class=\"dataframe\">\n  <thead>\n    <tr style=\"text-align: right;\">\n      <th></th>\n      <th>Ts</th>\n      <th>Open</th>\n      <th>High</th>\n      <th>Low</th>\n      <th>Close</th>\n      <th>Volume</th>\n      <th>Rec_count</th>\n      <th>Open_EUR</th>\n      <th>High_EUR</th>\n      <th>Low_EUR</th>\n      <th>Close_EUR</th>\n      <th>Volume_EUR</th>\n      <th>Avg_price_EUR</th>\n      <th>Avg_price-binned</th>\n      <th>Avg_price-Low</th>\n      <th>Avg_price-Medium</th>\n      <th>Avg_price-High</th>\n    </tr>\n  </thead>\n  <tbody>\n    <tr>\n      <th>0</th>\n      <td>2022-11-11 14:38:00</td>\n      <td>0.729236</td>\n      <td>0.08139</td>\n      <td>0.08065</td>\n      <td>0.722800</td>\n      <td>4523754.0</td>\n      <td>80</td>\n      <td>0.074879</td>\n      <td>0.074879</td>\n      <td>0.074198</td>\n      <td>0.074198</td>\n      <td>4161853.68</td>\n      <td>0.074452</td>\n      <td>Low</td>\n      <td>1</td>\n      <td>0</td>\n      <td>0</td>\n    </tr>\n    <tr>\n      <th>1</th>\n      <td>2022-11-11 14:39:00</td>\n      <td>0.722606</td>\n      <td>0.08078</td>\n      <td>0.08041</td>\n      <td>0.720828</td>\n      <td>5119775.0</td>\n      <td>77</td>\n      <td>0.074198</td>\n      <td>0.074318</td>\n      <td>0.073977</td>\n      <td>0.073996</td>\n      <td>4710193.00</td>\n      <td>0.074120</td>\n      <td>Low</td>\n      <td>1</td>\n      <td>0</td>\n      <td>0</td>\n    </tr>\n    <tr>\n      <th>2</th>\n      <td>2022-11-11 14:40:00</td>\n      <td>0.720276</td>\n      <td>0.08073</td>\n      <td>0.08035</td>\n      <td>0.721993</td>\n      <td>1460872.0</td>\n      <td>12</td>\n      <td>0.073959</td>\n      <td>0.074272</td>\n      <td>0.073922</td>\n      <td>0.074115</td>\n      <td>1344002.24</td>\n      <td>0.074189</td>\n      <td>Low</td>\n      <td>1</td>\n      <td>0</td>\n      <td>0</td>\n    </tr>\n    <tr>\n      <th>3</th>\n      <td>2022-11-11 14:41:00</td>\n      <td>0.721978</td>\n      <td>0.08103</td>\n      <td>0.08032</td>\n      <td>0.725220</td>\n      <td>2292152.0</td>\n      <td>75</td>\n      <td>0.074134</td>\n      <td>0.074548</td>\n      <td>0.073894</td>\n      <td>0.074446</td>\n      <td>2108779.84</td>\n      <td>0.074258</td>\n      <td>Low</td>\n      <td>1</td>\n      <td>0</td>\n      <td>0</td>\n    </tr>\n    <tr>\n      <th>4</th>\n      <td>2022-11-11 14:42:00</td>\n      <td>0.725652</td>\n      <td>0.08112</td>\n      <td>0.08071</td>\n      <td>0.723338</td>\n      <td>3044077.0</td>\n      <td>57</td>\n      <td>0.074511</td>\n      <td>0.074630</td>\n      <td>0.074253</td>\n      <td>0.074253</td>\n      <td>2800550.84</td>\n      <td>0.074555</td>\n      <td>Low</td>\n      <td>1</td>\n      <td>0</td>\n      <td>0</td>\n    </tr>\n  </tbody>\n</table>\n</div>"
          },
          "metadata": {}
        }
      ]
    },
    {
      "cell_type": "markdown",
      "source": "The last two columns are now the indicator variable representation of the Avg_price variable. They're all 0s and 1s now.\n",
      "metadata": {}
    },
    {
      "cell_type": "markdown",
      "source": "<div class=\"alert alert-danger alertdanger\" style=\"margin-top: 20px\">\n<h1> Question  #4: </h1>\n\n<b>Similar to before, create an indicator variable for the column \"Ts\"</b>\n\n</div>\n",
      "metadata": {}
    },
    {
      "cell_type": "code",
      "source": "# Write your code below and press Shift+Enter to execute \n",
      "metadata": {
        "trusted": true
      },
      "execution_count": 45,
      "outputs": []
    },
    {
      "cell_type": "markdown",
      "source": "<details><summary>Click here for the solution</summary>\n\n```python\n# get day name\nday = df.Ts\ndf['Day_name'] = day.df.day_name()\n\n# get indicator variables of aspiration and assign it to data frame \"dummy_variable_2\"\ndummy_variable_2 = pd.get_dummies(df['Day_name'])\n\n# show first 5 instances of data frame \"dummy_variable_1\"\ndummy_variable_2.head()\n\n\n```\n\n</details>\n",
      "metadata": {}
    },
    {
      "cell_type": "markdown",
      "source": "<h2 id=\"resample\">Resample time series data</h2>\n",
      "metadata": {}
    },
    {
      "cell_type": "markdown",
      "source": "Resampling is a series of techniques used in statistics to gather more information about a sample. This can include retaking a sample or estimating its accuracy. With these additional techniques, resampling often improves the overall accuracy and estimates any uncertainty within a population.",
      "metadata": {}
    },
    {
      "cell_type": "code",
      "source": "#create new dataset\nwdf = pd.DataFrame()\n#set time as index\ndf['Ts'] = pd.to_datetime(df['Ts'])\ndf.set_index('Ts', inplace=True)",
      "metadata": {
        "trusted": true
      },
      "execution_count": 46,
      "outputs": []
    },
    {
      "cell_type": "markdown",
      "source": "Find summary Rec_count per week:",
      "metadata": {}
    },
    {
      "cell_type": "code",
      "source": "wdf['Open'] = df['Open'].resample('D').first()\nwdf['High'] = df['High'].resample('D').max()\nwdf['Low'] = df['Low'].resample('D').min()\nwdf['Close'] = df['Close'].resample('D').last()\nwdf['Volume'] = df['Volume'].resample('D').sum()",
      "metadata": {
        "trusted": true
      },
      "execution_count": 47,
      "outputs": []
    },
    {
      "cell_type": "code",
      "source": "wdf.head()",
      "metadata": {
        "trusted": true
      },
      "execution_count": 48,
      "outputs": [
        {
          "execution_count": 48,
          "output_type": "execute_result",
          "data": {
            "text/plain": "                Open     High      Low     Close        Volume\nTs                                                            \n2022-11-11  0.729236  0.08612  0.08032  0.760620  8.364019e+08\n2022-11-12  0.760595  0.09480  0.07826  0.788403  3.540683e+09\n2022-11-13  0.787922  0.09139  0.08263  0.760172  2.076049e+09\n2022-11-14  0.759968  0.09120  0.07900  0.767700  2.686225e+09\n2022-11-15  0.768211  0.08950  0.08465  0.778993  1.277553e+09",
            "text/html": "<div>\n<style scoped>\n    .dataframe tbody tr th:only-of-type {\n        vertical-align: middle;\n    }\n\n    .dataframe tbody tr th {\n        vertical-align: top;\n    }\n\n    .dataframe thead th {\n        text-align: right;\n    }\n</style>\n<table border=\"1\" class=\"dataframe\">\n  <thead>\n    <tr style=\"text-align: right;\">\n      <th></th>\n      <th>Open</th>\n      <th>High</th>\n      <th>Low</th>\n      <th>Close</th>\n      <th>Volume</th>\n    </tr>\n    <tr>\n      <th>Ts</th>\n      <th></th>\n      <th></th>\n      <th></th>\n      <th></th>\n      <th></th>\n    </tr>\n  </thead>\n  <tbody>\n    <tr>\n      <th>2022-11-11</th>\n      <td>0.729236</td>\n      <td>0.08612</td>\n      <td>0.08032</td>\n      <td>0.760620</td>\n      <td>8.364019e+08</td>\n    </tr>\n    <tr>\n      <th>2022-11-12</th>\n      <td>0.760595</td>\n      <td>0.09480</td>\n      <td>0.07826</td>\n      <td>0.788403</td>\n      <td>3.540683e+09</td>\n    </tr>\n    <tr>\n      <th>2022-11-13</th>\n      <td>0.787922</td>\n      <td>0.09139</td>\n      <td>0.08263</td>\n      <td>0.760172</td>\n      <td>2.076049e+09</td>\n    </tr>\n    <tr>\n      <th>2022-11-14</th>\n      <td>0.759968</td>\n      <td>0.09120</td>\n      <td>0.07900</td>\n      <td>0.767700</td>\n      <td>2.686225e+09</td>\n    </tr>\n    <tr>\n      <th>2022-11-15</th>\n      <td>0.768211</td>\n      <td>0.08950</td>\n      <td>0.08465</td>\n      <td>0.778993</td>\n      <td>1.277553e+09</td>\n    </tr>\n  </tbody>\n</table>\n</div>"
          },
          "metadata": {}
        }
      ]
    },
    {
      "cell_type": "markdown",
      "source": " <div class=\"alert alert-danger alertdanger\" style=\"margin-top: 20px\">\n<h1> Question  #5: </h1>\n\n<b>Make a daily summary of Rec_count_eur.</b>\n\n</div>\n",
      "metadata": {}
    },
    {
      "cell_type": "code",
      "source": "# Write your code below and press Shift+Enter to execute \n\n",
      "metadata": {
        "trusted": true
      },
      "execution_count": 49,
      "outputs": []
    },
    {
      "cell_type": "markdown",
      "source": "<details><summary>Click here for the solution</summary>\n\n```python\nnwdf = pd.DataFrame()\nnwdf['Open'] = df['Open'].resample('D').first()\nnwdf['High'] = df['High'].resample('D').max()\nnwdf['Low'] = df['Low'].resample('D').min()\nnwdf['Close'] = df['Close'].resample('D').last()\nnwdf['Volume'] = df = pd.DataFrame()wdf['Volume'].resample('D').sum()\nnwdf.head()\n\n```\n\n</details>\n",
      "metadata": {}
    },
    {
      "cell_type": "code",
      "source": "wdf.to_csv('clean_df.csv')",
      "metadata": {
        "trusted": true
      },
      "execution_count": 50,
      "outputs": []
    },
    {
      "cell_type": "markdown",
      "source": "Save the new csv:\n\n> Note : The  csv file cannot be viewed in the jupyterlite based SN labs environment.However you can Click <a href=\"https://cf-courses-data.s3.us.cloud-object-storage.appdomain.cloud/IBMDeveloperSkillsNetwork-DA0101EN-SkillsNetwork/labs/Module%202/DA0101EN-2-Review-Data-Wrangling.ipynb?utm_medium=Exinfluencer&utm_source=Exinfluencer&utm_content=000026UJ&utm_term=10006555&utm_id=NA-SkillsNetwork-Channel-SkillsNetworkCoursesIBMDeveloperSkillsNetworkDA0101ENSkillsNetwork20235326-2022-01-01\">HERE</a> to download the lab notebook (.ipynb) to your local machine and view the csv file once the notebook is executed.\n",
      "metadata": {}
    },
    {
      "cell_type": "markdown",
      "source": "### Thank you for completing this lab!\n\n## Author\n\n<a href=\"https://www.linkedin.com/in/joseph-s-50398b136/?utm_medium=Exinfluencer&utm_source=Exinfluencer&utm_content=000026UJ&utm_term=10006555&utm_id=NA-SkillsNetwork-Channel-SkillsNetworkCoursesIBMDeveloperSkillsNetworkDA0101ENSkillsNetwork20235326-2021-01-01\" target=\"_blank\">Joseph Santarcangelo</a>\n\n### Other Contributors\n\n<a href=\"https://www.linkedin.com/in/mahdi-noorian-58219234/?utm_medium=Exinfluencer&utm_source=Exinfluencer&utm_content=000026UJ&utm_term=10006555&utm_id=NA-SkillsNetwork-Channel-SkillsNetworkCoursesIBMDeveloperSkillsNetworkDA0101ENSkillsNetwork20235326-2021-01-01\" target=\"_blank\">Mahdi Noorian PhD</a>\n\nBahare Talayian\n\nEric Xiao\n\nSteven Dong\n\nParizad\n\nHima Vasudevan\n\n<a href=\"https://www.linkedin.com/in/fiorellawever/?utm_medium=Exinfluencer&utm_source=Exinfluencer&utm_content=000026UJ&utm_term=10006555&utm_id=NA-SkillsNetwork-Channel-SkillsNetworkCoursesIBMDeveloperSkillsNetworkDA0101ENSkillsNetwork20235326-2021-01-01\" target=\"_blank\">Fiorella Wenver</a>\n\n<a href=\"https:// https://www.linkedin.com/in/yi-leng-yao-84451275/ \" target=\"_blank\" >Yi Yao</a>.\n\nLozovyi Oleg\n\n## Change Log\n\n| Date (YYYY-MM-DD) | Version | Changed By | Change Description                  |\n| ----------------- | ------- | ---------- | ----------------------------------- |\n| 2022-04-22        | 2.3     | Lakshmi    | Made changes in markdown file       |\n| 2020-10-30        | 2.2     | Lakshmi    | Changed URL of csv                  |\n| 2020-09-09        | 2.1     | Lakshmi    | Updated Indicator Variables section |\n| 2020-08-27        | 2.0     | Lavanya    | Moved lab to course repo in GitLab  |\n\n<hr>\n\n## <h3 align=\"center\"> © IBM Corporation 2020. All rights reserved. <h3/>\n",
      "metadata": {}
    }
  ]
}
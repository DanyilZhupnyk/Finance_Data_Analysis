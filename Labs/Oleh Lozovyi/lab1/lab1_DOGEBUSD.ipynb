{
  "metadata": {
    "anaconda-cloud": {},
    "kernelspec": {
      "name": "python",
      "display_name": "Pyolite",
      "language": "python"
    },
    "language_info": {
      "codemirror_mode": {
        "name": "python",
        "version": 3
      },
      "file_extension": ".py",
      "mimetype": "text/x-python",
      "name": "python",
      "nbconvert_exporter": "python",
      "pygments_lexer": "ipython3",
      "version": "3.8"
    }
  },
  "nbformat_minor": 4,
  "nbformat": 4,
  "cells": [
    {
      "cell_type": "markdown",
      "source": "<center>\n    <img src=\"https://cf-courses-data.s3.us.cloud-object-storage.appdomain.cloud/IBMDeveloperSkillsNetwork-DA0101EN-SkillsNetwork/labs/Module%201/images/IDSNlogo.png\" width=\"300\" alt=\"cognitiveclass.ai logo\"  />\n</center>\n\n# Introduction  Notebook\n\nEstimated time needed: **10** minutes\n\n## Objectives\n\nAfter completing this lab you will be able to:\n\n*   Acquire data in various ways\n*   Obtain insights from data with Pandas library\n",
      "metadata": {}
    },
    {
      "cell_type": "markdown",
      "source": "<h2>Table of Contents</h2>\n\n<div class=\"alert alert-block alert-info\" style=\"margin-top: 20px\">\n<ol>\n    <li><a href=\"https://#data_acquisition\">Data Acquisition</a>\n    <li><a href=\"https://#basic_insight\">Basic Insight of Dataset</a></li>\n</ol>\n\n</div>\n<hr>\n",
      "metadata": {
        "jp-MarkdownHeadingCollapsed": true,
        "tags": []
      }
    },
    {
      "cell_type": "markdown",
      "source": "<h1 id=\"data_acquisition\">Data Acquisition</h1>\n<p>\nThere are various formats for a dataset: .csv, .json, .xlsx  etc. The dataset can be stored in different places, on your local machine or sometimes online.<br>\n\nIn this section, you will learn how to load a dataset into our Jupyter Notebook.<br>\n\nIn our case, the Trading Dataset is an online source, and it is in a CSV (comma separated value) format. Let's use this dataset as an example to practice data reading.\n\n<ul>\n    <li>Data source: <a href=\"https://1824251045.rsc.cdn77.org/web/algohouse/data/DOGEBUSD_trades_1m.csv\" target=\"_blank\">https://1824251045.rsc.cdn77.org/web/algohouse/data/DOGEBUSD_trades_1m.csv</a></li>\n    <li>Data type: csv</li>\n</ul>\nThe Pandas Library is a useful tool that enables us to read various datasets into a dataframe; our Jupyter notebook platforms have a built-in <b>Pandas Library</b> so that all we need to do is import Pandas without installing.\n</p>\n",
      "metadata": {}
    },
    {
      "cell_type": "markdown",
      "source": "you are running the lab in your  browser, so we will install the libraries using `piplite`\n",
      "metadata": {}
    },
    {
      "cell_type": "code",
      "source": "#you are running the lab in your  browser, so we will install the libraries using ``piplite``\nimport piplite\nimport micropip\nawait piplite.install(['pandas'])\nawait piplite.install(['matplotlib'])\nawait piplite.install(['scipy'])\nawait piplite.install(['seaborn'])\nawait micropip.install(['ipywidgets'],keep_going=True)\nawait micropip.install(['tqdm'],keep_going=True)",
      "metadata": {
        "trusted": true
      },
      "execution_count": 116,
      "outputs": []
    },
    {
      "cell_type": "markdown",
      "source": "If you run the lab locally using Anaconda, you can load the correct library and versions by uncommenting the following:\n",
      "metadata": {}
    },
    {
      "cell_type": "code",
      "source": "#install specific version of libraries used in  lab\n#! mamba install pandas==1.3.3  -y\n#! mamba install numpy=1.21.2 -y",
      "metadata": {
        "trusted": true
      },
      "execution_count": 117,
      "outputs": []
    },
    {
      "cell_type": "code",
      "source": "# import pandas library\nimport pandas as pd\nimport numpy as np\n\n#Further specify the value of the precision parameter equal to 2 to display two decimal signs (instead of 6 as default).\npd.set_option(\"display.precision\", 2)\npd.options.display.float_format = '{:.2f}'.format",
      "metadata": {
        "trusted": true
      },
      "execution_count": 118,
      "outputs": []
    },
    {
      "cell_type": "markdown",
      "source": "This function will download the dataset into your browser\n",
      "metadata": {}
    },
    {
      "cell_type": "code",
      "source": "#This function will download the dataset into your browser \n\nfrom pyodide.http import pyfetch\n\nasync def download(url, filename):\n    response = await pyfetch(url)\n    if response.status == 200:\n        with open(filename, \"wb\") as f:\n            f.write(await response.bytes())",
      "metadata": {
        "trusted": true
      },
      "execution_count": 119,
      "outputs": []
    },
    {
      "cell_type": "markdown",
      "source": "<h2>Read Data</h2>\n<p>\nWe use <code>pandas.read_csv()</code> function to read the csv file. In the brackets, we put the file path along with a quotation mark so that pandas will read the file into a dataframe from that address. The file path can be either an URL or your local file address.<br>\n\nYou can also assign the dataset to any variable you create.\n\n</p>\n",
      "metadata": {}
    },
    {
      "cell_type": "code",
      "source": "path = \"https://1824251045.rsc.cdn77.org/web/algohouse/data/DOGEBUSD_trades_1m.csv\"",
      "metadata": {
        "trusted": true
      },
      "execution_count": 120,
      "outputs": []
    },
    {
      "cell_type": "markdown",
      "source": "you will need to download the dataset; if you are running locally, please comment out the following\n",
      "metadata": {}
    },
    {
      "cell_type": "code",
      "source": "#you will need to download the dataset; if you are running locally, please comment out the following \nawait download(path, \"DOGEBUSD_trades_1m.csv\")\npath=\"DOGEBUSD_trades_1m.csv\"",
      "metadata": {
        "trusted": true
      },
      "execution_count": 121,
      "outputs": []
    },
    {
      "cell_type": "markdown",
      "source": "This dataset was hosted on IBM Cloud object. Click <a href=\"https://cocl.us/DA101EN_object_storage?utm_medium=Exinfluencer&utm_source=Exinfluencer&utm_content=000026UJ&utm_term=10006555&utm_id=NA-SkillsNetwork-Channel-SkillsNetworkCoursesIBMDeveloperSkillsNetworkDA0101ENSkillsNetwork20235326-2021-01-01\">HERE</a> for free storage.\n",
      "metadata": {}
    },
    {
      "cell_type": "code",
      "source": "# Import pandas library\nimport pandas as pd\n\n# Read the online file by the URL provides above, and assign it to variable \"df\"\ndf = pd.read_csv(path, index_col=0)",
      "metadata": {
        "trusted": true
      },
      "execution_count": 122,
      "outputs": []
    },
    {
      "cell_type": "markdown",
      "source": "After reading the dataset, we can use the <code>dataframe.head(n)</code> method to check the top n rows of the dataframe, where n is an integer. Contrary to <code>dataframe.head(n)</code>, <code>dataframe.tail(n)</code> will show you the bottom n rows of the dataframe.\n",
      "metadata": {}
    },
    {
      "cell_type": "code",
      "source": "# show the first 5 rows using dataframe.head() method\nprint(\"The first 5 rows of the dataframe\") \ndf.head(5)",
      "metadata": {
        "trusted": true
      },
      "execution_count": 123,
      "outputs": [
        {
          "name": "stdout",
          "text": "The first 5 rows of the dataframe\n",
          "output_type": "stream"
        },
        {
          "execution_count": 123,
          "output_type": "execute_result",
          "data": {
            "text/plain": "                    ts  open  high  low  close     volume  rec_count  \\\n0  2022-11-11 14:38:00  0.08  0.08 0.08   0.08 4523754.00         80   \n1  2022-11-11 14:39:00  0.08  0.08 0.08   0.08 5119775.00         77   \n2  2022-11-11 14:40:00  0.08  0.08 0.08   0.08 1460872.00         65   \n3  2022-11-11 14:41:00  0.08  0.08 0.08   0.08 2292152.00         75   \n4  2022-11-11 14:42:00  0.08  0.08 0.08   0.08 3044077.00         57   \n\n   avg_price  \n0       0.08  \n1       0.08  \n2       0.08  \n3       0.08  \n4       0.08  ",
            "text/html": "<div>\n<style scoped>\n    .dataframe tbody tr th:only-of-type {\n        vertical-align: middle;\n    }\n\n    .dataframe tbody tr th {\n        vertical-align: top;\n    }\n\n    .dataframe thead th {\n        text-align: right;\n    }\n</style>\n<table border=\"1\" class=\"dataframe\">\n  <thead>\n    <tr style=\"text-align: right;\">\n      <th></th>\n      <th>ts</th>\n      <th>open</th>\n      <th>high</th>\n      <th>low</th>\n      <th>close</th>\n      <th>volume</th>\n      <th>rec_count</th>\n      <th>avg_price</th>\n    </tr>\n  </thead>\n  <tbody>\n    <tr>\n      <th>0</th>\n      <td>2022-11-11 14:38:00</td>\n      <td>0.08</td>\n      <td>0.08</td>\n      <td>0.08</td>\n      <td>0.08</td>\n      <td>4523754.00</td>\n      <td>80</td>\n      <td>0.08</td>\n    </tr>\n    <tr>\n      <th>1</th>\n      <td>2022-11-11 14:39:00</td>\n      <td>0.08</td>\n      <td>0.08</td>\n      <td>0.08</td>\n      <td>0.08</td>\n      <td>5119775.00</td>\n      <td>77</td>\n      <td>0.08</td>\n    </tr>\n    <tr>\n      <th>2</th>\n      <td>2022-11-11 14:40:00</td>\n      <td>0.08</td>\n      <td>0.08</td>\n      <td>0.08</td>\n      <td>0.08</td>\n      <td>1460872.00</td>\n      <td>65</td>\n      <td>0.08</td>\n    </tr>\n    <tr>\n      <th>3</th>\n      <td>2022-11-11 14:41:00</td>\n      <td>0.08</td>\n      <td>0.08</td>\n      <td>0.08</td>\n      <td>0.08</td>\n      <td>2292152.00</td>\n      <td>75</td>\n      <td>0.08</td>\n    </tr>\n    <tr>\n      <th>4</th>\n      <td>2022-11-11 14:42:00</td>\n      <td>0.08</td>\n      <td>0.08</td>\n      <td>0.08</td>\n      <td>0.08</td>\n      <td>3044077.00</td>\n      <td>57</td>\n      <td>0.08</td>\n    </tr>\n  </tbody>\n</table>\n</div>"
          },
          "metadata": {}
        }
      ]
    },
    {
      "cell_type": "markdown",
      "source": "<div class=\"alert alert-danger alertdanger\" style=\"margin-top: 20px\">\n<h1> Question #1: </h1>\n<b>Check the bottom 10 rows of data frame \"df\".</b>\n</div>\n",
      "metadata": {}
    },
    {
      "cell_type": "code",
      "source": "# Write your code below and press Shift+Enter to execute \n",
      "metadata": {
        "trusted": true
      },
      "execution_count": 124,
      "outputs": []
    },
    {
      "cell_type": "markdown",
      "source": "<details><summary>Click here for the solution</summary>\n\n```python\nprint(\"The last 10 rows of the dataframe\\n\")\ndf.tail(10)\n```\n",
      "metadata": {}
    },
    {
      "cell_type": "markdown",
      "source": "<h3>Add Headers</h3>\n<p>\nTake a look at our dataset. Pandas automatically set the header with an integer starting from 0.\n</p>\n\nTo better describe our data, we can introduce a header.\n</p>\n\n<p>\nThus, we have to add headers manually.\n</p>\n\n<p>\nFirst, we create a list \"headers\" that include all column names in order.\nThen, we use <code>dataframe.columns = headers</code> to replace the headers with the list we created.\n</p>\n",
      "metadata": {}
    },
    {
      "cell_type": "code",
      "source": "# create headers list\nheaders = [\"Ts\", \"Open\", \"High\", \"Low\", \"Close\", \"Volume\", \"Rec_count\", \"Avg_price\"]\nprint(\"headers\\n\", headers)",
      "metadata": {
        "trusted": true
      },
      "execution_count": 135,
      "outputs": [
        {
          "name": "stdout",
          "text": "headers\n ['Ts', 'Open', 'High', 'Low', 'Close', 'Volume', 'Rec_count', 'Avg_price']\n",
          "output_type": "stream"
        }
      ]
    },
    {
      "cell_type": "markdown",
      "source": "We replace headers and recheck our dataframe:\n",
      "metadata": {}
    },
    {
      "cell_type": "code",
      "source": "df.columns = headers\ndf.head(10)",
      "metadata": {
        "trusted": true
      },
      "execution_count": 136,
      "outputs": [
        {
          "execution_count": 136,
          "output_type": "execute_result",
          "data": {
            "text/plain": "                    Ts  Open  High  Low  Close      Volume  Rec_count  \\\n0  2022-11-11 14:38:00  0.08  0.08 0.08   0.08  4523754.00         80   \n1  2022-11-11 14:39:00  0.08  0.08 0.08   0.08  5119775.00         77   \n2  2022-11-11 14:40:00  0.08  0.08 0.08   0.08  1460872.00         65   \n3  2022-11-11 14:41:00  0.08  0.08 0.08   0.08  2292152.00         75   \n4  2022-11-11 14:42:00  0.08  0.08 0.08   0.08  3044077.00         57   \n5  2022-11-11 14:43:00  0.08  0.08 0.08   0.08  1476278.00         66   \n6  2022-11-11 14:44:00  0.08  0.08 0.08   0.08  1838426.00         60   \n7  2022-11-11 14:45:00  0.08  0.08 0.08   0.08 13747027.00        100   \n8  2022-11-11 14:46:00  0.08  0.08 0.08   0.08 12758340.00         93   \n9  2022-11-11 14:47:00  0.08  0.09 0.08   0.08 34452376.00        105   \n\n   Avg_price  \n0       0.08  \n1       0.08  \n2       0.08  \n3       0.08  \n4       0.08  \n5       0.08  \n6       0.08  \n7       0.08  \n8       0.08  \n9       0.08  ",
            "text/html": "<div>\n<style scoped>\n    .dataframe tbody tr th:only-of-type {\n        vertical-align: middle;\n    }\n\n    .dataframe tbody tr th {\n        vertical-align: top;\n    }\n\n    .dataframe thead th {\n        text-align: right;\n    }\n</style>\n<table border=\"1\" class=\"dataframe\">\n  <thead>\n    <tr style=\"text-align: right;\">\n      <th></th>\n      <th>Ts</th>\n      <th>Open</th>\n      <th>High</th>\n      <th>Low</th>\n      <th>Close</th>\n      <th>Volume</th>\n      <th>Rec_count</th>\n      <th>Avg_price</th>\n    </tr>\n  </thead>\n  <tbody>\n    <tr>\n      <th>0</th>\n      <td>2022-11-11 14:38:00</td>\n      <td>0.08</td>\n      <td>0.08</td>\n      <td>0.08</td>\n      <td>0.08</td>\n      <td>4523754.00</td>\n      <td>80</td>\n      <td>0.08</td>\n    </tr>\n    <tr>\n      <th>1</th>\n      <td>2022-11-11 14:39:00</td>\n      <td>0.08</td>\n      <td>0.08</td>\n      <td>0.08</td>\n      <td>0.08</td>\n      <td>5119775.00</td>\n      <td>77</td>\n      <td>0.08</td>\n    </tr>\n    <tr>\n      <th>2</th>\n      <td>2022-11-11 14:40:00</td>\n      <td>0.08</td>\n      <td>0.08</td>\n      <td>0.08</td>\n      <td>0.08</td>\n      <td>1460872.00</td>\n      <td>65</td>\n      <td>0.08</td>\n    </tr>\n    <tr>\n      <th>3</th>\n      <td>2022-11-11 14:41:00</td>\n      <td>0.08</td>\n      <td>0.08</td>\n      <td>0.08</td>\n      <td>0.08</td>\n      <td>2292152.00</td>\n      <td>75</td>\n      <td>0.08</td>\n    </tr>\n    <tr>\n      <th>4</th>\n      <td>2022-11-11 14:42:00</td>\n      <td>0.08</td>\n      <td>0.08</td>\n      <td>0.08</td>\n      <td>0.08</td>\n      <td>3044077.00</td>\n      <td>57</td>\n      <td>0.08</td>\n    </tr>\n    <tr>\n      <th>5</th>\n      <td>2022-11-11 14:43:00</td>\n      <td>0.08</td>\n      <td>0.08</td>\n      <td>0.08</td>\n      <td>0.08</td>\n      <td>1476278.00</td>\n      <td>66</td>\n      <td>0.08</td>\n    </tr>\n    <tr>\n      <th>6</th>\n      <td>2022-11-11 14:44:00</td>\n      <td>0.08</td>\n      <td>0.08</td>\n      <td>0.08</td>\n      <td>0.08</td>\n      <td>1838426.00</td>\n      <td>60</td>\n      <td>0.08</td>\n    </tr>\n    <tr>\n      <th>7</th>\n      <td>2022-11-11 14:45:00</td>\n      <td>0.08</td>\n      <td>0.08</td>\n      <td>0.08</td>\n      <td>0.08</td>\n      <td>13747027.00</td>\n      <td>100</td>\n      <td>0.08</td>\n    </tr>\n    <tr>\n      <th>8</th>\n      <td>2022-11-11 14:46:00</td>\n      <td>0.08</td>\n      <td>0.08</td>\n      <td>0.08</td>\n      <td>0.08</td>\n      <td>12758340.00</td>\n      <td>93</td>\n      <td>0.08</td>\n    </tr>\n    <tr>\n      <th>9</th>\n      <td>2022-11-11 14:47:00</td>\n      <td>0.08</td>\n      <td>0.09</td>\n      <td>0.08</td>\n      <td>0.08</td>\n      <td>34452376.00</td>\n      <td>105</td>\n      <td>0.08</td>\n    </tr>\n  </tbody>\n</table>\n</div>"
          },
          "metadata": {}
        }
      ]
    },
    {
      "cell_type": "markdown",
      "source": "We can drop missing values along the column \"open\" by uncommenting the following:\n",
      "metadata": {}
    },
    {
      "cell_type": "code",
      "source": "#df=df1.dropna(subset=[\"price\"], axis=0)\ndf.head(20)",
      "metadata": {
        "trusted": true
      },
      "execution_count": 128,
      "outputs": [
        {
          "execution_count": 128,
          "output_type": "execute_result",
          "data": {
            "text/plain": "                     ts  open  high  low  close      volume  rec_count  \\\n0   2022-11-11 14:38:00  0.08  0.08 0.08   0.08  4523754.00         80   \n1   2022-11-11 14:39:00  0.08  0.08 0.08   0.08  5119775.00         77   \n2   2022-11-11 14:40:00  0.08  0.08 0.08   0.08  1460872.00         65   \n3   2022-11-11 14:41:00  0.08  0.08 0.08   0.08  2292152.00         75   \n4   2022-11-11 14:42:00  0.08  0.08 0.08   0.08  3044077.00         57   \n5   2022-11-11 14:43:00  0.08  0.08 0.08   0.08  1476278.00         66   \n6   2022-11-11 14:44:00  0.08  0.08 0.08   0.08  1838426.00         60   \n7   2022-11-11 14:45:00  0.08  0.08 0.08   0.08 13747027.00        100   \n8   2022-11-11 14:46:00  0.08  0.08 0.08   0.08 12758340.00         93   \n9   2022-11-11 14:47:00  0.08  0.09 0.08   0.08 34452376.00        105   \n10  2022-11-11 14:48:00  0.08  0.09 0.08   0.08 25284894.00        106   \n11  2022-11-11 14:49:00  0.08  0.08 0.08   0.08 18461593.00        103   \n12  2022-11-11 14:50:00  0.08  0.08 0.08   0.08  6608245.00         99   \n13  2022-11-11 14:51:00  0.08  0.08 0.08   0.08  9624168.00         97   \n14  2022-11-11 14:52:00  0.08  0.08 0.08   0.08 14723866.00        102   \n15  2022-11-11 14:53:00  0.08  0.08 0.08   0.08  6915675.00         98   \n16  2022-11-11 14:54:00  0.08  0.08 0.08   0.08  3355101.00         79   \n17  2022-11-11 14:55:00  0.08  0.08 0.08   0.08  3792184.00         85   \n18  2022-11-11 14:56:00  0.08  0.08 0.08   0.08  8703982.00         89   \n19  2022-11-11 14:57:00  0.08  0.08 0.08   0.08  3535313.00         82   \n\n    avg_price  \n0        0.08  \n1        0.08  \n2        0.08  \n3        0.08  \n4        0.08  \n5        0.08  \n6        0.08  \n7        0.08  \n8        0.08  \n9        0.08  \n10       0.08  \n11       0.08  \n12       0.08  \n13       0.08  \n14       0.08  \n15       0.08  \n16       0.08  \n17       0.08  \n18       0.08  \n19       0.08  ",
            "text/html": "<div>\n<style scoped>\n    .dataframe tbody tr th:only-of-type {\n        vertical-align: middle;\n    }\n\n    .dataframe tbody tr th {\n        vertical-align: top;\n    }\n\n    .dataframe thead th {\n        text-align: right;\n    }\n</style>\n<table border=\"1\" class=\"dataframe\">\n  <thead>\n    <tr style=\"text-align: right;\">\n      <th></th>\n      <th>ts</th>\n      <th>open</th>\n      <th>high</th>\n      <th>low</th>\n      <th>close</th>\n      <th>volume</th>\n      <th>rec_count</th>\n      <th>avg_price</th>\n    </tr>\n  </thead>\n  <tbody>\n    <tr>\n      <th>0</th>\n      <td>2022-11-11 14:38:00</td>\n      <td>0.08</td>\n      <td>0.08</td>\n      <td>0.08</td>\n      <td>0.08</td>\n      <td>4523754.00</td>\n      <td>80</td>\n      <td>0.08</td>\n    </tr>\n    <tr>\n      <th>1</th>\n      <td>2022-11-11 14:39:00</td>\n      <td>0.08</td>\n      <td>0.08</td>\n      <td>0.08</td>\n      <td>0.08</td>\n      <td>5119775.00</td>\n      <td>77</td>\n      <td>0.08</td>\n    </tr>\n    <tr>\n      <th>2</th>\n      <td>2022-11-11 14:40:00</td>\n      <td>0.08</td>\n      <td>0.08</td>\n      <td>0.08</td>\n      <td>0.08</td>\n      <td>1460872.00</td>\n      <td>65</td>\n      <td>0.08</td>\n    </tr>\n    <tr>\n      <th>3</th>\n      <td>2022-11-11 14:41:00</td>\n      <td>0.08</td>\n      <td>0.08</td>\n      <td>0.08</td>\n      <td>0.08</td>\n      <td>2292152.00</td>\n      <td>75</td>\n      <td>0.08</td>\n    </tr>\n    <tr>\n      <th>4</th>\n      <td>2022-11-11 14:42:00</td>\n      <td>0.08</td>\n      <td>0.08</td>\n      <td>0.08</td>\n      <td>0.08</td>\n      <td>3044077.00</td>\n      <td>57</td>\n      <td>0.08</td>\n    </tr>\n    <tr>\n      <th>5</th>\n      <td>2022-11-11 14:43:00</td>\n      <td>0.08</td>\n      <td>0.08</td>\n      <td>0.08</td>\n      <td>0.08</td>\n      <td>1476278.00</td>\n      <td>66</td>\n      <td>0.08</td>\n    </tr>\n    <tr>\n      <th>6</th>\n      <td>2022-11-11 14:44:00</td>\n      <td>0.08</td>\n      <td>0.08</td>\n      <td>0.08</td>\n      <td>0.08</td>\n      <td>1838426.00</td>\n      <td>60</td>\n      <td>0.08</td>\n    </tr>\n    <tr>\n      <th>7</th>\n      <td>2022-11-11 14:45:00</td>\n      <td>0.08</td>\n      <td>0.08</td>\n      <td>0.08</td>\n      <td>0.08</td>\n      <td>13747027.00</td>\n      <td>100</td>\n      <td>0.08</td>\n    </tr>\n    <tr>\n      <th>8</th>\n      <td>2022-11-11 14:46:00</td>\n      <td>0.08</td>\n      <td>0.08</td>\n      <td>0.08</td>\n      <td>0.08</td>\n      <td>12758340.00</td>\n      <td>93</td>\n      <td>0.08</td>\n    </tr>\n    <tr>\n      <th>9</th>\n      <td>2022-11-11 14:47:00</td>\n      <td>0.08</td>\n      <td>0.09</td>\n      <td>0.08</td>\n      <td>0.08</td>\n      <td>34452376.00</td>\n      <td>105</td>\n      <td>0.08</td>\n    </tr>\n    <tr>\n      <th>10</th>\n      <td>2022-11-11 14:48:00</td>\n      <td>0.08</td>\n      <td>0.09</td>\n      <td>0.08</td>\n      <td>0.08</td>\n      <td>25284894.00</td>\n      <td>106</td>\n      <td>0.08</td>\n    </tr>\n    <tr>\n      <th>11</th>\n      <td>2022-11-11 14:49:00</td>\n      <td>0.08</td>\n      <td>0.08</td>\n      <td>0.08</td>\n      <td>0.08</td>\n      <td>18461593.00</td>\n      <td>103</td>\n      <td>0.08</td>\n    </tr>\n    <tr>\n      <th>12</th>\n      <td>2022-11-11 14:50:00</td>\n      <td>0.08</td>\n      <td>0.08</td>\n      <td>0.08</td>\n      <td>0.08</td>\n      <td>6608245.00</td>\n      <td>99</td>\n      <td>0.08</td>\n    </tr>\n    <tr>\n      <th>13</th>\n      <td>2022-11-11 14:51:00</td>\n      <td>0.08</td>\n      <td>0.08</td>\n      <td>0.08</td>\n      <td>0.08</td>\n      <td>9624168.00</td>\n      <td>97</td>\n      <td>0.08</td>\n    </tr>\n    <tr>\n      <th>14</th>\n      <td>2022-11-11 14:52:00</td>\n      <td>0.08</td>\n      <td>0.08</td>\n      <td>0.08</td>\n      <td>0.08</td>\n      <td>14723866.00</td>\n      <td>102</td>\n      <td>0.08</td>\n    </tr>\n    <tr>\n      <th>15</th>\n      <td>2022-11-11 14:53:00</td>\n      <td>0.08</td>\n      <td>0.08</td>\n      <td>0.08</td>\n      <td>0.08</td>\n      <td>6915675.00</td>\n      <td>98</td>\n      <td>0.08</td>\n    </tr>\n    <tr>\n      <th>16</th>\n      <td>2022-11-11 14:54:00</td>\n      <td>0.08</td>\n      <td>0.08</td>\n      <td>0.08</td>\n      <td>0.08</td>\n      <td>3355101.00</td>\n      <td>79</td>\n      <td>0.08</td>\n    </tr>\n    <tr>\n      <th>17</th>\n      <td>2022-11-11 14:55:00</td>\n      <td>0.08</td>\n      <td>0.08</td>\n      <td>0.08</td>\n      <td>0.08</td>\n      <td>3792184.00</td>\n      <td>85</td>\n      <td>0.08</td>\n    </tr>\n    <tr>\n      <th>18</th>\n      <td>2022-11-11 14:56:00</td>\n      <td>0.08</td>\n      <td>0.08</td>\n      <td>0.08</td>\n      <td>0.08</td>\n      <td>8703982.00</td>\n      <td>89</td>\n      <td>0.08</td>\n    </tr>\n    <tr>\n      <th>19</th>\n      <td>2022-11-11 14:57:00</td>\n      <td>0.08</td>\n      <td>0.08</td>\n      <td>0.08</td>\n      <td>0.08</td>\n      <td>3535313.00</td>\n      <td>82</td>\n      <td>0.08</td>\n    </tr>\n  </tbody>\n</table>\n</div>"
          },
          "metadata": {}
        }
      ]
    },
    {
      "cell_type": "markdown",
      "source": "Now, we have successfully read the raw dataset and added the correct headers into the dataframe.\n",
      "metadata": {}
    },
    {
      "cell_type": "markdown",
      "source": " <div class=\"alert alert-danger alertdanger\" style=\"margin-top: 20px\">\n<h1> Question #2: </h1>\n<b>Find the name of the columns of the dataframe.</b>\n</div>\n",
      "metadata": {
        "tags": []
      }
    },
    {
      "cell_type": "code",
      "source": "# Write your code below and press Shift+Enter to execute \n",
      "metadata": {
        "trusted": true
      },
      "execution_count": 129,
      "outputs": []
    },
    {
      "cell_type": "markdown",
      "source": "<details><summary>Click here for the solution</summary>\n\n```python\nprint(df.columns)\n```\n\n</details>\n",
      "metadata": {}
    },
    {
      "cell_type": "markdown",
      "source": "<h2>Save Dataset</h2>\n<p>\nCorrespondingly, Pandas enables us to save the dataset to csv. By using the <code>dataframe.to_csv()</code> method, you can add the file path and name along with quotation marks in the brackets.\n</p>\n<p>\nFor example, if you would save the dataframe <b>df</b> as <b>DOGEBUSD_trades_1m.csv</b> to your local machine, you may use the syntax below, where <code>index = False</code> means the row names will not be written.\n</p>\n",
      "metadata": {}
    },
    {
      "cell_type": "raw",
      "source": "df.to_csv(\"DOGEBUSD_trades_1m.csv\", index=False)",
      "metadata": {}
    },
    {
      "cell_type": "markdown",
      "source": "We can also read and save other file formats. We can use similar functions like **`pd.read_csv()`** and **`df.to_csv()`** for other data formats. The functions are listed in the following table:\n",
      "metadata": {}
    },
    {
      "cell_type": "markdown",
      "source": "<h2>Read/Save Other Data Formats</h2>\n\n| Data Formate |        Read       |            Save |\n| ------------ | :---------------: | --------------: |\n| csv          |  `pd.read_csv()`  |   `df.to_csv()` |\n| json         |  `pd.read_json()` |  `df.to_json()` |\n| excel        | `pd.read_excel()` | `df.to_excel()` |\n| hdf          |  `pd.read_hdf()`  |   `df.to_hdf()` |\n| sql          |  `pd.read_sql()`  |   `df.to_sql()` |\n| ...          |        ...        |             ... |\n",
      "metadata": {}
    },
    {
      "cell_type": "markdown",
      "source": "<h1 id=\"basic_insight\">Basic Insight of Dataset</h1>\n<p>\nAfter reading data into Pandas dataframe, it is time for us to explore the dataset.<br>\n\nThere are several ways to obtain essential insights of the data to help us better understand our dataset.\n\n</p>\n",
      "metadata": {}
    },
    {
      "cell_type": "markdown",
      "source": "<h2>Data Types</h2>\n<p>\nData has a variety of types.<br>\n\nThe main types stored in Pandas dataframes are <b>object</b>, <b>float</b>, <b>int</b>, <b>bool</b> and <b>datetime64</b>. In order to better learn about each attribute, it is always good for us to know the data type of each column. In Pandas:\n\n</p>\n",
      "metadata": {}
    },
    {
      "cell_type": "code",
      "source": "df.dtypes",
      "metadata": {
        "trusted": true
      },
      "execution_count": 137,
      "outputs": [
        {
          "execution_count": 137,
          "output_type": "execute_result",
          "data": {
            "text/plain": "Ts            object\nOpen         float64\nHigh         float64\nLow          float64\nClose        float64\nVolume       float64\nRec_count      int64\nAvg_price    float64\ndtype: object"
          },
          "metadata": {}
        }
      ]
    },
    {
      "cell_type": "markdown",
      "source": "<p>\nAs shown above, it is clear to see that the data type of \"Open\" and \"Close\" are <code>float64</code>, \"Ts\" is <code>object</code>, and \"Rec_count\" is <code>int64</code>, etc.\n</p>\n<p>\nThese data types can be changed; we will learn how to accomplish this in a later module.\n</p>\n",
      "metadata": {}
    },
    {
      "cell_type": "markdown",
      "source": "<h2>Describe</h2>\nIf we would like to get a statistical summary of each column e.g. count, column mean value, column standard deviation, etc., we use the describe method:\n",
      "metadata": {}
    },
    {
      "cell_type": "raw",
      "source": "dataframe.describe()",
      "metadata": {}
    },
    {
      "cell_type": "markdown",
      "source": "This method will provide various summary statistics, excluding <code>NaN</code> (Not a Number) values.\n",
      "metadata": {}
    },
    {
      "cell_type": "code",
      "source": "df.describe()",
      "metadata": {
        "trusted": true
      },
      "execution_count": 138,
      "outputs": [
        {
          "execution_count": 138,
          "output_type": "execute_result",
          "data": {
            "text/plain": "          Open     High      Low    Close      Volume  Rec_count  Avg_price\ncount 67277.00 67277.00 67277.00 67277.00    67277.00   67277.00   67277.00\nmean      0.09     0.09     0.09     0.09  1329309.25      26.86       0.09\nstd       0.01     0.01     0.01     0.01  2587028.18      18.22       0.01\nmin       0.07     0.07     0.07     0.07        8.00       1.00       0.07\n25%       0.08     0.08     0.08     0.08   277885.00      13.00       0.08\n50%       0.09     0.09     0.09     0.09   636292.00      22.00       0.09\n75%       0.10     0.10     0.10     0.10  1402308.00      36.00       0.10\nmax       0.11     0.11     0.11     0.11 74130181.00     119.00       0.11",
            "text/html": "<div>\n<style scoped>\n    .dataframe tbody tr th:only-of-type {\n        vertical-align: middle;\n    }\n\n    .dataframe tbody tr th {\n        vertical-align: top;\n    }\n\n    .dataframe thead th {\n        text-align: right;\n    }\n</style>\n<table border=\"1\" class=\"dataframe\">\n  <thead>\n    <tr style=\"text-align: right;\">\n      <th></th>\n      <th>Open</th>\n      <th>High</th>\n      <th>Low</th>\n      <th>Close</th>\n      <th>Volume</th>\n      <th>Rec_count</th>\n      <th>Avg_price</th>\n    </tr>\n  </thead>\n  <tbody>\n    <tr>\n      <th>count</th>\n      <td>67277.00</td>\n      <td>67277.00</td>\n      <td>67277.00</td>\n      <td>67277.00</td>\n      <td>67277.00</td>\n      <td>67277.00</td>\n      <td>67277.00</td>\n    </tr>\n    <tr>\n      <th>mean</th>\n      <td>0.09</td>\n      <td>0.09</td>\n      <td>0.09</td>\n      <td>0.09</td>\n      <td>1329309.25</td>\n      <td>26.86</td>\n      <td>0.09</td>\n    </tr>\n    <tr>\n      <th>std</th>\n      <td>0.01</td>\n      <td>0.01</td>\n      <td>0.01</td>\n      <td>0.01</td>\n      <td>2587028.18</td>\n      <td>18.22</td>\n      <td>0.01</td>\n    </tr>\n    <tr>\n      <th>min</th>\n      <td>0.07</td>\n      <td>0.07</td>\n      <td>0.07</td>\n      <td>0.07</td>\n      <td>8.00</td>\n      <td>1.00</td>\n      <td>0.07</td>\n    </tr>\n    <tr>\n      <th>25%</th>\n      <td>0.08</td>\n      <td>0.08</td>\n      <td>0.08</td>\n      <td>0.08</td>\n      <td>277885.00</td>\n      <td>13.00</td>\n      <td>0.08</td>\n    </tr>\n    <tr>\n      <th>50%</th>\n      <td>0.09</td>\n      <td>0.09</td>\n      <td>0.09</td>\n      <td>0.09</td>\n      <td>636292.00</td>\n      <td>22.00</td>\n      <td>0.09</td>\n    </tr>\n    <tr>\n      <th>75%</th>\n      <td>0.10</td>\n      <td>0.10</td>\n      <td>0.10</td>\n      <td>0.10</td>\n      <td>1402308.00</td>\n      <td>36.00</td>\n      <td>0.10</td>\n    </tr>\n    <tr>\n      <th>max</th>\n      <td>0.11</td>\n      <td>0.11</td>\n      <td>0.11</td>\n      <td>0.11</td>\n      <td>74130181.00</td>\n      <td>119.00</td>\n      <td>0.11</td>\n    </tr>\n  </tbody>\n</table>\n</div>"
          },
          "metadata": {}
        }
      ]
    },
    {
      "cell_type": "markdown",
      "source": "<p>\nThis shows the statistical summary of all numeric-typed (int, float) columns.<br>\n\nFor example, the attribute \"Open\" has 67277 counts, the mean value of this column is 0.09, the standard deviation is 0.01, the minimum value is 0.07, 25th percentile is 0.08, 50th percentile is 0.09, 75th percentile is 0.10, and the maximum value is 0.11. <br>\n\nHowever, what if we would also like to check all the columns including those that are of type object? <br><br>\n\nYou can add an argument <code>include = \"all\"</code> inside the bracket. Let's try it again.\n\n</p>\n",
      "metadata": {}
    },
    {
      "cell_type": "code",
      "source": "# describe all the columns in \"df\" \ndf.describe(include = \"all\", datetime_is_numeric = True)",
      "metadata": {
        "trusted": true
      },
      "execution_count": 132,
      "outputs": [
        {
          "execution_count": 132,
          "output_type": "execute_result",
          "data": {
            "text/plain": "                         ts     open     high      low    close      volume  \\\ncount                 67277 67277.00 67277.00 67277.00 67277.00    67277.00   \nunique                67277      NaN      NaN      NaN      NaN         NaN   \ntop     2022-11-11 14:38:00      NaN      NaN      NaN      NaN         NaN   \nfreq                      1      NaN      NaN      NaN      NaN         NaN   \nmean                    NaN     0.09     0.09     0.09     0.09  1329309.25   \nstd                     NaN     0.01     0.01     0.01     0.01  2587028.18   \nmin                     NaN     0.07     0.07     0.07     0.07        8.00   \n25%                     NaN     0.08     0.08     0.08     0.08   277885.00   \n50%                     NaN     0.09     0.09     0.09     0.09   636292.00   \n75%                     NaN     0.10     0.10     0.10     0.10  1402308.00   \nmax                     NaN     0.11     0.11     0.11     0.11 74130181.00   \n\n        rec_count  avg_price  \ncount    67277.00   67277.00  \nunique        NaN        NaN  \ntop           NaN        NaN  \nfreq          NaN        NaN  \nmean        26.86       0.09  \nstd         18.22       0.01  \nmin          1.00       0.07  \n25%         13.00       0.08  \n50%         22.00       0.09  \n75%         36.00       0.10  \nmax        119.00       0.11  ",
            "text/html": "<div>\n<style scoped>\n    .dataframe tbody tr th:only-of-type {\n        vertical-align: middle;\n    }\n\n    .dataframe tbody tr th {\n        vertical-align: top;\n    }\n\n    .dataframe thead th {\n        text-align: right;\n    }\n</style>\n<table border=\"1\" class=\"dataframe\">\n  <thead>\n    <tr style=\"text-align: right;\">\n      <th></th>\n      <th>ts</th>\n      <th>open</th>\n      <th>high</th>\n      <th>low</th>\n      <th>close</th>\n      <th>volume</th>\n      <th>rec_count</th>\n      <th>avg_price</th>\n    </tr>\n  </thead>\n  <tbody>\n    <tr>\n      <th>count</th>\n      <td>67277</td>\n      <td>67277.00</td>\n      <td>67277.00</td>\n      <td>67277.00</td>\n      <td>67277.00</td>\n      <td>67277.00</td>\n      <td>67277.00</td>\n      <td>67277.00</td>\n    </tr>\n    <tr>\n      <th>unique</th>\n      <td>67277</td>\n      <td>NaN</td>\n      <td>NaN</td>\n      <td>NaN</td>\n      <td>NaN</td>\n      <td>NaN</td>\n      <td>NaN</td>\n      <td>NaN</td>\n    </tr>\n    <tr>\n      <th>top</th>\n      <td>2022-11-11 14:38:00</td>\n      <td>NaN</td>\n      <td>NaN</td>\n      <td>NaN</td>\n      <td>NaN</td>\n      <td>NaN</td>\n      <td>NaN</td>\n      <td>NaN</td>\n    </tr>\n    <tr>\n      <th>freq</th>\n      <td>1</td>\n      <td>NaN</td>\n      <td>NaN</td>\n      <td>NaN</td>\n      <td>NaN</td>\n      <td>NaN</td>\n      <td>NaN</td>\n      <td>NaN</td>\n    </tr>\n    <tr>\n      <th>mean</th>\n      <td>NaN</td>\n      <td>0.09</td>\n      <td>0.09</td>\n      <td>0.09</td>\n      <td>0.09</td>\n      <td>1329309.25</td>\n      <td>26.86</td>\n      <td>0.09</td>\n    </tr>\n    <tr>\n      <th>std</th>\n      <td>NaN</td>\n      <td>0.01</td>\n      <td>0.01</td>\n      <td>0.01</td>\n      <td>0.01</td>\n      <td>2587028.18</td>\n      <td>18.22</td>\n      <td>0.01</td>\n    </tr>\n    <tr>\n      <th>min</th>\n      <td>NaN</td>\n      <td>0.07</td>\n      <td>0.07</td>\n      <td>0.07</td>\n      <td>0.07</td>\n      <td>8.00</td>\n      <td>1.00</td>\n      <td>0.07</td>\n    </tr>\n    <tr>\n      <th>25%</th>\n      <td>NaN</td>\n      <td>0.08</td>\n      <td>0.08</td>\n      <td>0.08</td>\n      <td>0.08</td>\n      <td>277885.00</td>\n      <td>13.00</td>\n      <td>0.08</td>\n    </tr>\n    <tr>\n      <th>50%</th>\n      <td>NaN</td>\n      <td>0.09</td>\n      <td>0.09</td>\n      <td>0.09</td>\n      <td>0.09</td>\n      <td>636292.00</td>\n      <td>22.00</td>\n      <td>0.09</td>\n    </tr>\n    <tr>\n      <th>75%</th>\n      <td>NaN</td>\n      <td>0.10</td>\n      <td>0.10</td>\n      <td>0.10</td>\n      <td>0.10</td>\n      <td>1402308.00</td>\n      <td>36.00</td>\n      <td>0.10</td>\n    </tr>\n    <tr>\n      <th>max</th>\n      <td>NaN</td>\n      <td>0.11</td>\n      <td>0.11</td>\n      <td>0.11</td>\n      <td>0.11</td>\n      <td>74130181.00</td>\n      <td>119.00</td>\n      <td>0.11</td>\n    </tr>\n  </tbody>\n</table>\n</div>"
          },
          "metadata": {}
        }
      ]
    },
    {
      "cell_type": "markdown",
      "source": "<p>\nNow it provides the statistical summary of all the columns, including object-typed attributes.<br>\n\nWe can now see how many unique values there, which one is the top value and the frequency of top value in the object-typed columns.<br>\n\nSome values in the table above show as \"NaN\". This is because those numbers are not available regarding a particular column type.<br>\n\n</p>\n",
      "metadata": {}
    },
    {
      "cell_type": "markdown",
      "source": "<div class=\"alert alert-danger alertdanger\" style=\"margin-top: 20px\">\n<h1> Question #3: </h1>\n\n<p>\nYou can select the columns of a dataframe by indicating the name of each column. For example, you can select the three columns as follows:\n</p>\n<p>\n    <code>dataframe[[' column 1 ',column 2', 'column 3']]</code>\n</p>\n<p>\nWhere \"column\" is the name of the column, you can apply the method  \".describe()\" to get the statistics of those columns as follows:\n</p>\n<p>\n    <code>dataframe[[' column 1 ',column 2', 'column 3'] ].describe()</code>\n</p>\n\nApply the  method to \".describe()\" to the columns 'length' and 'compression-ratio'.\n\n</div>\n",
      "metadata": {}
    },
    {
      "cell_type": "code",
      "source": "# Write your code below and press Shift+Enter to execute \n",
      "metadata": {
        "trusted": true
      },
      "execution_count": 133,
      "outputs": []
    },
    {
      "cell_type": "markdown",
      "source": "<details><summary>Click here for the solution</summary>\n\n```python\ndf[['Open', 'Close']].describe()\n```\n\n</details>\n",
      "metadata": {}
    },
    {
      "cell_type": "markdown",
      "source": "<h2>Info</h2>\nAnother method you can use to check your dataset is:\n",
      "metadata": {}
    },
    {
      "cell_type": "raw",
      "source": "dataframe.info()",
      "metadata": {}
    },
    {
      "cell_type": "markdown",
      "source": "It provides a concise summary of your DataFrame.\n\nThis method prints information about a DataFrame including the index dtype and columns, non-null values and memory usage.\n",
      "metadata": {}
    },
    {
      "cell_type": "code",
      "source": "# look at the info of \"df\"\ndf.info()",
      "metadata": {
        "trusted": true
      },
      "execution_count": 139,
      "outputs": [
        {
          "name": "stdout",
          "text": "<class 'pandas.core.frame.DataFrame'>\nInt64Index: 67277 entries, 0 to 67276\nData columns (total 8 columns):\n #   Column     Non-Null Count  Dtype  \n---  ------     --------------  -----  \n 0   Ts         67277 non-null  object \n 1   Open       67277 non-null  float64\n 2   High       67277 non-null  float64\n 3   Low        67277 non-null  float64\n 4   Close      67277 non-null  float64\n 5   Volume     67277 non-null  float64\n 6   Rec_count  67277 non-null  int64  \n 7   Avg_price  67277 non-null  float64\ndtypes: float64(6), int64(1), object(1)\nmemory usage: 4.4+ MB\n",
          "output_type": "stream"
        }
      ]
    },
    {
      "cell_type": "markdown",
      "source": "<h1>Excellent! You have just completed the  Introduction Notebook!</h1>\n",
      "metadata": {}
    },
    {
      "cell_type": "markdown",
      "source": "### Thank you for completing this lab!\n\n## Author\n\n<a href=\"https://www.linkedin.com/in/joseph-s-50398b136/?utm_medium=Exinfluencer&utm_source=Exinfluencer&utm_content=000026UJ&utm_term=10006555&utm_id=NA-SkillsNetwork-Channel-SkillsNetworkCoursesIBMDeveloperSkillsNetworkDA0101ENSkillsNetwork20235326-2021-01-01\" target=\"_blank\">Joseph Santarcangelo</a>\n\n### Other Contributors\n\n<a href=\"https://www.linkedin.com/in/mahdi-noorian-58219234/?utm_medium=Exinfluencer&utm_source=Exinfluencer&utm_content=000026UJ&utm_term=10006555&utm_id=NA-SkillsNetwork-Channel-SkillsNetworkCoursesIBMDeveloperSkillsNetworkDA0101ENSkillsNetwork20235326-2021-01-01\" target=\"_blank\">Mahdi Noorian PhD</a>\n\nBahare Talayian\n\nEric Xiao\n\nSteven Dong\n\nParizad\n\nHima Vasudevan\n\n<a href=\"https://www.linkedin.com/in/fiorellawever/?utm_medium=Exinfluencer&utm_source=Exinfluencer&utm_content=000026UJ&utm_term=10006555&utm_id=NA-SkillsNetwork-Channel-SkillsNetworkCoursesIBMDeveloperSkillsNetworkDA0101ENSkillsNetwork20235326-2021-01-01\" target=\"_blank\">Fiorella Wenver</a>\n\n<a href=\"https:// https://www.linkedin.com/in/yi-leng-yao-84451275/ \" target=\"_blank\" >Yi Yao</a>.\n\n## Change Log\n\n| Date (YYYY-MM-DD) | Version | Changed By | Change Description                                         |\n| ----------------- | ------- | ---------- | ---------------------------------------------------------- |\n| 2022-08-23        | 2.4     | Malika     | Import micropip added and parameter for ipwidgets and tqdm |\n| 2020-10-30        | 2.3     | Lakshmi    | Changed URL of the csv                                     |\n| 2020-09-22        | 2.2     | Nayef      | Added replace() method to remove '?'                       |\n| 2020-09-09        | 2.1     | Lakshmi    | Made changes in info method of dataframe                   |\n| 2020-08-27        | 2.0     | Lavanya    | Moved lab to course repo in GitLab                         |\n\n<hr>\n\n## <h3 align=\"center\"> © IBM Corporation 2020. All rights reserved. <h3/>\n",
      "metadata": {}
    }
  ]
}
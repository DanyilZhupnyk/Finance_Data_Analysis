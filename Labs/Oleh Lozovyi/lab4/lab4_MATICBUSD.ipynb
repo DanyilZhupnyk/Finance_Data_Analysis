{
  "cells": [
    {
      "cell_type": "markdown",
      "id": "9cae8720-7c8e-442f-b9bc-4d4752dbf5ac",
      "metadata": {},
      "outputs": [],
      "source": [
        "<center>\n    <img src=\"https://cf-courses-data.s3.us.cloud-object-storage.appdomain.cloud/assets/logos/SN_web_lightmode.png\" width=\"300\" alt=\"cognitiveclass.ai logo\"  />\n</center>\n\n\n# Financial Services: Lab 4. Model Development  (on the example of MATIC/BUSD and several technical indicators:  ADOSC, NATR, TRANGE) \n\nEstimated time needed: **30** minutes\n\n## Objectives\n\nAfter completing this lab you will be able to:\n\n*   Develop prediction models\n"
      ]
    },
    {
      "cell_type": "markdown",
      "id": "6c5dd884-34ae-4075-836b-f78df6680657",
      "metadata": {},
      "outputs": [],
      "source": [
        "<p>In this section, we will develop several models that will predict the price of the car using the variables or features. This is just an estimate but should give us an objective idea of how much the car should cost.</p>\n"
      ]
    },
    {
      "cell_type": "markdown",
      "id": "e92e7af3-a48d-4414-9f8d-4ae047b8de3a",
      "metadata": {},
      "outputs": [],
      "source": [
        "Some questions we want to ask in this module\n\n<ul>\n    <li>Do I know if the dealer is offering fair value for my trade-in?</li>\n    <li>Do I know if I put a fair value on my car?</li>\n</ul>\n<p>In data analytics, we often use <b>Model Development</b> to help us predict future observations from the data we have.</p>\n\n<p>A model will help us understand the exact relationship between different variables and how these variables are used to predict the result.</p>\n"
      ]
    },
    {
      "cell_type": "markdown",
      "id": "41c3a879-3125-440d-9926-5fde5c3e1dad",
      "metadata": {},
      "outputs": [],
      "source": [
        "#### Setup\n"
      ]
    },
    {
      "cell_type": "markdown",
      "id": "89d36601-28e6-4086-8a1a-08816a0a6b55",
      "metadata": {},
      "outputs": [],
      "source": [
        "Import libraries:\n"
      ]
    },
    {
      "cell_type": "code",
      "id": "538eadc8-7cb7-4943-aea7-a3cfbbd59417",
      "metadata": {},
      "outputs": [],
      "source": [
        "#If you run the lab locally using Anaconda, you can load the correct library and versions by uncommenting the following:\n#install specific version of libraries used in lab\n# ! conda install pandas -y\n# ! conda install numpy -y\n# ! conda install seaborn -y\n! conda install -c intel scikit-learn -y"
      ]
    },
    {
      "cell_type": "code",
      "id": "ba44a3a7-6116-4065-a1af-b125da90e042",
      "metadata": {},
      "outputs": [],
      "source": [
        "import pandas as pd\nimport numpy as np\nimport matplotlib.pyplot as plt\nfrom scipy import stats\nfrom sklearn.linear_model import LinearRegression\n# import the visualization package: seaborn\nimport seaborn as sns\n%matplotlib inline \n\nfrom sklearn.preprocessing import PolynomialFeatures\n\nfrom sklearn.pipeline import Pipeline\nfrom sklearn.preprocessing import StandardScaler\n\nfrom sklearn.metrics import r2_score\nfrom sklearn.metrics import mean_squared_error\n\nimport warnings\nwarnings.filterwarnings(\"ignore\")\n\n#set values precision as 3\npd.set_option(\"display.precision\", 3)\n\nfrom sklearn import set_config\nset_config(display = 'diagram')"
      ]
    },
    {
      "cell_type": "markdown",
      "id": "a4326761-a28d-4135-adee-a9f8b95ce7cf",
      "metadata": {},
      "outputs": [],
      "source": [
        "This dataset was hosted on IBM Cloud object. Click <a href=\"https://cocl.us/DA101EN_object_storage?utm_medium=Exinfluencer&utm_source=Exinfluencer&utm_content=000026UJ&utm_term=10006555&utm_id=NA-SkillsNetwork-Channel-SkillsNetworkCoursesIBMDeveloperSkillsNetworkDA0101ENSkillsNetwork20235326-2021-01-01\">HERE</a> for free storage.\n"
      ]
    },
    {
      "cell_type": "code",
      "id": "b5740255-5f44-4e16-95ff-74b7e0c78e88",
      "metadata": {},
      "outputs": [],
      "source": [
        "#download all dataframes\npath = 'https://cf-courses-data.s3.us.cloud-object-storage.appdomain.cloud/IBMSkillsNetwork-GPXX0E4DEN/labs/MATICBUSD_lab4.csv'\n    \n#read dataframe with information about DOGE\ndf = pd.read_csv(path, index_col = 0)\n#df[\"Ts\"] = df[\"Ts\"].astype(\"datetime64[ns]\")"
      ]
    },
    {
      "cell_type": "markdown",
      "id": "79672b9c-a827-416b-9f66-62e33f4758a8",
      "metadata": {},
      "outputs": [],
      "source": [
        "As conclusion of previous lab we got that our coin Avg_price do not have good relation. But lets try to predict an Avg_price based on our data."
      ]
    },
    {
      "cell_type": "code",
      "id": "320590ea-a12f-410f-90fd-6b65c0a35922",
      "metadata": {},
      "outputs": [],
      "source": [
        "df.head()"
      ]
    },
    {
      "cell_type": "markdown",
      "id": "b5c22dca-5516-441b-b1ad-009cfe78c614",
      "metadata": {},
      "outputs": [],
      "source": [
        "## 1. Linear Regression and Multiple Linear Regression\n"
      ]
    },
    {
      "cell_type": "markdown",
      "id": "28846fe2-c734-4b27-82af-1125483db401",
      "metadata": {},
      "outputs": [],
      "source": [
        "#### Linear Regression\n"
      ]
    },
    {
      "cell_type": "markdown",
      "id": "dbfbf107-c5df-40b8-bb0d-ea1f26b7ed6b",
      "metadata": {},
      "outputs": [],
      "source": [
        "<p>One example of a Data  Model that we will be using is:</p>\n<b>Simple Linear Regression</b>\n\n<br>\n<p>Simple Linear Regression is a method to help us understand the relationship between two variables:</p>\n<ul>\n    <li>The predictor/independent variable (X)</li>\n    <li>The response/dependent variable (that we want to predict)(Y)</li>\n</ul>\n\n<p>The result of Linear Regression is a <b>linear function</b> that predicts the response (dependent) variable as a function of the predictor (independent) variable.</p>\n"
      ]
    },
    {
      "cell_type": "markdown",
      "id": "b21fd41c-eb4a-4eb8-bbaa-c9e677156ad2",
      "metadata": {},
      "outputs": [],
      "source": [
        "$$\nY: Response \\ Variable\\\\\\\\\\\\\\\\\\\\\nX: Predictor \\ Variables\n$$\n"
      ]
    },
    {
      "cell_type": "markdown",
      "id": "6a0a6597-0125-4f3f-a80e-dd7b0b100541",
      "metadata": {},
      "outputs": [],
      "source": [
        "<b>Linear Function</b>\n$$\nYhat = a + b  X\n$$\n"
      ]
    },
    {
      "cell_type": "markdown",
      "id": "9d4c7260-1cc8-4834-8865-9def9b6cb6fa",
      "metadata": {},
      "outputs": [],
      "source": [
        "<ul>\n    <li>a refers to the <b>intercept</b> of the regression line, in other words: the value of Y when X is 0</li>\n    <li>b refers to the <b>slope</b> of the regression line, in other words: the value with which Y changes when X increases by 1 unit</li>\n</ul>\n"
      ]
    },
    {
      "cell_type": "markdown",
      "id": "42dfbe58-6c82-48b8-aa52-bdab4f286af0",
      "metadata": {},
      "outputs": [],
      "source": [
        "<h4>Create the linear regression object:</h4>\n"
      ]
    },
    {
      "cell_type": "code",
      "id": "119989e2-c9cb-402b-bc60-f8b34b45e9fc",
      "metadata": {},
      "outputs": [],
      "source": [
        "lm = LinearRegression()\nlm"
      ]
    },
    {
      "cell_type": "markdown",
      "id": "6b14bb54-055a-4f76-9155-3cb9a538eac3",
      "metadata": {},
      "outputs": [],
      "source": [
        "#### How could \"Volume\" help us predict \"Avg_price\"?\n"
      ]
    },
    {
      "cell_type": "markdown",
      "id": "72fcba59-103c-48bc-ac58-f720703c4e2b",
      "metadata": {},
      "outputs": [],
      "source": [
        "For this example, we want to look at how Volume can help us predict Avg_price.\nUsing simple linear regression, we will create a linear function with \"Volume\" as the predictor variable and the \"Avg_price\" as the response variable."
      ]
    },
    {
      "cell_type": "markdown",
      "id": "2658cd4f-60d4-42de-b3c4-f068087a6153",
      "metadata": {},
      "outputs": [],
      "source": [
        "Lets remind how good Volume and Avg_price response each other:"
      ]
    },
    {
      "cell_type": "code",
      "id": "e0b8137c-0a91-4de9-ac7c-92f1c73510ce",
      "metadata": {},
      "outputs": [],
      "source": [
        "pearson_coef, p_value = stats.pearsonr(df['Volume'], df['Avg_price'])\nprint( \"The Pearson Correlation Coefficient is\", \"{:.3f}\".format(pearson_coef), \" with a P-value of P = \", \"{:.3f}\".format(p_value) ) "
      ]
    },
    {
      "cell_type": "markdown",
      "id": "b7809d0d-918d-4ec0-9433-d25b8661ab77",
      "metadata": {},
      "outputs": [],
      "source": [
        "We can see that Volume do not have good relations with Avg_price. Let`s take a look what we can predict with this values."
      ]
    },
    {
      "cell_type": "code",
      "id": "0a04d3cd-792e-404e-88e7-fa8e26e69a4a",
      "metadata": {},
      "outputs": [],
      "source": [
        "X = df[['Volume']]\nY = df['Avg_price']"
      ]
    },
    {
      "cell_type": "markdown",
      "id": "7187d197-c6b1-4a6a-bc4c-c7cca783b036",
      "metadata": {},
      "outputs": [],
      "source": [
        "Fit the linear model using Volume:\n"
      ]
    },
    {
      "cell_type": "code",
      "id": "39c9629a-4f01-4083-ade7-122561d28dca",
      "metadata": {},
      "outputs": [],
      "source": [
        "lm.fit(X,Y)"
      ]
    },
    {
      "cell_type": "markdown",
      "id": "263bb138-643c-4584-bf41-8f2a0fb3410c",
      "metadata": {},
      "outputs": [],
      "source": [
        "We can output a prediction:\n"
      ]
    },
    {
      "cell_type": "code",
      "id": "64dbed3a-eece-4635-9844-ef65221f2afd",
      "metadata": {},
      "outputs": [],
      "source": [
        "Yhat=lm.predict(X)\npd.Series(Yhat, index=X.Volume.values, name='Price').to_frame()[:5]"
      ]
    },
    {
      "cell_type": "markdown",
      "id": "d4419f69-2c7e-4ae3-8a30-796a87ecee76",
      "metadata": {},
      "outputs": [],
      "source": [
        "#### What is the value of the intercept (a)?\n"
      ]
    },
    {
      "cell_type": "code",
      "id": "dbc77bc9-cf3b-4d75-81c4-b798d08a2ff3",
      "metadata": {},
      "outputs": [],
      "source": [
        "print(\"{:.3f}\".format(lm.intercept_))"
      ]
    },
    {
      "cell_type": "markdown",
      "id": "667bf666-90de-45fc-8d02-a3766f3f059e",
      "metadata": {},
      "outputs": [],
      "source": [
        "#### What is the value of the slope (b)?\n"
      ]
    },
    {
      "cell_type": "code",
      "id": "e6374d26-d9e6-45ab-b98a-6ae87a3e29c0",
      "metadata": {},
      "outputs": [],
      "source": [
        "print(\"{:.3f}\".format(lm.coef_[0]))"
      ]
    },
    {
      "cell_type": "markdown",
      "id": "332808c7-63cc-4ff4-987d-a79724d6b3a9",
      "metadata": {},
      "outputs": [],
      "source": [
        "### What is the final estimated linear model we get?\n"
      ]
    },
    {
      "cell_type": "markdown",
      "id": "4c6c6456-356f-4894-a127-a35c267927c5",
      "metadata": {},
      "outputs": [],
      "source": [
        "As we saw above, we should get a final linear model with the structure:\n"
      ]
    },
    {
      "cell_type": "markdown",
      "id": "413eceff-f4cb-4305-9ef7-01eaffc03306",
      "metadata": {},
      "outputs": [],
      "source": [
        "$$\nYhat = a + b  X\n$$\n"
      ]
    },
    {
      "cell_type": "markdown",
      "id": "700ae212-3c0c-444e-96a6-8a2d368ef696",
      "metadata": {},
      "outputs": [],
      "source": [
        "Plugging in the actual values we get:\n"
      ]
    },
    {
      "cell_type": "markdown",
      "id": "7784d6f2-4a92-4b49-8dfd-48562164b3d9",
      "metadata": {},
      "outputs": [],
      "source": [
        "<b>Avg_price</b> = 0.889 - 0.0 x <b>Volume</b>\n"
      ]
    },
    {
      "cell_type": "markdown",
      "id": "bbbb5145-a1f7-468a-b375-f4490e3474fb",
      "metadata": {},
      "outputs": [],
      "source": [
        "<div class=\"alert alert-danger alertdanger\" style=\"margin-top: 20px\">\n<h1>Question #1 a): </h1>\n\n<b>Create a linear regression object called \"lm1\".</b>\n\n</div>\n"
      ]
    },
    {
      "cell_type": "code",
      "id": "91f69b45-82d2-4495-a3d4-dd4d92be7947",
      "metadata": {},
      "outputs": [],
      "source": [
        "# Write your code below and press Shift+Enter to execute \n"
      ]
    },
    {
      "cell_type": "markdown",
      "id": "7ca8414e-15f5-433d-b9db-f421ee43cfcb",
      "metadata": {},
      "outputs": [],
      "source": [
        "<details><summary>Click here for the solution</summary>\n\n```python\nlm1 = LinearRegression()\nlm1\n```\n\n</details>\n"
      ]
    },
    {
      "cell_type": "code",
      "id": "5a329f0b-3b7a-400e-865b-2548d8e92f91",
      "metadata": {},
      "outputs": [],
      "source": [
        "lm1 = LinearRegression()\nlm1"
      ]
    },
    {
      "cell_type": "markdown",
      "id": "3586b52f-b291-47e8-8d5d-fbc6031ceb6f",
      "metadata": {},
      "outputs": [],
      "source": [
        "<div class=\"alert alert-danger alertdanger\" style=\"margin-top: 20px\">\n<h1> Question #1 b): </h1>\n\n<b>Train the model using \"ADOSC\" as the independent variable and \"Avg_price\" as the dependent variable?</b>\n\n</div>\n"
      ]
    },
    {
      "cell_type": "code",
      "id": "19ec4599-1134-4eaf-8964-ddedd7ea0005",
      "metadata": {},
      "outputs": [],
      "source": [
        "# Write your code below and press Shift+Enter to execute \n"
      ]
    },
    {
      "cell_type": "markdown",
      "id": "7aa04e5b-2d5e-4fc8-b797-f7191694c923",
      "metadata": {},
      "outputs": [],
      "source": [
        "<details><summary>Click here for the solution</summary>\n\n```python\nlm1.fit(df[['ADOSC']], df[['Avg_price']])\nlm1\n```\n\n</details>\n"
      ]
    },
    {
      "cell_type": "code",
      "id": "33d00d83-e5c4-4bbf-93d4-ee44634dfa91",
      "metadata": {},
      "outputs": [],
      "source": [
        "lm1.fit(df[['ADOSC']], df[['Avg_price']])\nlm1"
      ]
    },
    {
      "cell_type": "markdown",
      "id": "92f8c60b-95db-4f09-90b7-8dd1cc9fad24",
      "metadata": {},
      "outputs": [],
      "source": [
        "<div class=\"alert alert-danger alertdanger\" style=\"margin-top: 20px\">\n<h1>Question #1 c):</h1>\n\n<b>Find the slope and intercept of the model.</b>\n\n</div>\n"
      ]
    },
    {
      "cell_type": "markdown",
      "id": "06aeea3c-8a43-41a5-a7e6-3b27063df5ce",
      "metadata": {},
      "outputs": [],
      "source": [
        "#### Slope\n"
      ]
    },
    {
      "cell_type": "code",
      "id": "23709629-950c-4b98-b162-30f8e8b7eefb",
      "metadata": {},
      "outputs": [],
      "source": [
        "# Write your code below and press Shift+Enter to execute \n"
      ]
    },
    {
      "cell_type": "markdown",
      "id": "dbdff5f4-45e0-4726-b714-f32974f60e41",
      "metadata": {},
      "outputs": [],
      "source": [
        "<details><summary>Click here for the solution</summary>\n    \n```python\n# Slope \nprint(round(lm.coef_[0], 3))\n```\n</details>\n"
      ]
    },
    {
      "cell_type": "markdown",
      "id": "1ecc9252-51a0-4a1e-8fee-77923e87a3fa",
      "metadata": {},
      "outputs": [],
      "source": [
        "<div class=\"alert alert-danger alertdanger\" style=\"margin-top: 20px\">\nНе використовуйте функції round.\n</div>"
      ]
    },
    {
      "cell_type": "code",
      "id": "9e8ccb1c-0fb5-4d71-bec2-2b5d8c3feb13",
      "metadata": {},
      "outputs": [],
      "source": [
        "print(\"{:.3f}\".format(lm.coef_[0]))"
      ]
    },
    {
      "cell_type": "markdown",
      "id": "fac8962f-2c22-4068-a42e-1c3322646fbf",
      "metadata": {},
      "outputs": [],
      "source": [
        "#### Intercept\n"
      ]
    },
    {
      "cell_type": "code",
      "id": "1261b252-75af-4436-96da-cc9ef61a1d7c",
      "metadata": {},
      "outputs": [],
      "source": [
        "# Write your code below and press Shift+Enter to execute \n"
      ]
    },
    {
      "cell_type": "markdown",
      "id": "4a1bcf2a-fbb5-4048-8d94-9f1fe48b31c0",
      "metadata": {},
      "outputs": [],
      "source": [
        "\n<details><summary>Click here for the solution</summary>\n\n```python\n# Intercept\nprint(round(lm.intercept_, 3))\n```\n\n</details>\n"
      ]
    },
    {
      "cell_type": "code",
      "id": "af0879a4-42e3-41fe-979f-bec261c700ef",
      "metadata": {},
      "outputs": [],
      "source": [
        "print(\"{:.3f}\".format(lm.intercept_))"
      ]
    },
    {
      "cell_type": "markdown",
      "id": "0dcd9517-82f4-4971-8533-d6aa9cc23405",
      "metadata": {},
      "outputs": [],
      "source": [
        "<div class=\"alert alert-danger alertdanger\" style=\"margin-top: 20px\">\n<h1>Question #1 d): </h1>\n\n<b>What is the equation of the predicted line? You can use x and yhat or \"ADOSC\" or \"Avg_price\".</b>\n\n</div>\n"
      ]
    },
    {
      "cell_type": "code",
      "id": "9d18d38f-f1eb-4c14-afec-f8f277967933",
      "metadata": {},
      "outputs": [],
      "source": [
        "# Write your code below and press Shift+Enter to execute \n# using X and Y  \n"
      ]
    },
    {
      "cell_type": "markdown",
      "id": "317c2750-bd53-47fb-8fe6-4c62a66c2ee3",
      "metadata": {},
      "outputs": [],
      "source": [
        "<details><summary>Click here for the solution</summary>\n\n```python\n# using X and Y  \nYhat= 0.889 - 0.0 * X\n\nAvg_price= 0.889 - 0.0 * df['ADOSC']\n\n```\n\n</details>\n"
      ]
    },
    {
      "cell_type": "markdown",
      "id": "0d4f03c4-5549-4187-84b5-d87071d11038",
      "metadata": {},
      "outputs": [],
      "source": [
        "#### Multiple Linear Regression\n"
      ]
    },
    {
      "cell_type": "markdown",
      "id": "a2ae6298-0f47-4b86-b57d-63ec4e769ceb",
      "metadata": {},
      "outputs": [],
      "source": [
        "<p>What if we want to predict car price using more than one variable?</p>\n\n<p>If we want to use more variables in our model to predict car price, we can use <b>Multiple Linear Regression</b>.\nMultiple Linear Regression is very similar to Simple Linear Regression, but this method is used to explain the relationship between one continuous response (dependent) variable and <b>two or more</b> predictor (independent) variables.\nMost of the real-world regression models involve multiple predictors. We will illustrate the structure by using four predictor variables, but these results can generalize to any integer:</p>\n"
      ]
    },
    {
      "cell_type": "markdown",
      "id": "4c6e112f-760e-4f7f-9a8c-88710476f6c1",
      "metadata": {},
      "outputs": [],
      "source": [
        "$$\nY: Response \\ Variable\\\\\\\\\\\\\\\\\\\\\nX\\_1 :Predictor\\ Variable \\ 1\\\\\\\\\nX\\_2: Predictor\\ Variable \\ 2\\\\\\\\\nX\\_3: Predictor\\ Variable \\ 3\\\\\\\\\nX\\_4: Predictor\\ Variable \\ 4\\\\\\\\\n$$\n"
      ]
    },
    {
      "cell_type": "markdown",
      "id": "58d4d182-1514-41c2-ad26-d9e08163bfc0",
      "metadata": {},
      "outputs": [],
      "source": [
        "$$\na: intercept\\\\\\\\\\\\\\\\\\\\\nb\\_1 :coefficients \\ of\\ Variable \\ 1\\\\\\\\\nb\\_2: coefficients \\ of\\ Variable \\ 2\\\\\\\\\nb\\_3: coefficients \\ of\\ Variable \\ 3\\\\\\\\\nb\\_4: coefficients \\ of\\ Variable \\ 4\\\\\\\\\n$$\n"
      ]
    },
    {
      "cell_type": "markdown",
      "id": "7fc66790-a678-4f2f-98fc-4cf0c50c3155",
      "metadata": {},
      "outputs": [],
      "source": [
        "The equation is given by:\n"
      ]
    },
    {
      "cell_type": "markdown",
      "id": "c6c1aaba-96f6-49ef-9ace-f294248bfc3f",
      "metadata": {},
      "outputs": [],
      "source": [
        "$$\nYhat = a + b\\_1 X\\_1 + b\\_2 X\\_2 + b\\_3 X\\_3 + b\\_4 X\\_4\n$$\n"
      ]
    },
    {
      "cell_type": "markdown",
      "id": "27c0c52f-2bf1-4b84-b63a-c11dbeb2538f",
      "metadata": {},
      "outputs": [],
      "source": [
        "<p>From the previous lab we know that other 2 indicators (TRANGE and NATR) have a little bit better relations with price, so would be better predictors of Avg_price :</p>\nLet's develop a model using these variables as the predictor variables."
      ]
    },
    {
      "cell_type": "code",
      "id": "c2bd158f-cfea-4677-afb7-eb58bb36018b",
      "metadata": {},
      "outputs": [],
      "source": [
        "Z = df[['TRANGE', 'NATR']]"
      ]
    },
    {
      "cell_type": "markdown",
      "id": "ad4e2f8b-f27d-47a3-98db-e614be370dc5",
      "metadata": {},
      "outputs": [],
      "source": [
        "Fit the linear model using the four above-mentioned variables.\n"
      ]
    },
    {
      "cell_type": "code",
      "id": "9d430b8c-753a-4681-a527-0c5e6a73ce50",
      "metadata": {},
      "outputs": [],
      "source": [
        "lm.fit(Z, df['Avg_price'])"
      ]
    },
    {
      "cell_type": "markdown",
      "id": "1b27a355-25f8-40be-bb26-9262ab9b4c77",
      "metadata": {},
      "outputs": [],
      "source": [
        "What is the value of the intercept(a)?\n"
      ]
    },
    {
      "cell_type": "code",
      "id": "5bf102dc-b24f-4864-a6b5-7f716be134a6",
      "metadata": {},
      "outputs": [],
      "source": [
        "print(\"{:.3f}\".format(lm.intercept_))"
      ]
    },
    {
      "cell_type": "markdown",
      "id": "b0fae3fb-25e8-47bd-bce8-622c713571a8",
      "metadata": {},
      "outputs": [],
      "source": [
        "What are the values of the coefficients (b1, b2, b3, b4)?\n"
      ]
    },
    {
      "cell_type": "code",
      "id": "f5e60f25-04a0-4823-b737-987224df3265",
      "metadata": {},
      "outputs": [],
      "source": [
        "pd.Series(lm.coef_, index=Z.columns, name='Price').to_frame()"
      ]
    },
    {
      "cell_type": "markdown",
      "id": "6eb8686a-a019-44e6-b709-fafbc6b1f73f",
      "metadata": {},
      "outputs": [],
      "source": [
        "What is the final estimated linear model that we get?\n"
      ]
    },
    {
      "cell_type": "markdown",
      "id": "dba954fd-4b67-4fea-99b1-d9761048b26d",
      "metadata": {},
      "outputs": [],
      "source": [
        "As we saw above, we should get a final linear function with the structure:\n\n$$\nYhat = a + b_1 X_1 + b_2 X_2 + b_3 X_3 + b_4 X_4\n$$\n\nWhat is the linear function we get in this example?\n"
      ]
    },
    {
      "cell_type": "markdown",
      "id": "860c0598-3bec-41e8-b748-75629011b9d9",
      "metadata": {},
      "outputs": [],
      "source": [
        "<b>Avg_price</b> = 0.884 + 0.703 x <b>TRANGE</b> + 0.036 x <b>NATR</b>\n"
      ]
    },
    {
      "cell_type": "markdown",
      "id": "abd76949-664d-43ca-a67f-5ef7e6a10ceb",
      "metadata": {},
      "outputs": [],
      "source": [
        "<div class=\"alert alert-danger alertdanger\" style=\"margin-top: 20px\">\n<h1> Question  #2 a): </h1>\nCreate and train a Multiple Linear Regression model \"lm2\" where the response variable is \"Avg_price\", and the predictor variable is \"Volume\" and  \"TRANGE\".\n</div>\n"
      ]
    },
    {
      "cell_type": "code",
      "id": "fb4ae4c5-e4a3-44c8-a24d-845c2494042e",
      "metadata": {},
      "outputs": [],
      "source": [
        "# Write your code below and press Shift+Enter to execute \n"
      ]
    },
    {
      "cell_type": "markdown",
      "id": "52156a82-b8f7-4125-b6bf-4fea447749d2",
      "metadata": {},
      "outputs": [],
      "source": [
        "<details><summary>Click here for the solution</summary>\n\n```python\nlm2 = LinearRegression()\nlm2.fit(df[['Volume' , 'TRANGE']],df['Avg_price'])\n\n\n```\n\n</details>\n"
      ]
    },
    {
      "cell_type": "markdown",
      "id": "3475e835-5059-4725-a307-c11a5c2fc4d0",
      "metadata": {},
      "outputs": [],
      "source": [
        "<div class=\"alert alert-danger alertdanger\" style=\"margin-top: 20px\">\n<h1>Question  #2 b): </h1>\n<b>Find the coefficient of the model.</b>\n</div>\n"
      ]
    },
    {
      "cell_type": "code",
      "id": "c90b84e7-78a9-41fc-8337-374eed3e7642",
      "metadata": {},
      "outputs": [],
      "source": [
        "# Write your code below and press Shift+Enter to execute \n"
      ]
    },
    {
      "cell_type": "markdown",
      "id": "518475d2-7877-4c1a-adcc-195c8bdb75d2",
      "metadata": {},
      "outputs": [],
      "source": [
        "<details><summary>Click here for the solution</summary>\n\n```python\nprint(round(lm2.coef_, 2))\n\n```\n\n</details>\n"
      ]
    },
    {
      "cell_type": "markdown",
      "id": "f468d6c6-fa22-4a54-a883-e4d225d88e0d",
      "metadata": {},
      "outputs": [],
      "source": [
        "## 2. Model Evaluation Using Visualization\n"
      ]
    },
    {
      "cell_type": "markdown",
      "id": "30461f45-affd-4e2a-a721-9ebe9fc06b56",
      "metadata": {},
      "outputs": [],
      "source": [
        "Now that we've developed some models, how do we evaluate our models and choose the best one? One way to do this is by using a visualization.\n"
      ]
    },
    {
      "cell_type": "markdown",
      "id": "deef910a-cace-47ea-b7cf-2b59ba08e2c5",
      "metadata": {},
      "outputs": [],
      "source": [
        "### Regression Plot\n"
      ]
    },
    {
      "cell_type": "markdown",
      "id": "bf931903-254d-42ab-aae5-ad3a9d6d00f2",
      "metadata": {},
      "outputs": [],
      "source": [
        "<p>When it comes to simple linear regression, an excellent way to visualize the fit of our model is by using <b>regression plots</b>.</p>\n\n<p>This plot will show a combination of a scattered data points (a <b>scatterplot</b>), as well as the fitted <b>linear regression</b> line going through the data. This will give us a reasonable estimate of the relationship between the two variables, the strength of the correlation, as well as the direction (positive or negative correlation).</p>\n"
      ]
    },
    {
      "cell_type": "markdown",
      "id": "543ba9f3-f9b3-4e9c-8d2d-693182ebcaec",
      "metadata": {},
      "outputs": [],
      "source": [
        "Let's visualize **Volume** as potential predictor variable of Avg_price:\n"
      ]
    },
    {
      "cell_type": "code",
      "id": "88891a82-b400-4be1-914d-21440e52dbbc",
      "metadata": {},
      "outputs": [],
      "source": [
        "width = 12\nheight = 10\nplt.figure(figsize=(width, height))\nsns.regplot(x=\"Volume\", y=\"Avg_price\", data=df)\nplt.ylim(df.Avg_price.min(),)"
      ]
    },
    {
      "cell_type": "markdown",
      "id": "32dc679d-5e33-4ba4-b79f-08e6e236cfdc",
      "metadata": {},
      "outputs": [],
      "source": [
        "<p>We can see from this plot that Volume is negatively correlated to Avg_price since the regression slope is positive.\n\nOne thing to keep in mind when looking at a regression plot is to pay attention to how scattered the data points are around the regression line. This will give you a good indication of the variance of the data and whether a linear model would be the best fit or not. If the data is too far off from the line, this linear model might not be the best model for this data.\n\nLet's compare this plot to the regression plot of \"NATR\" that correlate better.</p>\n"
      ]
    },
    {
      "cell_type": "code",
      "id": "06977a07-6ca9-4913-91c5-04ecc54e7db1",
      "metadata": {},
      "outputs": [],
      "source": [
        "plt.figure(figsize=(width, height))\nsns.regplot(x=\"NATR\", y=\"Avg_price\", data=df)\n\nplt.ylim(df.Avg_price.min(),)"
      ]
    },
    {
      "cell_type": "markdown",
      "id": "b2cc6a3c-4199-450e-8799-90ae7395054a",
      "metadata": {},
      "outputs": [],
      "source": [
        "<p>Comparing the regression plot of \"NATR\" and \"Volume\", we see that the points for \"Avg_price\" are much closer to the generated line and, on average, decrease. The points for \"NATR\" have more spread around the predicted line and it is much harder to determine if the points are decreasing or increasing as the \"Volume\" increases.</p>\n"
      ]
    },
    {
      "cell_type": "markdown",
      "id": "c5fcd38a-9368-47d8-831f-68dbf79146c4",
      "metadata": {},
      "outputs": [],
      "source": [
        "<div class=\"alert alert-danger alertdanger\" style=\"margin-top: 20px\">\n<h1>Question #3:</h1>\n<b>Given the regression plots above, is \"Volume\" or \"TRANGE\" more strongly correlated with \"Avg_price\"? Use the method  \".corr()\" to verify your answer.</b>\n</div>\n"
      ]
    },
    {
      "cell_type": "code",
      "id": "72be486f-e491-45f7-9ca8-f8bf2179bcd6",
      "metadata": {},
      "outputs": [],
      "source": [
        "# Write your code below and press Shift+Enter to execute \n"
      ]
    },
    {
      "cell_type": "markdown",
      "id": "e79cc6bf-80a5-4631-bd00-7875cc53dc44",
      "metadata": {},
      "outputs": [],
      "source": [
        "<details><summary>Click here for the solution</summary>\n\n```python\n# The variable \"TRANGE\" has a stronger correlation with \"Avg_price\",   compared to \"Volume\". You can verify it using the following command:\n\ndf[[\"TRANGE\", \"Volume\", \"Avg_price\"]].corr()\n\n```\n\n</details>\n"
      ]
    },
    {
      "cell_type": "markdown",
      "id": "21ef760a-a510-41d2-ab3b-d9333ec08a61",
      "metadata": {},
      "outputs": [],
      "source": [
        "### Residual Plot\n\n<p>A good way to visualize the variance of the data is to use a residual plot.</p>\n\n<p>What is a <b>residual</b>?</p>\n\n<p>The difference between the observed value (y) and the predicted value (Yhat) is called the residual (e). When we look at a regression plot, the residual is the distance from the data point to the fitted regression line.</p>\n\n<p>So what is a <b>residual plot</b>?</p>\n\n<p>A residual plot is a graph that shows the residuals on the vertical y-axis and the independent variable on the horizontal x-axis.</p>\n\n<p>What do we pay attention to when looking at a residual plot?</p>\n\n<p>We look at the spread of the residuals:</p>\n\n<p>- If the points in a residual plot are <b>randomly spread out around the x-axis</b>, then a <b>linear model is appropriate</b> for the data.\n\nWhy is that? Randomly spread out residuals means that the variance is constant, and thus the linear model is a good fit for this data.</p>\n"
      ]
    },
    {
      "cell_type": "code",
      "id": "486face4-681d-46e9-b5af-2a84dbaddb5e",
      "metadata": {},
      "outputs": [],
      "source": [
        "width = 12\nheight = 10\nplt.figure(figsize=(width, height))\nsns.residplot(x=df['Volume'],y=df['Avg_price'])\nplt.show()"
      ]
    },
    {
      "cell_type": "markdown",
      "id": "907eab30-6644-4a98-9a26-583c41a035f5",
      "metadata": {},
      "outputs": [],
      "source": [
        "<i>What is this plot telling us?</i>\n\n<p>We can see from this residual plot that the residuals are not randomly spread around the x-axis, leading us to believe that maybe a non-linear model is more appropriate for this data.</p>\n"
      ]
    },
    {
      "cell_type": "markdown",
      "id": "c940acdb-4ee9-44d4-b6f0-c34ebeadb999",
      "metadata": {},
      "outputs": [],
      "source": [
        "### Multiple Linear Regression\n"
      ]
    },
    {
      "cell_type": "markdown",
      "id": "a70135e3-3ee0-481b-827a-191d15df628f",
      "metadata": {},
      "outputs": [],
      "source": [
        "<p>How do we visualize a model for Multiple Linear Regression? This gets a bit more complicated because you can't visualize it with regression or residual plot.</p>\n\n<p>One way to look at the fit of the model is by looking at the <b>distribution plot</b>. We can look at the distribution of the fitted values that result from the model and compare it to the distribution of the actual values.</p>\n"
      ]
    },
    {
      "cell_type": "markdown",
      "id": "2292da16-14e8-4941-800a-d5f4cd366b96",
      "metadata": {},
      "outputs": [],
      "source": [
        "First, let's make a prediction:\n"
      ]
    },
    {
      "cell_type": "code",
      "id": "a6e30431-6c80-4b59-a2dd-75f460f34fa5",
      "metadata": {},
      "outputs": [],
      "source": [
        "Y_hat = lm.predict(Z)\n"
      ]
    },
    {
      "cell_type": "code",
      "id": "6d6c02a2-4a30-4905-bb7d-30f10d4c1881",
      "metadata": {},
      "outputs": [],
      "source": [
        "plt.figure(figsize=(width, height))\n\n\nax1 = sns.distplot(df['Avg_price'], hist=False, color=\"r\", label=\"Actual Value\")\nsns.distplot(Y_hat, hist=False, color=\"b\", label=\"Fitted Values\" , ax=ax1)\n\n\nplt.title('Actual vs Fitted Values for Avg_price')\nplt.legend(\"upper right\")\nplt.xlabel('avg_price_MATIC (in BUSD)')\nplt.ylabel('Proportion of MATIC')\n\nplt.show()\nplt.close()"
      ]
    },
    {
      "cell_type": "markdown",
      "id": "f41450be-e000-4198-85f5-4f27dcf7a301",
      "metadata": {},
      "outputs": [],
      "source": [
        "<p>We can see that the fitted values are not close to the actual values since the two distributions overlap a lot. However, there is definitely some room for improvement.</p>\n"
      ]
    },
    {
      "cell_type": "markdown",
      "id": "d7c1503a-55c0-474e-a39b-e475c93a2e60",
      "metadata": {},
      "outputs": [],
      "source": [
        "## 3. Polynomial Regression and Pipelines\n"
      ]
    },
    {
      "cell_type": "markdown",
      "id": "52fda21c-e754-4dab-a06b-2d6a46b1e055",
      "metadata": {},
      "outputs": [],
      "source": [
        "<p><b>Polynomial regression</b> is a particular case of the general linear regression model or multiple linear regression models.</p> \n<p>We get non-linear relationships by squaring or setting higher-order terms of the predictor variables.</p>\n\n<p>There are different orders of polynomial regression:</p>\n"
      ]
    },
    {
      "cell_type": "markdown",
      "id": "829f9b77-c7a1-4616-9a06-c7ad503692bc",
      "metadata": {},
      "outputs": [],
      "source": [
        "<center><b>Quadratic - 2nd Order</b></center>\n$$\nYhat = a + b_1 X +b_2 X^2 \n$$\n\n<center><b>Cubic - 3rd Order</b></center>\n$$\nYhat = a + b_1 X +b_2 X^2 +b_3 X^3\\\\\\\\\\\\\\\\\\\\\n$$\n\n<center><b>Higher-Order</b>:</center>\n$$\nY = a + b_1 X +b_2 X^2 +b_3 X^3 ....\\\\\\\\\n$$\n"
      ]
    },
    {
      "cell_type": "markdown",
      "id": "e80cd23d-622f-4545-8728-b888c3a47098",
      "metadata": {},
      "outputs": [],
      "source": [
        "<p>We saw earlier that a linear model did not provide the best fit while using \"TRANGE\" as the predictor variable. Let's see if we can try fitting a polynomial model to the data instead.</p>\n"
      ]
    },
    {
      "cell_type": "markdown",
      "id": "c004fe46-484f-4c9f-8c54-8a09dfa10ff2",
      "metadata": {},
      "outputs": [],
      "source": [
        "<p>We will use the following function to plot the data:</p>\n"
      ]
    },
    {
      "cell_type": "code",
      "id": "01766d0b-b785-4f8f-96c6-3ae392eb0fa3",
      "metadata": {},
      "outputs": [],
      "source": [
        "def PlotPolly(model, independent_variable, dependent_variabble, Name):\n    x_new = np.linspace(0, independent_variable.max(), 1000)\n    y_new = model(x_new)\n\n    plt.plot(independent_variable, dependent_variabble, '.', x_new, y_new, '-')\n    plt.title('Polynomial Fit with Matplotlib for Avg_price ~ NATR')\n    ax = plt.gca()\n    ax.set_facecolor((0.898, 0.898, 0.898))\n    fig = plt.gcf()\n    plt.xlabel(Name)\n    plt.ylabel('Avg_price')\n\n    plt.show()\n    plt.close()"
      ]
    },
    {
      "cell_type": "markdown",
      "id": "addc1e10-3a8b-4f8a-97de-78e7cd65b142",
      "metadata": {},
      "outputs": [],
      "source": [
        "Let's get the variables:\n"
      ]
    },
    {
      "cell_type": "code",
      "id": "f93cad39-00d3-4323-85b8-b18ebf2121ed",
      "metadata": {},
      "outputs": [],
      "source": [
        "x = df['NATR']\ny = df['Avg_price']"
      ]
    },
    {
      "cell_type": "markdown",
      "id": "8d5cee56-1a53-444f-af3d-9cf0a02e2821",
      "metadata": {},
      "outputs": [],
      "source": [
        "Let's fit the polynomial using the function <b>polyfit</b>, then use the function <b>poly1d</b> to display the polynomial function.\n"
      ]
    },
    {
      "cell_type": "code",
      "id": "d7be3aff-3bf5-43ca-9d56-a14136fe44aa",
      "metadata": {},
      "outputs": [],
      "source": [
        "# Here we use a polynomial of the 3rd order (cubic)\nf = np.polyfit(x, y, 3)\np = np.poly1d(f)\n\nfor i in p:\n    print(round(i, 3))"
      ]
    },
    {
      "cell_type": "code",
      "id": "44fc4bbc-9180-496e-8dbe-250850bdf37e",
      "metadata": {},
      "outputs": [],
      "source": [
        "pd.Series([p[3], p[2], p[1], p[0]], index=[\"Cubic\",\"Quadratic\",\"Linear\",\"0\"], name='Coefs').to_frame()"
      ]
    },
    {
      "cell_type": "markdown",
      "id": "943ab017-44dd-4d9c-a386-63414cc364b1",
      "metadata": {},
      "outputs": [],
      "source": [
        "Let's plot the function:\n"
      ]
    },
    {
      "cell_type": "code",
      "id": "453e30c3-c2e7-49e0-b886-063943eed78b",
      "metadata": {},
      "outputs": [],
      "source": [
        "PlotPolly(p, x, y, 'NATR')"
      ]
    },
    {
      "cell_type": "markdown",
      "id": "79cedaaa-14d7-4317-a891-2261f28ce23a",
      "metadata": {},
      "outputs": [],
      "source": [
        "<p>We can already see from plotting that this polynomial model performs better than the linear model. This is because the generated polynomial function  \"hits\" more of the data points.</p>\n"
      ]
    },
    {
      "cell_type": "markdown",
      "id": "a0b165e8-116e-4648-bb62-31128c4bbd1c",
      "metadata": {},
      "outputs": [],
      "source": [
        "<div class=\"alert alert-danger alertdanger\" style=\"margin-top: 20px\">\n<h1>Question  #4:</h1>\n<b>Create 11 order polynomial model with the variables x and y from above.</b>\n</div>\n"
      ]
    },
    {
      "cell_type": "code",
      "id": "83255702-35aa-46d9-908d-70665bf0493a",
      "metadata": {},
      "outputs": [],
      "source": [
        "# Write your code below and press Shift+Enter to execute \n"
      ]
    },
    {
      "cell_type": "markdown",
      "id": "26e2456b-03de-4aff-9287-0a6a7ef18fa6",
      "metadata": {},
      "outputs": [],
      "source": [
        "<details><summary>Click here for the solution</summary>\n\n```python\n# Here we use a polynomial of the 11rd order (cubic) \nf1 = np.polyfit(x, y, 11)\np1 = np.poly1d(f1)\nprint(p1)\nPlotPolly(p1,x,y, 'NATR')\n\n```\n\n</details>\n"
      ]
    },
    {
      "cell_type": "markdown",
      "id": "1f888122-b49a-405e-ae72-cb35bda80ec7",
      "metadata": {},
      "outputs": [],
      "source": [
        "<p>The analytical expression for Multivariate Polynomial function gets complicated. For example, the expression for a second-order (degree=2) polynomial with two variables is given by:</p>\n"
      ]
    },
    {
      "cell_type": "markdown",
      "id": "e907c1a8-f86d-4e04-b11f-4370f008f106",
      "metadata": {},
      "outputs": [],
      "source": [
        "$$\nYhat = a + b_1 X_1 +b_2 X_2 +b_3 X_1 X_2+b_4 X_1^2+b_5 X_2^2\n$$\n"
      ]
    },
    {
      "cell_type": "markdown",
      "id": "9f4f9e59-a8b8-4aa0-920a-0012126cdcc6",
      "metadata": {},
      "outputs": [],
      "source": [
        "We can perform a polynomial transform on multiple features.\n"
      ]
    },
    {
      "cell_type": "markdown",
      "id": "11c9b843-5a3f-407a-822b-27a514896d01",
      "metadata": {},
      "outputs": [],
      "source": [
        "We create a <b>PolynomialFeatures</b> object of degree 2:\n"
      ]
    },
    {
      "cell_type": "code",
      "id": "872f2a7c-8895-4313-8659-564da9cff591",
      "metadata": {},
      "outputs": [],
      "source": [
        "pr=PolynomialFeatures(degree=2)\npr"
      ]
    },
    {
      "cell_type": "code",
      "id": "9d6afe5f-136b-4c8c-bf3f-c364636beba2",
      "metadata": {},
      "outputs": [],
      "source": [
        "Z_pr=pr.fit_transform(Z)"
      ]
    },
    {
      "cell_type": "markdown",
      "id": "82a942c7-599d-4e2d-a239-779fb13b076e",
      "metadata": {},
      "outputs": [],
      "source": [
        "In the original data, there are 50881 samples and 2 features.\n"
      ]
    },
    {
      "cell_type": "code",
      "id": "ddac4e6b-bf02-4dbc-a99e-5f2e58f34085",
      "metadata": {},
      "outputs": [],
      "source": [
        "Z.shape"
      ]
    },
    {
      "cell_type": "markdown",
      "id": "19202abc-aa55-4970-8f7e-66c9f8d1e6d3",
      "metadata": {},
      "outputs": [],
      "source": [
        "After the transformation, there are 50881 samples and 6 features.\n"
      ]
    },
    {
      "cell_type": "code",
      "id": "b54cfe1d-6d57-420b-9a81-5d1286e3af09",
      "metadata": {},
      "outputs": [],
      "source": [
        "Z_pr.shape"
      ]
    },
    {
      "cell_type": "markdown",
      "id": "19f5879b-6928-4efb-917c-4e711e324643",
      "metadata": {},
      "outputs": [],
      "source": [
        "## Pipeline\n"
      ]
    },
    {
      "cell_type": "markdown",
      "id": "5baaf428-ac39-489a-8a3d-125ca54f7985",
      "metadata": {},
      "outputs": [],
      "source": [
        "<p>Data Pipelines simplify the steps of processing the data. We use the module <b>Pipeline</b> to create a pipeline. We also use <b>StandardScaler</b> as a step in our pipeline.</p>\n"
      ]
    },
    {
      "cell_type": "markdown",
      "id": "1d1d8d2a-f21e-4381-af09-0e52d4ad474b",
      "metadata": {},
      "outputs": [],
      "source": [
        "We create the pipeline by creating a list of tuples including the name of the model or estimator and its corresponding constructor.\n"
      ]
    },
    {
      "cell_type": "code",
      "id": "1f06e312-69b8-4347-a097-81809639f2e0",
      "metadata": {},
      "outputs": [],
      "source": [
        "Input=[('scale',StandardScaler()), ('polynomial', PolynomialFeatures(include_bias=False)), ('model',LinearRegression())]"
      ]
    },
    {
      "cell_type": "markdown",
      "id": "cdee0e01-c0cb-4e56-8c22-4968af4726fb",
      "metadata": {},
      "outputs": [],
      "source": [
        "We input the list as an argument to the pipeline constructor:\n"
      ]
    },
    {
      "cell_type": "code",
      "id": "6a19cb62-11d1-4b11-83a4-092e43181e33",
      "metadata": {},
      "outputs": [],
      "source": [
        "pipe=Pipeline(Input)\npipe"
      ]
    },
    {
      "cell_type": "markdown",
      "id": "cfea5cee-f047-454b-9f61-36f76469e4e2",
      "metadata": {},
      "outputs": [],
      "source": [
        "First, we convert the data type Z to type float to avoid conversion warnings that may appear as a result of StandardScaler taking float inputs.\n\nThen, we can normalize the data,  perform a transform and fit the model simultaneously.\n"
      ]
    },
    {
      "cell_type": "code",
      "id": "8e2c7815-3038-4b37-8517-1da7e38b34cf",
      "metadata": {},
      "outputs": [],
      "source": [
        "Z = Z.astype(float)\npipe.fit(Z,y)"
      ]
    },
    {
      "cell_type": "markdown",
      "id": "fbe6eafa-ec5f-4317-af2f-00d4276a80d8",
      "metadata": {},
      "outputs": [],
      "source": [
        "Similarly,  we can normalize the data, perform a transform and produce a prediction  simultaneously.\n"
      ]
    },
    {
      "cell_type": "code",
      "id": "355d4c37-e3ae-4278-bf01-d02b3a4509c1",
      "metadata": {},
      "outputs": [],
      "source": [
        "ypipe=pipe.predict(Z)\nfor i in range(5):\n    print(round(ypipe[i], 3))"
      ]
    },
    {
      "cell_type": "code",
      "id": "8fc2a7c8-eb12-4663-83c8-879626d5dc13",
      "metadata": {},
      "outputs": [],
      "source": [
        "pd.Series(ypipe[:5], name = \"Predicted\").to_frame()"
      ]
    },
    {
      "cell_type": "markdown",
      "id": "8ce0fdcf-0de1-4620-bcb9-38d7e2c9b251",
      "metadata": {},
      "outputs": [],
      "source": [
        "<div class=\"alert alert-danger alertdanger\" style=\"margin-top: 20px\">\n<h1>Question #5:</h1>\n<b>Create a pipeline that standardizes the data, then produce a prediction using a linear regression model using the features Z and target y.</b>\n</div>\n"
      ]
    },
    {
      "cell_type": "code",
      "id": "4efce10d-4ce7-4287-9303-4186089f93a8",
      "metadata": {},
      "outputs": [],
      "source": [
        "# Write your code below and press Shift+Enter to execute \n"
      ]
    },
    {
      "cell_type": "markdown",
      "id": "8f54d374-50f3-495d-87be-6e20f8135b6f",
      "metadata": {},
      "outputs": [],
      "source": [
        "<details><summary>Click here for the solution</summary>\n\n```python\nInput=[('scale',StandardScaler()),('model',LinearRegression())]\n\npipe=Pipeline(Input)\n\npipe.fit(Z,y)\n\nypipe=pipe.predict(Z)\nypipe[0:10]\n\n```\n\n</details>\n"
      ]
    },
    {
      "cell_type": "markdown",
      "id": "105accf8-59b6-4f32-9b7e-c3d5f8c629ba",
      "metadata": {},
      "outputs": [],
      "source": [
        "## 4. Measures for In-Sample Evaluation\n"
      ]
    },
    {
      "cell_type": "markdown",
      "id": "4c664821-feea-485a-934c-7c8ccef7ab01",
      "metadata": {},
      "outputs": [],
      "source": [
        "<p>When evaluating our models, not only do we want to visualize the results, but we also want a quantitative measure to determine how accurate the model is.</p>\n\n<p>Two very important measures that are often used in Statistics to determine the accuracy of a model are:</p>\n<ul>\n    <li><b>R^2 / R-squared</b></li>\n    <li><b>Mean Squared Error (MSE)</b></li>\n</ul>\n\n<b>R-squared</b>\n\n<p>R squared, also known as the coefficient of determination, is a measure to indicate how close the data is to the fitted regression line.</p>\n\n<p>The value of the R-squared is the percentage of variation of the response variable (y) that is explained by a linear model.</p>\n\n<b>Mean Squared Error (MSE)</b>\n\n<p>The Mean Squared Error measures the average of the squares of errors. That is, the difference between actual value (y) and the estimated value (ŷ).</p>\n"
      ]
    },
    {
      "cell_type": "markdown",
      "id": "25f558dc-0a6c-4dde-b0a8-32307bccc4e9",
      "metadata": {},
      "outputs": [],
      "source": [
        "### Model 1: Simple Linear Regression\n"
      ]
    },
    {
      "cell_type": "markdown",
      "id": "b1dd09c3-dff2-471e-afe7-0240ceec87d0",
      "metadata": {},
      "outputs": [],
      "source": [
        "Let's calculate the R^2:\n"
      ]
    },
    {
      "cell_type": "code",
      "id": "d26b6333-307d-436b-ac35-d6d4fe4c47e8",
      "metadata": {},
      "outputs": [],
      "source": [
        "lm.fit(X, Y)\n# Find the R^2\nprint('The R-square is: ', \"{:.3f}\".format(lm.score(X, Y)))"
      ]
    },
    {
      "cell_type": "markdown",
      "id": "1cff9967-5be3-483f-b34b-667fc91e79eb",
      "metadata": {},
      "outputs": [],
      "source": [
        "We can say that \\~0% of the variation of the price is explained by this simple linear model \"Volume-Avg_price\".\n"
      ]
    },
    {
      "cell_type": "markdown",
      "id": "841ae709-8a23-4dec-babb-1a32fda9fe33",
      "metadata": {},
      "outputs": [],
      "source": [
        "Let's calculate the MSE:\n"
      ]
    },
    {
      "cell_type": "markdown",
      "id": "7b1a0a79-c1e3-407a-8b9e-b5f794cc2ff7",
      "metadata": {},
      "outputs": [],
      "source": [
        "We can predict the output i.e., \"yhat\" using the predict method, where X is the input variable:\n"
      ]
    },
    {
      "cell_type": "code",
      "id": "72f28baa-84a6-4b2e-bc2d-def8fc4f8d07",
      "metadata": {},
      "outputs": [],
      "source": [
        "Yhat=lm.predict(X)\nprint('The output of the first four predicted value is: ', Yhat[0:4])"
      ]
    },
    {
      "cell_type": "markdown",
      "id": "114ce2ea-2e5e-469e-a638-a0bd92d64dd0",
      "metadata": {},
      "outputs": [],
      "source": [
        "Let's import the function <b>mean_squared_error</b> from the module <b>metrics</b>:\n"
      ]
    },
    {
      "cell_type": "markdown",
      "id": "603c16b7-5e99-4e41-8eb6-e8b4d7c76603",
      "metadata": {},
      "outputs": [],
      "source": [
        "We can compare the predicted results with the actual results:\n"
      ]
    },
    {
      "cell_type": "code",
      "id": "e350e02f-5e10-4cdd-9297-3ba71b54d665",
      "metadata": {},
      "outputs": [],
      "source": [
        "mse = mean_squared_error(df['Avg_price'], Yhat)\nprint('The mean square error of price and predicted value is: ', mse)"
      ]
    },
    {
      "cell_type": "markdown",
      "id": "2f1ba809-42e0-4e5c-b45f-16b30453365e",
      "metadata": {},
      "outputs": [],
      "source": [
        "### Model 2: Multiple Linear Regression\n"
      ]
    },
    {
      "cell_type": "markdown",
      "id": "dcb5ffe9-3c07-489e-ba53-98b4c00c61aa",
      "metadata": {},
      "outputs": [],
      "source": [
        "Let's calculate the R^2:\n"
      ]
    },
    {
      "cell_type": "code",
      "id": "40f39493-7654-4afa-911f-4dad590f00b9",
      "metadata": {},
      "outputs": [],
      "source": [
        "# fit the model \nlm.fit(Z, df['Avg_price'])\n# Find the R^2\nprint('The R-square is: ',\"{:.3f}\".format(lm.score(Z, df['Avg_price'])))"
      ]
    },
    {
      "cell_type": "markdown",
      "id": "2e7a11b7-4671-4abd-9b06-54019cd0ba5b",
      "metadata": {},
      "outputs": [],
      "source": [
        "We can say that \\~0.013% of the variation of price is explained by this multiple linear regression \"multi_fit\".\n"
      ]
    },
    {
      "cell_type": "markdown",
      "id": "4473970a-8c13-409b-9c50-bf5420f757a2",
      "metadata": {},
      "outputs": [],
      "source": [
        "Let's calculate the MSE.\n"
      ]
    },
    {
      "cell_type": "markdown",
      "id": "7daa037a-da7b-4813-a157-0c94c82a067f",
      "metadata": {},
      "outputs": [],
      "source": [
        "We produce a prediction:\n"
      ]
    },
    {
      "cell_type": "code",
      "id": "f5f82e4b-aa39-4e1d-843a-b48a81af59b6",
      "metadata": {},
      "outputs": [],
      "source": [
        "Y_predict_multifit = lm.predict(Z)"
      ]
    },
    {
      "cell_type": "markdown",
      "id": "0173410f-37e9-4661-8e63-5180ffdaa06a",
      "metadata": {},
      "outputs": [],
      "source": [
        "We compare the predicted results with the actual results:\n"
      ]
    },
    {
      "cell_type": "code",
      "id": "29bfe25c-7ac6-4297-b2b7-243167d2ef39",
      "metadata": {},
      "outputs": [],
      "source": [
        "print('The mean square error of Avg_price and predicted value using multifit is: ', \\\n      mean_squared_error(df['Avg_price'], Y_predict_multifit))"
      ]
    },
    {
      "cell_type": "markdown",
      "id": "80c22d9d-e1b3-475c-ae0f-5716b6c6663c",
      "metadata": {},
      "outputs": [],
      "source": [
        "### Model 3: Polynomial Fit\n"
      ]
    },
    {
      "cell_type": "markdown",
      "id": "3488cd7f-4cdd-476b-899a-b6b7de329b31",
      "metadata": {},
      "outputs": [],
      "source": [
        "Let's calculate the R^2.\n"
      ]
    },
    {
      "cell_type": "markdown",
      "id": "c028330f-4cf5-48ab-a795-820d2ee5c6e1",
      "metadata": {},
      "outputs": [],
      "source": [
        "We apply the function to get the value of R^2:\n"
      ]
    },
    {
      "cell_type": "code",
      "id": "843c1837-e72f-4796-a322-e4a9dfb1884e",
      "metadata": {},
      "outputs": [],
      "source": [
        "r_squared = r2_score(y, p(x))\nprint('The R-square value is: ', \"{:.3f}\".format(r_squared))"
      ]
    },
    {
      "cell_type": "markdown",
      "id": "3dbdcac5-7b76-4986-aa1f-80a2bc0e452a",
      "metadata": {},
      "outputs": [],
      "source": [
        "We can say that \\~0.029 % of the variation of price is explained by this polynomial fit.\n"
      ]
    },
    {
      "cell_type": "markdown",
      "id": "2359d43a-f482-4725-ad52-454ba9d69e78",
      "metadata": {},
      "outputs": [],
      "source": [
        "### MSE\n"
      ]
    },
    {
      "cell_type": "markdown",
      "id": "aae7ff8a-f018-4485-88d0-e0004b6d1513",
      "metadata": {},
      "outputs": [],
      "source": [
        "We can also calculate the MSE:\n"
      ]
    },
    {
      "cell_type": "code",
      "id": "2e0a34bb-53fe-4863-bacc-6e7426aa2970",
      "metadata": {},
      "outputs": [],
      "source": [
        "mean_squared_error(df['Avg_price'], p(x))"
      ]
    },
    {
      "cell_type": "markdown",
      "id": "58f55d52-c868-4fc1-9553-86f8476fa5fc",
      "metadata": {},
      "outputs": [],
      "source": [
        "## 5. Prediction and Decision Making\n### Prediction\n\n<p>In the previous section, we trained the model using the method <b>fit</b>. Now we will use the method <b>predict</b> to produce a prediction. Lets import <b>pyplot</b> for plotting; we will also be using some functions from numpy.</p>\n"
      ]
    },
    {
      "cell_type": "markdown",
      "id": "284ae531-2754-405e-8a84-6fdced66b4a3",
      "metadata": {},
      "outputs": [],
      "source": [
        "Create a new input:\n"
      ]
    },
    {
      "cell_type": "code",
      "id": "efcb8435-c227-42ce-a1e4-99677b6fd6a6",
      "metadata": {},
      "outputs": [],
      "source": [
        "new_input=np.arange(1, 100, 1).reshape(-1, 1)"
      ]
    },
    {
      "cell_type": "markdown",
      "id": "4feb1f52-50a2-48ed-8c8a-8e251263bdc4",
      "metadata": {},
      "outputs": [],
      "source": [
        "Fit the model:\n"
      ]
    },
    {
      "cell_type": "code",
      "id": "72746dfd-3f4d-4e71-9838-e7645470621c",
      "metadata": {},
      "outputs": [],
      "source": [
        "lm.fit(X, Y)\nlm"
      ]
    },
    {
      "cell_type": "markdown",
      "id": "106b2f51-ad10-4022-8271-0b8e17a1bd4d",
      "metadata": {},
      "outputs": [],
      "source": [
        "Produce a prediction:\n"
      ]
    },
    {
      "cell_type": "code",
      "id": "a0b07897-2171-4334-b2a4-b550d321924e",
      "metadata": {},
      "outputs": [],
      "source": [
        "yhat=lm.predict(new_input)\npd.Series(yhat[:5], name='Predicted').to_frame()"
      ]
    },
    {
      "cell_type": "markdown",
      "id": "ac0dd95d-de6c-4f9a-ab08-778952b9ee06",
      "metadata": {},
      "outputs": [],
      "source": [
        "Lets count F-value and P-value for our real and predicted Avg_price"
      ]
    },
    {
      "cell_type": "code",
      "id": "7e617974-fe6d-4c24-bfac-1527f3af911d",
      "metadata": {},
      "outputs": [],
      "source": [
        "f_val, p_val = stats.f_oneway(df['Avg_price'], yhat)  \nprint( \"ANOVA results: F=\", \"{:.3f}\".format(f_val), \", P =\", \"{:.3f}\".format(p_val)  ) "
      ]
    },
    {
      "cell_type": "markdown",
      "id": "e98bf3af-9091-4cf3-a8ea-2ba91e00f501",
      "metadata": {},
      "outputs": [],
      "source": [
        "That means that there is a 92.5% chance that the observed data could have occurred by random chance alone, assuming that the null hypothesis is true."
      ]
    },
    {
      "cell_type": "markdown",
      "id": "8e891e2e-a0d8-477d-8a4a-e0ba8721c531",
      "metadata": {},
      "outputs": [],
      "source": [
        "### Decision Making: Determining a Good Model Fit\n"
      ]
    },
    {
      "cell_type": "markdown",
      "id": "8b44890c-b1a0-46a2-94fa-8169c97e8431",
      "metadata": {},
      "outputs": [],
      "source": [
        "<p>Now that we have visualized the different models, and generated the R-squared and MSE values for the fits, how do we determine a good model fit?\n<ul>\n    <li><i>What is a good R-squared value?</i></li>\n</ul>\n</p>\n\n<p>When comparing models, <b>the model with the higher R-squared value is a better fit</b> for the data.\n<ul>\n    <li><i>What is a good MSE?</i></li>\n</ul>\n</p>\n\n<p>When comparing models, <b>the model with the smallest MSE value is a better fit</b> for the data.</p>\n\n#### Let's take a look at the values for the different models.\n<p>Simple Linear Regression: Using Volume as a Predictor Variable of Avg_price.\n<ul>\n    <li>R-squared: 0</li>\n    <li>MSE: 0.001</li>\n</ul>\n</p>\n\n<p>Multiple Linear Regression: Using NATR and TRANGE as Predictor Variables of Avg_price.\n<ul>\n    <li>R-squared: 0.013</li>\n    <li>MSE: 0.001</li>\n</ul>\n</p>\n\n<p>Polynomial Fit: Using NATR as a Predictor Variable of Avg_price.\n<ul>\n    <li>R-squared: 0.029</li>\n    <li>MSE: 0.001</li>\n</ul>\n</p>\n"
      ]
    },
    {
      "cell_type": "markdown",
      "id": "dba653df-6844-481c-a9e1-7d70ce860308",
      "metadata": {},
      "outputs": [],
      "source": [
        "### Simple Linear Regression Model (SLR) vs Multiple Linear Regression Model (MLR)\n"
      ]
    },
    {
      "cell_type": "markdown",
      "id": "606daa72-2680-47ff-8238-f72dc0689654",
      "metadata": {},
      "outputs": [],
      "source": [
        "<p>Usually, the more variables you have, the better your model is at predicting, but this is not always true. Sometimes you may not have enough data, you may run into numerical problems, or many of the variables may not be useful and even act as noise. As a result, you should always check the MSE and R^2.</p>\n\n<p>In order to compare the results of the MLR vs SLR models, we look at a combination of both the R-squared and MSE to make the best conclusion about the fit of the model.\n<ul>\n    <li><b>MSE</b>: The MSE of SLR is  0.001 and MLR has the same MSE.</li>\n    <li><b>R-squared</b>: In this case, we can also see that there is a big difference between the R-squared of the SLR and the R-squared of the MLR. The R-squared for the SLR (~0) is very small compared to the R-squared for the MLR (~0.013).</li>\n</ul>\n</p>\n\nThis R-squared in combination with the MSE show that MLR seems like the better model fit in this case compared to SLR.\n"
      ]
    },
    {
      "cell_type": "markdown",
      "id": "da0737dc-aa8d-4e63-aa57-4492caf3c972",
      "metadata": {},
      "outputs": [],
      "source": [
        "### Simple Linear Model (SLR) vs. Polynomial Fit\n"
      ]
    },
    {
      "cell_type": "markdown",
      "id": "d7ec3122-90a8-4b80-83ce-18918a1ab4ff",
      "metadata": {},
      "outputs": [],
      "source": [
        "<ul>\n    <li><b>MSE</b>: We can see that Polynomial Fit brought down the MSE, since this MSE is same that the one from the SLR.</li> \n    <li><b>R-squared</b>: The R-squared for the Polynomial Fit is larger than the R-squared for the SLR, so the Polynomial Fit also brought up the R-squared quite a bit.</li>\n</ul>\n<p>Since the Polynomial Fit resulted in a lower MSE and a higher R-squared, we can conclude that this was a better fit model than the simple linear regression for predicting \"Avg_price\".</p>\n"
      ]
    },
    {
      "cell_type": "markdown",
      "id": "413cfa7f-aa74-4e03-8fc3-e25eac004d3a",
      "metadata": {},
      "outputs": [],
      "source": [
        "### Multiple Linear Regression (MLR) vs. Polynomial Fit\n"
      ]
    },
    {
      "cell_type": "markdown",
      "id": "baa9711f-6b83-4675-aca1-31777dfee50c",
      "metadata": {},
      "outputs": [],
      "source": [
        "<ul>\n    <li><b>MSE</b>: The MSE for the MLR is smaller than the MSE for the Polynomial Fit.</li>\n    <li><b>R-squared</b>: The R-squared for the MLR is also much larger than for the Polynomial Fit.</li>\n</ul>\n"
      ]
    },
    {
      "cell_type": "markdown",
      "id": "f6e5257e-74e2-4b6e-8894-4581bda65973",
      "metadata": {},
      "outputs": [],
      "source": [
        "## Conclusion\n"
      ]
    },
    {
      "cell_type": "markdown",
      "id": "33d1c587-ea26-4b65-b517-5ad256df52a9",
      "metadata": {},
      "outputs": [],
      "source": [
        "<p>Comparing these three models, we conclude that <b>the MLR model is the best model</b> to be able to predict Avg_price from our dataset? but all results is close to each other. This result makes sense since we have 4 variables in total and we know that some of those variables are potential predictors of the Avg_price.</p>\n"
      ]
    },
    {
      "cell_type": "markdown",
      "id": "b378a565-1dfb-44c2-8e78-31290aac3760",
      "metadata": {},
      "outputs": [],
      "source": [
        "# **Thank you for completing Lab 4!**\n\n## Authors\n\n<a href=\"https://author.skills.network/instructors/oleh_lozovyi?utm_medium=Exinfluencer&utm_source=Exinfluencer&utm_content=000026UJ&utm_term=10006555&utm_id=NA-SkillsNetwork-Channel-SkillsNetworkGuidedProjectsIBMSkillsNetworkGPXX0QGDEN2306-2023-01-01\">Oleh Lozovyi</a>\n\n<a href=\"https://author.skills.network/instructors/yaroslav_vyklyuk_2?utm_medium=Exinfluencer&utm_source=Exinfluencer&utm_content=000026UJ&utm_term=10006555&utm_id=NA-SkillsNetwork-Channel-SkillsNetworkGuidedProjectsIBMSkillsNetworkGPXX0QGDEN2306-2023-01-01\">Prof. Yaroslav Vyklyuk, DrSc, PhD</a>\n\n<a href=\"https://author.skills.network/instructors/mariya_fleychuk?utm_medium=Exinfluencer&utm_source=Exinfluencer&utm_content=000026UJ&utm_term=10006555&utm_id=NA-SkillsNetwork-Channel-SkillsNetworkGuidedProjectsIBMSkillsNetworkGPXX0QGDEN2306-2023-01-01\">Prof. Mariya Fleychuk, DrSc, PhD</a>\n\n<a href=\"https://www.linkedin.com/in/joseph-s-50398b136/?utm_medium=Exinfluencer&utm_source=Exinfluencer&utm_content=000026UJ&utm_term=10006555&utm_id=NA-SkillsNetwork-Channel-SkillsNetworkCoursesIBMDeveloperSkillsNetworkDA0101ENSkillsNetwork20235326-2021-01-01\">Joseph Santarcangelo</a>\n\n\n<a href=\"https://www.linkedin.com/in/fiorellawever/?utm_medium=Exinfluencer&utm_source=Exinfluencer&utm_content=000026UJ&utm_term=10006555&utm_id=NA-SkillsNetwork-Channel-SkillsNetworkCoursesIBMDeveloperSkillsNetworkDA0101ENSkillsNetwork20235326-2021-01-01\">Fiorella Wenver</a>\n\n<a href=\"https:// https://www.linkedin.com/in/yi-leng-yao-84451275/ \" target=\"_blank\" >Yi Yao</a>\n\n\n## Change Log\n\n| Date (YYYY-MM-DD) | Version | Changed By   | Change Description                                         |\n| ----------------- | ------- | -------------| ---------------------------------------------------------- |\n|     2023-03-22    |   1.0   | Oleh Lozovyi | Lab created                                                |\n\n<hr>\n\n## <h3 align=\"center\"> © IBM Corporation 2023. All rights reserved. <h3/>\n\n\n\n"
      ]
    },
    {
      "cell_type": "code",
      "id": "fa3938f7-ac7c-4ae7-9bc2-24c09838cf55",
      "metadata": {},
      "outputs": [],
      "source": [
        ""
      ]
    }
  ],
  "metadata": {
    "language_info": {
      "name": ""
    },
    "kernelspec": {
      "name": "",
      "display_name": ""
    }
  },
  "nbformat": 4,
  "nbformat_minor": 4
}
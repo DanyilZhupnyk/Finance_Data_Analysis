{
  "cells": [
    {
      "cell_type": "markdown",
      "id": "884e9e1b-5324-4843-8d61-1927f229c36f",
      "metadata": {},
      "outputs": [],
      "source": [
        "<center>\n    <img src=\"https://cf-courses-data.s3.us.cloud-object-storage.appdomain.cloud/IBMSkillsNetwork-GPXX09DGEN/SN_web_lightmode.png?1676849283261\" width=\"300\" alt=\"cognitiveclass.ai logo\">\n</center>\n\n# *Investigation of BTC/BUSD cryptocurrency using ADOSC, NATR, TRANGE indicators, and other cryptocurrencies.*\n\n\n## Lab 1. Dataset creation\n\nEstimated time needed: **30** minutes\n\n<div class=\"alert alert-danger alertdanger\">\nТут має дописати Марія\n</div>\n\n\n## Objectives\n\nAfter completing this lab you will be able to:\n\n*   Acquire data in various ways\n*   Obtain insights from data with Pandas library\n"
      ]
    },
    {
      "cell_type": "markdown",
      "id": "be84f56c-9c33-42f4-9318-1f53f4da9e50",
      "metadata": {},
      "outputs": [],
      "source": [
        "<h2>Table of Contents</h2>\n\n<div class=\"alert alert-block alert-info\" style=\"margin-top: 20px\">\n<ol>\n    <li><a href=\"https://#data_acquisition\">Data Acquisition</a>\n    <li><a href=\"https://#indicators_calc\">Indicators calculation(ADOSC, NATR, TRANGE)</a>\n    <li><a href=\"https://#basic_insight\">Basic Insight of Dataset</a></li>\n</ol>\n\n</div>\n<hr>\n"
      ]
    },
    {
      "cell_type": "markdown",
      "id": "0a0fd019-00b8-4c25-9b4d-18f48551fd21",
      "metadata": {},
      "outputs": [],
      "source": [
        "<h1 id=\"data_acquisition\">Data Acquisition</h1>\n<p>\nThere are various formats for a dataset: .csv, .json, .xlsx  etc. The dataset can be stored in different places, on your local machine or sometimes online.<br>\n\nIn this section, you will learn how to load a dataset into our Jupyter Notebook.<br>\n\nIn our case, the Finance Dataset is an online source, and it is in a CSV (comma separated value) format. Let's use this dataset as an example to practice data reading.\n\n<ul>\n    <li>Data source: <a href=\"https://cf-courses-data.s3.us.cloud-object-storage.appdomain.cloud/IND-GPXX0HOEEN/ADABUSD_trades_1m.csv\" target=\"_blank\">https://cf-courses-data.s3.us.cloud-object-storage.appdomain.cloud/IND-GPXX0HOEEN/ADABUSD_trades_1m.csv</a></li>\n    <li>Data type: csv</li>\n</ul>\nThe Pandas Library is a useful tool that enables us to read various datasets into a dataframe; our Jupyter notebook platforms have a built-in <b>Pandas Library</b> so that all we need to do is import Pandas without installing.\n</p>\n"
      ]
    },
    {
      "cell_type": "code",
      "id": "07f90967-6a81-4610-b114-ee0c8e2ff4ea",
      "metadata": {},
      "outputs": [],
      "source": [
        "# import sys\n# !conda install --yes --prefix {sys.prefix} pandas\n# !conda install --yes --prefix {sys.prefix} numpy\n# !conda install --yes --prefix {sys.prefix} matplotlib\n# !conda install --yes --prefix {sys.prefix} scipy\n# !conda install --yes --prefix {sys.prefix} seaborn"
      ]
    },
    {
      "cell_type": "markdown",
      "id": "4d3632f8-3db5-4b1e-8d1b-561a7f333d71",
      "metadata": {},
      "outputs": [],
      "source": [
        "Let's install <code>talib</code>, which has various methods used to calculate indicators."
      ]
    },
    {
      "cell_type": "code",
      "id": "73dfc170-5f82-4652-85d6-3b966c095d64",
      "metadata": {},
      "outputs": [],
      "source": [
        "!pip install talib-binary"
      ]
    },
    {
      "cell_type": "code",
      "id": "d5f657ad-c829-4a72-b532-756866996896",
      "metadata": {},
      "outputs": [],
      "source": [
        "!pip install pandas-ta"
      ]
    },
    {
      "cell_type": "markdown",
      "id": "ae88d8e5-ae79-44fd-b67b-effbe79d7d9e",
      "metadata": {},
      "outputs": [],
      "source": [
        "Execution of the code below may take some time."
      ]
    },
    {
      "cell_type": "markdown",
      "id": "b0b6e7ca-9c5d-459e-9640-464228fa7131",
      "metadata": {},
      "outputs": [],
      "source": [
        "Now, let's import libraries that we are going to use\n"
      ]
    },
    {
      "cell_type": "code",
      "id": "f3df7961-f7f7-4198-a42a-b559dfad5190",
      "metadata": {},
      "outputs": [],
      "source": [
        "# import pandas library\nimport pandas as pd\nimport numpy as np\n# indicators calculation libraries\nimport talib"
      ]
    },
    {
      "cell_type": "markdown",
      "id": "4e9b5c89-887b-4284-8c45-cc111e3c3482",
      "metadata": {},
      "outputs": [],
      "source": [
        "<h2>Read Data</h2>\n<p>\nWe use <code>pandas.read_csv()</code> function to read the csv file. In the brackets, we put the file path along with a quotation mark so that pandas will read the file into a dataframe from that address. The file path can be either an URL or your local file address.<br>\n\nIn our dataset we already have an index column, so let's use <code>index_col=0</code> parameter inside the <code>read_csv()</code> method to use first row from dataset as an index.\n\nYou can also assign the dataset to any variable you create.\n\n</p>\n"
      ]
    },
    {
      "cell_type": "code",
      "id": "1100f0ae-2063-47d0-98c5-6c5bdf3597b1",
      "metadata": {},
      "outputs": [],
      "source": [
        "path = \"https://cf-courses-data.s3.us.cloud-object-storage.appdomain.cloud/IBMSkillsNetwork-GPXX09DGEN/BTCBUSD_trades.csv\""
      ]
    },
    {
      "cell_type": "code",
      "id": "0fa3fbf1-0455-4b99-892b-6bf90c78b86f",
      "metadata": {},
      "outputs": [],
      "source": [
        "# Read the online file by the URL provides above, and assign it to variable \"df\"\n# columns_to_use = ['ts', 'bs', 'price', 'volume']\ndf = pd.read_csv(path, index_col=\"ts\")\n# ranming and droping redundant column\ndf.rename({\"Unnamed: 0\":\"col_to_drop\"}, axis=\"columns\", inplace=True)\ndf.drop([\"col_to_drop\"], axis=1, inplace=True)\n# casting index type to datetime\ndf.index = pd.to_datetime(df.index)"
      ]
    },
    {
      "cell_type": "markdown",
      "id": "31affd9a-a34b-478d-820b-c0b5a10b2d0a",
      "metadata": {},
      "outputs": [],
      "source": [
        "After reading the dataset, we can use the <code>dataframe.head(n)</code> method to check the top n rows of the dataframe, where n is an integer. Contrary to <code>dataframe.head(n)</code>, <code>dataframe.tail(n)</code> will show you the bottom n rows of the dataframe.\n"
      ]
    },
    {
      "cell_type": "code",
      "id": "79ac89ec-1898-4a31-9eed-6c90ba2d4896",
      "metadata": {},
      "outputs": [],
      "source": [
        "# show the first 5 rows using dataframe.head() method\nprint(\"The first 5 rows of the dataframe\")\ndf.head(5)"
      ]
    },
    {
      "cell_type": "markdown",
      "id": "ab7838ff-08b6-4cc4-bfdc-2396a84c3b9f",
      "metadata": {},
      "outputs": [],
      "source": [
        "Let's capitalize names of the columns\n"
      ]
    },
    {
      "cell_type": "code",
      "id": "2c332018-4663-4c0b-b83a-9a6df4214452",
      "metadata": {},
      "outputs": [],
      "source": [
        "current_columns = df.columns\n\ncapitalized_columns = [v.capitalize() for v in current_columns]\ncapitalized_columns"
      ]
    },
    {
      "cell_type": "markdown",
      "id": "bf2655dc-8673-40b1-ad48-48df5ec998d8",
      "metadata": {},
      "outputs": [],
      "source": [
        "And replace old names inside dataframe\n"
      ]
    },
    {
      "cell_type": "code",
      "id": "92ce1fba-3bfc-4ea3-9eda-a810d1e23fe7",
      "metadata": {},
      "outputs": [],
      "source": [
        "df.columns = capitalized_columns\ndf"
      ]
    },
    {
      "cell_type": "markdown",
      "id": "1d9b8c72-dcac-4a30-889e-871af5ec2fa5",
      "metadata": {},
      "outputs": [],
      "source": [
        "<div class=\"alert alert-danger alertdanger\" style=\"margin-top: 20px\">\n<h1> Question #1: </h1>\n<b>Check the bottom 10 rows of data frame \"df\".</b>\n</div>\n"
      ]
    },
    {
      "cell_type": "code",
      "id": "94596461-0e0c-4ade-9f2a-ee38bc1c9569",
      "metadata": {},
      "outputs": [],
      "source": [
        "# Write your code below and press Shift+Enter to execute \n"
      ]
    },
    {
      "cell_type": "markdown",
      "id": "4edd8e85-4e52-43bd-93c4-7a5e36cd344b",
      "metadata": {},
      "outputs": [],
      "source": [
        "<details><summary>Click here for the solution</summary>\n\n```python\nprint(\"The last 10 rows of the dataframe\\n\")\ndf.tail(10)\n```\n"
      ]
    },
    {
      "cell_type": "markdown",
      "id": "17dcda56-40f9-49b3-a09f-d6ad2394f711",
      "metadata": {},
      "outputs": [],
      "source": [
        " <div class=\"alert alert-danger alertdanger\" style=\"margin-top: 20px\">\n<h1> Question #2: </h1>\n<b>Find the name of the columns of the dataframe.</b>\n</div>\n"
      ]
    },
    {
      "cell_type": "code",
      "id": "f82af1c5-bb23-45e7-b2c7-803e2046f9ab",
      "metadata": {},
      "outputs": [],
      "source": [
        "# Write your code below and press Shift+Enter to execute \n"
      ]
    },
    {
      "cell_type": "markdown",
      "id": "1a3534e5-61d4-4fe2-becc-d3d3d87d0ddb",
      "metadata": {},
      "outputs": [],
      "source": [
        "<details><summary>Click here for the solution</summary>\n\n```python\nprint(df.columns)\n```\n\n</details>\n"
      ]
    },
    {
      "cell_type": "markdown",
      "id": "37c6436d-2ed1-4085-8f9e-3a820d44e895",
      "metadata": {},
      "outputs": [],
      "source": [
        "<h1 id=\"indicators_calc\">Indicators calculation(ADOSC, NATR, TRANGE)</h1>"
      ]
    },
    {
      "cell_type": "markdown",
      "id": "61f455e6-9b27-4e4e-8a14-40b78d6c3bd0",
      "metadata": {},
      "outputs": [],
      "source": [
        "These indicators must be calculated on aggregated data; we also need to figure 'open', 'close', 'low', 'high'(ohcl) as they are required for calculation of our indicators. Aggregation can be performed using <code>pandas</code> <code>resample</code> method, while ohlc parameters can be retrieved using <code>ohlc(_method='ohlc')</code>"
      ]
    },
    {
      "cell_type": "code",
      "id": "c7656b9c-8096-441a-a9fc-418e7d968793",
      "metadata": {},
      "outputs": [],
      "source": [
        "resampled_df = df['Price'].resample('1Min').ohlc(_method='ohlc')\nresampled_df.head()"
      ]
    },
    {
      "cell_type": "markdown",
      "id": "c20f9ec1-487e-4648-b398-b41a34a4820e",
      "metadata": {},
      "outputs": [],
      "source": [
        "Now, let's calculate other values."
      ]
    },
    {
      "cell_type": "code",
      "id": "e4e904de-5fe7-4e9c-b751-cbae92dfe0bd",
      "metadata": {},
      "outputs": [],
      "source": [
        "resampled_df['rec_count'] = df['Volume'].resample('1Min').count()\nresampled_df['volume'] = df['Volume'].resample('1Min').sum()\nresampled_df['avg_price'] = df['Price'].resample('1Min').mean()\nresampled_df.head()"
      ]
    },
    {
      "cell_type": "markdown",
      "id": "98990a56-4444-4e0a-9f71-391a1f78cf83",
      "metadata": {},
      "outputs": [],
      "source": [
        "Now that we know how to aggregate data in 1-minute intervals, let's implement a method for different time intervals."
      ]
    },
    {
      "cell_type": "code",
      "id": "cffca4e0-9b5c-4620-83fe-85af4d9e4912",
      "metadata": {},
      "outputs": [],
      "source": [
        "def resample_dataframe(df, period='10Min'):\n  res = df.copy()\n  res = res.resample(period).agg({\n    'open': 'first',\n    'high': 'max',\n    'low': 'min',\n    'close': 'last',\n    'rec_count': 'sum',\n    'volume': 'sum'\n  })\n  return res\n\nresampled_15_min_df = resample_dataframe(resampled_df, period='15Min')\nresampled_15_min_df.head()"
      ]
    },
    {
      "cell_type": "markdown",
      "id": "beb867b1-132e-46e7-9311-ab3671de6668",
      "metadata": {},
      "outputs": [],
      "source": [
        "We are all setup, the only thing left is indicators calculation."
      ]
    },
    {
      "cell_type": "markdown",
      "id": "24f4b9bd-2566-4ee3-8f36-9138ed90a426",
      "metadata": {},
      "outputs": [],
      "source": [
        "<b>The Chaikin Oscillator(ADOSC)</b> is the difference between the 3-day and 10-day EMAs of the Accumulation Distribution Line. Like other momentum indicators, this indicator is designed to anticipate directional changes in the Accumulation Distribution Line by measuring the momentum behind the movements. \n\nBelow you can see the <b>formulas for Chaikin Oscillator</b>:\n\n$1.Money Flow Multiplier = [(Close  -  Low) - (High - Close)] /(High - Low)$\n\n$2. Money Flow Volume = Money Flow Multiplier * Volume for the Period.$\n\n$3. ADL = Previous ADL + Current Period's Money Flow Volume.$\n\n$4. Chaikin Oscillator = (3-day EMA of ADL)  -  (10-day EMA of ADL)$"
      ]
    },
    {
      "cell_type": "markdown",
      "id": "2d5553e5-a966-40c3-b32f-c357b69f20d4",
      "metadata": {},
      "outputs": [],
      "source": [
        "For more information follow: \n<ul>\n\n<li>\n<a href='https://school.stockcharts.com/doku.php?id=technical_indicators:chaikin_oscillator#:~:text=The%20Chaikin%20Oscillator%20is%20the,the%20momentum%20behind%20the%20movements'>https://school.stockcharts.com/doku.php?id=technical_indicators:chaikin_oscillator#:~:text=The%20Chaikin%20Oscillator%20is%20the,the%20momentum%20behind%20the%20movements</a>\n</li>\n\n<li>\n<a href='https://www.investopedia.com/articles/active-trading/031914/understanding-chaikin-oscillator.asp'>https://www.investopedia.com/articles/active-trading/031914/understanding-chaikin-oscillator.asp</a>\n</li>\n\n<li>\n<a href='https://www.investopedia.com/terms/c/chaikinoscillator.asp'>https://www.investopedia.com/terms/c/chaikinoscillator.asp</a>\n</li>\n\n</ul>"
      ]
    },
    {
      "cell_type": "code",
      "id": "d8da32be-cc2a-4bfc-96c8-ef329f8bc663",
      "metadata": {},
      "outputs": [],
      "source": [
        "def ADOSC(df, N1=3, N2=10) -> pd.DataFrame:\n    res = talib.ADOSC(df['high'], df['low'],\n                      df['close'], df['volume'], N1, N2)\n    return pd.DataFrame({'ADOSC': res}, index=df.index) \n\nadosc_df = ADOSC(resampled_df)\nadosc_df.head(25)"
      ]
    },
    {
      "cell_type": "markdown",
      "id": "21ee1eb1-d6ec-4efd-8f42-5dd1dc2b651e",
      "metadata": {},
      "outputs": [],
      "source": [
        "Our new dataset has the same index, so assign new column in our current dataframe."
      ]
    },
    {
      "cell_type": "code",
      "id": "8486bcba-d079-4568-8fb2-69ba94927a15",
      "metadata": {},
      "outputs": [],
      "source": [
        "# creating new column called 'ADOSC' in our current dataframe\nresampled_df['ADOSC'] = adosc_df['ADOSC']"
      ]
    },
    {
      "cell_type": "code",
      "id": "477aa56e-9fa5-4bd5-927f-090c9b9f8655",
      "metadata": {},
      "outputs": [],
      "source": [
        "resampled_df.head(25)"
      ]
    },
    {
      "cell_type": "markdown",
      "id": "78d1b7f5-f8c5-4f77-92c0-f49718ea6a8f",
      "metadata": {},
      "outputs": [],
      "source": [
        "<b>ATR Normalized</b> is an instrument, which is used in the technical analysis for measuring the volatility level. In contrast to other modern and popular indicators it is not used for identifying the direction of price movement. It is used only for measuring the volatility level, especially the volatility, which is caused by price gaps or slow refreshing of the chart.\n\n<b>ATR</b> Normalized is a normalized version of the ATR indicator, which is calculated according to the formula:\n\n$$100*\\frac{ATR(t)}{Close(t)}$$"
      ]
    },
    {
      "cell_type": "markdown",
      "id": "37fbdcaa-904c-4a9f-a790-3d15bf8eed2b",
      "metadata": {},
      "outputs": [],
      "source": [
        "For more information follow: \n<ul>\n<li>\n<a href='https://support.atas.net/en/knowledge-bases/2/articles/43436-atr-normalized#:~:text=ATR%20Normalized%20is%20an%20instrument,the%20direction%20of%20price%20movement.'>https://support.atas.net/en/knowledge-bases/2/articles/43436-atr-normalized#:~:text=ATR%20Normalized%20is%20an%20instrument,the%20direction%20of%20price%20movement.</a>\n</li>\n</ul>"
      ]
    },
    {
      "cell_type": "code",
      "id": "eff95e38-682d-48ae-aad7-1b1788452c82",
      "metadata": {},
      "outputs": [],
      "source": [
        "def TALIB_NATR(df, timeperiod=14) -> pd.DataFrame:\n    \"\"\" Function for ATR Normalized (NATR) indicator using ```talib``` library.\n    \"\"\"\n    res = talib.NATR(df['high'], df['low'], df['close'], timeperiod=timeperiod)\n    return pd.DataFrame({'NATR': res}, index=df.index)\n\ndef PANDAS_TA_NATR(df, timeperiod=14) -> pd.DataFrame:\n    \"\"\" Function for ATR Normalized (NATR) indicator using ```pandas_ta``` library.\n    \"\"\"\n    res = natr(df['high'], df['low'], df['close'], timeperiod=timeperiod)\n    return pd.DataFrame({'NATR': res}, index=df.index)"
      ]
    },
    {
      "cell_type": "markdown",
      "id": "ea49acdf-733a-49c5-8621-b03ad9341d8b",
      "metadata": {},
      "outputs": [],
      "source": [
        "Let's call <code>TALIB_NATR</code> and <code>PANDAS_TA_NATR</code> methods and review the results they give us."
      ]
    },
    {
      "cell_type": "code",
      "id": "12a95101-251b-4f26-a581-85a6861bb04c",
      "metadata": {},
      "outputs": [],
      "source": [
        "talib_natr_df = TALIB_NATR(resampled_df)\ntalib_natr_df.head(25)"
      ]
    },
    {
      "cell_type": "code",
      "id": "313af3c4-16a9-4326-ae10-65ea5927b140",
      "metadata": {},
      "outputs": [],
      "source": [
        "pandas_ta_natr_df = PANDAS_TA_NATR(resampled_df)\npandas_ta_natr_df.head(25)"
      ]
    },
    {
      "cell_type": "markdown",
      "id": "31111bf0-9c1b-4dba-9621-9c7dfd7d6607",
      "metadata": {},
      "outputs": [],
      "source": [
        "The results from above methods can differ, as it is not uncommon to observe different results while using different libraries to calculate technical analysis indicators. Both pandas_ta and talib are widely used libraries for calculating technical indicators, but they may use different methods and algorithms to calculate the same indicator."
      ]
    },
    {
      "cell_type": "markdown",
      "id": "4096f0ee-e769-4686-9c09-2bedb2c0a627",
      "metadata": {},
      "outputs": [],
      "source": [
        "Let's define custom function to calculate NATR indicator."
      ]
    },
    {
      "cell_type": "code",
      "id": "50c1bbc2-7551-434a-a339-b8bef1064b22",
      "metadata": {},
      "outputs": [],
      "source": [
        "def NATR(df: pd.DataFrame, period: int=14) -> pd.DataFrame:\n    \"\"\" Custom function for ATR Normalized (NATR) indicator.\n    \"\"\"\n    # calculate values\n    high, low, close = df['high'], df['low'], df['close']\n\n    high_low = high - low\n    high_close = np.abs(high - close.shift())\n    low_close = np.abs(low - close.shift())\n\n    # calculate True Range\n    ranges = pd.concat([high_low, high_close, low_close], axis=1)\n    true_range = np.max(ranges, axis=1)\n\n    # calculate previous ATR\n    atr_prev = true_range.rolling(period).sum() / period\n\n    # calculate current ATR\n    atr = (atr_prev*(period - 1) + true_range) / period\n\n    # normalize ATR \n    natr = (100 * atr) / df['close']\n    return pd.DataFrame({'NATR': natr})"
      ]
    },
    {
      "cell_type": "markdown",
      "id": "94eedf20-c15c-4e26-9b4b-d9d1faf09384",
      "metadata": {},
      "outputs": [],
      "source": [
        "We will use NATR calculated by our custom function."
      ]
    },
    {
      "cell_type": "code",
      "id": "0c273d25-539a-4c29-bdb7-ac5079f9f0b3",
      "metadata": {},
      "outputs": [],
      "source": [
        "natr_df = NATR(resampled_df)\nnatr_df.head(25)"
      ]
    },
    {
      "cell_type": "code",
      "id": "5d3915c5-1301-4a19-bb39-5006eb973425",
      "metadata": {},
      "outputs": [],
      "source": [
        "resampled_df['NATR'] = natr_df['NATR']"
      ]
    },
    {
      "cell_type": "code",
      "id": "c701cede-7d31-402e-a625-80e89d7faf1f",
      "metadata": {},
      "outputs": [],
      "source": [
        "resampled_df.head(25)"
      ]
    },
    {
      "cell_type": "markdown",
      "id": "86f0054a-af28-40cb-a21e-126936f940c0",
      "metadata": {},
      "outputs": [],
      "source": [
        "<b>True Range</b> is a technical indicator. It is calculated as the maximum among the following values:\n\n$$max(High(t) - Low(t), |High(t) - Close(t-1)|,|Low(t) - Close(t-1)|)$$"
      ]
    },
    {
      "cell_type": "markdown",
      "id": "12531057-ddd5-46d7-a555-e4df727ffc52",
      "metadata": {},
      "outputs": [],
      "source": [
        "For more information follow:\n<ul>\n <li>\n <a href='https://www.linnsoft.com/techind/true-range-tr'>https://www.linnsoft.com/techind/true-range-tr</a>\n</li>\n\n<li>\n  <a href='https://support.atas.net/en/knowledge-bases/2/articles/45183-true-range'>https://support.atas.net/en/knowledge-bases/2/articles/45183-true-range</a>\n</li>\n"
      ]
    },
    {
      "cell_type": "code",
      "id": "772b0080-3d79-4917-b6c7-fa9de4390f89",
      "metadata": {},
      "outputs": [],
      "source": [
        "def TRANGE(df) -> pd.DataFrame:\n    res = talib.TRANGE(df['high'], df['low'], df['close'])\n    return pd.DataFrame({'TRANGE': res}, index=df.index) \n\ntrange_df = TRANGE(resampled_df)\ntrange_df.head(25)"
      ]
    },
    {
      "cell_type": "code",
      "id": "bfac7fb2-38ef-4deb-83cf-9b26fc42e292",
      "metadata": {},
      "outputs": [],
      "source": [
        "resampled_df['TRANGE'] = trange_df['TRANGE']"
      ]
    },
    {
      "cell_type": "code",
      "id": "fbe2ef46-71ac-4e68-bfd8-23a5813130cb",
      "metadata": {},
      "outputs": [],
      "source": [
        "resampled_df.head(25)"
      ]
    },
    {
      "cell_type": "markdown",
      "id": "b1f3641b-bc4f-4d38-ab3e-f68cca425796",
      "metadata": {},
      "outputs": [],
      "source": [
        "Later, we will use other cryptocurrencies to determine if and how they affect our cryptocurrency. Let's add new columns to our dataframe."
      ]
    },
    {
      "cell_type": "code",
      "id": "a46b6d7b-55b5-45d8-a0c9-e64b16de939c",
      "metadata": {},
      "outputs": [],
      "source": [
        "# creating path variables to easily retrieve data\nape_path = 'https://cf-courses-data.s3.us.cloud-object-storage.appdomain.cloud/IBMSkillsNetwork-GPXX09DGEN/APEBUSD_trades_1m.csv'\nbnb_path = 'https://cf-courses-data.s3.us.cloud-object-storage.appdomain.cloud/IBMSkillsNetwork-GPXX09DGEN/BNBBUSD_trades_1m.csv'\ndoge_path = 'https://cf-courses-data.s3.us.cloud-object-storage.appdomain.cloud/IBMSkillsNetwork-GPXX09DGEN/DOGEBUSD_trades_1m.csv'\neth_path = 'https://cf-courses-data.s3.us.cloud-object-storage.appdomain.cloud/IBMSkillsNetwork-GPXX09DGEN/ETHBUSD_trades_1m.csv'\nxrp_path = 'https://cf-courses-data.s3.us.cloud-object-storage.appdomain.cloud/IBMSkillsNetwork-GPXX09DGEN/XRPBUSD_trades_1m.csv'\nmatic_path = 'https://cf-courses-data.s3.us.cloud-object-storage.appdomain.cloud/IBMSkillsNetwork-GPXX09DGEN/MATICBUSD_trades_1m.csv'"
      ]
    },
    {
      "cell_type": "code",
      "id": "f98174d9-94e0-4978-9394-1358731fbbaf",
      "metadata": {},
      "outputs": [],
      "source": [
        "# reading aggregated datasets(15 min; APE, BNB, DOGE, ETH, XRP)"
      ]
    },
    {
      "cell_type": "code",
      "id": "77d127fd-9b6d-4b1a-8f40-fa89d985cc00",
      "metadata": {},
      "outputs": [],
      "source": [
        "paths = [('ape', ape_path), ('bnb', bnb_path), ('doge', doge_path), ('eth', eth_path), ('xrp', xrp_path), ('matic', matic_path)]"
      ]
    },
    {
      "cell_type": "markdown",
      "id": "2b78b22d-8a82-4c08-baa6-22f5d9060b5d",
      "metadata": {},
      "outputs": [],
      "source": [
        "Our other datasets might have different 'ts', so we need to join(inner) them using <code>pandas</code> <code>merge</code> method."
      ]
    },
    {
      "cell_type": "code",
      "id": "2625ce7e-0d6b-4419-88af-94d9ef9b29cb",
      "metadata": {},
      "outputs": [],
      "source": [
        "merged_df = resampled_df.copy()\nfor name, path in paths:\n    # Read the online file by the URL provides above, and assign it to variable \"df\"\n    # we only need 'avg_price' and 'ts' fields, so we specify it in usecols\n    current_currency_df = pd.read_csv(path, index_col='ts', usecols=['ts', 'avg_price'])\n    current_currency_df.index = pd.to_datetime(current_currency_df.index)\n    # renaming 'avg_price'\n    current_currency_df.rename({'avg_price':f'{name}_avg_price'}, axis='columns', inplace=True)\n    merged_df = merged_df.merge(current_currency_df, on='ts')\n    \nmerged_df.head(15)"
      ]
    },
    {
      "cell_type": "code",
      "id": "c9ac7cb9-aa5c-41d1-ad37-c79bfd3a2fed",
      "metadata": {},
      "outputs": [],
      "source": [
        "resampled_df = merged_df.copy()"
      ]
    },
    {
      "cell_type": "markdown",
      "id": "041c82b0-323a-4427-a49c-dbae05b58e32",
      "metadata": {},
      "outputs": [],
      "source": [
        "<h2>Save Dataset</h2>\n<p>\nCorrespondingly, Pandas enables us to save the dataset to csv. By using the <code>dataframe.to_csv()</code> method, you can add the file path and name along with quotation marks in the brackets.\n</p>\n<p>\nFor example, if you would save the dataframe <b>df</b> as <b>file_name.csv</b> to your local machine, you may use the syntax below, where <code>index = False</code> means the row names will not be written.\n</p>\n"
      ]
    },
    {
      "cell_type": "code",
      "id": "be293daa-5b76-4d94-bb06-213183741033",
      "metadata": {},
      "outputs": [],
      "source": [
        "resampled_df.to_csv(\"BTCBUSD_resampled_1min.csv\", index=True)"
      ]
    },
    {
      "cell_type": "markdown",
      "id": "00f00e0b-2eac-4dc6-b008-500f4152d80f",
      "metadata": {},
      "outputs": [],
      "source": [
        "We can also read and save other file formats. We can use similar functions like **`pd.read_csv()`** and **`df.to_csv()`** for other data formats. The functions are listed in the following table:\n"
      ]
    },
    {
      "cell_type": "markdown",
      "id": "9199346e-0e2e-49ab-9b01-fbdc52db819d",
      "metadata": {},
      "outputs": [],
      "source": [
        "<h2>Read/Save Other Data Formats</h2>\n\n| Data Formate |        Read       |            Save |\n| ------------ | :---------------: | --------------: |\n| csv          |  `pd.read_csv()`  |   `df.to_csv()` |\n| json         |  `pd.read_json()` |  `df.to_json()` |\n| excel        | `pd.read_excel()` | `df.to_excel()` |\n| hdf          |  `pd.read_hdf()`  |   `df.to_hdf()` |\n| sql          |  `pd.read_sql()`  |   `df.to_sql()` |\n| ...          |        ...        |             ... |\n"
      ]
    },
    {
      "cell_type": "markdown",
      "id": "063efd4b-0fbd-4b1a-a055-245ac156d51f",
      "metadata": {},
      "outputs": [],
      "source": [
        "<h1 id=\"basic_insight\">Basic Insight of Dataset</h1>\n<p>\nAfter reading data into Pandas dataframe, it is time for us to explore the dataset.<br>\n\nThere are several ways to obtain essential insights of the data to help us better understand our dataset.\n\n</p>\n"
      ]
    },
    {
      "cell_type": "markdown",
      "id": "60176b5f-f0ed-43b5-b94b-bd4f9410c4ca",
      "metadata": {},
      "outputs": [],
      "source": [
        "<h2>Data Types</h2>\n<p>\nData has a variety of types.<br>\n\nThe main types stored in Pandas dataframes are <b>object</b>, <b>float</b>, <b>int</b>, <b>bool</b> and <b>datetime64</b>. In order to better learn about each attribute, it is always good for us to know the data type of each column. In Pandas:\n\n</p>\n"
      ]
    },
    {
      "cell_type": "code",
      "id": "2a986353-12bf-484f-b5f5-2ef75f65b784",
      "metadata": {},
      "outputs": [],
      "source": [
        "resampled_df.dtypes"
      ]
    },
    {
      "cell_type": "markdown",
      "id": "05311cd2-ed0e-4fc9-a379-c569c574fe99",
      "metadata": {},
      "outputs": [],
      "source": [
        "A series with the data type of each column is returned.\n"
      ]
    },
    {
      "cell_type": "code",
      "id": "9df5bd4c-36f2-4056-80ea-a11777def30c",
      "metadata": {},
      "outputs": [],
      "source": [
        "# check the data type of data frame \"df\" by .dtypes\nprint(resampled_df.dtypes)"
      ]
    },
    {
      "cell_type": "markdown",
      "id": "12bb9b0e-658e-4e08-a3bf-1ba02ed61285",
      "metadata": {},
      "outputs": [],
      "source": [
        "<h2>Describe</h2>\nIf we would like to get a statistical summary of each column e.g. count, column mean value, column standard deviation, etc., we use the describe method:\n"
      ]
    },
    {
      "cell_type": "markdown",
      "id": "15e24e64-dedb-4c6f-9126-5e5608418635",
      "metadata": {},
      "outputs": [],
      "source": [
        "<code>dataframe.describe()</code>\n"
      ]
    },
    {
      "cell_type": "markdown",
      "id": "9d563d94-f49c-4bb9-8190-e98e6063ade1",
      "metadata": {},
      "outputs": [],
      "source": [
        "This method will provide various summary statistics, excluding <code>NaN</code> (Not a Number) values.\n"
      ]
    },
    {
      "cell_type": "code",
      "id": "94504802-207a-49f9-b3c2-57d144c2c55d",
      "metadata": {},
      "outputs": [],
      "source": [
        "resampled_df.describe()"
      ]
    },
    {
      "cell_type": "markdown",
      "id": "eb3232f8-29c9-4853-8d3d-63f3bca4b321",
      "metadata": {},
      "outputs": [],
      "source": [
        "<p>\nThis shows the statistical summary of all numeric-typed (int, float) columns.<br>\n\nFor example, the attribute 'Rec_count' has 65303 counts, the mean value of this column is 9.28, the standard deviation is 9.53, the minimum value is 1, 25th percentile is 4, 50th percentile is 6, 75th percentile is 12, and the maximum value is 114. <br>\n\nHowever, what if we would also like to check all the columns including those that are of type object, datetime or any other non numeric-type? <br><br>\n\nYou can add an argument <code>include = \"all\"</code> inside the bracket. Let's try it again.\n\n</p>\n"
      ]
    },
    {
      "cell_type": "code",
      "id": "cdc49552-a6fb-4ad1-8178-f40e267904fe",
      "metadata": {},
      "outputs": [],
      "source": [
        "# describe all the columns in \"df\" \nresampled_df.describe(include = \"all\")"
      ]
    },
    {
      "cell_type": "markdown",
      "id": "a7f20149-21c3-4644-97f5-452f33abcf41",
      "metadata": {},
      "outputs": [],
      "source": [
        "<p>\nNow it provides the statistical summary of all the columns, including attributes that are not numeric.<br>\n\nWe can now see how many unique values there, which one is the top value and the frequency of top value in the object-typed columns.<br>\n\nSome values in the table above show as \"NaN\". This is because those numbers are not available regarding a particular column type.<br>\n\n</p>\n"
      ]
    },
    {
      "cell_type": "markdown",
      "id": "fac8ec8a-3261-4087-ab17-a5a3005dfbff",
      "metadata": {},
      "outputs": [],
      "source": [
        "Note: you can change the precision for values using <code>pd.set_option(\"display.precision\", 2)</code> to display only 2 numbers after the <code>.</code>\n"
      ]
    },
    {
      "cell_type": "code",
      "id": "ae3b2158-3868-4a8b-88f3-b38a105714af",
      "metadata": {},
      "outputs": [],
      "source": [
        "precision = 2\npd.set_option(\"display.precision\", precision)"
      ]
    },
    {
      "cell_type": "markdown",
      "id": "8b59605c-2fd7-448c-9f11-276e2415a66c",
      "metadata": {},
      "outputs": [],
      "source": [
        "Now let's run <code>describe()</code> method one more time to make sure the precision was changed \n"
      ]
    },
    {
      "cell_type": "code",
      "id": "24b75b8f-bbc6-4248-99c8-838863dda6f1",
      "metadata": {},
      "outputs": [],
      "source": [
        "resampled_df.describe()"
      ]
    },
    {
      "cell_type": "markdown",
      "id": "167c4691-9fb4-4660-a0c2-d380e011c5bb",
      "metadata": {},
      "outputs": [],
      "source": [
        "<div class=\"alert alert-danger alertdanger\" style=\"margin-top: 20px\">\n<h1> Question #3: </h1>\n\n<p>\nYou can select the columns of a dataframe by indicating the name of each column. For example, you can select the three columns as follows:\n</p>\n<p>\n    <code>dataframe[['column 1 ',column 2', 'column 3']]</code>\n</p>\n<p>\nWhere \"column\" is the name of the column, you can apply the method  \".describe()\" to get the statistics of those columns as follows:\n</p>\n<p>\n    <code>dataframe[['column 1 ',column 2', 'column 3'] ].describe()</code>\n</p>\n\nApply the  method to \".describe()\" to the columns 'low' and 'high'.\n\n</div>\n"
      ]
    },
    {
      "cell_type": "code",
      "id": "0cac2f8c-a31e-497b-9404-a80c1f48aada",
      "metadata": {},
      "outputs": [],
      "source": [
        "# Write your code below and press Shift+Enter to execute \n"
      ]
    },
    {
      "cell_type": "markdown",
      "id": "7754266d-c0e4-4de9-9bf3-cd4030bcc92f",
      "metadata": {},
      "outputs": [],
      "source": [
        "<details><summary>Click here for the solution</summary>\n\n```python\nresampled_df[['low', 'high']].describe()\n```\n\n</details>\n"
      ]
    },
    {
      "cell_type": "markdown",
      "id": "aab47430-de3e-4775-8783-e1fa64ed98e3",
      "metadata": {},
      "outputs": [],
      "source": [
        "<h2>Info</h2>\nAnother method you can use to check your dataset is:\n"
      ]
    },
    {
      "cell_type": "markdown",
      "id": "ad665d81-1b80-41c9-9f3f-2154fb58cbdb",
      "metadata": {},
      "outputs": [],
      "source": [
        "<code>dataframe.info()</code>\n"
      ]
    },
    {
      "cell_type": "markdown",
      "id": "666d57bd-fbca-43d4-b253-eb913481f8f9",
      "metadata": {},
      "outputs": [],
      "source": [
        "It provides a concise summary of your DataFrame.\n\nThis method prints information about a DataFrame including the index dtype and columns, non-null values and memory usage.\n"
      ]
    },
    {
      "cell_type": "code",
      "id": "2c8db0bf-1bb3-430f-8da9-b3e60e822d50",
      "metadata": {},
      "outputs": [],
      "source": [
        "# look at the info of \"df\"\nresampled_df.info()"
      ]
    },
    {
      "cell_type": "markdown",
      "id": "36386b51-e576-49ff-9480-078ceb6f1a0e",
      "metadata": {},
      "outputs": [],
      "source": [
        "<h1>Excellent! You have just completed the  Introduction Notebook!</h1>\n"
      ]
    },
    {
      "cell_type": "markdown",
      "id": "99e6ea59-1bd9-4d28-ad63-8036f8386283",
      "metadata": {},
      "outputs": [],
      "source": [
        "### Thank you for completing this lab!\n\n## Author\n\n<a href=\"https://www.linkedin.com/in/joseph-s-50398b136/?utm_medium=Exinfluencer&utm_source=Exinfluencer&utm_content=000026UJ&utm_term=10006555&utm_id=NA-SkillsNetwork-Channel-SkillsNetworkCoursesIBMDeveloperSkillsNetworkDA0101ENSkillsNetwork20235326-2021-01-01\" target=\"_blank\">Joseph Santarcangelo</a>\n\n### Other Contributors\n\n<a href=\"https://www.linkedin.com/in/mahdi-noorian-58219234/?utm_medium=Exinfluencer&utm_source=Exinfluencer&utm_content=000026UJ&utm_term=10006555&utm_id=NA-SkillsNetwork-Channel-SkillsNetworkCoursesIBMDeveloperSkillsNetworkDA0101ENSkillsNetwork20235326-2021-01-01\" target=\"_blank\">Mahdi Noorian PhD</a>\n\nBahare Talayian\n\nEric Xiao\n\nSteven Dong\n\nParizad\n\nHima Vasudevan\n\n<a href=\"https://www.linkedin.com/in/fiorellawever/?utm_medium=Exinfluencer&utm_source=Exinfluencer&utm_content=000026UJ&utm_term=10006555&utm_id=NA-SkillsNetwork-Channel-SkillsNetworkCoursesIBMDeveloperSkillsNetworkDA0101ENSkillsNetwork20235326-2021-01-01\" target=\"_blank\">Fiorella Wenver</a>\n\n<a href=\"https:// https://www.linkedin.com/in/yi-leng-yao-84451275/ \" target=\"_blank\" >Yi Yao</a>.\n\n## Change Log\n\n| Date (YYYY-MM-DD) | Version | Changed By | Change Description                                         |\n| ----------------- | ------- | ---------- | ---------------------------------------------------------- |\n\n<hr>\n\n## <h3 align=\"center\"> © IBM Corporation 2020. All rights reserved. <h3/>\n"
      ]
    }
  ],
  "metadata": {
    "language_info": {
      "name": ""
    },
    "kernelspec": {
      "name": "",
      "display_name": ""
    }
  },
  "nbformat": 4,
  "nbformat_minor": 4
}
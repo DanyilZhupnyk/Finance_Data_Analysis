{
  "cells": [
    {
      "cell_type": "markdown",
      "id": "673a7f70-acde-474e-9593-8df96c68c220",
      "metadata": {},
      "outputs": [],
      "source": [
        "<center>\n    <img src=\"https://cf-courses-data.s3.us.cloud-object-storage.appdomain.cloud/IBMSkillsNetwork-GPXX04M1EN/SN_web_lightmode.png?1677234044475\" width=\"300\" alt=\"cognitiveclass.ai logo\"  />\n</center>\n\n# Financial Services: Data Wrangling (on the example of BTC/BUSD)\n\nEstimated time needed: **30** minutes\n\n\n The tasks:\n* To find empty cells and handle missing values;\n* Analyze data format, find the wrong format and correct data format;\n* Standardize and normalize data series.\n\n## Objectives\n\nAfter completing this lab you will be able to:\n\n*   Handle missing values\n*   Correct data format\n*   Standardize and normalize data\n"
      ]
    },
    {
      "cell_type": "markdown",
      "id": "631f9352-6d07-4a82-baef-6eb7e6c91d95",
      "metadata": {},
      "outputs": [],
      "source": [
        "<h2>Table of Contents</h2>\n\n<div class=\"alert alert-block alert-info\" style=\"margin-top: 20px\">\n<ul>\n    <li><a href=\"https://#identify_handle_missing_values\">Identify and handle missing values</a>\n        <ul>\n            <li><a href=\"https://#identify_missing_values\">Identify missing values</a></li>\n            <li><a href=\"https://#deal_missing_values\">Deal with missing values</a></li>\n            <li><a href=\"https://#correct_data_format\">Correct data format</a></li>\n        </ul>\n    </li>\n    <li><a href=\"https://#data_standardization\">Data standardization</a></li>\n    <li><a href=\"https://#data_normalization\">Data normalization (centering/scaling)</a></li>\n    <li><a href=\"https://#binning\">Binning</a></li>\n    <li><a href=\"https://#indicator\">Indicator variable</a></li>\n</ul>\n\n</div>\n\n<hr>\n"
      ]
    },
    {
      "cell_type": "markdown",
      "id": "801e793c-79c9-4079-b94a-b95f580500d1",
      "metadata": {},
      "outputs": [],
      "source": [
        "<h2>What is the purpose of data wrangling?</h2>\n"
      ]
    },
    {
      "cell_type": "markdown",
      "id": "053b4917-d94a-4e02-845f-5d32007ba02d",
      "metadata": {},
      "outputs": [],
      "source": [
        "Data wrangling is the process of converting data from the initial format to a format that may be better for analysis.\n"
      ]
    },
    {
      "cell_type": "markdown",
      "id": "10de8e0c-871a-476a-aef2-b110accfa52e",
      "metadata": {},
      "outputs": [],
      "source": [
        "<h3>What is the average coin cost in USDT?</h3>\n"
      ]
    },
    {
      "cell_type": "markdown",
      "id": "4c9e6009-58b7-4258-a6a4-34d8bb519eeb",
      "metadata": {},
      "outputs": [],
      "source": [
        "<h3>Import data</h3>\n<p>\nYou can find the \"Finance Dataset\" from the following link: <a href=\"https://cf-courses-data.s3.us.cloud-object-storage.appdomain.cloud/IBMSkillsNetwork-GPXX04M1EN/BTCBUSD_resampled_1min.csv\"> https://cf-courses-data.s3.us.cloud-object-storage.appdomain.cloud/IBMSkillsNetwork-GPXX04M1EN/BTCBUSD_resampled_1min.csv</a>. \nWe will be using this dataset throughout this course.\n</p>\n"
      ]
    },
    {
      "cell_type": "markdown",
      "id": "7b38c1c6-2e9f-4bf7-8cf3-dfebeba8ca00",
      "metadata": {},
      "outputs": [],
      "source": [
        "<h4>Install and import libraries</h4> \n"
      ]
    },
    {
      "cell_type": "code",
      "id": "3af88d87-1bb2-44f4-9f4b-52e226979738",
      "metadata": {},
      "outputs": [],
      "source": [
        "!pip install pandas\n!pip install numpy\n!pip install matplotlib\n!pip install scipy\n!pip install seaborn\n!pip install scikit-learn --y\n!pip install --upgrade scikit-learn"
      ]
    },
    {
      "cell_type": "markdown",
      "id": "1bc6b7b7-b3e1-49b3-994a-b50c10301d57",
      "metadata": {},
      "outputs": [],
      "source": [
        "Now, let's import libraries that we will use"
      ]
    },
    {
      "cell_type": "code",
      "id": "bac876cd-30b2-4f2f-9eee-1df1203574bd",
      "metadata": {},
      "outputs": [],
      "source": [
        "import pandas as pd\nimport matplotlib.pylab as plt\nimport numpy as np\nimport warnings\nimport requests\n\nfrom sklearn.preprocessing import MinMaxScaler\nfrom typing import List, Tuple\n%matplotlib inline \nimport matplotlib as plt\nfrom matplotlib import pyplot\n"
      ]
    },
    {
      "cell_type": "markdown",
      "id": "8365e450-d75a-4696-b8a0-947ce24cee80",
      "metadata": {},
      "outputs": [],
      "source": [
        "<h2>Reading the dataset from the URL and adding the related headers</h2>\n"
      ]
    },
    {
      "cell_type": "code",
      "id": "e86a5a48-eb0e-4558-a166-3d413b6331c0",
      "metadata": {},
      "outputs": [],
      "source": [
        "filename = 'https://cf-courses-data.s3.us.cloud-object-storage.appdomain.cloud/IBMSkillsNetwork-GPXX04M1EN/BTCBUSD_resampled_1min.csv'"
      ]
    },
    {
      "cell_type": "markdown",
      "id": "70bbd89c-7b3e-4698-86af-a558f4aae4f1",
      "metadata": {},
      "outputs": [],
      "source": [
        "Use the Pandas method <b>read_csv()</b> to load the data from the web address.\nOur dataset contains index column which is the first column, and headers, so we will set the parameter <code>index_col=0</code> to use first column as index columns.\n"
      ]
    },
    {
      "cell_type": "code",
      "id": "acf60cd3-5115-48ee-890e-0bae1635279a",
      "metadata": {},
      "outputs": [],
      "source": [
        "df = pd.read_csv(filename, index_col='ts')\ndf.index = pd.to_datetime(df.index)"
      ]
    },
    {
      "cell_type": "markdown",
      "id": "c44abda8-9895-450e-83bd-0f3d12bd6252",
      "metadata": {},
      "outputs": [],
      "source": [
        "Use the method <b>head()</b> to display the first five rows of the dataframe.\n"
      ]
    },
    {
      "cell_type": "code",
      "id": "35a6ff05-c6b1-43f7-bb2f-b05858a2eca7",
      "metadata": {},
      "outputs": [],
      "source": [
        "# To see what the data set looks like, we'll use the head() method.\ndf.head(15)"
      ]
    },
    {
      "cell_type": "markdown",
      "id": "73b1a169-3665-48db-847f-2dff7cf9b059",
      "metadata": {},
      "outputs": [],
      "source": [
        "Let's make a copy of our input dataframe(we will need it later)."
      ]
    },
    {
      "cell_type": "code",
      "id": "7d7b56ca-7101-4625-ac0c-16aeaaf0c193",
      "metadata": {},
      "outputs": [],
      "source": [
        "df_copy = df.copy()"
      ]
    },
    {
      "cell_type": "markdown",
      "id": "8f464f15-e7cc-4ff0-ae7a-f3feb4e614c6",
      "metadata": {},
      "outputs": [],
      "source": [
        "Using <code>shape</code> to retrieve number of rows and columns"
      ]
    },
    {
      "cell_type": "code",
      "id": "587c38c4-4c0a-40e1-8bb5-0cdd8c85d610",
      "metadata": {},
      "outputs": [],
      "source": [
        "df.shape"
      ]
    },
    {
      "cell_type": "markdown",
      "id": "9f6affe8-5528-422d-a8d9-ddc77943a001",
      "metadata": {},
      "outputs": [],
      "source": [
        "Using <code>count</code> to retrieve number of rows that do not have <count>nan</count> values."
      ]
    },
    {
      "cell_type": "code",
      "id": "69b1b540-dd94-41c2-b3fb-b03aa5a72fe4",
      "metadata": {},
      "outputs": [],
      "source": [
        "df.count()"
      ]
    },
    {
      "cell_type": "markdown",
      "id": "bfa1dfd2-9c92-4174-afa6-ec72c03101c9",
      "metadata": {},
      "outputs": [],
      "source": [
        "As we can see, our dataset almost does not have missing values(except indicators and few ohlc values), but in the real world, it is not always like this; more often, our datasets need some preprocessing to be done. So for the sake of this exercise, we will create missing values and wrong values and then learn how to work with such data."
      ]
    },
    {
      "cell_type": "markdown",
      "id": "06da67fc-851b-4d0b-9290-a5e7387b5a4c",
      "metadata": {},
      "outputs": [],
      "source": [
        "So let's add some negative values first."
      ]
    },
    {
      "cell_type": "markdown",
      "id": "7351a652-3b7b-4432-9638-50a8cadd58b8",
      "metadata": {},
      "outputs": [],
      "source": [
        "But before that, let's create <code>raise_warning</code> method that has common warning messages and will be used to warn the user that missing values already exist in the data frame, it helps in ensuring that we won't generate to many <code>NAN</code> values."
      ]
    },
    {
      "cell_type": "code",
      "id": "b70bd5bd-12b0-46d9-a314-6e37f9f340d6",
      "metadata": {},
      "outputs": [],
      "source": [
        "def raise_warning(column: str, type: str = 'negative'): \n  \"\"\"Common warning function used to raise warnings that some values are already in our column\"\"\"\n  warning_error: str = f'Column {column} already has some {type} values! '\n  warning_message: str = f'Column {column} was not changed'\n  warning_note: str = f'Note: columns listed before {column} where changed!'        \n  warnings.warn(warning_error + \n                warning_message + \n                warning_note)\n"
      ]
    },
    {
      "cell_type": "code",
      "id": "0047edc7-7c7e-457d-8158-223e21d59a12",
      "metadata": {},
      "outputs": [],
      "source": [
        "# columns which will have negative values\ncolumns_to_add_negative_values = [('volume', 0.75), ('rec_count', 0.002)]"
      ]
    },
    {
      "cell_type": "code",
      "id": "517476a7-60a1-4ddc-8380-b38048b5d79c",
      "metadata": {},
      "outputs": [],
      "source": [
        "def has_negative_values(df: pd.DataFrame, \n                       column: str) -> bool:\n  \"\"\"Checks if dataframe column has negative values\n    :param df is a dataframe with the column we want to check\n    :param column is the name of the column\n  \"\"\"         \n  tmp_column = df[column].where(df[column] >= 0)\n  return tmp_column.isna().sum() > 0\n\n\ndef create_negative_values(df: pd.DataFrame, \n                     columns: List[Tuple[str, int or float]]) ->  pd.DataFrame:\n  \"\"\"Adds negative values into specific columns of the dataframe if they \n     do not contain negative values already.\n    :param df is a dataframe where you want to add some negative values\n    :param columns is a list of column names and probabilities of each \n           cell becoming negative value\n           Example: [('first_column', .5), ('second_column', .1)]\n    :return updated dataframe or old dataframe \n            if negative values already exist in one of the columns\n  \"\"\"\n  for column, percentage in columns:\n    if has_negative_values(df, column):\n      raise_warning(column)\n      return df\n    column_shape = df[column].shape\n    condition_df = np.random.random(column_shape) < percentage\n    df[column] = np.where(condition_df, -df[column], df[column])\n  return df\n  "
      ]
    },
    {
      "cell_type": "code",
      "id": "b00c915b-37a7-451d-b5b2-3a6088955c91",
      "metadata": {},
      "outputs": [],
      "source": [
        "df = create_negative_values(df, columns_to_add_negative_values)"
      ]
    },
    {
      "cell_type": "code",
      "id": "e3c8c67a-2b3b-420a-837e-b3b532144ad5",
      "metadata": {},
      "outputs": [],
      "source": [
        "df.head(50)"
      ]
    },
    {
      "cell_type": "markdown",
      "id": "540cec23-5dee-4d9e-bafb-aa7e565b97cd",
      "metadata": {},
      "outputs": [],
      "source": [
        "Sometimes some columns may be of one type, but represented as absolutely different type that is not convinient for us. Let's change types of some columns to 'wrong' types."
      ]
    },
    {
      "cell_type": "code",
      "id": "3872d482-f7b6-48aa-9a7a-6bccf5960fc9",
      "metadata": {},
      "outputs": [],
      "source": [
        "df = df.astype({'open': 'string', 'close': 'string', 'volume': 'string'})"
      ]
    },
    {
      "cell_type": "markdown",
      "id": "4e3ab220-8160-4f14-b7a3-2bb4f64263b2",
      "metadata": {},
      "outputs": [],
      "source": [
        "Let's see the dataframe types to make sure everything worked as expected"
      ]
    },
    {
      "cell_type": "code",
      "id": "b3fd5e93-61e5-4f9d-8c8c-c16e071ffcd9",
      "metadata": {},
      "outputs": [],
      "source": [
        "df.dtypes"
      ]
    },
    {
      "cell_type": "markdown",
      "id": "96411610-f392-4636-99fe-d7714767c6b8",
      "metadata": {},
      "outputs": [],
      "source": [
        "<b>Now, let's add missing values</b>\n\nWe will use the question mark '?' for the missing values. To replace some values <code>mask</code> method will be used. This method takes condition dataframe, which is a dataframe of boolean values for each cell. Parameter <code>other</code> specifies value that will be inserted."
      ]
    },
    {
      "cell_type": "code",
      "id": "5f3a705b-21d0-4116-9107-65b307af03a1",
      "metadata": {},
      "outputs": [],
      "source": [
        "def has_missing_values(df: pd.DataFrame, \n                       column: str, \n                       missing_value: str) -> bool:\n  \"\"\"Checks if dataframe column has missing values\n    :param df is a dataframe with the column we want to check\n    :param column is the name of the column\n    :param missing_value specifies value that is considered to be a\n           missing value\n  \"\"\"         \n  tmp_column = df[column].replace(missing_value, np.nan)\n  return tmp_column.isna().sum() > 0\n\ndef add_missing_data(df: pd.DataFrame, \n                     columns: List[Tuple[str, int or float]],\n                     missing_value: str ='?') -> pd.DataFrame:\n  \"\"\"Adds missing values into specific columns of the dataframe if they \n     do not contain missing values already\n    :param df is a dataframe where you want to add some missing value\n    :param columns is a list of column names and probabilities of each \n           cell being replaced by a missing value\n           Example: [('first_column', .5), ('second_column', .1)]\n    :param missing_value specifies value that is \n           considered to be a missing value\n    :return updated dataframe\n  \"\"\"\n  for column, percentage in columns:\n    if has_missing_values(df, column, missing_value):\n      raise_warning(column, type='missing')\n      return df\n    column_shape = df[column].shape\n    condition_df = np.random.random(column_shape) < percentage\n    df[column] = df[column].mask(condition_df, other=missing_value)\n  return df"
      ]
    },
    {
      "cell_type": "markdown",
      "id": "b89a78ea-bb36-4b3a-8c0b-05ffa962bcf1",
      "metadata": {},
      "outputs": [],
      "source": [
        "Let's create an array of columns that are going to have some missing values(in our case '?')."
      ]
    },
    {
      "cell_type": "code",
      "id": "70ed5094-0b3c-4d00-b7df-e1c039ad5392",
      "metadata": {},
      "outputs": [],
      "source": [
        "columns_to_add_missing_data = [('volume', 0.015), ('rec_count', 0.02)]"
      ]
    },
    {
      "cell_type": "markdown",
      "id": "18f3d43b-30f2-430e-90b8-f0d175c5bb07",
      "metadata": {},
      "outputs": [],
      "source": [
        "Make sure to run the below code once, as running one more time won't change the dataframe, but will cause warning."
      ]
    },
    {
      "cell_type": "code",
      "id": "4ef5a838-2555-459d-a9a7-2af3557ed969",
      "metadata": {},
      "outputs": [],
      "source": [
        "df = add_missing_data(df, columns_to_add_missing_data)"
      ]
    },
    {
      "cell_type": "code",
      "id": "434d3899-c1b5-4d01-b7c5-ad8115ca6763",
      "metadata": {},
      "outputs": [],
      "source": [
        "df.head(50)"
      ]
    },
    {
      "cell_type": "markdown",
      "id": "e3c16487-7d44-4776-a903-beb3255a23e2",
      "metadata": {},
      "outputs": [],
      "source": [
        "As we can see, our dataframe is more realistic now and has wrong values, types and several question marks in the dataframe(those are missing values which may hinder our further analysis). Now, we can learn how to work with such data.\n"
      ]
    },
    {
      "cell_type": "markdown",
      "id": "37077eb7-4fe7-4af1-a33e-288f554155bd",
      "metadata": {},
      "outputs": [],
      "source": [
        "<i><b>So, how do we identify all those missing values and deal with them?</b></i>\n\n<b>How to work with missing data?</b>\n\nSteps for working with missing data:\n\n<ol>\n    <li>Identify missing data</li>\n    <li>Deal with missing data</li>\n    <li>Correct data format</li>\n</ol>\n\n<i><b>How do we identify all the dirty values; how to deal with them?</b></i>\n\n<b>How to work with dirty data?</b>\n\nSteps for working with dirty data:\n\n<ol>\n    <li>Identify columns with dirty data</li>\n    <li>Deal with dirty data</li>\n    <li>Correct data format</li>\n</ol>"
      ]
    },
    {
      "cell_type": "markdown",
      "id": "c7368969-d045-4d0c-90ae-f918fd9269f4",
      "metadata": {},
      "outputs": [],
      "source": [
        "<h2 id=\"identify_handle_missing_values\">Identify and handle missing values</h2>\n\n<h3 id=\"identify_missing_values\">Identify missing values</h3>\n<h4>Convert \"?\" to NaN</h4>\nIn our dataset, missing data comes with the question mark \"?\".\nSo let's replace \"?\" with NaN (Not a Number), Python's default missing value marker for reasons of computational speed and convenience. Here we use the function: \n <pre>.replace(A, B, inplace = True) </pre>\nto replace A by B.\nDoing so enables us to use convinient pandas methods for working with missing data(You can find them few cells below)"
      ]
    },
    {
      "cell_type": "code",
      "id": "4ae5e0ba-107b-4222-aa65-0e7beef45a33",
      "metadata": {},
      "outputs": [],
      "source": [
        "df.replace('?', np.nan, inplace=True)\ndf.head(50)"
      ]
    },
    {
      "cell_type": "code",
      "id": "3b0c102c-1352-41c6-891b-5e4a8aeae236",
      "metadata": {},
      "outputs": [],
      "source": [
        "df.dtypes"
      ]
    },
    {
      "cell_type": "markdown",
      "id": "e9a16004-4dfc-49d2-affc-65a4a403a571",
      "metadata": {},
      "outputs": [],
      "source": [
        "<h4>Evaluating for Missing Data</h4>\n\nThe missing values are converted by default. We use the following functions to identify these missing values. There are two methods to detect missing data:\n\n<ol>\n    <li><b>.isnull()</b></li>\n    <li><b>.notnull()</b></li>\n</ol>\nThe output is a boolean value indicating whether the value that is passed into the argument is in fact missing data.\n"
      ]
    },
    {
      "cell_type": "code",
      "id": "30a85787-cb60-4076-990c-f6e77741a4e3",
      "metadata": {},
      "outputs": [],
      "source": [
        "missing_data = df.isnull()\nmissing_data.head(50)"
      ]
    },
    {
      "cell_type": "markdown",
      "id": "49621283-5b87-448a-98e0-2b8bc96cf4cd",
      "metadata": {},
      "outputs": [],
      "source": [
        "\"True\" means the value is a missing value while \"False\" means the value is not a missing value.\n"
      ]
    },
    {
      "cell_type": "markdown",
      "id": "287cc393-8e3f-4476-8d3a-ed273ae30166",
      "metadata": {},
      "outputs": [],
      "source": [
        "<h4>Count missing values in each column</h4>\n<p>\nUsing a for loop in Python, we can quickly figure out the number of missing values in each column. As mentioned above, \"True\" represents a missing value and \"False\" means the value is present in the dataset.  In the body of the for loop the method \".value_counts()\" counts the number of \"True\" values. \n</p>\n"
      ]
    },
    {
      "cell_type": "code",
      "id": "a6b7a06a-e56f-443a-9ab2-48005abfdefd",
      "metadata": {},
      "outputs": [],
      "source": [
        "for column in missing_data.columns.values.tolist():\n    print(column)\n    print (missing_data[column].value_counts())\n    print('')    "
      ]
    },
    {
      "cell_type": "markdown",
      "id": "747593fc-fda1-43b9-8519-3fecce838db9",
      "metadata": {},
      "outputs": [],
      "source": [
        "Based on the summary above, you can analyze how many cells have a missing data. Number near True is number of cells with missing values, vice versa for False.\n"
      ]
    },
    {
      "cell_type": "markdown",
      "id": "9ada86e9-6b6b-4ae5-ae84-9447f6628eb9",
      "metadata": {},
      "outputs": [],
      "source": [
        "<h3 id=\"deal_missing_values\">Deal with missing data</h3>\n<b>How to deal with missing data?</b>\n\n<ol>\n    <li>Drop data<br>\n        a. Drop the whole row<br>\n        b. Drop the whole column\n    </li>\n    <li>Replace data<br>\n        a. Replace it by mean<br>\n        b. Replace it by frequency<br>\n        c. Replace it based on other functions<br>\n        d. Replace it by imputed value\n    </li>\n</ol>\n"
      ]
    },
    {
      "cell_type": "markdown",
      "id": "664d354d-30bf-48af-905a-6e7dbb748ebe",
      "metadata": {},
      "outputs": [],
      "source": [
        "Whole columns should be dropped only if most entries in the column are empty. In our dataset, none of the columns are empty enough to drop entirely.\nWe have some freedom in choosing which method to replace data; however, some methods may seem more reasonable than others. We will apply each method to many different columns:\n<ul>\n    <li>Column \"volume\": has 1.5% probability of cell being missing data. Use interpolation to fill missing values.\n    </li>\n    <li>Column \"rec_count\": has 0.2% probability of cell being missing data. Use interpolation to fill missing values.</li>\n    <li>Column \"ADOSC\": has few missing values in the cells.</li>\n    <li>Column \"NATR\": has few missing values in the cells. </li>\n    <li>Column \"TRANGE\": has few missing value in the cells.</li>\n</ul>\n\n"
      ]
    },
    {
      "cell_type": "markdown",
      "id": "a60ad370-014d-45a6-b6e8-1e261a440c17",
      "metadata": {},
      "outputs": [],
      "source": [
        "First of all, let's process our indicator values(ADOSC, NATR, TRANGE)."
      ]
    },
    {
      "cell_type": "code",
      "id": "cd4765af-ca40-416e-ae14-d231d52d5356",
      "metadata": {},
      "outputs": [],
      "source": [
        "df.shape"
      ]
    },
    {
      "cell_type": "code",
      "id": "6f117289-cc92-4bb5-9966-7b1fc9438796",
      "metadata": {},
      "outputs": [],
      "source": [
        "df = df.dropna(subset=['ADOSC', 'NATR', 'TRANGE'])"
      ]
    },
    {
      "cell_type": "code",
      "id": "05297497-806b-4b12-b090-ba4e1776fba4",
      "metadata": {},
      "outputs": [],
      "source": [
        "df.head(15)"
      ]
    },
    {
      "cell_type": "markdown",
      "id": "047515fc-fb71-4582-8208-723558227b1b",
      "metadata": {},
      "outputs": [],
      "source": [
        "Second of all, let's get rid of negative values."
      ]
    },
    {
      "cell_type": "markdown",
      "id": "9fc60309-dda4-4be7-8cd0-f4bbdbea1da8",
      "metadata": {},
      "outputs": [],
      "source": [
        "For that we convert data_types and replace NaN with float('inf'). \nWe need float('inf') as it will help us to get rid of negative values(there will be no method restrictions).\n"
      ]
    },
    {
      "cell_type": "code",
      "id": "d531ba69-8932-491c-8c98-208e4d26db4a",
      "metadata": {},
      "outputs": [],
      "source": [
        "fix_types = {\n    'open': np.float64,\n    'close': np.float64,\n    'high': np.float64,\n    'low': np.float64,\n    'volume': np.float64,\n    'rec_count': np.float64,\n    'avg_price': np.float64,\n    }\ndf = df.astype(fix_types)\ndf[['volume', 'rec_count']] = df[['volume', 'rec_count']].replace(np.nan, float('inf'))\ndf.head()"
      ]
    },
    {
      "cell_type": "code",
      "id": "85772256-5568-40b4-9fff-2c25359a008d",
      "metadata": {},
      "outputs": [],
      "source": [
        "cols_with_neg_values = ['volume', 'rec_count']"
      ]
    },
    {
      "cell_type": "code",
      "id": "c7b8fb67-cac0-4ee6-9ee7-1bc618e1a851",
      "metadata": {},
      "outputs": [],
      "source": [
        "for column in cols_with_neg_values:\n    df[column] = df[column].abs()"
      ]
    },
    {
      "cell_type": "markdown",
      "id": "84439718-87c4-4490-82a8-1cea1dbc036c",
      "metadata": {},
      "outputs": [],
      "source": [
        "Let's check if everything is fine by displaying dataframe and using <code>has_negative_values</code> method that we implemented previously."
      ]
    },
    {
      "cell_type": "code",
      "id": "ab57fd81-7523-476c-8b00-1c8fd6a6c2b8",
      "metadata": {},
      "outputs": [],
      "source": [
        "for column in cols_with_neg_values:\n  col_res = has_negative_values(df, column)\n  log_res = 'contains' if col_res else 'does not contain'\n  print(f'Column {column} {log_res} negative values')"
      ]
    },
    {
      "cell_type": "markdown",
      "id": "92628545-3f09-4a3a-b139-57063897c241",
      "metadata": {},
      "outputs": [],
      "source": [
        "Now as we do not have negative values we can replace float('inf') with np.nan"
      ]
    },
    {
      "cell_type": "code",
      "id": "d94fc89c-e3a6-4ff1-ae33-306f35eb3b28",
      "metadata": {},
      "outputs": [],
      "source": [
        "df.replace(float('inf'), np.nan, inplace = True)"
      ]
    },
    {
      "cell_type": "code",
      "id": "b69adc8c-f863-4626-8220-abe5effe294e",
      "metadata": {},
      "outputs": [],
      "source": [
        "methods = [{'method': 'linear', 'limit_direction': 'both'}, {'method': 'polynomial', 'order': 3}, {'method': 'pad', 'limit_direction': 'forward'}]"
      ]
    },
    {
      "cell_type": "markdown",
      "id": "f586d60e-34dc-46db-bcc2-c60261120aaa",
      "metadata": {},
      "outputs": [],
      "source": [
        "Now we have to interpolate missing values and choose one of the methods."
      ]
    },
    {
      "cell_type": "code",
      "id": "c3d0aa72-44e0-454f-9d0a-b5f09df2d9d9",
      "metadata": {},
      "outputs": [],
      "source": [
        "# from sklearn.metrics import mean_absolute_percentage_error\ndef mean_absolute_percentage_error(y_true, y_pred):\n    return np.mean(np.abs((y_true - y_pred) / y_true)) * 100\n\n\ninterp_df = pd.DataFrame()\n\nfor params in methods:\n  method = params['method']\n\n  # geting mean_absolute_percentage_error for record count\n  interp_df[f'{method}_rec_count'] = df['rec_count'].interpolate(**params)\n  print(f\"rec_count {method} {mean_absolute_percentage_error(df_copy['rec_count'], interp_df[f'{method}_rec_count'])}\")\n    \n  # geting mean_absolute_percentage_error for Volume\n  interp_df[f'{method}_volume'] = df['volume'].interpolate(**params)\n  print(f\"volume {method} {mean_absolute_percentage_error(df_copy['volume'], interp_df[f'{method}_volume'])}\")"
      ]
    },
    {
      "cell_type": "code",
      "id": "4c94a890-ee4e-4e48-a03e-1acc5dccd259",
      "metadata": {},
      "outputs": [],
      "source": [
        "# let's do the same thing with other values\n\nfor params in methods:\n  # geting mean_absolute_percentage_error for open\n  interp_df['open'] = df['open'].interpolate(**params)\n  \n  # geting mean_absolute_percentage_error for close\n  interp_df['close'] = df['close'].interpolate(**params)\n    \n  # geting mean_absolute_percentage_error for close\n  interp_df['low'] = df['low'].interpolate(**params)\n  \n  # geting mean_absolute_percentage_error for close\n  interp_df['high'] = df['high'].interpolate(**params)\n    \n  # geting mean_absolute_percentage_error for close\n  interp_df['avg_price'] = df['avg_price'].interpolate(**params)"
      ]
    },
    {
      "cell_type": "markdown",
      "id": "8e9b0889-0c0e-41c1-b60f-514992f07a0b",
      "metadata": {},
      "outputs": [],
      "source": [
        "As we can see linear method fits our data the most."
      ]
    },
    {
      "cell_type": "code",
      "id": "0b4c297c-697f-4c19-9421-443c4fc02d82",
      "metadata": {},
      "outputs": [],
      "source": [
        "pd.options.mode.chained_assignment = None \ndf['rec_count'] = interp_df['linear_rec_count']\ndf['volume'] = interp_df['linear_volume']\ndf['open'] = interp_df['open']\ndf['close'] = interp_df['close']\ndf['high'] = interp_df['high']\ndf['low'] = interp_df['low']\ndf['avg_price'] = interp_df['avg_price']\npd.options.mode.chained_assignment = 'warn'"
      ]
    },
    {
      "cell_type": "markdown",
      "id": "45159fa5-db83-40ed-8481-2fb308bc1d44",
      "metadata": {},
      "outputs": [],
      "source": [
        "Let's check if all missing values were replaced using previously implemented <code>has_missing_values</code> method."
      ]
    },
    {
      "cell_type": "code",
      "id": "f32afb51-c396-4d63-af88-405d297bc47e",
      "metadata": {},
      "outputs": [],
      "source": [
        "has_missing_values(df, 'rec_count', missing_value=np.nan)"
      ]
    },
    {
      "cell_type": "code",
      "id": "769e1f85-c2da-4fde-b3d5-86cbf9913b93",
      "metadata": {},
      "outputs": [],
      "source": [
        "has_missing_values(df, 'volume', missing_value=np.nan)"
      ]
    },
    {
      "cell_type": "code",
      "id": "81e3806e-a26d-4e4b-996f-04d2713a69e5",
      "metadata": {},
      "outputs": [],
      "source": [
        "o = has_missing_values(df, 'open', missing_value=np.nan)\nc = has_missing_values(df, 'close', missing_value=np.nan)\nh = has_missing_values(df, 'high', missing_value=np.nan)\nl = has_missing_values(df, 'low', missing_value=np.nan)\nprint(o, c, h, l)"
      ]
    },
    {
      "cell_type": "markdown",
      "id": "2b300020-3163-42b4-ad5c-2c11210fb2b0",
      "metadata": {},
      "outputs": [],
      "source": [
        "<b>Good!</b> Now, we have a dataset with no missing values.\n"
      ]
    },
    {
      "cell_type": "markdown",
      "id": "1735c6d3-7966-4619-af8b-c383520b3a93",
      "metadata": {},
      "outputs": [],
      "source": [
        "<h3 id=\"correct_data_format\">Correct data format</h3>\n<b>We are almost there!</b>\n<p>The last step in data cleaning is checking and making sure that all data is in the correct format (int, float, text or other).</p>\n\nIn Pandas, we use:\n\n<p><b>.dtype()</b> to check the data type</p>\n<p><b>.astype()</b> to change the data type</p>\n"
      ]
    },
    {
      "cell_type": "markdown",
      "id": "2baf33f4-e08a-4946-ab0c-bd5b2313f509",
      "metadata": {},
      "outputs": [],
      "source": [
        "<h4>Let's list the data types for each column</h4>\n"
      ]
    },
    {
      "cell_type": "code",
      "id": "c1b5a8df-a7e8-4b0c-9865-b542dd4be4d5",
      "metadata": {},
      "outputs": [],
      "source": [
        "df.dtypes"
      ]
    },
    {
      "cell_type": "markdown",
      "id": "a43e93b0-20e5-42cd-b3b4-b36dafbc6622",
      "metadata": {},
      "outputs": [],
      "source": [
        "<p>As we can see above, some columns are not of the correct data type. Numerical variables should have type <code>float</code> or <code>int</code>, datetime values should have <code>datetime</code> . For example, 'Volume' is  numerical value of type <code>float</code>; however, it is displayed <code>object</code>, same goes for 'Ts' column that is of type <code>datetime</code>. We have to convert data types into a proper format for each column using the <code>astype()</code> method.</p> \n"
      ]
    },
    {
      "cell_type": "markdown",
      "id": "66d1fdc6-c36f-4eab-9d20-ed39eadcad26",
      "metadata": {},
      "outputs": [],
      "source": [
        "<h4>Convert data types to proper format</h4>\n"
      ]
    },
    {
      "cell_type": "code",
      "id": "7b6af82a-cca4-4046-8cf7-2b79cad7086b",
      "metadata": {},
      "outputs": [],
      "source": [
        "correct_types = {\n                'open': np.float64,\n                'high': np.float64,\n                'low': np.float64,\n                'close': np.float64,\n                'volume': np.float64,\n                'rec_count': np.int64,\n                'avg_price': np.float64,\n                # indicators\n                'ADOSC': np.float64,\n                'NATR': np.float64,\n                'TRANGE': np.float64,\n                # other currencies\n                'ape_avg_price': np.float64,\n                'bnb_avg_price': np.float64,\n                'doge_avg_price': np.float64,\n                'eth_avg_price': np.float64,\n                'xrp_avg_price': np.float64,\n                'matic_avg_price': np.float64\n                 }\n\ndf = df.astype(correct_types)"
      ]
    },
    {
      "cell_type": "markdown",
      "id": "35722a24-bc3f-41aa-8d12-55f17b85be55",
      "metadata": {},
      "outputs": [],
      "source": [
        "<h4>Let us list the columns after the conversion</h4>\n"
      ]
    },
    {
      "cell_type": "code",
      "id": "1f9eb791-b57d-46cb-ab9a-90a2ca5f45a9",
      "metadata": {},
      "outputs": [],
      "source": [
        "df.dtypes"
      ]
    },
    {
      "cell_type": "markdown",
      "id": "c6d4e438-f937-4313-a757-402d41815add",
      "metadata": {},
      "outputs": [],
      "source": [
        "Now we have obtained the cleaned dataset with no missing values and with correct datatypes. Let's save it.\n"
      ]
    },
    {
      "cell_type": "code",
      "id": "05301514-e924-4df1-94c4-8f5b304c5bf2",
      "metadata": {},
      "outputs": [],
      "source": [
        "df.to_csv('BTCBUSD_1min.csv')"
      ]
    },
    {
      "cell_type": "markdown",
      "id": "c7fe750a-96eb-4d6f-83fb-0075ac5e32dc",
      "metadata": {},
      "outputs": [],
      "source": [
        "<h2 id=\"data_standardization\">Data Standardization</h2>\n<p>\nData is usually collected from different sources in different formats.\n(Data standardization is also a term for a particular type of data normalization where we subtract the mean and divide by the standard deviation.)\n</p>\n\n<b>What is standardization?</b>\n\n<p>Standardization is the process of transforming data into a common format, allowing the researcher to make the meaningful comparison.\n</p>\n\n<b>Example</b>\n\n<p>Transform BUSD to USDT:</p>\n<p>In our dataset, the avarage cost column \"avg_cost\" is represented by BUSD unit. Assume we want to perform some analisys, but using USDT values.</p>\n<p>We will need to apply <b>data transformation</b> to transform BUSD into USDT.</p>\n"
      ]
    },
    {
      "cell_type": "markdown",
      "id": "5a251150-b282-4673-bd49-45031bb024b1",
      "metadata": {},
      "outputs": [],
      "source": [
        "Let's use [CoinMarketCAP](https://coinmarketcap.com/api/) API to get up to date info for transformation\n\nWe can do many mathematical operations directly in Pandas.\n\nNote: to send requests to [https://coinmarketcap.com/api/](https://coinmarketcap.com/api/) you need to register and get your own API_KEY"
      ]
    },
    {
      "cell_type": "code",
      "id": "8027d9d7-6b39-4ab7-962f-4d9d8ec5e56d",
      "metadata": {},
      "outputs": [],
      "source": [
        "df.head()"
      ]
    },
    {
      "cell_type": "code",
      "id": "39481912-59be-4a09-8a49-7d8ffbade4fc",
      "metadata": {},
      "outputs": [],
      "source": [
        "url = \"https://pro-api.coinmarketcap.com/v1/cryptocurrency/quotes/latest\"\n\nparameters = {\n  \"symbol\": \"BUSD\",\n  \"convert\": \"USDT\"\n}\n\nheaders = {\n  \"Accepts\": \"application/json\",\n  \"X-CMC_PRO_API_KEY\": \"YOUR_API_KEY\" # change \"YOUR_API_KEY\" to your API_KEY in other case, \n    # the code will use default rate that may be outdated\n}\n\nresponse = requests.get(url, headers=headers, params=parameters)\n\nif response.status_code != 200:\n    rate = 0.999707\nelse:\n    data = response.json()\n    rate = float(data[\"data\"][\"BUSD\"][\"quote\"][\"USDT\"][\"price\"])\n\nprint(f\"The exchange rate is 1 BUSD = {rate} USDT\")\n\ncols_to_convert = [\"avg_price\"]\nfor col in cols_to_convert:\n    df[f\"{col}_USDT\"] = df[col] * rate\n\n# check your transformed data \ndf[[\"avg_price_USDT\"]].head(25)"
      ]
    },
    {
      "cell_type": "markdown",
      "id": "81ef72b4-a648-485c-a451-51b4408ad9aa",
      "metadata": {},
      "outputs": [],
      "source": [
        "<div class=\"alert alert-danger alertdanger\" style=\"margin-top: 20px\">\n<h1> Question  #1: </h1>\n\n<b>According to the example above, transform BUSD to ADA in the new column  called \"ADA_avg_price\".</b>\n\n</div>\n"
      ]
    },
    {
      "cell_type": "code",
      "id": "e0d6cf56-96b4-4833-9280-985742cd3ce8",
      "metadata": {},
      "outputs": [],
      "source": [
        "# Write your code below and press Shift+Enter to execute "
      ]
    },
    {
      "cell_type": "markdown",
      "id": "71f6e079-7075-47e4-bb08-8bc6b27466d7",
      "metadata": {},
      "outputs": [],
      "source": [
        "<details><summary>Click here for the solution</summary>\n\n```python\n# Convert BUSD to BTC by mathematical operation\nimport requests\n\nurl = \"https://pro-api.coinmarketcap.com/v1/cryptocurrency/quotes/latest\"\n\nparameters = {\n  \"symbol\": \"BUSD\",\n  \"convert\": \"BTC\"\n}\n\nheaders = {\n  \"Accepts\": \"application/json\",\n  \"X-CMC_PRO_API_KEY\": \"YOUR_API_KEY\" # change \"YOUR_API_KEY\" to your API_KEY in other case, \n    # the code will use default rate that may be outdated\n}\n\nresponse = requests.get(url, headers=headers, params=parameters)\n\nif response.status_code != 200:\n    rate = 4.1659326843755195e-05\nelse:\n    data = response.json()\n    rate = float(data[\"data\"][\"BUSD\"][\"quote\"][\"BTC\"][\"price\"])\n\nprint(f\"The exchange rate is 1 BUSD = {rate} BTC\")\n\ncols_to_convert = [\"avg_price\"]\nfor col in cols_to_convert:\n    df[f\"{col}_BTC\"] = df[col] * rate\n\n# check your transformed data \ndf[[\"avg_price_BTC\"]].head(25)\n\n```\n\n</details>\n"
      ]
    },
    {
      "cell_type": "markdown",
      "id": "d656f058-f8b6-4f79-bb5e-8c69bb1ff13c",
      "metadata": {},
      "outputs": [],
      "source": [
        "<h2 id=\"data_normalization\">Data Normalization</h2>\n\n<b>Why normalization?</b>\n\n<p>Normalization is the process of transforming values of several variables into a similar range. Typical normalizations include scaling the variable so the variable average is 0, scaling the variable so the variance is 1, or scaling the variable so the variable values range from 0 to 1.\n</p>\n\n<b>Example</b>\n\n<p>To demonstrate normalization, let's say we want to scale the columns \"rec_count\" and \"volume\".</p>\n<p><b>Target:</b> would like to normalize those variables so their value ranges from 0 to 1</p>\n<p><b>Approach:</b> Use <a href=\"https://scikit-learn.org/stable/modules/generated/sklearn.preprocessing.MinMaxScaler.html\">MinMaxScaler</a> that does following computations:</p>\n<ul>\n<li>\nX_std = (X - X.min(axis=0)) / (X.max(axis=0) - X.min(axis=0))\n</li>\n<li>\nX_scaled = X_std * (max - min) + min\n</li>\n</ul>\nWhere min, max are params from feature_range.\n"
      ]
    },
    {
      "cell_type": "code",
      "id": "01f4d4cc-9419-4b1d-96f7-e4de1efb1dc8",
      "metadata": {},
      "outputs": [],
      "source": [
        "# replace (original value) by MinMaxScaler values\n# the default value of fearture_range parameter is (0, 1),\n# so we do not need to specify it\nscaler = MinMaxScaler()\ndf[['rec_count']] = scaler.fit_transform(df[['rec_count']])\ndf[['rec_count']]"
      ]
    },
    {
      "cell_type": "markdown",
      "id": "d86fa9d7-8ffb-46a9-82e4-a09d49ec0b86",
      "metadata": {},
      "outputs": [],
      "source": [
        "<div class=\"alert alert-danger alertdanger\" style=\"margin-top: 20px\">\n<h1> Question #2: </h1>\n\n<b>According to the example above, normalize the column \"volume\".</b>\n\n</div>\n"
      ]
    },
    {
      "cell_type": "code",
      "id": "eb4ced62-705d-4d05-9735-6a1c29d77716",
      "metadata": {},
      "outputs": [],
      "source": [
        "# Write your code below and press Shift+Enter to execute "
      ]
    },
    {
      "cell_type": "markdown",
      "id": "504689e9-5b4b-4137-851d-02b33c607cd8",
      "metadata": {},
      "outputs": [],
      "source": [
        "<details><summary>Click here for the solution</summary>\n\n```python\ndf[['volume']] = scaler.fit_transform(df[['volume']])\n\n# show the scaled columns\ndf[['volume','rec_count']].head()\n\n```\n\n</details>\n"
      ]
    },
    {
      "cell_type": "markdown",
      "id": "c9392c0d-ee48-4e1a-81a5-ed1ded7ab27d",
      "metadata": {},
      "outputs": [],
      "source": [
        "Here we can see we've normalized \"volume\" and \"rec_count\" in the range of \\[0,1].\n"
      ]
    },
    {
      "cell_type": "markdown",
      "id": "b8de3956-5dfa-4be1-9b00-cf1914e35873",
      "metadata": {},
      "outputs": [],
      "source": [
        "<h2 id=\"binning\">Binning</h2>\n<b>Why binning?</b>\n<p>\n    Binning is a process of transforming continuous numerical variables into discrete categorical 'bins' for grouped analysis.\n</p>\n\n<b>Example: </b>\n\n<p> What if we want to see periods of time when \"Avg_price\" had highest values and analyse the difference between \"high\" and \"low\" values for high, medium and low \"avg_price\"?\nCan we rearrange them into three ‘bins' to simplify analysis? </p>\n\n<p>We will use the pandas method \"cut\" to segment the \"avg_price\" column into 3 bins.</p>\n"
      ]
    },
    {
      "cell_type": "markdown",
      "id": "b9735eed-7da1-4372-81d5-50eaf6fbf493",
      "metadata": {},
      "outputs": [],
      "source": [
        "<h3>Example of Binning Data In Pandas</h3>\n"
      ]
    },
    {
      "cell_type": "markdown",
      "id": "016e3f80-a415-4a3f-bd0f-9d8f4c2c9577",
      "metadata": {},
      "outputs": [],
      "source": [
        "Let's plot the histogram of avg_price to see what the distribution of avg_price looks like.\n"
      ]
    },
    {
      "cell_type": "code",
      "id": "b017f89d-ef7e-454c-b7ef-ad4fb609ab56",
      "metadata": {},
      "outputs": [],
      "source": [
        "plt.pyplot.hist(df[\"avg_price\"])\n\n# set x/y labels and plot title\nplt.pyplot.xlabel(\"Avg_price\")\nplt.pyplot.ylabel(\"Count\")\nplt.pyplot.title(\"Average price bins\")"
      ]
    },
    {
      "cell_type": "markdown",
      "id": "f76355cd-668b-4ac9-9734-7f6f884b139e",
      "metadata": {},
      "outputs": [],
      "source": [
        "<p>We would like 3 bins of equal size bandwidth so we use numpy's <code>linspace(start_value, end_value, numbers_generated</code> function.</p>\n<p>Since we want to include the minimum value of \"avg_price\" column, we want to set start_value = min(df[\"avg_price\"]).</p>\n<p>Since we want to include the maximum value of \"avg_price\" column, we want to set end_value = max(df[\"avg_price\"]).</p>\n<p>Since we are building 3 bins of equal length, there should be 4 dividers, so numbers_generated = 4.</p>\n"
      ]
    },
    {
      "cell_type": "markdown",
      "id": "76ac568a-b157-4f77-8958-5f32a3fca5cb",
      "metadata": {},
      "outputs": [],
      "source": [
        "We build a bin array with a minimum value to a maximum value by using the bandwidth calculated above. The values will determine when one bin ends and another begins.\n"
      ]
    },
    {
      "cell_type": "code",
      "id": "194c68f8-3987-4c25-a2d5-69980ab9d32c",
      "metadata": {},
      "outputs": [],
      "source": [
        "bins = np.linspace(min(df['avg_price']), max(df['avg_price']), 4)\nbins"
      ]
    },
    {
      "cell_type": "markdown",
      "id": "9ad479a2-4299-4d09-b81e-a4ea3ed75071",
      "metadata": {},
      "outputs": [],
      "source": [
        "We set group  names:\n"
      ]
    },
    {
      "cell_type": "code",
      "id": "0ba6a5bb-2035-4ed1-afb3-1632cf29d533",
      "metadata": {},
      "outputs": [],
      "source": [
        "group_names = ['low', 'medium', 'high']"
      ]
    },
    {
      "cell_type": "markdown",
      "id": "39250b66-a6cc-456e-a7c8-dbaec5e37a9d",
      "metadata": {},
      "outputs": [],
      "source": [
        "We apply the function \"cut\" to determine what each value of `df['Avg_price']` belongs to.\n"
      ]
    },
    {
      "cell_type": "code",
      "id": "22f514e9-7842-4236-9fa3-347a077bdf4d",
      "metadata": {},
      "outputs": [],
      "source": [
        "df['avg_price_binned'] = pd.cut(df['avg_price'], bins, labels=group_names, include_lowest=True )\ndf[['avg_price','avg_price_binned']].head(20)"
      ]
    },
    {
      "cell_type": "markdown",
      "id": "bbd67665-38f1-4182-ab19-1900194da7a3",
      "metadata": {},
      "outputs": [],
      "source": [
        "Let's see the number of records in each bin:\n"
      ]
    },
    {
      "cell_type": "code",
      "id": "ad26bead-4fe5-4b03-9cca-0e34667490bc",
      "metadata": {},
      "outputs": [],
      "source": [
        "df[\"avg_price_binned\"].value_counts()"
      ]
    },
    {
      "cell_type": "markdown",
      "id": "c66dfc24-de04-478e-bd3b-d5eefde6410a",
      "metadata": {},
      "outputs": [],
      "source": [
        "Let's plot the distribution of each bin:\n"
      ]
    },
    {
      "cell_type": "code",
      "id": "5ca0c93d-c033-406b-81a9-d275f3efb6a3",
      "metadata": {},
      "outputs": [],
      "source": [
        "pyplot.bar(group_names, df[\"avg_price_binned\"].value_counts())\n\n# set x/y labels and plot title\nplt.pyplot.xlabel(\"Avg_price\")\nplt.pyplot.ylabel(\"Count\")\nplt.pyplot.title(\"Average price bins\")"
      ]
    },
    {
      "cell_type": "markdown",
      "id": "f1122ae7-98f3-4c1b-aa64-2263cba12700",
      "metadata": {},
      "outputs": [],
      "source": [
        "<p>\n    Good, we devided our dataset into bins by \"Avg_price\" based on 3 categories (\"Low\", \"Medium\" and \"High\"). \n</p>"
      ]
    },
    {
      "cell_type": "markdown",
      "id": "26c01c2c-7df5-4bce-9863-66822a4a7d29",
      "metadata": {},
      "outputs": [],
      "source": [
        "<h3>Bins Visualization</h3>\nNormally, a histogram is used to visualize the distribution of bins we created above. \n"
      ]
    },
    {
      "cell_type": "code",
      "id": "6f10f5d7-a1d5-48b2-b1e6-08c4ba97e0dc",
      "metadata": {},
      "outputs": [],
      "source": [
        "# draw historgram of attribute \"High\" with bins = 3\nplt.pyplot.hist(df[\"avg_price\"], bins=3)\n\n# set x/y labels and plot title\nplt.pyplot.xlabel(\"Avg_price\")\nplt.pyplot.ylabel(\"Count\")\nplt.pyplot.title(\"Avarage price bins\")"
      ]
    },
    {
      "cell_type": "markdown",
      "id": "a9a78758-d9de-4431-a4f9-0ed22d087723",
      "metadata": {},
      "outputs": [],
      "source": [
        "The plot above shows the binning result for the attribute \"Avg_price\".\n"
      ]
    },
    {
      "cell_type": "code",
      "id": "18dec7ed-98f0-4982-b217-c3721b122567",
      "metadata": {},
      "outputs": [],
      "source": [
        "dummy_variable = pd.get_dummies(df['avg_price_binned'])\ndummy_variable"
      ]
    },
    {
      "cell_type": "markdown",
      "id": "ddc504cb-e8ba-433b-a580-850e54cdf389",
      "metadata": {},
      "outputs": [],
      "source": [
        "Change the column names for clarity:"
      ]
    },
    {
      "cell_type": "code",
      "id": "7cb8de51-db5f-48c0-934b-de9c52dc9ca8",
      "metadata": {},
      "outputs": [],
      "source": [
        "dummy_variable.rename(columns={'low':'low_bin', 'medium':'medium_bin', 'high': 'high_bin'}, inplace=True)"
      ]
    },
    {
      "cell_type": "code",
      "id": "8e32372e-8d2a-4bdb-abac-533c00f2c709",
      "metadata": {},
      "outputs": [],
      "source": [
        "# merge data frame \"df\" and \"dummy_variable\" \ndf = pd.concat([df, dummy_variable], axis=1)\n\n# drop original column \"Avg_price_binned\" from \"df\"\ndf.drop(\"avg_price_binned\", axis=1, inplace=True)"
      ]
    },
    {
      "cell_type": "code",
      "id": "c32e8b9b-cee0-4453-a88c-a77913051f7f",
      "metadata": {},
      "outputs": [],
      "source": [
        "df.head()"
      ]
    },
    {
      "cell_type": "markdown",
      "id": "4a94a22e-f050-40cc-9b7f-4528c2f9d99d",
      "metadata": {},
      "outputs": [],
      "source": [
        "<div class=\"alert alert-danger alertdanger\" style=\"margin-top: 20px\">\n<h1> Question  #3: </h1>\n\n<b>Create an indicator variable for the list of values: <code>['apple', 'orange', 'banana']</code></b>\n\n</div>\n"
      ]
    },
    {
      "cell_type": "code",
      "id": "1dd240a2-ad6e-4156-9834-f2c239d1b798",
      "metadata": {},
      "outputs": [],
      "source": [
        "# Write your code below and press Shift+Enter to execute "
      ]
    },
    {
      "cell_type": "markdown",
      "id": "466b4640-f2fa-4646-b340-8cae8422963c",
      "metadata": {},
      "outputs": [],
      "source": [
        "<details><summary>Click here for the solution</summary>\n\n```python\n# get indicator variables for list of values and assign it to data frame \"dummy_variable_1\"\nlist_of_values = ['apple', 'orange', 'banana']\ndummy_variable_1 = pd.get_dummies(list_of_values)\n\ndummy_variable_1.head()\n\n\n```\n\n</details>\n"
      ]
    },
    {
      "cell_type": "markdown",
      "id": "f0d74c0c-a21e-4497-a784-29a309ae888f",
      "metadata": {},
      "outputs": [],
      "source": [
        "<div class=\"alert alert-danger alertdanger\" style=\"margin-top: 20px\">\n<h1> Question  #4: </h1>\n\n<b>Similar to before, create bins for the column \"high\" with four group names. Plot the distribution of each bin. </b>\n\n</div>\n"
      ]
    },
    {
      "cell_type": "code",
      "id": "69230ed0-7f08-474e-83c3-e4e20bcd76d4",
      "metadata": {},
      "outputs": [],
      "source": [
        "# Write your code below and press Shift+Enter to execute "
      ]
    },
    {
      "cell_type": "markdown",
      "id": "7e1aa85f-2e18-433f-8aca-4f5e2d595337",
      "metadata": {},
      "outputs": [],
      "source": [
        "<details><summary>Click here for the solution</summary>\n\n```python\n%matplotlib inline\nimport matplotlib as plt\nfrom matplotlib import pyplot\n\nbins = np.linspace(df['high'].min(), df['high'].max(), 5)\nprint(bins)\n\ngroup_names = ['hlow_bin', 'hmedium_Low_bin', 'hmedium_High_bin' , 'hhigh_bin']\n\ndf['high_binned'] = pd.cut(df['high'], bins, labels=group_names, include_lowest=True)\npyplot.bar(group_names, df[\"high_binned\"].value_counts())\n\nplt.pyplot.hist(df[\"high\"])\n\nplt.pyplot.xlabel(\"High \")\nplt.pyplot.ylabel(\"Count\")\nplt.pyplot.title(\"High bins\")\n```\n\n</details>\n"
      ]
    },
    {
      "cell_type": "markdown",
      "id": "e2bce574-676b-4477-9a4d-d6423c319ae2",
      "metadata": {},
      "outputs": [],
      "source": [
        "<h3>Resampling</h3>\n"
      ]
    },
    {
      "cell_type": "markdown",
      "id": "63cfebcd-163f-4032-b43b-2a200b776873",
      "metadata": {},
      "outputs": [],
      "source": [
        "Time series data can be summarized or aggregated by a new time interval. For example, you can summarize minute data into hours, hours into days, etc."
      ]
    },
    {
      "cell_type": "markdown",
      "id": "dd60d6f1-61ae-473a-809c-ca60d571ea52",
      "metadata": {},
      "outputs": [],
      "source": [
        "This process of changing the time period data to be summarized into another time period is often called resampling."
      ]
    },
    {
      "cell_type": "markdown",
      "id": "40a4db24-dcc2-44cd-b148-f63a4f86232c",
      "metadata": {},
      "outputs": [],
      "source": [
        "Let's resample our data from 1 minute to 5 minutes, we will use <code>pandas</code> <code>resample()</code> method for this purpose."
      ]
    },
    {
      "cell_type": "markdown",
      "id": "3fc9a860-4d1c-4a35-b5d1-5a1edc08ef11",
      "metadata": {},
      "outputs": [],
      "source": [
        "Now we create new dataframe and write aggragated data in it. "
      ]
    },
    {
      "cell_type": "code",
      "id": "9b14b79c-aca8-4d82-9adc-7bd568031531",
      "metadata": {},
      "outputs": [],
      "source": [
        "resample_df5 = pd.DataFrame()\nresample_df5['open'] = df['open'].resample('5min').first()\nresample_df5['high'] = df['high'].resample('5min').max()\nresample_df5['low'] = df['low'].resample('5min').min()\nresample_df5['close'] = df['close'].resample('5min').last()\nresample_df5['volume'] = df['volume'].resample('5min').sum()"
      ]
    },
    {
      "cell_type": "markdown",
      "id": "67120372-bf68-4123-a59d-be2abb280905",
      "metadata": {},
      "outputs": [],
      "source": [
        "Let's aggregate data to 10 minutes, using shorter syntax."
      ]
    },
    {
      "cell_type": "code",
      "id": "b4907551-09a7-4e75-bc9a-a13a1b0792bd",
      "metadata": {},
      "outputs": [],
      "source": [
        "resample_df10 = df[[\"open\", \"high\", \"low\", \"close\", \"volume\"]].resample(\"10min\").agg({\n    \"open\": \"first\",\n    \"high\": \"max\",\n    \"low\": \"min\",\n    \"close\": \"last\",\n    \"volume\": \"sum\"\n})"
      ]
    },
    {
      "cell_type": "markdown",
      "id": "dfb4877e-89f7-4102-9ad5-042b0937f625",
      "metadata": {},
      "outputs": [],
      "source": [
        "In the above cell we specified time and how our aggragated data will be aggregated.\n\n> <i>For example:</i> for 'Volume' all values(within 5 minutes intervals) in that column will be summed up; for 'Close' we get last value from 5-minute interval; for 'High' we get maximum value within 5-minute intervals."
      ]
    },
    {
      "cell_type": "code",
      "id": "9629350d-87a4-4b66-a60b-adf69a719c3a",
      "metadata": {},
      "outputs": [],
      "source": [
        "resample_df5"
      ]
    },
    {
      "cell_type": "markdown",
      "id": "c397d604-9406-426b-933c-39046fd1ee9b",
      "metadata": {},
      "outputs": [],
      "source": [
        "As you can see we successfully resampled our 1 minute intervals. Let's save new datasets into csv file"
      ]
    },
    {
      "cell_type": "code",
      "id": "85397786-ba75-4086-84bd-8a060f4fba0b",
      "metadata": {},
      "outputs": [],
      "source": [
        "resample_df5.to_csv('BTC BUSD 5min.csv')\nresample_df10.to_csv('BTC BUSD 10min.csv')"
      ]
    },
    {
      "cell_type": "markdown",
      "id": "ba72b312-7236-47d2-8ec7-3b2c3746dd24",
      "metadata": {},
      "outputs": [],
      "source": [
        "### Thank you for completing this lab!\n\n## Author\n\n<a href=\"https://www.linkedin.com/in/joseph-s-50398b136/?utm_medium=Exinfluencer&utm_source=Exinfluencer&utm_content=000026UJ&utm_term=10006555&utm_id=NA-SkillsNetwork-Channel-SkillsNetworkCoursesIBMDeveloperSkillsNetworkDA0101ENSkillsNetwork20235326-2021-01-01\" target=\"_blank\">Joseph Santarcangelo</a>\n\n### Other Contributors\n\n<a href=\"https://www.linkedin.com/in/mahdi-noorian-58219234/?utm_medium=Exinfluencer&utm_source=Exinfluencer&utm_content=000026UJ&utm_term=10006555&utm_id=NA-SkillsNetwork-Channel-SkillsNetworkCoursesIBMDeveloperSkillsNetworkDA0101ENSkillsNetwork20235326-2021-01-01\" target=\"_blank\">Mahdi Noorian PhD</a>\n\nBahare Talayian\n\nEric Xiao\n\nSteven Dong\n\nParizad\n\nHima Vasudevan\n\n<a href=\"https://www.linkedin.com/in/fiorellawever/?utm_medium=Exinfluencer&utm_source=Exinfluencer&utm_content=000026UJ&utm_term=10006555&utm_id=NA-SkillsNetwork-Channel-SkillsNetworkCoursesIBMDeveloperSkillsNetworkDA0101ENSkillsNetwork20235326-2021-01-01\" target=\"_blank\">Fiorella Wenver</a>\n\n<a href=\"https:// https://www.linkedin.com/in/yi-leng-yao-84451275/ \" target=\"_blank\" >Yi Yao</a>.\n\n## Change Log\n\n| Date (YYYY-MM-DD) | Version | Changed By | Change Description                  |\n| ----------------- | ------- | ---------- | ----------------------------------- |\n\n<hr>\n\n## <h3 align=\"center\"> © IBM Corporation 2020. All rights reserved. <h3/>\n"
      ]
    }
  ],
  "metadata": {
    "language_info": {
      "name": ""
    },
    "kernelspec": {
      "name": "",
      "display_name": ""
    }
  },
  "nbformat": 4,
  "nbformat_minor": 4
}
{
  "metadata": {
    "anaconda-cloud": {},
    "colab": {
      "collapsed_sections": [
        "q6KHCHt13GoF"
      ],
      "provenance": []
    },
    "kernelspec": {
      "name": "python",
      "display_name": "Python (Pyodide)",
      "language": "python"
    },
    "language_info": {
      "codemirror_mode": {
        "name": "python",
        "version": 3
      },
      "file_extension": ".py",
      "mimetype": "text/x-python",
      "name": "python",
      "nbconvert_exporter": "python",
      "pygments_lexer": "ipython3",
      "version": "3.8"
    }
  },
  "nbformat_minor": 4,
  "nbformat": 4,
  "cells": [
    {
      "cell_type": "markdown",
      "source": "<center>\n    <img src=\"https://cf-courses-data.s3.us.cloud-object-storage.appdomain.cloud/IBMDeveloperSkillsNetwork-DA0101EN-SkillsNetwork/labs/Module%202/images/IDSNlogo.png\" width=\"300\" alt=\"cognitiveclass.ai logo\"  />\n</center>\n\n# Data Wrangling\n\nEstimated time needed: **30** minutes\n\n## Objectives\n\nAfter completing this lab you will be able to:\n\n*   Handle missing values\n*   Correct data format\n*   Standardize and normalize data\n",
      "metadata": {
        "id": "Kzman_lJ3Gnj"
      }
    },
    {
      "cell_type": "markdown",
      "source": "<h2>Table of Contents</h2>\n\n<div class=\"alert alert-block alert-info\" style=\"margin-top: 20px\">\n<ul>\n    <li><a href=\"https://#identify_handle_missing_values\">Identify and handle missing values</a>\n        <ul>\n            <li><a href=\"https://#identify_missing_values\">Identify missing values</a></li>\n            <li><a href=\"https://#deal_missing_values\">Deal with missing values</a></li>\n            <li><a href=\"https://#correct_data_format\">Correct data format</a></li>\n        </ul>\n    </li>\n    <li><a href=\"https://#data_standardization\">Data standardization</a></li>\n    <li><a href=\"https://#data_normalization\">Data normalization (centering/scaling)</a></li>\n    <li><a href=\"https://#binning\">Binning</a></li>\n    <li><a href=\"https://#indicator\">Indicator variable</a></li>\n</ul>\n\n</div>\n\n<hr>\n",
      "metadata": {
        "id": "hUJH3E5r3Gnn"
      }
    },
    {
      "cell_type": "markdown",
      "source": "<h2>What is the purpose of data wrangling?</h2>\n",
      "metadata": {
        "id": "s2ulGpOP3Gno"
      }
    },
    {
      "cell_type": "markdown",
      "source": "Data wrangling is the process of converting data from the initial format to a format that may be better for analysis.\n",
      "metadata": {
        "id": "r7Xdmeps3Gnp"
      }
    },
    {
      "cell_type": "markdown",
      "source": "<h3>What is the average coin cost in USDT?</h3>\n",
      "metadata": {
        "id": "h_dpbR403Gnq"
      }
    },
    {
      "cell_type": "markdown",
      "source": "<h3>Import data</h3>\n<p>\nYou can find the \"Finance Dataset\" from the following link: <a href=\"https://1824251045.rsc.cdn77.org/web/algohouse/data/ADABUSD_trades_1m.csv\">https://1824251045.rsc.cdn77.org/web/algohouse/data/ADABUSD_trades_1m.csv</a>. \nWe will be using this dataset throughout this course.\n</p>\n",
      "metadata": {
        "id": "iVYW3tKN3Gnq"
      }
    },
    {
      "cell_type": "markdown",
      "source": "<h4>Import pandas</h4> \n",
      "metadata": {
        "id": "z7hGGL-p3Gnq"
      }
    },
    {
      "cell_type": "markdown",
      "source": "If you are running the lab in your  browser, run the code below to install the libraries using `piplite`\n",
      "metadata": {
        "id": "lXZqOLja3Gnr"
      }
    },
    {
      "cell_type": "code",
      "source": "import piplite\nawait piplite.install(['pandas'])\nawait piplite.install(['matplotlib'])",
      "metadata": {
        "id": "5BEdyx1V3Gnr",
        "colab": {
          "base_uri": "https://localhost:8080/",
          "height": 339
        },
        "outputId": "d39ffecc-0a44-43ba-c558-ffa2946afe46",
        "trusted": true
      },
      "execution_count": 766,
      "outputs": []
    },
    {
      "cell_type": "markdown",
      "source": "If you run the lab locally using Anaconda, you can load the correct library and versions by uncommenting the following:\n",
      "metadata": {
        "id": "-0OUoW023Gns"
      }
    },
    {
      "cell_type": "code",
      "source": "#If you run the lab locally using Anaconda, you can load the correct library and versions by uncommenting the following:\n#install specific version of libraries used in lab\n#! mamba install pandas==1.3.3\n#! mamba install numpy=1.21.2\n",
      "metadata": {
        "id": "GhkDK1Ju3Gns",
        "trusted": true
      },
      "execution_count": 767,
      "outputs": []
    },
    {
      "cell_type": "markdown",
      "source": "Now, let's import libraries that we will use",
      "metadata": {
        "id": "W7MVaudC6pGB"
      }
    },
    {
      "cell_type": "code",
      "source": "import pandas as pd\nimport matplotlib.pylab as plt\nimport numpy as np\nimport warnings\n\nfrom sklearn.preprocessing import MinMaxScaler\nfrom typing import List, Tuple\nfrom matplotlib import pyplot\n",
      "metadata": {
        "id": "ilG2Yr613Gns",
        "trusted": true
      },
      "execution_count": 768,
      "outputs": []
    },
    {
      "cell_type": "markdown",
      "source": "This function will download the dataset into your browser\n",
      "metadata": {
        "id": "cDg2zyh53Gns"
      }
    },
    {
      "cell_type": "code",
      "source": "#This function will download the dataset into your browser \nfrom pyodide.http import pyfetch\n\nasync def download(url, filename):\n    response = await pyfetch(url)\n    if response.status == 200:\n        with open(filename, 'wb') as f:\n            f.write(await response.bytes())\n\n",
      "metadata": {
        "id": "e5TUZ8MK3Gnt",
        "colab": {
          "base_uri": "https://localhost:8080/",
          "height": 373
        },
        "outputId": "99e2a1b6-ed46-4af5-94ae-b50519ba2924",
        "trusted": true
      },
      "execution_count": 769,
      "outputs": []
    },
    {
      "cell_type": "markdown",
      "source": "<h2>Reading the dataset from the URL and adding the related headers</h2>\n",
      "metadata": {
        "id": "3WljdEm-3Gnt"
      }
    },
    {
      "cell_type": "markdown",
      "source": "First, we assign the URL of the dataset to \"filename\".\n",
      "metadata": {
        "id": "eHP1yEte3Gnu"
      }
    },
    {
      "cell_type": "code",
      "source": "filename = 'https://1824251045.rsc.cdn77.org/web/algohouse/data/ADABUSD_trades_1m.csv'",
      "metadata": {
        "id": "17qGIXoS3Gnu",
        "trusted": true
      },
      "execution_count": 770,
      "outputs": []
    },
    {
      "cell_type": "markdown",
      "source": "You will need to download the dataset; if you are running locally, please comment out the following\n",
      "metadata": {
        "id": "4ssQmuQ63Gnv"
      }
    },
    {
      "cell_type": "code",
      "source": "await download(filename, 'ADABUSD_trades_1m.csv')\nfilename='ADABUSD_trades_1m.csv'",
      "metadata": {
        "id": "1OLqeSn83Gnw",
        "colab": {
          "base_uri": "https://localhost:8080/",
          "height": 182
        },
        "outputId": "41666ce0-5bbb-486c-b0df-aa45cdf51718",
        "trusted": true
      },
      "execution_count": 771,
      "outputs": []
    },
    {
      "cell_type": "markdown",
      "source": "Use the Pandas method <b>read_csv()</b> to load the data from the web address.\nOur dataset contains index column which is the first column, and headers, so we will set the parameter <code>index_col=0</code> to use first column as index columns.\n",
      "metadata": {
        "id": "e3tkywAA3Gnw"
      }
    },
    {
      "cell_type": "code",
      "source": "df = pd.read_csv(filename, index_col=0)",
      "metadata": {
        "id": "e2WUvI0F3Gnw",
        "trusted": true
      },
      "execution_count": 772,
      "outputs": []
    },
    {
      "cell_type": "markdown",
      "source": "Use the method <b>head()</b> to display the first five rows of the dataframe.\n",
      "metadata": {
        "id": "1kvrN7fX3Gnw"
      }
    },
    {
      "cell_type": "code",
      "source": "# To see what the data set looks like, we'll use the head() method.\ndf.head()",
      "metadata": {
        "colab": {
          "base_uri": "https://localhost:8080/",
          "height": 206
        },
        "id": "bT7v3Ltj3Gnw",
        "outputId": "6370b08e-a314-4284-c041-7e9219b1e44a",
        "trusted": true
      },
      "execution_count": 773,
      "outputs": [
        {
          "execution_count": 772,
          "output_type": "execute_result",
          "data": {
            "text/plain": "                    ts    open    high     low   close    volume  rec_count  \\\n0  2022-11-11 14:38:00  0.3450  0.3450  0.3438  0.3438  139808.0         44   \n1  2022-11-11 14:39:00  0.3437  0.3441  0.3436  0.3440   80960.0         41   \n2  2022-11-11 14:40:00  0.3439  0.3442  0.3432  0.3433  149624.0         42   \n3  2022-11-11 14:41:00  0.3432  0.3448  0.3426  0.3446  165967.0         47   \n4  2022-11-11 14:42:00  0.3446  0.3448  0.3438  0.3438   34815.0         27   \n\n   avg_price  \n0   0.344496  \n1   0.343841  \n2   0.343694  \n3   0.343953  \n4   0.344382  ",
            "text/html": "<div>\n<style scoped>\n    .dataframe tbody tr th:only-of-type {\n        vertical-align: middle;\n    }\n\n    .dataframe tbody tr th {\n        vertical-align: top;\n    }\n\n    .dataframe thead th {\n        text-align: right;\n    }\n</style>\n<table border=\"1\" class=\"dataframe\">\n  <thead>\n    <tr style=\"text-align: right;\">\n      <th></th>\n      <th>ts</th>\n      <th>open</th>\n      <th>high</th>\n      <th>low</th>\n      <th>close</th>\n      <th>volume</th>\n      <th>rec_count</th>\n      <th>avg_price</th>\n    </tr>\n  </thead>\n  <tbody>\n    <tr>\n      <th>0</th>\n      <td>2022-11-11 14:38:00</td>\n      <td>0.3450</td>\n      <td>0.3450</td>\n      <td>0.3438</td>\n      <td>0.3438</td>\n      <td>139808.0</td>\n      <td>44</td>\n      <td>0.344496</td>\n    </tr>\n    <tr>\n      <th>1</th>\n      <td>2022-11-11 14:39:00</td>\n      <td>0.3437</td>\n      <td>0.3441</td>\n      <td>0.3436</td>\n      <td>0.3440</td>\n      <td>80960.0</td>\n      <td>41</td>\n      <td>0.343841</td>\n    </tr>\n    <tr>\n      <th>2</th>\n      <td>2022-11-11 14:40:00</td>\n      <td>0.3439</td>\n      <td>0.3442</td>\n      <td>0.3432</td>\n      <td>0.3433</td>\n      <td>149624.0</td>\n      <td>42</td>\n      <td>0.343694</td>\n    </tr>\n    <tr>\n      <th>3</th>\n      <td>2022-11-11 14:41:00</td>\n      <td>0.3432</td>\n      <td>0.3448</td>\n      <td>0.3426</td>\n      <td>0.3446</td>\n      <td>165967.0</td>\n      <td>47</td>\n      <td>0.343953</td>\n    </tr>\n    <tr>\n      <th>4</th>\n      <td>2022-11-11 14:42:00</td>\n      <td>0.3446</td>\n      <td>0.3448</td>\n      <td>0.3438</td>\n      <td>0.3438</td>\n      <td>34815.0</td>\n      <td>27</td>\n      <td>0.344382</td>\n    </tr>\n  </tbody>\n</table>\n</div>"
          },
          "metadata": {}
        }
      ]
    },
    {
      "cell_type": "markdown",
      "source": "Let's capitalize names of the columns",
      "metadata": {
        "id": "p8RU9FI63Gnv"
      }
    },
    {
      "cell_type": "code",
      "source": "current_columns = df.columns\n\ncapitalized_columns = [v.capitalize() for v in current_columns]\ncapitalized_columns\n",
      "metadata": {
        "colab": {
          "base_uri": "https://localhost:8080/"
        },
        "id": "jWpm16eJ3Gnv",
        "outputId": "923a747c-a03b-4f32-9a4a-f4ff5f2ffbce",
        "trusted": true
      },
      "execution_count": 774,
      "outputs": [
        {
          "execution_count": 773,
          "output_type": "execute_result",
          "data": {
            "text/plain": "['Ts', 'Open', 'High', 'Low', 'Close', 'Volume', 'Rec_count', 'Avg_price']"
          },
          "metadata": {}
        }
      ]
    },
    {
      "cell_type": "markdown",
      "source": "And replace old names inside dataframe",
      "metadata": {
        "id": "X9t44NO48NXl"
      }
    },
    {
      "cell_type": "code",
      "source": "df.columns = capitalized_columns\ndf.columns",
      "metadata": {
        "colab": {
          "base_uri": "https://localhost:8080/"
        },
        "id": "bzhp_-Cc8T5R",
        "outputId": "b9a590d4-0bf5-493b-8029-0c491db9273d",
        "trusted": true
      },
      "execution_count": 775,
      "outputs": [
        {
          "execution_count": 774,
          "output_type": "execute_result",
          "data": {
            "text/plain": "Index(['Ts', 'Open', 'High', 'Low', 'Close', 'Volume', 'Rec_count',\n       'Avg_price'],\n      dtype='object')"
          },
          "metadata": {}
        }
      ]
    },
    {
      "cell_type": "markdown",
      "source": "Let's make a copy of our input dataframe(we will need it later).",
      "metadata": {
        "id": "N-rFUDO8TdR2"
      }
    },
    {
      "cell_type": "code",
      "source": "df_copy = df.copy()",
      "metadata": {
        "id": "SnTzm3UgTcqL",
        "trusted": true
      },
      "execution_count": 776,
      "outputs": []
    },
    {
      "cell_type": "markdown",
      "source": "As we can see, our dataset does not have any missing values, but in the real world, it is not always like this; more often, our datasets need some preprocessing to be done. So for the sake of this exercise, we will create missing values and wrong values and then learn how to work with such data.",
      "metadata": {
        "id": "diPkT-KEBNrY"
      }
    },
    {
      "cell_type": "markdown",
      "source": "So let's add some negative values first.",
      "metadata": {}
    },
    {
      "cell_type": "code",
      "source": "def raise_warning(column: str, type: str = 'negative'): \n  \"\"\"Common warning function used to raise warnings that some values are already in our column\"\"\"\n  warning_error: str = f'Column {column} already has some {type} values! '\n  warning_message: str = f'Column {column} was not changed'\n  warning_note: str = f'Note: columns listed before {column} where changed!'        \n  warnings.warn(warning_error + \n                warning_message + \n                warning_note)\n",
      "metadata": {
        "id": "ywO7W_UAJHCx",
        "trusted": true
      },
      "execution_count": 777,
      "outputs": []
    },
    {
      "cell_type": "code",
      "source": "columns_to_add_negative_values = [('Volume', 0.75), ('Rec_count', 0.002)]",
      "metadata": {
        "id": "8ZL7bVXpwRUt",
        "trusted": true
      },
      "execution_count": 778,
      "outputs": []
    },
    {
      "cell_type": "code",
      "source": "def has_negative_values(df: pd.DataFrame, \n                       column: str) -> bool:\n  \"\"\"Checks if dataframe column has negative values\n    :param df is a dataframe with the column we want to check\n    :param column is the name of the column\n  \"\"\"         \n  tmp_column = df[column].where(df[column] >= 0)\n  return tmp_column.isna().sum() > 0\n\n\ndef create_negative_values(df: pd.DataFrame, \n                     columns: List[Tuple[str, int or float]]) ->  pd.DataFrame:\n  \"\"\"Adds negative values into specific columns of the dataframe if they \n     do not contain negative values already.\n    :param df is a dataframe where you want to add some negative values\n    :param columns is a list of column names and probabilities of each \n           cell becoming negative value\n           Example: [('first_column', .5), ('second_column', .1)]\n    :return updated dataframe or old dataframe \n            if negative values already exist in one of the columns\n  \"\"\"\n  for column, percentage in columns:\n    if has_negative_values(df, column):\n      raise_warning(column)\n      return df\n    column_shape = df[column].shape\n    condition_df = np.random.random(column_shape) < percentage\n    df[column] = np.where(condition_df, -df[column], df[column])\n  return df\n  ",
      "metadata": {
        "id": "yh25jkmA0w4p",
        "trusted": true
      },
      "execution_count": 779,
      "outputs": []
    },
    {
      "cell_type": "code",
      "source": "df = create_negative_values(df, columns_to_add_negative_values)",
      "metadata": {
        "id": "kqDCJnS6wSl3",
        "trusted": true
      },
      "execution_count": 780,
      "outputs": []
    },
    {
      "cell_type": "code",
      "source": "df.head()",
      "metadata": {
        "colab": {
          "base_uri": "https://localhost:8080/",
          "height": 423
        },
        "id": "MEfhJAuxwtQW",
        "outputId": "4ab70b32-4963-49fd-adc9-e8f622bf987f",
        "trusted": true
      },
      "execution_count": 781,
      "outputs": [
        {
          "execution_count": 780,
          "output_type": "execute_result",
          "data": {
            "text/plain": "                    Ts    Open    High     Low   Close    Volume  Rec_count  \\\n0  2022-11-11 14:38:00  0.3450  0.3450  0.3438  0.3438  139808.0         44   \n1  2022-11-11 14:39:00  0.3437  0.3441  0.3436  0.3440   80960.0         41   \n2  2022-11-11 14:40:00  0.3439  0.3442  0.3432  0.3433 -149624.0         42   \n3  2022-11-11 14:41:00  0.3432  0.3448  0.3426  0.3446 -165967.0         47   \n4  2022-11-11 14:42:00  0.3446  0.3448  0.3438  0.3438  -34815.0         27   \n\n   Avg_price  \n0   0.344496  \n1   0.343841  \n2   0.343694  \n3   0.343953  \n4   0.344382  ",
            "text/html": "<div>\n<style scoped>\n    .dataframe tbody tr th:only-of-type {\n        vertical-align: middle;\n    }\n\n    .dataframe tbody tr th {\n        vertical-align: top;\n    }\n\n    .dataframe thead th {\n        text-align: right;\n    }\n</style>\n<table border=\"1\" class=\"dataframe\">\n  <thead>\n    <tr style=\"text-align: right;\">\n      <th></th>\n      <th>Ts</th>\n      <th>Open</th>\n      <th>High</th>\n      <th>Low</th>\n      <th>Close</th>\n      <th>Volume</th>\n      <th>Rec_count</th>\n      <th>Avg_price</th>\n    </tr>\n  </thead>\n  <tbody>\n    <tr>\n      <th>0</th>\n      <td>2022-11-11 14:38:00</td>\n      <td>0.3450</td>\n      <td>0.3450</td>\n      <td>0.3438</td>\n      <td>0.3438</td>\n      <td>139808.0</td>\n      <td>44</td>\n      <td>0.344496</td>\n    </tr>\n    <tr>\n      <th>1</th>\n      <td>2022-11-11 14:39:00</td>\n      <td>0.3437</td>\n      <td>0.3441</td>\n      <td>0.3436</td>\n      <td>0.3440</td>\n      <td>80960.0</td>\n      <td>41</td>\n      <td>0.343841</td>\n    </tr>\n    <tr>\n      <th>2</th>\n      <td>2022-11-11 14:40:00</td>\n      <td>0.3439</td>\n      <td>0.3442</td>\n      <td>0.3432</td>\n      <td>0.3433</td>\n      <td>-149624.0</td>\n      <td>42</td>\n      <td>0.343694</td>\n    </tr>\n    <tr>\n      <th>3</th>\n      <td>2022-11-11 14:41:00</td>\n      <td>0.3432</td>\n      <td>0.3448</td>\n      <td>0.3426</td>\n      <td>0.3446</td>\n      <td>-165967.0</td>\n      <td>47</td>\n      <td>0.343953</td>\n    </tr>\n    <tr>\n      <th>4</th>\n      <td>2022-11-11 14:42:00</td>\n      <td>0.3446</td>\n      <td>0.3448</td>\n      <td>0.3438</td>\n      <td>0.3438</td>\n      <td>-34815.0</td>\n      <td>27</td>\n      <td>0.344382</td>\n    </tr>\n  </tbody>\n</table>\n</div>"
          },
          "metadata": {}
        }
      ]
    },
    {
      "cell_type": "markdown",
      "source": "Sometimes some columns may be of one type, but represented as absolutely different type that is not convinient for us. Let's change types of some columns to 'wrong' types.",
      "metadata": {
        "id": "aO5fAftodj0o"
      }
    },
    {
      "cell_type": "code",
      "source": "df = df.astype({'Open': 'string', 'Close': 'string', 'Volume': 'string'})",
      "metadata": {
        "id": "8OKSbTZafEo3",
        "trusted": true
      },
      "execution_count": 782,
      "outputs": []
    },
    {
      "cell_type": "markdown",
      "source": "Let's see the dataframe types to make sure everything worked as expected",
      "metadata": {
        "id": "KkoqkD0wgL9V"
      }
    },
    {
      "cell_type": "code",
      "source": "df.dtypes",
      "metadata": {
        "colab": {
          "base_uri": "https://localhost:8080/"
        },
        "id": "3MZ83tJGgcUx",
        "outputId": "cf04fb94-f927-41af-d0f0-02daa729f4c7",
        "trusted": true
      },
      "execution_count": 783,
      "outputs": [
        {
          "execution_count": 782,
          "output_type": "execute_result",
          "data": {
            "text/plain": "Ts            object\nOpen          string\nHigh         float64\nLow          float64\nClose         string\nVolume        string\nRec_count      int64\nAvg_price    float64\ndtype: object"
          },
          "metadata": {}
        }
      ]
    },
    {
      "cell_type": "markdown",
      "source": "<b>Now, let's add missing values</b>\n\nWe will use the question mark '?' for the missing values. To replace some values <code>mask</code> method will be used. This method takes condition dataframe, which is a dataframe of boolean values for each cell. Parameter <code>other</code> specifies value that will be inserted.",
      "metadata": {
        "id": "4DDFyNfBC2Et"
      }
    },
    {
      "cell_type": "code",
      "source": "def has_missing_values(df: pd.DataFrame, \n                       column: str, \n                       missing_value: str) -> bool:\n  \"\"\"Checks if dataframe column has missing values\n    :param df is a dataframe with the column we want to check\n    :param column is the name of the column\n    :param missing_value specifies value that is considered to be a\n           missing value\n  \"\"\"         \n  tmp_column = df[column].replace(missing_value, np.nan)\n  return tmp_column.isna().sum() > 0\n\ndef add_missing_data(df: pd.DataFrame, \n                     columns: List[Tuple[str, int or float]],\n                     missing_value: str ='?') -> pd.DataFrame:\n  \"\"\"Adds missing values into specific columns of the dataframe if they \n     do not contain missing values already\n    :param df is a dataframe where you want to add some missing value\n    :param columns is a list of column names and probabilities of each \n           cell being replaced by a missing value\n           Example: [('first_column', .5), ('second_column', .1)]\n    :param missing_value specifies value that is \n           considered to be a missing value\n    :return updated dataframe\n  \"\"\"\n  for column, percentage in columns:\n    if has_missing_values(df, column, missing_value):\n      raise_warning(column, type='missing')\n      return df\n    column_shape = df[column].shape\n    condition_df = np.random.random(column_shape) < percentage\n    df[column] = df[column].mask(condition_df, other=missing_value)\n  return df",
      "metadata": {
        "id": "mgJMwxs0CxTq",
        "trusted": true
      },
      "execution_count": 784,
      "outputs": []
    },
    {
      "cell_type": "markdown",
      "source": "Let's create an array of columns that are going to have some missing values(in our case '?').",
      "metadata": {
        "id": "XcS_CFP-jPSN"
      }
    },
    {
      "cell_type": "code",
      "source": "columns_to_add_missing_data = [('Volume', 0.015), ('Rec_count', 0.02)]",
      "metadata": {
        "id": "xlOJywBsjxMP",
        "trusted": true
      },
      "execution_count": 785,
      "outputs": []
    },
    {
      "cell_type": "markdown",
      "source": "Make sure to run the below code once, as running one more time won't change the dataframe, but will cause warning.",
      "metadata": {
        "id": "mpwVpe7fWbMg"
      }
    },
    {
      "cell_type": "code",
      "source": "df = add_missing_data(df, columns_to_add_missing_data)",
      "metadata": {
        "id": "NuPiLnt2WL4x",
        "trusted": true
      },
      "execution_count": 786,
      "outputs": []
    },
    {
      "cell_type": "code",
      "source": "df.head(50)",
      "metadata": {
        "colab": {
          "base_uri": "https://localhost:8080/",
          "height": 423
        },
        "id": "aHuS4q-pWVln",
        "outputId": "821b18b7-74e4-4a0a-baa8-12650480bda1",
        "trusted": true
      },
      "execution_count": 787,
      "outputs": [
        {
          "execution_count": 786,
          "output_type": "execute_result",
          "data": {
            "text/plain": "                    Ts    Open    High     Low   Close     Volume Rec_count  \\\n0  2022-11-11 14:38:00   0.345  0.3450  0.3438  0.3438   139808.0        44   \n1  2022-11-11 14:39:00  0.3437  0.3441  0.3436   0.344    80960.0        41   \n2  2022-11-11 14:40:00  0.3439  0.3442  0.3432  0.3433  -149624.0        42   \n3  2022-11-11 14:41:00  0.3432  0.3448  0.3426  0.3446  -165967.0        47   \n4  2022-11-11 14:42:00  0.3446  0.3448  0.3438  0.3438   -34815.0        27   \n\n   Avg_price  \n0   0.344496  \n1   0.343841  \n2   0.343694  \n3   0.343953  \n4   0.344382  ",
            "text/html": "<div>\n<style scoped>\n    .dataframe tbody tr th:only-of-type {\n        vertical-align: middle;\n    }\n\n    .dataframe tbody tr th {\n        vertical-align: top;\n    }\n\n    .dataframe thead th {\n        text-align: right;\n    }\n</style>\n<table border=\"1\" class=\"dataframe\">\n  <thead>\n    <tr style=\"text-align: right;\">\n      <th></th>\n      <th>Ts</th>\n      <th>Open</th>\n      <th>High</th>\n      <th>Low</th>\n      <th>Close</th>\n      <th>Volume</th>\n      <th>Rec_count</th>\n      <th>Avg_price</th>\n    </tr>\n  </thead>\n  <tbody>\n    <tr>\n      <th>0</th>\n      <td>2022-11-11 14:38:00</td>\n      <td>0.345</td>\n      <td>0.3450</td>\n      <td>0.3438</td>\n      <td>0.3438</td>\n      <td>139808.0</td>\n      <td>44</td>\n      <td>0.344496</td>\n    </tr>\n    <tr>\n      <th>1</th>\n      <td>2022-11-11 14:39:00</td>\n      <td>0.3437</td>\n      <td>0.3441</td>\n      <td>0.3436</td>\n      <td>0.344</td>\n      <td>80960.0</td>\n      <td>41</td>\n      <td>0.343841</td>\n    </tr>\n    <tr>\n      <th>2</th>\n      <td>2022-11-11 14:40:00</td>\n      <td>0.3439</td>\n      <td>0.3442</td>\n      <td>0.3432</td>\n      <td>0.3433</td>\n      <td>-149624.0</td>\n      <td>42</td>\n      <td>0.343694</td>\n    </tr>\n    <tr>\n      <th>3</th>\n      <td>2022-11-11 14:41:00</td>\n      <td>0.3432</td>\n      <td>0.3448</td>\n      <td>0.3426</td>\n      <td>0.3446</td>\n      <td>-165967.0</td>\n      <td>47</td>\n      <td>0.343953</td>\n    </tr>\n    <tr>\n      <th>4</th>\n      <td>2022-11-11 14:42:00</td>\n      <td>0.3446</td>\n      <td>0.3448</td>\n      <td>0.3438</td>\n      <td>0.3438</td>\n      <td>-34815.0</td>\n      <td>27</td>\n      <td>0.344382</td>\n    </tr>\n  </tbody>\n</table>\n</div>"
          },
          "metadata": {}
        }
      ]
    },
    {
      "cell_type": "markdown",
      "source": "As we can see, our dataframe is more realistic now and has wrong values, types and several question marks in the dataframe(those are missing values which may hinder our further analysis). Now, we can learn how to work with such data.\n",
      "metadata": {
        "id": "JfgHUPwq3Gnw"
      }
    },
    {
      "cell_type": "markdown",
      "source": "<i><b>So, how do we identify all those missing values and deal with them?</b></i>\n\n<b>How to work with missing data?</b>\n\nSteps for working with missing data:\n\n<ol>\n    <li>Identify missing data</li>\n    <li>Deal with missing data</li>\n    <li>Correct data format</li>\n</ol>\n\n<i><b>How do we identify all the dirty values; how to deal with them?</b></i>\n\n<b>How to work with dirty data?</b>\n\nSteps for working with dirty data:\n\n<ol>\n    <li>Identify columns with dirty data</li>\n    <li>Deal with dirty data</li>\n    <li>Correct data format</li>\n</ol>",
      "metadata": {
        "id": "fkMYlW9ClYL7"
      }
    },
    {
      "cell_type": "markdown",
      "source": "<h2 id=\"identify_handle_missing_values\">Identify and handle missing values</h2>\n\n<h3 id=\"identify_missing_values\">Identify missing values</h3>\n<h4>Convert \"?\" to NaN</h4>\nIn our dataset, missing data comes with the question mark \"?\".\nSo let's replace \"?\" with NaN (Not a Number), Python's default missing value marker for reasons of computational speed and convenience. Here we use the function: \n <pre>.replace(A, B, inplace = True) </pre>\nto replace A by B.\nDoing so enables us to use convinient pandas methods for working with missing data(You can find them few cells below)",
      "metadata": {
        "id": "J0k2d33B3Gnx"
      }
    },
    {
      "cell_type": "code",
      "source": "import numpy as np\n\ndf.replace('?', np.nan, inplace = True)\ndf.head(50)",
      "metadata": {
        "colab": {
          "base_uri": "https://localhost:8080/",
          "height": 423
        },
        "id": "9us7ERTM3Gnx",
        "outputId": "6dba25a4-6bcb-4930-8be3-37186e96a397",
        "trusted": true
      },
      "execution_count": 788,
      "outputs": [
        {
          "execution_count": 787,
          "output_type": "execute_result",
          "data": {
            "text/plain": "                    Ts    Open    High     Low   Close     Volume  Rec_count  \\\n0  2022-11-11 14:38:00   0.345  0.3450  0.3438  0.3438   139808.0       44.0   \n1  2022-11-11 14:39:00  0.3437  0.3441  0.3436   0.344    80960.0       41.0   \n2  2022-11-11 14:40:00  0.3439  0.3442  0.3432  0.3433  -149624.0       42.0   \n3  2022-11-11 14:41:00  0.3432  0.3448  0.3426  0.3446  -165967.0       47.0   \n4  2022-11-11 14:42:00  0.3446  0.3448  0.3438  0.3438   -34815.0       27.0   \n\n   Avg_price  \n0   0.344496  \n1   0.343841  \n2   0.343694  \n3   0.343953  \n4   0.344382  ",
            "text/html": "<div>\n<style scoped>\n    .dataframe tbody tr th:only-of-type {\n        vertical-align: middle;\n    }\n\n    .dataframe tbody tr th {\n        vertical-align: top;\n    }\n\n    .dataframe thead th {\n        text-align: right;\n    }\n</style>\n<table border=\"1\" class=\"dataframe\">\n  <thead>\n    <tr style=\"text-align: right;\">\n      <th></th>\n      <th>Ts</th>\n      <th>Open</th>\n      <th>High</th>\n      <th>Low</th>\n      <th>Close</th>\n      <th>Volume</th>\n      <th>Rec_count</th>\n      <th>Avg_price</th>\n    </tr>\n  </thead>\n  <tbody>\n    <tr>\n      <th>0</th>\n      <td>2022-11-11 14:38:00</td>\n      <td>0.345</td>\n      <td>0.3450</td>\n      <td>0.3438</td>\n      <td>0.3438</td>\n      <td>139808.0</td>\n      <td>44.0</td>\n      <td>0.344496</td>\n    </tr>\n    <tr>\n      <th>1</th>\n      <td>2022-11-11 14:39:00</td>\n      <td>0.3437</td>\n      <td>0.3441</td>\n      <td>0.3436</td>\n      <td>0.344</td>\n      <td>80960.0</td>\n      <td>41.0</td>\n      <td>0.343841</td>\n    </tr>\n    <tr>\n      <th>2</th>\n      <td>2022-11-11 14:40:00</td>\n      <td>0.3439</td>\n      <td>0.3442</td>\n      <td>0.3432</td>\n      <td>0.3433</td>\n      <td>-149624.0</td>\n      <td>42.0</td>\n      <td>0.343694</td>\n    </tr>\n    <tr>\n      <th>3</th>\n      <td>2022-11-11 14:41:00</td>\n      <td>0.3432</td>\n      <td>0.3448</td>\n      <td>0.3426</td>\n      <td>0.3446</td>\n      <td>-165967.0</td>\n      <td>47.0</td>\n      <td>0.343953</td>\n    </tr>\n    <tr>\n      <th>4</th>\n      <td>2022-11-11 14:42:00</td>\n      <td>0.3446</td>\n      <td>0.3448</td>\n      <td>0.3438</td>\n      <td>0.3438</td>\n      <td>-34815.0</td>\n      <td>27.0</td>\n      <td>0.344382</td>\n    </tr>\n  </tbody>\n</table>\n</div>"
          },
          "metadata": {}
        }
      ]
    },
    {
      "cell_type": "code",
      "source": "df.dtypes",
      "metadata": {
        "colab": {
          "base_uri": "https://localhost:8080/"
        },
        "id": "glUYr14JNjn7",
        "outputId": "9162e279-fb45-4fb7-9e53-bdf8cdf96a2b",
        "trusted": true
      },
      "execution_count": 789,
      "outputs": [
        {
          "execution_count": 788,
          "output_type": "execute_result",
          "data": {
            "text/plain": "Ts            object\nOpen          string\nHigh         float64\nLow          float64\nClose         string\nVolume        string\nRec_count    float64\nAvg_price    float64\ndtype: object"
          },
          "metadata": {}
        }
      ]
    },
    {
      "cell_type": "markdown",
      "source": "<h4>Evaluating for Missing Data</h4>\n\nThe missing values are converted by default. We use the following functions to identify these missing values. There are two methods to detect missing data:\n\n<ol>\n    <li><b>.isnull()</b></li>\n    <li><b>.notnull()</b></li>\n</ol>\nThe output is a boolean value indicating whether the value that is passed into the argument is in fact missing data.\n",
      "metadata": {
        "id": "u9h0AQNK3Gnx"
      }
    },
    {
      "cell_type": "code",
      "source": "missing_data = df.isnull()\nmissing_data.head(50)",
      "metadata": {
        "colab": {
          "base_uri": "https://localhost:8080/",
          "height": 363
        },
        "id": "1Ilx9fHo3Gnx",
        "outputId": "93ad7e24-4643-4e7d-e774-3d39356478dc",
        "trusted": true
      },
      "execution_count": 790,
      "outputs": [
        {
          "execution_count": 789,
          "output_type": "execute_result",
          "data": {
            "text/plain": "       Ts   Open   High    Low  Close  Volume  Rec_count  Avg_price\n0   False  False  False  False  False   False      False      False\n1   False  False  False  False  False   False      False      False\n2   False  False  False  False  False   False      False      False\n3   False  False  False  False  False   False      False      False\n4   False  False  False  False  False   False      False      False\n5   False  False  False  False  False   False      False      False\n6   False  False  False  False  False   False      False      False\n7   False  False  False  False  False   False      False      False\n8   False  False  False  False  False   False      False      False\n9   False  False  False  False  False   False      False      False\n10  False  False  False  False  False   False      False      False\n11  False  False  False  False  False   False      False      False\n12  False  False  False  False  False   False      False      False\n13  False  False  False  False  False   False      False      False\n14  False  False  False  False  False   False      False      False\n15  False  False  False  False  False   False      False      False\n16  False  False  False  False  False   False      False      False\n17  False  False  False  False  False   False      False      False\n18  False  False  False  False  False   False      False      False\n19  False  False  False  False  False   False      False      False\n20  False  False  False  False  False   False       True      False\n21  False  False  False  False  False   False      False      False\n22  False  False  False  False  False   False      False      False\n23  False  False  False  False  False   False      False      False\n24  False  False  False  False  False   False      False      False\n25  False  False  False  False  False   False       True      False\n26  False  False  False  False  False   False      False      False\n27  False  False  False  False  False   False      False      False\n28  False  False  False  False  False   False      False      False\n29  False  False  False  False  False   False      False      False\n30  False  False  False  False  False    True      False      False\n31  False  False  False  False  False   False      False      False\n32  False  False  False  False  False   False      False      False\n33  False  False  False  False  False   False      False      False\n34  False  False  False  False  False   False      False      False\n35  False  False  False  False  False   False      False      False\n36  False  False  False  False  False   False      False      False\n37  False  False  False  False  False   False      False      False\n38  False  False  False  False  False   False      False      False\n39  False  False  False  False  False   False      False      False\n40  False  False  False  False  False   False      False      False\n41  False  False  False  False  False   False      False      False\n42  False  False  False  False  False   False      False      False\n43  False  False  False  False  False   False      False      False\n44  False  False  False  False  False   False      False      False\n45  False  False  False  False  False   False      False      False\n46  False  False  False  False  False   False      False      False\n47  False  False  False  False  False   False      False      False\n48  False  False  False  False  False   False       True      False\n49  False  False  False  False  False   False      False      False",
            "text/html": "<div>\n<style scoped>\n    .dataframe tbody tr th:only-of-type {\n        vertical-align: middle;\n    }\n\n    .dataframe tbody tr th {\n        vertical-align: top;\n    }\n\n    .dataframe thead th {\n        text-align: right;\n    }\n</style>\n<table border=\"1\" class=\"dataframe\">\n  <thead>\n    <tr style=\"text-align: right;\">\n      <th></th>\n      <th>Ts</th>\n      <th>Open</th>\n      <th>High</th>\n      <th>Low</th>\n      <th>Close</th>\n      <th>Volume</th>\n      <th>Rec_count</th>\n      <th>Avg_price</th>\n    </tr>\n  </thead>\n  <tbody>\n    <tr>\n      <th>0</th>\n      <td>False</td>\n      <td>False</td>\n      <td>False</td>\n      <td>False</td>\n      <td>False</td>\n      <td>False</td>\n      <td>False</td>\n      <td>False</td>\n    </tr>\n    <tr>\n      <th>1</th>\n      <td>False</td>\n      <td>False</td>\n      <td>False</td>\n      <td>False</td>\n      <td>False</td>\n      <td>False</td>\n      <td>False</td>\n      <td>False</td>\n    </tr>\n    <tr>\n      <th>2</th>\n      <td>False</td>\n      <td>False</td>\n      <td>False</td>\n      <td>False</td>\n      <td>False</td>\n      <td>False</td>\n      <td>False</td>\n      <td>False</td>\n    </tr>\n    <tr>\n      <th>3</th>\n      <td>False</td>\n      <td>False</td>\n      <td>False</td>\n      <td>False</td>\n      <td>False</td>\n      <td>False</td>\n      <td>False</td>\n      <td>False</td>\n    </tr>\n    <tr>\n      <th>4</th>\n      <td>False</td>\n      <td>False</td>\n      <td>False</td>\n      <td>False</td>\n      <td>False</td>\n      <td>False</td>\n      <td>False</td>\n      <td>False</td>\n    </tr>\n    <tr>\n      <th>5</th>\n      <td>False</td>\n      <td>False</td>\n      <td>False</td>\n      <td>False</td>\n      <td>False</td>\n      <td>False</td>\n      <td>False</td>\n      <td>False</td>\n    </tr>\n    <tr>\n      <th>6</th>\n      <td>False</td>\n      <td>False</td>\n      <td>False</td>\n      <td>False</td>\n      <td>False</td>\n      <td>False</td>\n      <td>False</td>\n      <td>False</td>\n    </tr>\n    <tr>\n      <th>7</th>\n      <td>False</td>\n      <td>False</td>\n      <td>False</td>\n      <td>False</td>\n      <td>False</td>\n      <td>False</td>\n      <td>False</td>\n      <td>False</td>\n    </tr>\n    <tr>\n      <th>8</th>\n      <td>False</td>\n      <td>False</td>\n      <td>False</td>\n      <td>False</td>\n      <td>False</td>\n      <td>False</td>\n      <td>False</td>\n      <td>False</td>\n    </tr>\n    <tr>\n      <th>9</th>\n      <td>False</td>\n      <td>False</td>\n      <td>False</td>\n      <td>False</td>\n      <td>False</td>\n      <td>False</td>\n      <td>False</td>\n      <td>False</td>\n    </tr>\n    <tr>\n      <th>10</th>\n      <td>False</td>\n      <td>False</td>\n      <td>False</td>\n      <td>False</td>\n      <td>False</td>\n      <td>False</td>\n      <td>False</td>\n      <td>False</td>\n    </tr>\n    <tr>\n      <th>11</th>\n      <td>False</td>\n      <td>False</td>\n      <td>False</td>\n      <td>False</td>\n      <td>False</td>\n      <td>False</td>\n      <td>False</td>\n      <td>False</td>\n    </tr>\n    <tr>\n      <th>12</th>\n      <td>False</td>\n      <td>False</td>\n      <td>False</td>\n      <td>False</td>\n      <td>False</td>\n      <td>False</td>\n      <td>False</td>\n      <td>False</td>\n    </tr>\n    <tr>\n      <th>13</th>\n      <td>False</td>\n      <td>False</td>\n      <td>False</td>\n      <td>False</td>\n      <td>False</td>\n      <td>False</td>\n      <td>False</td>\n      <td>False</td>\n    </tr>\n    <tr>\n      <th>14</th>\n      <td>False</td>\n      <td>False</td>\n      <td>False</td>\n      <td>False</td>\n      <td>False</td>\n      <td>False</td>\n      <td>False</td>\n      <td>False</td>\n    </tr>\n    <tr>\n      <th>15</th>\n      <td>False</td>\n      <td>False</td>\n      <td>False</td>\n      <td>False</td>\n      <td>False</td>\n      <td>False</td>\n      <td>False</td>\n      <td>False</td>\n    </tr>\n    <tr>\n      <th>16</th>\n      <td>False</td>\n      <td>False</td>\n      <td>False</td>\n      <td>False</td>\n      <td>False</td>\n      <td>False</td>\n      <td>False</td>\n      <td>False</td>\n    </tr>\n    <tr>\n      <th>17</th>\n      <td>False</td>\n      <td>False</td>\n      <td>False</td>\n      <td>False</td>\n      <td>False</td>\n      <td>False</td>\n      <td>False</td>\n      <td>False</td>\n    </tr>\n    <tr>\n      <th>18</th>\n      <td>False</td>\n      <td>False</td>\n      <td>False</td>\n      <td>False</td>\n      <td>False</td>\n      <td>False</td>\n      <td>False</td>\n      <td>False</td>\n    </tr>\n    <tr>\n      <th>19</th>\n      <td>False</td>\n      <td>False</td>\n      <td>False</td>\n      <td>False</td>\n      <td>False</td>\n      <td>False</td>\n      <td>False</td>\n      <td>False</td>\n    </tr>\n    <tr>\n      <th>20</th>\n      <td>False</td>\n      <td>False</td>\n      <td>False</td>\n      <td>False</td>\n      <td>False</td>\n      <td>False</td>\n      <td>True</td>\n      <td>False</td>\n    </tr>\n    <tr>\n      <th>21</th>\n      <td>False</td>\n      <td>False</td>\n      <td>False</td>\n      <td>False</td>\n      <td>False</td>\n      <td>False</td>\n      <td>False</td>\n      <td>False</td>\n    </tr>\n    <tr>\n      <th>22</th>\n      <td>False</td>\n      <td>False</td>\n      <td>False</td>\n      <td>False</td>\n      <td>False</td>\n      <td>False</td>\n      <td>False</td>\n      <td>False</td>\n    </tr>\n    <tr>\n      <th>23</th>\n      <td>False</td>\n      <td>False</td>\n      <td>False</td>\n      <td>False</td>\n      <td>False</td>\n      <td>False</td>\n      <td>False</td>\n      <td>False</td>\n    </tr>\n    <tr>\n      <th>24</th>\n      <td>False</td>\n      <td>False</td>\n      <td>False</td>\n      <td>False</td>\n      <td>False</td>\n      <td>False</td>\n      <td>False</td>\n      <td>False</td>\n    </tr>\n    <tr>\n      <th>25</th>\n      <td>False</td>\n      <td>False</td>\n      <td>False</td>\n      <td>False</td>\n      <td>False</td>\n      <td>False</td>\n      <td>True</td>\n      <td>False</td>\n    </tr>\n    <tr>\n      <th>26</th>\n      <td>False</td>\n      <td>False</td>\n      <td>False</td>\n      <td>False</td>\n      <td>False</td>\n      <td>False</td>\n      <td>False</td>\n      <td>False</td>\n    </tr>\n    <tr>\n      <th>27</th>\n      <td>False</td>\n      <td>False</td>\n      <td>False</td>\n      <td>False</td>\n      <td>False</td>\n      <td>False</td>\n      <td>False</td>\n      <td>False</td>\n    </tr>\n    <tr>\n      <th>28</th>\n      <td>False</td>\n      <td>False</td>\n      <td>False</td>\n      <td>False</td>\n      <td>False</td>\n      <td>False</td>\n      <td>False</td>\n      <td>False</td>\n    </tr>\n    <tr>\n      <th>29</th>\n      <td>False</td>\n      <td>False</td>\n      <td>False</td>\n      <td>False</td>\n      <td>False</td>\n      <td>False</td>\n      <td>False</td>\n      <td>False</td>\n    </tr>\n    <tr>\n      <th>30</th>\n      <td>False</td>\n      <td>False</td>\n      <td>False</td>\n      <td>False</td>\n      <td>False</td>\n      <td>True</td>\n      <td>False</td>\n      <td>False</td>\n    </tr>\n    <tr>\n      <th>31</th>\n      <td>False</td>\n      <td>False</td>\n      <td>False</td>\n      <td>False</td>\n      <td>False</td>\n      <td>False</td>\n      <td>False</td>\n      <td>False</td>\n    </tr>\n    <tr>\n      <th>32</th>\n      <td>False</td>\n      <td>False</td>\n      <td>False</td>\n      <td>False</td>\n      <td>False</td>\n      <td>False</td>\n      <td>False</td>\n      <td>False</td>\n    </tr>\n    <tr>\n      <th>33</th>\n      <td>False</td>\n      <td>False</td>\n      <td>False</td>\n      <td>False</td>\n      <td>False</td>\n      <td>False</td>\n      <td>False</td>\n      <td>False</td>\n    </tr>\n    <tr>\n      <th>34</th>\n      <td>False</td>\n      <td>False</td>\n      <td>False</td>\n      <td>False</td>\n      <td>False</td>\n      <td>False</td>\n      <td>False</td>\n      <td>False</td>\n    </tr>\n    <tr>\n      <th>35</th>\n      <td>False</td>\n      <td>False</td>\n      <td>False</td>\n      <td>False</td>\n      <td>False</td>\n      <td>False</td>\n      <td>False</td>\n      <td>False</td>\n    </tr>\n    <tr>\n      <th>36</th>\n      <td>False</td>\n      <td>False</td>\n      <td>False</td>\n      <td>False</td>\n      <td>False</td>\n      <td>False</td>\n      <td>False</td>\n      <td>False</td>\n    </tr>\n    <tr>\n      <th>37</th>\n      <td>False</td>\n      <td>False</td>\n      <td>False</td>\n      <td>False</td>\n      <td>False</td>\n      <td>False</td>\n      <td>False</td>\n      <td>False</td>\n    </tr>\n    <tr>\n      <th>38</th>\n      <td>False</td>\n      <td>False</td>\n      <td>False</td>\n      <td>False</td>\n      <td>False</td>\n      <td>False</td>\n      <td>False</td>\n      <td>False</td>\n    </tr>\n    <tr>\n      <th>39</th>\n      <td>False</td>\n      <td>False</td>\n      <td>False</td>\n      <td>False</td>\n      <td>False</td>\n      <td>False</td>\n      <td>False</td>\n      <td>False</td>\n    </tr>\n    <tr>\n      <th>40</th>\n      <td>False</td>\n      <td>False</td>\n      <td>False</td>\n      <td>False</td>\n      <td>False</td>\n      <td>False</td>\n      <td>False</td>\n      <td>False</td>\n    </tr>\n    <tr>\n      <th>41</th>\n      <td>False</td>\n      <td>False</td>\n      <td>False</td>\n      <td>False</td>\n      <td>False</td>\n      <td>False</td>\n      <td>False</td>\n      <td>False</td>\n    </tr>\n    <tr>\n      <th>42</th>\n      <td>False</td>\n      <td>False</td>\n      <td>False</td>\n      <td>False</td>\n      <td>False</td>\n      <td>False</td>\n      <td>False</td>\n      <td>False</td>\n    </tr>\n    <tr>\n      <th>43</th>\n      <td>False</td>\n      <td>False</td>\n      <td>False</td>\n      <td>False</td>\n      <td>False</td>\n      <td>False</td>\n      <td>False</td>\n      <td>False</td>\n    </tr>\n    <tr>\n      <th>44</th>\n      <td>False</td>\n      <td>False</td>\n      <td>False</td>\n      <td>False</td>\n      <td>False</td>\n      <td>False</td>\n      <td>False</td>\n      <td>False</td>\n    </tr>\n    <tr>\n      <th>45</th>\n      <td>False</td>\n      <td>False</td>\n      <td>False</td>\n      <td>False</td>\n      <td>False</td>\n      <td>False</td>\n      <td>False</td>\n      <td>False</td>\n    </tr>\n    <tr>\n      <th>46</th>\n      <td>False</td>\n      <td>False</td>\n      <td>False</td>\n      <td>False</td>\n      <td>False</td>\n      <td>False</td>\n      <td>False</td>\n      <td>False</td>\n    </tr>\n    <tr>\n      <th>47</th>\n      <td>False</td>\n      <td>False</td>\n      <td>False</td>\n      <td>False</td>\n      <td>False</td>\n      <td>False</td>\n      <td>False</td>\n      <td>False</td>\n    </tr>\n    <tr>\n      <th>48</th>\n      <td>False</td>\n      <td>False</td>\n      <td>False</td>\n      <td>False</td>\n      <td>False</td>\n      <td>False</td>\n      <td>True</td>\n      <td>False</td>\n    </tr>\n    <tr>\n      <th>49</th>\n      <td>False</td>\n      <td>False</td>\n      <td>False</td>\n      <td>False</td>\n      <td>False</td>\n      <td>False</td>\n      <td>False</td>\n      <td>False</td>\n    </tr>\n  </tbody>\n</table>\n</div>"
          },
          "metadata": {}
        }
      ]
    },
    {
      "cell_type": "markdown",
      "source": "\"True\" means the value is a missing value while \"False\" means the value is not a missing value.\n",
      "metadata": {
        "id": "O4ucWXPc3Gnx"
      }
    },
    {
      "cell_type": "markdown",
      "source": "<h4>Count missing values in each column</h4>\n<p>\nUsing a for loop in Python, we can quickly figure out the number of missing values in each column. As mentioned above, \"True\" represents a missing value and \"False\" means the value is present in the dataset.  In the body of the for loop the method \".value_counts()\" counts the number of \"True\" values. \n</p>\n",
      "metadata": {
        "id": "-xckeH8Y3Gnx"
      }
    },
    {
      "cell_type": "code",
      "source": "for column in missing_data.columns.values.tolist():\n    print(column)\n    print (missing_data[column].value_counts())\n    print('')    ",
      "metadata": {
        "colab": {
          "base_uri": "https://localhost:8080/"
        },
        "id": "L771UxtH3Gny",
        "outputId": "4fb36081-da51-42c7-f983-e65498debc84",
        "trusted": true
      },
      "execution_count": 791,
      "outputs": [
        {
          "name": "stdout",
          "text": "Ts\nFalse    65303\nName: Ts, dtype: int64\n\nOpen\nFalse    65303\nName: Open, dtype: int64\n\nHigh\nFalse    65303\nName: High, dtype: int64\n\nLow\nFalse    65303\nName: Low, dtype: int64\n\nClose\nFalse    65303\nName: Close, dtype: int64\n\nVolume\nFalse    64359\nTrue       944\nName: Volume, dtype: int64\n\nRec_count\nFalse    64017\nTrue      1286\nName: Rec_count, dtype: int64\n\nAvg_price\nFalse    65303\nName: Avg_price, dtype: int64\n\n",
          "output_type": "stream"
        }
      ]
    },
    {
      "cell_type": "markdown",
      "source": "Based on the summary above, you can analyze how many cells have a missing data. Number near True is number of cells with missing values, vice versa for False.\n",
      "metadata": {
        "id": "YuFBDB163Gny"
      }
    },
    {
      "cell_type": "markdown",
      "source": "<h3 id=\"deal_missing_values\">Deal with missing data</h3>\n<b>How to deal with missing data?</b>\n\n<ol>\n    <li>Drop data<br>\n        a. Drop the whole row<br>\n        b. Drop the whole column\n    </li>\n    <li>Replace data<br>\n        a. Replace it by mean<br>\n        b. Replace it by frequency<br>\n        c. Replace it based on other functions<br>\n        d. Replace it by imputed value\n    </li>\n</ol>\n",
      "metadata": {
        "id": "klbrREKW3Gny"
      }
    },
    {
      "cell_type": "markdown",
      "source": "Whole columns should be dropped only if most entries in the column are empty. In our dataset, none of the columns are empty enough to drop entirely.\nWe have some freedom in choosing which method to replace data; however, some methods may seem more reasonable than others. We will apply each method to many different columns:\n<ul>\n    <li>Column \"Volume\": has 1.5% probability of cell being missing data. Use interpolation to fill missing values.\n    </li>\n    <li>Column \"Rec_count\": has 0.2% probability of cell being missing data. Use interpolation to fill missing values.</li>\n</ul>\n\n",
      "metadata": {
        "id": "0v4hV0s-3Gny"
      }
    },
    {
      "cell_type": "markdown",
      "source": "First of all, let's get rid of negative values.",
      "metadata": {
        "id": "_mCkDKvNv-cd"
      }
    },
    {
      "cell_type": "markdown",
      "source": "For that we convert data_types and replace NaN with float('inf'). \nWe need float('inf') as it will help us to get rid of negative values(there will be no method restrictions).\n",
      "metadata": {}
    },
    {
      "cell_type": "code",
      "source": "fix_types = {\n    'Volume': np.float64,\n    'Rec_count': np.float64\n    }\ndf = df.astype(fix_types)\ndf.replace(np.nan, float('inf'), inplace = True)",
      "metadata": {
        "trusted": true
      },
      "execution_count": 792,
      "outputs": []
    },
    {
      "cell_type": "code",
      "source": "cols_with_neg_values = ['Volume', 'Rec_count']",
      "metadata": {
        "id": "eEhwsbDUhKe7",
        "trusted": true
      },
      "execution_count": 793,
      "outputs": []
    },
    {
      "cell_type": "code",
      "source": "for column in cols_with_neg_values:\n    df[column] = df[column].abs()",
      "metadata": {
        "id": "6YbjdZpCTMDP",
        "trusted": true
      },
      "execution_count": 794,
      "outputs": []
    },
    {
      "cell_type": "markdown",
      "source": "Let's check if everything is fine by displaying dataframe and using <code>has_negative_values</code> method that we implemented previously.",
      "metadata": {
        "id": "25gexGSdWOi-"
      }
    },
    {
      "cell_type": "code",
      "source": "for column in cols_with_neg_values:\n  col_res = has_negative_values(df, column)\n  log_res = 'contains' if col_res else 'does not contain'\n  print(f'Column {column} {log_res} negative values')",
      "metadata": {
        "colab": {
          "base_uri": "https://localhost:8080/"
        },
        "id": "PrMPqe9pV8e0",
        "outputId": "8013a3fc-62a7-4a6b-f4d0-576539dc5094",
        "trusted": true
      },
      "execution_count": 795,
      "outputs": [
        {
          "name": "stdout",
          "text": "Column Volume does not contain negative values\nColumn Rec_count does not contain negative values\n",
          "output_type": "stream"
        }
      ]
    },
    {
      "cell_type": "markdown",
      "source": "Now as we do not have negative values we can replace float('inf') with np.nan",
      "metadata": {}
    },
    {
      "cell_type": "code",
      "source": "df.replace(float('inf'), np.nan, inplace = True)",
      "metadata": {
        "trusted": true
      },
      "execution_count": 796,
      "outputs": []
    },
    {
      "cell_type": "code",
      "source": "methods = [{'method': 'linear', 'limit_direction': 'both'}, {'method': 'polynomial', 'order': 3}, {'method': 'pad', 'limit_direction': 'forward'}]",
      "metadata": {
        "id": "j2hegXxGNHnf",
        "trusted": true
      },
      "execution_count": 797,
      "outputs": []
    },
    {
      "cell_type": "markdown",
      "source": "Now we have to interpolate missing values and choose one of the methods.",
      "metadata": {}
    },
    {
      "cell_type": "code",
      "source": "from sklearn.metrics import mean_absolute_percentage_error\n\ninterp_df = pd.DataFrame()\n\nfor params in methods:\n  method = params['method']\n  # geting mean_absolute_percentage_error for record count\n  interp_df[f'{method}_rec_count'] = df['Rec_count'].interpolate(**params)\n  print(f\"Rec_count {method} {mean_absolute_percentage_error(df_copy['Rec_count'], interp_df[f'{method}_rec_count'])}\")\n  # geting mean_absolute_percentage_error for Volume\n  interp_df[f'{method}_volume'] = df['Volume'].interpolate(**params)\n  print(f\"Volume {method} {mean_absolute_percentage_error(df_copy['Volume'], interp_df[f'{method}_volume'])}\")\n  ",
      "metadata": {
        "colab": {
          "base_uri": "https://localhost:8080/"
        },
        "id": "nKmvCv7JVyB1",
        "outputId": "c01fc50f-9399-4adc-e835-2482c16a083a",
        "trusted": true
      },
      "execution_count": 798,
      "outputs": [
        {
          "name": "stdout",
          "text": "Rec_count linear 0.014098092097249685\nVolume linear 0.15507671923515817\nRec_count polynomial 0.01708315128460994\nVolume polynomial 0.23184260051601602\nRec_count pad 0.015862183288531412\nVolume pad 0.15784521297117296\n",
          "output_type": "stream"
        }
      ]
    },
    {
      "cell_type": "markdown",
      "source": "As we can see linear method fits our data the most.",
      "metadata": {
        "id": "aC7laTB2XzF4"
      }
    },
    {
      "cell_type": "code",
      "source": "pd.options.mode.chained_assignment = None \ndf['Rec_count'] = interp_df['linear_rec_count']\ndf['Volume'] = interp_df['linear_volume']\npd.options.mode.chained_assignment = 'warn'",
      "metadata": {
        "id": "BYhGNXhmXx_X",
        "trusted": true
      },
      "execution_count": 799,
      "outputs": []
    },
    {
      "cell_type": "markdown",
      "source": "Let's check if all missing values were replaced using previously implemented <code>has_missing_values</code> method.",
      "metadata": {
        "id": "BWo_5cEboPT6"
      }
    },
    {
      "cell_type": "code",
      "source": "has_missing_values(df, 'Rec_count', missing_value=np.nan)",
      "metadata": {
        "colab": {
          "base_uri": "https://localhost:8080/"
        },
        "id": "QmA1UH6pWkd8",
        "outputId": "3675e42a-bd75-4861-f336-d926401b3508",
        "trusted": true
      },
      "execution_count": 800,
      "outputs": [
        {
          "execution_count": 799,
          "output_type": "execute_result",
          "data": {
            "text/plain": "False"
          },
          "metadata": {}
        }
      ]
    },
    {
      "cell_type": "code",
      "source": "has_missing_values(df, 'Volume', missing_value=np.nan)",
      "metadata": {
        "trusted": true
      },
      "execution_count": 801,
      "outputs": [
        {
          "execution_count": 800,
          "output_type": "execute_result",
          "data": {
            "text/plain": "False"
          },
          "metadata": {}
        }
      ]
    },
    {
      "cell_type": "markdown",
      "source": "<b>Good!</b> Now, we have a dataset with no missing values.\n",
      "metadata": {
        "id": "nuOGjIyK3Gn7"
      }
    },
    {
      "cell_type": "markdown",
      "source": "<h3 id=\"correct_data_format\">Correct data format</h3>\n<b>We are almost there!</b>\n<p>The last step in data cleaning is checking and making sure that all data is in the correct format (int, float, text or other).</p>\n\nIn Pandas, we use:\n\n<p><b>.dtype()</b> to check the data type</p>\n<p><b>.astype()</b> to change the data type</p>\n",
      "metadata": {
        "id": "Od5UIeXO3Gn7"
      }
    },
    {
      "cell_type": "markdown",
      "source": "<h4>Let's list the data types for each column</h4>\n",
      "metadata": {
        "id": "V3wr8dUP3Gn8"
      }
    },
    {
      "cell_type": "code",
      "source": "df.dtypes",
      "metadata": {
        "colab": {
          "base_uri": "https://localhost:8080/"
        },
        "id": "h6HkBru43Gn8",
        "outputId": "55cf4092-5f8f-490d-c536-f28c45d76d27",
        "trusted": true
      },
      "execution_count": 802,
      "outputs": [
        {
          "execution_count": 801,
          "output_type": "execute_result",
          "data": {
            "text/plain": "Ts            object\nOpen          string\nHigh         float64\nLow          float64\nClose         string\nVolume       float64\nRec_count    float64\nAvg_price    float64\ndtype: object"
          },
          "metadata": {}
        }
      ]
    },
    {
      "cell_type": "markdown",
      "source": "<p>As we can see above, some columns are not of the correct data type. Numerical variables should have type <code>float</code> or <code>int</code>, datetime values should have <code>datetime</code> . For example, 'Volume' is  numerical value of type <code>float</code>; however, it is displayed <code>object</code>, same goes for 'Ts' column that is of type <code>datetime</code>. We have to convert data types into a proper format for each column using the <code>astype()</code> method.</p> \n",
      "metadata": {
        "id": "4hptcWOa3Gn8"
      }
    },
    {
      "cell_type": "markdown",
      "source": "<h4>Convert data types to proper format</h4>\n",
      "metadata": {
        "id": "ku3Dz8KV3Gn8"
      }
    },
    {
      "cell_type": "code",
      "source": "correct_types = {'Ts': np.datetime64,\n                'Open': np.float64,\n                'High': np.float64,\n                'Low': np.float64,\n                'Close': np.float64,\n                'Volume': np.float64,\n                'Rec_count': np.int64,\n                'Avg_price': np.float64\n                 }\n\ndf = df.astype(correct_types)",
      "metadata": {
        "id": "_FeAUxsV3Gn8",
        "trusted": true
      },
      "execution_count": 803,
      "outputs": []
    },
    {
      "cell_type": "markdown",
      "source": "<h4>Let us list the columns after the conversion</h4>\n",
      "metadata": {
        "id": "4N6L7GAx3Gn8"
      }
    },
    {
      "cell_type": "code",
      "source": "df.dtypes",
      "metadata": {
        "colab": {
          "base_uri": "https://localhost:8080/"
        },
        "id": "gj9NCEWk3Gn9",
        "outputId": "b3f2359d-cfa7-477a-fbdb-24329d42a943",
        "trusted": true
      },
      "execution_count": 804,
      "outputs": [
        {
          "execution_count": 803,
          "output_type": "execute_result",
          "data": {
            "text/plain": "Ts           datetime64[ns]\nOpen                float64\nHigh                float64\nLow                 float64\nClose               float64\nVolume              float64\nRec_count             int64\nAvg_price           float64\ndtype: object"
          },
          "metadata": {}
        }
      ]
    },
    {
      "cell_type": "markdown",
      "source": "Now we have obtained the cleaned dataset with no missing values.\n",
      "metadata": {
        "id": "e5-Hu2Bn3Gn9"
      }
    },
    {
      "cell_type": "markdown",
      "source": "<h2 id=\"data_standardization\">Data Standardization</h2>\n<p>\nData is usually collected from different sources in different formats.\n(Data standardization is also a term for a particular type of data normalization where we subtract the mean and divide by the standard deviation.)\n</p>\n\n<b>What is standardization?</b>\n\n<p>Standardization is the process of transforming data into a common format, allowing the researcher to make the meaningful comparison.\n</p>\n\n<b>Example</b>\n\n<p>Transform BUSD to USDT:</p>\n<p>In our dataset, the avarage cost column \"Avg_cost\" is represented by BUSD unit. Assume we want to perform some analisys, but using USDT values.</p>\n<p>We will need to apply <b>data transformation</b> to transform BUSD into USDT.</p>\n",
      "metadata": {
        "id": "jBTAvH4l3Gn9"
      }
    },
    {
      "cell_type": "markdown",
      "source": "<p>Let's use binance API to get up to date info for transformation</p>\n\n<p>We can do many mathematical operations directly in Pandas.</p>\n",
      "metadata": {
        "id": "UUZG0aL83Gn9"
      }
    },
    {
      "cell_type": "code",
      "source": "df.head()",
      "metadata": {
        "id": "oyiewCXv3Gn9",
        "colab": {
          "base_uri": "https://localhost:8080/",
          "height": 206
        },
        "outputId": "682a725c-7c7c-4ab3-8395-cfc7269aecf9",
        "trusted": true
      },
      "execution_count": 805,
      "outputs": [
        {
          "execution_count": 804,
          "output_type": "execute_result",
          "data": {
            "text/plain": "                   Ts    Open    High     Low   Close    Volume  Rec_count  \\\n0 2022-11-11 14:38:00  0.3450  0.3450  0.3438  0.3438  139808.0         44   \n1 2022-11-11 14:39:00  0.3437  0.3441  0.3436  0.3440   80960.0         41   \n2 2022-11-11 14:40:00  0.3439  0.3442  0.3432  0.3433  149624.0         42   \n3 2022-11-11 14:41:00  0.3432  0.3448  0.3426  0.3446  165967.0         47   \n4 2022-11-11 14:42:00  0.3446  0.3448  0.3438  0.3438   34815.0         27   \n\n   Avg_price  \n0   0.344496  \n1   0.343841  \n2   0.343694  \n3   0.343953  \n4   0.344382  ",
            "text/html": "<div>\n<style scoped>\n    .dataframe tbody tr th:only-of-type {\n        vertical-align: middle;\n    }\n\n    .dataframe tbody tr th {\n        vertical-align: top;\n    }\n\n    .dataframe thead th {\n        text-align: right;\n    }\n</style>\n<table border=\"1\" class=\"dataframe\">\n  <thead>\n    <tr style=\"text-align: right;\">\n      <th></th>\n      <th>Ts</th>\n      <th>Open</th>\n      <th>High</th>\n      <th>Low</th>\n      <th>Close</th>\n      <th>Volume</th>\n      <th>Rec_count</th>\n      <th>Avg_price</th>\n    </tr>\n  </thead>\n  <tbody>\n    <tr>\n      <th>0</th>\n      <td>2022-11-11 14:38:00</td>\n      <td>0.3450</td>\n      <td>0.3450</td>\n      <td>0.3438</td>\n      <td>0.3438</td>\n      <td>139808.0</td>\n      <td>44</td>\n      <td>0.344496</td>\n    </tr>\n    <tr>\n      <th>1</th>\n      <td>2022-11-11 14:39:00</td>\n      <td>0.3437</td>\n      <td>0.3441</td>\n      <td>0.3436</td>\n      <td>0.3440</td>\n      <td>80960.0</td>\n      <td>41</td>\n      <td>0.343841</td>\n    </tr>\n    <tr>\n      <th>2</th>\n      <td>2022-11-11 14:40:00</td>\n      <td>0.3439</td>\n      <td>0.3442</td>\n      <td>0.3432</td>\n      <td>0.3433</td>\n      <td>149624.0</td>\n      <td>42</td>\n      <td>0.343694</td>\n    </tr>\n    <tr>\n      <th>3</th>\n      <td>2022-11-11 14:41:00</td>\n      <td>0.3432</td>\n      <td>0.3448</td>\n      <td>0.3426</td>\n      <td>0.3446</td>\n      <td>165967.0</td>\n      <td>47</td>\n      <td>0.343953</td>\n    </tr>\n    <tr>\n      <th>4</th>\n      <td>2022-11-11 14:42:00</td>\n      <td>0.3446</td>\n      <td>0.3448</td>\n      <td>0.3438</td>\n      <td>0.3438</td>\n      <td>34815.0</td>\n      <td>27</td>\n      <td>0.344382</td>\n    </tr>\n  </tbody>\n</table>\n</div>"
          },
          "metadata": {}
        }
      ]
    },
    {
      "cell_type": "code",
      "source": "# Convert BUSD to USDT by mathematical operation\nres = await pyfetch(\"https://api.binance.com/sapi/v1/convert/exchangeInfo?fromAsset=BUSD&toAsset=USDT\")\n# If the API is unavailable we set fixed rate\nif res.status != 200:\n    rate = 0.999707\nelse:\n    # Converting json to dict\n    res = await res.json()\n    rate = float(res[0][\"toAssetMinAmount\"])\n    \nprint(f\"The exchange rate is 1 BUSD = {rate} USDT\")\n\ncols_to_convert = [\"Avg_price\"]\nfor col in cols_to_convert:\n    df[f\"{col}_USDT\"] = df[col] * rate\n\n# check your transformed data \ndf[[\"Avg_price_USDT\"]].head(25)",
      "metadata": {
        "colab": {
          "base_uri": "https://localhost:8080/",
          "height": 206
        },
        "id": "7Q3zgnsY3Gn9",
        "outputId": "8415c795-0c1c-4b79-9b0e-bfe5013978a5",
        "trusted": true
      },
      "execution_count": 806,
      "outputs": [
        {
          "name": "stdout",
          "text": "The exchange rate is 1 BUSD = 1.0 USDT\n",
          "output_type": "stream"
        },
        {
          "execution_count": 805,
          "output_type": "execute_result",
          "data": {
            "text/plain": "    Avg_price_USDT\n0         0.344496\n1         0.343841\n2         0.343694\n3         0.343953\n4         0.344382\n5         0.344446\n6         0.344243\n7         0.346929\n8         0.348925\n9         0.353730\n10        0.353513\n11        0.353476\n12        0.353670\n13        0.352406\n14        0.350455\n15        0.349530\n16        0.349915\n17        0.348145\n18        0.349100\n19        0.349458\n20        0.349729\n21        0.350550\n22        0.350846\n23        0.351286\n24        0.350001",
            "text/html": "<div>\n<style scoped>\n    .dataframe tbody tr th:only-of-type {\n        vertical-align: middle;\n    }\n\n    .dataframe tbody tr th {\n        vertical-align: top;\n    }\n\n    .dataframe thead th {\n        text-align: right;\n    }\n</style>\n<table border=\"1\" class=\"dataframe\">\n  <thead>\n    <tr style=\"text-align: right;\">\n      <th></th>\n      <th>Avg_price_USDT</th>\n    </tr>\n  </thead>\n  <tbody>\n    <tr>\n      <th>0</th>\n      <td>0.344496</td>\n    </tr>\n    <tr>\n      <th>1</th>\n      <td>0.343841</td>\n    </tr>\n    <tr>\n      <th>2</th>\n      <td>0.343694</td>\n    </tr>\n    <tr>\n      <th>3</th>\n      <td>0.343953</td>\n    </tr>\n    <tr>\n      <th>4</th>\n      <td>0.344382</td>\n    </tr>\n    <tr>\n      <th>5</th>\n      <td>0.344446</td>\n    </tr>\n    <tr>\n      <th>6</th>\n      <td>0.344243</td>\n    </tr>\n    <tr>\n      <th>7</th>\n      <td>0.346929</td>\n    </tr>\n    <tr>\n      <th>8</th>\n      <td>0.348925</td>\n    </tr>\n    <tr>\n      <th>9</th>\n      <td>0.353730</td>\n    </tr>\n    <tr>\n      <th>10</th>\n      <td>0.353513</td>\n    </tr>\n    <tr>\n      <th>11</th>\n      <td>0.353476</td>\n    </tr>\n    <tr>\n      <th>12</th>\n      <td>0.353670</td>\n    </tr>\n    <tr>\n      <th>13</th>\n      <td>0.352406</td>\n    </tr>\n    <tr>\n      <th>14</th>\n      <td>0.350455</td>\n    </tr>\n    <tr>\n      <th>15</th>\n      <td>0.349530</td>\n    </tr>\n    <tr>\n      <th>16</th>\n      <td>0.349915</td>\n    </tr>\n    <tr>\n      <th>17</th>\n      <td>0.348145</td>\n    </tr>\n    <tr>\n      <th>18</th>\n      <td>0.349100</td>\n    </tr>\n    <tr>\n      <th>19</th>\n      <td>0.349458</td>\n    </tr>\n    <tr>\n      <th>20</th>\n      <td>0.349729</td>\n    </tr>\n    <tr>\n      <th>21</th>\n      <td>0.350550</td>\n    </tr>\n    <tr>\n      <th>22</th>\n      <td>0.350846</td>\n    </tr>\n    <tr>\n      <th>23</th>\n      <td>0.351286</td>\n    </tr>\n    <tr>\n      <th>24</th>\n      <td>0.350001</td>\n    </tr>\n  </tbody>\n</table>\n</div>"
          },
          "metadata": {}
        }
      ]
    },
    {
      "cell_type": "markdown",
      "source": "<div class=\"alert alert-danger alertdanger\" style=\"margin-top: 20px\">\n<h1> Question  #1: </h1>\n\n<b>According to the example above, transform BUSD to ADA in the new column  called \"ADA_avg_price\".</b>\n\n</div>\n",
      "metadata": {
        "id": "TJbIJWQ83Gn9"
      }
    },
    {
      "cell_type": "code",
      "source": "# Write your code below and press Shift+Enter to execute ",
      "metadata": {
        "id": "dD6IvC-Z3Gn-",
        "trusted": true
      },
      "execution_count": 807,
      "outputs": []
    },
    {
      "cell_type": "markdown",
      "source": "<details><summary>Click here for the solution</summary>\n\n```python\n# Convert BUSD to ADA by mathematical operation\nres = await pyfetch(\"https://api.binance.com/sapi/v1/convert/exchangeInfo?fromAsset=BUSD&toAsset=ADA\")\n# If the api is unavailable we set fixed rate\nif res.status != 200:\n    rate = 2.6\nelse:\n    # Converting json to dict\n    res = await res.json()\n    rate = float(res[0][\"toAssetMinAmount\"])\n    \nprint(f\"The exchange rate is 1 BUSD = {rate} ADA\")\n\ncols_to_convert = [\"Avg_price\"]\nfor col in cols_to_convert:\n    df[f\"{col}_ADA\"] = df[col] * rate\n\n# check your transformed data \ndf[[\"Avg_price_ADA\"]].head()\n\n```\n\n</details>\n",
      "metadata": {
        "id": "OZKGjdQL3Gn-"
      }
    },
    {
      "cell_type": "markdown",
      "source": "<h2 id=\"data_normalization\">Data Normalization</h2>\n\n<b>Why normalization?</b>\n\n<p>Normalization is the process of transforming values of several variables into a similar range. Typical normalizations include scaling the variable so the variable average is 0, scaling the variable so the variance is 1, or scaling the variable so the variable values range from 0 to 1.\n</p>\n\n<b>Example</b>\n\n<p>To demonstrate normalization, let's say we want to scale the columns \"Rec_count\" and \"Volume\".</p>\n<p><b>Target:</b> would like to normalize those variables so their value ranges from 0 to 1</p>\n<p><b>Approach:</b> Use <a href=\"https://scikit-learn.org/stable/modules/generated/sklearn.preprocessing.MinMaxScaler.html\">MinMaxScaler</a> that does following computations:</p>\n<ul>\n<li>\nX_std = (X - X.min(axis=0)) / (X.max(axis=0) - X.min(axis=0))\n</li>\n<li>\nX_scaled = X_std * (max - min) + min\n</li>\n</ul>\nWhere min, max are params from feature_range.\n",
      "metadata": {
        "id": "c22PvN8R3Gn-"
      }
    },
    {
      "cell_type": "code",
      "source": "# replace (original value) by MinMaxScaler values\nfrom sklearn.preprocessing import MinMaxScaler\n# the default value of fearture_range parameter is (0, 1),\n# so we do not need to specify it\nscaler = MinMaxScaler()\ndf[['Rec_count']] = scaler.fit_transform(df[['Rec_count']])\ndf[['Rec_count']]",
      "metadata": {
        "id": "Ai2W065L3Gn-",
        "trusted": true
      },
      "execution_count": 808,
      "outputs": [
        {
          "execution_count": 807,
          "output_type": "execute_result",
          "data": {
            "text/plain": "       Rec_count\n0       0.380531\n1       0.353982\n2       0.362832\n3       0.407080\n4       0.230088\n...          ...\n65298   0.044248\n65299   0.026549\n65300   0.053097\n65301   0.017699\n65302   0.026549\n\n[65303 rows x 1 columns]",
            "text/html": "<div>\n<style scoped>\n    .dataframe tbody tr th:only-of-type {\n        vertical-align: middle;\n    }\n\n    .dataframe tbody tr th {\n        vertical-align: top;\n    }\n\n    .dataframe thead th {\n        text-align: right;\n    }\n</style>\n<table border=\"1\" class=\"dataframe\">\n  <thead>\n    <tr style=\"text-align: right;\">\n      <th></th>\n      <th>Rec_count</th>\n    </tr>\n  </thead>\n  <tbody>\n    <tr>\n      <th>0</th>\n      <td>0.380531</td>\n    </tr>\n    <tr>\n      <th>1</th>\n      <td>0.353982</td>\n    </tr>\n    <tr>\n      <th>2</th>\n      <td>0.362832</td>\n    </tr>\n    <tr>\n      <th>3</th>\n      <td>0.407080</td>\n    </tr>\n    <tr>\n      <th>4</th>\n      <td>0.230088</td>\n    </tr>\n    <tr>\n      <th>...</th>\n      <td>...</td>\n    </tr>\n    <tr>\n      <th>65298</th>\n      <td>0.044248</td>\n    </tr>\n    <tr>\n      <th>65299</th>\n      <td>0.026549</td>\n    </tr>\n    <tr>\n      <th>65300</th>\n      <td>0.053097</td>\n    </tr>\n    <tr>\n      <th>65301</th>\n      <td>0.017699</td>\n    </tr>\n    <tr>\n      <th>65302</th>\n      <td>0.026549</td>\n    </tr>\n  </tbody>\n</table>\n<p>65303 rows × 1 columns</p>\n</div>"
          },
          "metadata": {}
        }
      ]
    },
    {
      "cell_type": "markdown",
      "source": "<div class=\"alert alert-danger alertdanger\" style=\"margin-top: 20px\">\n<h1> Question #2: </h1>\n\n<b>According to the example above, normalize the column \"Volume\".</b>\n\n</div>\n",
      "metadata": {
        "id": "GTrr14A63Gn-"
      }
    },
    {
      "cell_type": "code",
      "source": "# Write your code below and press Shift+Enter to execute ",
      "metadata": {
        "id": "ntl6OE1-3Gn_",
        "trusted": true
      },
      "execution_count": 809,
      "outputs": []
    },
    {
      "cell_type": "markdown",
      "source": "<details><summary>Click here for the solution</summary>\n\n```python\ndf[['Volume']] = scaler.fit_transform(df[['Volume']])\n\n# show the scaled columns\ndf[['Volume','Rec_count']].head()\n\n```\n\n</details>\n",
      "metadata": {
        "id": "j7ZH5N7g3Gn_"
      }
    },
    {
      "cell_type": "markdown",
      "source": "Here we can see we've normalized \"Volume\" and \"Rec_count\" in the range of \\[0,1].\n",
      "metadata": {
        "id": "EWMHYPLc3Gn_"
      }
    },
    {
      "cell_type": "markdown",
      "source": "<h2 id=\"binning\">Binning</h2>\n<b>Why binning?</b>\n<p>\n    Binning is a process of transforming continuous numerical variables into discrete categorical 'bins' for grouped analysis.\n</p>\n\n<b>Example: </b>\n\n<p> What if we want to see periods of time when \"Avg_price\" had highest values and analyse the difference between \"High\" and \"Low\" values for high, medium and low \"Avg_price\"?\nCan we rearrange them into three ‘bins' to simplify analysis? </p>\n\n<p>We will use the pandas method \"cut\" to segment the \"Avg_price\" column into 3 bins.</p>\n",
      "metadata": {
        "id": "ctFfd2Up3Gn_"
      }
    },
    {
      "cell_type": "markdown",
      "source": "<h3>Example of Binning Data In Pandas</h3>\n",
      "metadata": {
        "id": "OlWy1nei3Gn_"
      }
    },
    {
      "cell_type": "markdown",
      "source": "Let's plot the histogram of Avg_price to see what the distribution of Avg_price looks like.\n",
      "metadata": {
        "id": "L09GsqcT3GoA"
      }
    },
    {
      "cell_type": "code",
      "source": "%matplotlib inline \nimport matplotlib as plt\nfrom matplotlib import pyplot\nplt.pyplot.hist(df[\"Avg_price\"])\n\n# set x/y labels and plot title\nplt.pyplot.xlabel(\"Avg_price\")\nplt.pyplot.ylabel(\"Count\")\nplt.pyplot.title(\"Average price bins\")",
      "metadata": {
        "colab": {
          "base_uri": "https://localhost:8080/",
          "height": 313
        },
        "id": "h_Uc0A2V3GoA",
        "outputId": "e53da0f5-7220-487e-8072-7071346f6622",
        "trusted": true
      },
      "execution_count": 810,
      "outputs": [
        {
          "execution_count": 809,
          "output_type": "execute_result",
          "data": {
            "text/plain": "Text(0.5, 1.0, 'Average price bins')"
          },
          "metadata": {}
        },
        {
          "output_type": "display_data",
          "data": {
            "text/plain": "<Figure size 640x480 with 1 Axes>",
            "image/png": "[encoded data removed]"
          },
          "metadata": {}
        }
      ]
    },
    {
      "cell_type": "markdown",
      "source": "<p>We would like 3 bins of equal size bandwidth so we use numpy's <code>linspace(start_value, end_value, numbers_generated</code> function.</p>\n<p>Since we want to include the minimum value of \"Avg_price\" column, we want to set start_value = min(df[\"Avg_price\"]).</p>\n<p>Since we want to include the maximum value of \"Avg_price\" column, we want to set end_value = max(df[\"Avg_price\"]).</p>\n<p>Since we are building 3 bins of equal length, there should be 4 dividers, so numbers_generated = 4.</p>\n",
      "metadata": {
        "id": "Sf3oqIXj3GoA"
      }
    },
    {
      "cell_type": "markdown",
      "source": "We build a bin array with a minimum value to a maximum value by using the bandwidth calculated above. The values will determine when one bin ends and another begins.\n",
      "metadata": {
        "id": "yIWylzmZ3GoA"
      }
    },
    {
      "cell_type": "code",
      "source": "bins = np.linspace(min(df['Avg_price']), max(df['Avg_price']), 4)\nbins",
      "metadata": {
        "colab": {
          "base_uri": "https://localhost:8080/"
        },
        "id": "IR6XOhDt3GoA",
        "outputId": "ad0c215a-4ce3-4724-e93d-8993be3e5284",
        "trusted": true
      },
      "execution_count": 811,
      "outputs": [
        {
          "execution_count": 810,
          "output_type": "execute_result",
          "data": {
            "text/plain": "array([0.23993806, 0.27850777, 0.31707748, 0.3556472 ])"
          },
          "metadata": {}
        }
      ]
    },
    {
      "cell_type": "markdown",
      "source": "We set group  names:\n",
      "metadata": {
        "id": "_mIm7f0_3GoA"
      }
    },
    {
      "cell_type": "code",
      "source": "group_names = ['Low', 'Medium', 'High']",
      "metadata": {
        "id": "gi6oDPSC3GoA",
        "trusted": true
      },
      "execution_count": 812,
      "outputs": []
    },
    {
      "cell_type": "markdown",
      "source": "We apply the function \"cut\" to determine what each value of `df['Avg_price']` belongs to.\n",
      "metadata": {
        "id": "kuk86gvn3GoB"
      }
    },
    {
      "cell_type": "code",
      "source": "df['Avg_price_binned'] = pd.cut(df['Avg_price'], bins, labels=group_names, include_lowest=True )\ndf[['Avg_price','Avg_price_binned']].head(20)",
      "metadata": {
        "colab": {
          "base_uri": "https://localhost:8080/",
          "height": 676
        },
        "id": "gHjlD-ao3GoB",
        "outputId": "4693b240-b14c-4d3e-822b-36b17bd4a324",
        "trusted": true
      },
      "execution_count": 813,
      "outputs": [
        {
          "execution_count": 812,
          "output_type": "execute_result",
          "data": {
            "text/plain": "    Avg_price Avg_price_binned\n0    0.344496             High\n1    0.343841             High\n2    0.343694             High\n3    0.343953             High\n4    0.344382             High\n5    0.344446             High\n6    0.344243             High\n7    0.346929             High\n8    0.348925             High\n9    0.353730             High\n10   0.353513             High\n11   0.353476             High\n12   0.353670             High\n13   0.352406             High\n14   0.350455             High\n15   0.349530             High\n16   0.349915             High\n17   0.348145             High\n18   0.349100             High\n19   0.349458             High",
            "text/html": "<div>\n<style scoped>\n    .dataframe tbody tr th:only-of-type {\n        vertical-align: middle;\n    }\n\n    .dataframe tbody tr th {\n        vertical-align: top;\n    }\n\n    .dataframe thead th {\n        text-align: right;\n    }\n</style>\n<table border=\"1\" class=\"dataframe\">\n  <thead>\n    <tr style=\"text-align: right;\">\n      <th></th>\n      <th>Avg_price</th>\n      <th>Avg_price_binned</th>\n    </tr>\n  </thead>\n  <tbody>\n    <tr>\n      <th>0</th>\n      <td>0.344496</td>\n      <td>High</td>\n    </tr>\n    <tr>\n      <th>1</th>\n      <td>0.343841</td>\n      <td>High</td>\n    </tr>\n    <tr>\n      <th>2</th>\n      <td>0.343694</td>\n      <td>High</td>\n    </tr>\n    <tr>\n      <th>3</th>\n      <td>0.343953</td>\n      <td>High</td>\n    </tr>\n    <tr>\n      <th>4</th>\n      <td>0.344382</td>\n      <td>High</td>\n    </tr>\n    <tr>\n      <th>5</th>\n      <td>0.344446</td>\n      <td>High</td>\n    </tr>\n    <tr>\n      <th>6</th>\n      <td>0.344243</td>\n      <td>High</td>\n    </tr>\n    <tr>\n      <th>7</th>\n      <td>0.346929</td>\n      <td>High</td>\n    </tr>\n    <tr>\n      <th>8</th>\n      <td>0.348925</td>\n      <td>High</td>\n    </tr>\n    <tr>\n      <th>9</th>\n      <td>0.353730</td>\n      <td>High</td>\n    </tr>\n    <tr>\n      <th>10</th>\n      <td>0.353513</td>\n      <td>High</td>\n    </tr>\n    <tr>\n      <th>11</th>\n      <td>0.353476</td>\n      <td>High</td>\n    </tr>\n    <tr>\n      <th>12</th>\n      <td>0.353670</td>\n      <td>High</td>\n    </tr>\n    <tr>\n      <th>13</th>\n      <td>0.352406</td>\n      <td>High</td>\n    </tr>\n    <tr>\n      <th>14</th>\n      <td>0.350455</td>\n      <td>High</td>\n    </tr>\n    <tr>\n      <th>15</th>\n      <td>0.349530</td>\n      <td>High</td>\n    </tr>\n    <tr>\n      <th>16</th>\n      <td>0.349915</td>\n      <td>High</td>\n    </tr>\n    <tr>\n      <th>17</th>\n      <td>0.348145</td>\n      <td>High</td>\n    </tr>\n    <tr>\n      <th>18</th>\n      <td>0.349100</td>\n      <td>High</td>\n    </tr>\n    <tr>\n      <th>19</th>\n      <td>0.349458</td>\n      <td>High</td>\n    </tr>\n  </tbody>\n</table>\n</div>"
          },
          "metadata": {}
        }
      ]
    },
    {
      "cell_type": "markdown",
      "source": "Let's see the number of records in each bin:\n",
      "metadata": {
        "id": "X1zOpm5C3GoB"
      }
    },
    {
      "cell_type": "code",
      "source": "df[\"Avg_price_binned\"].value_counts()",
      "metadata": {
        "colab": {
          "base_uri": "https://localhost:8080/"
        },
        "id": "nfbt04u03GoB",
        "outputId": "a1291783-9f62-4131-c383-8300c33f179e",
        "trusted": true
      },
      "execution_count": 814,
      "outputs": [
        {
          "execution_count": 813,
          "output_type": "execute_result",
          "data": {
            "text/plain": "Medium    28732\nHigh      19858\nLow       16713\nName: Avg_price_binned, dtype: int64"
          },
          "metadata": {}
        }
      ]
    },
    {
      "cell_type": "markdown",
      "source": "Let's plot the distribution of each bin:\n",
      "metadata": {
        "id": "hu5nVq9A3GoB"
      }
    },
    {
      "cell_type": "code",
      "source": "%matplotlib inline\nimport matplotlib as plt\nfrom matplotlib import pyplot\n\npyplot.bar(group_names, df[\"Avg_price_binned\"].value_counts())\n\n# set x/y labels and plot title\nplt.pyplot.xlabel(\"Avg_price\")\nplt.pyplot.ylabel(\"Count\")\nplt.pyplot.title(\"Average price bins\")",
      "metadata": {
        "colab": {
          "base_uri": "https://localhost:8080/",
          "height": 313
        },
        "id": "zvj3Vp563GoB",
        "outputId": "8dfb13f4-077b-430a-8c24-c534bad44d2b",
        "trusted": true
      },
      "execution_count": 815,
      "outputs": [
        {
          "execution_count": 814,
          "output_type": "execute_result",
          "data": {
            "text/plain": "Text(0.5, 1.0, 'Average price bins')"
          },
          "metadata": {}
        },
        {
          "output_type": "display_data",
          "data": {
            "text/plain": "<Figure size 640x480 with 1 Axes>",
            "image/png": "[encoded data removed]"
          },
          "metadata": {}
        }
      ]
    },
    {
      "cell_type": "markdown",
      "source": "<p>\n    Good, we devided our dataset into bins by \"Avg_price\" based on 3 categories (\"Low\", \"Medium\" and \"High\"). \n</p>",
      "metadata": {
        "id": "Xrcc758e3GoB"
      }
    },
    {
      "cell_type": "markdown",
      "source": "<h3>Bins Visualization</h3>\nNormally, a histogram is used to visualize the distribution of bins we created above. \n",
      "metadata": {
        "id": "q2e5QAfa3GoC"
      }
    },
    {
      "cell_type": "code",
      "source": "%matplotlib inline\nimport matplotlib as plt\nfrom matplotlib import pyplot\n\n\n# draw historgram of attribute \"High\" with bins = 3\nplt.pyplot.hist(df[\"Avg_price\"], bins = 3)\n\n# set x/y labels and plot title\nplt.pyplot.xlabel(\"Avg_price\")\nplt.pyplot.ylabel(\"Count\")\nplt.pyplot.title(\"Avarage price bins\")",
      "metadata": {
        "colab": {
          "base_uri": "https://localhost:8080/",
          "height": 313
        },
        "id": "sAaIlt6G3GoC",
        "outputId": "6aab997b-7b1f-48b5-a7cb-8104d54f8e8f",
        "trusted": true
      },
      "execution_count": 816,
      "outputs": [
        {
          "execution_count": 815,
          "output_type": "execute_result",
          "data": {
            "text/plain": "Text(0.5, 1.0, 'Avarage price bins')"
          },
          "metadata": {}
        },
        {
          "output_type": "display_data",
          "data": {
            "text/plain": "<Figure size 640x480 with 1 Axes>",
            "image/png": "[encoded data removed]"
          },
          "metadata": {}
        }
      ]
    },
    {
      "cell_type": "markdown",
      "source": "The plot above shows the binning result for the attribute \"Avg_price\".\n",
      "metadata": {
        "id": "dXYc8-IF3GoC"
      }
    },
    {
      "cell_type": "code",
      "source": "dummy_variable = pd.get_dummies(df['Avg_price_binned'])\ndummy_variable",
      "metadata": {
        "colab": {
          "base_uri": "https://localhost:8080/",
          "height": 423
        },
        "id": "LvFFAhm1fjXG",
        "outputId": "6b687844-acaf-4a2a-e454-5c3b3a067807",
        "trusted": true
      },
      "execution_count": 817,
      "outputs": [
        {
          "execution_count": 816,
          "output_type": "execute_result",
          "data": {
            "text/plain": "       Low  Medium  High\n0        0       0     1\n1        0       0     1\n2        0       0     1\n3        0       0     1\n4        0       0     1\n...    ...     ...   ...\n65298    1       0     0\n65299    1       0     0\n65300    1       0     0\n65301    1       0     0\n65302    1       0     0\n\n[65303 rows x 3 columns]",
            "text/html": "<div>\n<style scoped>\n    .dataframe tbody tr th:only-of-type {\n        vertical-align: middle;\n    }\n\n    .dataframe tbody tr th {\n        vertical-align: top;\n    }\n\n    .dataframe thead th {\n        text-align: right;\n    }\n</style>\n<table border=\"1\" class=\"dataframe\">\n  <thead>\n    <tr style=\"text-align: right;\">\n      <th></th>\n      <th>Low</th>\n      <th>Medium</th>\n      <th>High</th>\n    </tr>\n  </thead>\n  <tbody>\n    <tr>\n      <th>0</th>\n      <td>0</td>\n      <td>0</td>\n      <td>1</td>\n    </tr>\n    <tr>\n      <th>1</th>\n      <td>0</td>\n      <td>0</td>\n      <td>1</td>\n    </tr>\n    <tr>\n      <th>2</th>\n      <td>0</td>\n      <td>0</td>\n      <td>1</td>\n    </tr>\n    <tr>\n      <th>3</th>\n      <td>0</td>\n      <td>0</td>\n      <td>1</td>\n    </tr>\n    <tr>\n      <th>4</th>\n      <td>0</td>\n      <td>0</td>\n      <td>1</td>\n    </tr>\n    <tr>\n      <th>...</th>\n      <td>...</td>\n      <td>...</td>\n      <td>...</td>\n    </tr>\n    <tr>\n      <th>65298</th>\n      <td>1</td>\n      <td>0</td>\n      <td>0</td>\n    </tr>\n    <tr>\n      <th>65299</th>\n      <td>1</td>\n      <td>0</td>\n      <td>0</td>\n    </tr>\n    <tr>\n      <th>65300</th>\n      <td>1</td>\n      <td>0</td>\n      <td>0</td>\n    </tr>\n    <tr>\n      <th>65301</th>\n      <td>1</td>\n      <td>0</td>\n      <td>0</td>\n    </tr>\n    <tr>\n      <th>65302</th>\n      <td>1</td>\n      <td>0</td>\n      <td>0</td>\n    </tr>\n  </tbody>\n</table>\n<p>65303 rows × 3 columns</p>\n</div>"
          },
          "metadata": {}
        }
      ]
    },
    {
      "cell_type": "markdown",
      "source": "Change the column names for clarity:",
      "metadata": {
        "id": "eWCVKBKojCic"
      }
    },
    {
      "cell_type": "code",
      "source": "dummy_variable.rename(columns={'Low':'Low_bin', 'Medium':'Medium_bin', 'High': 'High_bin'}, inplace=True)",
      "metadata": {
        "id": "LdfSns5fjBtn",
        "trusted": true
      },
      "execution_count": 818,
      "outputs": []
    },
    {
      "cell_type": "code",
      "source": "# merge data frame \"df\" and \"dummy_variable\" \ndf = pd.concat([df, dummy_variable], axis=1)\n\n# drop original column \"Avg_price_binned\" from \"df\"\ndf.drop(\"Avg_price_binned\", axis = 1, inplace=True)",
      "metadata": {
        "id": "PMevrXTIgK3c",
        "trusted": true
      },
      "execution_count": 819,
      "outputs": []
    },
    {
      "cell_type": "code",
      "source": "df.head()",
      "metadata": {
        "colab": {
          "base_uri": "https://localhost:8080/",
          "height": 206
        },
        "id": "0h6hLsfvh83g",
        "outputId": "636bf387-f2e7-4c01-cd81-be284c0541f2",
        "trusted": true
      },
      "execution_count": 820,
      "outputs": [
        {
          "execution_count": 819,
          "output_type": "execute_result",
          "data": {
            "text/plain": "                   Ts    Open    High     Low   Close    Volume  Rec_count  \\\n0 2022-11-11 14:38:00  0.3450  0.3450  0.3438  0.3438  139808.0   0.380531   \n1 2022-11-11 14:39:00  0.3437  0.3441  0.3436  0.3440   80960.0   0.353982   \n2 2022-11-11 14:40:00  0.3439  0.3442  0.3432  0.3433  149624.0   0.362832   \n3 2022-11-11 14:41:00  0.3432  0.3448  0.3426  0.3446  165967.0   0.407080   \n4 2022-11-11 14:42:00  0.3446  0.3448  0.3438  0.3438   34815.0   0.230088   \n\n   Avg_price  Avg_price_USDT  Low_bin  Medium_bin  High_bin  \n0   0.344496        0.344496        0           0         1  \n1   0.343841        0.343841        0           0         1  \n2   0.343694        0.343694        0           0         1  \n3   0.343953        0.343953        0           0         1  \n4   0.344382        0.344382        0           0         1  ",
            "text/html": "<div>\n<style scoped>\n    .dataframe tbody tr th:only-of-type {\n        vertical-align: middle;\n    }\n\n    .dataframe tbody tr th {\n        vertical-align: top;\n    }\n\n    .dataframe thead th {\n        text-align: right;\n    }\n</style>\n<table border=\"1\" class=\"dataframe\">\n  <thead>\n    <tr style=\"text-align: right;\">\n      <th></th>\n      <th>Ts</th>\n      <th>Open</th>\n      <th>High</th>\n      <th>Low</th>\n      <th>Close</th>\n      <th>Volume</th>\n      <th>Rec_count</th>\n      <th>Avg_price</th>\n      <th>Avg_price_USDT</th>\n      <th>Low_bin</th>\n      <th>Medium_bin</th>\n      <th>High_bin</th>\n    </tr>\n  </thead>\n  <tbody>\n    <tr>\n      <th>0</th>\n      <td>2022-11-11 14:38:00</td>\n      <td>0.3450</td>\n      <td>0.3450</td>\n      <td>0.3438</td>\n      <td>0.3438</td>\n      <td>139808.0</td>\n      <td>0.380531</td>\n      <td>0.344496</td>\n      <td>0.344496</td>\n      <td>0</td>\n      <td>0</td>\n      <td>1</td>\n    </tr>\n    <tr>\n      <th>1</th>\n      <td>2022-11-11 14:39:00</td>\n      <td>0.3437</td>\n      <td>0.3441</td>\n      <td>0.3436</td>\n      <td>0.3440</td>\n      <td>80960.0</td>\n      <td>0.353982</td>\n      <td>0.343841</td>\n      <td>0.343841</td>\n      <td>0</td>\n      <td>0</td>\n      <td>1</td>\n    </tr>\n    <tr>\n      <th>2</th>\n      <td>2022-11-11 14:40:00</td>\n      <td>0.3439</td>\n      <td>0.3442</td>\n      <td>0.3432</td>\n      <td>0.3433</td>\n      <td>149624.0</td>\n      <td>0.362832</td>\n      <td>0.343694</td>\n      <td>0.343694</td>\n      <td>0</td>\n      <td>0</td>\n      <td>1</td>\n    </tr>\n    <tr>\n      <th>3</th>\n      <td>2022-11-11 14:41:00</td>\n      <td>0.3432</td>\n      <td>0.3448</td>\n      <td>0.3426</td>\n      <td>0.3446</td>\n      <td>165967.0</td>\n      <td>0.407080</td>\n      <td>0.343953</td>\n      <td>0.343953</td>\n      <td>0</td>\n      <td>0</td>\n      <td>1</td>\n    </tr>\n    <tr>\n      <th>4</th>\n      <td>2022-11-11 14:42:00</td>\n      <td>0.3446</td>\n      <td>0.3448</td>\n      <td>0.3438</td>\n      <td>0.3438</td>\n      <td>34815.0</td>\n      <td>0.230088</td>\n      <td>0.344382</td>\n      <td>0.344382</td>\n      <td>0</td>\n      <td>0</td>\n      <td>1</td>\n    </tr>\n  </tbody>\n</table>\n</div>"
          },
          "metadata": {}
        }
      ]
    },
    {
      "cell_type": "markdown",
      "source": "<div class=\"alert alert-danger alertdanger\" style=\"margin-top: 20px\">\n<h1> Question  #3: </h1>\n\n<b>Create an indicator variable for the list of values: <code>['apple', 'orange', 'banana']</code></b>\n\n</div>\n",
      "metadata": {
        "id": "qo9U9ldZkMDA"
      }
    },
    {
      "cell_type": "code",
      "source": "# Write your code below and press Shift+Enter to execute ",
      "metadata": {
        "id": "IPX9OdyAlZd9",
        "trusted": true
      },
      "execution_count": 821,
      "outputs": []
    },
    {
      "cell_type": "markdown",
      "source": "<details><summary>Click here for the solution</summary>\n\n```python\n# get indicator variables for list of values and assign it to data frame \"dummy_variable_1\"\nlist_of_values = ['apple', 'orange', 'banana']\ndummy_variable_1 = pd.get_dummies(list_of_values)\n\ndummy_variable_1.head()\n\n\n```\n\n</details>\n",
      "metadata": {
        "id": "ts2g8pfVk3vU"
      }
    },
    {
      "cell_type": "markdown",
      "source": "<div class=\"alert alert-danger alertdanger\" style=\"margin-top: 20px\">\n<h1> Question  #4: </h1>\n\n<b>Similar to before, create bins for the column \"High\" with four group names. Plot the distribution of each bin. </b>\n\n</div>\n",
      "metadata": {
        "id": "FW4iMn0nmA_Q"
      }
    },
    {
      "cell_type": "code",
      "source": "# Write your code below and press Shift+Enter to execute ",
      "metadata": {
        "id": "4BgSyImgl_i3",
        "trusted": true
      },
      "execution_count": 822,
      "outputs": []
    },
    {
      "cell_type": "markdown",
      "source": "<details><summary>Click here for the solution</summary>\n\n```python\n%matplotlib inline\nimport matplotlib as plt\nfrom matplotlib import pyplot\n\nbins = np.linspace(df['High'].min(), df['High'].max(), 5)\nprint(bins)\n\ngroup_names = ['Hlow_bin', 'Hmedium_Low_bin', 'Hmedium_High_bin' , 'Hhigh_bin']\n\ndf['High_binned'] = pd.cut(df['High'], bins, labels=group_names, include_lowest=True)\npyplot.bar(group_names, df[\"High_binned\"].value_counts())\n\nplt.pyplot.hist(df[\"High\"])\n\nplt.pyplot.xlabel(\"High \")\nplt.pyplot.ylabel(\"Count\")\nplt.pyplot.title(\"High bins\")\n```\n\n</details>\n",
      "metadata": {
        "id": "FXN-4bDyl9mm"
      }
    },
    {
      "cell_type": "markdown",
      "source": "<h3>Resampling</h3>\n",
      "metadata": {
        "id": "fp9ODc1rkCSg"
      }
    },
    {
      "cell_type": "markdown",
      "source": "Time series data can be summarized or aggregated by a new time interval. For example, you can summarize minute data into hours, hours into days, etc.",
      "metadata": {
        "id": "r3zSkC59kGz-"
      }
    },
    {
      "cell_type": "markdown",
      "source": "This process of changing the time period data to be summarized into another time period is often called resampling.",
      "metadata": {
        "id": "N3ouey2rk1Ox"
      }
    },
    {
      "cell_type": "markdown",
      "source": "Let's resample our data from 1 minute to 5 minutes, we will use <code>pandas</code> <code>resample()</code> method for this purpose.",
      "metadata": {
        "id": "iibx1lUfk8xL"
      }
    },
    {
      "cell_type": "code",
      "source": "df['Ts'] = pd.to_datetime(df['Ts'])\ndf.set_index('Ts', inplace=True)",
      "metadata": {
        "id": "BmuKRewlkHVt",
        "trusted": true
      },
      "execution_count": 823,
      "outputs": []
    },
    {
      "cell_type": "markdown",
      "source": "Now we create new dataframe and write aggragated data in it. ",
      "metadata": {
        "id": "EBk1PwuMwIAS"
      }
    },
    {
      "cell_type": "code",
      "source": "resample_df5 = pd.DataFrame()\nresample_df5['Open'] = df['Open'].resample('5min').first()\nresample_df5['High'] = df['High'].resample('5min').max()\nresample_df5['Low'] = df['Low'].resample('5min').min()\nresample_df5['Close'] = df['Close'].resample('5min').last()\nresample_df5['Volume'] = df['Volume'].resample('5min').sum()",
      "metadata": {
        "id": "TEUZkoGdG5OL",
        "trusted": true
      },
      "execution_count": 824,
      "outputs": []
    },
    {
      "cell_type": "markdown",
      "source": "Let's aggregate data to 10 minutes, using shorter syntax.",
      "metadata": {}
    },
    {
      "cell_type": "code",
      "source": "resample_df10 = df[[\"Open\", \"High\", \"Low\", \"Close\", \"Volume\"]].resample(\"10min\").agg({\n    \"Open\": \"first\",\n    \"High\": \"max\",\n    \"Low\": \"min\",\n    \"Close\": \"last\",\n    \"Volume\": \"sum\"\n})",
      "metadata": {
        "trusted": true
      },
      "execution_count": 825,
      "outputs": []
    },
    {
      "cell_type": "markdown",
      "source": "In the above cell we specified time and how our aggragated data will be aggregated.\n\n> <i>For example:</i> for 'Volume' all values(within 5 minutes intervals) in that column will be summed up; for 'Close' we get last value from 5-minute interval; for 'High' we get maximum value within 5-minute intervals.",
      "metadata": {
        "id": "tsPG0m5swiTT"
      }
    },
    {
      "cell_type": "code",
      "source": "resample_df",
      "metadata": {
        "colab": {
          "base_uri": "https://localhost:8080/",
          "height": 455
        },
        "id": "3AczF2VNpdRx",
        "outputId": "5eb4e455-c61d-4a12-e24f-ca60763d9f29",
        "trusted": true
      },
      "execution_count": 826,
      "outputs": [
        {
          "execution_count": 825,
          "output_type": "execute_result",
          "data": {
            "text/plain": "                       Open    High     Low   Close     Volume\nTs                                                            \n2022-11-11 14:35:00  0.3450  0.3450  0.3436  0.3440   220768.0\n2022-11-11 14:40:00  0.3439  0.3448  0.3426  0.3448   470475.0\n2022-11-11 14:45:00  0.3448  0.3568  0.3448  0.3530  3989853.0\n2022-11-11 14:50:00  0.3529  0.3545  0.3487  0.3496  1435676.0\n2022-11-11 14:55:00  0.3496  0.3511  0.3473  0.3498   985189.0\n...                     ...     ...     ...     ...        ...\n2022-12-29 23:35:00  0.2443  0.2443  0.2439  0.2439   294727.0\n2022-12-29 23:40:00  0.2439  0.2441  0.2437  0.2440   171401.0\n2022-12-29 23:45:00  0.2440  0.2440  0.2434  0.2436   144450.0\n2022-12-29 23:50:00  0.2436  0.2439  0.2434  0.2439   121381.0\n2022-12-29 23:55:00  0.2438  0.2440  0.2436  0.2436   196470.0\n\n[13937 rows x 5 columns]",
            "text/html": "<div>\n<style scoped>\n    .dataframe tbody tr th:only-of-type {\n        vertical-align: middle;\n    }\n\n    .dataframe tbody tr th {\n        vertical-align: top;\n    }\n\n    .dataframe thead th {\n        text-align: right;\n    }\n</style>\n<table border=\"1\" class=\"dataframe\">\n  <thead>\n    <tr style=\"text-align: right;\">\n      <th></th>\n      <th>Open</th>\n      <th>High</th>\n      <th>Low</th>\n      <th>Close</th>\n      <th>Volume</th>\n    </tr>\n    <tr>\n      <th>Ts</th>\n      <th></th>\n      <th></th>\n      <th></th>\n      <th></th>\n      <th></th>\n    </tr>\n  </thead>\n  <tbody>\n    <tr>\n      <th>2022-11-11 14:35:00</th>\n      <td>0.3450</td>\n      <td>0.3450</td>\n      <td>0.3436</td>\n      <td>0.3440</td>\n      <td>220768.0</td>\n    </tr>\n    <tr>\n      <th>2022-11-11 14:40:00</th>\n      <td>0.3439</td>\n      <td>0.3448</td>\n      <td>0.3426</td>\n      <td>0.3448</td>\n      <td>470475.0</td>\n    </tr>\n    <tr>\n      <th>2022-11-11 14:45:00</th>\n      <td>0.3448</td>\n      <td>0.3568</td>\n      <td>0.3448</td>\n      <td>0.3530</td>\n      <td>3989853.0</td>\n    </tr>\n    <tr>\n      <th>2022-11-11 14:50:00</th>\n      <td>0.3529</td>\n      <td>0.3545</td>\n      <td>0.3487</td>\n      <td>0.3496</td>\n      <td>1435676.0</td>\n    </tr>\n    <tr>\n      <th>2022-11-11 14:55:00</th>\n      <td>0.3496</td>\n      <td>0.3511</td>\n      <td>0.3473</td>\n      <td>0.3498</td>\n      <td>985189.0</td>\n    </tr>\n    <tr>\n      <th>...</th>\n      <td>...</td>\n      <td>...</td>\n      <td>...</td>\n      <td>...</td>\n      <td>...</td>\n    </tr>\n    <tr>\n      <th>2022-12-29 23:35:00</th>\n      <td>0.2443</td>\n      <td>0.2443</td>\n      <td>0.2439</td>\n      <td>0.2439</td>\n      <td>294727.0</td>\n    </tr>\n    <tr>\n      <th>2022-12-29 23:40:00</th>\n      <td>0.2439</td>\n      <td>0.2441</td>\n      <td>0.2437</td>\n      <td>0.2440</td>\n      <td>171401.0</td>\n    </tr>\n    <tr>\n      <th>2022-12-29 23:45:00</th>\n      <td>0.2440</td>\n      <td>0.2440</td>\n      <td>0.2434</td>\n      <td>0.2436</td>\n      <td>144450.0</td>\n    </tr>\n    <tr>\n      <th>2022-12-29 23:50:00</th>\n      <td>0.2436</td>\n      <td>0.2439</td>\n      <td>0.2434</td>\n      <td>0.2439</td>\n      <td>121381.0</td>\n    </tr>\n    <tr>\n      <th>2022-12-29 23:55:00</th>\n      <td>0.2438</td>\n      <td>0.2440</td>\n      <td>0.2436</td>\n      <td>0.2436</td>\n      <td>196470.0</td>\n    </tr>\n  </tbody>\n</table>\n<p>13937 rows × 5 columns</p>\n</div>"
          },
          "metadata": {}
        }
      ]
    },
    {
      "cell_type": "markdown",
      "source": "As you can see we successfully resampled our 1 minute intervals. Let's save new datasets into csv file",
      "metadata": {
        "id": "bFpkQygge9Np"
      }
    },
    {
      "cell_type": "code",
      "source": "resample_df.to_csv('ADA BUSD 5min.csv')\nresample_df.to_csv('ADA BUSD 10min.csv')",
      "metadata": {
        "id": "gl3li_T33GoF",
        "trusted": true
      },
      "execution_count": 827,
      "outputs": []
    },
    {
      "cell_type": "markdown",
      "source": "### Thank you for completing this lab!\n\n## Author\n\n<a href=\"https://www.linkedin.com/in/joseph-s-50398b136/?utm_medium=Exinfluencer&utm_source=Exinfluencer&utm_content=000026UJ&utm_term=10006555&utm_id=NA-SkillsNetwork-Channel-SkillsNetworkCoursesIBMDeveloperSkillsNetworkDA0101ENSkillsNetwork20235326-2021-01-01\" target=\"_blank\">Joseph Santarcangelo</a>\n\n### Other Contributors\n\n<a href=\"https://www.linkedin.com/in/mahdi-noorian-58219234/?utm_medium=Exinfluencer&utm_source=Exinfluencer&utm_content=000026UJ&utm_term=10006555&utm_id=NA-SkillsNetwork-Channel-SkillsNetworkCoursesIBMDeveloperSkillsNetworkDA0101ENSkillsNetwork20235326-2021-01-01\" target=\"_blank\">Mahdi Noorian PhD</a>\n\nBahare Talayian\n\nEric Xiao\n\nSteven Dong\n\nParizad\n\nHima Vasudevan\n\n<a href=\"https://www.linkedin.com/in/fiorellawever/?utm_medium=Exinfluencer&utm_source=Exinfluencer&utm_content=000026UJ&utm_term=10006555&utm_id=NA-SkillsNetwork-Channel-SkillsNetworkCoursesIBMDeveloperSkillsNetworkDA0101ENSkillsNetwork20235326-2021-01-01\" target=\"_blank\">Fiorella Wenver</a>\n\n<a href=\"https:// https://www.linkedin.com/in/yi-leng-yao-84451275/ \" target=\"_blank\" >Yi Yao</a>.\n\n## Change Log\n\n| Date (YYYY-MM-DD) | Version | Changed By | Change Description                  |\n| ----------------- | ------- | ---------- | ----------------------------------- |\n| 2022-04-22        | 2.3     | Lakshmi    | Made changes in markdown file       |\n| 2020-10-30        | 2.2     | Lakshmi    | Changed URL of csv                  |\n| 2020-09-09        | 2.1     | Lakshmi    | Updated Indicator Variables section |\n| 2020-08-27        | 2.0     | Lavanya    | Moved lab to course repo in GitLab  |\n\n<hr>\n\n## <h3 align=\"center\"> © IBM Corporation 2020. All rights reserved. <h3/>\n",
      "metadata": {
        "id": "q6KHCHt13GoF"
      }
    }
  ]
}
{
  "cells": [
    {
      "cell_type": "markdown",
      "id": "18a9bfc6-538c-4a17-8730-6eaaecaad376",
      "metadata": {},
      "outputs": [],
      "source": [
        "<center>\n    <img src=\"https://cf-courses-data.s3.us.cloud-object-storage.appdomain.cloud/assets/logos/SN_web_lightmode.png\" width=\"500\" alt=\"cognitiveclass.ai logo\"  />\n</center>\n\n# Investigation of cryptocurrency exchange rate dynamic (Matic/USD), сalculation and analysis of technical financial indicators, characterizing the cryptocurrency market (ATR, OBV, RSI, AD)\n\n# Lab 6. Knowledge Check\n\nEstimated time needed: **180** minutes\n\n## Objectives\n\nAfter completing this lab you will be able to:\n\n*   Be confident about your data analysis skills\n\n### **Columns**\n\n* #### `Ts` - the timestamp of the record\n* #### `Open` -  the price of the asset at the beginning of the trading period\n* #### `High` -  the highest price of the asset during the trading period\n* #### `Low` - the lowest price of the asset during the trading period.\n* #### `Close` - the price of the asset at the end of the trading period\n* #### `Volume` - the total number of shares or contracts of a particular asset that are traded during a given period\n* #### `Rec_count` -  the number of individual trades or transactions that have been executed during a given time period\n* #### `Avg_price` - the average price at which a particular asset has been bought or sold during a given period\n* #### `ATR` - average true range indicator\n* #### `OBV` - on-balance volume indicator\n* #### `RSI` - relative strength index indicator\n* #### `AD` - accumulation / distribution indicator\n* #### `BTC_price` - the avarage price from BTC/BUSD dataset \n* #### `BNB_price` - the avarage price from BNB/BUSD dataset\n* ##### Additional columns:  'Open_EUR', 'BTC_price_EUR', 'high_EUR', 'High_Normalized', 'Low_Normalized','close_low', 'close_medium', 'close_high', 'rec_count-binned','rec_count_low', 'rec_count_medium', 'rec_count_high'"
      ]
    },
    {
      "cell_type": "markdown",
      "id": "a7ad3bf6-2877-4cc3-9e9d-a47925a3fca0",
      "metadata": {},
      "outputs": [],
      "source": [
        "You will need the following libraries:\n"
      ]
    },
    {
      "cell_type": "code",
      "id": "a998da7b-513d-46eb-b3a9-f71e6251de56",
      "metadata": {},
      "outputs": [],
      "source": [
        "! conda install -c conda-forge ta -y\n! conda install scikit-learn -y"
      ]
    },
    {
      "cell_type": "code",
      "id": "2578faa5-7c6a-40ba-a21c-b9683cf6d1a0",
      "metadata": {},
      "outputs": [],
      "source": [
        "import pandas as pd\nimport numpy as np\nimport matplotlib.pyplot as plt\nimport matplotlib as mpl\nimport ta\nimport warnings\nwarnings.filterwarnings(\"ignore\")\nimport seaborn as sns \nfrom sklearn.linear_model import LinearRegression\nfrom sklearn.pipeline import Pipeline\nfrom sklearn.preprocessing import StandardScaler,PolynomialFeatures\nfrom sklearn.linear_model import Ridge\nfrom sklearn.metrics import r2_score\nfrom sklearn.model_selection import train_test_split\n\n#set precision \npd.set_option(\"display.precision\", 2)\n#set precision for float\npd.options.display.float_format = '{:.2f}'.format"
      ]
    },
    {
      "cell_type": "markdown",
      "id": "92756e30-4429-4bb7-910c-725608fd017a",
      "metadata": {},
      "outputs": [],
      "source": [
        "This function will download the dataset into your browser \n"
      ]
    },
    {
      "cell_type": "markdown",
      "id": "96391e9c-c20b-4b31-b100-44191255d9ab",
      "metadata": {},
      "outputs": [],
      "source": [
        "<b>Importing the Data</b>\n"
      ]
    },
    {
      "cell_type": "markdown",
      "id": "fafefd94-60f9-4f1e-ae0d-ef5d6cee183a",
      "metadata": {},
      "outputs": [],
      "source": [
        "you will need to download the dataset; if you are running locally, please comment out the following \n"
      ]
    },
    {
      "cell_type": "code",
      "id": "6194a88b-15ac-42ea-a975-3165cc2a2605",
      "metadata": {},
      "outputs": [],
      "source": [
        "path = 'https://cf-courses-data.s3.us.cloud-object-storage.appdomain.cloud/IBMSkillsNetwork-GPXX053KEN/Lab2DataSet.csv'"
      ]
    },
    {
      "cell_type": "markdown",
      "id": "f128d6b8-b4cb-4edd-b467-0d3b4683b8a9",
      "metadata": {},
      "outputs": [],
      "source": [
        "Load the csv:\n"
      ]
    },
    {
      "cell_type": "code",
      "id": "e97bb22f-4f26-4b4a-a2e4-0caf46a69476",
      "metadata": {},
      "outputs": [],
      "source": [
        "df = pd.read_csv(path,low_memory=False, index_col=0)\ndf.index = df.index.astype(\"datetime64[ns]\")\ndf.head()"
      ]
    },
    {
      "cell_type": "markdown",
      "id": "3022fffa-18b9-4355-9c5f-6a46ceea2897",
      "metadata": {},
      "outputs": [],
      "source": [
        "We use the method  <code>head()</code>  to display the first 5 columns of the dataframe:\n"
      ]
    },
    {
      "cell_type": "code",
      "id": "6aee2e0f-8d06-483c-b4ec-1594fd2c4de4",
      "metadata": {},
      "outputs": [],
      "source": [
        "df.head()"
      ]
    },
    {
      "cell_type": "markdown",
      "id": "c8f8cfcc-7c2e-4c75-83cb-93d518395fab",
      "metadata": {},
      "outputs": [],
      "source": [
        "<div class=\"alert alert-danger alertdanger\" style=\"margin-top: 20px\">\n<h1><b>Question #1)</b></h1>  Display the data types of each column using the attribute `dtype`.\n"
      ]
    },
    {
      "cell_type": "code",
      "id": "b87c6c8b-ac66-4872-8850-9d56328bf88e",
      "metadata": {},
      "outputs": [],
      "source": [
        "df.dtypes"
      ]
    },
    {
      "cell_type": "markdown",
      "id": "16b23514-75fa-4bf9-be50-2d0e0e40ccfb",
      "metadata": {},
      "outputs": [],
      "source": [
        "# Aroon Indicator"
      ]
    },
    {
      "cell_type": "markdown",
      "id": "3e7c6ade-332b-48fd-ba42-3161db34aab6",
      "metadata": {},
      "outputs": [],
      "source": [
        "The Aroon Indicator is a technical analysis tool used to measure the strength and direction of a trend in a financial market. It consists of two separate lines: the Aroon-Up line and the Aroon-Down line.\n\nThe Aroon-Up line measures the number of periods since the most recent high in price, while the Aroon-Down line measures the number of periods since the most recent low in price.\n\nThe Aroon Indicator is calculated as follows:\n\n<code>Aroon-Up = ((Number of periods) - (Number of periods since highest high)) / (Number of periods) x 100</code>\n\n<code>Aroon-Down = ((Number of periods) - (Number of periods since lowest low)) / (Number of periods) x 100</code>\n\nThe two lines are plotted on a chart, typically ranging from 0 to 100. When the Aroon-Up line is above the Aroon-Down line, it indicates a bullish trend, while a bearish trend is indicated when the Aroon-Down line is above the Aroon-Up line.\n\nTraders use the Aroon Indicator to identify potential trend changes and to help determine when to enter or exit a trade. It is often used in conjunction with other technical analysis tools to confirm trading signals."
      ]
    },
    {
      "cell_type": "markdown",
      "id": "d7ec6b22-4a52-499c-a6cf-9ead981a53ec",
      "metadata": {},
      "outputs": [],
      "source": [
        "<div class=\"alert alert-danger alertdanger\" style=\"margin-top: 20px\">\n<h1>Question #2)</h1>  Calculate Aroon Indicator.\n"
      ]
    },
    {
      "cell_type": "code",
      "id": "26bb556a-38e2-42b5-85a2-7eba7a597c7e",
      "metadata": {},
      "outputs": [],
      "source": [
        "# Calculate the number of periods since the highest high and lowest low\nhigh_period = df['Volume'].rolling(window=len(df), min_periods=1).apply(lambda x: len(df) - x.argmax(), raw=True)\nlow_period = df['Volume'].rolling(window=len(df), min_periods=1).apply(lambda x: len(df) - x.argmin(), raw=True)\n\n# Calculate the Aroon-Up and Aroon-Down indicators\naroon_up = (len(df) - high_period) / len(df) * 100\naroon_down = (len(df) - low_period) / len(df) * 100\n\ndf['Aroon-Up'] = aroon_up\ndf['Aroon-Down'] = aroon_down\n\ndf[[\"Volume\",\"Aroon-Up\",\"Aroon-Down\"]].head(20)"
      ]
    },
    {
      "cell_type": "markdown",
      "id": "a4f6ac47-d04b-40f7-a7a8-b343f428f499",
      "metadata": {},
      "outputs": [],
      "source": [
        "# Williams Percent Range\n(WPR) is an indicator used in technical analysis of financial markets to identify overbought or oversold conditions of an asset. The WPR indicator is based on the assumption that the market tends to close near the high during an uptrend and near the low during a downtrend.\n\nThe WPR indicator measures the distance between the current closing price and the highest high over a certain number of periods, and expresses it as a percentage of that range. It is calculated using the formula:\n\n <code>WPR = ((Highest High - Close)/(Highest High - Lowest Low)) x (-100)\n\nThe WPR indicator is plotted on a chart as a line that oscillates between -100 and 0. A reading above -20 is considered overbought, while a reading below -80 is considered oversold. Traders and investors use the WPR indicator to identify potential buy or sell signals, as well as to confirm the strength of a trend."
      ]
    },
    {
      "cell_type": "markdown",
      "id": "c7ede85e-48ba-4457-85be-86310fcf9271",
      "metadata": {},
      "outputs": [],
      "source": [
        "<div class=\"alert alert-danger alertdanger\" style=\"margin-top: 20px\">\n<h1>Question #3)</h1>  Calculate WPR."
      ]
    },
    {
      "cell_type": "code",
      "id": "59a909c8-1d51-420f-85c9-2a0dfb1d599b",
      "metadata": {},
      "outputs": [],
      "source": [
        "# Calculate the highest high and lowest low over a given period\nperiod = 14\ndf['Highest High'] = df['High'].rolling(period).max()\ndf['Lowest Low'] = df['Low'].rolling(period).min()\n\n# Calculate the Williams Percent Range (WPR) using the formula\ndf['WPR'] = ((df['Highest High'] - df['Close']) / (df['Highest High'] - df['Lowest Low'])) * (-100)\ndf['WPR'].tail(20)"
      ]
    },
    {
      "cell_type": "markdown",
      "id": "fb30dbe6-74d9-4e94-87de-6fc479bf01fc",
      "metadata": {},
      "outputs": [],
      "source": [
        "# The Volume Weighted Average Price (VWAP) \nis a trading indicator that is commonly used by traders and investors to determine the average price of a security over a specific time period. It is calculated by taking the average price of all transactions during the trading day, weighted by the volume of each transaction. This means that transactions with higher volumes have a greater impact on the overall VWAP calculation.\n\nThe VWAP is often used by institutional investors and traders to measure the efficiency of their trades, as it provides an indication of whether they were able to buy or sell at a better price than the average market price. Additionally, it can be used to identify potential areas of support or resistance in a security's price, as VWAP can act as a key level where traders may look to enter or exit positions."
      ]
    },
    {
      "cell_type": "markdown",
      "id": "3de8e58f-412b-4fbb-8685-5e79862939ee",
      "metadata": {},
      "outputs": [],
      "source": [
        "<div class=\"alert alert-danger alertdanger\" style=\"margin-top: 20px\">\n<h1>Question #4)</h1>  Calculate VWAP."
      ]
    },
    {
      "cell_type": "code",
      "id": "a118decc-ecde-4921-b858-fc60f6bc1db9",
      "metadata": {},
      "outputs": [],
      "source": [
        "# Calculate the typical price\ntypical_price = (df['High'] + df['Low'] + df['Close']) / 3\n\n# Calculate the VWAP\nvwap = (typical_price * df['Volume']).cumsum() / df['Volume'].cumsum()\n\n# Add the VWAP values to the DataFrame\ndf['VWAP'] = vwap\n\ndf[['VWAP']]"
      ]
    },
    {
      "cell_type": "markdown",
      "id": "9d78a278-9937-43b9-83b0-e0bb39f4149a",
      "metadata": {},
      "outputs": [],
      "source": [
        "<div class=\"alert alert-danger alertdanger\" style=\"margin-top: 20px\">\n<h1>Question #5)</h1> Display correlation between new indicators and Volume.\n"
      ]
    },
    {
      "cell_type": "code",
      "id": "8a9856b0-432f-4d33-a927-236ed34ec5d3",
      "metadata": {},
      "outputs": [],
      "source": [
        "corr = df[[\"Volume\",'WPR',\"Aroon-Up\",\"Aroon-Down\",\"VWAP\"]].corr()\ncorr"
      ]
    },
    {
      "cell_type": "markdown",
      "id": "8331ce06-464e-40a9-8335-e45eb9dec183",
      "metadata": {},
      "outputs": [],
      "source": [
        "<div class=\"alert alert-danger alertdanger\" style=\"margin-top: 20px\">\n<h1>Question #6)</h1> Remove NAN elements from the beginning and end of the dataset\n"
      ]
    },
    {
      "cell_type": "code",
      "id": "a57f3daf-678c-4889-90ec-902f857b985c",
      "metadata": {},
      "outputs": [],
      "source": [
        "# check for NaN values at the beginning of the dataset\nwhile df.iloc[0].isna().any():\n    df = df.drop(df.index[0])\n\nwhile df.iloc[-1].isna().any():\n    df = df.drop(df.index[-1])\n\ndf = df.reset_index(drop=True)\ndf"
      ]
    },
    {
      "cell_type": "markdown",
      "id": "ad9277bf-6162-4519-8059-45b0dd3c90e7",
      "metadata": {},
      "outputs": [],
      "source": [
        "<div class=\"alert alert-danger alertdanger\" style=\"margin-top: 20px\">\n<h1>Question #6):</h1> Show heatmap of correlatoin  between Volume and new indicators\n"
      ]
    },
    {
      "cell_type": "code",
      "id": "33dc515c-c12a-4b47-b8ec-240b4105992b",
      "metadata": {},
      "outputs": [],
      "source": [
        "sns.heatmap(corr)"
      ]
    },
    {
      "cell_type": "markdown",
      "id": "98f71a17-f3d0-466f-b730-97314170b0ec",
      "metadata": {},
      "outputs": [],
      "source": [
        "<div class=\"alert alert-danger alertdanger\" style=\"margin-top: 20px\">\n<h1>Question #8)</h1> Build regplot using \"VWAP\" as X and Volume as Y\n"
      ]
    },
    {
      "cell_type": "code",
      "id": "0db61a0e-2e4e-4cc9-ac7f-1eb9e7586bad",
      "metadata": {},
      "outputs": [],
      "source": [
        "sns.regplot(x=\"VWAP\", y=\"Volume\", data=df)"
      ]
    },
    {
      "cell_type": "markdown",
      "id": "5f033b1d-2b8b-456f-83d3-88a97bce32a5",
      "metadata": {},
      "outputs": [],
      "source": [
        "<div class=\"alert alert-danger alertdanger\" style=\"margin-top: 20px\">\n<h1>Question #9)</h1> Fit a linear regression model to predict the <code>'Volume'</code> using the <code>'Aroon-Down'</code> then calculate $R^{2}$:\n"
      ]
    },
    {
      "cell_type": "code",
      "id": "716d21a9-1096-4a60-a082-b55fef0ed2d6",
      "metadata": {},
      "outputs": [],
      "source": [
        "df.dropna(inplace=True)\n# Create Multiple Linear Regression\nlm = LinearRegression()\n\n# Fit the model\nX = df[[\"Aroon-Down\"]]\nlm.fit(X, df['Volume'])\n\n# Make prediction\nY_hat = lm.predict(X)\n\n\nr_squared = r2_score(df['Volume'],Y_hat)\nprint(f'The R-square value is:{r_squared: .4f}')"
      ]
    },
    {
      "cell_type": "markdown",
      "id": "49856fed-ee86-4604-9439-e836d065a718",
      "metadata": {},
      "outputs": [],
      "source": [
        "<div class=\"alert alert-danger alertdanger\" style=\"margin-top: 20px\">\n<h1>Question #10):</h1>\nUse list of features to predict the 'Volume', split the data into training and testing and determine the  $R^{2}$\n  on the test data."
      ]
    },
    {
      "cell_type": "code",
      "id": "ec2339da-74a6-4b2d-88a1-92376270743b",
      "metadata": {},
      "outputs": [],
      "source": [
        "# Split into train and test subsets\ny_data = df['Volume']\nx_data=df.drop('Volume',axis=1)\nx_train, x_test, y_train, y_test = train_test_split(x_data, y_data, test_size=0.10, shuffle=False)\n\nlre=LinearRegression()\nr = lre.fit(x_train[['WPR','Aroon-Up','Aroon-Down','VWAP']], y_train)\nprint(\"{:.3f}\".format(lre.score(x_test[['WPR','Aroon-Up','Aroon-Down','VWAP']], y_test)) )"
      ]
    },
    {
      "cell_type": "markdown",
      "id": "ab57bd84-b0da-47ff-99b9-bf0e283dfb81",
      "metadata": {},
      "outputs": [],
      "source": [
        "<div class=\"alert alert-danger alertdanger\" style=\"margin-top: 20px\">\n<h1> Question #11)</h1> Create and fit a Ridge regression object using the training data ('WPR','Aroon-Up','Aroon-Down','VWAP'), setting the alpha parameter to 1 and calculating the $R^{2}$ using the test data. Take a screenshot of your code and the $R^{2}$."
      ]
    },
    {
      "cell_type": "code",
      "id": "8e81a9be-2e95-462a-aa39-1b2fe48e08b5",
      "metadata": {},
      "outputs": [],
      "source": [
        "RigeModel=Ridge()\n\nRigeModel.fit(x_train[['WPR','Aroon-Up','Aroon-Down','VWAP']], y_train)\n\nyhat = RigeModel.predict(x_test[['WPR','Aroon-Up','Aroon-Down','VWAP']])\n\nr_squared = r2_score(y_test, yhat)\nprint(f'The R-square value is:{r_squared: .4f}')"
      ]
    },
    {
      "cell_type": "markdown",
      "id": "5d71bd89-1d24-42d2-b1fa-84957ce008af",
      "metadata": {},
      "outputs": [],
      "source": [
        " <div class=\"alert alert-danger alertdanger\" style=\"margin-top: 20px\">\n <h1>Question #12)</h1> Perform a 2nd order polynomial transform on both the training data and testing data ('WPR','Aroon-Up','Aroon-Down','VWAP'). Create and fit a Ridge regression object using the training data(alpha=1). Calculate the  𝑅2\n  utilizing the test data provided. Take a screenshot of your code and the  𝑅2\n ."
      ]
    },
    {
      "cell_type": "code",
      "id": "d7b1f950-6cd7-4761-a8ce-023ebd46a8ca",
      "metadata": {},
      "outputs": [],
      "source": [
        "pr=PolynomialFeatures(degree=2)\n\nx_train_pr=pr.fit_transform(x_train[['WPR','Aroon-Up','Aroon-Down','VWAP']])\nx_test_pr=pr.fit_transform(x_test[['WPR','Aroon-Up','Aroon-Down','VWAP']])\n\nRigeModel=Ridge()\n\nRigeModel.fit(x_train_pr, y_train)\n\nyhat = RigeModel.predict(x_test_pr)\n\nr_squared = r2_score(y_test, yhat)\nprint(f'The R-square value is:{r_squared: .4f}')"
      ]
    },
    {
      "cell_type": "markdown",
      "id": "3610e43f-644e-4776-a1e1-0ac432f6232b",
      "metadata": {},
      "outputs": [],
      "source": [
        "<a href=\"https://dataplatform.cloud.ibm.com/docs/content/wsj/analyze-data/share-notebooks.html/?utm_medium=Exinfluencer&utm_source=Exinfluencer&utm_content=000026UJ&utm_term=10006555&utm_id=NA-SkillsNetwork-Channel-SkillsNetworkCoursesIBMDeveloperSkillsNetworkDA0101ENSkillsNetwork20235326-2021-01-01\"> CLICK HERE</a> to see how to share your notebook\n"
      ]
    },
    {
      "cell_type": "markdown",
      "id": "d6d49fe6-440d-46b5-9cd2-d89a7045cf45",
      "metadata": {},
      "outputs": [],
      "source": [
        "# **Thank you for completing this lab!**\n\n## Author\n\n<a href=\"https://author.skills.network/instructors/ostap_liashenyk\" target=\"_blank\" >Ostap Liashenyk</a>\n\n<a href=\"https://author.skills.network/instructors/yaroslav_vyklyuk_2?utm_medium=Exinfluencer&utm_source=Exinfluencer&utm_content=000026UJ&utm_term=10006555&utm_id=NA-SkillsNetwork-Channel-SkillsNetworkGuidedProjectsIBMSkillsNetworkGPXX0QGDEN2306-2023-01-01\">Prof. Yaroslav Vyklyuk, DrSc, PhD</a>\n\n<a href=\"https://author.skills.network/instructors/mariya_fleychuk?utm_medium=Exinfluencer&utm_source=Exinfluencer&utm_content=000026UJ&utm_term=10006555&utm_id=NA-SkillsNetwork-Channel-SkillsNetworkGuidedProjectsIBMSkillsNetworkGPXX0QGDEN2306-2023-01-01\">Prof. Mariya Fleychuk, DrSc, PhD</a>\n\n## Change Log\n\n| Date (YYYY-MM-DD) | Version | Changed By      | Change Description                                         |\n| ----------------- | ------- | ----------------| ---------------------------------------------------------- |\n|     2023-04-01    |   1.0   | Ostap Liashenyk | Creation of the lab                                        |\n\n<hr>\n\n## <h3 align=\"center\"> © IBM Corporation 2023. All rights reserved. </h3>\n"
      ]
    },
    {
      "cell_type": "code",
      "id": "920a1203-4204-4ec3-bb84-94644a69e0b1",
      "metadata": {},
      "outputs": [],
      "source": [
        ""
      ]
    }
  ],
  "metadata": {
    "language_info": {
      "name": ""
    },
    "kernelspec": {
      "name": "",
      "display_name": ""
    }
  },
  "nbformat": 4,
  "nbformat_minor": 4
}
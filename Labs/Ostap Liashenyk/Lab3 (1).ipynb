{
  "cells": [
    {
      "cell_type": "markdown",
      "id": "8938bee0-a273-49a2-a158-c7a7425c2613",
      "metadata": {},
      "outputs": [],
      "source": [
        "<center>\n    <img src=\"https://cf-courses-data.s3.us.cloud-object-storage.appdomain.cloud/assets/logos/SN_web_lightmode.png\" width=\"300\" alt=\"cognitiveclass.ai logo\"  />\n</center>\n\n# Investigation of cryptocurrency exchange rate dynamic (Matic/USD), сalculation and analysis of technical financial indicators, characterizing the cryptocurrency market (ATR, OBV, RSI, AD)\n\n## Lab 3. Exploratoy Data Analysis\n\nEstimated time needed: **30** minutes\n\n## Objectives\n\nAfter completing this lab you will be able to:\n\n*   Explore features or charecteristics to predict volume of Matic\n"
      ]
    },
    {
      "cell_type": "markdown",
      "id": "f840ee41-30f3-4fa4-af98-fd53ec0c01c1",
      "metadata": {},
      "outputs": [],
      "source": [
        "<h2>Table of Contents</h2>\n\n<div class=\"alert alert-block alert-info\" style=\"margin-top: 20px\">\n<ol>\n    <li><a href=\"https://#import_data\">Import Data from Module</a></li>\n    <li><a href=\"https://#pattern_visualization\">Analyzing Individual Feature Patterns using Visualization</a></li>\n    <li><a href=\"https://#discriptive_statistics\">Descriptive Statistical Analysis</a></li>\n    <li><a href=\"https://#basic_grouping\">Basics of Grouping</a></li>\n    <li><a href=\"https://#correlation_causation\">Correlation and Causation</a></li>\n    <li><a href=\"https://#anova\">ANOVA</a></li>\n</ol>\n\n</div>\n\n<hr>\n"
      ]
    },
    {
      "cell_type": "markdown",
      "id": "72fb1f24-e4ac-4f72-9edb-9e9565894179",
      "metadata": {},
      "outputs": [],
      "source": [
        "<h3>What are the main characteristics that have the most impact on the Matic volume?</h3>\n"
      ]
    },
    {
      "cell_type": "markdown",
      "id": "36c3429f-07a0-43cd-a963-daa465b6170d",
      "metadata": {},
      "outputs": [],
      "source": [
        "<h2 id=\"import_data\">1. Import Data from Module 2</h2>\n"
      ]
    },
    {
      "cell_type": "markdown",
      "id": "f9a46743-91d8-487a-bee8-e93675d688ab",
      "metadata": {},
      "outputs": [],
      "source": [
        "<h4>Setup</h4>\n"
      ]
    },
    {
      "cell_type": "markdown",
      "id": "b2aa0c95-dba0-4207-bf4a-2b843621b590",
      "metadata": {},
      "outputs": [],
      "source": [
        "you are running the lab in your  browser, so we will install the libraries using `piplite`\n"
      ]
    },
    {
      "cell_type": "code",
      "id": "d759cc61-4f2f-4f8b-9d54-9c5c69cdbc3b",
      "metadata": {},
      "outputs": [],
      "source": [
        "! pip install scikit-learn \n! pip install mplfinance"
      ]
    },
    {
      "cell_type": "code",
      "id": "1175701f-f3b3-4498-9c05-5a40032505f4",
      "metadata": {},
      "outputs": [],
      "source": [
        "import pandas as pd\nimport matplotlib.pylab as plt\nimport seaborn as sns\nimport numpy as np\nimport pandas as pd \nimport numpy as np \nimport mplfinance as fplt\nfrom scipy import stats\nfrom statsmodels.tsa.stattools import grangercausalitytests\nimport statsmodels.api as sm\nfrom statsmodels.stats.stattools import durbin_watson as dwtest\nimport warnings\n\nwarnings.filterwarnings('ignore')\n%matplotlib inline \n#set precision \npd.set_option(\"display.precision\", 2)\n#set precision for float\npd.options.display.float_format = '{:.2f}'.format"
      ]
    },
    {
      "cell_type": "markdown",
      "id": "e6f72b98-60ae-409b-a963-12a19df037bb",
      "metadata": {},
      "outputs": [],
      "source": [
        "Import libraries:\n"
      ]
    },
    {
      "cell_type": "markdown",
      "id": "d182522f-585e-4a53-a9d3-436cfdffa046",
      "metadata": {},
      "outputs": [],
      "source": [
        "If you run the lab locally using Anaconda, you can load the correct library and versions by uncommenting the following:\n"
      ]
    },
    {
      "cell_type": "code",
      "id": "d096e07c-8085-4754-88cc-28a830bee003",
      "metadata": {},
      "outputs": [],
      "source": [
        "#If you run the lab locally using Anaconda, you can load the correct library and versions by uncommenting the following:\n#install specific version of libraries used in lab\n#! mamba install pandas==1.3.3\n#! mamba install numpy=1.21.2\n#! mamba install scipy=1.7.1-y\n#!  mamba install seaborn=0.9.0-y"
      ]
    },
    {
      "cell_type": "markdown",
      "id": "a9054a9b-7a76-4142-b7f9-bca6e98e3c53",
      "metadata": {},
      "outputs": [],
      "source": [
        "This function will download the dataset into your browser\n"
      ]
    },
    {
      "cell_type": "code",
      "id": "49d60eb9-b607-44eb-a986-bf697bafe1ee",
      "metadata": {},
      "outputs": [],
      "source": [
        "##Now you need to use dataset, you made in he first lab \nfilename = \"https://cf-courses-data.s3.us.cloud-object-storage.appdomain.cloud/IBMSkillsNetwork-GPXX0YYYEN/Lab2DataSet.csv\"\ndf = pd.read_csv(filename,low_memory=False, index_col=0)\ndf"
      ]
    },
    {
      "cell_type": "markdown",
      "id": "f9285e8d-2f1d-4b72-93a9-0030af01f9a8",
      "metadata": {},
      "outputs": [],
      "source": [
        "Load the data and store it in dataframe `df`:\n"
      ]
    },
    {
      "cell_type": "markdown",
      "id": "c6fc87d9-bab3-4c42-a622-d3a44eb9a1bf",
      "metadata": {},
      "outputs": [],
      "source": [
        "This dataset was hosted on IBM Cloud object. Click <a href=\"https://cocl.us/DA101EN_object_storage?utm_medium=Exinfluencer&utm_source=Exinfluencer&utm_content=000026UJ&utm_term=10006555&utm_id=NA-SkillsNetwork-Channel-SkillsNetworkCoursesIBMDeveloperSkillsNetworkDA0101ENSkillsNetwork20235326-2021-01-01\">HERE</a> for free storage.\n"
      ]
    },
    {
      "cell_type": "markdown",
      "id": "d71621d7-1fbf-4f57-9d5e-04abdf6c3f6c",
      "metadata": {},
      "outputs": [],
      "source": [
        "<h2 id=\"pattern_visualization\">2. Analyzing Individual Feature Patterns Using Visualization</h2>\n"
      ]
    },
    {
      "cell_type": "markdown",
      "id": "85d34761-b899-460c-82a7-d0452cd99668",
      "metadata": {},
      "outputs": [],
      "source": [
        "To install Seaborn we use pip, the Python package manager.\n"
      ]
    },
    {
      "cell_type": "markdown",
      "id": "9aa5b1be-baa0-49dd-8482-228ce3321d27",
      "metadata": {},
      "outputs": [],
      "source": [
        "<h4>How to choose the right visualization method?</h4>\n<p>When visualizing individual variables, it is important to first understand what type of variable you are dealing with. This will help us find the right visualization method for that variable.</p>\n"
      ]
    },
    {
      "cell_type": "code",
      "id": "862f32d0-7b73-4150-8880-2a99c02206be",
      "metadata": {},
      "outputs": [],
      "source": [
        "#set correct types\ndf.index = df.index.astype(\"datetime64[ns]\")\ndf.head()"
      ]
    },
    {
      "cell_type": "code",
      "id": "6e0b310d-507c-4dde-bf5c-d0100f0b40b7",
      "metadata": {},
      "outputs": [],
      "source": [
        "# list the data types for each column\nprint(df.dtypes)"
      ]
    },
    {
      "cell_type": "markdown",
      "id": "006c26a3-44a1-4c6e-a47c-c621445f7e26",
      "metadata": {},
      "outputs": [],
      "source": [
        "Before we start, let's look at the graph of Matic fluctuations. "
      ]
    },
    {
      "cell_type": "markdown",
      "id": "7e1ac35a-95bf-4a88-8421-3e160ae7ed9d",
      "metadata": {},
      "outputs": [],
      "source": [
        "Make a new dataframe for our graph:"
      ]
    },
    {
      "cell_type": "code",
      "id": "f84de4c1-127b-4640-84c6-10d958c3290f",
      "metadata": {},
      "outputs": [],
      "source": [
        "# make a dataframe\nbox = pd.DataFrame()\n# set columns\nbox['Open'] = df['Open']\nbox['High'] = df['High']\nbox['Low'] = df['Low']\nbox['Close'] = df['Close']\nbox.index = df.index\n# drop all NaN\nbox = box.dropna()\n# set column 'time' as index\nbox.head()\n"
      ]
    },
    {
      "cell_type": "markdown",
      "id": "7cda996e-efc2-42cf-bfa0-137dfa2ac25b",
      "metadata": {},
      "outputs": [],
      "source": [
        "Use function <code>fplt.plot</code> for our graphic:"
      ]
    },
    {
      "cell_type": "code",
      "id": "3056e8ae-bf37-405e-9be2-98ced03fd2a3",
      "metadata": {},
      "outputs": [],
      "source": [
        "fplt.plot(box.head(50),\n          type='candle',\n          style='charles',\n          title='MATIC',\n          ylabel='Price ($)')\n"
      ]
    },
    {
      "cell_type": "markdown",
      "id": "1a6c3d80-4b19-4915-9aa0-a4222974ee47",
      "metadata": {},
      "outputs": [],
      "source": [
        "<div class=\"alert alert-danger alertdanger\" style=\"margin-top: 20px\">\n<h3>Question  #1:</h3>\n\n<b>What is the data type of the column \"Volume\"? </b>\n\n</div>\n"
      ]
    },
    {
      "cell_type": "code",
      "id": "26a598d0-f5ea-43e6-9f33-11ec085465a8",
      "metadata": {},
      "outputs": [],
      "source": [
        "# Write your code below and press Shift+Enter to execute \ndf['Volume'].dtypes"
      ]
    },
    {
      "cell_type": "markdown",
      "id": "7d0e7907-0d35-42fc-b43b-1fdd2dd1497e",
      "metadata": {},
      "outputs": [],
      "source": [
        "<details><summary>Click here for the solution</summary>\n\n```python\ndf['Volume'].dtypes\n```\n\n</details>\n"
      ]
    },
    {
      "cell_type": "markdown",
      "id": "87e8ca76-b2d9-4181-a4d1-7aadad97b130",
      "metadata": {},
      "outputs": [],
      "source": [
        "For example, we can calculate the correlation between all variables with different types using the method \"corr\":\n"
      ]
    },
    {
      "cell_type": "code",
      "id": "4bd9e499-7703-4b0c-a23f-af039b7f8711",
      "metadata": {},
      "outputs": [],
      "source": [
        "corr = df.corr()\ncorr"
      ]
    },
    {
      "cell_type": "markdown",
      "id": "7cf35557-d30b-4c00-ad3f-873659ba19a8",
      "metadata": {},
      "outputs": [],
      "source": [
        "Here is correlation between Matic Volume,Rec_cout, also between BTC and BNB prices:\n"
      ]
    },
    {
      "cell_type": "code",
      "id": "757e7548-7b31-4a7b-a082-53776d4c1185",
      "metadata": {},
      "outputs": [],
      "source": [
        "corr = df[[\"Volume\",\"Rec_count\",\"BTC_price\",\"BNB_price\"]].corr()\nsns.heatmap(corr)"
      ]
    },
    {
      "cell_type": "markdown",
      "id": "1481ca28-8f68-4bdf-9a98-d084a1bbdf4e",
      "metadata": {},
      "outputs": [],
      "source": [
        "The diagonal elements are always one; we will study correlation more precisely Pearson correlation in-depth at the end of the notebook.\n"
      ]
    },
    {
      "cell_type": "markdown",
      "id": "fc060332-3472-4426-b7cb-96f625b91550",
      "metadata": {},
      "outputs": [],
      "source": [
        "<div class=\"alert alert-danger alertdanger\" style=\"margin-top: 20px\">\n<h3> Question  #2: </h3>\n\n<p>Find the correlation between the following columns: Volume, Close ; and built a heatmap for them.</p>\n<p>Hint: if you would like to select those columns, use the following syntax:corr = df[[\"Open\",\"Close\"]]</p>\n</div>\n"
      ]
    },
    {
      "cell_type": "code",
      "id": "a4c99f8b-6fca-40cb-9d91-890e5e9a1523",
      "metadata": {},
      "outputs": [],
      "source": [
        "corr = df[[\"Volume\",\"Close\"]].corr()\nsns.heatmap(corr)"
      ]
    },
    {
      "cell_type": "markdown",
      "id": "f2feead6-3682-47fc-ae3a-595944a67559",
      "metadata": {},
      "outputs": [],
      "source": [
        "<details><summary>Click here for the solution</summary>\n\n```python\ncorr = df[[\"Volume\",\"Close\"]].corr()\nsns.heatmap(corr)\n```\n\n</details>\n"
      ]
    },
    {
      "cell_type": "markdown",
      "id": "377fdd28-d566-4601-8923-b066bd39384c",
      "metadata": {},
      "outputs": [],
      "source": [
        "<h2>Continuous Numerical Variables:</h2> \n\n<p>Continuous numerical variables are variables that may contain any value within some range. They can be of type \"int64\" or \"float64\". A great way to visualize these variables is by using scatterplots with fitted lines.</p>\n\n<p>In order to start understanding the (linear) relationship between a Volume and a Rec_count for Matic, we can use \"regplot\" which plots the scatterplot plus the fitted regression line for the data.</p>\n"
      ]
    },
    {
      "cell_type": "markdown",
      "id": "9bddbada-0f70-41f4-99fd-d7e342b1f5e3",
      "metadata": {},
      "outputs": [],
      "source": [
        "Let's see several examples of different linear relationships:\n"
      ]
    },
    {
      "cell_type": "markdown",
      "id": "2f332df7-ec05-4717-85fe-1213c694ff7e",
      "metadata": {},
      "outputs": [],
      "source": [
        "<h3>Positive Linear Relationship</h4>\n"
      ]
    },
    {
      "cell_type": "markdown",
      "id": "6a903dc6-22a9-40a8-8b8e-66add3118433",
      "metadata": {},
      "outputs": [],
      "source": [
        "Let's find the scatterplot of \"Rec_count\" and \"Volume\".\n"
      ]
    },
    {
      "cell_type": "code",
      "id": "0a9cafb2-4c95-4d4f-ae5f-c29cbef22914",
      "metadata": {},
      "outputs": [],
      "source": [
        "# volume price as potential predictor variable of volume\nsns.regplot(x=\"Rec_count\", y=\"Volume\", data=df,scatter_kws={'s':2})\nplt.ylim(200,)"
      ]
    },
    {
      "cell_type": "markdown",
      "id": "d5d88277-76cf-4036-b92b-6d6cbc0cd474",
      "metadata": {},
      "outputs": [],
      "source": [
        "<p>As the Rec_count goes up, the Volume goes up: this indicates a positive direct correlation between these two variables. Rec_cont seems like a good predictor of Volume since the regression line is almost a perfect diagonal line.</p>\n"
      ]
    },
    {
      "cell_type": "markdown",
      "id": "dae41f4b-e772-4f7b-9957-e509c22026c2",
      "metadata": {},
      "outputs": [],
      "source": [
        "We can examine the correlation between 'Volume' and 'Rec_count' and see that it's approximately 0.68.\n"
      ]
    },
    {
      "cell_type": "code",
      "id": "8c1b9df3-a9ae-43cd-9200-ce32472d5216",
      "metadata": {},
      "outputs": [],
      "source": [
        "df[[\"Rec_count\", \"Volume\"]].corr()"
      ]
    },
    {
      "cell_type": "markdown",
      "id": "ad8b2bd7-8f30-4780-ba38-2f30bb57e95b",
      "metadata": {},
      "outputs": [],
      "source": [
        "<h3>Weak Linear Relationship</h3>\n"
      ]
    },
    {
      "cell_type": "markdown",
      "id": "dc635ef6-b4c8-470d-b95e-852d759c303a",
      "metadata": {},
      "outputs": [],
      "source": [
        "We have some financial indicators like \"OBV\", \"RSI\", \"AD\" and \"ATR\" in our dataset, lets check the correlation between Volume and indicators:"
      ]
    },
    {
      "cell_type": "code",
      "id": "4552418d-0716-4250-ba7b-e8e88dbc5c37",
      "metadata": {},
      "outputs": [],
      "source": [
        "df[[\"Volume\", \"OBV\",\"RSI\",\"AD\",\"ATR\"]].corr()"
      ]
    },
    {
      "cell_type": "markdown",
      "id": "baef46e9-c501-4525-b8cf-e4fc2ed510c6",
      "metadata": {},
      "outputs": [],
      "source": [
        "Also make a heatmap:"
      ]
    },
    {
      "cell_type": "code",
      "id": "118500dc-65fd-49a6-a863-fd2d93871872",
      "metadata": {},
      "outputs": [],
      "source": [
        "sns.heatmap(df[[\"Volume\", \"OBV\",\"RSI\",\"AD\",\"ATR\"]].corr())"
      ]
    },
    {
      "cell_type": "markdown",
      "id": "52b25f60-b244-4b80-88ab-4f7014aaef41",
      "metadata": {},
      "outputs": [],
      "source": [
        "As we can see in the table and on the map, the strongest correlation between the volume and the indicators is ATR with a value of 0.55, which is not an indicator of a strong dependency."
      ]
    },
    {
      "cell_type": "markdown",
      "id": "ece53a40-fefb-4ce7-87de-fd883fdfeab8",
      "metadata": {},
      "outputs": [],
      "source": [
        "Let's see if \"BNB_price\" is a predictor variable of \"Volume\".\n"
      ]
    },
    {
      "cell_type": "code",
      "id": "f66f9ec5-96e4-4a41-9f75-c7336c5cb8c8",
      "metadata": {},
      "outputs": [],
      "source": [
        "sns.regplot(x=\"BTC_price\", y=\"Volume\", data=df,scatter_kws={'s':2})"
      ]
    },
    {
      "cell_type": "markdown",
      "id": "4769212e-29db-46b0-bcbc-c4088aaedd82",
      "metadata": {},
      "outputs": [],
      "source": [
        "<p>BTC_price does not seem like a good predictor of the Volume at all since the regression line is close to horizontal. Also, the data points are very scattered and far from the fitted line, showing lots of variability. Therefore, it's not a reliable variable.</p>\n"
      ]
    },
    {
      "cell_type": "markdown",
      "id": "10737248-abc3-4f5b-a3bb-73e7e3a6d271",
      "metadata": {},
      "outputs": [],
      "source": [
        "We can examine the correlation between 'BTC_price' and 'Volume' and see it's approximately -0.20.\n"
      ]
    },
    {
      "cell_type": "code",
      "id": "2f926ae8-3bff-4e2a-a1f7-ee1006620c9d",
      "metadata": {},
      "outputs": [],
      "source": [
        "df[['BTC_price','Volume']].corr()"
      ]
    },
    {
      "cell_type": "markdown",
      "id": "79322ac9-c998-4aad-a95a-4fd714fff59b",
      "metadata": {},
      "outputs": [],
      "source": [
        " <div class=\"alert alert-danger alertdanger\" style=\"margin-top: 20px\">\n<h1> Question  3 a): </h1>\n\n<p>Find the correlation  between \"Volume\" and \"ATR\".</p>\n<p>Hint: if you would like to select those columns, use the following syntax:df[[\"ATR\",\"Volume\"]].corr()  </p>\n</div>\n"
      ]
    },
    {
      "cell_type": "code",
      "id": "2903c53b-3376-4aa4-93f4-7eb826b9cb89",
      "metadata": {},
      "outputs": [],
      "source": [
        "# Write your code below and press Shift+Enter to execute\ndf[[\"ATR\",\"Volume\"]].corr()"
      ]
    },
    {
      "cell_type": "markdown",
      "id": "44bf0ca1-0828-415b-98cb-ee112ee8c296",
      "metadata": {},
      "outputs": [],
      "source": [
        "<details><summary>Click here for the solution</summary>\n\n```python\n\n#The correlation is 0.491169.\n\ndf[[\"Volume\",\"ATR\"]].corr()\n\n```\n\n</details>\n"
      ]
    },
    {
      "cell_type": "markdown",
      "id": "949ba7fb-15af-4495-8b2e-518a56fcf11a",
      "metadata": {},
      "outputs": [],
      "source": [
        "<div class=\"alert alert-danger alertdanger\" style=\"margin-top: 20px\">\n<h1>Question  3 b):</h1>\n\n<p>Given the correlation results between \"\nATR\" and \"Volume\", do you expect a linear relationship?</p> \n<p>Verify your results using the function \"regplot()\".</p>\n</div>\n"
      ]
    },
    {
      "cell_type": "code",
      "id": "bbfe7de9-5913-4e68-86c0-c7f7527afb69",
      "metadata": {},
      "outputs": [],
      "source": [
        "# Write your code below and press Shift+Enter to execute \nsns.regplot(x=\"ATR\", y=\"Volume\", data=df,scatter_kws={'s':2})"
      ]
    },
    {
      "cell_type": "markdown",
      "id": "8f153f4f-635a-4dfc-b429-7ffcae032131",
      "metadata": {},
      "outputs": [],
      "source": [
        "<details><summary>Click here for the solution</summary>\n\n```python\n\nsns.regplot(x=\"ATR\", y=\"Volume\", data=df,scatter_kws={'s':2})\n\n```\n\n</details>\n"
      ]
    },
    {
      "cell_type": "markdown",
      "id": "100d9064-e921-46c3-acad-e687eaa687c8",
      "metadata": {},
      "outputs": [],
      "source": [
        "<h3>Make Categorical Variables for next point</h3>\n<p>Let`s make categorical values as in the past lab.</p>"
      ]
    },
    {
      "cell_type": "markdown",
      "id": "b0a4906e-70ba-4147-b42b-d9a12746f274",
      "metadata": {},
      "outputs": [],
      "source": [
        "<p>We would like 5 bins of equal size bandwidth so we use numpy's <code>linspace(start_value, end_value, numbers_generated</code> function.</p>\n<p>Since we want to include the minimum value of open, we want to set start_value = min(df[\"open\"]).</p>\n<p>Since we want to include the maximum value of open, we want to set end_value = max(df[\"open\"]).</p>\n<p>Since we are building 5 bins of equal length, there should be 6 dividers, so numbers_generated = 6.</p>\n"
      ]
    },
    {
      "cell_type": "markdown",
      "id": "a334943e-8562-4ba9-9a97-4876384063ba",
      "metadata": {},
      "outputs": [],
      "source": [
        "We build a bin array with a minimum value to a maximum value by using the bandwidth calculated above. The values will determine when one bin ends and another begins.\n"
      ]
    },
    {
      "cell_type": "markdown",
      "id": "f0cc5cb2-fa20-417b-97d2-4e48503cdd49",
      "metadata": {},
      "outputs": [],
      "source": [
        "We set group  names:\n"
      ]
    },
    {
      "cell_type": "code",
      "id": "ea0efac2-74f5-40ed-a144-a7f9955ca459",
      "metadata": {},
      "outputs": [],
      "source": [
        "group_names = ['Low','Lower Medium' ,'Medium', 'Upper Medium' ,'High']"
      ]
    },
    {
      "cell_type": "markdown",
      "id": "30ca45a6-babe-4008-af00-bc0571e55d40",
      "metadata": {},
      "outputs": [],
      "source": [
        "We have to make some fields categorical, lets make a function which make it"
      ]
    },
    {
      "cell_type": "code",
      "id": "a0dca00a-ce7c-4562-9b55-9b7b0d0dffd8",
      "metadata": {},
      "outputs": [],
      "source": [
        "def to_categorical(column: pd.Series, labels: list) -> pd.Series:\n    cat_number = len(labels)\n    bins = np.linspace(min(column), max(column), cat_number+1)\n    #We apply the function \"cut\" to determine what each value of column belongs to.\n    res = pd.cut(column, bins, labels=labels, include_lowest=True)\n    return res"
      ]
    },
    {
      "cell_type": "markdown",
      "id": "c43f8e86-9f79-46a2-b780-2c0baea375e8",
      "metadata": {},
      "outputs": [],
      "source": [
        "Now lets use our function with: Avg_price, BTC_price, BNB_price:"
      ]
    },
    {
      "cell_type": "code",
      "id": "aaaec34c-d5b1-4d0d-ba4c-a2286716ba44",
      "metadata": {},
      "outputs": [],
      "source": [
        "df['Avg_price-binned'] = to_categorical(df[\"Avg_price\"],group_names)\ndf[[\"Avg_price\", \"Avg_price-binned\"]].head()"
      ]
    },
    {
      "cell_type": "code",
      "id": "affca052-85b6-4698-be52-a0db48ca9634",
      "metadata": {},
      "outputs": [],
      "source": [
        "df['BTC_price-binned'] = to_categorical(df[\"BTC_price\"],group_names)\ndf[[\"BTC_price\", \"BTC_price-binned\"]].head()"
      ]
    },
    {
      "cell_type": "code",
      "id": "0cb2a023-6de8-47dd-8e80-ea2a7a6311ee",
      "metadata": {},
      "outputs": [],
      "source": [
        "df['BNB_price-binned'] = to_categorical(df[\"BNB_price\"],group_names)\ndf[[\"BNB_price\", \"BNB_price-binned\"]].head()"
      ]
    },
    {
      "cell_type": "code",
      "id": "3c3fb1f8-c8eb-4a43-a128-fd057e74fafb",
      "metadata": {},
      "outputs": [],
      "source": [
        "df['Rec_count-binned'] = to_categorical(df[\"Rec_count\"],group_names)\ndf[[\"Rec_count\", \"Rec_count-binned\"]].head()"
      ]
    },
    {
      "cell_type": "markdown",
      "id": "799ad6a8-cd9c-4b65-afbc-0559e7d90a96",
      "metadata": {},
      "outputs": [],
      "source": [
        "<p>These are variables that describe a 'characteristic' of a data unit, and are selected from a small group of categories. The categorical variables can have the type \"object\" or \"int64\". A good way to visualize categorical variables is by using boxplots.</p>\n"
      ]
    },
    {
      "cell_type": "markdown",
      "id": "b04f91a7-fd87-4870-ac57-77eefe1ce1dd",
      "metadata": {},
      "outputs": [],
      "source": [
        "Let's look at the relationship between \"Avg_price-binned\" and \"Volume\".\n"
      ]
    },
    {
      "cell_type": "code",
      "id": "5ca677b2-0870-4008-a259-eb1a3d8a134b",
      "metadata": {},
      "outputs": [],
      "source": [
        "sns.boxplot(x=\"Avg_price-binned\", y=\"Volume\", data=df)"
      ]
    },
    {
      "cell_type": "markdown",
      "id": "529a4c40-5376-47c4-b998-cf79e61054e1",
      "metadata": {},
      "outputs": [],
      "source": [
        "<p>Here we see that the distribution of price between these five categories are distinct enough to take in which catagery price will be as a potential good predictor of price. Let's examine engine \"BTC_price-binned\" and \"Volume\":</p>\n"
      ]
    },
    {
      "cell_type": "code",
      "id": "c89e5e44-e130-49af-9aff-e351db81d679",
      "metadata": {},
      "outputs": [],
      "source": [
        "sns.boxplot(x=\"BTC_price-binned\", y=\"Volume\", data=df)\n"
      ]
    },
    {
      "cell_type": "markdown",
      "id": "a85f6717-3570-46cc-81f7-f44a8e669a96",
      "metadata": {},
      "outputs": [],
      "source": [
        "<p>We can see the same.</p>\n"
      ]
    },
    {
      "cell_type": "markdown",
      "id": "cf46088a-87bd-4dc3-81eb-e2bfe313ba40",
      "metadata": {},
      "outputs": [],
      "source": [
        "Let's examine \"BNB_price-binned\" and \"Volume\".\n"
      ]
    },
    {
      "cell_type": "code",
      "id": "a497271f-a6e5-45d1-a9ce-1d53bbbb9d71",
      "metadata": {},
      "outputs": [],
      "source": [
        "# drive-wheels\nsns.boxplot(x=\"BNB_price-binned\", y=\"Volume\", data=df)"
      ]
    },
    {
      "cell_type": "markdown",
      "id": "c7a15bb5-6521-4cf3-bca0-b42b08458305",
      "metadata": {},
      "outputs": [],
      "source": [
        "<p><p>We see that the distributions of price between the different categories have a significant overlap, so BNB_price-binned would not be a good predictor of Volume. </p>\n</p>\n"
      ]
    },
    {
      "cell_type": "markdown",
      "id": "941e5635-26d5-4203-8db9-b422f861f1ec",
      "metadata": {},
      "outputs": [],
      "source": [
        "<p>Let's examine \"Rec_count\" and \"Volume\".\n</p>\n"
      ]
    },
    {
      "cell_type": "code",
      "id": "c02bbd35-d2aa-4f69-a71d-07806a71c3d3",
      "metadata": {},
      "outputs": [],
      "source": [
        "# drive-wheels\nsns.boxplot(x=\"Rec_count-binned\", y=\"Volume\", data=df)"
      ]
    },
    {
      "cell_type": "markdown",
      "id": "8769b4ad-5952-44e2-b9d3-0b5eedbdc15d",
      "metadata": {},
      "outputs": [],
      "source": [
        "<h2 id=\"discriptive_statistics\">3. Descriptive Statistical Analysis</h2>\n"
      ]
    },
    {
      "cell_type": "markdown",
      "id": "206a95bd-d911-41e9-8dea-16654884467b",
      "metadata": {},
      "outputs": [],
      "source": [
        "<p>Let's first take a look at the variables by utilizing a description method.</p>\n\n<p>The <b>describe</b> function automatically computes basic statistics for all continuous variables. Any NaN values are automatically skipped in these statistics.</p>\n\nThis will show:\n\n<ul>\n    <li>the count of that variable</li>\n    <li>the mean</li>\n    <li>the standard deviation (std)</li> \n    <li>the minimum value</li>\n    <li>the IQR (Interquartile Range: 25%, 50% and 75%)</li>\n    <li>the maximum value</li>\n<ul>\n"
      ]
    },
    {
      "cell_type": "markdown",
      "id": "99236e84-0eab-48e1-9ff6-502f5f3ebb48",
      "metadata": {},
      "outputs": [],
      "source": [
        "We can apply the method \"describe\" as follows:\n"
      ]
    },
    {
      "cell_type": "code",
      "id": "ba0271ca-7d2e-4d75-8247-36ecabc60e99",
      "metadata": {},
      "outputs": [],
      "source": [
        "df.describe()"
      ]
    },
    {
      "cell_type": "markdown",
      "id": "00b65e93-0d7c-4fbf-8607-a13fd5540f58",
      "metadata": {},
      "outputs": [],
      "source": [
        "The default setting of \"describe\" skips variables of type category. We can apply the method \"describe\" on the variables of type 'category' as follows:\n"
      ]
    },
    {
      "cell_type": "code",
      "id": "d84e6104-d2b8-4aad-9b71-b61b0f0e6ea0",
      "metadata": {},
      "outputs": [],
      "source": [
        "df.describe(include='category')"
      ]
    },
    {
      "cell_type": "markdown",
      "id": "5d14ba82-1765-43fd-8d93-2a80464d9609",
      "metadata": {},
      "outputs": [],
      "source": [
        "<h3>Value Counts</h3>\n"
      ]
    },
    {
      "cell_type": "markdown",
      "id": "4f47b13d-9b9a-458d-9fcb-9bd4beecad64",
      "metadata": {},
      "outputs": [],
      "source": [
        "<p>Value counts is a good way of understanding how many units of each characteristic/variable we have. We can apply the \"value_counts\" method on the column \"Volume\". Don’t forget the method \"value_counts\" only works on pandas series, not pandas dataframes. As a result, we only include one bracket <code>df['Volume']</code>, not two brackets <code>df[['Volume']]</code>.</p>\n"
      ]
    },
    {
      "cell_type": "code",
      "id": "62462839-2ef0-4af0-bdae-c0a1aeb0351b",
      "metadata": {},
      "outputs": [],
      "source": [
        "df['Volume'].value_counts()"
      ]
    },
    {
      "cell_type": "markdown",
      "id": "cb9a9b0c-152c-4534-ae8e-31f6cdcc5260",
      "metadata": {},
      "outputs": [],
      "source": [
        "We can convert the series to a dataframe as follows:\n"
      ]
    },
    {
      "cell_type": "code",
      "id": "e2d824ea-183b-423d-9744-a1ea8e0cad88",
      "metadata": {},
      "outputs": [],
      "source": [
        "df['Volume'].value_counts().to_frame()"
      ]
    },
    {
      "cell_type": "markdown",
      "id": "4ff8cbbb-d56e-43f6-97a9-62ac3fe5ba82",
      "metadata": {},
      "outputs": [],
      "source": [
        "Let's repeat the above steps but save the results to the dataframe \"Avg_price_binned_counts\" and rename the column  'Avg_price-binned' to 'value_counts'.\n"
      ]
    },
    {
      "cell_type": "code",
      "id": "01cf7ceb-bdb9-4f50-9c51-42aed94a51be",
      "metadata": {},
      "outputs": [],
      "source": [
        "Volume_counts = df['Volume'].value_counts().to_frame()\nVolume_counts.rename(columns={'Volume': 'volume_counts'}, inplace=True)\nVolume_counts"
      ]
    },
    {
      "cell_type": "markdown",
      "id": "371b0d85-2d5e-4fee-86ea-e19eeffa9a42",
      "metadata": {},
      "outputs": [],
      "source": [
        "Now let's rename the index to 'Avg_price-binned':\n"
      ]
    },
    {
      "cell_type": "code",
      "id": "91d5fc06-f06d-4fcb-877c-94ae78780b80",
      "metadata": {},
      "outputs": [],
      "source": [
        "Volume_counts.index.name = 'Volume_counts'\nVolume_counts"
      ]
    },
    {
      "cell_type": "markdown",
      "id": "68f7c184-0939-42db-b8d1-0235638a2920",
      "metadata": {},
      "outputs": [],
      "source": [
        "<p>After examining the value counts of the Avg_price-binned, we see that this category would be a good predictor variable for the price. This is because we only have mostly our prices in 'Medium'.</p>\n"
      ]
    },
    {
      "cell_type": "markdown",
      "id": "1d5c4922-6e24-4684-b836-0b0939d583ee",
      "metadata": {},
      "outputs": [],
      "source": [
        "<h2 id=\"basic_grouping\">4. Basics of Grouping</h2>\n"
      ]
    },
    {
      "cell_type": "markdown",
      "id": "1223692e-4bc9-4d7c-aca3-7a0447db0f28",
      "metadata": {},
      "outputs": [],
      "source": [
        "<p>The \"groupby\" method groups data by different categories. The data is grouped based on one or several variables, and analysis is performed on the individual groups.</p>\n\n<p>For example, let's group by the variable \"Avg_price-binned\". We see that there are 5 different categories of Avg_price-binned.</p>\n"
      ]
    },
    {
      "cell_type": "code",
      "id": "8214a6b4-2c3e-4923-9591-b1d28f989fae",
      "metadata": {},
      "outputs": [],
      "source": [
        "df['Volume'].unique()"
      ]
    },
    {
      "cell_type": "markdown",
      "id": "61923ef1-96bc-45b8-b9e0-3d870369b5d0",
      "metadata": {},
      "outputs": [],
      "source": [
        "<p>If we want to know, on average, which type of Avg_price-binned is most valuable, we can group \"Avg_price-binned\" and then average them.</p>\n\n<p>We can select the columns 'Avg_price-binned' and 'Avg_price', then assign it to the variable \"df_group_one\".</p>\n"
      ]
    },
    {
      "cell_type": "code",
      "id": "f279d274-ee50-412e-ba83-4ebf21d2b2f6",
      "metadata": {},
      "outputs": [],
      "source": [
        "df_group_one = df[['Avg_price-binned','Volume']]"
      ]
    },
    {
      "cell_type": "markdown",
      "id": "94ace9e2-f7d5-40a1-97bf-470ee671db0e",
      "metadata": {},
      "outputs": [],
      "source": [
        "We can then calculate the average price for each of the different categories of data.\n"
      ]
    },
    {
      "cell_type": "code",
      "id": "d14f4ae1-721e-4920-b017-376af820d6af",
      "metadata": {},
      "outputs": [],
      "source": [
        "# grouping results\ndf_group_one = df_group_one.groupby(['Avg_price-binned'],as_index=False).mean()\ndf_group_one"
      ]
    },
    {
      "cell_type": "markdown",
      "id": "0045f1c9-0bb7-46ca-a96e-c0e2c2bf48eb",
      "metadata": {},
      "outputs": [],
      "source": [
        "<p>From our data, it seems High category are the most expensive.</p>\n\n<p>You can also group by multiple variables. For example, let's group by both 'Avg_price-binned' and 'BTC_price-binned'. This groups the dataframe by the unique combination of 'Avg_price-binned' and 'Avg_price-binned'. We can store the results in the variable 'grouped_test1'.</p>\n"
      ]
    },
    {
      "cell_type": "code",
      "id": "2073a4ca-b24e-464e-9932-2b77db2f6657",
      "metadata": {},
      "outputs": [],
      "source": [
        "# grouping results\ndf_gptest = df[['BTC_price-binned','Volume']]\ngrouped_test1 = df_gptest.groupby(['BTC_price-binned'],as_index=False).mean()\ngrouped_test1"
      ]
    },
    {
      "cell_type": "markdown",
      "id": "62954c46-138d-4dab-93a4-ee3ca79f2c4b",
      "metadata": {},
      "outputs": [],
      "source": [
        "<p>This grouped data is much easier to visualize when it is made into a pivot table. A pivot table is like an Excel spreadsheet, with one variable along the column and another along the row. We can convert the dataframe to a pivot table using the method \"pivot\" to create a pivot table from the groups.</p>\n\n<p>In this case, we will leave the Avg_price-binned variable as the rows of the table, and BTC_price-binned to become the columns of the table:</p>\n"
      ]
    },
    {
      "cell_type": "code",
      "id": "79ca3b4f-3911-4e17-8953-42ca48c80756",
      "metadata": {},
      "outputs": [],
      "source": [
        "grouped_pivot = pd.crosstab(index=grouped_test1['BTC_price-binned'],columns=grouped_test1['Volume'])\ngrouped_pivot"
      ]
    },
    {
      "cell_type": "markdown",
      "id": "c3585ec4-5325-4c7a-b437-84ba635c2394",
      "metadata": {},
      "outputs": [],
      "source": [
        "<p>Often, we won't have data for some of the pivot cells. We can fill these missing cells with the value 0, but any other value could potentially be used as well. It should be mentioned that missing data is quite a complex subject and is an entire course on its own.</p>\n"
      ]
    },
    {
      "cell_type": "code",
      "id": "5e7cf4ca-c521-4ac0-a5f2-e7e46809d306",
      "metadata": {},
      "outputs": [],
      "source": [
        "grouped_pivot = grouped_pivot.fillna(0) #fill missing values with 0\ngrouped_pivot"
      ]
    },
    {
      "cell_type": "markdown",
      "id": "38ef701a-e7a6-42d1-83d7-81907cd4946f",
      "metadata": {},
      "outputs": [],
      "source": [
        "Also we can use a crossed table to see how many values correspond to each other in the table:"
      ]
    },
    {
      "cell_type": "code",
      "id": "2bfab6f4-7657-49f1-a501-93001c0bc08b",
      "metadata": {},
      "outputs": [],
      "source": [
        "crossed_table = pd.crosstab(df['Avg_price-binned'],df['Rec_count-binned'])\ncrossed_table"
      ]
    },
    {
      "cell_type": "markdown",
      "id": "7b129137-a2eb-45f2-9bcd-539866e40543",
      "metadata": {},
      "outputs": [],
      "source": [
        "As we can see, mostly they correspond when bin for BTC is 'Medium' and bin for Avg_price is 'Medium'."
      ]
    },
    {
      "cell_type": "markdown",
      "id": "62b315e0-8b4c-4959-bfc9-8e4b3a332819",
      "metadata": {},
      "outputs": [],
      "source": [
        "<div class=\"alert alert-danger alertdanger\" style=\"margin-top: 20px\">\n<h1>Question 4:</h1>\n\n<p>Use the \"groupby\" function to find the average \"BTC_price\" of each trade based on \"BTC_price-binned\".</p>\n</div>\n"
      ]
    },
    {
      "cell_type": "code",
      "id": "f1dda127-5821-4193-86d8-a626cd17ee34",
      "metadata": {},
      "outputs": [],
      "source": [
        "# Write your code below and press Shift+Enter to execute \n# grouping results\ndf_gptest2 = df[['BTC_price','Volume']]\ngrouped_test_bodystyle = df_gptest2.groupby(['BTC_price'],as_index= False).mean()\ngrouped_test_bodystyle"
      ]
    },
    {
      "cell_type": "markdown",
      "id": "700d6ba7-7714-43ab-afe6-2ca1bb8571e1",
      "metadata": {},
      "outputs": [],
      "source": [
        "<details><summary>Click here for the solution</summary>\n\n```python\ndf_gptest2 = df[['BTC_price','BTC_price-binned']]\ngrouped_test_bodystyle = df_gptest2.groupby(['BTC_price-binned'],as_index= False).mean()\ngrouped_test_bodystyle\n```\n\n</details>\n"
      ]
    },
    {
      "cell_type": "markdown",
      "id": "1cd386c5-4625-4529-b47b-d1893afee3d9",
      "metadata": {},
      "outputs": [],
      "source": [
        "<h4>Variables: BTC_price-binned vs. Avg_price-binned</h4>\n"
      ]
    },
    {
      "cell_type": "markdown",
      "id": "c8e505b9-8d72-4cfe-aa5a-a8c4dcd2cb7e",
      "metadata": {},
      "outputs": [],
      "source": [
        "Let's use a heat map to visualize the relationship between BTC_price-binned vs Avg_price-binned."
      ]
    },
    {
      "cell_type": "code",
      "id": "7838d1bf-70b9-41a9-ab89-0be4e754bcc9",
      "metadata": {},
      "outputs": [],
      "source": [
        "#use the grouped results\nplt.grid(False)\nplt.pcolor(crossed_table, cmap='RdBu')\nplt.show()"
      ]
    },
    {
      "cell_type": "markdown",
      "id": "0867fc56-799a-4868-956f-461e91ad44ff",
      "metadata": {},
      "outputs": [],
      "source": [
        "<p>The heatmap plots the target variable (price) proportional to colour with respect to the variables 'Avg_price-binned' and 'BTC_price-binned' on the vertical and horizontal axis, respectively. This allows us to visualize how the price is related to 'BTC_price-binned' and 'Avg_price-binned'.</p>\n\n<p>The default labels convey no useful information to us. Let's change that:</p>\n"
      ]
    },
    {
      "cell_type": "code",
      "id": "7df72f87-b011-4f3a-afe1-a52773138d26",
      "metadata": {},
      "outputs": [],
      "source": [
        "fig, ax = plt.subplots()\nplt.grid(False)\n\nim = ax.pcolor(crossed_table, cmap='RdBu')\n\n# Set the row and column labels\nrow_labels = crossed_table.columns\ncol_labels = crossed_table.index\n\n# Set the x and y tick positions to the center of each cell\nax.set_xticks(np.arange(crossed_table.shape[1]) + 0.5)\nax.set_yticks(np.arange(crossed_table.shape[0]) + 0.5)\n\n# Set the tick labels\nax.set_xticklabels(row_labels, rotation=90)\nax.set_yticklabels(col_labels)\n\nplt.show()"
      ]
    },
    {
      "cell_type": "markdown",
      "id": "ad666931-5452-4ba0-817d-f132edcb9094",
      "metadata": {},
      "outputs": [],
      "source": [
        "<p>Visualization is very important in data science, and Python visualization packages provide great freedom. We will go more in-depth in a separate Python visualizations course.</p>\n\n<p>The main question we want to answer in this module is, \"What are the main characteristics that have the most impact on the MATIC price?\".</p>\n\n<p>To get a better measure of the important characteristics, we look at the correlation of these variables with the MATIC avg price. In other words: how is the MATIC avg price dependent on this variable?</p>\n"
      ]
    },
    {
      "cell_type": "markdown",
      "id": "d0436ac7-5ebf-4e9e-98c1-9034484c8489",
      "metadata": {},
      "outputs": [],
      "source": [
        "<h2 id=\"correlation_causation\">5. Correlation and Causation</h2>\n"
      ]
    },
    {
      "cell_type": "markdown",
      "id": "af8f6f2b-48cf-4c93-85a1-9de5099b1db3",
      "metadata": {},
      "outputs": [],
      "source": [
        "<p><b>Correlation</b>: a measure of the extent of interdependence between variables.</p>\n\n<p><b>Causation</b>: the relationship between cause and effect between two variables.</p>\n\n<p>It is important to know the difference between these two. Correlation does not imply causation. Determining correlation is much simpler  the determining causation as causation may require independent experimentation.</p>\n"
      ]
    },
    {
      "cell_type": "markdown",
      "id": "f8131ec4-8fb6-482a-87de-a5255bce6d05",
      "metadata": {},
      "outputs": [],
      "source": [
        "<p><b>Pearson Correlation</b></p>\n<p>The Pearson Correlation measures the linear dependence between two variables X and Y.</p>\n<p>The resulting coefficient is a value between -1 and 1 inclusive, where:</p>\n<ul>\n    <li><b>1</b>: Perfect positive linear correlation.</li>\n    <li><b>0</b>: No linear correlation, the two variables most likely do not affect each other.</li>\n    <li><b>-1</b>: Perfect negative linear correlation.</li>\n</ul>\n"
      ]
    },
    {
      "cell_type": "markdown",
      "id": "d14c186c-eed2-4cd7-b071-b0ce92fee72c",
      "metadata": {},
      "outputs": [],
      "source": [
        "<p>Pearson Correlation is the default method of the function \"corr\". Like before, we can calculate the Pearson Correlation of the of the 'int64' or 'float64'  variables.</p>\n"
      ]
    },
    {
      "cell_type": "code",
      "id": "f8a161f9-1993-4e60-9dbd-77c37ab883d5",
      "metadata": {},
      "outputs": [],
      "source": [
        "df.corr()"
      ]
    },
    {
      "cell_type": "markdown",
      "id": "869b7b31-edc5-4c43-adf5-854dbb4cad31",
      "metadata": {},
      "outputs": [],
      "source": [
        "Sometimes we would like to know the significant of the correlation estimate.\n"
      ]
    },
    {
      "cell_type": "markdown",
      "id": "6dd38d17-54ca-473a-a30c-40dbed177d4a",
      "metadata": {},
      "outputs": [],
      "source": [
        "<b>P-value</b>\n\n<p>What is this P-value? The P-value is the probability value that the correlation between these two variables is statistically significant. Normally, we choose a significance level of 0.05, which means that we are 95% confident that the correlation between the variables is significant.</p>\n\nBy convention, when the\n\n<ul>\n    <li>p-value is $<$ 0.001: we say there is strong evidence that the correlation is significant.</li>\n    <li>the p-value is $<$ 0.05: there is moderate evidence that the correlation is significant.</li>\n    <li>the p-value is $<$ 0.1: there is weak evidence that the correlation is significant.</li>\n    <li>the p-value is $>$ 0.1: there is no evidence that the correlation is significant.</li>\n</ul>\n"
      ]
    },
    {
      "cell_type": "markdown",
      "id": "5ede6e0f-f426-4052-ac8f-87815007ba28",
      "metadata": {},
      "outputs": [],
      "source": [
        "<h3>\"Volume\" vs. \"BNB_price\"</h3>\n"
      ]
    },
    {
      "cell_type": "markdown",
      "id": "a1d3c9cf-518f-4cab-8330-9bd87dd5bca4",
      "metadata": {},
      "outputs": [],
      "source": [
        "Let's calculate the  Pearson Correlation Coefficient and P-value of \"Avg_price\" and \"BNB_price\".\n"
      ]
    },
    {
      "cell_type": "code",
      "id": "a6c3bdea-b783-4127-848d-826257c2a651",
      "metadata": {},
      "outputs": [],
      "source": [
        "pearson_coef, p_value = stats.pearsonr(df[\"Volume\"], df[\"BNB_price\"])\nprint(\"The Pearson Correlation Coefficient is\", round(pearson_coef, 2), \" with a P-value of P =\", round(p_value, 2))  "
      ]
    },
    {
      "cell_type": "markdown",
      "id": "a7aaa380-31b6-4cfb-9be9-159fc5dcdfa7",
      "metadata": {},
      "outputs": [],
      "source": [
        "<h4>Conclusion:</h4>\n<p>Since the p-value is $<$ 0.001, the correlation between \"Avg_price\" and \"BNB_price\" is statistically significant and the linear relationship is strong enough (≈ 0.63).</p>\n"
      ]
    },
    {
      "cell_type": "markdown",
      "id": "6b6cc3ae-8a30-4dd4-9968-63742a53b829",
      "metadata": {},
      "outputs": [],
      "source": [
        "<h3>\"Volume\" vs. \"BTC_price\"</h3>\n"
      ]
    },
    {
      "cell_type": "markdown",
      "id": "a4f3e4d7-fd5b-4bbc-a408-256b285f6755",
      "metadata": {},
      "outputs": [],
      "source": [
        "Let's calculate the  Pearson Correlation Coefficient and P-value of \"Avg_price\" and \"BTC_price\".\n"
      ]
    },
    {
      "cell_type": "code",
      "id": "a4d52374-4bd9-4c98-9c6c-cb346f1d3763",
      "metadata": {},
      "outputs": [],
      "source": [
        "pearson_coef, p_value = stats.pearsonr(df[\"Volume\"], df[\"Rec_count\"])\nprint(\"The Pearson Correlation Coefficient is\", round(pearson_coef, 2), \" with a P-value of P = \", p_value)  "
      ]
    },
    {
      "cell_type": "markdown",
      "id": "81b3ca3d-030a-49cb-ac7c-04e9d87f5bcf",
      "metadata": {},
      "outputs": [],
      "source": [
        "<h4>Conclusion:</h4>\n\n<p>Since the p-value is $<$ 0.001, the correlation between \"ETHBUSD_avg_price\" and \"BNBBUSD_avg_price\" is statistically significant, and the linear relationship is quite weak (≈ 0.37).</p>\n"
      ]
    },
    {
      "cell_type": "markdown",
      "id": "a689f00b-fb1c-4565-bb97-ceb78beb4d6a",
      "metadata": {},
      "outputs": [],
      "source": [
        "<h3>Volume\" vs. \"BTC_price\"</h3>\n\nLet's calculate the  Pearson Correlation Coefficient and P-value of \"BNB_price\" and \"BTC_price\".\n"
      ]
    },
    {
      "cell_type": "code",
      "id": "c65d460f-fe42-4a74-b5d0-eb2182fccdbd",
      "metadata": {},
      "outputs": [],
      "source": [
        "pearson_coef, p_value = stats.pearsonr(df[\"Volume\"], df[\"ATR\"])\nprint(\"The Pearson Correlation Coefficient is\", round(pearson_coef, 2), \" with a P-value of P = \", p_value)  "
      ]
    },
    {
      "cell_type": "markdown",
      "id": "80282894-a933-408a-86d2-26d369687c22",
      "metadata": {},
      "outputs": [],
      "source": [
        "#### Conclusion:\n\nSince the p-value is < 0.001, the correlation between \"BNB_price\" and \"BTC_price\" is statistically significant and the linear relationship is weak (≈ 0.06).\n"
      ]
    },
    {
      "cell_type": "markdown",
      "id": "7f2bf89d-01c5-460f-b7e7-8fc79ca05fbe",
      "metadata": {},
      "outputs": [],
      "source": [
        "### \"Volume\" vs. \"ATR\"\n"
      ]
    },
    {
      "cell_type": "markdown",
      "id": "568867d2-1e1c-4dcf-9397-bf3aa4bd8044",
      "metadata": {},
      "outputs": [],
      "source": [
        "Let's calculate the Pearson Correlation Coefficient and P-value of \"BNBBUSD_avg_price\" and \"APEBUSD_avg_price\":\n"
      ]
    },
    {
      "cell_type": "code",
      "id": "49aa1aa3-5c10-472c-9e0f-43671c879abd",
      "metadata": {},
      "outputs": [],
      "source": [
        "pearson_coef, p_value = stats.pearsonr(df[\"Volume\"], df[\"ATR\"])\nprint( \"The Pearson Correlation Coefficient is\", round(pearson_coef, 2), \" with a P-value of P = \", p_value)  "
      ]
    },
    {
      "cell_type": "markdown",
      "id": "ff72b394-daed-4ea3-a8b4-ec4184ba76f0",
      "metadata": {},
      "outputs": [],
      "source": [
        "<h4>Conclusion:</h4>\n<p>Since the p-value is $<$ 0.001, the correlation between \"Avg_price\" and \"ATR\" is statistically significant, and the linear relationship is only moderate (≈ 0.31).</p>\n"
      ]
    },
    {
      "cell_type": "markdown",
      "id": "d6b4c7c4-16c8-49e2-ad5d-66ffe351380f",
      "metadata": {},
      "outputs": [],
      "source": [
        "<h3>\"Volume\" vs. \"OBV\"</h3>\n"
      ]
    },
    {
      "cell_type": "markdown",
      "id": "0312ffb3-15f7-400a-a377-b927ce929a3f",
      "metadata": {},
      "outputs": [],
      "source": [
        "Let's calculate the  Pearson Correlation Coefficient and P-value of \"Avg_price\" and \"OBV\":\n"
      ]
    },
    {
      "cell_type": "code",
      "id": "b3d68954-bf39-4b5e-aad0-94c3104013a8",
      "metadata": {},
      "outputs": [],
      "source": [
        "pearson_coef, p_value = stats.pearsonr(df[\"Volume\"], df[\"OBV\"])\nprint(\"The Pearson Correlation Coefficient is\", round(pearson_coef, 2), \" with a P-value of P =  \", p_value ) "
      ]
    },
    {
      "cell_type": "markdown",
      "id": "5d90ffb4-9a0c-4817-bce5-dbf76bc8cdbc",
      "metadata": {},
      "outputs": [],
      "source": [
        "<h4>Conclusion:</h4>\n<p>Since the p-value is $<$ 0.001, the correlation between \"Avg_price\" and \"OVB\" is statistically significant and the linear relationship is only moderate(≈ 0.19).</p>\n"
      ]
    },
    {
      "cell_type": "markdown",
      "id": "e6e894c1-bec1-41e7-a7dd-5893cda41930",
      "metadata": {},
      "outputs": [],
      "source": [
        "<h2 id=\"anova\">6. ANOVA</h2>\n"
      ]
    },
    {
      "cell_type": "markdown",
      "id": "d9f58612-900c-4fae-9e53-71d349b24f65",
      "metadata": {},
      "outputs": [],
      "source": [
        "<h3>ANOVA: Analysis of Variance</h3>\n<p>The Analysis of Variance  (ANOVA) is a statistical method used to test whether there are significant differences between the means of two or more groups. ANOVA returns two parameters:</p>\n\n<p><b>F-test score</b>: ANOVA assumes the means of all groups are the same, calculates how much the actual means deviate from the assumption, and reports it as the F-test score. A larger score means there is a larger difference between the means.</p>\n\n<p><b>P-value</b>:  P-value tells how statistically significant our calculated score value is.</p>\n\n<p>If our price variable is strongly correlated with the variable we are analyzing, we expect ANOVA to return a sizeable F-test score and a small p-value.</p>\n"
      ]
    },
    {
      "cell_type": "markdown",
      "id": "2f5db9e6-6554-4809-a964-567058a6b064",
      "metadata": {},
      "outputs": [],
      "source": [
        "<h3>BNBBUSD_ap_cat</h3>\n"
      ]
    },
    {
      "cell_type": "markdown",
      "id": "fff55db6-d494-4961-a085-089e2590121e",
      "metadata": {},
      "outputs": [],
      "source": [
        "<p>Since ANOVA analyzes the difference between different groups of the same variable, the groupby function will come in handy. Because the ANOVA algorithm averages the data automatically, we do not need to take the average before hand.</p>"
      ]
    },
    {
      "cell_type": "code",
      "id": "7d21782e-518d-4222-803b-0168e371da8c",
      "metadata": {},
      "outputs": [],
      "source": [
        "grouped_test2 = df[[\"Avg_price-binned\", \"Volume\"]].groupby([\"Avg_price-binned\"])\ngrouped_test2.head()"
      ]
    },
    {
      "cell_type": "markdown",
      "id": "92075668-2e9a-4675-bd62-6974aa2467a7",
      "metadata": {},
      "outputs": [],
      "source": [
        "We can obtain the values of the method group using the method \"get_group\".\n"
      ]
    },
    {
      "cell_type": "code",
      "id": "34f1d05e-96d5-4b03-bb19-9857b02510c3",
      "metadata": {},
      "outputs": [],
      "source": [
        "grouped_test2.get_group(\"Medium\")[\"Volume\"]"
      ]
    },
    {
      "cell_type": "code",
      "id": "a6ee7916-59b5-429b-86c0-9ad1c9617e24",
      "metadata": {},
      "outputs": [],
      "source": [
        "grouped_test2.head()"
      ]
    },
    {
      "cell_type": "markdown",
      "id": "dfa62f4d-0d3b-4955-ad16-d25fe59e0a73",
      "metadata": {},
      "outputs": [],
      "source": [
        "We can use the function \"f_oneway\" in the module \"stats\" to obtain the <b>F-test score</b> and <b>P-value</b>.\n"
      ]
    },
    {
      "cell_type": "code",
      "id": "50136bc6-ee18-4549-ab48-b897fa976006",
      "metadata": {},
      "outputs": [],
      "source": [
        "# ANOVA\nf_val, p_val = stats.f_oneway(grouped_test2.get_group(\"Low\")[\"Volume\"], grouped_test2.get_group(\"Lower Medium\")[\"Volume\"], grouped_test2.get_group(\"Medium\")[\"Volume\"], grouped_test2.get_group(\"Upper Medium\")[\"Volume\"], grouped_test2.get_group(\"High\")[\"Volume\"])  \n \nprint(\"ANOVA results: F=\", round(f_val, 2), \", P =\", round(p_val, 2))"
      ]
    },
    {
      "cell_type": "markdown",
      "id": "761b243c-293c-4e02-b1d7-26cfd8a3a52b",
      "metadata": {},
      "outputs": [],
      "source": [
        "This is a great result with a large F-test score showing a strong correlation and a P-value of 0 implying almost certain statistical significance. But does this mean all five tested groups are all this highly correlated?\n\nLet's examine them separately.\n"
      ]
    },
    {
      "cell_type": "markdown",
      "id": "9e255c12-48e3-4820-84ca-b917e73db146",
      "metadata": {},
      "outputs": [],
      "source": [
        "#### Low and Lower Medium\n"
      ]
    },
    {
      "cell_type": "code",
      "id": "bec96edb-91f3-4bdc-a2a2-0394e94a4c70",
      "metadata": {},
      "outputs": [],
      "source": [
        "f_val, p_val = stats.f_oneway(grouped_test2.get_group(\"Low\")[\"Volume\"], grouped_test2.get_group(\"Lower Medium\")[\"Volume\"])  \n \nprint( \"ANOVA results: F=\", round(f_val, 2), \", P =\", round(p_val, 2) )"
      ]
    },
    {
      "cell_type": "markdown",
      "id": "a815721f-4b39-40bf-970c-0ec6e1983633",
      "metadata": {},
      "outputs": [],
      "source": [
        "Let's examine the other groups.\n"
      ]
    },
    {
      "cell_type": "markdown",
      "id": "bafa48e3-48dc-415f-be44-edf4120f1a24",
      "metadata": {},
      "outputs": [],
      "source": [
        "#### Low and Medium\n"
      ]
    },
    {
      "cell_type": "code",
      "id": "928e7246-1f40-4831-8e0b-e0df5a0ce0fc",
      "metadata": {},
      "outputs": [],
      "source": [
        "f_val, p_val = stats.f_oneway(grouped_test2.get_group(\"Low\")[\"Volume\"], grouped_test2.get_group(\"Medium\")[\"Volume\"])  \n   \nprint( \"ANOVA results: F=\", round(f_val, 2), \", P =\", round(p_val, 2))   "
      ]
    },
    {
      "cell_type": "markdown",
      "id": "6c18936d-07b7-42e0-9eae-a4f27e7775b4",
      "metadata": {},
      "outputs": [],
      "source": [
        "<h4>Low and Upper Medium</h4>\n"
      ]
    },
    {
      "cell_type": "code",
      "id": "56763133-0fea-40c7-aa01-440aed3440c2",
      "metadata": {},
      "outputs": [],
      "source": [
        "f_val, p_val = stats.f_oneway(grouped_test2.get_group(\"Low\")[\"Volume\"], grouped_test2.get_group(\"Upper Medium\")[\"Volume\"])  \n \nprint(\"ANOVA results: F=\", round(f_val, 2), \", P =\", round(p_val, 2))   "
      ]
    },
    {
      "cell_type": "markdown",
      "id": "e5790a87-fe55-4859-a9a9-b171f3fcebc6",
      "metadata": {},
      "outputs": [],
      "source": [
        "<h4>Low and High</h4>\n"
      ]
    },
    {
      "cell_type": "code",
      "id": "ee46aa58-ee77-4c63-8c22-fbd04025e4bf",
      "metadata": {},
      "outputs": [],
      "source": [
        "f_val, p_val = stats.f_oneway(grouped_test2.get_group(\"Low\")[\"Volume\"], grouped_test2.get_group(\"High\")[\"Volume\"])  \n \nprint(\"ANOVA results: F=\", round(f_val, 2), \", P =\", p_val)   "
      ]
    },
    {
      "cell_type": "markdown",
      "id": "2e5adefc-8071-4d05-b78d-cbab62da6d1e",
      "metadata": {},
      "outputs": [],
      "source": [
        "<h4>Lower Medium and Medium</h4>\n"
      ]
    },
    {
      "cell_type": "code",
      "id": "3da8fdea-41ea-4f4b-8c1d-0b073f143e59",
      "metadata": {},
      "outputs": [],
      "source": [
        "f_val, p_val = stats.f_oneway(grouped_test2.get_group(\"Lower Medium\")[\"Volume\"], grouped_test2.get_group(\"Medium\")[\"Volume\"])  \n \nprint(\"ANOVA results: F=\", round(f_val, 2), \", P =\", round(p_val, 2))   "
      ]
    },
    {
      "cell_type": "markdown",
      "id": "2d9b1aaa-e968-4d9b-a9aa-026d41ca2055",
      "metadata": {},
      "outputs": [],
      "source": [
        "<h4>Lower Medium and Upper Medium</h4>\n"
      ]
    },
    {
      "cell_type": "code",
      "id": "b69a273d-d5f5-47fc-a2d1-8c0c47f94812",
      "metadata": {},
      "outputs": [],
      "source": [
        "f_val, p_val = stats.f_oneway(grouped_test2.get_group(\"Lower Medium\")[\"Volume\"], grouped_test2.get_group(\"Upper Medium\")[\"Volume\"])  \n \nprint(\"ANOVA results: F=\", round(f_val, 2), \", P =\", p_val)   "
      ]
    },
    {
      "cell_type": "markdown",
      "id": "9c4bfcfe-845c-48f9-b4de-fd8f9ea060b7",
      "metadata": {},
      "outputs": [],
      "source": [
        "<h4>Lower Medium and High</h4>\n"
      ]
    },
    {
      "cell_type": "code",
      "id": "8e2c7da6-d025-4fb8-9d38-3f32e7c06ec6",
      "metadata": {},
      "outputs": [],
      "source": [
        "f_val, p_val = stats.f_oneway(grouped_test2.get_group(\"Lower Medium\")[\"Volume\"], grouped_test2.get_group(\"High\")[\"Volume\"])  \n \nprint(\"ANOVA results: F=\", round(f_val, 2), \", P =\", round(p_val, 2))   "
      ]
    },
    {
      "cell_type": "markdown",
      "id": "c8edd90f-1b9e-47a1-a096-2062350ac7fb",
      "metadata": {},
      "outputs": [],
      "source": [
        "<h4>Medium and Upper Medium</h4>\n"
      ]
    },
    {
      "cell_type": "code",
      "id": "9b665c14-0b34-4017-8df1-8d4c5b7235f6",
      "metadata": {},
      "outputs": [],
      "source": [
        "f_val, p_val = stats.f_oneway(grouped_test2.get_group(\"Medium\")[\"Volume\"], grouped_test2.get_group(\"Upper Medium\")[\"Volume\"])  \n \nprint(\"ANOVA results: F=\", round(f_val, 2), \", P =\", round(p_val, 2))   "
      ]
    },
    {
      "cell_type": "markdown",
      "id": "e2a811d4-c568-4d49-a47a-e8ae05d7a964",
      "metadata": {},
      "outputs": [],
      "source": [
        "<h4>Medium and High</h4>\n"
      ]
    },
    {
      "cell_type": "code",
      "id": "85f61d99-73e0-42d2-bedc-0e439f24411c",
      "metadata": {},
      "outputs": [],
      "source": [
        "f_val, p_val = stats.f_oneway(grouped_test2.get_group(\"Medium\")[\"Volume\"], grouped_test2.get_group(\"High\")[\"Volume\"])  \n \nprint(\"ANOVA results: F=\", f_val, \", P =\", round(p_val, 2))   "
      ]
    },
    {
      "cell_type": "markdown",
      "id": "f412440c-e28e-4dfb-8c7e-181c095aef91",
      "metadata": {},
      "outputs": [],
      "source": [
        "<h4>Upper Medium and High</h4>\n"
      ]
    },
    {
      "cell_type": "code",
      "id": "e4009f72-93b8-4c4c-9dcd-d24e32c601f0",
      "metadata": {},
      "outputs": [],
      "source": [
        "f_val, p_val = stats.f_oneway(grouped_test2.get_group(\"Upper Medium\")[\"Volume\"], grouped_test2.get_group(\"High\")[\"Volume\"])  \n \nprint(\"ANOVA results: F=\", round(f_val, 2), \", P =\", round(p_val, 2))   "
      ]
    },
    {
      "cell_type": "markdown",
      "id": "0c84c842-9539-4308-af56-9fb9c53f5160",
      "metadata": {},
      "outputs": [],
      "source": [
        "<h2 id=\"durbin\">7. Durbin-Watson Test</h2>"
      ]
    },
    {
      "cell_type": "markdown",
      "id": "ca0f3e56-9698-4840-8f2b-f16d312189a1",
      "metadata": {},
      "outputs": [],
      "source": [
        "<h4>What is Durbin-Watson Test?</h4>"
      ]
    },
    {
      "cell_type": "markdown",
      "id": "f564ecce-1ab0-48b9-8931-03f5559bef7f",
      "metadata": {},
      "outputs": [],
      "source": [
        "In regression analysis, Durbin-Watson (DW) is useful for checking the first-order autocorrelation (serial correlation). It analyzes the residuals for independence over time points (autocorrelation). The autocorrelation varies from -1 (negative autocorrelation) to 1 (positive autocorrelation).\n\nDurbin-Watson test analyzes the following hypotheses,\n\nNull hypothesis (H<sub>0</sub>): Residuals from the regression are not autocorrelated (autocorrelation coefficient, ρ = 0)\nAlternative hypothesis (H<sub>a</sub>): Residuals from the regression are autocorrelated (autocorrelation coefficient, ρ > 0)"
      ]
    },
    {
      "cell_type": "markdown",
      "id": "e45b2645-4045-48cf-b9a4-77d7826f0557",
      "metadata": {},
      "outputs": [],
      "source": [
        "We will use <b>durbin_watson</b> for Durbin-Watson Test and <b>OLS</b> to get residuals from \"statsmodels\" library"
      ]
    },
    {
      "cell_type": "code",
      "id": "ac6d30f0-fa48-493a-940b-cca09ec814c1",
      "metadata": {},
      "outputs": [],
      "source": [
        "X = df[\"Avg_price\"] # independent\ny = df[\"Volume\"] # dependent\n# to get intercept\nX = sm.add_constant(X)\n# fit the regression model\nreg = sm.OLS(y, X).fit()"
      ]
    },
    {
      "cell_type": "code",
      "id": "5be98ff9-96b3-422d-8c3f-60fe7e613f90",
      "metadata": {},
      "outputs": [],
      "source": [
        "dwtest(resids=np.array(reg.resid))"
      ]
    },
    {
      "cell_type": "code",
      "id": "b8658e5c-d18d-46a9-a1c6-d92cc6f5fbf1",
      "metadata": {},
      "outputs": [],
      "source": [
        "\ncurrs = [\"Volume\", \"BTC_price\", \"BNB_price\"]\nimport itertools\n\ncols = [curr for curr in currs]\nidxs = [curr for curr in currs]\n\ndw_df = pd.DataFrame(columns=cols, index=idxs)\n\nfor (curr1, curr2) in itertools.permutations(currs, 2):\n    X = df[{curr1}] # independent\n    y = df[{curr2}] # dependent\n    # to get intercept\n    X = sm.add_constant(X)\n    # fit the regression model\n    reg = sm.OLS(y, X).fit()\n    dw = dwtest(resids=np.array(reg.resid))\n    dw_df.loc[curr2 ,curr1] = dw\n    \nnp.fill_diagonal(dw_df.values, \"—\")\n    \ndw_df"
      ]
    },
    {
      "cell_type": "markdown",
      "id": "a1ad3213-168f-4cb2-acae-4bc2fa64a44b",
      "metadata": {},
      "outputs": [],
      "source": [
        "Above we can see a matrix that consists of all the p-values. How to interpret these values? We take any value, its column will be responsible for the dependent value, and the row - for the independent value"
      ]
    },
    {
      "cell_type": "markdown",
      "id": "a536d05c-d44b-4153-8919-76246a941383",
      "metadata": {},
      "outputs": [],
      "source": [
        "<h2 id=\"granger\">8. Granger Causality Test</h2>"
      ]
    },
    {
      "cell_type": "markdown",
      "id": "a98d2c3c-c17d-4ce7-b392-4050b707da9e",
      "metadata": {},
      "outputs": [],
      "source": [
        "<h4>What is Granger Causality Test?</h4>"
      ]
    },
    {
      "cell_type": "markdown",
      "id": "b0fb876b-b592-4549-83c2-58d88497a6f5",
      "metadata": {},
      "outputs": [],
      "source": [
        "Granger Causality test is a statistical test that is used to determine if a given time series and it’s lags is helpful in explaining the value of another series. "
      ]
    },
    {
      "cell_type": "markdown",
      "id": "16bdc073-25e1-4e79-89c1-2d2494c4c3c5",
      "metadata": {},
      "outputs": [],
      "source": [
        "The Null hypothesis for grangercausalitytests is that the time series in\nthe second column, x<sub>2</sub>, does NOT Granger cause the time series in the first\ncolumn, x<sub>1</sub>. Grange causality means that past values of x<sub>2</sub> have a\nstatistically significant effect on the current value of x<sub>1</sub>, taking past\nvalues of x<sub>1</sub> into account as regressors. We reject the null hypothesis\nthat x<sub>2</sub> does not Granger cause x<sub>1</sub> if the p-values are below a desired size\nof the test."
      ]
    },
    {
      "cell_type": "code",
      "id": "b6bfd3fa-b9a9-457c-bf30-a4ab279cdb43",
      "metadata": {},
      "outputs": [],
      "source": [
        "df[df[\"Volume\"]>0.1][[\"Volume\", \"BTC_price\"]]"
      ]
    },
    {
      "cell_type": "code",
      "id": "41480307-98df-49b0-959f-953d7d4bfcd6",
      "metadata": {},
      "outputs": [],
      "source": [
        "df_to_test = df[[\"Volume\", \"BTC_price\"]]\nx = df_to_test.index\ny1 = df_to_test[\"Volume\"]\ny2 = df_to_test[\"BTC_price\"]\n\n# Plot Line1 (Left Y Axis)\nfig, ax1 = plt.subplots(1,1,figsize=(16,9), dpi= 80)\nax1.plot(x, y1, color='tab:red')\n\n# Plot Line2 (Right Y Axis)\nax2 = ax1.twinx()  # instantiate a second axes that shares the same x-axis\nax2.plot(x, y2, color='tab:blue')\n\n# Decorations\n# ax1 (left Y axis)\nax1.set_xlabel('Date', fontsize=20)\nax1.tick_params(axis='x', rotation=0, labelsize=12)\nax1.set_ylabel('VOLUME', color='tab:red', fontsize=20)\nax1.tick_params(axis='y', rotation=0, labelcolor='tab:red' )\nax1.grid(alpha=.4)\n\n# ax2 (right Y axis)\nax2.set_ylabel(\"BTC\", color='tab:blue', fontsize=20)\nax2.tick_params(axis='y', labelcolor='tab:blue')\nplt.show()"
      ]
    },
    {
      "cell_type": "markdown",
      "id": "c20bf52c-2e17-4129-967c-dd6940b1052b",
      "metadata": {},
      "outputs": [],
      "source": [
        "We will use <b>granger causalitytests</b> for Granger Causality Test from \"statsmodels\" library"
      ]
    },
    {
      "cell_type": "markdown",
      "id": "314016a3-47e7-4d82-b172-f3b10c9025e6",
      "metadata": {},
      "outputs": [],
      "source": [
        "Now let's define custom function which will do Granger Causality Test and return result as <b>pd.DataFrame</b>"
      ]
    },
    {
      "cell_type": "code",
      "id": "8e0988a7-5857-45b0-9fd3-5fc7eea442e0",
      "metadata": {},
      "outputs": [],
      "source": [
        "def grangers_causation_matrix(data, maxlag, variables, test='ssr_chi2test', verbose=False):    \n    \"\"\"Check Granger Causality of all possible combinations of the Time series.\n    The rows are the response variable, columns are predictors. The values in the table \n    are the P-Values. P-Values lesser than the significance level (0.05), implies \n    the Null Hypothesis that the coefficients of the corresponding past values is \n    zero, that is, the X does not cause Y can be rejected.\n\n    data      : pandas dataframe containing the time series variables\n    variables : list containing names of the time series variables.\n    \"\"\"\n    df = pd.DataFrame(np.zeros((len(variables), len(variables))), columns=variables, index=variables)\n    for c in df.columns:\n        for r in df.index:\n            test_result = grangercausalitytests(data[[r, c]], maxlag=maxlag, verbose=False)\n            p_values = [round(test_result[i+1][0][test][1],4) for i in range(maxlag)]\n            if verbose: print(f'Y = {r}, X = {c}, P Values = {p_values}')\n            min_p_value = np.min(p_values)\n            df.loc[r, c] = min_p_value\n    df.columns = [var + '_x' for var in variables]\n    df.index = [var + '_y' for var in variables]\n    return df"
      ]
    },
    {
      "cell_type": "code",
      "id": "f1771791-fa58-4eb1-bd01-982d5194ca2c",
      "metadata": {},
      "outputs": [],
      "source": [
        "grangers_causation_matrix(df_to_test, 1, variables=df_to_test.columns)"
      ]
    },
    {
      "cell_type": "markdown",
      "id": "57329dbe-85ee-499f-923c-8afa6cdbe5a7",
      "metadata": {},
      "outputs": [],
      "source": [
        "How to interpret the p-values?"
      ]
    },
    {
      "cell_type": "markdown",
      "id": "364951e2-0ffc-492e-a833-02b34390ed3e",
      "metadata": {},
      "outputs": [],
      "source": [
        "Assuming a significance level of 0.05, if the p-value is lesser than 0.05, then we do NOT reject the null hypothesis that X does NOT granger cause Y.\n\nSo, in the above table, the p-value for Avg_price_x and BTC_price_y is 0.02. So we accept the null hypothesis and conclude that (Avg_price) does not granger causes (BTC_price).\n\nThat means, Avg_price will not be helpful in predicting the BTC_price."
      ]
    },
    {
      "cell_type": "markdown",
      "id": "599f3dcd-c311-457b-b701-6d52f966aa87",
      "metadata": {},
      "outputs": [],
      "source": [
        "The p-value for Volume and BTC_price_x is 0. \n\nSince the p-value isn’t less than 0.05, we can’t reject the null hypothesis. That is, \"Avg_price_x\" isn’t predictive of \"BTC_price_y\"."
      ]
    },
    {
      "cell_type": "markdown",
      "id": "4d1c8c38-c01a-4897-bba3-a9aaf8ccedcc",
      "metadata": {},
      "outputs": [],
      "source": [
        "Let's calculate Granger Causality Test for all available pairs"
      ]
    },
    {
      "cell_type": "code",
      "id": "7072b47c-4952-40a6-ad4c-de0162474d41",
      "metadata": {},
      "outputs": [],
      "source": [
        "currs = [\"Volume\",\"BTC_price\",\"BNB_price\"]\ncols = [f\"{curr}_x\" for curr in currs]\nidxs = [f\"{curr}_y\" for curr in currs]\n\ngc_df = pd.DataFrame(columns=cols, index=idxs)\n\nfor (curr1, curr2) in itertools.combinations(currs, 2):\n    df_to_test_2 = df[[curr1,curr2]]\n    res_df = grangers_causation_matrix(df_to_test_2, 1, variables=df_to_test_2.columns)\n    p1 = res_df[f\"{curr1}_x\"][f\"{curr2}_y\"]\n    p2 = res_df[f\"{curr2}_x\"][f\"{curr1}_y\"]\n    gc_df.loc[f\"{curr1}_y\", f\"{curr2}_x\"] = p1\n    gc_df.loc[f\"{curr2}_y\", f\"{curr1}_x\"] = p2\n    \nnp.fill_diagonal(gc_df.values, \"—\")\n    \ngc_df"
      ]
    },
    {
      "cell_type": "markdown",
      "id": "83871d5c-e321-4568-a57a-dfa1539f259e",
      "metadata": {},
      "outputs": [],
      "source": [
        "Above we can see a matrix that consists of all the p-values. How to interpret these values? We take any value, its column will be responsible for the dependent value (X), and the row - for the independent value (Y). If that value < 0.05 then that means X granger-causes Y"
      ]
    },
    {
      "cell_type": "markdown",
      "id": "5bb4f525-f992-46b6-a892-be517f63f040",
      "metadata": {},
      "outputs": [],
      "source": [
        "<p>We now have a better idea of what our data looks like and which variables are more related to our main currency <b>MATIC</b></p>\n\nCorrelation between Matic Volume and currencies :\n\n<ul>\n    <li>BNB ~ 0.06</li>\n</ul>\n<ul>\n    <li>BNB ~ -0.20</li>\n</ul>\n\nBest correlation fields:\n\n<ul>\n    <li>Rec_count ~ 0.69</li>\n</ul>\n<ul>\n    <li>ATR ~ 0.55</li>\n</ul>\n\nLets create new dataset with other currencies and best fields\n"
      ]
    },
    {
      "cell_type": "code",
      "id": "3e31cfbe-ce27-41bf-8672-13e766833617",
      "metadata": {},
      "outputs": [],
      "source": [
        "df[[\"Volume\",\"Rec_count\",\"BTC_price\", \"ATR\", \"BNB_price\"]].to_csv(\"DataSet_final.csv\")"
      ]
    },
    {
      "cell_type": "markdown",
      "id": "5aa4f1f3-4a35-4c13-a373-c85c709a31c9",
      "metadata": {},
      "outputs": [],
      "source": [
        "# **Thank you for completing this lab!**\n\n## Author\n\n<a href=\"https://author.skills.network/instructors/ostap_liashenyk\" target=\"_blank\" >Ostap Liashenyk</a>\n\n<a href=\"https://author.skills.network/instructors/yaroslav_vyklyuk_2?utm_medium=Exinfluencer&utm_source=Exinfluencer&utm_content=000026UJ&utm_term=10006555&utm_id=NA-SkillsNetwork-Channel-SkillsNetworkGuidedProjectsIBMSkillsNetworkGPXX0QGDEN2306-2023-01-01\">Prof. Yaroslav Vyklyuk, DrSc, PhD</a>\n\n<a href=\"https://author.skills.network/instructors/mariya_fleychuk?utm_medium=Exinfluencer&utm_source=Exinfluencer&utm_content=000026UJ&utm_term=10006555&utm_id=NA-SkillsNetwork-Channel-SkillsNetworkGuidedProjectsIBMSkillsNetworkGPXX0QGDEN2306-2023-01-01\">Prof. Mariya Fleychuk, DrSc, PhD</a>\n\n\n\n\n## Change Log\n\n| Date (YYYY-MM-DD) | Version | Changed By      | Change Description                                         |\n| ----------------- | ------- | ----------------| ---------------------------------------------------------- |\n|     2023-04-01    |   1.0   | Ostap Liashenyk | Creation of the lab                                        |\n\n<hr>\n\n## <h3 align=\"center\"> © IBM Corporation 2023. All rights reserved. </h3>"
      ]
    },
    {
      "cell_type": "code",
      "id": "25c7e494-aac7-426d-9ba6-aeab7af12e82",
      "metadata": {},
      "outputs": [],
      "source": [
        ""
      ]
    }
  ],
  "metadata": {
    "language_info": {
      "name": ""
    },
    "kernelspec": {
      "name": "",
      "display_name": ""
    }
  },
  "nbformat": 4,
  "nbformat_minor": 4
}
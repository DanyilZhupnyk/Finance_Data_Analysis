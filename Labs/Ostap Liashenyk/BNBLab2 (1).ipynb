{
  "metadata": {
    "anaconda-cloud": {},
    "kernelspec": {
      "name": "python",
      "display_name": "Python (Pyodide)",
      "language": "python"
    },
    "language_info": {
      "codemirror_mode": {
        "name": "python",
        "version": 3
      },
      "file_extension": ".py",
      "mimetype": "text/x-python",
      "name": "python",
      "nbconvert_exporter": "python",
      "pygments_lexer": "ipython3",
      "version": "3.8"
    }
  },
  "nbformat_minor": 4,
  "nbformat": 4,
  "cells": [
    {
      "cell_type": "markdown",
      "source": "<center>\n    <img src=\"https://cf-courses-data.s3.us.cloud-object-storage.appdomain.cloud/IBMDeveloperSkillsNetwork-DA0101EN-SkillsNetwork/labs/Module%202/images/IDSNlogo.png\" width=\"300\" alt=\"cognitiveclass.ai logo\"  />\n</center>\n\n# Data Wrangling\n\nEstimated time needed: **30** minutes\n\n## Objectives\n\nAfter completing this lab you will be able to:\n\n*   Handle missing values\n*   Correct data format\n*   Standardize and normalize data\n",
      "metadata": {}
    },
    {
      "cell_type": "markdown",
      "source": "<h2>Table of Contents</h2>\n\n<div class=\"alert alert-block alert-info\" style=\"margin-top: 20px\">\n<ul>\n    <li><a href=\"https://#identify_handle_missing_values\">Identify and handle missing values</a>\n        <ul>\n            <li><a href=\"https://#identify_missing_values\">Identify missing values</a></li>\n            <li><a href=\"https://#deal_missing_values\">Deal with missing values</a></li>\n            <li><a href=\"https://#correct_data_format\">Correct data format</a></li>\n        </ul>\n    </li>\n    <li><a href=\"https://#data_standardization\">Data standardization</a></li>\n    <li><a href=\"https://#data_normalization\">Data normalization (centering/scaling)</a></li>\n    <li><a href=\"https://#binning\">Binning</a></li>\n    <li><a href=\"https://#indicator\">Indicator variable</a></li>\n</ul>\n\n</div>\n\n<hr>\n",
      "metadata": {}
    },
    {
      "cell_type": "markdown",
      "source": "<h2>What is the purpose of data wrangling?</h2>\n",
      "metadata": {}
    },
    {
      "cell_type": "markdown",
      "source": "Data wrangling is the process of converting data from the initial format to a format that may be better for analysis.\n",
      "metadata": {}
    },
    {
      "cell_type": "markdown",
      "source": "<h3>What is the price of BNB converted to USDT ?</h3>\n",
      "metadata": {}
    },
    {
      "cell_type": "markdown",
      "source": "<h3>Import data</h3>\n<p>\nYou can find the \"BNB Cryptocurrency Dataset\" from the following link: <a href=\"https://1824251045.rsc.cdn77.org/web/algohouse/data/BNBBUSD_trades_1m.csv\">https://1824251045.rsc.cdn77.org/web/algohouse/data/BNBBUSD_trades_1m.csv</a>. \nWe will be using this dataset throughout this course.\n</p>\n",
      "metadata": {}
    },
    {
      "cell_type": "markdown",
      "source": "<h4>Import pandas</h4> \n",
      "metadata": {}
    },
    {
      "cell_type": "markdown",
      "source": "You are running the lab in your  browser, so we will install the libraries using `piplite`\n",
      "metadata": {}
    },
    {
      "cell_type": "code",
      "source": "import piplite\nimport micropip\nfrom sklearn.metrics import mean_squared_error\nawait piplite.install(['pandas'])\nawait piplite.install(['matplotlib'])\nawait piplite.install(['scipy'])\nawait piplite.install(['seaborn'])\nawait micropip.install(['ipywidgets'],keep_going=True)\nawait micropip.install(['tqdm'],keep_going=True)",
      "metadata": {
        "trusted": true
      },
      "execution_count": 1,
      "outputs": []
    },
    {
      "cell_type": "markdown",
      "source": "If you run the lab locally using Anaconda, you can load the correct library and versions by uncommenting the following:\n",
      "metadata": {}
    },
    {
      "cell_type": "code",
      "source": "#If you run the lab locally using Anaconda, you can load the correct library and versions by uncommenting the following:\n#install specific version of libraries used in lab\n#! mamba install pandas==1.3.3\n#! mamba install numpy=1.21.2\n",
      "metadata": {
        "trusted": true
      },
      "execution_count": 2,
      "outputs": []
    },
    {
      "cell_type": "code",
      "source": "import pandas as pd\nimport matplotlib.pylab as plt\nimport numpy as np\n#set precision \npd.set_option(\"display.precision\", 2)\n#set precision for float\npd.options.display.float_format = '{:.2f}'.format\n\n",
      "metadata": {
        "trusted": true
      },
      "execution_count": 3,
      "outputs": []
    },
    {
      "cell_type": "markdown",
      "source": "This function will download the dataset into your browser\n",
      "metadata": {}
    },
    {
      "cell_type": "code",
      "source": "#This function will download the dataset into your browser \nfrom pyodide.http import pyfetch\n\nasync def download(url, filename):\n    response = await pyfetch(url)\n    if response.status == 200:\n        with open(filename, \"wb\") as f:\n            f.write(await response.bytes())\n\n",
      "metadata": {
        "trusted": true
      },
      "execution_count": 4,
      "outputs": []
    },
    {
      "cell_type": "markdown",
      "source": "<h2>Reading the dataset from the URL and adding the related headers</h2>\n",
      "metadata": {}
    },
    {
      "cell_type": "markdown",
      "source": "First, we assign the URL of the dataset to \"filename\".\n",
      "metadata": {}
    },
    {
      "cell_type": "markdown",
      "source": "This dataset was hosted on IBM Cloud object. Click <a href=\"https://cocl.us/corsera_da0101en_notebook_bottom?utm_medium=Exinfluencer&utm_source=Exinfluencer&utm_content=000026UJ&utm_term=10006555&utm_id=NA-SkillsNetwork-Channel-SkillsNetworkCoursesIBMDeveloperSkillsNetworkDA0101ENSkillsNetwork20235326-2021-01-01\">HERE</a> for free storage.\n",
      "metadata": {}
    },
    {
      "cell_type": "code",
      "source": "filename = \"https://1824251045.rsc.cdn77.org/web/algohouse/data/BNBBUSD_trades_1m.csv\"",
      "metadata": {
        "trusted": true
      },
      "execution_count": 5,
      "outputs": []
    },
    {
      "cell_type": "markdown",
      "source": "Then, we create a Python list <b>headers</b> containing name of headers.\n",
      "metadata": {}
    },
    {
      "cell_type": "code",
      "source": "headers = [\"Ts\",\"Open\",\"High\",\"Low\",\"Close\",\"Volume\",\"Rec_count\",\"Avg_price\"]",
      "metadata": {
        "trusted": true
      },
      "execution_count": 6,
      "outputs": []
    },
    {
      "cell_type": "markdown",
      "source": "you will need to download the dataset; if you are running locally, please comment out the following\n",
      "metadata": {}
    },
    {
      "cell_type": "code",
      "source": "await download(filename, \"BNBBUSD_trades_1m.csv\")\nfilename=\"BNBBUSD_trades_1m.csv\"",
      "metadata": {
        "trusted": true
      },
      "execution_count": 7,
      "outputs": []
    },
    {
      "cell_type": "markdown",
      "source": "Use the Pandas method <b>read_csv()</b> to load the data from the web address. Set the parameter  \"names\" equal to the Python list \"headers\".\n",
      "metadata": {}
    },
    {
      "cell_type": "code",
      "source": "df = pd.read_csv(filename,low_memory=False, index_col=0)\n#create another data frame, to use in future\nspoiled_df = pd.read_csv(filename,low_memory=False, index_col=0)",
      "metadata": {
        "trusted": true
      },
      "execution_count": 8,
      "outputs": []
    },
    {
      "cell_type": "markdown",
      "source": "Use the method <b>head()</b> to display the first five rows of the dataframe.\n",
      "metadata": {}
    },
    {
      "cell_type": "markdown",
      "source": "<h4>Make some values wrong</h4>\n\nOften dataset is damaged, so lets damage our dataframe to learn how to renew data",
      "metadata": {}
    },
    {
      "cell_type": "code",
      "source": "#Columns to hurt\ncols = ['open', 'rec_count', 'close']\n#We hurt columns one by one\nfor col in cols:\n        #Get random value in range [0,1]\n        m = np.random.rand(len(df))\n        #Set coefficients.\n        l1 = 0.05 # NaN\n        l2 = 0.03 # Text\n        l3 = 0.04 # Negative\n        \n        \n        mask1 = m < l1 # NaN\n        mask2 = (m >= l1) & (m < l1+l2) # Text\n        mask3 = (m >= l1+l2) & (m < l1+l2+l3) # Negative\n        \n        #Change data\n        spoiled_df.loc[mask1, col] = np.NaN\n        spoiled_df.loc[mask2, col] = \"?\"\n        spoiled_df.loc[mask3, col] = spoiled_df.loc[mask3, col]\n",
      "metadata": {
        "trusted": true
      },
      "execution_count": 9,
      "outputs": []
    },
    {
      "cell_type": "code",
      "source": "# To see what the data set looks like, we'll use the head() method.\nspoiled_df.head(50)",
      "metadata": {
        "trusted": true
      },
      "execution_count": 10,
      "outputs": [
        {
          "execution_count": 10,
          "output_type": "execute_result",
          "data": {
            "text/plain": "                     ts   open   high    low  close  volume rec_count  \\\n0   2022-11-11 14:38:00 284.08 284.08 282.31 282.31 2047.23     62.00   \n1   2022-11-11 14:39:00 282.22 282.42 281.61 281.73  791.29     67.00   \n2   2022-11-11 14:40:00 281.73 282.33 281.23 281.71  734.08     60.00   \n3   2022-11-11 14:41:00 281.45 281.61 280.73 281.59 1855.34     66.00   \n4   2022-11-11 14:42:00 281.72 282.25 281.38 281.38 2878.22     61.00   \n5   2022-11-11 14:43:00 281.34 282.17 281.27 281.71  232.52     52.00   \n6   2022-11-11 14:44:00 281.74 282.41 281.74 282.41  225.26     44.00   \n7   2022-11-11 14:45:00 282.54 285.49 282.54 285.48 4273.81     87.00   \n8   2022-11-11 14:46:00 285.98 285.98 284.34 285.94 2158.12     83.00   \n9   2022-11-11 14:47:00 285.97 293.00 285.96 290.49 6091.80    101.00   \n10  2022-11-11 14:48:00 290.60 291.04 287.18 287.99 2636.23     93.00   \n11  2022-11-11 14:49:00 287.90 289.43 287.23 287.71 3050.16         ?   \n12  2022-11-11 14:50:00 287.78 288.25 287.35 288.25 1162.74     72.00   \n13  2022-11-11 14:51:00 288.19 288.19 285.58 285.58 1813.37     78.00   \n14  2022-11-11 14:52:00 285.53 286.21 284.40 285.00 1914.52       NaN   \n15  2022-11-11 14:53:00 284.93 284.93 283.70 284.45 1563.93     80.00   \n16  2022-11-11 14:54:00 284.45 285.74 284.45 285.28 1011.07     70.00   \n17  2022-11-11 14:55:00 285.24 285.24 283.72 284.43  778.47     70.00   \n18  2022-11-11 14:56:00    NaN 285.87 284.32 285.80  694.11     73.00   \n19  2022-11-11 14:57:00 285.77 285.83 285.01 285.08 1177.32     67.00   \n20  2022-11-11 14:58:00 285.15 287.60 285.15 287.60 1053.03     73.00   \n21  2022-11-11 14:59:00 287.42 287.64 286.09 286.11 1477.62     71.00   \n22  2022-11-11 15:00:00 286.06 287.62 285.85 287.47 1722.47     87.00   \n23  2022-11-11 15:01:00 287.44 288.00 287.06 287.21  818.09     74.00   \n24  2022-11-11 15:02:00 287.12 287.84 286.33 287.43  391.97     62.00   \n25  2022-11-11 15:03:00 287.42 287.42 286.83 286.93  828.51     54.00   \n26  2022-11-11 15:04:00 286.77 286.99 285.20 285.20  930.14         ?   \n27  2022-11-11 15:05:00 285.18 286.13 284.85 286.11  960.66     55.00   \n28  2022-11-11 15:06:00 286.11 287.02 286.11 286.71  746.45     54.00   \n29  2022-11-11 15:07:00 286.82 286.82 285.84    NaN  291.93     43.00   \n30  2022-11-11 15:08:00 285.99 286.04 285.32 285.54  457.11     57.00   \n31  2022-11-11 15:09:00 285.62 285.78 282.76 282.81 1639.45     70.00   \n32  2022-11-11 15:10:00 282.89 284.35 282.89 283.96  839.60     76.00   \n33  2022-11-11 15:11:00 284.14 284.45 283.47 284.36  542.40     58.00   \n34  2022-11-11 15:12:00 284.37 285.49 284.37 284.55  792.23     64.00   \n35  2022-11-11 15:13:00 284.63 285.22 284.58 285.22  370.04     45.00   \n36  2022-11-11 15:14:00 285.23 286.34 285.06 285.73  902.57     62.00   \n37  2022-11-11 15:15:00 285.77 285.78 284.86 285.34  291.28     54.00   \n38  2022-11-11 15:16:00 285.29 285.78 285.23 285.39  306.03         ?   \n39  2022-11-11 15:17:00 285.36 286.07 285.03 286.07  485.48     56.00   \n40  2022-11-11 15:18:00 286.08 286.08 285.19 285.50  485.22     48.00   \n41  2022-11-11 15:19:00 285.38 285.97 285.38 285.80  133.30     42.00   \n42  2022-11-11 15:20:00 285.80 287.12 285.80    NaN  933.23     69.00   \n43  2022-11-11 15:21:00 286.46 287.22 286.46 286.74  407.59     53.00   \n44  2022-11-11 15:22:00 286.71 287.11 286.51      ?  763.76     50.00   \n45  2022-11-11 15:23:00 287.23 287.41 286.06 286.17  560.85     47.00   \n46  2022-11-11 15:24:00 286.09 286.85 285.98 286.45  407.94     44.00   \n47  2022-11-11 15:25:00 286.43 287.00 285.95 287.00  457.89       NaN   \n48  2022-11-11 15:26:00 287.06 287.36 286.57 286.86  953.62     58.00   \n49  2022-11-11 15:27:00 286.96 287.78 286.96 287.02 1356.26     54.00   \n\n    avg_price  \n0      283.24  \n1      282.08  \n2      281.68  \n3      281.22  \n4      281.91  \n5      281.84  \n6      282.23  \n7      284.17  \n8      285.06  \n9      289.20  \n10     288.62  \n11     288.08  \n12     287.77  \n13     286.63  \n14     285.10  \n15     284.25  \n16     285.20  \n17     284.22  \n18     285.38  \n19     285.28  \n20     286.59  \n21     286.64  \n22     286.88  \n23     287.55  \n24     287.21  \n25     287.04  \n26     286.01  \n27     285.56  \n28     286.80  \n29     286.30  \n30     285.67  \n31     284.10  \n32     283.78  \n33     284.03  \n34     284.95  \n35     284.88  \n36     285.88  \n37     285.27  \n38     285.45  \n39     285.54  \n40     285.58  \n41     285.72  \n42     286.64  \n43     286.82  \n44     286.72  \n45     286.66  \n46     286.38  \n47     286.42  \n48     287.03  \n49     287.49  ",
            "text/html": "<div>\n<style scoped>\n    .dataframe tbody tr th:only-of-type {\n        vertical-align: middle;\n    }\n\n    .dataframe tbody tr th {\n        vertical-align: top;\n    }\n\n    .dataframe thead th {\n        text-align: right;\n    }\n</style>\n<table border=\"1\" class=\"dataframe\">\n  <thead>\n    <tr style=\"text-align: right;\">\n      <th></th>\n      <th>ts</th>\n      <th>open</th>\n      <th>high</th>\n      <th>low</th>\n      <th>close</th>\n      <th>volume</th>\n      <th>rec_count</th>\n      <th>avg_price</th>\n    </tr>\n  </thead>\n  <tbody>\n    <tr>\n      <th>0</th>\n      <td>2022-11-11 14:38:00</td>\n      <td>284.08</td>\n      <td>284.08</td>\n      <td>282.31</td>\n      <td>282.31</td>\n      <td>2047.23</td>\n      <td>62.00</td>\n      <td>283.24</td>\n    </tr>\n    <tr>\n      <th>1</th>\n      <td>2022-11-11 14:39:00</td>\n      <td>282.22</td>\n      <td>282.42</td>\n      <td>281.61</td>\n      <td>281.73</td>\n      <td>791.29</td>\n      <td>67.00</td>\n      <td>282.08</td>\n    </tr>\n    <tr>\n      <th>2</th>\n      <td>2022-11-11 14:40:00</td>\n      <td>281.73</td>\n      <td>282.33</td>\n      <td>281.23</td>\n      <td>281.71</td>\n      <td>734.08</td>\n      <td>60.00</td>\n      <td>281.68</td>\n    </tr>\n    <tr>\n      <th>3</th>\n      <td>2022-11-11 14:41:00</td>\n      <td>281.45</td>\n      <td>281.61</td>\n      <td>280.73</td>\n      <td>281.59</td>\n      <td>1855.34</td>\n      <td>66.00</td>\n      <td>281.22</td>\n    </tr>\n    <tr>\n      <th>4</th>\n      <td>2022-11-11 14:42:00</td>\n      <td>281.72</td>\n      <td>282.25</td>\n      <td>281.38</td>\n      <td>281.38</td>\n      <td>2878.22</td>\n      <td>61.00</td>\n      <td>281.91</td>\n    </tr>\n    <tr>\n      <th>5</th>\n      <td>2022-11-11 14:43:00</td>\n      <td>281.34</td>\n      <td>282.17</td>\n      <td>281.27</td>\n      <td>281.71</td>\n      <td>232.52</td>\n      <td>52.00</td>\n      <td>281.84</td>\n    </tr>\n    <tr>\n      <th>6</th>\n      <td>2022-11-11 14:44:00</td>\n      <td>281.74</td>\n      <td>282.41</td>\n      <td>281.74</td>\n      <td>282.41</td>\n      <td>225.26</td>\n      <td>44.00</td>\n      <td>282.23</td>\n    </tr>\n    <tr>\n      <th>7</th>\n      <td>2022-11-11 14:45:00</td>\n      <td>282.54</td>\n      <td>285.49</td>\n      <td>282.54</td>\n      <td>285.48</td>\n      <td>4273.81</td>\n      <td>87.00</td>\n      <td>284.17</td>\n    </tr>\n    <tr>\n      <th>8</th>\n      <td>2022-11-11 14:46:00</td>\n      <td>285.98</td>\n      <td>285.98</td>\n      <td>284.34</td>\n      <td>285.94</td>\n      <td>2158.12</td>\n      <td>83.00</td>\n      <td>285.06</td>\n    </tr>\n    <tr>\n      <th>9</th>\n      <td>2022-11-11 14:47:00</td>\n      <td>285.97</td>\n      <td>293.00</td>\n      <td>285.96</td>\n      <td>290.49</td>\n      <td>6091.80</td>\n      <td>101.00</td>\n      <td>289.20</td>\n    </tr>\n    <tr>\n      <th>10</th>\n      <td>2022-11-11 14:48:00</td>\n      <td>290.60</td>\n      <td>291.04</td>\n      <td>287.18</td>\n      <td>287.99</td>\n      <td>2636.23</td>\n      <td>93.00</td>\n      <td>288.62</td>\n    </tr>\n    <tr>\n      <th>11</th>\n      <td>2022-11-11 14:49:00</td>\n      <td>287.90</td>\n      <td>289.43</td>\n      <td>287.23</td>\n      <td>287.71</td>\n      <td>3050.16</td>\n      <td>?</td>\n      <td>288.08</td>\n    </tr>\n    <tr>\n      <th>12</th>\n      <td>2022-11-11 14:50:00</td>\n      <td>287.78</td>\n      <td>288.25</td>\n      <td>287.35</td>\n      <td>288.25</td>\n      <td>1162.74</td>\n      <td>72.00</td>\n      <td>287.77</td>\n    </tr>\n    <tr>\n      <th>13</th>\n      <td>2022-11-11 14:51:00</td>\n      <td>288.19</td>\n      <td>288.19</td>\n      <td>285.58</td>\n      <td>285.58</td>\n      <td>1813.37</td>\n      <td>78.00</td>\n      <td>286.63</td>\n    </tr>\n    <tr>\n      <th>14</th>\n      <td>2022-11-11 14:52:00</td>\n      <td>285.53</td>\n      <td>286.21</td>\n      <td>284.40</td>\n      <td>285.00</td>\n      <td>1914.52</td>\n      <td>NaN</td>\n      <td>285.10</td>\n    </tr>\n    <tr>\n      <th>15</th>\n      <td>2022-11-11 14:53:00</td>\n      <td>284.93</td>\n      <td>284.93</td>\n      <td>283.70</td>\n      <td>284.45</td>\n      <td>1563.93</td>\n      <td>80.00</td>\n      <td>284.25</td>\n    </tr>\n    <tr>\n      <th>16</th>\n      <td>2022-11-11 14:54:00</td>\n      <td>284.45</td>\n      <td>285.74</td>\n      <td>284.45</td>\n      <td>285.28</td>\n      <td>1011.07</td>\n      <td>70.00</td>\n      <td>285.20</td>\n    </tr>\n    <tr>\n      <th>17</th>\n      <td>2022-11-11 14:55:00</td>\n      <td>285.24</td>\n      <td>285.24</td>\n      <td>283.72</td>\n      <td>284.43</td>\n      <td>778.47</td>\n      <td>70.00</td>\n      <td>284.22</td>\n    </tr>\n    <tr>\n      <th>18</th>\n      <td>2022-11-11 14:56:00</td>\n      <td>NaN</td>\n      <td>285.87</td>\n      <td>284.32</td>\n      <td>285.80</td>\n      <td>694.11</td>\n      <td>73.00</td>\n      <td>285.38</td>\n    </tr>\n    <tr>\n      <th>19</th>\n      <td>2022-11-11 14:57:00</td>\n      <td>285.77</td>\n      <td>285.83</td>\n      <td>285.01</td>\n      <td>285.08</td>\n      <td>1177.32</td>\n      <td>67.00</td>\n      <td>285.28</td>\n    </tr>\n    <tr>\n      <th>20</th>\n      <td>2022-11-11 14:58:00</td>\n      <td>285.15</td>\n      <td>287.60</td>\n      <td>285.15</td>\n      <td>287.60</td>\n      <td>1053.03</td>\n      <td>73.00</td>\n      <td>286.59</td>\n    </tr>\n    <tr>\n      <th>21</th>\n      <td>2022-11-11 14:59:00</td>\n      <td>287.42</td>\n      <td>287.64</td>\n      <td>286.09</td>\n      <td>286.11</td>\n      <td>1477.62</td>\n      <td>71.00</td>\n      <td>286.64</td>\n    </tr>\n    <tr>\n      <th>22</th>\n      <td>2022-11-11 15:00:00</td>\n      <td>286.06</td>\n      <td>287.62</td>\n      <td>285.85</td>\n      <td>287.47</td>\n      <td>1722.47</td>\n      <td>87.00</td>\n      <td>286.88</td>\n    </tr>\n    <tr>\n      <th>23</th>\n      <td>2022-11-11 15:01:00</td>\n      <td>287.44</td>\n      <td>288.00</td>\n      <td>287.06</td>\n      <td>287.21</td>\n      <td>818.09</td>\n      <td>74.00</td>\n      <td>287.55</td>\n    </tr>\n    <tr>\n      <th>24</th>\n      <td>2022-11-11 15:02:00</td>\n      <td>287.12</td>\n      <td>287.84</td>\n      <td>286.33</td>\n      <td>287.43</td>\n      <td>391.97</td>\n      <td>62.00</td>\n      <td>287.21</td>\n    </tr>\n    <tr>\n      <th>25</th>\n      <td>2022-11-11 15:03:00</td>\n      <td>287.42</td>\n      <td>287.42</td>\n      <td>286.83</td>\n      <td>286.93</td>\n      <td>828.51</td>\n      <td>54.00</td>\n      <td>287.04</td>\n    </tr>\n    <tr>\n      <th>26</th>\n      <td>2022-11-11 15:04:00</td>\n      <td>286.77</td>\n      <td>286.99</td>\n      <td>285.20</td>\n      <td>285.20</td>\n      <td>930.14</td>\n      <td>?</td>\n      <td>286.01</td>\n    </tr>\n    <tr>\n      <th>27</th>\n      <td>2022-11-11 15:05:00</td>\n      <td>285.18</td>\n      <td>286.13</td>\n      <td>284.85</td>\n      <td>286.11</td>\n      <td>960.66</td>\n      <td>55.00</td>\n      <td>285.56</td>\n    </tr>\n    <tr>\n      <th>28</th>\n      <td>2022-11-11 15:06:00</td>\n      <td>286.11</td>\n      <td>287.02</td>\n      <td>286.11</td>\n      <td>286.71</td>\n      <td>746.45</td>\n      <td>54.00</td>\n      <td>286.80</td>\n    </tr>\n    <tr>\n      <th>29</th>\n      <td>2022-11-11 15:07:00</td>\n      <td>286.82</td>\n      <td>286.82</td>\n      <td>285.84</td>\n      <td>NaN</td>\n      <td>291.93</td>\n      <td>43.00</td>\n      <td>286.30</td>\n    </tr>\n    <tr>\n      <th>30</th>\n      <td>2022-11-11 15:08:00</td>\n      <td>285.99</td>\n      <td>286.04</td>\n      <td>285.32</td>\n      <td>285.54</td>\n      <td>457.11</td>\n      <td>57.00</td>\n      <td>285.67</td>\n    </tr>\n    <tr>\n      <th>31</th>\n      <td>2022-11-11 15:09:00</td>\n      <td>285.62</td>\n      <td>285.78</td>\n      <td>282.76</td>\n      <td>282.81</td>\n      <td>1639.45</td>\n      <td>70.00</td>\n      <td>284.10</td>\n    </tr>\n    <tr>\n      <th>32</th>\n      <td>2022-11-11 15:10:00</td>\n      <td>282.89</td>\n      <td>284.35</td>\n      <td>282.89</td>\n      <td>283.96</td>\n      <td>839.60</td>\n      <td>76.00</td>\n      <td>283.78</td>\n    </tr>\n    <tr>\n      <th>33</th>\n      <td>2022-11-11 15:11:00</td>\n      <td>284.14</td>\n      <td>284.45</td>\n      <td>283.47</td>\n      <td>284.36</td>\n      <td>542.40</td>\n      <td>58.00</td>\n      <td>284.03</td>\n    </tr>\n    <tr>\n      <th>34</th>\n      <td>2022-11-11 15:12:00</td>\n      <td>284.37</td>\n      <td>285.49</td>\n      <td>284.37</td>\n      <td>284.55</td>\n      <td>792.23</td>\n      <td>64.00</td>\n      <td>284.95</td>\n    </tr>\n    <tr>\n      <th>35</th>\n      <td>2022-11-11 15:13:00</td>\n      <td>284.63</td>\n      <td>285.22</td>\n      <td>284.58</td>\n      <td>285.22</td>\n      <td>370.04</td>\n      <td>45.00</td>\n      <td>284.88</td>\n    </tr>\n    <tr>\n      <th>36</th>\n      <td>2022-11-11 15:14:00</td>\n      <td>285.23</td>\n      <td>286.34</td>\n      <td>285.06</td>\n      <td>285.73</td>\n      <td>902.57</td>\n      <td>62.00</td>\n      <td>285.88</td>\n    </tr>\n    <tr>\n      <th>37</th>\n      <td>2022-11-11 15:15:00</td>\n      <td>285.77</td>\n      <td>285.78</td>\n      <td>284.86</td>\n      <td>285.34</td>\n      <td>291.28</td>\n      <td>54.00</td>\n      <td>285.27</td>\n    </tr>\n    <tr>\n      <th>38</th>\n      <td>2022-11-11 15:16:00</td>\n      <td>285.29</td>\n      <td>285.78</td>\n      <td>285.23</td>\n      <td>285.39</td>\n      <td>306.03</td>\n      <td>?</td>\n      <td>285.45</td>\n    </tr>\n    <tr>\n      <th>39</th>\n      <td>2022-11-11 15:17:00</td>\n      <td>285.36</td>\n      <td>286.07</td>\n      <td>285.03</td>\n      <td>286.07</td>\n      <td>485.48</td>\n      <td>56.00</td>\n      <td>285.54</td>\n    </tr>\n    <tr>\n      <th>40</th>\n      <td>2022-11-11 15:18:00</td>\n      <td>286.08</td>\n      <td>286.08</td>\n      <td>285.19</td>\n      <td>285.50</td>\n      <td>485.22</td>\n      <td>48.00</td>\n      <td>285.58</td>\n    </tr>\n    <tr>\n      <th>41</th>\n      <td>2022-11-11 15:19:00</td>\n      <td>285.38</td>\n      <td>285.97</td>\n      <td>285.38</td>\n      <td>285.80</td>\n      <td>133.30</td>\n      <td>42.00</td>\n      <td>285.72</td>\n    </tr>\n    <tr>\n      <th>42</th>\n      <td>2022-11-11 15:20:00</td>\n      <td>285.80</td>\n      <td>287.12</td>\n      <td>285.80</td>\n      <td>NaN</td>\n      <td>933.23</td>\n      <td>69.00</td>\n      <td>286.64</td>\n    </tr>\n    <tr>\n      <th>43</th>\n      <td>2022-11-11 15:21:00</td>\n      <td>286.46</td>\n      <td>287.22</td>\n      <td>286.46</td>\n      <td>286.74</td>\n      <td>407.59</td>\n      <td>53.00</td>\n      <td>286.82</td>\n    </tr>\n    <tr>\n      <th>44</th>\n      <td>2022-11-11 15:22:00</td>\n      <td>286.71</td>\n      <td>287.11</td>\n      <td>286.51</td>\n      <td>?</td>\n      <td>763.76</td>\n      <td>50.00</td>\n      <td>286.72</td>\n    </tr>\n    <tr>\n      <th>45</th>\n      <td>2022-11-11 15:23:00</td>\n      <td>287.23</td>\n      <td>287.41</td>\n      <td>286.06</td>\n      <td>286.17</td>\n      <td>560.85</td>\n      <td>47.00</td>\n      <td>286.66</td>\n    </tr>\n    <tr>\n      <th>46</th>\n      <td>2022-11-11 15:24:00</td>\n      <td>286.09</td>\n      <td>286.85</td>\n      <td>285.98</td>\n      <td>286.45</td>\n      <td>407.94</td>\n      <td>44.00</td>\n      <td>286.38</td>\n    </tr>\n    <tr>\n      <th>47</th>\n      <td>2022-11-11 15:25:00</td>\n      <td>286.43</td>\n      <td>287.00</td>\n      <td>285.95</td>\n      <td>287.00</td>\n      <td>457.89</td>\n      <td>NaN</td>\n      <td>286.42</td>\n    </tr>\n    <tr>\n      <th>48</th>\n      <td>2022-11-11 15:26:00</td>\n      <td>287.06</td>\n      <td>287.36</td>\n      <td>286.57</td>\n      <td>286.86</td>\n      <td>953.62</td>\n      <td>58.00</td>\n      <td>287.03</td>\n    </tr>\n    <tr>\n      <th>49</th>\n      <td>2022-11-11 15:27:00</td>\n      <td>286.96</td>\n      <td>287.78</td>\n      <td>286.96</td>\n      <td>287.02</td>\n      <td>1356.26</td>\n      <td>54.00</td>\n      <td>287.49</td>\n    </tr>\n  </tbody>\n</table>\n</div>"
          },
          "metadata": {}
        }
      ]
    },
    {
      "cell_type": "markdown",
      "source": "As we can see, several question marks appeared in the dataframe; those are missing values which may hinder our further analysis.\n\n<div>So, how do we identify all those missing values and deal with them?</div> \n\n<b>How to work with missing data?</b>\n\nSteps for working with missing data:\n\n<ol>\n    <li>Identify missing data</li>\n    <li>Deal with missing data</li>\n    <li>Correct data format</li>\n</ol>\n",
      "metadata": {}
    },
    {
      "cell_type": "markdown",
      "source": "<h2 id=\"identify_handle_missing_values\">Identify and handle missing values</h2>\n\n<h3 id=\"identify_missing_values\">Identify missing values</h3>\n<h4>Convert \"?\" to NaN</h4>\nIn the our dataset, missing data comes with the question mark \"?\", negative values and NaN(Not a Number).\nWe replace \"?\" and negative values by NaN, Python's default missing value marker for reasons of computational speed and convenience. Here we use the function: \n <pre>.replace(A, B, inplace = True) </pre>\nto replace A by B.\n",
      "metadata": {}
    },
    {
      "cell_type": "code",
      "source": "import numpy as np\n\n# replace \"?\" with NaN\nspoiled_df.replace(\"?\", np.nan, inplace = True)\n\n# replace negative values with NaN\nnum = df._get_numeric_data()\nnum[num < 0] = np.nan\n\n#Lets see our result\nspoiled_df.head(50)",
      "metadata": {
        "trusted": true
      },
      "execution_count": 48,
      "outputs": [
        {
          "execution_count": 48,
          "output_type": "execute_result",
          "data": {
            "text/plain": "                    ts   open  high  low  close  volume  rec_count  avg_price  \\\n0  2022-11-11 14:38:00 284.08  0.89 0.89 282.31 2047.23         62     283.24   \n1  2022-11-11 14:39:00 282.22  0.89 0.89 281.73  791.29         67     282.08   \n2  2022-11-11 14:40:00 281.73  0.89 0.89 281.71  734.08         60     281.68   \n3  2022-11-11 14:41:00 281.45  0.89 0.89 281.59 1855.34         66     281.22   \n4  2022-11-11 14:42:00 281.72  0.89 0.89 281.38 2878.22         61     281.91   \n5  2022-11-11 14:43:00 281.34  0.89 0.89 281.71  232.52         52     281.84   \n6  2022-11-11 14:44:00 281.74  0.89 0.89 282.41  225.26         44     282.23   \n7  2022-11-11 14:45:00 282.54  0.90 0.89 285.48 4273.81         87     284.17   \n8  2022-11-11 14:46:00 285.98  0.90 0.90 285.94 2158.12         83     285.06   \n9  2022-11-11 14:47:00 285.97  0.92 0.90 290.49 6091.80        101     289.20   \n10 2022-11-11 14:48:00 290.60  0.92 0.91 287.99 2636.23         93     288.62   \n11 2022-11-11 14:49:00 287.90  0.91 0.91 287.71 3050.16         19     288.08   \n12 2022-11-11 14:50:00 287.78  0.91 0.91 288.25 1162.74         72     287.77   \n13 2022-11-11 14:51:00 288.19  0.91 0.90 285.58 1813.37         78     286.63   \n14 2022-11-11 14:52:00 285.53  0.90 0.90 285.00 1914.52         19     285.10   \n15 2022-11-11 14:53:00 284.93  0.90 0.90 284.45 1563.93         80     284.25   \n16 2022-11-11 14:54:00 284.45  0.90 0.90 285.28 1011.07         70     285.20   \n17 2022-11-11 14:55:00 285.24  0.90 0.90 284.43  778.47         70     284.22   \n18 2022-11-11 14:56:00 285.50  0.90 0.90 285.80  694.11         73     285.38   \n19 2022-11-11 14:57:00 285.77  0.90 0.90 285.08 1177.32         67     285.28   \n20 2022-11-11 14:58:00 285.15  0.91 0.90 287.60 1053.03         73     286.59   \n21 2022-11-11 14:59:00 287.42  0.91 0.90 286.11 1477.62         71     286.64   \n22 2022-11-11 15:00:00 286.06  0.91 0.90 287.47 1722.47         87     286.88   \n23 2022-11-11 15:01:00 287.44  0.91 0.91 287.21  818.09         74     287.55   \n24 2022-11-11 15:02:00 287.12  0.91 0.90 287.43  391.97         62     287.21   \n25 2022-11-11 15:03:00 287.42  0.90 0.91 286.93  828.51         54     287.04   \n26 2022-11-11 15:04:00 286.77  0.90 0.90 285.20  930.14         19     286.01   \n27 2022-11-11 15:05:00 285.18  0.90 0.90 286.11  960.66         55     285.56   \n28 2022-11-11 15:06:00 286.11  0.90 0.90 286.71  746.45         54     286.80   \n29 2022-11-11 15:07:00 286.82  0.90 0.90 286.12  291.93         43     286.30   \n30 2022-11-11 15:08:00 285.99  0.90 0.90 285.54  457.11         57     285.67   \n31 2022-11-11 15:09:00 285.62  0.90 0.89 282.81 1639.45         70     284.10   \n32 2022-11-11 15:10:00 282.89  0.90 0.89 283.96  839.60         76     283.78   \n33 2022-11-11 15:11:00 284.14  0.90 0.90 284.36  542.40         58     284.03   \n34 2022-11-11 15:12:00 284.37  0.90 0.90 284.55  792.23         64     284.95   \n35 2022-11-11 15:13:00 284.63  0.90 0.90 285.22  370.04         45     284.88   \n36 2022-11-11 15:14:00 285.23  0.90 0.90 285.73  902.57         62     285.88   \n37 2022-11-11 15:15:00 285.77  0.90 0.90 285.34  291.28         54     285.27   \n38 2022-11-11 15:16:00 285.29  0.90 0.90 285.39  306.03         19     285.45   \n39 2022-11-11 15:17:00 285.36  0.90 0.90 286.07  485.48         56     285.54   \n40 2022-11-11 15:18:00 286.08  0.90 0.90 285.50  485.22         48     285.58   \n41 2022-11-11 15:19:00 285.38  0.90 0.90 285.80  133.30         42     285.72   \n42 2022-11-11 15:20:00 285.80  0.90 0.90 286.27  933.23         69     286.64   \n43 2022-11-11 15:21:00 286.46  0.90 0.90 286.74  407.59         53     286.82   \n44 2022-11-11 15:22:00 286.71  0.90 0.90 286.46  763.76         50     286.72   \n45 2022-11-11 15:23:00 287.23  0.90 0.90 286.17  560.85         47     286.66   \n46 2022-11-11 15:24:00 286.09  0.90 0.90 286.45  407.94         44     286.38   \n47 2022-11-11 15:25:00 286.43  0.90 0.90 287.00  457.89         19     286.42   \n48 2022-11-11 15:26:00 287.06  0.90 0.91 286.86  953.62         58     287.03   \n49 2022-11-11 15:27:00 286.96  0.91 0.91 287.02 1356.26         54     287.49   \n\n    open_USDT  high_USDT close-binned  \n0    88775.00   88775.00       Medium  \n1    88193.75   88256.25       Medium  \n2    88040.62   88228.12       Medium  \n3    87953.12   88003.12       Medium  \n4    88037.50   88203.12       Medium  \n5    87918.75   88178.12       Medium  \n6    88043.75   88253.12       Medium  \n7    88293.75   89215.62         High  \n8    89368.75   89368.75         High  \n9    89365.62   91562.50         High  \n10   90812.50   90950.00         High  \n11   89968.75   90446.88         High  \n12   89931.25   90078.12         High  \n13   90059.38   90059.38         High  \n14   89228.12   89440.62         High  \n15   89040.62   89040.62       Medium  \n16   88890.62   89293.75         High  \n17   89137.50   89137.50       Medium  \n18   89220.31   89334.38         High  \n19   89303.12   89321.87         High  \n20   89109.37   89875.00         High  \n21   89818.75   89887.50         High  \n22   89393.75   89881.25         High  \n23   89825.00   90000.00         High  \n24   89725.00   89950.00         High  \n25   89818.75   89818.75         High  \n26   89615.62   89684.38         High  \n27   89118.75   89415.62         High  \n28   89409.38   89693.75         High  \n29   89631.25   89631.25         High  \n30   89371.88   89387.50         High  \n31   89256.25   89306.25       Medium  \n32   88403.12   88859.38       Medium  \n33   88793.75   88890.62       Medium  \n34   88865.62   89215.62       Medium  \n35   88946.88   89131.25         High  \n36   89134.38   89481.25         High  \n37   89303.12   89306.25         High  \n38   89153.12   89306.25         High  \n39   89175.00   89396.88         High  \n40   89400.00   89400.00         High  \n41   89181.25   89365.62         High  \n42   89312.50   89725.00         High  \n43   89518.75   89756.25         High  \n44   89596.87   89721.88         High  \n45   89759.38   89815.62         High  \n46   89403.12   89640.62         High  \n47   89509.38   89687.50         High  \n48   89706.25   89800.00         High  \n49   89675.00   89931.25         High  ",
            "text/html": "<div>\n<style scoped>\n    .dataframe tbody tr th:only-of-type {\n        vertical-align: middle;\n    }\n\n    .dataframe tbody tr th {\n        vertical-align: top;\n    }\n\n    .dataframe thead th {\n        text-align: right;\n    }\n</style>\n<table border=\"1\" class=\"dataframe\">\n  <thead>\n    <tr style=\"text-align: right;\">\n      <th></th>\n      <th>ts</th>\n      <th>open</th>\n      <th>high</th>\n      <th>low</th>\n      <th>close</th>\n      <th>volume</th>\n      <th>rec_count</th>\n      <th>avg_price</th>\n      <th>open_USDT</th>\n      <th>high_USDT</th>\n      <th>close-binned</th>\n    </tr>\n  </thead>\n  <tbody>\n    <tr>\n      <th>0</th>\n      <td>2022-11-11 14:38:00</td>\n      <td>284.08</td>\n      <td>0.89</td>\n      <td>0.89</td>\n      <td>282.31</td>\n      <td>2047.23</td>\n      <td>62</td>\n      <td>283.24</td>\n      <td>88775.00</td>\n      <td>88775.00</td>\n      <td>Medium</td>\n    </tr>\n    <tr>\n      <th>1</th>\n      <td>2022-11-11 14:39:00</td>\n      <td>282.22</td>\n      <td>0.89</td>\n      <td>0.89</td>\n      <td>281.73</td>\n      <td>791.29</td>\n      <td>67</td>\n      <td>282.08</td>\n      <td>88193.75</td>\n      <td>88256.25</td>\n      <td>Medium</td>\n    </tr>\n    <tr>\n      <th>2</th>\n      <td>2022-11-11 14:40:00</td>\n      <td>281.73</td>\n      <td>0.89</td>\n      <td>0.89</td>\n      <td>281.71</td>\n      <td>734.08</td>\n      <td>60</td>\n      <td>281.68</td>\n      <td>88040.62</td>\n      <td>88228.12</td>\n      <td>Medium</td>\n    </tr>\n    <tr>\n      <th>3</th>\n      <td>2022-11-11 14:41:00</td>\n      <td>281.45</td>\n      <td>0.89</td>\n      <td>0.89</td>\n      <td>281.59</td>\n      <td>1855.34</td>\n      <td>66</td>\n      <td>281.22</td>\n      <td>87953.12</td>\n      <td>88003.12</td>\n      <td>Medium</td>\n    </tr>\n    <tr>\n      <th>4</th>\n      <td>2022-11-11 14:42:00</td>\n      <td>281.72</td>\n      <td>0.89</td>\n      <td>0.89</td>\n      <td>281.38</td>\n      <td>2878.22</td>\n      <td>61</td>\n      <td>281.91</td>\n      <td>88037.50</td>\n      <td>88203.12</td>\n      <td>Medium</td>\n    </tr>\n    <tr>\n      <th>5</th>\n      <td>2022-11-11 14:43:00</td>\n      <td>281.34</td>\n      <td>0.89</td>\n      <td>0.89</td>\n      <td>281.71</td>\n      <td>232.52</td>\n      <td>52</td>\n      <td>281.84</td>\n      <td>87918.75</td>\n      <td>88178.12</td>\n      <td>Medium</td>\n    </tr>\n    <tr>\n      <th>6</th>\n      <td>2022-11-11 14:44:00</td>\n      <td>281.74</td>\n      <td>0.89</td>\n      <td>0.89</td>\n      <td>282.41</td>\n      <td>225.26</td>\n      <td>44</td>\n      <td>282.23</td>\n      <td>88043.75</td>\n      <td>88253.12</td>\n      <td>Medium</td>\n    </tr>\n    <tr>\n      <th>7</th>\n      <td>2022-11-11 14:45:00</td>\n      <td>282.54</td>\n      <td>0.90</td>\n      <td>0.89</td>\n      <td>285.48</td>\n      <td>4273.81</td>\n      <td>87</td>\n      <td>284.17</td>\n      <td>88293.75</td>\n      <td>89215.62</td>\n      <td>High</td>\n    </tr>\n    <tr>\n      <th>8</th>\n      <td>2022-11-11 14:46:00</td>\n      <td>285.98</td>\n      <td>0.90</td>\n      <td>0.90</td>\n      <td>285.94</td>\n      <td>2158.12</td>\n      <td>83</td>\n      <td>285.06</td>\n      <td>89368.75</td>\n      <td>89368.75</td>\n      <td>High</td>\n    </tr>\n    <tr>\n      <th>9</th>\n      <td>2022-11-11 14:47:00</td>\n      <td>285.97</td>\n      <td>0.92</td>\n      <td>0.90</td>\n      <td>290.49</td>\n      <td>6091.80</td>\n      <td>101</td>\n      <td>289.20</td>\n      <td>89365.62</td>\n      <td>91562.50</td>\n      <td>High</td>\n    </tr>\n    <tr>\n      <th>10</th>\n      <td>2022-11-11 14:48:00</td>\n      <td>290.60</td>\n      <td>0.92</td>\n      <td>0.91</td>\n      <td>287.99</td>\n      <td>2636.23</td>\n      <td>93</td>\n      <td>288.62</td>\n      <td>90812.50</td>\n      <td>90950.00</td>\n      <td>High</td>\n    </tr>\n    <tr>\n      <th>11</th>\n      <td>2022-11-11 14:49:00</td>\n      <td>287.90</td>\n      <td>0.91</td>\n      <td>0.91</td>\n      <td>287.71</td>\n      <td>3050.16</td>\n      <td>19</td>\n      <td>288.08</td>\n      <td>89968.75</td>\n      <td>90446.88</td>\n      <td>High</td>\n    </tr>\n    <tr>\n      <th>12</th>\n      <td>2022-11-11 14:50:00</td>\n      <td>287.78</td>\n      <td>0.91</td>\n      <td>0.91</td>\n      <td>288.25</td>\n      <td>1162.74</td>\n      <td>72</td>\n      <td>287.77</td>\n      <td>89931.25</td>\n      <td>90078.12</td>\n      <td>High</td>\n    </tr>\n    <tr>\n      <th>13</th>\n      <td>2022-11-11 14:51:00</td>\n      <td>288.19</td>\n      <td>0.91</td>\n      <td>0.90</td>\n      <td>285.58</td>\n      <td>1813.37</td>\n      <td>78</td>\n      <td>286.63</td>\n      <td>90059.38</td>\n      <td>90059.38</td>\n      <td>High</td>\n    </tr>\n    <tr>\n      <th>14</th>\n      <td>2022-11-11 14:52:00</td>\n      <td>285.53</td>\n      <td>0.90</td>\n      <td>0.90</td>\n      <td>285.00</td>\n      <td>1914.52</td>\n      <td>19</td>\n      <td>285.10</td>\n      <td>89228.12</td>\n      <td>89440.62</td>\n      <td>High</td>\n    </tr>\n    <tr>\n      <th>15</th>\n      <td>2022-11-11 14:53:00</td>\n      <td>284.93</td>\n      <td>0.90</td>\n      <td>0.90</td>\n      <td>284.45</td>\n      <td>1563.93</td>\n      <td>80</td>\n      <td>284.25</td>\n      <td>89040.62</td>\n      <td>89040.62</td>\n      <td>Medium</td>\n    </tr>\n    <tr>\n      <th>16</th>\n      <td>2022-11-11 14:54:00</td>\n      <td>284.45</td>\n      <td>0.90</td>\n      <td>0.90</td>\n      <td>285.28</td>\n      <td>1011.07</td>\n      <td>70</td>\n      <td>285.20</td>\n      <td>88890.62</td>\n      <td>89293.75</td>\n      <td>High</td>\n    </tr>\n    <tr>\n      <th>17</th>\n      <td>2022-11-11 14:55:00</td>\n      <td>285.24</td>\n      <td>0.90</td>\n      <td>0.90</td>\n      <td>284.43</td>\n      <td>778.47</td>\n      <td>70</td>\n      <td>284.22</td>\n      <td>89137.50</td>\n      <td>89137.50</td>\n      <td>Medium</td>\n    </tr>\n    <tr>\n      <th>18</th>\n      <td>2022-11-11 14:56:00</td>\n      <td>285.50</td>\n      <td>0.90</td>\n      <td>0.90</td>\n      <td>285.80</td>\n      <td>694.11</td>\n      <td>73</td>\n      <td>285.38</td>\n      <td>89220.31</td>\n      <td>89334.38</td>\n      <td>High</td>\n    </tr>\n    <tr>\n      <th>19</th>\n      <td>2022-11-11 14:57:00</td>\n      <td>285.77</td>\n      <td>0.90</td>\n      <td>0.90</td>\n      <td>285.08</td>\n      <td>1177.32</td>\n      <td>67</td>\n      <td>285.28</td>\n      <td>89303.12</td>\n      <td>89321.87</td>\n      <td>High</td>\n    </tr>\n    <tr>\n      <th>20</th>\n      <td>2022-11-11 14:58:00</td>\n      <td>285.15</td>\n      <td>0.91</td>\n      <td>0.90</td>\n      <td>287.60</td>\n      <td>1053.03</td>\n      <td>73</td>\n      <td>286.59</td>\n      <td>89109.37</td>\n      <td>89875.00</td>\n      <td>High</td>\n    </tr>\n    <tr>\n      <th>21</th>\n      <td>2022-11-11 14:59:00</td>\n      <td>287.42</td>\n      <td>0.91</td>\n      <td>0.90</td>\n      <td>286.11</td>\n      <td>1477.62</td>\n      <td>71</td>\n      <td>286.64</td>\n      <td>89818.75</td>\n      <td>89887.50</td>\n      <td>High</td>\n    </tr>\n    <tr>\n      <th>22</th>\n      <td>2022-11-11 15:00:00</td>\n      <td>286.06</td>\n      <td>0.91</td>\n      <td>0.90</td>\n      <td>287.47</td>\n      <td>1722.47</td>\n      <td>87</td>\n      <td>286.88</td>\n      <td>89393.75</td>\n      <td>89881.25</td>\n      <td>High</td>\n    </tr>\n    <tr>\n      <th>23</th>\n      <td>2022-11-11 15:01:00</td>\n      <td>287.44</td>\n      <td>0.91</td>\n      <td>0.91</td>\n      <td>287.21</td>\n      <td>818.09</td>\n      <td>74</td>\n      <td>287.55</td>\n      <td>89825.00</td>\n      <td>90000.00</td>\n      <td>High</td>\n    </tr>\n    <tr>\n      <th>24</th>\n      <td>2022-11-11 15:02:00</td>\n      <td>287.12</td>\n      <td>0.91</td>\n      <td>0.90</td>\n      <td>287.43</td>\n      <td>391.97</td>\n      <td>62</td>\n      <td>287.21</td>\n      <td>89725.00</td>\n      <td>89950.00</td>\n      <td>High</td>\n    </tr>\n    <tr>\n      <th>25</th>\n      <td>2022-11-11 15:03:00</td>\n      <td>287.42</td>\n      <td>0.90</td>\n      <td>0.91</td>\n      <td>286.93</td>\n      <td>828.51</td>\n      <td>54</td>\n      <td>287.04</td>\n      <td>89818.75</td>\n      <td>89818.75</td>\n      <td>High</td>\n    </tr>\n    <tr>\n      <th>26</th>\n      <td>2022-11-11 15:04:00</td>\n      <td>286.77</td>\n      <td>0.90</td>\n      <td>0.90</td>\n      <td>285.20</td>\n      <td>930.14</td>\n      <td>19</td>\n      <td>286.01</td>\n      <td>89615.62</td>\n      <td>89684.38</td>\n      <td>High</td>\n    </tr>\n    <tr>\n      <th>27</th>\n      <td>2022-11-11 15:05:00</td>\n      <td>285.18</td>\n      <td>0.90</td>\n      <td>0.90</td>\n      <td>286.11</td>\n      <td>960.66</td>\n      <td>55</td>\n      <td>285.56</td>\n      <td>89118.75</td>\n      <td>89415.62</td>\n      <td>High</td>\n    </tr>\n    <tr>\n      <th>28</th>\n      <td>2022-11-11 15:06:00</td>\n      <td>286.11</td>\n      <td>0.90</td>\n      <td>0.90</td>\n      <td>286.71</td>\n      <td>746.45</td>\n      <td>54</td>\n      <td>286.80</td>\n      <td>89409.38</td>\n      <td>89693.75</td>\n      <td>High</td>\n    </tr>\n    <tr>\n      <th>29</th>\n      <td>2022-11-11 15:07:00</td>\n      <td>286.82</td>\n      <td>0.90</td>\n      <td>0.90</td>\n      <td>286.12</td>\n      <td>291.93</td>\n      <td>43</td>\n      <td>286.30</td>\n      <td>89631.25</td>\n      <td>89631.25</td>\n      <td>High</td>\n    </tr>\n    <tr>\n      <th>30</th>\n      <td>2022-11-11 15:08:00</td>\n      <td>285.99</td>\n      <td>0.90</td>\n      <td>0.90</td>\n      <td>285.54</td>\n      <td>457.11</td>\n      <td>57</td>\n      <td>285.67</td>\n      <td>89371.88</td>\n      <td>89387.50</td>\n      <td>High</td>\n    </tr>\n    <tr>\n      <th>31</th>\n      <td>2022-11-11 15:09:00</td>\n      <td>285.62</td>\n      <td>0.90</td>\n      <td>0.89</td>\n      <td>282.81</td>\n      <td>1639.45</td>\n      <td>70</td>\n      <td>284.10</td>\n      <td>89256.25</td>\n      <td>89306.25</td>\n      <td>Medium</td>\n    </tr>\n    <tr>\n      <th>32</th>\n      <td>2022-11-11 15:10:00</td>\n      <td>282.89</td>\n      <td>0.90</td>\n      <td>0.89</td>\n      <td>283.96</td>\n      <td>839.60</td>\n      <td>76</td>\n      <td>283.78</td>\n      <td>88403.12</td>\n      <td>88859.38</td>\n      <td>Medium</td>\n    </tr>\n    <tr>\n      <th>33</th>\n      <td>2022-11-11 15:11:00</td>\n      <td>284.14</td>\n      <td>0.90</td>\n      <td>0.90</td>\n      <td>284.36</td>\n      <td>542.40</td>\n      <td>58</td>\n      <td>284.03</td>\n      <td>88793.75</td>\n      <td>88890.62</td>\n      <td>Medium</td>\n    </tr>\n    <tr>\n      <th>34</th>\n      <td>2022-11-11 15:12:00</td>\n      <td>284.37</td>\n      <td>0.90</td>\n      <td>0.90</td>\n      <td>284.55</td>\n      <td>792.23</td>\n      <td>64</td>\n      <td>284.95</td>\n      <td>88865.62</td>\n      <td>89215.62</td>\n      <td>Medium</td>\n    </tr>\n    <tr>\n      <th>35</th>\n      <td>2022-11-11 15:13:00</td>\n      <td>284.63</td>\n      <td>0.90</td>\n      <td>0.90</td>\n      <td>285.22</td>\n      <td>370.04</td>\n      <td>45</td>\n      <td>284.88</td>\n      <td>88946.88</td>\n      <td>89131.25</td>\n      <td>High</td>\n    </tr>\n    <tr>\n      <th>36</th>\n      <td>2022-11-11 15:14:00</td>\n      <td>285.23</td>\n      <td>0.90</td>\n      <td>0.90</td>\n      <td>285.73</td>\n      <td>902.57</td>\n      <td>62</td>\n      <td>285.88</td>\n      <td>89134.38</td>\n      <td>89481.25</td>\n      <td>High</td>\n    </tr>\n    <tr>\n      <th>37</th>\n      <td>2022-11-11 15:15:00</td>\n      <td>285.77</td>\n      <td>0.90</td>\n      <td>0.90</td>\n      <td>285.34</td>\n      <td>291.28</td>\n      <td>54</td>\n      <td>285.27</td>\n      <td>89303.12</td>\n      <td>89306.25</td>\n      <td>High</td>\n    </tr>\n    <tr>\n      <th>38</th>\n      <td>2022-11-11 15:16:00</td>\n      <td>285.29</td>\n      <td>0.90</td>\n      <td>0.90</td>\n      <td>285.39</td>\n      <td>306.03</td>\n      <td>19</td>\n      <td>285.45</td>\n      <td>89153.12</td>\n      <td>89306.25</td>\n      <td>High</td>\n    </tr>\n    <tr>\n      <th>39</th>\n      <td>2022-11-11 15:17:00</td>\n      <td>285.36</td>\n      <td>0.90</td>\n      <td>0.90</td>\n      <td>286.07</td>\n      <td>485.48</td>\n      <td>56</td>\n      <td>285.54</td>\n      <td>89175.00</td>\n      <td>89396.88</td>\n      <td>High</td>\n    </tr>\n    <tr>\n      <th>40</th>\n      <td>2022-11-11 15:18:00</td>\n      <td>286.08</td>\n      <td>0.90</td>\n      <td>0.90</td>\n      <td>285.50</td>\n      <td>485.22</td>\n      <td>48</td>\n      <td>285.58</td>\n      <td>89400.00</td>\n      <td>89400.00</td>\n      <td>High</td>\n    </tr>\n    <tr>\n      <th>41</th>\n      <td>2022-11-11 15:19:00</td>\n      <td>285.38</td>\n      <td>0.90</td>\n      <td>0.90</td>\n      <td>285.80</td>\n      <td>133.30</td>\n      <td>42</td>\n      <td>285.72</td>\n      <td>89181.25</td>\n      <td>89365.62</td>\n      <td>High</td>\n    </tr>\n    <tr>\n      <th>42</th>\n      <td>2022-11-11 15:20:00</td>\n      <td>285.80</td>\n      <td>0.90</td>\n      <td>0.90</td>\n      <td>286.27</td>\n      <td>933.23</td>\n      <td>69</td>\n      <td>286.64</td>\n      <td>89312.50</td>\n      <td>89725.00</td>\n      <td>High</td>\n    </tr>\n    <tr>\n      <th>43</th>\n      <td>2022-11-11 15:21:00</td>\n      <td>286.46</td>\n      <td>0.90</td>\n      <td>0.90</td>\n      <td>286.74</td>\n      <td>407.59</td>\n      <td>53</td>\n      <td>286.82</td>\n      <td>89518.75</td>\n      <td>89756.25</td>\n      <td>High</td>\n    </tr>\n    <tr>\n      <th>44</th>\n      <td>2022-11-11 15:22:00</td>\n      <td>286.71</td>\n      <td>0.90</td>\n      <td>0.90</td>\n      <td>286.46</td>\n      <td>763.76</td>\n      <td>50</td>\n      <td>286.72</td>\n      <td>89596.87</td>\n      <td>89721.88</td>\n      <td>High</td>\n    </tr>\n    <tr>\n      <th>45</th>\n      <td>2022-11-11 15:23:00</td>\n      <td>287.23</td>\n      <td>0.90</td>\n      <td>0.90</td>\n      <td>286.17</td>\n      <td>560.85</td>\n      <td>47</td>\n      <td>286.66</td>\n      <td>89759.38</td>\n      <td>89815.62</td>\n      <td>High</td>\n    </tr>\n    <tr>\n      <th>46</th>\n      <td>2022-11-11 15:24:00</td>\n      <td>286.09</td>\n      <td>0.90</td>\n      <td>0.90</td>\n      <td>286.45</td>\n      <td>407.94</td>\n      <td>44</td>\n      <td>286.38</td>\n      <td>89403.12</td>\n      <td>89640.62</td>\n      <td>High</td>\n    </tr>\n    <tr>\n      <th>47</th>\n      <td>2022-11-11 15:25:00</td>\n      <td>286.43</td>\n      <td>0.90</td>\n      <td>0.90</td>\n      <td>287.00</td>\n      <td>457.89</td>\n      <td>19</td>\n      <td>286.42</td>\n      <td>89509.38</td>\n      <td>89687.50</td>\n      <td>High</td>\n    </tr>\n    <tr>\n      <th>48</th>\n      <td>2022-11-11 15:26:00</td>\n      <td>287.06</td>\n      <td>0.90</td>\n      <td>0.91</td>\n      <td>286.86</td>\n      <td>953.62</td>\n      <td>58</td>\n      <td>287.03</td>\n      <td>89706.25</td>\n      <td>89800.00</td>\n      <td>High</td>\n    </tr>\n    <tr>\n      <th>49</th>\n      <td>2022-11-11 15:27:00</td>\n      <td>286.96</td>\n      <td>0.91</td>\n      <td>0.91</td>\n      <td>287.02</td>\n      <td>1356.26</td>\n      <td>54</td>\n      <td>287.49</td>\n      <td>89675.00</td>\n      <td>89931.25</td>\n      <td>High</td>\n    </tr>\n  </tbody>\n</table>\n</div>"
          },
          "metadata": {}
        }
      ]
    },
    {
      "cell_type": "markdown",
      "source": "<h4>Evaluating for Missing Data</h4>\n\nThe missing values are converted by default. We use the following functions to identify these missing values. There are two methods to detect missing data:\n\n<ol>\n    <li><b>.isnull()</b></li>\n    <li><b>.notnull()</b></li>\n</ol>\nThe output is a boolean value indicating whether the value that is passed into the argument is in fact missing data.\n",
      "metadata": {}
    },
    {
      "cell_type": "code",
      "source": "missing_data = spoiled_df.isnull()\nmissing_data.head(5)",
      "metadata": {
        "trusted": true
      },
      "execution_count": 12,
      "outputs": [
        {
          "execution_count": 12,
          "output_type": "execute_result",
          "data": {
            "text/plain": "      ts   open   high    low  close  volume  rec_count  avg_price\n0  False  False  False  False  False   False      False      False\n1  False  False  False  False  False   False      False      False\n2  False  False  False  False  False   False      False      False\n3  False  False  False  False  False   False      False      False\n4  False  False  False  False  False   False      False      False",
            "text/html": "<div>\n<style scoped>\n    .dataframe tbody tr th:only-of-type {\n        vertical-align: middle;\n    }\n\n    .dataframe tbody tr th {\n        vertical-align: top;\n    }\n\n    .dataframe thead th {\n        text-align: right;\n    }\n</style>\n<table border=\"1\" class=\"dataframe\">\n  <thead>\n    <tr style=\"text-align: right;\">\n      <th></th>\n      <th>ts</th>\n      <th>open</th>\n      <th>high</th>\n      <th>low</th>\n      <th>close</th>\n      <th>volume</th>\n      <th>rec_count</th>\n      <th>avg_price</th>\n    </tr>\n  </thead>\n  <tbody>\n    <tr>\n      <th>0</th>\n      <td>False</td>\n      <td>False</td>\n      <td>False</td>\n      <td>False</td>\n      <td>False</td>\n      <td>False</td>\n      <td>False</td>\n      <td>False</td>\n    </tr>\n    <tr>\n      <th>1</th>\n      <td>False</td>\n      <td>False</td>\n      <td>False</td>\n      <td>False</td>\n      <td>False</td>\n      <td>False</td>\n      <td>False</td>\n      <td>False</td>\n    </tr>\n    <tr>\n      <th>2</th>\n      <td>False</td>\n      <td>False</td>\n      <td>False</td>\n      <td>False</td>\n      <td>False</td>\n      <td>False</td>\n      <td>False</td>\n      <td>False</td>\n    </tr>\n    <tr>\n      <th>3</th>\n      <td>False</td>\n      <td>False</td>\n      <td>False</td>\n      <td>False</td>\n      <td>False</td>\n      <td>False</td>\n      <td>False</td>\n      <td>False</td>\n    </tr>\n    <tr>\n      <th>4</th>\n      <td>False</td>\n      <td>False</td>\n      <td>False</td>\n      <td>False</td>\n      <td>False</td>\n      <td>False</td>\n      <td>False</td>\n      <td>False</td>\n    </tr>\n  </tbody>\n</table>\n</div>"
          },
          "metadata": {}
        }
      ]
    },
    {
      "cell_type": "markdown",
      "source": "\"True\" means the value is a missing value while \"False\" means the value is not a missing value.\n",
      "metadata": {}
    },
    {
      "cell_type": "markdown",
      "source": "<h4>Count missing values in each column</h4>\n<p>\nUsing a for loop in Python, we can quickly figure out the number of missing values in each column. As mentioned above, \"True\" represents a missing value and \"False\" means the value is present in the dataset.  In the body of the for loop the method \".value_counts()\" counts the number of \"True\" values. \n</p>\n",
      "metadata": {}
    },
    {
      "cell_type": "code",
      "source": "for column in missing_data.columns.values.tolist():\n    print(column)\n    print (missing_data[column].value_counts())\n    print(\"\")    ",
      "metadata": {
        "trusted": true
      },
      "execution_count": 13,
      "outputs": [
        {
          "name": "stdout",
          "text": "ts\nFalse    67212\nName: ts, dtype: int64\n\nopen\nFalse    61864\nTrue      5348\nName: open, dtype: int64\n\nhigh\nFalse    67212\nName: high, dtype: int64\n\nlow\nFalse    67212\nName: low, dtype: int64\n\nclose\nFalse    61765\nTrue      5447\nName: close, dtype: int64\n\nvolume\nFalse    67212\nName: volume, dtype: int64\n\nrec_count\nFalse    62013\nTrue      5199\nName: rec_count, dtype: int64\n\navg_price\nFalse    67212\nName: avg_price, dtype: int64\n\n",
          "output_type": "stream"
        }
      ]
    },
    {
      "cell_type": "markdown",
      "source": "Based on the summary above, each column has 67212 rows of data and seven of the columns containing missing data:\n\n<ol>\n    <li>\"open\": ~5 200 missing data</li>\n    <li>\"close\": ~5 200 missing data</li>\n    <li>\"rec_count\": ~5 200 missing data</li>\n</ol>\n",
      "metadata": {}
    },
    {
      "cell_type": "markdown",
      "source": "<h3 id=\"deal_missing_values\">Deal with missing data</h3>\n<b>How to deal with missing data?</b>\n\n<ol>\n    <li>Drop data<br>\n        a. Drop the whole row<br>\n        b. Drop the whole column\n    </li>\n    <li>Replace data<br>\n        a. Replace it by mean<br>\n        b. Replace it by frequency<br>\n        c. Replace it based on other functions\n    </li>\n</ol>\n",
      "metadata": {}
    },
    {
      "cell_type": "markdown",
      "source": "Whole columns should be dropped only if most entries in the column are empty. In our dataset, none of the columns are empty enough to drop entirely.\nWe have some freedom in choosing which method to replace data; however, some methods may seem more reasonable than others. We will apply each method to many different columns:\n\n<b>Replace by mean:</b>\n\n<ul>\n    <li>\"rec_count\": ~5 200 missing data</li>\n</ul>\n\n<b>Replace by interpolation:</b>\n\n<ul>\n    <li>\"open\": ~5 000 missing data</li>\n    <li>\"close\": ~5 200 missing data</li>\n</ul>\n\n",
      "metadata": {}
    },
    {
      "cell_type": "markdown",
      "source": "<h4>Calculate the mean value for the \"normalized-losses\" column </h4>\n",
      "metadata": {}
    },
    {
      "cell_type": "code",
      "source": "avg_norm_loss = spoiled_df[\"rec_count\"].astype(\"float\").mean(axis=0)\nprint(\"Average of normalized-losses:\", avg_norm_loss)",
      "metadata": {
        "trusted": true
      },
      "execution_count": 14,
      "outputs": [
        {
          "name": "stdout",
          "text": "Average of normalized-losses: 19.99454952993727\n",
          "output_type": "stream"
        }
      ]
    },
    {
      "cell_type": "markdown",
      "source": "<h4>Replace \"NaN\" with mean value in \"normalized-losses\" column</h4>\n",
      "metadata": {}
    },
    {
      "cell_type": "code",
      "source": "spoiled_df[\"rec_count\"].replace(np.nan, avg_norm_loss, inplace=True)\ndf.head(10)",
      "metadata": {
        "trusted": true
      },
      "execution_count": 15,
      "outputs": [
        {
          "execution_count": 15,
          "output_type": "execute_result",
          "data": {
            "text/plain": "                    ts   open   high    low  close  volume  rec_count  \\\n0  2022-11-11 14:38:00 284.08 284.08 282.31 282.31 2047.23         62   \n1  2022-11-11 14:39:00 282.22 282.42 281.61 281.73  791.29         67   \n2  2022-11-11 14:40:00 281.73 282.33 281.23 281.71  734.08         60   \n3  2022-11-11 14:41:00 281.45 281.61 280.73 281.59 1855.34         66   \n4  2022-11-11 14:42:00 281.72 282.25 281.38 281.38 2878.22         61   \n5  2022-11-11 14:43:00 281.34 282.17 281.27 281.71  232.52         52   \n6  2022-11-11 14:44:00 281.74 282.41 281.74 282.41  225.26         44   \n7  2022-11-11 14:45:00 282.54 285.49 282.54 285.48 4273.81         87   \n8  2022-11-11 14:46:00 285.98 285.98 284.34 285.94 2158.12         83   \n9  2022-11-11 14:47:00 285.97 293.00 285.96 290.49 6091.80        101   \n\n   avg_price  \n0     283.24  \n1     282.08  \n2     281.68  \n3     281.22  \n4     281.91  \n5     281.84  \n6     282.23  \n7     284.17  \n8     285.06  \n9     289.20  ",
            "text/html": "<div>\n<style scoped>\n    .dataframe tbody tr th:only-of-type {\n        vertical-align: middle;\n    }\n\n    .dataframe tbody tr th {\n        vertical-align: top;\n    }\n\n    .dataframe thead th {\n        text-align: right;\n    }\n</style>\n<table border=\"1\" class=\"dataframe\">\n  <thead>\n    <tr style=\"text-align: right;\">\n      <th></th>\n      <th>ts</th>\n      <th>open</th>\n      <th>high</th>\n      <th>low</th>\n      <th>close</th>\n      <th>volume</th>\n      <th>rec_count</th>\n      <th>avg_price</th>\n    </tr>\n  </thead>\n  <tbody>\n    <tr>\n      <th>0</th>\n      <td>2022-11-11 14:38:00</td>\n      <td>284.08</td>\n      <td>284.08</td>\n      <td>282.31</td>\n      <td>282.31</td>\n      <td>2047.23</td>\n      <td>62</td>\n      <td>283.24</td>\n    </tr>\n    <tr>\n      <th>1</th>\n      <td>2022-11-11 14:39:00</td>\n      <td>282.22</td>\n      <td>282.42</td>\n      <td>281.61</td>\n      <td>281.73</td>\n      <td>791.29</td>\n      <td>67</td>\n      <td>282.08</td>\n    </tr>\n    <tr>\n      <th>2</th>\n      <td>2022-11-11 14:40:00</td>\n      <td>281.73</td>\n      <td>282.33</td>\n      <td>281.23</td>\n      <td>281.71</td>\n      <td>734.08</td>\n      <td>60</td>\n      <td>281.68</td>\n    </tr>\n    <tr>\n      <th>3</th>\n      <td>2022-11-11 14:41:00</td>\n      <td>281.45</td>\n      <td>281.61</td>\n      <td>280.73</td>\n      <td>281.59</td>\n      <td>1855.34</td>\n      <td>66</td>\n      <td>281.22</td>\n    </tr>\n    <tr>\n      <th>4</th>\n      <td>2022-11-11 14:42:00</td>\n      <td>281.72</td>\n      <td>282.25</td>\n      <td>281.38</td>\n      <td>281.38</td>\n      <td>2878.22</td>\n      <td>61</td>\n      <td>281.91</td>\n    </tr>\n    <tr>\n      <th>5</th>\n      <td>2022-11-11 14:43:00</td>\n      <td>281.34</td>\n      <td>282.17</td>\n      <td>281.27</td>\n      <td>281.71</td>\n      <td>232.52</td>\n      <td>52</td>\n      <td>281.84</td>\n    </tr>\n    <tr>\n      <th>6</th>\n      <td>2022-11-11 14:44:00</td>\n      <td>281.74</td>\n      <td>282.41</td>\n      <td>281.74</td>\n      <td>282.41</td>\n      <td>225.26</td>\n      <td>44</td>\n      <td>282.23</td>\n    </tr>\n    <tr>\n      <th>7</th>\n      <td>2022-11-11 14:45:00</td>\n      <td>282.54</td>\n      <td>285.49</td>\n      <td>282.54</td>\n      <td>285.48</td>\n      <td>4273.81</td>\n      <td>87</td>\n      <td>284.17</td>\n    </tr>\n    <tr>\n      <th>8</th>\n      <td>2022-11-11 14:46:00</td>\n      <td>285.98</td>\n      <td>285.98</td>\n      <td>284.34</td>\n      <td>285.94</td>\n      <td>2158.12</td>\n      <td>83</td>\n      <td>285.06</td>\n    </tr>\n    <tr>\n      <th>9</th>\n      <td>2022-11-11 14:47:00</td>\n      <td>285.97</td>\n      <td>293.00</td>\n      <td>285.96</td>\n      <td>290.49</td>\n      <td>6091.80</td>\n      <td>101</td>\n      <td>289.20</td>\n    </tr>\n  </tbody>\n</table>\n</div>"
          },
          "metadata": {}
        }
      ]
    },
    {
      "cell_type": "markdown",
      "source": "<h4>Fill all NaN in the \"open\" column by interpolating</h4>\nCheck which method is better for our dataset:",
      "metadata": {}
    },
    {
      "cell_type": "code",
      "source": "from sklearn.metrics import mean_squared_error, mean_absolute_percentage_error\n\n# Setting precision\npd.set_option(\"display.precision\", 10)\n# Methods without order\nmethods = [\"linear\", \"nearest\", \"slinear\", \"quadratic\", \"cubic\", \"piecewise_polynomial\", \"pchip\", \"akima\", \"cubicspline\"]\n# Methods with order\norder_methods = [\"spline\", \"polynomial\"]\nperformance = pd.DataFrame({\"name\": [], \"MSE\": [], \"MAPE\": []})\n#test all methods for func 'pabdas.interpolate'\nfor method in methods:\n    #Find all NaN values in spoiled_df['close']\n    nan_rows = spoiled_df[\"close\"].isna()\n    #Renew data with pandas.interpolate(). We use only one method at the same time\n    interpolated_close = spoiled_df[\"close\"].interpolate(method=method)\n    #Calculate squared error between real and renewed data\n    mse = mean_squared_error(df.loc[nan_rows, \"close\"], interpolated_close[nan_rows])\n    #Calculate absolute percentage error between real and renewed data\n    mape = mean_absolute_percentage_error(df.loc[nan_rows, \"close\"], interpolated_close[nan_rows])\n    #Write new data in new data frame \n    performance.loc[len(performance.index)] = [method, mse, mape]\nfor method in order_methods:\n    for order in [3, 5]:\n        # print(f\"method: {method}, order: {order}\")\n        nan_rows = spoiled_df[\"close\"].isna()\n        #Renew data with pandas.interpolate(). We use only one method at the same time\n        interpolated_close = spoiled_df[\"close\"].interpolate(method=method, order=order)\n        #Calculate squared error between real and renewed data\n        mse = mean_squared_error(df.loc[nan_rows, \"close\"], interpolated_close[nan_rows])\n        #Calculate absolute percentage error between real and renewed data\n        mape = mean_absolute_percentage_error(df.loc[nan_rows, \"close\"], interpolated_close[nan_rows])\n        #Write new data in сreated above data frame \n        performance.loc[len(performance.index)] = [f\"{method}_{order}\", mse, mape]\n\n#Sort Data frame from low to high value to see the most usefull method          \nperformance = performance.sort_values(by=[\"MAPE\", \"MSE\"], ascending=True)\n#Convert \"MAPE\" column data to percents\nperformance[\"MAPE\"] = performance[\"MAPE\"] * 100\nperformance[\"MAPE\"] = performance[\"MAPE\"].astype(\"str\") \nperformance[\"MAPE\"] = performance[\"MAPE\"].str.slice(stop=8) + \"%\"\nperformance.head(15)",
      "metadata": {
        "trusted": true
      },
      "execution_count": 16,
      "outputs": [
        {
          "execution_count": 16,
          "output_type": "execute_result",
          "data": {
            "text/plain": "                    name  MSE       MAPE\n2                slinear 0.03  0.038642%\n0                 linear 0.03  0.038642%\n5   piecewise_polynomial 0.03  0.038642%\n6                  pchip 0.03  0.038771%\n7                  akima 0.04  0.039384%\n3              quadratic 0.04  0.043056%\n8            cubicspline 0.04  0.044366%\n4                  cubic 0.04  0.044366%\n11          polynomial_3 0.04  0.044366%\n1                nearest 0.07  0.051634%\n12          polynomial_5 0.06  0.052155%\n9               spline_3 1.01  0.263486%\n10              spline_5 1.05  0.270219%",
            "text/html": "<div>\n<style scoped>\n    .dataframe tbody tr th:only-of-type {\n        vertical-align: middle;\n    }\n\n    .dataframe tbody tr th {\n        vertical-align: top;\n    }\n\n    .dataframe thead th {\n        text-align: right;\n    }\n</style>\n<table border=\"1\" class=\"dataframe\">\n  <thead>\n    <tr style=\"text-align: right;\">\n      <th></th>\n      <th>name</th>\n      <th>MSE</th>\n      <th>MAPE</th>\n    </tr>\n  </thead>\n  <tbody>\n    <tr>\n      <th>2</th>\n      <td>slinear</td>\n      <td>0.03</td>\n      <td>0.038642%</td>\n    </tr>\n    <tr>\n      <th>0</th>\n      <td>linear</td>\n      <td>0.03</td>\n      <td>0.038642%</td>\n    </tr>\n    <tr>\n      <th>5</th>\n      <td>piecewise_polynomial</td>\n      <td>0.03</td>\n      <td>0.038642%</td>\n    </tr>\n    <tr>\n      <th>6</th>\n      <td>pchip</td>\n      <td>0.03</td>\n      <td>0.038771%</td>\n    </tr>\n    <tr>\n      <th>7</th>\n      <td>akima</td>\n      <td>0.04</td>\n      <td>0.039384%</td>\n    </tr>\n    <tr>\n      <th>3</th>\n      <td>quadratic</td>\n      <td>0.04</td>\n      <td>0.043056%</td>\n    </tr>\n    <tr>\n      <th>8</th>\n      <td>cubicspline</td>\n      <td>0.04</td>\n      <td>0.044366%</td>\n    </tr>\n    <tr>\n      <th>4</th>\n      <td>cubic</td>\n      <td>0.04</td>\n      <td>0.044366%</td>\n    </tr>\n    <tr>\n      <th>11</th>\n      <td>polynomial_3</td>\n      <td>0.04</td>\n      <td>0.044366%</td>\n    </tr>\n    <tr>\n      <th>1</th>\n      <td>nearest</td>\n      <td>0.07</td>\n      <td>0.051634%</td>\n    </tr>\n    <tr>\n      <th>12</th>\n      <td>polynomial_5</td>\n      <td>0.06</td>\n      <td>0.052155%</td>\n    </tr>\n    <tr>\n      <th>9</th>\n      <td>spline_3</td>\n      <td>1.01</td>\n      <td>0.263486%</td>\n    </tr>\n    <tr>\n      <th>10</th>\n      <td>spline_5</td>\n      <td>1.05</td>\n      <td>0.270219%</td>\n    </tr>\n  </tbody>\n</table>\n</div>"
          },
          "metadata": {}
        }
      ]
    },
    {
      "cell_type": "markdown",
      "source": "So, 'linear' method is one of the best methods for us, we will use it ",
      "metadata": {}
    },
    {
      "cell_type": "code",
      "source": "#Lets see data before interpolation\nspoiled_df.head(20)",
      "metadata": {
        "trusted": true
      },
      "execution_count": 55,
      "outputs": [
        {
          "execution_count": 55,
          "output_type": "execute_result",
          "data": {
            "text/plain": "                    ts   open  high  low  close  volume  rec_count  avg_price  \\\n0  2022-11-11 14:38:00 284.08  0.89 0.89 282.31 2047.23         62     283.24   \n1  2022-11-11 14:39:00 282.22  0.89 0.89 281.73  791.29         67     282.08   \n2  2022-11-11 14:40:00 281.73  0.89 0.89 281.71  734.08         60     281.68   \n3  2022-11-11 14:41:00 281.45  0.89 0.89 281.59 1855.34         66     281.22   \n4  2022-11-11 14:42:00 281.72  0.89 0.89 281.38 2878.22         61     281.91   \n5  2022-11-11 14:43:00 281.34  0.89 0.89 281.71  232.52         52     281.84   \n6  2022-11-11 14:44:00 281.74  0.89 0.89 282.41  225.26         44     282.23   \n7  2022-11-11 14:45:00 282.54  0.90 0.89 285.48 4273.81         87     284.17   \n8  2022-11-11 14:46:00 285.98  0.90 0.90 285.94 2158.12         83     285.06   \n9  2022-11-11 14:47:00 285.97  0.92 0.90 290.49 6091.80        101     289.20   \n10 2022-11-11 14:48:00 290.60  0.92 0.91 287.99 2636.23         93     288.62   \n11 2022-11-11 14:49:00 287.90  0.91 0.91 287.71 3050.16         19     288.08   \n12 2022-11-11 14:50:00 287.78  0.91 0.91 288.25 1162.74         72     287.77   \n13 2022-11-11 14:51:00 288.19  0.91 0.90 285.58 1813.37         78     286.63   \n14 2022-11-11 14:52:00 285.53  0.90 0.90 285.00 1914.52         19     285.10   \n15 2022-11-11 14:53:00 284.93  0.90 0.90 284.45 1563.93         80     284.25   \n16 2022-11-11 14:54:00 284.45  0.90 0.90 285.28 1011.07         70     285.20   \n17 2022-11-11 14:55:00 285.24  0.90 0.90 284.43  778.47         70     284.22   \n18 2022-11-11 14:56:00 285.50  0.90 0.90 285.80  694.11         73     285.38   \n19 2022-11-11 14:57:00 285.77  0.90 0.90 285.08 1177.32         67     285.28   \n\n    open_USDT  high_USDT close-binned  \n0    88775.00   88775.00       Medium  \n1    88193.75   88256.25       Medium  \n2    88040.62   88228.12       Medium  \n3    87953.12   88003.12       Medium  \n4    88037.50   88203.12       Medium  \n5    87918.75   88178.12       Medium  \n6    88043.75   88253.12       Medium  \n7    88293.75   89215.62         High  \n8    89368.75   89368.75         High  \n9    89365.62   91562.50         High  \n10   90812.50   90950.00         High  \n11   89968.75   90446.88         High  \n12   89931.25   90078.12         High  \n13   90059.38   90059.38         High  \n14   89228.12   89440.62         High  \n15   89040.62   89040.62       Medium  \n16   88890.62   89293.75         High  \n17   89137.50   89137.50       Medium  \n18   89220.31   89334.38         High  \n19   89303.12   89321.87         High  ",
            "text/html": "<div>\n<style scoped>\n    .dataframe tbody tr th:only-of-type {\n        vertical-align: middle;\n    }\n\n    .dataframe tbody tr th {\n        vertical-align: top;\n    }\n\n    .dataframe thead th {\n        text-align: right;\n    }\n</style>\n<table border=\"1\" class=\"dataframe\">\n  <thead>\n    <tr style=\"text-align: right;\">\n      <th></th>\n      <th>ts</th>\n      <th>open</th>\n      <th>high</th>\n      <th>low</th>\n      <th>close</th>\n      <th>volume</th>\n      <th>rec_count</th>\n      <th>avg_price</th>\n      <th>open_USDT</th>\n      <th>high_USDT</th>\n      <th>close-binned</th>\n    </tr>\n  </thead>\n  <tbody>\n    <tr>\n      <th>0</th>\n      <td>2022-11-11 14:38:00</td>\n      <td>284.08</td>\n      <td>0.89</td>\n      <td>0.89</td>\n      <td>282.31</td>\n      <td>2047.23</td>\n      <td>62</td>\n      <td>283.24</td>\n      <td>88775.00</td>\n      <td>88775.00</td>\n      <td>Medium</td>\n    </tr>\n    <tr>\n      <th>1</th>\n      <td>2022-11-11 14:39:00</td>\n      <td>282.22</td>\n      <td>0.89</td>\n      <td>0.89</td>\n      <td>281.73</td>\n      <td>791.29</td>\n      <td>67</td>\n      <td>282.08</td>\n      <td>88193.75</td>\n      <td>88256.25</td>\n      <td>Medium</td>\n    </tr>\n    <tr>\n      <th>2</th>\n      <td>2022-11-11 14:40:00</td>\n      <td>281.73</td>\n      <td>0.89</td>\n      <td>0.89</td>\n      <td>281.71</td>\n      <td>734.08</td>\n      <td>60</td>\n      <td>281.68</td>\n      <td>88040.62</td>\n      <td>88228.12</td>\n      <td>Medium</td>\n    </tr>\n    <tr>\n      <th>3</th>\n      <td>2022-11-11 14:41:00</td>\n      <td>281.45</td>\n      <td>0.89</td>\n      <td>0.89</td>\n      <td>281.59</td>\n      <td>1855.34</td>\n      <td>66</td>\n      <td>281.22</td>\n      <td>87953.12</td>\n      <td>88003.12</td>\n      <td>Medium</td>\n    </tr>\n    <tr>\n      <th>4</th>\n      <td>2022-11-11 14:42:00</td>\n      <td>281.72</td>\n      <td>0.89</td>\n      <td>0.89</td>\n      <td>281.38</td>\n      <td>2878.22</td>\n      <td>61</td>\n      <td>281.91</td>\n      <td>88037.50</td>\n      <td>88203.12</td>\n      <td>Medium</td>\n    </tr>\n    <tr>\n      <th>5</th>\n      <td>2022-11-11 14:43:00</td>\n      <td>281.34</td>\n      <td>0.89</td>\n      <td>0.89</td>\n      <td>281.71</td>\n      <td>232.52</td>\n      <td>52</td>\n      <td>281.84</td>\n      <td>87918.75</td>\n      <td>88178.12</td>\n      <td>Medium</td>\n    </tr>\n    <tr>\n      <th>6</th>\n      <td>2022-11-11 14:44:00</td>\n      <td>281.74</td>\n      <td>0.89</td>\n      <td>0.89</td>\n      <td>282.41</td>\n      <td>225.26</td>\n      <td>44</td>\n      <td>282.23</td>\n      <td>88043.75</td>\n      <td>88253.12</td>\n      <td>Medium</td>\n    </tr>\n    <tr>\n      <th>7</th>\n      <td>2022-11-11 14:45:00</td>\n      <td>282.54</td>\n      <td>0.90</td>\n      <td>0.89</td>\n      <td>285.48</td>\n      <td>4273.81</td>\n      <td>87</td>\n      <td>284.17</td>\n      <td>88293.75</td>\n      <td>89215.62</td>\n      <td>High</td>\n    </tr>\n    <tr>\n      <th>8</th>\n      <td>2022-11-11 14:46:00</td>\n      <td>285.98</td>\n      <td>0.90</td>\n      <td>0.90</td>\n      <td>285.94</td>\n      <td>2158.12</td>\n      <td>83</td>\n      <td>285.06</td>\n      <td>89368.75</td>\n      <td>89368.75</td>\n      <td>High</td>\n    </tr>\n    <tr>\n      <th>9</th>\n      <td>2022-11-11 14:47:00</td>\n      <td>285.97</td>\n      <td>0.92</td>\n      <td>0.90</td>\n      <td>290.49</td>\n      <td>6091.80</td>\n      <td>101</td>\n      <td>289.20</td>\n      <td>89365.62</td>\n      <td>91562.50</td>\n      <td>High</td>\n    </tr>\n    <tr>\n      <th>10</th>\n      <td>2022-11-11 14:48:00</td>\n      <td>290.60</td>\n      <td>0.92</td>\n      <td>0.91</td>\n      <td>287.99</td>\n      <td>2636.23</td>\n      <td>93</td>\n      <td>288.62</td>\n      <td>90812.50</td>\n      <td>90950.00</td>\n      <td>High</td>\n    </tr>\n    <tr>\n      <th>11</th>\n      <td>2022-11-11 14:49:00</td>\n      <td>287.90</td>\n      <td>0.91</td>\n      <td>0.91</td>\n      <td>287.71</td>\n      <td>3050.16</td>\n      <td>19</td>\n      <td>288.08</td>\n      <td>89968.75</td>\n      <td>90446.88</td>\n      <td>High</td>\n    </tr>\n    <tr>\n      <th>12</th>\n      <td>2022-11-11 14:50:00</td>\n      <td>287.78</td>\n      <td>0.91</td>\n      <td>0.91</td>\n      <td>288.25</td>\n      <td>1162.74</td>\n      <td>72</td>\n      <td>287.77</td>\n      <td>89931.25</td>\n      <td>90078.12</td>\n      <td>High</td>\n    </tr>\n    <tr>\n      <th>13</th>\n      <td>2022-11-11 14:51:00</td>\n      <td>288.19</td>\n      <td>0.91</td>\n      <td>0.90</td>\n      <td>285.58</td>\n      <td>1813.37</td>\n      <td>78</td>\n      <td>286.63</td>\n      <td>90059.38</td>\n      <td>90059.38</td>\n      <td>High</td>\n    </tr>\n    <tr>\n      <th>14</th>\n      <td>2022-11-11 14:52:00</td>\n      <td>285.53</td>\n      <td>0.90</td>\n      <td>0.90</td>\n      <td>285.00</td>\n      <td>1914.52</td>\n      <td>19</td>\n      <td>285.10</td>\n      <td>89228.12</td>\n      <td>89440.62</td>\n      <td>High</td>\n    </tr>\n    <tr>\n      <th>15</th>\n      <td>2022-11-11 14:53:00</td>\n      <td>284.93</td>\n      <td>0.90</td>\n      <td>0.90</td>\n      <td>284.45</td>\n      <td>1563.93</td>\n      <td>80</td>\n      <td>284.25</td>\n      <td>89040.62</td>\n      <td>89040.62</td>\n      <td>Medium</td>\n    </tr>\n    <tr>\n      <th>16</th>\n      <td>2022-11-11 14:54:00</td>\n      <td>284.45</td>\n      <td>0.90</td>\n      <td>0.90</td>\n      <td>285.28</td>\n      <td>1011.07</td>\n      <td>70</td>\n      <td>285.20</td>\n      <td>88890.62</td>\n      <td>89293.75</td>\n      <td>High</td>\n    </tr>\n    <tr>\n      <th>17</th>\n      <td>2022-11-11 14:55:00</td>\n      <td>285.24</td>\n      <td>0.90</td>\n      <td>0.90</td>\n      <td>284.43</td>\n      <td>778.47</td>\n      <td>70</td>\n      <td>284.22</td>\n      <td>89137.50</td>\n      <td>89137.50</td>\n      <td>Medium</td>\n    </tr>\n    <tr>\n      <th>18</th>\n      <td>2022-11-11 14:56:00</td>\n      <td>285.50</td>\n      <td>0.90</td>\n      <td>0.90</td>\n      <td>285.80</td>\n      <td>694.11</td>\n      <td>73</td>\n      <td>285.38</td>\n      <td>89220.31</td>\n      <td>89334.38</td>\n      <td>High</td>\n    </tr>\n    <tr>\n      <th>19</th>\n      <td>2022-11-11 14:57:00</td>\n      <td>285.77</td>\n      <td>0.90</td>\n      <td>0.90</td>\n      <td>285.08</td>\n      <td>1177.32</td>\n      <td>67</td>\n      <td>285.28</td>\n      <td>89303.12</td>\n      <td>89321.87</td>\n      <td>High</td>\n    </tr>\n  </tbody>\n</table>\n</div>"
          },
          "metadata": {}
        }
      ]
    },
    {
      "cell_type": "code",
      "source": "spoiled_df['close'] = spoiled_df[\"close\"].interpolate(method='linear')\n\npd.set_option(\"display.precision\", 2)\npd.options.display.float_format = '{:.2f}'.format\n\n#Lets see data after interpolation\nspoiled_df.head(20)",
      "metadata": {
        "trusted": true
      },
      "execution_count": 56,
      "outputs": [
        {
          "execution_count": 56,
          "output_type": "execute_result",
          "data": {
            "text/plain": "                    ts   open  high  low  close  volume  rec_count  avg_price  \\\n0  2022-11-11 14:38:00 284.08  0.89 0.89 282.31 2047.23         62     283.24   \n1  2022-11-11 14:39:00 282.22  0.89 0.89 281.73  791.29         67     282.08   \n2  2022-11-11 14:40:00 281.73  0.89 0.89 281.71  734.08         60     281.68   \n3  2022-11-11 14:41:00 281.45  0.89 0.89 281.59 1855.34         66     281.22   \n4  2022-11-11 14:42:00 281.72  0.89 0.89 281.38 2878.22         61     281.91   \n5  2022-11-11 14:43:00 281.34  0.89 0.89 281.71  232.52         52     281.84   \n6  2022-11-11 14:44:00 281.74  0.89 0.89 282.41  225.26         44     282.23   \n7  2022-11-11 14:45:00 282.54  0.90 0.89 285.48 4273.81         87     284.17   \n8  2022-11-11 14:46:00 285.98  0.90 0.90 285.94 2158.12         83     285.06   \n9  2022-11-11 14:47:00 285.97  0.92 0.90 290.49 6091.80        101     289.20   \n10 2022-11-11 14:48:00 290.60  0.92 0.91 287.99 2636.23         93     288.62   \n11 2022-11-11 14:49:00 287.90  0.91 0.91 287.71 3050.16         19     288.08   \n12 2022-11-11 14:50:00 287.78  0.91 0.91 288.25 1162.74         72     287.77   \n13 2022-11-11 14:51:00 288.19  0.91 0.90 285.58 1813.37         78     286.63   \n14 2022-11-11 14:52:00 285.53  0.90 0.90 285.00 1914.52         19     285.10   \n15 2022-11-11 14:53:00 284.93  0.90 0.90 284.45 1563.93         80     284.25   \n16 2022-11-11 14:54:00 284.45  0.90 0.90 285.28 1011.07         70     285.20   \n17 2022-11-11 14:55:00 285.24  0.90 0.90 284.43  778.47         70     284.22   \n18 2022-11-11 14:56:00 285.50  0.90 0.90 285.80  694.11         73     285.38   \n19 2022-11-11 14:57:00 285.77  0.90 0.90 285.08 1177.32         67     285.28   \n\n    open_USDT  high_USDT close-binned  \n0    88775.00   88775.00       Medium  \n1    88193.75   88256.25       Medium  \n2    88040.62   88228.12       Medium  \n3    87953.12   88003.12       Medium  \n4    88037.50   88203.12       Medium  \n5    87918.75   88178.12       Medium  \n6    88043.75   88253.12       Medium  \n7    88293.75   89215.62         High  \n8    89368.75   89368.75         High  \n9    89365.62   91562.50         High  \n10   90812.50   90950.00         High  \n11   89968.75   90446.88         High  \n12   89931.25   90078.12         High  \n13   90059.38   90059.38         High  \n14   89228.12   89440.62         High  \n15   89040.62   89040.62       Medium  \n16   88890.62   89293.75         High  \n17   89137.50   89137.50       Medium  \n18   89220.31   89334.38         High  \n19   89303.12   89321.87         High  ",
            "text/html": "<div>\n<style scoped>\n    .dataframe tbody tr th:only-of-type {\n        vertical-align: middle;\n    }\n\n    .dataframe tbody tr th {\n        vertical-align: top;\n    }\n\n    .dataframe thead th {\n        text-align: right;\n    }\n</style>\n<table border=\"1\" class=\"dataframe\">\n  <thead>\n    <tr style=\"text-align: right;\">\n      <th></th>\n      <th>ts</th>\n      <th>open</th>\n      <th>high</th>\n      <th>low</th>\n      <th>close</th>\n      <th>volume</th>\n      <th>rec_count</th>\n      <th>avg_price</th>\n      <th>open_USDT</th>\n      <th>high_USDT</th>\n      <th>close-binned</th>\n    </tr>\n  </thead>\n  <tbody>\n    <tr>\n      <th>0</th>\n      <td>2022-11-11 14:38:00</td>\n      <td>284.08</td>\n      <td>0.89</td>\n      <td>0.89</td>\n      <td>282.31</td>\n      <td>2047.23</td>\n      <td>62</td>\n      <td>283.24</td>\n      <td>88775.00</td>\n      <td>88775.00</td>\n      <td>Medium</td>\n    </tr>\n    <tr>\n      <th>1</th>\n      <td>2022-11-11 14:39:00</td>\n      <td>282.22</td>\n      <td>0.89</td>\n      <td>0.89</td>\n      <td>281.73</td>\n      <td>791.29</td>\n      <td>67</td>\n      <td>282.08</td>\n      <td>88193.75</td>\n      <td>88256.25</td>\n      <td>Medium</td>\n    </tr>\n    <tr>\n      <th>2</th>\n      <td>2022-11-11 14:40:00</td>\n      <td>281.73</td>\n      <td>0.89</td>\n      <td>0.89</td>\n      <td>281.71</td>\n      <td>734.08</td>\n      <td>60</td>\n      <td>281.68</td>\n      <td>88040.62</td>\n      <td>88228.12</td>\n      <td>Medium</td>\n    </tr>\n    <tr>\n      <th>3</th>\n      <td>2022-11-11 14:41:00</td>\n      <td>281.45</td>\n      <td>0.89</td>\n      <td>0.89</td>\n      <td>281.59</td>\n      <td>1855.34</td>\n      <td>66</td>\n      <td>281.22</td>\n      <td>87953.12</td>\n      <td>88003.12</td>\n      <td>Medium</td>\n    </tr>\n    <tr>\n      <th>4</th>\n      <td>2022-11-11 14:42:00</td>\n      <td>281.72</td>\n      <td>0.89</td>\n      <td>0.89</td>\n      <td>281.38</td>\n      <td>2878.22</td>\n      <td>61</td>\n      <td>281.91</td>\n      <td>88037.50</td>\n      <td>88203.12</td>\n      <td>Medium</td>\n    </tr>\n    <tr>\n      <th>5</th>\n      <td>2022-11-11 14:43:00</td>\n      <td>281.34</td>\n      <td>0.89</td>\n      <td>0.89</td>\n      <td>281.71</td>\n      <td>232.52</td>\n      <td>52</td>\n      <td>281.84</td>\n      <td>87918.75</td>\n      <td>88178.12</td>\n      <td>Medium</td>\n    </tr>\n    <tr>\n      <th>6</th>\n      <td>2022-11-11 14:44:00</td>\n      <td>281.74</td>\n      <td>0.89</td>\n      <td>0.89</td>\n      <td>282.41</td>\n      <td>225.26</td>\n      <td>44</td>\n      <td>282.23</td>\n      <td>88043.75</td>\n      <td>88253.12</td>\n      <td>Medium</td>\n    </tr>\n    <tr>\n      <th>7</th>\n      <td>2022-11-11 14:45:00</td>\n      <td>282.54</td>\n      <td>0.90</td>\n      <td>0.89</td>\n      <td>285.48</td>\n      <td>4273.81</td>\n      <td>87</td>\n      <td>284.17</td>\n      <td>88293.75</td>\n      <td>89215.62</td>\n      <td>High</td>\n    </tr>\n    <tr>\n      <th>8</th>\n      <td>2022-11-11 14:46:00</td>\n      <td>285.98</td>\n      <td>0.90</td>\n      <td>0.90</td>\n      <td>285.94</td>\n      <td>2158.12</td>\n      <td>83</td>\n      <td>285.06</td>\n      <td>89368.75</td>\n      <td>89368.75</td>\n      <td>High</td>\n    </tr>\n    <tr>\n      <th>9</th>\n      <td>2022-11-11 14:47:00</td>\n      <td>285.97</td>\n      <td>0.92</td>\n      <td>0.90</td>\n      <td>290.49</td>\n      <td>6091.80</td>\n      <td>101</td>\n      <td>289.20</td>\n      <td>89365.62</td>\n      <td>91562.50</td>\n      <td>High</td>\n    </tr>\n    <tr>\n      <th>10</th>\n      <td>2022-11-11 14:48:00</td>\n      <td>290.60</td>\n      <td>0.92</td>\n      <td>0.91</td>\n      <td>287.99</td>\n      <td>2636.23</td>\n      <td>93</td>\n      <td>288.62</td>\n      <td>90812.50</td>\n      <td>90950.00</td>\n      <td>High</td>\n    </tr>\n    <tr>\n      <th>11</th>\n      <td>2022-11-11 14:49:00</td>\n      <td>287.90</td>\n      <td>0.91</td>\n      <td>0.91</td>\n      <td>287.71</td>\n      <td>3050.16</td>\n      <td>19</td>\n      <td>288.08</td>\n      <td>89968.75</td>\n      <td>90446.88</td>\n      <td>High</td>\n    </tr>\n    <tr>\n      <th>12</th>\n      <td>2022-11-11 14:50:00</td>\n      <td>287.78</td>\n      <td>0.91</td>\n      <td>0.91</td>\n      <td>288.25</td>\n      <td>1162.74</td>\n      <td>72</td>\n      <td>287.77</td>\n      <td>89931.25</td>\n      <td>90078.12</td>\n      <td>High</td>\n    </tr>\n    <tr>\n      <th>13</th>\n      <td>2022-11-11 14:51:00</td>\n      <td>288.19</td>\n      <td>0.91</td>\n      <td>0.90</td>\n      <td>285.58</td>\n      <td>1813.37</td>\n      <td>78</td>\n      <td>286.63</td>\n      <td>90059.38</td>\n      <td>90059.38</td>\n      <td>High</td>\n    </tr>\n    <tr>\n      <th>14</th>\n      <td>2022-11-11 14:52:00</td>\n      <td>285.53</td>\n      <td>0.90</td>\n      <td>0.90</td>\n      <td>285.00</td>\n      <td>1914.52</td>\n      <td>19</td>\n      <td>285.10</td>\n      <td>89228.12</td>\n      <td>89440.62</td>\n      <td>High</td>\n    </tr>\n    <tr>\n      <th>15</th>\n      <td>2022-11-11 14:53:00</td>\n      <td>284.93</td>\n      <td>0.90</td>\n      <td>0.90</td>\n      <td>284.45</td>\n      <td>1563.93</td>\n      <td>80</td>\n      <td>284.25</td>\n      <td>89040.62</td>\n      <td>89040.62</td>\n      <td>Medium</td>\n    </tr>\n    <tr>\n      <th>16</th>\n      <td>2022-11-11 14:54:00</td>\n      <td>284.45</td>\n      <td>0.90</td>\n      <td>0.90</td>\n      <td>285.28</td>\n      <td>1011.07</td>\n      <td>70</td>\n      <td>285.20</td>\n      <td>88890.62</td>\n      <td>89293.75</td>\n      <td>High</td>\n    </tr>\n    <tr>\n      <th>17</th>\n      <td>2022-11-11 14:55:00</td>\n      <td>285.24</td>\n      <td>0.90</td>\n      <td>0.90</td>\n      <td>284.43</td>\n      <td>778.47</td>\n      <td>70</td>\n      <td>284.22</td>\n      <td>89137.50</td>\n      <td>89137.50</td>\n      <td>Medium</td>\n    </tr>\n    <tr>\n      <th>18</th>\n      <td>2022-11-11 14:56:00</td>\n      <td>285.50</td>\n      <td>0.90</td>\n      <td>0.90</td>\n      <td>285.80</td>\n      <td>694.11</td>\n      <td>73</td>\n      <td>285.38</td>\n      <td>89220.31</td>\n      <td>89334.38</td>\n      <td>High</td>\n    </tr>\n    <tr>\n      <th>19</th>\n      <td>2022-11-11 14:57:00</td>\n      <td>285.77</td>\n      <td>0.90</td>\n      <td>0.90</td>\n      <td>285.08</td>\n      <td>1177.32</td>\n      <td>67</td>\n      <td>285.28</td>\n      <td>89303.12</td>\n      <td>89321.87</td>\n      <td>High</td>\n    </tr>\n  </tbody>\n</table>\n</div>"
          },
          "metadata": {}
        }
      ]
    },
    {
      "cell_type": "markdown",
      "source": "<div class=\"alert alert-danger alertdanger\" style=\"margin-top: 20px\">\n<h1> Question  #1: </h1>\n\n<b>Based on the example above, interpolate NaN in \"open\" column with linear mehod.</b>\n\n</div>\n",
      "metadata": {
        "tags": []
      }
    },
    {
      "cell_type": "code",
      "source": "# Write your code below and press Shift+Enter to execute ",
      "metadata": {
        "trusted": true
      },
      "execution_count": 19,
      "outputs": []
    },
    {
      "cell_type": "markdown",
      "source": "<details><summary>Click here for the solution</summary>\n\n```python\nspoiled_df['open'] = spoiled_df[\"open\"].interpolate(method='linear')\n```\n\n</details>\n",
      "metadata": {}
    },
    {
      "cell_type": "markdown",
      "source": "To see which values are present in a particular column, we can use the \".value_counts()\" method:\n",
      "metadata": {}
    },
    {
      "cell_type": "code",
      "source": "#We don't need \"Spoiled_df\" any more, because its reneved, lets contain it to our \"df\" dataframe   \ndf = spoiled_df\n\ndf['close'].value_counts()",
      "metadata": {
        "trusted": true
      },
      "execution_count": 20,
      "outputs": [
        {
          "execution_count": 20,
          "output_type": "execute_result",
          "data": {
            "text/plain": "245.91    63\n289.73    56\n290.06    52\n289.90    51\n245.76    50\n          ..\n288.68     1\n288.63     1\n289.00     1\n289.25     1\n246.16     1\nName: close, Length: 10883, dtype: int64"
          },
          "metadata": {}
        }
      ]
    },
    {
      "cell_type": "markdown",
      "source": "We can see that four doors are the most common type. We can also use the \".idxmax()\" method to calculate the most common type automatically:\n",
      "metadata": {}
    },
    {
      "cell_type": "code",
      "source": "df['close'].value_counts().idxmax()",
      "metadata": {
        "trusted": true
      },
      "execution_count": 21,
      "outputs": [
        {
          "execution_count": 21,
          "output_type": "execute_result",
          "data": {
            "text/plain": "245.91"
          },
          "metadata": {}
        }
      ]
    },
    {
      "cell_type": "markdown",
      "source": "Finally, let's drop all rows that do not have price data:\n",
      "metadata": {}
    },
    {
      "cell_type": "code",
      "source": "# simply drop whole row with NaN in \"open\" column\ndf.dropna(subset=[\"open\"], axis=0, inplace=True)\n\n# reset index\ndf.reset_index(drop=True, inplace=True)",
      "metadata": {
        "trusted": true
      },
      "execution_count": 22,
      "outputs": []
    },
    {
      "cell_type": "code",
      "source": "df.head()",
      "metadata": {
        "trusted": true
      },
      "execution_count": 23,
      "outputs": [
        {
          "execution_count": 23,
          "output_type": "execute_result",
          "data": {
            "text/plain": "                    ts   open   high    low  close  volume  rec_count  \\\n0  2022-11-11 14:38:00 284.08 284.08 282.31 282.31 2047.23      62.00   \n1  2022-11-11 14:39:00 282.22 282.42 281.61 281.73  791.29      67.00   \n2  2022-11-11 14:40:00 281.73 282.33 281.23 281.71  734.08      60.00   \n3  2022-11-11 14:41:00 281.45 281.61 280.73 281.59 1855.34      66.00   \n4  2022-11-11 14:42:00 281.72 282.25 281.38 281.38 2878.22      61.00   \n\n   avg_price  \n0     283.24  \n1     282.08  \n2     281.68  \n3     281.22  \n4     281.91  ",
            "text/html": "<div>\n<style scoped>\n    .dataframe tbody tr th:only-of-type {\n        vertical-align: middle;\n    }\n\n    .dataframe tbody tr th {\n        vertical-align: top;\n    }\n\n    .dataframe thead th {\n        text-align: right;\n    }\n</style>\n<table border=\"1\" class=\"dataframe\">\n  <thead>\n    <tr style=\"text-align: right;\">\n      <th></th>\n      <th>ts</th>\n      <th>open</th>\n      <th>high</th>\n      <th>low</th>\n      <th>close</th>\n      <th>volume</th>\n      <th>rec_count</th>\n      <th>avg_price</th>\n    </tr>\n  </thead>\n  <tbody>\n    <tr>\n      <th>0</th>\n      <td>2022-11-11 14:38:00</td>\n      <td>284.08</td>\n      <td>284.08</td>\n      <td>282.31</td>\n      <td>282.31</td>\n      <td>2047.23</td>\n      <td>62.00</td>\n      <td>283.24</td>\n    </tr>\n    <tr>\n      <th>1</th>\n      <td>2022-11-11 14:39:00</td>\n      <td>282.22</td>\n      <td>282.42</td>\n      <td>281.61</td>\n      <td>281.73</td>\n      <td>791.29</td>\n      <td>67.00</td>\n      <td>282.08</td>\n    </tr>\n    <tr>\n      <th>2</th>\n      <td>2022-11-11 14:40:00</td>\n      <td>281.73</td>\n      <td>282.33</td>\n      <td>281.23</td>\n      <td>281.71</td>\n      <td>734.08</td>\n      <td>60.00</td>\n      <td>281.68</td>\n    </tr>\n    <tr>\n      <th>3</th>\n      <td>2022-11-11 14:41:00</td>\n      <td>281.45</td>\n      <td>281.61</td>\n      <td>280.73</td>\n      <td>281.59</td>\n      <td>1855.34</td>\n      <td>66.00</td>\n      <td>281.22</td>\n    </tr>\n    <tr>\n      <th>4</th>\n      <td>2022-11-11 14:42:00</td>\n      <td>281.72</td>\n      <td>282.25</td>\n      <td>281.38</td>\n      <td>281.38</td>\n      <td>2878.22</td>\n      <td>61.00</td>\n      <td>281.91</td>\n    </tr>\n  </tbody>\n</table>\n</div>"
          },
          "metadata": {}
        }
      ]
    },
    {
      "cell_type": "markdown",
      "source": "<b>Good!</b> Now, we have a dataset with no missing values.\n",
      "metadata": {}
    },
    {
      "cell_type": "markdown",
      "source": "<h3 id=\"correct_data_format\">Correct data format</h3>\n<b>We are almost there!</b>\n<p>The last step in data cleaning is checking and making sure that all data is in the correct format (int, float, text or other).</p>\n\nIn Pandas, we use:\n\n<p><b>.dtype()</b> to check the data type</p>\n<p><b>.astype()</b> to change the data type</p>\n",
      "metadata": {}
    },
    {
      "cell_type": "markdown",
      "source": "<h4>Let's list the data types for each column</h4>\n",
      "metadata": {}
    },
    {
      "cell_type": "code",
      "source": "df.dtypes",
      "metadata": {
        "trusted": true
      },
      "execution_count": 24,
      "outputs": [
        {
          "execution_count": 24,
          "output_type": "execute_result",
          "data": {
            "text/plain": "ts            object\nopen         float64\nhigh         float64\nlow          float64\nclose        float64\nvolume       float64\nrec_count    float64\navg_price    float64\ndtype: object"
          },
          "metadata": {}
        }
      ]
    },
    {
      "cell_type": "markdown",
      "source": "<p>As we can see above, some columns are not of the correct data type. Numerical variables should have type 'float' or 'int', and variables with strings such as categories should have type 'object'. For example, 'rec_count' variable are numerical value that describe counnt of records, expect them to be of the type 'int'; however, it is shown as type 'float'. We have to convert data types into a proper format for each column using the \"astype()\" method.</p> \n",
      "metadata": {}
    },
    {
      "cell_type": "markdown",
      "source": "<h4>Convert data types to proper format</h4>\n",
      "metadata": {}
    },
    {
      "cell_type": "code",
      "source": "df[\"rec_count\"] = df[\"rec_count\"].astype(\"int\")\ndf[\"ts\"]= pd.to_datetime(df['ts'])",
      "metadata": {
        "trusted": true
      },
      "execution_count": 25,
      "outputs": []
    },
    {
      "cell_type": "markdown",
      "source": "<h4>Let us list the columns after the conversion</h4>\n",
      "metadata": {}
    },
    {
      "cell_type": "code",
      "source": "df.dtypes",
      "metadata": {
        "trusted": true
      },
      "execution_count": 26,
      "outputs": [
        {
          "execution_count": 26,
          "output_type": "execute_result",
          "data": {
            "text/plain": "ts            object\nopen         float64\nhigh         float64\nlow          float64\nclose        float64\nvolume       float64\nrec_count      int32\navg_price    float64\ndtype: object"
          },
          "metadata": {}
        }
      ]
    },
    {
      "cell_type": "markdown",
      "source": "<b>Wonderful!</b>\n\nNow we have finally obtained the cleaned dataset with no missing values with all data in its proper format.\n",
      "metadata": {}
    },
    {
      "cell_type": "markdown",
      "source": "<h2 id=\"data_standardization\">Data Standardization</h2>\n<p>\nData is usually collected from different agencies in different formats.\n(Data standardization is also a term for a particular type of data normalization where we subtract the mean and divide by the standard deviation.)\n</p>\n\n<b>What is standardization?</b>\n\n<p>Standardization is the process of transforming data into a common format, allowing the researcher to make the meaningful comparison.\n</p>\n\n<b>Example</b>\n\n<p>Transform BNB to USDT:</p>\n<p>We will need to apply <b>data transformation</b> to transform BNB into USDT.</p>\n",
      "metadata": {}
    },
    {
      "cell_type": "markdown",
      "source": "<p>The formula for unit conversion is:<p>\n1 BNB = 303 USDT (26.01.2023)\n<p>We can do many mathematical operations directly in Pandas.</p>\n",
      "metadata": {}
    },
    {
      "cell_type": "code",
      "source": "df.head()",
      "metadata": {
        "trusted": true
      },
      "execution_count": 27,
      "outputs": [
        {
          "execution_count": 27,
          "output_type": "execute_result",
          "data": {
            "text/plain": "                    ts   open   high    low  close  volume  rec_count  \\\n0  2022-11-11 14:38:00 284.08 284.08 282.31 282.31 2047.23         62   \n1  2022-11-11 14:39:00 282.22 282.42 281.61 281.73  791.29         67   \n2  2022-11-11 14:40:00 281.73 282.33 281.23 281.71  734.08         60   \n3  2022-11-11 14:41:00 281.45 281.61 280.73 281.59 1855.34         66   \n4  2022-11-11 14:42:00 281.72 282.25 281.38 281.38 2878.22         61   \n\n   avg_price  \n0     283.24  \n1     282.08  \n2     281.68  \n3     281.22  \n4     281.91  ",
            "text/html": "<div>\n<style scoped>\n    .dataframe tbody tr th:only-of-type {\n        vertical-align: middle;\n    }\n\n    .dataframe tbody tr th {\n        vertical-align: top;\n    }\n\n    .dataframe thead th {\n        text-align: right;\n    }\n</style>\n<table border=\"1\" class=\"dataframe\">\n  <thead>\n    <tr style=\"text-align: right;\">\n      <th></th>\n      <th>ts</th>\n      <th>open</th>\n      <th>high</th>\n      <th>low</th>\n      <th>close</th>\n      <th>volume</th>\n      <th>rec_count</th>\n      <th>avg_price</th>\n    </tr>\n  </thead>\n  <tbody>\n    <tr>\n      <th>0</th>\n      <td>2022-11-11 14:38:00</td>\n      <td>284.08</td>\n      <td>284.08</td>\n      <td>282.31</td>\n      <td>282.31</td>\n      <td>2047.23</td>\n      <td>62</td>\n      <td>283.24</td>\n    </tr>\n    <tr>\n      <th>1</th>\n      <td>2022-11-11 14:39:00</td>\n      <td>282.22</td>\n      <td>282.42</td>\n      <td>281.61</td>\n      <td>281.73</td>\n      <td>791.29</td>\n      <td>67</td>\n      <td>282.08</td>\n    </tr>\n    <tr>\n      <th>2</th>\n      <td>2022-11-11 14:40:00</td>\n      <td>281.73</td>\n      <td>282.33</td>\n      <td>281.23</td>\n      <td>281.71</td>\n      <td>734.08</td>\n      <td>60</td>\n      <td>281.68</td>\n    </tr>\n    <tr>\n      <th>3</th>\n      <td>2022-11-11 14:41:00</td>\n      <td>281.45</td>\n      <td>281.61</td>\n      <td>280.73</td>\n      <td>281.59</td>\n      <td>1855.34</td>\n      <td>66</td>\n      <td>281.22</td>\n    </tr>\n    <tr>\n      <th>4</th>\n      <td>2022-11-11 14:42:00</td>\n      <td>281.72</td>\n      <td>282.25</td>\n      <td>281.38</td>\n      <td>281.38</td>\n      <td>2878.22</td>\n      <td>61</td>\n      <td>281.91</td>\n    </tr>\n  </tbody>\n</table>\n</div>"
          },
          "metadata": {}
        }
      ]
    },
    {
      "cell_type": "code",
      "source": "# Convert BNB to USDT by mathematical operation\nres = await pyfetch(\"https://api.binance.com/sapi/v1/convert/exchangeInfo?fromAsset=BNB&toAsset=USDT\")\n# If the api is unavailable we set fixed rate\nif res.status != 200:\n    rate = 0.0033\nelse:\n    # Converting json to dict\n    res = await res.json()\n    # Get rate USTD to BNB\n    rate = float(res[0][\"fromAssetMinAmount\"])\n#1/rate makes rate correct in that case. We have  BNB to USDT rate now.    \nprint(f\"The exchange rate is 1 BNB = {1/rate} USDT\")\n\ndf[\"open_USDT\"] = df[\"open\"] / rate\n#Lets  check our data\ndf.head()",
      "metadata": {
        "trusted": true
      },
      "execution_count": 28,
      "outputs": [
        {
          "name": "stdout",
          "text": "The exchange rate is 1 BNB = 312.5 USDT\n",
          "output_type": "stream"
        },
        {
          "execution_count": 28,
          "output_type": "execute_result",
          "data": {
            "text/plain": "                    ts   open   high    low  close  volume  rec_count  \\\n0  2022-11-11 14:38:00 284.08 284.08 282.31 282.31 2047.23         62   \n1  2022-11-11 14:39:00 282.22 282.42 281.61 281.73  791.29         67   \n2  2022-11-11 14:40:00 281.73 282.33 281.23 281.71  734.08         60   \n3  2022-11-11 14:41:00 281.45 281.61 280.73 281.59 1855.34         66   \n4  2022-11-11 14:42:00 281.72 282.25 281.38 281.38 2878.22         61   \n\n   avg_price  open_USDT  \n0     283.24   88775.00  \n1     282.08   88193.75  \n2     281.68   88040.62  \n3     281.22   87953.12  \n4     281.91   88037.50  ",
            "text/html": "<div>\n<style scoped>\n    .dataframe tbody tr th:only-of-type {\n        vertical-align: middle;\n    }\n\n    .dataframe tbody tr th {\n        vertical-align: top;\n    }\n\n    .dataframe thead th {\n        text-align: right;\n    }\n</style>\n<table border=\"1\" class=\"dataframe\">\n  <thead>\n    <tr style=\"text-align: right;\">\n      <th></th>\n      <th>ts</th>\n      <th>open</th>\n      <th>high</th>\n      <th>low</th>\n      <th>close</th>\n      <th>volume</th>\n      <th>rec_count</th>\n      <th>avg_price</th>\n      <th>open_USDT</th>\n    </tr>\n  </thead>\n  <tbody>\n    <tr>\n      <th>0</th>\n      <td>2022-11-11 14:38:00</td>\n      <td>284.08</td>\n      <td>284.08</td>\n      <td>282.31</td>\n      <td>282.31</td>\n      <td>2047.23</td>\n      <td>62</td>\n      <td>283.24</td>\n      <td>88775.00</td>\n    </tr>\n    <tr>\n      <th>1</th>\n      <td>2022-11-11 14:39:00</td>\n      <td>282.22</td>\n      <td>282.42</td>\n      <td>281.61</td>\n      <td>281.73</td>\n      <td>791.29</td>\n      <td>67</td>\n      <td>282.08</td>\n      <td>88193.75</td>\n    </tr>\n    <tr>\n      <th>2</th>\n      <td>2022-11-11 14:40:00</td>\n      <td>281.73</td>\n      <td>282.33</td>\n      <td>281.23</td>\n      <td>281.71</td>\n      <td>734.08</td>\n      <td>60</td>\n      <td>281.68</td>\n      <td>88040.62</td>\n    </tr>\n    <tr>\n      <th>3</th>\n      <td>2022-11-11 14:41:00</td>\n      <td>281.45</td>\n      <td>281.61</td>\n      <td>280.73</td>\n      <td>281.59</td>\n      <td>1855.34</td>\n      <td>66</td>\n      <td>281.22</td>\n      <td>87953.12</td>\n    </tr>\n    <tr>\n      <th>4</th>\n      <td>2022-11-11 14:42:00</td>\n      <td>281.72</td>\n      <td>282.25</td>\n      <td>281.38</td>\n      <td>281.38</td>\n      <td>2878.22</td>\n      <td>61</td>\n      <td>281.91</td>\n      <td>88037.50</td>\n    </tr>\n  </tbody>\n</table>\n</div>"
          },
          "metadata": {}
        }
      ]
    },
    {
      "cell_type": "markdown",
      "source": "<div class=\"alert alert-danger alertdanger\" style=\"margin-top: 20px\">\n<h1> Question  #2: </h1>\n\n<b>According to the example above, transform BNB to USDT in column \"high\"</b>\n\n</div>\n",
      "metadata": {}
    },
    {
      "cell_type": "code",
      "source": "# Write your code below and press Shift+Enter to execute \n",
      "metadata": {
        "trusted": true
      },
      "execution_count": 29,
      "outputs": [
        {
          "name": "stdout",
          "text": "The exchange rate is 1 BNB = 312.5 USDT\n",
          "output_type": "stream"
        },
        {
          "execution_count": 29,
          "output_type": "execute_result",
          "data": {
            "text/plain": "                    ts   open   high    low  close  volume  rec_count  \\\n0  2022-11-11 14:38:00 284.08 284.08 282.31 282.31 2047.23         62   \n1  2022-11-11 14:39:00 282.22 282.42 281.61 281.73  791.29         67   \n2  2022-11-11 14:40:00 281.73 282.33 281.23 281.71  734.08         60   \n3  2022-11-11 14:41:00 281.45 281.61 280.73 281.59 1855.34         66   \n4  2022-11-11 14:42:00 281.72 282.25 281.38 281.38 2878.22         61   \n\n   avg_price  open_USDT  high_USDT  \n0     283.24   88775.00   88775.00  \n1     282.08   88193.75   88256.25  \n2     281.68   88040.62   88228.12  \n3     281.22   87953.12   88003.12  \n4     281.91   88037.50   88203.12  ",
            "text/html": "<div>\n<style scoped>\n    .dataframe tbody tr th:only-of-type {\n        vertical-align: middle;\n    }\n\n    .dataframe tbody tr th {\n        vertical-align: top;\n    }\n\n    .dataframe thead th {\n        text-align: right;\n    }\n</style>\n<table border=\"1\" class=\"dataframe\">\n  <thead>\n    <tr style=\"text-align: right;\">\n      <th></th>\n      <th>ts</th>\n      <th>open</th>\n      <th>high</th>\n      <th>low</th>\n      <th>close</th>\n      <th>volume</th>\n      <th>rec_count</th>\n      <th>avg_price</th>\n      <th>open_USDT</th>\n      <th>high_USDT</th>\n    </tr>\n  </thead>\n  <tbody>\n    <tr>\n      <th>0</th>\n      <td>2022-11-11 14:38:00</td>\n      <td>284.08</td>\n      <td>284.08</td>\n      <td>282.31</td>\n      <td>282.31</td>\n      <td>2047.23</td>\n      <td>62</td>\n      <td>283.24</td>\n      <td>88775.00</td>\n      <td>88775.00</td>\n    </tr>\n    <tr>\n      <th>1</th>\n      <td>2022-11-11 14:39:00</td>\n      <td>282.22</td>\n      <td>282.42</td>\n      <td>281.61</td>\n      <td>281.73</td>\n      <td>791.29</td>\n      <td>67</td>\n      <td>282.08</td>\n      <td>88193.75</td>\n      <td>88256.25</td>\n    </tr>\n    <tr>\n      <th>2</th>\n      <td>2022-11-11 14:40:00</td>\n      <td>281.73</td>\n      <td>282.33</td>\n      <td>281.23</td>\n      <td>281.71</td>\n      <td>734.08</td>\n      <td>60</td>\n      <td>281.68</td>\n      <td>88040.62</td>\n      <td>88228.12</td>\n    </tr>\n    <tr>\n      <th>3</th>\n      <td>2022-11-11 14:41:00</td>\n      <td>281.45</td>\n      <td>281.61</td>\n      <td>280.73</td>\n      <td>281.59</td>\n      <td>1855.34</td>\n      <td>66</td>\n      <td>281.22</td>\n      <td>87953.12</td>\n      <td>88003.12</td>\n    </tr>\n    <tr>\n      <th>4</th>\n      <td>2022-11-11 14:42:00</td>\n      <td>281.72</td>\n      <td>282.25</td>\n      <td>281.38</td>\n      <td>281.38</td>\n      <td>2878.22</td>\n      <td>61</td>\n      <td>281.91</td>\n      <td>88037.50</td>\n      <td>88203.12</td>\n    </tr>\n  </tbody>\n</table>\n</div>"
          },
          "metadata": {}
        }
      ]
    },
    {
      "cell_type": "markdown",
      "source": "<details><summary>Click here for the solution</summary>\n\n```python\nres = await pyfetch(\"https://api.binance.com/sapi/v1/convert/exchangeInfo?fromAsset=BNB&toAsset=USDT\")\n# If the api is unavailable we set fixed rate\nif res.status != 200:\n    rate = 0.0033\nelse:\n    # Converting json to dict\n    res = await res.json()\n    rate = float(res[0][\"fromAssetMinAmount\"])\n    \nprint(f\"The exchange rate is 1 BNB = {1/rate} USDT\")\n\ndf[\"high_USDT\"] = df[\"high\"] / rate\ndf.head()\n\n```\n\n</details>\n",
      "metadata": {
        "jp-MarkdownHeadingCollapsed": true,
        "tags": []
      }
    },
    {
      "cell_type": "markdown",
      "source": "<h2 id=\"data_normalization\">Data Normalization</h2>\n\n<b>Why normalization?</b>\n\n<p>Normalization is the process of transforming values of several variables into a similar range. Typical normalizations include scaling the variable so the variable average is 0, scaling the variable so the variance is 1, or scaling the variable so the variable values range from 0 to 1.\n</p>\n\n<b>Example</b>\n\n<p>To demonstrate normalization, let's say we want to scale the columns \"high\" and \"low\".</p>\n<p><b>Target:</b> would like to normalize those variables so their value ranges from 0 to 1</p>\n<p><b>Approach:</b> replace original value by (original value)/(maximum value)</p>\n",
      "metadata": {}
    },
    {
      "cell_type": "code",
      "source": "df['high'].head(10)",
      "metadata": {
        "trusted": true
      },
      "execution_count": 30,
      "outputs": [
        {
          "execution_count": 30,
          "output_type": "execute_result",
          "data": {
            "text/plain": "0   284.08\n1   282.42\n2   282.33\n3   281.61\n4   282.25\n5   282.17\n6   282.41\n7   285.49\n8   285.98\n9   293.00\nName: high, dtype: float64"
          },
          "metadata": {}
        }
      ]
    },
    {
      "cell_type": "code",
      "source": "# replace (original value) by (original value)/(maximum value)\ndf['high'] = df['high']/df['high'].max()\ndf['high'].head(10)",
      "metadata": {
        "trusted": true
      },
      "execution_count": 31,
      "outputs": [
        {
          "execution_count": 31,
          "output_type": "execute_result",
          "data": {
            "text/plain": "0   0.89\n1   0.89\n2   0.89\n3   0.89\n4   0.89\n5   0.89\n6   0.89\n7   0.90\n8   0.90\n9   0.92\nName: high, dtype: float64"
          },
          "metadata": {}
        }
      ]
    },
    {
      "cell_type": "markdown",
      "source": "<div class=\"alert alert-danger alertdanger\" style=\"margin-top: 20px\">\n<h1> Question #3: </h1>\n\n<b>According to the example above, normalize the column \"low\".</b>\n\n</div>\n",
      "metadata": {
        "tags": []
      }
    },
    {
      "cell_type": "code",
      "source": "# Write your code below and press Shift+Enter to execute \n",
      "metadata": {
        "trusted": true
      },
      "execution_count": 63,
      "outputs": []
    },
    {
      "cell_type": "markdown",
      "source": "<details><summary>Click here for the solution</summary>\n\n```python\ndf['low'] = df['low']/df['low'].max() \n\n# show the scaled columns\ndf[[\"high\",\"low\"]].head(10)\n\n```\n\n</details>\n",
      "metadata": {}
    },
    {
      "cell_type": "markdown",
      "source": "Here we can see we've normalized \"High\",\"Low\" columns in the range of \\[0,1].\n",
      "metadata": {}
    },
    {
      "cell_type": "markdown",
      "source": "<h2 id=\"binning\">Binning</h2>\n<b>Why binning?</b>\n<p>\n    Binning is a process of transforming continuous numerical variables into discrete categorical 'bins' for grouped analysis.\n</p>\n\n<b>Example: </b>\n\n<p>In our dataset, \"close\" is a real valued variable ranging from 200 to 320 and it has ~10900 unique values. What if we only care about the price difference between closing minute price(3 types)? Can we rearrange them into three ‘bins' to simplify analysis? </p>\n\n<p>We will use the pandas method 'cut' to segment the 'close' column into 3 bins.</p>\n",
      "metadata": {}
    },
    {
      "cell_type": "markdown",
      "source": "<h3>Example of Binning Data In Pandas</h3>\n",
      "metadata": {}
    },
    {
      "cell_type": "markdown",
      "source": "Convert data to correct format:\n",
      "metadata": {}
    },
    {
      "cell_type": "code",
      "source": "\ndf.dtypes",
      "metadata": {
        "trusted": true
      },
      "execution_count": 33,
      "outputs": [
        {
          "execution_count": 33,
          "output_type": "execute_result",
          "data": {
            "text/plain": "ts           datetime64[ns]\nopen                float64\nhigh                float64\nlow                 float64\nclose               float64\nvolume              float64\nrec_count             int32\navg_price           float64\nopen_USDT           float64\nhigh_USDT           float64\ndtype: object"
          },
          "metadata": {}
        }
      ]
    },
    {
      "cell_type": "markdown",
      "source": "Let's plot the histogram of horsepower to see what the distribution of horsepower looks like.\n",
      "metadata": {}
    },
    {
      "cell_type": "code",
      "source": "%matplotlib inline\nimport matplotlib as plt\nfrom matplotlib import pyplot\nplt.pyplot.hist(df[\"close\"])\n\n# set x/y labels and plot title\nplt.pyplot.xlabel(\"close\")\nplt.pyplot.ylabel(\"count\")\nplt.pyplot.title(\"close counts\")",
      "metadata": {
        "trusted": true
      },
      "execution_count": 34,
      "outputs": [
        {
          "execution_count": 34,
          "output_type": "execute_result",
          "data": {
            "text/plain": "Text(0.5, 1.0, 'close counts')"
          },
          "metadata": {}
        },
        {
          "output_type": "display_data",
          "data": {
            "text/plain": "<Figure size 640x480 with 1 Axes>",
            "image/png": "[encoded data removed]"
          },
          "metadata": {}
        }
      ]
    },
    {
      "cell_type": "markdown",
      "source": "<p>We would like 3 bins of equal size bandwidth so we use numpy's <code>linspace(start_value, end_value, numbers_generated</code> function.</p>\n<p>Since we want to include the minimum value of close, we want to set start_value = min(df[\"close\"]).</p>\n<p>Since we want to include the maximum value of close, we want to set end_value = max(df[\"close\"]).</p>\n<p>Since we are building 3 bins of equal length, there should be 4 dividers, so numbers_generated = 4.</p>\n",
      "metadata": {}
    },
    {
      "cell_type": "markdown",
      "source": "We build a bin array with a minimum value to a maximum value by using the bandwidth calculated above. The values will determine when one bin ends and another begins.\n",
      "metadata": {}
    },
    {
      "cell_type": "code",
      "source": "bins = np.linspace(min(df[\"close\"]), max(df[\"close\"]), 4)\nbins",
      "metadata": {
        "trusted": true
      },
      "execution_count": 35,
      "outputs": [
        {
          "execution_count": 35,
          "output_type": "execute_result",
          "data": {
            "text/plain": "array([219.7, 252.2, 284.7, 317.2])"
          },
          "metadata": {}
        }
      ]
    },
    {
      "cell_type": "markdown",
      "source": "We set group  names:\n",
      "metadata": {}
    },
    {
      "cell_type": "code",
      "source": "group_names = ['Low', 'Medium', 'High']",
      "metadata": {
        "trusted": true
      },
      "execution_count": 36,
      "outputs": []
    },
    {
      "cell_type": "markdown",
      "source": "We apply the function \"cut\" to determine what each value of `df['close']` belongs to.\n",
      "metadata": {}
    },
    {
      "cell_type": "code",
      "source": "df['close-binned'] = pd.cut(df['close'], bins, labels=group_names, include_lowest=True )\ndf[['close','close-binned']].head(20)",
      "metadata": {
        "trusted": true
      },
      "execution_count": 37,
      "outputs": [
        {
          "execution_count": 37,
          "output_type": "execute_result",
          "data": {
            "text/plain": "    close close-binned\n0  282.31       Medium\n1  281.73       Medium\n2  281.71       Medium\n3  281.59       Medium\n4  281.38       Medium\n5  281.71       Medium\n6  282.41       Medium\n7  285.48         High\n8  285.94         High\n9  290.49         High\n10 287.99         High\n11 287.71         High\n12 288.25         High\n13 285.58         High\n14 285.00         High\n15 284.45       Medium\n16 285.28         High\n17 284.43       Medium\n18 285.80         High\n19 285.08         High",
            "text/html": "<div>\n<style scoped>\n    .dataframe tbody tr th:only-of-type {\n        vertical-align: middle;\n    }\n\n    .dataframe tbody tr th {\n        vertical-align: top;\n    }\n\n    .dataframe thead th {\n        text-align: right;\n    }\n</style>\n<table border=\"1\" class=\"dataframe\">\n  <thead>\n    <tr style=\"text-align: right;\">\n      <th></th>\n      <th>close</th>\n      <th>close-binned</th>\n    </tr>\n  </thead>\n  <tbody>\n    <tr>\n      <th>0</th>\n      <td>282.31</td>\n      <td>Medium</td>\n    </tr>\n    <tr>\n      <th>1</th>\n      <td>281.73</td>\n      <td>Medium</td>\n    </tr>\n    <tr>\n      <th>2</th>\n      <td>281.71</td>\n      <td>Medium</td>\n    </tr>\n    <tr>\n      <th>3</th>\n      <td>281.59</td>\n      <td>Medium</td>\n    </tr>\n    <tr>\n      <th>4</th>\n      <td>281.38</td>\n      <td>Medium</td>\n    </tr>\n    <tr>\n      <th>5</th>\n      <td>281.71</td>\n      <td>Medium</td>\n    </tr>\n    <tr>\n      <th>6</th>\n      <td>282.41</td>\n      <td>Medium</td>\n    </tr>\n    <tr>\n      <th>7</th>\n      <td>285.48</td>\n      <td>High</td>\n    </tr>\n    <tr>\n      <th>8</th>\n      <td>285.94</td>\n      <td>High</td>\n    </tr>\n    <tr>\n      <th>9</th>\n      <td>290.49</td>\n      <td>High</td>\n    </tr>\n    <tr>\n      <th>10</th>\n      <td>287.99</td>\n      <td>High</td>\n    </tr>\n    <tr>\n      <th>11</th>\n      <td>287.71</td>\n      <td>High</td>\n    </tr>\n    <tr>\n      <th>12</th>\n      <td>288.25</td>\n      <td>High</td>\n    </tr>\n    <tr>\n      <th>13</th>\n      <td>285.58</td>\n      <td>High</td>\n    </tr>\n    <tr>\n      <th>14</th>\n      <td>285.00</td>\n      <td>High</td>\n    </tr>\n    <tr>\n      <th>15</th>\n      <td>284.45</td>\n      <td>Medium</td>\n    </tr>\n    <tr>\n      <th>16</th>\n      <td>285.28</td>\n      <td>High</td>\n    </tr>\n    <tr>\n      <th>17</th>\n      <td>284.43</td>\n      <td>Medium</td>\n    </tr>\n    <tr>\n      <th>18</th>\n      <td>285.80</td>\n      <td>High</td>\n    </tr>\n    <tr>\n      <th>19</th>\n      <td>285.08</td>\n      <td>High</td>\n    </tr>\n  </tbody>\n</table>\n</div>"
          },
          "metadata": {}
        }
      ]
    },
    {
      "cell_type": "markdown",
      "source": "Let's see the number of vehicles in each bin:\n",
      "metadata": {}
    },
    {
      "cell_type": "code",
      "source": "df[\"close-binned\"].value_counts().sort_index()",
      "metadata": {
        "trusted": true
      },
      "execution_count": 38,
      "outputs": [
        {
          "execution_count": 38,
          "output_type": "execute_result",
          "data": {
            "text/plain": "Low       18337\nMedium    22575\nHigh      26300\nName: close-binned, dtype: int64"
          },
          "metadata": {}
        }
      ]
    },
    {
      "cell_type": "markdown",
      "source": "Let's plot the distribution of each bin:\n",
      "metadata": {}
    },
    {
      "cell_type": "code",
      "source": "%matplotlib inline\nimport matplotlib as plt\nfrom matplotlib import pyplot\npyplot.bar(group_names, df[\"close-binned\"].value_counts().sort_index())\n\n# set x/y labels and plot title\nplt.pyplot.xlabel(\"close\")\nplt.pyplot.ylabel(\"count\")\nplt.pyplot.title(\"close bins\")",
      "metadata": {
        "trusted": true
      },
      "execution_count": 39,
      "outputs": [
        {
          "execution_count": 39,
          "output_type": "execute_result",
          "data": {
            "text/plain": "Text(0.5, 1.0, 'close bins')"
          },
          "metadata": {}
        },
        {
          "output_type": "display_data",
          "data": {
            "text/plain": "<Figure size 640x480 with 1 Axes>",
            "image/png": "[encoded data removed]"
          },
          "metadata": {}
        }
      ]
    },
    {
      "cell_type": "markdown",
      "source": "<p>\n    Look at the dataframe above carefully. You will find that the last column provides the bins for \"close\" based on 3 categories (\"Low\", \"Medium\" and \"High\"). \n</p>\n<p>\n    We successfully narrowed down the intervals from 17.000 to 26.000!\n</p>\n",
      "metadata": {}
    },
    {
      "cell_type": "markdown",
      "source": "<h3>Bins Visualization</h3>\nNormally, a histogram is used to visualize the distribution of bins we created above. \n",
      "metadata": {}
    },
    {
      "cell_type": "code",
      "source": "%matplotlib inline\nimport matplotlib as plt\nfrom matplotlib import pyplot\n\n\n# draw historgram of attribute \"close\" with bins = 3\nplt.pyplot.hist(df[\"close\"], bins = 3)\n\n# set x/y labels and plot title\nplt.pyplot.xlabel(\"close\")\nplt.pyplot.ylabel(\"count\")\nplt.pyplot.title(\"close bins\")",
      "metadata": {
        "trusted": true
      },
      "execution_count": 40,
      "outputs": [
        {
          "execution_count": 40,
          "output_type": "execute_result",
          "data": {
            "text/plain": "Text(0.5, 1.0, 'close bins')"
          },
          "metadata": {}
        },
        {
          "output_type": "display_data",
          "data": {
            "text/plain": "<Figure size 640x480 with 1 Axes>",
            "image/png": "[encoded data removed]"
          },
          "metadata": {}
        }
      ]
    },
    {
      "cell_type": "markdown",
      "source": "The plot above shows the binning result for the attribute \"close\".\n",
      "metadata": {}
    },
    {
      "cell_type": "markdown",
      "source": "<h2 id=\"indicator\">Indicator Variable (or Dummy Variable)</h2>\n<b>What is an indicator variable?</b>\n<p>\n    An indicator variable (or dummy variable) is a numerical variable used to label categories. They are called 'dummies' because the numbers themselves don't have inherent meaning. \n</p>\n\n<b>Why we use indicator variables?</b>\n\n<p>\n    We use indicator variables so we can use categorical variables for regression analysis in the later modules.\n</p>\n<b>Example</b>\n<p>\n    We see the column \"close-binned\" has two unique values: \"Low\",\"Medium\" and \"High\". Regression doesn't understand words, only numbers. To use this attribute in regression analysis, we convert \"open-binned\" to indicator variables.\n</p>\n\n<p>\n    We will use pandas' method 'get_dummies' to assign numerical values to different categories of fuel type. \n</p>\n",
      "metadata": {}
    },
    {
      "cell_type": "code",
      "source": "df.columns",
      "metadata": {
        "trusted": true
      },
      "execution_count": 41,
      "outputs": [
        {
          "execution_count": 41,
          "output_type": "execute_result",
          "data": {
            "text/plain": "Index(['ts', 'open', 'high', 'low', 'close', 'volume', 'rec_count',\n       'avg_price', 'open_USDT', 'high_USDT', 'close-binned'],\n      dtype='object')"
          },
          "metadata": {}
        }
      ]
    },
    {
      "cell_type": "markdown",
      "source": "Get the indicator variables and assign it to data frame \"dummy_variable\\_1\":\n",
      "metadata": {}
    },
    {
      "cell_type": "code",
      "source": "dummy_variable_1 = pd.get_dummies(df[\"close-binned\"])\ndummy_variable_1.head()",
      "metadata": {
        "trusted": true
      },
      "execution_count": 42,
      "outputs": [
        {
          "execution_count": 42,
          "output_type": "execute_result",
          "data": {
            "text/plain": "   Low  Medium  High\n0    0       1     0\n1    0       1     0\n2    0       1     0\n3    0       1     0\n4    0       1     0",
            "text/html": "<div>\n<style scoped>\n    .dataframe tbody tr th:only-of-type {\n        vertical-align: middle;\n    }\n\n    .dataframe tbody tr th {\n        vertical-align: top;\n    }\n\n    .dataframe thead th {\n        text-align: right;\n    }\n</style>\n<table border=\"1\" class=\"dataframe\">\n  <thead>\n    <tr style=\"text-align: right;\">\n      <th></th>\n      <th>Low</th>\n      <th>Medium</th>\n      <th>High</th>\n    </tr>\n  </thead>\n  <tbody>\n    <tr>\n      <th>0</th>\n      <td>0</td>\n      <td>1</td>\n      <td>0</td>\n    </tr>\n    <tr>\n      <th>1</th>\n      <td>0</td>\n      <td>1</td>\n      <td>0</td>\n    </tr>\n    <tr>\n      <th>2</th>\n      <td>0</td>\n      <td>1</td>\n      <td>0</td>\n    </tr>\n    <tr>\n      <th>3</th>\n      <td>0</td>\n      <td>1</td>\n      <td>0</td>\n    </tr>\n    <tr>\n      <th>4</th>\n      <td>0</td>\n      <td>1</td>\n      <td>0</td>\n    </tr>\n  </tbody>\n</table>\n</div>"
          },
          "metadata": {}
        }
      ]
    },
    {
      "cell_type": "markdown",
      "source": "Change the column names for clarity:\n",
      "metadata": {}
    },
    {
      "cell_type": "code",
      "source": "dummy_variable_1.rename(columns={'Low':'close_low', 'Medium':'close_medium', 'High':'close_high'}, inplace=True)\ndummy_variable_1.head()",
      "metadata": {
        "trusted": true
      },
      "execution_count": 43,
      "outputs": [
        {
          "execution_count": 43,
          "output_type": "execute_result",
          "data": {
            "text/plain": "   close_low  close_medium  close_high\n0          0             1           0\n1          0             1           0\n2          0             1           0\n3          0             1           0\n4          0             1           0",
            "text/html": "<div>\n<style scoped>\n    .dataframe tbody tr th:only-of-type {\n        vertical-align: middle;\n    }\n\n    .dataframe tbody tr th {\n        vertical-align: top;\n    }\n\n    .dataframe thead th {\n        text-align: right;\n    }\n</style>\n<table border=\"1\" class=\"dataframe\">\n  <thead>\n    <tr style=\"text-align: right;\">\n      <th></th>\n      <th>close_low</th>\n      <th>close_medium</th>\n      <th>close_high</th>\n    </tr>\n  </thead>\n  <tbody>\n    <tr>\n      <th>0</th>\n      <td>0</td>\n      <td>1</td>\n      <td>0</td>\n    </tr>\n    <tr>\n      <th>1</th>\n      <td>0</td>\n      <td>1</td>\n      <td>0</td>\n    </tr>\n    <tr>\n      <th>2</th>\n      <td>0</td>\n      <td>1</td>\n      <td>0</td>\n    </tr>\n    <tr>\n      <th>3</th>\n      <td>0</td>\n      <td>1</td>\n      <td>0</td>\n    </tr>\n    <tr>\n      <th>4</th>\n      <td>0</td>\n      <td>1</td>\n      <td>0</td>\n    </tr>\n  </tbody>\n</table>\n</div>"
          },
          "metadata": {}
        }
      ]
    },
    {
      "cell_type": "markdown",
      "source": "In the dataframe, column 'close-binned' has values for 'low','medium' and 'high' as 0s and 1s now.\n",
      "metadata": {}
    },
    {
      "cell_type": "code",
      "source": "# merge data frame \"df\" and \"dummy_variable_1\" \ndf = pd.concat([df, dummy_variable_1], axis=1)\n\n# drop original column \"fuel-type\" from \"df\"\ndf.drop(\"close-binned\", axis = 1, inplace=True)",
      "metadata": {
        "trusted": true
      },
      "execution_count": 44,
      "outputs": []
    },
    {
      "cell_type": "markdown",
      "source": "The last three columns are now the indicator variable. They're all 0s and 1s now.\n",
      "metadata": {}
    },
    {
      "cell_type": "markdown",
      "source": "<div class=\"alert alert-danger alertdanger\" style=\"margin-top: 20px\">\n<h1> Question  #4: </h1>\n\n<b>Similar to before, create an indicator variable for the column \"rec_count\"</b>\n\n</div>\n",
      "metadata": {}
    },
    {
      "cell_type": "code",
      "source": "# Write your code below and press Shift+Enter to execute \n",
      "metadata": {
        "trusted": true
      },
      "execution_count": 45,
      "outputs": []
    },
    {
      "cell_type": "markdown",
      "source": "<details><summary>Click here for the solution</summary>\n\n```python\ngroup_names = ['Low', 'Medium', 'High']\n\nbins = np.linspace(min(df[\"rec_count\"]), max(df[\"rec_count\"]), 4)\n\ndf['rec_count-binned'] = pd.cut(df['rec_count'], bins, labels=group_names, include_lowest=True )\ncolumns={'Low':'rec_count_low', 'Medium':'rec_count_medium', 'High':'rec_count_high'}\n\n# get indicator variables of aspiration and assign it to data frame \"dummy_variable_2\"\ndummy_variable_2 = pd.get_dummies(df['rec_count-binned'])\n\n# change column names for clarity\ndummy_variable_2.rename(columns={'Low':'rec_count_low', 'Medium':'rec_count_medium', 'High':'rec_count_high'}, inplace=True)\n\n# show first 5 instances of data frame \"dummy_variable_1\"\ndummy_variable_2.head()\n\n```\n\n</details>\n",
      "metadata": {}
    },
    {
      "cell_type": "markdown",
      "source": " <div class=\"alert alert-danger alertdanger\" style=\"margin-top: 20px\">\n<h1> Question  #5: </h1>\n\n<b>Merge the new dataframe to the original dataframe, then drop the column 'rec_count-binned'.</b>\n\n</div>\n",
      "metadata": {}
    },
    {
      "cell_type": "code",
      "source": "# Write your code below and press Shift+Enter to execute \n\n",
      "metadata": {
        "trusted": true
      },
      "execution_count": 46,
      "outputs": []
    },
    {
      "cell_type": "markdown",
      "source": "<details><summary>Click here for the solution</summary>\n\n```python\n# merge the new dataframe to the original datafram\ndf = pd.concat([df, dummy_variable_2], axis=1)\n\n# drop original column \"aspiration\" from \"df\"\ndf.drop('rec_count-binned', axis = 1, inplace=True)\n\ndf.head()\n\n```\n\n</details>\n",
      "metadata": {}
    },
    {
      "cell_type": "code",
      "source": "df.set_index('ts', inplace=True)\nresample_df = pd.DataFrame()\nresample_df['open'] = df['open'].resample('5min').first()\nresample_df['high'] = df['high'].resample('5min').max()\nresample_df['low'] = df['low'].resample('5min').min()\nresample_df['close'] = df['close'].resample('5min').last()\nresample_df['volume'] = df['volume'].resample('5min').sum()\n\nresample_df.to_csv(\"resampl.csv\")",
      "metadata": {
        "trusted": true
      },
      "execution_count": 47,
      "outputs": []
    },
    {
      "cell_type": "markdown",
      "source": "#### Save the new csv:\n\n> Note : The  csv file cannot be viewed in the jupyterlite based SN labs environment.However you can Click <a href=\"https://cf-courses-data.s3.us.cloud-object-storage.appdomain.cloud/IBMDeveloperSkillsNetwork-DA0101EN-SkillsNetwork/labs/Module%202/DA0101EN-2-Review-Data-Wrangling.ipynb?utm_medium=Exinfluencer&utm_source=Exinfluencer&utm_content=000026UJ&utm_term=10006555&utm_id=NA-SkillsNetwork-Channel-SkillsNetworkCoursesIBMDeveloperSkillsNetworkDA0101ENSkillsNetwork20235326-2022-01-01\">HERE</a> to download the lab notebook (.ipynb) to your local machine and view the csv file once the notebook is executed.\n",
      "metadata": {}
    },
    {
      "cell_type": "markdown",
      "source": "### Thank you for completing this lab!\n\n## Author\n\n<a href=\"https://www.linkedin.com/in/joseph-s-50398b136/?utm_medium=Exinfluencer&utm_source=Exinfluencer&utm_content=000026UJ&utm_term=10006555&utm_id=NA-SkillsNetwork-Channel-SkillsNetworkCoursesIBMDeveloperSkillsNetworkDA0101ENSkillsNetwork20235326-2021-01-01\" target=\"_blank\">Joseph Santarcangelo</a>\n\n### Other Contributors\n\n<a href=\"https://www.linkedin.com/in/mahdi-noorian-58219234/?utm_medium=Exinfluencer&utm_source=Exinfluencer&utm_content=000026UJ&utm_term=10006555&utm_id=NA-SkillsNetwork-Channel-SkillsNetworkCoursesIBMDeveloperSkillsNetworkDA0101ENSkillsNetwork20235326-2021-01-01\" target=\"_blank\">Mahdi Noorian PhD</a>\n\nBahare Talayian\n\nEric Xiao\n\nSteven Dong\n\nParizad\n\nHima Vasudevan\n\n<a href=\"https://www.linkedin.com/in/fiorellawever/?utm_medium=Exinfluencer&utm_source=Exinfluencer&utm_content=000026UJ&utm_term=10006555&utm_id=NA-SkillsNetwork-Channel-SkillsNetworkCoursesIBMDeveloperSkillsNetworkDA0101ENSkillsNetwork20235326-2021-01-01\" target=\"_blank\">Fiorella Wenver</a>\n\n<a href=\"https:// https://www.linkedin.com/in/yi-leng-yao-84451275/ \" target=\"_blank\" >Yi Yao</a>.\n\n## Change Log\n\n| Date (YYYY-MM-DD) | Version | Changed By | Change Description                  |\n| ----------------- | ------- | ---------- | ----------------------------------- |\n| 2022-04-22        | 2.3     | Lakshmi    | Made changes in markdown file       |\n| 2020-10-30        | 2.2     | Lakshmi    | Changed URL of csv                  |\n| 2020-09-09        | 2.1     | Lakshmi    | Updated Indicator Variables section |\n| 2020-08-27        | 2.0     | Lavanya    | Moved lab to course repo in GitLab  |\n\n<hr>\n\n## <h3 align=\"center\"> © IBM Corporation 2020. All rights reserved. <h3/>\n",
      "metadata": {}
    }
  ]
}
{
  "cells": [
    {
      "cell_type": "markdown",
      "id": "2bccd5e9-7ec5-422b-82d2-44ee94a38c67",
      "metadata": {},
      "outputs": [],
      "source": [
        "<center>\n    <img src=\"https://cf-courses-data.s3.us.cloud-object-storage.appdomain.cloud/assets/logos/SN_web_lightmode.png\" width=\"300\" alt=\"cognitiveclass.ai logo\"  />\n</center>\n\n# Investigation of cryptocurrency exchange rate dynamic (Matic/USD), сalculation and analysis of technical financial indicators, characterizing the cryptocurrency market (ATR, OBV, RSI, AD)\n\n\n# Lab 4. Model development\n\nEstimated time needed: **30** minutes\n\n## Objectives\n\nAfter completing this lab you will be able to:\n\n*   Develop prediction models\n"
      ]
    },
    {
      "cell_type": "markdown",
      "id": "d35684e1-3952-4f92-8cc1-18b31b50b1cc",
      "metadata": {},
      "outputs": [],
      "source": [
        "<h2>Table of Contents</h2>\n\n<div class=\"alert alert-block alert-info\" style=\"margin-top: 20px\">\n<ol>\n    <li><a href=\"https://#Linear_regresion\">Linear Regression and Multiple Linear Regression</a></li>\n    <li><a href=\"https://#Model_Evaluation\">Model Evaluation Using Visualization</a></li>\n    <li><a href=\"https://#Polynomal_Regression\">Polynomial Regression and Pipelines</a></li>\n    <li><a href=\"https://#Measures\">Measures for In-Sample Evaluation</a></li>\n    <li><a href=\"https://#Prediction\">Prediction and Decision Making</a></li>\n</ol>\n\n</div>\n\n<hr>\n"
      ]
    },
    {
      "cell_type": "markdown",
      "id": "309acc06-e340-4f3c-8619-46b111fd4173",
      "metadata": {},
      "outputs": [],
      "source": [
        "<p>In this section, we will develop several models that will predict the price of the Matic using the variables or features. This is just an estimate but should give us an objective idea of how much the coin should cost.</p>\n"
      ]
    },
    {
      "cell_type": "markdown",
      "id": "8a252046-1467-4b3f-ab7b-aae5b1fc1de5",
      "metadata": {},
      "outputs": [],
      "source": [
        "<p>In data analytics, we often use <b>Model Development</b> to help us predict future observations from the data we have.</p>\n\n<p>A model will help us understand the exact relationship between different variables and how these variables are used to predict the result.</p>\n"
      ]
    },
    {
      "cell_type": "markdown",
      "id": "8ec947f1-f6ec-4be1-b8fd-28617e066858",
      "metadata": {},
      "outputs": [],
      "source": [
        "<h4>Setup</h4>\n"
      ]
    },
    {
      "cell_type": "markdown",
      "id": "d06043ed-b167-46aa-92bf-a52d3aa108a2",
      "metadata": {},
      "outputs": [],
      "source": [
        "Import libraries:\n"
      ]
    },
    {
      "cell_type": "markdown",
      "id": "8f9a00ff-27d0-4674-a31f-f9eeeedc586d",
      "metadata": {},
      "outputs": [],
      "source": [
        "you are running the lab in your  browser, so we will install the libraries using `piplite`\n"
      ]
    },
    {
      "cell_type": "code",
      "id": "2f83fc6f-0eb5-4fab-a01d-22482f67bc84",
      "metadata": {},
      "outputs": [],
      "source": [
        "#If you run the lab locally using Anaconda, you can load the correct library and versions by uncommenting the following:\n#install specific version of libraries used in lab\n! mamba install pandas -y\n! mamba install numpy -y\n! mamba install scikit-learn -y"
      ]
    },
    {
      "cell_type": "code",
      "id": "4061cb50-fcfa-40d2-9906-a143483fec13",
      "metadata": {},
      "outputs": [],
      "source": [
        "import pandas as pd\nimport numpy as np\nimport matplotlib.pyplot as plt\nimport skillsnetwork\nimport warnings\nfrom sklearn.linear_model import LinearRegression\nfrom sklearn.preprocessing import PolynomialFeatures\nfrom sklearn.pipeline import Pipeline\nfrom sklearn.preprocessing import StandardScaler\nfrom sklearn.metrics import mean_squared_error\nfrom sklearn.metrics import r2_score\n\nimport seaborn as sns\n\n\n%matplotlib inline \nwarnings.filterwarnings('ignore')\n#set precision \npd.set_option(\"display.precision\", 2)\n#set precision for float\npd.options.display.float_format = '{:.2f}'.format"
      ]
    },
    {
      "cell_type": "markdown",
      "id": "5cc8f31e-6205-43ac-a063-d6d12ebf7823",
      "metadata": {},
      "outputs": [],
      "source": [
        "This dataset was hosted on IBM Cloud object. Click <a href=\"https://cocl.us/DA101EN_object_storage?utm_medium=Exinfluencer&utm_source=Exinfluencer&utm_content=000026UJ&utm_term=10006555&utm_id=NA-SkillsNetwork-Channel-SkillsNetworkCoursesIBMDeveloperSkillsNetworkDA0101ENSkillsNetwork20235326-2021-01-01\">HERE</a> for free storage.\n"
      ]
    },
    {
      "cell_type": "markdown",
      "id": "a2b05f51-cb05-4467-8af7-fe09e06cd8ae",
      "metadata": {},
      "outputs": [],
      "source": [
        "Load the data and store it in dataframe `df`:\n"
      ]
    },
    {
      "cell_type": "code",
      "id": "fd488db1-06db-4a87-92d0-7131f387cf39",
      "metadata": {},
      "outputs": [],
      "source": [
        "filename = \"https://cf-courses-data.s3.us.cloud-object-storage.appdomain.cloud/IBMSkillsNetwork-GPXX0JDPEN/DataSet_final.csv\"\ndf = pd.read_csv(filename,low_memory=False, index_col=0)\ndf"
      ]
    },
    {
      "cell_type": "markdown",
      "id": "bccd8171-d926-4ae8-9355-1b4230f55783",
      "metadata": {},
      "outputs": [],
      "source": [
        "<h2>1. Linear Regression and Multiple Linear Regression</h2>\n"
      ]
    },
    {
      "cell_type": "markdown",
      "id": "e884957c-0437-45e9-973b-288f62736c46",
      "metadata": {},
      "outputs": [],
      "source": [
        "<h4>Linear Regression</h4>\n"
      ]
    },
    {
      "cell_type": "markdown",
      "id": "05cc7bc6-fe49-42e4-949a-b8cc68692e5f",
      "metadata": {},
      "outputs": [],
      "source": [
        "<p>One example of a Data  Model that we will be using is:</p>\n<b>Simple Linear Regression</b>\n\n<br>\n<p>Simple Linear Regression is a method to help us understand the relationship between two variables:</p>\n<ul>\n    <li>The predictor/independent variable (X)</li>\n    <li>The response/dependent variable (that we want to predict)(Y)</li>\n</ul>\n\n<p>The result of Linear Regression is a <b>linear function</b> that predicts the response (dependent) variable as a function of the predictor (independent) variable.</p>\n"
      ]
    },
    {
      "cell_type": "markdown",
      "id": "2cf4d219-f3d4-428c-be3c-9d86543e9e70",
      "metadata": {},
      "outputs": [],
      "source": [
        "$$\nY: Response \\ Variable\\\\\\\\\\\\\\\\\\\\\nX: Predictor \\ Variables\n$$\n"
      ]
    },
    {
      "cell_type": "markdown",
      "id": "6b32d2fb-2add-42a0-974c-96f216fce00b",
      "metadata": {},
      "outputs": [],
      "source": [
        "<b>Linear Function</b>\n$$\nYhat = a + b  X\n$$\n"
      ]
    },
    {
      "cell_type": "markdown",
      "id": "528987b4-9ec1-48de-aa3a-d8b34e420e4d",
      "metadata": {},
      "outputs": [],
      "source": [
        "<ul>\n    <li>a refers to the <b>intercept</b> of the regression line, in other words: the value of Y when X is 0</li>\n    <li>b refers to the <b>slope</b> of the regression line, in other words: the value with which Y changes when X increases by 1 unit</li>\n</ul>\n"
      ]
    },
    {
      "cell_type": "markdown",
      "id": "e2da30c1-61fa-49df-8fe2-07ac8a929025",
      "metadata": {},
      "outputs": [],
      "source": [
        "<h4>Create the linear regression object:</h4>\n"
      ]
    },
    {
      "cell_type": "code",
      "id": "51457f3c-c3be-474c-ac5c-7f02d8391d69",
      "metadata": {},
      "outputs": [],
      "source": [
        "lm = LinearRegression()\nlm"
      ]
    },
    {
      "cell_type": "markdown",
      "id": "0916c06a-baa8-413e-9de4-301c590737cf",
      "metadata": {},
      "outputs": [],
      "source": [
        "<h4>How could \"BTC_price\" help us predict Volume?</h4>\n"
      ]
    },
    {
      "cell_type": "markdown",
      "id": "e07ccc7a-bc9b-4362-8c72-51c57943f99e",
      "metadata": {},
      "outputs": [],
      "source": [
        "For this example, we want to look at how BTC_price can help us predict Volume.\nUsing simple linear regression, we will create a linear function with \"BTC_price\" as the predictor variable and the \"Volume\" as the response variable.\n"
      ]
    },
    {
      "cell_type": "code",
      "id": "56951510-e723-4ab4-810a-58db17e9179d",
      "metadata": {},
      "outputs": [],
      "source": [
        "X = df[['BTC_price']]\nY = df[['Volume']]"
      ]
    },
    {
      "cell_type": "markdown",
      "id": "6d4df659-f4c7-42d9-bd27-6b37be82b53f",
      "metadata": {},
      "outputs": [],
      "source": [
        "Fit the linear model using BTC_price:\n"
      ]
    },
    {
      "cell_type": "code",
      "id": "0dd03c24-41b5-4e18-9a9a-6bb0a2629858",
      "metadata": {},
      "outputs": [],
      "source": [
        "lm.fit(X,Y)"
      ]
    },
    {
      "cell_type": "markdown",
      "id": "c87acb89-e1e0-4f9c-9797-d352c37c5da2",
      "metadata": {},
      "outputs": [],
      "source": [
        "We can output a prediction:\n"
      ]
    },
    {
      "cell_type": "code",
      "id": "038dd49a-c0df-4f3f-b87e-cb12e70079ec",
      "metadata": {},
      "outputs": [],
      "source": [
        "Yhat=lm.predict(X)\nYhat[0:5]   "
      ]
    },
    {
      "cell_type": "markdown",
      "id": "4ad12853-76b8-4ff9-bd6b-03258cfcbee2",
      "metadata": {},
      "outputs": [],
      "source": [
        "<h4>What is the value of the intercept (a)?</h4>\n"
      ]
    },
    {
      "cell_type": "code",
      "id": "a13c19c5-9132-4277-8f69-d2bf279eaf1e",
      "metadata": {},
      "outputs": [],
      "source": [
        "lm.intercept_"
      ]
    },
    {
      "cell_type": "markdown",
      "id": "868b879a-aa0a-4a01-b3a4-5debcd7b4338",
      "metadata": {},
      "outputs": [],
      "source": [
        "<h4>What is the value of the slope (b)?</h4>\n"
      ]
    },
    {
      "cell_type": "code",
      "id": "2ac5245e-09e9-46b2-b543-133e8fce3aaf",
      "metadata": {},
      "outputs": [],
      "source": [
        "lm.coef_"
      ]
    },
    {
      "cell_type": "markdown",
      "id": "30af0df3-b761-40ac-954f-01742a56a5af",
      "metadata": {},
      "outputs": [],
      "source": [
        "<h3>What is the final estimated linear model we get?</h3>\n"
      ]
    },
    {
      "cell_type": "markdown",
      "id": "db3575ce-bb9a-414c-a801-240948da2ad9",
      "metadata": {},
      "outputs": [],
      "source": [
        "As we saw above, we should get a final linear model with the structure:\n"
      ]
    },
    {
      "cell_type": "markdown",
      "id": "54017337-bda8-44e6-bbe8-7352738b0527",
      "metadata": {},
      "outputs": [],
      "source": [
        "$$\nYhat = a + b  X\n$$\n"
      ]
    },
    {
      "cell_type": "markdown",
      "id": "8872c208-3015-431c-b5c9-c9ea9a9f96fa",
      "metadata": {},
      "outputs": [],
      "source": [
        "Plugging in the actual values we get:\n"
      ]
    },
    {
      "cell_type": "markdown",
      "id": "9c80c2fc-d715-48c4-acb9-8f018b813f5d",
      "metadata": {},
      "outputs": [],
      "source": [
        "<b>Volume</b> = 596048.9 - 33.4 x <b>BTC_price</b>\n"
      ]
    },
    {
      "cell_type": "markdown",
      "id": "6aff311a-10b2-4251-8a1e-041775924c24",
      "metadata": {},
      "outputs": [],
      "source": [
        "<div class=\"alert alert-danger alertdanger\" style=\"margin-top: 20px\">\n<h1>Question #1 a): </h1>\n\n<b>Create a linear regression object called \"lm1\".</b>\n\n</div>\n"
      ]
    },
    {
      "cell_type": "code",
      "id": "f2b985ab-9c57-455f-b360-5b9991f071af",
      "metadata": {},
      "outputs": [],
      "source": [
        "# Write your code below and press Shift+Enter to execute \n"
      ]
    },
    {
      "cell_type": "markdown",
      "id": "bdb5becb-2295-42b9-846e-1245a2658084",
      "metadata": {},
      "outputs": [],
      "source": [
        "<details><summary>Click here for the solution</summary>\n\n```python\nlm1 = LinearRegression()\nlm1\n```\n\n</details>\n"
      ]
    },
    {
      "cell_type": "markdown",
      "id": "7dfb528a-eb40-4373-a3ee-4f9d4ef59a2b",
      "metadata": {},
      "outputs": [],
      "source": [
        "<div class=\"alert alert-danger alertdanger\" style=\"margin-top: 20px\">\n<h1> Question #1 b): </h1>\n\n<b>Train the model using \"Volume\" as the independent variable and \"ATR\" as the dependent variable?</b>\n\n</div>\n"
      ]
    },
    {
      "cell_type": "code",
      "id": "a044d998-ba07-4427-9326-a8c38e86af78",
      "metadata": {},
      "outputs": [],
      "source": [
        "# Write your code below and press Shift+Enter to execute \n"
      ]
    },
    {
      "cell_type": "markdown",
      "id": "a823c994-453a-4c31-9b0c-6eb64883a98f",
      "metadata": {},
      "outputs": [],
      "source": [
        "<details><summary>Click here for the solution</summary>\n\n```python\nlm1.fit(df[['Volume']], df[['ATR']])\nlm1\n```\n\n</details>\n"
      ]
    },
    {
      "cell_type": "markdown",
      "id": "eaa217ee-fc20-42fe-a940-591c5c50d137",
      "metadata": {},
      "outputs": [],
      "source": [
        "<div class=\"alert alert-danger alertdanger\" style=\"margin-top: 20px\">\n<h1>Question #1 c):</h1>\n\n<b>Find the slope and intercept of the model.</b>\n\n</div>\n"
      ]
    },
    {
      "cell_type": "markdown",
      "id": "8d92ab82-9e27-4b02-b7bb-9774d42b1c1f",
      "metadata": {},
      "outputs": [],
      "source": [
        "<h4>Slope</h4>\n"
      ]
    },
    {
      "cell_type": "code",
      "id": "d1f9c114-a6c4-4483-bb5a-112db1c72f2b",
      "metadata": {},
      "outputs": [],
      "source": [
        "# Write your code below and press Shift+Enter to execute \n"
      ]
    },
    {
      "cell_type": "markdown",
      "id": "7c694c89-3613-45f8-9698-233ba70bbcc4",
      "metadata": {},
      "outputs": [],
      "source": [
        "<details><summary>Click here for the solution</summary>\n    \n```python\n# Slope \nlm1.coef_\n```\n</details>\n"
      ]
    },
    {
      "cell_type": "markdown",
      "id": "75fe38c3-0d7b-4758-a91c-f45bd34998f3",
      "metadata": {},
      "outputs": [],
      "source": [
        "<h4>Intercept</h4>\n"
      ]
    },
    {
      "cell_type": "code",
      "id": "6dbbed9b-7858-45e4-b302-706e66b0caeb",
      "metadata": {},
      "outputs": [],
      "source": [
        "# Write your code below and press Shift+Enter to execute \n"
      ]
    },
    {
      "cell_type": "markdown",
      "id": "2cf37fde-156e-4f00-929c-c9b2d225d806",
      "metadata": {},
      "outputs": [],
      "source": [
        "\n<details><summary>Click here for the solution</summary>\n\n```python\n# Intercept\nlm1.intercept_\n```\n\n</details>\n"
      ]
    },
    {
      "cell_type": "markdown",
      "id": "eb2da731-27a9-4d87-b967-bddf3e621f90",
      "metadata": {},
      "outputs": [],
      "source": [
        "<div class=\"alert alert-danger alertdanger\" style=\"margin-top: 20px\">\n<h1>Question #1 d): </h1>\n\n<b>What is the equation of the predicted line? You can use x and yhat or \"Volume\" or \"ATR\".</b>\n\n</div>\n"
      ]
    },
    {
      "cell_type": "markdown",
      "id": "b9d92bb7-f8f8-477e-961c-78926e73b670",
      "metadata": {},
      "outputs": [],
      "source": [
        "<details><summary>Click here for the solution</summary>\n    \nATR = 0.00064273 + 7.75767248e-09 * Volume"
      ]
    },
    {
      "cell_type": "markdown",
      "id": "f86ea855-353a-4165-81cd-67dd8ebbb5e1",
      "metadata": {},
      "outputs": [],
      "source": [
        "<h4>Multiple Linear Regression</h4>\n"
      ]
    },
    {
      "cell_type": "markdown",
      "id": "8e9c575c-0f26-426f-a9cb-411ade8b834a",
      "metadata": {},
      "outputs": [],
      "source": [
        "<p>What if we want to predict car price using more than one variable?</p>\n\n<p>If we want to use more variables in our model to predict car price, we can use <b>Multiple Linear Regression</b>.\nMultiple Linear Regression is very similar to Simple Linear Regression, but this method is used to explain the relationship between one continuous response (dependent) variable and <b>two or more</b> predictor (independent) variables.\nMost of the real-world regression models involve multiple predictors. We will illustrate the structure by using four predictor variables, but these results can generalize to any integer:</p>\n"
      ]
    },
    {
      "cell_type": "markdown",
      "id": "1df9c8cd-ccca-4287-b07a-4824626ebbf5",
      "metadata": {},
      "outputs": [],
      "source": [
        "$$\nY: Response \\ Variable\\\\\\\\\\\\\\\\\\\\\nX\\_1 :Predictor\\ Variable \\ 1\\\\\\\\\nX\\_2: Predictor\\ Variable \\ 2\\\\\\\\\nX\\_3: Predictor\\ Variable \\ 3\\\\\\\\\nX\\_4: Predictor\\ Variable \\ 4\\\\\\\\\n$$\n"
      ]
    },
    {
      "cell_type": "markdown",
      "id": "665526dc-4b20-4f65-9344-20629b8c6776",
      "metadata": {},
      "outputs": [],
      "source": [
        "$$\na: intercept\\\\\\\\\\\\\\\\\\\\\nb\\_1 :coefficients \\ of\\ Variable \\ 1\\\\\\\\\nb\\_2: coefficients \\ of\\ Variable \\ 2\\\\\\\\\nb\\_3: coefficients \\ of\\ Variable \\ 3\\\\\\\\\nb\\_4: coefficients \\ of\\ Variable \\ 4\\\\\\\\\n$$\n"
      ]
    },
    {
      "cell_type": "markdown",
      "id": "fb7ab2bd-6cbb-4db9-957e-316747cd9743",
      "metadata": {},
      "outputs": [],
      "source": [
        "The equation is given by:\n"
      ]
    },
    {
      "cell_type": "markdown",
      "id": "16e07630-af63-4baa-bfb0-a1fa895528c8",
      "metadata": {},
      "outputs": [],
      "source": [
        "$$\nYhat = a + b\\_1 X\\_1 + b\\_2 X\\_2 + b\\_3 X\\_3 + b\\_4 X\\_4\n$$\n"
      ]
    },
    {
      "cell_type": "markdown",
      "id": "5919833a-0c64-4d80-b867-c6f8676c6668",
      "metadata": {},
      "outputs": [],
      "source": [
        "<p>From the previous section  we know that other good predictors of price could be:</p>\n<ul>\n    <li>Rec_count</li>\n    <li>OBV</li>\n    <li>Avg_price</li>\n    <li>BTC_price</li>\n</ul>\nLet's develop a model using these variables as the predictor variables.\n"
      ]
    },
    {
      "cell_type": "code",
      "id": "1398a35e-3f94-4ce2-98d6-e5fdc06538d4",
      "metadata": {},
      "outputs": [],
      "source": [
        "Z = df[['ATR', 'Rec_count', 'BTC_price', 'BNB_price']]"
      ]
    },
    {
      "cell_type": "markdown",
      "id": "cc7a91ad-ba2f-463c-909f-4068ec0cf9a1",
      "metadata": {},
      "outputs": [],
      "source": [
        "Fit the linear model using the four above-mentioned variables.\n"
      ]
    },
    {
      "cell_type": "code",
      "id": "814f290e-7479-47c0-82fb-25f92f8c90c9",
      "metadata": {},
      "outputs": [],
      "source": [
        "lm.fit(Z, df['Volume'])"
      ]
    },
    {
      "cell_type": "markdown",
      "id": "f9dfaa93-f02c-49d5-bf47-ffaaad64e5ce",
      "metadata": {},
      "outputs": [],
      "source": [
        "What is the value of the intercept(a)?\n"
      ]
    },
    {
      "cell_type": "code",
      "id": "5618b72f-bb6c-4ba3-9652-c899a85c3655",
      "metadata": {},
      "outputs": [],
      "source": [
        "lm.intercept_"
      ]
    },
    {
      "cell_type": "markdown",
      "id": "2b4d44b6-d5cc-46e7-9752-750cb1ae1d2c",
      "metadata": {},
      "outputs": [],
      "source": [
        "What are the values of the coefficients (b1, b2, b3, b4)?\n"
      ]
    },
    {
      "cell_type": "code",
      "id": "8bc78d0e-ece8-468d-93dd-2abda765174a",
      "metadata": {},
      "outputs": [],
      "source": [
        "lm.coef_"
      ]
    },
    {
      "cell_type": "markdown",
      "id": "07a23d8b-46a0-4033-b1b5-0dbf17712308",
      "metadata": {},
      "outputs": [],
      "source": [
        "What is the final estimated linear model that we get?\n"
      ]
    },
    {
      "cell_type": "markdown",
      "id": "c98d2871-80d4-4106-88f1-5c4ee7534f6a",
      "metadata": {},
      "outputs": [],
      "source": [
        "As we saw above, we should get a final linear function with the structure:\n\n$$\nYhat = a + b\\_1 X\\_1 + b\\_2 X\\_2 + b\\_3 X\\_3 + b\\_4 X\\_4\n$$\n\nWhat is the linear function we get in this example?\n"
      ]
    },
    {
      "cell_type": "markdown",
      "id": "322c9b88-f7c0-4105-b0a1-15fe34713b52",
      "metadata": {},
      "outputs": [],
      "source": [
        "<b>Price</b> = -155001.788736582 + -5.51567207e+04 x <b>Avg_price</b> - 4.79404856e-04 x <b>OBV</b> + 3.13748564e+03 x <b>Rec_count</b> + 1.12031838e+01 x <b>BTC_price</b>\n"
      ]
    },
    {
      "cell_type": "markdown",
      "id": "eb1efafb-41a9-4741-bb3b-687ee6e6024a",
      "metadata": {},
      "outputs": [],
      "source": [
        "<div class=\"alert alert-danger alertdanger\" style=\"margin-top: 20px\">\n<h1> Question  #2 a): </h1>\nCreate and train a Multiple Linear Regression model \"lm2\" where the response variable is \"Volume\", and the predictor variable is \"BTC_price\" and  \"RSI\".\n</div>\n"
      ]
    },
    {
      "cell_type": "code",
      "id": "83e5421e-b742-4df7-958a-d874fa901274",
      "metadata": {},
      "outputs": [],
      "source": [
        "# Write your code below and press Shift+Enter to execute \n"
      ]
    },
    {
      "cell_type": "markdown",
      "id": "d3d2cd7d-3a89-4d55-a923-5d81661ca54f",
      "metadata": {},
      "outputs": [],
      "source": [
        "<details><summary>Click here for the solution</summary>\n\n```python\nlm2 = LinearRegression()\nlm2.fit(df[['Rec_count' , 'ATR']],df['Volume'])\n\n```\n\n</details>\n"
      ]
    },
    {
      "cell_type": "markdown",
      "id": "92859ef3-c38f-4f68-8494-79d785a06884",
      "metadata": {},
      "outputs": [],
      "source": [
        "<div class=\"alert alert-danger alertdanger\" style=\"margin-top: 20px\">\n<h1>Question  #2 b): </h1>\n<b>Find the coefficient of the model.</b>\n</div>\n"
      ]
    },
    {
      "cell_type": "code",
      "id": "7e8e7de0-7d7c-43f9-9939-6ad0283f5380",
      "metadata": {},
      "outputs": [],
      "source": [
        "# Write your code below and press Shift+Enter to execute \n"
      ]
    },
    {
      "cell_type": "markdown",
      "id": "d038a8f0-9d57-4a00-8b50-b3cdd3d36923",
      "metadata": {},
      "outputs": [],
      "source": [
        "<details><summary>Click here for the solution</summary>\n\n```python\nlm2.coef_\n\n```\n\n</details>\n"
      ]
    },
    {
      "cell_type": "markdown",
      "id": "906555d1-78ca-43df-b158-9c3ffce387d4",
      "metadata": {},
      "outputs": [],
      "source": [
        "<h2>2. Model Evaluation Using Visualization</h2>\n"
      ]
    },
    {
      "cell_type": "markdown",
      "id": "ccf7d614-3977-40db-a928-c7d0fe8568eb",
      "metadata": {},
      "outputs": [],
      "source": [
        "Now that we've developed some models, how do we evaluate our models and choose the best one? One way to do this is by using a visualization.\n"
      ]
    },
    {
      "cell_type": "markdown",
      "id": "9dda75f9-6443-448d-b60c-df1f77e66aec",
      "metadata": {},
      "outputs": [],
      "source": [
        "<h3>Regression Plot</h3>\n"
      ]
    },
    {
      "cell_type": "markdown",
      "id": "e0122818-7a80-46c1-a62c-402a61cc6fca",
      "metadata": {},
      "outputs": [],
      "source": [
        "<p>When it comes to simple linear regression, an excellent way to visualize the fit of our model is by using <b>regression plots</b>.</p>\n\n<p>This plot will show a combination of a scattered data points (a <b>scatterplot</b>), as well as the fitted <b>linear regression</b> line going through the data. This will give us a reasonable estimate of the relationship between the two variables, the strength of the correlation, as well as the direction (positive or negative correlation).</p>\n"
      ]
    },
    {
      "cell_type": "markdown",
      "id": "2b9729d7-ab48-4d1a-aadb-4f225e4acf90",
      "metadata": {},
      "outputs": [],
      "source": [
        "Let's visualize **Volume** as potential predictor variable of BTC_price:\n"
      ]
    },
    {
      "cell_type": "code",
      "id": "f8ba5383-45f2-4804-aae2-4918c5623d88",
      "metadata": {},
      "outputs": [],
      "source": [
        "width = 12\nheight = 10\nplt.figure(figsize=(width, height))\nsns.regplot(x=\"BTC_price\", y=\"Volume\", data=df)"
      ]
    },
    {
      "cell_type": "markdown",
      "id": "ec623fa8-0164-4fbe-9c43-3a158e92bb92",
      "metadata": {},
      "outputs": [],
      "source": [
        "<p>We can see from this plot that price is negatively correlated to Open since the regression slope is negative.\n\nOne thing to keep in mind when looking at a regression plot is to pay attention to how scattered the data points are around the regression line. This will give you a good indication of the variance of the data and whether a linear model would be the best fit or not. If the data is too far off from the line, this linear model might not be the best model for this data.\n\nLet's compare this plot to the regression plot of \"Open\".</p>\n"
      ]
    },
    {
      "cell_type": "code",
      "id": "8882d102-cbb1-49a6-bc4c-2838710fa66c",
      "metadata": {},
      "outputs": [],
      "source": [
        "plt.figure(figsize=(width, height))\nsns.regplot(x=\"ATR\", y=\"Volume\", data=df)"
      ]
    },
    {
      "cell_type": "markdown",
      "id": "1bc0f016-5b27-4bd8-8f5e-1048ebb7da44",
      "metadata": {},
      "outputs": [],
      "source": [
        "<p>Comparing the regression plot of \"BTC_price\" and \"Open\", we see that the both of points for \"BTC_price\" and \"Open\" are more spread around the predicted line and it is much harder to determine if the points are decreasing or increasing\n"
      ]
    },
    {
      "cell_type": "markdown",
      "id": "a8a4eb16-547b-4a0f-be8d-7df477c71735",
      "metadata": {},
      "outputs": [],
      "source": [
        "<div class=\"alert alert-danger alertdanger\" style=\"margin-top: 20px\">\n<h1>Question #3:</h1>\n<b>Given the regression plots above, is \"Avg_price\" or \"Rec_count\" more strongly correlated with \"Volume\"? Use the method  \".corr()\" to verify your answer.</b>\n</div>\n"
      ]
    },
    {
      "cell_type": "code",
      "id": "ba398b62-b4f8-4d1d-a360-7c8d64328007",
      "metadata": {},
      "outputs": [],
      "source": [
        "# Write your code below and press Shift+Enter to execute \n# The variable \"Open\" has a stronger correlation with \"price\", it is approximate -0.704692  compared to \"BTC_price\" which is approximate -0.101616. You can verify it using the following command:\n\ndf[[\"Volume\",\"ATR\",\"BTC_price\"]].corr()"
      ]
    },
    {
      "cell_type": "markdown",
      "id": "b2061601-cbb7-4cd5-bee7-af272b8d3bd5",
      "metadata": {},
      "outputs": [],
      "source": [
        "<details><summary>Click here for the solution</summary>\n\n```python\n# The variable \"Open\" has a stronger correlation with \"price\", it is approximate -0.704692  compared to \"BTC_price\" which is approximate -0.101616. You can verify it using the following command:\n\ndf[[\"Open\",\"Avg_price\",\"BTC_price\"]].corr()\n\n```\n\n</details>\n"
      ]
    },
    {
      "cell_type": "markdown",
      "id": "a55cc30f-81ae-4c74-8d61-f3375bd8aa02",
      "metadata": {},
      "outputs": [],
      "source": [
        "<h3>Residual Plot</h3>\n\n<p>A good way to visualize the variance of the data is to use a residual plot.</p>\n\n<p>What is a <b>residual</b>?</p>\n\n<p>The difference between the observed value (y) and the predicted value (Yhat) is called the residual (e). When we look at a regression plot, the residual is the distance from the data point to the fitted regression line.</p>\n\n<p>So what is a <b>residual plot</b>?</p>\n\n<p>A residual plot is a graph that shows the residuals on the vertical y-axis and the independent variable on the horizontal x-axis.</p>\n\n<p>What do we pay attention to when looking at a residual plot?</p>\n\n<p>We look at the spread of the residuals:</p>\n\n<p>- If the points in a residual plot are <b>randomly spread out around the x-axis</b>, then a <b>linear model is appropriate</b> for the data.\n\nWhy is that? Randomly spread out residuals means that the variance is constant, and thus the linear model is a good fit for this data.</p>\n"
      ]
    },
    {
      "cell_type": "code",
      "id": "5f8b85e2-9def-4b25-8745-75592cb61c54",
      "metadata": {},
      "outputs": [],
      "source": [
        "width = 12\nheight = 10\nplt.figure(figsize=(width, height))\nsns.residplot(y=df['Volume'],x=df['Rec_count'])\nplt.show()"
      ]
    },
    {
      "cell_type": "markdown",
      "id": "f32e3fbb-563a-46ba-96a5-9231f2abf833",
      "metadata": {},
      "outputs": [],
      "source": [
        "<i>What is this plot telling us?</i>\n\n<p>We can see from this residual plot that the residuals are not randomly spread around the x-axis, leading us to believe that maybe a non-linear model is more appropriate for this data.</p>\n"
      ]
    },
    {
      "cell_type": "markdown",
      "id": "349f973b-cee2-4345-8ba0-bed1a47314bf",
      "metadata": {},
      "outputs": [],
      "source": [
        "<h3>Multiple Linear Regression</h3>\n"
      ]
    },
    {
      "cell_type": "markdown",
      "id": "fe34ec36-92c9-4c0a-be99-a128df8b5e7b",
      "metadata": {},
      "outputs": [],
      "source": [
        "<p>How do we visualize a model for Multiple Linear Regression? This gets a bit more complicated because you can't visualize it with regression or residual plot.</p>\n\n<p>One way to look at the fit of the model is by looking at the <b>distribution plot</b>. We can look at the distribution of the fitted values that result from the model and compare it to the distribution of the actual values.</p>\n"
      ]
    },
    {
      "cell_type": "markdown",
      "id": "1c2d636e-5538-4bce-a8dd-bfd277fa461b",
      "metadata": {},
      "outputs": [],
      "source": [
        "First, let's make a prediction:\n"
      ]
    },
    {
      "cell_type": "code",
      "id": "20b95d4a-2a41-4bcf-9682-7f35f24efbcf",
      "metadata": {},
      "outputs": [],
      "source": [
        "Y_hat = lm.predict(Z)\n"
      ]
    },
    {
      "cell_type": "code",
      "id": "60b8ceed-c7bd-4fb6-b21f-50961c05ddf2",
      "metadata": {},
      "outputs": [],
      "source": [
        "Z"
      ]
    },
    {
      "cell_type": "code",
      "id": "f01f9d19-f5cb-446f-94c8-918158c241f5",
      "metadata": {},
      "outputs": [],
      "source": [
        "plt.figure(figsize=(width, height))\n\n\nax1 = sns.distplot(df['Volume'], hist=False, color=\"r\", label=\"Actual Value\")\nsns.distplot(Y_hat, hist=False, color=\"b\", label=\"Fitted Values\" , ax=ax1)\n\n\nplt.title('Actual vs Fitted Values for Volume')\nplt.xlabel('Rate')\nplt.ylabel('Proportion of Volume')\n\nplt.show()\nplt.close()"
      ]
    },
    {
      "cell_type": "markdown",
      "id": "d6780364-a223-4b29-be88-a730d89af8d7",
      "metadata": {},
      "outputs": [],
      "source": [
        "<p>We can see that the fitted values are reasonably close to the actual values since the two distributions overlap a bit. However, there is definitely some room for improvement.</p>\n"
      ]
    },
    {
      "cell_type": "markdown",
      "id": "4bde8530-16ba-4fdf-9df6-bc91e6d4c754",
      "metadata": {},
      "outputs": [],
      "source": [
        "<h2>3. Polynomial Regression and Pipelines</h2>\n"
      ]
    },
    {
      "cell_type": "markdown",
      "id": "4715381b-7692-41e3-a8c0-d8491877cf4b",
      "metadata": {},
      "outputs": [],
      "source": [
        "<p><b>Polynomial regression</b> is a particular case of the general linear regression model or multiple linear regression models.</p> \n<p>We get non-linear relationships by squaring or setting higher-order terms of the predictor variables.</p>\n\n<p>There are different orders of polynomial regression:</p>\n"
      ]
    },
    {
      "cell_type": "markdown",
      "id": "1f0c65dc-ff57-4920-84f1-10564245739d",
      "metadata": {},
      "outputs": [],
      "source": [
        "<center><b>Quadratic - 2nd Order</b></center>\n$$\nYhat = a + b_1 X +b_2 X^2 \n$$\n\n<center><b>Cubic - 3rd Order</b></center>\n$$\nYhat = a + b_1 X +b_2 X^2 +b_3 X^3\\\\\\\\\\\\\\\\\\\\\n$$\n\n<center><b>Higher-Order</b>:</center>\n$$\nY = a + b_1 X +b_2 X^2 +b_3 X^3 ....\\\\\\\\\n$$\n"
      ]
    },
    {
      "cell_type": "markdown",
      "id": "d9616cd6-22df-4911-9e5e-e1878a95282a",
      "metadata": {},
      "outputs": [],
      "source": [
        "<p>We saw earlier that a linear model did not provide the best fit while using \"Open\" as the predictor variable. Let's see if we can try fitting a polynomial model to the data instead.</p>\n"
      ]
    },
    {
      "cell_type": "markdown",
      "id": "00ec7e7a-5da4-4580-ba59-2fdebe22af21",
      "metadata": {},
      "outputs": [],
      "source": [
        "<p>We will use the following function to plot the data:</p>\n"
      ]
    },
    {
      "cell_type": "code",
      "id": "afc06eca-00a2-4b83-8afd-d23aeaa2fd86",
      "metadata": {},
      "outputs": [],
      "source": [
        "def PlotPolly(model, independent_variable, dependent_variabble, Name):\n    x_new = np.linspace(15, 100, 100)\n    y_new = model(x_new)\n\n    plt.plot(independent_variable, dependent_variabble, '.', x_new, y_new, '-')\n    plt.title('Polynomial Fit with Matplotlib for Price')\n    ax = plt.gca()\n    ax.set_facecolor((0.898, 0.898, 0.898))\n    fig = plt.gcf()\n    plt.xlabel(Name)\n    plt.ylabel('Record Couts')\n\n    plt.show()\n    plt.close()"
      ]
    },
    {
      "cell_type": "markdown",
      "id": "3247b7ad-840e-4209-b85e-858c2601f4f9",
      "metadata": {},
      "outputs": [],
      "source": [
        "Let's get the variables:\n"
      ]
    },
    {
      "cell_type": "code",
      "id": "3e0f61a4-4ab4-4dea-a90a-31dda27cb090",
      "metadata": {},
      "outputs": [],
      "source": [
        "y = df['Volume']\nx = df['Rec_count']"
      ]
    },
    {
      "cell_type": "markdown",
      "id": "fe6d91e3-8c2d-44bb-a7f3-32f158e59021",
      "metadata": {},
      "outputs": [],
      "source": [
        "Let's fit the polynomial using the function <b>polyfit</b>, then use the function <b>poly1d</b> to display the polynomial function.\n"
      ]
    },
    {
      "cell_type": "code",
      "id": "a3655288-0220-409f-a323-99e0f5c3dac6",
      "metadata": {},
      "outputs": [],
      "source": [
        "# Here we use a polynomial of the 3rd order (cubic) \nf = np.polyfit(x, y, 3)\np = np.poly1d(f)\nprint(p)"
      ]
    },
    {
      "cell_type": "markdown",
      "id": "7f6f31e5-b561-486b-b689-96beb5a97531",
      "metadata": {},
      "outputs": [],
      "source": [
        "Let's plot the function:\n"
      ]
    },
    {
      "cell_type": "code",
      "id": "bb0ad6aa-7160-4591-abf6-bafe50cbf3fe",
      "metadata": {},
      "outputs": [],
      "source": [
        "PlotPolly(p, x, y, 'Volume')"
      ]
    },
    {
      "cell_type": "code",
      "id": "cfc1dd2d-bcba-4961-86c3-5057c98ca942",
      "metadata": {},
      "outputs": [],
      "source": [
        "np.polyfit(x, y, 3)"
      ]
    },
    {
      "cell_type": "markdown",
      "id": "11fb364f-29df-4cce-b0e8-2a0034b1d320",
      "metadata": {},
      "outputs": [],
      "source": [
        "<p>We can already see from plotting that this polynomial model performs better than the linear model. This is because the generated polynomial function  \"hits\" more of the data points.</p>\n"
      ]
    },
    {
      "cell_type": "markdown",
      "id": "ffce6797-08d7-47a9-9daa-5f1270fbc816",
      "metadata": {},
      "outputs": [],
      "source": [
        "<div class=\"alert alert-danger alertdanger\" style=\"margin-top: 20px\">\n<h1>Question  #4:</h1>\n<b>Create 11 order polynomial model with the variables x and y from above.</b>\n</div>\n"
      ]
    },
    {
      "cell_type": "code",
      "id": "9bcf9583-31b2-401a-8c50-021e56151aab",
      "metadata": {},
      "outputs": [],
      "source": [
        "# Write your code below and press Shift+Enter to execute "
      ]
    },
    {
      "cell_type": "markdown",
      "id": "0241b831-ffbe-49f4-b7d4-fe944e3e6d0e",
      "metadata": {},
      "outputs": [],
      "source": [
        "<details><summary>Click here for the solution</summary>\n\n```python\n# Here we use a polynomial of the 11rd order (cubic) \nf1 = np.polyfit(x, y, 11)\np1 = np.poly1d(f1)\nprint(p1)\nPlotPolly(p1,x,y, 'Volume')\n\n```\n\n</details>\n"
      ]
    },
    {
      "cell_type": "markdown",
      "id": "c8b3df7b-4fdc-4ba1-9837-6f9b9b06910a",
      "metadata": {},
      "outputs": [],
      "source": [
        "<p>The analytical expression for Multivariate Polynomial function gets complicated. For example, the expression for a second-order (degree=2) polynomial with two variables is given by:</p>\n"
      ]
    },
    {
      "cell_type": "markdown",
      "id": "410374af-c074-4925-99ae-e51a6cb41242",
      "metadata": {},
      "outputs": [],
      "source": [
        "$$\nYhat = a + b\\_1 X\\_1 +b\\_2 X\\_2 +b\\_3 X\\_1 X\\_2+b\\_4 X\\_1^2+b\\_5 X\\_2^2\n$$\n"
      ]
    },
    {
      "cell_type": "markdown",
      "id": "be4d2c89-8312-48ad-9be7-b3ca0eb9ec23",
      "metadata": {},
      "outputs": [],
      "source": [
        "We create a <b>PolynomialFeatures</b> object of degree 2:\n"
      ]
    },
    {
      "cell_type": "code",
      "id": "d8207bde-da8b-454c-b819-bd1c4c746843",
      "metadata": {},
      "outputs": [],
      "source": [
        "pr=PolynomialFeatures(degree=2)\npr"
      ]
    },
    {
      "cell_type": "code",
      "id": "ff895b10-de5b-4b04-a2d0-5ec6bc8852db",
      "metadata": {},
      "outputs": [],
      "source": [
        "Z_pr=pr.fit_transform(Z)"
      ]
    },
    {
      "cell_type": "markdown",
      "id": "335cf552-37c5-497b-942c-d9bc4928dcb0",
      "metadata": {},
      "outputs": [],
      "source": [
        "In the original data, there are 66847 samples and 4 features.\n"
      ]
    },
    {
      "cell_type": "code",
      "id": "b5092e29-412d-42bb-b935-2cdbf828297b",
      "metadata": {},
      "outputs": [],
      "source": [
        "Z.shape"
      ]
    },
    {
      "cell_type": "markdown",
      "id": "3b04be19-5776-4f45-a701-cead6aaaa18c",
      "metadata": {},
      "outputs": [],
      "source": [
        "After the transformation, there are 66847 samples and 15 features.\n"
      ]
    },
    {
      "cell_type": "code",
      "id": "606d5ad1-56cf-4b47-a1e7-592860c5cfcd",
      "metadata": {},
      "outputs": [],
      "source": [
        "Z_pr.shape"
      ]
    },
    {
      "cell_type": "markdown",
      "id": "80ccfc85-3e3a-47de-a220-9da40326c445",
      "metadata": {},
      "outputs": [],
      "source": [
        "<h2>Pipeline</h2>\n"
      ]
    },
    {
      "cell_type": "markdown",
      "id": "592c5041-846b-4b95-b0fa-89fbfcff31f6",
      "metadata": {},
      "outputs": [],
      "source": [
        "<p>Data Pipelines simplify the steps of processing the data. We use the module <b>Pipeline</b> to create a pipeline. We also use <b>StandardScaler</b> as a step in our pipeline.</p>\n"
      ]
    },
    {
      "cell_type": "markdown",
      "id": "9036a236-df90-499d-8750-df47a631d468",
      "metadata": {},
      "outputs": [],
      "source": [
        "We create the pipeline by creating a list of tuples including the name of the model or estimator and its corresponding constructor.\n"
      ]
    },
    {
      "cell_type": "code",
      "id": "936f1715-213e-4ed9-896e-1919e6cc4888",
      "metadata": {},
      "outputs": [],
      "source": [
        "Input=[('scale',StandardScaler()), ('polynomial', PolynomialFeatures(include_bias=False)), ('model',LinearRegression())]"
      ]
    },
    {
      "cell_type": "markdown",
      "id": "8cd61cfe-d690-4332-ae4a-6d23ba780393",
      "metadata": {},
      "outputs": [],
      "source": [
        "We input the list as an argument to the pipeline constructor:\n"
      ]
    },
    {
      "cell_type": "code",
      "id": "511e51c6-d970-4eae-8b7c-e40ff04205e6",
      "metadata": {},
      "outputs": [],
      "source": [
        "pipe=Pipeline(Input)\npipe"
      ]
    },
    {
      "cell_type": "markdown",
      "id": "ce30fb97-8baf-4e2d-bdf4-ef2e44224a78",
      "metadata": {},
      "outputs": [],
      "source": [
        "First, we convert the data type Z to type float to avoid conversion warnings that may appear as a result of StandardScaler taking float inputs.\n\nThen, we can normalize the data,  perform a transform and fit the model simultaneously.\n"
      ]
    },
    {
      "cell_type": "code",
      "id": "837d4775-5a25-49eb-9861-8a75a8f3676b",
      "metadata": {},
      "outputs": [],
      "source": [
        "Z = Z.astype(float)\npipe.fit(Z,y)"
      ]
    },
    {
      "cell_type": "markdown",
      "id": "4de40f9c-eea5-4355-972a-4f9426a2d9f9",
      "metadata": {},
      "outputs": [],
      "source": [
        "Similarly,  we can normalize the data, perform a transform and produce a prediction  simultaneously.\n"
      ]
    },
    {
      "cell_type": "code",
      "id": "864b2811-ff19-4e19-b1fe-7f985f834e6d",
      "metadata": {},
      "outputs": [],
      "source": [
        "ypipe=pipe.predict(Z)\nypipe[0:4]"
      ]
    },
    {
      "cell_type": "markdown",
      "id": "0cc6569f-c5fc-4f8b-94c1-7adc6f1b3c68",
      "metadata": {},
      "outputs": [],
      "source": [
        "<div class=\"alert alert-danger alertdanger\" style=\"margin-top: 20px\">\n<h1>Question #5:</h1>\n<b>Create a pipeline that standardizes the data, then produce a prediction using a linear regression model using the features Z and target y.</b>\n</div>\n"
      ]
    },
    {
      "cell_type": "code",
      "id": "304a6a3b-e8d5-449b-a392-f626e1aed496",
      "metadata": {},
      "outputs": [],
      "source": [
        "# Write your code below and press Shift+Enter to execute "
      ]
    },
    {
      "cell_type": "markdown",
      "id": "3ebd3a7b-62bb-4983-8583-16c37b486de5",
      "metadata": {},
      "outputs": [],
      "source": [
        "<details><summary>Click here for the solution</summary>\n\n```python\nInput=[('scale',StandardScaler()),('model',LinearRegression())]\n\npipe=Pipeline(Input)\n\npipe.fit(Z,y)\n\nypipe=pipe.predict(Z)\nypipe[0:10]\n\n```\n\n</details>\n"
      ]
    },
    {
      "cell_type": "markdown",
      "id": "a86f8f2c-d38f-4f64-b5f5-e7859f18305f",
      "metadata": {},
      "outputs": [],
      "source": [
        "<h2>4. Measures for In-Sample Evaluation</h2>\n"
      ]
    },
    {
      "cell_type": "markdown",
      "id": "d522f247-e2fe-4781-8c5b-d762d9dbf02c",
      "metadata": {},
      "outputs": [],
      "source": [
        "<p>When evaluating our models, not only do we want to visualize the results, but we also want a quantitative measure to determine how accurate the model is.</p>\n\n<p>Two very important measures that are often used in Statistics to determine the accuracy of a model are:</p>\n<ul>\n    <li><b>R^2 / R-squared</b></li>\n    <li><b>Mean Squared Error (MSE)</b></li>\n</ul>\n\n<b>R-squared</b>\n\n<p>R squared, also known as the coefficient of determination, is a measure to indicate how close the data is to the fitted regression line.</p>\n\n<p>The value of the R-squared is the percentage of variation of the response variable (y) that is explained by a linear model.</p>\n\n<b>Mean Squared Error (MSE)</b>\n\n<p>The Mean Squared Error measures the average of the squares of errors. That is, the difference between actual value (y) and the estimated value (ŷ).</p>\n"
      ]
    },
    {
      "cell_type": "markdown",
      "id": "706e2424-4117-448b-a12e-bb5032cda370",
      "metadata": {},
      "outputs": [],
      "source": [
        "<h3>Model 1: Simple Linear Regression</h3>\n"
      ]
    },
    {
      "cell_type": "markdown",
      "id": "014ccfce-4538-492e-83d2-272cce911da7",
      "metadata": {},
      "outputs": [],
      "source": [
        "Let's calculate the R^2:\n"
      ]
    },
    {
      "cell_type": "code",
      "id": "dad72a16-9fe9-47ad-9d7d-45d457c55267",
      "metadata": {},
      "outputs": [],
      "source": [
        "#highway_mpg_fit\nlm.fit(X, Y)\n# Find the R^2\nprint('The R-square is: ', lm.score(X, Y))"
      ]
    },
    {
      "cell_type": "markdown",
      "id": "fd94892b-81a1-4b10-8ef1-f648b3d85268",
      "metadata": {},
      "outputs": [],
      "source": [
        "We can say that \\~0.37% of the variation of the price is explained by this simple linear model \"Rec_count\".\n"
      ]
    },
    {
      "cell_type": "markdown",
      "id": "509f3043-6e6c-4796-869c-59d9a623d909",
      "metadata": {},
      "outputs": [],
      "source": [
        "Let's calculate the MSE:\n"
      ]
    },
    {
      "cell_type": "markdown",
      "id": "809d2f23-ae02-4241-b68d-c8bf76a2bd78",
      "metadata": {},
      "outputs": [],
      "source": [
        "We can predict the output i.e., \"yhat\" using the predict method, where X is the input variable:\n"
      ]
    },
    {
      "cell_type": "code",
      "id": "c6a147fd-6b43-4671-8a00-602f685379ea",
      "metadata": {},
      "outputs": [],
      "source": [
        "Yhat=lm.predict(X)\nprint('The output of the first four predicted value is: ', Yhat[0:4])"
      ]
    },
    {
      "cell_type": "markdown",
      "id": "21bc56d2-1f41-48b0-a8a4-a7c2dd650f6f",
      "metadata": {},
      "outputs": [],
      "source": [
        "We can compare the predicted results with the actual results:\n"
      ]
    },
    {
      "cell_type": "code",
      "id": "0f442cd7-9441-4d31-a8b4-c442696cb6a6",
      "metadata": {},
      "outputs": [],
      "source": [
        "mse = mean_squared_error(Y, Yhat)\nprint('The mean square error of price and predicted value is: ', mse)"
      ]
    },
    {
      "cell_type": "markdown",
      "id": "b5fcd051-a9f4-4a30-991c-21a183551165",
      "metadata": {},
      "outputs": [],
      "source": [
        "<h3>Model 2: Multiple Linear Regression</h3>\n"
      ]
    },
    {
      "cell_type": "markdown",
      "id": "1807c9d3-c2e8-4c89-8d34-9f4e951a814b",
      "metadata": {},
      "outputs": [],
      "source": [
        "Let's calculate the R^2:\n"
      ]
    },
    {
      "cell_type": "code",
      "id": "149e0c12-84fe-40ee-a050-638459b52a87",
      "metadata": {},
      "outputs": [],
      "source": [
        "# fit the model \nlm.fit(Z, Y)\n# Find the R^2\nprint('The R-square is: ', lm.score(Z, df['Volume']))"
      ]
    },
    {
      "cell_type": "markdown",
      "id": "93993e69-b2c7-4e6a-a94e-0c9261c7ac77",
      "metadata": {},
      "outputs": [],
      "source": [
        "We can say that \\~46 % of the variation of price is explained by this multiple linear regression \"multi_fit\".\n"
      ]
    },
    {
      "cell_type": "markdown",
      "id": "942caa95-2569-49eb-b22a-674bc614cfc8",
      "metadata": {},
      "outputs": [],
      "source": [
        "Let's calculate the MSE.\n"
      ]
    },
    {
      "cell_type": "markdown",
      "id": "fd227a3d-fd0b-48a7-952f-0f5872907ec5",
      "metadata": {},
      "outputs": [],
      "source": [
        "We produce a prediction:\n"
      ]
    },
    {
      "cell_type": "code",
      "id": "3a84e207-865a-4788-b457-dd22c1ea65bf",
      "metadata": {},
      "outputs": [],
      "source": [
        "Y_predict_multifit = lm.predict(Z)"
      ]
    },
    {
      "cell_type": "markdown",
      "id": "e6d5e61f-0c84-4181-bbe7-db701f3524b9",
      "metadata": {},
      "outputs": [],
      "source": [
        "We compare the predicted results with the actual results:\n"
      ]
    },
    {
      "cell_type": "code",
      "id": "ac2dbf6d-fccc-4a5f-971b-605f2a2ce7cb",
      "metadata": {},
      "outputs": [],
      "source": [
        "print('The mean square error of price and predicted value using multifit is: ', \\\n      mean_squared_error(Y, Y_predict_multifit))"
      ]
    },
    {
      "cell_type": "markdown",
      "id": "545e4038-e6df-48a6-9e36-3a8a26b3dc86",
      "metadata": {},
      "outputs": [],
      "source": [
        "<h3>Model 3: Polynomial Fit</h3>\n"
      ]
    },
    {
      "cell_type": "markdown",
      "id": "885430da-1f7e-4325-a641-f2b8dbc44aa8",
      "metadata": {},
      "outputs": [],
      "source": [
        "Let's calculate the R^2.\n"
      ]
    },
    {
      "cell_type": "markdown",
      "id": "939f4ff0-e17c-44f2-a299-7d5a28022ed1",
      "metadata": {},
      "outputs": [],
      "source": [
        "We apply the function to get the value of R^2:\n"
      ]
    },
    {
      "cell_type": "code",
      "id": "b16b22f1-b488-4881-96ab-57972f52acd0",
      "metadata": {},
      "outputs": [],
      "source": [
        "r_squared = r2_score(y, p(x))\nprint('The R-square value is: ', r_squared)"
      ]
    },
    {
      "cell_type": "markdown",
      "id": "854800a8-d842-43e5-a42d-0b94c342a5cd",
      "metadata": {},
      "outputs": [],
      "source": [
        "We can say that \\~56.66 % of the variation of price is explained by this polynomial fit.\n"
      ]
    },
    {
      "cell_type": "markdown",
      "id": "9c6b4aa7-f0ea-4371-a923-7ba7759603e8",
      "metadata": {},
      "outputs": [],
      "source": [
        "<h3>MSE</h3>\n"
      ]
    },
    {
      "cell_type": "markdown",
      "id": "a9010bbb-9888-4ef0-a827-a67b93f3f178",
      "metadata": {},
      "outputs": [],
      "source": [
        "We can also calculate the MSE:\n"
      ]
    },
    {
      "cell_type": "code",
      "id": "f2409a99-d3cc-4a49-a467-9bea72fc281c",
      "metadata": {},
      "outputs": [],
      "source": [
        "mean_squared_error(Y, p(x))"
      ]
    },
    {
      "cell_type": "markdown",
      "id": "53a8ec87-88ae-4743-866d-f5f4d738da19",
      "metadata": {},
      "outputs": [],
      "source": [
        "<h2>5. Prediction and Decision Making</h2>\n<h3>Prediction</h3>\n\n<p>In the previous section, we trained the model using the method <b>fit</b>. Now we will use the method <b>predict</b> to produce a prediction. Lets import <b>pyplot</b> for plotting; we will also be using some functions from numpy.</p>\n"
      ]
    },
    {
      "cell_type": "markdown",
      "id": "e3463306-0297-42a3-b6d0-c4e6a7320103",
      "metadata": {},
      "outputs": [],
      "source": [
        "Create a new input:\n"
      ]
    },
    {
      "cell_type": "code",
      "id": "39c5414f-7b2a-4f00-a4ce-7ffd4c3151db",
      "metadata": {},
      "outputs": [],
      "source": [
        "new_input=np.arange(1, 100, 1).reshape(-1, 1)"
      ]
    },
    {
      "cell_type": "markdown",
      "id": "e8982825-f8df-4247-bb83-9431ddaa0df9",
      "metadata": {},
      "outputs": [],
      "source": [
        "Fit the model:\n"
      ]
    },
    {
      "cell_type": "code",
      "id": "fa0593d6-82b5-4412-b297-1dcb0ed32f6f",
      "metadata": {},
      "outputs": [],
      "source": [
        "lm.fit(X, Y)\nlm"
      ]
    },
    {
      "cell_type": "markdown",
      "id": "3b6b6413-e001-49c1-a8c4-8dcecb86f777",
      "metadata": {},
      "outputs": [],
      "source": [
        "Produce a prediction:\n"
      ]
    },
    {
      "cell_type": "code",
      "id": "6a31f644-cab3-4ff2-8df1-3a8b18d6180a",
      "metadata": {},
      "outputs": [],
      "source": [
        "yhat=lm.predict(new_input)\nyhat[0:5]"
      ]
    },
    {
      "cell_type": "markdown",
      "id": "3a1f1c18-142b-426d-8ed8-638365529d75",
      "metadata": {},
      "outputs": [],
      "source": [
        "We can plot the data:\n"
      ]
    },
    {
      "cell_type": "code",
      "id": "47f115e8-29f5-4568-af90-0a0006017d36",
      "metadata": {},
      "outputs": [],
      "source": [
        "plt.plot(new_input, yhat)\nplt.show()"
      ]
    },
    {
      "cell_type": "markdown",
      "id": "886b54c7-298f-4227-a0bc-22260f19c0da",
      "metadata": {},
      "outputs": [],
      "source": [
        "<h3>Decision Making: Determining a Good Model Fit</h3>\n"
      ]
    },
    {
      "cell_type": "markdown",
      "id": "769ba014-4b9d-4f92-abb1-ddf6a5dcf9f9",
      "metadata": {},
      "outputs": [],
      "source": [
        "<p>Now that we have visualized the different models, and generated the R-squared and MSE values for the fits, how do we determine a good model fit?\n<ul>\n    <li><i>What is a good R-squared value?</i></li>\n</ul>\n</p>\n\n<p>When comparing models, <b>the model with the higher R-squared value is a better fit</b> for the data.\n<ul>\n    <li><i>What is a good MSE?</i></li>\n</ul>\n</p>\n\n<p>When comparing models, <b>the model with the smallest MSE value is a better fit</b> for the data.</p>\n\n<h4>Let's take a look at the values for the different models.</h4>\n<p>Simple Linear Regression: Using Open as a Predictor Variable of Price.\n<ul>\n    <li>R-squared: 0.003875574686888039</li>\n    <li>MSE: 4,97 x10^9 </li>\n</ul>\n</p>\n\n<p>Multiple Linear Regression: Using Rec_count, Close, Volume, and Open as Predictor Variables of Price.\n<ul>\n    <li>R-squared: 0.460047585603527</li>\n    <li>MSE: 2 x10^9</li>\n</ul>\n</p>\n\n<p>Polynomial Fit: Using Open as a Predictor Variable of Price.\n<ul>\n    <li>R-squared: 0.5666324234342912</li>\n    <li>MSE: 4,99 x 10^9</li>\n</ul>\n</p>\n"
      ]
    },
    {
      "cell_type": "markdown",
      "id": "f5ffd4a4-c452-413c-8012-69ca6038e824",
      "metadata": {},
      "outputs": [],
      "source": [
        "<h3>Simple Linear Regression Model (SLR) vs Multiple Linear Regression Model (MLR)</h3>\n"
      ]
    },
    {
      "cell_type": "markdown",
      "id": "12212993-8edf-4827-a3ed-fadf038fc737",
      "metadata": {},
      "outputs": [],
      "source": [
        "<p>Usually, the more variables you have, the better your model is at predicting, but this is not always true. Sometimes you may not have enough data, you may run into numerical problems, or many of the variables may not be useful and even act as noise. As a result, you should always check the MSE and R^2.</p>\n\n<p>In order to compare the results of the MLR vs SLR models, we look at a combination of both the R-squared and MSE to make the best conclusion about the fit of the model.\n<ul>\n    <li><b>MSE</b>: The MSE of SLR is  3.16x10^7  while MLR has an MSE of 1.2 x10^7.  The MSE of MLR is much smaller.</li>\n    <li><b>R-squared</b>: In this case, we can also see that there is a big difference between the R-squared of the SLR and the R-squared of the MLR. The R-squared for the SLR (~0.497) is very small compared to the R-squared for the MLR (~0.809).</li>\n</ul>\n</p>\n\nThis R-squared in combination with the MSE show that MLR seems like the better model fit in this case compared to SLR.\n"
      ]
    },
    {
      "cell_type": "markdown",
      "id": "06288d0c-260f-4d97-9ca5-cde9f50a2232",
      "metadata": {},
      "outputs": [],
      "source": [
        "<h3>Simple Linear Model (SLR) vs. Polynomial Fit</h3>\n"
      ]
    },
    {
      "cell_type": "markdown",
      "id": "a6ccc7f2-8592-4e4d-a6da-827dff8feae9",
      "metadata": {},
      "outputs": [],
      "source": [
        "<ul>\n    <li><b>MSE</b>: We can see that Polynomial Fit brought down the MSE, since this MSE is smaller than the one from the SLR.</li> \n    <li><b>R-squared</b>: The R-squared for the Polynomial Fit is larger than the R-squared for the SLR, so the Polynomial Fit also brought up the R-squared quite a bit.</li>\n</ul>\n<p>Since the Polynomial Fit resulted in a lower MSE and a higher R-squared, we can conclude that this was a better fit model than the simple linear regression for predicting \"price\" with \"Open\" as a predictor variable.</p>\n"
      ]
    },
    {
      "cell_type": "markdown",
      "id": "04373f85-741a-48ad-b13f-d2f33020d58a",
      "metadata": {},
      "outputs": [],
      "source": [
        "<h3>Multiple Linear Regression (MLR) vs. Polynomial Fit</h3>\n"
      ]
    },
    {
      "cell_type": "markdown",
      "id": "c01b4560-29c8-48df-8475-fa0ad497394c",
      "metadata": {},
      "outputs": [],
      "source": [
        "<ul>\n    <li><b>MSE</b>: The MSE for the MLR is smaller than the MSE for the Polynomial Fit.</li>\n    <li><b>R-squared</b>: The R-squared for the MLR is also much larger than for the Polynomial Fit.</li>\n</ul>\n"
      ]
    },
    {
      "cell_type": "markdown",
      "id": "27632c00-18fb-461a-81b9-ff5676d0e679",
      "metadata": {},
      "outputs": [],
      "source": [
        "<h2>Conclusion</h2>\n"
      ]
    },
    {
      "cell_type": "markdown",
      "id": "47cf038b-9608-451f-a295-d1c259af4027",
      "metadata": {},
      "outputs": [],
      "source": [
        "<p>Comparing these three models, we conclude that <b>the MLR model is the best model</b> to be able to predict price from our dataset. This result makes sense since we have 27 variables in total and we know that more than one of those variables are potential predictors of the final car price.</p>\n"
      ]
    },
    {
      "cell_type": "markdown",
      "id": "8eb2557c-c06e-4a12-bfa8-e0050d3d0e3c",
      "metadata": {},
      "outputs": [],
      "source": [
        "# **Thank you for completing this lab!**\n\n## Author\n\n<a href=\"https://author.skills.network/instructors/ostap_liashenyk\" target=\"_blank\" >Ostap Liashenyk</a>\n\n<a href=\"https://author.skills.network/instructors/yaroslav_vyklyuk_2?utm_medium=Exinfluencer&utm_source=Exinfluencer&utm_content=000026UJ&utm_term=10006555&utm_id=NA-SkillsNetwork-Channel-SkillsNetworkGuidedProjectsIBMSkillsNetworkGPXX0QGDEN2306-2023-01-01\">Prof. Yaroslav Vyklyuk, DrSc, PhD</a>\n\n<a href=\"https://author.skills.network/instructors/mariya_fleychuk?utm_medium=Exinfluencer&utm_source=Exinfluencer&utm_content=000026UJ&utm_term=10006555&utm_id=NA-SkillsNetwork-Channel-SkillsNetworkGuidedProjectsIBMSkillsNetworkGPXX0QGDEN2306-2023-01-01\">Prof. Mariya Fleychuk, DrSc, PhD</a>\n\n\n\n## Change Log\n\n| Date (YYYY-MM-DD) | Version | Changed By      | Change Description                                         |\n| ----------------- | ------- | ----------------| ---------------------------------------------------------- |\n|     2023-04-01    |   1.0   | Ostap Liashenyk | Creation of the lab                                        |\n\n<hr>\n\n## <h3 align=\"center\"> © IBM Corporation 2023. All rights reserved. </h3>\n"
      ]
    },
    {
      "cell_type": "code",
      "id": "820106d4-bb70-4dc0-b411-2febff804ed7",
      "metadata": {},
      "outputs": [],
      "source": [
        ""
      ]
    }
  ],
  "metadata": {
    "language_info": {
      "name": ""
    },
    "kernelspec": {
      "name": "",
      "display_name": ""
    }
  },
  "nbformat": 4,
  "nbformat_minor": 4
}
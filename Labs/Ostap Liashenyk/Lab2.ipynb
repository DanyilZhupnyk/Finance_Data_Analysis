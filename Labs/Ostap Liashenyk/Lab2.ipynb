{
  "cells": [
    {
      "cell_type": "markdown",
      "id": "45732945-084b-43fd-aa8c-c9269c540de8",
      "metadata": {},
      "outputs": [],
      "source": [
        "<center>\n    <img src=\"https://cf-courses-data.s3.us.cloud-object-storage.appdomain.cloud/assets/logos/SN_web_lightmode.png\" width=\"300\" alt=\"cognitiveclass.ai logo\"  />\n</center>\n\n# Investigation of cryptocurrency exchange rate dynamic (Matic/USD), сalculation and analysis of technical financial indicators, characterizing the cryptocurrency market (ATR, OBV, RSI, AD)\n\n\n# Lab.2. Dataset wrangling (Matic/USD)\n\nEstimated time needed: **30** minutes\n\n## Objectives\n\nAfter completing this lab you will be able to:\n\n*   Handle missing values\n*   Correct data format\n*   Standardize and normalize data\n"
      ]
    },
    {
      "cell_type": "markdown",
      "id": "8e4b7a5c-1f50-4648-8ea1-b972a6eaa8a1",
      "metadata": {},
      "outputs": [],
      "source": [
        "<h2>Table of Contents</h2>\n\n<div class=\"alert alert-block alert-info\" style=\"margin-top: 20px\">\n<ul>\n    <li><a href=\"https://#identify_handle_missing_values\">Identify and handle missing values</a>\n        <ul>\n            <li><a href=\"https://#identify_missing_values\">Identify missing values</a></li>\n            <li><a href=\"https://#deal_missing_values\">Deal with missing values</a></li>\n            <li><a href=\"https://#correct_data_format\">Correct data format</a></li>\n        </ul>\n    </li>\n    <li><a href=\"https://#data_standardization\">Data standardization</a></li>\n    <li><a href=\"https://#data_normalization\">Data normalization (centering/scaling)</a></li>\n    <li><a href=\"https://#binning\">Binning</a></li>\n    <li><a href=\"https://#indicator\">Indicator variable</a></li>\n</ul>\n\n</div>\n\n<hr>\n"
      ]
    },
    {
      "cell_type": "markdown",
      "id": "797b40ce-9ba8-48fa-87aa-80f133ede46b",
      "metadata": {},
      "outputs": [],
      "source": [
        "<h2>What is the purpose of data wrangling?</h2>\n"
      ]
    },
    {
      "cell_type": "markdown",
      "id": "8844d376-38cc-4c21-9ebd-14da2b136919",
      "metadata": {},
      "outputs": [],
      "source": [
        "Data wrangling is the process of converting data from the initial format to a format that may be better for analysis.\n"
      ]
    },
    {
      "cell_type": "markdown",
      "id": "974abb0c-4f14-49c9-a612-54f92d82daef",
      "metadata": {},
      "outputs": [],
      "source": [
        "<h3>What is the price of BTC converted to USDT ?</h3>\n"
      ]
    },
    {
      "cell_type": "markdown",
      "id": "b3e76ebf-90f0-421d-886e-3a130392c4f1",
      "metadata": {},
      "outputs": [],
      "source": [
        "<h3>Import data</h3>\n<p>\n<li>Data source: <a href=\"https://cf-courses-data.s3.us.cloud-object-storage.appdomain.cloud/IBMSkillsNetwork-GPXX0Z9BEN/Lab1DataSet.csv\" target=\"_blank\">https://cf-courses-data.s3.us.cloud-object-storage.appdomain.cloud/IBMSkillsNetwork-GPXX0Z9BEN/Lab1DataSet.csv</a></li> \nWe will be using this dataset throughout this course.\nIn this lab, we'll need to use a dataset that we created in the Lab 1. Investigation of cryptocurrency exchange rate dynamic (BTC/USD), сalculation and analysis of technical financial indicators, characterizing the cryptocurrency market (ATR, OBV, RSI, AD).\n</p>\n"
      ]
    },
    {
      "cell_type": "markdown",
      "id": "fa89c191-c065-4a5a-9071-38e2bc990fc0",
      "metadata": {},
      "outputs": [],
      "source": [
        "<h4>Import pandas</h4> \n"
      ]
    },
    {
      "cell_type": "markdown",
      "id": "528afce2-d8dd-4f04-b9b7-076813ad5eb1",
      "metadata": {},
      "outputs": [],
      "source": [
        "If you run the lab locally using Anaconda, you can load the correct library and versions by uncommenting the following:\n"
      ]
    },
    {
      "cell_type": "code",
      "id": "f7abfd74-c3f6-4bc4-84c2-2519e7c1980c",
      "metadata": {},
      "outputs": [],
      "source": [
        "#If you run the lab locally using Anaconda, you can load the correct library and versions by uncommenting the following:\n#install specific version of libraries used in lab\n#! mamba install pandas==1.3.3\n#! mamba install numpy=1.21.2\n! conda install scikit-learn -y "
      ]
    },
    {
      "cell_type": "code",
      "id": "28a4e197-59b9-4caa-9350-2cf138002c6c",
      "metadata": {},
      "outputs": [],
      "source": [
        "import pandas as pd\nimport matplotlib.pylab as plt\nfrom matplotlib import pyplot\nimport numpy as np\nimport pandas as pd \nimport numpy as np \nfrom sklearn.metrics import mean_squared_error, mean_absolute_percentage_error \nimport requests\n%matplotlib inline\n\n\n#set precision \npd.set_option(\"display.precision\", 2)\n#set precision for float\npd.options.display.float_format = '{:.2f}'.format\n\n"
      ]
    },
    {
      "cell_type": "markdown",
      "id": "53536817-387a-4487-8e23-97f452577e06",
      "metadata": {},
      "outputs": [],
      "source": [
        "<h2>Reading the dataset from the URL and adding the related headers</h2>\n"
      ]
    },
    {
      "cell_type": "markdown",
      "id": "bc19ab57-fbcb-4312-83f1-193861b78bb2",
      "metadata": {},
      "outputs": [],
      "source": [
        "First, we assign the URL of the dataset to \"filename\".\n"
      ]
    },
    {
      "cell_type": "markdown",
      "id": "2b86a2e7-3858-4d16-ba6b-88fd983d0834",
      "metadata": {},
      "outputs": [],
      "source": [
        "This dataset was hosted on IBM Cloud object. Click <a href=\"https://cocl.us/corsera_da0101en_notebook_bottom?utm_medium=Exinfluencer&utm_source=Exinfluencer&utm_content=000026UJ&utm_term=10006555&utm_id=NA-SkillsNetwork-Channel-SkillsNetworkCoursesIBMDeveloperSkillsNetworkDA0101ENSkillsNetwork20235326-2021-01-01\">HERE</a> for free storage.\n"
      ]
    },
    {
      "cell_type": "code",
      "id": "04178536-f5cd-457d-8276-dde457b754f5",
      "metadata": {},
      "outputs": [],
      "source": [
        "##Now you need to use dataset, you made in he first lab \nfilename = \"https://cf-courses-data.s3.us.cloud-object-storage.appdomain.cloud/IBMSkillsNetwork-GPXX0Z9BEN/Lab1DataSet.csv\""
      ]
    },
    {
      "cell_type": "markdown",
      "id": "2a6c3292-d104-49f1-ac1f-89ebf287b44b",
      "metadata": {},
      "outputs": [],
      "source": [
        "Then, we create a Python list <b>headers</b> containing name of headers.\n"
      ]
    },
    {
      "cell_type": "markdown",
      "id": "2e39a8f6-af74-4f2a-9a79-da2b8af7f7e2",
      "metadata": {},
      "outputs": [],
      "source": [
        "Use the Pandas method <b>read_csv()</b> to load the data from the web address.\n"
      ]
    },
    {
      "cell_type": "code",
      "id": "ea6152c2-6355-48e0-9177-d6aaa77a3c23",
      "metadata": {},
      "outputs": [],
      "source": [
        "df = pd.read_csv(filename,low_memory=False, index_col=0)\n#create another data frame, to use in future\nspoiled_df = pd.read_csv(filename,low_memory=False, index_col=0)\ndf = df.reset_index()\nspoiled_df = spoiled_df.reset_index()\ndf.head()"
      ]
    },
    {
      "cell_type": "markdown",
      "id": "a3fe05e0-916f-427c-9fa3-138c312c94cf",
      "metadata": {},
      "outputs": [],
      "source": [
        "Use the method <b>head()</b> to display the first five rows of the dataframe.\n"
      ]
    },
    {
      "cell_type": "markdown",
      "id": "7ae8181f-2838-4b79-ad9a-9a881235b814",
      "metadata": {},
      "outputs": [],
      "source": [
        "<h4>Make some values wrong</h4>\n\nOften dataset is damaged, so lets damage our dataframe to learn how to renew data"
      ]
    },
    {
      "cell_type": "code",
      "id": "2bbffab4-6d2d-4261-bd46-d5f97ec4a563",
      "metadata": {},
      "outputs": [],
      "source": [
        "#Columns to hurt\ncols = ['Open', 'Rec_count', 'Close']\n#We hurt columns one by one\nfor col in cols:\n        #Get random value in range [0,1]\n        m = np.random.rand(len(df))\n        #Set coefficients.\n        l1 = 0.05 # NaN\n        l2 = 0.03 # Text\n        l3 = 0.04 # Negative\n        \n        mask1 = m < l1 # NaN\n        mask2 = (m >= l1) & (m < l1+l2) # Text\n        mask3 = (m >= l1+l2) & (m < l1+l2+l3) # Negative\n        \n        #Change data\n        spoiled_df.loc[mask1, col] = np.NaN\n        spoiled_df.loc[mask2, col] = \"?\"\n        spoiled_df.loc[mask3, col] = spoiled_df.loc[mask3, col]\n"
      ]
    },
    {
      "cell_type": "code",
      "id": "e5fcdb96-6b29-4eb5-91ac-37ad4c1dd7d7",
      "metadata": {},
      "outputs": [],
      "source": [
        "# To see what the data set looks like, we'll use the head() method.\nspoiled_df.head(50)"
      ]
    },
    {
      "cell_type": "markdown",
      "id": "be7f752b-85fc-4b57-a408-4b910472d79b",
      "metadata": {},
      "outputs": [],
      "source": [
        "As we can see, several question marks appeared in the dataframe; those are missing values which may hinder our further analysis.\n\n<div>So, how do we identify all those missing values and deal with them?</div> \n\n<b>How to work with missing data?</b>\n\nSteps for working with missing data:\n\n<ol>\n    <li>Identify missing data</li>\n    <li>Deal with missing data</li>\n    <li>Correct data format</li>\n</ol>\n"
      ]
    },
    {
      "cell_type": "markdown",
      "id": "ca4ada1e-e502-4131-a250-5bfe56d78393",
      "metadata": {},
      "outputs": [],
      "source": [
        "<h2 id=\"identify_handle_missing_values\">Identify and handle missing values</h2>\n\n<h3 id=\"identify_missing_values\">Identify missing values</h3>\n<h4>Convert \"?\" to NaN</h4>\nIn the our dataset, missing data comes with the question mark \"?\", negative values and NaN(Not a Number).\nWe replace \"?\" and negative values by NaN, Python's default missing value marker for reasons of computational speed and convenience. Here we use the function: \n <pre>.replace(A, B, inplace = True) </pre>\nto replace A by B.\n"
      ]
    },
    {
      "cell_type": "code",
      "id": "6f51c679-c0cd-4c04-a562-70b6564f1393",
      "metadata": {},
      "outputs": [],
      "source": [
        "# replace \"?\" with NaN\nspoiled_df.replace(\"?\", np.nan, inplace = True)\n\n# replace negative values with NaN\nnum = df._get_numeric_data()\nnum[num < 0] = np.nan\n\n#Lets see our result\nspoiled_df.head(50)"
      ]
    },
    {
      "cell_type": "markdown",
      "id": "3720d096-5e00-4659-bceb-e8cbe11bdec7",
      "metadata": {},
      "outputs": [],
      "source": [
        "<h4>Evaluating for Missing Data</h4>\n\nThe missing values are converted by default. We use the following functions to identify these missing values. There are two methods to detect missing data:\n\n<ol>\n    <li><b>.isnull()</b></li>\n    <li><b>.notnull()</b></li>\n</ol>\nThe output is a boolean value indicating whether the value that is passed into the argument is in fact missing data.\n"
      ]
    },
    {
      "cell_type": "code",
      "id": "08019c71-85ad-4f2c-b81f-efa92ed36fcb",
      "metadata": {},
      "outputs": [],
      "source": [
        "missing_data = spoiled_df.isnull()\nmissing_data.head(5)"
      ]
    },
    {
      "cell_type": "markdown",
      "id": "c8b37881-7b4c-4d75-9a8c-16aa77943e70",
      "metadata": {},
      "outputs": [],
      "source": [
        "\"True\" means the value is a missing value while \"False\" means the value is not a missing value.\n"
      ]
    },
    {
      "cell_type": "markdown",
      "id": "d9fbc6ef-4f6c-44d1-a6d9-d7ec28e896bc",
      "metadata": {},
      "outputs": [],
      "source": [
        "<h4>Count missing values in each column</h4>\n<p>\nUsing a for loop in Python, we can quickly figure out the number of missing values in each column. As mentioned above, \"True\" represents a missing value and \"False\" means the value is present in the dataset.  In the body of the for loop the method \".value_counts()\" counts the number of \"True\" values. \n</p>\n"
      ]
    },
    {
      "cell_type": "code",
      "id": "dc4824eb-a68d-4320-94b0-b5f48b4000f9",
      "metadata": {},
      "outputs": [],
      "source": [
        "for column in missing_data.columns.values.tolist():\n    print(column)\n    print (missing_data[column].value_counts())\n    print(\"\")    "
      ]
    },
    {
      "cell_type": "markdown",
      "id": "7d1a2a4f-d275-4580-b3b4-6c747e79c3db",
      "metadata": {},
      "outputs": [],
      "source": [
        "Based on the summary above, each column has 67212 rows of data and seven of the columns containing missing data:\n\n<ol>\n    <li>\"open\": ~5 400 missing data</li>\n    <li>\"close\": ~5 400 missing data</li>\n    <li>\"rec_count\": ~5 400 missing data</li>\n</ol>\n"
      ]
    },
    {
      "cell_type": "markdown",
      "id": "af4e7b26-a126-42e3-9ce0-bf34b226a43b",
      "metadata": {},
      "outputs": [],
      "source": [
        "<h3 id=\"deal_missing_values\">Deal with missing data</h3>\n<b>How to deal with missing data?</b>\n\n<ol>\n    <li>Drop data<br>\n        a. Drop the whole row<br>\n        b. Drop the whole column\n    </li>\n    <li>Replace data<br>\n        a. Replace it by mean<br>\n        b. Replace it by frequency<br>\n        c. Replace it based on other functions\n    </li>\n</ol>\n"
      ]
    },
    {
      "cell_type": "markdown",
      "id": "189156d1-36f3-4609-abc0-e13792a26a8f",
      "metadata": {},
      "outputs": [],
      "source": [
        "Whole columns should be dropped only if most entries in the column are empty. In our dataset, none of the columns are empty enough to drop entirely.\nWe have some freedom in choosing which method to replace data; however, some methods may seem more reasonable than others. We will apply each method to many different columns:\n\n<b>Replace by mean:</b>\n\n<ul>\n    <li>\"rec_count\": ~5 400 missing data</li>\n</ul>\n\n<b>Replace by interpolation:</b>\n\n<ul>\n    <li>\"open\": ~5 400 missing data</li>\n    <li>\"close\": ~5 400 missing data</li>\n</ul>\n\n"
      ]
    },
    {
      "cell_type": "markdown",
      "id": "2fa1385b-4a18-407e-bd0b-4fb02efb5183",
      "metadata": {},
      "outputs": [],
      "source": [
        "<h4>Calculate the mean value for the \"normalized-losses\" column </h4>\n"
      ]
    },
    {
      "cell_type": "code",
      "id": "c5d526db-7c93-427d-961c-fd68774ad7cf",
      "metadata": {},
      "outputs": [],
      "source": [
        "avg_norm_loss = spoiled_df[\"Rec_count\"].astype(\"float\").mean(axis=0)\nprint(\"Average of normalized-losses:\", avg_norm_loss)"
      ]
    },
    {
      "cell_type": "markdown",
      "id": "e41170a9-6560-4302-8e56-09f63293d45a",
      "metadata": {},
      "outputs": [],
      "source": [
        "<h4>Replace \"NaN\" with mean value in \"normalized-losses\" column</h4>\n"
      ]
    },
    {
      "cell_type": "code",
      "id": "8f168d19-5c60-4b40-8419-5e80998c6d04",
      "metadata": {},
      "outputs": [],
      "source": [
        "spoiled_df[\"Rec_count\"].replace(np.nan, avg_norm_loss, inplace=True)\nspoiled_df.head(10)\n"
      ]
    },
    {
      "cell_type": "markdown",
      "id": "934ef66c-4c28-43d6-b548-cf00271332e9",
      "metadata": {},
      "outputs": [],
      "source": [
        "<h4>Fill all NaN in the \"open\" column by interpolating</h4>\n\n<b>Pay attention!</b> To replace missing values in a dataset using interpolation, it is necessary to ensure that there are no missing values at the beginning or end of the dataset. One way to do this is shown below\n"
      ]
    },
    {
      "cell_type": "code",
      "id": "705cccaa-62bd-4a68-a1b8-160dcc8684c0",
      "metadata": {},
      "outputs": [],
      "source": [
        "# check for NaN values at the beginning of the dataset\nwhile spoiled_df.iloc[0].isna().any():\n    spoiled_df = spoiled_df.drop(spoiled_df.index[0])\n\n# check for NaN values at the end of the dataset\nwhile spoiled_df.iloc[-1].isna().any():\n    spoiled_df = spoiled_df.drop(spoiled_df.index[-1])\n\n\n#Do same with own dataframe to check values by their indexes\nwhile df.iloc[0].isna().any():\n    df = df.drop(df.index[0])\n\nwhile df.iloc[-1].isna().any():\n    df = df.drop(df.index[-1])\n\n    \nspoiled_df = spoiled_df.reset_index(drop=True)\ndf = df.reset_index(drop=True)"
      ]
    },
    {
      "cell_type": "markdown",
      "id": "70dbaabd-bcab-4eee-ab23-9aa1cd224c0e",
      "metadata": {},
      "outputs": [],
      "source": [
        "Check which method is better for our dataset:\n<p>Create lish with interpolation methods without order"
      ]
    },
    {
      "cell_type": "code",
      "id": "7a7b5f13-014c-4e28-81f8-53d5bf8fc2da",
      "metadata": {},
      "outputs": [],
      "source": [
        "# Methods without order\nmethods = [\"linear\", \"nearest\", \"slinear\", \"quadratic\", \"cubic\", \"piecewise_polynomial\", \"pchip\", \"akima\", \"cubicspline\"]\n"
      ]
    },
    {
      "cell_type": "markdown",
      "id": "d2e35ed8-c3c7-4b7e-8a6b-c0b234f9a61b",
      "metadata": {},
      "outputs": [],
      "source": [
        "Create lish with interpolation methods with order"
      ]
    },
    {
      "cell_type": "code",
      "id": "dc513b94-3083-4a4a-8f7a-3550fee3b18b",
      "metadata": {},
      "outputs": [],
      "source": [
        "# Methods with order\norder_methods = [\"spline\", \"polynomial\"]\n# Create a dataframe to store performance metrics\nperformance = pd.DataFrame(columns=[\"name\", \"MSE\", \"MAPE\"])\n"
      ]
    },
    {
      "cell_type": "markdown",
      "id": "c73904bf-8a07-404c-9ae4-c07b76f2f911",
      "metadata": {},
      "outputs": [],
      "source": [
        "<p>First step to check which method is better is to use interpolation method without order"
      ]
    },
    {
      "cell_type": "code",
      "id": "16be44e2-5179-4d64-9492-ea2022ce95d2",
      "metadata": {},
      "outputs": [],
      "source": [
        "# Test all methods for func 'pandas.interpolate'\nfor method in methods:\n    # Find all NaN values in spoiled_df['close']\n    nan_rows = spoiled_df[\"Close\"].isna()\n    # Renew data with pandas.interpolate(). We use only one method at the same time\n    interpolated_close = spoiled_df[\"Close\"].interpolate(method=method, limit=5, limit_direction=\"both\")\n    interpolated_close[nan_rows].reset_index(drop=True, inplace=True)\n    df.reset_index(drop=True, inplace=True)\n    # Calculate squared error between real and renewed data\n    mse = mean_squared_error(df.loc[nan_rows, \"Close\"], interpolated_close[nan_rows])\n    # Calculate absolute percentage error between real and renewed data\n    mape = mean_absolute_percentage_error(df.loc[nan_rows, \"Close\"], interpolated_close[nan_rows])\n    # Append new row to performance dataframe\n    performance.loc[len(performance)] = [method, mse, mape]\n"
      ]
    },
    {
      "cell_type": "markdown",
      "id": "25bed7e8-817d-4cd3-b9cf-068aa8c617a6",
      "metadata": {},
      "outputs": [],
      "source": [
        "Second step to check which method is better is to use interpolation method with order"
      ]
    },
    {
      "cell_type": "code",
      "id": "2aefa4dc-1f4b-4f93-9994-0d4df533557d",
      "metadata": {},
      "outputs": [],
      "source": [
        "for method in order_methods:\n    for order in [3, 5]:\n        # Find all NaN values in spoiled_df['close']\n        nan_rows = spoiled_df[\"Close\"].isna()\n        # Renew data with pandas.interpolate(). We use only one method at the same time\n        interpolated_close = spoiled_df[\"Close\"].interpolate(method=method, order=order)\n        # Calculate squared error between real and renewed data\n        mse = mean_squared_error(df.loc[nan_rows, \"Close\"], interpolated_close[nan_rows])\n        # Calculate absolute percentage error between real and renewed data\n        mape = mean_absolute_percentage_error(df.loc[nan_rows, \"Close\"], interpolated_close[nan_rows])\n        # Append new row to performance dataframe\n        performance.loc[len(performance)] = [method, mse, mape]"
      ]
    },
    {
      "cell_type": "code",
      "id": "d25ea964-6853-46a3-8f85-906c659bd0b3",
      "metadata": {},
      "outputs": [],
      "source": [
        "# Sort dataframe by MAPE and MSE in ascending order\nperformance = performance.sort_values(by=[\"MAPE\", \"MSE\"], ascending=True)\n\n# Convert \"MAPE\" column data to percents\nperformance[\"MSE\"] = performance[\"MSE\"].apply(lambda x: '{:.7f}'.format(x))\nperformance[\"MAPE\"] = performance[\"MAPE\"] * 100\nperformance[\"MAPE\"] = performance[\"MAPE\"].round(5).astype(str) + \"%\"\n\n# Display top 15 rows of performance dataframe\nprint(performance.head(15))"
      ]
    },
    {
      "cell_type": "markdown",
      "id": "af23f7af-ec41-4ea8-95dc-f11cd33847e4",
      "metadata": {},
      "outputs": [],
      "source": [
        "So, 'linear' method is one of the best methods for us, we will use it "
      ]
    },
    {
      "cell_type": "code",
      "id": "145808c4-1ea8-4cfd-af87-6d9eee3a0df3",
      "metadata": {},
      "outputs": [],
      "source": [
        "#Lets see data before interpolation\nspoiled_df.head(20)"
      ]
    },
    {
      "cell_type": "code",
      "id": "7b498b00-f308-4be8-b987-77b40ebea3c7",
      "metadata": {},
      "outputs": [],
      "source": [
        "spoiled_df['Close'] = spoiled_df[\"Close\"].interpolate(method='linear')\n\npd.set_option(\"display.precision\", 2)\npd.options.display.float_format = '{:.2f}'.format\n\n#Lets see data after interpolation\nspoiled_df.head(20)"
      ]
    },
    {
      "cell_type": "markdown",
      "id": "ccb00f6a-9a6d-4b2b-86a9-78f003f59366",
      "metadata": {},
      "outputs": [],
      "source": [
        "<div class=\"alert alert-danger alertdanger\" style=\"margin-top: 20px\">\n<h1> Question  #1: </h1>\n\n<b>Based on the example above, interpolate NaN in \"open\" column with linear mehod.</b>\n\n</div>\n"
      ]
    },
    {
      "cell_type": "code",
      "id": "f780149e-415f-4c53-a7b3-452046529751",
      "metadata": {},
      "outputs": [],
      "source": [
        "# Write your code below and press Shift+Enter to execute \nspoiled_df['Open'] = spoiled_df[\"Open\"].interpolate(method='linear')\n"
      ]
    },
    {
      "cell_type": "markdown",
      "id": "869c4839-74a1-48e2-a4cc-fd6c4281e584",
      "metadata": {},
      "outputs": [],
      "source": [
        "<details><summary>Click here for the solution</summary>\n\n```python\nspoiled_df['Open'] = spoiled_df[\"Open\"].interpolate(method='linear')\n```\n\n</details>\n"
      ]
    },
    {
      "cell_type": "markdown",
      "id": "b1b1b41a-0630-4b9c-9f4a-4b8cb30d711c",
      "metadata": {},
      "outputs": [],
      "source": [
        "To see which values are present in a particular column, we can use the \".value_counts()\" method:\n"
      ]
    },
    {
      "cell_type": "code",
      "id": "bb05490a-1103-430b-8575-5f5b9e994638",
      "metadata": {},
      "outputs": [],
      "source": [
        "#We don't need \"Spoiled_df\" any more, because its reneved, lets contain it to our \"df\" dataframe   \ndf = spoiled_df\n\ndf['Close'].value_counts()"
      ]
    },
    {
      "cell_type": "markdown",
      "id": "d1bcd1f1-fb91-4805-84f0-bab019c29850",
      "metadata": {},
      "outputs": [],
      "source": [
        "Lets drop \"Nan\" values from \"Open\". Dont foget to reset indexes\n"
      ]
    },
    {
      "cell_type": "code",
      "id": "3de8ebbf-a667-46b9-b8fd-5b846678e5ef",
      "metadata": {},
      "outputs": [],
      "source": [
        "# simply drop whole row with NaN in \"open\" column\ndf.dropna(subset=[\"Open\"], axis=0, inplace=True)\n\n# reset index\ndf.reset_index(drop=True, inplace=True)"
      ]
    },
    {
      "cell_type": "code",
      "id": "f3fb7cea-b803-4440-8f60-6d944f78a4e4",
      "metadata": {},
      "outputs": [],
      "source": [
        "df.head()"
      ]
    },
    {
      "cell_type": "markdown",
      "id": "11ae1ba0-70e2-4b35-9731-c329d9d6cc17",
      "metadata": {},
      "outputs": [],
      "source": [
        "<b>Good!</b> Now, we have a dataset with no missing values.Lets save it\n"
      ]
    },
    {
      "cell_type": "code",
      "id": "7d448c81-661c-487b-be75-48db37682728",
      "metadata": {},
      "outputs": [],
      "source": [
        "df.to_csv(\"Lab2ClearDF.csv\")"
      ]
    },
    {
      "cell_type": "markdown",
      "id": "211de7e7-560d-4f38-9ba4-de8562e613bb",
      "metadata": {},
      "outputs": [],
      "source": [
        "<h3 id=\"correct_data_format\">Correct data format</h3>\n<b>We are almost there!</b>\n<p>The last step in data cleaning is checking and making sure that all data is in the correct format (int, float, text or other).</p>\n\nIn Pandas, we use:\n\n<p><b>.dtype()</b> to check the data type</p>\n<p><b>.astype()</b> to change the data type</p>\n"
      ]
    },
    {
      "cell_type": "markdown",
      "id": "3ebb4718-d5cc-49dd-8177-e2db8b9c736e",
      "metadata": {},
      "outputs": [],
      "source": [
        "<h4>Let's list the data types for each column</h4>\n"
      ]
    },
    {
      "cell_type": "code",
      "id": "1f13b637-5a7c-4618-9512-2a1c16462bf7",
      "metadata": {},
      "outputs": [],
      "source": [
        "df.dtypes"
      ]
    },
    {
      "cell_type": "markdown",
      "id": "e8f7cdd0-f81b-4256-b0f4-2aa86ffacf62",
      "metadata": {},
      "outputs": [],
      "source": [
        "<p>As we can see above, some columns are not of the correct data type. Numerical variables should have type 'float' or 'int', and variables with strings such as categories should have type 'object'. For example, 'rec_count' variable are numerical value that describe counnt of records, expect them to be of the type 'int'; however, it is shown as type 'float'. We have to convert data types into a proper format for each column using the \"astype()\" method.</p> \n"
      ]
    },
    {
      "cell_type": "markdown",
      "id": "19fde3fb-50ad-4554-ad58-c67df703dd2b",
      "metadata": {},
      "outputs": [],
      "source": [
        "<h4>Convert data types to proper format</h4>\n"
      ]
    },
    {
      "cell_type": "code",
      "id": "afdb096f-45ef-48e0-8158-f8a69b46e5cf",
      "metadata": {},
      "outputs": [],
      "source": [
        "df['Ts'] = pd.to_datetime(df['Ts'])\ndf[\"Rec_count\"] = df[\"Rec_count\"].astype(\"int\")\n"
      ]
    },
    {
      "cell_type": "markdown",
      "id": "fa3883a5-15ab-4ae2-9db0-e64cb486067c",
      "metadata": {},
      "outputs": [],
      "source": [
        "<h4>Let us list the columns after the conversion</h4>\n"
      ]
    },
    {
      "cell_type": "code",
      "id": "7ccf868a-4031-46bb-9ad8-f2df7baa3860",
      "metadata": {},
      "outputs": [],
      "source": [
        "df.dtypes"
      ]
    },
    {
      "cell_type": "markdown",
      "id": "861e5ad3-211d-4ecd-9b6c-350d178f0547",
      "metadata": {},
      "outputs": [],
      "source": [
        "<b>Wonderful!</b>\n\nNow we have finally obtained the cleaned dataset with no missing values with all data in its proper format.\n"
      ]
    },
    {
      "cell_type": "markdown",
      "id": "33e321eb-a4bc-47be-9baf-0fc6ecc5b8f1",
      "metadata": {},
      "outputs": [],
      "source": [
        "<h2 id=\"data_standardization\">Data Standardization</h2>\n<p>\nData is usually collected from different agencies in different formats.\n(Data standardization is also a term for a particular type of data normalization where we subtract the mean and divide by the standard deviation.)\n</p>\n\n<b>What is standardization?</b>\n\n<p>Standardization is the process of transforming data into a common format, allowing the researcher to make the meaningful comparison.\n</p>\n\n<b>Example</b>\n\n<p>Transform USD to EUR:</p>\n<p>We will need to apply <b>data transformation</b> to transform BTC into EUR.</p>\nIn our dataset prices are in dollars, so to get our price in EUR we have to get USDT - EUR rate\n"
      ]
    },
    {
      "cell_type": "markdown",
      "id": "46b210c1-b3dd-4d3b-8daf-8536bc9785f9",
      "metadata": {},
      "outputs": [],
      "source": [
        "<p>The formula for unit conversion is:<p>\n1 USDT = 0.94 EUR (01.03.2023)\n<p>We can do many mathematical operations directly in Pandas.</p>\n"
      ]
    },
    {
      "cell_type": "code",
      "id": "6ee3be39-972f-43fd-8caa-85cd8cdb37dd",
      "metadata": {},
      "outputs": [],
      "source": [
        "df.head()"
      ]
    },
    {
      "cell_type": "code",
      "id": "9e4989e1-228d-4a50-afe3-7f08a0c912c5",
      "metadata": {},
      "outputs": [],
      "source": [
        "res = requests.get(\"https://api.binance.com/sapi/v1/convert/exchangeInfo?fromAsset=USDT&toAsset=EUR\") \nif res.status_code != 200: \n    rate = 0.94 \nelse: \n    res = res.json() \n    rate = float(res[0][\"toAssetMinAmount\"]) \n     \nprint(f\"The exchange rate is 1 BTC = {rate} EUR\") \n \ncols_to_convert = [\"Open\",\"BTC_price\"] \nfor col in cols_to_convert: \n    df[f\"{col}_EUR\"] = df[col] * rate \n \n# check your transformed data  \n\ndf.head()"
      ]
    },
    {
      "cell_type": "markdown",
      "id": "c4369fd6-1cdd-43c6-93d7-c17d0399600e",
      "metadata": {},
      "outputs": [],
      "source": [
        "<div class=\"alert alert-danger alertdanger\" style=\"margin-top: 20px\">\n<h1> Question  #2: </h1>\n\n<b>According to the example above, transform BNB to EUR in column \"high\"</b>\n\n</div>\n"
      ]
    },
    {
      "cell_type": "code",
      "id": "9e20614f-b4b4-49f4-a0fe-b105a158cb34",
      "metadata": {},
      "outputs": [],
      "source": [
        "# Write your code below and press Shift+Enter to execute \nres = requests.get(\"https://api.binance.com/sapi/v1/convert/exchangeInfo?fromAsset=USDT&toAsset=EUR\") \nif res.status_code != 200: \n    rate = 0.94 \nelse: \n    res = res.json() \n    rate = float(res[0][\"toAssetMinAmount\"]) \n     \nprint(f\"The exchange rate is 1 BTC = {rate} EUR\") \n \ndf[\"high_EUR\"] = df[\"High\"] * rate\ndf.head() "
      ]
    },
    {
      "cell_type": "markdown",
      "id": "b98d7395-f4d6-42a4-8eec-bf03b6c56554",
      "metadata": {},
      "outputs": [],
      "source": [
        "<details><summary>Click here for the solution</summary>\n\n```python\nres = requests.get(\"https://api.binance.com/sapi/v1/convert/exchangeInfo?fromAsset=USDT&toAsset=EUR\") \nif res.status_code != 200: \n    rate = 0.94 \nelse: \n    res = res.json() \n    rate = float(res[0][\"toAssetMinAmount\"]) \n     \nprint(f\"The exchange rate is 1 BTC = {rate} EUR\") \n \ndf[\"high_EUR\"] = df[\"High\"] * rate\n \n\n```\n\n</details>\n"
      ]
    },
    {
      "cell_type": "markdown",
      "id": "585d531b-5e14-4361-b624-6398e8c67b72",
      "metadata": {},
      "outputs": [],
      "source": [
        "<h2 id=\"data_normalization\">Data Normalization</h2>\n\n<b>Why normalization?</b>\n\n<p>Normalization is the process of transforming values of several variables into a similar range. Typical normalizations include scaling the variable so the variable average is 0, scaling the variable so the variance is 1, or scaling the variable so the variable values range from 0 to 1.\n</p>\n\n<b>Example</b>\n\n<p>To demonstrate normalization, let's say we want to scale the columns \"high\" and \"low\".</p>\n<p><b>Target:</b> would like to normalize those variables so their value ranges from 0 to 1</p>\n<p><b>Approach:</b> replace original value by (original value)/(maximum value)</p>\n"
      ]
    },
    {
      "cell_type": "code",
      "id": "90553123-7baf-4287-8a7b-9ec19c517ab4",
      "metadata": {},
      "outputs": [],
      "source": [
        "df['High'].head(10)"
      ]
    },
    {
      "cell_type": "code",
      "id": "a6637629-eeed-4ff4-b12f-b9d09e18bd4b",
      "metadata": {},
      "outputs": [],
      "source": [
        "# replace (original value) by (original value)/(maximum value)\ndf['High_Normalized'] = df['High']/df['High'].max()\ndf['High_Normalized'].head(10)"
      ]
    },
    {
      "cell_type": "markdown",
      "id": "90babf58-058f-4348-9e0c-ae6775d49990",
      "metadata": {},
      "outputs": [],
      "source": [
        "<div class=\"alert alert-danger alertdanger\" style=\"margin-top: 20px\">\n<h1> Question #3: </h1>\n\n<b>According to the example above, normalize the column \"low\".</b>\n\n</div>\n"
      ]
    },
    {
      "cell_type": "code",
      "id": "f2019cef-c5a1-42a9-94ec-7aa1241114ca",
      "metadata": {},
      "outputs": [],
      "source": [
        "# Write your code below and press Shift+Enter to execute \ndf['Low_Normalized'] = df['Low']/df['Low'].max() \n\n# show the scaled columns\ndf[[\"High_Normalized\",\"Low_Normalized\"]].head(10)"
      ]
    },
    {
      "cell_type": "markdown",
      "id": "f8cc0794-6fef-41e4-a6c1-b32347b5da0f",
      "metadata": {},
      "outputs": [],
      "source": [
        "<details><summary>Click here for the solution</summary>\n\n```python\ndf['low'] = df['low']/df['low'].max() \n\n# show the scaled columns\ndf[[\"high\",\"low\"]].head(10)\n\n```\n\n</details>\n"
      ]
    },
    {
      "cell_type": "markdown",
      "id": "007c44eb-4edf-422e-897b-8ddc9458087a",
      "metadata": {},
      "outputs": [],
      "source": [
        "Here we can see we've normalized \"High\",\"Low\" columns in the range of \\[0,1].\n"
      ]
    },
    {
      "cell_type": "markdown",
      "id": "96a36c47-2d30-45e9-879c-5140348812a1",
      "metadata": {},
      "outputs": [],
      "source": [
        "<h2 id=\"binning\">Binning</h2>\n<b>Why binning?</b>\n<p>\n    Binning is a process of transforming continuous numerical variables into discrete categorical 'bins' for grouped analysis.\n</p>\n\n<b>Example: </b>\n\n<p>In our dataset, \"close\" is a real valued variable ranging from 200 to 320 and it has ~10900 unique values. What if we only care about the price difference between closing minute price(3 types)? Can we rearrange them into three ‘bins' to simplify analysis? </p>\n\n<p>We will use the pandas method 'cut' to segment the 'close' column into 3 bins.</p>\n"
      ]
    },
    {
      "cell_type": "markdown",
      "id": "f8f8d8ca-f7ef-41d6-9161-3613b75857fb",
      "metadata": {},
      "outputs": [],
      "source": [
        "<h3>Example of Binning Data In Pandas</h3>\n"
      ]
    },
    {
      "cell_type": "markdown",
      "id": "2f1324a9-3489-4b4d-83f1-74837584d03e",
      "metadata": {},
      "outputs": [],
      "source": [
        "Convert data to correct format:\n"
      ]
    },
    {
      "cell_type": "code",
      "id": "ba0f32c3-babf-4bf0-b1e2-1ab5d5351c4b",
      "metadata": {},
      "outputs": [],
      "source": [
        "df.dtypes"
      ]
    },
    {
      "cell_type": "markdown",
      "id": "0d6fac64-4561-4467-8daf-aeadc3a6f1fb",
      "metadata": {},
      "outputs": [],
      "source": [
        "Let's plot the histogram of horsepower to see what the distribution of horsepower looks like.\n"
      ]
    },
    {
      "cell_type": "code",
      "id": "bfe5c3b1-9837-44fb-af95-cb68f4e8c178",
      "metadata": {},
      "outputs": [],
      "source": [
        "plt.hist(df[\"Close\"])\n\n# set x/y labels and plot title\nplt.xlabel(\"Close\")\nplt.ylabel(\"Count\")\nplt.title(\"close counts\")"
      ]
    },
    {
      "cell_type": "markdown",
      "id": "c25293d6-3038-4afe-bfc1-6abe5eb69259",
      "metadata": {},
      "outputs": [],
      "source": [
        "<p>We would like 3 bins of equal size bandwidth so we use numpy's <code>linspace(start_value, end_value, numbers_generated</code> function.</p>\n<p>Since we want to include the minimum value of close, we want to set start_value = min(df[\"close\"]).</p>\n<p>Since we want to include the maximum value of close, we want to set end_value = max(df[\"close\"]).</p>\n<p>Since we are building 3 bins of equal length, there should be 4 dividers, so numbers_generated = 4.</p>\n"
      ]
    },
    {
      "cell_type": "markdown",
      "id": "953ea993-0226-48df-9a98-5f73c6970048",
      "metadata": {},
      "outputs": [],
      "source": [
        "We build a bin array with a minimum value to a maximum value by using the bandwidth calculated above. The values will determine when one bin ends and another begins.\n"
      ]
    },
    {
      "cell_type": "code",
      "id": "5b654aec-db7e-4d67-a21a-45ccc43ccb17",
      "metadata": {},
      "outputs": [],
      "source": [
        "bins = np.linspace(min(df[\"Close\"]), max(df[\"Close\"]), 4)\nbins"
      ]
    },
    {
      "cell_type": "markdown",
      "id": "27bdb445-906c-4f34-a6ba-e646e2d17959",
      "metadata": {},
      "outputs": [],
      "source": [
        "We set group  names:\n"
      ]
    },
    {
      "cell_type": "code",
      "id": "2f8d2fe3-2a18-4069-9257-efb4b062db17",
      "metadata": {},
      "outputs": [],
      "source": [
        "group_names = ['Low', 'Medium', 'High']"
      ]
    },
    {
      "cell_type": "markdown",
      "id": "06d6231a-16d5-419c-8f03-a6f1278ba84c",
      "metadata": {},
      "outputs": [],
      "source": [
        "We apply the function \"cut\" to determine what each value of `df['close']` belongs to.\n"
      ]
    },
    {
      "cell_type": "code",
      "id": "83045de4-a2cd-474f-a2d3-eae1764771fb",
      "metadata": {},
      "outputs": [],
      "source": [
        "df['close-binned'] = pd.cut(df['Close'], bins, labels=group_names, include_lowest=True )\ndf[['Close','close-binned']].head(20)"
      ]
    },
    {
      "cell_type": "markdown",
      "id": "ab196b1a-5499-4a04-b5af-6821252eb04f",
      "metadata": {},
      "outputs": [],
      "source": [
        "Let's see the number of vehicles in each bin:\n"
      ]
    },
    {
      "cell_type": "code",
      "id": "163c14a7-1b3b-42e5-ac98-397db17ace91",
      "metadata": {},
      "outputs": [],
      "source": [
        "df[\"close-binned\"].value_counts().sort_index()"
      ]
    },
    {
      "cell_type": "markdown",
      "id": "8799b5ec-002d-4437-987d-826617be244d",
      "metadata": {},
      "outputs": [],
      "source": [
        "Let's plot the distribution of each bin:\n"
      ]
    },
    {
      "cell_type": "code",
      "id": "20402602-a59c-4126-ad0b-d82fa926cec8",
      "metadata": {},
      "outputs": [],
      "source": [
        "pyplot.bar(group_names, df[\"close-binned\"].value_counts().sort_index())\n# set x/y labels and plot title\nplt.xlabel(\"close\")\nplt.ylabel(\"count\")\nplt.title(\"close bins\")"
      ]
    },
    {
      "cell_type": "markdown",
      "id": "546eee09-732a-4276-8289-4e718bf74491",
      "metadata": {},
      "outputs": [],
      "source": [
        "<p>\n    Look at the dataframe above carefully. You will find that the last column provides the bins for \"close\" based on 3 categories (\"Low\", \"Medium\" and \"High\"). \n</p>\n<p>\n    We successfully narrowed down the intervals from 9.000 to 55.000!\n</p>\n"
      ]
    },
    {
      "cell_type": "markdown",
      "id": "26303a19-0ac8-48dc-a795-265473194cd6",
      "metadata": {},
      "outputs": [],
      "source": [
        "<h3>Bins Visualization</h3>\nNormally, a histogram is used to visualize the distribution of bins we created above. \n"
      ]
    },
    {
      "cell_type": "code",
      "id": "4d6bc2af-c861-400e-9777-aaac00426acf",
      "metadata": {},
      "outputs": [],
      "source": [
        "# draw historgram of attribute \"close\" with bins = 3\nplt.hist(df[\"Close\"], bins = 3)\n\n# set x/y labels and plot title\nplt.xlabel(\"close\")\nplt.ylabel(\"count\")\nplt.title(\"close bins\")"
      ]
    },
    {
      "cell_type": "markdown",
      "id": "433f4f2e-c40b-4b3f-a330-4ea54d9d6e62",
      "metadata": {},
      "outputs": [],
      "source": [
        "The plot above shows the binning result for the attribute \"close\".\n"
      ]
    },
    {
      "cell_type": "markdown",
      "id": "1b6e2eda-f8d6-4604-92d6-d8dc91365ef1",
      "metadata": {},
      "outputs": [],
      "source": [
        "<h2 id=\"indicator\">Indicator Variable (or Dummy Variable)</h2>\n<b>What is an indicator variable?</b>\n<p>\n    An indicator variable (or dummy variable) is a numerical variable used to label categories. They are called 'dummies' because the numbers themselves don't have inherent meaning. \n</p>\n\n<b>Why we use indicator variables?</b>\n\n<p>\n    We use indicator variables so we can use categorical variables for regression analysis in the later modules.\n</p>\n<b>Example</b>\n<p>\n    We see the column \"close-binned\" has two unique values: \"Low\",\"Medium\" and \"High\". Regression doesn't understand words, only numbers. To use this attribute in regression analysis, we convert \"open-binned\" to indicator variables.\n</p>\n\n<p>\n    We will use pandas' method 'get_dummies' to assign numerical values to different categories of fuel type. \n</p>\n"
      ]
    },
    {
      "cell_type": "code",
      "id": "7e877618-e945-4eb1-9b33-3d2c1d18efed",
      "metadata": {},
      "outputs": [],
      "source": [
        "df.columns"
      ]
    },
    {
      "cell_type": "markdown",
      "id": "473f8569-ff38-4c5e-a4e4-9b653c356c0c",
      "metadata": {},
      "outputs": [],
      "source": [
        "Get the indicator variables and assign it to data frame \"dummy_variable\\_1\":\n"
      ]
    },
    {
      "cell_type": "code",
      "id": "a140363e-bd59-4b01-ab36-cdffe28e7266",
      "metadata": {},
      "outputs": [],
      "source": [
        "dummy_variable_1 = pd.get_dummies(df[\"close-binned\"])\ndummy_variable_1.head()"
      ]
    },
    {
      "cell_type": "markdown",
      "id": "91188d94-b1da-45c1-8ce7-f9db2e6522a5",
      "metadata": {},
      "outputs": [],
      "source": [
        "Change the column names for clarity:\n"
      ]
    },
    {
      "cell_type": "code",
      "id": "8ba250c8-ab09-4022-bb62-c5cd98c30c68",
      "metadata": {},
      "outputs": [],
      "source": [
        "dummy_variable_1.rename(columns={'Low':'close_low', 'Medium':'close_medium', 'High':'close_high'}, inplace=True)\ndummy_variable_1.head()"
      ]
    },
    {
      "cell_type": "markdown",
      "id": "16a9eb0e-46da-4521-b61c-433d35fa40be",
      "metadata": {},
      "outputs": [],
      "source": [
        "In the dataframe, column 'close-binned' has values for 'low','medium' and 'high' as 0s and 1s now.\n"
      ]
    },
    {
      "cell_type": "code",
      "id": "fc61a00b-2af3-4f78-b778-936f6479bd97",
      "metadata": {},
      "outputs": [],
      "source": [
        "# merge data frame \"df\" and \"dummy_variable_1\" \ndf = pd.concat([df, dummy_variable_1], axis=1)\n\n# drop original column \"fuel-type\" from \"df\"\ndf.drop(\"close-binned\", axis = 1, inplace=True)"
      ]
    },
    {
      "cell_type": "markdown",
      "id": "6fca7b29-d1c7-4da2-8250-3311f687e682",
      "metadata": {},
      "outputs": [],
      "source": [
        "The last three columns are now the indicator variable. They're all 0s and 1s now.\n"
      ]
    },
    {
      "cell_type": "markdown",
      "id": "ea33c0e0-c9a9-417e-af94-1fd5da174fee",
      "metadata": {},
      "outputs": [],
      "source": [
        "<div class=\"alert alert-danger alertdanger\" style=\"margin-top: 20px\">\n<h1> Question  #4: </h1>\n\n<b>Similar to before, create an indicator variable for the column \"rec_count\"</b>\n\n</div>\n"
      ]
    },
    {
      "cell_type": "code",
      "id": "abebd33f-4eee-4991-ad35-0302d74bf091",
      "metadata": {},
      "outputs": [],
      "source": [
        "# Write your code below and press Shift+Enter to execute \ngroup_names = ['Low', 'Medium', 'High']\n\nbins = np.linspace(min(df[\"Rec_count\"]), max(df[\"Rec_count\"]), 4)\n\ndf['rec_count-binned'] = pd.cut(df['Rec_count'], bins, labels=group_names, include_lowest=True )\ncolumns={'Low':'rec_count_low', 'Medium':'rec_count_medium', 'High':'rec_count_high'}\n\n# get indicator variables of aspiration and assign it to data frame \"dummy_variable_2\"\ndummy_variable_2 = pd.get_dummies(df['rec_count-binned'])\n\n# change column names for clarity\ndummy_variable_2.rename(columns={'Low':'rec_count_low', 'Medium':'rec_count_medium', 'High':'rec_count_high'}, inplace=True)\n\n# show first 5 instances of data frame \"dummy_variable_1\"\ndummy_variable_2.head()"
      ]
    },
    {
      "cell_type": "markdown",
      "id": "ba929eec-c715-46c8-aed1-36ccd9603f79",
      "metadata": {},
      "outputs": [],
      "source": [
        "<details><summary>Click here for the solution</summary>\n\n```python\ngroup_names = ['Low', 'Medium', 'High']\n\nbins = np.linspace(min(df[\"Rec_count\"]), max(df[\"Rec_count\"]), 4)\n\ndf['rec_count-binned'] = pd.cut(df['Rec_count'], bins, labels=group_names, include_lowest=True )\ncolumns={'Low':'rec_count_low', 'Medium':'rec_count_medium', 'High':'rec_count_high'}\n\n# get indicator variables of aspiration and assign it to data frame \"dummy_variable_2\"\ndummy_variable_2 = pd.get_dummies(df['rec_count-binned'])\n\n# change column names for clarity\ndummy_variable_2.rename(columns={'Low':'rec_count_low', 'Medium':'rec_count_medium', 'High':'rec_count_high'}, inplace=True)\n\n# show first 5 instances of data frame \"dummy_variable_1\"\ndummy_variable_2.head()\n\n```\n\n</details>\n"
      ]
    },
    {
      "cell_type": "markdown",
      "id": "f52f0f4b-2327-4def-8cba-d88a544288bd",
      "metadata": {},
      "outputs": [],
      "source": [
        " <div class=\"alert alert-danger alertdanger\" style=\"margin-top: 20px\">\n<h1> Question  #5: </h1>\n\n<b>Merge the new dataframe to the original dataframe.</b>\n\n</div>\n"
      ]
    },
    {
      "cell_type": "code",
      "id": "0ce2749f-fb17-4cc6-864b-2b90ea900086",
      "metadata": {},
      "outputs": [],
      "source": [
        "# Write your code below and press Shift+Enter to execute \n\n# merge the new dataframe to the original datafram\ndf = pd.concat([df, dummy_variable_2], axis=1)\n\ndf.head()\n"
      ]
    },
    {
      "cell_type": "markdown",
      "id": "b4757a82-9cb2-4495-b505-3c7f80155a86",
      "metadata": {},
      "outputs": [],
      "source": [
        "<details><summary>Click here for the solution</summary>\n\n```python\n# merge the new dataframe to the original datafram\ndf = pd.concat([df, dummy_variable_2], axis=1)\n\ndf.head()\n\n```\n\n</details>\n"
      ]
    },
    {
      "cell_type": "code",
      "id": "fca2ec06-5985-48e2-b4ef-1d8c92e90b08",
      "metadata": {},
      "outputs": [],
      "source": [
        "df.head()"
      ]
    },
    {
      "cell_type": "code",
      "id": "8eace61d-320b-415e-beb9-0ada8a4d1574",
      "metadata": {},
      "outputs": [],
      "source": [
        "df = df.set_index('Ts')\nresample_df = pd.DataFrame()\nresample_df['Open'] = df['Open'].resample('5min').first()\nresample_df['High'] = df['High'].resample('5min').max()\nresample_df['Low'] = df['Low'].resample('5min').min()\nresample_df['Close'] = df['Close'].resample('5min').last()\nresample_df['Volume'] = df['Volume'].resample('5min').sum()\n\nresample_df.to_csv(\"resampl.csv\")\nresample_df.head()\ndf.to_csv(\"Lab2DataSet.csv\")"
      ]
    },
    {
      "cell_type": "markdown",
      "id": "4069744e-6ee9-4070-bc74-2dc991a78140",
      "metadata": {},
      "outputs": [],
      "source": [
        "#### Save the new csv:\n\n> Note : The  csv file cannot be viewed in the jupyterlite based SN labs environment.However you can Click <a href=\"https://cf-courses-data.s3.us.cloud-object-storage.appdomain.cloud/IBMDeveloperSkillsNetwork-DA0101EN-SkillsNetwork/labs/Module%202/DA0101EN-2-Review-Data-Wrangling.ipynb?utm_medium=Exinfluencer&utm_source=Exinfluencer&utm_content=000026UJ&utm_term=10006555&utm_id=NA-SkillsNetwork-Channel-SkillsNetworkCoursesIBMDeveloperSkillsNetworkDA0101ENSkillsNetwork20235326-2022-01-01\">HERE</a> to download the lab notebook (.ipynb) to your local machine and view the csv file once the notebook is executed.\n"
      ]
    },
    {
      "cell_type": "markdown",
      "id": "c0a52e87-ffb4-427b-b72b-835d3943383b",
      "metadata": {},
      "outputs": [],
      "source": [
        "# **Thank you for completing this lab!**\n\n## Author\n\n<a href=\"https://author.skills.network/instructors/ostap_liashenyk\" target=\"_blank\" >Ostap Liashenyk</a>\n\n<a href=\"https://author.skills.network/instructors/yaroslav_vyklyuk_2?utm_medium=Exinfluencer&utm_source=Exinfluencer&utm_content=000026UJ&utm_term=10006555&utm_id=NA-SkillsNetwork-Channel-SkillsNetworkGuidedProjectsIBMSkillsNetworkGPXX0QGDEN2306-2023-01-01\">Prof. Yaroslav Vyklyuk, DrSc, PhD</a>\n\n<a href=\"https://author.skills.network/instructors/mariya_fleychuk?utm_medium=Exinfluencer&utm_source=Exinfluencer&utm_content=000026UJ&utm_term=10006555&utm_id=NA-SkillsNetwork-Channel-SkillsNetworkGuidedProjectsIBMSkillsNetworkGPXX0QGDEN2306-2023-01-01\">Prof. Mariya Fleychuk, DrSc, PhD</a>\n\n\n\n\n## Change Log\n\n| Date (YYYY-MM-DD) | Version | Changed By      | Change Description                                         |\n| ----------------- | ------- | ----------------| ---------------------------------------------------------- |\n|     2023-04-01    |   1.0   | Ostap Liashenyk | Creation of the lab                                        |\n\n<hr>\n\n## <h3 align=\"center\"> © IBM Corporation 2023. All rights reserved. </h3>"
      ]
    },
    {
      "cell_type": "code",
      "id": "ddde4393-46d5-4e39-9fee-fe42bc148c7e",
      "metadata": {},
      "outputs": [],
      "source": [
        ""
      ]
    }
  ],
  "metadata": {
    "language_info": {
      "name": ""
    },
    "kernelspec": {
      "name": "",
      "display_name": ""
    }
  },
  "nbformat": 4,
  "nbformat_minor": 4
}
{
  "metadata": {
    "anaconda-cloud": {},
    "kernelspec": {
      "name": "python",
      "display_name": "Python (Pyodide)",
      "language": "python"
    },
    "language_info": {
      "codemirror_mode": {
        "name": "python",
        "version": 3
      },
      "file_extension": ".py",
      "mimetype": "text/x-python",
      "name": "python",
      "nbconvert_exporter": "python",
      "pygments_lexer": "ipython3",
      "version": "3.8"
    }
  },
  "nbformat_minor": 4,
  "nbformat": 4,
  "cells": [
    {
      "cell_type": "markdown",
      "source": "<center>\n    <img src=\"https://cf-courses-data.s3.us.cloud-object-storage.appdomain.cloud/IBMDeveloperSkillsNetwork-DA0101EN-SkillsNetwork/labs/Module%202/images/IDSNlogo.png\" width=\"300\" alt=\"cognitiveclass.ai logo\"  />\n</center>\n\n# Data Wrangling\n\nEstimated time needed: **30** minutes\n\n## Objectives\n\nAfter completing this lab you will be able to:\n\n*   Handle missing values\n*   Correct data format\n*   Standardize and normalize data\n",
      "metadata": {}
    },
    {
      "cell_type": "markdown",
      "source": "<h2>Table of Contents</h2>\n\n<div class=\"alert alert-block alert-info\" style=\"margin-top: 20px\">\n<ul>\n    <li><a href=\"https://#identify_handle_missing_values\">Identify and handle missing values</a>\n        <ul>\n            <li><a href=\"https://#identify_missing_values\">Identify missing values</a></li>\n            <li><a href=\"https://#deal_missing_values\">Deal with missing values</a></li>\n            <li><a href=\"https://#correct_data_format\">Correct data format</a></li>\n        </ul>\n    </li>\n    <li><a href=\"https://#data_standardization\">Data standardization</a></li>\n    <li><a href=\"https://#data_normalization\">Data normalization (centering/scaling)</a></li>\n    <li><a href=\"https://#binning\">Binning</a></li>\n    <li><a href=\"https://#indicator\">Indicator variable</a></li>\n</ul>\n\n</div>\n\n<hr>\n",
      "metadata": {}
    },
    {
      "cell_type": "markdown",
      "source": "<h2>What is the purpose of data wrangling?</h2>\n",
      "metadata": {}
    },
    {
      "cell_type": "markdown",
      "source": "Data wrangling is the process of converting data from the initial format to a format that may be better for analysis.\n",
      "metadata": {}
    },
    {
      "cell_type": "markdown",
      "source": "<h3>Import data</h3>\n<p>\nYou can find the dataset from the following link: <a href=\" https://1824251045.rsc.cdn77.org/web/algohouse/data/XRPBUSD_trades_1m.csv\"> https://1824251045.rsc.cdn77.org/web/algohouse/data/XRPBUSD_trades_1m.csv</a>. \nWe will be using this dataset throughout this course.\n</p>\n",
      "metadata": {}
    },
    {
      "cell_type": "markdown",
      "source": "<h4>Import pandas</h4> \n",
      "metadata": {}
    },
    {
      "cell_type": "markdown",
      "source": "You are running the lab in your  browser, so we will install the libraries using `piplite`:\n",
      "metadata": {}
    },
    {
      "cell_type": "code",
      "source": "import piplite\nawait piplite.install(['pandas'])\nawait piplite.install(['matplotlib'])\nawait piplite.install(['scipy'])\nawait piplite.install(['scikit-learn'])",
      "metadata": {
        "trusted": true
      },
      "execution_count": 54,
      "outputs": []
    },
    {
      "cell_type": "markdown",
      "source": "If you run the lab locally using Anaconda, you can load the correct library and versions by uncommenting the following:",
      "metadata": {}
    },
    {
      "cell_type": "code",
      "source": "#If you run the lab locally using Anaconda, you can load the correct library and versions by uncommenting the following:\n#install specific version of libraries used in lab\n#! mamba install pandas==1.3.3\n#! mamba install numpy=1.21.2\n#! mamba install scipy=1.7.1-y\n#! mamba install scikit-learn\n",
      "metadata": {
        "trusted": true
      },
      "execution_count": 19,
      "outputs": []
    },
    {
      "cell_type": "code",
      "source": "import pandas as pd\nimport numpy as np\nimport scipy as sc\nimport random\nimport string\nimport sklearn.metrics\nimport matplotlib.pylab as plt",
      "metadata": {
        "trusted": true
      },
      "execution_count": 20,
      "outputs": []
    },
    {
      "cell_type": "markdown",
      "source": "This function will download the dataset into your browser:\n",
      "metadata": {}
    },
    {
      "cell_type": "code",
      "source": "#This function will download the dataset into your browser \nfrom pyodide.http import pyfetch\n\nasync def download(url, filename):\n    response = await pyfetch(url)\n    if response.status == 200:\n        with open(filename, \"wb\") as f:\n            f.write(await response.bytes())",
      "metadata": {
        "trusted": true
      },
      "execution_count": 21,
      "outputs": []
    },
    {
      "cell_type": "markdown",
      "source": "<h2>Reading the dataset from the URL and adding the related headers</h2>\n",
      "metadata": {}
    },
    {
      "cell_type": "markdown",
      "source": "First, we assign the URL of the dataset to \"filename\".\n",
      "metadata": {}
    },
    {
      "cell_type": "markdown",
      "source": "This dataset was hosted on IBM Cloud object. Click <a href=\"https://cocl.us/corsera_da0101en_notebook_bottom?utm_medium=Exinfluencer&utm_source=Exinfluencer&utm_content=000026UJ&utm_term=10006555&utm_id=NA-SkillsNetwork-Channel-SkillsNetworkCoursesIBMDeveloperSkillsNetworkDA0101ENSkillsNetwork20235326-2021-01-01\">HERE</a> for free storage.\n",
      "metadata": {}
    },
    {
      "cell_type": "code",
      "source": "path = \"https://1824251045.rsc.cdn77.org/web/algohouse/data/XRPBUSD_trades_1m.csv\"",
      "metadata": {
        "trusted": true
      },
      "execution_count": 22,
      "outputs": []
    },
    {
      "cell_type": "markdown",
      "source": "You will need to download the dataset; if you are running locally, please comment out the following.",
      "metadata": {}
    },
    {
      "cell_type": "code",
      "source": "await download(path, \"XRPBUSD_trades_1m.csv\")\npath=\"XRPBUSD_trades_1m.csv\"",
      "metadata": {
        "trusted": true
      },
      "execution_count": 23,
      "outputs": []
    },
    {
      "cell_type": "markdown",
      "source": "Use the Pandas method <b>read_csv()</b> to load the data from the web address. Set the parameter  <code>index_col=0</code> in order to use the first line of cvs file as the row labels of the dataframe.",
      "metadata": {}
    },
    {
      "cell_type": "code",
      "source": "df = pd.read_csv(path, index_col=0)",
      "metadata": {
        "tags": [],
        "trusted": true
      },
      "execution_count": 24,
      "outputs": []
    },
    {
      "cell_type": "markdown",
      "source": "In finance you sometimes need to use different numbers of decimal places. For ease of reading, let's specify the value of the precision parameter equal to 3 to display three decimal signs (instead of 6 as default).",
      "metadata": {}
    },
    {
      "cell_type": "code",
      "source": "pd.set_option(\"display.precision\", 3)",
      "metadata": {
        "trusted": true
      },
      "execution_count": 25,
      "outputs": []
    },
    {
      "cell_type": "markdown",
      "source": "Use the method <b>head()</b> to display the first five rows of the dataframe.\n",
      "metadata": {}
    },
    {
      "cell_type": "code",
      "source": "# To see what the data set looks like, we'll use the head() method.\ndf.head()",
      "metadata": {
        "tags": [],
        "trusted": true
      },
      "execution_count": 26,
      "outputs": [
        {
          "execution_count": 26,
          "output_type": "execute_result",
          "data": {
            "text/plain": "                    ts   open   high    low  close    volume  rec_count  \\\n0  2022-11-11 14:38:00  0.370  0.370  0.368  0.368  165726.4         47   \n1  2022-11-11 14:39:00  0.368  0.369  0.367  0.368  235942.4         49   \n2  2022-11-11 14:40:00  0.368  0.368  0.367  0.367  475118.5         46   \n3  2022-11-11 14:41:00  0.367  0.369  0.367  0.368  420195.5         53   \n4  2022-11-11 14:42:00  0.368  0.369  0.367  0.367  199091.6         42   \n\n   avg_price  \n0      0.369  \n1      0.368  \n2      0.367  \n3      0.368  \n4      0.368  ",
            "text/html": "<div>\n<style scoped>\n    .dataframe tbody tr th:only-of-type {\n        vertical-align: middle;\n    }\n\n    .dataframe tbody tr th {\n        vertical-align: top;\n    }\n\n    .dataframe thead th {\n        text-align: right;\n    }\n</style>\n<table border=\"1\" class=\"dataframe\">\n  <thead>\n    <tr style=\"text-align: right;\">\n      <th></th>\n      <th>ts</th>\n      <th>open</th>\n      <th>high</th>\n      <th>low</th>\n      <th>close</th>\n      <th>volume</th>\n      <th>rec_count</th>\n      <th>avg_price</th>\n    </tr>\n  </thead>\n  <tbody>\n    <tr>\n      <th>0</th>\n      <td>2022-11-11 14:38:00</td>\n      <td>0.370</td>\n      <td>0.370</td>\n      <td>0.368</td>\n      <td>0.368</td>\n      <td>165726.4</td>\n      <td>47</td>\n      <td>0.369</td>\n    </tr>\n    <tr>\n      <th>1</th>\n      <td>2022-11-11 14:39:00</td>\n      <td>0.368</td>\n      <td>0.369</td>\n      <td>0.367</td>\n      <td>0.368</td>\n      <td>235942.4</td>\n      <td>49</td>\n      <td>0.368</td>\n    </tr>\n    <tr>\n      <th>2</th>\n      <td>2022-11-11 14:40:00</td>\n      <td>0.368</td>\n      <td>0.368</td>\n      <td>0.367</td>\n      <td>0.367</td>\n      <td>475118.5</td>\n      <td>46</td>\n      <td>0.367</td>\n    </tr>\n    <tr>\n      <th>3</th>\n      <td>2022-11-11 14:41:00</td>\n      <td>0.367</td>\n      <td>0.369</td>\n      <td>0.367</td>\n      <td>0.368</td>\n      <td>420195.5</td>\n      <td>53</td>\n      <td>0.368</td>\n    </tr>\n    <tr>\n      <th>4</th>\n      <td>2022-11-11 14:42:00</td>\n      <td>0.368</td>\n      <td>0.369</td>\n      <td>0.367</td>\n      <td>0.367</td>\n      <td>199091.6</td>\n      <td>42</td>\n      <td>0.368</td>\n    </tr>\n  </tbody>\n</table>\n</div>"
          },
          "metadata": {}
        }
      ]
    },
    {
      "cell_type": "markdown",
      "source": "<h2 id=\"Generating_missing_values\">Generating missing values</h2>\n\n<h3 id=\"identify_missing_values\">Identify missing values</h3>",
      "metadata": {}
    },
    {
      "cell_type": "markdown",
      "source": "One of the important steps of data wrangling is identifying gaps or empty cells in data and either filling or removing them. \n<p>\nLet's find out if our dataset has fields with missing values. Use method <code>is.null()</code> to detect missing values. The output is a boolean value indicating whether the value is in fact missing data. <strong>False</strong> means the cell is not empty, <strong>True</strong> indicates missing value.\n</p>",
      "metadata": {}
    },
    {
      "cell_type": "raw",
      "source": "dataframe.isnull()",
      "metadata": {}
    },
    {
      "cell_type": "code",
      "source": "missing_data = df.isnull()\nmissing_data.head()",
      "metadata": {
        "trusted": true
      },
      "execution_count": 27,
      "outputs": [
        {
          "execution_count": 27,
          "output_type": "execute_result",
          "data": {
            "text/plain": "      ts   open   high    low  close  volume  rec_count  avg_price\n0  False  False  False  False  False   False      False      False\n1  False  False  False  False  False   False      False      False\n2  False  False  False  False  False   False      False      False\n3  False  False  False  False  False   False      False      False\n4  False  False  False  False  False   False      False      False",
            "text/html": "<div>\n<style scoped>\n    .dataframe tbody tr th:only-of-type {\n        vertical-align: middle;\n    }\n\n    .dataframe tbody tr th {\n        vertical-align: top;\n    }\n\n    .dataframe thead th {\n        text-align: right;\n    }\n</style>\n<table border=\"1\" class=\"dataframe\">\n  <thead>\n    <tr style=\"text-align: right;\">\n      <th></th>\n      <th>ts</th>\n      <th>open</th>\n      <th>high</th>\n      <th>low</th>\n      <th>close</th>\n      <th>volume</th>\n      <th>rec_count</th>\n      <th>avg_price</th>\n    </tr>\n  </thead>\n  <tbody>\n    <tr>\n      <th>0</th>\n      <td>False</td>\n      <td>False</td>\n      <td>False</td>\n      <td>False</td>\n      <td>False</td>\n      <td>False</td>\n      <td>False</td>\n      <td>False</td>\n    </tr>\n    <tr>\n      <th>1</th>\n      <td>False</td>\n      <td>False</td>\n      <td>False</td>\n      <td>False</td>\n      <td>False</td>\n      <td>False</td>\n      <td>False</td>\n      <td>False</td>\n    </tr>\n    <tr>\n      <th>2</th>\n      <td>False</td>\n      <td>False</td>\n      <td>False</td>\n      <td>False</td>\n      <td>False</td>\n      <td>False</td>\n      <td>False</td>\n      <td>False</td>\n    </tr>\n    <tr>\n      <th>3</th>\n      <td>False</td>\n      <td>False</td>\n      <td>False</td>\n      <td>False</td>\n      <td>False</td>\n      <td>False</td>\n      <td>False</td>\n      <td>False</td>\n    </tr>\n    <tr>\n      <th>4</th>\n      <td>False</td>\n      <td>False</td>\n      <td>False</td>\n      <td>False</td>\n      <td>False</td>\n      <td>False</td>\n      <td>False</td>\n      <td>False</td>\n    </tr>\n  </tbody>\n</table>\n</div>"
          },
          "metadata": {}
        }
      ]
    },
    {
      "cell_type": "markdown",
      "source": "After that use <code>values_counts()</code> to return a series containing counts of unique rows in the dataframe.",
      "metadata": {}
    },
    {
      "cell_type": "raw",
      "source": "dataframe.value_counts()",
      "metadata": {}
    },
    {
      "cell_type": "code",
      "source": "missing_data.value_counts()",
      "metadata": {
        "trusted": true
      },
      "execution_count": 28,
      "outputs": [
        {
          "execution_count": 28,
          "output_type": "execute_result",
          "data": {
            "text/plain": "ts     open   high   low    close  volume  rec_count  avg_price\nFalse  False  False  False  False  False   False      False        66911\ndtype: int64"
          },
          "metadata": {}
        }
      ]
    },
    {
      "cell_type": "markdown",
      "source": "As we can see each column of our dataframe has only boolean **False** value that indicates no missing values are present in our dataset. \n\n<p>\nTo gain a better experience of each steps of data wrangling process let's generate missing values in our dataset. Then we will try to restore them and compare with a real data.\n</p>",
      "metadata": {}
    },
    {
      "cell_type": "markdown",
      "source": "<h3 id=\"generating_incorrect_data\">Generating incorrect data</h3>",
      "metadata": {}
    },
    {
      "cell_type": "markdown",
      "source": "Undeniably, missing data is not the only incorrect data that may occur in datasets. Let us generate the following incorrect data within our dataset:\n<li> missing values (NaN) </li>\n<li> negative values </li>\n<li> strings </li>\n<br>\n<p>\nWe should declare function <code>generate_incorrect_data()</code> responsible of this task.\n</p>\n<p>\nIn order to generate random values, the <code>rand()</code> method of random module and numpy <code>where()</code> function will be used.\n</p>    \n<p>\nHere we use the function: \n <pre>numpy.where(condition, [x, y, ])</pre>\nto return elements chosen from x or y depending on condition.\n</p>\n<p>\n    In our instance specify a condition <code>np.random.rand(len(df))</code> greater than 0.07 to generate part of the incorrect dataset data. If condition equals True, then yield x, otherwise yield incorrect data such as NaN, strings, and negative values.\n</p>\n<p>\n    To generate negative values we use <code>np.random.uniform(low, high)</code> that draws samples from a uniform distribution over <code>[low, high)</code> interval.</code>\n</p>\n<p>\n    To generate strings we use <code>random.choices(array, k)</code> to create a random sample from a given array. In our case we specify array as ASCII letters <i>string.ascii_letters</i> and create sequences of letters with a length of 7 characters <i>k=7</i>. As the <code>choices()</code> method returns a list with the randomly selected element from the specified array, we need to convert it to <i>string</i> type. To accomplish this we use the <code>string.join()</code> method that takes all items in an iterable and joins them into one string.\n</p>",
      "metadata": {}
    },
    {
      "cell_type": "code",
      "source": "def generate_incorrect_data(pd: pd.DataFrame, columns: list[str]):\n    for column in columns:\n        pd[column] = pd[column].where(lambda x: np.random.rand(len(df)) > 0.07, np.nan)\n        pd[column] = pd[column].where(lambda x: np.random.rand(len(df)) > 0.07, np.random.uniform(-1.0, 0.0))\n        pd[column] = pd[column].where(lambda x: np.random.rand(len(df)) > 0.07, \n                                      ''.join(random.choices(string.ascii_letters, k=7)))\n    return pd",
      "metadata": {
        "trusted": true
      },
      "execution_count": 29,
      "outputs": []
    },
    {
      "cell_type": "markdown",
      "source": "You probably have noticed strange keyword <code>lambda</code> in our function.\n<h5>What is lambda?</h5>\n<pre><i>Lambda</i> - an anonymous function which we can pass in instantly without defining a name like a full traditional function.</pre>\nWe can operate with a lambda function in relation to both the columns and rows of the Pandas dataframe. In our instance we apply lambda function to each cell of passed to function columns.",
      "metadata": {}
    },
    {
      "cell_type": "markdown",
      "source": "We should keep our initial dataframe unchangable to use in further steps of current lab. Thus, the following dataframe manipulation will be produced on the copied dataframe. To make a copy of this object’s indices and data use <code>copy()</code> function:",
      "metadata": {}
    },
    {
      "cell_type": "raw",
      "source": "dataframe.copy()",
      "metadata": {}
    },
    {
      "cell_type": "code",
      "source": "df_missing = df.copy()\n\ncolumns = [\"open\", \"high\", \"low\"]\ndf_missing = generate_incorrect_data(df_missing, columns)\ndf_missing",
      "metadata": {
        "trusted": true
      },
      "execution_count": 46,
      "outputs": [
        {
          "execution_count": 46,
          "output_type": "execute_result",
          "data": {
            "text/plain": "                        ts     open   high    low  close    volume  rec_count  \\\n0      2022-11-11 14:38:00     0.37   0.37  0.368  0.368  165726.4         47   \n1      2022-11-11 14:39:00    0.368  0.369    NaN  0.368  235942.4         49   \n2      2022-11-11 14:40:00   -0.309  -0.77  0.367  0.367  475118.5         46   \n3      2022-11-11 14:41:00    0.367  0.369  -0.82  0.368  420195.5         53   \n4      2022-11-11 14:42:00      NaN  0.369  0.367  0.367  199091.6         42   \n...                    ...      ...    ...    ...    ...       ...        ...   \n66906  2022-12-29 23:55:00  aPIVOcJ  0.342  0.342  0.342  117901.5         10   \n66907  2022-12-29 23:56:00    0.343  0.343  0.342  0.342   31408.9          4   \n66908  2022-12-29 23:57:00      NaN  0.342  0.342  0.342   62566.9          6   \n66909  2022-12-29 23:58:00    0.343    NaN  0.342  0.342   16407.1          9   \n66910  2022-12-29 23:59:00    0.342    NaN  0.342  0.342   18707.9          8   \n\n       avg_price  \n0          0.369  \n1          0.368  \n2          0.367  \n3          0.368  \n4          0.368  \n...          ...  \n66906      0.342  \n66907      0.342  \n66908      0.342  \n66909      0.342  \n66910      0.342  \n\n[66911 rows x 8 columns]",
            "text/html": "<div>\n<style scoped>\n    .dataframe tbody tr th:only-of-type {\n        vertical-align: middle;\n    }\n\n    .dataframe tbody tr th {\n        vertical-align: top;\n    }\n\n    .dataframe thead th {\n        text-align: right;\n    }\n</style>\n<table border=\"1\" class=\"dataframe\">\n  <thead>\n    <tr style=\"text-align: right;\">\n      <th></th>\n      <th>ts</th>\n      <th>open</th>\n      <th>high</th>\n      <th>low</th>\n      <th>close</th>\n      <th>volume</th>\n      <th>rec_count</th>\n      <th>avg_price</th>\n    </tr>\n  </thead>\n  <tbody>\n    <tr>\n      <th>0</th>\n      <td>2022-11-11 14:38:00</td>\n      <td>0.37</td>\n      <td>0.37</td>\n      <td>0.368</td>\n      <td>0.368</td>\n      <td>165726.4</td>\n      <td>47</td>\n      <td>0.369</td>\n    </tr>\n    <tr>\n      <th>1</th>\n      <td>2022-11-11 14:39:00</td>\n      <td>0.368</td>\n      <td>0.369</td>\n      <td>NaN</td>\n      <td>0.368</td>\n      <td>235942.4</td>\n      <td>49</td>\n      <td>0.368</td>\n    </tr>\n    <tr>\n      <th>2</th>\n      <td>2022-11-11 14:40:00</td>\n      <td>-0.309</td>\n      <td>-0.77</td>\n      <td>0.367</td>\n      <td>0.367</td>\n      <td>475118.5</td>\n      <td>46</td>\n      <td>0.367</td>\n    </tr>\n    <tr>\n      <th>3</th>\n      <td>2022-11-11 14:41:00</td>\n      <td>0.367</td>\n      <td>0.369</td>\n      <td>-0.82</td>\n      <td>0.368</td>\n      <td>420195.5</td>\n      <td>53</td>\n      <td>0.368</td>\n    </tr>\n    <tr>\n      <th>4</th>\n      <td>2022-11-11 14:42:00</td>\n      <td>NaN</td>\n      <td>0.369</td>\n      <td>0.367</td>\n      <td>0.367</td>\n      <td>199091.6</td>\n      <td>42</td>\n      <td>0.368</td>\n    </tr>\n    <tr>\n      <th>...</th>\n      <td>...</td>\n      <td>...</td>\n      <td>...</td>\n      <td>...</td>\n      <td>...</td>\n      <td>...</td>\n      <td>...</td>\n      <td>...</td>\n    </tr>\n    <tr>\n      <th>66906</th>\n      <td>2022-12-29 23:55:00</td>\n      <td>aPIVOcJ</td>\n      <td>0.342</td>\n      <td>0.342</td>\n      <td>0.342</td>\n      <td>117901.5</td>\n      <td>10</td>\n      <td>0.342</td>\n    </tr>\n    <tr>\n      <th>66907</th>\n      <td>2022-12-29 23:56:00</td>\n      <td>0.343</td>\n      <td>0.343</td>\n      <td>0.342</td>\n      <td>0.342</td>\n      <td>31408.9</td>\n      <td>4</td>\n      <td>0.342</td>\n    </tr>\n    <tr>\n      <th>66908</th>\n      <td>2022-12-29 23:57:00</td>\n      <td>NaN</td>\n      <td>0.342</td>\n      <td>0.342</td>\n      <td>0.342</td>\n      <td>62566.9</td>\n      <td>6</td>\n      <td>0.342</td>\n    </tr>\n    <tr>\n      <th>66909</th>\n      <td>2022-12-29 23:58:00</td>\n      <td>0.343</td>\n      <td>NaN</td>\n      <td>0.342</td>\n      <td>0.342</td>\n      <td>16407.1</td>\n      <td>9</td>\n      <td>0.342</td>\n    </tr>\n    <tr>\n      <th>66910</th>\n      <td>2022-12-29 23:59:00</td>\n      <td>0.342</td>\n      <td>NaN</td>\n      <td>0.342</td>\n      <td>0.342</td>\n      <td>18707.9</td>\n      <td>8</td>\n      <td>0.342</td>\n    </tr>\n  </tbody>\n</table>\n<p>66911 rows × 8 columns</p>\n</div>"
          },
          "metadata": {}
        }
      ]
    },
    {
      "cell_type": "markdown",
      "source": "As we can see, incorrect data appeared in the dataframe; those may hinder our further analysis.\n\n<div>So, how do we identify all those missing and incorrect values and deal with them?</div> \n\n<b>How to work with missing data?</b>\n\nSteps for working with missing data:\n\n<ol>\n    <li>Identify missing data</li>\n    <li>Deal with missing data</li>\n    <li>Correct data format</li>\n</ol>\n",
      "metadata": {}
    },
    {
      "cell_type": "markdown",
      "source": "<h2 id=\"identify_handle_missing_values\">Identify and handle missing values</h2>\n\n<h3 id=\"identify_missing_values\">Identify missing values</h3>\n<h4>Convert incorrect data to NaN</h4>\nWe replace incorrect data with NaN (Not a Number), Python's default missing value marker for reasons of computational speed and convenience. Here we use the function: \n <pre>.replace(A, B, inplace = True) </pre>\nto replace A by B.\n<br>\n<br>\n<p>Try to replace string cells in dataframe using this function. Since when generating incorrect data we randomized strings we should use <strong>regular expressions</strong> (<i>aka regex</i>) to determine all dataframe values that correspond to a sequence of uppercase and lowercase letters.\n<pre><i>RegEx</i>, or regular expression - a sequence of characters that forms a search pattern.</pre>\n</p>\n<p>\nTo accomplish this we need to specify the parameter <code>regex=True</code> in <code>replace()</code> method to use regular expressions and pass the regex itself. To determine the strings of letters use regex <code>r'^[A-Za-z]+$'</code>. \n</p>\n",
      "metadata": {
        "tags": []
      }
    },
    {
      "cell_type": "code",
      "source": "# replace strings to NaN\ndf_missing.replace(r'^[A-Za-z]+$', np.nan, inplace = True, regex = True)\ndf_missing",
      "metadata": {
        "trusted": true
      },
      "execution_count": 47,
      "outputs": [
        {
          "execution_count": 47,
          "output_type": "execute_result",
          "data": {
            "text/plain": "                        ts   open   high    low  close    volume  rec_count  \\\n0      2022-11-11 14:38:00  0.370  0.370  0.368  0.368  165726.4         47   \n1      2022-11-11 14:39:00  0.368  0.369    NaN  0.368  235942.4         49   \n2      2022-11-11 14:40:00 -0.309 -0.770  0.367  0.367  475118.5         46   \n3      2022-11-11 14:41:00  0.367  0.369 -0.820  0.368  420195.5         53   \n4      2022-11-11 14:42:00    NaN  0.369  0.367  0.367  199091.6         42   \n...                    ...    ...    ...    ...    ...       ...        ...   \n66906  2022-12-29 23:55:00    NaN  0.342  0.342  0.342  117901.5         10   \n66907  2022-12-29 23:56:00  0.343  0.343  0.342  0.342   31408.9          4   \n66908  2022-12-29 23:57:00    NaN  0.342  0.342  0.342   62566.9          6   \n66909  2022-12-29 23:58:00  0.343    NaN  0.342  0.342   16407.1          9   \n66910  2022-12-29 23:59:00  0.342    NaN  0.342  0.342   18707.9          8   \n\n       avg_price  \n0          0.369  \n1          0.368  \n2          0.367  \n3          0.368  \n4          0.368  \n...          ...  \n66906      0.342  \n66907      0.342  \n66908      0.342  \n66909      0.342  \n66910      0.342  \n\n[66911 rows x 8 columns]",
            "text/html": "<div>\n<style scoped>\n    .dataframe tbody tr th:only-of-type {\n        vertical-align: middle;\n    }\n\n    .dataframe tbody tr th {\n        vertical-align: top;\n    }\n\n    .dataframe thead th {\n        text-align: right;\n    }\n</style>\n<table border=\"1\" class=\"dataframe\">\n  <thead>\n    <tr style=\"text-align: right;\">\n      <th></th>\n      <th>ts</th>\n      <th>open</th>\n      <th>high</th>\n      <th>low</th>\n      <th>close</th>\n      <th>volume</th>\n      <th>rec_count</th>\n      <th>avg_price</th>\n    </tr>\n  </thead>\n  <tbody>\n    <tr>\n      <th>0</th>\n      <td>2022-11-11 14:38:00</td>\n      <td>0.370</td>\n      <td>0.370</td>\n      <td>0.368</td>\n      <td>0.368</td>\n      <td>165726.4</td>\n      <td>47</td>\n      <td>0.369</td>\n    </tr>\n    <tr>\n      <th>1</th>\n      <td>2022-11-11 14:39:00</td>\n      <td>0.368</td>\n      <td>0.369</td>\n      <td>NaN</td>\n      <td>0.368</td>\n      <td>235942.4</td>\n      <td>49</td>\n      <td>0.368</td>\n    </tr>\n    <tr>\n      <th>2</th>\n      <td>2022-11-11 14:40:00</td>\n      <td>-0.309</td>\n      <td>-0.770</td>\n      <td>0.367</td>\n      <td>0.367</td>\n      <td>475118.5</td>\n      <td>46</td>\n      <td>0.367</td>\n    </tr>\n    <tr>\n      <th>3</th>\n      <td>2022-11-11 14:41:00</td>\n      <td>0.367</td>\n      <td>0.369</td>\n      <td>-0.820</td>\n      <td>0.368</td>\n      <td>420195.5</td>\n      <td>53</td>\n      <td>0.368</td>\n    </tr>\n    <tr>\n      <th>4</th>\n      <td>2022-11-11 14:42:00</td>\n      <td>NaN</td>\n      <td>0.369</td>\n      <td>0.367</td>\n      <td>0.367</td>\n      <td>199091.6</td>\n      <td>42</td>\n      <td>0.368</td>\n    </tr>\n    <tr>\n      <th>...</th>\n      <td>...</td>\n      <td>...</td>\n      <td>...</td>\n      <td>...</td>\n      <td>...</td>\n      <td>...</td>\n      <td>...</td>\n      <td>...</td>\n    </tr>\n    <tr>\n      <th>66906</th>\n      <td>2022-12-29 23:55:00</td>\n      <td>NaN</td>\n      <td>0.342</td>\n      <td>0.342</td>\n      <td>0.342</td>\n      <td>117901.5</td>\n      <td>10</td>\n      <td>0.342</td>\n    </tr>\n    <tr>\n      <th>66907</th>\n      <td>2022-12-29 23:56:00</td>\n      <td>0.343</td>\n      <td>0.343</td>\n      <td>0.342</td>\n      <td>0.342</td>\n      <td>31408.9</td>\n      <td>4</td>\n      <td>0.342</td>\n    </tr>\n    <tr>\n      <th>66908</th>\n      <td>2022-12-29 23:57:00</td>\n      <td>NaN</td>\n      <td>0.342</td>\n      <td>0.342</td>\n      <td>0.342</td>\n      <td>62566.9</td>\n      <td>6</td>\n      <td>0.342</td>\n    </tr>\n    <tr>\n      <th>66909</th>\n      <td>2022-12-29 23:58:00</td>\n      <td>0.343</td>\n      <td>NaN</td>\n      <td>0.342</td>\n      <td>0.342</td>\n      <td>16407.1</td>\n      <td>9</td>\n      <td>0.342</td>\n    </tr>\n    <tr>\n      <th>66910</th>\n      <td>2022-12-29 23:59:00</td>\n      <td>0.342</td>\n      <td>NaN</td>\n      <td>0.342</td>\n      <td>0.342</td>\n      <td>18707.9</td>\n      <td>8</td>\n      <td>0.342</td>\n    </tr>\n  </tbody>\n</table>\n<p>66911 rows × 8 columns</p>\n</div>"
          },
          "metadata": {}
        }
      ]
    },
    {
      "cell_type": "markdown",
      "source": "The next step we need to replace the negative values ​​in the dataframe with NaN. To accomplish this we use numpy function <code>where()</code> specifying a condition <code>x > 0</code>. If condition equals True, then yield <code>x</code>, otherwise yield <code>NaN</code>.",
      "metadata": {}
    },
    {
      "cell_type": "code",
      "source": "for column in columns:\n    df_missing[column] = df_missing[column].where(lambda x: x > 0, np.nan)\ndf_missing",
      "metadata": {
        "trusted": true
      },
      "execution_count": 48,
      "outputs": [
        {
          "execution_count": 48,
          "output_type": "execute_result",
          "data": {
            "text/plain": "                        ts   open   high    low  close    volume  rec_count  \\\n0      2022-11-11 14:38:00  0.370  0.370  0.368  0.368  165726.4         47   \n1      2022-11-11 14:39:00  0.368  0.369    NaN  0.368  235942.4         49   \n2      2022-11-11 14:40:00    NaN    NaN  0.367  0.367  475118.5         46   \n3      2022-11-11 14:41:00  0.367  0.369    NaN  0.368  420195.5         53   \n4      2022-11-11 14:42:00    NaN  0.369  0.367  0.367  199091.6         42   \n...                    ...    ...    ...    ...    ...       ...        ...   \n66906  2022-12-29 23:55:00    NaN  0.342  0.342  0.342  117901.5         10   \n66907  2022-12-29 23:56:00  0.343  0.343  0.342  0.342   31408.9          4   \n66908  2022-12-29 23:57:00    NaN  0.342  0.342  0.342   62566.9          6   \n66909  2022-12-29 23:58:00  0.343    NaN  0.342  0.342   16407.1          9   \n66910  2022-12-29 23:59:00  0.342    NaN  0.342  0.342   18707.9          8   \n\n       avg_price  \n0          0.369  \n1          0.368  \n2          0.367  \n3          0.368  \n4          0.368  \n...          ...  \n66906      0.342  \n66907      0.342  \n66908      0.342  \n66909      0.342  \n66910      0.342  \n\n[66911 rows x 8 columns]",
            "text/html": "<div>\n<style scoped>\n    .dataframe tbody tr th:only-of-type {\n        vertical-align: middle;\n    }\n\n    .dataframe tbody tr th {\n        vertical-align: top;\n    }\n\n    .dataframe thead th {\n        text-align: right;\n    }\n</style>\n<table border=\"1\" class=\"dataframe\">\n  <thead>\n    <tr style=\"text-align: right;\">\n      <th></th>\n      <th>ts</th>\n      <th>open</th>\n      <th>high</th>\n      <th>low</th>\n      <th>close</th>\n      <th>volume</th>\n      <th>rec_count</th>\n      <th>avg_price</th>\n    </tr>\n  </thead>\n  <tbody>\n    <tr>\n      <th>0</th>\n      <td>2022-11-11 14:38:00</td>\n      <td>0.370</td>\n      <td>0.370</td>\n      <td>0.368</td>\n      <td>0.368</td>\n      <td>165726.4</td>\n      <td>47</td>\n      <td>0.369</td>\n    </tr>\n    <tr>\n      <th>1</th>\n      <td>2022-11-11 14:39:00</td>\n      <td>0.368</td>\n      <td>0.369</td>\n      <td>NaN</td>\n      <td>0.368</td>\n      <td>235942.4</td>\n      <td>49</td>\n      <td>0.368</td>\n    </tr>\n    <tr>\n      <th>2</th>\n      <td>2022-11-11 14:40:00</td>\n      <td>NaN</td>\n      <td>NaN</td>\n      <td>0.367</td>\n      <td>0.367</td>\n      <td>475118.5</td>\n      <td>46</td>\n      <td>0.367</td>\n    </tr>\n    <tr>\n      <th>3</th>\n      <td>2022-11-11 14:41:00</td>\n      <td>0.367</td>\n      <td>0.369</td>\n      <td>NaN</td>\n      <td>0.368</td>\n      <td>420195.5</td>\n      <td>53</td>\n      <td>0.368</td>\n    </tr>\n    <tr>\n      <th>4</th>\n      <td>2022-11-11 14:42:00</td>\n      <td>NaN</td>\n      <td>0.369</td>\n      <td>0.367</td>\n      <td>0.367</td>\n      <td>199091.6</td>\n      <td>42</td>\n      <td>0.368</td>\n    </tr>\n    <tr>\n      <th>...</th>\n      <td>...</td>\n      <td>...</td>\n      <td>...</td>\n      <td>...</td>\n      <td>...</td>\n      <td>...</td>\n      <td>...</td>\n      <td>...</td>\n    </tr>\n    <tr>\n      <th>66906</th>\n      <td>2022-12-29 23:55:00</td>\n      <td>NaN</td>\n      <td>0.342</td>\n      <td>0.342</td>\n      <td>0.342</td>\n      <td>117901.5</td>\n      <td>10</td>\n      <td>0.342</td>\n    </tr>\n    <tr>\n      <th>66907</th>\n      <td>2022-12-29 23:56:00</td>\n      <td>0.343</td>\n      <td>0.343</td>\n      <td>0.342</td>\n      <td>0.342</td>\n      <td>31408.9</td>\n      <td>4</td>\n      <td>0.342</td>\n    </tr>\n    <tr>\n      <th>66908</th>\n      <td>2022-12-29 23:57:00</td>\n      <td>NaN</td>\n      <td>0.342</td>\n      <td>0.342</td>\n      <td>0.342</td>\n      <td>62566.9</td>\n      <td>6</td>\n      <td>0.342</td>\n    </tr>\n    <tr>\n      <th>66909</th>\n      <td>2022-12-29 23:58:00</td>\n      <td>0.343</td>\n      <td>NaN</td>\n      <td>0.342</td>\n      <td>0.342</td>\n      <td>16407.1</td>\n      <td>9</td>\n      <td>0.342</td>\n    </tr>\n    <tr>\n      <th>66910</th>\n      <td>2022-12-29 23:59:00</td>\n      <td>0.342</td>\n      <td>NaN</td>\n      <td>0.342</td>\n      <td>0.342</td>\n      <td>18707.9</td>\n      <td>8</td>\n      <td>0.342</td>\n    </tr>\n  </tbody>\n</table>\n<p>66911 rows × 8 columns</p>\n</div>"
          },
          "metadata": {}
        }
      ]
    },
    {
      "cell_type": "markdown",
      "source": "<h4>Evaluating for Missing Data</h4>\n\nThe missing values are converted by default. We use the following functions to identify these missing values. There are two methods to detect missing data:\n\n<ol>\n    <li><b>.isnull()</b></li>\n    <li><b>.notnull()</b></li>\n</ol>\nThe output is a boolean value indicating whether the value that is passed into the argument is in fact missing data.\n",
      "metadata": {}
    },
    {
      "cell_type": "code",
      "source": "missing_data = df_missing.isnull()\nmissing_data.head()",
      "metadata": {
        "trusted": true
      },
      "execution_count": 49,
      "outputs": [
        {
          "execution_count": 49,
          "output_type": "execute_result",
          "data": {
            "text/plain": "      ts   open   high    low  close  volume  rec_count  avg_price\n0  False  False  False  False  False   False      False      False\n1  False  False  False   True  False   False      False      False\n2  False   True   True  False  False   False      False      False\n3  False  False  False   True  False   False      False      False\n4  False   True  False  False  False   False      False      False",
            "text/html": "<div>\n<style scoped>\n    .dataframe tbody tr th:only-of-type {\n        vertical-align: middle;\n    }\n\n    .dataframe tbody tr th {\n        vertical-align: top;\n    }\n\n    .dataframe thead th {\n        text-align: right;\n    }\n</style>\n<table border=\"1\" class=\"dataframe\">\n  <thead>\n    <tr style=\"text-align: right;\">\n      <th></th>\n      <th>ts</th>\n      <th>open</th>\n      <th>high</th>\n      <th>low</th>\n      <th>close</th>\n      <th>volume</th>\n      <th>rec_count</th>\n      <th>avg_price</th>\n    </tr>\n  </thead>\n  <tbody>\n    <tr>\n      <th>0</th>\n      <td>False</td>\n      <td>False</td>\n      <td>False</td>\n      <td>False</td>\n      <td>False</td>\n      <td>False</td>\n      <td>False</td>\n      <td>False</td>\n    </tr>\n    <tr>\n      <th>1</th>\n      <td>False</td>\n      <td>False</td>\n      <td>False</td>\n      <td>True</td>\n      <td>False</td>\n      <td>False</td>\n      <td>False</td>\n      <td>False</td>\n    </tr>\n    <tr>\n      <th>2</th>\n      <td>False</td>\n      <td>True</td>\n      <td>True</td>\n      <td>False</td>\n      <td>False</td>\n      <td>False</td>\n      <td>False</td>\n      <td>False</td>\n    </tr>\n    <tr>\n      <th>3</th>\n      <td>False</td>\n      <td>False</td>\n      <td>False</td>\n      <td>True</td>\n      <td>False</td>\n      <td>False</td>\n      <td>False</td>\n      <td>False</td>\n    </tr>\n    <tr>\n      <th>4</th>\n      <td>False</td>\n      <td>True</td>\n      <td>False</td>\n      <td>False</td>\n      <td>False</td>\n      <td>False</td>\n      <td>False</td>\n      <td>False</td>\n    </tr>\n  </tbody>\n</table>\n</div>"
          },
          "metadata": {}
        }
      ]
    },
    {
      "cell_type": "markdown",
      "source": "\"True\" means the value is a missing value while \"False\" means the value is not a missing value.\n",
      "metadata": {}
    },
    {
      "cell_type": "markdown",
      "source": "<h4>Count missing values in each column</h4>\n<p>\nUsing a for loop in Python, we can quickly figure out the number of missing values in each column. As mentioned above, \"True\" represents a missing value and \"False\" means the value is present in the dataset.  In the body of the for loop the method \".value_counts()\" counts the number of \"True\" values. \n</p>\n",
      "metadata": {}
    },
    {
      "cell_type": "code",
      "source": "for column in missing_data.columns.values.tolist():\n    print(column)\n    print (missing_data[column].value_counts())\n    print(\"\")    ",
      "metadata": {
        "trusted": true
      },
      "execution_count": 50,
      "outputs": [
        {
          "name": "stdout",
          "text": "ts\nFalse    66911\nName: ts, dtype: int64\n\nopen\nFalse    53810\nTrue     13101\nName: open, dtype: int64\n\nhigh\nFalse    53919\nTrue     12992\nName: high, dtype: int64\n\nlow\nFalse    53693\nTrue     13218\nName: low, dtype: int64\n\nclose\nFalse    66911\nName: close, dtype: int64\n\nvolume\nFalse    66911\nName: volume, dtype: int64\n\nrec_count\nFalse    66911\nName: rec_count, dtype: int64\n\navg_price\nFalse    66911\nName: avg_price, dtype: int64\n\n",
          "output_type": "stream"
        }
      ]
    },
    {
      "cell_type": "markdown",
      "source": "Based on the summary above, each column has 66911 rows of data and three of the columns containing missing data.",
      "metadata": {}
    },
    {
      "cell_type": "markdown",
      "source": "<h3 id=\"deal_missing_values\">Deal with missing data</h3>\n<b>How to deal with missing data?</b>\n\n<ol>\n    <li>Drop data<br>\n        a. Drop the whole row<br>\n        b. Drop the whole column\n    </li>\n    <li>Replace data<br>\n        a. Replace it by mean<br>\n        b. Replace it by frequency<br>\n        c. Replace it based on other functions\n    </li>\n</ol>\n",
      "metadata": {}
    },
    {
      "cell_type": "markdown",
      "source": "Whole columns should be dropped only if most entries in the column are empty. In our dataset, none of the columns are empty enough to drop entirely.\nWe have some freedom in choosing which method to replace data; however, some methods may seem more reasonable than others. \n\n<br>\nWe will apply different methods such as replacing by <strong>interpolation</strong> with diverse techniques. Then we will compare each of replacing ways by calculating precision between restored dataframe and the real one. \n",
      "metadata": {}
    },
    {
      "cell_type": "markdown",
      "source": "For further comparison of the obtained dataframes with the initial one, we will create a separate dataframe to record the data recovery method and calculated accuracy.",
      "metadata": {}
    },
    {
      "cell_type": "code",
      "source": "df_precision = pd.DataFrame({\"method\":[], \"mse\": [], \"mape\": []})",
      "metadata": {
        "trusted": true
      },
      "execution_count": 51,
      "outputs": []
    },
    {
      "cell_type": "markdown",
      "source": "<h4>Precision estimating metrics</h4>\n",
      "metadata": {}
    },
    {
      "cell_type": "markdown",
      "source": "For calculating difference between restored and initial dataframes we will use <strong>mean squared error</strong> (MSE) and <strong>mean absolute percentage error</strong> (MAPE) metrics. \n\n<h5>What is MSE?</h5>\nThe MSE is a measure of the quality of an estimator. As it is derived from the square of Euclidean distance, it is always a positive value that decreases as the error approaches zero.\n<p>\nTo calculate MSE use <code>mean_squared_error(y_true, y_pred)</code> from <i>skicit-learn</i> library where <code>y_true</code> represents ground truth (correct) target values and <code>y_pred</code> corresponds to estimated target values.\n</p>\n\n<h5>What is MAPE?</h5>\nA statistic known as mean absolute percentage error (MAPE) is used to assess how accurate a forecasting technique is. It represents the average of the absolute percentage errors of each entry in a dataset to calculate how accurate the forecasted quantities were in comparison with the actual quantities. \n<p>\nTo calculate MAPE use <code>mean_absolute_percentage_error(y_true, y_pred)</code> from <i>skicit-learn</i> library where <code>y_true</code> represents ground truth (correct) target values and <code>y_pred</code> corresponds to estimated target values.\n</p>",
      "metadata": {}
    },
    {
      "cell_type": "markdown",
      "source": "<h4>Replace \"NaN\" with the interpolation techniques </h4>",
      "metadata": {}
    },
    {
      "cell_type": "markdown",
      "source": "Let us use <code>interpolate(method, inplace)</code> to fill NaN values using an interpolation where parameter <code>method</code> specifies interpolation technique to use and <code>inplace</code> - update the data in place if possible.",
      "metadata": {}
    },
    {
      "cell_type": "raw",
      "source": "dataframe.interpolate(method, inplace=True)",
      "metadata": {}
    },
    {
      "cell_type": "markdown",
      "source": "<p>\nNote that even after using interpolation the first and last entries in the columns may remain NaN (if incorrect data is generated in such positions), because there is no data before it to use for interpolation. To fix this issue we use <code>fillna(method, inplace)</code> with <code>'ffill'</code> and <code>'bfill'</code> methods to use previous and next valid observation to fill gaps.\n</p>\n<p>\nAlong with that, we need to keep updating our dataframe <code>df_precision</code> responsible of storing MSE (mean squared error) and MAPE (mean absolute percentage error) values of each data restoring method used.\n</p>",
      "metadata": {}
    },
    {
      "cell_type": "code",
      "source": "from sklearn.metrics import mean_squared_error, mean_absolute_percentage_error\n\nmethods = [\"linear\", \"nearest\", \"quadratic\", \"cubic\"]\norder_methods = [\"spline\", \"polynomial\"]\n\nfor method in methods:\n    df_pred = df_missing.copy()\n    df_pred.interpolate(method=method, inplace=True)\n    df_pred.fillna(method=\"ffill\", inplace=True)\n    df_pred.fillna(method='bfill', inplace=True)\n    df_precision.loc[len(df_precision.index)] = [method, mean_squared_error(df[columns], df_pred[columns]),\n                                                mean_absolute_percentage_error(df[columns], df_pred[columns])*100]\n\nfor method in order_methods:\n    df_pred = df_missing.copy()\n    df_pred.interpolate(method=method, order=2, inplace=True)\n    df_pred.fillna(method=\"ffill\", inplace=True)\n    df_pred.fillna(method='bfill', inplace=True)\n    df_precision.loc[len(df_precision.index)] = [method, mean_squared_error(df[columns], df_pred[columns]),\n                                                mean_absolute_percentage_error(df[columns], df_pred[columns])*100]\n\ndf_precision",
      "metadata": {
        "trusted": true
      },
      "execution_count": 52,
      "outputs": [
        {
          "execution_count": 52,
          "output_type": "execute_result",
          "data": {
            "text/plain": "       method        mse   mape\n0      linear  1.350e-08  0.008\n1     nearest  2.626e-08  0.011\n2   quadratic  1.582e-08  0.009\n3       cubic  1.641e-08  0.009\n4      spline  3.185e-05  0.529\n5  polynomial  1.582e-08  0.009",
            "text/html": "<div>\n<style scoped>\n    .dataframe tbody tr th:only-of-type {\n        vertical-align: middle;\n    }\n\n    .dataframe tbody tr th {\n        vertical-align: top;\n    }\n\n    .dataframe thead th {\n        text-align: right;\n    }\n</style>\n<table border=\"1\" class=\"dataframe\">\n  <thead>\n    <tr style=\"text-align: right;\">\n      <th></th>\n      <th>method</th>\n      <th>mse</th>\n      <th>mape</th>\n    </tr>\n  </thead>\n  <tbody>\n    <tr>\n      <th>0</th>\n      <td>linear</td>\n      <td>1.350e-08</td>\n      <td>0.008</td>\n    </tr>\n    <tr>\n      <th>1</th>\n      <td>nearest</td>\n      <td>2.626e-08</td>\n      <td>0.011</td>\n    </tr>\n    <tr>\n      <th>2</th>\n      <td>quadratic</td>\n      <td>1.582e-08</td>\n      <td>0.009</td>\n    </tr>\n    <tr>\n      <th>3</th>\n      <td>cubic</td>\n      <td>1.641e-08</td>\n      <td>0.009</td>\n    </tr>\n    <tr>\n      <th>4</th>\n      <td>spline</td>\n      <td>3.185e-05</td>\n      <td>0.529</td>\n    </tr>\n    <tr>\n      <th>5</th>\n      <td>polynomial</td>\n      <td>1.582e-08</td>\n      <td>0.009</td>\n    </tr>\n  </tbody>\n</table>\n</div>"
          },
          "metadata": {}
        }
      ]
    },
    {
      "cell_type": "markdown",
      "source": "As we can see, linear interpolation method did the best job in producing restored data in our dataframe.",
      "metadata": {}
    },
    {
      "cell_type": "markdown",
      "source": "<div class=\"alert alert-danger alertdanger\" style=\"margin-top: 20px\">\n<h1> Question  #1: </h1>\n\n<b>Based on the example above, use before declared function to generate incorrect data in \"close\" column, replace it with NaN values, and fill missing data by using linear interpolation method.</b>\n\n</div>\n",
      "metadata": {}
    },
    {
      "cell_type": "code",
      "source": "# Write your code below and press Shift+Enter to execute \n",
      "metadata": {
        "trusted": true
      },
      "execution_count": 81,
      "outputs": []
    },
    {
      "cell_type": "markdown",
      "source": "<details><summary>Click here for the solution</summary>\n\n```python\n# generate incorrect data in the \"close\" column\ndf = generate_incorrect_data(df, [\"close\"])\n\n# replace strings in \"close\" column with NaN value\ndf.replace(r'^[A-Za-z]+$', np.nan, inplace = True, regex = True)\n\n# replace negative values in \"close\" column with NaN value\ndf[\"close\"] = df[\"close\"].where(lambda x: x > 0, np.nan)\n\n# replace NaN by linear interpolation\ndf[\"close\"].interpolate(method=\"linear\", inplace=True)\n\n# check changes in \"close\" column\ndf[[\"close\"]].head()\n```\n    \n</details>\n",
      "metadata": {}
    },
    {
      "cell_type": "markdown",
      "source": "<b>Good!</b> Now, we have a dataset with no missing values.\n",
      "metadata": {}
    },
    {
      "cell_type": "markdown",
      "source": "<h3 id=\"correct_data_format\">Correct data format</h3>\n<b>We are almost there!</b>\n<p>The last step in data cleaning is checking and making sure that all data is in the correct format (int, float, text or other).</p>\n\nIn Pandas, we use:\n\n<p><b>.dtype()</b> to check the data type</p>\n<p><b>.astype()</b> to change the data type</p>\n",
      "metadata": {}
    },
    {
      "cell_type": "markdown",
      "source": "<h4>Let's list the data types for each column</h4>\n",
      "metadata": {}
    },
    {
      "cell_type": "code",
      "source": "df.dtypes",
      "metadata": {
        "trusted": true
      },
      "execution_count": 56,
      "outputs": [
        {
          "execution_count": 56,
          "output_type": "execute_result",
          "data": {
            "text/plain": "ts            object\nopen         float64\nhigh         float64\nlow          float64\nclose        float64\nvolume       float64\nrec_count      int64\navg_price    float64\ndtype: object"
          },
          "metadata": {}
        }
      ]
    },
    {
      "cell_type": "markdown",
      "source": "<p>As we can see above, some columns are not of the correct data type. Numerical variables should have type 'float' or 'int', and variables with strings such as categories should have type 'object'. \n<br>\n    For example, 'open' and 'rec_count' variables are numerical values, so we should expect them to be of the type 'float' or 'int'; the \"ts\" field should be converted to datatime64 type as it represents the date and time. We have to convert data types into a proper format for each column using the <code>astype()</code> method.</p> \n",
      "metadata": {}
    },
    {
      "cell_type": "markdown",
      "source": "<h4>Convert data types to proper format</h4>\n",
      "metadata": {}
    },
    {
      "cell_type": "code",
      "source": "df[[\"ts\"]] = df[[\"ts\"]].astype(\"datetime64\")",
      "metadata": {
        "trusted": true
      },
      "execution_count": 57,
      "outputs": []
    },
    {
      "cell_type": "markdown",
      "source": "Let us list the columns after the conversion.\n",
      "metadata": {}
    },
    {
      "cell_type": "code",
      "source": "df.dtypes",
      "metadata": {
        "trusted": true
      },
      "execution_count": 58,
      "outputs": [
        {
          "execution_count": 58,
          "output_type": "execute_result",
          "data": {
            "text/plain": "ts           datetime64[ns]\nopen                float64\nhigh                float64\nlow                 float64\nclose               float64\nvolume              float64\nrec_count             int64\navg_price           float64\ndtype: object"
          },
          "metadata": {}
        }
      ]
    },
    {
      "cell_type": "markdown",
      "source": "<b>Wonderful!</b>\n\nNow we have finally obtained the cleaned dataset with no missing values with all data in its proper format.\n",
      "metadata": {}
    },
    {
      "cell_type": "markdown",
      "source": "<h2 id=\"data_standardization\">Data Standardization</h2>\n<p>\nData is usually collected from different agencies in different formats.\n(Data standardization is also a term for a particular type of data normalization where we subtract the mean and divide by the standard deviation.)\n</p>\n\n<b>What is standardization?</b>\n\n<p>Standardization is the process of transforming data into a common format, allowing the researcher to make the meaningful comparison.\n</p>\n\n<p><b>Example:</b> <i>transform BUSD to USDT</i>\n<p>In our dataset, the columns \"open\", \"high\", \"low\", \"close\", \"volume\" and \"avg_price\" are represented by BUSD (Binance USD) unit. However, in most cases USDT is commonly used. We will need to apply <b>data transformation</b> to transform BUSD into USDT.</p>\n",
      "metadata": {}
    },
    {
      "cell_type": "markdown",
      "source": "<p>Let us start by solving the issue with obtaining current exchange rate. We will use <code>pyfetch()</code>method to make HTTP requests to official Binance API and fetch exchange rate data from it. </p>",
      "metadata": {}
    },
    {
      "cell_type": "code",
      "source": "# get updated USDT rate\nres = await pyfetch(\"https://api.binance.com/sapi/v1/convert/exchangeInfo?fromAsset=BUSD&toAsset=USDT\")",
      "metadata": {
        "trusted": true
      },
      "execution_count": 59,
      "outputs": []
    },
    {
      "cell_type": "markdown",
      "source": "Returned value is in <b>JSON format<b>.\n\n<pre><i>JavaScript Object Notation (JSON)</i> is a standard text-based format for representing structured data based on JavaScript object syntax. It is frequently employed for data transmission in online applications (e.g., sending some data from the server to the client, so it can be displayed on a web page, or vice versa).</pre>\nThen we should check the HTTP status response. <b>200 (OK success)</b> code indicates that the request has succeeded. For obtaining current rate we need to access \"toAssetMinAmount\" field in our response.",
      "metadata": {}
    },
    {
      "cell_type": "code",
      "source": "# if the API is unavailable we set fixed rate\nif res.status != 200:\n    rate = 0.999707\nelse:\n    # converting json to dict\n    res = await res.json()\n    rate = float(res[0][\"toAssetMinAmount\"])\n\nprint(f\"The exchange rate is 1 BUSD = {rate} USDT\")",
      "metadata": {
        "trusted": true
      },
      "execution_count": 60,
      "outputs": [
        {
          "name": "stdout",
          "text": "The exchange rate is 1 BUSD = 1.0 USDT\n",
          "output_type": "stream"
        }
      ]
    },
    {
      "cell_type": "markdown",
      "source": "<p>\nThe next step we calculate a new value for needed currency of each following columns: \"open\", \"high\", \"low\", \"close\", \"volume\", \"avg_price\".\n</p>",
      "metadata": {}
    },
    {
      "cell_type": "code",
      "source": "cols_to_convert = [\"open\", \"high\", \"low\", \"close\", \"volume\", \"avg_price\"]\nfor column in cols_to_convert:\n    df[f\"{column}_USDT\"] = df[column] * rate",
      "metadata": {
        "trusted": true
      },
      "execution_count": 61,
      "outputs": []
    },
    {
      "cell_type": "markdown",
      "source": "<p>Do not forget to drop unnecessary columns in BUSD currency.\n</p>",
      "metadata": {}
    },
    {
      "cell_type": "code",
      "source": "# drop unnecessary columns\ndf.drop(cols_to_convert, axis=1, inplace=True)",
      "metadata": {
        "trusted": true
      },
      "execution_count": 62,
      "outputs": []
    },
    {
      "cell_type": "markdown",
      "source": "Finally, we check our transformed data.",
      "metadata": {}
    },
    {
      "cell_type": "code",
      "source": "# check your transformed data \ndf[[\"open_USDT\", \"high_USDT\", \"low_USDT\", \"close_USDT\", \"volume_USDT\", \"avg_price_USDT\"]].head()",
      "metadata": {
        "trusted": true
      },
      "execution_count": 63,
      "outputs": [
        {
          "execution_count": 63,
          "output_type": "execute_result",
          "data": {
            "text/plain": "   open_USDT  high_USDT  low_USDT  close_USDT  volume_USDT  avg_price_USDT\n0      0.370      0.370     0.368       0.368     165726.4           0.369\n1      0.368      0.369     0.367       0.368     235942.4           0.368\n2      0.368      0.368     0.367       0.368     475118.5           0.367\n3      0.367      0.369     0.367       0.368     420195.5           0.368\n4      0.368      0.369     0.367       0.367     199091.6           0.368",
            "text/html": "<div>\n<style scoped>\n    .dataframe tbody tr th:only-of-type {\n        vertical-align: middle;\n    }\n\n    .dataframe tbody tr th {\n        vertical-align: top;\n    }\n\n    .dataframe thead th {\n        text-align: right;\n    }\n</style>\n<table border=\"1\" class=\"dataframe\">\n  <thead>\n    <tr style=\"text-align: right;\">\n      <th></th>\n      <th>open_USDT</th>\n      <th>high_USDT</th>\n      <th>low_USDT</th>\n      <th>close_USDT</th>\n      <th>volume_USDT</th>\n      <th>avg_price_USDT</th>\n    </tr>\n  </thead>\n  <tbody>\n    <tr>\n      <th>0</th>\n      <td>0.370</td>\n      <td>0.370</td>\n      <td>0.368</td>\n      <td>0.368</td>\n      <td>165726.4</td>\n      <td>0.369</td>\n    </tr>\n    <tr>\n      <th>1</th>\n      <td>0.368</td>\n      <td>0.369</td>\n      <td>0.367</td>\n      <td>0.368</td>\n      <td>235942.4</td>\n      <td>0.368</td>\n    </tr>\n    <tr>\n      <th>2</th>\n      <td>0.368</td>\n      <td>0.368</td>\n      <td>0.367</td>\n      <td>0.368</td>\n      <td>475118.5</td>\n      <td>0.367</td>\n    </tr>\n    <tr>\n      <th>3</th>\n      <td>0.367</td>\n      <td>0.369</td>\n      <td>0.367</td>\n      <td>0.368</td>\n      <td>420195.5</td>\n      <td>0.368</td>\n    </tr>\n    <tr>\n      <th>4</th>\n      <td>0.368</td>\n      <td>0.369</td>\n      <td>0.367</td>\n      <td>0.367</td>\n      <td>199091.6</td>\n      <td>0.368</td>\n    </tr>\n  </tbody>\n</table>\n</div>"
          },
          "metadata": {}
        }
      ]
    },
    {
      "cell_type": "markdown",
      "source": "<div class=\"alert alert-danger alertdanger\" style=\"margin-top: 20px\">\n<h1> Question  #2: </h1>\n\n<b>According to the example above, transform \"avg_price_USDT\" column vales from USDT currency to EUR and change the name of column to \"avg_price_EUR\".</b>\n\n</div>\n",
      "metadata": {}
    },
    {
      "cell_type": "markdown",
      "source": "<i>Note:</i> to receive the current data on the euro exchange rate, use the following URL: https://api.binance.com/sapi/v1/convert/exchangeInfo?fromAsset=USDT&toAsset=EUR",
      "metadata": {}
    },
    {
      "cell_type": "code",
      "source": "# Write your code below and press Shift+Enter to execute \n",
      "metadata": {
        "trusted": true
      },
      "execution_count": 82,
      "outputs": []
    },
    {
      "cell_type": "markdown",
      "source": "<details><summary>Click here for the solution</summary>\n\n```python\n\n# convert BUSD to EUR by mathematical operation\n\n# get current EUR rate\nres = await pyfetch(\"https://api.binance.com/sapi/v1/convert/exchangeInfo?fromAsset=USDT&toAsset=EUR\")\n\n# if the API is unavailable we set fixed rate\nif res.status != 200:\n    rate = 0.92\nelse:\n    # converting json to dict\n    res = await res.json()\n    rate = float(res[0][\"toAssetMinAmount\"])\n    \nprint(f\"The exchange rate is 1 USDT = {rate} EUR\")\n\n# change rate in the column\ndf[\"avg_price_USDT\"] = df[\"avg_price_USDT\"] * rate\n\n# rename column name from \"avg_price_USDT\" to \"avg_price_EUR\"\ndf.rename(columns={'avg_price_USDT':'avg_price_EUR'}, inplace=True)\n\n# check your transformed data \ndf[[\"avg_price_EUR\"]].head()\n\n```\n\n</details>\n",
      "metadata": {}
    },
    {
      "cell_type": "markdown",
      "source": "<h2 id=\"data_normalization\">Data Normalization</h2>\n\n<b>Why normalization?</b>\n\n<p>Normalization is the process of transforming values of several variables into a similar range. Typical normalizations include scaling the variable so the variable average is 0, scaling the variable so the variance is 1, or scaling the variable so the variable values range from 0 to 1.\n</p>\n\n<b>Example:</b>\n\n<p>To demonstrate normalization, let's say we want to scale the \"open_USDT\" column.</p>\n<p><b>Target:</b> would like to normalize this variable so its value ranges from 0 to 1.</p>\n<p><b>Approach:</b> replace original value by:\n    <li> formula <i>(original value)/(maximum value)</i> </li>\n    <li> skicit-learn estimator <i>MinMaxScaler:</i>\n    <p>The transformation is given by:</p>\n        <p><i>X_std = (X - X.min(axis=0)) / (X.max(axis=0) - X.min(axis=0))<br>\n        X_scaled = X_std * (max - min) + min</i><br>\n        where min, max are upper and lower borders in scaling range.</p>\n    </li>\n</p>\n<p>Let's scale the \"open_USDT\" column by first formula.</p>",
      "metadata": {}
    },
    {
      "cell_type": "code",
      "source": "# replace (original value) by (original value)/(maximum value)\ndf['open_USDT'] = df['open_USDT']/df['open_USDT'].max()\ndf[['open_USDT']].head() ",
      "metadata": {
        "trusted": true
      },
      "execution_count": 65,
      "outputs": [
        {
          "execution_count": 65,
          "output_type": "execute_result",
          "data": {
            "text/plain": "   open_USDT\n0      0.887\n1      0.883\n2      0.882\n3      0.880\n4      0.883",
            "text/html": "<div>\n<style scoped>\n    .dataframe tbody tr th:only-of-type {\n        vertical-align: middle;\n    }\n\n    .dataframe tbody tr th {\n        vertical-align: top;\n    }\n\n    .dataframe thead th {\n        text-align: right;\n    }\n</style>\n<table border=\"1\" class=\"dataframe\">\n  <thead>\n    <tr style=\"text-align: right;\">\n      <th></th>\n      <th>open_USDT</th>\n    </tr>\n  </thead>\n  <tbody>\n    <tr>\n      <th>0</th>\n      <td>0.887</td>\n    </tr>\n    <tr>\n      <th>1</th>\n      <td>0.883</td>\n    </tr>\n    <tr>\n      <th>2</th>\n      <td>0.882</td>\n    </tr>\n    <tr>\n      <th>3</th>\n      <td>0.880</td>\n    </tr>\n    <tr>\n      <th>4</th>\n      <td>0.883</td>\n    </tr>\n  </tbody>\n</table>\n</div>"
          },
          "metadata": {}
        }
      ]
    },
    {
      "cell_type": "markdown",
      "source": "Let us do the same for \"close_USDT\" column with MinMaxScaler estimator using its <code>fit_transform()</code> function. ",
      "metadata": {}
    },
    {
      "cell_type": "code",
      "source": "from sklearn.preprocessing import MinMaxScaler\n\n# replace (original value) by estimator MinMaxScaler\nscaler = MinMaxScaler()\ndf[['close_USDT']] = scaler.fit_transform(df[['close_USDT']])\ndf[['close_USDT']].head()",
      "metadata": {
        "trusted": true
      },
      "execution_count": 66,
      "outputs": [
        {
          "execution_count": 66,
          "output_type": "execute_result",
          "data": {
            "text/plain": "   close_USDT\n0       0.489\n1       0.489\n2       0.490\n3       0.490\n4       0.480",
            "text/html": "<div>\n<style scoped>\n    .dataframe tbody tr th:only-of-type {\n        vertical-align: middle;\n    }\n\n    .dataframe tbody tr th {\n        vertical-align: top;\n    }\n\n    .dataframe thead th {\n        text-align: right;\n    }\n</style>\n<table border=\"1\" class=\"dataframe\">\n  <thead>\n    <tr style=\"text-align: right;\">\n      <th></th>\n      <th>close_USDT</th>\n    </tr>\n  </thead>\n  <tbody>\n    <tr>\n      <th>0</th>\n      <td>0.489</td>\n    </tr>\n    <tr>\n      <th>1</th>\n      <td>0.489</td>\n    </tr>\n    <tr>\n      <th>2</th>\n      <td>0.490</td>\n    </tr>\n    <tr>\n      <th>3</th>\n      <td>0.490</td>\n    </tr>\n    <tr>\n      <th>4</th>\n      <td>0.480</td>\n    </tr>\n  </tbody>\n</table>\n</div>"
          },
          "metadata": {}
        }
      ]
    },
    {
      "cell_type": "markdown",
      "source": "<div class=\"alert alert-danger alertdanger\" style=\"margin-top: 20px\">\n<h1> Question #3: </h1>\n\n<b>According to the example above, normalize the columns \"high_USDT\"  using formula (original value)/(maximum value) and \"low_USDT\" using MinMaxScaler estimator.</b>\n\n</div>\n",
      "metadata": {}
    },
    {
      "cell_type": "code",
      "source": "# Write your code below and press Shift+Enter to execute \n",
      "metadata": {
        "trusted": true
      },
      "execution_count": 83,
      "outputs": []
    },
    {
      "cell_type": "markdown",
      "source": "<details><summary>Click here for the solution</summary>\n\n```python\n# normalize by (original value)/(maximum value)\ndf['high_USDT'] = df['high_USDT']/df['high_USDT'].max() \n#  normalize by MinMaxScaler estimator\ndf[['low_USDT']] = scaler.fit_transform(df[['low_USDT']])\n\n# show the scaled columns\ndf[[\"high_USDT\",\"low_USDT\"]].head()\n\n```\n\n</details>\n",
      "metadata": {}
    },
    {
      "cell_type": "markdown",
      "source": "Here we can see we've normalized \"high_USDT\" and \"low_USDT\" in the range of \\[0,1].\n",
      "metadata": {}
    },
    {
      "cell_type": "markdown",
      "source": "<h2 id=\"binning\">Binning</h2>\n<b>Why binning?</b>\n<p>\n    Binning is a process of transforming continuous numerical variables into discrete categorical 'bins' for grouped analysis.\n</p>\n\n<b>Example: </b>\n\n<p>In our dataset, \"volume\" is a real valued variable. What if we only care about the price difference with high average price, medium average price, and little average price (3 types)? Can we rearrange them into three ‘bins' to simplify analysis? </p>\n\n<p>We will use the pandas method 'cut' to segment the 'avg_price_EUR' column into 3 bins.</p>\n",
      "metadata": {}
    },
    {
      "cell_type": "markdown",
      "source": "<h3>Example of Binning Data In Pandas</h3>\n",
      "metadata": {}
    },
    {
      "cell_type": "markdown",
      "source": "Convert data to correct format:\n",
      "metadata": {}
    },
    {
      "cell_type": "code",
      "source": "df[\"avg_price_EUR\"] = df[\"avg_price_EUR\"].astype(float, copy=True)",
      "metadata": {
        "trusted": true
      },
      "execution_count": 68,
      "outputs": []
    },
    {
      "cell_type": "markdown",
      "source": "Let's plot the histogram of volume to see what the distribution of volume looks like.\n",
      "metadata": {}
    },
    {
      "cell_type": "code",
      "source": "%matplotlib inline\nimport matplotlib as plt\nfrom matplotlib import pyplot\nplt.pyplot.hist(df[\"avg_price_EUR\"])\n\n# set x/y labels and plot title\nplt.pyplot.xlabel(\"avg_price_EUR\")\nplt.pyplot.ylabel(\"count\")\nplt.pyplot.title(\"avg_price_EUR bins\")",
      "metadata": {
        "trusted": true
      },
      "execution_count": 69,
      "outputs": [
        {
          "execution_count": 69,
          "output_type": "execute_result",
          "data": {
            "text/plain": "Text(0.5, 1.0, 'avg_price_EUR bins')"
          },
          "metadata": {}
        },
        {
          "output_type": "display_data",
          "data": {
            "text/plain": "<Figure size 640x480 with 1 Axes>",
            "image/png": "[encoded data removed]"
          },
          "metadata": {}
        }
      ]
    },
    {
      "cell_type": "markdown",
      "source": "<p>We would like 3 bins of equal size bandwidth so we use numpy's <code>linspace(start_value, end_value, numbers_generated)</code> function.</p>\n<p>Since we want to include the minimum value of avg_price, we want to set <code>start_value = min(df[\"avg_price_EUR\"])</code>.</p>\n<p>Since we want to include the maximum value of avg_price, we want to set <code>end_value = max(df[\"avg_price_EUR\"])</code>.</p>\n<p>Since we are building 3 bins of equal length, there should be 4 dividers, so <code>numbers_generated = 4</code>.</p>\n",
      "metadata": {}
    },
    {
      "cell_type": "markdown",
      "source": "We build a bin array with a minimum value to a maximum value by using the bandwidth calculated above. The values will determine when one bin ends and another begins.\n",
      "metadata": {}
    },
    {
      "cell_type": "code",
      "source": "bins = np.linspace(min(df[\"avg_price_EUR\"]), max(df[\"avg_price_EUR\"]), 4)\nbins",
      "metadata": {
        "trusted": true
      },
      "execution_count": 70,
      "outputs": [
        {
          "execution_count": 70,
          "output_type": "execute_result",
          "data": {
            "text/plain": "array([0.29542938, 0.32495161, 0.35447383, 0.38399605])"
          },
          "metadata": {}
        }
      ]
    },
    {
      "cell_type": "markdown",
      "source": "We set group  names:\n",
      "metadata": {}
    },
    {
      "cell_type": "code",
      "source": "group_names = ['avg_price_Low', 'avg_price_Medium', 'avg_price_High']",
      "metadata": {
        "trusted": true
      },
      "execution_count": 71,
      "outputs": []
    },
    {
      "cell_type": "markdown",
      "source": "We apply the function \"cut\" to determine what each value of `df['avg_price_EUR']` belongs to.",
      "metadata": {}
    },
    {
      "cell_type": "code",
      "source": "df['avg_price-binned'] = pd.cut(df['avg_price_EUR'], bins, labels=group_names, include_lowest=True )\ndf[['avg_price_EUR','avg_price-binned']].head()",
      "metadata": {
        "trusted": true
      },
      "execution_count": 72,
      "outputs": [
        {
          "execution_count": 72,
          "output_type": "execute_result",
          "data": {
            "text/plain": "   avg_price_EUR  avg_price-binned\n0          0.340  avg_price_Medium\n1          0.339  avg_price_Medium\n2          0.338  avg_price_Medium\n3          0.338  avg_price_Medium\n4          0.339  avg_price_Medium",
            "text/html": "<div>\n<style scoped>\n    .dataframe tbody tr th:only-of-type {\n        vertical-align: middle;\n    }\n\n    .dataframe tbody tr th {\n        vertical-align: top;\n    }\n\n    .dataframe thead th {\n        text-align: right;\n    }\n</style>\n<table border=\"1\" class=\"dataframe\">\n  <thead>\n    <tr style=\"text-align: right;\">\n      <th></th>\n      <th>avg_price_EUR</th>\n      <th>avg_price-binned</th>\n    </tr>\n  </thead>\n  <tbody>\n    <tr>\n      <th>0</th>\n      <td>0.340</td>\n      <td>avg_price_Medium</td>\n    </tr>\n    <tr>\n      <th>1</th>\n      <td>0.339</td>\n      <td>avg_price_Medium</td>\n    </tr>\n    <tr>\n      <th>2</th>\n      <td>0.338</td>\n      <td>avg_price_Medium</td>\n    </tr>\n    <tr>\n      <th>3</th>\n      <td>0.338</td>\n      <td>avg_price_Medium</td>\n    </tr>\n    <tr>\n      <th>4</th>\n      <td>0.339</td>\n      <td>avg_price_Medium</td>\n    </tr>\n  </tbody>\n</table>\n</div>"
          },
          "metadata": {}
        }
      ]
    },
    {
      "cell_type": "markdown",
      "source": "Let's see the number of vehicles in each bin:\n",
      "metadata": {}
    },
    {
      "cell_type": "code",
      "source": "df[\"avg_price-binned\"].value_counts()",
      "metadata": {
        "trusted": true
      },
      "execution_count": 73,
      "outputs": [
        {
          "execution_count": 73,
          "output_type": "execute_result",
          "data": {
            "text/plain": "avg_price_Medium    25707\navg_price_High      24859\navg_price_Low       16345\nName: avg_price-binned, dtype: int64"
          },
          "metadata": {}
        }
      ]
    },
    {
      "cell_type": "markdown",
      "source": "Let's plot the distribution of each bin:\n",
      "metadata": {}
    },
    {
      "cell_type": "code",
      "source": "%matplotlib inline\nimport matplotlib as plt\nfrom matplotlib import pyplot\npyplot.bar(group_names, df[\"avg_price-binned\"].value_counts())\n\n# set x/y labels and plot title\nplt.pyplot.xlabel(\"avg_price\")\nplt.pyplot.ylabel(\"count\")\nplt.pyplot.title(\"avg_price bins\")",
      "metadata": {
        "trusted": true
      },
      "execution_count": 74,
      "outputs": [
        {
          "execution_count": 74,
          "output_type": "execute_result",
          "data": {
            "text/plain": "Text(0.5, 1.0, 'avg_price bins')"
          },
          "metadata": {}
        },
        {
          "output_type": "display_data",
          "data": {
            "text/plain": "<Figure size 640x480 with 1 Axes>",
            "image/png": "[encoded data removed]"
          },
          "metadata": {}
        }
      ]
    },
    {
      "cell_type": "markdown",
      "source": "<p>\n    Look at the dataframe above carefully. You will find that the last column provides the bins for \"avg_price\" based on 3 categories (\"avg_price_Low\", \"avg_price_Medium\" and \"avg_price_High\"). \n</p>",
      "metadata": {}
    },
    {
      "cell_type": "markdown",
      "source": "<h3>Bins Visualization</h3>\nNormally, a histogram is used to visualize the distribution of bins we created above. \n",
      "metadata": {}
    },
    {
      "cell_type": "code",
      "source": "%matplotlib inline\nimport matplotlib as plt\nfrom matplotlib import pyplot\n\n\n# draw historgram of attribute \"avg_price_EUR\" with bins = 3\nplt.pyplot.hist(df[\"avg_price_EUR\"], bins = 3)\n\n# set x/y labels and plot title\nplt.pyplot.xlabel(\"avg_price\")\nplt.pyplot.ylabel(\"count\")\nplt.pyplot.title(\"avg_price bins\")",
      "metadata": {
        "trusted": true
      },
      "execution_count": 75,
      "outputs": [
        {
          "execution_count": 75,
          "output_type": "execute_result",
          "data": {
            "text/plain": "Text(0.5, 1.0, 'avg_price bins')"
          },
          "metadata": {}
        },
        {
          "output_type": "display_data",
          "data": {
            "text/plain": "<Figure size 640x480 with 1 Axes>",
            "image/png": "[encoded data removed]"
          },
          "metadata": {}
        }
      ]
    },
    {
      "cell_type": "markdown",
      "source": "The plot above shows the binning result for the attribute \"avg_price_EUR\".\n",
      "metadata": {}
    },
    {
      "cell_type": "markdown",
      "source": "<h2 id=\"indicator\">Indicator Variable (or Dummy Variable)</h2>\n<b>What is an indicator variable?</b>\n<p>\n    An indicator variable (or dummy variable) is a numerical variable used to label categories. They are called 'dummies' because the numbers themselves don't have inherent meaning. \n</p>\n\n<b>Why we use indicator variables?</b>\n\n<p>\n    We use indicator variables so we can use categorical variables for regression analysis in the later modules.\n</p>\n<b>Example</b>\n<p>\n    We see the column \"avg_price-binned\" has three unique values: \"avg_price_Low\", \"avg_price_Medium\" or \"avg_price_High\". Regression doesn't understand words, only numbers. To use this attribute in regression analysis, we convert \"avg_price-binned\" to indicator variables.\n</p>\n\n<p>\n    We will use pandas method <code>get_dummies()</code> to assign numerical values to different categories of avg_price. \n</p>\n",
      "metadata": {}
    },
    {
      "cell_type": "markdown",
      "source": "Get the indicator variables and assign it to data frame \"dummy_variable\\_1\":\n",
      "metadata": {}
    },
    {
      "cell_type": "code",
      "source": "dummy_variable_1 = pd.get_dummies(df[\"avg_price-binned\"])\ndummy_variable_1",
      "metadata": {
        "trusted": true
      },
      "execution_count": 76,
      "outputs": [
        {
          "execution_count": 76,
          "output_type": "execute_result",
          "data": {
            "text/plain": "   avg_price_Low  avg_price_Medium  avg_price_High\n0              0                 1               0\n1              0                 1               0\n2              0                 1               0\n3              0                 1               0\n4              0                 1               0",
            "text/html": "<div>\n<style scoped>\n    .dataframe tbody tr th:only-of-type {\n        vertical-align: middle;\n    }\n\n    .dataframe tbody tr th {\n        vertical-align: top;\n    }\n\n    .dataframe thead th {\n        text-align: right;\n    }\n</style>\n<table border=\"1\" class=\"dataframe\">\n  <thead>\n    <tr style=\"text-align: right;\">\n      <th></th>\n      <th>avg_price_Low</th>\n      <th>avg_price_Medium</th>\n      <th>avg_price_High</th>\n    </tr>\n  </thead>\n  <tbody>\n    <tr>\n      <th>0</th>\n      <td>0</td>\n      <td>1</td>\n      <td>0</td>\n    </tr>\n    <tr>\n      <th>1</th>\n      <td>0</td>\n      <td>1</td>\n      <td>0</td>\n    </tr>\n    <tr>\n      <th>2</th>\n      <td>0</td>\n      <td>1</td>\n      <td>0</td>\n    </tr>\n    <tr>\n      <th>3</th>\n      <td>0</td>\n      <td>1</td>\n      <td>0</td>\n    </tr>\n    <tr>\n      <th>4</th>\n      <td>0</td>\n      <td>1</td>\n      <td>0</td>\n    </tr>\n  </tbody>\n</table>\n</div>"
          },
          "metadata": {}
        }
      ]
    },
    {
      "cell_type": "markdown",
      "source": "In the dataframe, column 'volume-binned' has values for 'avg_price_Low', 'avg_price_Medium' and 'avg_price_High' as 0s and 1s now.\n",
      "metadata": {}
    },
    {
      "cell_type": "code",
      "source": "# merge data frame \"df\" and \"dummy_variable_1\" \ndf = pd.concat([df, dummy_variable_1], axis=1)\n\n# drop original column \"avg_price-binned\" from \"df\"\ndf.drop(\"avg_price-binned\", axis = 1, inplace=True)\ndf",
      "metadata": {
        "trusted": true
      },
      "execution_count": 77,
      "outputs": [
        {
          "execution_count": 77,
          "output_type": "execute_result",
          "data": {
            "text/plain": "                   ts  rec_count  open_USDT  high_USDT  low_USDT  close_USDT  \\\n0 2022-11-11 14:38:00         47      0.887      0.884     0.501       0.489   \n1 2022-11-11 14:39:00         49      0.883      0.881     0.493       0.489   \n2 2022-11-11 14:40:00         46      0.882      0.880     0.487       0.490   \n3 2022-11-11 14:41:00         53      0.880      0.881     0.486       0.490   \n4 2022-11-11 14:42:00         42      0.883      0.881     0.492       0.480   \n\n   volume_USDT  avg_price_EUR  avg_price_Low  avg_price_Medium  avg_price_High  \n0     165726.4          0.340              0                 1               0  \n1     235942.4          0.339              0                 1               0  \n2     475118.5          0.338              0                 1               0  \n3     420195.5          0.338              0                 1               0  \n4     199091.6          0.339              0                 1               0  ",
            "text/html": "<div>\n<style scoped>\n    .dataframe tbody tr th:only-of-type {\n        vertical-align: middle;\n    }\n\n    .dataframe tbody tr th {\n        vertical-align: top;\n    }\n\n    .dataframe thead th {\n        text-align: right;\n    }\n</style>\n<table border=\"1\" class=\"dataframe\">\n  <thead>\n    <tr style=\"text-align: right;\">\n      <th></th>\n      <th>ts</th>\n      <th>rec_count</th>\n      <th>open_USDT</th>\n      <th>high_USDT</th>\n      <th>low_USDT</th>\n      <th>close_USDT</th>\n      <th>volume_USDT</th>\n      <th>avg_price_EUR</th>\n      <th>avg_price_Low</th>\n      <th>avg_price_Medium</th>\n      <th>avg_price_High</th>\n    </tr>\n  </thead>\n  <tbody>\n    <tr>\n      <th>0</th>\n      <td>2022-11-11 14:38:00</td>\n      <td>47</td>\n      <td>0.887</td>\n      <td>0.884</td>\n      <td>0.501</td>\n      <td>0.489</td>\n      <td>165726.4</td>\n      <td>0.340</td>\n      <td>0</td>\n      <td>1</td>\n      <td>0</td>\n    </tr>\n    <tr>\n      <th>1</th>\n      <td>2022-11-11 14:39:00</td>\n      <td>49</td>\n      <td>0.883</td>\n      <td>0.881</td>\n      <td>0.493</td>\n      <td>0.489</td>\n      <td>235942.4</td>\n      <td>0.339</td>\n      <td>0</td>\n      <td>1</td>\n      <td>0</td>\n    </tr>\n    <tr>\n      <th>2</th>\n      <td>2022-11-11 14:40:00</td>\n      <td>46</td>\n      <td>0.882</td>\n      <td>0.880</td>\n      <td>0.487</td>\n      <td>0.490</td>\n      <td>475118.5</td>\n      <td>0.338</td>\n      <td>0</td>\n      <td>1</td>\n      <td>0</td>\n    </tr>\n    <tr>\n      <th>3</th>\n      <td>2022-11-11 14:41:00</td>\n      <td>53</td>\n      <td>0.880</td>\n      <td>0.881</td>\n      <td>0.486</td>\n      <td>0.490</td>\n      <td>420195.5</td>\n      <td>0.338</td>\n      <td>0</td>\n      <td>1</td>\n      <td>0</td>\n    </tr>\n    <tr>\n      <th>4</th>\n      <td>2022-11-11 14:42:00</td>\n      <td>42</td>\n      <td>0.883</td>\n      <td>0.881</td>\n      <td>0.492</td>\n      <td>0.480</td>\n      <td>199091.6</td>\n      <td>0.339</td>\n      <td>0</td>\n      <td>1</td>\n      <td>0</td>\n    </tr>\n  </tbody>\n</table>\n</div>"
          },
          "metadata": {}
        }
      ]
    },
    {
      "cell_type": "markdown",
      "source": "<div class=\"alert alert-danger alertdanger\" style=\"margin-top: 20px\">\n<h1> Question  #4: </h1>\n\n<b>Similar to before, create an indicator variable for the column \"ts\" specifying month\n</div>\n",
      "metadata": {}
    },
    {
      "cell_type": "markdown",
      "source": "<i>Note:</i> for obtaining month data use <code>dataframe.dt.month</code> method.",
      "metadata": {}
    },
    {
      "cell_type": "code",
      "source": "# Write your code below and press Shift+Enter to execute \n",
      "metadata": {
        "trusted": true
      },
      "execution_count": 84,
      "outputs": []
    },
    {
      "cell_type": "markdown",
      "source": "<details><summary>Click here for the solution</summary>\n\n```python\n# get indicator variables of month data and assign it to data frame \"dummy_variable_2\"\ndummy_variable_2 = pd.get_dummies(df['ts'].dt.month)\n\n# show first 5 instances of data frame \"dummy_variable_2\"\ndummy_variable_2.head()\n\n```\n\n</details>\n",
      "metadata": {}
    },
    {
      "cell_type": "markdown",
      "source": "<h2 id=\"resampling\">Resampling</h2>\n<b>What is a resampling?</b>\n<p>\n    Resampling is a crucial method for time series analysis that enables you to freely choose the desired level of data resolution. You can either upsample, or increase the number of data points, such as by transforming 5-minute data into 1-minute data. \n</p>\n<p>\n    The basic syntax for resampling in Pandas is <code>dataframe.resample('desired resolution')</code> method. Along with that, different aggregation function can be used.\n</p>\n<p>\n    Start by downsampling the series from 1 minute into 10-minute bins. First we need to set an index to \"ts\" column. Considering the semantics of our dataset, for the column \"open_USDT\" we take the first value of a 10-minute interval, while for 'close_USDT' we have last value; for 'high_USDT' maximum value within a 10-minute interval is taken, in accordance for 'low_USDT' we take minimum value. Column 'volume_USDT' will store all summed-up values within a 10-minute interval.\n</p>",
      "metadata": {}
    },
    {
      "cell_type": "code",
      "source": "df.index = df['ts']\ndf.loc[:, 'open_USDT':'volume_USDT'].resample(\"10min\").agg({\n    'open_USDT': 'first',\n    'high_USDT': 'max',\n    'low_USDT': 'min',\n    'close_USDT': 'last',\n    'volume_USDT': 'sum'\n}).head()",
      "metadata": {
        "trusted": true
      },
      "execution_count": 79,
      "outputs": [
        {
          "execution_count": 79,
          "output_type": "execute_result",
          "data": {
            "text/plain": "                     open_USDT  high_USDT  low_USDT  close_USDT  volume_USDT\nts                                                                          \n2022-11-11 14:30:00      0.887      0.884     0.493       0.489    4.017e+05\n2022-11-11 14:40:00      0.882      0.920     0.486       0.586    9.127e+06\n2022-11-11 14:50:00      0.906      0.905     0.535       0.569    5.262e+06\n2022-11-11 15:00:00      0.901      0.903     0.528       0.518    4.136e+06\n2022-11-11 15:10:00      0.890      0.895     0.527       0.554    2.648e+06",
            "text/html": "<div>\n<style scoped>\n    .dataframe tbody tr th:only-of-type {\n        vertical-align: middle;\n    }\n\n    .dataframe tbody tr th {\n        vertical-align: top;\n    }\n\n    .dataframe thead th {\n        text-align: right;\n    }\n</style>\n<table border=\"1\" class=\"dataframe\">\n  <thead>\n    <tr style=\"text-align: right;\">\n      <th></th>\n      <th>open_USDT</th>\n      <th>high_USDT</th>\n      <th>low_USDT</th>\n      <th>close_USDT</th>\n      <th>volume_USDT</th>\n    </tr>\n    <tr>\n      <th>ts</th>\n      <th></th>\n      <th></th>\n      <th></th>\n      <th></th>\n      <th></th>\n    </tr>\n  </thead>\n  <tbody>\n    <tr>\n      <th>2022-11-11 14:30:00</th>\n      <td>0.887</td>\n      <td>0.884</td>\n      <td>0.493</td>\n      <td>0.489</td>\n      <td>4.017e+05</td>\n    </tr>\n    <tr>\n      <th>2022-11-11 14:40:00</th>\n      <td>0.882</td>\n      <td>0.920</td>\n      <td>0.486</td>\n      <td>0.586</td>\n      <td>9.127e+06</td>\n    </tr>\n    <tr>\n      <th>2022-11-11 14:50:00</th>\n      <td>0.906</td>\n      <td>0.905</td>\n      <td>0.535</td>\n      <td>0.569</td>\n      <td>5.262e+06</td>\n    </tr>\n    <tr>\n      <th>2022-11-11 15:00:00</th>\n      <td>0.901</td>\n      <td>0.903</td>\n      <td>0.528</td>\n      <td>0.518</td>\n      <td>4.136e+06</td>\n    </tr>\n    <tr>\n      <th>2022-11-11 15:10:00</th>\n      <td>0.890</td>\n      <td>0.895</td>\n      <td>0.527</td>\n      <td>0.554</td>\n      <td>2.648e+06</td>\n    </tr>\n  </tbody>\n</table>\n</div>"
          },
          "metadata": {}
        }
      ]
    },
    {
      "cell_type": "markdown",
      "source": "<div class=\"alert alert-danger alertdanger\" style=\"margin-top: 20px\">\n<h1> Question  #5: </h1>\n\n<b>Similar to before, downsample the series into 45 minute bins.</b>\n\n</div>",
      "metadata": {
        "tags": []
      }
    },
    {
      "cell_type": "code",
      "source": "# Write your code below and press Shift+Enter to execute \n",
      "metadata": {
        "trusted": true
      },
      "execution_count": 85,
      "outputs": []
    },
    {
      "cell_type": "markdown",
      "source": "<details><summary>Click here for the solution</summary>\n\n```python\n# downsample the series into 45 minute bins.\ndf.loc[:, 'open_USDT':'volume_USDT'].resample(\"45min\").agg({\n    'open_USDT': 'first',\n    'high_USDT': 'max',\n    'low_USDT': 'min',\n    'close_USDT': 'last',\n    'volume_USDT': 'sum'\n})\n```\n\n</details>",
      "metadata": {}
    },
    {
      "cell_type": "markdown",
      "source": "<h2 id=\"save\">Save Dataset</h2>",
      "metadata": {}
    },
    {
      "cell_type": "code",
      "source": "df.to_csv('clean_df.csv')",
      "metadata": {
        "trusted": true
      },
      "execution_count": null,
      "outputs": []
    },
    {
      "cell_type": "markdown",
      "source": "Save the new csv:\n\n> Note : The  csv file cannot be viewed in the jupyterlite based SN labs environment.However you can Click <a href=\"https://cf-courses-data.s3.us.cloud-object-storage.appdomain.cloud/IBMDeveloperSkillsNetwork-DA0101EN-SkillsNetwork/labs/Module%202/DA0101EN-2-Review-Data-Wrangling.ipynb?utm_medium=Exinfluencer&utm_source=Exinfluencer&utm_content=000026UJ&utm_term=10006555&utm_id=NA-SkillsNetwork-Channel-SkillsNetworkCoursesIBMDeveloperSkillsNetworkDA0101ENSkillsNetwork20235326-2022-01-01\">HERE</a> to download the lab notebook (.ipynb) to your local machine and view the csv file once the notebook is executed.\n",
      "metadata": {}
    },
    {
      "cell_type": "markdown",
      "source": "### Thank you for completing this lab!\n\n## Author\n\n<a href=\"https://www.linkedin.com/in/joseph-s-50398b136/?utm_medium=Exinfluencer&utm_source=Exinfluencer&utm_content=000026UJ&utm_term=10006555&utm_id=NA-SkillsNetwork-Channel-SkillsNetworkCoursesIBMDeveloperSkillsNetworkDA0101ENSkillsNetwork20235326-2021-01-01\" target=\"_blank\">Joseph Santarcangelo</a>\n\n### Other Contributors\n\n<a href=\"https://www.linkedin.com/in/mahdi-noorian-58219234/?utm_medium=Exinfluencer&utm_source=Exinfluencer&utm_content=000026UJ&utm_term=10006555&utm_id=NA-SkillsNetwork-Channel-SkillsNetworkCoursesIBMDeveloperSkillsNetworkDA0101ENSkillsNetwork20235326-2021-01-01\" target=\"_blank\">Mahdi Noorian PhD</a>\n\nBahare Talayian\n\nEric Xiao\n\nSteven Dong\n\nParizad\n\nHima Vasudevan\n\n<a href=\"https://www.linkedin.com/in/fiorellawever/?utm_medium=Exinfluencer&utm_source=Exinfluencer&utm_content=000026UJ&utm_term=10006555&utm_id=NA-SkillsNetwork-Channel-SkillsNetworkCoursesIBMDeveloperSkillsNetworkDA0101ENSkillsNetwork20235326-2021-01-01\" target=\"_blank\">Fiorella Wenver</a>\n\n<a href=\"https:// https://www.linkedin.com/in/yi-leng-yao-84451275/ \" target=\"_blank\" >Yi Yao</a>.\n\n## Change Log\n\n| Date (YYYY-MM-DD) | Version | Changed By | Change Description                  |\n| ----------------- | ------- | ---------- | ----------------------------------- |\n| 2022-04-22        | 2.3     | Lakshmi    | Made changes in markdown file       |\n| 2020-10-30        | 2.2     | Lakshmi    | Changed URL of csv                  |\n| 2020-09-09        | 2.1     | Lakshmi    | Updated Indicator Variables section |\n| 2020-08-27        | 2.0     | Lavanya    | Moved lab to course repo in GitLab  |\n\n<hr>\n\n## <h3 align=\"center\"> © IBM Corporation 2020. All rights reserved. <h3/>\n",
      "metadata": {}
    }
  ]
}
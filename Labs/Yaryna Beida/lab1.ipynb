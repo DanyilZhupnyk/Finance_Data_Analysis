{
  "metadata": {
    "anaconda-cloud": {},
    "kernelspec": {
      "name": "python",
      "display_name": "Python (Pyodide)",
      "language": "python"
    },
    "language_info": {
      "codemirror_mode": {
        "name": "python",
        "version": 3
      },
      "file_extension": ".py",
      "mimetype": "text/x-python",
      "name": "python",
      "nbconvert_exporter": "python",
      "pygments_lexer": "ipython3",
      "version": "3.8"
    }
  },
  "nbformat_minor": 4,
  "nbformat": 4,
  "cells": [
    {
      "cell_type": "markdown",
      "source": "<center>\n    <img src=\"https://cf-courses-data.s3.us.cloud-object-storage.appdomain.cloud/IBMDeveloperSkillsNetwork-DA0101EN-SkillsNetwork/labs/Module%201/images/IDSNlogo.png\" width=\"300\" alt=\"cognitiveclass.ai logo\"  />\n</center>\n\n# Introduction  Notebook\n\nEstimated time needed: **10** minutes\n\n## Objectives\n\nAfter completing this lab you will be able to:\n\n*   Acquire data in various ways\n*   Obtain insights from data with Pandas library\n",
      "metadata": {}
    },
    {
      "cell_type": "markdown",
      "source": "<h2>Table of Contents</h2>\n\n<div class=\"alert alert-block alert-info\" style=\"margin-top: 20px\">\n<ol>\n    <li><a href=\"https://#data_acquisition\">Data Acquisition</a>\n    <li><a href=\"https://#basic_insight\">Basic Insight of Dataset</a></li>\n</ol>\n\n</div>\n<hr>\n",
      "metadata": {}
    },
    {
      "cell_type": "markdown",
      "source": "<h1 id=\"data_acquisition\">Data Acquisition</h1>\n<p>\nThere are various formats for a dataset: .csv, .json, .xlsx  etc. The dataset can be stored in different places, on your local machine or sometimes online.<br>\n\nIn this section, you will learn how to load a dataset into our Jupyter Notebook.<br>\n\nIn our case, the Automobile Dataset is an online source, and it is in a CSV (comma separated value) format. Let's use this dataset as an example to practice data reading.\n\n<ul>\n    <li>Data source: <a href=\"https://1824251045.rsc.cdn77.org/web/algohouse/data/XRPBUSD_trades_1m.csv\" target=\"_blank\">https://1824251045.rsc.cdn77.org/web/algohouse/data/XRPBUSD_trades_1m.csv</a></li>\n    <li>Data type: csv</li>\n</ul>\nThe Pandas Library is a useful tool that enables us to read various datasets into a dataframe; our Jupyter notebook platforms have a built-in <b>Pandas Library</b> so that all we need to do is import Pandas without installing.\n</p>\n",
      "metadata": {}
    },
    {
      "cell_type": "markdown",
      "source": "You are running the lab in your  browser, so we will install the libraries using `piplite`.\n",
      "metadata": {}
    },
    {
      "cell_type": "code",
      "source": "#you are running the lab in your  browser, so we will install the libraries using ``piplite``\nimport piplite\nimport micropip\nawait piplite.install(['pandas'])\nawait piplite.install(['matplotlib'])\nawait piplite.install(['scipy'])\nawait piplite.install(['seaborn'])\nawait micropip.install(['ipywidgets'],keep_going=True)\nawait micropip.install(['tqdm'],keep_going=True)",
      "metadata": {},
      "execution_count": null,
      "outputs": []
    },
    {
      "cell_type": "markdown",
      "source": "If you run the lab locally using Anaconda, you can load the correct library and versions by uncommenting the following:\n",
      "metadata": {}
    },
    {
      "cell_type": "code",
      "source": "#install specific version of libraries used in  lab\n#! mamba install pandas==1.3.3  -y\n#! mamba install numpy=1.21.2 -y",
      "metadata": {},
      "execution_count": null,
      "outputs": []
    },
    {
      "cell_type": "code",
      "source": "# import pandas library\nimport pandas as pd\nimport numpy as np",
      "metadata": {
        "trusted": true
      },
      "execution_count": 1,
      "outputs": []
    },
    {
      "cell_type": "markdown",
      "source": "This function will download the dataset into your browser\n",
      "metadata": {}
    },
    {
      "cell_type": "code",
      "source": "#This function will download the dataset into your browser \n\nfrom pyodide.http import pyfetch\n\nasync def download(url, filename):\n    response = await pyfetch(url)\n    if response.status == 200:\n        with open(filename, \"wb\") as f:\n            f.write(await response.bytes())",
      "metadata": {
        "trusted": true
      },
      "execution_count": 2,
      "outputs": []
    },
    {
      "cell_type": "markdown",
      "source": "<h2>Read Data</h2>\n<p>\nWe use <code>pandas.read_csv()</code> function to read the csv file. In the brackets, we put the file path along with a quotation mark so that pandas will read the file into a dataframe from that address. The file path can be either an URL or your local file address.<br>\n\nYou can also assign the dataset to any variable you create.\n\n</p>\n",
      "metadata": {}
    },
    {
      "cell_type": "code",
      "source": "path = \"https://1824251045.rsc.cdn77.org/web/algohouse/data/XRPBUSD_trades_1m.csv\"",
      "metadata": {
        "trusted": true
      },
      "execution_count": 3,
      "outputs": []
    },
    {
      "cell_type": "markdown",
      "source": "You will need to download the dataset; if you are running locally, please comment out the following:\n",
      "metadata": {}
    },
    {
      "cell_type": "code",
      "source": "# you will need to download the dataset; if you are running locally, please comment out the following \nawait download(path, \"XRPBUSD_trades_1m.csv\")\npath=\"XRPBUSD_trades_1m.csv\"",
      "metadata": {
        "trusted": true
      },
      "execution_count": 4,
      "outputs": []
    },
    {
      "cell_type": "markdown",
      "source": "This dataset was hosted on IBM Cloud object. Click <a href=\"https://cocl.us/DA101EN_object_storage?utm_medium=Exinfluencer&utm_source=Exinfluencer&utm_content=000026UJ&utm_term=10006555&utm_id=NA-SkillsNetwork-Channel-SkillsNetworkCoursesIBMDeveloperSkillsNetworkDA0101ENSkillsNetwork20235326-2021-01-01\">HERE</a> for free storage.\n",
      "metadata": {}
    },
    {
      "cell_type": "code",
      "source": "# Import pandas library\nimport pandas as pd\n\n# Read the online file by the URL provides above, and assign it to variable \"df\"\ndf = pd.read_csv(path)",
      "metadata": {
        "trusted": true
      },
      "execution_count": 5,
      "outputs": []
    },
    {
      "cell_type": "markdown",
      "source": "In finance you sometimes need to use different numbers of decimal places. For ease of reading, let's specify the value of the precision parameter equal to 3 to display three decimal signs (instead of 6 as default).",
      "metadata": {}
    },
    {
      "cell_type": "code",
      "source": "pd.set_option(\"display.precision\", 3)",
      "metadata": {
        "trusted": true
      },
      "execution_count": 6,
      "outputs": []
    },
    {
      "cell_type": "markdown",
      "source": "After reading the dataset, we can use the <code>dataframe.head(n)</code> method to check the top n rows of the dataframe, where n is an integer. Contrary to <code>dataframe.head(n)</code>, <code>dataframe.tail(n)</code> will show you the bottom n rows of the dataframe.\n",
      "metadata": {}
    },
    {
      "cell_type": "code",
      "source": "# show the first 5 rows using dataframe.head() method\nprint(\"The first 5 rows of the dataframe\") \ndf.head(5)",
      "metadata": {
        "trusted": true
      },
      "execution_count": 7,
      "outputs": [
        {
          "name": "stdout",
          "text": "The first 5 rows of the dataframe\n",
          "output_type": "stream"
        },
        {
          "execution_count": 7,
          "output_type": "execute_result",
          "data": {
            "text/plain": "   Unnamed: 0                   ts   open   high    low  close    volume  \\\n0           0  2022-11-11 14:38:00  0.370  0.370  0.368  0.368  165726.4   \n1           1  2022-11-11 14:39:00  0.368  0.369  0.367  0.368  235942.4   \n2           2  2022-11-11 14:40:00  0.368  0.368  0.367  0.367  475118.5   \n3           3  2022-11-11 14:41:00  0.367  0.369  0.367  0.368  420195.5   \n4           4  2022-11-11 14:42:00  0.368  0.369  0.367  0.367  199091.6   \n\n   rec_count  avg_price  \n0         47      0.369  \n1         49      0.368  \n2         46      0.367  \n3         53      0.368  \n4         42      0.368  ",
            "text/html": "<div>\n<style scoped>\n    .dataframe tbody tr th:only-of-type {\n        vertical-align: middle;\n    }\n\n    .dataframe tbody tr th {\n        vertical-align: top;\n    }\n\n    .dataframe thead th {\n        text-align: right;\n    }\n</style>\n<table border=\"1\" class=\"dataframe\">\n  <thead>\n    <tr style=\"text-align: right;\">\n      <th></th>\n      <th>Unnamed: 0</th>\n      <th>ts</th>\n      <th>open</th>\n      <th>high</th>\n      <th>low</th>\n      <th>close</th>\n      <th>volume</th>\n      <th>rec_count</th>\n      <th>avg_price</th>\n    </tr>\n  </thead>\n  <tbody>\n    <tr>\n      <th>0</th>\n      <td>0</td>\n      <td>2022-11-11 14:38:00</td>\n      <td>0.370</td>\n      <td>0.370</td>\n      <td>0.368</td>\n      <td>0.368</td>\n      <td>165726.4</td>\n      <td>47</td>\n      <td>0.369</td>\n    </tr>\n    <tr>\n      <th>1</th>\n      <td>1</td>\n      <td>2022-11-11 14:39:00</td>\n      <td>0.368</td>\n      <td>0.369</td>\n      <td>0.367</td>\n      <td>0.368</td>\n      <td>235942.4</td>\n      <td>49</td>\n      <td>0.368</td>\n    </tr>\n    <tr>\n      <th>2</th>\n      <td>2</td>\n      <td>2022-11-11 14:40:00</td>\n      <td>0.368</td>\n      <td>0.368</td>\n      <td>0.367</td>\n      <td>0.367</td>\n      <td>475118.5</td>\n      <td>46</td>\n      <td>0.367</td>\n    </tr>\n    <tr>\n      <th>3</th>\n      <td>3</td>\n      <td>2022-11-11 14:41:00</td>\n      <td>0.367</td>\n      <td>0.369</td>\n      <td>0.367</td>\n      <td>0.368</td>\n      <td>420195.5</td>\n      <td>53</td>\n      <td>0.368</td>\n    </tr>\n    <tr>\n      <th>4</th>\n      <td>4</td>\n      <td>2022-11-11 14:42:00</td>\n      <td>0.368</td>\n      <td>0.369</td>\n      <td>0.367</td>\n      <td>0.367</td>\n      <td>199091.6</td>\n      <td>42</td>\n      <td>0.368</td>\n    </tr>\n  </tbody>\n</table>\n</div>"
          },
          "metadata": {}
        }
      ]
    },
    {
      "cell_type": "markdown",
      "source": "As there is no text (i.e. column title) on the first cell of the csv file, the resulting dataframe first column is given the name <code>Unnamed:0</code>. We should fix this issue.\n\nBy specifying an <code>index_col=[0]</code> argument to <code>read_csv()</code> function we tell pandas that the first column in the csv file is the index for the dataframe. As follows the undesired column <code>Unnamed:0</code> will disappear.\n",
      "metadata": {}
    },
    {
      "cell_type": "code",
      "source": "df = pd.read_csv(path, index_col=0)\ndf.head(5)",
      "metadata": {
        "trusted": true
      },
      "execution_count": 8,
      "outputs": [
        {
          "execution_count": 8,
          "output_type": "execute_result",
          "data": {
            "text/plain": "                    ts   open   high    low  close    volume  rec_count  \\\n0  2022-11-11 14:38:00  0.370  0.370  0.368  0.368  165726.4         47   \n1  2022-11-11 14:39:00  0.368  0.369  0.367  0.368  235942.4         49   \n2  2022-11-11 14:40:00  0.368  0.368  0.367  0.367  475118.5         46   \n3  2022-11-11 14:41:00  0.367  0.369  0.367  0.368  420195.5         53   \n4  2022-11-11 14:42:00  0.368  0.369  0.367  0.367  199091.6         42   \n\n   avg_price  \n0      0.369  \n1      0.368  \n2      0.367  \n3      0.368  \n4      0.368  ",
            "text/html": "<div>\n<style scoped>\n    .dataframe tbody tr th:only-of-type {\n        vertical-align: middle;\n    }\n\n    .dataframe tbody tr th {\n        vertical-align: top;\n    }\n\n    .dataframe thead th {\n        text-align: right;\n    }\n</style>\n<table border=\"1\" class=\"dataframe\">\n  <thead>\n    <tr style=\"text-align: right;\">\n      <th></th>\n      <th>ts</th>\n      <th>open</th>\n      <th>high</th>\n      <th>low</th>\n      <th>close</th>\n      <th>volume</th>\n      <th>rec_count</th>\n      <th>avg_price</th>\n    </tr>\n  </thead>\n  <tbody>\n    <tr>\n      <th>0</th>\n      <td>2022-11-11 14:38:00</td>\n      <td>0.370</td>\n      <td>0.370</td>\n      <td>0.368</td>\n      <td>0.368</td>\n      <td>165726.4</td>\n      <td>47</td>\n      <td>0.369</td>\n    </tr>\n    <tr>\n      <th>1</th>\n      <td>2022-11-11 14:39:00</td>\n      <td>0.368</td>\n      <td>0.369</td>\n      <td>0.367</td>\n      <td>0.368</td>\n      <td>235942.4</td>\n      <td>49</td>\n      <td>0.368</td>\n    </tr>\n    <tr>\n      <th>2</th>\n      <td>2022-11-11 14:40:00</td>\n      <td>0.368</td>\n      <td>0.368</td>\n      <td>0.367</td>\n      <td>0.367</td>\n      <td>475118.5</td>\n      <td>46</td>\n      <td>0.367</td>\n    </tr>\n    <tr>\n      <th>3</th>\n      <td>2022-11-11 14:41:00</td>\n      <td>0.367</td>\n      <td>0.369</td>\n      <td>0.367</td>\n      <td>0.368</td>\n      <td>420195.5</td>\n      <td>53</td>\n      <td>0.368</td>\n    </tr>\n    <tr>\n      <th>4</th>\n      <td>2022-11-11 14:42:00</td>\n      <td>0.368</td>\n      <td>0.369</td>\n      <td>0.367</td>\n      <td>0.367</td>\n      <td>199091.6</td>\n      <td>42</td>\n      <td>0.368</td>\n    </tr>\n  </tbody>\n</table>\n</div>"
          },
          "metadata": {}
        }
      ]
    },
    {
      "cell_type": "markdown",
      "source": "<div class=\"alert alert-danger alertdanger\" style=\"margin-top: 20px\">\n<h1> Question #1: </h1>\n<b>Check the bottom 10 rows of data frame \"df\".</b>\n</div>\n",
      "metadata": {}
    },
    {
      "cell_type": "code",
      "source": "# Write your code below and press Shift+Enter to execute \n",
      "metadata": {
        "trusted": true
      },
      "execution_count": 24,
      "outputs": []
    },
    {
      "cell_type": "markdown",
      "source": "<details><summary>Click here for the solution</summary>\n\n```python\nprint(\"The last 10 rows of the dataframe\\n\")\ndf.tail(10)\n```\n",
      "metadata": {}
    },
    {
      "cell_type": "markdown",
      "source": "<h3>Add Headers</h3>\n<p>\nTake a look at our dataset. If we do not specify the header of our dataset by passing an argument <code>headers = None</code> inside the <code>read_csv()</code> method, Pandas automatically sets it with an integer starting from 0.\n</p>\n<p>\nTo better describe our data, it is a best practice to introduce a header. \nInformation of dataset we are using is available at: <a href=\"https://1824251045.rsc.cdn77.org/web/algohouse/data/XRPBUSD_trades_1m.csv\" target=\"_blank\">https://1824251045.rsc.cdn77.org/web/algohouse/data/XRPBUSD_trades_1m.csv</a>.\n</p>\n<p>\nThus, if headers are absent, we have to add them manually.\n</p>\n<p>\nFirst, we create a list \"headers\" that include all column names in order.\nThen, we use <code>dataframe.columns = headers</code> to replace the headers with the list we created.\n</p>\n",
      "metadata": {}
    },
    {
      "cell_type": "code",
      "source": "# create headers list\nheaders = [\"Ts\", \"Open\", \"High\", \"Low\", \"Close\", \"Volume\", \"Rec_count\", \"Avg_price\"]\nprint(\"headers\\n\", headers)",
      "metadata": {
        "trusted": true
      },
      "execution_count": 15,
      "outputs": [
        {
          "name": "stdout",
          "text": "headers\n ['Ts', 'Open', 'High', 'Low', 'Close', 'Volume', 'Rec_count', 'Avg_price']\n",
          "output_type": "stream"
        }
      ]
    },
    {
      "cell_type": "markdown",
      "source": "We replace headers and recheck our dataframe:\n",
      "metadata": {}
    },
    {
      "cell_type": "code",
      "source": "df.columns = headers\ndf.head(10)",
      "metadata": {
        "trusted": true
      },
      "execution_count": 16,
      "outputs": [
        {
          "execution_count": 16,
          "output_type": "execute_result",
          "data": {
            "text/plain": "                    Ts   Open   High    Low  Close     Volume  Rec_count  \\\n0  2022-11-11 14:38:00  0.370  0.370  0.368  0.368  1.657e+05         47   \n1  2022-11-11 14:39:00  0.368  0.369  0.367  0.368  2.359e+05         49   \n2  2022-11-11 14:40:00  0.368  0.368  0.367  0.367  4.751e+05         46   \n3  2022-11-11 14:41:00  0.367  0.369  0.367  0.368  4.202e+05         53   \n4  2022-11-11 14:42:00  0.368  0.369  0.367  0.367  1.991e+05         42   \n5  2022-11-11 14:43:00  0.367  0.368  0.367  0.368  2.034e+05         31   \n6  2022-11-11 14:44:00  0.368  0.368  0.368  0.368  1.530e+05         29   \n7  2022-11-11 14:45:00  0.369  0.375  0.369  0.374  8.787e+05         74   \n8  2022-11-11 14:46:00  0.375  0.377  0.373  0.377  1.281e+06         73   \n9  2022-11-11 14:47:00  0.377  0.385  0.377  0.383  2.174e+06         95   \n\n   Avg_price  \n0      0.369  \n1      0.368  \n2      0.367  \n3      0.368  \n4      0.368  \n5      0.368  \n6      0.368  \n7      0.372  \n8      0.375  \n9      0.382  ",
            "text/html": "<div>\n<style scoped>\n    .dataframe tbody tr th:only-of-type {\n        vertical-align: middle;\n    }\n\n    .dataframe tbody tr th {\n        vertical-align: top;\n    }\n\n    .dataframe thead th {\n        text-align: right;\n    }\n</style>\n<table border=\"1\" class=\"dataframe\">\n  <thead>\n    <tr style=\"text-align: right;\">\n      <th></th>\n      <th>Ts</th>\n      <th>Open</th>\n      <th>High</th>\n      <th>Low</th>\n      <th>Close</th>\n      <th>Volume</th>\n      <th>Rec_count</th>\n      <th>Avg_price</th>\n    </tr>\n  </thead>\n  <tbody>\n    <tr>\n      <th>0</th>\n      <td>2022-11-11 14:38:00</td>\n      <td>0.370</td>\n      <td>0.370</td>\n      <td>0.368</td>\n      <td>0.368</td>\n      <td>1.657e+05</td>\n      <td>47</td>\n      <td>0.369</td>\n    </tr>\n    <tr>\n      <th>1</th>\n      <td>2022-11-11 14:39:00</td>\n      <td>0.368</td>\n      <td>0.369</td>\n      <td>0.367</td>\n      <td>0.368</td>\n      <td>2.359e+05</td>\n      <td>49</td>\n      <td>0.368</td>\n    </tr>\n    <tr>\n      <th>2</th>\n      <td>2022-11-11 14:40:00</td>\n      <td>0.368</td>\n      <td>0.368</td>\n      <td>0.367</td>\n      <td>0.367</td>\n      <td>4.751e+05</td>\n      <td>46</td>\n      <td>0.367</td>\n    </tr>\n    <tr>\n      <th>3</th>\n      <td>2022-11-11 14:41:00</td>\n      <td>0.367</td>\n      <td>0.369</td>\n      <td>0.367</td>\n      <td>0.368</td>\n      <td>4.202e+05</td>\n      <td>53</td>\n      <td>0.368</td>\n    </tr>\n    <tr>\n      <th>4</th>\n      <td>2022-11-11 14:42:00</td>\n      <td>0.368</td>\n      <td>0.369</td>\n      <td>0.367</td>\n      <td>0.367</td>\n      <td>1.991e+05</td>\n      <td>42</td>\n      <td>0.368</td>\n    </tr>\n    <tr>\n      <th>5</th>\n      <td>2022-11-11 14:43:00</td>\n      <td>0.367</td>\n      <td>0.368</td>\n      <td>0.367</td>\n      <td>0.368</td>\n      <td>2.034e+05</td>\n      <td>31</td>\n      <td>0.368</td>\n    </tr>\n    <tr>\n      <th>6</th>\n      <td>2022-11-11 14:44:00</td>\n      <td>0.368</td>\n      <td>0.368</td>\n      <td>0.368</td>\n      <td>0.368</td>\n      <td>1.530e+05</td>\n      <td>29</td>\n      <td>0.368</td>\n    </tr>\n    <tr>\n      <th>7</th>\n      <td>2022-11-11 14:45:00</td>\n      <td>0.369</td>\n      <td>0.375</td>\n      <td>0.369</td>\n      <td>0.374</td>\n      <td>8.787e+05</td>\n      <td>74</td>\n      <td>0.372</td>\n    </tr>\n    <tr>\n      <th>8</th>\n      <td>2022-11-11 14:46:00</td>\n      <td>0.375</td>\n      <td>0.377</td>\n      <td>0.373</td>\n      <td>0.377</td>\n      <td>1.281e+06</td>\n      <td>73</td>\n      <td>0.375</td>\n    </tr>\n    <tr>\n      <th>9</th>\n      <td>2022-11-11 14:47:00</td>\n      <td>0.377</td>\n      <td>0.385</td>\n      <td>0.377</td>\n      <td>0.383</td>\n      <td>2.174e+06</td>\n      <td>95</td>\n      <td>0.382</td>\n    </tr>\n  </tbody>\n</table>\n</div>"
          },
          "metadata": {}
        }
      ]
    },
    {
      "cell_type": "markdown",
      "source": " <div class=\"alert alert-danger alertdanger\" style=\"margin-top: 20px\">\n<h1> Question #2: </h1>\n<b>Find the name of the columns of the dataframe.</b>\n</div>\n",
      "metadata": {}
    },
    {
      "cell_type": "code",
      "source": "# Write your code below and press Shift+Enter to execute \n",
      "metadata": {
        "trusted": true
      },
      "execution_count": 17,
      "outputs": []
    },
    {
      "cell_type": "markdown",
      "source": "<details><summary>Click here for the solution</summary>\n\n```python\nprint(df.columns)\n```\n\n</details>\n",
      "metadata": {}
    },
    {
      "cell_type": "markdown",
      "source": "<h2>Save Dataset</h2>\n<p>\nCorrespondingly, Pandas enables us to save the dataset to csv. By using the <code>dataframe.to_csv()</code> method, you can add the file path and name along with quotation marks in the brackets.\n</p>\n<p>\nFor example, if you would save the dataframe <b>df</b> as <b>XRPBUSD_trades_1m.csv</b> to your local machine, you may use the syntax below, where <code>index = False</code> means the row names will not be written.\n</p>\n",
      "metadata": {}
    },
    {
      "cell_type": "raw",
      "source": "df.to_csv(\"XRPBUSD_trades_1m.csv\", index=False)",
      "metadata": {}
    },
    {
      "cell_type": "markdown",
      "source": "We can also read and save other file formats. We can use similar functions like **`pd.read_csv()`** and **`df.to_csv()`** for other data formats. The functions are listed in the following table:\n",
      "metadata": {}
    },
    {
      "cell_type": "markdown",
      "source": "<h2>Read/Save Other Data Formats</h2>\n\n| Data Formate |        Read       |            Save |\n| ------------ | :---------------: | --------------: |\n| csv          |  `pd.read_csv()`  |   `df.to_csv()` |\n| json         |  `pd.read_json()` |  `df.to_json()` |\n| excel        | `pd.read_excel()` | `df.to_excel()` |\n| hdf          |  `pd.read_hdf()`  |   `df.to_hdf()` |\n| sql          |  `pd.read_sql()`  |   `df.to_sql()` |\n| ...          |        ...        |             ... |\n",
      "metadata": {}
    },
    {
      "cell_type": "markdown",
      "source": "<h1 id=\"basic_insight\">Basic Insight of Dataset</h1>\n<p>\nAfter reading data into Pandas dataframe, it is time for us to explore the dataset.<br>\n\nThere are several ways to obtain essential insights of the data to help us better understand our dataset.\n\n</p>\n",
      "metadata": {}
    },
    {
      "cell_type": "markdown",
      "source": "<h2>Data Types</h2>\n<p>\nData has a variety of types.<br>\n\nThe main types stored in Pandas dataframes are <b>object</b>, <b>float</b>, <b>int</b>, <b>bool</b> and <b>datetime64</b>. In order to better learn about each attribute, it is always good for us to know the data type of each column. In Pandas to return series with the data type of each column of dataframe <code>.dtypes</code> is used.\n</p>\n",
      "metadata": {}
    },
    {
      "cell_type": "raw",
      "source": "dataframe.dtypes",
      "metadata": {}
    },
    {
      "cell_type": "code",
      "source": "# check the data type of data frame \"df\" by .dtypes\nprint(df.dtypes)",
      "metadata": {
        "trusted": true
      },
      "execution_count": 18,
      "outputs": [
        {
          "name": "stdout",
          "text": "Ts            object\nOpen         float64\nHigh         float64\nLow          float64\nClose        float64\nVolume       float64\nRec_count      int64\nAvg_price    float64\ndtype: object\n",
          "output_type": "stream"
        }
      ]
    },
    {
      "cell_type": "markdown",
      "source": "<p>\nAs shown above, it is clear to see that the data type of \"open\", \"high\", \"low\", \"close\", \"avg_price\", and \"volume\" are <code>float64</code>, \"ts\" is <code>object</code>, and \"rec_count\" is <code>int64</code>, etc.\n</p>\n<p>\nThese data types can be changed. For instance, the \"ts\" field should be converted to <b>datatime64</b> type as it represents the date and time. We will learn how to accomplish this in a later module.\n</p>",
      "metadata": {}
    },
    {
      "cell_type": "markdown",
      "source": "<h2>Describe</h2>\nIf we would like to get a statistical summary of each column e.g. count, column mean value, column standard deviation, etc., we use the describe method:\n",
      "metadata": {}
    },
    {
      "cell_type": "raw",
      "source": "dataframe.describe()",
      "metadata": {}
    },
    {
      "cell_type": "markdown",
      "source": "This method will provide various summary statistics, excluding <code>NaN</code> (Not a Number) values.\n",
      "metadata": {}
    },
    {
      "cell_type": "code",
      "source": "# get a statistical summary of each column of dataframe using .describe()\ndf.describe()",
      "metadata": {
        "trusted": true
      },
      "execution_count": 19,
      "outputs": [
        {
          "execution_count": 19,
          "output_type": "execute_result",
          "data": {
            "text/plain": "            Open       High        Low      Close     Volume  Rec_count  \\\ncount  66911.000  66911.000  66911.000  66911.000  6.691e+04  66911.000   \nmean       0.374      0.374      0.374      0.374  1.206e+05     13.393   \nstd        0.019      0.019      0.019      0.019  2.417e+05     11.382   \nmin        0.321      0.322      0.321      0.321  1.000e-01      1.000   \n25%        0.354      0.354      0.353      0.354  2.061e+04      6.000   \n50%        0.379      0.379      0.379      0.379  5.722e+04     10.000   \n75%        0.389      0.389      0.389      0.389  1.335e+05     17.000   \nmax        0.417      0.418      0.416      0.417  1.437e+07    130.000   \n\n       Avg_price  \ncount  66911.000  \nmean       0.374  \nstd        0.019  \nmin        0.321  \n25%        0.354  \n50%        0.379  \n75%        0.389  \nmax        0.417  ",
            "text/html": "<div>\n<style scoped>\n    .dataframe tbody tr th:only-of-type {\n        vertical-align: middle;\n    }\n\n    .dataframe tbody tr th {\n        vertical-align: top;\n    }\n\n    .dataframe thead th {\n        text-align: right;\n    }\n</style>\n<table border=\"1\" class=\"dataframe\">\n  <thead>\n    <tr style=\"text-align: right;\">\n      <th></th>\n      <th>Open</th>\n      <th>High</th>\n      <th>Low</th>\n      <th>Close</th>\n      <th>Volume</th>\n      <th>Rec_count</th>\n      <th>Avg_price</th>\n    </tr>\n  </thead>\n  <tbody>\n    <tr>\n      <th>count</th>\n      <td>66911.000</td>\n      <td>66911.000</td>\n      <td>66911.000</td>\n      <td>66911.000</td>\n      <td>6.691e+04</td>\n      <td>66911.000</td>\n      <td>66911.000</td>\n    </tr>\n    <tr>\n      <th>mean</th>\n      <td>0.374</td>\n      <td>0.374</td>\n      <td>0.374</td>\n      <td>0.374</td>\n      <td>1.206e+05</td>\n      <td>13.393</td>\n      <td>0.374</td>\n    </tr>\n    <tr>\n      <th>std</th>\n      <td>0.019</td>\n      <td>0.019</td>\n      <td>0.019</td>\n      <td>0.019</td>\n      <td>2.417e+05</td>\n      <td>11.382</td>\n      <td>0.019</td>\n    </tr>\n    <tr>\n      <th>min</th>\n      <td>0.321</td>\n      <td>0.322</td>\n      <td>0.321</td>\n      <td>0.321</td>\n      <td>1.000e-01</td>\n      <td>1.000</td>\n      <td>0.321</td>\n    </tr>\n    <tr>\n      <th>25%</th>\n      <td>0.354</td>\n      <td>0.354</td>\n      <td>0.353</td>\n      <td>0.354</td>\n      <td>2.061e+04</td>\n      <td>6.000</td>\n      <td>0.354</td>\n    </tr>\n    <tr>\n      <th>50%</th>\n      <td>0.379</td>\n      <td>0.379</td>\n      <td>0.379</td>\n      <td>0.379</td>\n      <td>5.722e+04</td>\n      <td>10.000</td>\n      <td>0.379</td>\n    </tr>\n    <tr>\n      <th>75%</th>\n      <td>0.389</td>\n      <td>0.389</td>\n      <td>0.389</td>\n      <td>0.389</td>\n      <td>1.335e+05</td>\n      <td>17.000</td>\n      <td>0.389</td>\n    </tr>\n    <tr>\n      <th>max</th>\n      <td>0.417</td>\n      <td>0.418</td>\n      <td>0.416</td>\n      <td>0.417</td>\n      <td>1.437e+07</td>\n      <td>130.000</td>\n      <td>0.417</td>\n    </tr>\n  </tbody>\n</table>\n</div>"
          },
          "metadata": {}
        }
      ]
    },
    {
      "cell_type": "markdown",
      "source": "<p>\nThis shows the statistical summary of all numeric-typed (int, float) columns.<br>\n\nFor example, the attribute \"rec_count\" has 66911 counts, the mean value of this column is 13.393, the standard deviation is 11.382, the minimum value is 1, 25th percentile is 6, 50th percentile is 10, 75th percentile is 17, and the maximum value is 130.<br>\n\nHowever, what if we would also like to check all the columns including those that are of type *object*? <br><br>\nYou can add an argument <code>include = \"all\"</code> inside the bracket. Let's try it again.\n</p>\n",
      "metadata": {}
    },
    {
      "cell_type": "code",
      "source": "# describe all the columns in \"df\" \ndf.describe(include = \"all\")",
      "metadata": {
        "trusted": true
      },
      "execution_count": 20,
      "outputs": [
        {
          "execution_count": 20,
          "output_type": "execute_result",
          "data": {
            "text/plain": "                         Ts       Open       High        Low      Close  \\\ncount                 66911  66911.000  66911.000  66911.000  66911.000   \nunique                66911        NaN        NaN        NaN        NaN   \ntop     2022-11-11 14:38:00        NaN        NaN        NaN        NaN   \nfreq                      1        NaN        NaN        NaN        NaN   \nmean                    NaN      0.374      0.374      0.374      0.374   \nstd                     NaN      0.019      0.019      0.019      0.019   \nmin                     NaN      0.321      0.322      0.321      0.321   \n25%                     NaN      0.354      0.354      0.353      0.354   \n50%                     NaN      0.379      0.379      0.379      0.379   \n75%                     NaN      0.389      0.389      0.389      0.389   \nmax                     NaN      0.417      0.418      0.416      0.417   \n\n           Volume  Rec_count  Avg_price  \ncount   6.691e+04  66911.000  66911.000  \nunique        NaN        NaN        NaN  \ntop           NaN        NaN        NaN  \nfreq          NaN        NaN        NaN  \nmean    1.206e+05     13.393      0.374  \nstd     2.417e+05     11.382      0.019  \nmin     1.000e-01      1.000      0.321  \n25%     2.061e+04      6.000      0.354  \n50%     5.722e+04     10.000      0.379  \n75%     1.335e+05     17.000      0.389  \nmax     1.437e+07    130.000      0.417  ",
            "text/html": "<div>\n<style scoped>\n    .dataframe tbody tr th:only-of-type {\n        vertical-align: middle;\n    }\n\n    .dataframe tbody tr th {\n        vertical-align: top;\n    }\n\n    .dataframe thead th {\n        text-align: right;\n    }\n</style>\n<table border=\"1\" class=\"dataframe\">\n  <thead>\n    <tr style=\"text-align: right;\">\n      <th></th>\n      <th>Ts</th>\n      <th>Open</th>\n      <th>High</th>\n      <th>Low</th>\n      <th>Close</th>\n      <th>Volume</th>\n      <th>Rec_count</th>\n      <th>Avg_price</th>\n    </tr>\n  </thead>\n  <tbody>\n    <tr>\n      <th>count</th>\n      <td>66911</td>\n      <td>66911.000</td>\n      <td>66911.000</td>\n      <td>66911.000</td>\n      <td>66911.000</td>\n      <td>6.691e+04</td>\n      <td>66911.000</td>\n      <td>66911.000</td>\n    </tr>\n    <tr>\n      <th>unique</th>\n      <td>66911</td>\n      <td>NaN</td>\n      <td>NaN</td>\n      <td>NaN</td>\n      <td>NaN</td>\n      <td>NaN</td>\n      <td>NaN</td>\n      <td>NaN</td>\n    </tr>\n    <tr>\n      <th>top</th>\n      <td>2022-11-11 14:38:00</td>\n      <td>NaN</td>\n      <td>NaN</td>\n      <td>NaN</td>\n      <td>NaN</td>\n      <td>NaN</td>\n      <td>NaN</td>\n      <td>NaN</td>\n    </tr>\n    <tr>\n      <th>freq</th>\n      <td>1</td>\n      <td>NaN</td>\n      <td>NaN</td>\n      <td>NaN</td>\n      <td>NaN</td>\n      <td>NaN</td>\n      <td>NaN</td>\n      <td>NaN</td>\n    </tr>\n    <tr>\n      <th>mean</th>\n      <td>NaN</td>\n      <td>0.374</td>\n      <td>0.374</td>\n      <td>0.374</td>\n      <td>0.374</td>\n      <td>1.206e+05</td>\n      <td>13.393</td>\n      <td>0.374</td>\n    </tr>\n    <tr>\n      <th>std</th>\n      <td>NaN</td>\n      <td>0.019</td>\n      <td>0.019</td>\n      <td>0.019</td>\n      <td>0.019</td>\n      <td>2.417e+05</td>\n      <td>11.382</td>\n      <td>0.019</td>\n    </tr>\n    <tr>\n      <th>min</th>\n      <td>NaN</td>\n      <td>0.321</td>\n      <td>0.322</td>\n      <td>0.321</td>\n      <td>0.321</td>\n      <td>1.000e-01</td>\n      <td>1.000</td>\n      <td>0.321</td>\n    </tr>\n    <tr>\n      <th>25%</th>\n      <td>NaN</td>\n      <td>0.354</td>\n      <td>0.354</td>\n      <td>0.353</td>\n      <td>0.354</td>\n      <td>2.061e+04</td>\n      <td>6.000</td>\n      <td>0.354</td>\n    </tr>\n    <tr>\n      <th>50%</th>\n      <td>NaN</td>\n      <td>0.379</td>\n      <td>0.379</td>\n      <td>0.379</td>\n      <td>0.379</td>\n      <td>5.722e+04</td>\n      <td>10.000</td>\n      <td>0.379</td>\n    </tr>\n    <tr>\n      <th>75%</th>\n      <td>NaN</td>\n      <td>0.389</td>\n      <td>0.389</td>\n      <td>0.389</td>\n      <td>0.389</td>\n      <td>1.335e+05</td>\n      <td>17.000</td>\n      <td>0.389</td>\n    </tr>\n    <tr>\n      <th>max</th>\n      <td>NaN</td>\n      <td>0.417</td>\n      <td>0.418</td>\n      <td>0.416</td>\n      <td>0.417</td>\n      <td>1.437e+07</td>\n      <td>130.000</td>\n      <td>0.417</td>\n    </tr>\n  </tbody>\n</table>\n</div>"
          },
          "metadata": {}
        }
      ]
    },
    {
      "cell_type": "markdown",
      "source": "<p>\nNow it provides the statistical summary of all the columns, including object-typed attributes.<br>\n\nWe can now see how many unique values there, which one is the top value and the frequency of top value in the object-typed columns.<br>\n\nSome values in the table above show as \"NaN\". This is because those numbers are not available regarding a particular column type.<br>\n\n</p>\n",
      "metadata": {}
    },
    {
      "cell_type": "markdown",
      "source": "<div class=\"alert alert-danger alertdanger\" style=\"margin-top: 20px\">\n<h1> Question #3: </h1>\n\n<p>\nYou can select the columns of a dataframe by indicating the name of each column. For example, you can select the three columns as follows:\n</p>\n<p>\n    <code>dataframe[[' column 1 ',column 2', 'column 3']]</code>\n</p>\n<p>\nWhere \"column\" is the name of the column, you can apply the method  \".describe()\" to get the statistics of those columns as follows:\n</p>\n<p>\n    <code>dataframe[[' column 1 ',column 2', 'column 3'] ].describe()</code>\n</p>\n\nApply the  method to \".describe()\" to the columns 'Rec_count' and 'Avg_price'.\n\n</div>\n",
      "metadata": {}
    },
    {
      "cell_type": "code",
      "source": "# Write your code below and press Shift+Enter to execute \n",
      "metadata": {
        "trusted": true
      },
      "execution_count": 23,
      "outputs": []
    },
    {
      "cell_type": "markdown",
      "source": "<details><summary>Click here for the solution</summary>\n\n```python\ndf[['Rec_count', 'Avg_price']].describe()\n```\n\n</details>\n",
      "metadata": {}
    },
    {
      "cell_type": "markdown",
      "source": "<h2>Info</h2>\nAnother method you can use to check your dataset is:\n",
      "metadata": {}
    },
    {
      "cell_type": "raw",
      "source": "dataframe.info()",
      "metadata": {}
    },
    {
      "cell_type": "markdown",
      "source": "It provides a concise summary of your DataFrame.\n\nThis method prints information about a DataFrame including the index dtype and columns, non-null values and memory usage.\n",
      "metadata": {}
    },
    {
      "cell_type": "code",
      "source": "# look at the info of \"df\"\ndf.info()",
      "metadata": {
        "trusted": true
      },
      "execution_count": 13,
      "outputs": [
        {
          "name": "stdout",
          "text": "<class 'pandas.core.frame.DataFrame'>\nInt64Index: 66911 entries, 0 to 66910\nData columns (total 8 columns):\n #   Column     Non-Null Count  Dtype  \n---  ------     --------------  -----  \n 0   Ts         66911 non-null  object \n 1   Open       66911 non-null  float64\n 2   High       66911 non-null  float64\n 3   Low        66911 non-null  float64\n 4   Close      66911 non-null  float64\n 5   Volume     66911 non-null  float64\n 6   Rec_count  66911 non-null  int64  \n 7   Avg_price  66911 non-null  float64\ndtypes: float64(6), int64(1), object(1)\nmemory usage: 4.3+ MB\n",
          "output_type": "stream"
        }
      ]
    },
    {
      "cell_type": "markdown",
      "source": "<h1>Excellent! You have just completed the  Introduction Notebook!</h1>\n",
      "metadata": {}
    },
    {
      "cell_type": "markdown",
      "source": "### Thank you for completing this lab!\n\n## Author\n\n<a href=\"https://www.linkedin.com/in/joseph-s-50398b136/?utm_medium=Exinfluencer&utm_source=Exinfluencer&utm_content=000026UJ&utm_term=10006555&utm_id=NA-SkillsNetwork-Channel-SkillsNetworkCoursesIBMDeveloperSkillsNetworkDA0101ENSkillsNetwork20235326-2021-01-01\" target=\"_blank\">Joseph Santarcangelo</a>\n\n### Other Contributors\n\n<a href=\"https://www.linkedin.com/in/mahdi-noorian-58219234/?utm_medium=Exinfluencer&utm_source=Exinfluencer&utm_content=000026UJ&utm_term=10006555&utm_id=NA-SkillsNetwork-Channel-SkillsNetworkCoursesIBMDeveloperSkillsNetworkDA0101ENSkillsNetwork20235326-2021-01-01\" target=\"_blank\">Mahdi Noorian PhD</a>\n\nBahare Talayian\n\nEric Xiao\n\nSteven Dong\n\nParizad\n\nHima Vasudevan\n\n<a href=\"https://www.linkedin.com/in/fiorellawever/?utm_medium=Exinfluencer&utm_source=Exinfluencer&utm_content=000026UJ&utm_term=10006555&utm_id=NA-SkillsNetwork-Channel-SkillsNetworkCoursesIBMDeveloperSkillsNetworkDA0101ENSkillsNetwork20235326-2021-01-01\" target=\"_blank\">Fiorella Wenver</a>\n\n<a href=\"https:// https://www.linkedin.com/in/yi-leng-yao-84451275/ \" target=\"_blank\" >Yi Yao</a>.\n\n## Change Log\n\n| Date (YYYY-MM-DD) | Version | Changed By | Change Description                                         |\n| ----------------- | ------- | ---------- | ---------------------------------------------------------- |\n| 2022-08-23        | 2.4     | Malika     | Import micropip added and parameter for ipwidgets and tqdm |\n| 2020-10-30        | 2.3     | Lakshmi    | Changed URL of the csv                                     |\n| 2020-09-22        | 2.2     | Nayef      | Added replace() method to remove '?'                       |\n| 2020-09-09        | 2.1     | Lakshmi    | Made changes in info method of dataframe                   |\n| 2020-08-27        | 2.0     | Lavanya    | Moved lab to course repo in GitLab                         |\n\n<hr>\n\n## <h3 align=\"center\"> © IBM Corporation 2020. All rights reserved. <h3/>\n",
      "metadata": {}
    }
  ]
}
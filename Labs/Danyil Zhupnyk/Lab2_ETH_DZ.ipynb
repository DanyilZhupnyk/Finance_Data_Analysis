{
  "metadata": {
    "anaconda-cloud": {},
    "kernelspec": {
      "name": "python",
      "display_name": "Python (Pyodide)",
      "language": "python"
    },
    "language_info": {
      "codemirror_mode": {
        "name": "python",
        "version": 3
      },
      "file_extension": ".py",
      "mimetype": "text/x-python",
      "name": "python",
      "nbconvert_exporter": "python",
      "pygments_lexer": "ipython3",
      "version": "3.8"
    }
  },
  "nbformat_minor": 4,
  "nbformat": 4,
  "cells": [
    {
      "cell_type": "markdown",
      "source": "<center>\n    <img src=\"https://cf-courses-data.s3.us.cloud-object-storage.appdomain.cloud/IBMDeveloperSkillsNetwork-DA0101EN-SkillsNetwork/labs/Module%202/images/IDSNlogo.png\" width=\"300\" alt=\"cognitiveclass.ai logo\"  />\n</center>\n\n# Data Wrangling\n\nEstimated time needed: **30** minutes\n\n## Objectives\n\nAfter completing this lab you will be able to:\n\n*   Handle missing values\n*   Correct data format\n*   Standardize and normalize data\n",
      "metadata": {}
    },
    {
      "cell_type": "markdown",
      "source": "<h2>Table of Contents</h2>\n\n<div class=\"alert alert-block alert-info\" style=\"margin-top: 20px\">\n<ul>\n    <li><a href=\"https://#identify_handle_missing_values\">Identify and handle missing values</a>\n        <ul>\n            <li><a href=\"https://#identify_missing_values\">Identify missing values</a></li>\n            <li><a href=\"https://#deal_missing_values\">Deal with missing values</a></li>\n            <li><a href=\"https://#correct_data_format\">Correct data format</a></li>\n        </ul>\n    </li>\n    <li><a href=\"https://#data_standardization\">Data standardization</a></li>\n    <li><a href=\"https://#data_normalization\">Data normalization (centering/scaling)</a></li>\n    <li><a href=\"https://#binning\">Binning</a></li>\n    <li><a href=\"https://#indicator\">Indicator variable</a></li>\n</ul>\n\n</div>\n\n<hr>\n",
      "metadata": {}
    },
    {
      "cell_type": "markdown",
      "source": "<h2>What is the purpose of data wrangling?</h2>\n",
      "metadata": {}
    },
    {
      "cell_type": "markdown",
      "source": "Data wrangling is the process of converting data from the initial format to a format that may be better for analysis.\n",
      "metadata": {}
    },
    {
      "cell_type": "markdown",
      "source": "<h3>How to convert ETH to USDT?</h3>\n",
      "metadata": {
        "jp-MarkdownHeadingCollapsed": true,
        "tags": []
      }
    },
    {
      "cell_type": "markdown",
      "source": "<h3>Import data</h3>\n<p>\nYou can find the \"ETHBUSD Dataset\" from the following link: <a href=\"https://1824251045.rsc.cdn77.org/web/algohouse/data/ETHBUSD_trades_1m.csv\">https://1824251045.rsc.cdn77.org/web/algohouse/data/ETHBUSD_trades_1m.csv</a>. \nWe will be using this dataset throughout this course.\n</p>\n",
      "metadata": {}
    },
    {
      "cell_type": "markdown",
      "source": "<h4>Import pandas</h4> \n",
      "metadata": {}
    },
    {
      "cell_type": "markdown",
      "source": "you are running the lab in your  browser, so we will install the libraries using `piplite`\n",
      "metadata": {}
    },
    {
      "cell_type": "code",
      "source": "import piplite\nawait piplite.install(['pandas'])\nawait piplite.install(['matplotlib'])",
      "metadata": {
        "trusted": true
      },
      "execution_count": 1,
      "outputs": []
    },
    {
      "cell_type": "markdown",
      "source": "If you run the lab locally using Anaconda, you can load the correct library and versions by uncommenting the following:\n",
      "metadata": {}
    },
    {
      "cell_type": "code",
      "source": "#If you run the lab locally using Anaconda, you can load the correct library and versions by uncommenting the following:\n#install specific version of libraries used in lab\n#! mamba install pandas==1.3.3\n#! mamba install numpy=1.21.2\n",
      "metadata": {
        "trusted": true
      },
      "execution_count": 2,
      "outputs": []
    },
    {
      "cell_type": "code",
      "source": "import pandas as pd\nimport numpy as np",
      "metadata": {
        "trusted": true
      },
      "execution_count": 3,
      "outputs": []
    },
    {
      "cell_type": "markdown",
      "source": "This function will download the dataset into your browser\n",
      "metadata": {}
    },
    {
      "cell_type": "code",
      "source": "#This function will download the dataset into your browser \nfrom pyodide.http import pyfetch\n\nasync def download(url, filename):\n    response = await pyfetch(url)\n    if response.status == 200:\n        with open(filename, \"wb\") as f:\n            f.write(await response.bytes())\n\n",
      "metadata": {
        "trusted": true
      },
      "execution_count": 4,
      "outputs": []
    },
    {
      "cell_type": "markdown",
      "source": "<h2>Reading the dataset from the URL</h2>\n",
      "metadata": {}
    },
    {
      "cell_type": "markdown",
      "source": "First, we assign the URL of the dataset to \"filename\".\n",
      "metadata": {}
    },
    {
      "cell_type": "markdown",
      "source": "This dataset was hosted on IBM Cloud object. Click <a href=\"https://1824251045.rsc.cdn77.org/web/algohouse/data/ETHBUSD_trades_1m.csv\">HERE</a> for free storage.\n",
      "metadata": {}
    },
    {
      "cell_type": "code",
      "source": "filename = \"https://1824251045.rsc.cdn77.org/web/algohouse/data/ETHBUSD_trades_1m.csv\"",
      "metadata": {
        "trusted": true
      },
      "execution_count": 5,
      "outputs": []
    },
    {
      "cell_type": "markdown",
      "source": "you will need to download the dataset; if you are running locally, please comment out the following\n",
      "metadata": {}
    },
    {
      "cell_type": "code",
      "source": "await download(filename, \"ETHBUSD_trades_1m.csv\")\nfilename = \"ETHBUSD_trades_1m.csv\"",
      "metadata": {
        "trusted": true
      },
      "execution_count": 6,
      "outputs": []
    },
    {
      "cell_type": "markdown",
      "source": "Use the Pandas method <b>read_csv()</b> to load the data from the web address. Set the parameter  \"names\" equal to the Python list \"headers\".\n",
      "metadata": {}
    },
    {
      "cell_type": "code",
      "source": "df = pd.read_csv(filename, index_col=0)",
      "metadata": {
        "trusted": true
      },
      "execution_count": 7,
      "outputs": []
    },
    {
      "cell_type": "markdown",
      "source": "Use the method <b>head()</b> to display the first five rows of the dataframe.\n",
      "metadata": {}
    },
    {
      "cell_type": "code",
      "source": "# To see what the data set looks like, we'll use the head() method.\ndf.head()",
      "metadata": {
        "trusted": true
      },
      "execution_count": 8,
      "outputs": [
        {
          "execution_count": 8,
          "output_type": "execute_result",
          "data": {
            "text/plain": "                    ts     open     high      low    close    volume  \\\n0  2022-11-11 14:35:00  1218.09  1218.09  1218.09  1218.09   242.437   \n1  2022-11-11 14:38:00  1217.27  1217.27  1211.42  1211.42  5795.229   \n2  2022-11-11 14:39:00  1211.54  1212.21  1208.58  1209.36  4404.935   \n3  2022-11-11 14:40:00  1209.37  1213.17  1208.68  1211.86  4177.236   \n4  2022-11-11 14:41:00  1211.87  1217.92  1210.42  1216.97  5518.493   \n\n   rec_count    avg_price  \n0          1  1218.090000  \n1         97  1213.655402  \n2         98  1210.132181  \n3         96  1210.617423  \n4        102  1215.029038  ",
            "text/html": "<div>\n<style scoped>\n    .dataframe tbody tr th:only-of-type {\n        vertical-align: middle;\n    }\n\n    .dataframe tbody tr th {\n        vertical-align: top;\n    }\n\n    .dataframe thead th {\n        text-align: right;\n    }\n</style>\n<table border=\"1\" class=\"dataframe\">\n  <thead>\n    <tr style=\"text-align: right;\">\n      <th></th>\n      <th>ts</th>\n      <th>open</th>\n      <th>high</th>\n      <th>low</th>\n      <th>close</th>\n      <th>volume</th>\n      <th>rec_count</th>\n      <th>avg_price</th>\n    </tr>\n  </thead>\n  <tbody>\n    <tr>\n      <th>0</th>\n      <td>2022-11-11 14:35:00</td>\n      <td>1218.09</td>\n      <td>1218.09</td>\n      <td>1218.09</td>\n      <td>1218.09</td>\n      <td>242.437</td>\n      <td>1</td>\n      <td>1218.090000</td>\n    </tr>\n    <tr>\n      <th>1</th>\n      <td>2022-11-11 14:38:00</td>\n      <td>1217.27</td>\n      <td>1217.27</td>\n      <td>1211.42</td>\n      <td>1211.42</td>\n      <td>5795.229</td>\n      <td>97</td>\n      <td>1213.655402</td>\n    </tr>\n    <tr>\n      <th>2</th>\n      <td>2022-11-11 14:39:00</td>\n      <td>1211.54</td>\n      <td>1212.21</td>\n      <td>1208.58</td>\n      <td>1209.36</td>\n      <td>4404.935</td>\n      <td>98</td>\n      <td>1210.132181</td>\n    </tr>\n    <tr>\n      <th>3</th>\n      <td>2022-11-11 14:40:00</td>\n      <td>1209.37</td>\n      <td>1213.17</td>\n      <td>1208.68</td>\n      <td>1211.86</td>\n      <td>4177.236</td>\n      <td>96</td>\n      <td>1210.617423</td>\n    </tr>\n    <tr>\n      <th>4</th>\n      <td>2022-11-11 14:41:00</td>\n      <td>1211.87</td>\n      <td>1217.92</td>\n      <td>1210.42</td>\n      <td>1216.97</td>\n      <td>5518.493</td>\n      <td>102</td>\n      <td>1215.029038</td>\n    </tr>\n  </tbody>\n</table>\n</div>"
          },
          "metadata": {}
        }
      ]
    },
    {
      "cell_type": "markdown",
      "source": "Our data now is clean but let's spoil them to show how we can deal with missing values and incorrect data\n\n<div>Let's define <b>spoil_df</b> function which produces incorrect data of 3 types:</div>\n\n<ol>\n    <li>Text data (we work with numbers)</li>\n    <li>Negative values (we work only with positive values)</li>\n    <li>Missing values (NaN)</li>\n</ol>",
      "metadata": {}
    },
    {
      "cell_type": "code",
      "source": "def spoil_df(df: pd.DataFrame, cols: list = [\"close\", \"volume\", \"rec_count\", \"avg_price\"]):\n    rng = np.random.default_rng(seed=42)\n    new_df = df.copy()\n    for col in cols:\n        m = rng.random(len(df))\n        l1 = 0.03 # NaN\n        l2 = 0.04 # Text\n        l3 = 0.03 # Negative\n\n        mask1 = m < l1 # NaN\n        mask2 = (m >= l1) & (m < l1+l2) # Text\n        mask3 = (m >= l1+l2) & (m < l1+l2+l3) # Negative\n\n        new_df.loc[mask1, col] = np.NaN\n        new_df.loc[mask2, col] = \"?\"\n        new_df.loc[mask3, col] = -new_df.loc[mask3, col]\n    return new_df",
      "metadata": {
        "trusted": true
      },
      "execution_count": 9,
      "outputs": []
    },
    {
      "cell_type": "code",
      "source": "spoiled_df = spoil_df(df)",
      "metadata": {
        "trusted": true
      },
      "execution_count": 10,
      "outputs": []
    },
    {
      "cell_type": "code",
      "source": "spoiled_df.head(10)",
      "metadata": {
        "trusted": true
      },
      "execution_count": 11,
      "outputs": [
        {
          "execution_count": 11,
          "output_type": "execute_result",
          "data": {
            "text/plain": "                    ts     open     high      low    close    volume  \\\n0  2022-11-11 14:35:00  1218.09  1218.09  1218.09  1218.09   242.437   \n1  2022-11-11 14:38:00  1217.27  1217.27  1211.42  1211.42  5795.229   \n2  2022-11-11 14:39:00  1211.54  1212.21  1208.58  1209.36  4404.935   \n3  2022-11-11 14:40:00  1209.37  1213.17  1208.68  1211.86  4177.236   \n4  2022-11-11 14:41:00  1211.87  1217.92  1210.42 -1216.97  5518.493   \n5  2022-11-11 14:42:00  1217.54  1218.57  1213.57  1213.67  4902.477   \n6  2022-11-11 14:43:00  1213.77  1217.30  1213.07  1213.44  3880.831   \n7  2022-11-11 14:44:00  1213.95  1217.99  1213.95  1217.65  2635.593   \n8  2022-11-11 14:45:00  1218.21  1242.38  1217.46  1240.66  13815.26   \n9  2022-11-11 14:46:00  1239.67  1243.76  1232.67  1243.76         ?   \n\n  rec_count    avg_price  \n0       NaN      1218.09  \n1      97.0  1213.655402  \n2      98.0  1210.132181  \n3      96.0  1210.617423  \n4     102.0  1215.029038  \n5      98.0  1216.557003  \n6       NaN  1214.615416  \n7      91.0 -1215.842047  \n8     111.0  1230.224639  \n9     111.0  1237.839659  ",
            "text/html": "<div>\n<style scoped>\n    .dataframe tbody tr th:only-of-type {\n        vertical-align: middle;\n    }\n\n    .dataframe tbody tr th {\n        vertical-align: top;\n    }\n\n    .dataframe thead th {\n        text-align: right;\n    }\n</style>\n<table border=\"1\" class=\"dataframe\">\n  <thead>\n    <tr style=\"text-align: right;\">\n      <th></th>\n      <th>ts</th>\n      <th>open</th>\n      <th>high</th>\n      <th>low</th>\n      <th>close</th>\n      <th>volume</th>\n      <th>rec_count</th>\n      <th>avg_price</th>\n    </tr>\n  </thead>\n  <tbody>\n    <tr>\n      <th>0</th>\n      <td>2022-11-11 14:35:00</td>\n      <td>1218.09</td>\n      <td>1218.09</td>\n      <td>1218.09</td>\n      <td>1218.09</td>\n      <td>242.437</td>\n      <td>NaN</td>\n      <td>1218.09</td>\n    </tr>\n    <tr>\n      <th>1</th>\n      <td>2022-11-11 14:38:00</td>\n      <td>1217.27</td>\n      <td>1217.27</td>\n      <td>1211.42</td>\n      <td>1211.42</td>\n      <td>5795.229</td>\n      <td>97.0</td>\n      <td>1213.655402</td>\n    </tr>\n    <tr>\n      <th>2</th>\n      <td>2022-11-11 14:39:00</td>\n      <td>1211.54</td>\n      <td>1212.21</td>\n      <td>1208.58</td>\n      <td>1209.36</td>\n      <td>4404.935</td>\n      <td>98.0</td>\n      <td>1210.132181</td>\n    </tr>\n    <tr>\n      <th>3</th>\n      <td>2022-11-11 14:40:00</td>\n      <td>1209.37</td>\n      <td>1213.17</td>\n      <td>1208.68</td>\n      <td>1211.86</td>\n      <td>4177.236</td>\n      <td>96.0</td>\n      <td>1210.617423</td>\n    </tr>\n    <tr>\n      <th>4</th>\n      <td>2022-11-11 14:41:00</td>\n      <td>1211.87</td>\n      <td>1217.92</td>\n      <td>1210.42</td>\n      <td>-1216.97</td>\n      <td>5518.493</td>\n      <td>102.0</td>\n      <td>1215.029038</td>\n    </tr>\n    <tr>\n      <th>5</th>\n      <td>2022-11-11 14:42:00</td>\n      <td>1217.54</td>\n      <td>1218.57</td>\n      <td>1213.57</td>\n      <td>1213.67</td>\n      <td>4902.477</td>\n      <td>98.0</td>\n      <td>1216.557003</td>\n    </tr>\n    <tr>\n      <th>6</th>\n      <td>2022-11-11 14:43:00</td>\n      <td>1213.77</td>\n      <td>1217.30</td>\n      <td>1213.07</td>\n      <td>1213.44</td>\n      <td>3880.831</td>\n      <td>NaN</td>\n      <td>1214.615416</td>\n    </tr>\n    <tr>\n      <th>7</th>\n      <td>2022-11-11 14:44:00</td>\n      <td>1213.95</td>\n      <td>1217.99</td>\n      <td>1213.95</td>\n      <td>1217.65</td>\n      <td>2635.593</td>\n      <td>91.0</td>\n      <td>-1215.842047</td>\n    </tr>\n    <tr>\n      <th>8</th>\n      <td>2022-11-11 14:45:00</td>\n      <td>1218.21</td>\n      <td>1242.38</td>\n      <td>1217.46</td>\n      <td>1240.66</td>\n      <td>13815.26</td>\n      <td>111.0</td>\n      <td>1230.224639</td>\n    </tr>\n    <tr>\n      <th>9</th>\n      <td>2022-11-11 14:46:00</td>\n      <td>1239.67</td>\n      <td>1243.76</td>\n      <td>1232.67</td>\n      <td>1243.76</td>\n      <td>?</td>\n      <td>111.0</td>\n      <td>1237.839659</td>\n    </tr>\n  </tbody>\n</table>\n</div>"
          },
          "metadata": {}
        }
      ]
    },
    {
      "cell_type": "markdown",
      "source": "As we can see, several question marks, negative values and NaN appeared in the dataframe; those are incorrect data which may hinders our further analysis.\n\n<div>So, how do we identify all that incorrect data and deal with it?</div> \n\n<b>How to work with incorrect data?</b>\n\nSteps for working with incorrect data:\n\n<ol>\n    <li>Identify incorrect data</li>\n    <li>Deal with incorrect data</li>\n    <li>Correct data format</li>\n</ol>\n",
      "metadata": {}
    },
    {
      "cell_type": "markdown",
      "source": "<h2 id=\"identify_handle_missing_values\">Identify and handle incorrect values</h2>\n\n<h3 id=\"identify_missing_values\">Identify incorrect values</h3>\n<h4>Convert \"?\" to NaN</h4>\nIn the APEBUSD dataset, missing data comes with the question mark \"?\".\nWe replace \"?\" with NaN (Not a Number), Python's default missing value marker for reasons of computational speed and convenience. Here we use the function: \n <pre>.replace(A, B, inplace = True) </pre>\nto replace A by B.\n",
      "metadata": {}
    },
    {
      "cell_type": "code",
      "source": "# replace \"?\" to NaN\nspoiled_df.replace(\"?\", np.nan, inplace = True)\nspoiled_df.head(10)",
      "metadata": {
        "trusted": true
      },
      "execution_count": 12,
      "outputs": [
        {
          "execution_count": 12,
          "output_type": "execute_result",
          "data": {
            "text/plain": "                    ts     open     high      low    close     volume  \\\n0  2022-11-11 14:35:00  1218.09  1218.09  1218.09  1218.09    242.437   \n1  2022-11-11 14:38:00  1217.27  1217.27  1211.42  1211.42   5795.229   \n2  2022-11-11 14:39:00  1211.54  1212.21  1208.58  1209.36   4404.935   \n3  2022-11-11 14:40:00  1209.37  1213.17  1208.68  1211.86   4177.236   \n4  2022-11-11 14:41:00  1211.87  1217.92  1210.42 -1216.97   5518.493   \n5  2022-11-11 14:42:00  1217.54  1218.57  1213.57  1213.67   4902.477   \n6  2022-11-11 14:43:00  1213.77  1217.30  1213.07  1213.44   3880.831   \n7  2022-11-11 14:44:00  1213.95  1217.99  1213.95  1217.65   2635.593   \n8  2022-11-11 14:45:00  1218.21  1242.38  1217.46  1240.66  13815.260   \n9  2022-11-11 14:46:00  1239.67  1243.76  1232.67  1243.76        NaN   \n\n   rec_count    avg_price  \n0        NaN  1218.090000  \n1       97.0  1213.655402  \n2       98.0  1210.132181  \n3       96.0  1210.617423  \n4      102.0  1215.029038  \n5       98.0  1216.557003  \n6        NaN  1214.615416  \n7       91.0 -1215.842047  \n8      111.0  1230.224639  \n9      111.0  1237.839659  ",
            "text/html": "<div>\n<style scoped>\n    .dataframe tbody tr th:only-of-type {\n        vertical-align: middle;\n    }\n\n    .dataframe tbody tr th {\n        vertical-align: top;\n    }\n\n    .dataframe thead th {\n        text-align: right;\n    }\n</style>\n<table border=\"1\" class=\"dataframe\">\n  <thead>\n    <tr style=\"text-align: right;\">\n      <th></th>\n      <th>ts</th>\n      <th>open</th>\n      <th>high</th>\n      <th>low</th>\n      <th>close</th>\n      <th>volume</th>\n      <th>rec_count</th>\n      <th>avg_price</th>\n    </tr>\n  </thead>\n  <tbody>\n    <tr>\n      <th>0</th>\n      <td>2022-11-11 14:35:00</td>\n      <td>1218.09</td>\n      <td>1218.09</td>\n      <td>1218.09</td>\n      <td>1218.09</td>\n      <td>242.437</td>\n      <td>NaN</td>\n      <td>1218.090000</td>\n    </tr>\n    <tr>\n      <th>1</th>\n      <td>2022-11-11 14:38:00</td>\n      <td>1217.27</td>\n      <td>1217.27</td>\n      <td>1211.42</td>\n      <td>1211.42</td>\n      <td>5795.229</td>\n      <td>97.0</td>\n      <td>1213.655402</td>\n    </tr>\n    <tr>\n      <th>2</th>\n      <td>2022-11-11 14:39:00</td>\n      <td>1211.54</td>\n      <td>1212.21</td>\n      <td>1208.58</td>\n      <td>1209.36</td>\n      <td>4404.935</td>\n      <td>98.0</td>\n      <td>1210.132181</td>\n    </tr>\n    <tr>\n      <th>3</th>\n      <td>2022-11-11 14:40:00</td>\n      <td>1209.37</td>\n      <td>1213.17</td>\n      <td>1208.68</td>\n      <td>1211.86</td>\n      <td>4177.236</td>\n      <td>96.0</td>\n      <td>1210.617423</td>\n    </tr>\n    <tr>\n      <th>4</th>\n      <td>2022-11-11 14:41:00</td>\n      <td>1211.87</td>\n      <td>1217.92</td>\n      <td>1210.42</td>\n      <td>-1216.97</td>\n      <td>5518.493</td>\n      <td>102.0</td>\n      <td>1215.029038</td>\n    </tr>\n    <tr>\n      <th>5</th>\n      <td>2022-11-11 14:42:00</td>\n      <td>1217.54</td>\n      <td>1218.57</td>\n      <td>1213.57</td>\n      <td>1213.67</td>\n      <td>4902.477</td>\n      <td>98.0</td>\n      <td>1216.557003</td>\n    </tr>\n    <tr>\n      <th>6</th>\n      <td>2022-11-11 14:43:00</td>\n      <td>1213.77</td>\n      <td>1217.30</td>\n      <td>1213.07</td>\n      <td>1213.44</td>\n      <td>3880.831</td>\n      <td>NaN</td>\n      <td>1214.615416</td>\n    </tr>\n    <tr>\n      <th>7</th>\n      <td>2022-11-11 14:44:00</td>\n      <td>1213.95</td>\n      <td>1217.99</td>\n      <td>1213.95</td>\n      <td>1217.65</td>\n      <td>2635.593</td>\n      <td>91.0</td>\n      <td>-1215.842047</td>\n    </tr>\n    <tr>\n      <th>8</th>\n      <td>2022-11-11 14:45:00</td>\n      <td>1218.21</td>\n      <td>1242.38</td>\n      <td>1217.46</td>\n      <td>1240.66</td>\n      <td>13815.260</td>\n      <td>111.0</td>\n      <td>1230.224639</td>\n    </tr>\n    <tr>\n      <th>9</th>\n      <td>2022-11-11 14:46:00</td>\n      <td>1239.67</td>\n      <td>1243.76</td>\n      <td>1232.67</td>\n      <td>1243.76</td>\n      <td>NaN</td>\n      <td>111.0</td>\n      <td>1237.839659</td>\n    </tr>\n  </tbody>\n</table>\n</div>"
          },
          "metadata": {}
        }
      ]
    },
    {
      "cell_type": "markdown",
      "source": "<h4>Convert negative values to NaN</h4>",
      "metadata": {}
    },
    {
      "cell_type": "code",
      "source": "# replace negative values to NaN\nnum_cols = [\"open\", \"high\", \"low\", \"close\", \"volume\", \"rec_count\", \"avg_price\"]\nts = spoiled_df[\"ts\"]\nspoiled_df[num_cols] = spoiled_df[num_cols].astype(\"float\")\nspoiled_df = pd.concat([ts, spoiled_df[num_cols].mask(spoiled_df[num_cols] < 0)], axis=1)",
      "metadata": {
        "trusted": true
      },
      "execution_count": 13,
      "outputs": []
    },
    {
      "cell_type": "code",
      "source": "spoiled_df.head(10)",
      "metadata": {
        "trusted": true
      },
      "execution_count": 14,
      "outputs": [
        {
          "execution_count": 14,
          "output_type": "execute_result",
          "data": {
            "text/plain": "                    ts     open     high      low    close     volume  \\\n0  2022-11-11 14:35:00  1218.09  1218.09  1218.09  1218.09    242.437   \n1  2022-11-11 14:38:00  1217.27  1217.27  1211.42  1211.42   5795.229   \n2  2022-11-11 14:39:00  1211.54  1212.21  1208.58  1209.36   4404.935   \n3  2022-11-11 14:40:00  1209.37  1213.17  1208.68  1211.86   4177.236   \n4  2022-11-11 14:41:00  1211.87  1217.92  1210.42      NaN   5518.493   \n5  2022-11-11 14:42:00  1217.54  1218.57  1213.57  1213.67   4902.477   \n6  2022-11-11 14:43:00  1213.77  1217.30  1213.07  1213.44   3880.831   \n7  2022-11-11 14:44:00  1213.95  1217.99  1213.95  1217.65   2635.593   \n8  2022-11-11 14:45:00  1218.21  1242.38  1217.46  1240.66  13815.260   \n9  2022-11-11 14:46:00  1239.67  1243.76  1232.67  1243.76        NaN   \n\n   rec_count    avg_price  \n0        NaN  1218.090000  \n1       97.0  1213.655402  \n2       98.0  1210.132181  \n3       96.0  1210.617423  \n4      102.0  1215.029038  \n5       98.0  1216.557003  \n6        NaN  1214.615416  \n7       91.0          NaN  \n8      111.0  1230.224639  \n9      111.0  1237.839659  ",
            "text/html": "<div>\n<style scoped>\n    .dataframe tbody tr th:only-of-type {\n        vertical-align: middle;\n    }\n\n    .dataframe tbody tr th {\n        vertical-align: top;\n    }\n\n    .dataframe thead th {\n        text-align: right;\n    }\n</style>\n<table border=\"1\" class=\"dataframe\">\n  <thead>\n    <tr style=\"text-align: right;\">\n      <th></th>\n      <th>ts</th>\n      <th>open</th>\n      <th>high</th>\n      <th>low</th>\n      <th>close</th>\n      <th>volume</th>\n      <th>rec_count</th>\n      <th>avg_price</th>\n    </tr>\n  </thead>\n  <tbody>\n    <tr>\n      <th>0</th>\n      <td>2022-11-11 14:35:00</td>\n      <td>1218.09</td>\n      <td>1218.09</td>\n      <td>1218.09</td>\n      <td>1218.09</td>\n      <td>242.437</td>\n      <td>NaN</td>\n      <td>1218.090000</td>\n    </tr>\n    <tr>\n      <th>1</th>\n      <td>2022-11-11 14:38:00</td>\n      <td>1217.27</td>\n      <td>1217.27</td>\n      <td>1211.42</td>\n      <td>1211.42</td>\n      <td>5795.229</td>\n      <td>97.0</td>\n      <td>1213.655402</td>\n    </tr>\n    <tr>\n      <th>2</th>\n      <td>2022-11-11 14:39:00</td>\n      <td>1211.54</td>\n      <td>1212.21</td>\n      <td>1208.58</td>\n      <td>1209.36</td>\n      <td>4404.935</td>\n      <td>98.0</td>\n      <td>1210.132181</td>\n    </tr>\n    <tr>\n      <th>3</th>\n      <td>2022-11-11 14:40:00</td>\n      <td>1209.37</td>\n      <td>1213.17</td>\n      <td>1208.68</td>\n      <td>1211.86</td>\n      <td>4177.236</td>\n      <td>96.0</td>\n      <td>1210.617423</td>\n    </tr>\n    <tr>\n      <th>4</th>\n      <td>2022-11-11 14:41:00</td>\n      <td>1211.87</td>\n      <td>1217.92</td>\n      <td>1210.42</td>\n      <td>NaN</td>\n      <td>5518.493</td>\n      <td>102.0</td>\n      <td>1215.029038</td>\n    </tr>\n    <tr>\n      <th>5</th>\n      <td>2022-11-11 14:42:00</td>\n      <td>1217.54</td>\n      <td>1218.57</td>\n      <td>1213.57</td>\n      <td>1213.67</td>\n      <td>4902.477</td>\n      <td>98.0</td>\n      <td>1216.557003</td>\n    </tr>\n    <tr>\n      <th>6</th>\n      <td>2022-11-11 14:43:00</td>\n      <td>1213.77</td>\n      <td>1217.30</td>\n      <td>1213.07</td>\n      <td>1213.44</td>\n      <td>3880.831</td>\n      <td>NaN</td>\n      <td>1214.615416</td>\n    </tr>\n    <tr>\n      <th>7</th>\n      <td>2022-11-11 14:44:00</td>\n      <td>1213.95</td>\n      <td>1217.99</td>\n      <td>1213.95</td>\n      <td>1217.65</td>\n      <td>2635.593</td>\n      <td>91.0</td>\n      <td>NaN</td>\n    </tr>\n    <tr>\n      <th>8</th>\n      <td>2022-11-11 14:45:00</td>\n      <td>1218.21</td>\n      <td>1242.38</td>\n      <td>1217.46</td>\n      <td>1240.66</td>\n      <td>13815.260</td>\n      <td>111.0</td>\n      <td>1230.224639</td>\n    </tr>\n    <tr>\n      <th>9</th>\n      <td>2022-11-11 14:46:00</td>\n      <td>1239.67</td>\n      <td>1243.76</td>\n      <td>1232.67</td>\n      <td>1243.76</td>\n      <td>NaN</td>\n      <td>111.0</td>\n      <td>1237.839659</td>\n    </tr>\n  </tbody>\n</table>\n</div>"
          },
          "metadata": {}
        }
      ]
    },
    {
      "cell_type": "markdown",
      "source": "<h4>Evaluating for Missing Data</h4>\n\nThe missing values are converted by default. We use the following functions to identify these missing values. There are two methods to detect missing data:\n\n<ol>\n    <li><b>.isnull()</b></li>\n    <li><b>.notnull()</b></li>\n</ol>\nThe output is a boolean value indicating whether the value that is passed into the argument is in fact missing data.\n",
      "metadata": {}
    },
    {
      "cell_type": "code",
      "source": "missing_data = spoiled_df.isnull()\nmissing_data.head(10)",
      "metadata": {
        "trusted": true
      },
      "execution_count": 15,
      "outputs": [
        {
          "execution_count": 15,
          "output_type": "execute_result",
          "data": {
            "text/plain": "      ts   open   high    low  close  volume  rec_count  avg_price\n0  False  False  False  False  False   False       True      False\n1  False  False  False  False  False   False      False      False\n2  False  False  False  False  False   False      False      False\n3  False  False  False  False  False   False      False      False\n4  False  False  False  False   True   False      False      False\n5  False  False  False  False  False   False      False      False\n6  False  False  False  False  False   False       True      False\n7  False  False  False  False  False   False      False       True\n8  False  False  False  False  False   False      False      False\n9  False  False  False  False  False    True      False      False",
            "text/html": "<div>\n<style scoped>\n    .dataframe tbody tr th:only-of-type {\n        vertical-align: middle;\n    }\n\n    .dataframe tbody tr th {\n        vertical-align: top;\n    }\n\n    .dataframe thead th {\n        text-align: right;\n    }\n</style>\n<table border=\"1\" class=\"dataframe\">\n  <thead>\n    <tr style=\"text-align: right;\">\n      <th></th>\n      <th>ts</th>\n      <th>open</th>\n      <th>high</th>\n      <th>low</th>\n      <th>close</th>\n      <th>volume</th>\n      <th>rec_count</th>\n      <th>avg_price</th>\n    </tr>\n  </thead>\n  <tbody>\n    <tr>\n      <th>0</th>\n      <td>False</td>\n      <td>False</td>\n      <td>False</td>\n      <td>False</td>\n      <td>False</td>\n      <td>False</td>\n      <td>True</td>\n      <td>False</td>\n    </tr>\n    <tr>\n      <th>1</th>\n      <td>False</td>\n      <td>False</td>\n      <td>False</td>\n      <td>False</td>\n      <td>False</td>\n      <td>False</td>\n      <td>False</td>\n      <td>False</td>\n    </tr>\n    <tr>\n      <th>2</th>\n      <td>False</td>\n      <td>False</td>\n      <td>False</td>\n      <td>False</td>\n      <td>False</td>\n      <td>False</td>\n      <td>False</td>\n      <td>False</td>\n    </tr>\n    <tr>\n      <th>3</th>\n      <td>False</td>\n      <td>False</td>\n      <td>False</td>\n      <td>False</td>\n      <td>False</td>\n      <td>False</td>\n      <td>False</td>\n      <td>False</td>\n    </tr>\n    <tr>\n      <th>4</th>\n      <td>False</td>\n      <td>False</td>\n      <td>False</td>\n      <td>False</td>\n      <td>True</td>\n      <td>False</td>\n      <td>False</td>\n      <td>False</td>\n    </tr>\n    <tr>\n      <th>5</th>\n      <td>False</td>\n      <td>False</td>\n      <td>False</td>\n      <td>False</td>\n      <td>False</td>\n      <td>False</td>\n      <td>False</td>\n      <td>False</td>\n    </tr>\n    <tr>\n      <th>6</th>\n      <td>False</td>\n      <td>False</td>\n      <td>False</td>\n      <td>False</td>\n      <td>False</td>\n      <td>False</td>\n      <td>True</td>\n      <td>False</td>\n    </tr>\n    <tr>\n      <th>7</th>\n      <td>False</td>\n      <td>False</td>\n      <td>False</td>\n      <td>False</td>\n      <td>False</td>\n      <td>False</td>\n      <td>False</td>\n      <td>True</td>\n    </tr>\n    <tr>\n      <th>8</th>\n      <td>False</td>\n      <td>False</td>\n      <td>False</td>\n      <td>False</td>\n      <td>False</td>\n      <td>False</td>\n      <td>False</td>\n      <td>False</td>\n    </tr>\n    <tr>\n      <th>9</th>\n      <td>False</td>\n      <td>False</td>\n      <td>False</td>\n      <td>False</td>\n      <td>False</td>\n      <td>True</td>\n      <td>False</td>\n      <td>False</td>\n    </tr>\n  </tbody>\n</table>\n</div>"
          },
          "metadata": {}
        }
      ]
    },
    {
      "cell_type": "markdown",
      "source": "\"True\" means the value is a missing value while \"False\" means the value is not a missing value.\n",
      "metadata": {}
    },
    {
      "cell_type": "markdown",
      "source": "<h4>Count missing values in each column</h4>\n<p>\nUsing a for loop in Python, we can quickly figure out the number of missing values in each column. As mentioned above, \"True\" represents a missing value and \"False\" means the value is present in the dataset.  In the body of the for loop the method \".value_counts()\" counts the number of \"True\" values. \n</p>\n",
      "metadata": {}
    },
    {
      "cell_type": "code",
      "source": "for column in missing_data.columns.values.tolist():\n    print(column)\n    print (missing_data[column].value_counts())\n    print(\"\")",
      "metadata": {
        "trusted": true
      },
      "execution_count": 16,
      "outputs": [
        {
          "name": "stdout",
          "text": "ts\nFalse    67292\nName: ts, dtype: int64\n\nopen\nFalse    67292\nName: open, dtype: int64\n\nhigh\nFalse    67292\nName: high, dtype: int64\n\nlow\nFalse    67292\nName: low, dtype: int64\n\nclose\nFalse    60668\nTrue      6624\nName: close, dtype: int64\n\nvolume\nFalse    60597\nTrue      6695\nName: volume, dtype: int64\n\nrec_count\nFalse    60594\nTrue      6698\nName: rec_count, dtype: int64\n\navg_price\nFalse    60561\nTrue      6731\nName: avg_price, dtype: int64\n\n",
          "output_type": "stream"
        }
      ]
    },
    {
      "cell_type": "markdown",
      "source": "Based on the summary above, each column has 66528 rows of data and seven of the columns containing missing data:\n\n<ol>\n    <li>\"close\": +-6624 missing data</li>\n    <li>\"volume\": +-6695 missing data</li>\n    <li>\"rec_count\": +-6698 missing data</li>\n    <li>\"avg_price\": +-6731 missing data</li>\n</ol>\n",
      "metadata": {}
    },
    {
      "cell_type": "markdown",
      "source": "<h3 id=\"deal_missing_values\">Deal with missing data</h3>\n<b>How to deal with missing data?</b>\n\n<ol>\n    <li>Drop data<br>\n        a. Drop the whole row<br>\n        b. Drop the whole column\n    </li>\n    <li>Replace data<br>\n        a. Replace it by mean<br>\n        b. Replace it by frequency<br>\n        c. Replace it based on other functions\n    </li>\n</ol>\n",
      "metadata": {}
    },
    {
      "cell_type": "markdown",
      "source": "Whole columns should be dropped only if most entries in the column are empty. In our dataset, none of the columns are empty enough to drop entirely.\nWe have some freedom in choosing which method to replace data; however, some methods may seem more reasonable than others. Our dataset is tied to time, so we use the pandas interpolator to preserve data quality:\n\n<b>Replace by frequency:</b>\n\n<ul>\n    <li>\"rec_count\": +-6698 missing data, replace them with frequency\n    </li>\n</ul>\n\n<b>Replace by pandas interpolation:</b>\n\n<ul>\n    <li>\"close\": +-6624 missing data, replace them with model output</li>\n    <li>\"volume\": +-6695 missing data, replace them with model output</li>\n    <li>\"avg_price\": +-6731 missing data, replace them with model output</li>\n</ul>\n\n\n",
      "metadata": {}
    },
    {
      "cell_type": "markdown",
      "source": "To see which values are present in a particular column, we can use the \".value_counts()\" method:\n",
      "metadata": {}
    },
    {
      "cell_type": "code",
      "source": "spoiled_df[\"rec_count\"].value_counts()",
      "metadata": {
        "trusted": true
      },
      "execution_count": 17,
      "outputs": [
        {
          "execution_count": 17,
          "output_type": "execute_result",
          "data": {
            "text/plain": "36.0     1103\n45.0     1072\n28.0     1066\n41.0     1062\n40.0     1061\n         ... \n116.0       5\n117.0       3\n119.0       3\n120.0       2\n118.0       1\nName: rec_count, Length: 120, dtype: int64"
          },
          "metadata": {}
        }
      ]
    },
    {
      "cell_type": "markdown",
      "source": "We can see the most common type. We can also use the \".idxmax()\" method to calculate the most common type automatically:\n",
      "metadata": {}
    },
    {
      "cell_type": "code",
      "source": "freq_rec = spoiled_df[\"rec_count\"].value_counts().idxmax()",
      "metadata": {
        "trusted": true
      },
      "execution_count": 18,
      "outputs": []
    },
    {
      "cell_type": "markdown",
      "source": "The replacement procedure is very similar to what we have seen previously:\n",
      "metadata": {}
    },
    {
      "cell_type": "code",
      "source": "#replace the missing 'num-of-doors' values by the most frequent \nspoiled_df[\"rec_count\"].replace(np.nan, freq_rec, inplace=True)",
      "metadata": {
        "trusted": true
      },
      "execution_count": 19,
      "outputs": []
    },
    {
      "cell_type": "markdown",
      "source": "<h4>Replacing with pandas interpolation</h4>\n",
      "metadata": {}
    },
    {
      "cell_type": "markdown",
      "source": "Let's try different models for interpolation and take the best one",
      "metadata": {}
    },
    {
      "cell_type": "code",
      "source": "from sklearn.metrics import mean_squared_error, mean_absolute_percentage_error\n\n# Setting precision\npd.set_option(\"display.precision\", 10)\n# Methods without order\nmethods = [\"linear\", \"nearest\", \"slinear\", \"quadratic\", \"cubic\", \"piecewise_polynomial\", \"pchip\", \"akima\", \"cubicspline\"]\n# Methods with order\norder_methods = [\"spline\", \"polynomial\"]\nperformance = pd.DataFrame({\"name\": [], \"MSE\": [], \"MAPE\": []})\nfor method in methods:\n    # print(method)\n    nan_rows = spoiled_df[\"close\"].isna()\n    interpolated_close = spoiled_df[\"close\"].interpolate(method=method)\n    mse = mean_squared_error(df.loc[nan_rows, \"close\"], interpolated_close[nan_rows])\n    mape = mean_absolute_percentage_error(df.loc[nan_rows, \"close\"], interpolated_close[nan_rows])\n    performance.loc[len(performance.index)] = [method, mse, mape]\nfor method in order_methods:\n    for order in [3, 5]:\n        # print(f\"method: {method}, order: {order}\")\n        nan_rows = spoiled_df[\"close\"].isna()\n        interpolated_close = spoiled_df[\"close\"].interpolate(method=method, order=order)\n        mse = mean_squared_error(df.loc[nan_rows, \"close\"], interpolated_close[nan_rows])\n        mape = mean_absolute_percentage_error(df.loc[nan_rows, \"close\"], interpolated_close[nan_rows])\n        performance.loc[len(performance.index)] = [f\"{method}_{order}\", mse, mape]\n        \nperformance = performance.sort_values(by=[\"MAPE\", \"MSE\"], ascending=True)\nperformance[\"MAPE\"] = performance[\"MAPE\"] * 100\nperformance[\"MAPE\"] = performance[\"MAPE\"].astype(\"str\") \nperformance[\"MAPE\"] = performance[\"MAPE\"].str.slice(stop=8) + \"%\"\nperformance.head(15)",
      "metadata": {
        "trusted": true
      },
      "execution_count": 20,
      "outputs": [
        {
          "execution_count": 20,
          "output_type": "execute_result",
          "data": {
            "text/plain": "                    name           MSE       MAPE\n0                 linear  0.5635042318  0.033343%\n5   piecewise_polynomial  0.5635042318  0.033343%\n2                slinear  0.5635042318  0.033343%\n6                  pchip  0.5817196101  0.033790%\n7                  akima  0.6046116821  0.034418%\n3              quadratic  0.7442320290  0.037921%\n4                  cubic  0.7823945602  0.039027%\n11          polynomial_3  0.7823945602  0.039027%\n8            cubicspline  0.7823945602  0.039027%\n1                nearest  0.9860675423  0.044491%\n12          polynomial_5  1.0529454467  0.045868%\n9               spline_3  1.3321729886  0.066508%\n10              spline_5  1.4108185394  0.066671%",
            "text/html": "<div>\n<style scoped>\n    .dataframe tbody tr th:only-of-type {\n        vertical-align: middle;\n    }\n\n    .dataframe tbody tr th {\n        vertical-align: top;\n    }\n\n    .dataframe thead th {\n        text-align: right;\n    }\n</style>\n<table border=\"1\" class=\"dataframe\">\n  <thead>\n    <tr style=\"text-align: right;\">\n      <th></th>\n      <th>name</th>\n      <th>MSE</th>\n      <th>MAPE</th>\n    </tr>\n  </thead>\n  <tbody>\n    <tr>\n      <th>0</th>\n      <td>linear</td>\n      <td>0.5635042318</td>\n      <td>0.033343%</td>\n    </tr>\n    <tr>\n      <th>5</th>\n      <td>piecewise_polynomial</td>\n      <td>0.5635042318</td>\n      <td>0.033343%</td>\n    </tr>\n    <tr>\n      <th>2</th>\n      <td>slinear</td>\n      <td>0.5635042318</td>\n      <td>0.033343%</td>\n    </tr>\n    <tr>\n      <th>6</th>\n      <td>pchip</td>\n      <td>0.5817196101</td>\n      <td>0.033790%</td>\n    </tr>\n    <tr>\n      <th>7</th>\n      <td>akima</td>\n      <td>0.6046116821</td>\n      <td>0.034418%</td>\n    </tr>\n    <tr>\n      <th>3</th>\n      <td>quadratic</td>\n      <td>0.7442320290</td>\n      <td>0.037921%</td>\n    </tr>\n    <tr>\n      <th>4</th>\n      <td>cubic</td>\n      <td>0.7823945602</td>\n      <td>0.039027%</td>\n    </tr>\n    <tr>\n      <th>11</th>\n      <td>polynomial_3</td>\n      <td>0.7823945602</td>\n      <td>0.039027%</td>\n    </tr>\n    <tr>\n      <th>8</th>\n      <td>cubicspline</td>\n      <td>0.7823945602</td>\n      <td>0.039027%</td>\n    </tr>\n    <tr>\n      <th>1</th>\n      <td>nearest</td>\n      <td>0.9860675423</td>\n      <td>0.044491%</td>\n    </tr>\n    <tr>\n      <th>12</th>\n      <td>polynomial_5</td>\n      <td>1.0529454467</td>\n      <td>0.045868%</td>\n    </tr>\n    <tr>\n      <th>9</th>\n      <td>spline_3</td>\n      <td>1.3321729886</td>\n      <td>0.066508%</td>\n    </tr>\n    <tr>\n      <th>10</th>\n      <td>spline_5</td>\n      <td>1.4108185394</td>\n      <td>0.066671%</td>\n    </tr>\n  </tbody>\n</table>\n</div>"
          },
          "metadata": {}
        }
      ]
    },
    {
      "cell_type": "markdown",
      "source": "How we can see the best model for interpolation is linear so we'll use it to replace NaN values",
      "metadata": {}
    },
    {
      "cell_type": "code",
      "source": "spoiled_df['close'].interpolate(method = 'linear', inplace=True)\nspoiled_df.head()",
      "metadata": {
        "trusted": true
      },
      "execution_count": 21,
      "outputs": [
        {
          "execution_count": 21,
          "output_type": "execute_result",
          "data": {
            "text/plain": "                    ts     open     high      low     close    volume  \\\n0  2022-11-11 14:35:00  1218.09  1218.09  1218.09  1218.090   242.437   \n1  2022-11-11 14:38:00  1217.27  1217.27  1211.42  1211.420  5795.229   \n2  2022-11-11 14:39:00  1211.54  1212.21  1208.58  1209.360  4404.935   \n3  2022-11-11 14:40:00  1209.37  1213.17  1208.68  1211.860  4177.236   \n4  2022-11-11 14:41:00  1211.87  1217.92  1210.42  1212.765  5518.493   \n\n   rec_count        avg_price  \n0       36.0  1218.0900000000  \n1       97.0  1213.6554019160  \n2       98.0  1210.1321805293  \n3       96.0  1210.6174232028  \n4      102.0  1215.0290380580  ",
            "text/html": "<div>\n<style scoped>\n    .dataframe tbody tr th:only-of-type {\n        vertical-align: middle;\n    }\n\n    .dataframe tbody tr th {\n        vertical-align: top;\n    }\n\n    .dataframe thead th {\n        text-align: right;\n    }\n</style>\n<table border=\"1\" class=\"dataframe\">\n  <thead>\n    <tr style=\"text-align: right;\">\n      <th></th>\n      <th>ts</th>\n      <th>open</th>\n      <th>high</th>\n      <th>low</th>\n      <th>close</th>\n      <th>volume</th>\n      <th>rec_count</th>\n      <th>avg_price</th>\n    </tr>\n  </thead>\n  <tbody>\n    <tr>\n      <th>0</th>\n      <td>2022-11-11 14:35:00</td>\n      <td>1218.09</td>\n      <td>1218.09</td>\n      <td>1218.09</td>\n      <td>1218.090</td>\n      <td>242.437</td>\n      <td>36.0</td>\n      <td>1218.0900000000</td>\n    </tr>\n    <tr>\n      <th>1</th>\n      <td>2022-11-11 14:38:00</td>\n      <td>1217.27</td>\n      <td>1217.27</td>\n      <td>1211.42</td>\n      <td>1211.420</td>\n      <td>5795.229</td>\n      <td>97.0</td>\n      <td>1213.6554019160</td>\n    </tr>\n    <tr>\n      <th>2</th>\n      <td>2022-11-11 14:39:00</td>\n      <td>1211.54</td>\n      <td>1212.21</td>\n      <td>1208.58</td>\n      <td>1209.360</td>\n      <td>4404.935</td>\n      <td>98.0</td>\n      <td>1210.1321805293</td>\n    </tr>\n    <tr>\n      <th>3</th>\n      <td>2022-11-11 14:40:00</td>\n      <td>1209.37</td>\n      <td>1213.17</td>\n      <td>1208.68</td>\n      <td>1211.860</td>\n      <td>4177.236</td>\n      <td>96.0</td>\n      <td>1210.6174232028</td>\n    </tr>\n    <tr>\n      <th>4</th>\n      <td>2022-11-11 14:41:00</td>\n      <td>1211.87</td>\n      <td>1217.92</td>\n      <td>1210.42</td>\n      <td>1212.765</td>\n      <td>5518.493</td>\n      <td>102.0</td>\n      <td>1215.0290380580</td>\n    </tr>\n  </tbody>\n</table>\n</div>"
          },
          "metadata": {}
        }
      ]
    },
    {
      "cell_type": "code",
      "source": "spoiled_df.isna().sum()",
      "metadata": {
        "trusted": true
      },
      "execution_count": 22,
      "outputs": [
        {
          "execution_count": 22,
          "output_type": "execute_result",
          "data": {
            "text/plain": "ts              0\nopen            0\nhigh            0\nlow             0\nclose           0\nvolume       6695\nrec_count       0\navg_price    6731\ndtype: int64"
          },
          "metadata": {}
        }
      ]
    },
    {
      "cell_type": "markdown",
      "source": "<div class=\"alert alert-danger alertdanger\" style=\"margin-top: 20px\">\n<h1> Question  #1: </h1>\n\n<b>Based on the example above, replace NaN in \"volume\" column with the pandas interpolate.</b>\n\n</div>\n",
      "metadata": {}
    },
    {
      "cell_type": "code",
      "source": "# Write your code below and press Shift+Enter to execute \n",
      "metadata": {
        "trusted": true
      },
      "execution_count": 23,
      "outputs": []
    },
    {
      "cell_type": "markdown",
      "source": "<details><summary>Click here for the solution</summary>\n\n```python\nspoiled_df['volume'].interpolate(method = 'linear', inplace=True)\nspoiled_df.head()\n```\n\n</details>\n",
      "metadata": {}
    },
    {
      "cell_type": "markdown",
      "source": "<b>Good!</b> Now, we have a dataset with no missing values.\n",
      "metadata": {}
    },
    {
      "cell_type": "markdown",
      "source": "<h3 id=\"correct_data_format\">Correct data format</h3>\n<b>We are almost there!</b>\n<p>The last step in data cleaning is checking and making sure that all data is in the correct format (int, float, text or other).</p>\n\nIn Pandas, we use:\n\n<p><b>.dtype()</b> to check the data type</p>\n<p><b>.astype()</b> to change the data type</p>\n",
      "metadata": {}
    },
    {
      "cell_type": "markdown",
      "source": "<h4>Let's list the data types for each column</h4>\n",
      "metadata": {}
    },
    {
      "cell_type": "code",
      "source": "spoiled_df.dtypes",
      "metadata": {
        "trusted": true
      },
      "execution_count": 24,
      "outputs": [
        {
          "execution_count": 24,
          "output_type": "execute_result",
          "data": {
            "text/plain": "ts            object\nopen         float64\nhigh         float64\nlow          float64\nclose        float64\nvolume       float64\nrec_count    float64\navg_price    float64\ndtype: object"
          },
          "metadata": {}
        }
      ]
    },
    {
      "cell_type": "markdown",
      "source": "<p>As we can see above, some columns are not of the correct data type. Numerical variables should have type \"float\" or \"int\", and variables with timestamps have type \"datetime\". For example, \"open\", \"high\", \"low\", \"close\", \"avg_price\" variables are numerical values that describe the price, so we should expect them to be of the type \"float\". \"rec_count\" should have type \"int\" because it describes quantity. 'ts' column should have type \"datetime\"; however, that column is shown as type \"object\". We have to convert data types into a proper format for each column using the \"astype()\" method.</p> \n",
      "metadata": {}
    },
    {
      "cell_type": "markdown",
      "source": "<h4>Convert data types to proper format</h4>\n",
      "metadata": {}
    },
    {
      "cell_type": "code",
      "source": "spoiled_df[\"ts\"] = spoiled_df[\"ts\"].astype(\"datetime64[ns]\")\nspoiled_df[\"rec_count\"] = spoiled_df[\"rec_count\"].astype(\"int\")",
      "metadata": {
        "trusted": true
      },
      "execution_count": 25,
      "outputs": []
    },
    {
      "cell_type": "markdown",
      "source": "<h4>Let us list the columns after the conversion</h4>\n",
      "metadata": {}
    },
    {
      "cell_type": "code",
      "source": "spoiled_df.dtypes",
      "metadata": {
        "trusted": true
      },
      "execution_count": 26,
      "outputs": [
        {
          "execution_count": 26,
          "output_type": "execute_result",
          "data": {
            "text/plain": "ts           datetime64[ns]\nopen                float64\nhigh                float64\nlow                 float64\nclose               float64\nvolume              float64\nrec_count             int32\navg_price           float64\ndtype: object"
          },
          "metadata": {}
        }
      ]
    },
    {
      "cell_type": "markdown",
      "source": "<b>Wonderful!</b>\n\nNow we have finally obtained the cleaned dataset with no missing values with all data in its proper format.\n",
      "metadata": {}
    },
    {
      "cell_type": "markdown",
      "source": "<h2 id=\"data_standardization\">Data Standardization</h2>\n<p>\nData is usually collected from different agencies in different formats.\n(Data standardization is also a term for a particular type of data normalization where we subtract the mean and divide by the standard deviation.)\n</p>\n\n<b>What is standardization?</b>\n\n<p>Standardization is the process of transforming data into a common format, allowing the researcher to make the meaningful comparison.\n</p>\n\n<b>Example</b>\n\n<p>Transform ETH TO USDT:</p>\n<p>In our dataset, \"open\", \"high\", \"low\", \"close\", \"volume\", \"avg_price\" are represented by ETH (Etherium) unit. However in most cases it is customary to use USDT.</p>\n<p>We will need to apply <b>data transformation</b> to transform BUSD into USDT.</p>\n",
      "metadata": {
        "tags": [],
        "jp-MarkdownHeadingCollapsed": true
      }
    },
    {
      "cell_type": "markdown",
      "source": "<p>We can do many mathematical operations directly in Pandas.</p>\n",
      "metadata": {}
    },
    {
      "cell_type": "code",
      "source": "spoiled_df.head()",
      "metadata": {
        "trusted": true
      },
      "execution_count": 27,
      "outputs": [
        {
          "execution_count": 27,
          "output_type": "execute_result",
          "data": {
            "text/plain": "                   ts     open     high      low     close    volume  \\\n0 2022-11-11 14:35:00  1218.09  1218.09  1218.09  1218.090   242.437   \n1 2022-11-11 14:38:00  1217.27  1217.27  1211.42  1211.420  5795.229   \n2 2022-11-11 14:39:00  1211.54  1212.21  1208.58  1209.360  4404.935   \n3 2022-11-11 14:40:00  1209.37  1213.17  1208.68  1211.860  4177.236   \n4 2022-11-11 14:41:00  1211.87  1217.92  1210.42  1212.765  5518.493   \n\n   rec_count        avg_price  \n0         36  1218.0900000000  \n1         97  1213.6554019160  \n2         98  1210.1321805293  \n3         96  1210.6174232028  \n4        102  1215.0290380580  ",
            "text/html": "<div>\n<style scoped>\n    .dataframe tbody tr th:only-of-type {\n        vertical-align: middle;\n    }\n\n    .dataframe tbody tr th {\n        vertical-align: top;\n    }\n\n    .dataframe thead th {\n        text-align: right;\n    }\n</style>\n<table border=\"1\" class=\"dataframe\">\n  <thead>\n    <tr style=\"text-align: right;\">\n      <th></th>\n      <th>ts</th>\n      <th>open</th>\n      <th>high</th>\n      <th>low</th>\n      <th>close</th>\n      <th>volume</th>\n      <th>rec_count</th>\n      <th>avg_price</th>\n    </tr>\n  </thead>\n  <tbody>\n    <tr>\n      <th>0</th>\n      <td>2022-11-11 14:35:00</td>\n      <td>1218.09</td>\n      <td>1218.09</td>\n      <td>1218.09</td>\n      <td>1218.090</td>\n      <td>242.437</td>\n      <td>36</td>\n      <td>1218.0900000000</td>\n    </tr>\n    <tr>\n      <th>1</th>\n      <td>2022-11-11 14:38:00</td>\n      <td>1217.27</td>\n      <td>1217.27</td>\n      <td>1211.42</td>\n      <td>1211.420</td>\n      <td>5795.229</td>\n      <td>97</td>\n      <td>1213.6554019160</td>\n    </tr>\n    <tr>\n      <th>2</th>\n      <td>2022-11-11 14:39:00</td>\n      <td>1211.54</td>\n      <td>1212.21</td>\n      <td>1208.58</td>\n      <td>1209.360</td>\n      <td>4404.935</td>\n      <td>98</td>\n      <td>1210.1321805293</td>\n    </tr>\n    <tr>\n      <th>3</th>\n      <td>2022-11-11 14:40:00</td>\n      <td>1209.37</td>\n      <td>1213.17</td>\n      <td>1208.68</td>\n      <td>1211.860</td>\n      <td>4177.236</td>\n      <td>96</td>\n      <td>1210.6174232028</td>\n    </tr>\n    <tr>\n      <th>4</th>\n      <td>2022-11-11 14:41:00</td>\n      <td>1211.87</td>\n      <td>1217.92</td>\n      <td>1210.42</td>\n      <td>1212.765</td>\n      <td>5518.493</td>\n      <td>102</td>\n      <td>1215.0290380580</td>\n    </tr>\n  </tbody>\n</table>\n</div>"
          },
          "metadata": {}
        }
      ]
    },
    {
      "cell_type": "markdown",
      "source": "Let's get the exchange rate and convert ETH TO USDT",
      "metadata": {}
    },
    {
      "cell_type": "code",
      "source": "# Convert BUSD to USDT by mathematical operation\nres = await pyfetch(\"https://api.binance.com/sapi/v1/convert/exchangeInfo?fromAsset=ETH&toAsset=USDT\")#request for URL\n# If the api is unavailable we set fixed rate\nif res.status != 200:\n    rate = 0.00063\nelse:\n    # Converting json to dict\n    res = await res.json()\n    rate = float(res[0][\"fromAssetMinAmount\"])\n    \nprint(f\"The exchange rate is 1 ETH = {1/rate} USDT\")\n\ncols_to_convert = [\"open\", \"high\", \"low\", \"close\", \"volume\", \"avg_price\"]\nfor col in cols_to_convert:\n    df[f\"{col}_USDT\"] = df[col] / rate\n\n# check your transformed data \ndf[[\"open_USDT\", \"high_USDT\", \"low_USDT\", \"close_USDT\", \"volume_USDT\", \"avg_price_USDT\"]].head()",
      "metadata": {
        "trusted": true
      },
      "execution_count": 28,
      "outputs": [
        {
          "name": "stdout",
          "text": "The exchange rate is 1 ETH = 1587.3015873015872 USDT\n",
          "output_type": "stream"
        },
        {
          "execution_count": 28,
          "output_type": "execute_result",
          "data": {
            "text/plain": "          open_USDT         high_USDT          low_USDT        close_USDT  \\\n0  1.9334761905e+06  1.9334761905e+06  1.9334761905e+06  1.9334761905e+06   \n1  1.9321746032e+06  1.9321746032e+06  1.9228888889e+06  1.9228888889e+06   \n2  1.9230793651e+06  1.9241428571e+06  1.9183809524e+06  1.9196190476e+06   \n3  1.9196349206e+06  1.9256666667e+06  1.9185396825e+06  1.9235873016e+06   \n4  1.9236031746e+06  1.9332063492e+06  1.9213015873e+06  1.9316984127e+06   \n\n        volume_USDT    avg_price_USDT  \n0  3.8482063492e+05  1.9334761905e+06  \n1  9.1987761905e+06  1.9264371459e+06  \n2  6.9919603175e+06  1.9208447310e+06  \n3  6.6305333333e+06  1.9216149575e+06  \n4  8.7595126984e+06  1.9286175207e+06  ",
            "text/html": "<div>\n<style scoped>\n    .dataframe tbody tr th:only-of-type {\n        vertical-align: middle;\n    }\n\n    .dataframe tbody tr th {\n        vertical-align: top;\n    }\n\n    .dataframe thead th {\n        text-align: right;\n    }\n</style>\n<table border=\"1\" class=\"dataframe\">\n  <thead>\n    <tr style=\"text-align: right;\">\n      <th></th>\n      <th>open_USDT</th>\n      <th>high_USDT</th>\n      <th>low_USDT</th>\n      <th>close_USDT</th>\n      <th>volume_USDT</th>\n      <th>avg_price_USDT</th>\n    </tr>\n  </thead>\n  <tbody>\n    <tr>\n      <th>0</th>\n      <td>1.9334761905e+06</td>\n      <td>1.9334761905e+06</td>\n      <td>1.9334761905e+06</td>\n      <td>1.9334761905e+06</td>\n      <td>3.8482063492e+05</td>\n      <td>1.9334761905e+06</td>\n    </tr>\n    <tr>\n      <th>1</th>\n      <td>1.9321746032e+06</td>\n      <td>1.9321746032e+06</td>\n      <td>1.9228888889e+06</td>\n      <td>1.9228888889e+06</td>\n      <td>9.1987761905e+06</td>\n      <td>1.9264371459e+06</td>\n    </tr>\n    <tr>\n      <th>2</th>\n      <td>1.9230793651e+06</td>\n      <td>1.9241428571e+06</td>\n      <td>1.9183809524e+06</td>\n      <td>1.9196190476e+06</td>\n      <td>6.9919603175e+06</td>\n      <td>1.9208447310e+06</td>\n    </tr>\n    <tr>\n      <th>3</th>\n      <td>1.9196349206e+06</td>\n      <td>1.9256666667e+06</td>\n      <td>1.9185396825e+06</td>\n      <td>1.9235873016e+06</td>\n      <td>6.6305333333e+06</td>\n      <td>1.9216149575e+06</td>\n    </tr>\n    <tr>\n      <th>4</th>\n      <td>1.9236031746e+06</td>\n      <td>1.9332063492e+06</td>\n      <td>1.9213015873e+06</td>\n      <td>1.9316984127e+06</td>\n      <td>8.7595126984e+06</td>\n      <td>1.9286175207e+06</td>\n    </tr>\n  </tbody>\n</table>\n</div>"
          },
          "metadata": {}
        }
      ]
    },
    {
      "cell_type": "markdown",
      "source": "<div class=\"alert alert-danger alertdanger\" style=\"margin-top: 20px\">\n<h1> Question  #2: </h1>\n\n<b>According to the example above, transform \"open\" (price in BUSD) to EUR (1 BUSD = 0.92 EUR) and name the column \"open_EUR\" (use URL mentioned above but change USDT TO EUR).</b>\n\n</div>\n",
      "metadata": {}
    },
    {
      "cell_type": "code",
      "source": "# Write your code below and press Shift+Enter to execute \n",
      "metadata": {
        "trusted": true
      },
      "execution_count": 29,
      "outputs": []
    },
    {
      "cell_type": "markdown",
      "source": "<details><summary>Click here for the solution</summary>\n\n```python\n# transform BUSD to EURO by mathematical operation\nres = await pyfetch(\"https://api.binance.com/sapi/v1/convert/exchangeInfo?fromAsset=BUSD&toAsset=EUR\")\n# If the api is unavailable we set fixed rate\nif res.status != 200:\n    rate = 0.92\nelse:\n    # Converting json to dict\n    res = await res.json()\n    rate = float(res[0][\"toAssetMinAmount\"])\n    \nprint(f\"The exchange rate is 1 BUSD = {rate} EUR\")\n\ncols_to_convert = [\"open\", \"high\", \"low\", \"close\", \"volume\", \"avg_price\"]\nfor col in cols_to_convert:\n    df[f\"{col}_EUR\"] = df[col] * rate\n\n# check your transformed data \ndf[[\"open_EUR\", \"high_EUR\", \"low_EUR\", \"close_EUR\", \"volume_EUR\", \"avg_price_EUR\"]].head()\n```\n\n</details>\n",
      "metadata": {}
    },
    {
      "cell_type": "markdown",
      "source": "<h2 id=\"data_normalization\">Data Normalization</h2>\n\n<b>Why normalization?</b>\n\n<p>Normalization is the process of transforming values of several variables into a similar range. Typical normalizations include scaling the variable so the variable average is 0, scaling the variable so the variance is 1, or scaling the variable so the variable values range from 0 to 1.\n</p>\n\n<b>Example</b>\n\n<p>To demonstrate normalization, let's say we want to scale the columns \"open\", \"close\" and \"avg_price\".</p>\n<p><b>Target:</b> would like to normalize those variables so their value ranges from 0 to 1</p>\n<p><b>Approach:</b> replace original value by (original value)/(maximum value), sklearn <b>MinMaxScaler</b></p>\n",
      "metadata": {}
    },
    {
      "cell_type": "code",
      "source": "from sklearn.preprocessing import MinMaxScaler\n# replace (original value) by (original value)/(maximum value)\nspoiled_df[\"open_norm\"] = spoiled_df[\"open\"] / spoiled_df[\"open\"].max()\nscaler = MinMaxScaler()\nspoiled_df[\"close_norm\"] = scaler.fit_transform(spoiled_df[\"close\"].to_numpy().reshape(-1, 1))",
      "metadata": {
        "trusted": true
      },
      "execution_count": 30,
      "outputs": []
    },
    {
      "cell_type": "code",
      "source": "spoiled_df[[\"open_norm\", \"close_norm\"]].head()",
      "metadata": {
        "trusted": true
      },
      "execution_count": 31,
      "outputs": [
        {
          "execution_count": 31,
          "output_type": "execute_result",
          "data": {
            "text/plain": "      open_norm    close_norm\n0  0.9035270556  0.5212060968\n1  0.9029188147  0.4966497312\n2  0.8986685458  0.4890656064\n3  0.8970589326  0.4982696414\n4  0.8989133257  0.5016015021",
            "text/html": "<div>\n<style scoped>\n    .dataframe tbody tr th:only-of-type {\n        vertical-align: middle;\n    }\n\n    .dataframe tbody tr th {\n        vertical-align: top;\n    }\n\n    .dataframe thead th {\n        text-align: right;\n    }\n</style>\n<table border=\"1\" class=\"dataframe\">\n  <thead>\n    <tr style=\"text-align: right;\">\n      <th></th>\n      <th>open_norm</th>\n      <th>close_norm</th>\n    </tr>\n  </thead>\n  <tbody>\n    <tr>\n      <th>0</th>\n      <td>0.9035270556</td>\n      <td>0.5212060968</td>\n    </tr>\n    <tr>\n      <th>1</th>\n      <td>0.9029188147</td>\n      <td>0.4966497312</td>\n    </tr>\n    <tr>\n      <th>2</th>\n      <td>0.8986685458</td>\n      <td>0.4890656064</td>\n    </tr>\n    <tr>\n      <th>3</th>\n      <td>0.8970589326</td>\n      <td>0.4982696414</td>\n    </tr>\n    <tr>\n      <th>4</th>\n      <td>0.8989133257</td>\n      <td>0.5016015021</td>\n    </tr>\n  </tbody>\n</table>\n</div>"
          },
          "metadata": {}
        }
      ]
    },
    {
      "cell_type": "markdown",
      "source": "<div class=\"alert alert-danger alertdanger\" style=\"margin-top: 20px\">\n<h1> Question #3: </h1>\n\n<b>According to the example above, normalize the column \"avg_price\" using sklearn <b>MinMaxScaler</b>.</b>\n\n</div>\n",
      "metadata": {}
    },
    {
      "cell_type": "code",
      "source": "# Write your code below and press Shift+Enter to execute \n",
      "metadata": {
        "trusted": true
      },
      "execution_count": 32,
      "outputs": []
    },
    {
      "cell_type": "markdown",
      "source": "<details><summary>Click here for the solution</summary>\n\n```python\nscaler = MinMaxScaler()\nspoiled_df[\"avg_price_norm\"] = scaler.fit_transform(spoiled_df[\"avg_price\"].to_numpy().reshape(-1, 1))\n\n\n# show the scaled column\nspoiled_df[[\"avg_price_norm\"]].head()\n\n\n```\n\n</details>\n",
      "metadata": {}
    },
    {
      "cell_type": "markdown",
      "source": "Here we can see we've normalized \"open\", \"close\" and \"avg_price\" in the range of \\[0,1].\n",
      "metadata": {}
    },
    {
      "cell_type": "markdown",
      "source": "<h2 id=\"binning\">Binning and indicator variable</h2>\n<b>Why binning?</b>\n<p>\n    Binning is a process of transforming continuous numerical variables into discrete categorical 'bins' for grouped analysis.\n</p>\n\n<b>Example: </b>\n\n<p>In our dataset, \"volume\" is a real valued variable. What if we want to break it down into 3 bins and see which bin sold the most? Can we rearrange them into three ‘bins' to simplify analysis? </p>\n\n<p>We will use the pandas method 'cut' to segment the 'volume' column into 3 bins.</p>\n",
      "metadata": {}
    },
    {
      "cell_type": "markdown",
      "source": "<h3>Example of Binning Data In Pandas</h3>\n",
      "metadata": {}
    },
    {
      "cell_type": "markdown",
      "source": "Let's plot the histogram of \"volume\" to see what the distribution of \"volume\" looks like.\n",
      "metadata": {}
    },
    {
      "cell_type": "code",
      "source": "%matplotlib inline\nimport matplotlib.pyplot as plt\nplt.hist(spoiled_df[\"close\"])\n\n# set x/y labels and plot title\nplt.xlabel(\"close\")\nplt.ylabel(\"count\")\nplt.title(\"close bins\")",
      "metadata": {
        "trusted": true
      },
      "execution_count": 33,
      "outputs": [
        {
          "execution_count": 33,
          "output_type": "execute_result",
          "data": {
            "text/plain": "Text(0.5, 1.0, 'close bins')"
          },
          "metadata": {}
        },
        {
          "output_type": "display_data",
          "data": {
            "text/plain": "<Figure size 640x480 with 1 Axes>",
            "image/png": "[encoded data removed]"
          },
          "metadata": {}
        }
      ]
    },
    {
      "cell_type": "code",
      "source": "bins = np.linspace(min(df[\"close\"]), max(df[\"close\"]), 4)\nbins",
      "metadata": {
        "trusted": true
      },
      "execution_count": 34,
      "outputs": [
        {
          "execution_count": 34,
          "output_type": "execute_result",
          "data": {
            "text/plain": "array([1074.2       , 1165.51333333, 1256.82666667, 1348.14      ])"
          },
          "metadata": {}
        }
      ]
    },
    {
      "cell_type": "code",
      "source": "spoiled_df[\"close\"].describe()",
      "metadata": {
        "trusted": true
      },
      "execution_count": 35,
      "outputs": [
        {
          "execution_count": 35,
          "output_type": "execute_result",
          "data": {
            "text/plain": "count    67292.0000000000\nmean      1226.3727113178\nstd         45.7769057703\nmin       1076.5200000000\n25%       1197.8337500000\n50%       1218.6500000000\n75%       1264.8000000000\nmax       1348.1400000000\nName: close, dtype: float64"
          },
          "metadata": {}
        }
      ]
    },
    {
      "cell_type": "markdown",
      "source": "We set group  names:\n",
      "metadata": {}
    },
    {
      "cell_type": "code",
      "source": "group_names = [\"Low\", \"Medium\", \"High\"]",
      "metadata": {
        "trusted": true
      },
      "execution_count": 36,
      "outputs": []
    },
    {
      "cell_type": "markdown",
      "source": "We apply the function <b>cut</b> to determine what each value of `spoiled_df[\"volume\"]` belongs to.\n",
      "metadata": {}
    },
    {
      "cell_type": "code",
      "source": "spoiled_df[\"close-binned\"] = pd.cut(spoiled_df[\"close\"], bins, labels=group_names, include_lowest=True)\nspoiled_df[[\"close\", \"close-binned\"]].head(20)",
      "metadata": {
        "trusted": true
      },
      "execution_count": 37,
      "outputs": [
        {
          "execution_count": 37,
          "output_type": "execute_result",
          "data": {
            "text/plain": "       close close-binned\n0   1218.090       Medium\n1   1211.420       Medium\n2   1209.360       Medium\n3   1211.860       Medium\n4   1212.765       Medium\n5   1213.670       Medium\n6   1213.440       Medium\n7   1217.650       Medium\n8   1240.660       Medium\n9   1243.760       Medium\n10  1282.030         High\n11  1270.000         High\n12  1269.180         High\n13  1281.400         High\n14  1267.460         High\n15  1262.070         High\n16  1256.140       Medium\n17  1252.105       Medium\n18  1248.070       Medium\n19  1254.480       Medium",
            "text/html": "<div>\n<style scoped>\n    .dataframe tbody tr th:only-of-type {\n        vertical-align: middle;\n    }\n\n    .dataframe tbody tr th {\n        vertical-align: top;\n    }\n\n    .dataframe thead th {\n        text-align: right;\n    }\n</style>\n<table border=\"1\" class=\"dataframe\">\n  <thead>\n    <tr style=\"text-align: right;\">\n      <th></th>\n      <th>close</th>\n      <th>close-binned</th>\n    </tr>\n  </thead>\n  <tbody>\n    <tr>\n      <th>0</th>\n      <td>1218.090</td>\n      <td>Medium</td>\n    </tr>\n    <tr>\n      <th>1</th>\n      <td>1211.420</td>\n      <td>Medium</td>\n    </tr>\n    <tr>\n      <th>2</th>\n      <td>1209.360</td>\n      <td>Medium</td>\n    </tr>\n    <tr>\n      <th>3</th>\n      <td>1211.860</td>\n      <td>Medium</td>\n    </tr>\n    <tr>\n      <th>4</th>\n      <td>1212.765</td>\n      <td>Medium</td>\n    </tr>\n    <tr>\n      <th>5</th>\n      <td>1213.670</td>\n      <td>Medium</td>\n    </tr>\n    <tr>\n      <th>6</th>\n      <td>1213.440</td>\n      <td>Medium</td>\n    </tr>\n    <tr>\n      <th>7</th>\n      <td>1217.650</td>\n      <td>Medium</td>\n    </tr>\n    <tr>\n      <th>8</th>\n      <td>1240.660</td>\n      <td>Medium</td>\n    </tr>\n    <tr>\n      <th>9</th>\n      <td>1243.760</td>\n      <td>Medium</td>\n    </tr>\n    <tr>\n      <th>10</th>\n      <td>1282.030</td>\n      <td>High</td>\n    </tr>\n    <tr>\n      <th>11</th>\n      <td>1270.000</td>\n      <td>High</td>\n    </tr>\n    <tr>\n      <th>12</th>\n      <td>1269.180</td>\n      <td>High</td>\n    </tr>\n    <tr>\n      <th>13</th>\n      <td>1281.400</td>\n      <td>High</td>\n    </tr>\n    <tr>\n      <th>14</th>\n      <td>1267.460</td>\n      <td>High</td>\n    </tr>\n    <tr>\n      <th>15</th>\n      <td>1262.070</td>\n      <td>High</td>\n    </tr>\n    <tr>\n      <th>16</th>\n      <td>1256.140</td>\n      <td>Medium</td>\n    </tr>\n    <tr>\n      <th>17</th>\n      <td>1252.105</td>\n      <td>Medium</td>\n    </tr>\n    <tr>\n      <th>18</th>\n      <td>1248.070</td>\n      <td>Medium</td>\n    </tr>\n    <tr>\n      <th>19</th>\n      <td>1254.480</td>\n      <td>Medium</td>\n    </tr>\n  </tbody>\n</table>\n</div>"
          },
          "metadata": {}
        }
      ]
    },
    {
      "cell_type": "markdown",
      "source": "Let's see the \"close\" in each bin:\n",
      "metadata": {}
    },
    {
      "cell_type": "code",
      "source": "spoiled_df[\"close-binned\"].value_counts()",
      "metadata": {
        "trusted": true
      },
      "execution_count": 38,
      "outputs": [
        {
          "execution_count": 38,
          "output_type": "execute_result",
          "data": {
            "text/plain": "Medium    41329\nHigh      21581\nLow        4382\nName: close-binned, dtype: int64"
          },
          "metadata": {}
        }
      ]
    },
    {
      "cell_type": "markdown",
      "source": "Let's plot the distribution of each bin:\n",
      "metadata": {}
    },
    {
      "cell_type": "code",
      "source": "plt.bar(group_names, spoiled_df[\"close-binned\"].value_counts().sort_index())\n\n# set x/y labels and plot title\nplt.xlabel(\"close\")\nplt.ylabel(\"count\")\nplt.title(\"close bins\")",
      "metadata": {
        "trusted": true
      },
      "execution_count": 39,
      "outputs": [
        {
          "execution_count": 39,
          "output_type": "execute_result",
          "data": {
            "text/plain": "Text(0.5, 1.0, 'close bins')"
          },
          "metadata": {}
        },
        {
          "output_type": "display_data",
          "data": {
            "text/plain": "<Figure size 640x480 with 1 Axes>",
            "image/png": "[encoded data removed]"
          },
          "metadata": {}
        }
      ]
    },
    {
      "cell_type": "markdown",
      "source": "<p>\n    As we can see we managed to create 3 classes based on \"close\"\n</p>",
      "metadata": {}
    },
    {
      "cell_type": "markdown",
      "source": "<h3>Bins Visualization</h3>\nNormally, a histogram is used to visualize the distribution of bins we created above. \n",
      "metadata": {}
    },
    {
      "cell_type": "code",
      "source": "# draw historgram of attribute \"close\" with bins = 3\nplt.hist(spoiled_df[\"close\"], bins = 3)\n\n# set x/y labels and plot title\nplt.xlabel(\"close\")\nplt.ylabel(\"count\")\nplt.title(\"close bins\")",
      "metadata": {
        "trusted": true
      },
      "execution_count": 40,
      "outputs": [
        {
          "execution_count": 40,
          "output_type": "execute_result",
          "data": {
            "text/plain": "Text(0.5, 1.0, 'close bins')"
          },
          "metadata": {}
        },
        {
          "output_type": "display_data",
          "data": {
            "text/plain": "<Figure size 640x480 with 1 Axes>",
            "image/png": "[encoded data removed]"
          },
          "metadata": {}
        }
      ]
    },
    {
      "cell_type": "markdown",
      "source": "The plot above shows the binning result for the attribute \"close\".\n",
      "metadata": {}
    },
    {
      "cell_type": "markdown",
      "source": "<h4 id=\"indicator\">Indicator Variable (or Dummy Variable)</h4>\n<b>What is an indicator variable?</b>\n<p>\n    An indicator variable (or dummy variable) is a numerical variable used to label categories. They are called \"dummies\" because the numbers themselves don't have inherent meaning. \n</p>\n\n<b>Why we use indicator variables?</b>\n\n<p>\n    We use indicator variables so we can use categorical variables for regression analysis in the later modules.\n</p>\n<b>Example</b>\n<p>\n    We see the column \"volume-binned\" has three unique values: \"Low\", \"Medium\" or \"High\". Regression doesn't understand words, only numbers. To use this attribute in regression analysis, we convert \"rec_count-binned\" to indicator variables.\n</p>\n\n<p>\n    We will use pandas' method <b>get_dummies</b> to assign numerical values to different categories of \"close\". \n</p>\n",
      "metadata": {}
    },
    {
      "cell_type": "markdown",
      "source": "Get the indicator variables and assign it to data frame \"dummy_variable\\_1\":\n",
      "metadata": {}
    },
    {
      "cell_type": "code",
      "source": "dummy_variable_1 = pd.get_dummies(spoiled_df[\"close-binned\"], prefix=\"close\")\ndummy_variable_1.head()",
      "metadata": {
        "trusted": true
      },
      "execution_count": 41,
      "outputs": [
        {
          "execution_count": 41,
          "output_type": "execute_result",
          "data": {
            "text/plain": "   close_Low  close_Medium  close_High\n0          0             1           0\n1          0             1           0\n2          0             1           0\n3          0             1           0\n4          0             1           0",
            "text/html": "<div>\n<style scoped>\n    .dataframe tbody tr th:only-of-type {\n        vertical-align: middle;\n    }\n\n    .dataframe tbody tr th {\n        vertical-align: top;\n    }\n\n    .dataframe thead th {\n        text-align: right;\n    }\n</style>\n<table border=\"1\" class=\"dataframe\">\n  <thead>\n    <tr style=\"text-align: right;\">\n      <th></th>\n      <th>close_Low</th>\n      <th>close_Medium</th>\n      <th>close_High</th>\n    </tr>\n  </thead>\n  <tbody>\n    <tr>\n      <th>0</th>\n      <td>0</td>\n      <td>1</td>\n      <td>0</td>\n    </tr>\n    <tr>\n      <th>1</th>\n      <td>0</td>\n      <td>1</td>\n      <td>0</td>\n    </tr>\n    <tr>\n      <th>2</th>\n      <td>0</td>\n      <td>1</td>\n      <td>0</td>\n    </tr>\n    <tr>\n      <th>3</th>\n      <td>0</td>\n      <td>1</td>\n      <td>0</td>\n    </tr>\n    <tr>\n      <th>4</th>\n      <td>0</td>\n      <td>1</td>\n      <td>0</td>\n    </tr>\n  </tbody>\n</table>\n</div>"
          },
          "metadata": {}
        }
      ]
    },
    {
      "cell_type": "code",
      "source": "# merge data frame \"spoiled_df\" and \"dummy_variable_1\" \nspoiled_df = pd.concat([spoiled_df, dummy_variable_1], axis=1)\n\n# drop original column \"rec_count-binned\" from \"spoiled_df\"\nspoiled_df.drop(\"close-binned\", axis = 1, inplace=True)",
      "metadata": {
        "trusted": true
      },
      "execution_count": 42,
      "outputs": []
    },
    {
      "cell_type": "code",
      "source": "spoiled_df.head()",
      "metadata": {
        "trusted": true
      },
      "execution_count": 43,
      "outputs": [
        {
          "execution_count": 43,
          "output_type": "execute_result",
          "data": {
            "text/plain": "                   ts     open     high      low     close    volume  \\\n0 2022-11-11 14:35:00  1218.09  1218.09  1218.09  1218.090   242.437   \n1 2022-11-11 14:38:00  1217.27  1217.27  1211.42  1211.420  5795.229   \n2 2022-11-11 14:39:00  1211.54  1212.21  1208.58  1209.360  4404.935   \n3 2022-11-11 14:40:00  1209.37  1213.17  1208.68  1211.860  4177.236   \n4 2022-11-11 14:41:00  1211.87  1217.92  1210.42  1212.765  5518.493   \n\n   rec_count        avg_price     open_norm    close_norm  close_Low  \\\n0         36  1218.0900000000  0.9035270556  0.5212060968          0   \n1         97  1213.6554019160  0.9029188147  0.4966497312          0   \n2         98  1210.1321805293  0.8986685458  0.4890656064          0   \n3         96  1210.6174232028  0.8970589326  0.4982696414          0   \n4        102  1215.0290380580  0.8989133257  0.5016015021          0   \n\n   close_Medium  close_High  \n0             1           0  \n1             1           0  \n2             1           0  \n3             1           0  \n4             1           0  ",
            "text/html": "<div>\n<style scoped>\n    .dataframe tbody tr th:only-of-type {\n        vertical-align: middle;\n    }\n\n    .dataframe tbody tr th {\n        vertical-align: top;\n    }\n\n    .dataframe thead th {\n        text-align: right;\n    }\n</style>\n<table border=\"1\" class=\"dataframe\">\n  <thead>\n    <tr style=\"text-align: right;\">\n      <th></th>\n      <th>ts</th>\n      <th>open</th>\n      <th>high</th>\n      <th>low</th>\n      <th>close</th>\n      <th>volume</th>\n      <th>rec_count</th>\n      <th>avg_price</th>\n      <th>open_norm</th>\n      <th>close_norm</th>\n      <th>close_Low</th>\n      <th>close_Medium</th>\n      <th>close_High</th>\n    </tr>\n  </thead>\n  <tbody>\n    <tr>\n      <th>0</th>\n      <td>2022-11-11 14:35:00</td>\n      <td>1218.09</td>\n      <td>1218.09</td>\n      <td>1218.09</td>\n      <td>1218.090</td>\n      <td>242.437</td>\n      <td>36</td>\n      <td>1218.0900000000</td>\n      <td>0.9035270556</td>\n      <td>0.5212060968</td>\n      <td>0</td>\n      <td>1</td>\n      <td>0</td>\n    </tr>\n    <tr>\n      <th>1</th>\n      <td>2022-11-11 14:38:00</td>\n      <td>1217.27</td>\n      <td>1217.27</td>\n      <td>1211.42</td>\n      <td>1211.420</td>\n      <td>5795.229</td>\n      <td>97</td>\n      <td>1213.6554019160</td>\n      <td>0.9029188147</td>\n      <td>0.4966497312</td>\n      <td>0</td>\n      <td>1</td>\n      <td>0</td>\n    </tr>\n    <tr>\n      <th>2</th>\n      <td>2022-11-11 14:39:00</td>\n      <td>1211.54</td>\n      <td>1212.21</td>\n      <td>1208.58</td>\n      <td>1209.360</td>\n      <td>4404.935</td>\n      <td>98</td>\n      <td>1210.1321805293</td>\n      <td>0.8986685458</td>\n      <td>0.4890656064</td>\n      <td>0</td>\n      <td>1</td>\n      <td>0</td>\n    </tr>\n    <tr>\n      <th>3</th>\n      <td>2022-11-11 14:40:00</td>\n      <td>1209.37</td>\n      <td>1213.17</td>\n      <td>1208.68</td>\n      <td>1211.860</td>\n      <td>4177.236</td>\n      <td>96</td>\n      <td>1210.6174232028</td>\n      <td>0.8970589326</td>\n      <td>0.4982696414</td>\n      <td>0</td>\n      <td>1</td>\n      <td>0</td>\n    </tr>\n    <tr>\n      <th>4</th>\n      <td>2022-11-11 14:41:00</td>\n      <td>1211.87</td>\n      <td>1217.92</td>\n      <td>1210.42</td>\n      <td>1212.765</td>\n      <td>5518.493</td>\n      <td>102</td>\n      <td>1215.0290380580</td>\n      <td>0.8989133257</td>\n      <td>0.5016015021</td>\n      <td>0</td>\n      <td>1</td>\n      <td>0</td>\n    </tr>\n  </tbody>\n</table>\n</div>"
          },
          "metadata": {}
        }
      ]
    },
    {
      "cell_type": "markdown",
      "source": "The last three columns are now the indicator variable representation of the volume variable. They're all 0s and 1s now.\n",
      "metadata": {}
    },
    {
      "cell_type": "markdown",
      "source": "<div class=\"alert alert-danger alertdanger\" style=\"margin-top: 20px\">\n<h1> Question  #4: </h1>\n\n<b>Similar to before, create an indicator variable for the column \"ts\" (create spoiled_df[\"ts_month\"] = spoiled_df[\"ts\"].dt.month as category and then get_dummies from that column and then concatenate the spoiled_df) and merge the dataframes</b>\n\n</div>\n",
      "metadata": {}
    },
    {
      "cell_type": "code",
      "source": "# Write your code below and press Shift+Enter to execute \n",
      "metadata": {
        "trusted": true
      },
      "execution_count": 44,
      "outputs": []
    },
    {
      "cell_type": "markdown",
      "source": "<details><summary>Click here for the solution</summary>\n\n```python\n# Create a new columnb\nspoiled_df[\"ts_month\"] = spoiled_df[\"ts\"].dt.month\n# get indicator variables of aspiration and assign it to data frame \"dummy_variable_2\"\ndummy_variable_2 = pd.get_dummies(spoiled_df[\"ts_month\"], prefix=\"ts\")\n# Concatenate df's\nspoiled_df = pd.concat([spoiled_df, dummy_variable_2], axis=1)\n# Drop original column \"ts_month\" from \"df\"\nspoiled_df.drop(\"ts_month\", axis=1, inplace=True)\nspoiled_df.head()\n\n\n```\n\n</details>\n",
      "metadata": {}
    },
    {
      "cell_type": "markdown",
      "source": "<h2>Resampling</h2>",
      "metadata": {}
    },
    {
      "cell_type": "markdown",
      "source": "<b>What is resampling?</b>\n<p>\n    Data resampling is any process whereby data is gathered and expressed in a summary form\n</p>",
      "metadata": {}
    },
    {
      "cell_type": "markdown",
      "source": "Let's set \"ts\" as index to be able to resample our dataframe",
      "metadata": {}
    },
    {
      "cell_type": "code",
      "source": "spoiled_df.index = spoiled_df[\"ts\"]",
      "metadata": {
        "trusted": true
      },
      "execution_count": 45,
      "outputs": []
    },
    {
      "cell_type": "markdown",
      "source": "After resampling we can use different aggregation functions such as:\n\n<ul>\n    <li><b>mean()</b></li>\n    <li><b>sum()</b></li>\n    <li><b>prod()</b></li>\n    <li><b>first()</b></li>\n    <li><b>last()</b></li>\n    <li><b>min()</b></li>\n    <li><b>max()</b></li>\n</ul>",
      "metadata": {}
    },
    {
      "cell_type": "code",
      "source": "spoiled_df[[\"open\", \"high\", \"low\", \"close\", \"volume\", \"rec_count\", \"avg_price\"]].resample(\"15min\").agg({\"open\": \"first\",\"high\": \"max\",\"low\": \"min\",\"close\": \"last\",\"volume\": \"sum\"})",
      "metadata": {
        "trusted": true
      },
      "execution_count": 49,
      "outputs": [
        {
          "execution_count": 49,
          "output_type": "execute_result",
          "data": {
            "text/plain": "                        open     high      low     close      volume\nts                                                                  \n2022-11-11 14:30:00  1218.09  1218.57  1208.58  1217.650   31557.231\n2022-11-11 14:45:00  1218.21  1306.60  1217.46  1257.110  160743.231\n2022-11-11 15:00:00  1258.30  1269.51  1238.73  1261.030   58212.784\n2022-11-11 15:15:00  1260.82  1278.21  1252.46  1272.470   46304.142\n2022-11-11 15:30:00  1272.37  1272.84  1250.95  1256.090   40400.293\n...                      ...      ...      ...       ...         ...\n2022-12-29 22:45:00  1197.05  1198.66  1197.02  1197.180    1945.211\n2022-12-29 23:00:00  1197.18  1202.72  1196.35  1202.025   11594.703\n2022-12-29 23:15:00  1201.65  1202.76  1200.16  1200.750    5425.302\n2022-12-29 23:30:00  1200.75  1203.51  1200.23  1201.080    6273.956\n2022-12-29 23:45:00  1201.08  1201.08  1199.57  1199.570    2723.377\n\n[4646 rows x 5 columns]",
            "text/html": "<div>\n<style scoped>\n    .dataframe tbody tr th:only-of-type {\n        vertical-align: middle;\n    }\n\n    .dataframe tbody tr th {\n        vertical-align: top;\n    }\n\n    .dataframe thead th {\n        text-align: right;\n    }\n</style>\n<table border=\"1\" class=\"dataframe\">\n  <thead>\n    <tr style=\"text-align: right;\">\n      <th></th>\n      <th>open</th>\n      <th>high</th>\n      <th>low</th>\n      <th>close</th>\n      <th>volume</th>\n    </tr>\n    <tr>\n      <th>ts</th>\n      <th></th>\n      <th></th>\n      <th></th>\n      <th></th>\n      <th></th>\n    </tr>\n  </thead>\n  <tbody>\n    <tr>\n      <th>2022-11-11 14:30:00</th>\n      <td>1218.09</td>\n      <td>1218.57</td>\n      <td>1208.58</td>\n      <td>1217.650</td>\n      <td>31557.231</td>\n    </tr>\n    <tr>\n      <th>2022-11-11 14:45:00</th>\n      <td>1218.21</td>\n      <td>1306.60</td>\n      <td>1217.46</td>\n      <td>1257.110</td>\n      <td>160743.231</td>\n    </tr>\n    <tr>\n      <th>2022-11-11 15:00:00</th>\n      <td>1258.30</td>\n      <td>1269.51</td>\n      <td>1238.73</td>\n      <td>1261.030</td>\n      <td>58212.784</td>\n    </tr>\n    <tr>\n      <th>2022-11-11 15:15:00</th>\n      <td>1260.82</td>\n      <td>1278.21</td>\n      <td>1252.46</td>\n      <td>1272.470</td>\n      <td>46304.142</td>\n    </tr>\n    <tr>\n      <th>2022-11-11 15:30:00</th>\n      <td>1272.37</td>\n      <td>1272.84</td>\n      <td>1250.95</td>\n      <td>1256.090</td>\n      <td>40400.293</td>\n    </tr>\n    <tr>\n      <th>...</th>\n      <td>...</td>\n      <td>...</td>\n      <td>...</td>\n      <td>...</td>\n      <td>...</td>\n    </tr>\n    <tr>\n      <th>2022-12-29 22:45:00</th>\n      <td>1197.05</td>\n      <td>1198.66</td>\n      <td>1197.02</td>\n      <td>1197.180</td>\n      <td>1945.211</td>\n    </tr>\n    <tr>\n      <th>2022-12-29 23:00:00</th>\n      <td>1197.18</td>\n      <td>1202.72</td>\n      <td>1196.35</td>\n      <td>1202.025</td>\n      <td>11594.703</td>\n    </tr>\n    <tr>\n      <th>2022-12-29 23:15:00</th>\n      <td>1201.65</td>\n      <td>1202.76</td>\n      <td>1200.16</td>\n      <td>1200.750</td>\n      <td>5425.302</td>\n    </tr>\n    <tr>\n      <th>2022-12-29 23:30:00</th>\n      <td>1200.75</td>\n      <td>1203.51</td>\n      <td>1200.23</td>\n      <td>1201.080</td>\n      <td>6273.956</td>\n    </tr>\n    <tr>\n      <th>2022-12-29 23:45:00</th>\n      <td>1201.08</td>\n      <td>1201.08</td>\n      <td>1199.57</td>\n      <td>1199.570</td>\n      <td>2723.377</td>\n    </tr>\n  </tbody>\n</table>\n<p>4646 rows × 5 columns</p>\n</div>"
          },
          "metadata": {}
        }
      ]
    },
    {
      "cell_type": "markdown",
      "source": "How we can see we resampled data with aggregation time 15 min so we reduced amount of the data and generalized it. And we can make assumptions on much wider time window (15 min instead of 1 min)",
      "metadata": {}
    },
    {
      "cell_type": "markdown",
      "source": " <div class=\"alert alert-danger alertdanger\" style=\"margin-top: 20px\">\n<h1> Question  #5: </h1>\n\n<b>Apply resampling to \"spoiled_df\" with aggregation time 1 hour to columns \"high\", \"low\", \"close\". Then apply <b>max()</b> function</b>\n\n</div>\n",
      "metadata": {
        "tags": []
      }
    },
    {
      "cell_type": "code",
      "source": "# Write your code below and press Shift+Enter to execute \n",
      "metadata": {
        "trusted": true
      },
      "execution_count": 47,
      "outputs": []
    },
    {
      "cell_type": "markdown",
      "source": "<details><summary>Click here for the solution</summary>\n\n```python\nspoiled_df[[\"high\", \"low\", \"close\"]].resample('1h').max().head()\n```\n\n</details>\n",
      "metadata": {}
    },
    {
      "cell_type": "code",
      "source": "spoiled_df.to_csv(\"clean_df.csv\", index=False)",
      "metadata": {
        "trusted": true
      },
      "execution_count": 48,
      "outputs": []
    },
    {
      "cell_type": "markdown",
      "source": "Save the new csv:\n\n> Note : The  csv file cannot be viewed in the jupyterlite based SN labs environment.However you can Click <a href=\"https://cf-courses-data.s3.us.cloud-object-storage.appdomain.cloud/IBMDeveloperSkillsNetwork-DA0101EN-SkillsNetwork/labs/Module%202/DA0101EN-2-Review-Data-Wrangling.ipynb?utm_medium=Exinfluencer&utm_source=Exinfluencer&utm_content=000026UJ&utm_term=10006555&utm_id=NA-SkillsNetwork-Channel-SkillsNetworkCoursesIBMDeveloperSkillsNetworkDA0101ENSkillsNetwork20235326-2022-01-01\">HERE ???</a> to download the lab notebook (.ipynb) to your local machine and view the csv file once the notebook is executed.\n",
      "metadata": {}
    },
    {
      "cell_type": "markdown",
      "source": "### Thank you for completing this lab!\n\n## Author\n\n<a href=\"https://www.linkedin.com/in/joseph-s-50398b136/?utm_medium=Exinfluencer&utm_source=Exinfluencer&utm_content=000026UJ&utm_term=10006555&utm_id=NA-SkillsNetwork-Channel-SkillsNetworkCoursesIBMDeveloperSkillsNetworkDA0101ENSkillsNetwork20235326-2021-01-01\" target=\"_blank\">Joseph Santarcangelo</a>\n\n### Other Contributors\n\n<a href=\"https://www.linkedin.com/in/mahdi-noorian-58219234/?utm_medium=Exinfluencer&utm_source=Exinfluencer&utm_content=000026UJ&utm_term=10006555&utm_id=NA-SkillsNetwork-Channel-SkillsNetworkCoursesIBMDeveloperSkillsNetworkDA0101ENSkillsNetwork20235326-2021-01-01\" target=\"_blank\">Mahdi Noorian PhD</a>\n\nBahare Talayian\n\nEric Xiao\n\nSteven Dong\n\nParizad\n\nHima Vasudevan\n\n<a href=\"https://www.linkedin.com/in/fiorellawever/?utm_medium=Exinfluencer&utm_source=Exinfluencer&utm_content=000026UJ&utm_term=10006555&utm_id=NA-SkillsNetwork-Channel-SkillsNetworkCoursesIBMDeveloperSkillsNetworkDA0101ENSkillsNetwork20235326-2021-01-01\" target=\"_blank\">Fiorella Wenver</a>\n\n<a href=\"https:// https://www.linkedin.com/in/yi-leng-yao-84451275/ \" target=\"_blank\" >Yi Yao</a>.\n\n## Change Log\n\n| Date (YYYY-MM-DD) | Version | Changed By | Change Description                  |\n| ----------------- | ------- | ---------- | ----------------------------------- |\n| 2023-04-26        | 2.4     | Zhypnuk    | Made changes to the entire file\n| 2022-04-22        | 2.3     | Lakshmi    | Made changes in markdown file       |\n| 2020-10-30        | 2.2     | Lakshmi    | Changed URL of csv                  |\n| 2020-09-09        | 2.1     | Lakshmi    | Updated Indicator Variables section |\n| 2020-08-27        | 2.0     | Lavanya    | Moved lab to course repo in GitLab  |\n\n<hr>\n\n## <h3 align=\"center\"> © IBM Corporation 2020. All rights reserved. <h3/>\n",
      "metadata": {}
    },
    {
      "cell_type": "code",
      "source": "",
      "metadata": {},
      "execution_count": null,
      "outputs": []
    },
    {
      "cell_type": "code",
      "source": "",
      "metadata": {},
      "execution_count": null,
      "outputs": []
    },
    {
      "cell_type": "code",
      "source": "",
      "metadata": {},
      "execution_count": null,
      "outputs": []
    }
  ]
}